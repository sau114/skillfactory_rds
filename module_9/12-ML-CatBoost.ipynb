{
 "cells": [
  {
   "cell_type": "markdown",
   "id": "48758938",
   "metadata": {
    "ExecuteTime": {
     "end_time": "2022-03-07T15:43:31.235155Z",
     "start_time": "2022-03-07T15:43:31.222806Z"
    }
   },
   "source": [
    "CatBoost - Продвинутая библиотека градиентного бустинга на деревьях решений с открытым исходным кодом.\n",
    "\n",
    "Заявляется, что хорошо относится к категориальным признакам и не требует их предварительной обработки."
   ]
  },
  {
   "cell_type": "code",
   "execution_count": 1,
   "id": "a21db7a1",
   "metadata": {
    "ExecuteTime": {
     "end_time": "2022-07-06T17:13:21.998667Z",
     "start_time": "2022-07-06T17:13:21.984326Z"
    }
   },
   "outputs": [],
   "source": [
    "# !pip install catboost"
   ]
  },
  {
   "cell_type": "code",
   "execution_count": 2,
   "id": "6ab0813e",
   "metadata": {
    "ExecuteTime": {
     "end_time": "2022-07-06T17:13:22.014490Z",
     "start_time": "2022-07-06T17:13:22.003037Z"
    }
   },
   "outputs": [],
   "source": [
    "# !pip install ipywidgets"
   ]
  },
  {
   "cell_type": "code",
   "execution_count": 3,
   "id": "d5b8ad49",
   "metadata": {
    "ExecuteTime": {
     "end_time": "2022-07-06T17:13:23.498170Z",
     "start_time": "2022-07-06T17:13:22.018172Z"
    }
   },
   "outputs": [],
   "source": [
    "import pandas as pd\n",
    "import numpy as np\n",
    "\n",
    "from catboost import Pool, CatBoostRegressor\n",
    "\n",
    "from sklearn.model_selection import train_test_split"
   ]
  },
  {
   "cell_type": "markdown",
   "id": "ffbb988f",
   "metadata": {},
   "source": [
    "# Загружаем данные"
   ]
  },
  {
   "cell_type": "code",
   "execution_count": 20,
   "id": "3cfd126a",
   "metadata": {
    "ExecuteTime": {
     "end_time": "2022-07-06T19:22:08.585425Z",
     "start_time": "2022-07-06T19:22:08.154699Z"
    }
   },
   "outputs": [],
   "source": [
    "features_to_drop = ['description', \n",
    "                    'sell_id',\n",
    "                    'time_ownership',\n",
    "                   ]\n",
    "\n",
    "X = pd.read_csv('train_preprocessed.csv').drop(columns='price').drop(columns=features_to_drop)\n",
    "y = pd.read_csv('train_preprocessed.csv', usecols=['price'])\n",
    "\n",
    "X_test = pd.read_csv('test_preprocessed.csv').drop(columns='price').drop(columns=features_to_drop)"
   ]
  },
  {
   "cell_type": "code",
   "execution_count": 21,
   "id": "f092d900",
   "metadata": {
    "ExecuteTime": {
     "end_time": "2022-07-06T19:22:20.807328Z",
     "start_time": "2022-07-06T19:22:20.789327Z"
    }
   },
   "outputs": [
    {
     "data": {
      "text/plain": [
       "Index(['body_type', 'brand', 'color', 'engine_displacement', 'engine_power',\n",
       "       'fuel_type', 'mileage', 'model_year', 'n_doors', 'production_year',\n",
       "       'vehicle_transmission', 'n_owners', 'drive_type',\n",
       "       'is_original_techpass', 'is_lefthand_drive', 'full_model_name'],\n",
       "      dtype='object')"
      ]
     },
     "execution_count": 21,
     "metadata": {},
     "output_type": "execute_result"
    }
   ],
   "source": [
    "X.columns"
   ]
  },
  {
   "cell_type": "code",
   "execution_count": 22,
   "id": "898c6c26",
   "metadata": {
    "ExecuteTime": {
     "end_time": "2022-07-06T19:22:21.694056Z",
     "start_time": "2022-07-06T19:22:21.678554Z"
    }
   },
   "outputs": [],
   "source": [
    "# категориальные признаки\n",
    "cat_features_list = ['body_type', \n",
    "                     'brand', \n",
    "                     'color', \n",
    "                     'fuel_type', \n",
    "                     'n_doors', \n",
    "                     'vehicle_transmission', \n",
    "                     'drive_type', \n",
    "                     'n_owners', \n",
    "                     'is_original_techpass', \n",
    "                     'is_lefthand_drive', \n",
    "                     'full_model_name',\n",
    "                    ]"
   ]
  },
  {
   "cell_type": "code",
   "execution_count": 18,
   "id": "c3c3c19d",
   "metadata": {
    "ExecuteTime": {
     "end_time": "2022-07-06T19:21:15.362989Z",
     "start_time": "2022-07-06T19:21:15.328755Z"
    }
   },
   "outputs": [
    {
     "data": {
      "text/plain": [
       "body_type                11\n",
       "brand                     3\n",
       "color                    16\n",
       "fuel_type                 4\n",
       "n_doors                   4\n",
       "vehicle_transmission      4\n",
       "drive_type                3\n",
       "n_owners                  4\n",
       "is_original_techpass      2\n",
       "is_lefthand_drive         2\n",
       "full_model_name         122\n",
       "dtype: int64"
      ]
     },
     "execution_count": 18,
     "metadata": {},
     "output_type": "execute_result"
    }
   ],
   "source": [
    "# посмотрим сколько уникальных значений по кат-признакам\n",
    "pd.concat([X, X_test])[cat_features_list].nunique()\n",
    "# full_model_name точно будет слишком накладно делать one-hot, остальное можно проверить"
   ]
  },
  {
   "cell_type": "code",
   "execution_count": 8,
   "id": "c4bb0ca1",
   "metadata": {
    "ExecuteTime": {
     "end_time": "2022-07-06T17:13:24.134167Z",
     "start_time": "2022-07-06T17:13:24.121529Z"
    }
   },
   "outputs": [
    {
     "name": "stdout",
     "output_type": "stream",
     "text": [
      "(5345, 16) (5345, 1)\n",
      "(1337, 16) (1337, 1)\n"
     ]
    }
   ],
   "source": [
    "# разделим на обучающую и валидационную\n",
    "test_size = 0.2\n",
    "seed = 73\n",
    "X_train, X_valid, y_train, y_valid = train_test_split(X, y, test_size=test_size, random_state=seed)\n",
    "print(X_train.shape, y_train.shape)\n",
    "print(X_valid.shape, y_valid.shape)"
   ]
  },
  {
   "cell_type": "code",
   "execution_count": 9,
   "id": "139586f0",
   "metadata": {
    "ExecuteTime": {
     "end_time": "2022-07-06T17:13:24.227844Z",
     "start_time": "2022-07-06T17:13:24.137582Z"
    }
   },
   "outputs": [],
   "source": [
    "# готовим для CatBoost\n",
    "train_pool = Pool(X_train, y_train, cat_features=cat_features_list)\n",
    "valid_pool = Pool(X_valid, y_valid, cat_features=cat_features_list)\n",
    "full_pool = Pool(X, y, cat_features=cat_features_list)"
   ]
  },
  {
   "cell_type": "code",
   "execution_count": 10,
   "id": "0fc7c0eb",
   "metadata": {
    "ExecuteTime": {
     "end_time": "2022-07-06T17:13:24.243702Z",
     "start_time": "2022-07-06T17:13:24.231859Z"
    }
   },
   "outputs": [],
   "source": [
    "# готовим тюнинг гиперпараметров по сетке #1\n",
    "model_grid = CatBoostRegressor(iterations=1000, \n",
    "                               loss_function='MAE', \n",
    "                               eval_metric='MAPE',\n",
    "                               logging_level='Silent')\n",
    "grid = {'depth': [4, 6, 8],\n",
    "        'rsm': [0.5, 0.75, 1.0],\n",
    "        'one_hot_max_size': [4, 11, 16],\n",
    "        'random_strength': [1, 2]}\n",
    "\n",
    "# grid_search_result = model_grid.grid_search(grid, full_pool, cv=3, plot=True)"
   ]
  },
  {
   "cell_type": "markdown",
   "id": "e36a5e5e",
   "metadata": {},
   "source": [
    "Выводы:\n",
    "- one_hot_max_size = 11\n",
    "- depth = 8+\n",
    "- rsm = 0.5-\n",
    "- random_strength - неважно"
   ]
  },
  {
   "cell_type": "code",
   "execution_count": 11,
   "id": "7ca96c14",
   "metadata": {
    "ExecuteTime": {
     "end_time": "2022-07-06T17:13:24.258975Z",
     "start_time": "2022-07-06T17:13:24.246652Z"
    }
   },
   "outputs": [],
   "source": [
    "# готовим тюнинг гиперпараметров по сетке #2\n",
    "model_grid_2 = CatBoostRegressor(iterations=1000, \n",
    "                               loss_function='MAE', \n",
    "                               eval_metric='MAPE',\n",
    "                               one_hot_max_size=11,\n",
    "                               logging_level='Silent')\n",
    "grid_2 = {'depth': [8, 10, 12, 14, 16],\n",
    "        'rsm': [0.3, 0.4, 0.5]\n",
    "       }\n",
    "\n",
    "# grid_search_result2 = model_grid_2.grid_search(grid_2, full_pool, cv=3, plot=True)"
   ]
  },
  {
   "cell_type": "markdown",
   "id": "f1cf962d",
   "metadata": {},
   "source": [
    "Выводы:\n",
    "- one_hot_max_size = 11 - перепроверим\n",
    "- depth = 8+-\n",
    "- rsm = 0.5+-"
   ]
  },
  {
   "cell_type": "code",
   "execution_count": 12,
   "id": "a920d888",
   "metadata": {
    "ExecuteTime": {
     "end_time": "2022-07-06T17:48:51.570686Z",
     "start_time": "2022-07-06T17:13:39.132907Z"
    }
   },
   "outputs": [
    {
     "data": {
      "application/vnd.jupyter.widget-view+json": {
       "model_id": "47f74e564a124433bb8fe479b08053ae",
       "version_major": 2,
       "version_minor": 0
      },
      "text/plain": [
       "MetricVisualizer(layout=Layout(align_self='stretch', height='500px'))"
      ]
     },
     "metadata": {},
     "output_type": "display_data"
    },
    {
     "name": "stdout",
     "output_type": "stream",
     "text": [
      "0:\tloss: 0.1260603\tbest: 0.1260603 (0)\ttotal: 35.7s\tremaining: 37m 30s\n",
      "1:\tloss: 0.1231594\tbest: 0.1231594 (1)\ttotal: 1m 3s\tremaining: 32m 52s\n",
      "2:\tloss: 0.1235969\tbest: 0.1231594 (1)\ttotal: 1m 25s\tremaining: 28m 53s\n",
      "3:\tloss: 0.1226935\tbest: 0.1226935 (3)\ttotal: 1m 40s\tremaining: 25m 10s\n",
      "4:\tloss: 0.1238229\tbest: 0.1226935 (3)\ttotal: 2m 18s\tremaining: 27m 15s\n",
      "5:\tloss: 0.1214369\tbest: 0.1214369 (5)\ttotal: 2m 48s\tremaining: 27m 7s\n",
      "6:\tloss: 0.1216724\tbest: 0.1214369 (5)\ttotal: 3m 14s\tremaining: 26m 22s\n",
      "7:\tloss: 0.1231307\tbest: 0.1214369 (5)\ttotal: 3m 32s\tremaining: 24m 44s\n",
      "8:\tloss: 0.1227620\tbest: 0.1214369 (5)\ttotal: 4m 15s\tremaining: 26m 2s\n",
      "9:\tloss: 0.1235839\tbest: 0.1214369 (5)\ttotal: 4m 49s\tremaining: 26m 5s\n",
      "10:\tloss: 0.1234280\tbest: 0.1214369 (5)\ttotal: 5m 19s\tremaining: 25m 38s\n",
      "11:\tloss: 0.1241031\tbest: 0.1214369 (5)\ttotal: 5m 40s\tremaining: 24m 34s\n",
      "12:\tloss: 0.1258569\tbest: 0.1214369 (5)\ttotal: 6m 30s\tremaining: 25m 29s\n",
      "13:\tloss: 0.1229895\tbest: 0.1214369 (5)\ttotal: 7m 10s\tremaining: 25m 36s\n",
      "14:\tloss: 0.1220647\tbest: 0.1214369 (5)\ttotal: 7m 44s\tremaining: 25m 18s\n",
      "15:\tloss: 0.1228648\tbest: 0.1214369 (5)\ttotal: 8m 8s\tremaining: 24m 25s\n",
      "16:\tloss: 0.1255829\tbest: 0.1214369 (5)\ttotal: 8m 37s\tremaining: 23m 49s\n",
      "17:\tloss: 0.1240966\tbest: 0.1214369 (5)\ttotal: 9m 1s\tremaining: 23m 3s\n",
      "18:\tloss: 0.1249690\tbest: 0.1214369 (5)\ttotal: 9m 23s\tremaining: 22m 15s\n",
      "19:\tloss: 0.1229128\tbest: 0.1214369 (5)\ttotal: 9m 38s\tremaining: 21m 13s\n",
      "20:\tloss: 0.1250136\tbest: 0.1214369 (5)\ttotal: 10m 14s\tremaining: 20m 57s\n",
      "21:\tloss: 0.1221478\tbest: 0.1214369 (5)\ttotal: 10m 43s\tremaining: 20m 28s\n",
      "22:\tloss: 0.1227556\tbest: 0.1214369 (5)\ttotal: 11m 9s\tremaining: 19m 53s\n",
      "23:\tloss: 0.1214936\tbest: 0.1214369 (5)\ttotal: 11m 28s\tremaining: 19m 6s\n",
      "24:\tloss: 0.1263565\tbest: 0.1214369 (5)\ttotal: 12m 9s\tremaining: 18m 57s\n",
      "25:\tloss: 0.1232154\tbest: 0.1214369 (5)\ttotal: 12m 44s\tremaining: 18m 36s\n",
      "26:\tloss: 0.1229676\tbest: 0.1214369 (5)\ttotal: 13m 14s\tremaining: 18m 9s\n",
      "27:\tloss: 0.1229426\tbest: 0.1214369 (5)\ttotal: 13m 36s\tremaining: 17m 29s\n",
      "28:\tloss: 0.1236034\tbest: 0.1214369 (5)\ttotal: 14m 25s\tremaining: 17m 24s\n",
      "29:\tloss: 0.1238926\tbest: 0.1214369 (5)\ttotal: 15m 6s\tremaining: 17m 7s\n",
      "30:\tloss: 0.1250632\tbest: 0.1214369 (5)\ttotal: 15m 42s\tremaining: 16m 43s\n",
      "31:\tloss: 0.1236454\tbest: 0.1214369 (5)\ttotal: 16m 7s\tremaining: 16m 7s\n",
      "32:\tloss: 0.1258221\tbest: 0.1214369 (5)\ttotal: 16m 37s\tremaining: 15m 36s\n",
      "33:\tloss: 0.1225639\tbest: 0.1214369 (5)\ttotal: 17m 4s\tremaining: 15m 3s\n",
      "34:\tloss: 0.1250641\tbest: 0.1214369 (5)\ttotal: 17m 29s\tremaining: 14m 29s\n",
      "35:\tloss: 0.1232542\tbest: 0.1214369 (5)\ttotal: 17m 46s\tremaining: 13m 49s\n",
      "36:\tloss: 0.1239630\tbest: 0.1214369 (5)\ttotal: 18m 23s\tremaining: 13m 25s\n",
      "37:\tloss: 0.1229860\tbest: 0.1214369 (5)\ttotal: 18m 55s\tremaining: 12m 56s\n",
      "38:\tloss: 0.1223656\tbest: 0.1214369 (5)\ttotal: 19m 23s\tremaining: 12m 25s\n",
      "39:\tloss: 0.1223237\tbest: 0.1214369 (5)\ttotal: 19m 44s\tremaining: 11m 50s\n",
      "40:\tloss: 0.1218196\tbest: 0.1214369 (5)\ttotal: 20m 26s\tremaining: 11m 28s\n",
      "41:\tloss: 0.1237825\tbest: 0.1214369 (5)\ttotal: 21m 2s\tremaining: 11m 1s\n",
      "42:\tloss: 0.1207809\tbest: 0.1207809 (42)\ttotal: 21m 35s\tremaining: 10m 32s\n",
      "43:\tloss: 0.1218391\tbest: 0.1207809 (42)\ttotal: 21m 58s\tremaining: 9m 59s\n",
      "44:\tloss: 0.1258129\tbest: 0.1207809 (42)\ttotal: 22m 48s\tremaining: 9m 37s\n",
      "45:\tloss: 0.1241254\tbest: 0.1207809 (42)\ttotal: 23m 30s\tremaining: 9m 11s\n",
      "46:\tloss: 0.1240530\tbest: 0.1207809 (42)\ttotal: 24m 8s\tremaining: 8m 43s\n",
      "47:\tloss: 0.1215001\tbest: 0.1207809 (42)\ttotal: 24m 35s\tremaining: 8m 11s\n",
      "48:\tloss: 0.1240474\tbest: 0.1207809 (42)\ttotal: 25m 5s\tremaining: 7m 40s\n",
      "49:\tloss: 0.1249889\tbest: 0.1207809 (42)\ttotal: 25m 31s\tremaining: 7m 8s\n",
      "50:\tloss: 0.1220031\tbest: 0.1207809 (42)\ttotal: 25m 55s\tremaining: 6m 36s\n",
      "51:\tloss: 0.1215193\tbest: 0.1207809 (42)\ttotal: 26m 14s\tremaining: 6m 3s\n",
      "52:\tloss: 0.1241592\tbest: 0.1207809 (42)\ttotal: 26m 49s\tremaining: 5m 34s\n",
      "53:\tloss: 0.1219270\tbest: 0.1207809 (42)\ttotal: 27m 22s\tremaining: 5m 4s\n",
      "54:\tloss: 0.1236858\tbest: 0.1207809 (42)\ttotal: 27m 51s\tremaining: 4m 33s\n",
      "55:\tloss: 0.1210999\tbest: 0.1207809 (42)\ttotal: 28m 12s\tremaining: 4m 1s\n",
      "56:\tloss: 0.1220405\tbest: 0.1207809 (42)\ttotal: 28m 56s\tremaining: 3m 33s\n",
      "57:\tloss: 0.1244218\tbest: 0.1207809 (42)\ttotal: 29m 33s\tremaining: 3m 3s\n",
      "58:\tloss: 0.1214677\tbest: 0.1207809 (42)\ttotal: 30m 6s\tremaining: 2m 33s\n",
      "59:\tloss: 0.1259330\tbest: 0.1207809 (42)\ttotal: 30m 31s\tremaining: 2m 2s\n",
      "60:\tloss: 0.1243800\tbest: 0.1207809 (42)\ttotal: 31m 23s\tremaining: 1m 32s\n",
      "61:\tloss: 0.1220747\tbest: 0.1207809 (42)\ttotal: 32m 6s\tremaining: 1m 2s\n",
      "62:\tloss: 0.1246386\tbest: 0.1207809 (42)\ttotal: 32m 45s\tremaining: 31.2s\n",
      "63:\tloss: 0.1249139\tbest: 0.1207809 (42)\ttotal: 33m 12s\tremaining: 0us\n",
      "Estimating final quality...\n"
     ]
    }
   ],
   "source": [
    "# готовим тюнинг гиперпараметров по сетке #3\n",
    "model_grid_3 = CatBoostRegressor(iterations=1000, \n",
    "                               loss_function='MAE', \n",
    "                               eval_metric='MAPE',\n",
    "                               logging_level='Silent')\n",
    "grid_3 = {'depth': [6, 7, 8, 9],\n",
    "        'rsm': [0.40, 0.45, 0.50, 0.55],\n",
    "        'one_hot_max_size': [3, 4, 11, 16],\n",
    "       }\n",
    "\n",
    "grid_search_result3 = model_grid_3.grid_search(grid_3, full_pool, cv=3, plot=True)"
   ]
  },
  {
   "cell_type": "markdown",
   "id": "51e05e48",
   "metadata": {},
   "source": [
    "Выводы:\n",
    "- one_hot_max_size = 11\n",
    "- depth = 8\n",
    "- rsm = 0.5"
   ]
  },
  {
   "cell_type": "code",
   "execution_count": null,
   "id": "9cf0a6d7",
   "metadata": {
    "ExecuteTime": {
     "end_time": "2022-07-06T17:11:59.041504Z",
     "start_time": "2022-07-06T17:11:59.041504Z"
    },
    "scrolled": false
   },
   "outputs": [],
   "source": [
    "# учим модель\n",
    "# model = CatBoostRegressor(iterations=5000, \n",
    "#                           loss_function='MAE', \n",
    "#                           eval_metric='MAPE', \n",
    "#                           custom_metric='RMSE', \n",
    "#                           one_hot_max_size=4)\n",
    "# model.fit(train_pool,\n",
    "#           eval_set=valid_pool, \n",
    "#           logging_level='Silent', plot=True)"
   ]
  },
  {
   "cell_type": "code",
   "execution_count": 28,
   "id": "275ee86e",
   "metadata": {
    "ExecuteTime": {
     "end_time": "2022-07-06T19:26:05.590117Z",
     "start_time": "2022-07-06T19:26:05.581996Z"
    }
   },
   "outputs": [],
   "source": [
    "# лучший результат\n",
    "# display(model.get_best_score())\n",
    "# число деревьев\n",
    "# display(model.tree_count_)"
   ]
  },
  {
   "cell_type": "markdown",
   "id": "02046785",
   "metadata": {},
   "source": [
    "# Результат для Kaggle"
   ]
  },
  {
   "cell_type": "code",
   "execution_count": 29,
   "id": "6341f160",
   "metadata": {
    "ExecuteTime": {
     "end_time": "2022-07-06T19:26:05.621039Z",
     "start_time": "2022-07-06T19:26:05.594259Z"
    }
   },
   "outputs": [
    {
     "data": {
      "text/plain": [
       "(6682, 16)"
      ]
     },
     "metadata": {},
     "output_type": "display_data"
    },
    {
     "data": {
      "text/plain": [
       "(6682, 1)"
      ]
     },
     "metadata": {},
     "output_type": "display_data"
    },
    {
     "data": {
      "text/plain": [
       "(1671, 16)"
      ]
     },
     "metadata": {},
     "output_type": "display_data"
    },
    {
     "data": {
      "text/plain": [
       "(1671, 1)"
      ]
     },
     "metadata": {},
     "output_type": "display_data"
    }
   ],
   "source": [
    "# X = pd.read_csv('EDAv2_Train.zip').drop(columns='price').drop(columns='description')\n",
    "# y = pd.read_csv('EDAv2_Train.zip', usecols=['price'])\n",
    "display(X.shape, y.shape)\n",
    "# X_test = pd.read_csv('EDAv2_Test.zip').drop(columns='description')\n",
    "y_test = pd.read_csv('sample_submission.csv', usecols=['price']) # это пустой вектор, но нужен для полного обучения\n",
    "display(X_test.shape, y_test.shape)"
   ]
  },
  {
   "cell_type": "code",
   "execution_count": 30,
   "id": "2292d96e",
   "metadata": {
    "ExecuteTime": {
     "end_time": "2022-07-06T19:26:05.637127Z",
     "start_time": "2022-07-06T19:26:05.623998Z"
    }
   },
   "outputs": [],
   "source": [
    "# надо сделать одинаковый порядок фичей в train и test\n",
    "# для этого сперва склеим их, а потом разделим\n",
    "# X['is_train'] = 1\n",
    "# X_test['is_train'] = 0\n",
    "# X_ = X.append(X_test)\n",
    "# X = X_[X_['is_train'] == 1].drop(columns=['is_train'])\n",
    "# X_test = X_[X_['is_train'] == 0].drop(columns=['is_train'])"
   ]
  },
  {
   "cell_type": "code",
   "execution_count": 31,
   "id": "4453bf6c",
   "metadata": {
    "ExecuteTime": {
     "end_time": "2022-07-06T19:26:05.730437Z",
     "start_time": "2022-07-06T19:26:05.641002Z"
    }
   },
   "outputs": [],
   "source": [
    "# категориальные признаки\n",
    "cat_features_list = ['body_type', \n",
    "                     'brand', \n",
    "                     'color', \n",
    "                     'fuel_type', \n",
    "                     'n_doors', \n",
    "                     'vehicle_transmission', \n",
    "                     'drive_type', \n",
    "                     'n_owners', \n",
    "                     'is_original_techpass', \n",
    "                     'is_lefthand_drive', \n",
    "                     'full_model_name',\n",
    "                    ]"
   ]
  },
  {
   "cell_type": "code",
   "execution_count": 32,
   "id": "a94d3856",
   "metadata": {
    "ExecuteTime": {
     "end_time": "2022-07-06T19:26:05.746513Z",
     "start_time": "2022-07-06T19:26:05.733722Z"
    }
   },
   "outputs": [
    {
     "data": {
      "text/plain": [
       "Index(['body_type', 'brand', 'color', 'engine_displacement', 'engine_power',\n",
       "       'fuel_type', 'mileage', 'model_year', 'n_doors', 'production_year',\n",
       "       'vehicle_transmission', 'n_owners', 'drive_type',\n",
       "       'is_original_techpass', 'is_lefthand_drive', 'full_model_name'],\n",
       "      dtype='object')"
      ]
     },
     "metadata": {},
     "output_type": "display_data"
    },
    {
     "data": {
      "text/plain": [
       "Index(['body_type', 'brand', 'color', 'engine_displacement', 'engine_power',\n",
       "       'fuel_type', 'mileage', 'model_year', 'n_doors', 'production_year',\n",
       "       'vehicle_transmission', 'n_owners', 'drive_type',\n",
       "       'is_original_techpass', 'is_lefthand_drive', 'full_model_name'],\n",
       "      dtype='object')"
      ]
     },
     "metadata": {},
     "output_type": "display_data"
    }
   ],
   "source": [
    "display(X.columns)\n",
    "display(X_test.columns)"
   ]
  },
  {
   "cell_type": "code",
   "execution_count": 33,
   "id": "554e3096",
   "metadata": {
    "ExecuteTime": {
     "end_time": "2022-07-06T19:26:05.807151Z",
     "start_time": "2022-07-06T19:26:05.749351Z"
    }
   },
   "outputs": [],
   "source": [
    "# готовим для CatBoost\n",
    "train_pool = Pool(X, y, cat_features=cat_features_list)\n",
    "test_pool = Pool(X_test, y_test, cat_features=cat_features_list)"
   ]
  },
  {
   "cell_type": "code",
   "execution_count": 34,
   "id": "02250781",
   "metadata": {
    "ExecuteTime": {
     "end_time": "2022-07-06T19:29:36.917027Z",
     "start_time": "2022-07-06T19:26:05.810932Z"
    }
   },
   "outputs": [
    {
     "data": {
      "application/vnd.jupyter.widget-view+json": {
       "model_id": "51f4bf8b12c04684aa2a27656655e835",
       "version_major": 2,
       "version_minor": 0
      },
      "text/plain": [
       "MetricVisualizer(layout=Layout(align_self='stretch', height='500px'))"
      ]
     },
     "metadata": {},
     "output_type": "display_data"
    },
    {
     "data": {
      "text/plain": [
       "<catboost.core.CatBoostRegressor at 0x1b318e1d3d0>"
      ]
     },
     "execution_count": 34,
     "metadata": {},
     "output_type": "execute_result"
    }
   ],
   "source": [
    "# учим модель\n",
    "model = CatBoostRegressor(iterations=6000, \n",
    "                          loss_function='MAE', \n",
    "                          eval_metric='MAPE', \n",
    "                          custom_metric='RMSE',\n",
    "                          one_hot_max_size=11,\n",
    "                          depth=8,\n",
    "                          rsm=0.5)\n",
    "\n",
    "model.fit(train_pool, eval_set=test_pool, logging_level='Silent', plot=True)"
   ]
  },
  {
   "cell_type": "code",
   "execution_count": 35,
   "id": "a678487c",
   "metadata": {
    "ExecuteTime": {
     "end_time": "2022-07-06T19:29:36.932029Z",
     "start_time": "2022-07-06T19:29:36.919047Z"
    }
   },
   "outputs": [
    {
     "data": {
      "text/plain": [
       "{'learn': {'MAE': 102873.68418196445,\n",
       "  'MAPE': 0.05088361766052508,\n",
       "  'RMSE': 374261.3531721225},\n",
       " 'validation': {'MAE': 1312476.6244957072,\n",
       "  'MAPE': 1312476.624496705,\n",
       "  'RMSE': 1312983.8137653768}}"
      ]
     },
     "metadata": {},
     "output_type": "display_data"
    },
    {
     "data": {
      "text/plain": [
       "6000"
      ]
     },
     "metadata": {},
     "output_type": "display_data"
    }
   ],
   "source": [
    "# лучший результат\n",
    "display(model.get_best_score())\n",
    "# число деревьев\n",
    "\n",
    "display(model.tree_count_)"
   ]
  },
  {
   "cell_type": "code",
   "execution_count": 36,
   "id": "1bf76893",
   "metadata": {
    "ExecuteTime": {
     "end_time": "2022-07-06T19:29:36.979028Z",
     "start_time": "2022-07-06T19:29:36.935178Z"
    }
   },
   "outputs": [],
   "source": [
    "# предсказываем результат\n",
    "y_test_predict = model.predict(test_pool)"
   ]
  },
  {
   "cell_type": "code",
   "execution_count": 38,
   "id": "ebd046fa",
   "metadata": {
    "ExecuteTime": {
     "end_time": "2022-07-06T19:45:15.848194Z",
     "start_time": "2022-07-06T19:45:15.826993Z"
    }
   },
   "outputs": [],
   "source": [
    "submission = pd.read_csv('sample_submission.csv')\n",
    "submission['price'] = y_test_predict\n",
    "submission.to_csv('submission_catboost.csv', index=False)"
   ]
  },
  {
   "cell_type": "code",
   "execution_count": 39,
   "id": "a3e6f9bd",
   "metadata": {
    "ExecuteTime": {
     "end_time": "2022-07-06T19:45:17.114339Z",
     "start_time": "2022-07-06T19:45:16.864456Z"
    }
   },
   "outputs": [],
   "source": [
    "# Тюнинг хорошо помог. До него был результат 15+, а стал 13+. Но всё равно хуже бэггинга.\n",
    "# Сохраним модель для стекинга.\n",
    "model.save_model('model_catboost.cbm')"
   ]
  },
  {
   "cell_type": "code",
   "execution_count": null,
   "id": "412cb319",
   "metadata": {},
   "outputs": [],
   "source": []
  }
 ],
 "metadata": {
  "kernelspec": {
   "display_name": "Python 3 (ipykernel)",
   "language": "python",
   "name": "python3"
  },
  "language_info": {
   "codemirror_mode": {
    "name": "ipython",
    "version": 3
   },
   "file_extension": ".py",
   "mimetype": "text/x-python",
   "name": "python",
   "nbconvert_exporter": "python",
   "pygments_lexer": "ipython3",
   "version": "3.8.8"
  },
  "toc": {
   "base_numbering": 1,
   "nav_menu": {},
   "number_sections": true,
   "sideBar": true,
   "skip_h1_title": false,
   "title_cell": "Table of Contents",
   "title_sidebar": "Contents",
   "toc_cell": false,
   "toc_position": {},
   "toc_section_display": true,
   "toc_window_display": false
  }
 },
 "nbformat": 4,
 "nbformat_minor": 5
}
