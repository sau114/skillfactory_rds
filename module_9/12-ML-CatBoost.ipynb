{
 "cells": [
  {
   "cell_type": "markdown",
   "id": "01f416f4",
   "metadata": {},
   "source": [
    "# Библиотеки"
   ]
  },
  {
   "cell_type": "code",
   "execution_count": 1,
   "id": "a21db7a1",
   "metadata": {
    "ExecuteTime": {
     "end_time": "2022-07-08T14:59:26.641424Z",
     "start_time": "2022-07-08T14:59:26.628419Z"
    }
   },
   "outputs": [],
   "source": [
    "# !pip install catboost"
   ]
  },
  {
   "cell_type": "code",
   "execution_count": 2,
   "id": "6ab0813e",
   "metadata": {
    "ExecuteTime": {
     "end_time": "2022-07-08T14:59:26.656973Z",
     "start_time": "2022-07-08T14:59:26.645433Z"
    }
   },
   "outputs": [],
   "source": [
    "# !pip install ipywidgets"
   ]
  },
  {
   "cell_type": "code",
   "execution_count": 3,
   "id": "d5b8ad49",
   "metadata": {
    "ExecuteTime": {
     "end_time": "2022-07-08T14:59:27.999666Z",
     "start_time": "2022-07-08T14:59:26.660047Z"
    }
   },
   "outputs": [],
   "source": [
    "import pandas as pd\n",
    "import numpy as np\n",
    "\n",
    "from catboost import Pool, CatBoostRegressor\n",
    "\n",
    "from sklearn.model_selection import train_test_split"
   ]
  },
  {
   "cell_type": "markdown",
   "id": "ffbb988f",
   "metadata": {},
   "source": [
    "# Данные"
   ]
  },
  {
   "cell_type": "markdown",
   "id": "e28933f9",
   "metadata": {},
   "source": [
    "## Грузим"
   ]
  },
  {
   "cell_type": "code",
   "execution_count": 4,
   "id": "3cfd126a",
   "metadata": {
    "ExecuteTime": {
     "end_time": "2022-07-08T14:59:28.425806Z",
     "start_time": "2022-07-08T14:59:28.002487Z"
    }
   },
   "outputs": [],
   "source": [
    "features_to_drop = ['description', \n",
    "                    'sell_id',\n",
    "                   ]\n",
    "\n",
    "X = pd.read_csv('train_preprocessed.csv').drop(columns='price').drop(columns=features_to_drop)\n",
    "y = pd.read_csv('train_preprocessed.csv', usecols=['price'])\n",
    "\n",
    "X_test = pd.read_csv('test_preprocessed.csv').drop(columns='price').drop(columns=features_to_drop)"
   ]
  },
  {
   "cell_type": "code",
   "execution_count": 5,
   "id": "c1cfedfe",
   "metadata": {
    "ExecuteTime": {
     "end_time": "2022-07-08T14:59:28.456913Z",
     "start_time": "2022-07-08T14:59:28.427851Z"
    }
   },
   "outputs": [
    {
     "data": {
      "text/html": [
       "<div>\n",
       "<style scoped>\n",
       "    .dataframe tbody tr th:only-of-type {\n",
       "        vertical-align: middle;\n",
       "    }\n",
       "\n",
       "    .dataframe tbody tr th {\n",
       "        vertical-align: top;\n",
       "    }\n",
       "\n",
       "    .dataframe thead th {\n",
       "        text-align: right;\n",
       "    }\n",
       "</style>\n",
       "<table border=\"1\" class=\"dataframe\">\n",
       "  <thead>\n",
       "    <tr style=\"text-align: right;\">\n",
       "      <th></th>\n",
       "      <th>4326</th>\n",
       "    </tr>\n",
       "  </thead>\n",
       "  <tbody>\n",
       "    <tr>\n",
       "      <th>body_type</th>\n",
       "      <td>внедорожник</td>\n",
       "    </tr>\n",
       "    <tr>\n",
       "      <th>brand</th>\n",
       "      <td>BMW</td>\n",
       "    </tr>\n",
       "    <tr>\n",
       "      <th>color</th>\n",
       "      <td>красный</td>\n",
       "    </tr>\n",
       "    <tr>\n",
       "      <th>engine_displacement</th>\n",
       "      <td>3.0</td>\n",
       "    </tr>\n",
       "    <tr>\n",
       "      <th>engine_power</th>\n",
       "      <td>510</td>\n",
       "    </tr>\n",
       "    <tr>\n",
       "      <th>fuel_type</th>\n",
       "      <td>бензин</td>\n",
       "    </tr>\n",
       "    <tr>\n",
       "      <th>mileage</th>\n",
       "      <td>2965</td>\n",
       "    </tr>\n",
       "    <tr>\n",
       "      <th>model_year</th>\n",
       "      <td>2019</td>\n",
       "    </tr>\n",
       "    <tr>\n",
       "      <th>n_doors</th>\n",
       "      <td>5</td>\n",
       "    </tr>\n",
       "    <tr>\n",
       "      <th>production_year</th>\n",
       "      <td>2019</td>\n",
       "    </tr>\n",
       "    <tr>\n",
       "      <th>vehicle_transmission</th>\n",
       "      <td>автоматическая</td>\n",
       "    </tr>\n",
       "    <tr>\n",
       "      <th>n_owners</th>\n",
       "      <td>1</td>\n",
       "    </tr>\n",
       "    <tr>\n",
       "      <th>ti_own</th>\n",
       "      <td>-1.0</td>\n",
       "    </tr>\n",
       "    <tr>\n",
       "      <th>drive_type</th>\n",
       "      <td>полный</td>\n",
       "    </tr>\n",
       "    <tr>\n",
       "      <th>is_original_techpass</th>\n",
       "      <td>1</td>\n",
       "    </tr>\n",
       "    <tr>\n",
       "      <th>is_lefthand_drive</th>\n",
       "      <td>1</td>\n",
       "    </tr>\n",
       "    <tr>\n",
       "      <th>full_model_name</th>\n",
       "      <td>bmw x4_m</td>\n",
       "    </tr>\n",
       "  </tbody>\n",
       "</table>\n",
       "</div>"
      ],
      "text/plain": [
       "                                4326\n",
       "body_type                внедорожник\n",
       "brand                            BMW\n",
       "color                        красный\n",
       "engine_displacement              3.0\n",
       "engine_power                     510\n",
       "fuel_type                     бензин\n",
       "mileage                         2965\n",
       "model_year                      2019\n",
       "n_doors                            5\n",
       "production_year                 2019\n",
       "vehicle_transmission  автоматическая\n",
       "n_owners                           1\n",
       "ti_own                          -1.0\n",
       "drive_type                    полный\n",
       "is_original_techpass               1\n",
       "is_lefthand_drive                  1\n",
       "full_model_name             bmw x4_m"
      ]
     },
     "execution_count": 5,
     "metadata": {},
     "output_type": "execute_result"
    }
   ],
   "source": [
    "X.sample(1).T"
   ]
  },
  {
   "cell_type": "code",
   "execution_count": 6,
   "id": "f092d900",
   "metadata": {
    "ExecuteTime": {
     "end_time": "2022-07-08T14:59:28.472941Z",
     "start_time": "2022-07-08T14:59:28.458910Z"
    }
   },
   "outputs": [
    {
     "data": {
      "text/plain": [
       "Index(['body_type', 'brand', 'color', 'engine_displacement', 'engine_power',\n",
       "       'fuel_type', 'mileage', 'model_year', 'n_doors', 'production_year',\n",
       "       'vehicle_transmission', 'n_owners', 'ti_own', 'drive_type',\n",
       "       'is_original_techpass', 'is_lefthand_drive', 'full_model_name'],\n",
       "      dtype='object')"
      ]
     },
     "execution_count": 6,
     "metadata": {},
     "output_type": "execute_result"
    }
   ],
   "source": [
    "X.columns"
   ]
  },
  {
   "cell_type": "code",
   "execution_count": 7,
   "id": "898c6c26",
   "metadata": {
    "ExecuteTime": {
     "end_time": "2022-07-08T14:59:28.489018Z",
     "start_time": "2022-07-08T14:59:28.475873Z"
    }
   },
   "outputs": [],
   "source": [
    "# категориальные признаки\n",
    "cat_features_list = ['body_type', \n",
    "                     'brand', \n",
    "                     'color', \n",
    "                     'fuel_type', \n",
    "                     'n_doors', \n",
    "                     'vehicle_transmission', \n",
    "                     'drive_type', \n",
    "                     'n_owners', \n",
    "                     'is_original_techpass', \n",
    "                     'is_lefthand_drive', \n",
    "                     'full_model_name',\n",
    "                    ]"
   ]
  },
  {
   "cell_type": "code",
   "execution_count": 8,
   "id": "c3c3c19d",
   "metadata": {
    "ExecuteTime": {
     "end_time": "2022-07-08T14:59:28.520910Z",
     "start_time": "2022-07-08T14:59:28.491895Z"
    }
   },
   "outputs": [
    {
     "data": {
      "text/plain": [
       "body_type                11\n",
       "brand                     3\n",
       "color                    16\n",
       "fuel_type                 4\n",
       "n_doors                   4\n",
       "vehicle_transmission      4\n",
       "drive_type                3\n",
       "n_owners                  4\n",
       "is_original_techpass      2\n",
       "is_lefthand_drive         2\n",
       "full_model_name         122\n",
       "dtype: int64"
      ]
     },
     "execution_count": 8,
     "metadata": {},
     "output_type": "execute_result"
    }
   ],
   "source": [
    "# посмотрим сколько уникальных значений по кат-признакам\n",
    "pd.concat([X, X_test])[cat_features_list].nunique()\n",
    "# full_model_name точно будет слишком накладно делать one-hot, остальное можно проверить"
   ]
  },
  {
   "cell_type": "markdown",
   "id": "1b99f895",
   "metadata": {},
   "source": [
    "## Делим для обучения"
   ]
  },
  {
   "cell_type": "code",
   "execution_count": 9,
   "id": "c4bb0ca1",
   "metadata": {
    "ExecuteTime": {
     "end_time": "2022-07-08T14:59:28.536911Z",
     "start_time": "2022-07-08T14:59:28.523878Z"
    }
   },
   "outputs": [],
   "source": [
    "# разделим на обучающую и валидационную\n",
    "# test_size = 0.2\n",
    "# seed = 73\n",
    "# X_train, X_valid, y_train, y_valid = train_test_split(X, y, test_size=test_size, random_state=seed)\n",
    "# print(X_train.shape, y_train.shape)\n",
    "# print(X_valid.shape, y_valid.shape)"
   ]
  },
  {
   "cell_type": "code",
   "execution_count": 10,
   "id": "139586f0",
   "metadata": {
    "ExecuteTime": {
     "end_time": "2022-07-08T14:59:28.583107Z",
     "start_time": "2022-07-08T14:59:28.542067Z"
    }
   },
   "outputs": [],
   "source": [
    "# готовим для CatBoost\n",
    "full_pool = Pool(X, y, cat_features=cat_features_list)"
   ]
  },
  {
   "cell_type": "code",
   "execution_count": 11,
   "id": "38bf9040",
   "metadata": {
    "ExecuteTime": {
     "end_time": "2022-07-08T14:59:28.598131Z",
     "start_time": "2022-07-08T14:59:28.583914Z"
    }
   },
   "outputs": [],
   "source": [
    "# параметры CatBoostRegressor\n",
    "common_kwargs = {'loss_function': 'MAE',\n",
    "                 'eval_metric': 'MAPE',\n",
    "                 'logging_level': 'Silent',\n",
    "                }\n",
    "tuned_kwargs = {'depth': 1,\n",
    "                'rsm': 1.0,\n",
    "                'one_hot_max_size': 2,\n",
    "                'random_strength': 1,\n",
    "                'iterations': 500,\n",
    "               }"
   ]
  },
  {
   "cell_type": "markdown",
   "id": "95524de7",
   "metadata": {},
   "source": [
    "# Тюним CatBoost"
   ]
  },
  {
   "cell_type": "markdown",
   "id": "bd91d30e",
   "metadata": {},
   "source": [
    "## Раунд 1"
   ]
  },
  {
   "cell_type": "code",
   "execution_count": 12,
   "id": "0fc7c0eb",
   "metadata": {
    "ExecuteTime": {
     "end_time": "2022-07-08T14:59:28.613912Z",
     "start_time": "2022-07-08T14:59:28.600910Z"
    }
   },
   "outputs": [],
   "source": [
    "# готовим тюнинг гиперпараметров по сетке #1\n",
    "model_grid = CatBoostRegressor(**common_kwargs,\n",
    "                               **tuned_kwargs,\n",
    "                              )\n",
    "grid = {'depth': [4, 6, 8],\n",
    "        'rsm': [0.5, 0.75, 1.0],\n",
    "        'one_hot_max_size': [4, 11, 16],\n",
    "        'random_strength': [1, 2],\n",
    "        'iterations': 500,\n",
    "       }\n",
    "\n",
    "# grid_search_result = model_grid.grid_search(grid, full_pool, cv=3, plot=True)"
   ]
  },
  {
   "cell_type": "code",
   "execution_count": 13,
   "id": "90c2a6e1",
   "metadata": {
    "ExecuteTime": {
     "end_time": "2022-07-08T14:59:28.629939Z",
     "start_time": "2022-07-08T14:59:28.615876Z"
    }
   },
   "outputs": [],
   "source": [
    "# to next round\n",
    "tuned_kwargs['depth'] = 8\n",
    "tuned_kwargs['rsm'] = 1\n",
    "tuned_kwargs['one_hot_max_size'] = 11\n",
    "tuned_kwargs['random_strength'] = 1"
   ]
  },
  {
   "cell_type": "markdown",
   "id": "263ab6cd",
   "metadata": {},
   "source": [
    "## Раунд 2"
   ]
  },
  {
   "cell_type": "code",
   "execution_count": 14,
   "id": "7ca96c14",
   "metadata": {
    "ExecuteTime": {
     "end_time": "2022-07-08T14:59:28.645886Z",
     "start_time": "2022-07-08T14:59:28.631878Z"
    }
   },
   "outputs": [],
   "source": [
    "# готовим тюнинг гиперпараметров по сетке #2\n",
    "model_grid_2 = CatBoostRegressor(**common_kwargs,\n",
    "                                 **tuned_kwargs,\n",
    "                                )\n",
    "grid_2 = {'depth': [8, 10, 12, 14, 16],\n",
    "          'rsm': [0.9, 0.95, 1.0],\n",
    "          'one_hot_max_size': [11],\n",
    "          'random_strength': [1],\n",
    "          'iterations': 500,\n",
    "         }\n",
    "\n",
    "# grid_search_result2 = model_grid_2.grid_search(grid_2, full_pool, cv=3, plot=True)"
   ]
  },
  {
   "cell_type": "code",
   "execution_count": 15,
   "id": "e89c864d",
   "metadata": {
    "ExecuteTime": {
     "end_time": "2022-07-08T14:59:28.661881Z",
     "start_time": "2022-07-08T14:59:28.648874Z"
    }
   },
   "outputs": [],
   "source": [
    "# to next round\n",
    "tuned_kwargs['depth'] = 8\n",
    "tuned_kwargs['rsm'] = 1"
   ]
  },
  {
   "cell_type": "markdown",
   "id": "867b6a9f",
   "metadata": {},
   "source": [
    "## Раунд 3"
   ]
  },
  {
   "cell_type": "code",
   "execution_count": 16,
   "id": "a920d888",
   "metadata": {
    "ExecuteTime": {
     "end_time": "2022-07-08T14:59:28.676901Z",
     "start_time": "2022-07-08T14:59:28.664879Z"
    }
   },
   "outputs": [],
   "source": [
    "# готовим тюнинг гиперпараметров по сетке #3\n",
    "model_grid_3 = CatBoostRegressor(**common_kwargs,\n",
    "                                 **tuned_kwargs,\n",
    "                                )\n",
    "grid_3 = {'depth': [7, 8, 9],\n",
    "          'rsm': [0.9, 1.0],\n",
    "          'one_hot_max_size': [11],\n",
    "          'random_strength': [1],\n",
    "          'iterations': 500,\n",
    "         }\n",
    "\n",
    "# grid_search_result3 = model_grid_3.grid_search(grid_3, full_pool, cv=3, plot=True)"
   ]
  },
  {
   "cell_type": "code",
   "execution_count": 17,
   "id": "9d521daf",
   "metadata": {
    "ExecuteTime": {
     "end_time": "2022-07-08T14:59:28.691622Z",
     "start_time": "2022-07-08T14:59:28.679104Z"
    }
   },
   "outputs": [],
   "source": [
    "# to next round\n",
    "tuned_kwargs['depth'] = 8"
   ]
  },
  {
   "cell_type": "markdown",
   "id": "b1f2b9ec",
   "metadata": {
    "ExecuteTime": {
     "end_time": "2022-07-08T12:55:22.056304Z",
     "start_time": "2022-07-08T12:55:22.043307Z"
    }
   },
   "source": [
    "## Раунд последний"
   ]
  },
  {
   "cell_type": "code",
   "execution_count": 18,
   "id": "c02db4e0",
   "metadata": {
    "ExecuteTime": {
     "end_time": "2022-07-08T14:59:28.706920Z",
     "start_time": "2022-07-08T14:59:28.695211Z"
    }
   },
   "outputs": [],
   "source": [
    "# меняем рандом\n",
    "# test_size = 0.2\n",
    "# seed = 37\n",
    "# X_train, X_valid, y_train, y_valid = train_test_split(X, y, test_size=test_size, random_state=seed)\n",
    "\n",
    "# full_pool = Pool(X, y, cat_features=cat_features_list)"
   ]
  },
  {
   "cell_type": "code",
   "execution_count": 19,
   "id": "4755a2fb",
   "metadata": {
    "ExecuteTime": {
     "end_time": "2022-07-08T14:59:28.722919Z",
     "start_time": "2022-07-08T14:59:28.710737Z"
    }
   },
   "outputs": [
    {
     "name": "stdout",
     "output_type": "stream",
     "text": [
      "{'loss_function': 'MAE', 'eval_metric': 'MAPE', 'logging_level': 'Silent'}\n",
      "{'depth': 8, 'rsm': 1, 'one_hot_max_size': 11, 'random_strength': 1, 'iterations': 500}\n"
     ]
    }
   ],
   "source": [
    "print(common_kwargs)\n",
    "print(tuned_kwargs)"
   ]
  },
  {
   "cell_type": "code",
   "execution_count": 20,
   "id": "9cf0a6d7",
   "metadata": {
    "ExecuteTime": {
     "end_time": "2022-07-08T15:05:18.851911Z",
     "start_time": "2022-07-08T14:59:31.576450Z"
    },
    "scrolled": false
   },
   "outputs": [
    {
     "data": {
      "application/vnd.jupyter.widget-view+json": {
       "model_id": "21a611ee7c424a838abed3cd00ae70cd",
       "version_major": 2,
       "version_minor": 0
      },
      "text/plain": [
       "MetricVisualizer(layout=Layout(align_self='stretch', height='500px'))"
      ]
     },
     "metadata": {},
     "output_type": "display_data"
    },
    {
     "name": "stdout",
     "output_type": "stream",
     "text": [
      "0:\tloss: 0.1201410\tbest: 0.1201410 (0)\ttotal: 35.7s\tremaining: 1m 47s\n",
      "1:\tloss: 0.1199297\tbest: 0.1199297 (1)\ttotal: 1m 16s\tremaining: 1m 16s\n",
      "2:\tloss: 0.1198494\tbest: 0.1198494 (2)\ttotal: 2m 3s\tremaining: 41.2s\n",
      "3:\tloss: 0.1198494\tbest: 0.1198494 (2)\ttotal: 2m 58s\tremaining: 0us\n",
      "Estimating final quality...\n"
     ]
    }
   ],
   "source": [
    "# ищем нужное число деревьев, чтобы не попасть в переобучение\n",
    "model = CatBoostRegressor(**common_kwargs,\n",
    "                          **tuned_kwargs,\n",
    "                         )\n",
    "\n",
    "grid = {'iterations': [900, 1000, 1100, 1400],\n",
    "       }\n",
    "\n",
    "grid_search_result = model.grid_search(grid, full_pool, cv=3, plot=True)\n",
    "\n",
    "# model.fit(train_pool, eval_set=valid_pool, logging_level='Silent', plot=True)"
   ]
  },
  {
   "cell_type": "code",
   "execution_count": 22,
   "id": "91f8c1b6",
   "metadata": {
    "ExecuteTime": {
     "end_time": "2022-07-08T15:08:23.157311Z",
     "start_time": "2022-07-08T15:08:23.148200Z"
    }
   },
   "outputs": [],
   "source": [
    "tuned_kwargs['iterations'] = 1400  # был лучший результат, с повторением вышла проблема"
   ]
  },
  {
   "cell_type": "markdown",
   "id": "02046785",
   "metadata": {},
   "source": [
    "# Результат для Kaggle"
   ]
  },
  {
   "cell_type": "code",
   "execution_count": 23,
   "id": "6341f160",
   "metadata": {
    "ExecuteTime": {
     "end_time": "2022-07-08T15:08:23.189230Z",
     "start_time": "2022-07-08T15:08:23.160206Z"
    }
   },
   "outputs": [
    {
     "data": {
      "text/plain": [
       "(6682, 17)"
      ]
     },
     "metadata": {},
     "output_type": "display_data"
    },
    {
     "data": {
      "text/plain": [
       "(6682, 1)"
      ]
     },
     "metadata": {},
     "output_type": "display_data"
    },
    {
     "data": {
      "text/plain": [
       "(1671, 17)"
      ]
     },
     "metadata": {},
     "output_type": "display_data"
    },
    {
     "data": {
      "text/plain": [
       "(1671, 1)"
      ]
     },
     "metadata": {},
     "output_type": "display_data"
    }
   ],
   "source": [
    "display(X.shape, y.shape)\n",
    "y_test = pd.read_csv('sample_submission.csv', usecols=['price']) # это пустой вектор, но нужен для полного обучения\n",
    "display(X_test.shape, y_test.shape)"
   ]
  },
  {
   "cell_type": "code",
   "execution_count": 24,
   "id": "554e3096",
   "metadata": {
    "ExecuteTime": {
     "end_time": "2022-07-08T15:08:23.237204Z",
     "start_time": "2022-07-08T15:08:23.192229Z"
    }
   },
   "outputs": [],
   "source": [
    "# готовим для CatBoost\n",
    "train_pool = Pool(X, y, cat_features=cat_features_list)\n",
    "test_pool = Pool(X_test, y_test, cat_features=cat_features_list)"
   ]
  },
  {
   "cell_type": "code",
   "execution_count": 25,
   "id": "02250781",
   "metadata": {
    "ExecuteTime": {
     "end_time": "2022-07-08T15:09:06.105233Z",
     "start_time": "2022-07-08T15:08:23.240259Z"
    }
   },
   "outputs": [
    {
     "data": {
      "application/vnd.jupyter.widget-view+json": {
       "model_id": "ecc9af896ef0420fa4ef220a17b7e705",
       "version_major": 2,
       "version_minor": 0
      },
      "text/plain": [
       "MetricVisualizer(layout=Layout(align_self='stretch', height='500px'))"
      ]
     },
     "metadata": {},
     "output_type": "display_data"
    },
    {
     "data": {
      "text/plain": [
       "<catboost.core.CatBoostRegressor at 0x1b282dd1ca0>"
      ]
     },
     "execution_count": 25,
     "metadata": {},
     "output_type": "execute_result"
    }
   ],
   "source": [
    "# учим модель\n",
    "model = CatBoostRegressor(**common_kwargs,\n",
    "                          **tuned_kwargs,\n",
    "                         )\n",
    "\n",
    "model.fit(train_pool, eval_set=test_pool, logging_level='Silent', plot=True)"
   ]
  },
  {
   "cell_type": "code",
   "execution_count": 26,
   "id": "1bf76893",
   "metadata": {
    "ExecuteTime": {
     "end_time": "2022-07-08T15:09:06.121278Z",
     "start_time": "2022-07-08T15:09:06.108201Z"
    }
   },
   "outputs": [],
   "source": [
    "# предсказываем результат\n",
    "y_test_predict = model.predict(test_pool)"
   ]
  },
  {
   "cell_type": "code",
   "execution_count": 27,
   "id": "ebd046fa",
   "metadata": {
    "ExecuteTime": {
     "end_time": "2022-07-08T15:09:06.153274Z",
     "start_time": "2022-07-08T15:09:06.125198Z"
    }
   },
   "outputs": [],
   "source": [
    "submission = pd.read_csv('sample_submission.csv')\n",
    "submission['price'] = y_test_predict\n",
    "submission.to_csv('submission_catboost.csv', index=False)"
   ]
  },
  {
   "cell_type": "code",
   "execution_count": 28,
   "id": "a3e6f9bd",
   "metadata": {
    "ExecuteTime": {
     "end_time": "2022-07-08T15:09:06.216275Z",
     "start_time": "2022-07-08T15:09:06.155234Z"
    }
   },
   "outputs": [],
   "source": [
    "# Сохраним модель\n",
    "model.save_model('model_catboost.cbm')"
   ]
  },
  {
   "cell_type": "code",
   "execution_count": null,
   "id": "412cb319",
   "metadata": {},
   "outputs": [],
   "source": []
  }
 ],
 "metadata": {
  "kernelspec": {
   "display_name": "Python 3 (ipykernel)",
   "language": "python",
   "name": "python3"
  },
  "language_info": {
   "codemirror_mode": {
    "name": "ipython",
    "version": 3
   },
   "file_extension": ".py",
   "mimetype": "text/x-python",
   "name": "python",
   "nbconvert_exporter": "python",
   "pygments_lexer": "ipython3",
   "version": "3.8.8"
  },
  "toc": {
   "base_numbering": 1,
   "nav_menu": {},
   "number_sections": true,
   "sideBar": true,
   "skip_h1_title": false,
   "title_cell": "Table of Contents",
   "title_sidebar": "Contents",
   "toc_cell": false,
   "toc_position": {},
   "toc_section_display": true,
   "toc_window_display": true
  }
 },
 "nbformat": 4,
 "nbformat_minor": 5
}
