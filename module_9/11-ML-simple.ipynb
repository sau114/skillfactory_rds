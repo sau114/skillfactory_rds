{
 "cells": [
  {
   "cell_type": "markdown",
   "id": "d6952034",
   "metadata": {},
   "source": [
    "# Построим простую модель"
   ]
  },
  {
   "cell_type": "code",
   "execution_count": 1,
   "id": "97a1dcd9",
   "metadata": {
    "ExecuteTime": {
     "end_time": "2022-07-06T15:43:20.381794Z",
     "start_time": "2022-07-06T15:43:19.108883Z"
    }
   },
   "outputs": [],
   "source": [
    "import pandas as pd\n",
    "import numpy as np\n",
    "from datetime import datetime\n",
    "\n",
    "from sklearn.linear_model import LinearRegression\n",
    "from sklearn.metrics import mean_absolute_percentage_error\n",
    "from sklearn.model_selection import train_test_split"
   ]
  },
  {
   "cell_type": "markdown",
   "id": "adc5e988",
   "metadata": {},
   "source": [
    "# Загрузка датасета"
   ]
  },
  {
   "cell_type": "code",
   "execution_count": 3,
   "id": "e61b223c",
   "metadata": {
    "ExecuteTime": {
     "end_time": "2022-07-06T15:43:20.666238Z",
     "start_time": "2022-07-06T15:43:20.402724Z"
    }
   },
   "outputs": [
    {
     "data": {
      "text/html": [
       "<div>\n",
       "<style scoped>\n",
       "    .dataframe tbody tr th:only-of-type {\n",
       "        vertical-align: middle;\n",
       "    }\n",
       "\n",
       "    .dataframe tbody tr th {\n",
       "        vertical-align: top;\n",
       "    }\n",
       "\n",
       "    .dataframe thead th {\n",
       "        text-align: right;\n",
       "    }\n",
       "</style>\n",
       "<table border=\"1\" class=\"dataframe\">\n",
       "  <thead>\n",
       "    <tr style=\"text-align: right;\">\n",
       "      <th></th>\n",
       "      <th>0</th>\n",
       "    </tr>\n",
       "  </thead>\n",
       "  <tbody>\n",
       "    <tr>\n",
       "      <th>body_type</th>\n",
       "      <td>седан</td>\n",
       "    </tr>\n",
       "    <tr>\n",
       "      <th>brand</th>\n",
       "      <td>BMW</td>\n",
       "    </tr>\n",
       "    <tr>\n",
       "      <th>color</th>\n",
       "      <td>чёрный</td>\n",
       "    </tr>\n",
       "    <tr>\n",
       "      <th>description</th>\n",
       "      <td>Авто на бодром ходу.  Все работает отлично.  П...</td>\n",
       "    </tr>\n",
       "    <tr>\n",
       "      <th>engine_displacement</th>\n",
       "      <td>3.0</td>\n",
       "    </tr>\n",
       "    <tr>\n",
       "      <th>engine_power</th>\n",
       "      <td>272</td>\n",
       "    </tr>\n",
       "    <tr>\n",
       "      <th>fuel_type</th>\n",
       "      <td>бензин</td>\n",
       "    </tr>\n",
       "    <tr>\n",
       "      <th>mileage</th>\n",
       "      <td>245000</td>\n",
       "    </tr>\n",
       "    <tr>\n",
       "      <th>model_year</th>\n",
       "      <td>2007</td>\n",
       "    </tr>\n",
       "    <tr>\n",
       "      <th>n_doors</th>\n",
       "      <td>4</td>\n",
       "    </tr>\n",
       "    <tr>\n",
       "      <th>production_year</th>\n",
       "      <td>2007</td>\n",
       "    </tr>\n",
       "    <tr>\n",
       "      <th>sell_id</th>\n",
       "      <td>1099980990</td>\n",
       "    </tr>\n",
       "    <tr>\n",
       "      <th>vehicle_transmission</th>\n",
       "      <td>автоматическая</td>\n",
       "    </tr>\n",
       "    <tr>\n",
       "      <th>n_owners</th>\n",
       "      <td>3+</td>\n",
       "    </tr>\n",
       "    <tr>\n",
       "      <th>time_ownership</th>\n",
       "      <td>NaN</td>\n",
       "    </tr>\n",
       "    <tr>\n",
       "      <th>drive_type</th>\n",
       "      <td>полный</td>\n",
       "    </tr>\n",
       "    <tr>\n",
       "      <th>is_original_techpass</th>\n",
       "      <td>1</td>\n",
       "    </tr>\n",
       "    <tr>\n",
       "      <th>is_lefthand_drive</th>\n",
       "      <td>1</td>\n",
       "    </tr>\n",
       "    <tr>\n",
       "      <th>full_model_name</th>\n",
       "      <td>bmw 5er</td>\n",
       "    </tr>\n",
       "  </tbody>\n",
       "</table>\n",
       "</div>"
      ],
      "text/plain": [
       "                                                                      0\n",
       "body_type                                                         седан\n",
       "brand                                                               BMW\n",
       "color                                                            чёрный\n",
       "description           Авто на бодром ходу.  Все работает отлично.  П...\n",
       "engine_displacement                                                 3.0\n",
       "engine_power                                                        272\n",
       "fuel_type                                                        бензин\n",
       "mileage                                                          245000\n",
       "model_year                                                         2007\n",
       "n_doors                                                               4\n",
       "production_year                                                    2007\n",
       "sell_id                                                      1099980990\n",
       "vehicle_transmission                                     автоматическая\n",
       "n_owners                                                             3+\n",
       "time_ownership                                                      NaN\n",
       "drive_type                                                       полный\n",
       "is_original_techpass                                                  1\n",
       "is_lefthand_drive                                                     1\n",
       "full_model_name                                                 bmw 5er"
      ]
     },
     "execution_count": 3,
     "metadata": {},
     "output_type": "execute_result"
    }
   ],
   "source": [
    "X = pd.read_csv('train_preprocessed.csv').drop(columns='price')\n",
    "X.head(1).T"
   ]
  },
  {
   "cell_type": "code",
   "execution_count": 4,
   "id": "02faff54",
   "metadata": {
    "ExecuteTime": {
     "end_time": "2022-07-06T15:43:20.824515Z",
     "start_time": "2022-07-06T15:43:20.668692Z"
    }
   },
   "outputs": [
    {
     "data": {
      "text/html": [
       "<div>\n",
       "<style scoped>\n",
       "    .dataframe tbody tr th:only-of-type {\n",
       "        vertical-align: middle;\n",
       "    }\n",
       "\n",
       "    .dataframe tbody tr th {\n",
       "        vertical-align: top;\n",
       "    }\n",
       "\n",
       "    .dataframe thead th {\n",
       "        text-align: right;\n",
       "    }\n",
       "</style>\n",
       "<table border=\"1\" class=\"dataframe\">\n",
       "  <thead>\n",
       "    <tr style=\"text-align: right;\">\n",
       "      <th></th>\n",
       "      <th>price</th>\n",
       "    </tr>\n",
       "  </thead>\n",
       "  <tbody>\n",
       "    <tr>\n",
       "      <th>0</th>\n",
       "      <td>599000.0</td>\n",
       "    </tr>\n",
       "  </tbody>\n",
       "</table>\n",
       "</div>"
      ],
      "text/plain": [
       "      price\n",
       "0  599000.0"
      ]
     },
     "execution_count": 4,
     "metadata": {},
     "output_type": "execute_result"
    }
   ],
   "source": [
    "y = pd.read_csv('train_preprocessed.csv', usecols=['price'])\n",
    "y.head(1)"
   ]
  },
  {
   "cell_type": "code",
   "execution_count": 5,
   "id": "e2d7a16c",
   "metadata": {
    "ExecuteTime": {
     "end_time": "2022-07-06T15:43:20.920616Z",
     "start_time": "2022-07-06T15:43:20.827698Z"
    }
   },
   "outputs": [
    {
     "data": {
      "text/html": [
       "<div>\n",
       "<style scoped>\n",
       "    .dataframe tbody tr th:only-of-type {\n",
       "        vertical-align: middle;\n",
       "    }\n",
       "\n",
       "    .dataframe tbody tr th {\n",
       "        vertical-align: top;\n",
       "    }\n",
       "\n",
       "    .dataframe thead th {\n",
       "        text-align: right;\n",
       "    }\n",
       "</style>\n",
       "<table border=\"1\" class=\"dataframe\">\n",
       "  <thead>\n",
       "    <tr style=\"text-align: right;\">\n",
       "      <th></th>\n",
       "      <th>0</th>\n",
       "    </tr>\n",
       "  </thead>\n",
       "  <tbody>\n",
       "    <tr>\n",
       "      <th>body_type</th>\n",
       "      <td>универсал</td>\n",
       "    </tr>\n",
       "    <tr>\n",
       "      <th>brand</th>\n",
       "      <td>MERCEDES</td>\n",
       "    </tr>\n",
       "    <tr>\n",
       "      <th>color</th>\n",
       "      <td>чёрный</td>\n",
       "    </tr>\n",
       "    <tr>\n",
       "      <th>description</th>\n",
       "      <td>Всем привет!\\n\\nПродам эксклюзивный проект 124...</td>\n",
       "    </tr>\n",
       "    <tr>\n",
       "      <th>engine_displacement</th>\n",
       "      <td>3.0</td>\n",
       "    </tr>\n",
       "    <tr>\n",
       "      <th>engine_power</th>\n",
       "      <td>220</td>\n",
       "    </tr>\n",
       "    <tr>\n",
       "      <th>fuel_type</th>\n",
       "      <td>бензин</td>\n",
       "    </tr>\n",
       "    <tr>\n",
       "      <th>mileage</th>\n",
       "      <td>350000</td>\n",
       "    </tr>\n",
       "    <tr>\n",
       "      <th>model_year</th>\n",
       "      <td>1984</td>\n",
       "    </tr>\n",
       "    <tr>\n",
       "      <th>n_doors</th>\n",
       "      <td>5</td>\n",
       "    </tr>\n",
       "    <tr>\n",
       "      <th>price</th>\n",
       "      <td>0.0</td>\n",
       "    </tr>\n",
       "    <tr>\n",
       "      <th>production_year</th>\n",
       "      <td>1991</td>\n",
       "    </tr>\n",
       "    <tr>\n",
       "      <th>sell_id</th>\n",
       "      <td>1099427284</td>\n",
       "    </tr>\n",
       "    <tr>\n",
       "      <th>vehicle_transmission</th>\n",
       "      <td>автоматическая</td>\n",
       "    </tr>\n",
       "    <tr>\n",
       "      <th>n_owners</th>\n",
       "      <td>3+</td>\n",
       "    </tr>\n",
       "    <tr>\n",
       "      <th>time_ownership</th>\n",
       "      <td>6 лет и 3 месяца</td>\n",
       "    </tr>\n",
       "    <tr>\n",
       "      <th>drive_type</th>\n",
       "      <td>задний</td>\n",
       "    </tr>\n",
       "    <tr>\n",
       "      <th>is_original_techpass</th>\n",
       "      <td>1</td>\n",
       "    </tr>\n",
       "    <tr>\n",
       "      <th>is_lefthand_drive</th>\n",
       "      <td>1</td>\n",
       "    </tr>\n",
       "    <tr>\n",
       "      <th>full_model_name</th>\n",
       "      <td>mercedes w124</td>\n",
       "    </tr>\n",
       "  </tbody>\n",
       "</table>\n",
       "</div>"
      ],
      "text/plain": [
       "                                                                      0\n",
       "body_type                                                     универсал\n",
       "brand                                                          MERCEDES\n",
       "color                                                            чёрный\n",
       "description           Всем привет!\\n\\nПродам эксклюзивный проект 124...\n",
       "engine_displacement                                                 3.0\n",
       "engine_power                                                        220\n",
       "fuel_type                                                        бензин\n",
       "mileage                                                          350000\n",
       "model_year                                                         1984\n",
       "n_doors                                                               5\n",
       "price                                                               0.0\n",
       "production_year                                                    1991\n",
       "sell_id                                                      1099427284\n",
       "vehicle_transmission                                     автоматическая\n",
       "n_owners                                                             3+\n",
       "time_ownership                                         6 лет и 3 месяца\n",
       "drive_type                                                       задний\n",
       "is_original_techpass                                                  1\n",
       "is_lefthand_drive                                                     1\n",
       "full_model_name                                           mercedes w124"
      ]
     },
     "execution_count": 5,
     "metadata": {},
     "output_type": "execute_result"
    }
   ],
   "source": [
    "X_test = pd.read_csv('test_preprocessed.csv')\n",
    "X_test.head(1).T"
   ]
  },
  {
   "cell_type": "markdown",
   "id": "359e2b92",
   "metadata": {},
   "source": [
    "# Проверим готовность данных"
   ]
  },
  {
   "cell_type": "code",
   "execution_count": 6,
   "id": "d006694b",
   "metadata": {
    "ExecuteTime": {
     "end_time": "2022-07-06T15:43:20.952516Z",
     "start_time": "2022-07-06T15:43:20.923476Z"
    },
    "scrolled": false
   },
   "outputs": [
    {
     "name": "stdout",
     "output_type": "stream",
     "text": [
      "<class 'pandas.core.frame.DataFrame'>\n",
      "RangeIndex: 6682 entries, 0 to 6681\n",
      "Data columns (total 19 columns):\n",
      " #   Column                Non-Null Count  Dtype  \n",
      "---  ------                --------------  -----  \n",
      " 0   body_type             6682 non-null   object \n",
      " 1   brand                 6682 non-null   object \n",
      " 2   color                 6682 non-null   object \n",
      " 3   description           6682 non-null   object \n",
      " 4   engine_displacement   6682 non-null   float64\n",
      " 5   engine_power          6682 non-null   int64  \n",
      " 6   fuel_type             6682 non-null   object \n",
      " 7   mileage               6682 non-null   int64  \n",
      " 8   model_year            6682 non-null   int64  \n",
      " 9   n_doors               6682 non-null   int64  \n",
      " 10  production_year       6682 non-null   int64  \n",
      " 11  sell_id               6682 non-null   int64  \n",
      " 12  vehicle_transmission  6682 non-null   object \n",
      " 13  n_owners              6682 non-null   object \n",
      " 14  time_ownership        2356 non-null   object \n",
      " 15  drive_type            6682 non-null   object \n",
      " 16  is_original_techpass  6682 non-null   int64  \n",
      " 17  is_lefthand_drive     6682 non-null   int64  \n",
      " 18  full_model_name       6682 non-null   object \n",
      "dtypes: float64(1), int64(8), object(10)\n",
      "memory usage: 992.0+ KB\n"
     ]
    }
   ],
   "source": [
    "X.info()"
   ]
  },
  {
   "cell_type": "markdown",
   "id": "2658df09",
   "metadata": {},
   "source": [
    "Для простой модели оставим 2 признака:\n",
    "- бренд\n",
    "- пробег"
   ]
  },
  {
   "cell_type": "code",
   "execution_count": 7,
   "id": "304156d4",
   "metadata": {
    "ExecuteTime": {
     "end_time": "2022-07-06T15:43:20.968503Z",
     "start_time": "2022-07-06T15:43:20.955453Z"
    },
    "scrolled": true
   },
   "outputs": [],
   "source": [
    "columns_to_model = ['brand', \n",
    "                    'mileage', \n",
    "                   ]\n",
    "X = X[columns_to_model]"
   ]
  },
  {
   "cell_type": "code",
   "execution_count": 8,
   "id": "eee72ac1",
   "metadata": {
    "ExecuteTime": {
     "end_time": "2022-07-06T15:43:20.983653Z",
     "start_time": "2022-07-06T15:43:20.970545Z"
    }
   },
   "outputs": [
    {
     "data": {
      "text/plain": [
       "Index(['mileage', 'brand_AUDI', 'brand_BMW', 'brand_MERCEDES'], dtype='object')"
      ]
     },
     "execution_count": 8,
     "metadata": {},
     "output_type": "execute_result"
    }
   ],
   "source": [
    "# one-hot-encoding для категориальных признаков\n",
    "X = pd.get_dummies(X)\n",
    "X.columns"
   ]
  },
  {
   "cell_type": "markdown",
   "id": "1cd676e8",
   "metadata": {},
   "source": [
    "# Проверяем модели"
   ]
  },
  {
   "cell_type": "markdown",
   "id": "0ed3c246",
   "metadata": {},
   "source": [
    "## Разделяем на тренировочную и валидационную части"
   ]
  },
  {
   "cell_type": "code",
   "execution_count": 9,
   "id": "b487a39e",
   "metadata": {
    "ExecuteTime": {
     "end_time": "2022-07-06T15:43:20.999475Z",
     "start_time": "2022-07-06T15:43:20.987449Z"
    }
   },
   "outputs": [],
   "source": [
    "# параметры разделения\n",
    "test_size = 0.2\n",
    "seed = 73"
   ]
  },
  {
   "cell_type": "code",
   "execution_count": 10,
   "id": "38e543f1",
   "metadata": {
    "ExecuteTime": {
     "end_time": "2022-07-06T15:43:21.015642Z",
     "start_time": "2022-07-06T15:43:21.003288Z"
    }
   },
   "outputs": [
    {
     "name": "stdout",
     "output_type": "stream",
     "text": [
      "(5345, 4) (5345, 1)\n",
      "(1337, 4) (1337, 1)\n"
     ]
    }
   ],
   "source": [
    "X_train, X_valid, y_train, y_valid = train_test_split(X, y, test_size=test_size, random_state=seed)\n",
    "print(X_train.shape, y_train.shape)\n",
    "print(X_valid.shape, y_valid.shape)"
   ]
  },
  {
   "cell_type": "code",
   "execution_count": 11,
   "id": "46c6f64d",
   "metadata": {
    "ExecuteTime": {
     "end_time": "2022-07-06T15:43:21.062436Z",
     "start_time": "2022-07-06T15:43:21.019480Z"
    }
   },
   "outputs": [
    {
     "data": {
      "text/plain": [
       "LinearRegression()"
      ]
     },
     "execution_count": 11,
     "metadata": {},
     "output_type": "execute_result"
    }
   ],
   "source": [
    "# обучим модель\n",
    "simple_model = LinearRegression()\n",
    "simple_model.fit(X_train, y_train)"
   ]
  },
  {
   "cell_type": "code",
   "execution_count": 12,
   "id": "6f753ff1",
   "metadata": {
    "ExecuteTime": {
     "end_time": "2022-07-06T15:43:21.077768Z",
     "start_time": "2022-07-06T15:43:21.065340Z"
    }
   },
   "outputs": [
    {
     "name": "stdout",
     "output_type": "stream",
     "text": [
      "MAPE = 70.2%\n"
     ]
    }
   ],
   "source": [
    "# валидация\n",
    "y_predict = simple_model.predict(X_valid)\n",
    "mape = mean_absolute_percentage_error(y_valid, y_predict)\n",
    "print(f'MAPE = {mape*100:0.1f}%')"
   ]
  },
  {
   "cell_type": "code",
   "execution_count": 13,
   "id": "a537c2d3",
   "metadata": {
    "ExecuteTime": {
     "end_time": "2022-07-06T15:43:21.093419Z",
     "start_time": "2022-07-06T15:43:21.080354Z"
    }
   },
   "outputs": [
    {
     "name": "stdout",
     "output_type": "stream",
     "text": [
      "[[-1.18143585e+01 -4.46930267e+05 -8.09501132e+04  5.27880380e+05]] [3279244.43785409]\n"
     ]
    }
   ],
   "source": [
    "print(simple_model.coef_, simple_model.intercept_)"
   ]
  },
  {
   "cell_type": "markdown",
   "id": "f2581310",
   "metadata": {},
   "source": [
    "# Результат для Kaggle"
   ]
  },
  {
   "cell_type": "code",
   "execution_count": 14,
   "id": "06c4b2ee",
   "metadata": {
    "ExecuteTime": {
     "end_time": "2022-07-06T15:43:21.109419Z",
     "start_time": "2022-07-06T15:43:21.096339Z"
    }
   },
   "outputs": [],
   "source": [
    "# обработаем test так же, как train\n",
    "X_test = X_test[columns_to_model]\n",
    "X_test = pd.get_dummies(X_test)"
   ]
  },
  {
   "cell_type": "code",
   "execution_count": 15,
   "id": "c7b11df5",
   "metadata": {
    "ExecuteTime": {
     "end_time": "2022-07-06T15:43:21.140419Z",
     "start_time": "2022-07-06T15:43:21.112407Z"
    }
   },
   "outputs": [
    {
     "data": {
      "text/plain": [
       "LinearRegression()"
      ]
     },
     "execution_count": 15,
     "metadata": {},
     "output_type": "execute_result"
    }
   ],
   "source": [
    "# обучим модель на всех примерах\n",
    "simple_model = LinearRegression()\n",
    "simple_model.fit(X, y)"
   ]
  },
  {
   "cell_type": "code",
   "execution_count": 16,
   "id": "bed54cc1",
   "metadata": {
    "ExecuteTime": {
     "end_time": "2022-07-06T15:43:21.155382Z",
     "start_time": "2022-07-06T15:43:21.143339Z"
    }
   },
   "outputs": [],
   "source": [
    "# предскажем\n",
    "y_test_predict = simple_model.predict(X_test)"
   ]
  },
  {
   "cell_type": "code",
   "execution_count": 17,
   "id": "19c6e748",
   "metadata": {
    "ExecuteTime": {
     "end_time": "2022-07-06T15:43:21.187385Z",
     "start_time": "2022-07-06T15:43:21.158427Z"
    }
   },
   "outputs": [],
   "source": [
    "submission = pd.read_csv('sample_submission.csv')\n",
    "submission['price'] = y_test_predict\n",
    "submission.to_csv('submission_simple_model.csv', index=False)"
   ]
  },
  {
   "cell_type": "code",
   "execution_count": null,
   "id": "04f3fe49",
   "metadata": {},
   "outputs": [],
   "source": []
  }
 ],
 "metadata": {
  "kernelspec": {
   "display_name": "Python 3 (ipykernel)",
   "language": "python",
   "name": "python3"
  },
  "language_info": {
   "codemirror_mode": {
    "name": "ipython",
    "version": 3
   },
   "file_extension": ".py",
   "mimetype": "text/x-python",
   "name": "python",
   "nbconvert_exporter": "python",
   "pygments_lexer": "ipython3",
   "version": "3.8.8"
  },
  "toc": {
   "base_numbering": 1,
   "nav_menu": {},
   "number_sections": true,
   "sideBar": true,
   "skip_h1_title": false,
   "title_cell": "Table of Contents",
   "title_sidebar": "Contents",
   "toc_cell": false,
   "toc_position": {},
   "toc_section_display": true,
   "toc_window_display": false
  }
 },
 "nbformat": 4,
 "nbformat_minor": 5
}
