{
 "cells": [
  {
   "cell_type": "markdown",
   "id": "01f416f4",
   "metadata": {},
   "source": [
    "# Библиотеки"
   ]
  },
  {
   "cell_type": "code",
   "execution_count": 1,
   "id": "a21db7a1",
   "metadata": {
    "ExecuteTime": {
     "end_time": "2022-07-13T10:03:54.181361Z",
     "start_time": "2022-07-13T10:03:54.169285Z"
    }
   },
   "outputs": [],
   "source": [
    "# !pip install catboost"
   ]
  },
  {
   "cell_type": "code",
   "execution_count": 2,
   "id": "6ab0813e",
   "metadata": {
    "ExecuteTime": {
     "end_time": "2022-07-13T10:03:54.197254Z",
     "start_time": "2022-07-13T10:03:54.185287Z"
    }
   },
   "outputs": [],
   "source": [
    "# !pip install ipywidgets"
   ]
  },
  {
   "cell_type": "code",
   "execution_count": 3,
   "id": "d5b8ad49",
   "metadata": {
    "ExecuteTime": {
     "end_time": "2022-07-13T10:03:55.726181Z",
     "start_time": "2022-07-13T10:03:54.199256Z"
    }
   },
   "outputs": [],
   "source": [
    "import pandas as pd\n",
    "import numpy as np\n",
    "\n",
    "from catboost import Pool, CatBoostRegressor\n",
    "\n",
    "from sklearn.model_selection import train_test_split"
   ]
  },
  {
   "cell_type": "markdown",
   "id": "ffbb988f",
   "metadata": {},
   "source": [
    "# Данные"
   ]
  },
  {
   "cell_type": "markdown",
   "id": "e28933f9",
   "metadata": {},
   "source": [
    "## Грузим"
   ]
  },
  {
   "cell_type": "code",
   "execution_count": 4,
   "id": "3cfd126a",
   "metadata": {
    "ExecuteTime": {
     "end_time": "2022-07-13T10:03:56.162541Z",
     "start_time": "2022-07-13T10:03:55.729218Z"
    }
   },
   "outputs": [],
   "source": [
    "features_to_drop = ['description', \n",
    "                    'sell_id',\n",
    "                   ]\n",
    "\n",
    "X = pd.read_csv('train_preprocessed.csv').drop(columns='price').drop(columns=features_to_drop)\n",
    "y = pd.read_csv('train_preprocessed.csv', usecols=['price'])\n",
    "\n",
    "X_test = pd.read_csv('test_preprocessed.csv').drop(columns='price').drop(columns=features_to_drop)"
   ]
  },
  {
   "cell_type": "code",
   "execution_count": 5,
   "id": "c1cfedfe",
   "metadata": {
    "ExecuteTime": {
     "end_time": "2022-07-13T10:03:56.208817Z",
     "start_time": "2022-07-13T10:03:56.166046Z"
    }
   },
   "outputs": [
    {
     "data": {
      "text/html": [
       "<div>\n",
       "<style scoped>\n",
       "    .dataframe tbody tr th:only-of-type {\n",
       "        vertical-align: middle;\n",
       "    }\n",
       "\n",
       "    .dataframe tbody tr th {\n",
       "        vertical-align: top;\n",
       "    }\n",
       "\n",
       "    .dataframe thead th {\n",
       "        text-align: right;\n",
       "    }\n",
       "</style>\n",
       "<table border=\"1\" class=\"dataframe\">\n",
       "  <thead>\n",
       "    <tr style=\"text-align: right;\">\n",
       "      <th></th>\n",
       "      <th>6045</th>\n",
       "    </tr>\n",
       "  </thead>\n",
       "  <tbody>\n",
       "    <tr>\n",
       "      <th>body_type</th>\n",
       "      <td>внедорожник</td>\n",
       "    </tr>\n",
       "    <tr>\n",
       "      <th>brand</th>\n",
       "      <td>BMW</td>\n",
       "    </tr>\n",
       "    <tr>\n",
       "      <th>color</th>\n",
       "      <td>чёрный</td>\n",
       "    </tr>\n",
       "    <tr>\n",
       "      <th>engine_displacement</th>\n",
       "      <td>2.0</td>\n",
       "    </tr>\n",
       "    <tr>\n",
       "      <th>engine_power</th>\n",
       "      <td>5.252273</td>\n",
       "    </tr>\n",
       "    <tr>\n",
       "      <th>fuel_type</th>\n",
       "      <td>дизель</td>\n",
       "    </tr>\n",
       "    <tr>\n",
       "      <th>mileage</th>\n",
       "      <td>83896</td>\n",
       "    </tr>\n",
       "    <tr>\n",
       "      <th>model_year</th>\n",
       "      <td>2014</td>\n",
       "    </tr>\n",
       "    <tr>\n",
       "      <th>n_doors</th>\n",
       "      <td>5</td>\n",
       "    </tr>\n",
       "    <tr>\n",
       "      <th>production_year</th>\n",
       "      <td>2016</td>\n",
       "    </tr>\n",
       "    <tr>\n",
       "      <th>vehicle_transmission</th>\n",
       "      <td>автоматическая</td>\n",
       "    </tr>\n",
       "    <tr>\n",
       "      <th>n_owners</th>\n",
       "      <td>1</td>\n",
       "    </tr>\n",
       "    <tr>\n",
       "      <th>ti_own</th>\n",
       "      <td>-2.302585</td>\n",
       "    </tr>\n",
       "    <tr>\n",
       "      <th>drive_type</th>\n",
       "      <td>полный</td>\n",
       "    </tr>\n",
       "    <tr>\n",
       "      <th>is_original_techpass</th>\n",
       "      <td>1</td>\n",
       "    </tr>\n",
       "    <tr>\n",
       "      <th>is_lefthand_drive</th>\n",
       "      <td>1</td>\n",
       "    </tr>\n",
       "    <tr>\n",
       "      <th>full_model_name</th>\n",
       "      <td>bmw x3</td>\n",
       "    </tr>\n",
       "  </tbody>\n",
       "</table>\n",
       "</div>"
      ],
      "text/plain": [
       "                                6045\n",
       "body_type                внедорожник\n",
       "brand                            BMW\n",
       "color                         чёрный\n",
       "engine_displacement              2.0\n",
       "engine_power                5.252273\n",
       "fuel_type                     дизель\n",
       "mileage                        83896\n",
       "model_year                      2014\n",
       "n_doors                            5\n",
       "production_year                 2016\n",
       "vehicle_transmission  автоматическая\n",
       "n_owners                           1\n",
       "ti_own                     -2.302585\n",
       "drive_type                    полный\n",
       "is_original_techpass               1\n",
       "is_lefthand_drive                  1\n",
       "full_model_name               bmw x3"
      ]
     },
     "execution_count": 5,
     "metadata": {},
     "output_type": "execute_result"
    }
   ],
   "source": [
    "X.sample(1).T"
   ]
  },
  {
   "cell_type": "code",
   "execution_count": 6,
   "id": "f092d900",
   "metadata": {
    "ExecuteTime": {
     "end_time": "2022-07-13T10:03:56.224647Z",
     "start_time": "2022-07-13T10:03:56.212593Z"
    }
   },
   "outputs": [
    {
     "data": {
      "text/plain": [
       "Index(['body_type', 'brand', 'color', 'engine_displacement', 'engine_power',\n",
       "       'fuel_type', 'mileage', 'model_year', 'n_doors', 'production_year',\n",
       "       'vehicle_transmission', 'n_owners', 'ti_own', 'drive_type',\n",
       "       'is_original_techpass', 'is_lefthand_drive', 'full_model_name'],\n",
       "      dtype='object')"
      ]
     },
     "execution_count": 6,
     "metadata": {},
     "output_type": "execute_result"
    }
   ],
   "source": [
    "X.columns"
   ]
  },
  {
   "cell_type": "code",
   "execution_count": 7,
   "id": "898c6c26",
   "metadata": {
    "ExecuteTime": {
     "end_time": "2022-07-13T10:03:56.239892Z",
     "start_time": "2022-07-13T10:03:56.227825Z"
    }
   },
   "outputs": [],
   "source": [
    "# категориальные признаки\n",
    "cat_features_list = ['body_type', \n",
    "                     'brand', \n",
    "                     'color', \n",
    "                     'fuel_type', \n",
    "                     'n_doors', \n",
    "                     'vehicle_transmission', \n",
    "                     'drive_type', \n",
    "                     'n_owners', \n",
    "                     'is_original_techpass', \n",
    "                     'is_lefthand_drive', \n",
    "                     'full_model_name',\n",
    "                    ]"
   ]
  },
  {
   "cell_type": "code",
   "execution_count": 8,
   "id": "c3c3c19d",
   "metadata": {
    "ExecuteTime": {
     "end_time": "2022-07-13T10:03:56.286060Z",
     "start_time": "2022-07-13T10:03:56.241839Z"
    }
   },
   "outputs": [
    {
     "data": {
      "text/plain": [
       "body_type                11\n",
       "brand                     3\n",
       "color                    16\n",
       "fuel_type                 4\n",
       "n_doors                   4\n",
       "vehicle_transmission      4\n",
       "drive_type                3\n",
       "n_owners                  4\n",
       "is_original_techpass      2\n",
       "is_lefthand_drive         2\n",
       "full_model_name         122\n",
       "dtype: int64"
      ]
     },
     "execution_count": 8,
     "metadata": {},
     "output_type": "execute_result"
    }
   ],
   "source": [
    "# посмотрим сколько уникальных значений по кат-признакам\n",
    "pd.concat([X, X_test])[cat_features_list].nunique()\n",
    "# full_model_name точно будет слишком накладно делать one-hot, остальное можно проверить"
   ]
  },
  {
   "cell_type": "code",
   "execution_count": 9,
   "id": "fb9abe0c",
   "metadata": {
    "ExecuteTime": {
     "end_time": "2022-07-13T10:03:56.301584Z",
     "start_time": "2022-07-13T10:03:56.289300Z"
    }
   },
   "outputs": [],
   "source": [
    "# целевую переменную логарифмируем, предскажем и вернём обратно в конце\n",
    "y = np.log(y)"
   ]
  },
  {
   "cell_type": "markdown",
   "id": "1b99f895",
   "metadata": {},
   "source": [
    "## Делим для обучения"
   ]
  },
  {
   "cell_type": "code",
   "execution_count": 10,
   "id": "139586f0",
   "metadata": {
    "ExecuteTime": {
     "end_time": "2022-07-13T10:03:56.363461Z",
     "start_time": "2022-07-13T10:03:56.305342Z"
    }
   },
   "outputs": [],
   "source": [
    "# готовим для CatBoost\n",
    "full_pool = Pool(X, y, cat_features=cat_features_list)"
   ]
  },
  {
   "cell_type": "code",
   "execution_count": 11,
   "id": "38bf9040",
   "metadata": {
    "ExecuteTime": {
     "end_time": "2022-07-13T10:03:56.378388Z",
     "start_time": "2022-07-13T10:03:56.366287Z"
    }
   },
   "outputs": [],
   "source": [
    "# параметры CatBoostRegressor\n",
    "common_kwargs = {'loss_function': 'MAE',\n",
    "                 'eval_metric': 'MAPE',\n",
    "                 'logging_level': 'Silent',\n",
    "                }\n",
    "tuned_kwargs = {'depth': 1,\n",
    "                'rsm': 1.0,\n",
    "                'one_hot_max_size': 2,\n",
    "                'random_strength': 1,\n",
    "                'iterations': 500,\n",
    "               }"
   ]
  },
  {
   "cell_type": "markdown",
   "id": "95524de7",
   "metadata": {},
   "source": [
    "# Тюним CatBoost"
   ]
  },
  {
   "cell_type": "markdown",
   "id": "bd91d30e",
   "metadata": {},
   "source": [
    "## Раунд 1"
   ]
  },
  {
   "cell_type": "code",
   "execution_count": 12,
   "id": "0fc7c0eb",
   "metadata": {
    "ExecuteTime": {
     "end_time": "2022-07-13T10:03:56.393911Z",
     "start_time": "2022-07-13T10:03:56.381392Z"
    }
   },
   "outputs": [],
   "source": [
    "# готовим тюнинг гиперпараметров по сетке #1\n",
    "model_grid = CatBoostRegressor(**common_kwargs,\n",
    "                               **tuned_kwargs,\n",
    "                              )\n",
    "grid = {'depth': [4, 6, 8],\n",
    "        'rsm': [0.5, 0.75, 1.0],\n",
    "        'one_hot_max_size': [4, 11, 16],\n",
    "        'random_strength': [1, 2],\n",
    "        'iterations': 500,\n",
    "       }\n",
    "\n",
    "# grid_search_result = model_grid.grid_search(grid, full_pool, cv=3, plot=True)"
   ]
  },
  {
   "cell_type": "code",
   "execution_count": 13,
   "id": "90c2a6e1",
   "metadata": {
    "ExecuteTime": {
     "end_time": "2022-07-13T10:03:56.409312Z",
     "start_time": "2022-07-13T10:03:56.398973Z"
    }
   },
   "outputs": [],
   "source": [
    "# to next round\n",
    "tuned_kwargs['depth'] = 8\n",
    "tuned_kwargs['rsm'] = 1\n",
    "tuned_kwargs['one_hot_max_size'] = 11\n",
    "tuned_kwargs['random_strength'] = 1"
   ]
  },
  {
   "cell_type": "markdown",
   "id": "263ab6cd",
   "metadata": {},
   "source": [
    "## Раунд 2"
   ]
  },
  {
   "cell_type": "code",
   "execution_count": 14,
   "id": "7ca96c14",
   "metadata": {
    "ExecuteTime": {
     "end_time": "2022-07-13T10:03:56.425303Z",
     "start_time": "2022-07-13T10:03:56.411248Z"
    }
   },
   "outputs": [],
   "source": [
    "# готовим тюнинг гиперпараметров по сетке #2\n",
    "model_grid_2 = CatBoostRegressor(**common_kwargs,\n",
    "                                 **tuned_kwargs,\n",
    "                                )\n",
    "grid_2 = {'depth': [8, 10, 12, 14, 16],\n",
    "          'rsm': [0.9, 0.95, 1.0],\n",
    "          'one_hot_max_size': [11],\n",
    "          'random_strength': [1],\n",
    "          'iterations': 500,\n",
    "         }\n",
    "\n",
    "# grid_search_result2 = model_grid_2.grid_search(grid_2, full_pool, cv=3, plot=True)"
   ]
  },
  {
   "cell_type": "code",
   "execution_count": 15,
   "id": "e89c864d",
   "metadata": {
    "ExecuteTime": {
     "end_time": "2022-07-13T10:03:56.441346Z",
     "start_time": "2022-07-13T10:03:56.428381Z"
    }
   },
   "outputs": [],
   "source": [
    "# to next round\n",
    "tuned_kwargs['depth'] = 8\n",
    "tuned_kwargs['rsm'] = 1"
   ]
  },
  {
   "cell_type": "markdown",
   "id": "867b6a9f",
   "metadata": {},
   "source": [
    "## Раунд 3"
   ]
  },
  {
   "cell_type": "code",
   "execution_count": 16,
   "id": "a920d888",
   "metadata": {
    "ExecuteTime": {
     "end_time": "2022-07-13T10:03:56.457017Z",
     "start_time": "2022-07-13T10:03:56.443252Z"
    }
   },
   "outputs": [],
   "source": [
    "# готовим тюнинг гиперпараметров по сетке #3\n",
    "model_grid_3 = CatBoostRegressor(**common_kwargs,\n",
    "                                 **tuned_kwargs,\n",
    "                                )\n",
    "grid_3 = {'depth': [7, 8, 9],\n",
    "          'rsm': [0.9, 1.0],\n",
    "          'one_hot_max_size': [11],\n",
    "          'random_strength': [1],\n",
    "          'iterations': 500,\n",
    "         }\n",
    "\n",
    "# grid_search_result3 = model_grid_3.grid_search(grid_3, full_pool, cv=3, plot=True)"
   ]
  },
  {
   "cell_type": "code",
   "execution_count": 17,
   "id": "9d521daf",
   "metadata": {
    "ExecuteTime": {
     "end_time": "2022-07-13T10:03:56.472583Z",
     "start_time": "2022-07-13T10:03:56.459021Z"
    }
   },
   "outputs": [],
   "source": [
    "# to next round\n",
    "tuned_kwargs['depth'] = 8"
   ]
  },
  {
   "cell_type": "markdown",
   "id": "b1f2b9ec",
   "metadata": {
    "ExecuteTime": {
     "end_time": "2022-07-08T12:55:22.056304Z",
     "start_time": "2022-07-08T12:55:22.043307Z"
    }
   },
   "source": [
    "## Раунд последний"
   ]
  },
  {
   "cell_type": "code",
   "execution_count": 18,
   "id": "4755a2fb",
   "metadata": {
    "ExecuteTime": {
     "end_time": "2022-07-13T10:03:56.488099Z",
     "start_time": "2022-07-13T10:03:56.475809Z"
    }
   },
   "outputs": [
    {
     "name": "stdout",
     "output_type": "stream",
     "text": [
      "{'loss_function': 'MAE', 'eval_metric': 'MAPE', 'logging_level': 'Silent'}\n",
      "{'depth': 8, 'rsm': 1, 'one_hot_max_size': 11, 'random_strength': 1, 'iterations': 500}\n"
     ]
    }
   ],
   "source": [
    "print(common_kwargs)\n",
    "print(tuned_kwargs)"
   ]
  },
  {
   "cell_type": "code",
   "execution_count": 19,
   "id": "9cf0a6d7",
   "metadata": {
    "ExecuteTime": {
     "end_time": "2022-07-13T10:03:56.503262Z",
     "start_time": "2022-07-13T10:03:56.491445Z"
    },
    "scrolled": false
   },
   "outputs": [],
   "source": [
    "# ищем нужное число деревьев, чтобы не попасть в переобучение\n",
    "model = CatBoostRegressor(**common_kwargs,\n",
    "                          **tuned_kwargs,\n",
    "                         )\n",
    "\n",
    "grid = {'iterations': [1200, 1400, 1600, 1800, 2000, 2200, 2400],\n",
    "       }\n",
    "\n",
    "# grid_search_result = model.grid_search(grid, full_pool, cv=3, plot=True, partition_random_seed=37)"
   ]
  },
  {
   "cell_type": "code",
   "execution_count": 20,
   "id": "91f8c1b6",
   "metadata": {
    "ExecuteTime": {
     "end_time": "2022-07-13T10:03:56.518619Z",
     "start_time": "2022-07-13T10:03:56.506630Z"
    }
   },
   "outputs": [],
   "source": [
    "tuned_kwargs['iterations'] = 2000"
   ]
  },
  {
   "cell_type": "markdown",
   "id": "02046785",
   "metadata": {},
   "source": [
    "# Результат для Kaggle"
   ]
  },
  {
   "cell_type": "code",
   "execution_count": 21,
   "id": "6341f160",
   "metadata": {
    "ExecuteTime": {
     "end_time": "2022-07-13T10:03:56.549280Z",
     "start_time": "2022-07-13T10:03:56.522329Z"
    }
   },
   "outputs": [
    {
     "data": {
      "text/plain": [
       "(6682, 17)"
      ]
     },
     "metadata": {},
     "output_type": "display_data"
    },
    {
     "data": {
      "text/plain": [
       "(6682, 1)"
      ]
     },
     "metadata": {},
     "output_type": "display_data"
    },
    {
     "data": {
      "text/plain": [
       "(1671, 17)"
      ]
     },
     "metadata": {},
     "output_type": "display_data"
    },
    {
     "data": {
      "text/plain": [
       "(1671, 1)"
      ]
     },
     "metadata": {},
     "output_type": "display_data"
    }
   ],
   "source": [
    "display(X.shape, y.shape)\n",
    "y_test = pd.read_csv('sample_submission.csv', usecols=['price']) # это пустой вектор, но нужен для полного обучения\n",
    "display(X_test.shape, y_test.shape)"
   ]
  },
  {
   "cell_type": "code",
   "execution_count": 22,
   "id": "554e3096",
   "metadata": {
    "ExecuteTime": {
     "end_time": "2022-07-13T10:03:56.674129Z",
     "start_time": "2022-07-13T10:03:56.554231Z"
    }
   },
   "outputs": [],
   "source": [
    "# готовим для CatBoost\n",
    "train_pool = Pool(X, y, cat_features=cat_features_list)\n",
    "test_pool = Pool(X_test, y_test, cat_features=cat_features_list)"
   ]
  },
  {
   "cell_type": "code",
   "execution_count": 23,
   "id": "bf695e92",
   "metadata": {
    "ExecuteTime": {
     "end_time": "2022-07-13T10:03:56.689132Z",
     "start_time": "2022-07-13T10:03:56.676133Z"
    }
   },
   "outputs": [
    {
     "name": "stdout",
     "output_type": "stream",
     "text": [
      "{'loss_function': 'MAE', 'eval_metric': 'MAPE', 'logging_level': 'Silent'}\n",
      "{'depth': 8, 'rsm': 1, 'one_hot_max_size': 11, 'random_strength': 1, 'iterations': 2000}\n"
     ]
    }
   ],
   "source": [
    "print(common_kwargs)\n",
    "print(tuned_kwargs)"
   ]
  },
  {
   "cell_type": "code",
   "execution_count": 24,
   "id": "02250781",
   "metadata": {
    "ExecuteTime": {
     "end_time": "2022-07-13T10:05:20.098224Z",
     "start_time": "2022-07-13T10:03:56.692164Z"
    }
   },
   "outputs": [
    {
     "data": {
      "application/vnd.jupyter.widget-view+json": {
       "model_id": "335c1101c8d14e68bb4de4768f63150f",
       "version_major": 2,
       "version_minor": 0
      },
      "text/plain": [
       "MetricVisualizer(layout=Layout(align_self='stretch', height='500px'))"
      ]
     },
     "metadata": {},
     "output_type": "display_data"
    },
    {
     "data": {
      "text/plain": [
       "<catboost.core.CatBoostRegressor at 0x2c1100d7130>"
      ]
     },
     "execution_count": 24,
     "metadata": {},
     "output_type": "execute_result"
    }
   ],
   "source": [
    "# учим модель\n",
    "model = CatBoostRegressor(**common_kwargs,\n",
    "                          **tuned_kwargs,\n",
    "                         )\n",
    "\n",
    "model.fit(train_pool, eval_set=test_pool, logging_level='Silent', plot=True)"
   ]
  },
  {
   "cell_type": "code",
   "execution_count": 25,
   "id": "1bf76893",
   "metadata": {
    "ExecuteTime": {
     "end_time": "2022-07-13T10:05:20.113378Z",
     "start_time": "2022-07-13T10:05:20.100225Z"
    }
   },
   "outputs": [],
   "source": [
    "# предсказываем результат\n",
    "y_test_predict = model.predict(test_pool)\n",
    "# вернём в нормальный масштаб\n",
    "y_test_predict = np.exp(y_test_predict)"
   ]
  },
  {
   "cell_type": "code",
   "execution_count": 26,
   "id": "ebd046fa",
   "metadata": {
    "ExecuteTime": {
     "end_time": "2022-07-13T10:05:20.145210Z",
     "start_time": "2022-07-13T10:05:20.117139Z"
    }
   },
   "outputs": [
    {
     "data": {
      "text/plain": [
       "0    5.576804e+05\n",
       "1    2.413823e+06\n",
       "2    6.310907e+05\n",
       "3    4.967028e+05\n",
       "4    2.669023e+06\n",
       "Name: price, dtype: float64"
      ]
     },
     "execution_count": 26,
     "metadata": {},
     "output_type": "execute_result"
    }
   ],
   "source": [
    "submission = pd.read_csv('sample_submission.csv')\n",
    "submission['price'] = y_test_predict\n",
    "submission.to_csv('submission_catboost.csv', index=False)\n",
    "submission['price'].head()"
   ]
  },
  {
   "cell_type": "code",
   "execution_count": 27,
   "id": "a3e6f9bd",
   "metadata": {
    "ExecuteTime": {
     "end_time": "2022-07-13T10:05:20.317160Z",
     "start_time": "2022-07-13T10:05:20.148382Z"
    }
   },
   "outputs": [],
   "source": [
    "# Сохраним модель\n",
    "model.save_model('best_catboost.cbm')"
   ]
  },
  {
   "cell_type": "code",
   "execution_count": 28,
   "id": "10d8853c",
   "metadata": {
    "ExecuteTime": {
     "end_time": "2022-07-13T10:05:20.349065Z",
     "start_time": "2022-07-13T10:05:20.320101Z"
    }
   },
   "outputs": [
    {
     "data": {
      "text/plain": [
       "0     557000.0\n",
       "1    2413000.0\n",
       "2     631000.0\n",
       "3     496000.0\n",
       "4    2669000.0\n",
       "Name: price, dtype: float64"
      ]
     },
     "execution_count": 28,
     "metadata": {},
     "output_type": "execute_result"
    }
   ],
   "source": [
    "# постобработка\n",
    "submission['price'] = submission['price']//1000*1000\n",
    "submission.to_csv('submission_catboost_post.csv', index=False)\n",
    "submission['price'].head()"
   ]
  },
  {
   "cell_type": "code",
   "execution_count": 29,
   "id": "412cb319",
   "metadata": {
    "ExecuteTime": {
     "end_time": "2022-07-13T10:05:20.365227Z",
     "start_time": "2022-07-13T10:05:20.351024Z"
    }
   },
   "outputs": [],
   "source": [
    "# model = CatBoostRegressor()\n",
    "# model.load_model('best_catboost.cbm')"
   ]
  },
  {
   "cell_type": "code",
   "execution_count": 30,
   "id": "58686a73",
   "metadata": {
    "ExecuteTime": {
     "end_time": "2022-07-13T10:05:20.489464Z",
     "start_time": "2022-07-13T10:05:20.367653Z"
    }
   },
   "outputs": [
    {
     "data": {
      "text/plain": [
       "production_year         18.973441\n",
       "engine_power            15.290441\n",
       "model_year              12.864236\n",
       "mileage                 12.753227\n",
       "engine_displacement      9.116506\n",
       "full_model_name          8.498752\n",
       "fuel_type                4.565574\n",
       "brand                    3.211787\n",
       "color                    3.189138\n",
       "body_type                3.095768\n",
       "drive_type               2.040362\n",
       "n_doors                  2.030079\n",
       "n_owners                 1.868826\n",
       "vehicle_transmission     1.515610\n",
       "ti_own                   0.660638\n",
       "is_original_techpass     0.325451\n",
       "is_lefthand_drive        0.000163\n",
       "dtype: float64"
      ]
     },
     "execution_count": 30,
     "metadata": {},
     "output_type": "execute_result"
    }
   ],
   "source": [
    "pd.Series(model.get_feature_importance(), X.columns).sort_values(ascending=False)"
   ]
  },
  {
   "cell_type": "code",
   "execution_count": null,
   "id": "a3c3acb6",
   "metadata": {},
   "outputs": [],
   "source": []
  }
 ],
 "metadata": {
  "kernelspec": {
   "display_name": "Python 3 (ipykernel)",
   "language": "python",
   "name": "python3"
  },
  "language_info": {
   "codemirror_mode": {
    "name": "ipython",
    "version": 3
   },
   "file_extension": ".py",
   "mimetype": "text/x-python",
   "name": "python",
   "nbconvert_exporter": "python",
   "pygments_lexer": "ipython3",
   "version": "3.8.8"
  },
  "toc": {
   "base_numbering": 1,
   "nav_menu": {},
   "number_sections": true,
   "sideBar": true,
   "skip_h1_title": false,
   "title_cell": "Table of Contents",
   "title_sidebar": "Contents",
   "toc_cell": false,
   "toc_position": {},
   "toc_section_display": true,
   "toc_window_display": true
  }
 },
 "nbformat": 4,
 "nbformat_minor": 5
}
