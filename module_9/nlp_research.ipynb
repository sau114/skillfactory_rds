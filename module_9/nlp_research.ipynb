{
 "cells": [
  {
   "cell_type": "code",
   "execution_count": 29,
   "id": "a21db7a1",
   "metadata": {
    "ExecuteTime": {
     "end_time": "2022-07-08T09:42:49.759409Z",
     "start_time": "2022-07-08T09:42:49.744331Z"
    }
   },
   "outputs": [],
   "source": [
    "# !pip install catboost"
   ]
  },
  {
   "cell_type": "code",
   "execution_count": 30,
   "id": "6ab0813e",
   "metadata": {
    "ExecuteTime": {
     "end_time": "2022-07-08T09:42:49.946951Z",
     "start_time": "2022-07-08T09:42:49.763336Z"
    }
   },
   "outputs": [],
   "source": [
    "# !pip install ipywidgets"
   ]
  },
  {
   "cell_type": "code",
   "execution_count": 31,
   "id": "13dee438",
   "metadata": {
    "ExecuteTime": {
     "end_time": "2022-07-08T09:42:49.962182Z",
     "start_time": "2022-07-08T09:42:49.949794Z"
    }
   },
   "outputs": [],
   "source": [
    "# !python.exe -m pip install --upgrade pip"
   ]
  },
  {
   "cell_type": "code",
   "execution_count": 32,
   "id": "eb62ff0e",
   "metadata": {
    "ExecuteTime": {
     "end_time": "2022-07-08T09:42:49.978013Z",
     "start_time": "2022-07-08T09:42:49.965872Z"
    }
   },
   "outputs": [],
   "source": [
    "# !pip install pymorphy2"
   ]
  },
  {
   "cell_type": "code",
   "execution_count": 33,
   "id": "d5b8ad49",
   "metadata": {
    "ExecuteTime": {
     "end_time": "2022-07-08T09:42:49.993247Z",
     "start_time": "2022-07-08T09:42:49.979908Z"
    }
   },
   "outputs": [],
   "source": [
    "import pandas as pd\n",
    "import numpy as np\n",
    "\n",
    "# from sklearn.feature_extraction.text import CountVectorizer, TfidfVectorizer\n",
    "\n",
    "# from tf.keras.preprocessing.text import Tokenizer\n",
    "\n",
    "from catboost.text_processing import Tokenizer, Dictionary\n",
    "\n",
    "import pymorphy2"
   ]
  },
  {
   "cell_type": "code",
   "execution_count": 34,
   "id": "3cfd126a",
   "metadata": {
    "ExecuteTime": {
     "end_time": "2022-07-08T09:42:50.215349Z",
     "start_time": "2022-07-08T09:42:49.996252Z"
    }
   },
   "outputs": [],
   "source": [
    "text = pd.read_csv('train_preprocessed.csv', usecols=['description', 'time_ownership'])"
   ]
  },
  {
   "cell_type": "code",
   "execution_count": 35,
   "id": "c1cfedfe",
   "metadata": {
    "ExecuteTime": {
     "end_time": "2022-07-08T09:42:50.231249Z",
     "start_time": "2022-07-08T09:42:50.217250Z"
    }
   },
   "outputs": [
    {
     "data": {
      "text/html": [
       "<div>\n",
       "<style scoped>\n",
       "    .dataframe tbody tr th:only-of-type {\n",
       "        vertical-align: middle;\n",
       "    }\n",
       "\n",
       "    .dataframe tbody tr th {\n",
       "        vertical-align: top;\n",
       "    }\n",
       "\n",
       "    .dataframe thead th {\n",
       "        text-align: right;\n",
       "    }\n",
       "</style>\n",
       "<table border=\"1\" class=\"dataframe\">\n",
       "  <thead>\n",
       "    <tr style=\"text-align: right;\">\n",
       "      <th></th>\n",
       "      <th>description</th>\n",
       "      <th>time_ownership</th>\n",
       "    </tr>\n",
       "  </thead>\n",
       "  <tbody>\n",
       "    <tr>\n",
       "      <th>2159</th>\n",
       "      <td>Салон в идеальном состоянии. Машина-немец, про...</td>\n",
       "      <td>NaN</td>\n",
       "    </tr>\n",
       "    <tr>\n",
       "      <th>4216</th>\n",
       "      <td>Только что сделал ТО, с заменой тормозных диск...</td>\n",
       "      <td>3 года и 9 месяцев</td>\n",
       "    </tr>\n",
       "    <tr>\n",
       "      <th>6208</th>\n",
       "      <td>Автомобиль в полном технически исправном состо...</td>\n",
       "      <td>1 год</td>\n",
       "    </tr>\n",
       "    <tr>\n",
       "      <th>2559</th>\n",
       "      <td>Внимание! Только для клиентов AVILON Автомобил...</td>\n",
       "      <td>NaN</td>\n",
       "    </tr>\n",
       "    <tr>\n",
       "      <th>6039</th>\n",
       "      <td>Ограничения из за штрафов , оплачу перед прода...</td>\n",
       "      <td>9 месяцев</td>\n",
       "    </tr>\n",
       "  </tbody>\n",
       "</table>\n",
       "</div>"
      ],
      "text/plain": [
       "                                            description      time_ownership\n",
       "2159  Салон в идеальном состоянии. Машина-немец, про...                 NaN\n",
       "4216  Только что сделал ТО, с заменой тормозных диск...  3 года и 9 месяцев\n",
       "6208  Автомобиль в полном технически исправном состо...               1 год\n",
       "2559  Внимание! Только для клиентов AVILON Автомобил...                 NaN\n",
       "6039  Ограничения из за штрафов , оплачу перед прода...           9 месяцев"
      ]
     },
     "execution_count": 35,
     "metadata": {},
     "output_type": "execute_result"
    }
   ],
   "source": [
    "text.sample(5)"
   ]
  },
  {
   "cell_type": "code",
   "execution_count": 36,
   "id": "97094500",
   "metadata": {
    "ExecuteTime": {
     "end_time": "2022-07-08T09:42:51.152397Z",
     "start_time": "2022-07-08T09:42:50.233961Z"
    }
   },
   "outputs": [
    {
     "data": {
      "text/plain": [
       "0    [авто, на, бодром, ходу, все, работает, отличн...\n",
       "1    [продажа, от, собственника, второй, владелец, ...\n",
       "2    [внимание, только, для, клиентов, avilon, авто...\n",
       "3    [в, комплекте, зимние, колёса, замена, передни...\n",
       "4    [отличный, авто, года, выпуска, кроме, передне...\n",
       "Name: description, dtype: object"
      ]
     },
     "execution_count": 36,
     "metadata": {},
     "output_type": "execute_result"
    }
   ],
   "source": [
    "tknz = Tokenizer(lowercasing=True,\n",
    "                 separator_type='BySense',\n",
    "                 token_types=['Word'],\n",
    "#                  lemmatizing=True,  # роняет jupyter!\n",
    "#                  number_process_policy=None,\n",
    "#                  number_token=None,\n",
    "#                  delimiter=None,\n",
    "#                  split_by_set=None,\n",
    "#                  skip_empty=None,\n",
    "#                  sub_tokens_policy=None,\n",
    "#                  languages='Russian',\n",
    "                )\n",
    "description = text['description'].apply(tknz.tokenize)\n",
    "description.head(5)"
   ]
  },
  {
   "cell_type": "code",
   "execution_count": 37,
   "id": "f7bb9e88",
   "metadata": {
    "ExecuteTime": {
     "end_time": "2022-07-08T09:42:51.168423Z",
     "start_time": "2022-07-08T09:42:51.155299Z"
    },
    "scrolled": true
   },
   "outputs": [
    {
     "data": {
      "text/plain": [
       "['внимание',\n",
       " 'только',\n",
       " 'для',\n",
       " 'клиентов',\n",
       " 'avilon',\n",
       " 'автомобили',\n",
       " 'с',\n",
       " 'пробегом',\n",
       " 'мы',\n",
       " 'предлагаем',\n",
       " 'специальную',\n",
       " 'кредитную',\n",
       " 'программу',\n",
       " 'гарантия',\n",
       " 'минимального',\n",
       " 'ежемесячного',\n",
       " 'платежа',\n",
       " 'условия',\n",
       " 'кредитования',\n",
       " 'первоначальный',\n",
       " 'взнос',\n",
       " 'от',\n",
       " 'размер',\n",
       " 'процентной',\n",
       " 'ставки',\n",
       " 'после',\n",
       " 'снижения',\n",
       " 'перерасчета',\n",
       " 'в',\n",
       " 'конце',\n",
       " 'срока',\n",
       " 'кредита',\n",
       " 'срок',\n",
       " 'кредита',\n",
       " 'до',\n",
       " 'месяцев',\n",
       " 'до',\n",
       " 'лет',\n",
       " 'увеличенная',\n",
       " 'дополнительная',\n",
       " 'скидка',\n",
       " 'до',\n",
       " 'при',\n",
       " 'обмене',\n",
       " 'своего',\n",
       " 'автомобиля',\n",
       " 'на',\n",
       " 'наш',\n",
       " 'по',\n",
       " 'системе',\n",
       " 'trade-in',\n",
       " 'до',\n",
       " 'при',\n",
       " 'оформлении',\n",
       " 'кредита',\n",
       " 'по',\n",
       " 'сниженной',\n",
       " 'ставки',\n",
       " 'от',\n",
       " 'банка-партнёра',\n",
       " 'и',\n",
       " 'полиса',\n",
       " 'каско',\n",
       " 'все',\n",
       " 'скидки',\n",
       " 'и',\n",
       " 'спецпредложения',\n",
       " 'суммируются',\n",
       " 'автомобиль',\n",
       " 'mercedes-benz',\n",
       " 'e-klasse',\n",
       " 'от',\n",
       " 'avilon',\n",
       " 'автомобили',\n",
       " 'с',\n",
       " 'пробегом',\n",
       " 'это',\n",
       " 'обслуживание',\n",
       " 'и',\n",
       " 'предпродажная',\n",
       " 'подготовка',\n",
       " 'только',\n",
       " 'на',\n",
       " 'сертифицированных',\n",
       " 'сервисных',\n",
       " 'станциях',\n",
       " 'с',\n",
       " 'предоставлением',\n",
       " 'официальной',\n",
       " 'диагностики',\n",
       " 'обязательная',\n",
       " 'юридическая',\n",
       " 'проверка',\n",
       " 'автомобиля',\n",
       " 'что',\n",
       " 'обеспечивает',\n",
       " 'полную',\n",
       " 'прозрачность',\n",
       " 'сервисной',\n",
       " 'истории',\n",
       " 'и',\n",
       " 'исключает',\n",
       " 'наличие',\n",
       " 'финансового',\n",
       " 'обременения',\n",
       " 'купи',\n",
       " 'или',\n",
       " 'продай',\n",
       " 'любой',\n",
       " 'авто',\n",
       " 'официально',\n",
       " 'в',\n",
       " 'avilon',\n",
       " 'автомобили',\n",
       " 'с',\n",
       " 'пробегом',\n",
       " 'позвоните',\n",
       " 'нам',\n",
       " 'и',\n",
       " 'все',\n",
       " 'узнайте',\n",
       " 'подробнее',\n",
       " 'ти',\n",
       " 'уникальный',\n",
       " 'код',\n",
       " 'автомобиля',\n",
       " 'hfcafdo']"
      ]
     },
     "execution_count": 37,
     "metadata": {},
     "output_type": "execute_result"
    }
   ],
   "source": [
    "description[2]"
   ]
  },
  {
   "cell_type": "code",
   "execution_count": 44,
   "id": "53bcabe4",
   "metadata": {
    "ExecuteTime": {
     "end_time": "2022-07-08T09:44:51.911382Z",
     "start_time": "2022-07-08T09:44:51.568010Z"
    }
   },
   "outputs": [],
   "source": [
    "morph = pymorphy2.MorphAnalyzer()\n",
    "POS2DROP = {'PREP', 'CONJ', 'PRCL', 'INTJ'}  # set\n",
    "    \n",
    "def lemmatize_list(words: list, min_len: int=1) -> list:\n",
    "    '''\n",
    "    Лемматизируем и выкидываем предлоги, союзы, частицы, междометия и просто короткие слова\n",
    "    '''\n",
    "    lemm_words = []\n",
    "    for w in words:\n",
    "        p = morph.parse(w)[0]  # наиболее вероятный вариант\n",
    "        if p.tag.POS not in POS2DROP and len(w) > min_len:\n",
    "            lemm_words.append(p.normal_form)\n",
    "    return lemm_words"
   ]
  },
  {
   "cell_type": "code",
   "execution_count": 17,
   "id": "6e6be2ab",
   "metadata": {
    "ExecuteTime": {
     "end_time": "2022-07-08T09:38:45.011919Z",
     "start_time": "2022-07-08T09:35:33.720434Z"
    }
   },
   "outputs": [],
   "source": [
    "lemm_description = description.map(lemmatize_list)"
   ]
  },
  {
   "cell_type": "code",
   "execution_count": 18,
   "id": "baca572a",
   "metadata": {
    "ExecuteTime": {
     "end_time": "2022-07-08T09:38:45.038784Z",
     "start_time": "2022-07-08T09:38:45.016225Z"
    }
   },
   "outputs": [
    {
     "data": {
      "text/plain": [
       "0       [авто, бодрый, ход, работать, отлично, электри...\n",
       "1       [продажа, собственник, второй, владелец, птс, ...\n",
       "2       [внимание, только, клиент, avilon, автомобиль,...\n",
       "3       [комплект, зимний, колесо, замена, передний, т...\n",
       "4       [отличный, авто, год, выпуск, передний, левый,...\n",
       "                              ...                        \n",
       "6677    [продаваться, любимый, автомобиль, год, эксплу...\n",
       "6678    [купить, официальный, дилер, третий, владелец,...\n",
       "6679    [торг, место, работать, сборка, немецкий, рези...\n",
       "6680    [автомобиль, отличный, состояние, авто, семья,...\n",
       "6681    [удлинённый, заводский, pullman, база, правиль...\n",
       "Name: description, Length: 6682, dtype: object"
      ]
     },
     "execution_count": 18,
     "metadata": {},
     "output_type": "execute_result"
    }
   ],
   "source": [
    "lemm_description"
   ]
  },
  {
   "cell_type": "code",
   "execution_count": 25,
   "id": "fa78d7a0",
   "metadata": {
    "ExecuteTime": {
     "end_time": "2022-07-08T09:40:04.779189Z",
     "start_time": "2022-07-08T09:40:04.771215Z"
    }
   },
   "outputs": [
    {
     "data": {
      "text/plain": [
       "array([list(['заводский', 'лакокрасочный', 'покрытие', 'автомобиль', 'проверить', 'пункт', 'автокредит', 'специальный', 'ставка', 'ауди', 'центр', 'север', 'официальный', 'дилер', 'audi', 'входящий', 'группа', 'компания', 'рольф', 'являться', 'один', 'крупный', 'дилер', 'европа', 'предлагать', 'вы', 'ряд', 'услуга', 'покупка', 'продажа', 'автомобиль', 'пробег', 'протяжение', 'многий', 'год', 'наш', 'дилерский', 'центр', 'являться', 'лидер', 'продажа', 'автомобиль', 'пробег', 'весь', 'дилер', 'audi', 'россия', 'предоставлять', 'клиент', 'самый', 'большой', 'выбор', 'автомобиль', 'пробег', 'audi', 'другой', 'марка', 'каждый', 'автомобиль', 'проходить', 'тщательный', 'диагностик', 'подготовка', 'гарантировать', 'находиться', 'отличный', 'состояние', 'убедиться', 'правильный', 'выбор', 'вы', 'есть', 'возможность', 'пройти', 'тест-драйв', 'ознакомительный', 'поездка', 'интересовать', 'автомобиль', 'вы', 'смочь', 'ознакомиться', 'автомобиль', 'выходить', 'дом', 'наш', 'менеджер', 'провести', 'online', 'презентация', 'видеозвонок', 'показать', 'выбрать', 'автомобиль', 'ауди', 'центр', 'север', 'представлять', 'уникальный', 'предложение', 'кредитование', 'автомобиль', 'пробег', 'индивидуальный', 'условие', 'специалист', 'компания', 'подобрать', 'вы', 'хороший', 'условие', 'кредитование', 'более', 'проверить', 'автомобиль', 'пробег', 'гарантия', 'год', 'ждать', 'вы', 'сайт', 'rolf-probeg', 'мобильный', 'приложение', 'мой', 'рольф'])],\n",
       "      dtype=object)"
      ]
     },
     "execution_count": 25,
     "metadata": {},
     "output_type": "execute_result"
    }
   ],
   "source": [
    "lemm_description.sample().values"
   ]
  },
  {
   "cell_type": "code",
   "execution_count": 64,
   "id": "2e449f5c",
   "metadata": {
    "ExecuteTime": {
     "end_time": "2022-07-08T10:13:59.305837Z",
     "start_time": "2022-07-08T10:13:59.274838Z"
    }
   },
   "outputs": [
    {
     "data": {
      "text/plain": [
       "0                          []\n",
       "1     [8, лет, и, 6, месяцев]\n",
       "2                          []\n",
       "3    [4, года, и, 9, месяцев]\n",
       "4    [2, года, и, 9, месяцев]\n",
       "Name: time_ownership, dtype: object"
      ]
     },
     "execution_count": 64,
     "metadata": {},
     "output_type": "execute_result"
    }
   ],
   "source": [
    "tknz = Tokenizer(lowercasing=True,\n",
    "                 separator_type='BySense',\n",
    "                 token_types=['Word', 'Number'],\n",
    "                )\n",
    "ownership = text['time_ownership'].fillna('').apply(tknz.tokenize)\n",
    "ownership.head(5)"
   ]
  },
  {
   "cell_type": "code",
   "execution_count": 46,
   "id": "af45c848",
   "metadata": {
    "ExecuteTime": {
     "end_time": "2022-07-08T09:45:44.696162Z",
     "start_time": "2022-07-08T09:45:42.166447Z"
    }
   },
   "outputs": [],
   "source": [
    "# lemm_ownership = ownership.apply(lambda x : lemmatize_list(x, 0))"
   ]
  },
  {
   "cell_type": "code",
   "execution_count": 61,
   "id": "68bb5277",
   "metadata": {
    "ExecuteTime": {
     "end_time": "2022-07-08T10:06:49.817164Z",
     "start_time": "2022-07-08T10:06:49.805130Z"
    }
   },
   "outputs": [],
   "source": [
    "def words2time(words: list) -> float:\n",
    "    '''\n",
    "    Получает на входе токенизированны список типа времени владения.\n",
    "    Считает время владения в целых годах. Для пустых данных возвращает -1.\n",
    "    '''\n",
    "    if not words:\n",
    "        return -1.0\n",
    "    lemm_words = lemmatize_list(words, 0)\n",
    "    time = 0.0\n",
    "    for w in reversed(lemm_words):\n",
    "        if w == 'месяц':\n",
    "            mult = 1/12\n",
    "        elif w == 'год':\n",
    "            mult = 1.0\n",
    "        elif w.isdigit():\n",
    "            time += int(w) * mult\n",
    "        else:\n",
    "            mult = 0.0\n",
    "    return time"
   ]
  },
  {
   "cell_type": "code",
   "execution_count": 62,
   "id": "8ed42a8b",
   "metadata": {
    "ExecuteTime": {
     "end_time": "2022-07-08T10:06:53.147102Z",
     "start_time": "2022-07-08T10:06:50.537028Z"
    }
   },
   "outputs": [],
   "source": [
    "ownership_ti = ownership.map(words2time)"
   ]
  },
  {
   "cell_type": "code",
   "execution_count": 63,
   "id": "67f92b31",
   "metadata": {
    "ExecuteTime": {
     "end_time": "2022-07-08T10:06:58.366907Z",
     "start_time": "2022-07-08T10:06:58.358131Z"
    }
   },
   "outputs": [
    {
     "data": {
      "text/plain": [
       "0      -1.000000\n",
       "1       8.500000\n",
       "2      -1.000000\n",
       "3       4.750000\n",
       "4       2.750000\n",
       "          ...   \n",
       "6677   -1.000000\n",
       "6678    2.166667\n",
       "6679    2.166667\n",
       "6680   -1.000000\n",
       "6681   -1.000000\n",
       "Name: time_ownership, Length: 6682, dtype: float64"
      ]
     },
     "execution_count": 63,
     "metadata": {},
     "output_type": "execute_result"
    }
   ],
   "source": [
    "ownership_ti"
   ]
  },
  {
   "cell_type": "code",
   "execution_count": null,
   "id": "85800471",
   "metadata": {},
   "outputs": [],
   "source": []
  }
 ],
 "metadata": {
  "kernelspec": {
   "display_name": "Python 3 (ipykernel)",
   "language": "python",
   "name": "python3"
  },
  "language_info": {
   "codemirror_mode": {
    "name": "ipython",
    "version": 3
   },
   "file_extension": ".py",
   "mimetype": "text/x-python",
   "name": "python",
   "nbconvert_exporter": "python",
   "pygments_lexer": "ipython3",
   "version": "3.8.8"
  },
  "toc": {
   "base_numbering": 1,
   "nav_menu": {},
   "number_sections": true,
   "sideBar": true,
   "skip_h1_title": false,
   "title_cell": "Table of Contents",
   "title_sidebar": "Contents",
   "toc_cell": false,
   "toc_position": {},
   "toc_section_display": true,
   "toc_window_display": false
  }
 },
 "nbformat": 4,
 "nbformat_minor": 5
}
