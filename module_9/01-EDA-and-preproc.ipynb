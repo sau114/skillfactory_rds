{
 "cells": [
  {
   "cell_type": "markdown",
   "id": "f231143f",
   "metadata": {},
   "source": [
    "# Импорт библиотек"
   ]
  },
  {
   "cell_type": "code",
   "execution_count": 1,
   "id": "e76d3f75",
   "metadata": {
    "ExecuteTime": {
     "end_time": "2022-07-06T15:19:06.044155Z",
     "start_time": "2022-07-06T15:19:02.884684Z"
    }
   },
   "outputs": [],
   "source": [
    "import pandas as pd\n",
    "import numpy as np\n",
    "from pandas_profiling import ProfileReport\n",
    "import re\n",
    "\n",
    "import matplotlib.pyplot as plt\n",
    "%matplotlib inline  "
   ]
  },
  {
   "cell_type": "markdown",
   "id": "1b03c54e",
   "metadata": {},
   "source": [
    "# Загружаем данные"
   ]
  },
  {
   "cell_type": "markdown",
   "id": "2a77e34f",
   "metadata": {},
   "source": [
    "## Мне только посмотреть\n",
    "\n",
    "Это соревнование - продолжение одного из предыдущих.\n",
    "Данные для этого соревнования уже чистые, поэтому будем обрабатывать train и test одновременно."
   ]
  },
  {
   "cell_type": "code",
   "execution_count": 2,
   "id": "17ee90c5",
   "metadata": {
    "ExecuteTime": {
     "end_time": "2022-07-06T15:19:06.384618Z",
     "start_time": "2022-07-06T15:19:06.046154Z"
    },
    "scrolled": true
   },
   "outputs": [],
   "source": [
    "data = pd.concat([pd.read_csv('train.csv').assign(source='train'), \n",
    "                  pd.read_csv('test.csv').assign(source='test'),\n",
    "                 ], axis=0, ignore_index=True)\n",
    "data['price'] = data['price'].fillna(0.0)"
   ]
  },
  {
   "cell_type": "code",
   "execution_count": 3,
   "id": "611d6122",
   "metadata": {
    "ExecuteTime": {
     "end_time": "2022-07-06T15:19:06.416463Z",
     "start_time": "2022-07-06T15:19:06.387468Z"
    }
   },
   "outputs": [
    {
     "data": {
      "text/html": [
       "<div>\n",
       "<style scoped>\n",
       "    .dataframe tbody tr th:only-of-type {\n",
       "        vertical-align: middle;\n",
       "    }\n",
       "\n",
       "    .dataframe tbody tr th {\n",
       "        vertical-align: top;\n",
       "    }\n",
       "\n",
       "    .dataframe thead th {\n",
       "        text-align: right;\n",
       "    }\n",
       "</style>\n",
       "<table border=\"1\" class=\"dataframe\">\n",
       "  <thead>\n",
       "    <tr style=\"text-align: right;\">\n",
       "      <th></th>\n",
       "      <th>3509</th>\n",
       "      <th>58</th>\n",
       "      <th>869</th>\n",
       "    </tr>\n",
       "  </thead>\n",
       "  <tbody>\n",
       "    <tr>\n",
       "      <th>bodyType</th>\n",
       "      <td>седан</td>\n",
       "      <td>седан</td>\n",
       "      <td>внедорожник 5 дв.</td>\n",
       "    </tr>\n",
       "    <tr>\n",
       "      <th>brand</th>\n",
       "      <td>AUDI</td>\n",
       "      <td>BMW</td>\n",
       "      <td>AUDI</td>\n",
       "    </tr>\n",
       "    <tr>\n",
       "      <th>color</th>\n",
       "      <td>чёрный</td>\n",
       "      <td>чёрный</td>\n",
       "      <td>серый</td>\n",
       "    </tr>\n",
       "    <tr>\n",
       "      <th>description</th>\n",
       "      <td>Пробег 180000 реальный,машина полностью обслуж...</td>\n",
       "      <td>Продаётся BMW 525 d xdrive, два ключа. Я собст...</td>\n",
       "      <td>Привезён 3-х летним из Германии. В России я ед...</td>\n",
       "    </tr>\n",
       "    <tr>\n",
       "      <th>engineDisplacement</th>\n",
       "      <td>4.2 LTR</td>\n",
       "      <td>2.0 LTR</td>\n",
       "      <td>3.0 LTR</td>\n",
       "    </tr>\n",
       "    <tr>\n",
       "      <th>enginePower</th>\n",
       "      <td>350 N12</td>\n",
       "      <td>218 N12</td>\n",
       "      <td>238 N12</td>\n",
       "    </tr>\n",
       "    <tr>\n",
       "      <th>fuelType</th>\n",
       "      <td>бензин</td>\n",
       "      <td>дизель</td>\n",
       "      <td>дизель</td>\n",
       "    </tr>\n",
       "    <tr>\n",
       "      <th>mileage</th>\n",
       "      <td>180000</td>\n",
       "      <td>119458</td>\n",
       "      <td>255000</td>\n",
       "    </tr>\n",
       "    <tr>\n",
       "      <th>modelDate</th>\n",
       "      <td>2005</td>\n",
       "      <td>2013</td>\n",
       "      <td>2009</td>\n",
       "    </tr>\n",
       "    <tr>\n",
       "      <th>model_info</th>\n",
       "      <td>A8</td>\n",
       "      <td>5ER</td>\n",
       "      <td>Q7</td>\n",
       "    </tr>\n",
       "    <tr>\n",
       "      <th>name</th>\n",
       "      <td>Long 4.2 AT (350 л.с.) 4WD</td>\n",
       "      <td>525d xDrive 2.0d AT (218 л.с.) 4WD</td>\n",
       "      <td>3.0d AT (238 л.с.) 4WD</td>\n",
       "    </tr>\n",
       "    <tr>\n",
       "      <th>numberOfDoors</th>\n",
       "      <td>4</td>\n",
       "      <td>4</td>\n",
       "      <td>5</td>\n",
       "    </tr>\n",
       "    <tr>\n",
       "      <th>price</th>\n",
       "      <td>510000.0</td>\n",
       "      <td>1320000.0</td>\n",
       "      <td>1350000.0</td>\n",
       "    </tr>\n",
       "    <tr>\n",
       "      <th>productionDate</th>\n",
       "      <td>2007</td>\n",
       "      <td>2013</td>\n",
       "      <td>2009</td>\n",
       "    </tr>\n",
       "    <tr>\n",
       "      <th>sell_id</th>\n",
       "      <td>1099940708</td>\n",
       "      <td>1098900974</td>\n",
       "      <td>1096883644</td>\n",
       "    </tr>\n",
       "    <tr>\n",
       "      <th>vehicleConfiguration</th>\n",
       "      <td>SEDAN AUTOMATIC 4.2</td>\n",
       "      <td>SEDAN AUTOMATIC 2.0</td>\n",
       "      <td>ALLROAD_5_DOORS AUTOMATIC 3.0</td>\n",
       "    </tr>\n",
       "    <tr>\n",
       "      <th>vehicleTransmission</th>\n",
       "      <td>автоматическая</td>\n",
       "      <td>автоматическая</td>\n",
       "      <td>автоматическая</td>\n",
       "    </tr>\n",
       "    <tr>\n",
       "      <th>Владельцы</th>\n",
       "      <td>3 или более</td>\n",
       "      <td>3 или более</td>\n",
       "      <td>1 владелец</td>\n",
       "    </tr>\n",
       "    <tr>\n",
       "      <th>Владение</th>\n",
       "      <td>NaN</td>\n",
       "      <td>NaN</td>\n",
       "      <td>7 лет и 4 месяца</td>\n",
       "    </tr>\n",
       "    <tr>\n",
       "      <th>ПТС</th>\n",
       "      <td>Дубликат</td>\n",
       "      <td>Оригинал</td>\n",
       "      <td>Оригинал</td>\n",
       "    </tr>\n",
       "    <tr>\n",
       "      <th>Привод</th>\n",
       "      <td>полный</td>\n",
       "      <td>полный</td>\n",
       "      <td>полный</td>\n",
       "    </tr>\n",
       "    <tr>\n",
       "      <th>Руль</th>\n",
       "      <td>Левый</td>\n",
       "      <td>Левый</td>\n",
       "      <td>Левый</td>\n",
       "    </tr>\n",
       "    <tr>\n",
       "      <th>source</th>\n",
       "      <td>train</td>\n",
       "      <td>train</td>\n",
       "      <td>train</td>\n",
       "    </tr>\n",
       "  </tbody>\n",
       "</table>\n",
       "</div>"
      ],
      "text/plain": [
       "                                                                   3509  \\\n",
       "bodyType                                                          седан   \n",
       "brand                                                              AUDI   \n",
       "color                                                            чёрный   \n",
       "description           Пробег 180000 реальный,машина полностью обслуж...   \n",
       "engineDisplacement                                              4.2 LTR   \n",
       "enginePower                                                     350 N12   \n",
       "fuelType                                                         бензин   \n",
       "mileage                                                          180000   \n",
       "modelDate                                                          2005   \n",
       "model_info                                                           A8   \n",
       "name                                         Long 4.2 AT (350 л.с.) 4WD   \n",
       "numberOfDoors                                                         4   \n",
       "price                                                          510000.0   \n",
       "productionDate                                                     2007   \n",
       "sell_id                                                      1099940708   \n",
       "vehicleConfiguration                                SEDAN AUTOMATIC 4.2   \n",
       "vehicleTransmission                                      автоматическая   \n",
       "Владельцы                                                   3 или более   \n",
       "Владение                                                            NaN   \n",
       "ПТС                                                            Дубликат   \n",
       "Привод                                                           полный   \n",
       "Руль                                                              Левый   \n",
       "source                                                            train   \n",
       "\n",
       "                                                                   58    \\\n",
       "bodyType                                                          седан   \n",
       "brand                                                               BMW   \n",
       "color                                                            чёрный   \n",
       "description           Продаётся BMW 525 d xdrive, два ключа. Я собст...   \n",
       "engineDisplacement                                              2.0 LTR   \n",
       "enginePower                                                     218 N12   \n",
       "fuelType                                                         дизель   \n",
       "mileage                                                          119458   \n",
       "modelDate                                                          2013   \n",
       "model_info                                                          5ER   \n",
       "name                                 525d xDrive 2.0d AT (218 л.с.) 4WD   \n",
       "numberOfDoors                                                         4   \n",
       "price                                                         1320000.0   \n",
       "productionDate                                                     2013   \n",
       "sell_id                                                      1098900974   \n",
       "vehicleConfiguration                                SEDAN AUTOMATIC 2.0   \n",
       "vehicleTransmission                                      автоматическая   \n",
       "Владельцы                                                   3 или более   \n",
       "Владение                                                            NaN   \n",
       "ПТС                                                            Оригинал   \n",
       "Привод                                                           полный   \n",
       "Руль                                                              Левый   \n",
       "source                                                            train   \n",
       "\n",
       "                                                                   869   \n",
       "bodyType                                              внедорожник 5 дв.  \n",
       "brand                                                              AUDI  \n",
       "color                                                             серый  \n",
       "description           Привезён 3-х летним из Германии. В России я ед...  \n",
       "engineDisplacement                                              3.0 LTR  \n",
       "enginePower                                                     238 N12  \n",
       "fuelType                                                         дизель  \n",
       "mileage                                                          255000  \n",
       "modelDate                                                          2009  \n",
       "model_info                                                           Q7  \n",
       "name                                             3.0d AT (238 л.с.) 4WD  \n",
       "numberOfDoors                                                         5  \n",
       "price                                                         1350000.0  \n",
       "productionDate                                                     2009  \n",
       "sell_id                                                      1096883644  \n",
       "vehicleConfiguration                      ALLROAD_5_DOORS AUTOMATIC 3.0  \n",
       "vehicleTransmission                                      автоматическая  \n",
       "Владельцы                                                    1 владелец  \n",
       "Владение                                               7 лет и 4 месяца  \n",
       "ПТС                                                            Оригинал  \n",
       "Привод                                                           полный  \n",
       "Руль                                                              Левый  \n",
       "source                                                            train  "
      ]
     },
     "execution_count": 3,
     "metadata": {},
     "output_type": "execute_result"
    }
   ],
   "source": [
    "data.sample(3).T"
   ]
  },
  {
   "cell_type": "code",
   "execution_count": 4,
   "id": "fc7e69a1",
   "metadata": {
    "ExecuteTime": {
     "end_time": "2022-07-06T15:19:06.463809Z",
     "start_time": "2022-07-06T15:19:06.420088Z"
    }
   },
   "outputs": [
    {
     "name": "stdout",
     "output_type": "stream",
     "text": [
      "<class 'pandas.core.frame.DataFrame'>\n",
      "RangeIndex: 8353 entries, 0 to 8352\n",
      "Data columns (total 23 columns):\n",
      " #   Column                Non-Null Count  Dtype  \n",
      "---  ------                --------------  -----  \n",
      " 0   bodyType              8353 non-null   object \n",
      " 1   brand                 8353 non-null   object \n",
      " 2   color                 8353 non-null   object \n",
      " 3   description           8353 non-null   object \n",
      " 4   engineDisplacement    8353 non-null   object \n",
      " 5   enginePower           8353 non-null   object \n",
      " 6   fuelType              8353 non-null   object \n",
      " 7   mileage               8353 non-null   int64  \n",
      " 8   modelDate             8353 non-null   int64  \n",
      " 9   model_info            8353 non-null   object \n",
      " 10  name                  8353 non-null   object \n",
      " 11  numberOfDoors         8353 non-null   int64  \n",
      " 12  price                 8353 non-null   float64\n",
      " 13  productionDate        8353 non-null   int64  \n",
      " 14  sell_id               8353 non-null   int64  \n",
      " 15  vehicleConfiguration  8353 non-null   object \n",
      " 16  vehicleTransmission   8353 non-null   object \n",
      " 17  Владельцы             8352 non-null   object \n",
      " 18  Владение              2935 non-null   object \n",
      " 19  ПТС                   8353 non-null   object \n",
      " 20  Привод                8353 non-null   object \n",
      " 21  Руль                  8353 non-null   object \n",
      " 22  source                8353 non-null   object \n",
      "dtypes: float64(1), int64(5), object(17)\n",
      "memory usage: 1.5+ MB\n"
     ]
    }
   ],
   "source": [
    "data.info()"
   ]
  },
  {
   "cell_type": "code",
   "execution_count": 5,
   "id": "e278e319",
   "metadata": {
    "ExecuteTime": {
     "end_time": "2022-07-06T15:19:06.479816Z",
     "start_time": "2022-07-06T15:19:06.465712Z"
    }
   },
   "outputs": [],
   "source": [
    "# пропуски есть по владельцам и срокам владения"
   ]
  },
  {
   "cell_type": "markdown",
   "id": "b15b8584",
   "metadata": {},
   "source": [
    "## Слегка причешем"
   ]
  },
  {
   "cell_type": "code",
   "execution_count": 6,
   "id": "f7268a70",
   "metadata": {
    "ExecuteTime": {
     "end_time": "2022-07-06T15:19:06.495761Z",
     "start_time": "2022-07-06T15:19:06.481713Z"
    }
   },
   "outputs": [],
   "source": [
    "# приведём названия признаков к единому стилю\n",
    "rule_rename = {'bodyType': 'body_type',\n",
    "               'engineDisplacement': 'engine_displacement',\n",
    "               'enginePower': 'engine_power',\n",
    "               'fuelType': 'fuel_type',\n",
    "               'modelDate': 'model_year',\n",
    "               'model': 'model_name',\n",
    "               'numberOfDoors': 'n_doors',\n",
    "               'productionDate': 'production_year',\n",
    "               'vehicleConfiguration': 'vehicle_configuration',\n",
    "               'vehicleTransmission': 'vehicle_transmission',\n",
    "               'Владельцы': 'n_owners',\n",
    "               'Владение': 'time_ownership',\n",
    "               'ПТС': 'vehicle_passport',\n",
    "               'Привод': 'drive_type',\n",
    "               'Руль': 'wheel',\n",
    "              }\n",
    "data.rename(columns=rule_rename, inplace=True)"
   ]
  },
  {
   "cell_type": "code",
   "execution_count": 7,
   "id": "74694e97",
   "metadata": {
    "ExecuteTime": {
     "end_time": "2022-07-06T15:19:06.527849Z",
     "start_time": "2022-07-06T15:19:06.498714Z"
    }
   },
   "outputs": [],
   "source": [
    "# мощность двигателя сделаем числом\n",
    "data['engine_power'] = (data['engine_power']\n",
    "                        .str.replace(' N12', '')  # не знаю, что за единица измерения, но л.с. по смыслу\n",
    "                        .astype('int')\n",
    "                       )"
   ]
  },
  {
   "cell_type": "code",
   "execution_count": 8,
   "id": "47464f32",
   "metadata": {
    "ExecuteTime": {
     "end_time": "2022-07-06T15:19:06.559713Z",
     "start_time": "2022-07-06T15:19:06.530992Z"
    }
   },
   "outputs": [],
   "source": [
    "# объем двигателя сделаем числом\n",
    "data['engine_displacement'] = (data['engine_displacement']\n",
    "                               .str.replace('undefined', '0.0')  # электрички\n",
    "                               .str.replace(' LTR', '')\n",
    "                               .astype('float')\n",
    "                              )"
   ]
  },
  {
   "cell_type": "markdown",
   "id": "bebb5ca0",
   "metadata": {},
   "source": [
    "## И посмотрим повнимательнее"
   ]
  },
  {
   "cell_type": "code",
   "execution_count": 9,
   "id": "6b53271d",
   "metadata": {
    "ExecuteTime": {
     "end_time": "2022-07-06T15:19:06.828061Z",
     "start_time": "2022-07-06T15:19:06.563179Z"
    }
   },
   "outputs": [
    {
     "data": {
      "text/plain": [
       "5    3854\n",
       "4    3636\n",
       "2     802\n",
       "3      61\n",
       "Name: n_doors, dtype: int64"
      ]
     },
     "metadata": {},
     "output_type": "display_data"
    },
    {
     "data": {
      "text/plain": [
       "<AxesSubplot:>"
      ]
     },
     "execution_count": 9,
     "metadata": {},
     "output_type": "execute_result"
    },
    {
     "data": {
      "image/png": "[encoded data removed]",
      "text/plain": [
       "<Figure size 432x288 with 1 Axes>"
      ]
     },
     "metadata": {
      "needs_background": "light"
     },
     "output_type": "display_data"
    }
   ],
   "source": [
    "# pandas profiling спотыкается на n_doors\n",
    "display(data['n_doors'].value_counts())\n",
    "data['n_doors'].hist()"
   ]
  },
  {
   "cell_type": "code",
   "execution_count": 10,
   "id": "8c1ca255",
   "metadata": {
    "ExecuteTime": {
     "end_time": "2022-07-06T15:19:06.859170Z",
     "start_time": "2022-07-06T15:19:06.833063Z"
    }
   },
   "outputs": [],
   "source": [
    "data_4profile = data.drop(columns=['n_doors', \n",
    "                                   'description',\n",
    "                                   'name',\n",
    "                                   'sell_id',\n",
    "                                   'vehicle_configuration',\n",
    "                                   'time_ownership',\n",
    "                                  ])\n",
    "data_profile = ProfileReport(data_4profile, title=\"Train dataset profile\")"
   ]
  },
  {
   "cell_type": "code",
   "execution_count": 11,
   "id": "5252ef92",
   "metadata": {
    "ExecuteTime": {
     "end_time": "2022-07-06T15:19:06.875091Z",
     "start_time": "2022-07-06T15:19:06.862064Z"
    }
   },
   "outputs": [],
   "source": [
    "# data_profile.to_notebook_iframe()"
   ]
  },
  {
   "cell_type": "markdown",
   "id": "9195226b",
   "metadata": {},
   "source": [
    "Цена сильнее всего зависит от пробега и года.\n",
    "\n",
    "? Год модели и год выпуска коррелируют, оставим только год выпуска.\n",
    "\n",
    "? Мощность и объем двигателя коррелируют, оставим только мощность.\n",
    "\n"
   ]
  },
  {
   "cell_type": "markdown",
   "id": "27f48ff6",
   "metadata": {},
   "source": [
    "# Подготовка данных"
   ]
  },
  {
   "cell_type": "markdown",
   "id": "dae454e3",
   "metadata": {},
   "source": [
    "## Копируем основу"
   ]
  },
  {
   "cell_type": "code",
   "execution_count": 12,
   "id": "735b50d2",
   "metadata": {
    "ExecuteTime": {
     "end_time": "2022-07-06T15:19:06.891113Z",
     "start_time": "2022-07-06T15:19:06.878063Z"
    }
   },
   "outputs": [],
   "source": [
    "# удалим требующие обработки и сильно скоррелированные\n",
    "data_1 = data.drop(columns=['vehicle_passport',       # сделаем новый\n",
    "                            'wheel',                  # сделаем новый\n",
    "#                             'brand',                  # будет частью другого\n",
    "                            'model_info',             # будет частью другого\n",
    "                            'name',                   # все данные уже есть в других\n",
    "                            'vehicle_configuration',  # все данные уже есть в других\n",
    "                        #     'body_type', \n",
    "                        #     'color', \n",
    "                        #     'description', \n",
    "                        #     'engine_displacement',\n",
    "                        #     'engine_power', \n",
    "                        #     'fuel_type', \n",
    "                        #     'mileage', \n",
    "                        #     'model_year', \n",
    "                        #     'n_doors', \n",
    "                        #     'price', \n",
    "                        #     'production_year', \n",
    "                        #     'sell_id',\n",
    "                        #     'vehicle_transmission', \n",
    "                        #     'n_owners',\n",
    "                        #     'time_ownership', \n",
    "                        #     'drive_type', \n",
    "                           ])"
   ]
  },
  {
   "cell_type": "markdown",
   "id": "440c71ba",
   "metadata": {},
   "source": [
    "## Простые обработки признаков"
   ]
  },
  {
   "cell_type": "code",
   "execution_count": 13,
   "id": "19369731",
   "metadata": {
    "ExecuteTime": {
     "end_time": "2022-07-06T15:19:06.923175Z",
     "start_time": "2022-07-06T15:19:06.894302Z"
    }
   },
   "outputs": [],
   "source": [
    "# ПТС - это бинарный признак, оригинал или дубликат\n",
    "data_1['is_original_techpass'] = data['vehicle_passport'].apply(lambda x: 1 if x.lower() in ['original', 'оригинал'] else 0).astype('int8')"
   ]
  },
  {
   "cell_type": "code",
   "execution_count": 14,
   "id": "ce2e7e4a",
   "metadata": {
    "ExecuteTime": {
     "end_time": "2022-07-06T15:19:06.939103Z",
     "start_time": "2022-07-06T15:19:06.925763Z"
    }
   },
   "outputs": [],
   "source": [
    "# Руль - это бинарный признак, левый или правый\n",
    "data_1['is_lefthand_drive'] = data['wheel'].apply(lambda x: 1 if x.lower() in ['left', 'левый'] else 0).astype('int8')"
   ]
  },
  {
   "cell_type": "code",
   "execution_count": 15,
   "id": "398f5fcd",
   "metadata": {
    "ExecuteTime": {
     "end_time": "2022-07-06T15:19:06.954497Z",
     "start_time": "2022-07-06T15:19:06.941847Z"
    }
   },
   "outputs": [],
   "source": [
    "# сделаем объем двигателя числом\n",
    "# engine_displacement_re = data_raw['name'].apply(lambda x : re.match('\\d\\.\\d', x))\n",
    "# data_1['engine_displacement'] = engine_displacement_re.apply(lambda x: float(x.group(0)) if x is not None else np.NaN)"
   ]
  },
  {
   "cell_type": "code",
   "execution_count": 16,
   "id": "c4bb9403",
   "metadata": {
    "ExecuteTime": {
     "end_time": "2022-07-06T15:19:07.000144Z",
     "start_time": "2022-07-06T15:19:06.957812Z"
    }
   },
   "outputs": [
    {
     "data": {
      "text/plain": [
       "array(['седан', 'лифтбек', 'внедорожник', 'хэтчбек', 'минивэн',\n",
       "       'универсал', 'купе', 'кабриолет', 'родстер', 'пикап', 'лимузин'],\n",
       "      dtype=object)"
      ]
     },
     "execution_count": 16,
     "metadata": {},
     "output_type": "execute_result"
    }
   ],
   "source": [
    "# укрупним категории типа кузова\n",
    "body_type = {'лифтбек': 'лифтбек',\n",
    "             'фастбек': 'лифтбек',\n",
    "             'седан': 'седан',\n",
    "             'внедорожник': 'внедорожник',\n",
    "             'хэтчбек': 'хэтчбек',\n",
    "             'универсал': 'универсал',\n",
    "             'пикап': 'пикап',\n",
    "             'купе': 'купе',\n",
    "             'кабриолет': 'кабриолет',\n",
    "             'родстер': 'родстер',\n",
    "             'тарга': 'родстер',\n",
    "             'вэн': 'минивэн',\n",
    "             'лимузин': 'лимузин',\n",
    "             'фургон': 'фургон',\n",
    "            }\n",
    "\n",
    "def generic_body_type(raw_body_type):\n",
    "    \"\"\"\n",
    "    Функция ищет ключевые слова в описании кузова и возвращает тип кузова\n",
    "    \"\"\"\n",
    "    result = raw_body_type\n",
    "    for keyword in body_type.keys():\n",
    "        if raw_body_type.lower().find(keyword) >= 0:\n",
    "            result = body_type[keyword]\n",
    "            break\n",
    "    return result\n",
    "\n",
    "data_1['body_type'] = data_1['body_type'].fillna(value='unknown').apply(generic_body_type)\n",
    "data_1['body_type'].unique()"
   ]
  },
  {
   "cell_type": "code",
   "execution_count": 17,
   "id": "3e9933d7",
   "metadata": {
    "ExecuteTime": {
     "end_time": "2022-07-06T15:19:07.032062Z",
     "start_time": "2022-07-06T15:19:07.002061Z"
    }
   },
   "outputs": [
    {
     "data": {
      "text/plain": [
       "array(['3+', '2', '1', '0'], dtype=object)"
      ]
     },
     "execution_count": 17,
     "metadata": {},
     "output_type": "execute_result"
    }
   ],
   "source": [
    "# назовём количество владельцев\n",
    "owners = {'1': '1',\n",
    "          '2': '2',\n",
    "          '3': '3+',\n",
    "         }\n",
    "\n",
    "def generic_owners(raw_owners):\n",
    "    \"\"\"\n",
    "    Функция даёт название КПП\n",
    "    \"\"\"\n",
    "    result = str(raw_owners)\n",
    "    for keyword in owners.keys():\n",
    "        if str(raw_owners).find(keyword) >= 0:\n",
    "            result = owners[keyword]\n",
    "            break\n",
    "    return result\n",
    "\n",
    "data_1['n_owners'] = data_1['n_owners'].fillna(value='0').apply(generic_owners)\n",
    "data_1['n_owners'].unique()"
   ]
  },
  {
   "cell_type": "markdown",
   "id": "10502c81",
   "metadata": {
    "ExecuteTime": {
     "end_time": "2022-03-08T13:37:29.586637Z",
     "start_time": "2022-03-08T13:37:29.577682Z"
    }
   },
   "source": [
    "## Более сложные признаки"
   ]
  },
  {
   "cell_type": "code",
   "execution_count": 18,
   "id": "efbacfac",
   "metadata": {
    "ExecuteTime": {
     "end_time": "2022-07-06T15:19:07.063185Z",
     "start_time": "2022-07-06T15:19:07.035065Z"
    }
   },
   "outputs": [
    {
     "data": {
      "text/plain": [
       "array(['audi 100', 'audi a1', 'audi a3', 'audi a4', 'audi a4_allroad',\n",
       "       'audi a5', 'audi a6', 'audi a7', 'audi a8', 'audi allroad',\n",
       "       'audi coupe', 'audi q3', 'audi q5', 'audi q7', 'audi q8',\n",
       "       'audi r8', 'audi rs3', 'audi rs4', 'audi rs5', 'audi rs6',\n",
       "       'audi rs7', 'audi rsq3', 'audi s3', 'audi s4', 'audi s5',\n",
       "       'audi s6', 'audi s7', 'audi s8', 'audi sq5', 'audi sq7', 'audi tt',\n",
       "       'audi tts', 'bmw 1er', 'bmw 2activetourer', 'bmw 2er',\n",
       "       'bmw 2grandtourer', 'bmw 3er', 'bmw 4', 'bmw 5er', 'bmw 6er',\n",
       "       'bmw 7er', 'bmw 8er', 'bmw i3', 'bmw i8', 'bmw m1', 'bmw m2',\n",
       "       'bmw m3', 'bmw m4', 'bmw m5', 'bmw m6', 'bmw x1', 'bmw x2',\n",
       "       'bmw x3', 'bmw x3_m', 'bmw x4', 'bmw x4_m', 'bmw x5', 'bmw x5_m',\n",
       "       'bmw x6', 'bmw x6_m', 'bmw x7', 'bmw z1', 'bmw z3', 'bmw z3m',\n",
       "       'bmw z4', 'bmw z8', 'mercedes a_klasse', 'mercedes a_klasse_amg',\n",
       "       'mercedes amg_glc_coupe', 'mercedes amg_gt', 'mercedes b_klasse',\n",
       "       'mercedes c_klasse', 'mercedes c_klasse_amg', 'mercedes citan',\n",
       "       'mercedes cl_klasse', 'mercedes cl_klasse_amg',\n",
       "       'mercedes cla_klasse', 'mercedes cla_klasse_amg',\n",
       "       'mercedes clc_klasse', 'mercedes clk_klasse',\n",
       "       'mercedes cls_klasse', 'mercedes cls_klasse_amg',\n",
       "       'mercedes e_klasse', 'mercedes e_klasse_amg', 'mercedes g_klasse',\n",
       "       'mercedes g_klasse_amg', 'mercedes gl_klasse',\n",
       "       'mercedes gl_klasse_amg', 'mercedes gla_class',\n",
       "       'mercedes gla_class_amg', 'mercedes glc_coupe',\n",
       "       'mercedes glc_klasse', 'mercedes glc_klasse_amg',\n",
       "       'mercedes gle_klasse', 'mercedes gle_klasse_amg',\n",
       "       'mercedes gle_klasse_coupe', 'mercedes gle_klasse_coupe_amg',\n",
       "       'mercedes glk_klasse', 'mercedes gls_klasse',\n",
       "       'mercedes gls_klasse_amg', 'mercedes m_klasse',\n",
       "       'mercedes m_klasse_amg', 'mercedes none', 'mercedes r_klasse',\n",
       "       'mercedes s_class_maybach', 'mercedes s_klasse',\n",
       "       'mercedes s_klasse_amg', 'mercedes sl_klasse',\n",
       "       'mercedes sl_klasse_amg', 'mercedes slc_klasse',\n",
       "       'mercedes slc_klasse_amg', 'mercedes slk_klasse',\n",
       "       'mercedes slk_klasse_amg', 'mercedes slr_klasse',\n",
       "       'mercedes sls_amg', 'mercedes v_klasse', 'mercedes viano',\n",
       "       'mercedes vito', 'mercedes w123', 'mercedes w124', 'mercedes w201',\n",
       "       'mercedes x_klasse'], dtype=object)"
      ]
     },
     "execution_count": 18,
     "metadata": {},
     "output_type": "execute_result"
    }
   ],
   "source": [
    "# соберём марку и модель в один признак\n",
    "data_1['full_model_name'] = (data['brand'] + ' ' + data['model_info']).str.lower()\n",
    "np.sort(data_1['full_model_name'].unique())"
   ]
  },
  {
   "cell_type": "markdown",
   "id": "948585c9",
   "metadata": {},
   "source": [
    "# Посмотрим на результат предобработки"
   ]
  },
  {
   "cell_type": "code",
   "execution_count": 19,
   "id": "b63fd36a",
   "metadata": {
    "ExecuteTime": {
     "end_time": "2022-07-06T15:19:07.108115Z",
     "start_time": "2022-07-06T15:19:07.065879Z"
    },
    "scrolled": false
   },
   "outputs": [
    {
     "name": "stdout",
     "output_type": "stream",
     "text": [
      "<class 'pandas.core.frame.DataFrame'>\n",
      "RangeIndex: 8353 entries, 0 to 8352\n",
      "Data columns (total 21 columns):\n",
      " #   Column                Non-Null Count  Dtype  \n",
      "---  ------                --------------  -----  \n",
      " 0   body_type             8353 non-null   object \n",
      " 1   brand                 8353 non-null   object \n",
      " 2   color                 8353 non-null   object \n",
      " 3   description           8353 non-null   object \n",
      " 4   engine_displacement   8353 non-null   float64\n",
      " 5   engine_power          8353 non-null   int32  \n",
      " 6   fuel_type             8353 non-null   object \n",
      " 7   mileage               8353 non-null   int64  \n",
      " 8   model_year            8353 non-null   int64  \n",
      " 9   n_doors               8353 non-null   int64  \n",
      " 10  price                 8353 non-null   float64\n",
      " 11  production_year       8353 non-null   int64  \n",
      " 12  sell_id               8353 non-null   int64  \n",
      " 13  vehicle_transmission  8353 non-null   object \n",
      " 14  n_owners              8353 non-null   object \n",
      " 15  time_ownership        2935 non-null   object \n",
      " 16  drive_type            8353 non-null   object \n",
      " 17  source                8353 non-null   object \n",
      " 18  is_original_techpass  8353 non-null   int8   \n",
      " 19  is_lefthand_drive     8353 non-null   int8   \n",
      " 20  full_model_name       8353 non-null   object \n",
      "dtypes: float64(2), int32(1), int64(5), int8(2), object(11)\n",
      "memory usage: 1.2+ MB\n"
     ]
    }
   ],
   "source": [
    "data_1.info()"
   ]
  },
  {
   "cell_type": "code",
   "execution_count": 20,
   "id": "813e485d",
   "metadata": {
    "ExecuteTime": {
     "end_time": "2022-07-06T15:19:07.124119Z",
     "start_time": "2022-07-06T15:19:07.111099Z"
    }
   },
   "outputs": [],
   "source": [
    "data_1_profile = ProfileReport(data_1, title=\"Data_EDA_v1 Profiling Report\")\n",
    "# data_1_profile.to_notebook_iframe()"
   ]
  },
  {
   "cell_type": "markdown",
   "id": "0ac7dcf8",
   "metadata": {},
   "source": [
    "# Сохраним результат предобработки"
   ]
  },
  {
   "cell_type": "code",
   "execution_count": 21,
   "id": "64d5c71e",
   "metadata": {
    "ExecuteTime": {
     "end_time": "2022-07-06T15:19:07.499296Z",
     "start_time": "2022-07-06T15:19:07.126576Z"
    }
   },
   "outputs": [],
   "source": [
    "for src in data_1['source'].unique():\n",
    "    (data_1\n",
    "     .query(f'source == \"{src}\"')\n",
    "     .drop(columns=['source'])\n",
    "     .to_csv(f'{src}_preprocessed.csv', index=False)\n",
    "    )"
   ]
  },
  {
   "cell_type": "markdown",
   "id": "f83664b7",
   "metadata": {},
   "source": [
    "# Посмотрим внимательно на цены"
   ]
  },
  {
   "cell_type": "code",
   "execution_count": 22,
   "id": "0275de86",
   "metadata": {
    "ExecuteTime": {
     "end_time": "2022-07-06T15:19:07.515165Z",
     "start_time": "2022-07-06T15:19:07.501062Z"
    }
   },
   "outputs": [
    {
     "data": {
      "text/plain": [
       "8038          0.0\n",
       "1784    1545000.0\n",
       "5022    3299000.0\n",
       "488      799000.0\n",
       "6476    1365000.0\n",
       "8288          0.0\n",
       "5482     900000.0\n",
       "5509    2790000.0\n",
       "7666          0.0\n",
       "4535    4829000.0\n",
       "Name: price, dtype: float64"
      ]
     },
     "execution_count": 22,
     "metadata": {},
     "output_type": "execute_result"
    }
   ],
   "source": [
    "data_1['price'].sample(10)"
   ]
  },
  {
   "cell_type": "code",
   "execution_count": 23,
   "id": "48fef611",
   "metadata": {
    "ExecuteTime": {
     "end_time": "2022-07-06T15:19:07.531063Z",
     "start_time": "2022-07-06T15:19:07.519061Z"
    }
   },
   "outputs": [],
   "source": [
    "# гипотеза - все цены кратны 1000 рублей\n",
    "price = data_1['price']"
   ]
  },
  {
   "cell_type": "code",
   "execution_count": 24,
   "id": "f571922a",
   "metadata": {
    "ExecuteTime": {
     "end_time": "2022-07-06T15:19:07.547067Z",
     "start_time": "2022-07-06T15:19:07.534415Z"
    }
   },
   "outputs": [
    {
     "data": {
      "text/plain": [
       "277"
      ]
     },
     "execution_count": 24,
     "metadata": {},
     "output_type": "execute_result"
    }
   ],
   "source": [
    "(((price/1000).astype('int')*1000 - price) != 0).sum()\n",
    "# довольно мало не кратны 1000"
   ]
  },
  {
   "cell_type": "code",
   "execution_count": 25,
   "id": "10b1172f",
   "metadata": {
    "ExecuteTime": {
     "end_time": "2022-07-06T15:19:07.563064Z",
     "start_time": "2022-07-06T15:19:07.549985Z"
    }
   },
   "outputs": [
    {
     "data": {
      "text/plain": [
       "13       773999.0\n",
       "59      6577900.0\n",
       "69      8239821.0\n",
       "108     7605250.0\n",
       "126      999999.0\n",
       "          ...    \n",
       "6622    4399999.0\n",
       "6638    1555555.0\n",
       "6646    3127700.0\n",
       "6654     698900.0\n",
       "6675    1179221.0\n",
       "Name: price, Length: 277, dtype: float64"
      ]
     },
     "execution_count": 25,
     "metadata": {},
     "output_type": "execute_result"
    }
   ],
   "source": [
    "price[((price/1000).astype('int')*1000 - price) != 0]\n",
    "# при этом даже не кратные, очень близки\n",
    "# значит на постпроцессинге округлим стоимость до 1000"
   ]
  },
  {
   "cell_type": "code",
   "execution_count": null,
   "id": "71155dd9",
   "metadata": {},
   "outputs": [],
   "source": []
  }
 ],
 "metadata": {
  "kernelspec": {
   "display_name": "Python 3 (ipykernel)",
   "language": "python",
   "name": "python3"
  },
  "language_info": {
   "codemirror_mode": {
    "name": "ipython",
    "version": 3
   },
   "file_extension": ".py",
   "mimetype": "text/x-python",
   "name": "python",
   "nbconvert_exporter": "python",
   "pygments_lexer": "ipython3",
   "version": "3.8.8"
  },
  "toc": {
   "base_numbering": 1,
   "nav_menu": {},
   "number_sections": true,
   "sideBar": true,
   "skip_h1_title": false,
   "title_cell": "Table of Contents",
   "title_sidebar": "Contents",
   "toc_cell": false,
   "toc_position": {},
   "toc_section_display": true,
   "toc_window_display": false
  }
 },
 "nbformat": 4,
 "nbformat_minor": 5
}
