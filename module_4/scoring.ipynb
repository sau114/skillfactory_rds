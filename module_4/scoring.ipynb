{
 "cells": [
  {
   "cell_type": "code",
   "execution_count": 1,
   "id": "5d78de25",
   "metadata": {
    "ExecuteTime": {
     "end_time": "2022-01-17T09:00:34.927371Z",
     "start_time": "2022-01-17T09:00:32.481167Z"
    }
   },
   "outputs": [],
   "source": [
    "# импорт базовых модулей\n",
    "import numpy as np\n",
    "import pandas as pd\n",
    "import matplotlib.pyplot as plt\n",
    "%matplotlib inline\n",
    "import seaborn as sns"
   ]
  },
  {
   "cell_type": "code",
   "execution_count": 2,
   "id": "c9f43c71",
   "metadata": {
    "ExecuteTime": {
     "end_time": "2022-01-17T09:00:35.566524Z",
     "start_time": "2022-01-17T09:00:34.929361Z"
    }
   },
   "outputs": [],
   "source": [
    "# импорт дополнительных модулей\n",
    "import math\n",
    "from scipy import stats\n",
    "\n",
    "import sklearn.model_selection as skl_ms\n",
    "import sklearn.linear_model as skl_lm\n",
    "import sklearn.metrics as skl_mt\n",
    "import sklearn.neighbors as skl_nb\n",
    "import sklearn.naive_bayes as skl_ba\n",
    "import sklearn.ensemble as skl_en\n",
    "import sklearn.feature_selection as skl_fs\n",
    "import sklearn.preprocessing as skl_pp\n",
    "\n",
    "from imblearn.over_sampling import SMOTE\n",
    "from imblearn.over_sampling import ADASYN\n",
    "from imblearn.combine import SMOTEENN\n",
    "from imblearn.combine import SMOTETomek"
   ]
  },
  {
   "cell_type": "markdown",
   "id": "11819ddb",
   "metadata": {},
   "source": [
    "# Загрузка датасета и знакомство"
   ]
  },
  {
   "cell_type": "code",
   "execution_count": 3,
   "id": "c32fd1b4",
   "metadata": {
    "ExecuteTime": {
     "end_time": "2022-01-17T09:00:35.788693Z",
     "start_time": "2022-01-17T09:00:35.569050Z"
    }
   },
   "outputs": [
    {
     "data": {
      "text/html": [
       "<div>\n",
       "<style scoped>\n",
       "    .dataframe tbody tr th:only-of-type {\n",
       "        vertical-align: middle;\n",
       "    }\n",
       "\n",
       "    .dataframe tbody tr th {\n",
       "        vertical-align: top;\n",
       "    }\n",
       "\n",
       "    .dataframe thead th {\n",
       "        text-align: right;\n",
       "    }\n",
       "</style>\n",
       "<table border=\"1\" class=\"dataframe\">\n",
       "  <thead>\n",
       "    <tr style=\"text-align: right;\">\n",
       "      <th></th>\n",
       "      <th>app_date</th>\n",
       "      <th>education</th>\n",
       "      <th>sex</th>\n",
       "      <th>age</th>\n",
       "      <th>car</th>\n",
       "      <th>car_type</th>\n",
       "      <th>decline_app_cnt</th>\n",
       "      <th>good_work</th>\n",
       "      <th>score_bki</th>\n",
       "      <th>bki_request_cnt</th>\n",
       "      <th>region_rating</th>\n",
       "      <th>home_address</th>\n",
       "      <th>work_address</th>\n",
       "      <th>income</th>\n",
       "      <th>sna</th>\n",
       "      <th>first_time</th>\n",
       "      <th>foreign_passport</th>\n",
       "      <th>default</th>\n",
       "    </tr>\n",
       "    <tr>\n",
       "      <th>client_id</th>\n",
       "      <th></th>\n",
       "      <th></th>\n",
       "      <th></th>\n",
       "      <th></th>\n",
       "      <th></th>\n",
       "      <th></th>\n",
       "      <th></th>\n",
       "      <th></th>\n",
       "      <th></th>\n",
       "      <th></th>\n",
       "      <th></th>\n",
       "      <th></th>\n",
       "      <th></th>\n",
       "      <th></th>\n",
       "      <th></th>\n",
       "      <th></th>\n",
       "      <th></th>\n",
       "      <th></th>\n",
       "    </tr>\n",
       "  </thead>\n",
       "  <tbody>\n",
       "    <tr>\n",
       "      <th>25905</th>\n",
       "      <td>2014-02-01</td>\n",
       "      <td>SCH</td>\n",
       "      <td>M</td>\n",
       "      <td>62</td>\n",
       "      <td>Y</td>\n",
       "      <td>Y</td>\n",
       "      <td>0</td>\n",
       "      <td>0</td>\n",
       "      <td>-2.008753</td>\n",
       "      <td>1</td>\n",
       "      <td>50</td>\n",
       "      <td>1</td>\n",
       "      <td>2</td>\n",
       "      <td>18000</td>\n",
       "      <td>4</td>\n",
       "      <td>1</td>\n",
       "      <td>N</td>\n",
       "      <td>0</td>\n",
       "    </tr>\n",
       "    <tr>\n",
       "      <th>63161</th>\n",
       "      <td>2014-03-12</td>\n",
       "      <td>SCH</td>\n",
       "      <td>F</td>\n",
       "      <td>59</td>\n",
       "      <td>N</td>\n",
       "      <td>N</td>\n",
       "      <td>0</td>\n",
       "      <td>0</td>\n",
       "      <td>-1.532276</td>\n",
       "      <td>3</td>\n",
       "      <td>50</td>\n",
       "      <td>2</td>\n",
       "      <td>3</td>\n",
       "      <td>19000</td>\n",
       "      <td>4</td>\n",
       "      <td>1</td>\n",
       "      <td>N</td>\n",
       "      <td>0</td>\n",
       "    </tr>\n",
       "    <tr>\n",
       "      <th>25887</th>\n",
       "      <td>2014-02-01</td>\n",
       "      <td>SCH</td>\n",
       "      <td>M</td>\n",
       "      <td>25</td>\n",
       "      <td>Y</td>\n",
       "      <td>N</td>\n",
       "      <td>2</td>\n",
       "      <td>0</td>\n",
       "      <td>-1.408142</td>\n",
       "      <td>1</td>\n",
       "      <td>80</td>\n",
       "      <td>1</td>\n",
       "      <td>2</td>\n",
       "      <td>30000</td>\n",
       "      <td>1</td>\n",
       "      <td>4</td>\n",
       "      <td>Y</td>\n",
       "      <td>0</td>\n",
       "    </tr>\n",
       "    <tr>\n",
       "      <th>16222</th>\n",
       "      <td>2014-01-23</td>\n",
       "      <td>SCH</td>\n",
       "      <td>F</td>\n",
       "      <td>53</td>\n",
       "      <td>N</td>\n",
       "      <td>N</td>\n",
       "      <td>0</td>\n",
       "      <td>0</td>\n",
       "      <td>-2.057471</td>\n",
       "      <td>2</td>\n",
       "      <td>50</td>\n",
       "      <td>2</td>\n",
       "      <td>3</td>\n",
       "      <td>10000</td>\n",
       "      <td>1</td>\n",
       "      <td>3</td>\n",
       "      <td>N</td>\n",
       "      <td>0</td>\n",
       "    </tr>\n",
       "    <tr>\n",
       "      <th>101655</th>\n",
       "      <td>2014-04-18</td>\n",
       "      <td>GRD</td>\n",
       "      <td>M</td>\n",
       "      <td>48</td>\n",
       "      <td>N</td>\n",
       "      <td>N</td>\n",
       "      <td>0</td>\n",
       "      <td>1</td>\n",
       "      <td>-1.244723</td>\n",
       "      <td>1</td>\n",
       "      <td>60</td>\n",
       "      <td>2</td>\n",
       "      <td>3</td>\n",
       "      <td>30000</td>\n",
       "      <td>1</td>\n",
       "      <td>4</td>\n",
       "      <td>Y</td>\n",
       "      <td>0</td>\n",
       "    </tr>\n",
       "  </tbody>\n",
       "</table>\n",
       "</div>"
      ],
      "text/plain": [
       "            app_date education sex  age car car_type  decline_app_cnt  \\\n",
       "client_id                                                               \n",
       "25905     2014-02-01       SCH   M   62   Y        Y                0   \n",
       "63161     2014-03-12       SCH   F   59   N        N                0   \n",
       "25887     2014-02-01       SCH   M   25   Y        N                2   \n",
       "16222     2014-01-23       SCH   F   53   N        N                0   \n",
       "101655    2014-04-18       GRD   M   48   N        N                0   \n",
       "\n",
       "           good_work  score_bki  bki_request_cnt  region_rating  home_address  \\\n",
       "client_id                                                                       \n",
       "25905              0  -2.008753                1             50             1   \n",
       "63161              0  -1.532276                3             50             2   \n",
       "25887              0  -1.408142                1             80             1   \n",
       "16222              0  -2.057471                2             50             2   \n",
       "101655             1  -1.244723                1             60             2   \n",
       "\n",
       "           work_address  income  sna  first_time foreign_passport  default  \n",
       "client_id                                                                   \n",
       "25905                 2   18000    4           1                N        0  \n",
       "63161                 3   19000    4           1                N        0  \n",
       "25887                 2   30000    1           4                Y        0  \n",
       "16222                 3   10000    1           3                N        0  \n",
       "101655                3   30000    1           4                Y        0  "
      ]
     },
     "execution_count": 3,
     "metadata": {},
     "output_type": "execute_result"
    }
   ],
   "source": [
    "# тренировочный датасет\n",
    "train = pd.read_csv('train.csv', index_col='client_id', parse_dates=['app_date'])\n",
    "train.head()"
   ]
  },
  {
   "cell_type": "code",
   "execution_count": 4,
   "id": "85e4e550",
   "metadata": {
    "ExecuteTime": {
     "end_time": "2022-01-17T09:00:35.914951Z",
     "start_time": "2022-01-17T09:00:35.790621Z"
    }
   },
   "outputs": [
    {
     "data": {
      "text/plain": [
       "0.49254054932993674"
      ]
     },
     "execution_count": 4,
     "metadata": {},
     "output_type": "execute_result"
    }
   ],
   "source": [
    "test = pd.read_csv('test.csv', index_col='client_id', parse_dates=['app_date'])\n",
    "test.shape[0] / train.shape[0]"
   ]
  },
  {
   "cell_type": "markdown",
   "id": "9ac649c3",
   "metadata": {},
   "source": [
    "**индекс**\n",
    "- client_id - идентификатор клиента\n",
    "\n",
    "**признаки**\n",
    "- app_date - дата подачи заявки\n",
    "- education - уровень образования\n",
    "- sex - пол заемщика\n",
    "- age - возраст заемщика\n",
    "- car - флаг наличия автомобиля\n",
    "- car_type - флаг автомобиля иномарки\n",
    "- decline_app_cnt - количество отказанных прошлых заявок\n",
    "- good_work - флаг наличия “хорошей” работы\n",
    "- score_bki - скоринговый балл по данным из БКИ\n",
    "- bki_request_cnt - количество запросов в БКИ\n",
    "- region_rating - рейтинг региона\n",
    "- home_address - категоризатор домашнего адреса\n",
    "- work_address - категоризатор рабочего адреса\n",
    "- income - доход заемщика\n",
    "- sna - связь заемщика с клиентами банка\n",
    "- first_time - давность наличия информации о заемщике\n",
    "- foreign_passport - наличие загранпаспорта\n",
    "\n",
    "**целевая переменная**\n",
    "- default - флаг дефолта по кредиту"
   ]
  },
  {
   "cell_type": "code",
   "execution_count": 5,
   "id": "6aec3401",
   "metadata": {
    "ExecuteTime": {
     "end_time": "2022-01-17T09:00:35.962760Z",
     "start_time": "2022-01-17T09:00:35.916884Z"
    }
   },
   "outputs": [
    {
     "name": "stdout",
     "output_type": "stream",
     "text": [
      "<class 'pandas.core.frame.DataFrame'>\n",
      "Int64Index: 73799 entries, 25905 to 15796\n",
      "Data columns (total 18 columns):\n",
      " #   Column            Non-Null Count  Dtype         \n",
      "---  ------            --------------  -----         \n",
      " 0   app_date          73799 non-null  datetime64[ns]\n",
      " 1   education         73492 non-null  object        \n",
      " 2   sex               73799 non-null  object        \n",
      " 3   age               73799 non-null  int64         \n",
      " 4   car               73799 non-null  object        \n",
      " 5   car_type          73799 non-null  object        \n",
      " 6   decline_app_cnt   73799 non-null  int64         \n",
      " 7   good_work         73799 non-null  int64         \n",
      " 8   score_bki         73799 non-null  float64       \n",
      " 9   bki_request_cnt   73799 non-null  int64         \n",
      " 10  region_rating     73799 non-null  int64         \n",
      " 11  home_address      73799 non-null  int64         \n",
      " 12  work_address      73799 non-null  int64         \n",
      " 13  income            73799 non-null  int64         \n",
      " 14  sna               73799 non-null  int64         \n",
      " 15  first_time        73799 non-null  int64         \n",
      " 16  foreign_passport  73799 non-null  object        \n",
      " 17  default           73799 non-null  int64         \n",
      "dtypes: datetime64[ns](1), float64(1), int64(11), object(5)\n",
      "memory usage: 10.7+ MB\n"
     ]
    }
   ],
   "source": [
    "# общая информация по датасету\n",
    "train.info()\n",
    "# Данных достаточно много\n",
    "# Есть пропуски в education\n",
    "# Не все признаки числовые"
   ]
  },
  {
   "cell_type": "code",
   "execution_count": 6,
   "id": "3d7bed7e",
   "metadata": {
    "ExecuteTime": {
     "end_time": "2022-01-17T09:00:35.993678Z",
     "start_time": "2022-01-17T09:00:35.964755Z"
    }
   },
   "outputs": [
    {
     "name": "stdout",
     "output_type": "stream",
     "text": [
      "['SCH' 'GRD' 'UGR' 'PGR' 'ACD' nan]\n",
      "['M' 'F']\n",
      "['Y' 'N']\n",
      "['Y' 'N']\n",
      "['N' 'Y']\n"
     ]
    }
   ],
   "source": [
    "# возможные значения нечисловых признаков\n",
    "for f in ['education', 'sex', 'car', 'car_type', 'foreign_passport']:\n",
    "    print(train[f].unique())\n",
    "# Education - категориальный, точная расшифровка неясна\n",
    "# Sex - категориальный\n",
    "# Остальные - бинарные"
   ]
  },
  {
   "cell_type": "code",
   "execution_count": 7,
   "id": "2c13bc87",
   "metadata": {
    "ExecuteTime": {
     "end_time": "2022-01-17T09:00:37.501232Z",
     "start_time": "2022-01-17T09:00:35.996670Z"
    }
   },
   "outputs": [
    {
     "data": {
      "image/png": "[encoded data removed]",
      "text/plain": [
       "<Figure size 432x288 with 1 Axes>"
      ]
     },
     "metadata": {
      "needs_background": "light"
     },
     "output_type": "display_data"
    },
    {
     "data": {
      "image/png": "[encoded data removed]",
      "text/plain": [
       "<Figure size 432x288 with 1 Axes>"
      ]
     },
     "metadata": {
      "needs_background": "light"
     },
     "output_type": "display_data"
    },
    {
     "data": {
      "image/png": "[encoded data removed]",
      "text/plain": [
       "<Figure size 432x288 with 1 Axes>"
      ]
     },
     "metadata": {
      "needs_background": "light"
     },
     "output_type": "display_data"
    },
    {
     "data": {
      "image/png": "[encoded data removed]",
      "text/plain": [
       "<Figure size 432x288 with 1 Axes>"
      ]
     },
     "metadata": {
      "needs_background": "light"
     },
     "output_type": "display_data"
    },
    {
     "data": {
      "image/png": "[encoded data removed]",
      "text/plain": [
       "<Figure size 432x288 with 1 Axes>"
      ]
     },
     "metadata": {
      "needs_background": "light"
     },
     "output_type": "display_data"
    },
    {
     "data": {
      "image/png": "[encoded data removed]",
      "text/plain": [
       "<Figure size 432x288 with 1 Axes>"
      ]
     },
     "metadata": {
      "needs_background": "light"
     },
     "output_type": "display_data"
    }
   ],
   "source": [
    "# распределение численных признаков\n",
    "for f in ['app_date', 'age', 'decline_app_cnt', 'score_bki', 'bki_request_cnt', 'income']:\n",
    "    plt.hist(train[f], bins=50)\n",
    "    plt.ylabel(f)\n",
    "    plt.show()\n",
    "# score_bki - довольно нормальная"
   ]
  },
  {
   "cell_type": "code",
   "execution_count": 8,
   "id": "4495039a",
   "metadata": {
    "ExecuteTime": {
     "end_time": "2022-01-17T09:00:38.385853Z",
     "start_time": "2022-01-17T09:00:37.504171Z"
    }
   },
   "outputs": [
    {
     "data": {
      "image/png": "[encoded data removed]",
      "text/plain": [
       "<Figure size 432x288 with 1 Axes>"
      ]
     },
     "metadata": {
      "needs_background": "light"
     },
     "output_type": "display_data"
    },
    {
     "data": {
      "image/png": "[encoded data removed]",
      "text/plain": [
       "<Figure size 432x288 with 1 Axes>"
      ]
     },
     "metadata": {
      "needs_background": "light"
     },
     "output_type": "display_data"
    },
    {
     "data": {
      "image/png": "[encoded data removed]",
      "text/plain": [
       "<Figure size 432x288 with 1 Axes>"
      ]
     },
     "metadata": {
      "needs_background": "light"
     },
     "output_type": "display_data"
    },
    {
     "data": {
      "image/png": "[encoded data removed]",
      "text/plain": [
       "<Figure size 432x288 with 1 Axes>"
      ]
     },
     "metadata": {
      "needs_background": "light"
     },
     "output_type": "display_data"
    }
   ],
   "source": [
    "# распределение отдельных численных признаков в логарифмической шкале\n",
    "for f in ['age', 'decline_app_cnt', 'bki_request_cnt', 'income']:\n",
    "    plt.hist(np.log(train[f]+1), bins=40)\n",
    "    plt.ylabel('log_'+f)\n",
    "    plt.show()\n",
    "# income - стала нормальнее"
   ]
  },
  {
   "cell_type": "code",
   "execution_count": 9,
   "id": "964c9edf",
   "metadata": {
    "ExecuteTime": {
     "end_time": "2022-01-17T09:00:40.334376Z",
     "start_time": "2022-01-17T09:00:38.388842Z"
    },
    "scrolled": false
   },
   "outputs": [
    {
     "data": {
      "image/png": "[encoded data removed]",
      "text/plain": [
       "<Figure size 432x288 with 1 Axes>"
      ]
     },
     "metadata": {
      "needs_background": "light"
     },
     "output_type": "display_data"
    },
    {
     "data": {
      "image/png": "[encoded data removed]",
      "text/plain": [
       "<Figure size 432x288 with 1 Axes>"
      ]
     },
     "metadata": {
      "needs_background": "light"
     },
     "output_type": "display_data"
    },
    {
     "data": {
      "image/png": "[encoded data removed]",
      "text/plain": [
       "<Figure size 432x288 with 1 Axes>"
      ]
     },
     "metadata": {
      "needs_background": "light"
     },
     "output_type": "display_data"
    },
    {
     "data": {
      "image/png": "[encoded data removed]",
      "text/plain": [
       "<Figure size 432x288 with 1 Axes>"
      ]
     },
     "metadata": {
      "needs_background": "light"
     },
     "output_type": "display_data"
    },
    {
     "data": {
      "image/png": "[encoded data removed]",
      "text/plain": [
       "<Figure size 432x288 with 1 Axes>"
      ]
     },
     "metadata": {
      "needs_background": "light"
     },
     "output_type": "display_data"
    },
    {
     "data": {
      "image/png": "[encoded data removed]",
      "text/plain": [
       "<Figure size 432x288 with 1 Axes>"
      ]
     },
     "metadata": {
      "needs_background": "light"
     },
     "output_type": "display_data"
    },
    {
     "data": {
      "image/png": "[encoded data removed]",
      "text/plain": [
       "<Figure size 432x288 with 1 Axes>"
      ]
     },
     "metadata": {
      "needs_background": "light"
     },
     "output_type": "display_data"
    },
    {
     "data": {
      "image/png": "[encoded data removed]",
      "text/plain": [
       "<Figure size 432x288 with 1 Axes>"
      ]
     },
     "metadata": {
      "needs_background": "light"
     },
     "output_type": "display_data"
    },
    {
     "data": {
      "image/png": "[encoded data removed]",
      "text/plain": [
       "<Figure size 432x288 with 1 Axes>"
      ]
     },
     "metadata": {
      "needs_background": "light"
     },
     "output_type": "display_data"
    },
    {
     "data": {
      "image/png": "[encoded data removed]",
      "text/plain": [
       "<Figure size 432x288 with 1 Axes>"
      ]
     },
     "metadata": {
      "needs_background": "light"
     },
     "output_type": "display_data"
    },
    {
     "data": {
      "image/png": "[encoded data removed]",
      "text/plain": [
       "<Figure size 432x288 with 1 Axes>"
      ]
     },
     "metadata": {
      "needs_background": "light"
     },
     "output_type": "display_data"
    },
    {
     "data": {
      "image/png": "[encoded data removed]",
      "text/plain": [
       "<Figure size 432x288 with 1 Axes>"
      ]
     },
     "metadata": {
      "needs_background": "light"
     },
     "output_type": "display_data"
    }
   ],
   "source": [
    "# распределение бинарных и категориальных признаков, включая целевую переменной\n",
    "for f in ['education', 'sex', 'car', 'car_type', 'good_work', \n",
    "          'region_rating', 'home_address', 'work_address', \n",
    "          'sna', 'first_time', 'foreign_passport', 'default']:\n",
    "    train[f].hist()\n",
    "    plt.ylabel(f)\n",
    "    plt.show()\n",
    "# видна несбалансированность по целевой переменной"
   ]
  },
  {
   "cell_type": "code",
   "execution_count": 10,
   "id": "c5d8035b",
   "metadata": {
    "ExecuteTime": {
     "end_time": "2022-01-17T09:00:40.366141Z",
     "start_time": "2022-01-17T09:00:40.336239Z"
    }
   },
   "outputs": [
    {
     "name": "stdout",
     "output_type": "stream",
     "text": [
      "0\n"
     ]
    }
   ],
   "source": [
    "# проверим, нет ли конфликта между car и car_type\n",
    "print(((train['car'] == 'N') & (train['car_type'] == 'Y')).sum())\n",
    "# конфликта нет, наверное, имеет смысл сделать единый категориальный признак"
   ]
  },
  {
   "cell_type": "code",
   "execution_count": 11,
   "id": "11dfe20f",
   "metadata": {
    "ExecuteTime": {
     "end_time": "2022-01-17T09:00:40.802981Z",
     "start_time": "2022-01-17T09:00:40.368436Z"
    }
   },
   "outputs": [
    {
     "data": {
      "text/plain": [
       "<AxesSubplot:>"
      ]
     },
     "execution_count": 11,
     "metadata": {},
     "output_type": "execute_result"
    },
    {
     "data": {
      "image/png": "[encoded data removed]",
      "text/plain": [
       "<Figure size 432x288 with 2 Axes>"
      ]
     },
     "metadata": {
      "needs_background": "light"
     },
     "output_type": "display_data"
    }
   ],
   "source": [
    "# корреляции\n",
    "sns.heatmap(train.corr())\n",
    "# явной корреляции не вижу\n",
    "# home_address и work_address разве что"
   ]
  },
  {
   "cell_type": "markdown",
   "id": "d637c380",
   "metadata": {},
   "source": [
    "# Предобработка данных"
   ]
  },
  {
   "cell_type": "code",
   "execution_count": 12,
   "id": "832fdec8",
   "metadata": {
    "ExecuteTime": {
     "end_time": "2022-01-17T09:00:40.818974Z",
     "start_time": "2022-01-17T09:00:40.805976Z"
    }
   },
   "outputs": [
    {
     "data": {
      "text/plain": [
       "Index(['app_date', 'education', 'sex', 'age', 'car', 'car_type',\n",
       "       'decline_app_cnt', 'good_work', 'score_bki', 'bki_request_cnt',\n",
       "       'region_rating', 'home_address', 'work_address', 'income', 'sna',\n",
       "       'first_time', 'foreign_passport', 'default'],\n",
       "      dtype='object')"
      ]
     },
     "execution_count": 12,
     "metadata": {},
     "output_type": "execute_result"
    }
   ],
   "source": [
    "train.columns"
   ]
  },
  {
   "cell_type": "code",
   "execution_count": 13,
   "id": "ab873bf8",
   "metadata": {
    "ExecuteTime": {
     "end_time": "2022-01-17T09:00:40.834973Z",
     "start_time": "2022-01-17T09:00:40.821934Z"
    }
   },
   "outputs": [],
   "source": [
    "def preprocess_data(df):\n",
    "    df_out = df.copy()\n",
    "\n",
    "    # объединим car и car_type в один категориальный признак\n",
    "    df_out['car'] = (df_out['car'].replace({'N': 0, 'Y': 1}) + df_out['car_type'].replace(\n",
    "        {'N': 0, 'Y': 2})).replace({0: 'no', 1: 'rus', 2: 'error', 3: 'imp'})\n",
    "    df_out.drop(columns='car_type', inplace=True)\n",
    "\n",
    "    # заполним пропуск в education\n",
    "    df_out['education'].fillna(value=df_out['education'].mode()[0], inplace=True)\n",
    "\n",
    "    # логические в цифровые\n",
    "    bool_features = ['good_work', 'foreign_passport']\n",
    "    df_out[bool_features] = df_out[bool_features].replace({'N': 0, 'Y': 1})\n",
    "    \n",
    "    # категориальные в индикативные\n",
    "#     cat_features = ['education', 'sex', 'car', 'region_rating', 'home_address', 'work_address', 'sna', 'first_time']\n",
    "    cat_features = ['education', 'sex', 'car', 'home_address', 'work_address', 'sna', 'first_time']\n",
    "    df_out = pd.get_dummies(df_out, columns=cat_features)\n",
    "    \n",
    "    # преобразуем дату в давность\n",
    "    max_date = pd.to_datetime('2015-01-01') # magic datetime :(\n",
    "    df_out['n_days_ago'] = (df_out['app_date'] - max_date).dt.days\n",
    "    df_out.drop(columns='app_date', inplace=True)\n",
    "    \n",
    "    # генерируем новые признаки\n",
    "    # логарифм зарплаты\n",
    "    df_out['log_income'] = df_out['income'].apply('log')\n",
    "    df_out.drop(columns='income', inplace=True)\n",
    "    # логарифм возраста\n",
    "    df_out['log_age'] = df_out['age'].apply('log')\n",
    "    df_out.drop(columns='age', inplace=True)\n",
    "    # логарифм числа запросов в БКИ\n",
    "#     df_out['log_bki_request_cnt'] = (df_out['bki_request_cnt'] + 1).apply('log')\n",
    "\n",
    "    # добавим случайный признак, чтобы сравнивать влияние\n",
    "    dist = stats.bernoulli(0.5) # расппределение Бернулли (0 или 1) с вероятностью 0.5\n",
    "    df_out['random'] = dist.rvs(df_out.shape[0])\n",
    "    \n",
    "    # попробуем уменьшить память на int64\n",
    "    for f in df_out.select_dtypes(include='int64').columns:\n",
    "        df_out[f] = pd.to_numeric(df_out[f], downcast='integer')\n",
    "    # попробуем уменьшить память на float64\n",
    "    for f in df_out.select_dtypes(include='float64').columns:\n",
    "        df_out[f] = pd.to_numeric(df_out[f], downcast='float')\n",
    "    \n",
    "    return df_out"
   ]
  },
  {
   "cell_type": "code",
   "execution_count": 14,
   "id": "219cb299",
   "metadata": {
    "ExecuteTime": {
     "end_time": "2022-01-17T09:00:41.068047Z",
     "start_time": "2022-01-17T09:00:40.836894Z"
    },
    "scrolled": false
   },
   "outputs": [
    {
     "name": "stdout",
     "output_type": "stream",
     "text": [
      "(73799, 34) (73799,)\n"
     ]
    }
   ],
   "source": [
    "# обработаем датасет и разделим на признаки и целевую переменную\n",
    "train_proc = preprocess_data(train)\n",
    "X = train_proc.drop(columns=['default'])\n",
    "y = train_proc['default']\n",
    "print(X.shape, y.shape)"
   ]
  },
  {
   "cell_type": "code",
   "execution_count": 15,
   "id": "624d4924",
   "metadata": {
    "ExecuteTime": {
     "end_time": "2022-01-17T09:00:41.130062Z",
     "start_time": "2022-01-17T09:00:41.070047Z"
    }
   },
   "outputs": [
    {
     "name": "stdout",
     "output_type": "stream",
     "text": [
      "(51659, 34) (51659,)\n",
      "(22140, 34) (22140,)\n"
     ]
    }
   ],
   "source": [
    "# разделим на обучающую и валидационную выборку\n",
    "X_train, X_valid, y_train, y_valid = skl_ms.train_test_split(X, y, train_size=0.7, random_state=73, stratify=y)\n",
    "print(X_train.shape, y_train.shape)\n",
    "print(X_valid.shape, y_valid.shape)"
   ]
  },
  {
   "cell_type": "markdown",
   "id": "1fdc7243",
   "metadata": {},
   "source": [
    "# Выбор потенциальных моделей"
   ]
  },
  {
   "cell_type": "markdown",
   "id": "df624383",
   "metadata": {},
   "source": [
    "**Кандидаты моделей для задачи классификации**\n",
    "- Logistic regression\n",
    "- K-NN\n",
    "- Naive Bayes\n",
    "- Decision tree ensemble"
   ]
  },
  {
   "cell_type": "markdown",
   "id": "6d33c855",
   "metadata": {},
   "source": [
    "Прогоним методы с параметрами по умолчанию. Проверим по критерию f1. Выберем потенциально рабочие."
   ]
  },
  {
   "cell_type": "code",
   "execution_count": 16,
   "id": "8d9dc078",
   "metadata": {
    "ExecuteTime": {
     "end_time": "2022-01-17T09:00:41.160982Z",
     "start_time": "2022-01-17T09:00:41.132062Z"
    }
   },
   "outputs": [
    {
     "name": "stdout",
     "output_type": "stream",
     "text": [
      "f1 random: 0.2055619000586438\n"
     ]
    }
   ],
   "source": [
    "# Метрика f1 для случайной величины\n",
    "print('f1 random:', skl_mt.f1_score(y_train, X_train['random']))"
   ]
  },
  {
   "cell_type": "markdown",
   "id": "0d91f6c5",
   "metadata": {},
   "source": [
    "## Логистическая регрессия"
   ]
  },
  {
   "cell_type": "code",
   "execution_count": 17,
   "id": "f9beca16",
   "metadata": {
    "ExecuteTime": {
     "end_time": "2022-01-17T09:00:42.909150Z",
     "start_time": "2022-01-17T09:00:41.162975Z"
    }
   },
   "outputs": [
    {
     "name": "stdout",
     "output_type": "stream",
     "text": [
      "f1 train: 0.05263914856896304\n",
      "f1 valid: 0.0439634764964491\n"
     ]
    }
   ],
   "source": [
    "logit_1 = skl_lm.LogisticRegression(random_state=73, max_iter=1000)\n",
    "logit_1.fit(X_train, y_train)\n",
    "y_train_pred = logit_1.predict(X_train)\n",
    "y_valid_pred = logit_1.predict(X_valid)\n",
    "print('f1 train:', skl_mt.f1_score(y_train, y_train_pred))\n",
    "print('f1 valid:', skl_mt.f1_score(y_valid, y_valid_pred))\n",
    "# ужасно"
   ]
  },
  {
   "cell_type": "markdown",
   "id": "ea3acabc",
   "metadata": {},
   "source": [
    "## K-NN"
   ]
  },
  {
   "cell_type": "code",
   "execution_count": 18,
   "id": "d782ffca",
   "metadata": {
    "ExecuteTime": {
     "end_time": "2022-01-17T09:00:42.925134Z",
     "start_time": "2022-01-17T09:00:42.911263Z"
    }
   },
   "outputs": [],
   "source": [
    "# knn_1 = skl_nb.KNeighborsClassifier(n_neighbors=7, n_jobs=16)\n",
    "# knn_1.fit(X_train, y_train)\n",
    "# y_train_pred = knn_1.predict(X_train)\n",
    "# y_valid_pred = knn_1.predict(X_valid)\n",
    "# print('f1 train:', skl_mt.f1_score(y_train, y_train_pred))\n",
    "# print('f1 valid:', skl_mt.f1_score(y_valid, y_valid_pred))\n",
    "# лучше, чем logit, но всё равно ужасно и очень долго"
   ]
  },
  {
   "cell_type": "markdown",
   "id": "e72e11e4",
   "metadata": {
    "ExecuteTime": {
     "end_time": "2022-01-11T15:12:46.949684Z",
     "start_time": "2022-01-11T15:12:46.934689Z"
    }
   },
   "source": [
    "## Наивный Байес"
   ]
  },
  {
   "cell_type": "code",
   "execution_count": 19,
   "id": "f5fa8cb9",
   "metadata": {
    "ExecuteTime": {
     "end_time": "2022-01-17T09:00:43.112604Z",
     "start_time": "2022-01-17T09:00:42.927100Z"
    }
   },
   "outputs": [
    {
     "name": "stdout",
     "output_type": "stream",
     "text": [
      "f1 train: 0.2407987139351891\n",
      "f1 valid: 0.24533856722276742\n"
     ]
    }
   ],
   "source": [
    "nb_1 = skl_ba.BernoulliNB()\n",
    "nb_1.fit(X_train, y_train)\n",
    "y_train_pred = nb_1.predict(X_train)\n",
    "y_valid_pred = nb_1.predict(X_valid)\n",
    "print('f1 train:', skl_mt.f1_score(y_train, y_train_pred))\n",
    "print('f1 valid:', skl_mt.f1_score(y_valid, y_valid_pred))\n",
    "# лучше, чем random"
   ]
  },
  {
   "cell_type": "markdown",
   "id": "29039d47",
   "metadata": {
    "ExecuteTime": {
     "end_time": "2022-01-11T15:16:31.961336Z",
     "start_time": "2022-01-11T15:16:31.956345Z"
    }
   },
   "source": [
    "## Случайный лес"
   ]
  },
  {
   "cell_type": "code",
   "execution_count": 20,
   "id": "19c0b48f",
   "metadata": {
    "ExecuteTime": {
     "end_time": "2022-01-17T09:00:43.641875Z",
     "start_time": "2022-01-17T09:00:43.114600Z"
    }
   },
   "outputs": [
    {
     "name": "stdout",
     "output_type": "stream",
     "text": [
      "f1 train: 0.9067518846279908\n",
      "f1 valid: 0.1460823373173971\n"
     ]
    }
   ],
   "source": [
    "forrest_1 = skl_en.RandomForestClassifier(n_estimators=5)\n",
    "forrest_1.fit(X_train, y_train)\n",
    "y_train_pred = forrest_1.predict(X_train)\n",
    "y_valid_pred = forrest_1.predict(X_valid)\n",
    "print('f1 train:', skl_mt.f1_score(y_train, y_train_pred))\n",
    "print('f1 valid:', skl_mt.f1_score(y_valid, y_valid_pred))\n",
    "# уже хорошо на обучающей выборке, но плохо на валидационной\n",
    "# причем параметр 5 даёт лучшую валидационную оценку"
   ]
  },
  {
   "cell_type": "code",
   "execution_count": 21,
   "id": "8fa76858",
   "metadata": {
    "ExecuteTime": {
     "end_time": "2022-01-17T09:00:43.955772Z",
     "start_time": "2022-01-17T09:00:43.642788Z"
    }
   },
   "outputs": [
    {
     "data": {
      "text/plain": [
       "<AxesSubplot:>"
      ]
     },
     "execution_count": 21,
     "metadata": {},
     "output_type": "execute_result"
    },
    {
     "data": {
      "image/png": "[encoded data removed]",
      "text/plain": [
       "<Figure size 720x720 with 1 Axes>"
      ]
     },
     "metadata": {
      "needs_background": "light"
     },
     "output_type": "display_data"
    }
   ],
   "source": [
    "# посмотрим самые важные признаки\n",
    "plt.rcParams['figure.figsize'] = (10,10)\n",
    "feat_importances = pd.Series(forrest_1.feature_importances_, index=X_train.columns)\n",
    "feat_importances.nlargest(20).plot(kind='barh')"
   ]
  },
  {
   "cell_type": "markdown",
   "id": "fe9242ee",
   "metadata": {
    "ExecuteTime": {
     "end_time": "2022-01-11T16:14:22.109853Z",
     "start_time": "2022-01-11T16:14:22.094233Z"
    }
   },
   "source": [
    "## Предварительные выводы\n",
    "Потенциально адекватными показали себя Наивный Байес и Случайный лес. С ними можно дальше работать. Можно дать шанс логрегрессии."
   ]
  },
  {
   "cell_type": "markdown",
   "id": "76d8def9",
   "metadata": {},
   "source": [
    "# Настройка предобработки и гиперпараметров модели"
   ]
  },
  {
   "cell_type": "markdown",
   "id": "21f8f083",
   "metadata": {
    "ExecuteTime": {
     "end_time": "2022-01-12T08:09:06.669560Z",
     "start_time": "2022-01-12T08:09:06.659600Z"
    }
   },
   "source": [
    "## Снова изучение датасета"
   ]
  },
  {
   "cell_type": "code",
   "execution_count": 22,
   "id": "83a7daf1",
   "metadata": {
    "ExecuteTime": {
     "end_time": "2022-01-17T09:00:44.035465Z",
     "start_time": "2022-01-17T09:00:43.960759Z"
    }
   },
   "outputs": [],
   "source": [
    "# предобработка без удаления результатов для сравнения влияния разных модификаций\n",
    "def preprocess_data_ftest(df):\n",
    "    df_out = df.copy()\n",
    "\n",
    "    # преобразуем дату в давность\n",
    "    max_date = pd.to_datetime('2015-01-01')  # magic datetime :(\n",
    "    df_out['n_days_ago'] = (df_out['app_date'] - max_date).dt.days\n",
    "\n",
    "    # генерируем новые признаки\n",
    "    # логарифм зарплаты\n",
    "    df_out['log_income'] = (df_out['income'] + 1).apply('log')\n",
    "    # логарифм возраста\n",
    "    df_out['log_age'] = (df_out['age'] + 1).apply('log')\n",
    "    # логарифм числа запросов в БКИ\n",
    "    df_out['log_bki_request_cnt'] = (df_out['bki_request_cnt'] + 1).apply('log')\n",
    "    # логарифм числа отказов\n",
    "    df_out['log_decline_app_cnt'] = (df_out['decline_app_cnt'] + 1).apply('log')\n",
    "\n",
    "    # объединим car и car_type в один категориальный признак\n",
    "    df_out['car'] = df_out['car'].replace({'N': 0, 'Y': 1})\n",
    "    df_out['car_type'] = df_out['car_type'].replace({'N': 0, 'Y': 1})\n",
    "    df_out['cars'] = (df_out['car'] + df_out['car_type'] *2).replace({0: 'no', 1: 'rus', 2: 'error', 3: 'imp'})\n",
    "\n",
    "    # заполним пропуск в education\n",
    "    df_out['education'].fillna(value=df_out['education'].mode()[0], inplace=True)\n",
    "\n",
    "    # логические в цифровые\n",
    "    bool_features = ['good_work', 'foreign_passport']\n",
    "    df_out[bool_features] = df_out[bool_features].replace({'N': 0, 'Y': 1})\n",
    "\n",
    "    # попробуем сделать обобщённый адрес, что бы он вообще не значил\n",
    "    df_out['address'] = df_out['home_address'] + df_out['work_address']*4  # чтобы не терять информацию\n",
    "\n",
    "    # категориальные в индикативные\n",
    "    cat_features = ['education', 'sex', 'cars', 'home_address',\n",
    "                    'work_address', 'sna', 'first_time', 'address']\n",
    "    df_out = pd.get_dummies(df_out, columns=cat_features)\n",
    "\n",
    "    # добавим случайный признак, чтобы сравнивать влияние\n",
    "    # расппределение Бернулли (0 или 1) с вероятностью 0.5\n",
    "    dist = stats.bernoulli(0.5)\n",
    "    df_out['random'] = dist.rvs(df_out.shape[0])\n",
    "\n",
    "    return df_out"
   ]
  },
  {
   "cell_type": "code",
   "execution_count": 23,
   "id": "55a694d0",
   "metadata": {
    "ExecuteTime": {
     "end_time": "2022-01-17T09:00:44.255932Z",
     "start_time": "2022-01-17T09:00:44.038956Z"
    }
   },
   "outputs": [
    {
     "data": {
      "text/plain": [
       "Index(['app_date', 'age', 'car', 'car_type', 'decline_app_cnt', 'good_work',\n",
       "       'score_bki', 'bki_request_cnt', 'region_rating', 'income',\n",
       "       'foreign_passport', 'default', 'n_days_ago', 'log_income', 'log_age',\n",
       "       'log_bki_request_cnt', 'log_decline_app_cnt', 'education_ACD',\n",
       "       'education_GRD', 'education_PGR', 'education_SCH', 'education_UGR',\n",
       "       'sex_F', 'sex_M', 'cars_imp', 'cars_no', 'cars_rus', 'home_address_1',\n",
       "       'home_address_2', 'home_address_3', 'work_address_1', 'work_address_2',\n",
       "       'work_address_3', 'sna_1', 'sna_2', 'sna_3', 'sna_4', 'first_time_1',\n",
       "       'first_time_2', 'first_time_3', 'first_time_4', 'address_5',\n",
       "       'address_6', 'address_7', 'address_9', 'address_10', 'address_11',\n",
       "       'address_13', 'address_14', 'address_15', 'random'],\n",
       "      dtype='object')"
      ]
     },
     "execution_count": 23,
     "metadata": {},
     "output_type": "execute_result"
    }
   ],
   "source": [
    "train_ftest = preprocess_data_ftest(train)\n",
    "train_ftest.columns"
   ]
  },
  {
   "cell_type": "code",
   "execution_count": 24,
   "id": "0643d18e",
   "metadata": {
    "ExecuteTime": {
     "end_time": "2022-01-17T09:00:44.492718Z",
     "start_time": "2022-01-17T09:00:44.257877Z"
    }
   },
   "outputs": [
    {
     "data": {
      "text/plain": [
       "<AxesSubplot:>"
      ]
     },
     "execution_count": 24,
     "metadata": {},
     "output_type": "execute_result"
    },
    {
     "data": {
      "image/png": "[encoded data removed]",
      "text/plain": [
       "<Figure size 720x720 with 1 Axes>"
      ]
     },
     "metadata": {
      "needs_background": "light"
     },
     "output_type": "display_data"
    }
   ],
   "source": [
    "# дисперсионный анализ\n",
    "num_cols = ['age', 'score_bki', 'decline_app_cnt', 'bki_request_cnt', 'region_rating', 'income', \n",
    "            'n_days_ago', 'log_income', 'log_age', 'log_bki_request_cnt', 'log_decline_app_cnt']\n",
    "imp_num = pd.Series(skl_fs.f_classif(train_ftest[num_cols], train_ftest['default'])[0], index = num_cols)\n",
    "imp_num.sort_values(inplace = True)\n",
    "imp_num.plot(kind = 'barh')\n",
    "# логарифм зарплаты и числа запросов лучше исходого значения"
   ]
  },
  {
   "cell_type": "code",
   "execution_count": 25,
   "id": "aa350119",
   "metadata": {
    "ExecuteTime": {
     "end_time": "2022-01-17T09:00:45.325899Z",
     "start_time": "2022-01-17T09:00:44.494681Z"
    }
   },
   "outputs": [
    {
     "data": {
      "text/plain": [
       "<AxesSubplot:>"
      ]
     },
     "execution_count": 25,
     "metadata": {},
     "output_type": "execute_result"
    },
    {
     "data": {
      "image/png": "[encoded data removed]",
      "text/plain": [
       "<Figure size 720x720 with 1 Axes>"
      ]
     },
     "metadata": {
      "needs_background": "light"
     },
     "output_type": "display_data"
    }
   ],
   "source": [
    "# значимость категориальных переменных\n",
    "notnum_cols = train_ftest.columns.drop(num_cols+['app_date', 'default'])\n",
    "imp_cat = pd.Series(skl_fs.mutual_info_classif(train_ftest[notnum_cols], \n",
    "                                               train_ftest['default'], discrete_features=True), \n",
    "                    index=notnum_cols)\n",
    "imp_cat.sort_values(inplace=True)\n",
    "imp_cat.plot(kind='barh')"
   ]
  },
  {
   "cell_type": "markdown",
   "id": "47f8ffdb",
   "metadata": {
    "ExecuteTime": {
     "end_time": "2022-01-12T09:33:11.500640Z",
     "start_time": "2022-01-12T09:33:11.492656Z"
    }
   },
   "source": [
    "## Снова Логистическая Регрессия"
   ]
  },
  {
   "cell_type": "code",
   "execution_count": 26,
   "id": "acdf479b",
   "metadata": {
    "ExecuteTime": {
     "end_time": "2022-01-17T09:00:45.341298Z",
     "start_time": "2022-01-17T09:00:45.328280Z"
    }
   },
   "outputs": [],
   "source": [
    "def preprocess_data_logreg(df):\n",
    "    df_out = df.copy()\n",
    "\n",
    "    # численные признаки\n",
    "    \n",
    "    # преобразуем дату в давность\n",
    "    max_date = pd.to_datetime('2015-01-01')  # magic datetime :(\n",
    "    df_out['n_days_ago'] = (df_out['app_date'] - max_date).dt.days\n",
    "    # логарифм зарплаты\n",
    "    df_out['log_income'] = (df_out['income'] + 1).apply('log')\n",
    "    # логарифм числа отказов\n",
    "    df_out['log_decline_app_cnt'] = (df_out['decline_app_cnt'] + 1).apply('log')\n",
    "    # удаляем ненужные\n",
    "    df_out.drop(columns=['app_date', 'income', 'decline_app_cnt'], inplace=True)\n",
    "    \n",
    "    # бинарные признаки\n",
    "    \n",
    "    bool_features = ['car', 'car_type', 'good_work', 'foreign_passport']\n",
    "    df_out[bool_features] = df_out[bool_features].replace({'N': 0, 'Y': 1})\n",
    "    # добавим случайный признак, чтобы сравнивать влияние\n",
    "#     dist = stats.bernoulli(0.5)\n",
    "#     df_out['random'] = dist.rvs(df_out.shape[0])\n",
    "    \n",
    "    # категориальные признаки\n",
    "    # car и car_type в один признак\n",
    "    df_out['car'] = (df_out['car'] + df_out['car_type'] * 2).replace({0: 'no', 1: 'rus', 2: 'error', 3: 'imp'})\n",
    "    # home_address и work_address в один признак\n",
    "    df_out['address'] = df_out['home_address'] + df_out['work_address'] * 4\n",
    "    # заполним пропуск в education на SCH\n",
    "    df_out['education'].fillna(value='SCH', inplace=True)\n",
    "    # категориальные в индикативные\n",
    "    cat_features = ['education', 'sex', 'car', 'address', 'sna', 'first_time']\n",
    "    df_out = pd.get_dummies(df_out, columns=cat_features)\n",
    "    # удаляем ненужные\n",
    "    df_out.drop(columns=['car_type', 'home_address', 'work_address'], inplace=True)\n",
    "\n",
    "    return df_out"
   ]
  },
  {
   "cell_type": "code",
   "execution_count": 27,
   "id": "607580e8",
   "metadata": {
    "ExecuteTime": {
     "end_time": "2022-01-17T09:00:45.563829Z",
     "start_time": "2022-01-17T09:00:45.344237Z"
    }
   },
   "outputs": [],
   "source": [
    "train_logreg = preprocess_data_logreg(train)"
   ]
  },
  {
   "cell_type": "code",
   "execution_count": 28,
   "id": "2e734ba4",
   "metadata": {
    "ExecuteTime": {
     "end_time": "2022-01-17T09:00:45.674910Z",
     "start_time": "2022-01-17T09:00:45.564806Z"
    }
   },
   "outputs": [],
   "source": [
    "# нормализация\n",
    "scaler_cols = ['age', 'score_bki', 'bki_request_cnt', 'region_rating', \n",
    "            'n_days_ago', 'log_income', 'log_decline_app_cnt']\n",
    "# scaler_logreg = skl_pp.RobustScaler() # хуже на валидации, но лучше на кегле\n",
    "# scaler_logreg.fit(train_logreg[scaler_cols])\n",
    "# train_logreg[scaler_cols] = scaler_logreg.transform(train_logreg[scaler_cols])\n",
    "\n",
    "train_logreg[scaler_cols] = skl_pp.minmax_scale(train_logreg[scaler_cols])"
   ]
  },
  {
   "cell_type": "code",
   "execution_count": 29,
   "id": "8e63b53e",
   "metadata": {
    "ExecuteTime": {
     "end_time": "2022-01-17T09:00:45.690644Z",
     "start_time": "2022-01-17T09:00:45.676737Z"
    }
   },
   "outputs": [
    {
     "name": "stdout",
     "output_type": "stream",
     "text": [
      "(73799, 36) (73799,)\n"
     ]
    }
   ],
   "source": [
    "# делим на признаки и целевую\n",
    "X = train_logreg.drop(columns=['default'])\n",
    "y = train_logreg['default']\n",
    "print(X.shape, y.shape)"
   ]
  },
  {
   "cell_type": "code",
   "execution_count": 30,
   "id": "10822b2f",
   "metadata": {
    "ExecuteTime": {
     "end_time": "2022-01-17T09:00:48.445739Z",
     "start_time": "2022-01-17T09:00:45.692640Z"
    }
   },
   "outputs": [
    {
     "name": "stdout",
     "output_type": "stream",
     "text": [
      "(128854, 36) (128854,)\n"
     ]
    }
   ],
   "source": [
    "# балансировка библиотекой imblearn\n",
    "oversampling = SMOTE(sampling_strategy=1, random_state=73)\n",
    "X_ovs, y_ovs = oversampling.fit_resample(X, y)\n",
    "print(X_ovs.shape, y_ovs.shape)"
   ]
  },
  {
   "cell_type": "code",
   "execution_count": 31,
   "id": "557bb387",
   "metadata": {
    "ExecuteTime": {
     "end_time": "2022-01-17T09:00:48.506727Z",
     "start_time": "2022-01-17T09:00:48.448028Z"
    }
   },
   "outputs": [
    {
     "name": "stdout",
     "output_type": "stream",
     "text": [
      "(64427, 36) (64427,)\n",
      "(64427, 36) (64427,)\n"
     ]
    }
   ],
   "source": [
    "# деление\n",
    "X_train, X_valid, y_train, y_valid = skl_ms.train_test_split(X_ovs, y_ovs, train_size=0.5, random_state=66)\n",
    "print(X_train.shape, y_train.shape)\n",
    "print(X_valid.shape, y_valid.shape)"
   ]
  },
  {
   "cell_type": "code",
   "execution_count": 32,
   "id": "7cf943ab",
   "metadata": {
    "ExecuteTime": {
     "end_time": "2022-01-17T09:00:50.002858Z",
     "start_time": "2022-01-17T09:00:48.508619Z"
    }
   },
   "outputs": [
    {
     "name": "stdout",
     "output_type": "stream",
     "text": [
      "f1 train: 0.7006436932092704\n",
      "f1 valid: 0.7075964474479595\n"
     ]
    }
   ],
   "source": [
    "# обучение и предсказание\n",
    "logit_2 = skl_lm.LogisticRegression(random_state=73, max_iter=10000)\n",
    "logit_2.fit(X_train, y_train)\n",
    "y_train_pred = logit_2.predict(X_train)\n",
    "y_valid_pred = logit_2.predict(X_valid)\n",
    "print('f1 train:', skl_mt.f1_score(y_train, y_train_pred))\n",
    "print('f1 valid:', skl_mt.f1_score(y_valid, y_valid_pred))\n",
    "# стало значтельно лучше благодаря балансировке"
   ]
  },
  {
   "cell_type": "code",
   "execution_count": 33,
   "id": "2f9abe48",
   "metadata": {
    "ExecuteTime": {
     "end_time": "2022-01-17T09:00:50.160530Z",
     "start_time": "2022-01-17T09:00:50.005095Z"
    }
   },
   "outputs": [
    {
     "name": "stdout",
     "output_type": "stream",
     "text": [
      "              precision    recall  f1-score   support\n",
      "\n",
      "           0       0.71      0.71      0.71     32104\n",
      "           1       0.71      0.71      0.71     32323\n",
      "\n",
      "    accuracy                           0.71     64427\n",
      "   macro avg       0.71      0.71      0.71     64427\n",
      "weighted avg       0.71      0.71      0.71     64427\n",
      "\n"
     ]
    }
   ],
   "source": [
    "# посмотрим полный отчёт\n",
    "classification_report = skl_mt.classification_report(y_valid,y_valid_pred)\n",
    "print(classification_report)"
   ]
  },
  {
   "cell_type": "code",
   "execution_count": 34,
   "id": "1dbaa074",
   "metadata": {
    "ExecuteTime": {
     "end_time": "2022-01-17T09:00:50.523609Z",
     "start_time": "2022-01-17T09:00:50.162525Z"
    }
   },
   "outputs": [
    {
     "data": {
      "text/plain": [
       "<matplotlib.legend.Legend at 0x10a01d8cf70>"
      ]
     },
     "execution_count": 34,
     "metadata": {},
     "output_type": "execute_result"
    },
    {
     "data": {
      "image/png": "[encoded data removed]",
      "text/plain": [
       "<Figure size 576x576 with 1 Axes>"
      ]
     },
     "metadata": {
      "needs_background": "light"
     },
     "output_type": "display_data"
    }
   ],
   "source": [
    "# Отрисовать ROC кривую\n",
    "# Посчитать значения ROC кривой и значение площади под кривой AUC\n",
    "fpr, tpr, thresholds = skl_mt.roc_curve(y_valid, logit_2.predict_proba(X_valid).T[1])\n",
    "roc_auc = skl_mt.roc_auc_score(y_train, logit_2.predict_proba(X_train).T[1])   \n",
    "plt.figure(figsize=(8, 8))\n",
    "plt.plot(fpr, tpr, label=f'AUC = {roc_auc:.4f}')\n",
    "plt.title('Receiver Operating Characteristic', fontsize=15)\n",
    "plt.xlabel('False positive rate (FPR)', fontsize=15)\n",
    "plt.ylabel('True positive rate (TPR)', fontsize=15)\n",
    "plt.legend(fontsize=15)"
   ]
  },
  {
   "cell_type": "code",
   "execution_count": 35,
   "id": "472ab4b9",
   "metadata": {
    "ExecuteTime": {
     "end_time": "2022-01-17T09:01:07.080118Z",
     "start_time": "2022-01-17T09:00:50.525605Z"
    },
    "scrolled": false
   },
   "outputs": [
    {
     "name": "stdout",
     "output_type": "stream",
     "text": [
      "[train] F1-score = 0.70 +/- 0.00\n",
      "[valid] F1-score = 0.70 +/- 0.01\n"
     ]
    },
    {
     "data": {
      "image/png": "[encoded data removed]",
      "text/plain": [
       "<Figure size 1080x360 with 1 Axes>"
      ]
     },
     "metadata": {
      "needs_background": "light"
     },
     "output_type": "display_data"
    }
   ],
   "source": [
    "# проверим кросс-вадидацией что ли\n",
    "cv_metrics = skl_ms.cross_validate(logit_2, X_train, y_train, cv=10, scoring='f1', return_train_score=True)\n",
    "\n",
    "def plot_cv_metrics(cv_metrics):\n",
    "    avg_f1_train, std_f1_train = cv_metrics['train_score'].mean(), cv_metrics['train_score'].std()\n",
    "    avg_f1_valid, std_f1_valid = cv_metrics['test_score'].mean(), cv_metrics['test_score'].std()\n",
    "    print('[train] F1-score = {:.2f} +/- {:.2f}'.format(avg_f1_train, std_f1_train))\n",
    "    print('[valid] F1-score = {:.2f} +/- {:.2f}'.format(avg_f1_valid, std_f1_valid))\n",
    "    \n",
    "    plt.figure(figsize=(15, 5))\n",
    "\n",
    "    plt.plot(cv_metrics['train_score'], label='train', marker='.')\n",
    "    plt.plot(cv_metrics['test_score'], label='valid', marker='.')\n",
    "\n",
    "    plt.ylim([0., 1.]);\n",
    "    plt.xlabel('CV iteration', fontsize=15)\n",
    "    plt.ylabel('F1-score', fontsize=15)\n",
    "    plt.legend(fontsize=15)\n",
    "    \n",
    "plot_cv_metrics(cv_metrics)"
   ]
  },
  {
   "cell_type": "markdown",
   "id": "6e04ddcd",
   "metadata": {},
   "source": [
    "## Снова деревья"
   ]
  },
  {
   "cell_type": "code",
   "execution_count": 36,
   "id": "d83c84c3",
   "metadata": {
    "ExecuteTime": {
     "end_time": "2022-01-17T09:01:07.095081Z",
     "start_time": "2022-01-17T09:01:07.082125Z"
    }
   },
   "outputs": [],
   "source": [
    "def preprocess_data_forrest(df):\n",
    "    df_out = df.copy()\n",
    "\n",
    "    # численные признаки\n",
    "    \n",
    "    # преобразуем дату в давность\n",
    "    max_date = pd.to_datetime('2015-01-01')  # magic datetime :(\n",
    "    df_out['n_days_ago'] = (df_out['app_date'] - max_date).dt.days\n",
    "    # логарифм зарплаты\n",
    "    df_out['log_income'] = (df_out['income'] + 1).apply('log')\n",
    "    # логарифм числа отказов\n",
    "    df_out['log_decline_app_cnt'] = (df_out['decline_app_cnt'] + 1).apply('log')\n",
    "    # удаляем ненужные\n",
    "    df_out.drop(columns=['app_date', 'income', 'decline_app_cnt'], inplace=True)\n",
    "    \n",
    "    # бинарные признаки\n",
    "    \n",
    "    bool_features = ['car', 'car_type', 'good_work', 'foreign_passport']\n",
    "    df_out[bool_features] = df_out[bool_features].replace({'N': 0, 'Y': 1})\n",
    "    \n",
    "    # категориальные признаки\n",
    "    # car и car_type в один признак\n",
    "    df_out['car'] = (df_out['car'] + df_out['car_type'] * 2).replace({0: 'no', 1: 'rus', 2: 'error', 3: 'imp'})\n",
    "    # home_address и work_address в один признак\n",
    "    df_out['address'] = df_out['home_address'] + df_out['work_address'] * 4\n",
    "    # заполним пропуск в education на SCH\n",
    "    df_out['education'].fillna(value='SCH', inplace=True)\n",
    "    # категориальные в индикативные\n",
    "    cat_features = ['education', 'sex', 'car', 'address', 'sna', 'first_time']\n",
    "    df_out = pd.get_dummies(df_out, columns=cat_features)\n",
    "    # удаляем ненужные\n",
    "    df_out.drop(columns=['car_type', 'home_address', 'work_address'], inplace=True)\n",
    "\n",
    "    return df_out"
   ]
  },
  {
   "cell_type": "code",
   "execution_count": 37,
   "id": "9822c0c8",
   "metadata": {
    "ExecuteTime": {
     "end_time": "2022-01-17T09:01:07.316347Z",
     "start_time": "2022-01-17T09:01:07.097076Z"
    }
   },
   "outputs": [],
   "source": [
    "train_forrest = preprocess_data_logreg(train)"
   ]
  },
  {
   "cell_type": "code",
   "execution_count": 38,
   "id": "e0fc6e09",
   "metadata": {
    "ExecuteTime": {
     "end_time": "2022-01-17T09:01:07.331330Z",
     "start_time": "2022-01-17T09:01:07.318227Z"
    }
   },
   "outputs": [],
   "source": [
    "# нормализация деревьям не нужна\n",
    "# scaler_cols = ['age', 'score_bki', 'bki_request_cnt', 'region_rating', \n",
    "#             'n_days_ago', 'log_income', 'log_decline_app_cnt']\n",
    "# scaler_logreg = skl_pp.StandardScaler()\n",
    "# scaler_logreg.fit(train_forrest[scaler_cols])\n",
    "# train_logreg[scaler_cols] = scaler_logreg.transform(train_forrest[scaler_cols])"
   ]
  },
  {
   "cell_type": "code",
   "execution_count": 39,
   "id": "a9e1bf15",
   "metadata": {
    "ExecuteTime": {
     "end_time": "2022-01-17T09:01:07.346262Z",
     "start_time": "2022-01-17T09:01:07.333450Z"
    }
   },
   "outputs": [
    {
     "name": "stdout",
     "output_type": "stream",
     "text": [
      "(73799, 36) (73799,)\n"
     ]
    }
   ],
   "source": [
    "# делим на признаки и целевую\n",
    "X = train_forrest.drop(columns=['default'])\n",
    "y = train_forrest['default']\n",
    "print(X.shape, y.shape)"
   ]
  },
  {
   "cell_type": "code",
   "execution_count": 40,
   "id": "05e5fd07",
   "metadata": {
    "ExecuteTime": {
     "end_time": "2022-01-17T09:01:10.068758Z",
     "start_time": "2022-01-17T09:01:07.348198Z"
    }
   },
   "outputs": [
    {
     "name": "stdout",
     "output_type": "stream",
     "text": [
      "(128854, 36) (128854,)\n"
     ]
    }
   ],
   "source": [
    "# балансировка библиотекой imblearn\n",
    "oversampling = SMOTE(sampling_strategy='auto', random_state=73)\n",
    "X_ovs, y_ovs = oversampling.fit_resample(X, y)\n",
    "print(X_ovs.shape, y_ovs.shape)"
   ]
  },
  {
   "cell_type": "code",
   "execution_count": 41,
   "id": "58364566",
   "metadata": {
    "ExecuteTime": {
     "end_time": "2022-01-17T09:01:10.160557Z",
     "start_time": "2022-01-17T09:01:10.071750Z"
    }
   },
   "outputs": [
    {
     "name": "stdout",
     "output_type": "stream",
     "text": [
      "(90197, 36) (90197,)\n",
      "(38657, 36) (38657,)\n"
     ]
    }
   ],
   "source": [
    "# деление\n",
    "X_train, X_valid, y_train, y_valid = skl_ms.train_test_split(X_ovs, y_ovs, train_size=0.7, random_state=73)\n",
    "print(X_train.shape, y_train.shape)\n",
    "print(X_valid.shape, y_valid.shape)"
   ]
  },
  {
   "cell_type": "code",
   "execution_count": 42,
   "id": "d410b72f",
   "metadata": {
    "ExecuteTime": {
     "end_time": "2022-01-17T09:01:11.202664Z",
     "start_time": "2022-01-17T09:01:10.162508Z"
    }
   },
   "outputs": [
    {
     "name": "stdout",
     "output_type": "stream",
     "text": [
      "f1 train: 0.9954163739168256\n",
      "f1 valid: 0.9157865937072502\n"
     ]
    }
   ],
   "source": [
    "# обучение и предсказание\n",
    "forrest_2 = skl_en.RandomForestClassifier(n_estimators=16, n_jobs=8) # из хулиганских соображений\n",
    "forrest_2.fit(X_train, y_train)\n",
    "y_train_pred = forrest_2.predict(X_train)\n",
    "y_valid_pred = forrest_2.predict(X_valid)\n",
    "print('f1 train:', skl_mt.f1_score(y_train, y_train_pred))\n",
    "print('f1 valid:', skl_mt.f1_score(y_valid, y_valid_pred))\n",
    "# многообещающе"
   ]
  },
  {
   "cell_type": "code",
   "execution_count": 43,
   "id": "f7f18c07",
   "metadata": {
    "ExecuteTime": {
     "end_time": "2022-01-17T09:01:23.075772Z",
     "start_time": "2022-01-17T09:01:11.204660Z"
    }
   },
   "outputs": [
    {
     "name": "stdout",
     "output_type": "stream",
     "text": [
      "[train] F1-score = 1.00 +/- 0.00\n",
      "[valid] F1-score = 0.91 +/- 0.00\n"
     ]
    },
    {
     "data": {
      "image/png": "[encoded data removed]",
      "text/plain": [
       "<Figure size 1080x360 with 1 Axes>"
      ]
     },
     "metadata": {
      "needs_background": "light"
     },
     "output_type": "display_data"
    }
   ],
   "source": [
    "# проверим кросс-вадидацией что ли\n",
    "cv_metrics = skl_ms.cross_validate(forrest_2, X_train, y_train, cv=10, scoring='f1', return_train_score=True)\n",
    "\n",
    "def plot_cv_metrics(cv_metrics):\n",
    "    avg_f1_train, std_f1_train = cv_metrics['train_score'].mean(), cv_metrics['train_score'].std()\n",
    "    avg_f1_valid, std_f1_valid = cv_metrics['test_score'].mean(), cv_metrics['test_score'].std()\n",
    "    print('[train] F1-score = {:.2f} +/- {:.2f}'.format(avg_f1_train, std_f1_train))\n",
    "    print('[valid] F1-score = {:.2f} +/- {:.2f}'.format(avg_f1_valid, std_f1_valid))\n",
    "    \n",
    "    plt.figure(figsize=(15, 5))\n",
    "\n",
    "    plt.plot(cv_metrics['train_score'], label='train', marker='.')\n",
    "    plt.plot(cv_metrics['test_score'], label='valid', marker='.')\n",
    "\n",
    "    plt.ylim([0., 1.]);\n",
    "    plt.xlabel('CV iteration', fontsize=15)\n",
    "    plt.ylabel('F1-score', fontsize=15)\n",
    "    plt.legend(fontsize=15)\n",
    "    \n",
    "plot_cv_metrics(cv_metrics)\n",
    "# в целом стабильно"
   ]
  },
  {
   "cell_type": "markdown",
   "id": "f870854d",
   "metadata": {},
   "source": [
    "# Результат"
   ]
  },
  {
   "cell_type": "markdown",
   "id": "541e6c7e",
   "metadata": {},
   "source": [
    "## Снова загружаем данные"
   ]
  },
  {
   "cell_type": "code",
   "execution_count": 44,
   "id": "a8ecdd4e",
   "metadata": {
    "ExecuteTime": {
     "end_time": "2022-01-17T09:01:23.388888Z",
     "start_time": "2022-01-17T09:01:23.078694Z"
    }
   },
   "outputs": [],
   "source": [
    "train = pd.read_csv('train.csv', index_col='client_id', parse_dates=['app_date'])\n",
    "test = pd.read_csv('test.csv', index_col='client_id', parse_dates=['app_date'])"
   ]
  },
  {
   "cell_type": "markdown",
   "id": "d628636d",
   "metadata": {},
   "source": [
    "## Логистическая регрессия"
   ]
  },
  {
   "cell_type": "code",
   "execution_count": 45,
   "id": "793d9c2b",
   "metadata": {
    "ExecuteTime": {
     "end_time": "2022-01-17T09:01:30.528327Z",
     "start_time": "2022-01-17T09:01:23.391856Z"
    }
   },
   "outputs": [
    {
     "name": "stdout",
     "output_type": "stream",
     "text": [
      "f1 train: 0.704476870922448\n"
     ]
    }
   ],
   "source": [
    "# предпроцессинг\n",
    "train_logreg = preprocess_data_logreg(train)\n",
    "test_logreg = preprocess_data_logreg(test)\n",
    "\n",
    "# нормализация\n",
    "scaler_cols = ['age', 'score_bki', 'bki_request_cnt', 'region_rating', \n",
    "               'n_days_ago', 'log_income', 'log_decline_app_cnt']\n",
    "# scaler_logreg = skl_pp.RobustScaler()\n",
    "# scaler_logreg.fit(train_logreg[scaler_cols])\n",
    "# train_logreg[scaler_cols] = scaler_logreg.transform(train_logreg[scaler_cols])\n",
    "# test_logreg[scaler_cols] = scaler_logreg.transform(test_logreg[scaler_cols])\n",
    "\n",
    "# minmax оказывается лучше Robust и это очень странно\n",
    "train_logreg[scaler_cols] = skl_pp.minmax_scale(train_logreg[scaler_cols])\n",
    "test_logreg[scaler_cols] = skl_pp.minmax_scale(test_logreg[scaler_cols])\n",
    "\n",
    "# делим обучение\n",
    "X = train_logreg.drop(columns=['default'])\n",
    "y = train_logreg['default']\n",
    "\n",
    "# оверсемплинг\n",
    "oversampling = SMOTE(sampling_strategy='auto', random_state=73)\n",
    "X_train, y_train = oversampling.fit_resample(X, y)\n",
    "\n",
    "# тестовые данные\n",
    "X_test = test_logreg\n",
    "\n",
    "# обучение и предсказание\n",
    "logit_final = skl_lm.LogisticRegression(random_state=73, max_iter=10000)\n",
    "logit_final.fit(X_train, y_train)\n",
    "y_train_pred = logit_final.predict(X_train)\n",
    "y_test_pred = logit_final.predict(X_test)\n",
    "print('f1 train:', skl_mt.f1_score(y_train, y_train_pred)) # самоконтроль"
   ]
  },
  {
   "cell_type": "markdown",
   "id": "4d23ddb0",
   "metadata": {},
   "source": [
    "## Случайный лес"
   ]
  },
  {
   "cell_type": "code",
   "execution_count": 46,
   "id": "8462d506",
   "metadata": {
    "ExecuteTime": {
     "end_time": "2022-01-17T09:01:30.544280Z",
     "start_time": "2022-01-17T09:01:30.531273Z"
    }
   },
   "outputs": [],
   "source": [
    "# # предпроцессинг\n",
    "# train_forrest = preprocess_data_forrest(train)\n",
    "# test_forrest = preprocess_data_forrest(test)\n",
    "\n",
    "# # делим обучение\n",
    "# X = train_forrest.drop(columns=['default'])\n",
    "# y = train_forrest['default']\n",
    "\n",
    "# # оверсемплинг\n",
    "# oversampling = SMOTE(sampling_strategy='auto', random_state=73)\n",
    "# X_train, y_train = oversampling.fit_resample(X, y)\n",
    "\n",
    "# # тестовые данные\n",
    "# X_test = test_forrest\n",
    "\n",
    "# # обучение и предсказание\n",
    "# forrest_final = skl_en.RandomForestClassifier(n_estimators=4, n_jobs=8)\n",
    "# forrest_final.fit(X_train, y_train)\n",
    "# y_train_pred = forrest_final.predict(X_train)\n",
    "# y_test_pred = forrest_final.predict(X_test)\n",
    "# print('f1 train:', skl_mt.f1_score(y_train, y_train_pred)) # самоконтроль\n",
    "\n",
    "# # даёт очень низкую оценку на kaggle"
   ]
  },
  {
   "cell_type": "markdown",
   "id": "fcfe966a",
   "metadata": {
    "ExecuteTime": {
     "end_time": "2022-01-12T15:09:05.701079Z",
     "start_time": "2022-01-12T15:09:05.620265Z"
    }
   },
   "source": [
    "## Файл для Kaggle"
   ]
  },
  {
   "cell_type": "code",
   "execution_count": 47,
   "id": "07d3d438",
   "metadata": {
    "ExecuteTime": {
     "end_time": "2022-01-17T09:01:30.640033Z",
     "start_time": "2022-01-17T09:01:30.546751Z"
    },
    "scrolled": false
   },
   "outputs": [
    {
     "data": {
      "text/html": [
       "<div>\n",
       "<style scoped>\n",
       "    .dataframe tbody tr th:only-of-type {\n",
       "        vertical-align: middle;\n",
       "    }\n",
       "\n",
       "    .dataframe tbody tr th {\n",
       "        vertical-align: top;\n",
       "    }\n",
       "\n",
       "    .dataframe thead th {\n",
       "        text-align: right;\n",
       "    }\n",
       "</style>\n",
       "<table border=\"1\" class=\"dataframe\">\n",
       "  <thead>\n",
       "    <tr style=\"text-align: right;\">\n",
       "      <th></th>\n",
       "      <th>client_id</th>\n",
       "      <th>default</th>\n",
       "    </tr>\n",
       "  </thead>\n",
       "  <tbody>\n",
       "    <tr>\n",
       "      <th>0</th>\n",
       "      <td>74835</td>\n",
       "      <td>0</td>\n",
       "    </tr>\n",
       "    <tr>\n",
       "      <th>1</th>\n",
       "      <td>17527</td>\n",
       "      <td>1</td>\n",
       "    </tr>\n",
       "    <tr>\n",
       "      <th>2</th>\n",
       "      <td>75683</td>\n",
       "      <td>0</td>\n",
       "    </tr>\n",
       "    <tr>\n",
       "      <th>3</th>\n",
       "      <td>26883</td>\n",
       "      <td>0</td>\n",
       "    </tr>\n",
       "    <tr>\n",
       "      <th>4</th>\n",
       "      <td>28862</td>\n",
       "      <td>0</td>\n",
       "    </tr>\n",
       "    <tr>\n",
       "      <th>...</th>\n",
       "      <td>...</td>\n",
       "      <td>...</td>\n",
       "    </tr>\n",
       "    <tr>\n",
       "      <th>36344</th>\n",
       "      <td>83775</td>\n",
       "      <td>1</td>\n",
       "    </tr>\n",
       "    <tr>\n",
       "      <th>36345</th>\n",
       "      <td>106254</td>\n",
       "      <td>0</td>\n",
       "    </tr>\n",
       "    <tr>\n",
       "      <th>36346</th>\n",
       "      <td>81852</td>\n",
       "      <td>1</td>\n",
       "    </tr>\n",
       "    <tr>\n",
       "      <th>36347</th>\n",
       "      <td>1971</td>\n",
       "      <td>1</td>\n",
       "    </tr>\n",
       "    <tr>\n",
       "      <th>36348</th>\n",
       "      <td>69044</td>\n",
       "      <td>1</td>\n",
       "    </tr>\n",
       "  </tbody>\n",
       "</table>\n",
       "<p>36349 rows × 2 columns</p>\n",
       "</div>"
      ],
      "text/plain": [
       "       client_id  default\n",
       "0          74835        0\n",
       "1          17527        1\n",
       "2          75683        0\n",
       "3          26883        0\n",
       "4          28862        0\n",
       "...          ...      ...\n",
       "36344      83775        1\n",
       "36345     106254        0\n",
       "36346      81852        1\n",
       "36347       1971        1\n",
       "36348      69044        1\n",
       "\n",
       "[36349 rows x 2 columns]"
      ]
     },
     "execution_count": 47,
     "metadata": {},
     "output_type": "execute_result"
    }
   ],
   "source": [
    "submission = pd.read_csv('sample_submission.csv')\n",
    "submission['default'] = y_test_pred\n",
    "submission.to_csv('submission.csv', index=False)\n",
    "submission"
   ]
  },
  {
   "cell_type": "code",
   "execution_count": null,
   "id": "0f06bd2c",
   "metadata": {},
   "outputs": [],
   "source": []
  }
 ],
 "metadata": {
  "kernelspec": {
   "display_name": "Python 3",
   "language": "python",
   "name": "python3"
  },
  "language_info": {
   "codemirror_mode": {
    "name": "ipython",
    "version": 3
   },
   "file_extension": ".py",
   "mimetype": "text/x-python",
   "name": "python",
   "nbconvert_exporter": "python",
   "pygments_lexer": "ipython3",
   "version": "3.8.8"
  },
  "toc": {
   "base_numbering": 1,
   "nav_menu": {},
   "number_sections": true,
   "sideBar": true,
   "skip_h1_title": false,
   "title_cell": "Table of Contents",
   "title_sidebar": "Contents",
   "toc_cell": false,
   "toc_position": {},
   "toc_section_display": true,
   "toc_window_display": false
  }
 },
 "nbformat": 4,
 "nbformat_minor": 5
}
