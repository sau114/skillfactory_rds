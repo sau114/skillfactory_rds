{
 "cells": [
  {
   "cell_type": "markdown",
   "metadata": {},
   "source": [
    "# Загрузка и очистка данных"
   ]
  },
  {
   "cell_type": "code",
   "execution_count": 1,
   "metadata": {
    "ExecuteTime": {
     "end_time": "2021-11-11T13:35:02.332890Z",
     "start_time": "2021-11-11T13:34:59.148805Z"
    }
   },
   "outputs": [],
   "source": [
    "import pandas as pd\n",
    "import numpy as np\n",
    "\n",
    "import re\n",
    "\n",
    "import matplotlib.pyplot as plt\n",
    "import seaborn as sns \n",
    "%matplotlib inline\n",
    "\n",
    "import scipy.stats as sps"
   ]
  },
  {
   "cell_type": "code",
   "execution_count": 2,
   "metadata": {
    "ExecuteTime": {
     "end_time": "2021-11-11T13:35:02.601640Z",
     "start_time": "2021-11-11T13:35:02.332890Z"
    }
   },
   "outputs": [],
   "source": [
    "df_train = pd.read_csv('main_task.csv')\n",
    "# df_test = pd.read_csv('kaggle_task.csv')"
   ]
  },
  {
   "cell_type": "markdown",
   "metadata": {
    "ExecuteTime": {
     "end_time": "2021-11-05T13:24:35.869322Z",
     "start_time": "2021-11-05T13:24:35.854085Z"
    }
   },
   "source": [
    "## Посмотрим, что получили"
   ]
  },
  {
   "cell_type": "markdown",
   "metadata": {},
   "source": [
    "Подробнее по признакам:\n",
    "* City: Город \n",
    "* Cuisine Style: Кухня\n",
    "* Ranking: Ранг ресторана относительно других ресторанов в этом городе\n",
    "* Price Range: Цены в ресторане в 3 категориях\n",
    "* Number of Reviews: Количество отзывов\n",
    "* Reviews: 2 последних отзыва и даты этих отзывов\n",
    "* URL_TA: страница ресторана на 'www.tripadvisor.com' \n",
    "* ID_TA: ID ресторана в TripAdvisor\n",
    "* Rating: Рейтинг ресторана"
   ]
  },
  {
   "cell_type": "code",
   "execution_count": 3,
   "metadata": {
    "ExecuteTime": {
     "end_time": "2021-11-11T13:35:02.664978Z",
     "start_time": "2021-11-11T13:35:02.603634Z"
    }
   },
   "outputs": [
    {
     "name": "stdout",
     "output_type": "stream",
     "text": [
      "<class 'pandas.core.frame.DataFrame'>\n",
      "RangeIndex: 40000 entries, 0 to 39999\n",
      "Data columns (total 10 columns):\n",
      " #   Column             Non-Null Count  Dtype  \n",
      "---  ------             --------------  -----  \n",
      " 0   Restaurant_id      40000 non-null  object \n",
      " 1   City               40000 non-null  object \n",
      " 2   Cuisine Style      30717 non-null  object \n",
      " 3   Ranking            40000 non-null  float64\n",
      " 4   Rating             40000 non-null  float64\n",
      " 5   Price Range        26114 non-null  object \n",
      " 6   Number of Reviews  37457 non-null  float64\n",
      " 7   Reviews            40000 non-null  object \n",
      " 8   URL_TA             40000 non-null  object \n",
      " 9   ID_TA              40000 non-null  object \n",
      "dtypes: float64(3), object(7)\n",
      "memory usage: 23.7 MB\n"
     ]
    }
   ],
   "source": [
    "df_train.info(memory_usage='deep')"
   ]
  },
  {
   "cell_type": "code",
   "execution_count": 4,
   "metadata": {
    "ExecuteTime": {
     "end_time": "2021-11-11T13:35:02.696594Z",
     "start_time": "2021-11-11T13:35:02.665973Z"
    }
   },
   "outputs": [
    {
     "data": {
      "text/html": [
       "<div>\n",
       "<style scoped>\n",
       "    .dataframe tbody tr th:only-of-type {\n",
       "        vertical-align: middle;\n",
       "    }\n",
       "\n",
       "    .dataframe tbody tr th {\n",
       "        vertical-align: top;\n",
       "    }\n",
       "\n",
       "    .dataframe thead th {\n",
       "        text-align: right;\n",
       "    }\n",
       "</style>\n",
       "<table border=\"1\" class=\"dataframe\">\n",
       "  <thead>\n",
       "    <tr style=\"text-align: right;\">\n",
       "      <th></th>\n",
       "      <th>Restaurant_id</th>\n",
       "      <th>City</th>\n",
       "      <th>Cuisine Style</th>\n",
       "      <th>Ranking</th>\n",
       "      <th>Rating</th>\n",
       "      <th>Price Range</th>\n",
       "      <th>Number of Reviews</th>\n",
       "      <th>Reviews</th>\n",
       "      <th>URL_TA</th>\n",
       "      <th>ID_TA</th>\n",
       "    </tr>\n",
       "  </thead>\n",
       "  <tbody>\n",
       "    <tr>\n",
       "      <th>0</th>\n",
       "      <td>id_5569</td>\n",
       "      <td>Paris</td>\n",
       "      <td>['European', 'French', 'International']</td>\n",
       "      <td>5570.0</td>\n",
       "      <td>3.5</td>\n",
       "      <td>$$ - $$$</td>\n",
       "      <td>194.0</td>\n",
       "      <td>[['Good food at your doorstep', 'A good hotel ...</td>\n",
       "      <td>/Restaurant_Review-g187147-d1912643-Reviews-R_...</td>\n",
       "      <td>d1912643</td>\n",
       "    </tr>\n",
       "    <tr>\n",
       "      <th>1</th>\n",
       "      <td>id_1535</td>\n",
       "      <td>Stockholm</td>\n",
       "      <td>NaN</td>\n",
       "      <td>1537.0</td>\n",
       "      <td>4.0</td>\n",
       "      <td>NaN</td>\n",
       "      <td>10.0</td>\n",
       "      <td>[['Unique cuisine', 'Delicious Nepalese food']...</td>\n",
       "      <td>/Restaurant_Review-g189852-d7992032-Reviews-Bu...</td>\n",
       "      <td>d7992032</td>\n",
       "    </tr>\n",
       "    <tr>\n",
       "      <th>2</th>\n",
       "      <td>id_352</td>\n",
       "      <td>London</td>\n",
       "      <td>['Japanese', 'Sushi', 'Asian', 'Grill', 'Veget...</td>\n",
       "      <td>353.0</td>\n",
       "      <td>4.5</td>\n",
       "      <td>$$$$</td>\n",
       "      <td>688.0</td>\n",
       "      <td>[['Catch up with friends', 'Not exceptional'],...</td>\n",
       "      <td>/Restaurant_Review-g186338-d8632781-Reviews-RO...</td>\n",
       "      <td>d8632781</td>\n",
       "    </tr>\n",
       "    <tr>\n",
       "      <th>3</th>\n",
       "      <td>id_3456</td>\n",
       "      <td>Berlin</td>\n",
       "      <td>NaN</td>\n",
       "      <td>3458.0</td>\n",
       "      <td>5.0</td>\n",
       "      <td>NaN</td>\n",
       "      <td>3.0</td>\n",
       "      <td>[[], []]</td>\n",
       "      <td>/Restaurant_Review-g187323-d1358776-Reviews-Es...</td>\n",
       "      <td>d1358776</td>\n",
       "    </tr>\n",
       "    <tr>\n",
       "      <th>4</th>\n",
       "      <td>id_615</td>\n",
       "      <td>Munich</td>\n",
       "      <td>['German', 'Central European', 'Vegetarian Fri...</td>\n",
       "      <td>621.0</td>\n",
       "      <td>4.0</td>\n",
       "      <td>$$ - $$$</td>\n",
       "      <td>84.0</td>\n",
       "      <td>[['Best place to try a Bavarian food', 'Nice b...</td>\n",
       "      <td>/Restaurant_Review-g187309-d6864963-Reviews-Au...</td>\n",
       "      <td>d6864963</td>\n",
       "    </tr>\n",
       "  </tbody>\n",
       "</table>\n",
       "</div>"
      ],
      "text/plain": [
       "  Restaurant_id       City                                      Cuisine Style  \\\n",
       "0       id_5569      Paris            ['European', 'French', 'International']   \n",
       "1       id_1535  Stockholm                                                NaN   \n",
       "2        id_352     London  ['Japanese', 'Sushi', 'Asian', 'Grill', 'Veget...   \n",
       "3       id_3456     Berlin                                                NaN   \n",
       "4        id_615     Munich  ['German', 'Central European', 'Vegetarian Fri...   \n",
       "\n",
       "   Ranking  Rating Price Range  Number of Reviews  \\\n",
       "0   5570.0     3.5    $$ - $$$              194.0   \n",
       "1   1537.0     4.0         NaN               10.0   \n",
       "2    353.0     4.5        $$$$              688.0   \n",
       "3   3458.0     5.0         NaN                3.0   \n",
       "4    621.0     4.0    $$ - $$$               84.0   \n",
       "\n",
       "                                             Reviews  \\\n",
       "0  [['Good food at your doorstep', 'A good hotel ...   \n",
       "1  [['Unique cuisine', 'Delicious Nepalese food']...   \n",
       "2  [['Catch up with friends', 'Not exceptional'],...   \n",
       "3                                           [[], []]   \n",
       "4  [['Best place to try a Bavarian food', 'Nice b...   \n",
       "\n",
       "                                              URL_TA     ID_TA  \n",
       "0  /Restaurant_Review-g187147-d1912643-Reviews-R_...  d1912643  \n",
       "1  /Restaurant_Review-g189852-d7992032-Reviews-Bu...  d7992032  \n",
       "2  /Restaurant_Review-g186338-d8632781-Reviews-RO...  d8632781  \n",
       "3  /Restaurant_Review-g187323-d1358776-Reviews-Es...  d1358776  \n",
       "4  /Restaurant_Review-g187309-d6864963-Reviews-Au...  d6864963  "
      ]
     },
     "execution_count": 4,
     "metadata": {},
     "output_type": "execute_result"
    }
   ],
   "source": [
    "df_train.head()"
   ]
  },
  {
   "cell_type": "markdown",
   "metadata": {},
   "source": [
    "- В целевой переменной Rating пропусков нет\n",
    "- В признаках Cuisine Style, Price Range, Number of Reviews есть пропуски\n",
    "- Признаки Cuisine Style, Reviews надо разбирать на списки\n",
    "- Признаки City, Price Range - категориальные\n",
    "- Что делать с URL_TA пока неясно\n",
    "- Признаки Restaurant_id и ID_TA считаем бесполезными для предсказания"
   ]
  },
  {
   "cell_type": "markdown",
   "metadata": {},
   "source": [
    "## Готовим объединённый датасет"
   ]
  },
  {
   "cell_type": "code",
   "execution_count": 5,
   "metadata": {
    "ExecuteTime": {
     "end_time": "2021-11-11T13:35:02.711575Z",
     "start_time": "2021-11-11T13:35:02.698577Z"
    }
   },
   "outputs": [],
   "source": [
    "# делаем имена попроще\n",
    "df_train.columns = ['Restaurant_id', 'City', 'Cuisine', 'Ranking', 'Rating', 'Price', 'nReviews', 'Reviews', 'URL_TA', 'ID_TA']"
   ]
  },
  {
   "cell_type": "code",
   "execution_count": 6,
   "metadata": {
    "ExecuteTime": {
     "end_time": "2021-11-11T13:35:02.726534Z",
     "start_time": "2021-11-11T13:35:02.713537Z"
    }
   },
   "outputs": [],
   "source": [
    "# дропаем лишнее\n",
    "df = df_train.drop(columns=['Restaurant_id', 'URL_TA', 'ID_TA'])"
   ]
  },
  {
   "cell_type": "markdown",
   "metadata": {},
   "source": [
    "## Чистим, заполняем и преобразуем данные"
   ]
  },
  {
   "cell_type": "markdown",
   "metadata": {
    "ExecuteTime": {
     "end_time": "2021-11-05T14:07:29.617791Z",
     "start_time": "2021-11-05T14:07:29.599705Z"
    }
   },
   "source": [
    "### Price Range"
   ]
  },
  {
   "cell_type": "code",
   "execution_count": 7,
   "metadata": {
    "ExecuteTime": {
     "end_time": "2021-11-11T13:35:02.742462Z",
     "start_time": "2021-11-11T13:35:02.730491Z"
    }
   },
   "outputs": [
    {
     "data": {
      "text/plain": [
       "array(['$$ - $$$', nan, '$$$$', '$'], dtype=object)"
      ]
     },
     "execution_count": 7,
     "metadata": {},
     "output_type": "execute_result"
    }
   ],
   "source": [
    "df['Price'].unique()"
   ]
  },
  {
   "cell_type": "code",
   "execution_count": 8,
   "metadata": {
    "ExecuteTime": {
     "end_time": "2021-11-11T13:35:02.774377Z",
     "start_time": "2021-11-11T13:35:02.744456Z"
    }
   },
   "outputs": [
    {
     "data": {
      "text/plain": [
       "array([ 2., nan,  3.,  1.])"
      ]
     },
     "execution_count": 8,
     "metadata": {},
     "output_type": "execute_result"
    }
   ],
   "source": [
    "# заменим на числа\n",
    "price_dict = {'$': 1, '$$ - $$$': 2, '$$$$': 3}\n",
    "df['Price'] = df['Price'].replace(to_replace=price_dict)\n",
    "df['Price'].unique()"
   ]
  },
  {
   "cell_type": "code",
   "execution_count": 9,
   "metadata": {
    "ExecuteTime": {
     "end_time": "2021-11-11T13:35:02.790332Z",
     "start_time": "2021-11-11T13:35:02.776371Z"
    }
   },
   "outputs": [],
   "source": [
    "# отметим, где были пропуски\n",
    "df['Price_WasNA'] = df['Price'].isna().astype('uint8')"
   ]
  },
  {
   "cell_type": "code",
   "execution_count": 10,
   "metadata": {
    "ExecuteTime": {
     "end_time": "2021-11-11T13:35:02.882119Z",
     "start_time": "2021-11-11T13:35:02.792328Z"
    }
   },
   "outputs": [],
   "source": [
    "# попробуем использовать стоимость, как дробную величину для заполнения пропусков\n",
    "# заменим стоимость на среднюю по городу\n",
    "price_by_city = df[['City', 'Price']].groupby(by='City').agg(['min', 'mean', 'max'])\n",
    "price_by_city = price_by_city['Price']\n",
    "# готовим столбец для замены Price на среднее по City\n",
    "mean_price_values = {price_by_city.index[i]: price_by_city['mean'].values[i] for i in range(price_by_city.shape[0])}\n",
    "df.loc[df['Price'].isna(), 'Price'] = df['City'].replace(to_replace=mean_price_values)"
   ]
  },
  {
   "cell_type": "markdown",
   "metadata": {
    "ExecuteTime": {
     "end_time": "2021-11-05T14:07:29.617791Z",
     "start_time": "2021-11-05T14:07:29.599705Z"
    }
   },
   "source": [
    "### City"
   ]
  },
  {
   "cell_type": "code",
   "execution_count": 11,
   "metadata": {
    "ExecuteTime": {
     "end_time": "2021-11-11T13:35:02.898051Z",
     "start_time": "2021-11-11T13:35:02.884082Z"
    }
   },
   "outputs": [
    {
     "data": {
      "text/plain": [
       "London        5757\n",
       "Paris         4897\n",
       "Madrid        3108\n",
       "Barcelona     2734\n",
       "Berlin        2155\n",
       "Milan         2133\n",
       "Rome          2078\n",
       "Prague        1443\n",
       "Lisbon        1300\n",
       "Vienna        1166\n",
       "Amsterdam     1086\n",
       "Brussels      1060\n",
       "Hamburg        949\n",
       "Munich         893\n",
       "Lyon           892\n",
       "Stockholm      820\n",
       "Budapest       816\n",
       "Warsaw         727\n",
       "Dublin         673\n",
       "Copenhagen     659\n",
       "Athens         628\n",
       "Edinburgh      596\n",
       "Zurich         538\n",
       "Oporto         513\n",
       "Geneva         481\n",
       "Krakow         443\n",
       "Oslo           385\n",
       "Helsinki       376\n",
       "Bratislava     301\n",
       "Luxembourg     210\n",
       "Ljubljana      183\n",
       "Name: City, dtype: int64"
      ]
     },
     "execution_count": 11,
     "metadata": {},
     "output_type": "execute_result"
    }
   ],
   "source": [
    "df['City'].value_counts()"
   ]
  },
  {
   "cell_type": "code",
   "execution_count": 12,
   "metadata": {
    "ExecuteTime": {
     "end_time": "2021-11-11T13:35:02.914033Z",
     "start_time": "2021-11-11T13:35:02.900048Z"
    }
   },
   "outputs": [],
   "source": [
    "# сделаем признак категориальным\n",
    "df['City'] = df['City'].astype('category')"
   ]
  },
  {
   "cell_type": "markdown",
   "metadata": {},
   "source": [
    "### Cuisine Style"
   ]
  },
  {
   "cell_type": "code",
   "execution_count": 13,
   "metadata": {
    "ExecuteTime": {
     "end_time": "2021-11-11T13:35:02.929958Z",
     "start_time": "2021-11-11T13:35:02.916003Z"
    }
   },
   "outputs": [],
   "source": [
    "# извлекает список значений из строки вида\n",
    "# ['European', 'French', 'International']\n",
    "def extract_list(s):\n",
    "    if pd.notna(s):\n",
    "        return list(filter(None, re.split(\"'(.*?)'[,\\s]*\", s.strip('[]'))))\n",
    "    else:\n",
    "        return []"
   ]
  },
  {
   "cell_type": "code",
   "execution_count": 14,
   "metadata": {
    "ExecuteTime": {
     "end_time": "2021-11-11T13:35:03.103493Z",
     "start_time": "2021-11-11T13:35:02.932983Z"
    }
   },
   "outputs": [
    {
     "data": {
      "text/plain": [
       "0                        [European, French, International]\n",
       "1                                                       []\n",
       "2        [Japanese, Sushi, Asian, Grill, Vegetarian Fri...\n",
       "3                                                       []\n",
       "4          [German, Central European, Vegetarian Friendly]\n",
       "                               ...                        \n",
       "39995    [Italian, Vegetarian Friendly, Vegan Options, ...\n",
       "39996    [French, American, Bar, European, Vegetarian F...\n",
       "39997                                    [Japanese, Sushi]\n",
       "39998    [Polish, European, Eastern European, Central E...\n",
       "39999                                            [Spanish]\n",
       "Name: Cuisine, Length: 40000, dtype: object"
      ]
     },
     "execution_count": 14,
     "metadata": {},
     "output_type": "execute_result"
    }
   ],
   "source": [
    "df['Cuisine'] = df['Cuisine'].apply(extract_list)\n",
    "df['Cuisine']"
   ]
  },
  {
   "cell_type": "code",
   "execution_count": 15,
   "metadata": {
    "ExecuteTime": {
     "end_time": "2021-11-11T13:35:03.213200Z",
     "start_time": "2021-11-11T13:35:03.105489Z"
    }
   },
   "outputs": [
    {
     "name": "stdout",
     "output_type": "stream",
     "text": [
      "125\n"
     ]
    },
    {
     "data": {
      "text/plain": [
       "array(['European', 'French', 'International', nan, 'Japanese', 'Sushi',\n",
       "       'Asian', 'Grill', 'Vegetarian Friendly', 'Vegan Options',\n",
       "       'Gluten Free Options', 'German', 'Central European', 'Italian',\n",
       "       'Pizza', 'Fast Food', 'Mediterranean', 'Spanish', 'Healthy',\n",
       "       'Cafe', 'Thai', 'Vietnamese', 'Bar', 'Pub', 'Chinese', 'British',\n",
       "       'Polish', 'Fusion', 'Dutch', 'Mexican', 'Venezuelan',\n",
       "       'South American', 'Soups', 'Belgian', 'Steakhouse', 'Latin',\n",
       "       'Barbecue', 'Argentinean', 'Irish', 'Seafood', 'Swiss',\n",
       "       'Portuguese', 'Contemporary', 'Wine Bar', 'Greek',\n",
       "       'Central American', 'Indian', 'Middle Eastern', 'Turkish',\n",
       "       'Hungarian', 'Pakistani', 'Peruvian', 'Delicatessen',\n",
       "       'Eastern European', 'Swedish', 'Scandinavian', 'Tibetan', 'Nepali',\n",
       "       'Korean', 'Southwestern', 'Czech', 'American', 'Slovenian',\n",
       "       'Balti', 'Street Food', 'Diner', 'Brew Pub', 'Caribbean',\n",
       "       'Austrian', 'Moroccan', 'Halal', 'Lebanese', 'Russian', 'African',\n",
       "       'Ethiopian', 'Egyptian', 'Danish', 'Brazilian', 'Ecuadorean',\n",
       "       'Israeli', 'Kosher', 'Gastropub', 'Australian', 'Singaporean',\n",
       "       'Malaysian', 'Minority Chinese', 'Scottish', 'Arabic', 'Ukrainian',\n",
       "       'Chilean', 'Mongolian', 'Cuban', 'Persian', 'Indonesian',\n",
       "       'Colombian', 'Jamaican', 'Norwegian', 'Hawaiian', 'Armenian',\n",
       "       'Taiwanese', 'Bangladeshi', 'Sri Lankan', 'Cambodian', 'Albanian',\n",
       "       'New Zealand', 'Croatian', 'Central Asian', 'Filipino', 'Tunisian',\n",
       "       'Cajun & Creole', 'Romanian', 'Georgian', 'Polynesian',\n",
       "       'Azerbaijani', 'Caucasian', 'Afghani', 'Uzbek', 'Salvadoran',\n",
       "       'Yunnan', 'Native American', 'Canadian', 'Xinjiang', 'Burmese',\n",
       "       'Fujian', 'Welsh', 'Latvian'], dtype=object)"
      ]
     },
     "execution_count": 15,
     "metadata": {},
     "output_type": "execute_result"
    }
   ],
   "source": [
    "# сколько всего видов кухни\n",
    "print(df['Cuisine'].explode().nunique())\n",
    "# и как называются\n",
    "df['Cuisine'].explode().unique()\n",
    "# слишком много, чтобы работать в лоб"
   ]
  },
  {
   "cell_type": "code",
   "execution_count": 16,
   "metadata": {
    "ExecuteTime": {
     "end_time": "2021-11-11T13:35:03.289173Z",
     "start_time": "2021-11-11T13:35:03.216200Z"
    }
   },
   "outputs": [
    {
     "data": {
      "text/plain": [
       "Vegetarian Friendly    11189\n",
       "European               10060\n",
       "Mediterranean           6277\n",
       "Italian                 5964\n",
       "Vegan Options           4486\n",
       "                       ...  \n",
       "Salvadoran                 1\n",
       "Latvian                    1\n",
       "Xinjiang                   1\n",
       "Yunnan                     1\n",
       "Burmese                    1\n",
       "Name: Cuisine, Length: 125, dtype: int64"
      ]
     },
     "execution_count": 16,
     "metadata": {},
     "output_type": "execute_result"
    }
   ],
   "source": [
    "# популярность видов кухонь\n",
    "df['Cuisine'].explode().value_counts()\n",
    "# есть очень редкие"
   ]
  },
  {
   "cell_type": "code",
   "execution_count": 17,
   "metadata": {
    "ExecuteTime": {
     "end_time": "2021-11-11T13:35:03.320059Z",
     "start_time": "2021-11-11T13:35:03.291144Z"
    }
   },
   "outputs": [],
   "source": [
    "# заполним пропуски отдельной меткой\n",
    "df['Cuisine'] = df['Cuisine'].apply(lambda x: x if len(x)>0 else ['Unknown'])"
   ]
  },
  {
   "cell_type": "markdown",
   "metadata": {},
   "source": [
    "### Reviews"
   ]
  },
  {
   "cell_type": "code",
   "execution_count": 18,
   "metadata": {
    "ExecuteTime": {
     "end_time": "2021-11-11T13:35:03.335176Z",
     "start_time": "2021-11-11T13:35:03.323065Z"
    }
   },
   "outputs": [],
   "source": [
    "# извлекает список списков из строки вида\n",
    "# [['Good food at your doorstep', 'A good hotel restaurant'], ['12/31/2017', '11/20/2017']]\n",
    "def extract_list_in_list(s):\n",
    "    if pd.notna(s):\n",
    "        return list(filter(None, re.split(\"\\[\\[(.*)\\],\\s\\[(.*)\\]\\]\", s)))\n",
    "    else:\n",
    "        return []"
   ]
  },
  {
   "cell_type": "code",
   "execution_count": 19,
   "metadata": {
    "ExecuteTime": {
     "end_time": "2021-11-11T13:35:14.327342Z",
     "start_time": "2021-11-11T13:35:03.337138Z"
    }
   },
   "outputs": [],
   "source": [
    "df['Reviews'] = df['Reviews'].apply(extract_list_in_list)\n",
    "df['ReviewsText'] = df['Reviews'].apply(lambda x: extract_list(x[0]) if x else [])\n",
    "df['ReviewsDate'] = df['Reviews'].apply(lambda x: list(pd.to_datetime(extract_list(x[1]))) if x else [])\n",
    "df.drop(columns='Reviews', inplace=True)"
   ]
  },
  {
   "cell_type": "code",
   "execution_count": 20,
   "metadata": {
    "ExecuteTime": {
     "end_time": "2021-11-11T13:35:14.359284Z",
     "start_time": "2021-11-11T13:35:14.327342Z"
    }
   },
   "outputs": [
    {
     "data": {
      "text/html": [
       "<div>\n",
       "<style scoped>\n",
       "    .dataframe tbody tr th:only-of-type {\n",
       "        vertical-align: middle;\n",
       "    }\n",
       "\n",
       "    .dataframe tbody tr th {\n",
       "        vertical-align: top;\n",
       "    }\n",
       "\n",
       "    .dataframe thead th {\n",
       "        text-align: right;\n",
       "    }\n",
       "</style>\n",
       "<table border=\"1\" class=\"dataframe\">\n",
       "  <thead>\n",
       "    <tr style=\"text-align: right;\">\n",
       "      <th></th>\n",
       "      <th>ReviewsText</th>\n",
       "      <th>ReviewsDate</th>\n",
       "    </tr>\n",
       "  </thead>\n",
       "  <tbody>\n",
       "    <tr>\n",
       "      <th>0</th>\n",
       "      <td>[Good food at your doorstep, A good hotel rest...</td>\n",
       "      <td>[2017-12-31 00:00:00, 2017-11-20 00:00:00]</td>\n",
       "    </tr>\n",
       "    <tr>\n",
       "      <th>1</th>\n",
       "      <td>[Unique cuisine, Delicious Nepalese food]</td>\n",
       "      <td>[2017-07-06 00:00:00, 2016-06-19 00:00:00]</td>\n",
       "    </tr>\n",
       "    <tr>\n",
       "      <th>2</th>\n",
       "      <td>[Catch up with friends, Not exceptional]</td>\n",
       "      <td>[2018-01-08 00:00:00, 2018-01-06 00:00:00]</td>\n",
       "    </tr>\n",
       "    <tr>\n",
       "      <th>3</th>\n",
       "      <td>[]</td>\n",
       "      <td>[]</td>\n",
       "    </tr>\n",
       "    <tr>\n",
       "      <th>4</th>\n",
       "      <td>[Best place to try a Bavarian food, Nice build...</td>\n",
       "      <td>[2017-11-18 00:00:00, 2017-02-19 00:00:00]</td>\n",
       "    </tr>\n",
       "    <tr>\n",
       "      <th>...</th>\n",
       "      <td>...</td>\n",
       "      <td>...</td>\n",
       "    </tr>\n",
       "    <tr>\n",
       "      <th>39995</th>\n",
       "      <td>[The real Italian experience!, Wonderful food,...</td>\n",
       "      <td>[2017-12-16 00:00:00, 2017-11-12 00:00:00]</td>\n",
       "    </tr>\n",
       "    <tr>\n",
       "      <th>39996</th>\n",
       "      <td>[Parisian atmosphere, Bit pricey but interesti...</td>\n",
       "      <td>[2017-12-21 00:00:00, 2017-12-12 00:00:00]</td>\n",
       "    </tr>\n",
       "    <tr>\n",
       "      <th>39997</th>\n",
       "      <td>[Good by swedish standards, A hidden jewel in ...</td>\n",
       "      <td>[2016-11-03 00:00:00, 2008-04-12 00:00:00]</td>\n",
       "    </tr>\n",
       "    <tr>\n",
       "      <th>39998</th>\n",
       "      <td>[Underground restaurant, Oldest Restaurant in ...</td>\n",
       "      <td>[2017-07-11 00:00:00, 2017-06-18 00:00:00]</td>\n",
       "    </tr>\n",
       "    <tr>\n",
       "      <th>39999</th>\n",
       "      <td>[Average, Nice an informal]</td>\n",
       "      <td>[2016-01-31 00:00:00, 2012-07-04 00:00:00]</td>\n",
       "    </tr>\n",
       "  </tbody>\n",
       "</table>\n",
       "<p>40000 rows × 2 columns</p>\n",
       "</div>"
      ],
      "text/plain": [
       "                                             ReviewsText  \\\n",
       "0      [Good food at your doorstep, A good hotel rest...   \n",
       "1              [Unique cuisine, Delicious Nepalese food]   \n",
       "2               [Catch up with friends, Not exceptional]   \n",
       "3                                                     []   \n",
       "4      [Best place to try a Bavarian food, Nice build...   \n",
       "...                                                  ...   \n",
       "39995  [The real Italian experience!, Wonderful food,...   \n",
       "39996  [Parisian atmosphere, Bit pricey but interesti...   \n",
       "39997  [Good by swedish standards, A hidden jewel in ...   \n",
       "39998  [Underground restaurant, Oldest Restaurant in ...   \n",
       "39999                        [Average, Nice an informal]   \n",
       "\n",
       "                                      ReviewsDate  \n",
       "0      [2017-12-31 00:00:00, 2017-11-20 00:00:00]  \n",
       "1      [2017-07-06 00:00:00, 2016-06-19 00:00:00]  \n",
       "2      [2018-01-08 00:00:00, 2018-01-06 00:00:00]  \n",
       "3                                              []  \n",
       "4      [2017-11-18 00:00:00, 2017-02-19 00:00:00]  \n",
       "...                                           ...  \n",
       "39995  [2017-12-16 00:00:00, 2017-11-12 00:00:00]  \n",
       "39996  [2017-12-21 00:00:00, 2017-12-12 00:00:00]  \n",
       "39997  [2016-11-03 00:00:00, 2008-04-12 00:00:00]  \n",
       "39998  [2017-07-11 00:00:00, 2017-06-18 00:00:00]  \n",
       "39999  [2016-01-31 00:00:00, 2012-07-04 00:00:00]  \n",
       "\n",
       "[40000 rows x 2 columns]"
      ]
     },
     "execution_count": 20,
     "metadata": {},
     "output_type": "execute_result"
    }
   ],
   "source": [
    "df[['ReviewsText', 'ReviewsDate']]"
   ]
  },
  {
   "cell_type": "markdown",
   "metadata": {
    "ExecuteTime": {
     "end_time": "2021-11-05T15:06:24.020910Z",
     "start_time": "2021-11-05T15:06:24.007915Z"
    }
   },
   "source": [
    "### Number of Reviews"
   ]
  },
  {
   "cell_type": "code",
   "execution_count": 21,
   "metadata": {
    "ExecuteTime": {
     "end_time": "2021-11-11T13:35:14.407114Z",
     "start_time": "2021-11-11T13:35:14.361097Z"
    }
   },
   "outputs": [
    {
     "data": {
      "text/html": [
       "<div>\n",
       "<style scoped>\n",
       "    .dataframe tbody tr th:only-of-type {\n",
       "        vertical-align: middle;\n",
       "    }\n",
       "\n",
       "    .dataframe tbody tr th {\n",
       "        vertical-align: top;\n",
       "    }\n",
       "\n",
       "    .dataframe thead th {\n",
       "        text-align: right;\n",
       "    }\n",
       "</style>\n",
       "<table border=\"1\" class=\"dataframe\">\n",
       "  <thead>\n",
       "    <tr style=\"text-align: right;\">\n",
       "      <th></th>\n",
       "      <th>City</th>\n",
       "      <th>Cuisine</th>\n",
       "      <th>Ranking</th>\n",
       "      <th>Rating</th>\n",
       "      <th>Price</th>\n",
       "      <th>nReviews</th>\n",
       "      <th>Price_WasNA</th>\n",
       "      <th>ReviewsText</th>\n",
       "      <th>ReviewsDate</th>\n",
       "    </tr>\n",
       "  </thead>\n",
       "  <tbody>\n",
       "    <tr>\n",
       "      <th>8</th>\n",
       "      <td>Vienna</td>\n",
       "      <td>[Unknown]</td>\n",
       "      <td>2692.0</td>\n",
       "      <td>4.0</td>\n",
       "      <td>1.853933</td>\n",
       "      <td>NaN</td>\n",
       "      <td>1</td>\n",
       "      <td>[]</td>\n",
       "      <td>[]</td>\n",
       "    </tr>\n",
       "    <tr>\n",
       "      <th>21</th>\n",
       "      <td>Madrid</td>\n",
       "      <td>[Unknown]</td>\n",
       "      <td>5847.0</td>\n",
       "      <td>4.0</td>\n",
       "      <td>1.849827</td>\n",
       "      <td>NaN</td>\n",
       "      <td>1</td>\n",
       "      <td>[]</td>\n",
       "      <td>[]</td>\n",
       "    </tr>\n",
       "    <tr>\n",
       "      <th>32</th>\n",
       "      <td>Budapest</td>\n",
       "      <td>[Unknown]</td>\n",
       "      <td>1328.0</td>\n",
       "      <td>5.0</td>\n",
       "      <td>1.710197</td>\n",
       "      <td>NaN</td>\n",
       "      <td>1</td>\n",
       "      <td>[Absolutely amazing, tasty, fresh, cheap Ch...]</td>\n",
       "      <td>[2015-10-26 00:00:00]</td>\n",
       "    </tr>\n",
       "    <tr>\n",
       "      <th>102</th>\n",
       "      <td>Budapest</td>\n",
       "      <td>[French, European, Hungarian]</td>\n",
       "      <td>1410.0</td>\n",
       "      <td>5.0</td>\n",
       "      <td>1.710197</td>\n",
       "      <td>NaN</td>\n",
       "      <td>1</td>\n",
       "      <td>[]</td>\n",
       "      <td>[]</td>\n",
       "    </tr>\n",
       "    <tr>\n",
       "      <th>108</th>\n",
       "      <td>Prague</td>\n",
       "      <td>[Italian, Mediterranean]</td>\n",
       "      <td>2050.0</td>\n",
       "      <td>5.0</td>\n",
       "      <td>2.000000</td>\n",
       "      <td>NaN</td>\n",
       "      <td>0</td>\n",
       "      <td>[]</td>\n",
       "      <td>[]</td>\n",
       "    </tr>\n",
       "    <tr>\n",
       "      <th>...</th>\n",
       "      <td>...</td>\n",
       "      <td>...</td>\n",
       "      <td>...</td>\n",
       "      <td>...</td>\n",
       "      <td>...</td>\n",
       "      <td>...</td>\n",
       "      <td>...</td>\n",
       "      <td>...</td>\n",
       "      <td>...</td>\n",
       "    </tr>\n",
       "    <tr>\n",
       "      <th>39965</th>\n",
       "      <td>Rome</td>\n",
       "      <td>[Unknown]</td>\n",
       "      <td>5722.0</td>\n",
       "      <td>5.0</td>\n",
       "      <td>1.723804</td>\n",
       "      <td>NaN</td>\n",
       "      <td>1</td>\n",
       "      <td>[]</td>\n",
       "      <td>[]</td>\n",
       "    </tr>\n",
       "    <tr>\n",
       "      <th>39972</th>\n",
       "      <td>Prague</td>\n",
       "      <td>[Cafe, Delicatessen, Healthy, Wine Bar, Street...</td>\n",
       "      <td>2012.0</td>\n",
       "      <td>5.0</td>\n",
       "      <td>1.000000</td>\n",
       "      <td>NaN</td>\n",
       "      <td>0</td>\n",
       "      <td>[Personal expirence]</td>\n",
       "      <td>[2017-10-27 00:00:00]</td>\n",
       "    </tr>\n",
       "    <tr>\n",
       "      <th>39986</th>\n",
       "      <td>Madrid</td>\n",
       "      <td>[Unknown]</td>\n",
       "      <td>7279.0</td>\n",
       "      <td>3.0</td>\n",
       "      <td>1.849827</td>\n",
       "      <td>NaN</td>\n",
       "      <td>1</td>\n",
       "      <td>[]</td>\n",
       "      <td>[]</td>\n",
       "    </tr>\n",
       "    <tr>\n",
       "      <th>39988</th>\n",
       "      <td>Berlin</td>\n",
       "      <td>[Unknown]</td>\n",
       "      <td>4970.0</td>\n",
       "      <td>4.0</td>\n",
       "      <td>1.754799</td>\n",
       "      <td>NaN</td>\n",
       "      <td>1</td>\n",
       "      <td>[]</td>\n",
       "      <td>[]</td>\n",
       "    </tr>\n",
       "    <tr>\n",
       "      <th>39989</th>\n",
       "      <td>London</td>\n",
       "      <td>[International]</td>\n",
       "      <td>8896.0</td>\n",
       "      <td>5.0</td>\n",
       "      <td>1.804437</td>\n",
       "      <td>NaN</td>\n",
       "      <td>1</td>\n",
       "      <td>[I love this place!]</td>\n",
       "      <td>[2015-08-24 00:00:00]</td>\n",
       "    </tr>\n",
       "  </tbody>\n",
       "</table>\n",
       "<p>2543 rows × 9 columns</p>\n",
       "</div>"
      ],
      "text/plain": [
       "           City                                            Cuisine  Ranking  \\\n",
       "8        Vienna                                          [Unknown]   2692.0   \n",
       "21       Madrid                                          [Unknown]   5847.0   \n",
       "32     Budapest                                          [Unknown]   1328.0   \n",
       "102    Budapest                      [French, European, Hungarian]   1410.0   \n",
       "108      Prague                           [Italian, Mediterranean]   2050.0   \n",
       "...         ...                                                ...      ...   \n",
       "39965      Rome                                          [Unknown]   5722.0   \n",
       "39972    Prague  [Cafe, Delicatessen, Healthy, Wine Bar, Street...   2012.0   \n",
       "39986    Madrid                                          [Unknown]   7279.0   \n",
       "39988    Berlin                                          [Unknown]   4970.0   \n",
       "39989    London                                    [International]   8896.0   \n",
       "\n",
       "       Rating     Price  nReviews  Price_WasNA  \\\n",
       "8         4.0  1.853933       NaN            1   \n",
       "21        4.0  1.849827       NaN            1   \n",
       "32        5.0  1.710197       NaN            1   \n",
       "102       5.0  1.710197       NaN            1   \n",
       "108       5.0  2.000000       NaN            0   \n",
       "...       ...       ...       ...          ...   \n",
       "39965     5.0  1.723804       NaN            1   \n",
       "39972     5.0  1.000000       NaN            0   \n",
       "39986     3.0  1.849827       NaN            1   \n",
       "39988     4.0  1.754799       NaN            1   \n",
       "39989     5.0  1.804437       NaN            1   \n",
       "\n",
       "                                           ReviewsText            ReviewsDate  \n",
       "8                                                   []                     []  \n",
       "21                                                  []                     []  \n",
       "32     [Absolutely amazing, tasty, fresh, cheap Ch...]  [2015-10-26 00:00:00]  \n",
       "102                                                 []                     []  \n",
       "108                                                 []                     []  \n",
       "...                                                ...                    ...  \n",
       "39965                                               []                     []  \n",
       "39972                             [Personal expirence]  [2017-10-27 00:00:00]  \n",
       "39986                                               []                     []  \n",
       "39988                                               []                     []  \n",
       "39989                             [I love this place!]  [2015-08-24 00:00:00]  \n",
       "\n",
       "[2543 rows x 9 columns]"
      ]
     },
     "execution_count": 21,
     "metadata": {},
     "output_type": "execute_result"
    }
   ],
   "source": [
    "# посмотрим какая картина с пропусками\n",
    "df[df['nReviews'].isna()]"
   ]
  },
  {
   "cell_type": "code",
   "execution_count": 22,
   "metadata": {
    "ExecuteTime": {
     "end_time": "2021-11-11T13:35:14.423106Z",
     "start_time": "2021-11-11T13:35:14.414097Z"
    }
   },
   "outputs": [],
   "source": [
    "# отметим, где были пропуски\n",
    "df['nReviews_WasNA'] = df['nReviews'].isna().astype('uint8')"
   ]
  },
  {
   "cell_type": "code",
   "execution_count": 23,
   "metadata": {
    "ExecuteTime": {
     "end_time": "2021-11-11T13:35:14.470943Z",
     "start_time": "2021-11-11T13:35:14.426069Z"
    }
   },
   "outputs": [],
   "source": [
    "# заменим количество отзывов на медиану по городу\n",
    "nReviews_by_city = df[['City', 'nReviews']].groupby(by='City').agg(['min', 'median', 'max'])\n",
    "nReviews_by_city = nReviews_by_city['nReviews']\n",
    "# готовим столбец для замены nReviews на среднее по City\n",
    "mean_nReviews_values = {nReviews_by_city.index[i]: nReviews_by_city['median'].values[i] \\\n",
    "                        for i in range(nReviews_by_city.shape[0])}\n",
    "df.loc[df['nReviews'].isna(), 'nReviews'] = df['City'].replace(to_replace=mean_nReviews_values)"
   ]
  },
  {
   "cell_type": "code",
   "execution_count": 24,
   "metadata": {
    "ExecuteTime": {
     "end_time": "2021-11-11T13:35:14.486904Z",
     "start_time": "2021-11-11T13:35:14.472938Z"
    }
   },
   "outputs": [],
   "source": [
    "# и приведем тип\n",
    "df['nReviews'] = df['nReviews'].astype('uint')"
   ]
  },
  {
   "cell_type": "markdown",
   "metadata": {
    "ExecuteTime": {
     "end_time": "2021-11-05T13:18:40.566007Z",
     "start_time": "2021-11-05T13:18:40.550942Z"
    }
   },
   "source": [
    "## Генерируем новые признаки"
   ]
  },
  {
   "cell_type": "code",
   "execution_count": 25,
   "metadata": {
    "ExecuteTime": {
     "end_time": "2021-11-11T13:35:14.800027Z",
     "start_time": "2021-11-11T13:35:14.489894Z"
    }
   },
   "outputs": [
    {
     "data": {
      "image/png": "[encoded data removed]",
      "text/plain": [
       "<Figure size 432x288 with 1 Axes>"
      ]
     },
     "metadata": {
      "needs_background": "light"
     },
     "output_type": "display_data"
    },
    {
     "name": "stdout",
     "output_type": "stream",
     "text": [
      "CategoricalIndex(['London', 'Paris', 'Madrid'], categories=['Amsterdam', 'Athens', 'Barcelona', 'Berlin', 'Bratislava', 'Brussels', 'Budapest', 'Copenhagen', ...], ordered=False, dtype='category')\n"
     ]
    }
   ],
   "source": [
    "# посмотрим на рейтинг топ 10 городов\n",
    "# развернем, чтобы было удобнее анализировать и сопоставлять с ranking\n",
    "for x in (df['City'].value_counts())[0:3].index:\n",
    "    (df['Rating'][df['City'] == x]).hist(bins=9)\n",
    "plt.show()\n",
    "# видно, что распределение в каждом городе очень схоже\n",
    "print((df['City'].value_counts())[0:3].index)"
   ]
  },
  {
   "cell_type": "code",
   "execution_count": 26,
   "metadata": {
    "ExecuteTime": {
     "end_time": "2021-11-11T13:35:16.480295Z",
     "start_time": "2021-11-11T13:35:14.802001Z"
    }
   },
   "outputs": [],
   "source": [
    "# попробуем предсказать рейтинг из распределения по городу и ранга в городе\n",
    "for city in df['City'].unique():\n",
    "    x1 = df['Rating'][df['City'] == city] # выбираем доступные данные для города\n",
    "    x1 = x1 * (-1) + 5 # переворачиваем оценку 1..5 в диапазон 4..0\n",
    "    a, b, c = sps.lognorm.fit(x1) # определяем параметры распределения\n",
    "    n = df['Ranking'][df['City'] == city].max() # максимальный известный номер в рейтинге\n",
    "    x2 = sps.lognorm.rvs(a, loc=b, scale=c, size=int(n*1.5)) # генерируем предполагаемое распределение с запасом\n",
    "    x2 = np.sort(x2)\n",
    "#     print(np.sort(x2))\n",
    "    df.loc[df['City'] == city, 'RankRate'] = df['Ranking'][df['City'] == city].apply(lambda x: x2[int(x-1)])\n",
    "df['RankRate'] = (df['RankRate'] - 5) * (-1) # вернем в диапазон 1..5"
   ]
  },
  {
   "cell_type": "code",
   "execution_count": 27,
   "metadata": {
    "ExecuteTime": {
     "end_time": "2021-11-11T13:35:16.496200Z",
     "start_time": "2021-11-11T13:35:16.482320Z"
    }
   },
   "outputs": [],
   "source": [
    "# df[['Rating', 'RankRate']]"
   ]
  },
  {
   "cell_type": "code",
   "execution_count": 28,
   "metadata": {
    "ExecuteTime": {
     "end_time": "2021-11-11T13:35:16.529552Z",
     "start_time": "2021-11-11T13:35:16.498836Z"
    }
   },
   "outputs": [],
   "source": [
    "# добавим признак количества заявленных кухонь\n",
    "df['nCuisine'] = df['Cuisine'].apply(len)"
   ]
  },
  {
   "cell_type": "code",
   "execution_count": 29,
   "metadata": {
    "ExecuteTime": {
     "end_time": "2021-11-11T13:35:16.577246Z",
     "start_time": "2021-11-11T13:35:16.531428Z"
    }
   },
   "outputs": [],
   "source": [
    "# добавим среднюю оценку ресторанов по городу\n",
    "rating_by_city = df[['City', 'Rating']].groupby(by='City').agg(['min', 'mean', 'std', 'max'])\n",
    "rating_by_city = rating_by_city['Rating']\n",
    "mean_rating_values = {rating_by_city.index[i]: rating_by_city['mean'].values[i] for i in range(rating_by_city.shape[0])}\n",
    "df['MeanCityRating'] = df['City'].replace(to_replace=mean_rating_values)"
   ]
  },
  {
   "cell_type": "code",
   "execution_count": 30,
   "metadata": {
    "ExecuteTime": {
     "end_time": "2021-11-11T13:35:16.608388Z",
     "start_time": "2021-11-11T13:35:16.579260Z"
    }
   },
   "outputs": [],
   "source": [
    "# добавим среднее отклонение рейтинга по городу\n",
    "std_rating_values = {rating_by_city.index[i]: rating_by_city['std'].values[i] for i in range(rating_by_city.shape[0])}\n",
    "df['StdCityRating'] = df['City'].replace(to_replace=std_rating_values)"
   ]
  },
  {
   "cell_type": "code",
   "execution_count": 31,
   "metadata": {
    "ExecuteTime": {
     "end_time": "2021-11-11T13:35:16.715148Z",
     "start_time": "2021-11-11T13:35:16.610384Z"
    }
   },
   "outputs": [],
   "source": [
    "# нормируем ранг ресторана в городе из диапазона 1..max в 0..1\n",
    "# первый номер будет 0,9999 и так далее\n",
    "ranking_by_city = df[['City', 'Ranking']].groupby(by='City').agg(['describe'])\n",
    "ranking_by_city = ranking_by_city['Ranking']['describe']\n",
    "# максимальный номер в городе\n",
    "max_ranking_values = {ranking_by_city.index[i]: ranking_by_city['max'].values[i] for i in range(ranking_by_city.shape[0])}\n",
    "df['MaxRank'] = df['City'].replace(to_replace=max_ranking_values)\n",
    "df['RelRank'] = (df['MaxRank'] - df['Ranking']) / df['MaxRank']\n",
    "# df.drop(columns='MaxRank', inplace=True)"
   ]
  },
  {
   "cell_type": "code",
   "execution_count": 32,
   "metadata": {
    "ExecuteTime": {
     "end_time": "2021-11-11T13:35:16.730189Z",
     "start_time": "2021-11-11T13:35:16.717142Z"
    }
   },
   "outputs": [
    {
     "data": {
      "text/plain": [
       "4.3083518503055"
      ]
     },
     "execution_count": 32,
     "metadata": {},
     "output_type": "execute_result"
    }
   ],
   "source": [
    "ploc = mean_rating_values['Paris']\n",
    "pscale = std_rating_values['Paris']\n",
    "pmax = int(max_ranking_values['Paris'])\n",
    "sample = sps.norm(loc=ploc, scale=pscale).rvs(size=pmax)\n",
    "sample.sort()\n",
    "sample[10000]"
   ]
  },
  {
   "cell_type": "code",
   "execution_count": 33,
   "metadata": {
    "ExecuteTime": {
     "end_time": "2021-11-11T13:35:16.746147Z",
     "start_time": "2021-11-11T13:35:16.732184Z"
    }
   },
   "outputs": [
    {
     "data": {
      "text/plain": [
       "{'Amsterdam': 3249.0,\n",
       " 'Athens': 1787.0,\n",
       " 'Barcelona': 7796.0,\n",
       " 'Berlin': 6372.0,\n",
       " 'Bratislava': 889.0,\n",
       " 'Brussels': 3004.0,\n",
       " 'Budapest': 2438.0,\n",
       " 'Copenhagen': 1964.0,\n",
       " 'Dublin': 1960.0,\n",
       " 'Edinburgh': 1766.0,\n",
       " 'Geneva': 1413.0,\n",
       " 'Hamburg': 2736.0,\n",
       " 'Helsinki': 1141.0,\n",
       " 'Krakow': 1244.0,\n",
       " 'Lisbon': 3717.0,\n",
       " 'Ljubljana': 468.0,\n",
       " 'London': 16444.0,\n",
       " 'Luxembourg': 621.0,\n",
       " 'Lyon': 2666.0,\n",
       " 'Madrid': 8809.0,\n",
       " 'Milan': 6275.0,\n",
       " 'Munich': 2763.0,\n",
       " 'Oporto': 1484.0,\n",
       " 'Oslo': 1137.0,\n",
       " 'Paris': 13986.0,\n",
       " 'Prague': 4188.0,\n",
       " 'Rome': 5946.0,\n",
       " 'Stockholm': 2464.0,\n",
       " 'Vienna': 3444.0,\n",
       " 'Warsaw': 2141.0,\n",
       " 'Zurich': 1590.0}"
      ]
     },
     "execution_count": 33,
     "metadata": {},
     "output_type": "execute_result"
    }
   ],
   "source": [
    "max_ranking_values"
   ]
  },
  {
   "cell_type": "code",
   "execution_count": 34,
   "metadata": {
    "ExecuteTime": {
     "end_time": "2021-11-11T13:35:17.415296Z",
     "start_time": "2021-11-11T13:35:16.748146Z"
    }
   },
   "outputs": [],
   "source": [
    "# признак того, сколько дней прошло оносительно последнего отзыва\n",
    "max_date = df['ReviewsDate'].explode().max()\n",
    "min_date = df['ReviewsDate'].explode().min()\n",
    "# отметим пропуски отдельно\n",
    "df['ReviewsDate_WasNA'] = df['ReviewsDate'].apply(lambda x: 1 if x else 0).astype('uint8')\n",
    "# все пропуски отметим, как самые старые\n",
    "df['nDaysReviews'] = df['ReviewsDate'].apply(lambda x: (max_date - max(x)).days if x else (max_date - min_date).days)"
   ]
  },
  {
   "cell_type": "code",
   "execution_count": 35,
   "metadata": {
    "ExecuteTime": {
     "end_time": "2021-11-11T13:35:17.430256Z",
     "start_time": "2021-11-11T13:35:17.417290Z"
    }
   },
   "outputs": [],
   "source": [
    "# категориальный City в dummy\n",
    "# df = pd.get_dummies(df, columns=['City'], dummy_na=True)"
   ]
  },
  {
   "cell_type": "code",
   "execution_count": 36,
   "metadata": {
    "ExecuteTime": {
     "end_time": "2021-11-11T13:35:17.709542Z",
     "start_time": "2021-11-11T13:35:17.434246Z"
    }
   },
   "outputs": [],
   "source": [
    "# Cuisine в лоб не получится - слишком много, слишком разное, да ещё и список\n",
    "# составим разные признаки\n",
    "VeganLabel = ['Vegetarian Friendly', 'Vegan Options']\n",
    "df['isVegan'] = df['Cuisine'].apply(lambda x: any(e in x for e in VeganLabel)).astype('uint8')\n",
    "HealthyLabel = ['Healthy', 'Gluten Free Options']\n",
    "df['isHealthy'] = df['Cuisine'].apply(lambda x: any(e in x for e in HealthyLabel)).astype('uint8')\n",
    "FastLabel = ['Fast Food', 'Cafe', 'Soups', 'Street Food', 'Diner']\n",
    "df['isFast'] = df['Cuisine'].apply(lambda x: any(e in x for e in FastLabel)).astype('uint8')\n",
    "AlcoLabel = ['Bar', 'Pub', 'Wine Bar', 'Brew Pub', 'Gastropub']\n",
    "df['isAlco'] = df['Cuisine'].apply(lambda x: any(e in x for e in AlcoLabel)).astype('uint8')\n",
    "# MeatLabel = ['Steakhouse', 'Barbecue', 'Grill']\n",
    "# df['isMeat'] = df['Cuisine'].apply(lambda x: any(e in x for e in MeatLabel)).astype('uint8')\n",
    "# SushiLabel = ['Sushi']\n",
    "# df['isSushi'] = df['Cuisine'].apply(lambda x: any(e in x for e in SushiLabel)).astype('uint8')\n",
    "# PizzaLabel = ['Pizza']\n",
    "# df['isPizza'] = df['Cuisine'].apply(lambda x: any(e in x for e in PizzaLabel)).astype('uint8')\n",
    "# ModernLabel = ['Fusion', 'Contemporary']\n",
    "# df['isModern'] = df['Cuisine'].apply(lambda x: any(e in x for e in ModernLabel)).astype('uint8')\n",
    "# HalalLabel = ['Halal']\n",
    "# df['isHalal'] = df['Cuisine'].apply(lambda x: any(e in x for e in HalalLabel)).astype('uint8')\n",
    "# KosherLabel = ['Kosher']\n",
    "# df['isKosher'] = df['Cuisine'].apply(lambda x: any(e in x for e in KosherLabel)).astype('uint8')"
   ]
  },
  {
   "cell_type": "code",
   "execution_count": 37,
   "metadata": {
    "ExecuteTime": {
     "end_time": "2021-11-11T13:35:17.741424Z",
     "start_time": "2021-11-11T13:35:17.711503Z"
    }
   },
   "outputs": [
    {
     "data": {
      "text/html": [
       "<div>\n",
       "<style scoped>\n",
       "    .dataframe tbody tr th:only-of-type {\n",
       "        vertical-align: middle;\n",
       "    }\n",
       "\n",
       "    .dataframe tbody tr th {\n",
       "        vertical-align: top;\n",
       "    }\n",
       "\n",
       "    .dataframe thead th {\n",
       "        text-align: right;\n",
       "    }\n",
       "</style>\n",
       "<table border=\"1\" class=\"dataframe\">\n",
       "  <thead>\n",
       "    <tr style=\"text-align: right;\">\n",
       "      <th></th>\n",
       "      <th>0</th>\n",
       "      <th>1</th>\n",
       "      <th>2</th>\n",
       "      <th>3</th>\n",
       "      <th>4</th>\n",
       "    </tr>\n",
       "  </thead>\n",
       "  <tbody>\n",
       "    <tr>\n",
       "      <th>City</th>\n",
       "      <td>Paris</td>\n",
       "      <td>Stockholm</td>\n",
       "      <td>London</td>\n",
       "      <td>Berlin</td>\n",
       "      <td>Munich</td>\n",
       "    </tr>\n",
       "    <tr>\n",
       "      <th>Cuisine</th>\n",
       "      <td>[European, French, International]</td>\n",
       "      <td>[Unknown]</td>\n",
       "      <td>[Japanese, Sushi, Asian, Grill, Vegetarian Fri...</td>\n",
       "      <td>[Unknown]</td>\n",
       "      <td>[German, Central European, Vegetarian Friendly]</td>\n",
       "    </tr>\n",
       "    <tr>\n",
       "      <th>Ranking</th>\n",
       "      <td>5570.0</td>\n",
       "      <td>1537.0</td>\n",
       "      <td>353.0</td>\n",
       "      <td>3458.0</td>\n",
       "      <td>621.0</td>\n",
       "    </tr>\n",
       "    <tr>\n",
       "      <th>Rating</th>\n",
       "      <td>3.5</td>\n",
       "      <td>4.0</td>\n",
       "      <td>4.5</td>\n",
       "      <td>5.0</td>\n",
       "      <td>4.0</td>\n",
       "    </tr>\n",
       "    <tr>\n",
       "      <th>Price</th>\n",
       "      <td>2.0</td>\n",
       "      <td>1.943182</td>\n",
       "      <td>3.0</td>\n",
       "      <td>1.754799</td>\n",
       "      <td>2.0</td>\n",
       "    </tr>\n",
       "    <tr>\n",
       "      <th>nReviews</th>\n",
       "      <td>194</td>\n",
       "      <td>10</td>\n",
       "      <td>688</td>\n",
       "      <td>3</td>\n",
       "      <td>84</td>\n",
       "    </tr>\n",
       "    <tr>\n",
       "      <th>Price_WasNA</th>\n",
       "      <td>0</td>\n",
       "      <td>1</td>\n",
       "      <td>0</td>\n",
       "      <td>1</td>\n",
       "      <td>0</td>\n",
       "    </tr>\n",
       "    <tr>\n",
       "      <th>ReviewsText</th>\n",
       "      <td>[Good food at your doorstep, A good hotel rest...</td>\n",
       "      <td>[Unique cuisine, Delicious Nepalese food]</td>\n",
       "      <td>[Catch up with friends, Not exceptional]</td>\n",
       "      <td>[]</td>\n",
       "      <td>[Best place to try a Bavarian food, Nice build...</td>\n",
       "    </tr>\n",
       "    <tr>\n",
       "      <th>ReviewsDate</th>\n",
       "      <td>[2017-12-31 00:00:00, 2017-11-20 00:00:00]</td>\n",
       "      <td>[2017-07-06 00:00:00, 2016-06-19 00:00:00]</td>\n",
       "      <td>[2018-01-08 00:00:00, 2018-01-06 00:00:00]</td>\n",
       "      <td>[]</td>\n",
       "      <td>[2017-11-18 00:00:00, 2017-02-19 00:00:00]</td>\n",
       "    </tr>\n",
       "    <tr>\n",
       "      <th>nReviews_WasNA</th>\n",
       "      <td>0</td>\n",
       "      <td>0</td>\n",
       "      <td>0</td>\n",
       "      <td>0</td>\n",
       "      <td>0</td>\n",
       "    </tr>\n",
       "    <tr>\n",
       "      <th>RankRate</th>\n",
       "      <td>4.374879</td>\n",
       "      <td>4.0725</td>\n",
       "      <td>5.089479</td>\n",
       "      <td>4.426719</td>\n",
       "      <td>4.6605</td>\n",
       "    </tr>\n",
       "    <tr>\n",
       "      <th>nCuisine</th>\n",
       "      <td>3</td>\n",
       "      <td>1</td>\n",
       "      <td>7</td>\n",
       "      <td>1</td>\n",
       "      <td>3</td>\n",
       "    </tr>\n",
       "    <tr>\n",
       "      <th>MeanCityRating</th>\n",
       "      <td>3.942414</td>\n",
       "      <td>3.870122</td>\n",
       "      <td>3.955098</td>\n",
       "      <td>4.124594</td>\n",
       "      <td>4.047032</td>\n",
       "    </tr>\n",
       "    <tr>\n",
       "      <th>StdCityRating</th>\n",
       "      <td>0.662866</td>\n",
       "      <td>0.630346</td>\n",
       "      <td>0.692979</td>\n",
       "      <td>0.644704</td>\n",
       "      <td>0.6165</td>\n",
       "    </tr>\n",
       "    <tr>\n",
       "      <th>MaxRank</th>\n",
       "      <td>13986.0</td>\n",
       "      <td>2464.0</td>\n",
       "      <td>16444.0</td>\n",
       "      <td>6372.0</td>\n",
       "      <td>2763.0</td>\n",
       "    </tr>\n",
       "    <tr>\n",
       "      <th>RelRank</th>\n",
       "      <td>0.601745</td>\n",
       "      <td>0.376218</td>\n",
       "      <td>0.978533</td>\n",
       "      <td>0.457313</td>\n",
       "      <td>0.775244</td>\n",
       "    </tr>\n",
       "    <tr>\n",
       "      <th>ReviewsDate_WasNA</th>\n",
       "      <td>1</td>\n",
       "      <td>1</td>\n",
       "      <td>1</td>\n",
       "      <td>0</td>\n",
       "      <td>1</td>\n",
       "    </tr>\n",
       "    <tr>\n",
       "      <th>nDaysReviews</th>\n",
       "      <td>57</td>\n",
       "      <td>235</td>\n",
       "      <td>49</td>\n",
       "      <td>5059</td>\n",
       "      <td>100</td>\n",
       "    </tr>\n",
       "    <tr>\n",
       "      <th>isVegan</th>\n",
       "      <td>0</td>\n",
       "      <td>0</td>\n",
       "      <td>1</td>\n",
       "      <td>0</td>\n",
       "      <td>1</td>\n",
       "    </tr>\n",
       "    <tr>\n",
       "      <th>isHealthy</th>\n",
       "      <td>0</td>\n",
       "      <td>0</td>\n",
       "      <td>1</td>\n",
       "      <td>0</td>\n",
       "      <td>0</td>\n",
       "    </tr>\n",
       "    <tr>\n",
       "      <th>isFast</th>\n",
       "      <td>0</td>\n",
       "      <td>0</td>\n",
       "      <td>0</td>\n",
       "      <td>0</td>\n",
       "      <td>0</td>\n",
       "    </tr>\n",
       "    <tr>\n",
       "      <th>isAlco</th>\n",
       "      <td>0</td>\n",
       "      <td>0</td>\n",
       "      <td>0</td>\n",
       "      <td>0</td>\n",
       "      <td>0</td>\n",
       "    </tr>\n",
       "  </tbody>\n",
       "</table>\n",
       "</div>"
      ],
      "text/plain": [
       "                                                                   0  \\\n",
       "City                                                           Paris   \n",
       "Cuisine                            [European, French, International]   \n",
       "Ranking                                                       5570.0   \n",
       "Rating                                                           3.5   \n",
       "Price                                                            2.0   \n",
       "nReviews                                                         194   \n",
       "Price_WasNA                                                        0   \n",
       "ReviewsText        [Good food at your doorstep, A good hotel rest...   \n",
       "ReviewsDate               [2017-12-31 00:00:00, 2017-11-20 00:00:00]   \n",
       "nReviews_WasNA                                                     0   \n",
       "RankRate                                                    4.374879   \n",
       "nCuisine                                                           3   \n",
       "MeanCityRating                                              3.942414   \n",
       "StdCityRating                                               0.662866   \n",
       "MaxRank                                                      13986.0   \n",
       "RelRank                                                     0.601745   \n",
       "ReviewsDate_WasNA                                                  1   \n",
       "nDaysReviews                                                      57   \n",
       "isVegan                                                            0   \n",
       "isHealthy                                                          0   \n",
       "isFast                                                             0   \n",
       "isAlco                                                             0   \n",
       "\n",
       "                                                            1  \\\n",
       "City                                                Stockholm   \n",
       "Cuisine                                             [Unknown]   \n",
       "Ranking                                                1537.0   \n",
       "Rating                                                    4.0   \n",
       "Price                                                1.943182   \n",
       "nReviews                                                   10   \n",
       "Price_WasNA                                                 1   \n",
       "ReviewsText         [Unique cuisine, Delicious Nepalese food]   \n",
       "ReviewsDate        [2017-07-06 00:00:00, 2016-06-19 00:00:00]   \n",
       "nReviews_WasNA                                              0   \n",
       "RankRate                                               4.0725   \n",
       "nCuisine                                                    1   \n",
       "MeanCityRating                                       3.870122   \n",
       "StdCityRating                                        0.630346   \n",
       "MaxRank                                                2464.0   \n",
       "RelRank                                              0.376218   \n",
       "ReviewsDate_WasNA                                           1   \n",
       "nDaysReviews                                              235   \n",
       "isVegan                                                     0   \n",
       "isHealthy                                                   0   \n",
       "isFast                                                      0   \n",
       "isAlco                                                      0   \n",
       "\n",
       "                                                                   2  \\\n",
       "City                                                          London   \n",
       "Cuisine            [Japanese, Sushi, Asian, Grill, Vegetarian Fri...   \n",
       "Ranking                                                        353.0   \n",
       "Rating                                                           4.5   \n",
       "Price                                                            3.0   \n",
       "nReviews                                                         688   \n",
       "Price_WasNA                                                        0   \n",
       "ReviewsText                 [Catch up with friends, Not exceptional]   \n",
       "ReviewsDate               [2018-01-08 00:00:00, 2018-01-06 00:00:00]   \n",
       "nReviews_WasNA                                                     0   \n",
       "RankRate                                                    5.089479   \n",
       "nCuisine                                                           7   \n",
       "MeanCityRating                                              3.955098   \n",
       "StdCityRating                                               0.692979   \n",
       "MaxRank                                                      16444.0   \n",
       "RelRank                                                     0.978533   \n",
       "ReviewsDate_WasNA                                                  1   \n",
       "nDaysReviews                                                      49   \n",
       "isVegan                                                            1   \n",
       "isHealthy                                                          1   \n",
       "isFast                                                             0   \n",
       "isAlco                                                             0   \n",
       "\n",
       "                           3  \\\n",
       "City                  Berlin   \n",
       "Cuisine            [Unknown]   \n",
       "Ranking               3458.0   \n",
       "Rating                   5.0   \n",
       "Price               1.754799   \n",
       "nReviews                   3   \n",
       "Price_WasNA                1   \n",
       "ReviewsText               []   \n",
       "ReviewsDate               []   \n",
       "nReviews_WasNA             0   \n",
       "RankRate            4.426719   \n",
       "nCuisine                   1   \n",
       "MeanCityRating      4.124594   \n",
       "StdCityRating       0.644704   \n",
       "MaxRank               6372.0   \n",
       "RelRank             0.457313   \n",
       "ReviewsDate_WasNA          0   \n",
       "nDaysReviews            5059   \n",
       "isVegan                    0   \n",
       "isHealthy                  0   \n",
       "isFast                     0   \n",
       "isAlco                     0   \n",
       "\n",
       "                                                                   4  \n",
       "City                                                          Munich  \n",
       "Cuisine              [German, Central European, Vegetarian Friendly]  \n",
       "Ranking                                                        621.0  \n",
       "Rating                                                           4.0  \n",
       "Price                                                            2.0  \n",
       "nReviews                                                          84  \n",
       "Price_WasNA                                                        0  \n",
       "ReviewsText        [Best place to try a Bavarian food, Nice build...  \n",
       "ReviewsDate               [2017-11-18 00:00:00, 2017-02-19 00:00:00]  \n",
       "nReviews_WasNA                                                     0  \n",
       "RankRate                                                      4.6605  \n",
       "nCuisine                                                           3  \n",
       "MeanCityRating                                              4.047032  \n",
       "StdCityRating                                                 0.6165  \n",
       "MaxRank                                                       2763.0  \n",
       "RelRank                                                     0.775244  \n",
       "ReviewsDate_WasNA                                                  1  \n",
       "nDaysReviews                                                     100  \n",
       "isVegan                                                            1  \n",
       "isHealthy                                                          0  \n",
       "isFast                                                             0  \n",
       "isAlco                                                             0  "
      ]
     },
     "execution_count": 37,
     "metadata": {},
     "output_type": "execute_result"
    }
   ],
   "source": [
    "df.head().T"
   ]
  },
  {
   "cell_type": "markdown",
   "metadata": {},
   "source": [
    "# Разбиваем датафрейм на части, необходимые для обучения и тестирования модели"
   ]
  },
  {
   "cell_type": "code",
   "execution_count": 38,
   "metadata": {
    "ExecuteTime": {
     "end_time": "2021-11-11T13:35:17.787301Z",
     "start_time": "2021-11-11T13:35:17.743419Z"
    },
    "scrolled": false
   },
   "outputs": [
    {
     "name": "stdout",
     "output_type": "stream",
     "text": [
      "<class 'pandas.core.frame.DataFrame'>\n",
      "RangeIndex: 40000 entries, 0 to 39999\n",
      "Data columns (total 22 columns):\n",
      " #   Column             Non-Null Count  Dtype   \n",
      "---  ------             --------------  -----   \n",
      " 0   City               40000 non-null  category\n",
      " 1   Cuisine            40000 non-null  object  \n",
      " 2   Ranking            40000 non-null  float64 \n",
      " 3   Rating             40000 non-null  float64 \n",
      " 4   Price              40000 non-null  float64 \n",
      " 5   nReviews           40000 non-null  uint32  \n",
      " 6   Price_WasNA        40000 non-null  uint8   \n",
      " 7   ReviewsText        40000 non-null  object  \n",
      " 8   ReviewsDate        40000 non-null  object  \n",
      " 9   nReviews_WasNA     40000 non-null  uint8   \n",
      " 10  RankRate           40000 non-null  float64 \n",
      " 11  nCuisine           40000 non-null  int64   \n",
      " 12  MeanCityRating     40000 non-null  float64 \n",
      " 13  StdCityRating      40000 non-null  float64 \n",
      " 14  MaxRank            40000 non-null  float64 \n",
      " 15  RelRank            40000 non-null  float64 \n",
      " 16  ReviewsDate_WasNA  40000 non-null  uint8   \n",
      " 17  nDaysReviews       40000 non-null  int64   \n",
      " 18  isVegan            40000 non-null  uint8   \n",
      " 19  isHealthy          40000 non-null  uint8   \n",
      " 20  isFast             40000 non-null  uint8   \n",
      " 21  isAlco             40000 non-null  uint8   \n",
      "dtypes: category(1), float64(8), int64(2), object(3), uint32(1), uint8(7)\n",
      "memory usage: 4.4+ MB\n"
     ]
    }
   ],
   "source": [
    "df.info()"
   ]
  },
  {
   "cell_type": "code",
   "execution_count": 39,
   "metadata": {
    "ExecuteTime": {
     "end_time": "2021-11-11T13:35:17.817222Z",
     "start_time": "2021-11-11T13:35:17.789296Z"
    }
   },
   "outputs": [
    {
     "name": "stdout",
     "output_type": "stream",
     "text": [
      "Index(['Price', 'nReviews', 'Price_WasNA', 'nReviews_WasNA', 'RankRate',\n",
      "       'nCuisine', 'MeanCityRating', 'StdCityRating', 'MaxRank',\n",
      "       'ReviewsDate_WasNA', 'nDaysReviews', 'isVegan', 'isHealthy', 'isFast',\n",
      "       'isAlco'],\n",
      "      dtype='object')\n"
     ]
    }
   ],
   "source": [
    "# Х - данные с информацией о ресторанах, у - целевая переменная (рейтинги ресторанов)\n",
    "X = df.select_dtypes(include='number').drop(['Rating', 'RelRank', 'Ranking'], axis=1)\n",
    "print(X.columns)\n",
    "y = df['Rating']"
   ]
  },
  {
   "cell_type": "code",
   "execution_count": 40,
   "metadata": {
    "ExecuteTime": {
     "end_time": "2021-11-11T13:35:18.616667Z",
     "start_time": "2021-11-11T13:35:17.820213Z"
    }
   },
   "outputs": [],
   "source": [
    "# Загружаем специальный инструмент для разбивки:\n",
    "from sklearn.model_selection import train_test_split"
   ]
  },
  {
   "cell_type": "code",
   "execution_count": 41,
   "metadata": {
    "ExecuteTime": {
     "end_time": "2021-11-11T13:35:18.646967Z",
     "start_time": "2021-11-11T13:35:18.616667Z"
    }
   },
   "outputs": [],
   "source": [
    "# Наборы данных с меткой \"train\" будут использоваться для обучения модели, \"test\" - для тестирования.\n",
    "# Для тестирования мы будем использовать 25% от исходного датасета.\n",
    "X_train, X_test, y_train, y_test = train_test_split(X, y, test_size=0.25, random_state=2021)"
   ]
  },
  {
   "cell_type": "markdown",
   "metadata": {},
   "source": [
    "# Создаём, обучаем и тестируем модель"
   ]
  },
  {
   "cell_type": "code",
   "execution_count": 42,
   "metadata": {
    "ExecuteTime": {
     "end_time": "2021-11-11T13:35:18.851133Z",
     "start_time": "2021-11-11T13:35:18.648968Z"
    }
   },
   "outputs": [],
   "source": [
    "# Импортируем необходимые библиотеки:\n",
    "from sklearn.ensemble import RandomForestRegressor # инструмент для создания и обучения модели\n",
    "from sklearn import metrics # инструменты для оценки точности модели"
   ]
  },
  {
   "cell_type": "code",
   "execution_count": 43,
   "metadata": {
    "ExecuteTime": {
     "end_time": "2021-11-11T13:35:30.786319Z",
     "start_time": "2021-11-11T13:35:18.852093Z"
    }
   },
   "outputs": [],
   "source": [
    "# Создаём модель\n",
    "regr = RandomForestRegressor(n_estimators=100)\n",
    "\n",
    "# Обучаем модель на тестовом наборе данных\n",
    "regr.fit(X_train, y_train)\n",
    "\n",
    "# Используем обученную модель для предсказания рейтинга ресторанов в тестовой выборке.\n",
    "# Предсказанные значения записываем в переменную y_pred\n",
    "y_pred = regr.predict(X_test)"
   ]
  },
  {
   "cell_type": "code",
   "execution_count": 44,
   "metadata": {
    "ExecuteTime": {
     "end_time": "2021-11-11T13:35:30.802072Z",
     "start_time": "2021-11-11T13:35:30.788360Z"
    }
   },
   "outputs": [],
   "source": [
    "# постпроцессинг\n",
    "# округляем до 0,5, т.к. на сайте рейтинг с такой точностью\n",
    "y_pred = np.around(y_pred * 2) / 2"
   ]
  },
  {
   "cell_type": "code",
   "execution_count": 45,
   "metadata": {
    "ExecuteTime": {
     "end_time": "2021-11-11T13:35:30.818028Z",
     "start_time": "2021-11-11T13:35:30.805062Z"
    }
   },
   "outputs": [
    {
     "name": "stdout",
     "output_type": "stream",
     "text": [
      "MAE: 0.17765\n"
     ]
    }
   ],
   "source": [
    "# Сравниваем предсказанные значения (y_pred) с реальными (y_test), и смотрим насколько они в среднем отличаются\n",
    "# Метрика называется Mean Absolute Error (MAE) и показывает среднее отклонение предсказанных значений от фактических.\n",
    "print('MAE:', metrics.mean_absolute_error(y_test, y_pred))"
   ]
  },
  {
   "cell_type": "code",
   "execution_count": 46,
   "metadata": {
    "ExecuteTime": {
     "end_time": "2021-11-11T13:35:31.089347Z",
     "start_time": "2021-11-11T13:35:30.821022Z"
    }
   },
   "outputs": [
    {
     "data": {
      "text/plain": [
       "<AxesSubplot:>"
      ]
     },
     "execution_count": 46,
     "metadata": {},
     "output_type": "execute_result"
    },
    {
     "data": {
      "image/png": "[encoded data removed]",
      "text/plain": [
       "<Figure size 720x720 with 1 Axes>"
      ]
     },
     "metadata": {
      "needs_background": "light"
     },
     "output_type": "display_data"
    }
   ],
   "source": [
    "# в RandomForestRegressor есть возможность вывести самые важные признаки для модели\n",
    "plt.rcParams['figure.figsize'] = (10,10)\n",
    "feat_importances = pd.Series(regr.feature_importances_, index=X.columns)\n",
    "feat_importances.nlargest(20).plot(kind='barh')"
   ]
  }
 ],
 "metadata": {
  "kernelspec": {
   "display_name": "Python 3",
   "language": "python",
   "name": "python3"
  },
  "language_info": {
   "codemirror_mode": {
    "name": "ipython",
    "version": 3
   },
   "file_extension": ".py",
   "mimetype": "text/x-python",
   "name": "python",
   "nbconvert_exporter": "python",
   "pygments_lexer": "ipython3",
   "version": "3.8.8"
  },
  "toc": {
   "base_numbering": 1,
   "nav_menu": {},
   "number_sections": true,
   "sideBar": true,
   "skip_h1_title": false,
   "title_cell": "Table of Contents",
   "title_sidebar": "Contents",
   "toc_cell": false,
   "toc_position": {},
   "toc_section_display": true,
   "toc_window_display": false
  }
 },
 "nbformat": 4,
 "nbformat_minor": 2
}
