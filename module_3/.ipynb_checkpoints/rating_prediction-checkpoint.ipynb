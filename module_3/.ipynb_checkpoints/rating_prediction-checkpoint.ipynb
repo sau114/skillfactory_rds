{
 "cells": [
  {
   "cell_type": "markdown",
   "metadata": {},
   "source": [
    "# Загрузка Pandas и очистка данных"
   ]
  },
  {
   "cell_type": "code",
   "execution_count": 1,
   "metadata": {
    "ExecuteTime": {
     "end_time": "2021-11-05T22:24:24.907099Z",
     "start_time": "2021-11-05T22:24:23.458723Z"
    }
   },
   "outputs": [],
   "source": [
    "import pandas as pd\n",
    "import numpy as np\n",
    "\n",
    "import re\n",
    "\n",
    "import matplotlib.pyplot as plt\n",
    "import seaborn as sns \n",
    "%matplotlib inline"
   ]
  },
  {
   "cell_type": "code",
   "execution_count": 2,
   "metadata": {
    "ExecuteTime": {
     "end_time": "2021-11-05T22:24:25.237987Z",
     "start_time": "2021-11-05T22:24:24.910050Z"
    }
   },
   "outputs": [],
   "source": [
    "df_train = pd.read_csv('main_task.csv')\n",
    "df_test = pd.read_csv('kaggle_task.csv')"
   ]
  },
  {
   "cell_type": "code",
   "execution_count": 3,
   "metadata": {
    "ExecuteTime": {
     "end_time": "2021-11-05T22:24:25.253684Z",
     "start_time": "2021-11-05T22:24:25.239872Z"
    }
   },
   "outputs": [],
   "source": [
    "# фиксируем RANDOM_SEED для воспроизводимости\n",
    "RANDOM_SEED = 2021"
   ]
  },
  {
   "cell_type": "markdown",
   "metadata": {
    "ExecuteTime": {
     "end_time": "2021-11-05T13:24:35.869322Z",
     "start_time": "2021-11-05T13:24:35.854085Z"
    }
   },
   "source": [
    "## Посмотрим, что получили"
   ]
  },
  {
   "cell_type": "markdown",
   "metadata": {},
   "source": [
    "Подробнее по признакам:\n",
    "* City: Город \n",
    "* Cuisine Style: Кухня\n",
    "* Ranking: Ранг ресторана относительно других ресторанов в этом городе\n",
    "* Price Range: Цены в ресторане в 3 категориях\n",
    "* Number of Reviews: Количество отзывов\n",
    "* Reviews: 2 последних отзыва и даты этих отзывов\n",
    "* URL_TA: страница ресторана на 'www.tripadvisor.com' \n",
    "* ID_TA: ID ресторана в TripAdvisor\n",
    "* Rating: Рейтинг ресторана"
   ]
  },
  {
   "cell_type": "code",
   "execution_count": 4,
   "metadata": {
    "ExecuteTime": {
     "end_time": "2021-11-05T22:24:25.315700Z",
     "start_time": "2021-11-05T22:24:25.255944Z"
    }
   },
   "outputs": [
    {
     "name": "stdout",
     "output_type": "stream",
     "text": [
      "<class 'pandas.core.frame.DataFrame'>\n",
      "RangeIndex: 40000 entries, 0 to 39999\n",
      "Data columns (total 10 columns):\n",
      " #   Column             Non-Null Count  Dtype  \n",
      "---  ------             --------------  -----  \n",
      " 0   Restaurant_id      40000 non-null  object \n",
      " 1   City               40000 non-null  object \n",
      " 2   Cuisine Style      30717 non-null  object \n",
      " 3   Ranking            40000 non-null  float64\n",
      " 4   Rating             40000 non-null  float64\n",
      " 5   Price Range        26114 non-null  object \n",
      " 6   Number of Reviews  37457 non-null  float64\n",
      " 7   Reviews            40000 non-null  object \n",
      " 8   URL_TA             40000 non-null  object \n",
      " 9   ID_TA              40000 non-null  object \n",
      "dtypes: float64(3), object(7)\n",
      "memory usage: 23.7 MB\n"
     ]
    }
   ],
   "source": [
    "df_train.info(memory_usage='deep')"
   ]
  },
  {
   "cell_type": "code",
   "execution_count": 5,
   "metadata": {
    "ExecuteTime": {
     "end_time": "2021-11-05T22:24:25.347889Z",
     "start_time": "2021-11-05T22:24:25.317818Z"
    }
   },
   "outputs": [
    {
     "data": {
      "text/html": [
       "<div>\n",
       "<style scoped>\n",
       "    .dataframe tbody tr th:only-of-type {\n",
       "        vertical-align: middle;\n",
       "    }\n",
       "\n",
       "    .dataframe tbody tr th {\n",
       "        vertical-align: top;\n",
       "    }\n",
       "\n",
       "    .dataframe thead th {\n",
       "        text-align: right;\n",
       "    }\n",
       "</style>\n",
       "<table border=\"1\" class=\"dataframe\">\n",
       "  <thead>\n",
       "    <tr style=\"text-align: right;\">\n",
       "      <th></th>\n",
       "      <th>Restaurant_id</th>\n",
       "      <th>City</th>\n",
       "      <th>Cuisine Style</th>\n",
       "      <th>Ranking</th>\n",
       "      <th>Rating</th>\n",
       "      <th>Price Range</th>\n",
       "      <th>Number of Reviews</th>\n",
       "      <th>Reviews</th>\n",
       "      <th>URL_TA</th>\n",
       "      <th>ID_TA</th>\n",
       "    </tr>\n",
       "  </thead>\n",
       "  <tbody>\n",
       "    <tr>\n",
       "      <th>0</th>\n",
       "      <td>id_5569</td>\n",
       "      <td>Paris</td>\n",
       "      <td>['European', 'French', 'International']</td>\n",
       "      <td>5570.0</td>\n",
       "      <td>3.5</td>\n",
       "      <td>$$ - $$$</td>\n",
       "      <td>194.0</td>\n",
       "      <td>[['Good food at your doorstep', 'A good hotel ...</td>\n",
       "      <td>/Restaurant_Review-g187147-d1912643-Reviews-R_...</td>\n",
       "      <td>d1912643</td>\n",
       "    </tr>\n",
       "    <tr>\n",
       "      <th>1</th>\n",
       "      <td>id_1535</td>\n",
       "      <td>Stockholm</td>\n",
       "      <td>NaN</td>\n",
       "      <td>1537.0</td>\n",
       "      <td>4.0</td>\n",
       "      <td>NaN</td>\n",
       "      <td>10.0</td>\n",
       "      <td>[['Unique cuisine', 'Delicious Nepalese food']...</td>\n",
       "      <td>/Restaurant_Review-g189852-d7992032-Reviews-Bu...</td>\n",
       "      <td>d7992032</td>\n",
       "    </tr>\n",
       "    <tr>\n",
       "      <th>2</th>\n",
       "      <td>id_352</td>\n",
       "      <td>London</td>\n",
       "      <td>['Japanese', 'Sushi', 'Asian', 'Grill', 'Veget...</td>\n",
       "      <td>353.0</td>\n",
       "      <td>4.5</td>\n",
       "      <td>$$$$</td>\n",
       "      <td>688.0</td>\n",
       "      <td>[['Catch up with friends', 'Not exceptional'],...</td>\n",
       "      <td>/Restaurant_Review-g186338-d8632781-Reviews-RO...</td>\n",
       "      <td>d8632781</td>\n",
       "    </tr>\n",
       "    <tr>\n",
       "      <th>3</th>\n",
       "      <td>id_3456</td>\n",
       "      <td>Berlin</td>\n",
       "      <td>NaN</td>\n",
       "      <td>3458.0</td>\n",
       "      <td>5.0</td>\n",
       "      <td>NaN</td>\n",
       "      <td>3.0</td>\n",
       "      <td>[[], []]</td>\n",
       "      <td>/Restaurant_Review-g187323-d1358776-Reviews-Es...</td>\n",
       "      <td>d1358776</td>\n",
       "    </tr>\n",
       "    <tr>\n",
       "      <th>4</th>\n",
       "      <td>id_615</td>\n",
       "      <td>Munich</td>\n",
       "      <td>['German', 'Central European', 'Vegetarian Fri...</td>\n",
       "      <td>621.0</td>\n",
       "      <td>4.0</td>\n",
       "      <td>$$ - $$$</td>\n",
       "      <td>84.0</td>\n",
       "      <td>[['Best place to try a Bavarian food', 'Nice b...</td>\n",
       "      <td>/Restaurant_Review-g187309-d6864963-Reviews-Au...</td>\n",
       "      <td>d6864963</td>\n",
       "    </tr>\n",
       "  </tbody>\n",
       "</table>\n",
       "</div>"
      ],
      "text/plain": [
       "  Restaurant_id       City                                      Cuisine Style  \\\n",
       "0       id_5569      Paris            ['European', 'French', 'International']   \n",
       "1       id_1535  Stockholm                                                NaN   \n",
       "2        id_352     London  ['Japanese', 'Sushi', 'Asian', 'Grill', 'Veget...   \n",
       "3       id_3456     Berlin                                                NaN   \n",
       "4        id_615     Munich  ['German', 'Central European', 'Vegetarian Fri...   \n",
       "\n",
       "   Ranking  Rating Price Range  Number of Reviews  \\\n",
       "0   5570.0     3.5    $$ - $$$              194.0   \n",
       "1   1537.0     4.0         NaN               10.0   \n",
       "2    353.0     4.5        $$$$              688.0   \n",
       "3   3458.0     5.0         NaN                3.0   \n",
       "4    621.0     4.0    $$ - $$$               84.0   \n",
       "\n",
       "                                             Reviews  \\\n",
       "0  [['Good food at your doorstep', 'A good hotel ...   \n",
       "1  [['Unique cuisine', 'Delicious Nepalese food']...   \n",
       "2  [['Catch up with friends', 'Not exceptional'],...   \n",
       "3                                           [[], []]   \n",
       "4  [['Best place to try a Bavarian food', 'Nice b...   \n",
       "\n",
       "                                              URL_TA     ID_TA  \n",
       "0  /Restaurant_Review-g187147-d1912643-Reviews-R_...  d1912643  \n",
       "1  /Restaurant_Review-g189852-d7992032-Reviews-Bu...  d7992032  \n",
       "2  /Restaurant_Review-g186338-d8632781-Reviews-RO...  d8632781  \n",
       "3  /Restaurant_Review-g187323-d1358776-Reviews-Es...  d1358776  \n",
       "4  /Restaurant_Review-g187309-d6864963-Reviews-Au...  d6864963  "
      ]
     },
     "execution_count": 5,
     "metadata": {},
     "output_type": "execute_result"
    }
   ],
   "source": [
    "df_train.head()"
   ]
  },
  {
   "cell_type": "markdown",
   "metadata": {},
   "source": [
    "- В целевой переменной Rating пропусков нет\n",
    "- В признаках Cuisine Style, Price Range, Number of Reviews есть пропуски\n",
    "- Признаки Cuisine Style, Reviews надо разбирать на списки\n",
    "- Признаки City, Price Range - категориальные\n",
    "- Что делать с URL_TA пока неясно\n",
    "- Признаки Restaurant_id и ID_TA считаем бесполезными для предсказания"
   ]
  },
  {
   "cell_type": "code",
   "execution_count": 6,
   "metadata": {
    "ExecuteTime": {
     "end_time": "2021-11-05T22:24:25.379790Z",
     "start_time": "2021-11-05T22:24:25.349869Z"
    }
   },
   "outputs": [
    {
     "name": "stdout",
     "output_type": "stream",
     "text": [
      "<class 'pandas.core.frame.DataFrame'>\n",
      "RangeIndex: 10000 entries, 0 to 9999\n",
      "Data columns (total 9 columns):\n",
      " #   Column             Non-Null Count  Dtype  \n",
      "---  ------             --------------  -----  \n",
      " 0   Restaurant_id      10000 non-null  object \n",
      " 1   City               10000 non-null  object \n",
      " 2   Cuisine Style      7693 non-null   object \n",
      " 3   Ranking            10000 non-null  float64\n",
      " 4   Price Range        6525 non-null   object \n",
      " 5   Number of Reviews  9343 non-null   float64\n",
      " 6   Reviews            9998 non-null   object \n",
      " 7   URL_TA             10000 non-null  object \n",
      " 8   ID_TA              10000 non-null  object \n",
      "dtypes: float64(2), object(7)\n",
      "memory usage: 5.8 MB\n"
     ]
    }
   ],
   "source": [
    "df_test.info(memory_usage='deep')"
   ]
  },
  {
   "cell_type": "code",
   "execution_count": 7,
   "metadata": {
    "ExecuteTime": {
     "end_time": "2021-11-05T22:24:25.409908Z",
     "start_time": "2021-11-05T22:24:25.384729Z"
    }
   },
   "outputs": [
    {
     "data": {
      "text/html": [
       "<div>\n",
       "<style scoped>\n",
       "    .dataframe tbody tr th:only-of-type {\n",
       "        vertical-align: middle;\n",
       "    }\n",
       "\n",
       "    .dataframe tbody tr th {\n",
       "        vertical-align: top;\n",
       "    }\n",
       "\n",
       "    .dataframe thead th {\n",
       "        text-align: right;\n",
       "    }\n",
       "</style>\n",
       "<table border=\"1\" class=\"dataframe\">\n",
       "  <thead>\n",
       "    <tr style=\"text-align: right;\">\n",
       "      <th></th>\n",
       "      <th>Restaurant_id</th>\n",
       "      <th>City</th>\n",
       "      <th>Cuisine Style</th>\n",
       "      <th>Ranking</th>\n",
       "      <th>Price Range</th>\n",
       "      <th>Number of Reviews</th>\n",
       "      <th>Reviews</th>\n",
       "      <th>URL_TA</th>\n",
       "      <th>ID_TA</th>\n",
       "    </tr>\n",
       "  </thead>\n",
       "  <tbody>\n",
       "    <tr>\n",
       "      <th>0</th>\n",
       "      <td>id_0</td>\n",
       "      <td>Paris</td>\n",
       "      <td>['Bar', 'Pub']</td>\n",
       "      <td>12963.0</td>\n",
       "      <td>$$ - $$$</td>\n",
       "      <td>4.0</td>\n",
       "      <td>[[], []]</td>\n",
       "      <td>/Restaurant_Review-g187147-d10746918-Reviews-L...</td>\n",
       "      <td>d10746918</td>\n",
       "    </tr>\n",
       "    <tr>\n",
       "      <th>1</th>\n",
       "      <td>id_1</td>\n",
       "      <td>Helsinki</td>\n",
       "      <td>['European', 'Scandinavian', 'Gluten Free Opti...</td>\n",
       "      <td>106.0</td>\n",
       "      <td>$$ - $$$</td>\n",
       "      <td>97.0</td>\n",
       "      <td>[['Very good reviews!', 'Fine dining in Hakani...</td>\n",
       "      <td>/Restaurant_Review-g189934-d6674944-Reviews-Ra...</td>\n",
       "      <td>d6674944</td>\n",
       "    </tr>\n",
       "    <tr>\n",
       "      <th>2</th>\n",
       "      <td>id_2</td>\n",
       "      <td>Edinburgh</td>\n",
       "      <td>['Vegetarian Friendly']</td>\n",
       "      <td>810.0</td>\n",
       "      <td>$$ - $$$</td>\n",
       "      <td>28.0</td>\n",
       "      <td>[['Better than the Links', 'Ivy Black'], ['12/...</td>\n",
       "      <td>/Restaurant_Review-g186525-d13129638-Reviews-B...</td>\n",
       "      <td>d13129638</td>\n",
       "    </tr>\n",
       "    <tr>\n",
       "      <th>3</th>\n",
       "      <td>id_3</td>\n",
       "      <td>London</td>\n",
       "      <td>['Italian', 'Mediterranean', 'European', 'Vege...</td>\n",
       "      <td>1669.0</td>\n",
       "      <td>$$$$</td>\n",
       "      <td>202.0</td>\n",
       "      <td>[['Most exquisite', 'Delicious and authentic']...</td>\n",
       "      <td>/Restaurant_Review-g186338-d680417-Reviews-Qui...</td>\n",
       "      <td>d680417</td>\n",
       "    </tr>\n",
       "    <tr>\n",
       "      <th>4</th>\n",
       "      <td>id_4</td>\n",
       "      <td>Bratislava</td>\n",
       "      <td>['Italian', 'Mediterranean', 'European', 'Seaf...</td>\n",
       "      <td>37.0</td>\n",
       "      <td>$$$$</td>\n",
       "      <td>162.0</td>\n",
       "      <td>[['Always the best in bratislava', 'Very good ...</td>\n",
       "      <td>/Restaurant_Review-g274924-d1112354-Reviews-Ma...</td>\n",
       "      <td>d1112354</td>\n",
       "    </tr>\n",
       "  </tbody>\n",
       "</table>\n",
       "</div>"
      ],
      "text/plain": [
       "  Restaurant_id        City  \\\n",
       "0          id_0       Paris   \n",
       "1          id_1    Helsinki   \n",
       "2          id_2   Edinburgh   \n",
       "3          id_3      London   \n",
       "4          id_4  Bratislava   \n",
       "\n",
       "                                       Cuisine Style  Ranking Price Range  \\\n",
       "0                                     ['Bar', 'Pub']  12963.0    $$ - $$$   \n",
       "1  ['European', 'Scandinavian', 'Gluten Free Opti...    106.0    $$ - $$$   \n",
       "2                            ['Vegetarian Friendly']    810.0    $$ - $$$   \n",
       "3  ['Italian', 'Mediterranean', 'European', 'Vege...   1669.0        $$$$   \n",
       "4  ['Italian', 'Mediterranean', 'European', 'Seaf...     37.0        $$$$   \n",
       "\n",
       "   Number of Reviews                                            Reviews  \\\n",
       "0                4.0                                           [[], []]   \n",
       "1               97.0  [['Very good reviews!', 'Fine dining in Hakani...   \n",
       "2               28.0  [['Better than the Links', 'Ivy Black'], ['12/...   \n",
       "3              202.0  [['Most exquisite', 'Delicious and authentic']...   \n",
       "4              162.0  [['Always the best in bratislava', 'Very good ...   \n",
       "\n",
       "                                              URL_TA      ID_TA  \n",
       "0  /Restaurant_Review-g187147-d10746918-Reviews-L...  d10746918  \n",
       "1  /Restaurant_Review-g189934-d6674944-Reviews-Ra...   d6674944  \n",
       "2  /Restaurant_Review-g186525-d13129638-Reviews-B...  d13129638  \n",
       "3  /Restaurant_Review-g186338-d680417-Reviews-Qui...    d680417  \n",
       "4  /Restaurant_Review-g274924-d1112354-Reviews-Ma...   d1112354  "
      ]
     },
     "execution_count": 7,
     "metadata": {},
     "output_type": "execute_result"
    }
   ],
   "source": [
    "df_test.head()"
   ]
  },
  {
   "cell_type": "markdown",
   "metadata": {},
   "source": [
    "## Готовим объединённый датасет"
   ]
  },
  {
   "cell_type": "code",
   "execution_count": 8,
   "metadata": {
    "ExecuteTime": {
     "end_time": "2021-11-05T22:24:25.425522Z",
     "start_time": "2021-11-05T22:24:25.412876Z"
    }
   },
   "outputs": [],
   "source": [
    "# делаем имена попроще\n",
    "df_train.columns = ['Restaurant_id', 'City', 'Cuisine', 'Ranking', 'Rating', 'Price', 'nReviews', 'Reviews', 'URL_TA', 'ID_TA']\n",
    "df_test.columns = ['Restaurant_id', 'City', 'Cuisine', 'Ranking', 'Price', 'nReviews', 'Reviews', 'URL_TA', 'ID_TA']"
   ]
  },
  {
   "cell_type": "code",
   "execution_count": 9,
   "metadata": {
    "ExecuteTime": {
     "end_time": "2021-11-05T22:24:25.487615Z",
     "start_time": "2021-11-05T22:24:25.428019Z"
    }
   },
   "outputs": [
    {
     "name": "stdout",
     "output_type": "stream",
     "text": [
      "<class 'pandas.core.frame.DataFrame'>\n",
      "RangeIndex: 50000 entries, 0 to 49999\n",
      "Data columns (total 11 columns):\n",
      " #   Column         Non-Null Count  Dtype  \n",
      "---  ------         --------------  -----  \n",
      " 0   Restaurant_id  50000 non-null  object \n",
      " 1   City           50000 non-null  object \n",
      " 2   Cuisine        38410 non-null  object \n",
      " 3   Ranking        50000 non-null  float64\n",
      " 4   Rating         50000 non-null  float64\n",
      " 5   Price          32639 non-null  object \n",
      " 6   nReviews       46800 non-null  float64\n",
      " 7   Reviews        49998 non-null  object \n",
      " 8   URL_TA         50000 non-null  object \n",
      " 9   ID_TA          50000 non-null  object \n",
      " 10  isTrain        50000 non-null  bool   \n",
      "dtypes: bool(1), float64(3), object(7)\n",
      "memory usage: 3.9+ MB\n"
     ]
    }
   ],
   "source": [
    "df_train['isTrain'] = True # отмечаем где тренировочная часть\n",
    "df_test['isTrain'] = False\n",
    "df_test['Rating'] = 0\n",
    "\n",
    "df_union = df_train.append(df_test, ignore_index=True)\n",
    "df_union.info()"
   ]
  },
  {
   "cell_type": "code",
   "execution_count": 10,
   "metadata": {
    "ExecuteTime": {
     "end_time": "2021-11-05T22:24:25.502583Z",
     "start_time": "2021-11-05T22:24:25.489541Z"
    }
   },
   "outputs": [],
   "source": [
    "# дропаем всё лишнее\n",
    "df = df_train.drop(columns=['Restaurant_id', 'URL_TA', 'ID_TA'])"
   ]
  },
  {
   "cell_type": "markdown",
   "metadata": {},
   "source": [
    "## Чистим, заполняем и преобразуем данные"
   ]
  },
  {
   "cell_type": "markdown",
   "metadata": {
    "ExecuteTime": {
     "end_time": "2021-11-05T14:07:29.617791Z",
     "start_time": "2021-11-05T14:07:29.599705Z"
    }
   },
   "source": [
    "### Price Range"
   ]
  },
  {
   "cell_type": "code",
   "execution_count": 11,
   "metadata": {
    "ExecuteTime": {
     "end_time": "2021-11-05T22:24:25.517707Z",
     "start_time": "2021-11-05T22:24:25.504535Z"
    }
   },
   "outputs": [
    {
     "data": {
      "text/plain": [
       "array(['$$ - $$$', nan, '$$$$', '$'], dtype=object)"
      ]
     },
     "execution_count": 11,
     "metadata": {},
     "output_type": "execute_result"
    }
   ],
   "source": [
    "df['Price'].unique()"
   ]
  },
  {
   "cell_type": "code",
   "execution_count": 12,
   "metadata": {
    "ExecuteTime": {
     "end_time": "2021-11-05T22:24:25.563799Z",
     "start_time": "2021-11-05T22:24:25.519668Z"
    }
   },
   "outputs": [
    {
     "data": {
      "text/plain": [
       "array([ 2., nan,  3.,  1.])"
      ]
     },
     "execution_count": 12,
     "metadata": {},
     "output_type": "execute_result"
    }
   ],
   "source": [
    "price_dict = {'$': 1, '$$ - $$$': 2, '$$$$': 3}\n",
    "df['Price'] = df['Price'].replace(to_replace=price_dict)\n",
    "df['Price'].unique()"
   ]
  },
  {
   "cell_type": "code",
   "execution_count": 13,
   "metadata": {
    "ExecuteTime": {
     "end_time": "2021-11-05T22:24:25.578808Z",
     "start_time": "2021-11-05T22:24:25.566245Z"
    }
   },
   "outputs": [],
   "source": [
    "# посмотрим на средние цены по городам\n",
    "# df[['City', 'Price']].groupby(by='City').agg(['describe'])\n",
    "# кардинальной разницы нет, поэтому заполним пропуски средней ценой\n",
    "# df['Price'] = df['Price'].fillna(2).astype('uint8')\n",
    "# df['Price'].unique()"
   ]
  },
  {
   "cell_type": "code",
   "execution_count": 14,
   "metadata": {
    "ExecuteTime": {
     "end_time": "2021-11-05T22:24:25.672248Z",
     "start_time": "2021-11-05T22:24:25.580722Z"
    }
   },
   "outputs": [],
   "source": [
    "# попробуем использовать стоимость, как дробную величину для заполнения пропусков\n",
    "price_by_city = df[['City', 'Price']].groupby(by='City').agg(['min', 'mean', 'max'])\n",
    "price_by_city = price_by_city['Price']\n",
    "# готовим столбец для замены Price на среднее по City\n",
    "mean_price_values = {price_by_city.index[i]: price_by_city['mean'].values[i] for i in range(price_by_city.shape[0])}\n",
    "df.loc[df['Price'].isna(), 'Price'] = df['City'].replace(to_replace=mean_price_values)"
   ]
  },
  {
   "cell_type": "markdown",
   "metadata": {
    "ExecuteTime": {
     "end_time": "2021-11-05T14:07:29.617791Z",
     "start_time": "2021-11-05T14:07:29.599705Z"
    }
   },
   "source": [
    "### City"
   ]
  },
  {
   "cell_type": "code",
   "execution_count": 15,
   "metadata": {
    "ExecuteTime": {
     "end_time": "2021-11-05T22:24:25.687014Z",
     "start_time": "2021-11-05T22:24:25.674332Z"
    }
   },
   "outputs": [
    {
     "data": {
      "text/plain": [
       "London        5757\n",
       "Paris         4897\n",
       "Madrid        3108\n",
       "Barcelona     2734\n",
       "Berlin        2155\n",
       "Milan         2133\n",
       "Rome          2078\n",
       "Prague        1443\n",
       "Lisbon        1300\n",
       "Vienna        1166\n",
       "Amsterdam     1086\n",
       "Brussels      1060\n",
       "Hamburg        949\n",
       "Munich         893\n",
       "Lyon           892\n",
       "Stockholm      820\n",
       "Budapest       816\n",
       "Warsaw         727\n",
       "Dublin         673\n",
       "Copenhagen     659\n",
       "Athens         628\n",
       "Edinburgh      596\n",
       "Zurich         538\n",
       "Oporto         513\n",
       "Geneva         481\n",
       "Krakow         443\n",
       "Oslo           385\n",
       "Helsinki       376\n",
       "Bratislava     301\n",
       "Luxembourg     210\n",
       "Ljubljana      183\n",
       "Name: City, dtype: int64"
      ]
     },
     "execution_count": 15,
     "metadata": {},
     "output_type": "execute_result"
    }
   ],
   "source": [
    "df['City'].value_counts()"
   ]
  },
  {
   "cell_type": "code",
   "execution_count": 16,
   "metadata": {
    "ExecuteTime": {
     "end_time": "2021-11-05T22:24:25.717771Z",
     "start_time": "2021-11-05T22:24:25.688946Z"
    }
   },
   "outputs": [],
   "source": [
    "# сделаем признак категориальным\n",
    "df['City'] = df['City'].astype('category')"
   ]
  },
  {
   "cell_type": "markdown",
   "metadata": {},
   "source": [
    "### Cuisine Style"
   ]
  },
  {
   "cell_type": "code",
   "execution_count": 17,
   "metadata": {
    "ExecuteTime": {
     "end_time": "2021-11-05T22:24:25.732911Z",
     "start_time": "2021-11-05T22:24:25.720773Z"
    }
   },
   "outputs": [],
   "source": [
    "# извлекает список значений из строки вида\n",
    "# ['European', 'French', 'International']\n",
    "def extract_list(s):\n",
    "    if pd.notna(s):\n",
    "        return list(filter(None, re.split(\"'(.*?)'[,\\s]*\", s.strip('[]'))))\n",
    "    else:\n",
    "        return []"
   ]
  },
  {
   "cell_type": "code",
   "execution_count": 18,
   "metadata": {
    "ExecuteTime": {
     "end_time": "2021-11-05T22:24:25.905627Z",
     "start_time": "2021-11-05T22:24:25.735882Z"
    }
   },
   "outputs": [
    {
     "data": {
      "text/plain": [
       "0                        [European, French, International]\n",
       "1                                                       []\n",
       "2        [Japanese, Sushi, Asian, Grill, Vegetarian Fri...\n",
       "3                                                       []\n",
       "4          [German, Central European, Vegetarian Friendly]\n",
       "                               ...                        \n",
       "39995    [Italian, Vegetarian Friendly, Vegan Options, ...\n",
       "39996    [French, American, Bar, European, Vegetarian F...\n",
       "39997                                    [Japanese, Sushi]\n",
       "39998    [Polish, European, Eastern European, Central E...\n",
       "39999                                            [Spanish]\n",
       "Name: Cuisine, Length: 40000, dtype: object"
      ]
     },
     "execution_count": 18,
     "metadata": {},
     "output_type": "execute_result"
    }
   ],
   "source": [
    "df['Cuisine'] = df['Cuisine'].apply(extract_list)\n",
    "df['Cuisine']"
   ]
  },
  {
   "cell_type": "code",
   "execution_count": 19,
   "metadata": {
    "ExecuteTime": {
     "end_time": "2021-11-05T22:24:25.983586Z",
     "start_time": "2021-11-05T22:24:25.907590Z"
    }
   },
   "outputs": [
    {
     "data": {
      "text/plain": [
       "125"
      ]
     },
     "execution_count": 19,
     "metadata": {},
     "output_type": "execute_result"
    }
   ],
   "source": [
    "# сколько всего видов кухни\n",
    "df['Cuisine'].explode().nunique()"
   ]
  },
  {
   "cell_type": "code",
   "execution_count": 20,
   "metadata": {
    "ExecuteTime": {
     "end_time": "2021-11-05T22:24:26.047444Z",
     "start_time": "2021-11-05T22:24:25.986502Z"
    }
   },
   "outputs": [
    {
     "data": {
      "text/plain": [
       "Vegetarian Friendly    11189\n",
       "European               10060\n",
       "Mediterranean           6277\n",
       "Italian                 5964\n",
       "Vegan Options           4486\n",
       "                       ...  \n",
       "Xinjiang                   1\n",
       "Salvadoran                 1\n",
       "Burmese                    1\n",
       "Latvian                    1\n",
       "Yunnan                     1\n",
       "Name: Cuisine, Length: 125, dtype: int64"
      ]
     },
     "execution_count": 20,
     "metadata": {},
     "output_type": "execute_result"
    }
   ],
   "source": [
    "# популярность видов кухонь\n",
    "df['Cuisine'].explode().value_counts()\n",
    "# есть очень редкие"
   ]
  },
  {
   "cell_type": "code",
   "execution_count": 21,
   "metadata": {
    "ExecuteTime": {
     "end_time": "2021-11-05T22:24:26.077477Z",
     "start_time": "2021-11-05T22:24:26.049463Z"
    }
   },
   "outputs": [],
   "source": [
    "# заполним пропуски отдельной меткой\n",
    "df['Cuisine'] = df['Cuisine'].apply(lambda x: x if len(x)>0 else ['Unknown'])"
   ]
  },
  {
   "cell_type": "markdown",
   "metadata": {},
   "source": [
    "### Reviews"
   ]
  },
  {
   "cell_type": "code",
   "execution_count": 22,
   "metadata": {
    "ExecuteTime": {
     "end_time": "2021-11-05T22:24:26.092686Z",
     "start_time": "2021-11-05T22:24:26.082874Z"
    }
   },
   "outputs": [],
   "source": [
    "# извлекает список списков из строки вида\n",
    "# [['Good food at your doorstep', 'A good hotel restaurant'], ['12/31/2017', '11/20/2017']]\n",
    "def extract_list_in_list(s):\n",
    "    if pd.notna(s):\n",
    "        return list(filter(None, re.split(\"\\[\\[(.*)\\],\\s\\[(.*)\\]\\]\", s)))\n",
    "    else:\n",
    "        return ['']"
   ]
  },
  {
   "cell_type": "code",
   "execution_count": 23,
   "metadata": {
    "ExecuteTime": {
     "end_time": "2021-11-05T22:24:37.535876Z",
     "start_time": "2021-11-05T22:24:26.095610Z"
    }
   },
   "outputs": [],
   "source": [
    "df['Reviews'] = df['Reviews'].apply(extract_list_in_list)\n",
    "df['ReviewsText'] = df['Reviews'].apply(lambda x: extract_list(x[0]) if x else [])\n",
    "df['ReviewsDate'] = df['Reviews'].apply(lambda x: list(pd.to_datetime(extract_list(x[1]))) if x else [])\n",
    "df.drop(columns='Reviews', inplace=True)"
   ]
  },
  {
   "cell_type": "code",
   "execution_count": 24,
   "metadata": {
    "ExecuteTime": {
     "end_time": "2021-11-05T22:24:37.566794Z",
     "start_time": "2021-11-05T22:24:37.537845Z"
    }
   },
   "outputs": [
    {
     "data": {
      "text/html": [
       "<div>\n",
       "<style scoped>\n",
       "    .dataframe tbody tr th:only-of-type {\n",
       "        vertical-align: middle;\n",
       "    }\n",
       "\n",
       "    .dataframe tbody tr th {\n",
       "        vertical-align: top;\n",
       "    }\n",
       "\n",
       "    .dataframe thead th {\n",
       "        text-align: right;\n",
       "    }\n",
       "</style>\n",
       "<table border=\"1\" class=\"dataframe\">\n",
       "  <thead>\n",
       "    <tr style=\"text-align: right;\">\n",
       "      <th></th>\n",
       "      <th>ReviewsText</th>\n",
       "      <th>ReviewsDate</th>\n",
       "    </tr>\n",
       "  </thead>\n",
       "  <tbody>\n",
       "    <tr>\n",
       "      <th>0</th>\n",
       "      <td>[Good food at your doorstep, A good hotel rest...</td>\n",
       "      <td>[2017-12-31 00:00:00, 2017-11-20 00:00:00]</td>\n",
       "    </tr>\n",
       "    <tr>\n",
       "      <th>1</th>\n",
       "      <td>[Unique cuisine, Delicious Nepalese food]</td>\n",
       "      <td>[2017-07-06 00:00:00, 2016-06-19 00:00:00]</td>\n",
       "    </tr>\n",
       "    <tr>\n",
       "      <th>2</th>\n",
       "      <td>[Catch up with friends, Not exceptional]</td>\n",
       "      <td>[2018-01-08 00:00:00, 2018-01-06 00:00:00]</td>\n",
       "    </tr>\n",
       "    <tr>\n",
       "      <th>3</th>\n",
       "      <td>[]</td>\n",
       "      <td>[]</td>\n",
       "    </tr>\n",
       "    <tr>\n",
       "      <th>4</th>\n",
       "      <td>[Best place to try a Bavarian food, Nice build...</td>\n",
       "      <td>[2017-11-18 00:00:00, 2017-02-19 00:00:00]</td>\n",
       "    </tr>\n",
       "    <tr>\n",
       "      <th>...</th>\n",
       "      <td>...</td>\n",
       "      <td>...</td>\n",
       "    </tr>\n",
       "    <tr>\n",
       "      <th>39995</th>\n",
       "      <td>[The real Italian experience!, Wonderful food,...</td>\n",
       "      <td>[2017-12-16 00:00:00, 2017-11-12 00:00:00]</td>\n",
       "    </tr>\n",
       "    <tr>\n",
       "      <th>39996</th>\n",
       "      <td>[Parisian atmosphere, Bit pricey but interesti...</td>\n",
       "      <td>[2017-12-21 00:00:00, 2017-12-12 00:00:00]</td>\n",
       "    </tr>\n",
       "    <tr>\n",
       "      <th>39997</th>\n",
       "      <td>[Good by swedish standards, A hidden jewel in ...</td>\n",
       "      <td>[2016-11-03 00:00:00, 2008-04-12 00:00:00]</td>\n",
       "    </tr>\n",
       "    <tr>\n",
       "      <th>39998</th>\n",
       "      <td>[Underground restaurant, Oldest Restaurant in ...</td>\n",
       "      <td>[2017-07-11 00:00:00, 2017-06-18 00:00:00]</td>\n",
       "    </tr>\n",
       "    <tr>\n",
       "      <th>39999</th>\n",
       "      <td>[Average, Nice an informal]</td>\n",
       "      <td>[2016-01-31 00:00:00, 2012-07-04 00:00:00]</td>\n",
       "    </tr>\n",
       "  </tbody>\n",
       "</table>\n",
       "<p>40000 rows × 2 columns</p>\n",
       "</div>"
      ],
      "text/plain": [
       "                                             ReviewsText  \\\n",
       "0      [Good food at your doorstep, A good hotel rest...   \n",
       "1              [Unique cuisine, Delicious Nepalese food]   \n",
       "2               [Catch up with friends, Not exceptional]   \n",
       "3                                                     []   \n",
       "4      [Best place to try a Bavarian food, Nice build...   \n",
       "...                                                  ...   \n",
       "39995  [The real Italian experience!, Wonderful food,...   \n",
       "39996  [Parisian atmosphere, Bit pricey but interesti...   \n",
       "39997  [Good by swedish standards, A hidden jewel in ...   \n",
       "39998  [Underground restaurant, Oldest Restaurant in ...   \n",
       "39999                        [Average, Nice an informal]   \n",
       "\n",
       "                                      ReviewsDate  \n",
       "0      [2017-12-31 00:00:00, 2017-11-20 00:00:00]  \n",
       "1      [2017-07-06 00:00:00, 2016-06-19 00:00:00]  \n",
       "2      [2018-01-08 00:00:00, 2018-01-06 00:00:00]  \n",
       "3                                              []  \n",
       "4      [2017-11-18 00:00:00, 2017-02-19 00:00:00]  \n",
       "...                                           ...  \n",
       "39995  [2017-12-16 00:00:00, 2017-11-12 00:00:00]  \n",
       "39996  [2017-12-21 00:00:00, 2017-12-12 00:00:00]  \n",
       "39997  [2016-11-03 00:00:00, 2008-04-12 00:00:00]  \n",
       "39998  [2017-07-11 00:00:00, 2017-06-18 00:00:00]  \n",
       "39999  [2016-01-31 00:00:00, 2012-07-04 00:00:00]  \n",
       "\n",
       "[40000 rows x 2 columns]"
      ]
     },
     "execution_count": 24,
     "metadata": {},
     "output_type": "execute_result"
    }
   ],
   "source": [
    "df[['ReviewsText', 'ReviewsDate']]"
   ]
  },
  {
   "cell_type": "markdown",
   "metadata": {
    "ExecuteTime": {
     "end_time": "2021-11-05T15:06:24.020910Z",
     "start_time": "2021-11-05T15:06:24.007915Z"
    }
   },
   "source": [
    "### Number of Reviews"
   ]
  },
  {
   "cell_type": "code",
   "execution_count": 25,
   "metadata": {
    "ExecuteTime": {
     "end_time": "2021-11-05T22:24:37.628649Z",
     "start_time": "2021-11-05T22:24:37.571833Z"
    }
   },
   "outputs": [
    {
     "data": {
      "text/html": [
       "<div>\n",
       "<style scoped>\n",
       "    .dataframe tbody tr th:only-of-type {\n",
       "        vertical-align: middle;\n",
       "    }\n",
       "\n",
       "    .dataframe tbody tr th {\n",
       "        vertical-align: top;\n",
       "    }\n",
       "\n",
       "    .dataframe thead th {\n",
       "        text-align: right;\n",
       "    }\n",
       "</style>\n",
       "<table border=\"1\" class=\"dataframe\">\n",
       "  <thead>\n",
       "    <tr style=\"text-align: right;\">\n",
       "      <th></th>\n",
       "      <th>City</th>\n",
       "      <th>Cuisine</th>\n",
       "      <th>Ranking</th>\n",
       "      <th>Rating</th>\n",
       "      <th>Price</th>\n",
       "      <th>nReviews</th>\n",
       "      <th>isTrain</th>\n",
       "      <th>ReviewsText</th>\n",
       "      <th>ReviewsDate</th>\n",
       "    </tr>\n",
       "  </thead>\n",
       "  <tbody>\n",
       "    <tr>\n",
       "      <th>8</th>\n",
       "      <td>Vienna</td>\n",
       "      <td>[Unknown]</td>\n",
       "      <td>2692.0</td>\n",
       "      <td>4.0</td>\n",
       "      <td>1.853933</td>\n",
       "      <td>NaN</td>\n",
       "      <td>True</td>\n",
       "      <td>[]</td>\n",
       "      <td>[]</td>\n",
       "    </tr>\n",
       "    <tr>\n",
       "      <th>21</th>\n",
       "      <td>Madrid</td>\n",
       "      <td>[Unknown]</td>\n",
       "      <td>5847.0</td>\n",
       "      <td>4.0</td>\n",
       "      <td>1.849827</td>\n",
       "      <td>NaN</td>\n",
       "      <td>True</td>\n",
       "      <td>[]</td>\n",
       "      <td>[]</td>\n",
       "    </tr>\n",
       "    <tr>\n",
       "      <th>32</th>\n",
       "      <td>Budapest</td>\n",
       "      <td>[Unknown]</td>\n",
       "      <td>1328.0</td>\n",
       "      <td>5.0</td>\n",
       "      <td>1.710197</td>\n",
       "      <td>NaN</td>\n",
       "      <td>True</td>\n",
       "      <td>[Absolutely amazing, tasty, fresh, cheap Ch...]</td>\n",
       "      <td>[2015-10-26 00:00:00]</td>\n",
       "    </tr>\n",
       "    <tr>\n",
       "      <th>102</th>\n",
       "      <td>Budapest</td>\n",
       "      <td>[French, European, Hungarian]</td>\n",
       "      <td>1410.0</td>\n",
       "      <td>5.0</td>\n",
       "      <td>1.710197</td>\n",
       "      <td>NaN</td>\n",
       "      <td>True</td>\n",
       "      <td>[]</td>\n",
       "      <td>[]</td>\n",
       "    </tr>\n",
       "    <tr>\n",
       "      <th>108</th>\n",
       "      <td>Prague</td>\n",
       "      <td>[Italian, Mediterranean]</td>\n",
       "      <td>2050.0</td>\n",
       "      <td>5.0</td>\n",
       "      <td>2.000000</td>\n",
       "      <td>NaN</td>\n",
       "      <td>True</td>\n",
       "      <td>[]</td>\n",
       "      <td>[]</td>\n",
       "    </tr>\n",
       "    <tr>\n",
       "      <th>...</th>\n",
       "      <td>...</td>\n",
       "      <td>...</td>\n",
       "      <td>...</td>\n",
       "      <td>...</td>\n",
       "      <td>...</td>\n",
       "      <td>...</td>\n",
       "      <td>...</td>\n",
       "      <td>...</td>\n",
       "      <td>...</td>\n",
       "    </tr>\n",
       "    <tr>\n",
       "      <th>39965</th>\n",
       "      <td>Rome</td>\n",
       "      <td>[Unknown]</td>\n",
       "      <td>5722.0</td>\n",
       "      <td>5.0</td>\n",
       "      <td>1.723804</td>\n",
       "      <td>NaN</td>\n",
       "      <td>True</td>\n",
       "      <td>[]</td>\n",
       "      <td>[]</td>\n",
       "    </tr>\n",
       "    <tr>\n",
       "      <th>39972</th>\n",
       "      <td>Prague</td>\n",
       "      <td>[Cafe, Delicatessen, Healthy, Wine Bar, Street...</td>\n",
       "      <td>2012.0</td>\n",
       "      <td>5.0</td>\n",
       "      <td>1.000000</td>\n",
       "      <td>NaN</td>\n",
       "      <td>True</td>\n",
       "      <td>[Personal expirence]</td>\n",
       "      <td>[2017-10-27 00:00:00]</td>\n",
       "    </tr>\n",
       "    <tr>\n",
       "      <th>39986</th>\n",
       "      <td>Madrid</td>\n",
       "      <td>[Unknown]</td>\n",
       "      <td>7279.0</td>\n",
       "      <td>3.0</td>\n",
       "      <td>1.849827</td>\n",
       "      <td>NaN</td>\n",
       "      <td>True</td>\n",
       "      <td>[]</td>\n",
       "      <td>[]</td>\n",
       "    </tr>\n",
       "    <tr>\n",
       "      <th>39988</th>\n",
       "      <td>Berlin</td>\n",
       "      <td>[Unknown]</td>\n",
       "      <td>4970.0</td>\n",
       "      <td>4.0</td>\n",
       "      <td>1.754799</td>\n",
       "      <td>NaN</td>\n",
       "      <td>True</td>\n",
       "      <td>[]</td>\n",
       "      <td>[]</td>\n",
       "    </tr>\n",
       "    <tr>\n",
       "      <th>39989</th>\n",
       "      <td>London</td>\n",
       "      <td>[International]</td>\n",
       "      <td>8896.0</td>\n",
       "      <td>5.0</td>\n",
       "      <td>1.804437</td>\n",
       "      <td>NaN</td>\n",
       "      <td>True</td>\n",
       "      <td>[I love this place!]</td>\n",
       "      <td>[2015-08-24 00:00:00]</td>\n",
       "    </tr>\n",
       "  </tbody>\n",
       "</table>\n",
       "<p>2543 rows × 9 columns</p>\n",
       "</div>"
      ],
      "text/plain": [
       "           City                                            Cuisine  Ranking  \\\n",
       "8        Vienna                                          [Unknown]   2692.0   \n",
       "21       Madrid                                          [Unknown]   5847.0   \n",
       "32     Budapest                                          [Unknown]   1328.0   \n",
       "102    Budapest                      [French, European, Hungarian]   1410.0   \n",
       "108      Prague                           [Italian, Mediterranean]   2050.0   \n",
       "...         ...                                                ...      ...   \n",
       "39965      Rome                                          [Unknown]   5722.0   \n",
       "39972    Prague  [Cafe, Delicatessen, Healthy, Wine Bar, Street...   2012.0   \n",
       "39986    Madrid                                          [Unknown]   7279.0   \n",
       "39988    Berlin                                          [Unknown]   4970.0   \n",
       "39989    London                                    [International]   8896.0   \n",
       "\n",
       "       Rating     Price  nReviews  isTrain  \\\n",
       "8         4.0  1.853933       NaN     True   \n",
       "21        4.0  1.849827       NaN     True   \n",
       "32        5.0  1.710197       NaN     True   \n",
       "102       5.0  1.710197       NaN     True   \n",
       "108       5.0  2.000000       NaN     True   \n",
       "...       ...       ...       ...      ...   \n",
       "39965     5.0  1.723804       NaN     True   \n",
       "39972     5.0  1.000000       NaN     True   \n",
       "39986     3.0  1.849827       NaN     True   \n",
       "39988     4.0  1.754799       NaN     True   \n",
       "39989     5.0  1.804437       NaN     True   \n",
       "\n",
       "                                           ReviewsText            ReviewsDate  \n",
       "8                                                   []                     []  \n",
       "21                                                  []                     []  \n",
       "32     [Absolutely amazing, tasty, fresh, cheap Ch...]  [2015-10-26 00:00:00]  \n",
       "102                                                 []                     []  \n",
       "108                                                 []                     []  \n",
       "...                                                ...                    ...  \n",
       "39965                                               []                     []  \n",
       "39972                             [Personal expirence]  [2017-10-27 00:00:00]  \n",
       "39986                                               []                     []  \n",
       "39988                                               []                     []  \n",
       "39989                             [I love this place!]  [2015-08-24 00:00:00]  \n",
       "\n",
       "[2543 rows x 9 columns]"
      ]
     },
     "execution_count": 25,
     "metadata": {},
     "output_type": "execute_result"
    }
   ],
   "source": [
    "# посмотрим какая картина с пропусками\n",
    "df[df['nReviews'].isna()]"
   ]
  },
  {
   "cell_type": "code",
   "execution_count": 26,
   "metadata": {
    "ExecuteTime": {
     "end_time": "2021-11-05T22:24:37.643880Z",
     "start_time": "2021-11-05T22:24:37.630614Z"
    }
   },
   "outputs": [],
   "source": [
    "# заполним пропуски медианным значением\n",
    "df.loc[df['nReviews'].isna(), 'nReviews'] = df['nReviews'].median()\n",
    "# и приведем тип\n",
    "df['nReviews'] = df['nReviews'].astype('uint')"
   ]
  },
  {
   "cell_type": "markdown",
   "metadata": {
    "ExecuteTime": {
     "end_time": "2021-11-05T13:18:40.566007Z",
     "start_time": "2021-11-05T13:18:40.550942Z"
    }
   },
   "source": [
    "## Генерируем новые признаки"
   ]
  },
  {
   "cell_type": "code",
   "execution_count": 27,
   "metadata": {
    "ExecuteTime": {
     "end_time": "2021-11-05T22:24:37.675620Z",
     "start_time": "2021-11-05T22:24:37.646734Z"
    }
   },
   "outputs": [],
   "source": [
    "# добавим признак количества представленных кухонь\n",
    "df['nCuisine'] = df['Cuisine'].apply(len)"
   ]
  },
  {
   "cell_type": "code",
   "execution_count": 28,
   "metadata": {
    "ExecuteTime": {
     "end_time": "2021-11-05T22:24:37.720668Z",
     "start_time": "2021-11-05T22:24:37.677593Z"
    }
   },
   "outputs": [],
   "source": [
    "# добавим среднюю оценку ресторанов по городу\n",
    "rating_by_city = df[['City', 'Rating']].groupby(by='City').agg(['min', 'mean', 'std', 'max'])\n",
    "rating_by_city = rating_by_city['Rating']\n",
    "mean_rating_values = {rating_by_city.index[i]: rating_by_city['mean'].values[i] for i in range(rating_by_city.shape[0])}\n",
    "df['MeanCityRating'] = df['City'].replace(to_replace=mean_rating_values)"
   ]
  },
  {
   "cell_type": "code",
   "execution_count": 29,
   "metadata": {
    "ExecuteTime": {
     "end_time": "2021-11-05T22:24:37.752593Z",
     "start_time": "2021-11-05T22:24:37.722595Z"
    }
   },
   "outputs": [],
   "source": [
    "# добавим среднее отклонение рейтинга по городу\n",
    "std_rating_values = {rating_by_city.index[i]: rating_by_city['std'].values[i] for i in range(rating_by_city.shape[0])}\n",
    "df['StdCityRating'] = df['City'].replace(to_replace=std_rating_values)"
   ]
  },
  {
   "cell_type": "code",
   "execution_count": 30,
   "metadata": {
    "ExecuteTime": {
     "end_time": "2021-11-05T22:24:37.894055Z",
     "start_time": "2021-11-05T22:24:37.753512Z"
    }
   },
   "outputs": [],
   "source": [
    "# нормируем ранг ресторана в городе из диапазона 1..max в 0..1\n",
    "# первый номер будет 0,9999 и так далее\n",
    "ranking_by_city = df[['City', 'Ranking']].groupby(by='City').agg(['describe'])\n",
    "ranking_by_city = ranking_by_city['Ranking']['describe']\n",
    "# максимальный номер в городе\n",
    "max_ranking_values = {ranking_by_city.index[i]: ranking_by_city['max'].values[i] for i in range(ranking_by_city.shape[0])}\n",
    "df['MaxRank'] = df['City'].replace(to_replace=max_ranking_values)\n",
    "df['RelRank'] = (df['MaxRank'] - df['Ranking']) / df['MaxRank']\n",
    "df.drop(columns='MaxRank', inplace=True)"
   ]
  },
  {
   "cell_type": "code",
   "execution_count": 31,
   "metadata": {
    "ExecuteTime": {
     "end_time": "2021-11-05T22:24:38.415471Z",
     "start_time": "2021-11-05T22:24:37.896053Z"
    }
   },
   "outputs": [],
   "source": [
    "# признак того, сколько дней прошло со времени последнего отзыва\n",
    "# будем считать, что сейчас 1 января 2020\n",
    "max_date = df['ReviewsDate'].explode().max()\n",
    "min_date = df['ReviewsDate'].explode().min()\n",
    "# все пропуски отметим, как самые старые\n",
    "df['nDaysReviews'] = df['ReviewsDate'].apply(lambda x: (max_date - max(x)).days if x else (max_date - min_date).days)"
   ]
  },
  {
   "cell_type": "code",
   "execution_count": 32,
   "metadata": {
    "ExecuteTime": {
     "end_time": "2021-11-05T22:24:38.430687Z",
     "start_time": "2021-11-05T22:24:38.418467Z"
    }
   },
   "outputs": [],
   "source": [
    "# категориальный City в dummy\n",
    "# df = df.append(pd.get_dummies(df['City'], prefix='City'))"
   ]
  },
  {
   "cell_type": "code",
   "execution_count": 33,
   "metadata": {
    "ExecuteTime": {
     "end_time": "2021-11-05T22:24:38.445937Z",
     "start_time": "2021-11-05T22:24:38.433598Z"
    }
   },
   "outputs": [],
   "source": [
    "# категориальный Cuisine в dummy\n",
    "# df = df.append(pd.get_dummies(df['Cuisine'].explode(), prefix='Cuisine'))"
   ]
  },
  {
   "cell_type": "markdown",
   "metadata": {},
   "source": [
    "# Разбиваем датафрейм на части, необходимые для обучения и тестирования модели"
   ]
  },
  {
   "cell_type": "code",
   "execution_count": 34,
   "metadata": {
    "ExecuteTime": {
     "end_time": "2021-11-05T22:24:38.477993Z",
     "start_time": "2021-11-05T22:24:38.447865Z"
    },
    "scrolled": true
   },
   "outputs": [
    {
     "name": "stdout",
     "output_type": "stream",
     "text": [
      "<class 'pandas.core.frame.DataFrame'>\n",
      "RangeIndex: 40000 entries, 0 to 39999\n",
      "Data columns (total 14 columns):\n",
      " #   Column          Non-Null Count  Dtype   \n",
      "---  ------          --------------  -----   \n",
      " 0   City            40000 non-null  category\n",
      " 1   Cuisine         40000 non-null  object  \n",
      " 2   Ranking         40000 non-null  float64 \n",
      " 3   Rating          40000 non-null  float64 \n",
      " 4   Price           40000 non-null  float64 \n",
      " 5   nReviews        40000 non-null  uint32  \n",
      " 6   isTrain         40000 non-null  bool    \n",
      " 7   ReviewsText     40000 non-null  object  \n",
      " 8   ReviewsDate     40000 non-null  object  \n",
      " 9   nCuisine        40000 non-null  int64   \n",
      " 10  MeanCityRating  40000 non-null  float64 \n",
      " 11  StdCityRating   40000 non-null  float64 \n",
      " 12  RelRank         40000 non-null  float64 \n",
      " 13  nDaysReviews    40000 non-null  int64   \n",
      "dtypes: bool(1), category(1), float64(6), int64(2), object(3), uint32(1)\n",
      "memory usage: 3.6+ MB\n"
     ]
    }
   ],
   "source": [
    "df.info()"
   ]
  },
  {
   "cell_type": "code",
   "execution_count": 35,
   "metadata": {
    "ExecuteTime": {
     "end_time": "2021-11-05T22:24:38.508752Z",
     "start_time": "2021-11-05T22:24:38.480551Z"
    }
   },
   "outputs": [
    {
     "name": "stdout",
     "output_type": "stream",
     "text": [
      "Index(['Ranking', 'Price', 'nReviews', 'nCuisine', 'MeanCityRating',\n",
      "       'StdCityRating', 'RelRank', 'nDaysReviews'],\n",
      "      dtype='object')\n"
     ]
    }
   ],
   "source": [
    "# Х - данные с информацией о ресторанах, у - целевая переменная (рейтинги ресторанов)\n",
    "X = df.select_dtypes(include='number').drop('Rating', axis=1)\n",
    "print(X.columns)\n",
    "y = df['Rating']"
   ]
  },
  {
   "cell_type": "code",
   "execution_count": 36,
   "metadata": {
    "ExecuteTime": {
     "end_time": "2021-11-05T22:24:39.316854Z",
     "start_time": "2021-11-05T22:24:38.509880Z"
    }
   },
   "outputs": [],
   "source": [
    "# Загружаем специальный инструмент для разбивки:\n",
    "from sklearn.model_selection import train_test_split"
   ]
  },
  {
   "cell_type": "code",
   "execution_count": 37,
   "metadata": {
    "ExecuteTime": {
     "end_time": "2021-11-05T22:24:39.348442Z",
     "start_time": "2021-11-05T22:24:39.319812Z"
    }
   },
   "outputs": [],
   "source": [
    "# Наборы данных с меткой \"train\" будут использоваться для обучения модели, \"test\" - для тестирования.\n",
    "# Для тестирования мы будем использовать 25% от исходного датасета.\n",
    "X_train, X_test, y_train, y_test = train_test_split(X, y, test_size=0.25)"
   ]
  },
  {
   "cell_type": "markdown",
   "metadata": {},
   "source": [
    "# Создаём, обучаем и тестируем модель"
   ]
  },
  {
   "cell_type": "code",
   "execution_count": 38,
   "metadata": {
    "ExecuteTime": {
     "end_time": "2021-11-05T22:24:39.502543Z",
     "start_time": "2021-11-05T22:24:39.350599Z"
    }
   },
   "outputs": [],
   "source": [
    "# Импортируем необходимые библиотеки:\n",
    "from sklearn.ensemble import RandomForestRegressor # инструмент для создания и обучения модели\n",
    "from sklearn import metrics # инструменты для оценки точности модели"
   ]
  },
  {
   "cell_type": "code",
   "execution_count": 39,
   "metadata": {
    "ExecuteTime": {
     "end_time": "2021-11-05T22:24:52.289719Z",
     "start_time": "2021-11-05T22:24:39.504739Z"
    }
   },
   "outputs": [],
   "source": [
    "# Создаём модель\n",
    "regr = RandomForestRegressor(n_estimators=100)\n",
    "\n",
    "# Обучаем модель на тестовом наборе данных\n",
    "regr.fit(X_train, y_train)\n",
    "\n",
    "# Используем обученную модель для предсказания рейтинга ресторанов в тестовой выборке.\n",
    "# Предсказанные значения записываем в переменную y_pred\n",
    "y_pred = regr.predict(X_test)"
   ]
  },
  {
   "cell_type": "code",
   "execution_count": 40,
   "metadata": {
    "ExecuteTime": {
     "end_time": "2021-11-05T22:24:52.305255Z",
     "start_time": "2021-11-05T22:24:52.291684Z"
    }
   },
   "outputs": [
    {
     "name": "stdout",
     "output_type": "stream",
     "text": [
      "MAE: 0.20659349999999999\n"
     ]
    }
   ],
   "source": [
    "# Сравниваем предсказанные значения (y_pred) с реальными (y_test), и смотрим насколько они в среднем отличаются\n",
    "# Метрика называется Mean Absolute Error (MAE) и показывает среднее отклонение предсказанных значений от фактических.\n",
    "print('MAE:', metrics.mean_absolute_error(y_test, y_pred))"
   ]
  },
  {
   "cell_type": "code",
   "execution_count": null,
   "metadata": {},
   "outputs": [],
   "source": []
  }
 ],
 "metadata": {
  "kernelspec": {
   "display_name": "Python 3",
   "language": "python",
   "name": "python3"
  },
  "language_info": {
   "codemirror_mode": {
    "name": "ipython",
    "version": 3
   },
   "file_extension": ".py",
   "mimetype": "text/x-python",
   "name": "python",
   "nbconvert_exporter": "python",
   "pygments_lexer": "ipython3",
   "version": "3.8.8"
  },
  "toc": {
   "base_numbering": 1,
   "nav_menu": {},
   "number_sections": true,
   "sideBar": true,
   "skip_h1_title": false,
   "title_cell": "Table of Contents",
   "title_sidebar": "Contents",
   "toc_cell": false,
   "toc_position": {},
   "toc_section_display": true,
   "toc_window_display": false
  }
 },
 "nbformat": 4,
 "nbformat_minor": 2
}
