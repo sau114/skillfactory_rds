{
 "cells": [
  {
   "cell_type": "code",
   "execution_count": 70,
   "metadata": {
    "ExecuteTime": {
     "end_time": "2021-08-19T09:47:06.593811Z",
     "start_time": "2021-08-19T09:47:06.575885Z"
    },
    "_cell_guid": "b1076dfc-b9ad-4769-8c92-a6c4dae69d19",
    "_uuid": "8f2839f25d086af736a60e9eeb907d3b93b6e0e5",
    "colab": {},
    "colab_type": "code",
    "id": "U2D2gTdJVp90"
   },
   "outputs": [],
   "source": [
    "import numpy as np\n",
    "import pandas as pd\n",
    "import seaborn as sns\n",
    "import matplotlib.pyplot as plt\n",
    "from collections import Counter"
   ]
  },
  {
   "cell_type": "code",
   "execution_count": 71,
   "metadata": {
    "ExecuteTime": {
     "end_time": "2021-08-19T09:47:10.472675Z",
     "start_time": "2021-08-19T09:47:10.305801Z"
    },
    "_cell_guid": "79c7e3d0-c299-4dcb-8224-4455121ee9b0",
    "_uuid": "d629ff2d2480ee46fbb7e2d37f6b5fab8052498a",
    "colab": {},
    "colab_type": "code",
    "id": "oyGfxL3eVp9-",
    "scrolled": true
   },
   "outputs": [
    {
     "data": {
      "text/html": [
       "<div>\n",
       "<style scoped>\n",
       "    .dataframe tbody tr th:only-of-type {\n",
       "        vertical-align: middle;\n",
       "    }\n",
       "\n",
       "    .dataframe tbody tr th {\n",
       "        vertical-align: top;\n",
       "    }\n",
       "\n",
       "    .dataframe thead th {\n",
       "        text-align: right;\n",
       "    }\n",
       "</style>\n",
       "<table border=\"1\" class=\"dataframe\">\n",
       "  <thead>\n",
       "    <tr style=\"text-align: right;\">\n",
       "      <th></th>\n",
       "      <th>imdb_id</th>\n",
       "      <th>budget</th>\n",
       "      <th>revenue</th>\n",
       "      <th>original_title</th>\n",
       "      <th>cast</th>\n",
       "      <th>director</th>\n",
       "      <th>tagline</th>\n",
       "      <th>overview</th>\n",
       "      <th>runtime</th>\n",
       "      <th>genres</th>\n",
       "      <th>production_companies</th>\n",
       "      <th>release_date</th>\n",
       "      <th>vote_average</th>\n",
       "      <th>release_year</th>\n",
       "    </tr>\n",
       "  </thead>\n",
       "  <tbody>\n",
       "    <tr>\n",
       "      <th>218</th>\n",
       "      <td>tt3007512</td>\n",
       "      <td>22500000</td>\n",
       "      <td>15520023</td>\n",
       "      <td>The Water Diviner</td>\n",
       "      <td>Russell Crowe|Olga Kurylenko|Jai Courtney|Isab...</td>\n",
       "      <td>Russell Crowe</td>\n",
       "      <td>A father's journey in search of his sons.</td>\n",
       "      <td>Four years after the Battle of Gallipoli, Aust...</td>\n",
       "      <td>112</td>\n",
       "      <td>War|Drama</td>\n",
       "      <td>Hopscotch Features|RatPac Entertainment|Seven ...</td>\n",
       "      <td>2014-12-25</td>\n",
       "      <td>6.8</td>\n",
       "      <td>2014</td>\n",
       "    </tr>\n",
       "  </tbody>\n",
       "</table>\n",
       "</div>"
      ],
      "text/plain": [
       "       imdb_id    budget   revenue     original_title  \\\n",
       "218  tt3007512  22500000  15520023  The Water Diviner   \n",
       "\n",
       "                                                  cast       director  \\\n",
       "218  Russell Crowe|Olga Kurylenko|Jai Courtney|Isab...  Russell Crowe   \n",
       "\n",
       "                                       tagline  \\\n",
       "218  A father's journey in search of his sons.   \n",
       "\n",
       "                                              overview  runtime     genres  \\\n",
       "218  Four years after the Battle of Gallipoli, Aust...      112  War|Drama   \n",
       "\n",
       "                                  production_companies release_date  \\\n",
       "218  Hopscotch Features|RatPac Entertainment|Seven ...   2014-12-25   \n",
       "\n",
       "     vote_average  release_year  \n",
       "218           6.8          2014  "
      ]
     },
     "execution_count": 71,
     "metadata": {},
     "output_type": "execute_result"
    }
   ],
   "source": [
    "data = pd.read_csv('movie_bd_v5.csv', parse_dates=['release_date'])\n",
    "data.sample()"
   ]
  },
  {
   "cell_type": "markdown",
   "metadata": {},
   "source": [
    "Видно, что в столбцах cast, director, genres, production_company может быть больше одного наименования"
   ]
  },
  {
   "cell_type": "code",
   "execution_count": 3,
   "metadata": {
    "ExecuteTime": {
     "end_time": "2021-08-19T09:23:54.002683Z",
     "start_time": "2021-08-19T09:23:53.972764Z"
    },
    "scrolled": true
   },
   "outputs": [
    {
     "name": "stdout",
     "output_type": "stream",
     "text": [
      "<class 'pandas.core.frame.DataFrame'>\n",
      "RangeIndex: 1889 entries, 0 to 1888\n",
      "Data columns (total 14 columns):\n",
      " #   Column                Non-Null Count  Dtype         \n",
      "---  ------                --------------  -----         \n",
      " 0   imdb_id               1889 non-null   object        \n",
      " 1   budget                1889 non-null   int64         \n",
      " 2   revenue               1889 non-null   int64         \n",
      " 3   original_title        1889 non-null   object        \n",
      " 4   cast                  1889 non-null   object        \n",
      " 5   director              1889 non-null   object        \n",
      " 6   tagline               1889 non-null   object        \n",
      " 7   overview              1889 non-null   object        \n",
      " 8   runtime               1889 non-null   int64         \n",
      " 9   genres                1889 non-null   object        \n",
      " 10  production_companies  1889 non-null   object        \n",
      " 11  release_date          1889 non-null   datetime64[ns]\n",
      " 12  vote_average          1889 non-null   float64       \n",
      " 13  release_year          1889 non-null   int64         \n",
      "dtypes: datetime64[ns](1), float64(1), int64(4), object(8)\n",
      "memory usage: 206.7+ KB\n"
     ]
    }
   ],
   "source": [
    "data.info()"
   ]
  },
  {
   "cell_type": "markdown",
   "metadata": {
    "colab_type": "text",
    "id": "DTIt7ezGVp-G"
   },
   "source": [
    "# Предобработка"
   ]
  },
  {
   "cell_type": "code",
   "execution_count": 4,
   "metadata": {
    "ExecuteTime": {
     "end_time": "2021-08-19T09:23:54.018640Z",
     "start_time": "2021-08-19T09:23:54.004680Z"
    }
   },
   "outputs": [],
   "source": [
    "answers = {} # создадим словарь для ответов"
   ]
  },
  {
   "cell_type": "code",
   "execution_count": 5,
   "metadata": {
    "ExecuteTime": {
     "end_time": "2021-08-19T09:23:54.050479Z",
     "start_time": "2021-08-19T09:23:54.020636Z"
    },
    "colab": {},
    "colab_type": "code",
    "id": "jNb40DwKVp-H"
   },
   "outputs": [],
   "source": [
    "# столбец прибыль фильма\n",
    "\n",
    "data.insert(3, 'profit', data['revenue'] - data['budget'])"
   ]
  },
  {
   "cell_type": "code",
   "execution_count": 6,
   "metadata": {
    "ExecuteTime": {
     "end_time": "2021-08-19T09:23:54.573274Z",
     "start_time": "2021-08-19T09:23:54.052494Z"
    }
   },
   "outputs": [],
   "source": [
    "# вынесем жанры фильмов в отдельную таблицу, исходный столбец удалим\n",
    "\n",
    "column_genres = data['genres'].str.split(pat='|').sort_values()\n",
    "\n",
    "# находим все используемые жанры\n",
    "all_genres = []\n",
    "for this_record in column_genres:\n",
    "    for this_genre in this_record:\n",
    "        if not this_genre in all_genres:\n",
    "            all_genres.append(this_genre)\n",
    "\n",
    "# заполняем таблицу\n",
    "genres = pd.DataFrame(data=False, index=range(data.shape[0]), columns=all_genres)\n",
    "for i_row in range(data.shape[0]):\n",
    "    for this_genre in column_genres.iloc[i_row]:\n",
    "        genres.iloc[i_row][this_genre] = True\n",
    "\n",
    "data.drop(columns='genres', inplace=True)"
   ]
  },
  {
   "cell_type": "code",
   "execution_count": 7,
   "metadata": {
    "ExecuteTime": {
     "end_time": "2021-08-19T09:23:54.828443Z",
     "start_time": "2021-08-19T09:23:54.577128Z"
    },
    "scrolled": true
   },
   "outputs": [],
   "source": [
    "# вынесем режиссеров в отдельную таблицу, исходный столбец удалим\n",
    "\n",
    "column_directors = data['director'].str.split(pat='|').sort_values()\n",
    "\n",
    "# находим всех режиссеров\n",
    "all_directors = []\n",
    "for this_record in column_directors:\n",
    "    for this_director in this_record:\n",
    "        if not this_director in all_directors:\n",
    "            all_directors.append(this_director)\n",
    "\n",
    "# заполняем таблицу\n",
    "directors = pd.DataFrame(data=False, index=range(data.shape[0]), columns=all_directors)\n",
    "for i_row in range(data.shape[0]):\n",
    "    for this_director in column_directors.iloc[i_row]:\n",
    "        directors.iloc[i_row][this_director] = True\n",
    "\n",
    "data.drop(columns='director', inplace=True)"
   ]
  },
  {
   "cell_type": "code",
   "execution_count": 8,
   "metadata": {
    "ExecuteTime": {
     "end_time": "2021-08-19T09:23:56.053161Z",
     "start_time": "2021-08-19T09:23:54.831436Z"
    }
   },
   "outputs": [],
   "source": [
    "# вынесем актеров в отдельную таблицу, исходный столбец удалим\n",
    "\n",
    "column_actors = data['cast'].str.split(pat='|').sort_values()\n",
    "\n",
    "# находим всех актеров\n",
    "all_actors = []\n",
    "for this_record in column_actors:\n",
    "    for this_actor in this_record:\n",
    "        if not this_actor in all_actors:\n",
    "            all_actors.append(this_actor)\n",
    "\n",
    "# заполняем таблицу\n",
    "actors = pd.DataFrame(data=False, index=range(data.shape[0]), columns=all_actors)\n",
    "for i_row in range(data.shape[0]):\n",
    "    for this_actor in column_actors.iloc[i_row]:\n",
    "        actors.iloc[i_row][this_actor] = True\n",
    "\n",
    "data.drop(columns='cast', inplace=True)"
   ]
  },
  {
   "cell_type": "code",
   "execution_count": 9,
   "metadata": {
    "ExecuteTime": {
     "end_time": "2021-08-19T09:23:56.698695Z",
     "start_time": "2021-08-19T09:23:56.055026Z"
    }
   },
   "outputs": [],
   "source": [
    "# вынесем студии в отдельную таблицу, исходный столбец удалим\n",
    "\n",
    "column_film_studios = data['production_companies'].str.split(pat='|').sort_values()\n",
    "\n",
    "# находим всех актеров\n",
    "all_film_studios = []\n",
    "for this_record in column_film_studios:\n",
    "    for this_film_studio in this_record:\n",
    "        if not this_film_studio in all_film_studios:\n",
    "            all_film_studios.append(this_film_studio)\n",
    "\n",
    "# заполняем таблицу\n",
    "film_studios = pd.DataFrame(data=False, index=range(data.shape[0]), columns=all_film_studios)\n",
    "for i_row in range(data.shape[0]):\n",
    "    for this_film_studio in column_film_studios.iloc[i_row]:\n",
    "        film_studios.iloc[i_row][this_film_studio] = True\n",
    "\n",
    "data.drop(columns='production_companies', inplace=True)"
   ]
  },
  {
   "cell_type": "code",
   "execution_count": 10,
   "metadata": {
    "ExecuteTime": {
     "end_time": "2021-08-19T09:23:56.730409Z",
     "start_time": "2021-08-19T09:23:56.700476Z"
    }
   },
   "outputs": [],
   "source": [
    "# месяц выпуска фильма\n",
    "\n",
    "data['release_month'] = data['release_date'].map(lambda x : x.month)"
   ]
  },
  {
   "cell_type": "markdown",
   "metadata": {
    "colab_type": "text",
    "id": "YxZaH-nPVp-L"
   },
   "source": [
    "# 1. У какого фильма из списка самый большой бюджет?"
   ]
  },
  {
   "cell_type": "markdown",
   "metadata": {
    "colab_type": "text",
    "id": "Nd-G5gX6Vp-M"
   },
   "source": [
    "\n",
    "Использовать варианты ответов в коде решения запрещено.    \n",
    "Вы думаете и в жизни у вас будут варианты ответов?)"
   ]
  },
  {
   "cell_type": "code",
   "execution_count": 11,
   "metadata": {
    "ExecuteTime": {
     "end_time": "2021-08-19T09:23:56.762309Z",
     "start_time": "2021-08-19T09:23:56.732390Z"
    },
    "colab": {},
    "colab_type": "code",
    "id": "dZwb3m28Vp-S"
   },
   "outputs": [
    {
     "data": {
      "text/html": [
       "<div>\n",
       "<style scoped>\n",
       "    .dataframe tbody tr th:only-of-type {\n",
       "        vertical-align: middle;\n",
       "    }\n",
       "\n",
       "    .dataframe tbody tr th {\n",
       "        vertical-align: top;\n",
       "    }\n",
       "\n",
       "    .dataframe thead th {\n",
       "        text-align: right;\n",
       "    }\n",
       "</style>\n",
       "<table border=\"1\" class=\"dataframe\">\n",
       "  <thead>\n",
       "    <tr style=\"text-align: right;\">\n",
       "      <th></th>\n",
       "      <th>budget</th>\n",
       "      <th>imdb_id</th>\n",
       "      <th>original_title</th>\n",
       "    </tr>\n",
       "  </thead>\n",
       "  <tbody>\n",
       "    <tr>\n",
       "      <th>723</th>\n",
       "      <td>380000000</td>\n",
       "      <td>tt1298650</td>\n",
       "      <td>Pirates of the Caribbean: On Stranger Tides</td>\n",
       "    </tr>\n",
       "    <tr>\n",
       "      <th>1669</th>\n",
       "      <td>300000000</td>\n",
       "      <td>tt0449088</td>\n",
       "      <td>Pirates of the Caribbean: At World's End</td>\n",
       "    </tr>\n",
       "    <tr>\n",
       "      <th>14</th>\n",
       "      <td>280000000</td>\n",
       "      <td>tt2395427</td>\n",
       "      <td>Avengers: Age of Ultron</td>\n",
       "    </tr>\n",
       "    <tr>\n",
       "      <th>1014</th>\n",
       "      <td>260000000</td>\n",
       "      <td>tt0401729</td>\n",
       "      <td>John Carter</td>\n",
       "    </tr>\n",
       "    <tr>\n",
       "      <th>380</th>\n",
       "      <td>260000000</td>\n",
       "      <td>tt0398286</td>\n",
       "      <td>Tangled</td>\n",
       "    </tr>\n",
       "  </tbody>\n",
       "</table>\n",
       "</div>"
      ],
      "text/plain": [
       "         budget    imdb_id                               original_title\n",
       "723   380000000  tt1298650  Pirates of the Caribbean: On Stranger Tides\n",
       "1669  300000000  tt0449088     Pirates of the Caribbean: At World's End\n",
       "14    280000000  tt2395427                      Avengers: Age of Ultron\n",
       "1014  260000000  tt0401729                                  John Carter\n",
       "380   260000000  tt0398286                                      Tangled"
      ]
     },
     "execution_count": 11,
     "metadata": {},
     "output_type": "execute_result"
    }
   ],
   "source": [
    "# тут пишем ваш код для решения данного вопроса:\n",
    "data[['budget', 'imdb_id', 'original_title']].sort_values(by='budget', ascending = False).head(1)"
   ]
  },
  {
   "cell_type": "code",
   "execution_count": 12,
   "metadata": {
    "ExecuteTime": {
     "end_time": "2021-08-19T09:23:56.778269Z",
     "start_time": "2021-08-19T09:23:56.764305Z"
    },
    "colab": {},
    "colab_type": "code",
    "id": "uVnXAY5RVp-O"
   },
   "outputs": [],
   "source": [
    "# в словарь вставляем номер вопроса и ваш ответ на него\n",
    "# Пример: \n",
    "# answers['1'] = '2. Spider-Man 3 (tt0413300)'\n",
    "# запишите свой вариант ответа\n",
    "answers['1'] = '5. Pirates of the Caribbean: On Stranger Tides (tt1298650)'\n",
    "# если ответили верно, можете добавить комментарий со значком \"+\""
   ]
  },
  {
   "cell_type": "markdown",
   "metadata": {
    "colab_type": "text",
    "id": "FNRbbI3vVp-c"
   },
   "source": [
    "# 2. Какой из фильмов самый длительный (в минутах)?"
   ]
  },
  {
   "cell_type": "code",
   "execution_count": 13,
   "metadata": {
    "ExecuteTime": {
     "end_time": "2021-08-19T09:23:56.810217Z",
     "start_time": "2021-08-19T09:23:56.781260Z"
    },
    "colab": {},
    "colab_type": "code",
    "id": "ot-VX2XrVp-g"
   },
   "outputs": [
    {
     "data": {
      "text/html": [
       "<div>\n",
       "<style scoped>\n",
       "    .dataframe tbody tr th:only-of-type {\n",
       "        vertical-align: middle;\n",
       "    }\n",
       "\n",
       "    .dataframe tbody tr th {\n",
       "        vertical-align: top;\n",
       "    }\n",
       "\n",
       "    .dataframe thead th {\n",
       "        text-align: right;\n",
       "    }\n",
       "</style>\n",
       "<table border=\"1\" class=\"dataframe\">\n",
       "  <thead>\n",
       "    <tr style=\"text-align: right;\">\n",
       "      <th></th>\n",
       "      <th>runtime</th>\n",
       "      <th>imdb_id</th>\n",
       "      <th>original_title</th>\n",
       "    </tr>\n",
       "  </thead>\n",
       "  <tbody>\n",
       "    <tr>\n",
       "      <th>1157</th>\n",
       "      <td>214</td>\n",
       "      <td>tt0279111</td>\n",
       "      <td>Gods and Generals</td>\n",
       "    </tr>\n",
       "    <tr>\n",
       "      <th>1081</th>\n",
       "      <td>201</td>\n",
       "      <td>tt0167260</td>\n",
       "      <td>The Lord of the Rings: The Return of the King</td>\n",
       "    </tr>\n",
       "    <tr>\n",
       "      <th>1736</th>\n",
       "      <td>191</td>\n",
       "      <td>tt0462322</td>\n",
       "      <td>Grindhouse</td>\n",
       "    </tr>\n",
       "    <tr>\n",
       "      <th>1336</th>\n",
       "      <td>187</td>\n",
       "      <td>tt0360717</td>\n",
       "      <td>King Kong</td>\n",
       "    </tr>\n",
       "    <tr>\n",
       "      <th>504</th>\n",
       "      <td>183</td>\n",
       "      <td>tt0213149</td>\n",
       "      <td>Pearl Harbor</td>\n",
       "    </tr>\n",
       "  </tbody>\n",
       "</table>\n",
       "</div>"
      ],
      "text/plain": [
       "      runtime    imdb_id                                 original_title\n",
       "1157      214  tt0279111                              Gods and Generals\n",
       "1081      201  tt0167260  The Lord of the Rings: The Return of the King\n",
       "1736      191  tt0462322                                     Grindhouse\n",
       "1336      187  tt0360717                                      King Kong\n",
       "504       183  tt0213149                                   Pearl Harbor"
      ]
     },
     "execution_count": 13,
     "metadata": {},
     "output_type": "execute_result"
    }
   ],
   "source": [
    "data[['runtime', 'imdb_id', 'original_title']].sort_values(by='runtime', ascending = False).head()"
   ]
  },
  {
   "cell_type": "code",
   "execution_count": 14,
   "metadata": {
    "ExecuteTime": {
     "end_time": "2021-08-19T09:23:56.825154Z",
     "start_time": "2021-08-19T09:23:56.812179Z"
    },
    "colab": {},
    "colab_type": "code",
    "id": "vHAoEXNTVp-d"
   },
   "outputs": [],
   "source": [
    "# думаю логику работы с этим словарем вы уже поняли, \n",
    "# по этому не буду больше его дублировать\n",
    "answers['2'] = '2. Gods and Generals (tt0279111)'"
   ]
  },
  {
   "cell_type": "markdown",
   "metadata": {
    "colab_type": "text",
    "id": "bapLlpW8Vp-k"
   },
   "source": [
    "# 3. Какой из фильмов самый короткий (в минутах)?\n",
    "\n",
    "\n",
    "\n"
   ]
  },
  {
   "cell_type": "code",
   "execution_count": 15,
   "metadata": {
    "ExecuteTime": {
     "end_time": "2021-08-19T09:23:56.855094Z",
     "start_time": "2021-08-19T09:23:56.828136Z"
    }
   },
   "outputs": [
    {
     "data": {
      "text/html": [
       "<div>\n",
       "<style scoped>\n",
       "    .dataframe tbody tr th:only-of-type {\n",
       "        vertical-align: middle;\n",
       "    }\n",
       "\n",
       "    .dataframe tbody tr th {\n",
       "        vertical-align: top;\n",
       "    }\n",
       "\n",
       "    .dataframe thead th {\n",
       "        text-align: right;\n",
       "    }\n",
       "</style>\n",
       "<table border=\"1\" class=\"dataframe\">\n",
       "  <thead>\n",
       "    <tr style=\"text-align: right;\">\n",
       "      <th></th>\n",
       "      <th>runtime</th>\n",
       "      <th>imdb_id</th>\n",
       "      <th>original_title</th>\n",
       "    </tr>\n",
       "  </thead>\n",
       "  <tbody>\n",
       "    <tr>\n",
       "      <th>768</th>\n",
       "      <td>63</td>\n",
       "      <td>tt1449283</td>\n",
       "      <td>Winnie the Pooh</td>\n",
       "    </tr>\n",
       "    <tr>\n",
       "      <th>930</th>\n",
       "      <td>72</td>\n",
       "      <td>tt0280030</td>\n",
       "      <td>Return to Never Land</td>\n",
       "    </tr>\n",
       "    <tr>\n",
       "      <th>1097</th>\n",
       "      <td>72</td>\n",
       "      <td>tt0283426</td>\n",
       "      <td>The Jungle Book 2</td>\n",
       "    </tr>\n",
       "    <tr>\n",
       "      <th>1408</th>\n",
       "      <td>76</td>\n",
       "      <td>tt0361089</td>\n",
       "      <td>Valiant</td>\n",
       "    </tr>\n",
       "    <tr>\n",
       "      <th>1626</th>\n",
       "      <td>76</td>\n",
       "      <td>tt0299172</td>\n",
       "      <td>Home on the Range</td>\n",
       "    </tr>\n",
       "  </tbody>\n",
       "</table>\n",
       "</div>"
      ],
      "text/plain": [
       "      runtime    imdb_id        original_title\n",
       "768        63  tt1449283       Winnie the Pooh\n",
       "930        72  tt0280030  Return to Never Land\n",
       "1097       72  tt0283426     The Jungle Book 2\n",
       "1408       76  tt0361089               Valiant\n",
       "1626       76  tt0299172     Home on the Range"
      ]
     },
     "execution_count": 15,
     "metadata": {},
     "output_type": "execute_result"
    }
   ],
   "source": [
    "data[['runtime', 'imdb_id', 'original_title']].sort_values(by='runtime', ascending = True).head()"
   ]
  },
  {
   "cell_type": "code",
   "execution_count": 16,
   "metadata": {
    "ExecuteTime": {
     "end_time": "2021-08-19T09:23:56.870037Z",
     "start_time": "2021-08-19T09:23:56.858056Z"
    },
    "colab": {},
    "colab_type": "code",
    "id": "YBxaSHuAVp-l"
   },
   "outputs": [],
   "source": [
    "answers['3'] = '3. Winnie the Pooh (tt1449283)'"
   ]
  },
  {
   "cell_type": "markdown",
   "metadata": {
    "colab_type": "text",
    "id": "TfQbxbfNVp-p"
   },
   "source": [
    "# 4. Какова средняя длительность фильмов?\n"
   ]
  },
  {
   "cell_type": "code",
   "execution_count": 17,
   "metadata": {
    "ExecuteTime": {
     "end_time": "2021-08-19T09:23:56.885981Z",
     "start_time": "2021-08-19T09:23:56.872017Z"
    }
   },
   "outputs": [
    {
     "data": {
      "text/plain": [
       "110"
      ]
     },
     "execution_count": 17,
     "metadata": {},
     "output_type": "execute_result"
    }
   ],
   "source": [
    "round(data['runtime'].mean())"
   ]
  },
  {
   "cell_type": "code",
   "execution_count": 18,
   "metadata": {
    "ExecuteTime": {
     "end_time": "2021-08-19T09:23:56.900939Z",
     "start_time": "2021-08-19T09:23:56.887974Z"
    },
    "colab": {},
    "colab_type": "code",
    "id": "5K6dKZYVVp-q"
   },
   "outputs": [],
   "source": [
    "answers['4'] = '2. 110'"
   ]
  },
  {
   "cell_type": "markdown",
   "metadata": {
    "colab_type": "text",
    "id": "r5TvbnT_Vp-u"
   },
   "source": [
    "# 5. Каково медианное значение длительности фильмов? "
   ]
  },
  {
   "cell_type": "code",
   "execution_count": 19,
   "metadata": {
    "ExecuteTime": {
     "end_time": "2021-08-19T09:23:56.915901Z",
     "start_time": "2021-08-19T09:23:56.903934Z"
    }
   },
   "outputs": [
    {
     "data": {
      "text/plain": [
       "107"
      ]
     },
     "execution_count": 19,
     "metadata": {},
     "output_type": "execute_result"
    }
   ],
   "source": [
    "round(data['runtime'].median())"
   ]
  },
  {
   "cell_type": "code",
   "execution_count": 20,
   "metadata": {
    "ExecuteTime": {
     "end_time": "2021-08-19T09:23:56.930895Z",
     "start_time": "2021-08-19T09:23:56.917903Z"
    },
    "colab": {},
    "colab_type": "code",
    "id": "iBROplKnVp-v"
   },
   "outputs": [],
   "source": [
    "answers['5'] = '5. 107'"
   ]
  },
  {
   "cell_type": "markdown",
   "metadata": {
    "colab_type": "text",
    "id": "39P-deDSVp-y"
   },
   "source": [
    "# 6. Какой самый прибыльный фильм?\n",
    "#### Внимание! Здесь и далее под «прибылью» или «убытками» понимается разность между сборами и бюджетом фильма. (прибыль = сборы - бюджет) в нашем датасете это будет (profit = revenue - budget) "
   ]
  },
  {
   "cell_type": "code",
   "execution_count": 21,
   "metadata": {
    "ExecuteTime": {
     "end_time": "2021-08-19T09:23:56.961809Z",
     "start_time": "2021-08-19T09:23:56.932854Z"
    },
    "colab": {},
    "colab_type": "code",
    "id": "UYZh4T9WVp-y"
   },
   "outputs": [
    {
     "data": {
      "text/html": [
       "<div>\n",
       "<style scoped>\n",
       "    .dataframe tbody tr th:only-of-type {\n",
       "        vertical-align: middle;\n",
       "    }\n",
       "\n",
       "    .dataframe tbody tr th {\n",
       "        vertical-align: top;\n",
       "    }\n",
       "\n",
       "    .dataframe thead th {\n",
       "        text-align: right;\n",
       "    }\n",
       "</style>\n",
       "<table border=\"1\" class=\"dataframe\">\n",
       "  <thead>\n",
       "    <tr style=\"text-align: right;\">\n",
       "      <th></th>\n",
       "      <th>profit</th>\n",
       "      <th>imdb_id</th>\n",
       "      <th>original_title</th>\n",
       "    </tr>\n",
       "  </thead>\n",
       "  <tbody>\n",
       "    <tr>\n",
       "      <th>239</th>\n",
       "      <td>2544505847</td>\n",
       "      <td>tt0499549</td>\n",
       "      <td>Avatar</td>\n",
       "    </tr>\n",
       "    <tr>\n",
       "      <th>3</th>\n",
       "      <td>1868178225</td>\n",
       "      <td>tt2488496</td>\n",
       "      <td>Star Wars: The Force Awakens</td>\n",
       "    </tr>\n",
       "    <tr>\n",
       "      <th>0</th>\n",
       "      <td>1363528810</td>\n",
       "      <td>tt0369610</td>\n",
       "      <td>Jurassic World</td>\n",
       "    </tr>\n",
       "    <tr>\n",
       "      <th>4</th>\n",
       "      <td>1316249360</td>\n",
       "      <td>tt2820852</td>\n",
       "      <td>Furious 7</td>\n",
       "    </tr>\n",
       "    <tr>\n",
       "      <th>970</th>\n",
       "      <td>1299557910</td>\n",
       "      <td>tt0848228</td>\n",
       "      <td>The Avengers</td>\n",
       "    </tr>\n",
       "  </tbody>\n",
       "</table>\n",
       "</div>"
      ],
      "text/plain": [
       "         profit    imdb_id                original_title\n",
       "239  2544505847  tt0499549                        Avatar\n",
       "3    1868178225  tt2488496  Star Wars: The Force Awakens\n",
       "0    1363528810  tt0369610                Jurassic World\n",
       "4    1316249360  tt2820852                     Furious 7\n",
       "970  1299557910  tt0848228                  The Avengers"
      ]
     },
     "execution_count": 21,
     "metadata": {},
     "output_type": "execute_result"
    }
   ],
   "source": [
    "# лучше код получения столбца profit вынести в Предобработку что в начале\n",
    "data['profit'] = data['revenue'] - data['budget']\n",
    "data[['profit', 'imdb_id', 'original_title']].sort_values(by='profit', ascending = False).head()"
   ]
  },
  {
   "cell_type": "code",
   "execution_count": 22,
   "metadata": {
    "ExecuteTime": {
     "end_time": "2021-08-19T09:23:56.977734Z",
     "start_time": "2021-08-19T09:23:56.967761Z"
    }
   },
   "outputs": [],
   "source": [
    "answers['6'] = '5. Avatar (tt0499549)'"
   ]
  },
  {
   "cell_type": "markdown",
   "metadata": {
    "colab_type": "text",
    "id": "M99JmIX4Vp-2"
   },
   "source": [
    "# 7. Какой фильм самый убыточный? "
   ]
  },
  {
   "cell_type": "code",
   "execution_count": 23,
   "metadata": {
    "ExecuteTime": {
     "end_time": "2021-08-19T09:23:56.993692Z",
     "start_time": "2021-08-19T09:23:56.980736Z"
    },
    "colab": {},
    "colab_type": "code",
    "id": "w-D2m4XPVp-3",
    "scrolled": true
   },
   "outputs": [
    {
     "data": {
      "text/html": [
       "<div>\n",
       "<style scoped>\n",
       "    .dataframe tbody tr th:only-of-type {\n",
       "        vertical-align: middle;\n",
       "    }\n",
       "\n",
       "    .dataframe tbody tr th {\n",
       "        vertical-align: top;\n",
       "    }\n",
       "\n",
       "    .dataframe thead th {\n",
       "        text-align: right;\n",
       "    }\n",
       "</style>\n",
       "<table border=\"1\" class=\"dataframe\">\n",
       "  <thead>\n",
       "    <tr style=\"text-align: right;\">\n",
       "      <th></th>\n",
       "      <th>profit</th>\n",
       "      <th>imdb_id</th>\n",
       "      <th>original_title</th>\n",
       "    </tr>\n",
       "  </thead>\n",
       "  <tbody>\n",
       "    <tr>\n",
       "      <th>1245</th>\n",
       "      <td>-165710090</td>\n",
       "      <td>tt1210819</td>\n",
       "      <td>The Lone Ranger</td>\n",
       "    </tr>\n",
       "    <tr>\n",
       "      <th>1616</th>\n",
       "      <td>-119180039</td>\n",
       "      <td>tt0318974</td>\n",
       "      <td>The Alamo</td>\n",
       "    </tr>\n",
       "    <tr>\n",
       "      <th>809</th>\n",
       "      <td>-111007242</td>\n",
       "      <td>tt1305591</td>\n",
       "      <td>Mars Needs Moms</td>\n",
       "    </tr>\n",
       "    <tr>\n",
       "      <th>958</th>\n",
       "      <td>-92896027</td>\n",
       "      <td>tt0180052</td>\n",
       "      <td>The Adventures of Pluto Nash</td>\n",
       "    </tr>\n",
       "    <tr>\n",
       "      <th>1464</th>\n",
       "      <td>-84540684</td>\n",
       "      <td>tt0424095</td>\n",
       "      <td>Flushed Away</td>\n",
       "    </tr>\n",
       "  </tbody>\n",
       "</table>\n",
       "</div>"
      ],
      "text/plain": [
       "         profit    imdb_id                original_title\n",
       "1245 -165710090  tt1210819               The Lone Ranger\n",
       "1616 -119180039  tt0318974                     The Alamo\n",
       "809  -111007242  tt1305591               Mars Needs Moms\n",
       "958   -92896027  tt0180052  The Adventures of Pluto Nash\n",
       "1464  -84540684  tt0424095                  Flushed Away"
      ]
     },
     "execution_count": 23,
     "metadata": {},
     "output_type": "execute_result"
    }
   ],
   "source": [
    "data[['profit', 'imdb_id', 'original_title']].sort_values(by='profit', ascending = True).head()"
   ]
  },
  {
   "cell_type": "code",
   "execution_count": 24,
   "metadata": {
    "ExecuteTime": {
     "end_time": "2021-08-19T09:23:57.009649Z",
     "start_time": "2021-08-19T09:23:56.995687Z"
    }
   },
   "outputs": [],
   "source": [
    "answers['7'] = '5. The Lone Ranger (tt1210819)'"
   ]
  },
  {
   "cell_type": "markdown",
   "metadata": {
    "colab_type": "text",
    "id": "wEOM5ERVVp-6"
   },
   "source": [
    "# 8. У скольких фильмов из датасета объем сборов оказался выше бюджета?"
   ]
  },
  {
   "cell_type": "code",
   "execution_count": 25,
   "metadata": {
    "ExecuteTime": {
     "end_time": "2021-08-19T09:23:57.025608Z",
     "start_time": "2021-08-19T09:23:57.011644Z"
    },
    "colab": {},
    "colab_type": "code",
    "id": "y00_7HD6Vp-7"
   },
   "outputs": [
    {
     "data": {
      "text/plain": [
       "1478"
      ]
     },
     "execution_count": 25,
     "metadata": {},
     "output_type": "execute_result"
    }
   ],
   "source": [
    "len(data[data['profit'] > 0])"
   ]
  },
  {
   "cell_type": "code",
   "execution_count": 26,
   "metadata": {
    "ExecuteTime": {
     "end_time": "2021-08-19T09:23:57.041565Z",
     "start_time": "2021-08-19T09:23:57.027603Z"
    }
   },
   "outputs": [],
   "source": [
    "answers['8'] = '1. 1478'"
   ]
  },
  {
   "cell_type": "markdown",
   "metadata": {
    "colab_type": "text",
    "id": "xhpspA9KVp_A"
   },
   "source": [
    "# 9. Какой фильм оказался самым кассовым в 2008 году?"
   ]
  },
  {
   "cell_type": "code",
   "execution_count": 27,
   "metadata": {
    "ExecuteTime": {
     "end_time": "2021-08-19T09:23:57.072482Z",
     "start_time": "2021-08-19T09:23:57.043559Z"
    },
    "colab": {},
    "colab_type": "code",
    "id": "MoUyQr9RVp_B",
    "scrolled": true
   },
   "outputs": [
    {
     "data": {
      "text/html": [
       "<div>\n",
       "<style scoped>\n",
       "    .dataframe tbody tr th:only-of-type {\n",
       "        vertical-align: middle;\n",
       "    }\n",
       "\n",
       "    .dataframe tbody tr th {\n",
       "        vertical-align: top;\n",
       "    }\n",
       "\n",
       "    .dataframe thead th {\n",
       "        text-align: right;\n",
       "    }\n",
       "</style>\n",
       "<table border=\"1\" class=\"dataframe\">\n",
       "  <thead>\n",
       "    <tr style=\"text-align: right;\">\n",
       "      <th></th>\n",
       "      <th>profit</th>\n",
       "      <th>imdb_id</th>\n",
       "      <th>original_title</th>\n",
       "    </tr>\n",
       "  </thead>\n",
       "  <tbody>\n",
       "    <tr>\n",
       "      <th>599</th>\n",
       "      <td>816921825</td>\n",
       "      <td>tt0468569</td>\n",
       "      <td>The Dark Knight</td>\n",
       "    </tr>\n",
       "    <tr>\n",
       "      <th>603</th>\n",
       "      <td>601636033</td>\n",
       "      <td>tt0367882</td>\n",
       "      <td>Indiana Jones and the Kingdom of the Crystal S...</td>\n",
       "    </tr>\n",
       "    <tr>\n",
       "      <th>607</th>\n",
       "      <td>557841637</td>\n",
       "      <td>tt0795421</td>\n",
       "      <td>Mamma Mia!</td>\n",
       "    </tr>\n",
       "    <tr>\n",
       "      <th>606</th>\n",
       "      <td>501744560</td>\n",
       "      <td>tt0441773</td>\n",
       "      <td>Kung Fu Panda</td>\n",
       "    </tr>\n",
       "    <tr>\n",
       "      <th>621</th>\n",
       "      <td>474029371</td>\n",
       "      <td>tt0448157</td>\n",
       "      <td>Hancock</td>\n",
       "    </tr>\n",
       "  </tbody>\n",
       "</table>\n",
       "</div>"
      ],
      "text/plain": [
       "        profit    imdb_id                                     original_title\n",
       "599  816921825  tt0468569                                    The Dark Knight\n",
       "603  601636033  tt0367882  Indiana Jones and the Kingdom of the Crystal S...\n",
       "607  557841637  tt0795421                                         Mamma Mia!\n",
       "606  501744560  tt0441773                                      Kung Fu Panda\n",
       "621  474029371  tt0448157                                            Hancock"
      ]
     },
     "execution_count": 27,
     "metadata": {},
     "output_type": "execute_result"
    }
   ],
   "source": [
    "data_2008 = data[data['release_year'] == 2008]\n",
    "data_2008[['profit', 'imdb_id', 'original_title']].sort_values(by='profit', ascending = False).head()"
   ]
  },
  {
   "cell_type": "code",
   "execution_count": 28,
   "metadata": {
    "ExecuteTime": {
     "end_time": "2021-08-19T09:23:57.087442Z",
     "start_time": "2021-08-19T09:23:57.074477Z"
    }
   },
   "outputs": [],
   "source": [
    "answers['9'] = '4. The Dark Knight (tt0468569)'"
   ]
  },
  {
   "cell_type": "markdown",
   "metadata": {
    "colab_type": "text",
    "id": "Zi4hDKidVp_F"
   },
   "source": [
    "# 10. Самый убыточный фильм за период с 2012 по 2014 г. (включительно)?\n"
   ]
  },
  {
   "cell_type": "code",
   "execution_count": 29,
   "metadata": {
    "ExecuteTime": {
     "end_time": "2021-08-19T09:23:57.117366Z",
     "start_time": "2021-08-19T09:23:57.089438Z"
    },
    "colab": {},
    "colab_type": "code",
    "id": "XqyRmufJVp_F",
    "scrolled": true
   },
   "outputs": [
    {
     "data": {
      "text/html": [
       "<div>\n",
       "<style scoped>\n",
       "    .dataframe tbody tr th:only-of-type {\n",
       "        vertical-align: middle;\n",
       "    }\n",
       "\n",
       "    .dataframe tbody tr th {\n",
       "        vertical-align: top;\n",
       "    }\n",
       "\n",
       "    .dataframe thead th {\n",
       "        text-align: right;\n",
       "    }\n",
       "</style>\n",
       "<table border=\"1\" class=\"dataframe\">\n",
       "  <thead>\n",
       "    <tr style=\"text-align: right;\">\n",
       "      <th></th>\n",
       "      <th>profit</th>\n",
       "      <th>imdb_id</th>\n",
       "      <th>original_title</th>\n",
       "    </tr>\n",
       "  </thead>\n",
       "  <tbody>\n",
       "    <tr>\n",
       "      <th>1245</th>\n",
       "      <td>-165710090</td>\n",
       "      <td>tt1210819</td>\n",
       "      <td>The Lone Ranger</td>\n",
       "    </tr>\n",
       "    <tr>\n",
       "      <th>1214</th>\n",
       "      <td>-68351500</td>\n",
       "      <td>tt0790736</td>\n",
       "      <td>R.I.P.D.</td>\n",
       "    </tr>\n",
       "    <tr>\n",
       "      <th>1007</th>\n",
       "      <td>-51893525</td>\n",
       "      <td>tt1374992</td>\n",
       "      <td>Upside Down</td>\n",
       "    </tr>\n",
       "    <tr>\n",
       "      <th>1302</th>\n",
       "      <td>-51337973</td>\n",
       "      <td>tt0884726</td>\n",
       "      <td>Legends of Oz: Dorothy's Return</td>\n",
       "    </tr>\n",
       "    <tr>\n",
       "      <th>1235</th>\n",
       "      <td>-45510171</td>\n",
       "      <td>tt1308729</td>\n",
       "      <td>Bullet to the Head</td>\n",
       "    </tr>\n",
       "  </tbody>\n",
       "</table>\n",
       "</div>"
      ],
      "text/plain": [
       "         profit    imdb_id                   original_title\n",
       "1245 -165710090  tt1210819                  The Lone Ranger\n",
       "1214  -68351500  tt0790736                         R.I.P.D.\n",
       "1007  -51893525  tt1374992                      Upside Down\n",
       "1302  -51337973  tt0884726  Legends of Oz: Dorothy's Return\n",
       "1235  -45510171  tt1308729               Bullet to the Head"
      ]
     },
     "execution_count": 29,
     "metadata": {},
     "output_type": "execute_result"
    }
   ],
   "source": [
    "data_2012_2014 = data.query('release_year >= 2012 & release_year <= 2014')\n",
    "data_2012_2014[['profit', 'imdb_id', 'original_title']].sort_values(by='profit', ascending = True).head()"
   ]
  },
  {
   "cell_type": "code",
   "execution_count": 30,
   "metadata": {
    "ExecuteTime": {
     "end_time": "2021-08-19T09:23:57.133322Z",
     "start_time": "2021-08-19T09:23:57.119361Z"
    }
   },
   "outputs": [],
   "source": [
    "answers['10'] = '5. The Lone Ranger (tt1210819)'"
   ]
  },
  {
   "cell_type": "markdown",
   "metadata": {
    "colab_type": "text",
    "id": "EA7Sa9dkVp_I"
   },
   "source": [
    "# 11. Какого жанра фильмов больше всего?"
   ]
  },
  {
   "cell_type": "code",
   "execution_count": 31,
   "metadata": {
    "ExecuteTime": {
     "end_time": "2021-08-19T09:23:57.149281Z",
     "start_time": "2021-08-19T09:23:57.135319Z"
    },
    "colab": {},
    "colab_type": "code",
    "id": "zsJAwJ8QVp_J",
    "scrolled": true
   },
   "outputs": [
    {
     "data": {
      "text/plain": [
       "Drama        782\n",
       "Comedy       683\n",
       "Thriller     596\n",
       "Action       582\n",
       "Adventure    415\n",
       "dtype: int64"
      ]
     },
     "execution_count": 31,
     "metadata": {},
     "output_type": "execute_result"
    }
   ],
   "source": [
    "genres.sum().sort_values(ascending=False).head()"
   ]
  },
  {
   "cell_type": "code",
   "execution_count": 32,
   "metadata": {
    "ExecuteTime": {
     "end_time": "2021-08-19T09:23:57.165238Z",
     "start_time": "2021-08-19T09:23:57.151276Z"
    }
   },
   "outputs": [],
   "source": [
    "answers['11'] = '3. Drama'"
   ]
  },
  {
   "cell_type": "markdown",
   "metadata": {
    "colab_type": "text",
    "id": "T9_bPWpkVp_Q"
   },
   "source": [
    "# 12. Фильмы какого жанра чаще всего становятся прибыльными? "
   ]
  },
  {
   "cell_type": "code",
   "execution_count": 33,
   "metadata": {
    "ExecuteTime": {
     "end_time": "2021-08-19T09:23:57.181228Z",
     "start_time": "2021-08-19T09:23:57.167247Z"
    },
    "colab": {},
    "colab_type": "code",
    "id": "Tmt8MaK1Vp_R",
    "scrolled": true
   },
   "outputs": [
    {
     "data": {
      "text/plain": [
       "Drama        560\n",
       "Comedy       551\n",
       "Thriller     446\n",
       "Action       444\n",
       "Adventure    337\n",
       "dtype: int64"
      ]
     },
     "execution_count": 33,
     "metadata": {},
     "output_type": "execute_result"
    }
   ],
   "source": [
    "genres[data['profit'] > 0].sum().sort_values(ascending=False).head()"
   ]
  },
  {
   "cell_type": "code",
   "execution_count": 34,
   "metadata": {
    "ExecuteTime": {
     "end_time": "2021-08-19T09:23:57.197153Z",
     "start_time": "2021-08-19T09:23:57.183200Z"
    }
   },
   "outputs": [],
   "source": [
    "answers['12'] = '1. Drama'"
   ]
  },
  {
   "cell_type": "markdown",
   "metadata": {
    "colab_type": "text",
    "id": "0F23bgsDVp_U"
   },
   "source": [
    "# 13. У какого режиссера самые большие суммарные кассовые сборы?"
   ]
  },
  {
   "cell_type": "code",
   "execution_count": 35,
   "metadata": {
    "ExecuteTime": {
     "end_time": "2021-08-19T09:23:57.950089Z",
     "start_time": "2021-08-19T09:23:57.199149Z"
    },
    "colab": {},
    "colab_type": "code",
    "id": "K6Z3J8ygVp_X",
    "scrolled": true
   },
   "outputs": [
    {
     "data": {
      "text/html": [
       "<div>\n",
       "<style scoped>\n",
       "    .dataframe tbody tr th:only-of-type {\n",
       "        vertical-align: middle;\n",
       "    }\n",
       "\n",
       "    .dataframe tbody tr th {\n",
       "        vertical-align: top;\n",
       "    }\n",
       "\n",
       "    .dataframe thead th {\n",
       "        text-align: right;\n",
       "    }\n",
       "</style>\n",
       "<table border=\"1\" class=\"dataframe\">\n",
       "  <thead>\n",
       "    <tr style=\"text-align: right;\">\n",
       "      <th></th>\n",
       "      <th>total_revenue</th>\n",
       "    </tr>\n",
       "  </thead>\n",
       "  <tbody>\n",
       "    <tr>\n",
       "      <th>Peter Jackson</th>\n",
       "      <td>6490593685</td>\n",
       "    </tr>\n",
       "    <tr>\n",
       "      <th>Christopher Nolan</th>\n",
       "      <td>4167548502</td>\n",
       "    </tr>\n",
       "    <tr>\n",
       "      <th>David Yates</th>\n",
       "      <td>4154295625</td>\n",
       "    </tr>\n",
       "    <tr>\n",
       "      <th>Michael Bay</th>\n",
       "      <td>3886938960</td>\n",
       "    </tr>\n",
       "    <tr>\n",
       "      <th>J.J. Abrams</th>\n",
       "      <td>3579169916</td>\n",
       "    </tr>\n",
       "  </tbody>\n",
       "</table>\n",
       "</div>"
      ],
      "text/plain": [
       "                   total_revenue\n",
       "Peter Jackson         6490593685\n",
       "Christopher Nolan     4167548502\n",
       "David Yates           4154295625\n",
       "Michael Bay           3886938960\n",
       "J.J. Abrams           3579169916"
      ]
     },
     "execution_count": 35,
     "metadata": {},
     "output_type": "execute_result"
    }
   ],
   "source": [
    "directors_pivot = pd.DataFrame(data=0, index=directors.columns, columns=['total_revenue'])\n",
    "for this_director in directors_pivot.index:\n",
    "    directors_pivot['total_revenue'][this_director] = data[directors[this_director]]['revenue'].sum()\n",
    "directors_pivot.sort_values(by='total_revenue', ascending=False).head()"
   ]
  },
  {
   "cell_type": "code",
   "execution_count": 36,
   "metadata": {
    "ExecuteTime": {
     "end_time": "2021-08-19T09:23:57.966047Z",
     "start_time": "2021-08-19T09:23:57.952053Z"
    }
   },
   "outputs": [],
   "source": [
    "answers['13'] = '5. Peter Jackson'"
   ]
  },
  {
   "cell_type": "markdown",
   "metadata": {
    "colab_type": "text",
    "id": "PsYC9FgRVp_a"
   },
   "source": [
    "# 14. Какой режисер снял больше всего фильмов в стиле Action?"
   ]
  },
  {
   "cell_type": "code",
   "execution_count": 37,
   "metadata": {
    "ExecuteTime": {
     "end_time": "2021-08-19T09:23:58.785627Z",
     "start_time": "2021-08-19T09:23:57.969008Z"
    },
    "colab": {},
    "colab_type": "code",
    "id": "wd2M-wHeVp_b"
   },
   "outputs": [
    {
     "data": {
      "text/html": [
       "<div>\n",
       "<style scoped>\n",
       "    .dataframe tbody tr th:only-of-type {\n",
       "        vertical-align: middle;\n",
       "    }\n",
       "\n",
       "    .dataframe tbody tr th {\n",
       "        vertical-align: top;\n",
       "    }\n",
       "\n",
       "    .dataframe thead th {\n",
       "        text-align: right;\n",
       "    }\n",
       "</style>\n",
       "<table border=\"1\" class=\"dataframe\">\n",
       "  <thead>\n",
       "    <tr style=\"text-align: right;\">\n",
       "      <th></th>\n",
       "      <th>total_revenue</th>\n",
       "      <th>action_count</th>\n",
       "    </tr>\n",
       "  </thead>\n",
       "  <tbody>\n",
       "    <tr>\n",
       "      <th>Robert Rodriguez</th>\n",
       "      <td>930768969</td>\n",
       "      <td>9</td>\n",
       "    </tr>\n",
       "    <tr>\n",
       "      <th>Michael Bay</th>\n",
       "      <td>3886938960</td>\n",
       "      <td>7</td>\n",
       "    </tr>\n",
       "    <tr>\n",
       "      <th>Paul W.S. Anderson</th>\n",
       "      <td>1133874490</td>\n",
       "      <td>7</td>\n",
       "    </tr>\n",
       "    <tr>\n",
       "      <th>Antoine Fuqua</th>\n",
       "      <td>964376048</td>\n",
       "      <td>6</td>\n",
       "    </tr>\n",
       "    <tr>\n",
       "      <th>Ridley Scott</th>\n",
       "      <td>3264035909</td>\n",
       "      <td>6</td>\n",
       "    </tr>\n",
       "  </tbody>\n",
       "</table>\n",
       "</div>"
      ],
      "text/plain": [
       "                    total_revenue  action_count\n",
       "Robert Rodriguez        930768969             9\n",
       "Michael Bay            3886938960             7\n",
       "Paul W.S. Anderson     1133874490             7\n",
       "Antoine Fuqua           964376048             6\n",
       "Ridley Scott           3264035909             6"
      ]
     },
     "execution_count": 37,
     "metadata": {},
     "output_type": "execute_result"
    }
   ],
   "source": [
    "directors_pivot['action_count'] = 0\n",
    "for this_director in directors_pivot.index:\n",
    "    directors_pivot['action_count'][this_director] = genres[directors[this_director]]['Action'].sum()\n",
    "directors_pivot.sort_values(by='action_count', ascending=False).head()"
   ]
  },
  {
   "cell_type": "code",
   "execution_count": 38,
   "metadata": {
    "ExecuteTime": {
     "end_time": "2021-08-19T09:23:58.801553Z",
     "start_time": "2021-08-19T09:23:58.787590Z"
    }
   },
   "outputs": [],
   "source": [
    "answers['14'] = '3. Robert Rodriguez'"
   ]
  },
  {
   "cell_type": "markdown",
   "metadata": {
    "colab_type": "text",
    "id": "PQ0KciD7Vp_f"
   },
   "source": [
    "# 15. Фильмы с каким актером принесли самые высокие кассовые сборы в 2012 году? "
   ]
  },
  {
   "cell_type": "code",
   "execution_count": 39,
   "metadata": {
    "ExecuteTime": {
     "end_time": "2021-08-19T09:24:02.259108Z",
     "start_time": "2021-08-19T09:23:58.804546Z"
    },
    "colab": {},
    "colab_type": "code",
    "id": "aga62oeKVp_g",
    "scrolled": true
   },
   "outputs": [
    {
     "data": {
      "text/html": [
       "<div>\n",
       "<style scoped>\n",
       "    .dataframe tbody tr th:only-of-type {\n",
       "        vertical-align: middle;\n",
       "    }\n",
       "\n",
       "    .dataframe tbody tr th {\n",
       "        vertical-align: top;\n",
       "    }\n",
       "\n",
       "    .dataframe thead th {\n",
       "        text-align: right;\n",
       "    }\n",
       "</style>\n",
       "<table border=\"1\" class=\"dataframe\">\n",
       "  <thead>\n",
       "    <tr style=\"text-align: right;\">\n",
       "      <th></th>\n",
       "      <th>total_revenue_2012</th>\n",
       "    </tr>\n",
       "  </thead>\n",
       "  <tbody>\n",
       "    <tr>\n",
       "      <th>Joseph Gordon-Levitt</th>\n",
       "      <td>5963675096</td>\n",
       "    </tr>\n",
       "    <tr>\n",
       "      <th>Josh Hartnett</th>\n",
       "      <td>2084446675</td>\n",
       "    </tr>\n",
       "    <tr>\n",
       "      <th>Seth Rogen</th>\n",
       "      <td>2040497780</td>\n",
       "    </tr>\n",
       "    <tr>\n",
       "      <th>Ben Kingsley</th>\n",
       "      <td>1916157910</td>\n",
       "    </tr>\n",
       "    <tr>\n",
       "      <th>Jude Law</th>\n",
       "      <td>1709210363</td>\n",
       "    </tr>\n",
       "  </tbody>\n",
       "</table>\n",
       "</div>"
      ],
      "text/plain": [
       "                      total_revenue_2012\n",
       "Joseph Gordon-Levitt          5963675096\n",
       "Josh Hartnett                 2084446675\n",
       "Seth Rogen                    2040497780\n",
       "Ben Kingsley                  1916157910\n",
       "Jude Law                      1709210363"
      ]
     },
     "execution_count": 39,
     "metadata": {},
     "output_type": "execute_result"
    }
   ],
   "source": [
    "actors_pivot = pd.DataFrame(\n",
    "    data=0, index=actors.columns, columns=['total_revenue_2012'])\n",
    "for this_actor in actors_pivot.index:\n",
    "    actors_pivot['total_revenue_2012'][this_actor] = data[(actors[this_actor]) & \n",
    "                                        (data['release_year'] == 2012)]['revenue'].sum()\n",
    "actors_pivot.sort_values(by='total_revenue_2012', ascending=False).head()"
   ]
  },
  {
   "cell_type": "code",
   "execution_count": 40,
   "metadata": {
    "ExecuteTime": {
     "end_time": "2021-08-19T09:24:02.275065Z",
     "start_time": "2021-08-19T09:24:02.261101Z"
    }
   },
   "outputs": [],
   "source": [
    "answers['15'] = '3. Chris Hemsworth'"
   ]
  },
  {
   "cell_type": "markdown",
   "metadata": {
    "colab_type": "text",
    "id": "mWHyyL7QVp_j"
   },
   "source": [
    "# 16. Какой актер снялся в большем количестве высокобюджетных фильмов?"
   ]
  },
  {
   "cell_type": "code",
   "execution_count": 41,
   "metadata": {
    "ExecuteTime": {
     "end_time": "2021-08-19T09:24:07.060895Z",
     "start_time": "2021-08-19T09:24:02.278058Z"
    },
    "colab": {},
    "colab_type": "code",
    "id": "qQtmHKTFVp_k",
    "scrolled": false
   },
   "outputs": [
    {
     "data": {
      "text/html": [
       "<div>\n",
       "<style scoped>\n",
       "    .dataframe tbody tr th:only-of-type {\n",
       "        vertical-align: middle;\n",
       "    }\n",
       "\n",
       "    .dataframe tbody tr th {\n",
       "        vertical-align: top;\n",
       "    }\n",
       "\n",
       "    .dataframe thead th {\n",
       "        text-align: right;\n",
       "    }\n",
       "</style>\n",
       "<table border=\"1\" class=\"dataframe\">\n",
       "  <thead>\n",
       "    <tr style=\"text-align: right;\">\n",
       "      <th></th>\n",
       "      <th>total_revenue_2012</th>\n",
       "      <th>big_budget_count</th>\n",
       "    </tr>\n",
       "  </thead>\n",
       "  <tbody>\n",
       "    <tr>\n",
       "      <th>Mark Wahlberg</th>\n",
       "      <td>0</td>\n",
       "      <td>17</td>\n",
       "    </tr>\n",
       "    <tr>\n",
       "      <th>Bruce Willis</th>\n",
       "      <td>529000000</td>\n",
       "      <td>13</td>\n",
       "    </tr>\n",
       "    <tr>\n",
       "      <th>Russell Crowe</th>\n",
       "      <td>0</td>\n",
       "      <td>12</td>\n",
       "    </tr>\n",
       "    <tr>\n",
       "      <th>Adam Sandler</th>\n",
       "      <td>0</td>\n",
       "      <td>12</td>\n",
       "    </tr>\n",
       "    <tr>\n",
       "      <th>George Clooney</th>\n",
       "      <td>0</td>\n",
       "      <td>11</td>\n",
       "    </tr>\n",
       "  </tbody>\n",
       "</table>\n",
       "</div>"
      ],
      "text/plain": [
       "                total_revenue_2012  big_budget_count\n",
       "Mark Wahlberg                    0                17\n",
       "Bruce Willis             529000000                13\n",
       "Russell Crowe                    0                12\n",
       "Adam Sandler                     0                12\n",
       "George Clooney                   0                11"
      ]
     },
     "execution_count": 41,
     "metadata": {},
     "output_type": "execute_result"
    }
   ],
   "source": [
    "mean_budget = data['budget'].mean()\n",
    "actors_pivot['big_budget_count'] = 0\n",
    "for this_actor in actors_pivot.index:\n",
    "    actors_pivot['big_budget_count'][this_actor] = data[(\n",
    "        actors[this_actor]) & (data['budget'] > mean_budget)]['imdb_id'].count()\n",
    "actors_pivot.sort_values(by='big_budget_count', ascending=False).head()"
   ]
  },
  {
   "cell_type": "code",
   "execution_count": 42,
   "metadata": {
    "ExecuteTime": {
     "end_time": "2021-08-19T09:24:07.076867Z",
     "start_time": "2021-08-19T09:24:07.062890Z"
    }
   },
   "outputs": [],
   "source": [
    "answers['16'] = '3. Matt Damon'"
   ]
  },
  {
   "cell_type": "markdown",
   "metadata": {
    "colab_type": "text",
    "id": "NIh6AaW5Vp_n"
   },
   "source": [
    "# 17. В фильмах какого жанра больше всего снимался Nicolas Cage? "
   ]
  },
  {
   "cell_type": "code",
   "execution_count": 43,
   "metadata": {
    "ExecuteTime": {
     "end_time": "2021-08-19T09:24:07.091817Z",
     "start_time": "2021-08-19T09:24:07.079845Z"
    },
    "colab": {},
    "colab_type": "code",
    "id": "H74SJDIBVp_n",
    "scrolled": true
   },
   "outputs": [
    {
     "data": {
      "text/plain": [
       "Drama       14\n",
       "Thriller    11\n",
       "Comedy      11\n",
       "Action       6\n",
       "Romance      6\n",
       "dtype: int64"
      ]
     },
     "execution_count": 43,
     "metadata": {},
     "output_type": "execute_result"
    }
   ],
   "source": [
    "genres[actors['Nicolas Cage']].sum().sort_values(ascending=False).head()"
   ]
  },
  {
   "cell_type": "code",
   "execution_count": 44,
   "metadata": {
    "ExecuteTime": {
     "end_time": "2021-08-19T09:24:07.106798Z",
     "start_time": "2021-08-19T09:24:07.093807Z"
    }
   },
   "outputs": [],
   "source": [
    "answers['17'] = '2. Action'"
   ]
  },
  {
   "cell_type": "markdown",
   "metadata": {
    "colab_type": "text",
    "id": "RqOmPRfWVp_q"
   },
   "source": [
    "# 18. Самый убыточный фильм от Paramount Pictures"
   ]
  },
  {
   "cell_type": "code",
   "execution_count": 45,
   "metadata": {
    "ExecuteTime": {
     "end_time": "2021-08-19T09:24:07.122767Z",
     "start_time": "2021-08-19T09:24:07.108768Z"
    },
    "colab": {},
    "colab_type": "code",
    "id": "9E_B0Y96Vp_r",
    "scrolled": false
   },
   "outputs": [
    {
     "data": {
      "text/html": [
       "<div>\n",
       "<style scoped>\n",
       "    .dataframe tbody tr th:only-of-type {\n",
       "        vertical-align: middle;\n",
       "    }\n",
       "\n",
       "    .dataframe tbody tr th {\n",
       "        vertical-align: top;\n",
       "    }\n",
       "\n",
       "    .dataframe thead th {\n",
       "        text-align: right;\n",
       "    }\n",
       "</style>\n",
       "<table border=\"1\" class=\"dataframe\">\n",
       "  <thead>\n",
       "    <tr style=\"text-align: right;\">\n",
       "      <th></th>\n",
       "      <th>profit</th>\n",
       "      <th>original_title</th>\n",
       "      <th>imdb_id</th>\n",
       "    </tr>\n",
       "  </thead>\n",
       "  <tbody>\n",
       "    <tr>\n",
       "      <th>925</th>\n",
       "      <td>-64831034</td>\n",
       "      <td>K-19: The Widowmaker</td>\n",
       "      <td>tt0267626</td>\n",
       "    </tr>\n",
       "    <tr>\n",
       "      <th>1123</th>\n",
       "      <td>-60519261</td>\n",
       "      <td>Timeline</td>\n",
       "      <td>tt0300556</td>\n",
       "    </tr>\n",
       "    <tr>\n",
       "      <th>1722</th>\n",
       "      <td>-51788987</td>\n",
       "      <td>Next</td>\n",
       "      <td>tt0435705</td>\n",
       "    </tr>\n",
       "    <tr>\n",
       "      <th>1623</th>\n",
       "      <td>-46604061</td>\n",
       "      <td>Alfie</td>\n",
       "      <td>tt0375173</td>\n",
       "    </tr>\n",
       "    <tr>\n",
       "      <th>1631</th>\n",
       "      <td>-24805000</td>\n",
       "      <td>Twisted</td>\n",
       "      <td>tt0315297</td>\n",
       "    </tr>\n",
       "  </tbody>\n",
       "</table>\n",
       "</div>"
      ],
      "text/plain": [
       "        profit        original_title    imdb_id\n",
       "925  -64831034  K-19: The Widowmaker  tt0267626\n",
       "1123 -60519261              Timeline  tt0300556\n",
       "1722 -51788987                  Next  tt0435705\n",
       "1623 -46604061                 Alfie  tt0375173\n",
       "1631 -24805000               Twisted  tt0315297"
      ]
     },
     "execution_count": 45,
     "metadata": {},
     "output_type": "execute_result"
    }
   ],
   "source": [
    "data[film_studios['Paramount Pictures']][['profit', 'original_title', 'imdb_id']].sort_values(by='profit').head()"
   ]
  },
  {
   "cell_type": "code",
   "execution_count": 46,
   "metadata": {
    "ExecuteTime": {
     "end_time": "2021-08-19T09:24:07.137726Z",
     "start_time": "2021-08-19T09:24:07.124760Z"
    }
   },
   "outputs": [],
   "source": [
    "answers['18'] = '1. K-19: The Widowmaker (tt0267626)'"
   ]
  },
  {
   "cell_type": "markdown",
   "metadata": {
    "colab_type": "text",
    "id": "vS8Ur6ddVp_u"
   },
   "source": [
    "# 19. Какой год стал самым успешным по суммарным кассовым сборам?"
   ]
  },
  {
   "cell_type": "code",
   "execution_count": 47,
   "metadata": {
    "ExecuteTime": {
     "end_time": "2021-08-19T09:24:07.167646Z",
     "start_time": "2021-08-19T09:24:07.140720Z"
    },
    "colab": {},
    "colab_type": "code",
    "id": "Dnbt4GdIVp_v"
   },
   "outputs": [
    {
     "data": {
      "text/html": [
       "<div>\n",
       "<style scoped>\n",
       "    .dataframe tbody tr th:only-of-type {\n",
       "        vertical-align: middle;\n",
       "    }\n",
       "\n",
       "    .dataframe tbody tr th {\n",
       "        vertical-align: top;\n",
       "    }\n",
       "\n",
       "    .dataframe thead th {\n",
       "        text-align: right;\n",
       "    }\n",
       "</style>\n",
       "<table border=\"1\" class=\"dataframe\">\n",
       "  <thead>\n",
       "    <tr style=\"text-align: right;\">\n",
       "      <th></th>\n",
       "      <th>revenue</th>\n",
       "    </tr>\n",
       "    <tr>\n",
       "      <th>release_year</th>\n",
       "      <th></th>\n",
       "    </tr>\n",
       "  </thead>\n",
       "  <tbody>\n",
       "    <tr>\n",
       "      <th>2015</th>\n",
       "      <td>25449202382</td>\n",
       "    </tr>\n",
       "    <tr>\n",
       "      <th>2014</th>\n",
       "      <td>23405862953</td>\n",
       "    </tr>\n",
       "    <tr>\n",
       "      <th>2013</th>\n",
       "      <td>23213799791</td>\n",
       "    </tr>\n",
       "    <tr>\n",
       "      <th>2012</th>\n",
       "      <td>23079001687</td>\n",
       "    </tr>\n",
       "    <tr>\n",
       "      <th>2011</th>\n",
       "      <td>22676791872</td>\n",
       "    </tr>\n",
       "  </tbody>\n",
       "</table>\n",
       "</div>"
      ],
      "text/plain": [
       "                  revenue\n",
       "release_year             \n",
       "2015          25449202382\n",
       "2014          23405862953\n",
       "2013          23213799791\n",
       "2012          23079001687\n",
       "2011          22676791872"
      ]
     },
     "execution_count": 47,
     "metadata": {},
     "output_type": "execute_result"
    }
   ],
   "source": [
    "pd.pivot_table(data, index='release_year', values='revenue', aggfunc=sum).sort_values(by='revenue', ascending=False).head()"
   ]
  },
  {
   "cell_type": "code",
   "execution_count": 48,
   "metadata": {
    "ExecuteTime": {
     "end_time": "2021-08-19T09:24:07.182606Z",
     "start_time": "2021-08-19T09:24:07.169640Z"
    }
   },
   "outputs": [],
   "source": [
    "answers['19'] = '5. 2015'"
   ]
  },
  {
   "cell_type": "markdown",
   "metadata": {
    "colab_type": "text",
    "id": "JAzJh4QAVp_z"
   },
   "source": [
    "# 20. Какой самый прибыльный год для студии Warner Bros?"
   ]
  },
  {
   "cell_type": "code",
   "execution_count": 49,
   "metadata": {
    "ExecuteTime": {
     "end_time": "2021-08-19T09:24:07.198563Z",
     "start_time": "2021-08-19T09:24:07.184601Z"
    }
   },
   "outputs": [
    {
     "data": {
      "text/plain": [
       "183"
      ]
     },
     "execution_count": 49,
     "metadata": {},
     "output_type": "execute_result"
    }
   ],
   "source": [
    "wb_names = list(filter(lambda x : 'Warner Bros' in x, film_studios.columns))\n",
    "film_studios[wb_names].max(axis=1).sum()"
   ]
  },
  {
   "cell_type": "code",
   "execution_count": 50,
   "metadata": {
    "ExecuteTime": {
     "end_time": "2021-08-19T09:24:07.229989Z",
     "start_time": "2021-08-19T09:24:07.200559Z"
    },
    "colab": {},
    "colab_type": "code",
    "id": "wgVu02DEVp_0",
    "scrolled": true
   },
   "outputs": [
    {
     "data": {
      "text/html": [
       "<div>\n",
       "<style scoped>\n",
       "    .dataframe tbody tr th:only-of-type {\n",
       "        vertical-align: middle;\n",
       "    }\n",
       "\n",
       "    .dataframe tbody tr th {\n",
       "        vertical-align: top;\n",
       "    }\n",
       "\n",
       "    .dataframe thead th {\n",
       "        text-align: right;\n",
       "    }\n",
       "</style>\n",
       "<table border=\"1\" class=\"dataframe\">\n",
       "  <thead>\n",
       "    <tr style=\"text-align: right;\">\n",
       "      <th></th>\n",
       "      <th>profit</th>\n",
       "    </tr>\n",
       "    <tr>\n",
       "      <th>release_year</th>\n",
       "      <th></th>\n",
       "    </tr>\n",
       "  </thead>\n",
       "  <tbody>\n",
       "    <tr>\n",
       "      <th>2014</th>\n",
       "      <td>2295464519</td>\n",
       "    </tr>\n",
       "    <tr>\n",
       "      <th>2007</th>\n",
       "      <td>2201675217</td>\n",
       "    </tr>\n",
       "    <tr>\n",
       "      <th>2008</th>\n",
       "      <td>2134595031</td>\n",
       "    </tr>\n",
       "    <tr>\n",
       "      <th>2010</th>\n",
       "      <td>1974712985</td>\n",
       "    </tr>\n",
       "    <tr>\n",
       "      <th>2011</th>\n",
       "      <td>1871393682</td>\n",
       "    </tr>\n",
       "  </tbody>\n",
       "</table>\n",
       "</div>"
      ],
      "text/plain": [
       "                  profit\n",
       "release_year            \n",
       "2014          2295464519\n",
       "2007          2201675217\n",
       "2008          2134595031\n",
       "2010          1974712985\n",
       "2011          1871393682"
      ]
     },
     "execution_count": 50,
     "metadata": {},
     "output_type": "execute_result"
    }
   ],
   "source": [
    "# если название начинается с Warner Bros и прибыль\n",
    "wb_names = list(filter(lambda x : 'Warner Bros' in x, film_studios.columns))\n",
    "data_wb = data[film_studios[wb_names].max(axis=1)]\n",
    "pd.pivot_table(data_wb, index='release_year', values='profit', aggfunc=sum).sort_values(by='profit', ascending=False).head()"
   ]
  },
  {
   "cell_type": "code",
   "execution_count": 51,
   "metadata": {
    "ExecuteTime": {
     "end_time": "2021-08-19T09:24:07.261903Z",
     "start_time": "2021-08-19T09:24:07.231984Z"
    },
    "scrolled": true
   },
   "outputs": [
    {
     "data": {
      "text/html": [
       "<div>\n",
       "<style scoped>\n",
       "    .dataframe tbody tr th:only-of-type {\n",
       "        vertical-align: middle;\n",
       "    }\n",
       "\n",
       "    .dataframe tbody tr th {\n",
       "        vertical-align: top;\n",
       "    }\n",
       "\n",
       "    .dataframe thead th {\n",
       "        text-align: right;\n",
       "    }\n",
       "</style>\n",
       "<table border=\"1\" class=\"dataframe\">\n",
       "  <thead>\n",
       "    <tr style=\"text-align: right;\">\n",
       "      <th></th>\n",
       "      <th>profit</th>\n",
       "    </tr>\n",
       "    <tr>\n",
       "      <th>release_year</th>\n",
       "      <th></th>\n",
       "    </tr>\n",
       "  </thead>\n",
       "  <tbody>\n",
       "    <tr>\n",
       "      <th>2014</th>\n",
       "      <td>2295464519</td>\n",
       "    </tr>\n",
       "    <tr>\n",
       "      <th>2007</th>\n",
       "      <td>2208217007</td>\n",
       "    </tr>\n",
       "    <tr>\n",
       "      <th>2008</th>\n",
       "      <td>2134595031</td>\n",
       "    </tr>\n",
       "    <tr>\n",
       "      <th>2010</th>\n",
       "      <td>1974712985</td>\n",
       "    </tr>\n",
       "    <tr>\n",
       "      <th>2011</th>\n",
       "      <td>1871393682</td>\n",
       "    </tr>\n",
       "  </tbody>\n",
       "</table>\n",
       "</div>"
      ],
      "text/plain": [
       "                  profit\n",
       "release_year            \n",
       "2014          2295464519\n",
       "2007          2208217007\n",
       "2008          2134595031\n",
       "2010          1974712985\n",
       "2011          1871393682"
      ]
     },
     "execution_count": 51,
     "metadata": {},
     "output_type": "execute_result"
    }
   ],
   "source": [
    "# если название начинается с Warner и прибыль\n",
    "wb_names = list(filter(lambda x : 'Warner' in x, film_studios.columns))\n",
    "data_wb = data[film_studios[wb_names].max(axis=1)]\n",
    "pd.pivot_table(data_wb, index='release_year', values='profit', aggfunc=sum).sort_values(by='profit', ascending=False).head()"
   ]
  },
  {
   "cell_type": "code",
   "execution_count": 52,
   "metadata": {
    "ExecuteTime": {
     "end_time": "2021-08-19T09:24:07.276864Z",
     "start_time": "2021-08-19T09:24:07.262903Z"
    }
   },
   "outputs": [],
   "source": [
    "answers['20'] = '1. 2014'"
   ]
  },
  {
   "cell_type": "markdown",
   "metadata": {
    "colab_type": "text",
    "id": "8Im1S2HRVp_4"
   },
   "source": [
    "# 21. В каком месяце за все годы суммарно вышло больше всего фильмов?"
   ]
  },
  {
   "cell_type": "code",
   "execution_count": 53,
   "metadata": {
    "ExecuteTime": {
     "end_time": "2021-08-19T09:24:07.306786Z",
     "start_time": "2021-08-19T09:24:07.278859Z"
    },
    "colab": {},
    "colab_type": "code",
    "id": "lev6TH7gVp_4"
   },
   "outputs": [
    {
     "data": {
      "text/html": [
       "<div>\n",
       "<style scoped>\n",
       "    .dataframe tbody tr th:only-of-type {\n",
       "        vertical-align: middle;\n",
       "    }\n",
       "\n",
       "    .dataframe tbody tr th {\n",
       "        vertical-align: top;\n",
       "    }\n",
       "\n",
       "    .dataframe thead th {\n",
       "        text-align: right;\n",
       "    }\n",
       "</style>\n",
       "<table border=\"1\" class=\"dataframe\">\n",
       "  <thead>\n",
       "    <tr style=\"text-align: right;\">\n",
       "      <th></th>\n",
       "      <th>imdb_id</th>\n",
       "    </tr>\n",
       "    <tr>\n",
       "      <th>release_month</th>\n",
       "      <th></th>\n",
       "    </tr>\n",
       "  </thead>\n",
       "  <tbody>\n",
       "    <tr>\n",
       "      <th>9</th>\n",
       "      <td>227</td>\n",
       "    </tr>\n",
       "    <tr>\n",
       "      <th>12</th>\n",
       "      <td>190</td>\n",
       "    </tr>\n",
       "    <tr>\n",
       "      <th>10</th>\n",
       "      <td>186</td>\n",
       "    </tr>\n",
       "    <tr>\n",
       "      <th>8</th>\n",
       "      <td>161</td>\n",
       "    </tr>\n",
       "    <tr>\n",
       "      <th>3</th>\n",
       "      <td>156</td>\n",
       "    </tr>\n",
       "  </tbody>\n",
       "</table>\n",
       "</div>"
      ],
      "text/plain": [
       "               imdb_id\n",
       "release_month         \n",
       "9                  227\n",
       "12                 190\n",
       "10                 186\n",
       "8                  161\n",
       "3                  156"
      ]
     },
     "execution_count": 53,
     "metadata": {},
     "output_type": "execute_result"
    }
   ],
   "source": [
    "pivot_release_months = pd.pivot_table(data, index='release_month', values='imdb_id', aggfunc='count')\n",
    "pivot_release_months.sort_values(by='imdb_id', ascending=False).head()"
   ]
  },
  {
   "cell_type": "code",
   "execution_count": 54,
   "metadata": {
    "ExecuteTime": {
     "end_time": "2021-08-19T09:24:07.321746Z",
     "start_time": "2021-08-19T09:24:07.308786Z"
    }
   },
   "outputs": [],
   "source": [
    "answers['21'] = '4. Сентябрь'"
   ]
  },
  {
   "cell_type": "markdown",
   "metadata": {
    "colab_type": "text",
    "id": "uAJsZ_NeVp_7"
   },
   "source": [
    "# 22. Сколько суммарно вышло фильмов летом? (за июнь, июль, август)"
   ]
  },
  {
   "cell_type": "code",
   "execution_count": 55,
   "metadata": {
    "ExecuteTime": {
     "end_time": "2021-08-19T09:24:07.337702Z",
     "start_time": "2021-08-19T09:24:07.323740Z"
    },
    "colab": {},
    "colab_type": "code",
    "id": "Aa-hEREoVp_8"
   },
   "outputs": [
    {
     "data": {
      "text/plain": [
       "imdb_id    450\n",
       "dtype: int64"
      ]
     },
     "execution_count": 55,
     "metadata": {},
     "output_type": "execute_result"
    }
   ],
   "source": [
    "summer_months = [6, 7, 8]\n",
    "pivot_release_months.loc[summer_months].sum()"
   ]
  },
  {
   "cell_type": "code",
   "execution_count": 56,
   "metadata": {
    "ExecuteTime": {
     "end_time": "2021-08-19T09:24:07.353660Z",
     "start_time": "2021-08-19T09:24:07.340695Z"
    }
   },
   "outputs": [],
   "source": [
    "answers['22'] = '2. 450'"
   ]
  },
  {
   "cell_type": "markdown",
   "metadata": {
    "colab_type": "text",
    "id": "G94ppOY1VqAA"
   },
   "source": [
    "# 23. Какой режиссер выпускает (суммарно по годам) больше всего фильмов зимой? "
   ]
  },
  {
   "cell_type": "code",
   "execution_count": 57,
   "metadata": {
    "ExecuteTime": {
     "end_time": "2021-08-19T09:24:07.385574Z",
     "start_time": "2021-08-19T09:24:07.355656Z"
    },
    "colab": {},
    "colab_type": "code",
    "id": "RhNTsamuVqAB",
    "scrolled": false
   },
   "outputs": [
    {
     "data": {
      "text/plain": [
       "Peter Jackson        7\n",
       "Steven Soderbergh    6\n",
       "Clint Eastwood       6\n",
       "Shawn Levy           4\n",
       "Adam Shankman        4\n",
       "dtype: int64"
      ]
     },
     "execution_count": 57,
     "metadata": {},
     "output_type": "execute_result"
    }
   ],
   "source": [
    "winter_months = [12, 1, 2]\n",
    "winter_movies = data[data['release_month'].isin(winter_months)][['original_title']]\n",
    "target_directors = winter_movies.merge(directors, how='left', left_index=True, right_index=True)\n",
    "target_directors.sum(numeric_only=True).sort_values(ascending=False).head()"
   ]
  },
  {
   "cell_type": "code",
   "execution_count": 58,
   "metadata": {
    "ExecuteTime": {
     "end_time": "2021-08-19T09:24:07.401532Z",
     "start_time": "2021-08-19T09:24:07.387579Z"
    }
   },
   "outputs": [],
   "source": [
    "answers['23'] = '5. Peter Jackson'"
   ]
  },
  {
   "cell_type": "markdown",
   "metadata": {
    "colab_type": "text",
    "id": "RBo0JVjVVqAF"
   },
   "source": [
    "# 24. Какая студия дает самые длинные названия своим фильмам по количеству символов?"
   ]
  },
  {
   "cell_type": "code",
   "execution_count": 59,
   "metadata": {
    "ExecuteTime": {
     "end_time": "2021-08-19T09:24:07.481318Z",
     "start_time": "2021-08-19T09:24:07.403526Z"
    },
    "colab": {},
    "colab_type": "code",
    "id": "QRGS8L0iVqAG"
   },
   "outputs": [
    {
     "name": "stdout",
     "output_type": "stream",
     "text": [
      "original_title\n",
      "Twentieth Century Fox Film Corporation\n",
      "Four By Two Productions\n"
     ]
    }
   ],
   "source": [
    "movies_title_length = data['original_title'].map(lambda x : len(x)).sort_values(ascending=False)\n",
    "movies_title_length = pd.DataFrame(movies_title_length)\n",
    "target_film_studios = movies_title_length.merge(film_studios, how='left', left_index=True, right_index=True)\n",
    "for i_studio in range(target_film_studios.shape[1]):\n",
    "    if target_film_studios.iloc[0, i_studio]:\n",
    "        print(target_film_studios.columns[i_studio])"
   ]
  },
  {
   "cell_type": "code",
   "execution_count": 60,
   "metadata": {
    "ExecuteTime": {
     "end_time": "2021-08-19T09:24:07.497343Z",
     "start_time": "2021-08-19T09:24:07.482315Z"
    }
   },
   "outputs": [],
   "source": [
    "answers['24'] = '5. Four By Two Productions'"
   ]
  },
  {
   "cell_type": "markdown",
   "metadata": {
    "colab_type": "text",
    "id": "9G0hbvR7VqAK"
   },
   "source": [
    "# 25. Описание фильмов какой студии в среднем самые длинные по количеству слов?"
   ]
  },
  {
   "cell_type": "code",
   "execution_count": 61,
   "metadata": {
    "ExecuteTime": {
     "end_time": "2021-08-19T09:24:09.130118Z",
     "start_time": "2021-08-19T09:24:07.498310Z"
    },
    "colab": {},
    "colab_type": "code",
    "id": "Ge2GsLNxVqAK"
   },
   "outputs": [
    {
     "data": {
      "text/plain": [
       "Midnight Picture Show               175\n",
       "Room 9 Entertainment                161\n",
       "98 MPH Productions                  159\n",
       "Heineken Branded Entertainment      159\n",
       "Brookwell-McNamara Entertainment    156\n",
       "Name: mean_words_count, dtype: int64"
      ]
     },
     "execution_count": 61,
     "metadata": {},
     "output_type": "execute_result"
    }
   ],
   "source": [
    "overview_words_count = pd.Series(data=0, index=film_studios.columns, name='mean_words_count')\n",
    "for this_studio in overview_words_count.index:\n",
    "    overview_words_count[this_studio] = data[film_studios[this_studio]]['overview'].map(lambda x : len(x.split())).mean()\n",
    "overview_words_count.sort_values(ascending=False).head()"
   ]
  },
  {
   "cell_type": "code",
   "execution_count": 62,
   "metadata": {
    "ExecuteTime": {
     "end_time": "2021-08-19T09:24:09.145072Z",
     "start_time": "2021-08-19T09:24:09.133078Z"
    }
   },
   "outputs": [],
   "source": [
    "answers['25'] = '3. Midnight Picture Show'"
   ]
  },
  {
   "cell_type": "markdown",
   "metadata": {
    "colab_type": "text",
    "id": "FJ1AFt90VqAP"
   },
   "source": [
    "# 26. Какие фильмы входят в 1 процент лучших по рейтингу? "
   ]
  },
  {
   "cell_type": "code",
   "execution_count": 63,
   "metadata": {
    "ExecuteTime": {
     "end_time": "2021-08-19T09:24:09.174965Z",
     "start_time": "2021-08-19T09:24:09.147040Z"
    },
    "colab": {},
    "colab_type": "code",
    "id": "8qmJVq4CVqAQ",
    "scrolled": true
   },
   "outputs": [
    {
     "data": {
      "text/html": [
       "<div>\n",
       "<style scoped>\n",
       "    .dataframe tbody tr th:only-of-type {\n",
       "        vertical-align: middle;\n",
       "    }\n",
       "\n",
       "    .dataframe tbody tr th {\n",
       "        vertical-align: top;\n",
       "    }\n",
       "\n",
       "    .dataframe thead th {\n",
       "        text-align: right;\n",
       "    }\n",
       "</style>\n",
       "<table border=\"1\" class=\"dataframe\">\n",
       "  <thead>\n",
       "    <tr style=\"text-align: right;\">\n",
       "      <th></th>\n",
       "      <th>original_title</th>\n",
       "      <th>vote_average</th>\n",
       "    </tr>\n",
       "  </thead>\n",
       "  <tbody>\n",
       "    <tr>\n",
       "      <th>9</th>\n",
       "      <td>Inside Out</td>\n",
       "      <td>8.0</td>\n",
       "    </tr>\n",
       "    <tr>\n",
       "      <th>34</th>\n",
       "      <td>Room</td>\n",
       "      <td>8.0</td>\n",
       "    </tr>\n",
       "    <tr>\n",
       "      <th>118</th>\n",
       "      <td>Interstellar</td>\n",
       "      <td>8.0</td>\n",
       "    </tr>\n",
       "    <tr>\n",
       "      <th>119</th>\n",
       "      <td>Guardians of the Galaxy</td>\n",
       "      <td>7.9</td>\n",
       "    </tr>\n",
       "    <tr>\n",
       "      <th>125</th>\n",
       "      <td>The Imitation Game</td>\n",
       "      <td>8.0</td>\n",
       "    </tr>\n",
       "    <tr>\n",
       "      <th>128</th>\n",
       "      <td>Gone Girl</td>\n",
       "      <td>7.9</td>\n",
       "    </tr>\n",
       "    <tr>\n",
       "      <th>138</th>\n",
       "      <td>The Grand Budapest Hotel</td>\n",
       "      <td>7.9</td>\n",
       "    </tr>\n",
       "    <tr>\n",
       "      <th>370</th>\n",
       "      <td>Inception</td>\n",
       "      <td>7.9</td>\n",
       "    </tr>\n",
       "    <tr>\n",
       "      <th>599</th>\n",
       "      <td>The Dark Knight</td>\n",
       "      <td>8.1</td>\n",
       "    </tr>\n",
       "    <tr>\n",
       "      <th>872</th>\n",
       "      <td>The Pianist</td>\n",
       "      <td>7.9</td>\n",
       "    </tr>\n",
       "    <tr>\n",
       "      <th>1081</th>\n",
       "      <td>The Lord of the Rings: The Return of the King</td>\n",
       "      <td>7.9</td>\n",
       "    </tr>\n",
       "    <tr>\n",
       "      <th>1183</th>\n",
       "      <td>The Wolf of Wall Street</td>\n",
       "      <td>7.9</td>\n",
       "    </tr>\n",
       "    <tr>\n",
       "      <th>1191</th>\n",
       "      <td>12 Years a Slave</td>\n",
       "      <td>7.9</td>\n",
       "    </tr>\n",
       "    <tr>\n",
       "      <th>1800</th>\n",
       "      <td>Memento</td>\n",
       "      <td>7.9</td>\n",
       "    </tr>\n",
       "  </tbody>\n",
       "</table>\n",
       "</div>"
      ],
      "text/plain": [
       "                                     original_title  vote_average\n",
       "9                                        Inside Out           8.0\n",
       "34                                             Room           8.0\n",
       "118                                    Interstellar           8.0\n",
       "119                         Guardians of the Galaxy           7.9\n",
       "125                              The Imitation Game           8.0\n",
       "128                                       Gone Girl           7.9\n",
       "138                        The Grand Budapest Hotel           7.9\n",
       "370                                       Inception           7.9\n",
       "599                                 The Dark Knight           8.1\n",
       "872                                     The Pianist           7.9\n",
       "1081  The Lord of the Rings: The Return of the King           7.9\n",
       "1183                        The Wolf of Wall Street           7.9\n",
       "1191                               12 Years a Slave           7.9\n",
       "1800                                        Memento           7.9"
      ]
     },
     "execution_count": 63,
     "metadata": {},
     "output_type": "execute_result"
    }
   ],
   "source": [
    "movies_rating = data[['original_title', 'vote_average']]\n",
    "top_value = movies_rating.quantile(q=0.99)[0]\n",
    "movies_rating[movies_rating['vote_average'] > top_value]"
   ]
  },
  {
   "cell_type": "code",
   "execution_count": 64,
   "metadata": {
    "ExecuteTime": {
     "end_time": "2021-08-19T09:24:09.189925Z",
     "start_time": "2021-08-19T09:24:09.176958Z"
    }
   },
   "outputs": [],
   "source": [
    "answers['26'] = '1. Inside Out, The Dark Knight, 12 Years a Slave'"
   ]
  },
  {
   "cell_type": "markdown",
   "metadata": {
    "colab_type": "text",
    "id": "MdXsUXbCVqAV"
   },
   "source": [
    "# 27. Какие актеры чаще всего снимаются в одном фильме вместе?\n"
   ]
  },
  {
   "cell_type": "code",
   "execution_count": 65,
   "metadata": {
    "ExecuteTime": {
     "end_time": "2021-08-19T09:24:09.205894Z",
     "start_time": "2021-08-19T09:24:09.191921Z"
    }
   },
   "outputs": [
    {
     "data": {
      "text/plain": [
       "5798715"
      ]
     },
     "execution_count": 65,
     "metadata": {},
     "output_type": "execute_result"
    }
   ],
   "source": [
    "# количество пар актеров - оооооочень много\n",
    "(len(actors.columns) * (len(actors.columns) - 1)) // 2"
   ]
  },
  {
   "cell_type": "code",
   "execution_count": 66,
   "metadata": {
    "ExecuteTime": {
     "end_time": "2021-08-19T09:44:32.221211Z",
     "start_time": "2021-08-19T09:24:09.207878Z"
    },
    "colab_type": "text",
    "id": "4ymnxEVoVqAW"
   },
   "outputs": [
    {
     "name": "stdout",
     "output_type": "stream",
     "text": [
      "found new pair - 50 Cent & Joy Bryant\n",
      "found new pair - Delroy Lindo & Edgar RamÃ­rez\n",
      "found new pair - Jennifer Aniston & Jason Bateman\n",
      "same count - Bill Nighy & Johnny Depp\n",
      "found new pair - Adam Sandler & Kevin James\n",
      "found new pair - Johnny Depp & Helena Bonham Carter\n",
      "same count - Ben Stiller & Owen Wilson\n",
      "found new pair - Rupert Grint & Daniel Radcliffe\n",
      "same count - Rupert Grint & Emma Watson\n",
      "same count - Daniel Radcliffe & Emma Watson\n",
      "{'name': 'Rupert Grint & Daniel Radcliffe', 'count': 8}\n"
     ]
    }
   ],
   "source": [
    "most_frequent_pair = {'name': 'nothing & nothing', 'count': 0}\n",
    "for i_actor_1 in range(len(actors.columns)-1):\n",
    "    actor_1 = actors.columns[i_actor_1]\n",
    "    actor_1_column = actors[actor_1]\n",
    "    for i_actor_2 in range(i_actor_1+1, len(actors.columns)):\n",
    "        actor_2 = actors.columns[i_actor_2]\n",
    "        pair_count = (actor_1_column & actors[actor_2]).sum()\n",
    "        if pair_count > most_frequent_pair['count']:\n",
    "            pair_name = '{0} & {1}'.format(actor_1, actor_2)\n",
    "            print('found new pair - ' + pair_name)\n",
    "            most_frequent_pair['name'] = pair_name\n",
    "            most_frequent_pair['count'] = pair_count\n",
    "        elif (pair_count == most_frequent_pair['count']) and (pair_count > 2):\n",
    "            pair_name = '{0} & {1}'.format(actor_1, actor_2)\n",
    "            print('same count - ' + pair_name)\n",
    "print(most_frequent_pair)"
   ]
  },
  {
   "cell_type": "code",
   "execution_count": 67,
   "metadata": {
    "ExecuteTime": {
     "end_time": "2021-08-19T09:44:32.236160Z",
     "start_time": "2021-08-19T09:44:32.228168Z"
    }
   },
   "outputs": [],
   "source": [
    "answers['27'] = '5. Daniel Radcliffe & Rupert Grint'"
   ]
  },
  {
   "cell_type": "markdown",
   "metadata": {
    "colab_type": "text",
    "id": "U0nONFnGVqAX"
   },
   "source": [
    "# Submission"
   ]
  },
  {
   "cell_type": "code",
   "execution_count": 68,
   "metadata": {
    "ExecuteTime": {
     "end_time": "2021-08-19T09:44:32.251108Z",
     "start_time": "2021-08-19T09:44:32.239139Z"
    },
    "colab": {},
    "colab_type": "code",
    "id": "IfcaRO9-VqAX",
    "outputId": "0f132912-32bb-4196-c98c-abfbc4ad5a5f"
   },
   "outputs": [
    {
     "data": {
      "text/plain": [
       "{'1': '5. Pirates of the Caribbean: On Stranger Tides (tt1298650)',\n",
       " '2': '2. Gods and Generals (tt0279111)',\n",
       " '3': '3. Winnie the Pooh (tt1449283)',\n",
       " '4': '2. 110',\n",
       " '5': '5. 107',\n",
       " '6': '5. Avatar (tt0499549)',\n",
       " '7': '5. The Lone Ranger (tt1210819)',\n",
       " '8': '1. 1478',\n",
       " '9': '4. The Dark Knight (tt0468569)',\n",
       " '10': '5. The Lone Ranger (tt1210819)',\n",
       " '11': '3. Drama',\n",
       " '12': '1. Drama',\n",
       " '13': '5. Peter Jackson',\n",
       " '14': '3. Robert Rodriguez',\n",
       " '15': '3. Chris Hemsworth',\n",
       " '16': '3. Matt Damon',\n",
       " '17': '2. Action',\n",
       " '18': '1. K-19: The Widowmaker (tt0267626)',\n",
       " '19': '5. 2015',\n",
       " '20': '1. 2014',\n",
       " '21': '4. Сентябрь',\n",
       " '22': '2. 450',\n",
       " '23': '5. Peter Jackson',\n",
       " '24': '5. Four By Two Productions',\n",
       " '25': '3. Midnight Picture Show',\n",
       " '26': '1. Inside Out, The Dark Knight, 12 Years a Slave',\n",
       " '27': '5. Daniel Radcliffe & Rupert Grint'}"
      ]
     },
     "execution_count": 68,
     "metadata": {},
     "output_type": "execute_result"
    }
   ],
   "source": [
    "# в конце можно посмотреть свои ответы к каждому вопросу\n",
    "answers"
   ]
  },
  {
   "cell_type": "code",
   "execution_count": 69,
   "metadata": {
    "ExecuteTime": {
     "end_time": "2021-08-19T09:44:32.266100Z",
     "start_time": "2021-08-19T09:44:32.254100Z"
    },
    "colab": {},
    "colab_type": "code",
    "id": "SiRmHPl8VqAd"
   },
   "outputs": [
    {
     "data": {
      "text/plain": [
       "27"
      ]
     },
     "execution_count": 69,
     "metadata": {},
     "output_type": "execute_result"
    }
   ],
   "source": [
    "# и убедиться что ни чего не пропустил)\n",
    "len(answers)"
   ]
  }
 ],
 "metadata": {
  "colab": {
   "name": "Copy of [SF-DST] Movies IMBD v4.1 TEMPLATE.ipynb",
   "provenance": []
  },
  "kernelspec": {
   "display_name": "Python 3",
   "language": "python",
   "name": "python3"
  },
  "language_info": {
   "codemirror_mode": {
    "name": "ipython",
    "version": 3
   },
   "file_extension": ".py",
   "mimetype": "text/x-python",
   "name": "python",
   "nbconvert_exporter": "python",
   "pygments_lexer": "ipython3",
   "version": "3.8.8"
  }
 },
 "nbformat": 4,
 "nbformat_minor": 1
}
