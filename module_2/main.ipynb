{
 "cells": [
  {
   "cell_type": "code",
   "execution_count": 44,
   "id": "517b1e9f",
   "metadata": {
    "ExecuteTime": {
     "end_time": "2021-09-28T16:15:02.399067Z",
     "start_time": "2021-09-28T16:15:02.389696Z"
    }
   },
   "outputs": [],
   "source": [
    "import itertools\n",
    "import matplotlib.pyplot as plt\n",
    "import pandas as pd\n",
    "from scipy.stats import ttest_ind"
   ]
  },
  {
   "cell_type": "code",
   "execution_count": 2,
   "id": "9bff0c1a",
   "metadata": {
    "ExecuteTime": {
     "end_time": "2021-09-28T15:46:05.152333Z",
     "start_time": "2021-09-28T15:46:05.136422Z"
    }
   },
   "outputs": [],
   "source": [
    "# надо больше столбцов и строк для отображения\n",
    "pd.options.display.max_columns = 100\n",
    "pd.options.display.max_rows = 100"
   ]
  },
  {
   "cell_type": "code",
   "execution_count": 3,
   "id": "04d70825",
   "metadata": {
    "ExecuteTime": {
     "end_time": "2021-09-28T15:46:05.200092Z",
     "start_time": "2021-09-28T15:46:05.155325Z"
    }
   },
   "outputs": [
    {
     "data": {
      "text/html": [
       "<div>\n",
       "<style scoped>\n",
       "    .dataframe tbody tr th:only-of-type {\n",
       "        vertical-align: middle;\n",
       "    }\n",
       "\n",
       "    .dataframe tbody tr th {\n",
       "        vertical-align: top;\n",
       "    }\n",
       "\n",
       "    .dataframe thead th {\n",
       "        text-align: right;\n",
       "    }\n",
       "</style>\n",
       "<table border=\"1\" class=\"dataframe\">\n",
       "  <thead>\n",
       "    <tr style=\"text-align: right;\">\n",
       "      <th></th>\n",
       "      <th>school</th>\n",
       "      <th>sex</th>\n",
       "      <th>age</th>\n",
       "      <th>address</th>\n",
       "      <th>famsize</th>\n",
       "      <th>Pstatus</th>\n",
       "      <th>Medu</th>\n",
       "      <th>Fedu</th>\n",
       "      <th>Mjob</th>\n",
       "      <th>Fjob</th>\n",
       "      <th>reason</th>\n",
       "      <th>guardian</th>\n",
       "      <th>traveltime</th>\n",
       "      <th>studytime</th>\n",
       "      <th>failures</th>\n",
       "      <th>schoolsup</th>\n",
       "      <th>famsup</th>\n",
       "      <th>paid</th>\n",
       "      <th>activities</th>\n",
       "      <th>nursery</th>\n",
       "      <th>studytime, granular</th>\n",
       "      <th>higher</th>\n",
       "      <th>internet</th>\n",
       "      <th>romantic</th>\n",
       "      <th>famrel</th>\n",
       "      <th>freetime</th>\n",
       "      <th>goout</th>\n",
       "      <th>health</th>\n",
       "      <th>absences</th>\n",
       "      <th>score</th>\n",
       "    </tr>\n",
       "  </thead>\n",
       "  <tbody>\n",
       "    <tr>\n",
       "      <th>0</th>\n",
       "      <td>GP</td>\n",
       "      <td>F</td>\n",
       "      <td>18</td>\n",
       "      <td>U</td>\n",
       "      <td>NaN</td>\n",
       "      <td>A</td>\n",
       "      <td>4.0</td>\n",
       "      <td>4.0</td>\n",
       "      <td>at_home</td>\n",
       "      <td>teacher</td>\n",
       "      <td>course</td>\n",
       "      <td>mother</td>\n",
       "      <td>2.0</td>\n",
       "      <td>2.0</td>\n",
       "      <td>0.0</td>\n",
       "      <td>yes</td>\n",
       "      <td>no</td>\n",
       "      <td>no</td>\n",
       "      <td>no</td>\n",
       "      <td>yes</td>\n",
       "      <td>-6.0</td>\n",
       "      <td>yes</td>\n",
       "      <td>NaN</td>\n",
       "      <td>no</td>\n",
       "      <td>4.0</td>\n",
       "      <td>3.0</td>\n",
       "      <td>4.0</td>\n",
       "      <td>3.0</td>\n",
       "      <td>6.0</td>\n",
       "      <td>30.0</td>\n",
       "    </tr>\n",
       "    <tr>\n",
       "      <th>1</th>\n",
       "      <td>GP</td>\n",
       "      <td>F</td>\n",
       "      <td>17</td>\n",
       "      <td>U</td>\n",
       "      <td>GT3</td>\n",
       "      <td>NaN</td>\n",
       "      <td>1.0</td>\n",
       "      <td>1.0</td>\n",
       "      <td>at_home</td>\n",
       "      <td>other</td>\n",
       "      <td>course</td>\n",
       "      <td>father</td>\n",
       "      <td>1.0</td>\n",
       "      <td>2.0</td>\n",
       "      <td>0.0</td>\n",
       "      <td>no</td>\n",
       "      <td>yes</td>\n",
       "      <td>no</td>\n",
       "      <td>no</td>\n",
       "      <td>no</td>\n",
       "      <td>-6.0</td>\n",
       "      <td>yes</td>\n",
       "      <td>yes</td>\n",
       "      <td>no</td>\n",
       "      <td>5.0</td>\n",
       "      <td>3.0</td>\n",
       "      <td>3.0</td>\n",
       "      <td>3.0</td>\n",
       "      <td>4.0</td>\n",
       "      <td>30.0</td>\n",
       "    </tr>\n",
       "    <tr>\n",
       "      <th>2</th>\n",
       "      <td>GP</td>\n",
       "      <td>F</td>\n",
       "      <td>15</td>\n",
       "      <td>U</td>\n",
       "      <td>LE3</td>\n",
       "      <td>T</td>\n",
       "      <td>1.0</td>\n",
       "      <td>1.0</td>\n",
       "      <td>at_home</td>\n",
       "      <td>other</td>\n",
       "      <td>other</td>\n",
       "      <td>mother</td>\n",
       "      <td>1.0</td>\n",
       "      <td>2.0</td>\n",
       "      <td>3.0</td>\n",
       "      <td>yes</td>\n",
       "      <td>no</td>\n",
       "      <td>NaN</td>\n",
       "      <td>no</td>\n",
       "      <td>yes</td>\n",
       "      <td>-6.0</td>\n",
       "      <td>yes</td>\n",
       "      <td>yes</td>\n",
       "      <td>NaN</td>\n",
       "      <td>4.0</td>\n",
       "      <td>3.0</td>\n",
       "      <td>2.0</td>\n",
       "      <td>3.0</td>\n",
       "      <td>10.0</td>\n",
       "      <td>50.0</td>\n",
       "    </tr>\n",
       "    <tr>\n",
       "      <th>3</th>\n",
       "      <td>GP</td>\n",
       "      <td>F</td>\n",
       "      <td>15</td>\n",
       "      <td>U</td>\n",
       "      <td>GT3</td>\n",
       "      <td>T</td>\n",
       "      <td>4.0</td>\n",
       "      <td>2.0</td>\n",
       "      <td>health</td>\n",
       "      <td>NaN</td>\n",
       "      <td>home</td>\n",
       "      <td>mother</td>\n",
       "      <td>1.0</td>\n",
       "      <td>3.0</td>\n",
       "      <td>0.0</td>\n",
       "      <td>no</td>\n",
       "      <td>yes</td>\n",
       "      <td>yes</td>\n",
       "      <td>yes</td>\n",
       "      <td>yes</td>\n",
       "      <td>-9.0</td>\n",
       "      <td>yes</td>\n",
       "      <td>yes</td>\n",
       "      <td>yes</td>\n",
       "      <td>3.0</td>\n",
       "      <td>2.0</td>\n",
       "      <td>2.0</td>\n",
       "      <td>5.0</td>\n",
       "      <td>2.0</td>\n",
       "      <td>75.0</td>\n",
       "    </tr>\n",
       "    <tr>\n",
       "      <th>4</th>\n",
       "      <td>GP</td>\n",
       "      <td>F</td>\n",
       "      <td>16</td>\n",
       "      <td>U</td>\n",
       "      <td>GT3</td>\n",
       "      <td>T</td>\n",
       "      <td>3.0</td>\n",
       "      <td>3.0</td>\n",
       "      <td>other</td>\n",
       "      <td>other</td>\n",
       "      <td>home</td>\n",
       "      <td>father</td>\n",
       "      <td>1.0</td>\n",
       "      <td>2.0</td>\n",
       "      <td>0.0</td>\n",
       "      <td>no</td>\n",
       "      <td>yes</td>\n",
       "      <td>yes</td>\n",
       "      <td>no</td>\n",
       "      <td>yes</td>\n",
       "      <td>-6.0</td>\n",
       "      <td>yes</td>\n",
       "      <td>no</td>\n",
       "      <td>no</td>\n",
       "      <td>4.0</td>\n",
       "      <td>3.0</td>\n",
       "      <td>2.0</td>\n",
       "      <td>5.0</td>\n",
       "      <td>4.0</td>\n",
       "      <td>50.0</td>\n",
       "    </tr>\n",
       "  </tbody>\n",
       "</table>\n",
       "</div>"
      ],
      "text/plain": [
       "  school sex  age address famsize Pstatus  Medu  Fedu     Mjob     Fjob  \\\n",
       "0     GP   F   18       U     NaN       A   4.0   4.0  at_home  teacher   \n",
       "1     GP   F   17       U     GT3     NaN   1.0   1.0  at_home    other   \n",
       "2     GP   F   15       U     LE3       T   1.0   1.0  at_home    other   \n",
       "3     GP   F   15       U     GT3       T   4.0   2.0   health      NaN   \n",
       "4     GP   F   16       U     GT3       T   3.0   3.0    other    other   \n",
       "\n",
       "   reason guardian  traveltime  studytime  failures schoolsup famsup paid  \\\n",
       "0  course   mother         2.0        2.0       0.0       yes     no   no   \n",
       "1  course   father         1.0        2.0       0.0        no    yes   no   \n",
       "2   other   mother         1.0        2.0       3.0       yes     no  NaN   \n",
       "3    home   mother         1.0        3.0       0.0        no    yes  yes   \n",
       "4    home   father         1.0        2.0       0.0        no    yes  yes   \n",
       "\n",
       "  activities nursery  studytime, granular higher internet romantic  famrel  \\\n",
       "0         no     yes                 -6.0    yes      NaN       no     4.0   \n",
       "1         no      no                 -6.0    yes      yes       no     5.0   \n",
       "2         no     yes                 -6.0    yes      yes      NaN     4.0   \n",
       "3        yes     yes                 -9.0    yes      yes      yes     3.0   \n",
       "4         no     yes                 -6.0    yes       no       no     4.0   \n",
       "\n",
       "   freetime  goout  health  absences  score  \n",
       "0       3.0    4.0     3.0       6.0   30.0  \n",
       "1       3.0    3.0     3.0       4.0   30.0  \n",
       "2       3.0    2.0     3.0      10.0   50.0  \n",
       "3       2.0    2.0     5.0       2.0   75.0  \n",
       "4       3.0    2.0     5.0       4.0   50.0  "
      ]
     },
     "execution_count": 3,
     "metadata": {},
     "output_type": "execute_result"
    }
   ],
   "source": [
    "# загрузим и посмотрим что на входе\n",
    "raw_data = pd.read_csv('stud_math.csv')\n",
    "raw_data.head()"
   ]
  },
  {
   "cell_type": "markdown",
   "id": "7922ea01",
   "metadata": {},
   "source": [
    "#### Описание датасета\n",
    "- school — аббревиатура школы, в которой учится ученик\n",
    "- sex — пол ученика ('F' - женский, 'M' - мужской)\n",
    "- age — возраст ученика (от 15 до 22)\n",
    "- address — тип адреса ученика ('U' - городской, 'R' - за городом)\n",
    "- famsize — размер семьи('LE3' <= 3, 'GT3' >3)\n",
    "- Pstatus — статус совместного жилья родителей ('T' - живут вместе 'A' - раздельно)\n",
    "- Medu — образование матери (0 - нет, 1 - 4 класса, 2 - 5-9 классы, 3 - среднее специальное или 11 классов, 4 - высшее)\n",
    "- Fedu — образование отца (0 - нет, 1 - 4 класса, 2 - 5-9 классы, 3 - среднее специальное или 11 классов, 4 - высшее)\n",
    "- Mjob — работа матери ('teacher' - учитель, 'health' - сфера здравоохранения, 'services' - гос служба, 'at_home' - не работает, 'other' - другое)\n",
    "- Fjob — работа отца ('teacher' - учитель, 'health' - сфера здравоохранения, 'services' - гос служба, 'at_home' - не работает, 'other' - другое)\n",
    "- reason — причина выбора школы ('home' - близость к дому, 'reputation' - репутация школы, 'course' - образовательная программа, 'other' - другое)\n",
    "- guardian — опекун ('mother' - мать, 'father' - отец, 'other' - другое)\n",
    "- traveltime — время в пути до школы (1 - <15 мин., 2 - 15-30 мин., 3 - 30-60 мин., 4 - >60 мин.)\n",
    "- studytime — время на учёбу помимо школы в неделю (1 - <2 часов, 2 - 2-5 часов, 3 - 5-10 часов, 4 - >10 часов)\n",
    "- failures — количество внеучебных неудач (n, если 1<=n<=3, иначе 0)\n",
    "- schoolsup — дополнительная образовательная поддержка (yes или no)\n",
    "- famsup — семейная образовательная поддержка (yes или no)\n",
    "- paid — дополнительные платные занятия по математике (yes или no)\n",
    "- activities — дополнительные внеучебные занятия (yes или no)\n",
    "- nursery — посещал детский сад (yes или no)\n",
    "- higher — хочет получить высшее образование (yes или no)\n",
    "- internet — наличие интернета дома (yes или no)\n",
    "- romantic — в романтических отношениях (yes или no)\n",
    "- famrel — семейные отношения (от 1 - очень плохо до 5 - очень хорошо)\n",
    "- freetime — свободное время после школы (от 1 - очень мало до 5 - очень мого)\n",
    "- goout — проведение времени с друзьями (от 1 - очень мало до 5 - очень много)\n",
    "- health — текущее состояние здоровья (от 1 - очень плохо до 5 - очень хорошо)\n",
    "- absences — количество пропущенных занятий\n",
    "- score — баллы по госэкзамену по математике"
   ]
  },
  {
   "cell_type": "code",
   "execution_count": 4,
   "id": "7ed7c6b9",
   "metadata": {
    "ExecuteTime": {
     "end_time": "2021-09-28T15:46:05.231022Z",
     "start_time": "2021-09-28T15:46:05.202057Z"
    },
    "scrolled": true
   },
   "outputs": [
    {
     "name": "stdout",
     "output_type": "stream",
     "text": [
      "<class 'pandas.core.frame.DataFrame'>\n",
      "RangeIndex: 395 entries, 0 to 394\n",
      "Data columns (total 30 columns):\n",
      " #   Column               Non-Null Count  Dtype  \n",
      "---  ------               --------------  -----  \n",
      " 0   school               395 non-null    object \n",
      " 1   sex                  395 non-null    object \n",
      " 2   age                  395 non-null    int64  \n",
      " 3   address              378 non-null    object \n",
      " 4   famsize              368 non-null    object \n",
      " 5   Pstatus              350 non-null    object \n",
      " 6   Medu                 392 non-null    float64\n",
      " 7   Fedu                 371 non-null    float64\n",
      " 8   Mjob                 376 non-null    object \n",
      " 9   Fjob                 359 non-null    object \n",
      " 10  reason               378 non-null    object \n",
      " 11  guardian             364 non-null    object \n",
      " 12  traveltime           367 non-null    float64\n",
      " 13  studytime            388 non-null    float64\n",
      " 14  failures             373 non-null    float64\n",
      " 15  schoolsup            386 non-null    object \n",
      " 16  famsup               356 non-null    object \n",
      " 17  paid                 355 non-null    object \n",
      " 18  activities           381 non-null    object \n",
      " 19  nursery              379 non-null    object \n",
      " 20  studytime, granular  388 non-null    float64\n",
      " 21  higher               375 non-null    object \n",
      " 22  internet             361 non-null    object \n",
      " 23  romantic             364 non-null    object \n",
      " 24  famrel               368 non-null    float64\n",
      " 25  freetime             384 non-null    float64\n",
      " 26  goout                387 non-null    float64\n",
      " 27  health               380 non-null    float64\n",
      " 28  absences             383 non-null    float64\n",
      " 29  score                389 non-null    float64\n",
      "dtypes: float64(12), int64(1), object(17)\n",
      "memory usage: 423.8 KB\n"
     ]
    }
   ],
   "source": [
    "raw_data.info(memory_usage='deep')"
   ]
  },
  {
   "cell_type": "markdown",
   "id": "0b1a0605",
   "metadata": {},
   "source": [
    "- есть 13 числовых столбцов и 17 нечисловых\n",
    "- есть малочисленные пропуски во многих столбцах\n",
    "- по сути все столбцы, кроме (age, absences, score), номинативные\n",
    "- столбец \"studytime, granular\", значения в котором не понятны. Описания на него нет. Если не получим объяснения из источника датасета, то выкинем этот столбец"
   ]
  },
  {
   "cell_type": "code",
   "execution_count": 5,
   "id": "48fa10fe",
   "metadata": {
    "ExecuteTime": {
     "end_time": "2021-09-28T15:46:05.292844Z",
     "start_time": "2021-09-28T15:46:05.232988Z"
    },
    "scrolled": true
   },
   "outputs": [
    {
     "data": {
      "text/html": [
       "<div>\n",
       "<style scoped>\n",
       "    .dataframe tbody tr th:only-of-type {\n",
       "        vertical-align: middle;\n",
       "    }\n",
       "\n",
       "    .dataframe tbody tr th {\n",
       "        vertical-align: top;\n",
       "    }\n",
       "\n",
       "    .dataframe thead th {\n",
       "        text-align: right;\n",
       "    }\n",
       "</style>\n",
       "<table border=\"1\" class=\"dataframe\">\n",
       "  <thead>\n",
       "    <tr style=\"text-align: right;\">\n",
       "      <th></th>\n",
       "      <th>age</th>\n",
       "      <th>Medu</th>\n",
       "      <th>Fedu</th>\n",
       "      <th>traveltime</th>\n",
       "      <th>studytime</th>\n",
       "      <th>failures</th>\n",
       "      <th>studytime, granular</th>\n",
       "      <th>famrel</th>\n",
       "      <th>freetime</th>\n",
       "      <th>goout</th>\n",
       "      <th>health</th>\n",
       "      <th>absences</th>\n",
       "      <th>score</th>\n",
       "    </tr>\n",
       "  </thead>\n",
       "  <tbody>\n",
       "    <tr>\n",
       "      <th>count</th>\n",
       "      <td>395.000000</td>\n",
       "      <td>392.000000</td>\n",
       "      <td>371.000000</td>\n",
       "      <td>367.000000</td>\n",
       "      <td>388.000000</td>\n",
       "      <td>373.000000</td>\n",
       "      <td>388.000000</td>\n",
       "      <td>368.000000</td>\n",
       "      <td>384.000000</td>\n",
       "      <td>387.000000</td>\n",
       "      <td>380.000000</td>\n",
       "      <td>383.000000</td>\n",
       "      <td>389.000000</td>\n",
       "    </tr>\n",
       "    <tr>\n",
       "      <th>mean</th>\n",
       "      <td>16.696203</td>\n",
       "      <td>2.750000</td>\n",
       "      <td>2.614555</td>\n",
       "      <td>1.438692</td>\n",
       "      <td>2.038660</td>\n",
       "      <td>0.337802</td>\n",
       "      <td>-6.115979</td>\n",
       "      <td>3.937500</td>\n",
       "      <td>3.231771</td>\n",
       "      <td>3.105943</td>\n",
       "      <td>3.531579</td>\n",
       "      <td>7.279373</td>\n",
       "      <td>52.262211</td>\n",
       "    </tr>\n",
       "    <tr>\n",
       "      <th>std</th>\n",
       "      <td>1.276043</td>\n",
       "      <td>1.098127</td>\n",
       "      <td>2.228732</td>\n",
       "      <td>0.694181</td>\n",
       "      <td>0.842078</td>\n",
       "      <td>0.743135</td>\n",
       "      <td>2.526235</td>\n",
       "      <td>0.927277</td>\n",
       "      <td>0.993940</td>\n",
       "      <td>1.115896</td>\n",
       "      <td>1.396019</td>\n",
       "      <td>23.465197</td>\n",
       "      <td>22.919022</td>\n",
       "    </tr>\n",
       "    <tr>\n",
       "      <th>min</th>\n",
       "      <td>15.000000</td>\n",
       "      <td>0.000000</td>\n",
       "      <td>0.000000</td>\n",
       "      <td>1.000000</td>\n",
       "      <td>1.000000</td>\n",
       "      <td>0.000000</td>\n",
       "      <td>-12.000000</td>\n",
       "      <td>-1.000000</td>\n",
       "      <td>1.000000</td>\n",
       "      <td>1.000000</td>\n",
       "      <td>1.000000</td>\n",
       "      <td>0.000000</td>\n",
       "      <td>0.000000</td>\n",
       "    </tr>\n",
       "    <tr>\n",
       "      <th>25%</th>\n",
       "      <td>16.000000</td>\n",
       "      <td>2.000000</td>\n",
       "      <td>2.000000</td>\n",
       "      <td>1.000000</td>\n",
       "      <td>1.000000</td>\n",
       "      <td>0.000000</td>\n",
       "      <td>-6.000000</td>\n",
       "      <td>4.000000</td>\n",
       "      <td>3.000000</td>\n",
       "      <td>2.000000</td>\n",
       "      <td>3.000000</td>\n",
       "      <td>0.000000</td>\n",
       "      <td>40.000000</td>\n",
       "    </tr>\n",
       "    <tr>\n",
       "      <th>50%</th>\n",
       "      <td>17.000000</td>\n",
       "      <td>3.000000</td>\n",
       "      <td>2.000000</td>\n",
       "      <td>1.000000</td>\n",
       "      <td>2.000000</td>\n",
       "      <td>0.000000</td>\n",
       "      <td>-6.000000</td>\n",
       "      <td>4.000000</td>\n",
       "      <td>3.000000</td>\n",
       "      <td>3.000000</td>\n",
       "      <td>4.000000</td>\n",
       "      <td>4.000000</td>\n",
       "      <td>55.000000</td>\n",
       "    </tr>\n",
       "    <tr>\n",
       "      <th>75%</th>\n",
       "      <td>18.000000</td>\n",
       "      <td>4.000000</td>\n",
       "      <td>3.000000</td>\n",
       "      <td>2.000000</td>\n",
       "      <td>2.000000</td>\n",
       "      <td>0.000000</td>\n",
       "      <td>-3.000000</td>\n",
       "      <td>5.000000</td>\n",
       "      <td>4.000000</td>\n",
       "      <td>4.000000</td>\n",
       "      <td>5.000000</td>\n",
       "      <td>8.000000</td>\n",
       "      <td>70.000000</td>\n",
       "    </tr>\n",
       "    <tr>\n",
       "      <th>max</th>\n",
       "      <td>22.000000</td>\n",
       "      <td>4.000000</td>\n",
       "      <td>40.000000</td>\n",
       "      <td>4.000000</td>\n",
       "      <td>4.000000</td>\n",
       "      <td>3.000000</td>\n",
       "      <td>-3.000000</td>\n",
       "      <td>5.000000</td>\n",
       "      <td>5.000000</td>\n",
       "      <td>5.000000</td>\n",
       "      <td>5.000000</td>\n",
       "      <td>385.000000</td>\n",
       "      <td>100.000000</td>\n",
       "    </tr>\n",
       "  </tbody>\n",
       "</table>\n",
       "</div>"
      ],
      "text/plain": [
       "              age        Medu        Fedu  traveltime   studytime    failures  \\\n",
       "count  395.000000  392.000000  371.000000  367.000000  388.000000  373.000000   \n",
       "mean    16.696203    2.750000    2.614555    1.438692    2.038660    0.337802   \n",
       "std      1.276043    1.098127    2.228732    0.694181    0.842078    0.743135   \n",
       "min     15.000000    0.000000    0.000000    1.000000    1.000000    0.000000   \n",
       "25%     16.000000    2.000000    2.000000    1.000000    1.000000    0.000000   \n",
       "50%     17.000000    3.000000    2.000000    1.000000    2.000000    0.000000   \n",
       "75%     18.000000    4.000000    3.000000    2.000000    2.000000    0.000000   \n",
       "max     22.000000    4.000000   40.000000    4.000000    4.000000    3.000000   \n",
       "\n",
       "       studytime, granular      famrel    freetime       goout      health  \\\n",
       "count           388.000000  368.000000  384.000000  387.000000  380.000000   \n",
       "mean             -6.115979    3.937500    3.231771    3.105943    3.531579   \n",
       "std               2.526235    0.927277    0.993940    1.115896    1.396019   \n",
       "min             -12.000000   -1.000000    1.000000    1.000000    1.000000   \n",
       "25%              -6.000000    4.000000    3.000000    2.000000    3.000000   \n",
       "50%              -6.000000    4.000000    3.000000    3.000000    4.000000   \n",
       "75%              -3.000000    5.000000    4.000000    4.000000    5.000000   \n",
       "max              -3.000000    5.000000    5.000000    5.000000    5.000000   \n",
       "\n",
       "         absences       score  \n",
       "count  383.000000  389.000000  \n",
       "mean     7.279373   52.262211  \n",
       "std     23.465197   22.919022  \n",
       "min      0.000000    0.000000  \n",
       "25%      0.000000   40.000000  \n",
       "50%      4.000000   55.000000  \n",
       "75%      8.000000   70.000000  \n",
       "max    385.000000  100.000000  "
      ]
     },
     "execution_count": 5,
     "metadata": {},
     "output_type": "execute_result"
    }
   ],
   "source": [
    "# посмотрим на числовые параметры\n",
    "raw_data.describe()"
   ]
  },
  {
   "cell_type": "markdown",
   "id": "5a074d16",
   "metadata": {},
   "source": [
    "- в столбце Fedu есть значение выше описанного диапазона 0-4\n",
    "- в столбце famrel есть значение ниже диапазона 1-5\n",
    "- в столбце absences есть подозрительно большое значение"
   ]
  },
  {
   "cell_type": "code",
   "execution_count": 6,
   "id": "5ef86ee8",
   "metadata": {
    "ExecuteTime": {
     "end_time": "2021-09-28T15:46:05.356678Z",
     "start_time": "2021-09-28T15:46:05.294806Z"
    }
   },
   "outputs": [
    {
     "data": {
      "text/html": [
       "<div>\n",
       "<style scoped>\n",
       "    .dataframe tbody tr th:only-of-type {\n",
       "        vertical-align: middle;\n",
       "    }\n",
       "\n",
       "    .dataframe tbody tr th {\n",
       "        vertical-align: top;\n",
       "    }\n",
       "\n",
       "    .dataframe thead th {\n",
       "        text-align: right;\n",
       "    }\n",
       "</style>\n",
       "<table border=\"1\" class=\"dataframe\">\n",
       "  <thead>\n",
       "    <tr style=\"text-align: right;\">\n",
       "      <th></th>\n",
       "      <th>school</th>\n",
       "      <th>sex</th>\n",
       "      <th>address</th>\n",
       "      <th>famsize</th>\n",
       "      <th>Pstatus</th>\n",
       "      <th>Mjob</th>\n",
       "      <th>Fjob</th>\n",
       "      <th>reason</th>\n",
       "      <th>guardian</th>\n",
       "      <th>schoolsup</th>\n",
       "      <th>famsup</th>\n",
       "      <th>paid</th>\n",
       "      <th>activities</th>\n",
       "      <th>nursery</th>\n",
       "      <th>higher</th>\n",
       "      <th>internet</th>\n",
       "      <th>romantic</th>\n",
       "    </tr>\n",
       "  </thead>\n",
       "  <tbody>\n",
       "    <tr>\n",
       "      <th>count</th>\n",
       "      <td>395</td>\n",
       "      <td>395</td>\n",
       "      <td>378</td>\n",
       "      <td>368</td>\n",
       "      <td>350</td>\n",
       "      <td>376</td>\n",
       "      <td>359</td>\n",
       "      <td>378</td>\n",
       "      <td>364</td>\n",
       "      <td>386</td>\n",
       "      <td>356</td>\n",
       "      <td>355</td>\n",
       "      <td>381</td>\n",
       "      <td>379</td>\n",
       "      <td>375</td>\n",
       "      <td>361</td>\n",
       "      <td>364</td>\n",
       "    </tr>\n",
       "    <tr>\n",
       "      <th>unique</th>\n",
       "      <td>2</td>\n",
       "      <td>2</td>\n",
       "      <td>2</td>\n",
       "      <td>2</td>\n",
       "      <td>2</td>\n",
       "      <td>5</td>\n",
       "      <td>5</td>\n",
       "      <td>4</td>\n",
       "      <td>3</td>\n",
       "      <td>2</td>\n",
       "      <td>2</td>\n",
       "      <td>2</td>\n",
       "      <td>2</td>\n",
       "      <td>2</td>\n",
       "      <td>2</td>\n",
       "      <td>2</td>\n",
       "      <td>2</td>\n",
       "    </tr>\n",
       "    <tr>\n",
       "      <th>top</th>\n",
       "      <td>GP</td>\n",
       "      <td>F</td>\n",
       "      <td>U</td>\n",
       "      <td>GT3</td>\n",
       "      <td>T</td>\n",
       "      <td>other</td>\n",
       "      <td>other</td>\n",
       "      <td>course</td>\n",
       "      <td>mother</td>\n",
       "      <td>no</td>\n",
       "      <td>yes</td>\n",
       "      <td>no</td>\n",
       "      <td>yes</td>\n",
       "      <td>yes</td>\n",
       "      <td>yes</td>\n",
       "      <td>yes</td>\n",
       "      <td>no</td>\n",
       "    </tr>\n",
       "    <tr>\n",
       "      <th>freq</th>\n",
       "      <td>349</td>\n",
       "      <td>208</td>\n",
       "      <td>295</td>\n",
       "      <td>261</td>\n",
       "      <td>314</td>\n",
       "      <td>133</td>\n",
       "      <td>197</td>\n",
       "      <td>137</td>\n",
       "      <td>250</td>\n",
       "      <td>335</td>\n",
       "      <td>219</td>\n",
       "      <td>200</td>\n",
       "      <td>195</td>\n",
       "      <td>300</td>\n",
       "      <td>356</td>\n",
       "      <td>305</td>\n",
       "      <td>240</td>\n",
       "    </tr>\n",
       "  </tbody>\n",
       "</table>\n",
       "</div>"
      ],
      "text/plain": [
       "       school  sex address famsize Pstatus   Mjob   Fjob  reason guardian  \\\n",
       "count     395  395     378     368     350    376    359     378      364   \n",
       "unique      2    2       2       2       2      5      5       4        3   \n",
       "top        GP    F       U     GT3       T  other  other  course   mother   \n",
       "freq      349  208     295     261     314    133    197     137      250   \n",
       "\n",
       "       schoolsup famsup paid activities nursery higher internet romantic  \n",
       "count        386    356  355        381     379    375      361      364  \n",
       "unique         2      2    2          2       2      2        2        2  \n",
       "top           no    yes   no        yes     yes    yes      yes       no  \n",
       "freq         335    219  200        195     300    356      305      240  "
      ]
     },
     "execution_count": 6,
     "metadata": {},
     "output_type": "execute_result"
    }
   ],
   "source": [
    "# посмотрим на нечисловые параметры\n",
    "raw_data.describe(include='object')"
   ]
  },
  {
   "cell_type": "markdown",
   "id": "774b2047",
   "metadata": {},
   "source": [
    "- видно что по параметрам очень мало уникальных значений\n",
    "- параметры school, sex, address, famsize, Pstatus, Mjob, Fjob, guardian категоризируем\n",
    "- параметры schoolsup, famsup, paid, activities, nursery, higher, internet, romantic сделаем целыми со значениями 1 и 0"
   ]
  },
  {
   "cell_type": "code",
   "execution_count": 7,
   "id": "403cddfa",
   "metadata": {
    "ExecuteTime": {
     "end_time": "2021-09-28T15:46:05.372609Z",
     "start_time": "2021-09-28T15:46:05.358637Z"
    },
    "scrolled": true
   },
   "outputs": [
    {
     "data": {
      "text/plain": [
       "298"
      ]
     },
     "execution_count": 7,
     "metadata": {},
     "output_type": "execute_result"
    }
   ],
   "source": [
    "# посмотрим сколько строк с неполными данными\n",
    "raw_data[raw_data.isna().max(axis=1)].shape[0]"
   ]
  },
  {
   "cell_type": "markdown",
   "id": "fc3244c4",
   "metadata": {},
   "source": [
    "3/4 строк имеют какие-либо пропуски. Будем не выкидывать данные, а заполнять пропуски. Постараемся минимально искажать данные."
   ]
  },
  {
   "cell_type": "code",
   "execution_count": 8,
   "id": "54c5bb7a",
   "metadata": {
    "ExecuteTime": {
     "end_time": "2021-09-28T15:46:05.388556Z",
     "start_time": "2021-09-28T15:46:05.376587Z"
    }
   },
   "outputs": [],
   "source": [
    "# копируем сырые данные, удаляя непонятный столбец\n",
    "data = raw_data.drop(columns='studytime, granular')"
   ]
  },
  {
   "cell_type": "code",
   "execution_count": 9,
   "id": "17fe4b60",
   "metadata": {
    "ExecuteTime": {
     "end_time": "2021-09-28T15:46:05.404413Z",
     "start_time": "2021-09-28T15:46:05.392545Z"
    }
   },
   "outputs": [],
   "source": [
    "# делаем читабельные названия столбцов\n",
    "columns_to_rename = {\n",
    "    'famsize': 'family_size',\n",
    "    'Pstatus': 'parents_live',\n",
    "    'Medu': 'mother_education',\n",
    "    'Fedu': 'father_education',\n",
    "    'Mjob': 'mother_job',\n",
    "    'Fjob': 'father_job',\n",
    "    'schoolsup': 'education_support',\n",
    "    'famsup': 'family_support',\n",
    "    'paid': 'math_paid_lessons',\n",
    "    'nursery': 'kindergarten',\n",
    "    'famrel': 'family_relations',\n",
    "    'goout': 'friends_time'\n",
    "}\n",
    "data.rename(columns=columns_to_rename, inplace=True)"
   ]
  },
  {
   "cell_type": "code",
   "execution_count": 10,
   "id": "3ea4c9ae",
   "metadata": {
    "ExecuteTime": {
     "end_time": "2021-09-28T15:46:05.419491Z",
     "start_time": "2021-09-28T15:46:05.406407Z"
    }
   },
   "outputs": [
    {
     "data": {
      "text/plain": [
       "2.0     106\n",
       "3.0      96\n",
       "4.0      88\n",
       "1.0      78\n",
       "0.0       2\n",
       "40.0      1\n",
       "Name: father_education, dtype: int64"
      ]
     },
     "execution_count": 10,
     "metadata": {},
     "output_type": "execute_result"
    }
   ],
   "source": [
    "# посмотрим что в father_education выходит за предел\n",
    "data['father_education'].value_counts()"
   ]
  },
  {
   "cell_type": "code",
   "execution_count": 11,
   "id": "995db4cc",
   "metadata": {
    "ExecuteTime": {
     "end_time": "2021-09-28T15:46:05.435457Z",
     "start_time": "2021-09-28T15:46:05.422484Z"
    }
   },
   "outputs": [],
   "source": [
    "# есть одно значение 40, будем считать, что это опечатка и должно быть 4\n",
    "data['father_education'].replace(40, 4, inplace = True)"
   ]
  },
  {
   "cell_type": "code",
   "execution_count": 12,
   "id": "3a8b2664",
   "metadata": {
    "ExecuteTime": {
     "end_time": "2021-09-28T15:46:05.450488Z",
     "start_time": "2021-09-28T15:46:05.437444Z"
    }
   },
   "outputs": [
    {
     "data": {
      "text/plain": [
       " 4.0    182\n",
       " 5.0     99\n",
       " 3.0     62\n",
       " 2.0     17\n",
       " 1.0      7\n",
       "-1.0      1\n",
       "Name: family_relations, dtype: int64"
      ]
     },
     "execution_count": 12,
     "metadata": {},
     "output_type": "execute_result"
    }
   ],
   "source": [
    "# посмотрим что в family_relations выходит за предел\n",
    "data['family_relations'].value_counts()"
   ]
  },
  {
   "cell_type": "code",
   "execution_count": 13,
   "id": "b92c797d",
   "metadata": {
    "ExecuteTime": {
     "end_time": "2021-09-28T15:46:05.466401Z",
     "start_time": "2021-09-28T15:46:05.452404Z"
    }
   },
   "outputs": [],
   "source": [
    "# есть одно значение -1, будем считать, что это опечатка и должно быть 1\n",
    "data['family_relations'].replace(-1, 1, inplace = True)"
   ]
  },
  {
   "cell_type": "code",
   "execution_count": 14,
   "id": "a41eb7d1",
   "metadata": {
    "ExecuteTime": {
     "end_time": "2021-09-28T15:46:05.695648Z",
     "start_time": "2021-09-28T15:46:05.468361Z"
    }
   },
   "outputs": [
    {
     "data": {
      "text/plain": [
       "54.0       1\n",
       "40.0       1\n",
       "38.0       1\n",
       "56.0       1\n",
       "23.0       1\n",
       "24.0       1\n",
       "25.0       1\n",
       "385.0      1\n",
       "75.0       1\n",
       "21.0       1\n",
       "212.0      1\n",
       "28.0       1\n",
       "19.0       1\n",
       "26.0       1\n",
       "17.0       1\n",
       "30.0       1\n",
       "15.0       2\n",
       "11.0       2\n",
       "13.0       2\n",
       "22.0       3\n",
       "9.0        3\n",
       "1.0        3\n",
       "20.0       4\n",
       "5.0        5\n",
       "18.0       5\n",
       "7.0        6\n",
       "16.0       7\n",
       "3.0        8\n",
       "12.0      12\n",
       "14.0      12\n",
       "10.0      17\n",
       "8.0       21\n",
       "6.0       31\n",
       "4.0       53\n",
       "2.0       60\n",
       "0.0      111\n",
       "Name: absences, dtype: int64"
      ]
     },
     "execution_count": 14,
     "metadata": {},
     "output_type": "execute_result"
    },
    {
     "data": {
      "image/png": "[encoded data removed]",
      "text/plain": [
       "<Figure size 432x288 with 1 Axes>"
      ]
     },
     "metadata": {
      "needs_background": "light"
     },
     "output_type": "display_data"
    }
   ],
   "source": [
    "# посмотрим что в absences по распределению\n",
    "data['absences'][data['absences'] < 100].hist()\n",
    "data['absences'].value_counts().sort_values()"
   ]
  },
  {
   "cell_type": "code",
   "execution_count": 15,
   "id": "a0fd7c27",
   "metadata": {
    "ExecuteTime": {
     "end_time": "2021-09-28T15:46:05.710574Z",
     "start_time": "2021-09-28T15:46:05.697613Z"
    }
   },
   "outputs": [],
   "source": [
    "# есть два явных выброса - 212 и 385\n",
    "# предположим, что это опечатки и должно быть 21 и 38\n",
    "data['absences'].replace(212, 21, inplace = True)\n",
    "data['absences'].replace(385, 38, inplace = True)\n",
    "# остальные значения, в принципе, возможны"
   ]
  },
  {
   "cell_type": "code",
   "execution_count": 16,
   "id": "e0959de3",
   "metadata": {
    "ExecuteTime": {
     "end_time": "2021-09-28T15:46:05.867187Z",
     "start_time": "2021-09-28T15:46:05.713573Z"
    },
    "scrolled": true
   },
   "outputs": [
    {
     "name": "stdout",
     "output_type": "stream",
     "text": [
      "6\n"
     ]
    },
    {
     "data": {
      "text/plain": [
       "<AxesSubplot:>"
      ]
     },
     "execution_count": 16,
     "metadata": {},
     "output_type": "execute_result"
    },
    {
     "data": {
      "image/png": "[encoded data removed]",
      "text/plain": [
       "<Figure size 432x288 with 1 Axes>"
      ]
     },
     "metadata": {
      "needs_background": "light"
     },
     "output_type": "display_data"
    }
   ],
   "source": [
    "# посмотрим, что с целевым результатом\n",
    "print(data['score'].isna().sum())\n",
    "data['score'].hist()"
   ]
  },
  {
   "cell_type": "markdown",
   "id": "d8dcaf51",
   "metadata": {},
   "source": [
    "- среди записей есть почти 40 значений 0, похоже, что это не сдающие экзамен\n",
    "- есть 6 записей с пропущенными значениями, для безопасности заменим их нулями"
   ]
  },
  {
   "cell_type": "code",
   "execution_count": 17,
   "id": "35f801f1",
   "metadata": {
    "ExecuteTime": {
     "end_time": "2021-09-28T15:46:05.882137Z",
     "start_time": "2021-09-28T15:46:05.869186Z"
    }
   },
   "outputs": [],
   "source": [
    "data['score'] = data['score'].fillna(0)"
   ]
  },
  {
   "cell_type": "code",
   "execution_count": 18,
   "id": "146a32f9",
   "metadata": {
    "ExecuteTime": {
     "end_time": "2021-09-28T15:46:05.897089Z",
     "start_time": "2021-09-28T15:46:05.885107Z"
    }
   },
   "outputs": [],
   "source": [
    "# разбираемся с NaN в численных столбцах\n",
    "numeric_columns = list(data.select_dtypes(include=['integer', 'float']).columns)\n",
    "# в столбце age пропусков нет\n",
    "# остальные столбцы заполним медианными значениями\n",
    "for i_column in numeric_columns:\n",
    "    data[i_column] = data[i_column].fillna(data[i_column].median())"
   ]
  },
  {
   "cell_type": "code",
   "execution_count": 19,
   "id": "31ed0669",
   "metadata": {
    "ExecuteTime": {
     "end_time": "2021-09-28T15:46:05.928267Z",
     "start_time": "2021-09-28T15:46:05.899072Z"
    }
   },
   "outputs": [
    {
     "name": "stdout",
     "output_type": "stream",
     "text": [
      "['age', 'mother_education', 'father_education', 'traveltime', 'studytime', 'failures', 'family_relations', 'freetime', 'friends_time', 'health', 'absences', 'score']\n"
     ]
    }
   ],
   "source": [
    "# в нашем датасете все числовые столбцы можно перевести в unsigned int\n",
    "numeric_columns = list(data.select_dtypes(include=['integer', 'float']).columns)\n",
    "print(numeric_columns)\n",
    "data[numeric_columns] = data[numeric_columns].apply(pd.to_numeric, downcast='unsigned')"
   ]
  },
  {
   "cell_type": "code",
   "execution_count": null,
   "id": "4b3de5a1",
   "metadata": {
    "ExecuteTime": {
     "end_time": "2021-09-28T12:27:19.482282Z",
     "start_time": "2021-09-28T12:27:19.455326Z"
    }
   },
   "outputs": [],
   "source": []
  },
  {
   "cell_type": "code",
   "execution_count": 20,
   "id": "a12132c2",
   "metadata": {
    "ExecuteTime": {
     "end_time": "2021-09-28T15:46:05.960111Z",
     "start_time": "2021-09-28T15:46:05.930221Z"
    }
   },
   "outputs": [],
   "source": [
    "# заполним пропуски (модой) и категоризируем выбранные параметры\n",
    "category_columns = ['school', 'sex', 'address', 'family_size',\n",
    "                    'parents_live', 'mother_job', 'father_job', 'reason', 'guardian']\n",
    "# заполним пропуски в данных самыми популярными ответами\n",
    "for i_column in category_columns:\n",
    "    data[i_column] = data[i_column].fillna(data[i_column].mode()[0])\n",
    "data[category_columns] = data[category_columns].astype('category')"
   ]
  },
  {
   "cell_type": "code",
   "execution_count": 21,
   "id": "97024f5d",
   "metadata": {
    "ExecuteTime": {
     "end_time": "2021-09-28T15:46:06.005741Z",
     "start_time": "2021-09-28T15:46:05.961117Z"
    }
   },
   "outputs": [],
   "source": [
    "# заполним пропуски (модой) и логические параметры (yes/no) приведем к типу (1/0)\n",
    "boolean_columns = ['education_support', 'family_support', 'math_paid_lessons',\n",
    "                   'activities', 'kindergarten', 'higher', 'internet', 'romantic']\n",
    "for i_column in boolean_columns:\n",
    "    data[i_column] = data[i_column].fillna(data[i_column].mode()[0])\n",
    "data[boolean_columns].describe()\n",
    "data[boolean_columns] = data[boolean_columns].replace({'yes': '1', 'no': '0'})\n",
    "data[boolean_columns] = data[boolean_columns].apply(pd.to_numeric, downcast='unsigned')"
   ]
  },
  {
   "cell_type": "code",
   "execution_count": 22,
   "id": "339cb1f1",
   "metadata": {
    "ExecuteTime": {
     "end_time": "2021-09-28T15:46:06.037770Z",
     "start_time": "2021-09-28T15:46:06.006786Z"
    },
    "scrolled": true
   },
   "outputs": [
    {
     "name": "stdout",
     "output_type": "stream",
     "text": [
      "<class 'pandas.core.frame.DataFrame'>\n",
      "RangeIndex: 395 entries, 0 to 394\n",
      "Data columns (total 29 columns):\n",
      " #   Column             Non-Null Count  Dtype   \n",
      "---  ------             --------------  -----   \n",
      " 0   school             395 non-null    category\n",
      " 1   sex                395 non-null    category\n",
      " 2   age                395 non-null    uint8   \n",
      " 3   address            395 non-null    category\n",
      " 4   family_size        395 non-null    category\n",
      " 5   parents_live       395 non-null    category\n",
      " 6   mother_education   395 non-null    uint8   \n",
      " 7   father_education   395 non-null    uint8   \n",
      " 8   mother_job         395 non-null    category\n",
      " 9   father_job         395 non-null    category\n",
      " 10  reason             395 non-null    category\n",
      " 11  guardian           395 non-null    category\n",
      " 12  traveltime         395 non-null    uint8   \n",
      " 13  studytime          395 non-null    uint8   \n",
      " 14  failures           395 non-null    uint8   \n",
      " 15  education_support  395 non-null    uint8   \n",
      " 16  family_support     395 non-null    uint8   \n",
      " 17  math_paid_lessons  395 non-null    uint8   \n",
      " 18  activities         395 non-null    uint8   \n",
      " 19  kindergarten       395 non-null    uint8   \n",
      " 20  higher             395 non-null    uint8   \n",
      " 21  internet           395 non-null    uint8   \n",
      " 22  romantic           395 non-null    uint8   \n",
      " 23  family_relations   395 non-null    uint8   \n",
      " 24  freetime           395 non-null    uint8   \n",
      " 25  friends_time       395 non-null    uint8   \n",
      " 26  health             395 non-null    uint8   \n",
      " 27  absences           395 non-null    uint8   \n",
      " 28  score              395 non-null    uint8   \n",
      "dtypes: category(9), uint8(20)\n",
      "memory usage: 14.1 KB\n"
     ]
    }
   ],
   "source": [
    "data.info(memory_usage='deep')"
   ]
  },
  {
   "cell_type": "markdown",
   "id": "293fad6b",
   "metadata": {},
   "source": [
    "- пропуски заполнили\n",
    "- типы привели к численным и категориальным"
   ]
  },
  {
   "cell_type": "code",
   "execution_count": 23,
   "id": "d3fc5d05",
   "metadata": {
    "ExecuteTime": {
     "end_time": "2021-09-28T15:46:06.069004Z",
     "start_time": "2021-09-28T15:46:06.040732Z"
    },
    "scrolled": true
   },
   "outputs": [
    {
     "name": "stdout",
     "output_type": "stream",
     "text": [
      "                                    pairs      corr\n",
      "19   (mother_education, father_education)  0.593116\n",
      "98                      (failures, score)  0.347599\n",
      "180              (freetime, friends_time)  0.292305\n",
      "39           (father_education, failures)  0.260690\n",
      "90                     (failures, higher)  0.259995\n",
      "5                (age, education_support)  0.251811\n",
      "22           (mother_education, failures)  0.245110\n",
      "112   (family_support, math_paid_lessons)  0.237031\n",
      "36              (mother_education, score)  0.233064\n",
      "4                         (age, failures)  0.228081\n"
     ]
    }
   ],
   "source": [
    "# посмотрим что с корреляцией параметров друг с другом\n",
    "data_corr = data.corr()\n",
    "pair_list = list(itertools.combinations(data_corr, 2)) # список всех пар параметров\n",
    "corr_list = pd.DataFrame([[(i, j), abs(data_corr.loc[i, j])] for i, j in pair_list], columns=['pairs', 'corr'])\n",
    "print(corr_list.sort_values(by='corr', ascending=False).head(10))"
   ]
  },
  {
   "cell_type": "markdown",
   "id": "cb173cf3",
   "metadata": {},
   "source": [
    "- средняя корреляция mother_education, father_education (0,5 < corr < 0,7)\n",
    "- слабая корреляция количества failures, score (0,3 < corr < 0,5)\n",
    "- остальные корреляции очень слабые (< 0,3)"
   ]
  },
  {
   "cell_type": "code",
   "execution_count": 24,
   "id": "9fdf199a",
   "metadata": {
    "ExecuteTime": {
     "end_time": "2021-09-28T15:46:06.084094Z",
     "start_time": "2021-09-28T15:46:06.071005Z"
    }
   },
   "outputs": [
    {
     "data": {
      "text/plain": [
       "score                1.000000\n",
       "failures             0.347599\n",
       "mother_education     0.233064\n",
       "age                  0.186365\n",
       "higher               0.169416\n",
       "friends_time         0.144434\n",
       "father_education     0.139851\n",
       "romantic             0.119536\n",
       "studytime            0.104641\n",
       "education_support    0.102346\n",
       "math_paid_lessons    0.096106\n",
       "health               0.073093\n",
       "traveltime           0.066719\n",
       "kindergarten         0.057934\n",
       "internet             0.056048\n",
       "absences             0.046341\n",
       "family_relations     0.035811\n",
       "activities           0.004968\n",
       "family_support       0.004771\n",
       "freetime             0.001568\n",
       "Name: score, dtype: float64"
      ]
     },
     "execution_count": 24,
     "metadata": {},
     "output_type": "execute_result"
    }
   ],
   "source": [
    "# посмотрим что с корреляцией численных параметров и результата\n",
    "data_corr['score'].abs().sort_values(ascending=False)"
   ]
  },
  {
   "cell_type": "markdown",
   "id": "245be878",
   "metadata": {
    "ExecuteTime": {
     "end_time": "2021-09-28T15:20:45.246695Z",
     "start_time": "2021-09-28T15:20:45.240711Z"
    }
   },
   "source": [
    "- очень слабо коррелируют freetime, family_support, activities\n",
    "- видно, что mother_education и father_education коррелируют по-разному"
   ]
  },
  {
   "cell_type": "code",
   "execution_count": 39,
   "id": "99d70dd5",
   "metadata": {
    "ExecuteTime": {
     "end_time": "2021-09-28T15:52:54.806096Z",
     "start_time": "2021-09-28T15:52:54.793126Z"
    }
   },
   "outputs": [],
   "source": [
    "# вывод ящика с усами для score при разных признаках\n",
    "def show_boxplot(column):\n",
    "    fig, ax = plt.subplots(figsize=(14, 4))\n",
    "    sns.boxplot(x=column, y='score', ax=ax, data=data)\n",
    "    plt.xticks(rotation=45)\n",
    "    ax.set_title('Boxplot for ' + column)\n",
    "    plt.show()"
   ]
  },
  {
   "cell_type": "code",
   "execution_count": 40,
   "id": "764285cd",
   "metadata": {
    "ExecuteTime": {
     "end_time": "2021-09-28T15:52:58.780838Z",
     "start_time": "2021-09-28T15:52:57.402360Z"
    }
   },
   "outputs": [
    {
     "data": {
      "image/png": "[encoded data removed]",
      "text/plain": [
       "<Figure size 1008x288 with 1 Axes>"
      ]
     },
     "metadata": {
      "needs_background": "light"
     },
     "output_type": "display_data"
    },
    {
     "data": {
      "image/png": "[encoded data removed]",
      "text/plain": [
       "<Figure size 1008x288 with 1 Axes>"
      ]
     },
     "metadata": {
      "needs_background": "light"
     },
     "output_type": "display_data"
    },
    {
     "data": {
      "image/png": "[encoded data removed]",
      "text/plain": [
       "<Figure size 1008x288 with 1 Axes>"
      ]
     },
     "metadata": {
      "needs_background": "light"
     },
     "output_type": "display_data"
    },
    {
     "data": {
      "image/png": "[encoded data removed]",
      "text/plain": [
       "<Figure size 1008x288 with 1 Axes>"
      ]
     },
     "metadata": {
      "needs_background": "light"
     },
     "output_type": "display_data"
    },
    {
     "data": {
      "image/png": "[encoded data removed]",
      "text/plain": [
       "<Figure size 1008x288 with 1 Axes>"
      ]
     },
     "metadata": {
      "needs_background": "light"
     },
     "output_type": "display_data"
    },
    {
     "data": {
      "image/png": "[encoded data removed]",
      "text/plain": [
       "<Figure size 1008x288 with 1 Axes>"
      ]
     },
     "metadata": {
      "needs_background": "light"
     },
     "output_type": "display_data"
    },
    {
     "data": {
      "image/png": "[encoded data removed]",
      "text/plain": [
       "<Figure size 1008x288 with 1 Axes>"
      ]
     },
     "metadata": {
      "needs_background": "light"
     },
     "output_type": "display_data"
    },
    {
     "data": {
      "image/png": "[encoded data removed]",
      "text/plain": [
       "<Figure size 1008x288 with 1 Axes>"
      ]
     },
     "metadata": {
      "needs_background": "light"
     },
     "output_type": "display_data"
    },
    {
     "data": {
      "image/png": "[encoded data removed]",
      "text/plain": [
       "<Figure size 1008x288 with 1 Axes>"
      ]
     },
     "metadata": {
      "needs_background": "light"
     },
     "output_type": "display_data"
    }
   ],
   "source": [
    "# посмотрим что для категорийных признаков\n",
    "for i_column in category_columns:\n",
    "    show_boxplot(i_column)"
   ]
  },
  {
   "cell_type": "code",
   "execution_count": 41,
   "id": "1066e794",
   "metadata": {
    "ExecuteTime": {
     "end_time": "2021-09-28T15:58:49.812218Z",
     "start_time": "2021-09-28T15:58:48.702119Z"
    }
   },
   "outputs": [
    {
     "data": {
      "image/png": "[encoded data removed]",
      "text/plain": [
       "<Figure size 1008x288 with 1 Axes>"
      ]
     },
     "metadata": {
      "needs_background": "light"
     },
     "output_type": "display_data"
    },
    {
     "data": {
      "image/png": "[encoded data removed]",
      "text/plain": [
       "<Figure size 1008x288 with 1 Axes>"
      ]
     },
     "metadata": {
      "needs_background": "light"
     },
     "output_type": "display_data"
    },
    {
     "data": {
      "image/png": "[encoded data removed]",
      "text/plain": [
       "<Figure size 1008x288 with 1 Axes>"
      ]
     },
     "metadata": {
      "needs_background": "light"
     },
     "output_type": "display_data"
    },
    {
     "data": {
      "image/png": "[encoded data removed]",
      "text/plain": [
       "<Figure size 1008x288 with 1 Axes>"
      ]
     },
     "metadata": {
      "needs_background": "light"
     },
     "output_type": "display_data"
    },
    {
     "data": {
      "image/png": "[encoded data removed]",
      "text/plain": [
       "<Figure size 1008x288 with 1 Axes>"
      ]
     },
     "metadata": {
      "needs_background": "light"
     },
     "output_type": "display_data"
    },
    {
     "data": {
      "image/png": "[encoded data removed]",
      "text/plain": [
       "<Figure size 1008x288 with 1 Axes>"
      ]
     },
     "metadata": {
      "needs_background": "light"
     },
     "output_type": "display_data"
    },
    {
     "data": {
      "image/png": "[encoded data removed]",
      "text/plain": [
       "<Figure size 1008x288 with 1 Axes>"
      ]
     },
     "metadata": {
      "needs_background": "light"
     },
     "output_type": "display_data"
    },
    {
     "data": {
      "image/png": "[encoded data removed]",
      "text/plain": [
       "<Figure size 1008x288 with 1 Axes>"
      ]
     },
     "metadata": {
      "needs_background": "light"
     },
     "output_type": "display_data"
    }
   ],
   "source": [
    "# и для логических признаков\n",
    "for i_column in boolean_columns:\n",
    "    show_boxplot(i_column)"
   ]
  },
  {
   "cell_type": "markdown",
   "id": "0e98a03e",
   "metadata": {},
   "source": [
    "на внешний вид нет однозначно не влияющих признаков"
   ]
  },
  {
   "cell_type": "code",
   "execution_count": 69,
   "id": "9bb86096",
   "metadata": {
    "ExecuteTime": {
     "end_time": "2021-09-28T16:26:39.077868Z",
     "start_time": "2021-09-28T16:26:39.066865Z"
    }
   },
   "outputs": [],
   "source": [
    "# тест Стьюдента на различные признаки\n",
    "# H0 - распределение по признаку неразличимо\n",
    "# HA - распределение по признаку различимо\n",
    "# уровень значимости 5%\n",
    "def get_stat_dif(column):\n",
    "    pairs_all = list(itertools.combinations(\n",
    "        data[column].value_counts().index, 2))\n",
    "    for pair in pairs_all:\n",
    "        #         print(pair)\n",
    "        #         print(data.loc[data.loc[:, column] == pair[0], 'score'])\n",
    "        p_value = ttest_ind(data.loc[data[column] == pair[0], 'score'],\n",
    "                            data.loc[data[column] == pair[1], 'score']).pvalue\n",
    "        if p_value <= 0.05 / len(pairs_all):  # Учли поправку Бонферони\n",
    "            print('Найдены статистически значимые различия для колонки', column)\n",
    "            break"
   ]
  },
  {
   "cell_type": "code",
   "execution_count": 70,
   "id": "869e76b8",
   "metadata": {
    "ExecuteTime": {
     "end_time": "2021-09-28T16:26:41.007533Z",
     "start_time": "2021-09-28T16:26:40.986558Z"
    }
   },
   "outputs": [],
   "source": [
    "get_stat_dif(category_columns[0])"
   ]
  },
  {
   "cell_type": "code",
   "execution_count": 71,
   "id": "cfb04575",
   "metadata": {
    "ExecuteTime": {
     "end_time": "2021-09-28T16:26:41.774655Z",
     "start_time": "2021-09-28T16:26:41.720742Z"
    }
   },
   "outputs": [
    {
     "name": "stdout",
     "output_type": "stream",
     "text": [
      "Найдены статистически значимые различия для колонки sex\n",
      "Найдены статистически значимые различия для колонки address\n",
      "Найдены статистически значимые различия для колонки mother_job\n",
      "Найдены статистически значимые различия для колонки guardian\n"
     ]
    }
   ],
   "source": [
    "# посмотрим что для категорийных признаков\n",
    "for i_column in category_columns:\n",
    "    get_stat_dif(i_column)"
   ]
  },
  {
   "cell_type": "code",
   "execution_count": 72,
   "id": "074fd9c2",
   "metadata": {
    "ExecuteTime": {
     "end_time": "2021-09-28T16:26:43.476700Z",
     "start_time": "2021-09-28T16:26:43.439596Z"
    }
   },
   "outputs": [
    {
     "name": "stdout",
     "output_type": "stream",
     "text": [
      "Найдены статистически значимые различия для колонки education_support\n",
      "Найдены статистически значимые различия для колонки higher\n",
      "Найдены статистически значимые различия для колонки romantic\n"
     ]
    }
   ],
   "source": [
    "# посмотрим что для логических признаков\n",
    "for i_column in boolean_columns:\n",
    "    get_stat_dif(i_column)"
   ]
  },
  {
   "cell_type": "code",
   "execution_count": null,
   "id": "c8048abf",
   "metadata": {},
   "outputs": [],
   "source": []
  }
 ],
 "metadata": {
  "kernelspec": {
   "display_name": "Python 3",
   "language": "python",
   "name": "python3"
  },
  "language_info": {
   "codemirror_mode": {
    "name": "ipython",
    "version": 3
   },
   "file_extension": ".py",
   "mimetype": "text/x-python",
   "name": "python",
   "nbconvert_exporter": "python",
   "pygments_lexer": "ipython3",
   "version": "3.8.8"
  }
 },
 "nbformat": 4,
 "nbformat_minor": 5
}
