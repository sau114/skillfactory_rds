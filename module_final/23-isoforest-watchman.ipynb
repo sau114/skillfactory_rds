{
 "cells": [
  {
   "cell_type": "code",
   "execution_count": 1,
   "id": "2b2ce1b4",
   "metadata": {
    "ExecuteTime": {
     "end_time": "2022-09-15T11:49:25.574715Z",
     "start_time": "2022-09-15T11:49:25.530560Z"
    }
   },
   "outputs": [],
   "source": [
    "!del /Q utils\\__pycache__"
   ]
  },
  {
   "cell_type": "code",
   "execution_count": 2,
   "id": "e079cd6f",
   "metadata": {
    "ExecuteTime": {
     "end_time": "2022-09-15T11:49:26.478924Z",
     "start_time": "2022-09-15T11:49:25.577992Z"
    }
   },
   "outputs": [],
   "source": [
    "import pandas as pd\n",
    "from tqdm.notebook import tqdm"
   ]
  },
  {
   "cell_type": "code",
   "execution_count": 3,
   "id": "7e87a04e",
   "metadata": {
    "ExecuteTime": {
     "end_time": "2022-09-15T11:49:31.985045Z",
     "start_time": "2022-09-15T11:49:26.480921Z"
    }
   },
   "outputs": [],
   "source": [
    "from utils.datasets import GhlKasperskyDataset, TepHarvardDataset, TepKasperskyDataset\n",
    "from utils.watchmen import IsoForestWatchman\n",
    "from utils.metrics import time_span_metrics\n",
    "from utils.custom_plots import plot_stacked"
   ]
  },
  {
   "cell_type": "markdown",
   "id": "5dd7567c",
   "metadata": {},
   "source": [
    "## GHL"
   ]
  },
  {
   "cell_type": "code",
   "execution_count": 4,
   "id": "deee08ee",
   "metadata": {
    "ExecuteTime": {
     "end_time": "2022-09-15T11:49:32.000359Z",
     "start_time": "2022-09-15T11:49:31.988107Z"
    }
   },
   "outputs": [],
   "source": [
    "ds = GhlKasperskyDataset()\n",
    "ds.shake_not_stir(random_state=84)"
   ]
  },
  {
   "cell_type": "code",
   "execution_count": 5,
   "id": "c4b93514",
   "metadata": {
    "ExecuteTime": {
     "end_time": "2022-09-15T11:49:32.015995Z",
     "start_time": "2022-09-15T11:49:32.004984Z"
    }
   },
   "outputs": [],
   "source": [
    "watchman = IsoForestWatchman(generate_features=False, random_state=31)"
   ]
  },
  {
   "cell_type": "code",
   "execution_count": 6,
   "id": "b774f778",
   "metadata": {
    "ExecuteTime": {
     "end_time": "2022-09-15T11:49:32.139737Z",
     "start_time": "2022-09-15T11:49:32.018982Z"
    }
   },
   "outputs": [
    {
     "data": {
      "application/vnd.jupyter.widget-view+json": {
       "model_id": "285375e0e24b41bb935e12e473a85797",
       "version_major": 2,
       "version_minor": 0
      },
      "text/plain": [
       "  0%|          | 0/1 [00:00<?, ?it/s]"
      ]
     },
     "metadata": {},
     "output_type": "display_data"
    }
   ],
   "source": [
    "train_gen = ds.train_generator()\n",
    "for train, _, _ in tqdm(train_gen):\n",
    "    watchman.prefit(train)"
   ]
  },
  {
   "cell_type": "code",
   "execution_count": 7,
   "id": "e6927a59",
   "metadata": {
    "ExecuteTime": {
     "end_time": "2022-09-15T11:49:32.405832Z",
     "start_time": "2022-09-15T11:49:32.142135Z"
    }
   },
   "outputs": [
    {
     "data": {
      "application/vnd.jupyter.widget-view+json": {
       "model_id": "31f9a1976b4e48cc821f6208a8aafe19",
       "version_major": 2,
       "version_minor": 0
      },
      "text/plain": [
       "  0%|          | 0/1 [00:00<?, ?it/s]"
      ]
     },
     "metadata": {},
     "output_type": "display_data"
    }
   ],
   "source": [
    "train_gen = ds.train_generator()\n",
    "for train, _, _ in tqdm(train_gen):\n",
    "    watchman.fit(train)"
   ]
  },
  {
   "cell_type": "code",
   "execution_count": 8,
   "id": "36eaaa2a",
   "metadata": {
    "ExecuteTime": {
     "end_time": "2022-09-15T11:49:32.890482Z",
     "start_time": "2022-09-15T11:49:32.408678Z"
    }
   },
   "outputs": [
    {
     "data": {
      "application/vnd.jupyter.widget-view+json": {
       "model_id": "7872309ecce541a2abfe01ae8782194f",
       "version_major": 2,
       "version_minor": 0
      },
      "text/plain": [
       "  0%|          | 0/1 [00:00<?, ?it/s]"
      ]
     },
     "metadata": {},
     "output_type": "display_data"
    }
   ],
   "source": [
    "train_gen = ds.train_generator()\n",
    "for train, _, _ in tqdm(train_gen):\n",
    "    watchman.postfit(train)"
   ]
  },
  {
   "cell_type": "code",
   "execution_count": 9,
   "id": "a4142a63",
   "metadata": {
    "ExecuteTime": {
     "end_time": "2022-09-15T11:49:33.358922Z",
     "start_time": "2022-09-15T11:49:32.896677Z"
    }
   },
   "outputs": [
    {
     "data": {
      "application/vnd.jupyter.widget-view+json": {
       "model_id": "37eef847269047d59cf69d0c62231bb3",
       "version_major": 2,
       "version_minor": 0
      },
      "text/plain": [
       "  0%|          | 0/1 [00:00<?, ?it/s]"
      ]
     },
     "metadata": {},
     "output_type": "display_data"
    }
   ],
   "source": [
    "train_gen = ds.train_generator()\n",
    "examine_list = pd.DataFrame(columns=['precision', 'recall', 'f1_score'], dtype='float')\n",
    "for train, faults, info in tqdm(train_gen):\n",
    "    detect = watchman.predict(train)\n",
    "    examine_list.loc[info] = time_span_metrics(faults, detect)"
   ]
  },
  {
   "cell_type": "code",
   "execution_count": 10,
   "id": "b616ce58",
   "metadata": {
    "ExecuteTime": {
     "end_time": "2022-09-15T11:49:34.414547Z",
     "start_time": "2022-09-15T11:49:33.361706Z"
    }
   },
   "outputs": [
    {
     "data": {
      "application/vnd.jupyter.widget-view+json": {
       "model_id": "7ab6fcdef3f14cd29f813a4256f25242",
       "version_major": 2,
       "version_minor": 0
      },
      "text/plain": [
       "  0%|          | 0/14 [00:00<?, ?it/s]"
      ]
     },
     "metadata": {},
     "output_type": "display_data"
    }
   ],
   "source": [
    "valid_gen = ds.valid_generator()\n",
    "examine_list = pd.DataFrame(columns=['precision', 'recall', 'f1_score'], dtype='float')\n",
    "for valid, faults, info in tqdm(valid_gen):\n",
    "    detect = watchman.predict(valid)\n",
    "    examine_list.loc[info] = time_span_metrics(faults, detect)\n",
    "#     if max(faults) and sum(detect)>10:\n",
    "#         print(watchman.forest.score_samples(valid))\n",
    "#         print(min(watchman.forest.score_samples(valid)))\n",
    "#         print(detect.values)\n",
    "#         break\n",
    "\n",
    "#         plot_stacked(data,\n",
    "#                      title=info,\n",
    "#                      group='value_unit',\n",
    "#                      faults=faults,\n",
    "#                      detect=detect,\n",
    "#                     )"
   ]
  },
  {
   "cell_type": "code",
   "execution_count": 11,
   "id": "5cb472d8",
   "metadata": {
    "ExecuteTime": {
     "end_time": "2022-09-15T11:49:34.446147Z",
     "start_time": "2022-09-15T11:49:34.416467Z"
    },
    "scrolled": true
   },
   "outputs": [
    {
     "data": {
      "text/plain": [
       "precision    0.166667\n",
       "recall       0.023810\n",
       "f1_score     0.028571\n",
       "dtype: float64"
      ]
     },
     "execution_count": 11,
     "metadata": {},
     "output_type": "execute_result"
    }
   ],
   "source": [
    "examine_list.mean()"
   ]
  },
  {
   "cell_type": "markdown",
   "id": "aa910a2a",
   "metadata": {},
   "source": [
    "## TEP Harvard"
   ]
  },
  {
   "cell_type": "code",
   "execution_count": 12,
   "id": "978c6f5e",
   "metadata": {
    "ExecuteTime": {
     "end_time": "2022-09-15T11:49:34.538383Z",
     "start_time": "2022-09-15T11:49:34.449055Z"
    }
   },
   "outputs": [],
   "source": [
    "ds = TepHarvardDataset()\n",
    "ds.shake_not_stir()"
   ]
  },
  {
   "cell_type": "code",
   "execution_count": 13,
   "id": "24524a27",
   "metadata": {
    "ExecuteTime": {
     "end_time": "2022-09-15T11:49:34.554464Z",
     "start_time": "2022-09-15T11:49:34.541349Z"
    }
   },
   "outputs": [],
   "source": [
    "watchman = IsoForestWatchman(generate_features=False, random_state=31)"
   ]
  },
  {
   "cell_type": "code",
   "execution_count": 14,
   "id": "bd9cc32c",
   "metadata": {
    "ExecuteTime": {
     "end_time": "2022-09-15T11:49:40.492866Z",
     "start_time": "2022-09-15T11:49:34.558321Z"
    }
   },
   "outputs": [
    {
     "data": {
      "application/vnd.jupyter.widget-view+json": {
       "model_id": "d90430a7b3834c35a891202fe3c2176f",
       "version_major": 2,
       "version_minor": 0
      },
      "text/plain": [
       "  0%|          | 0/500 [00:00<?, ?it/s]"
      ]
     },
     "metadata": {},
     "output_type": "display_data"
    }
   ],
   "source": [
    "train_gen = ds.train_generator()\n",
    "for train, _, _ in tqdm(train_gen):\n",
    "    watchman.prefit(train)"
   ]
  },
  {
   "cell_type": "code",
   "execution_count": 15,
   "id": "8192572b",
   "metadata": {
    "ExecuteTime": {
     "end_time": "2022-09-15T11:49:47.959904Z",
     "start_time": "2022-09-15T11:49:40.495878Z"
    }
   },
   "outputs": [
    {
     "data": {
      "application/vnd.jupyter.widget-view+json": {
       "model_id": "c26a89d00a1c40719034925aa985403f",
       "version_major": 2,
       "version_minor": 0
      },
      "text/plain": [
       "  0%|          | 0/500 [00:00<?, ?it/s]"
      ]
     },
     "metadata": {},
     "output_type": "display_data"
    }
   ],
   "source": [
    "train_gen = ds.train_generator()\n",
    "for train, _, _ in tqdm(train_gen):\n",
    "    watchman.fit(train)"
   ]
  },
  {
   "cell_type": "code",
   "execution_count": 16,
   "id": "1c8be4c0",
   "metadata": {
    "ExecuteTime": {
     "end_time": "2022-09-15T11:52:22.540414Z",
     "start_time": "2022-09-15T11:49:47.962833Z"
    }
   },
   "outputs": [
    {
     "data": {
      "application/vnd.jupyter.widget-view+json": {
       "model_id": "2410852bbe1e4a27bff73399fea93fba",
       "version_major": 2,
       "version_minor": 0
      },
      "text/plain": [
       "  0%|          | 0/500 [00:00<?, ?it/s]"
      ]
     },
     "metadata": {},
     "output_type": "display_data"
    }
   ],
   "source": [
    "train_gen = ds.train_generator()\n",
    "for train, _, _ in tqdm(train_gen):\n",
    "    watchman.postfit(train)"
   ]
  },
  {
   "cell_type": "code",
   "execution_count": 17,
   "id": "323701de",
   "metadata": {
    "ExecuteTime": {
     "end_time": "2022-09-15T12:08:33.795971Z",
     "start_time": "2022-09-15T11:52:22.544024Z"
    }
   },
   "outputs": [
    {
     "data": {
      "application/vnd.jupyter.widget-view+json": {
       "model_id": "289ae4d7e4dc4546bfa3dbaf525607f5",
       "version_major": 2,
       "version_minor": 0
      },
      "text/plain": [
       "  0%|          | 0/3150 [00:00<?, ?it/s]"
      ]
     },
     "metadata": {},
     "output_type": "display_data"
    }
   ],
   "source": [
    "valid_gen = ds.valid_generator()\n",
    "examine_list = pd.DataFrame(columns=['precision', 'recall', 'f1_score'], dtype='float')\n",
    "for valid, faults, info in tqdm(valid_gen):\n",
    "    detect = watchman.predict(valid)\n",
    "    examine_list.loc[info] = time_span_metrics(faults, detect)\n",
    "#     if max(faults) and sum(detect)>10:\n",
    "#         print(watchman.forest.score_samples(valid)<-0.5)\n",
    "#         print(min(watchman.forest.score_samples(valid)))\n",
    "#         print(detect.values)\n",
    "#         break\n",
    "#     if max(faults) and max(detect):\n",
    "#         plot_stacked(data,\n",
    "#                      title=info,\n",
    "#                      group='value_unit',\n",
    "#                      faults=faults,\n",
    "#                      detect=detect,\n",
    "#                     )"
   ]
  },
  {
   "cell_type": "code",
   "execution_count": 18,
   "id": "43ac4a7a",
   "metadata": {
    "ExecuteTime": {
     "end_time": "2022-09-15T12:08:33.811998Z",
     "start_time": "2022-09-15T12:08:33.797876Z"
    }
   },
   "outputs": [
    {
     "data": {
      "text/plain": [
       "precision    1.000000\n",
       "recall       0.302123\n",
       "f1_score     0.348135\n",
       "dtype: float64"
      ]
     },
     "execution_count": 18,
     "metadata": {},
     "output_type": "execute_result"
    }
   ],
   "source": [
    "examine_list.mean()"
   ]
  },
  {
   "cell_type": "markdown",
   "id": "4647b7c5",
   "metadata": {},
   "source": [
    "## TEP Kaspersky"
   ]
  },
  {
   "cell_type": "code",
   "execution_count": 19,
   "id": "f5f09aec",
   "metadata": {
    "ExecuteTime": {
     "end_time": "2022-09-15T12:08:34.012473Z",
     "start_time": "2022-09-15T12:08:33.815446Z"
    }
   },
   "outputs": [],
   "source": [
    "ds = TepKasperskyDataset()\n",
    "ds.shake_not_stir()"
   ]
  },
  {
   "cell_type": "code",
   "execution_count": 20,
   "id": "d28b8f53",
   "metadata": {
    "ExecuteTime": {
     "end_time": "2022-09-15T12:08:34.027485Z",
     "start_time": "2022-09-15T12:08:34.015414Z"
    }
   },
   "outputs": [],
   "source": [
    "watchman = IsoForestWatchman(random_state=31)"
   ]
  },
  {
   "cell_type": "code",
   "execution_count": 21,
   "id": "6efcbb94",
   "metadata": {
    "ExecuteTime": {
     "end_time": "2022-09-15T12:08:41.909057Z",
     "start_time": "2022-09-15T12:08:34.030395Z"
    },
    "scrolled": true
   },
   "outputs": [
    {
     "data": {
      "application/vnd.jupyter.widget-view+json": {
       "model_id": "6e5f1dc1f02645d59064b803001f9229",
       "version_major": 2,
       "version_minor": 0
      },
      "text/plain": [
       "  0%|          | 0/400 [00:00<?, ?it/s]"
      ]
     },
     "metadata": {},
     "output_type": "display_data"
    }
   ],
   "source": [
    "train_gen = ds.train_generator()\n",
    "for train, _, _ in tqdm(train_gen):\n",
    "    watchman.prefit(train)"
   ]
  },
  {
   "cell_type": "code",
   "execution_count": 22,
   "id": "ab5ddcba",
   "metadata": {
    "ExecuteTime": {
     "end_time": "2022-09-15T12:11:02.355157Z",
     "start_time": "2022-09-15T12:08:41.912064Z"
    }
   },
   "outputs": [
    {
     "data": {
      "application/vnd.jupyter.widget-view+json": {
       "model_id": "706d7d3162d949d498fd0da4a758f934",
       "version_major": 2,
       "version_minor": 0
      },
      "text/plain": [
       "  0%|          | 0/400 [00:00<?, ?it/s]"
      ]
     },
     "metadata": {},
     "output_type": "display_data"
    }
   ],
   "source": [
    "train_gen = ds.train_generator()\n",
    "for train, _, _ in tqdm(train_gen):\n",
    "    watchman.fit(train)"
   ]
  },
  {
   "cell_type": "code",
   "execution_count": 23,
   "id": "290e7894",
   "metadata": {
    "ExecuteTime": {
     "end_time": "2022-09-15T12:54:21.244575Z",
     "start_time": "2022-09-15T12:11:02.357982Z"
    }
   },
   "outputs": [
    {
     "data": {
      "application/vnd.jupyter.widget-view+json": {
       "model_id": "e1b5ccdc1ceb469c9a1c3ff6a9710465",
       "version_major": 2,
       "version_minor": 0
      },
      "text/plain": [
       "  0%|          | 0/400 [00:00<?, ?it/s]"
      ]
     },
     "metadata": {},
     "output_type": "display_data"
    }
   ],
   "source": [
    "train_gen = ds.train_generator()\n",
    "for train, _, _ in tqdm(train_gen):\n",
    "    watchman.postfit(train)"
   ]
  },
  {
   "cell_type": "code",
   "execution_count": 25,
   "id": "82132a94",
   "metadata": {
    "ExecuteTime": {
     "end_time": "2022-09-15T13:36:00.088635Z",
     "start_time": "2022-09-15T12:58:27.312227Z"
    }
   },
   "outputs": [
    {
     "data": {
      "application/vnd.jupyter.widget-view+json": {
       "model_id": "8b82f03bd83a4e3085d3c54b7160adb3",
       "version_major": 2,
       "version_minor": 0
      },
      "text/plain": [
       "  0%|          | 0/146 [00:00<?, ?it/s]"
      ]
     },
     "metadata": {},
     "output_type": "display_data"
    }
   ],
   "source": [
    "valid_gen = ds.valid_generator()\n",
    "examine_list = pd.DataFrame(columns=['precision', 'recall', 'f1_score'], dtype='float')\n",
    "for valid, faults, info in tqdm(valid_gen):\n",
    "    detect = watchman.predict(valid)\n",
    "    examine_list.loc[info] = time_span_metrics(faults, detect)\n",
    "#     if max(faults) and max(detect):\n",
    "#         plot_stacked(data,\n",
    "#                      title=info,\n",
    "#                      group='value_unit',\n",
    "#                      faults=faults,\n",
    "#                      detect=detect,\n",
    "#                     )"
   ]
  },
  {
   "cell_type": "code",
   "execution_count": 26,
   "id": "496878cb",
   "metadata": {
    "ExecuteTime": {
     "end_time": "2022-09-15T13:36:00.119115Z",
     "start_time": "2022-09-15T13:36:00.092800Z"
    },
    "scrolled": true
   },
   "outputs": [
    {
     "data": {
      "text/plain": [
       "precision    NaN\n",
       "recall       0.0\n",
       "f1_score     0.0\n",
       "dtype: float64"
      ]
     },
     "execution_count": 26,
     "metadata": {},
     "output_type": "execute_result"
    }
   ],
   "source": [
    "examine_list.mean()"
   ]
  },
  {
   "cell_type": "code",
   "execution_count": null,
   "id": "bf6fb8f7",
   "metadata": {},
   "outputs": [],
   "source": []
  }
 ],
 "metadata": {
  "kernelspec": {
   "display_name": "Python 3 (ipykernel)",
   "language": "python",
   "name": "python3"
  },
  "language_info": {
   "codemirror_mode": {
    "name": "ipython",
    "version": 3
   },
   "file_extension": ".py",
   "mimetype": "text/x-python",
   "name": "python",
   "nbconvert_exporter": "python",
   "pygments_lexer": "ipython3",
   "version": "3.8.8"
  },
  "toc": {
   "base_numbering": 1,
   "nav_menu": {},
   "number_sections": true,
   "sideBar": true,
   "skip_h1_title": false,
   "title_cell": "Table of Contents",
   "title_sidebar": "Contents",
   "toc_cell": false,
   "toc_position": {},
   "toc_section_display": true,
   "toc_window_display": false
  }
 },
 "nbformat": 4,
 "nbformat_minor": 5
}
