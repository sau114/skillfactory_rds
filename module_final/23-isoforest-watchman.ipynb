{
 "cells": [
  {
   "cell_type": "code",
   "execution_count": 1,
   "id": "2b2ce1b4",
   "metadata": {
    "ExecuteTime": {
     "end_time": "2022-09-09T11:36:16.968265Z",
     "start_time": "2022-09-09T11:36:16.923974Z"
    }
   },
   "outputs": [],
   "source": [
    "!del /Q utils\\__pycache__"
   ]
  },
  {
   "cell_type": "code",
   "execution_count": 2,
   "id": "e079cd6f",
   "metadata": {
    "ExecuteTime": {
     "end_time": "2022-09-09T11:36:17.806990Z",
     "start_time": "2022-09-09T11:36:16.971138Z"
    }
   },
   "outputs": [],
   "source": [
    "import pandas as pd\n",
    "from tqdm.notebook import tqdm"
   ]
  },
  {
   "cell_type": "code",
   "execution_count": 3,
   "id": "7e87a04e",
   "metadata": {
    "ExecuteTime": {
     "end_time": "2022-09-09T11:36:19.972428Z",
     "start_time": "2022-09-09T11:36:17.809904Z"
    }
   },
   "outputs": [],
   "source": [
    "from utils.datasets import GhlKasperskyDataset, TepHarvardDataset, TepKasperskyDataset\n",
    "from utils.watchmen import IsoForestWatchman\n",
    "from utils.metrics import time_span_metrics\n",
    "from utils.custom_plots import plot_stacked"
   ]
  },
  {
   "cell_type": "markdown",
   "id": "5dd7567c",
   "metadata": {},
   "source": [
    "## GHL"
   ]
  },
  {
   "cell_type": "code",
   "execution_count": 4,
   "id": "deee08ee",
   "metadata": {
    "ExecuteTime": {
     "end_time": "2022-09-09T11:36:19.987971Z",
     "start_time": "2022-09-09T11:36:19.974332Z"
    }
   },
   "outputs": [],
   "source": [
    "ds = GhlKasperskyDataset()\n",
    "ds.shake_not_stir(random_state=84)"
   ]
  },
  {
   "cell_type": "code",
   "execution_count": 5,
   "id": "c4b93514",
   "metadata": {
    "ExecuteTime": {
     "end_time": "2022-09-09T11:36:20.003204Z",
     "start_time": "2022-09-09T11:36:19.990036Z"
    }
   },
   "outputs": [],
   "source": [
    "watchman = IsoForestWatchman(random_state=31)"
   ]
  },
  {
   "cell_type": "code",
   "execution_count": 6,
   "id": "e6927a59",
   "metadata": {
    "ExecuteTime": {
     "end_time": "2022-09-09T11:36:20.440338Z",
     "start_time": "2022-09-09T11:36:20.006158Z"
    }
   },
   "outputs": [
    {
     "data": {
      "application/vnd.jupyter.widget-view+json": {
       "model_id": "bec0f550ac024842976bdfe94f04bcde",
       "version_major": 2,
       "version_minor": 0
      },
      "text/plain": [
       "  0%|          | 0/1 [00:00<?, ?it/s]"
      ]
     },
     "metadata": {},
     "output_type": "display_data"
    }
   ],
   "source": [
    "train_gen = ds.train_generator()\n",
    "for train, _, _ in tqdm(train_gen):\n",
    "#     print(train.index[-1] - train.index[0])\n",
    "    watchman.partial_fit(train)"
   ]
  },
  {
   "cell_type": "code",
   "execution_count": 7,
   "id": "b616ce58",
   "metadata": {
    "ExecuteTime": {
     "end_time": "2022-09-09T11:36:22.320706Z",
     "start_time": "2022-09-09T11:36:20.442214Z"
    }
   },
   "outputs": [
    {
     "data": {
      "application/vnd.jupyter.widget-view+json": {
       "model_id": "80db3f8bed8043cc8159723be91c311c",
       "version_major": 2,
       "version_minor": 0
      },
      "text/plain": [
       "  0%|          | 0/14 [00:00<?, ?it/s]"
      ]
     },
     "metadata": {},
     "output_type": "display_data"
    }
   ],
   "source": [
    "valid_gen = ds.valid_generator()\n",
    "examine_list = pd.DataFrame(columns=['precision', 'recall', 'f1_score'], dtype='float')\n",
    "for valid, faults, info in tqdm(valid_gen):\n",
    "    detect = watchman.predict(valid)\n",
    "    examine_list.loc[info] = time_span_metrics(faults, detect)\n",
    "#     if max(faults) and sum(detect)>10:\n",
    "#         print(watchman.forest.score_samples(valid))\n",
    "#         print(min(watchman.forest.score_samples(valid)))\n",
    "#         print(detect.values)\n",
    "#         break\n",
    "\n",
    "#         plot_stacked(data,\n",
    "#                      title=info,\n",
    "#                      group='value_unit',\n",
    "#                      faults=faults,\n",
    "#                      detect=detect,\n",
    "#                     )"
   ]
  },
  {
   "cell_type": "code",
   "execution_count": 8,
   "id": "5cb472d8",
   "metadata": {
    "ExecuteTime": {
     "end_time": "2022-09-09T11:36:22.351591Z",
     "start_time": "2022-09-09T11:36:22.323027Z"
    },
    "scrolled": true
   },
   "outputs": [
    {
     "data": {
      "text/plain": [
       "precision    0.025550\n",
       "recall       0.827381\n",
       "f1_score     0.049391\n",
       "dtype: float64"
      ]
     },
     "execution_count": 8,
     "metadata": {},
     "output_type": "execute_result"
    }
   ],
   "source": [
    "examine_list.mean()"
   ]
  },
  {
   "cell_type": "markdown",
   "id": "aa910a2a",
   "metadata": {},
   "source": [
    "## TEP Harvard"
   ]
  },
  {
   "cell_type": "code",
   "execution_count": 9,
   "id": "978c6f5e",
   "metadata": {
    "ExecuteTime": {
     "end_time": "2022-09-09T11:36:22.460883Z",
     "start_time": "2022-09-09T11:36:22.356604Z"
    }
   },
   "outputs": [],
   "source": [
    "ds = TepHarvardDataset()\n",
    "ds.shake_not_stir()"
   ]
  },
  {
   "cell_type": "code",
   "execution_count": 10,
   "id": "24524a27",
   "metadata": {
    "ExecuteTime": {
     "end_time": "2022-09-09T11:36:22.476915Z",
     "start_time": "2022-09-09T11:36:22.462807Z"
    }
   },
   "outputs": [],
   "source": [
    "watchman = IsoForestWatchman(random_state=31)"
   ]
  },
  {
   "cell_type": "code",
   "execution_count": 11,
   "id": "8192572b",
   "metadata": {
    "ExecuteTime": {
     "end_time": "2022-09-09T11:36:31.131149Z",
     "start_time": "2022-09-09T11:36:22.479859Z"
    }
   },
   "outputs": [
    {
     "data": {
      "application/vnd.jupyter.widget-view+json": {
       "model_id": "efbf7a36d92b4bf6a23a9bb45fc7f06c",
       "version_major": 2,
       "version_minor": 0
      },
      "text/plain": [
       "  0%|          | 0/500 [00:00<?, ?it/s]"
      ]
     },
     "metadata": {},
     "output_type": "display_data"
    },
    {
     "ename": "KeyboardInterrupt",
     "evalue": "",
     "output_type": "error",
     "traceback": [
      "\u001b[1;31m---------------------------------------------------------------------------\u001b[0m",
      "\u001b[1;31mKeyboardInterrupt\u001b[0m                         Traceback (most recent call last)",
      "Input \u001b[1;32mIn [11]\u001b[0m, in \u001b[0;36m<cell line: 2>\u001b[1;34m()\u001b[0m\n\u001b[0;32m      1\u001b[0m train_gen \u001b[38;5;241m=\u001b[39m ds\u001b[38;5;241m.\u001b[39mtrain_generator()\n\u001b[0;32m      2\u001b[0m \u001b[38;5;28;01mfor\u001b[39;00m train, _, _ \u001b[38;5;129;01min\u001b[39;00m tqdm(train_gen):\n\u001b[1;32m----> 3\u001b[0m     \u001b[43mwatchman\u001b[49m\u001b[38;5;241;43m.\u001b[39;49m\u001b[43mpartial_fit\u001b[49m\u001b[43m(\u001b[49m\u001b[43mtrain\u001b[49m\u001b[43m)\u001b[49m\n",
      "File \u001b[1;32m~\\Data_science\\skillfactory_rds\\module_final\\utils\\watchmen.py:78\u001b[0m, in \u001b[0;36mWatchman.partial_fit\u001b[1;34m(self, data_batch, **kwargs)\u001b[0m\n\u001b[0;32m     73\u001b[0m \u001b[38;5;28;01mdef\u001b[39;00m \u001b[38;5;21mpartial_fit\u001b[39m(\u001b[38;5;28mself\u001b[39m,\n\u001b[0;32m     74\u001b[0m                 data_batch: pd\u001b[38;5;241m.\u001b[39mDataFrame,\n\u001b[0;32m     75\u001b[0m                 \u001b[38;5;241m*\u001b[39m\u001b[38;5;241m*\u001b[39mkwargs,\n\u001b[0;32m     76\u001b[0m                 ) \u001b[38;5;241m-\u001b[39m\u001b[38;5;241m>\u001b[39m \u001b[38;5;28;01mNone\u001b[39;00m:\n\u001b[0;32m     77\u001b[0m     \u001b[38;5;28mself\u001b[39m\u001b[38;5;241m.\u001b[39m_check_compliance(data_batch)\n\u001b[1;32m---> 78\u001b[0m     \u001b[38;5;28;43mself\u001b[39;49m\u001b[38;5;241;43m.\u001b[39;49m\u001b[43m_partial_fit\u001b[49m\u001b[43m(\u001b[49m\u001b[43mdata_batch\u001b[49m\u001b[43m,\u001b[49m\u001b[43m \u001b[49m\u001b[38;5;241;43m*\u001b[39;49m\u001b[38;5;241;43m*\u001b[39;49m\u001b[43mkwargs\u001b[49m\u001b[43m)\u001b[49m\n\u001b[0;32m     79\u001b[0m     \u001b[38;5;28;01mreturn\u001b[39;00m\n",
      "File \u001b[1;32m~\\Data_science\\skillfactory_rds\\module_final\\utils\\watchmen.py:295\u001b[0m, in \u001b[0;36mIsoForestWatchman._partial_fit\u001b[1;34m(self, data, **kwargs)\u001b[0m\n\u001b[0;32m    290\u001b[0m \u001b[38;5;28;01mdef\u001b[39;00m \u001b[38;5;21m_partial_fit\u001b[39m(\u001b[38;5;28mself\u001b[39m,\n\u001b[0;32m    291\u001b[0m                  data: pd\u001b[38;5;241m.\u001b[39mDataFrame,\n\u001b[0;32m    292\u001b[0m                  \u001b[38;5;241m*\u001b[39m\u001b[38;5;241m*\u001b[39mkwargs,\n\u001b[0;32m    293\u001b[0m                  ) \u001b[38;5;241m-\u001b[39m\u001b[38;5;241m>\u001b[39m \u001b[38;5;28;01mNone\u001b[39;00m:\n\u001b[0;32m    294\u001b[0m     \u001b[38;5;28;01mif\u001b[39;00m \u001b[38;5;28mself\u001b[39m\u001b[38;5;241m.\u001b[39mgenerate_features:\n\u001b[1;32m--> 295\u001b[0m         data \u001b[38;5;241m=\u001b[39m pd\u001b[38;5;241m.\u001b[39mconcat([data, \u001b[38;5;28;43mself\u001b[39;49m\u001b[38;5;241;43m.\u001b[39;49m\u001b[43m_generate_features\u001b[49m\u001b[43m(\u001b[49m\u001b[43mdata\u001b[49m\u001b[43m)\u001b[49m], axis\u001b[38;5;241m=\u001b[39m\u001b[38;5;241m1\u001b[39m)\n\u001b[0;32m    296\u001b[0m     samples_per_tree \u001b[38;5;241m=\u001b[39m \u001b[38;5;241m256\u001b[39m  \u001b[38;5;66;03m# default number of samples per tree for Isolation Forest\u001b[39;00m\n\u001b[0;32m    297\u001b[0m     samples_per_window \u001b[38;5;241m=\u001b[39m \u001b[38;5;28mround\u001b[39m(samples_per_tree \u001b[38;5;241m/\u001b[39m \u001b[38;5;28mself\u001b[39m\u001b[38;5;241m.\u001b[39msamples_sparsity)  \u001b[38;5;66;03m# [samples_per_tree; +Inf)\u001b[39;00m\n",
      "File \u001b[1;32m~\\Data_science\\skillfactory_rds\\module_final\\utils\\watchmen.py:280\u001b[0m, in \u001b[0;36mIsoForestWatchman._generate_features\u001b[1;34m(data, window)\u001b[0m\n\u001b[0;32m    278\u001b[0m data_mean\u001b[38;5;241m.\u001b[39mcolumns \u001b[38;5;241m=\u001b[39m \u001b[38;5;124m'\u001b[39m\u001b[38;5;124mmean_\u001b[39m\u001b[38;5;124m'\u001b[39m \u001b[38;5;241m+\u001b[39m data_mean\u001b[38;5;241m.\u001b[39mcolumns\n\u001b[0;32m    279\u001b[0m \u001b[38;5;66;03m# median\u001b[39;00m\n\u001b[1;32m--> 280\u001b[0m data_median \u001b[38;5;241m=\u001b[39m \u001b[43mdata_f\u001b[49m\u001b[38;5;241;43m.\u001b[39;49m\u001b[43mrolling\u001b[49m\u001b[43m(\u001b[49m\u001b[43mwindow\u001b[49m\u001b[43m,\u001b[49m\u001b[43m \u001b[49m\u001b[43mmin_periods\u001b[49m\u001b[38;5;241;43m=\u001b[39;49m\u001b[38;5;241;43m1\u001b[39;49m\u001b[43m)\u001b[49m\u001b[38;5;241;43m.\u001b[39;49m\u001b[43mmedian\u001b[49m\u001b[43m(\u001b[49m\u001b[43m)\u001b[49m\n\u001b[0;32m    281\u001b[0m data_mean\u001b[38;5;241m.\u001b[39mcolumns \u001b[38;5;241m=\u001b[39m \u001b[38;5;124m'\u001b[39m\u001b[38;5;124mmedian_\u001b[39m\u001b[38;5;124m'\u001b[39m \u001b[38;5;241m+\u001b[39m data_mean\u001b[38;5;241m.\u001b[39mcolumns\n\u001b[0;32m    282\u001b[0m \u001b[38;5;66;03m# standard deviation\u001b[39;00m\n",
      "File \u001b[1;32m~\\anaconda3\\lib\\site-packages\\pandas\\core\\window\\rolling.py:2077\u001b[0m, in \u001b[0;36mRolling.median\u001b[1;34m(self, engine, engine_kwargs, **kwargs)\u001b[0m\n\u001b[0;32m   2041\u001b[0m \u001b[38;5;129m@doc\u001b[39m(\n\u001b[0;32m   2042\u001b[0m     template_header,\n\u001b[0;32m   2043\u001b[0m     create_section_header(\u001b[38;5;124m\"\u001b[39m\u001b[38;5;124mParameters\u001b[39m\u001b[38;5;124m\"\u001b[39m),\n\u001b[1;32m   (...)\u001b[0m\n\u001b[0;32m   2075\u001b[0m     \u001b[38;5;241m*\u001b[39m\u001b[38;5;241m*\u001b[39mkwargs,\n\u001b[0;32m   2076\u001b[0m ):\n\u001b[1;32m-> 2077\u001b[0m     \u001b[38;5;28;01mreturn\u001b[39;00m \u001b[38;5;28;43msuper\u001b[39;49m\u001b[43m(\u001b[49m\u001b[43m)\u001b[49m\u001b[38;5;241;43m.\u001b[39;49m\u001b[43mmedian\u001b[49m\u001b[43m(\u001b[49m\u001b[43mengine\u001b[49m\u001b[38;5;241;43m=\u001b[39;49m\u001b[43mengine\u001b[49m\u001b[43m,\u001b[49m\u001b[43m \u001b[49m\u001b[43mengine_kwargs\u001b[49m\u001b[38;5;241;43m=\u001b[39;49m\u001b[43mengine_kwargs\u001b[49m\u001b[43m,\u001b[49m\u001b[43m \u001b[49m\u001b[38;5;241;43m*\u001b[39;49m\u001b[38;5;241;43m*\u001b[39;49m\u001b[43mkwargs\u001b[49m\u001b[43m)\u001b[49m\n",
      "File \u001b[1;32m~\\anaconda3\\lib\\site-packages\\pandas\\core\\window\\rolling.py:1471\u001b[0m, in \u001b[0;36mRollingAndExpandingMixin.median\u001b[1;34m(self, engine, engine_kwargs, **kwargs)\u001b[0m\n\u001b[0;32m   1464\u001b[0m     \u001b[38;5;28;01mreturn\u001b[39;00m \u001b[38;5;28mself\u001b[39m\u001b[38;5;241m.\u001b[39mapply(\n\u001b[0;32m   1465\u001b[0m         func,\n\u001b[0;32m   1466\u001b[0m         raw\u001b[38;5;241m=\u001b[39m\u001b[38;5;28;01mTrue\u001b[39;00m,\n\u001b[0;32m   1467\u001b[0m         engine\u001b[38;5;241m=\u001b[39mengine,\n\u001b[0;32m   1468\u001b[0m         engine_kwargs\u001b[38;5;241m=\u001b[39mengine_kwargs,\n\u001b[0;32m   1469\u001b[0m     )\n\u001b[0;32m   1470\u001b[0m window_func \u001b[38;5;241m=\u001b[39m window_aggregations\u001b[38;5;241m.\u001b[39mroll_median_c\n\u001b[1;32m-> 1471\u001b[0m \u001b[38;5;28;01mreturn\u001b[39;00m \u001b[38;5;28;43mself\u001b[39;49m\u001b[38;5;241;43m.\u001b[39;49m\u001b[43m_apply\u001b[49m\u001b[43m(\u001b[49m\u001b[43mwindow_func\u001b[49m\u001b[43m,\u001b[49m\u001b[43m \u001b[49m\u001b[43mname\u001b[49m\u001b[38;5;241;43m=\u001b[39;49m\u001b[38;5;124;43m\"\u001b[39;49m\u001b[38;5;124;43mmedian\u001b[39;49m\u001b[38;5;124;43m\"\u001b[39;49m\u001b[43m,\u001b[49m\u001b[43m \u001b[49m\u001b[38;5;241;43m*\u001b[39;49m\u001b[38;5;241;43m*\u001b[39;49m\u001b[43mkwargs\u001b[49m\u001b[43m)\u001b[49m\n",
      "File \u001b[1;32m~\\anaconda3\\lib\\site-packages\\pandas\\core\\window\\rolling.py:590\u001b[0m, in \u001b[0;36mBaseWindow._apply\u001b[1;34m(self, func, name, numba_cache_key, numba_args, **kwargs)\u001b[0m\n\u001b[0;32m    587\u001b[0m     \u001b[38;5;28;01mreturn\u001b[39;00m result\n\u001b[0;32m    589\u001b[0m \u001b[38;5;28;01mif\u001b[39;00m \u001b[38;5;28mself\u001b[39m\u001b[38;5;241m.\u001b[39mmethod \u001b[38;5;241m==\u001b[39m \u001b[38;5;124m\"\u001b[39m\u001b[38;5;124msingle\u001b[39m\u001b[38;5;124m\"\u001b[39m:\n\u001b[1;32m--> 590\u001b[0m     \u001b[38;5;28;01mreturn\u001b[39;00m \u001b[38;5;28;43mself\u001b[39;49m\u001b[38;5;241;43m.\u001b[39;49m\u001b[43m_apply_blockwise\u001b[49m\u001b[43m(\u001b[49m\u001b[43mhomogeneous_func\u001b[49m\u001b[43m,\u001b[49m\u001b[43m \u001b[49m\u001b[43mname\u001b[49m\u001b[43m)\u001b[49m\n\u001b[0;32m    591\u001b[0m \u001b[38;5;28;01melse\u001b[39;00m:\n\u001b[0;32m    592\u001b[0m     \u001b[38;5;28;01mreturn\u001b[39;00m \u001b[38;5;28mself\u001b[39m\u001b[38;5;241m.\u001b[39m_apply_tablewise(homogeneous_func, name)\n",
      "File \u001b[1;32m~\\anaconda3\\lib\\site-packages\\pandas\\core\\window\\rolling.py:462\u001b[0m, in \u001b[0;36mBaseWindow._apply_blockwise\u001b[1;34m(self, homogeneous_func, name)\u001b[0m\n\u001b[0;32m    459\u001b[0m \u001b[38;5;28;01mfor\u001b[39;00m i, arr \u001b[38;5;129;01min\u001b[39;00m \u001b[38;5;28menumerate\u001b[39m(obj\u001b[38;5;241m.\u001b[39m_iter_column_arrays()):\n\u001b[0;32m    460\u001b[0m     \u001b[38;5;66;03m# GH#42736 operate column-wise instead of block-wise\u001b[39;00m\n\u001b[0;32m    461\u001b[0m     \u001b[38;5;28;01mtry\u001b[39;00m:\n\u001b[1;32m--> 462\u001b[0m         res \u001b[38;5;241m=\u001b[39m \u001b[43mhfunc\u001b[49m\u001b[43m(\u001b[49m\u001b[43marr\u001b[49m\u001b[43m)\u001b[49m\n\u001b[0;32m    463\u001b[0m     \u001b[38;5;28;01mexcept\u001b[39;00m (\u001b[38;5;167;01mTypeError\u001b[39;00m, \u001b[38;5;167;01mNotImplementedError\u001b[39;00m):\n\u001b[0;32m    464\u001b[0m         \u001b[38;5;28;01mpass\u001b[39;00m\n",
      "File \u001b[1;32m~\\anaconda3\\lib\\site-packages\\pandas\\core\\window\\rolling.py:452\u001b[0m, in \u001b[0;36mBaseWindow._apply_blockwise.<locals>.hfunc\u001b[1;34m(values)\u001b[0m\n\u001b[0;32m    450\u001b[0m \u001b[38;5;28;01mdef\u001b[39;00m \u001b[38;5;21mhfunc\u001b[39m(values: ArrayLike) \u001b[38;5;241m-\u001b[39m\u001b[38;5;241m>\u001b[39m ArrayLike:\n\u001b[0;32m    451\u001b[0m     values \u001b[38;5;241m=\u001b[39m \u001b[38;5;28mself\u001b[39m\u001b[38;5;241m.\u001b[39m_prep_values(values)\n\u001b[1;32m--> 452\u001b[0m     \u001b[38;5;28;01mreturn\u001b[39;00m \u001b[43mhomogeneous_func\u001b[49m\u001b[43m(\u001b[49m\u001b[43mvalues\u001b[49m\u001b[43m)\u001b[49m\n",
      "File \u001b[1;32m~\\anaconda3\\lib\\site-packages\\pandas\\core\\window\\rolling.py:582\u001b[0m, in \u001b[0;36mBaseWindow._apply.<locals>.homogeneous_func\u001b[1;34m(values)\u001b[0m\n\u001b[0;32m    579\u001b[0m     \u001b[38;5;28;01mreturn\u001b[39;00m func(x, start, end, min_periods, \u001b[38;5;241m*\u001b[39mnumba_args)\n\u001b[0;32m    581\u001b[0m \u001b[38;5;28;01mwith\u001b[39;00m np\u001b[38;5;241m.\u001b[39merrstate(\u001b[38;5;28mall\u001b[39m\u001b[38;5;241m=\u001b[39m\u001b[38;5;124m\"\u001b[39m\u001b[38;5;124mignore\u001b[39m\u001b[38;5;124m\"\u001b[39m):\n\u001b[1;32m--> 582\u001b[0m     result \u001b[38;5;241m=\u001b[39m \u001b[43mcalc\u001b[49m\u001b[43m(\u001b[49m\u001b[43mvalues\u001b[49m\u001b[43m)\u001b[49m\n\u001b[0;32m    584\u001b[0m \u001b[38;5;28;01mif\u001b[39;00m numba_cache_key \u001b[38;5;129;01mis\u001b[39;00m \u001b[38;5;129;01mnot\u001b[39;00m \u001b[38;5;28;01mNone\u001b[39;00m:\n\u001b[0;32m    585\u001b[0m     NUMBA_FUNC_CACHE[numba_cache_key] \u001b[38;5;241m=\u001b[39m func\n",
      "File \u001b[1;32m~\\anaconda3\\lib\\site-packages\\pandas\\core\\window\\rolling.py:579\u001b[0m, in \u001b[0;36mBaseWindow._apply.<locals>.homogeneous_func.<locals>.calc\u001b[1;34m(x)\u001b[0m\n\u001b[0;32m    571\u001b[0m start, end \u001b[38;5;241m=\u001b[39m window_indexer\u001b[38;5;241m.\u001b[39mget_window_bounds(\n\u001b[0;32m    572\u001b[0m     num_values\u001b[38;5;241m=\u001b[39m\u001b[38;5;28mlen\u001b[39m(x),\n\u001b[0;32m    573\u001b[0m     min_periods\u001b[38;5;241m=\u001b[39mmin_periods,\n\u001b[0;32m    574\u001b[0m     center\u001b[38;5;241m=\u001b[39m\u001b[38;5;28mself\u001b[39m\u001b[38;5;241m.\u001b[39mcenter,\n\u001b[0;32m    575\u001b[0m     closed\u001b[38;5;241m=\u001b[39m\u001b[38;5;28mself\u001b[39m\u001b[38;5;241m.\u001b[39mclosed,\n\u001b[0;32m    576\u001b[0m )\n\u001b[0;32m    577\u001b[0m \u001b[38;5;28mself\u001b[39m\u001b[38;5;241m.\u001b[39m_check_window_bounds(start, end, \u001b[38;5;28mlen\u001b[39m(x))\n\u001b[1;32m--> 579\u001b[0m \u001b[38;5;28;01mreturn\u001b[39;00m \u001b[43mfunc\u001b[49m\u001b[43m(\u001b[49m\u001b[43mx\u001b[49m\u001b[43m,\u001b[49m\u001b[43m \u001b[49m\u001b[43mstart\u001b[49m\u001b[43m,\u001b[49m\u001b[43m \u001b[49m\u001b[43mend\u001b[49m\u001b[43m,\u001b[49m\u001b[43m \u001b[49m\u001b[43mmin_periods\u001b[49m\u001b[43m,\u001b[49m\u001b[43m \u001b[49m\u001b[38;5;241;43m*\u001b[39;49m\u001b[43mnumba_args\u001b[49m\u001b[43m)\u001b[49m\n",
      "\u001b[1;31mKeyboardInterrupt\u001b[0m: "
     ]
    }
   ],
   "source": [
    "train_gen = ds.train_generator()\n",
    "for train, _, _ in tqdm(train_gen):\n",
    "    watchman.partial_fit(train)"
   ]
  },
  {
   "cell_type": "code",
   "execution_count": null,
   "id": "323701de",
   "metadata": {
    "ExecuteTime": {
     "end_time": "2022-09-09T11:36:31.136144Z",
     "start_time": "2022-09-09T11:36:31.136144Z"
    }
   },
   "outputs": [],
   "source": [
    "valid_gen = ds.valid_generator()\n",
    "examine_list = pd.DataFrame(columns=['precision', 'recall', 'f1_score'], dtype='float')\n",
    "for valid, faults, info in tqdm(valid_gen):\n",
    "    detect = watchman.predict(valid)\n",
    "    examine_list.loc[info] = time_span_metrics(faults, detect)\n",
    "#     if max(faults) and sum(detect)>10:\n",
    "#         print(watchman.forest.score_samples(valid)<-0.5)\n",
    "#         print(min(watchman.forest.score_samples(valid)))\n",
    "#         print(detect.values)\n",
    "#         break\n",
    "#     if max(faults) and max(detect):\n",
    "#         plot_stacked(data,\n",
    "#                      title=info,\n",
    "#                      group='value_unit',\n",
    "#                      faults=faults,\n",
    "#                      detect=detect,\n",
    "#                     )"
   ]
  },
  {
   "cell_type": "code",
   "execution_count": null,
   "id": "43ac4a7a",
   "metadata": {
    "ExecuteTime": {
     "end_time": "2022-09-09T11:36:31.142150Z",
     "start_time": "2022-09-09T11:36:31.142150Z"
    }
   },
   "outputs": [],
   "source": [
    "examine_list.mean()"
   ]
  },
  {
   "cell_type": "markdown",
   "id": "4647b7c5",
   "metadata": {},
   "source": [
    "## TEP Kaspersky"
   ]
  },
  {
   "cell_type": "code",
   "execution_count": null,
   "id": "f5f09aec",
   "metadata": {
    "ExecuteTime": {
     "end_time": "2022-09-09T11:36:31.146474Z",
     "start_time": "2022-09-09T11:36:31.146474Z"
    }
   },
   "outputs": [],
   "source": [
    "ds = TepKasperskyDataset()\n",
    "ds.shake_not_stir()"
   ]
  },
  {
   "cell_type": "code",
   "execution_count": null,
   "id": "d28b8f53",
   "metadata": {
    "ExecuteTime": {
     "end_time": "2022-09-09T11:36:31.151953Z",
     "start_time": "2022-09-09T11:36:31.151953Z"
    }
   },
   "outputs": [],
   "source": [
    "watchman = IsoForestWatchman(random_state=31)"
   ]
  },
  {
   "cell_type": "code",
   "execution_count": null,
   "id": "95d58e5e",
   "metadata": {
    "ExecuteTime": {
     "end_time": "2022-09-09T11:36:31.156949Z",
     "start_time": "2022-09-09T11:36:31.156949Z"
    }
   },
   "outputs": [],
   "source": [
    "watchman.forest"
   ]
  },
  {
   "cell_type": "code",
   "execution_count": null,
   "id": "ab5ddcba",
   "metadata": {
    "ExecuteTime": {
     "end_time": "2022-09-09T11:36:31.159954Z",
     "start_time": "2022-09-09T11:36:31.159954Z"
    }
   },
   "outputs": [],
   "source": [
    "train_gen = ds.train_generator()\n",
    "for train, _, _ in tqdm(train_gen):\n",
    "    watchman.partial_fit(train)"
   ]
  },
  {
   "cell_type": "code",
   "execution_count": null,
   "id": "62f4c9cf",
   "metadata": {
    "ExecuteTime": {
     "end_time": "2022-09-09T11:36:31.163952Z",
     "start_time": "2022-09-09T11:36:31.163952Z"
    }
   },
   "outputs": [],
   "source": [
    "watchman"
   ]
  },
  {
   "cell_type": "code",
   "execution_count": null,
   "id": "82132a94",
   "metadata": {
    "ExecuteTime": {
     "end_time": "2022-09-09T11:36:31.168262Z",
     "start_time": "2022-09-09T11:36:31.168262Z"
    }
   },
   "outputs": [],
   "source": [
    "valid_gen = ds.valid_generator()\n",
    "examine_list = pd.DataFrame(columns=['precision', 'recall', 'f1_score'], dtype='float')\n",
    "for valid, faults, info in tqdm(valid_gen):\n",
    "    detect = watchman.predict(valid)\n",
    "    examine_list.loc[info] = time_span_metrics(faults, detect)\n",
    "#     if max(faults) and max(detect):\n",
    "#         plot_stacked(data,\n",
    "#                      title=info,\n",
    "#                      group='value_unit',\n",
    "#                      faults=faults,\n",
    "#                      detect=detect,\n",
    "#                     )"
   ]
  },
  {
   "cell_type": "code",
   "execution_count": null,
   "id": "496878cb",
   "metadata": {
    "ExecuteTime": {
     "end_time": "2022-09-09T11:36:31.170238Z",
     "start_time": "2022-09-09T11:36:31.170238Z"
    }
   },
   "outputs": [],
   "source": [
    "examine_list.mean()"
   ]
  },
  {
   "cell_type": "code",
   "execution_count": null,
   "id": "bf6fb8f7",
   "metadata": {},
   "outputs": [],
   "source": []
  }
 ],
 "metadata": {
  "kernelspec": {
   "display_name": "Python 3 (ipykernel)",
   "language": "python",
   "name": "python3"
  },
  "language_info": {
   "codemirror_mode": {
    "name": "ipython",
    "version": 3
   },
   "file_extension": ".py",
   "mimetype": "text/x-python",
   "name": "python",
   "nbconvert_exporter": "python",
   "pygments_lexer": "ipython3",
   "version": "3.8.8"
  },
  "toc": {
   "base_numbering": 1,
   "nav_menu": {},
   "number_sections": true,
   "sideBar": true,
   "skip_h1_title": false,
   "title_cell": "Table of Contents",
   "title_sidebar": "Contents",
   "toc_cell": false,
   "toc_position": {},
   "toc_section_display": true,
   "toc_window_display": false
  }
 },
 "nbformat": 4,
 "nbformat_minor": 5
}
