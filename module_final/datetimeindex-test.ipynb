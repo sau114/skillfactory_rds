{
 "cells": [
  {
   "cell_type": "code",
   "execution_count": 1,
   "id": "bbd611ac",
   "metadata": {
    "ExecuteTime": {
     "end_time": "2022-08-12T16:07:19.147864Z",
     "start_time": "2022-08-12T16:07:18.510722Z"
    }
   },
   "outputs": [],
   "source": [
    "import pandas as pd"
   ]
  },
  {
   "cell_type": "code",
   "execution_count": 12,
   "id": "e7efe495",
   "metadata": {
    "ExecuteTime": {
     "end_time": "2022-08-11T15:25:40.719688Z",
     "start_time": "2022-08-11T15:25:40.703635Z"
    }
   },
   "outputs": [],
   "source": [
    "data = pd.read_csv('E:\\\\Datasets\\\\GHL\\\\test\\\\01_Lev_fault_Temp_corr_seed_11_vars_23.csv', index_col='time')"
   ]
  },
  {
   "cell_type": "code",
   "execution_count": 13,
   "id": "14077cea",
   "metadata": {
    "ExecuteTime": {
     "end_time": "2022-08-11T15:25:43.829231Z",
     "start_time": "2022-08-11T15:25:43.811043Z"
    }
   },
   "outputs": [],
   "source": [
    "data.index = pd.to_datetime(data.index, unit='m', origin='2022-08-01')"
   ]
  },
  {
   "cell_type": "code",
   "execution_count": 14,
   "id": "cd0cb9d8",
   "metadata": {
    "ExecuteTime": {
     "end_time": "2022-08-11T15:25:57.687614Z",
     "start_time": "2022-08-11T15:25:57.670538Z"
    }
   },
   "outputs": [],
   "source": [
    "data.index.freq = '1 min'"
   ]
  },
  {
   "cell_type": "code",
   "execution_count": 15,
   "id": "1a2d4ad2",
   "metadata": {
    "ExecuteTime": {
     "end_time": "2022-08-11T15:26:04.808111Z",
     "start_time": "2022-08-11T15:26:04.795055Z"
    }
   },
   "outputs": [
    {
     "data": {
      "text/plain": [
       "DatetimeIndex(['2022-08-01 00:00:00', '2022-08-01 00:01:00',\n",
       "               '2022-08-01 00:02:00', '2022-08-01 00:03:00',\n",
       "               '2022-08-01 00:04:00', '2022-08-01 00:05:00',\n",
       "               '2022-08-01 00:06:00', '2022-08-01 00:07:00',\n",
       "               '2022-08-01 00:08:00', '2022-08-01 00:09:00',\n",
       "               ...\n",
       "               '2022-08-03 07:24:00', '2022-08-03 07:25:00',\n",
       "               '2022-08-03 07:26:00', '2022-08-03 07:27:00',\n",
       "               '2022-08-03 07:28:00', '2022-08-03 07:29:00',\n",
       "               '2022-08-03 07:30:00', '2022-08-03 07:31:00',\n",
       "               '2022-08-03 07:32:00', '2022-08-03 07:33:00'],\n",
       "              dtype='datetime64[ns]', name='time', length=3334, freq='T')"
      ]
     },
     "execution_count": 15,
     "metadata": {},
     "output_type": "execute_result"
    }
   ],
   "source": [
    "data.index"
   ]
  },
  {
   "cell_type": "code",
   "execution_count": 3,
   "id": "2f470b4c",
   "metadata": {
    "ExecuteTime": {
     "end_time": "2022-08-12T16:07:41.417078Z",
     "start_time": "2022-08-12T16:07:41.402104Z"
    }
   },
   "outputs": [
    {
     "name": "stdout",
     "output_type": "stream",
     "text": [
      "1677-09-21 00:12:43.145224193 .. 2262-04-11 23:47:16.854775807\n"
     ]
    }
   ],
   "source": [
    "print(pd.Timestamp.min, '..', pd.Timestamp.max)"
   ]
  },
  {
   "cell_type": "code",
   "execution_count": null,
   "id": "c0ca19d3",
   "metadata": {},
   "outputs": [],
   "source": []
  }
 ],
 "metadata": {
  "kernelspec": {
   "display_name": "Python 3 (ipykernel)",
   "language": "python",
   "name": "python3"
  },
  "language_info": {
   "codemirror_mode": {
    "name": "ipython",
    "version": 3
   },
   "file_extension": ".py",
   "mimetype": "text/x-python",
   "name": "python",
   "nbconvert_exporter": "python",
   "pygments_lexer": "ipython3",
   "version": "3.8.8"
  },
  "toc": {
   "base_numbering": 1,
   "nav_menu": {},
   "number_sections": true,
   "sideBar": true,
   "skip_h1_title": false,
   "title_cell": "Table of Contents",
   "title_sidebar": "Contents",
   "toc_cell": false,
   "toc_position": {},
   "toc_section_display": true,
   "toc_window_display": false
  }
 },
 "nbformat": 4,
 "nbformat_minor": 5
}
