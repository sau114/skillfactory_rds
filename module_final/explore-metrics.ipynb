{
 "cells": [
  {
   "cell_type": "code",
   "execution_count": 1,
   "id": "a177c9f5",
   "metadata": {
    "ExecuteTime": {
     "end_time": "2022-08-20T13:09:20.144853Z",
     "start_time": "2022-08-20T13:09:20.101842Z"
    }
   },
   "outputs": [],
   "source": [
    "!del /Q utils\\__pycache__"
   ]
  },
  {
   "cell_type": "code",
   "execution_count": 2,
   "id": "b4ebf26e",
   "metadata": {
    "ExecuteTime": {
     "end_time": "2022-08-20T13:09:20.849573Z",
     "start_time": "2022-08-20T13:09:20.146852Z"
    }
   },
   "outputs": [],
   "source": [
    "import pandas as pd"
   ]
  },
  {
   "cell_type": "code",
   "execution_count": 3,
   "id": "b146bc1e",
   "metadata": {
    "ExecuteTime": {
     "end_time": "2022-08-20T13:09:21.522625Z",
     "start_time": "2022-08-20T13:09:20.852116Z"
    }
   },
   "outputs": [],
   "source": [
    "from sklearn.metrics import precision_score, recall_score, f1_score"
   ]
  },
  {
   "cell_type": "code",
   "execution_count": 4,
   "id": "8e63d42e",
   "metadata": {
    "ExecuteTime": {
     "end_time": "2022-08-20T13:09:21.538452Z",
     "start_time": "2022-08-20T13:09:21.522945Z"
    }
   },
   "outputs": [],
   "source": [
    "zd = 'warn'\n",
    "avg = 'binary'"
   ]
  },
  {
   "cell_type": "code",
   "execution_count": 5,
   "id": "d2ec9f4d",
   "metadata": {
    "ExecuteTime": {
     "end_time": "2022-08-20T13:09:21.554403Z",
     "start_time": "2022-08-20T13:09:21.541969Z"
    }
   },
   "outputs": [],
   "source": [
    "y_true = pd.Series(data=[1, 1, 1,  1, 0, 0,  0, 0, 0])\n",
    "y_pred = pd.Series(data=[0, 0, 0,  1, 1, 1,  1, 0, 0])\n",
    "\n",
    "y_true.index = y_pred.index = pd.date_range(\"2022-08-01T12:00:00\", periods=y_true.shape[0], freq=\"5T\")"
   ]
  },
  {
   "cell_type": "code",
   "execution_count": 6,
   "id": "48582f47",
   "metadata": {
    "ExecuteTime": {
     "end_time": "2022-08-20T13:09:21.586324Z",
     "start_time": "2022-08-20T13:09:21.556326Z"
    }
   },
   "outputs": [
    {
     "data": {
      "text/plain": [
       "0.25"
      ]
     },
     "execution_count": 6,
     "metadata": {},
     "output_type": "execute_result"
    }
   ],
   "source": [
    "precision_score(y_true, y_pred, zero_division=zd, average=avg)"
   ]
  },
  {
   "cell_type": "code",
   "execution_count": 7,
   "id": "4b466dec",
   "metadata": {
    "ExecuteTime": {
     "end_time": "2022-08-20T13:09:21.602323Z",
     "start_time": "2022-08-20T13:09:21.588329Z"
    }
   },
   "outputs": [
    {
     "data": {
      "text/plain": [
       "0.25"
      ]
     },
     "execution_count": 7,
     "metadata": {},
     "output_type": "execute_result"
    }
   ],
   "source": [
    "recall_score(y_true, y_pred, zero_division=zd, average=avg)"
   ]
  },
  {
   "cell_type": "code",
   "execution_count": 8,
   "id": "943cbe25",
   "metadata": {
    "ExecuteTime": {
     "end_time": "2022-08-20T13:09:21.618230Z",
     "start_time": "2022-08-20T13:09:21.605326Z"
    }
   },
   "outputs": [
    {
     "data": {
      "text/plain": [
       "0.25"
      ]
     },
     "execution_count": 8,
     "metadata": {},
     "output_type": "execute_result"
    }
   ],
   "source": [
    "f1_score(y_true, y_pred, zero_division=zd, average=avg)"
   ]
  },
  {
   "cell_type": "code",
   "execution_count": 9,
   "id": "bb623456",
   "metadata": {
    "ExecuteTime": {
     "end_time": "2022-08-20T13:09:21.633384Z",
     "start_time": "2022-08-20T13:09:21.623325Z"
    }
   },
   "outputs": [],
   "source": [
    "from utils.metrics import time_span_metrics"
   ]
  },
  {
   "cell_type": "code",
   "execution_count": 10,
   "id": "2cd87e45",
   "metadata": {
    "ExecuteTime": {
     "end_time": "2022-08-20T13:09:21.664325Z",
     "start_time": "2022-08-20T13:09:21.636523Z"
    }
   },
   "outputs": [
    {
     "data": {
      "text/plain": [
       "(0.5, 0.5, 0.5)"
      ]
     },
     "execution_count": 10,
     "metadata": {},
     "output_type": "execute_result"
    }
   ],
   "source": [
    "time_span_metrics(y_true, y_pred)"
   ]
  }
 ],
 "metadata": {
  "kernelspec": {
   "display_name": "Python 3 (ipykernel)",
   "language": "python",
   "name": "python3"
  },
  "language_info": {
   "codemirror_mode": {
    "name": "ipython",
    "version": 3
   },
   "file_extension": ".py",
   "mimetype": "text/x-python",
   "name": "python",
   "nbconvert_exporter": "python",
   "pygments_lexer": "ipython3",
   "version": "3.8.8"
  },
  "toc": {
   "base_numbering": 1,
   "nav_menu": {},
   "number_sections": true,
   "sideBar": true,
   "skip_h1_title": false,
   "title_cell": "Table of Contents",
   "title_sidebar": "Contents",
   "toc_cell": false,
   "toc_position": {},
   "toc_section_display": true,
   "toc_window_display": false
  }
 },
 "nbformat": 4,
 "nbformat_minor": 5
}
