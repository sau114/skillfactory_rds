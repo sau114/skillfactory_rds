{
 "cells": [
  {
   "cell_type": "code",
   "execution_count": 1,
   "id": "a177c9f5",
   "metadata": {
    "ExecuteTime": {
     "end_time": "2022-08-19T17:06:50.207658Z",
     "start_time": "2022-08-19T17:06:50.163588Z"
    }
   },
   "outputs": [],
   "source": [
    "!del /Q utils\\__pycache__"
   ]
  },
  {
   "cell_type": "code",
   "execution_count": 2,
   "id": "b4ebf26e",
   "metadata": {
    "ExecuteTime": {
     "end_time": "2022-08-19T17:06:50.914731Z",
     "start_time": "2022-08-19T17:06:50.211590Z"
    }
   },
   "outputs": [],
   "source": [
    "import pandas as pd"
   ]
  },
  {
   "cell_type": "code",
   "execution_count": 3,
   "id": "b146bc1e",
   "metadata": {
    "ExecuteTime": {
     "end_time": "2022-08-19T17:06:51.594237Z",
     "start_time": "2022-08-19T17:06:50.916750Z"
    }
   },
   "outputs": [],
   "source": [
    "from sklearn.metrics import precision_score, recall_score, f1_score"
   ]
  },
  {
   "cell_type": "code",
   "execution_count": 4,
   "id": "8e63d42e",
   "metadata": {
    "ExecuteTime": {
     "end_time": "2022-08-19T17:06:51.610248Z",
     "start_time": "2022-08-19T17:06:51.597708Z"
    }
   },
   "outputs": [],
   "source": [
    "zd = 'warn'\n",
    "avg = 'binary'"
   ]
  },
  {
   "cell_type": "code",
   "execution_count": 5,
   "id": "d2ec9f4d",
   "metadata": {
    "ExecuteTime": {
     "end_time": "2022-08-19T17:06:51.626233Z",
     "start_time": "2022-08-19T17:06:51.612904Z"
    }
   },
   "outputs": [],
   "source": [
    "y_true = pd.Series(data=[0, 0, 0,  0, 0, 1,  1, 0, 0])\n",
    "y_pred = pd.Series(data=[0, 0, 0,  0, 0, 0,  1, 1, 0])\n",
    "\n",
    "y_true.index = y_pred.index = pd.date_range(\"2022-08-01T12:00:00\", periods=y_true.shape[0], freq=\"5T\")"
   ]
  },
  {
   "cell_type": "code",
   "execution_count": 6,
   "id": "48582f47",
   "metadata": {
    "ExecuteTime": {
     "end_time": "2022-08-19T17:06:51.657235Z",
     "start_time": "2022-08-19T17:06:51.629237Z"
    }
   },
   "outputs": [
    {
     "data": {
      "text/plain": [
       "0.5"
      ]
     },
     "execution_count": 6,
     "metadata": {},
     "output_type": "execute_result"
    }
   ],
   "source": [
    "precision_score(y_true, y_pred, zero_division=zd, average=avg)"
   ]
  },
  {
   "cell_type": "code",
   "execution_count": 7,
   "id": "4b466dec",
   "metadata": {
    "ExecuteTime": {
     "end_time": "2022-08-19T17:06:51.688643Z",
     "start_time": "2022-08-19T17:06:51.666233Z"
    }
   },
   "outputs": [
    {
     "data": {
      "text/plain": [
       "0.5"
      ]
     },
     "execution_count": 7,
     "metadata": {},
     "output_type": "execute_result"
    }
   ],
   "source": [
    "recall_score(y_true, y_pred, zero_division=zd, average=avg)"
   ]
  },
  {
   "cell_type": "code",
   "execution_count": 8,
   "id": "943cbe25",
   "metadata": {
    "ExecuteTime": {
     "end_time": "2022-08-19T17:06:51.704644Z",
     "start_time": "2022-08-19T17:06:51.690643Z"
    }
   },
   "outputs": [
    {
     "data": {
      "text/plain": [
       "0.5"
      ]
     },
     "execution_count": 8,
     "metadata": {},
     "output_type": "execute_result"
    }
   ],
   "source": [
    "f1_score(y_true, y_pred, zero_division=zd, average=avg)"
   ]
  },
  {
   "cell_type": "code",
   "execution_count": 9,
   "id": "bb623456",
   "metadata": {
    "ExecuteTime": {
     "end_time": "2022-08-19T17:06:51.720818Z",
     "start_time": "2022-08-19T17:06:51.706645Z"
    }
   },
   "outputs": [],
   "source": [
    "from utils.metrics import precision, recall, f1_score"
   ]
  },
  {
   "cell_type": "code",
   "execution_count": 10,
   "id": "f57df5f8",
   "metadata": {
    "ExecuteTime": {
     "end_time": "2022-08-19T17:06:51.752657Z",
     "start_time": "2022-08-19T17:06:51.723644Z"
    }
   },
   "outputs": [
    {
     "data": {
      "text/plain": [
       "1.0"
      ]
     },
     "execution_count": 10,
     "metadata": {},
     "output_type": "execute_result"
    }
   ],
   "source": [
    "precision(y_true, y_pred)"
   ]
  },
  {
   "cell_type": "code",
   "execution_count": 11,
   "id": "2f98d7c7",
   "metadata": {
    "ExecuteTime": {
     "end_time": "2022-08-19T17:06:51.768720Z",
     "start_time": "2022-08-19T17:06:51.754646Z"
    }
   },
   "outputs": [
    {
     "data": {
      "text/plain": [
       "0.5"
      ]
     },
     "execution_count": 11,
     "metadata": {},
     "output_type": "execute_result"
    }
   ],
   "source": [
    "recall(y_true, y_pred)"
   ]
  },
  {
   "cell_type": "code",
   "execution_count": 12,
   "id": "2cd87e45",
   "metadata": {
    "ExecuteTime": {
     "end_time": "2022-08-19T17:06:51.784699Z",
     "start_time": "2022-08-19T17:06:51.771646Z"
    }
   },
   "outputs": [
    {
     "data": {
      "text/plain": [
       "0.6666666666666666"
      ]
     },
     "execution_count": 12,
     "metadata": {},
     "output_type": "execute_result"
    }
   ],
   "source": [
    "f1_score(y_true, y_pred)"
   ]
  }
 ],
 "metadata": {
  "kernelspec": {
   "display_name": "Python 3 (ipykernel)",
   "language": "python",
   "name": "python3"
  },
  "language_info": {
   "codemirror_mode": {
    "name": "ipython",
    "version": 3
   },
   "file_extension": ".py",
   "mimetype": "text/x-python",
   "name": "python",
   "nbconvert_exporter": "python",
   "pygments_lexer": "ipython3",
   "version": "3.8.8"
  },
  "toc": {
   "base_numbering": 1,
   "nav_menu": {},
   "number_sections": true,
   "sideBar": true,
   "skip_h1_title": false,
   "title_cell": "Table of Contents",
   "title_sidebar": "Contents",
   "toc_cell": false,
   "toc_position": {},
   "toc_section_display": true,
   "toc_window_display": false
  }
 },
 "nbformat": 4,
 "nbformat_minor": 5
}
