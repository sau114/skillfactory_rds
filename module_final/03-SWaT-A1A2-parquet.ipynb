{
 "cells": [
  {
   "cell_type": "markdown",
   "id": "8824e260",
   "metadata": {},
   "source": [
    "# Prepare"
   ]
  },
  {
   "cell_type": "code",
   "execution_count": 1,
   "id": "00734054",
   "metadata": {
    "ExecuteTime": {
     "end_time": "2022-08-22T11:38:25.660359Z",
     "start_time": "2022-08-22T11:38:24.518739Z"
    }
   },
   "outputs": [],
   "source": [
    "# import libraries\n",
    "import os\n",
    "import os.path\n",
    "import pandas as pd\n",
    "from tqdm.notebook import tqdm"
   ]
  },
  {
   "cell_type": "code",
   "execution_count": 2,
   "id": "372f2535",
   "metadata": {
    "ExecuteTime": {
     "end_time": "2022-08-22T11:38:25.675614Z",
     "start_time": "2022-08-22T11:38:25.663467Z"
    }
   },
   "outputs": [],
   "source": [
    "SOURCE = 'Y:\\\\ZBU\\\\_Datasets\\\\SWaT\\\\SWaT.A1 _ A2_Dec 2015\\\\Physical'  # dataset source dir\n",
    "TARGET = 'E:\\\\\\Datasets\\\\SWaT\\\\dataset12'  # dataset target dir"
   ]
  },
  {
   "cell_type": "markdown",
   "id": "b4c23433",
   "metadata": {},
   "source": [
    "# Stages"
   ]
  },
  {
   "cell_type": "code",
   "execution_count": 3,
   "id": "34057793",
   "metadata": {
    "ExecuteTime": {
     "end_time": "2022-08-22T11:38:25.706444Z",
     "start_time": "2022-08-22T11:38:25.679590Z"
    }
   },
   "outputs": [],
   "source": [
    "def rename_columns(df: pd.DataFrame) -> None:\n",
    "    columns = {\n",
    "        'Timestamp': 'time',\n",
    "        'FIT101': 'FIT101_flow_m3h',\n",
    "        'LIT101': 'LIT101_level_mm',\n",
    "        'MV101': 'MV101_feed_state',\n",
    "        'P101': 'P101_pump_state',\n",
    "        'P102': 'P102_pump_state',\n",
    "        'AIT201': 'AIT201_conductivity_uScm',\n",
    "        'AIT202': 'AIT202_acidity_pH',\n",
    "        'AIT203': 'AIT203_oxidation_mV',\n",
    "        'FIT201': 'FIT201_flow_m3h',\n",
    "        'MV201': 'MV201_feed_state',\n",
    "        'P201': 'P201_pump_state',\n",
    "        'P202': 'P202_pump_state',\n",
    "        'P203': 'P203_pump_state',\n",
    "        'P204': 'P204_pump_state',\n",
    "        'P205': 'P205_pump_state',\n",
    "        'P206': 'P206_pump_state',\n",
    "        'DPIT301': 'DPIT301_diffpressure_kPa',\n",
    "        'FIT301': 'FIT301_flow_m3h',\n",
    "        'LIT301': 'LIT301_level_mm',\n",
    "        'MV301': 'MV301_feed_state',\n",
    "        'MV302': 'MV302_feed_state',\n",
    "        'MV303': 'MV303_feed_state',\n",
    "        'MV304': 'MV304_feed_state',\n",
    "        'P301': 'P301_pump_state',\n",
    "        'P302': 'P302_pump_state',\n",
    "        'AIT401': 'AIT401_hardness_ppm',\n",
    "        'AIT402': 'AIT402_oxidation_mV',\n",
    "        'FIT401': 'FIT401_flow_m3h',\n",
    "        'LIT401': 'LIT401_level_mm',\n",
    "        'P401': 'P401_pump_state',\n",
    "        'P402': 'P402_pump_state',\n",
    "        'P403': 'P403_pump_state',\n",
    "        'P404': 'P404_pump_state',\n",
    "        'UV401': 'UV401_sterilizer_state',\n",
    "        'AIT501': 'AIT501_acidity_pH',\n",
    "        'AIT502': 'AIT502_oxidation_mV',\n",
    "        'AIT503': 'AIT503_conductivity_uScm',\n",
    "        'AIT504': 'AIT504_conductivity_uScm',\n",
    "        'FIT501': 'FIT501_flow_m3h',\n",
    "        'FIT502': 'FIT502_flow_m3h',\n",
    "        'FIT503': 'FIT503_flow_m3h',\n",
    "        'FIT504': 'FIT504_flow_m3h',\n",
    "        'P501': 'P501_pump_state',\n",
    "        'P502': 'P502_pump_state',\n",
    "        'PIT501': 'PIT501_pressure_kPa',\n",
    "        'PIT502': 'PIT502_pressure_kPa',\n",
    "        'PIT503': 'PIT503_pressure_kPa',\n",
    "        'FIT601': 'FIT601_flow_m3h',\n",
    "        'P601': 'P601_pump_state',\n",
    "        'P602': 'P602_pump_state',\n",
    "        'P603': 'P603_pump_state',\n",
    "        'Normal/Attack': 'attack',\n",
    "    }\n",
    "    df.columns = [v.strip() for v in df.columns.values]\n",
    "    df.rename(columns=columns, inplace=True)\n",
    "    return"
   ]
  },
  {
   "cell_type": "code",
   "execution_count": 4,
   "id": "f9036661",
   "metadata": {
    "ExecuteTime": {
     "end_time": "2022-08-22T11:38:25.722369Z",
     "start_time": "2022-08-22T11:38:25.709444Z"
    }
   },
   "outputs": [],
   "source": [
    "def set_index(df: pd.DataFrame) -> None:\n",
    "    df['time'] = pd.to_datetime(df['time'], dayfirst=True)\n",
    "    df.set_index('time', inplace=True)\n",
    "    return"
   ]
  },
  {
   "cell_type": "code",
   "execution_count": 5,
   "id": "09890b8c",
   "metadata": {
    "ExecuteTime": {
     "end_time": "2022-08-22T11:38:25.753844Z",
     "start_time": "2022-08-22T11:38:25.739896Z"
    }
   },
   "outputs": [],
   "source": [
    "def downsample(df: pd.DataFrame) -> pd.DataFrame:\n",
    "    return df.resample('1 min').first()"
   ]
  },
  {
   "cell_type": "code",
   "execution_count": 6,
   "id": "ce48cb05",
   "metadata": {
    "ExecuteTime": {
     "end_time": "2022-08-22T11:38:25.769462Z",
     "start_time": "2022-08-22T11:38:25.757737Z"
    }
   },
   "outputs": [],
   "source": [
    "def trim_features(df: pd.DataFrame) -> None:\n",
    "    attack = {\n",
    "        'Normal': 0,\n",
    "        'Attack': 1,\n",
    "    }\n",
    "    df['attack'] = df['attack'].replace(attack)\n",
    "    return"
   ]
  },
  {
   "cell_type": "code",
   "execution_count": 7,
   "id": "687ac62b",
   "metadata": {
    "ExecuteTime": {
     "end_time": "2022-08-22T11:38:25.799547Z",
     "start_time": "2022-08-22T11:38:25.773984Z"
    }
   },
   "outputs": [],
   "source": [
    "def optimize_dtypes(df: pd.DataFrame) -> None:\n",
    "    # optimize dataframe by memory usage\n",
    "    uint_columns = [  # this columns can be uint\n",
    "        'MV101_feed_state',\n",
    "        'P101_pump_state', \n",
    "        'P102_pump_state', \n",
    "        'MV201_feed_state', \n",
    "        'P201_pump_state', \n",
    "        'P202_pump_state',\n",
    "        'P203_pump_state', \n",
    "        'P204_pump_state', \n",
    "        'P205_pump_state',\n",
    "        'P206_pump_state', \n",
    "        'MV301_feed_state', \n",
    "        'MV302_feed_state',\n",
    "        'MV303_feed_state', \n",
    "        'MV304_feed_state', \n",
    "        'P301_pump_state',\n",
    "        'P302_pump_state', \n",
    "        'P401_pump_state',\n",
    "        'P402_pump_state', \n",
    "        'P403_pump_state', \n",
    "        'P404_pump_state',\n",
    "        'UV401_sterilizer_state', \n",
    "        'P501_pump_state', \n",
    "        'P502_pump_state',\n",
    "        'P601_pump_state', \n",
    "        'P602_pump_state',\n",
    "        'P603_pump_state', \n",
    "        'attack',\n",
    "    ]    \n",
    "    float_columns = [  # other must be float\n",
    "        'FIT101_flow_m3h', \n",
    "        'LIT101_level_mm', \n",
    "        'AIT201_conductivity_uScm',\n",
    "        'AIT202_acidity_pH', \n",
    "        'AIT203_oxidation_mV', \n",
    "        'FIT201_flow_m3h',\n",
    "        'DPIT301_diffpressure_kPa', \n",
    "        'FIT301_flow_m3h',\n",
    "        'LIT301_level_mm', \n",
    "        'AIT401_hardness_ppm', \n",
    "        'AIT402_oxidation_mV',\n",
    "        'FIT401_flow_m3h', \n",
    "        'LIT401_level_mm', \n",
    "        'AIT501_acidity_pH', \n",
    "        'AIT502_oxidation_mV',\n",
    "        'AIT503_conductivity_uScm', \n",
    "        'AIT504_conductivity_uScm',\n",
    "        'FIT501_flow_m3h', \n",
    "        'FIT502_flow_m3h', \n",
    "        'FIT503_flow_m3h',\n",
    "        'FIT504_flow_m3h', \n",
    "        'PIT501_pressure_kPa', \n",
    "        'PIT502_pressure_kPa', \n",
    "        'PIT503_pressure_kPa',\n",
    "        'FIT601_flow_m3h', \n",
    "    ]\n",
    "    df[uint_columns] = df[uint_columns].apply(pd.to_numeric, downcast='unsigned')\n",
    "    df[float_columns] = df[float_columns].apply(pd.to_numeric, downcast='float')\n",
    "    return"
   ]
  },
  {
   "cell_type": "markdown",
   "id": "523b5abe",
   "metadata": {},
   "source": [
    "# Convert dataset"
   ]
  },
  {
   "cell_type": "code",
   "execution_count": 8,
   "id": "8e492ff8",
   "metadata": {
    "ExecuteTime": {
     "end_time": "2022-08-22T12:01:05.982794Z",
     "start_time": "2022-08-22T11:38:25.802663Z"
    }
   },
   "outputs": [
    {
     "data": {
      "application/vnd.jupyter.widget-view+json": {
       "model_id": "281869ea95c64636b5cbbd7352bdd7f8",
       "version_major": 2,
       "version_minor": 0
      },
      "text/plain": [
       "  0%|          | 0/3 [00:00<?, ?it/s]"
      ]
     },
     "metadata": {},
     "output_type": "display_data"
    },
    {
     "name": "stderr",
     "output_type": "stream",
     "text": [
      "C:\\Users\\Stepan\\anaconda3\\lib\\site-packages\\openpyxl\\worksheet\\_reader.py:312: UserWarning: Unknown extension is not supported and will be removed\n",
      "  warn(msg)\n",
      "C:\\Users\\Stepan\\anaconda3\\lib\\site-packages\\openpyxl\\worksheet\\_reader.py:312: UserWarning: Unknown extension is not supported and will be removed\n",
      "  warn(msg)\n",
      "C:\\Users\\Stepan\\anaconda3\\lib\\site-packages\\openpyxl\\worksheet\\_reader.py:312: UserWarning: Unknown extension is not supported and will be removed\n",
      "  warn(msg)\n"
     ]
    }
   ],
   "source": [
    "if not os.path.isdir(os.path.join(TARGET)):\n",
    "    os.mkdir(TARGET)\n",
    "\n",
    "files = ('SWaT_Dataset_Normal_v1.xlsx',\n",
    "         'SWaT_Dataset_Attack_v0.xlsx',\n",
    "         'SWaT_Dataset_Normal_v0.xlsx',\n",
    "        )\n",
    "\n",
    "for f in tqdm(files):\n",
    "    filename = os.path.join(SOURCE, f)\n",
    "    data = pd.read_excel(filename, engine='openpyxl', skiprows=1)\n",
    "    rename_columns(data)\n",
    "    set_index(data)\n",
    "    data = downsample(data)\n",
    "    trim_features(data)\n",
    "    optimize_dtypes(data)\n",
    "    p = os.path.splitext(f)[0] + '.snappy'\n",
    "    data.to_parquet(os.path.join(TARGET, p), compression='snappy')"
   ]
  }
 ],
 "metadata": {
  "kernelspec": {
   "display_name": "Python 3 (ipykernel)",
   "language": "python",
   "name": "python3"
  },
  "language_info": {
   "codemirror_mode": {
    "name": "ipython",
    "version": 3
   },
   "file_extension": ".py",
   "mimetype": "text/x-python",
   "name": "python",
   "nbconvert_exporter": "python",
   "pygments_lexer": "ipython3",
   "version": "3.8.8"
  },
  "toc": {
   "base_numbering": 1,
   "nav_menu": {},
   "number_sections": true,
   "sideBar": true,
   "skip_h1_title": false,
   "title_cell": "Table of Contents",
   "title_sidebar": "Contents",
   "toc_cell": false,
   "toc_position": {},
   "toc_section_display": true,
   "toc_window_display": false
  }
 },
 "nbformat": 4,
 "nbformat_minor": 5
}
