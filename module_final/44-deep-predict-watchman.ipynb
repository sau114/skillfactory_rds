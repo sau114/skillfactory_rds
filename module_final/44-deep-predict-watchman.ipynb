{
 "cells": [
  {
   "cell_type": "code",
   "execution_count": 1,
   "id": "2b2ce1b4",
   "metadata": {
    "ExecuteTime": {
     "end_time": "2022-09-14T09:40:24.327168Z",
     "start_time": "2022-09-14T09:40:24.282037Z"
    }
   },
   "outputs": [],
   "source": [
    "!del /Q utils\\__pycache__"
   ]
  },
  {
   "cell_type": "code",
   "execution_count": 2,
   "id": "e079cd6f",
   "metadata": {
    "ExecuteTime": {
     "end_time": "2022-09-14T09:40:25.151915Z",
     "start_time": "2022-09-14T09:40:24.330032Z"
    }
   },
   "outputs": [],
   "source": [
    "import pandas as pd\n",
    "from tqdm.notebook import tqdm"
   ]
  },
  {
   "cell_type": "code",
   "execution_count": 3,
   "id": "7e87a04e",
   "metadata": {
    "ExecuteTime": {
     "end_time": "2022-09-14T09:40:29.475241Z",
     "start_time": "2022-09-14T09:40:25.151915Z"
    }
   },
   "outputs": [],
   "source": [
    "from utils.datasets import GhlKasperskyDataset, TepHarvardDataset, TepKasperskyDataset\n",
    "from utils.watchmen import DeepPredictWatchman\n",
    "from utils.metrics import time_span_metrics\n",
    "from utils.custom_plots import plot_stacked"
   ]
  },
  {
   "cell_type": "markdown",
   "id": "5dd7567c",
   "metadata": {},
   "source": [
    "## GHL"
   ]
  },
  {
   "cell_type": "code",
   "execution_count": 4,
   "id": "deee08ee",
   "metadata": {
    "ExecuteTime": {
     "end_time": "2022-09-14T09:40:29.491309Z",
     "start_time": "2022-09-14T09:40:29.475416Z"
    }
   },
   "outputs": [],
   "source": [
    "ds = GhlKasperskyDataset()\n",
    "ds.shake_not_stir(random_state=84)"
   ]
  },
  {
   "cell_type": "code",
   "execution_count": 5,
   "id": "c4b93514",
   "metadata": {
    "ExecuteTime": {
     "end_time": "2022-09-14T09:40:29.507105Z",
     "start_time": "2022-09-14T09:40:29.495105Z"
    }
   },
   "outputs": [],
   "source": [
    "watchman = DeepPredictWatchman(random_state=31)"
   ]
  },
  {
   "cell_type": "code",
   "execution_count": 6,
   "id": "329d1cc5",
   "metadata": {
    "ExecuteTime": {
     "end_time": "2022-09-14T09:40:29.790101Z",
     "start_time": "2022-09-14T09:40:29.510105Z"
    }
   },
   "outputs": [
    {
     "data": {
      "application/vnd.jupyter.widget-view+json": {
       "model_id": "2a46aecc700d4c47b320e39ec2c4cc53",
       "version_major": 2,
       "version_minor": 0
      },
      "text/plain": [
       "  0%|          | 0/1 [00:00<?, ?it/s]"
      ]
     },
     "metadata": {},
     "output_type": "display_data"
    }
   ],
   "source": [
    "train_gen = ds.train_generator()\n",
    "for train, _, _ in tqdm(train_gen):\n",
    "    watchman.prefit(train)"
   ]
  },
  {
   "cell_type": "code",
   "execution_count": 7,
   "id": "e6927a59",
   "metadata": {
    "ExecuteTime": {
     "end_time": "2022-09-14T09:42:06.815774Z",
     "start_time": "2022-09-14T09:40:29.792116Z"
    }
   },
   "outputs": [
    {
     "data": {
      "application/vnd.jupyter.widget-view+json": {
       "model_id": "9e6bf835f24241b8be91a6b620b7725a",
       "version_major": 2,
       "version_minor": 0
      },
      "text/plain": [
       "  0%|          | 0/1 [00:00<?, ?it/s]"
      ]
     },
     "metadata": {},
     "output_type": "display_data"
    }
   ],
   "source": [
    "train_gen = ds.train_generator()\n",
    "for train, _, _ in tqdm(train_gen):\n",
    "    watchman.partial_fit(train)"
   ]
  },
  {
   "cell_type": "code",
   "execution_count": 8,
   "id": "b616ce58",
   "metadata": {
    "ExecuteTime": {
     "end_time": "2022-09-14T09:42:17.233676Z",
     "start_time": "2022-09-14T09:42:06.819772Z"
    }
   },
   "outputs": [
    {
     "data": {
      "application/vnd.jupyter.widget-view+json": {
       "model_id": "ba11d6528c764aaea4840cdbe59ecaf1",
       "version_major": 2,
       "version_minor": 0
      },
      "text/plain": [
       "  0%|          | 0/14 [00:00<?, ?it/s]"
      ]
     },
     "metadata": {},
     "output_type": "display_data"
    }
   ],
   "source": [
    "valid_gen = ds.valid_generator()\n",
    "examine_list = pd.DataFrame(columns=['precision', 'recall', 'f1_score'], dtype='float')\n",
    "for valid, faults, info in tqdm(valid_gen):\n",
    "    detect = watchman.predict(valid)\n",
    "    examine_list.loc[info] = time_span_metrics(faults, detect)\n",
    "#     if max(faults) and sum(detect)>10:\n",
    "#         print(watchman.forest.score_samples(valid))\n",
    "#         print(min(watchman.forest.score_samples(valid)))\n",
    "#         print(detect.values)\n",
    "#         break\n",
    "\n",
    "#         plot_stacked(data,\n",
    "#                      title=info,\n",
    "#                      group='value_unit',\n",
    "#                      faults=faults,\n",
    "#                      detect=detect,\n",
    "#                     )"
   ]
  },
  {
   "cell_type": "code",
   "execution_count": 9,
   "id": "5cb472d8",
   "metadata": {
    "ExecuteTime": {
     "end_time": "2022-09-14T09:42:17.264411Z",
     "start_time": "2022-09-14T09:42:17.238673Z"
    },
    "scrolled": true
   },
   "outputs": [
    {
     "data": {
      "text/plain": [
       "precision    0.246511\n",
       "recall       0.797619\n",
       "f1_score     0.359676\n",
       "dtype: float64"
      ]
     },
     "execution_count": 9,
     "metadata": {},
     "output_type": "execute_result"
    }
   ],
   "source": [
    "examine_list.mean()"
   ]
  },
  {
   "cell_type": "markdown",
   "id": "aa910a2a",
   "metadata": {},
   "source": [
    "## TEP Harvard"
   ]
  },
  {
   "cell_type": "code",
   "execution_count": 10,
   "id": "978c6f5e",
   "metadata": {
    "ExecuteTime": {
     "end_time": "2022-09-14T09:42:18.014032Z",
     "start_time": "2022-09-14T09:42:17.267409Z"
    }
   },
   "outputs": [],
   "source": [
    "ds = TepHarvardDataset()\n",
    "ds.shake_not_stir()"
   ]
  },
  {
   "cell_type": "code",
   "execution_count": 11,
   "id": "24524a27",
   "metadata": {
    "ExecuteTime": {
     "end_time": "2022-09-14T09:42:18.029791Z",
     "start_time": "2022-09-14T09:42:18.015926Z"
    }
   },
   "outputs": [],
   "source": [
    "watchman = DeepPredictWatchman(random_state=31)"
   ]
  },
  {
   "cell_type": "code",
   "execution_count": 12,
   "id": "eadec1dd",
   "metadata": {
    "ExecuteTime": {
     "end_time": "2022-09-14T09:42:36.683814Z",
     "start_time": "2022-09-14T09:42:18.032781Z"
    }
   },
   "outputs": [
    {
     "data": {
      "application/vnd.jupyter.widget-view+json": {
       "model_id": "2e6b3dddc21f4c52a19915f60460152e",
       "version_major": 2,
       "version_minor": 0
      },
      "text/plain": [
       "  0%|          | 0/500 [00:00<?, ?it/s]"
      ]
     },
     "metadata": {},
     "output_type": "display_data"
    }
   ],
   "source": [
    "train_gen = ds.train_generator()\n",
    "for train, _, _ in tqdm(train_gen):\n",
    "    watchman.prefit(train)"
   ]
  },
  {
   "cell_type": "code",
   "execution_count": null,
   "id": "8192572b",
   "metadata": {
    "ExecuteTime": {
     "start_time": "2022-09-14T09:40:24.268Z"
    },
    "scrolled": true
   },
   "outputs": [
    {
     "data": {
      "application/vnd.jupyter.widget-view+json": {
       "model_id": "5cdd3b7762d94669ad8637c784d54891",
       "version_major": 2,
       "version_minor": 0
      },
      "text/plain": [
       "  0%|          | 0/500 [00:00<?, ?it/s]"
      ]
     },
     "metadata": {},
     "output_type": "display_data"
    }
   ],
   "source": [
    "train_gen = ds.train_generator()\n",
    "for train, _, _ in tqdm(train_gen):\n",
    "    watchman.partial_fit(train)"
   ]
  },
  {
   "cell_type": "code",
   "execution_count": null,
   "id": "323701de",
   "metadata": {
    "ExecuteTime": {
     "start_time": "2022-09-14T09:40:24.270Z"
    }
   },
   "outputs": [],
   "source": [
    "valid_gen = ds.valid_generator()\n",
    "examine_list = pd.DataFrame(columns=['precision', 'recall', 'f1_score'], dtype='float')\n",
    "for valid, faults, info in tqdm(valid_gen):\n",
    "    detect = watchman.predict(valid)\n",
    "    examine_list.loc[info] = time_span_metrics(faults, detect)\n",
    "#     if max(faults) and sum(detect)>10:\n",
    "#         print(watchman.forest.score_samples(valid)<-0.5)\n",
    "#         print(min(watchman.forest.score_samples(valid)))\n",
    "#         print(detect.values)\n",
    "#         break\n",
    "#     if max(faults) and max(detect):\n",
    "#         plot_stacked(data,\n",
    "#                      title=info,\n",
    "#                      group='value_unit',\n",
    "#                      faults=faults,\n",
    "#                      detect=detect,\n",
    "#                     )"
   ]
  },
  {
   "cell_type": "code",
   "execution_count": null,
   "id": "43ac4a7a",
   "metadata": {
    "ExecuteTime": {
     "start_time": "2022-09-14T09:40:24.272Z"
    }
   },
   "outputs": [],
   "source": [
    "examine_list.mean()"
   ]
  },
  {
   "cell_type": "markdown",
   "id": "4647b7c5",
   "metadata": {},
   "source": [
    "## TEP Kaspersky"
   ]
  },
  {
   "cell_type": "code",
   "execution_count": null,
   "id": "f5f09aec",
   "metadata": {
    "ExecuteTime": {
     "start_time": "2022-09-14T09:40:24.274Z"
    }
   },
   "outputs": [],
   "source": [
    "ds = TepKasperskyDataset()\n",
    "ds.shake_not_stir()"
   ]
  },
  {
   "cell_type": "code",
   "execution_count": null,
   "id": "d28b8f53",
   "metadata": {
    "ExecuteTime": {
     "start_time": "2022-09-14T09:40:24.275Z"
    }
   },
   "outputs": [],
   "source": [
    "watchman = DeepPredictWatchman(random_state=31)"
   ]
  },
  {
   "cell_type": "code",
   "execution_count": null,
   "id": "6f9fa082",
   "metadata": {
    "ExecuteTime": {
     "start_time": "2022-09-14T09:40:24.276Z"
    }
   },
   "outputs": [],
   "source": [
    "train_gen = ds.train_generator()\n",
    "for train, _, _ in tqdm(train_gen):\n",
    "    watchman.prefit(train)"
   ]
  },
  {
   "cell_type": "code",
   "execution_count": null,
   "id": "ab5ddcba",
   "metadata": {
    "ExecuteTime": {
     "start_time": "2022-09-14T09:40:24.278Z"
    }
   },
   "outputs": [],
   "source": [
    "train_gen = ds.train_generator()\n",
    "for train, _, _ in tqdm(train_gen):\n",
    "    watchman.partial_fit(train)"
   ]
  },
  {
   "cell_type": "code",
   "execution_count": null,
   "id": "82132a94",
   "metadata": {
    "ExecuteTime": {
     "start_time": "2022-09-14T09:40:24.280Z"
    }
   },
   "outputs": [],
   "source": [
    "valid_gen = ds.valid_generator()\n",
    "examine_list = pd.DataFrame(columns=['precision', 'recall', 'f1_score'], dtype='float')\n",
    "for valid, faults, info in tqdm(valid_gen):\n",
    "    detect = watchman.predict(valid)\n",
    "    examine_list.loc[info] = time_span_metrics(faults, detect)\n",
    "#     if max(faults) and max(detect):\n",
    "#         plot_stacked(data,\n",
    "#                      title=info,\n",
    "#                      group='value_unit',\n",
    "#                      faults=faults,\n",
    "#                      detect=detect,\n",
    "#                     )"
   ]
  },
  {
   "cell_type": "code",
   "execution_count": null,
   "id": "496878cb",
   "metadata": {
    "ExecuteTime": {
     "start_time": "2022-09-14T09:40:24.282Z"
    }
   },
   "outputs": [],
   "source": [
    "examine_list.mean()"
   ]
  }
 ],
 "metadata": {
  "kernelspec": {
   "display_name": "Python 3 (ipykernel)",
   "language": "python",
   "name": "python3"
  },
  "language_info": {
   "codemirror_mode": {
    "name": "ipython",
    "version": 3
   },
   "file_extension": ".py",
   "mimetype": "text/x-python",
   "name": "python",
   "nbconvert_exporter": "python",
   "pygments_lexer": "ipython3",
   "version": "3.8.8"
  },
  "toc": {
   "base_numbering": 1,
   "nav_menu": {},
   "number_sections": true,
   "sideBar": true,
   "skip_h1_title": false,
   "title_cell": "Table of Contents",
   "title_sidebar": "Contents",
   "toc_cell": false,
   "toc_position": {},
   "toc_section_display": true,
   "toc_window_display": false
  }
 },
 "nbformat": 4,
 "nbformat_minor": 5
}
