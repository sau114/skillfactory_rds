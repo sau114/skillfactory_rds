{
 "cells": [
  {
   "cell_type": "markdown",
   "id": "8824e260",
   "metadata": {},
   "source": [
    "# Prepare"
   ]
  },
  {
   "cell_type": "code",
   "execution_count": 1,
   "id": "00734054",
   "metadata": {
    "ExecuteTime": {
     "end_time": "2022-09-05T16:52:28.426288Z",
     "start_time": "2022-09-05T16:52:27.570078Z"
    }
   },
   "outputs": [],
   "source": [
    "# import libraries\n",
    "import json\n",
    "import os\n",
    "import os.path\n",
    "import pandas as pd\n",
    "from tqdm.notebook import tqdm"
   ]
  },
  {
   "cell_type": "code",
   "execution_count": 2,
   "id": "372f2535",
   "metadata": {
    "ExecuteTime": {
     "end_time": "2022-09-05T16:52:28.442272Z",
     "start_time": "2022-09-05T16:52:28.426288Z"
    }
   },
   "outputs": [],
   "source": [
    "SOURCE = 'Y:\\\\ZBU\\\\_Datasets\\\\GHL\\\\GHL'  # dataset source dir\n",
    "TARGET = 'E:\\\\Datasets\\\\GHL'"
   ]
  },
  {
   "cell_type": "markdown",
   "id": "523b5abe",
   "metadata": {},
   "source": [
    "# Conver data"
   ]
  },
  {
   "cell_type": "code",
   "execution_count": 3,
   "id": "d934ae0d",
   "metadata": {
    "ExecuteTime": {
     "end_time": "2022-09-05T16:52:28.458233Z",
     "start_time": "2022-09-05T16:52:28.447165Z"
    }
   },
   "outputs": [],
   "source": [
    "# There are tags in the dataset that do not relate to sensor or control signals.\n",
    "# For realistic, let's drop them.\n",
    "\n",
    "# There are duplicates and not integer timestamps.\n",
    "# For realistic, let's fix it.\n",
    "\n",
    "# There is impossible to get values every second for process like this.\n",
    "# For realistic, let's resample to 1 min."
   ]
  },
  {
   "cell_type": "code",
   "execution_count": 4,
   "id": "94e4c4c9",
   "metadata": {
    "ExecuteTime": {
     "end_time": "2022-09-05T16:52:28.489510Z",
     "start_time": "2022-09-05T16:52:28.465178Z"
    }
   },
   "outputs": [],
   "source": [
    "def rename_columns(df: pd.DataFrame) -> None:\n",
    "    # rename columns\n",
    "    rename_dict = {\n",
    "        'Time': 'time',\n",
    "        'limiter.y': 'input_temp_gc',\n",
    "        'RT_temperature.T': 'rt_temp_gc',\n",
    "        'HT_temperature.T': 'ht_temp_gc',\n",
    "        'C_temperature.T': 'ct_temp_gc',\n",
    "        'RT_level': 'rt_level_m',\n",
    "        'HT_level': 'ht_level_m',\n",
    "        'C_level': 'ct_level_m',\n",
    "        'inj_valve_act': 'input_flow_state',\n",
    "        'dir_valve_act': 'supply_flow_state',\n",
    "        'inv_valve_act': 'return_flow_state',\n",
    "        'out_valve_act': 'output_flow_state',\n",
    "        'heater_act': 'heater_state',  # device with its own regulator\n",
    "        'ATTACK': 'anomaly',\n",
    "#         'RT_level_ini': ,  # level in RT at start of input\n",
    "#         'dT_rand': ,  # random fluctuations of input temperature\n",
    "#         'dt_rand':,  # random fluctuations of relaxing time\n",
    "#         'dL_rand':  # random fluctuations of stop level in RT\n",
    "#         'limiter1.y': 'time_relax',  # resulting relaxing time\n",
    "#         'Relaxing.active': ,  # relax state is control logic value\n",
    "#         'boundary.m_flow_in': 'input_flow_m3h',  # nominal input flow\n",
    "    }\n",
    "    df.rename(columns=rename_dict, inplace=True)\n",
    "    if 'anomaly' not in df.columns:\n",
    "        df['anomaly'] = 0\n",
    "    # and drop other columns and duplicates\n",
    "    columns2drop = [c for c in df.columns if c not in rename_dict.values()]\n",
    "    df.drop(columns=columns2drop, inplace=True)\n",
    "    df.drop_duplicates(subset='time', keep='first', inplace=True)\n",
    "    return"
   ]
  },
  {
   "cell_type": "code",
   "execution_count": 5,
   "id": "f1750e09",
   "metadata": {
    "ExecuteTime": {
     "end_time": "2022-09-05T16:52:28.505163Z",
     "start_time": "2022-09-05T16:52:28.492164Z"
    }
   },
   "outputs": [],
   "source": [
    "def index_and_downsample(df: pd.DataFrame) -> None:\n",
    "    # set index\n",
    "    df['time'] = pd.to_datetime(df['time'].astype('int'), unit='s', origin='2016-10-28T00:00:00')\n",
    "    df.set_index('time', inplace=True)\n",
    "    df.index.name = None\n",
    "    # downsample\n",
    "    df = df.resample('1 min').first()\n",
    "    return df"
   ]
  },
  {
   "cell_type": "code",
   "execution_count": 6,
   "id": "9a3bc13a",
   "metadata": {
    "ExecuteTime": {
     "end_time": "2022-09-05T16:52:28.521178Z",
     "start_time": "2022-09-05T16:52:28.508163Z"
    }
   },
   "outputs": [],
   "source": [
    "def trim_features(df: pd.DataFrame) -> None:\n",
    "    zero_celsius = 273.0\n",
    "    df['input_temp_gc'] -= zero_celsius\n",
    "    df['rt_temp_gc'] -= zero_celsius\n",
    "    df['ht_temp_gc'] -= zero_celsius\n",
    "    df['ct_temp_gc'] -= zero_celsius\n",
    "    return"
   ]
  },
  {
   "cell_type": "code",
   "execution_count": 7,
   "id": "687ac62b",
   "metadata": {
    "ExecuteTime": {
     "end_time": "2022-09-05T16:52:28.537235Z",
     "start_time": "2022-09-05T16:52:28.524165Z"
    }
   },
   "outputs": [],
   "source": [
    "def optimize_dtypes(df: pd.DataFrame) -> None:\n",
    "    uint_columns = [\n",
    "        'output_flow_state',\n",
    "        'return_flow_state', \n",
    "        'input_flow_state',\n",
    "        'supply_flow_state', \n",
    "        'heater_state',\n",
    "        'anomaly',\n",
    "    ]\n",
    "    float_columns = [\n",
    "        'rt_temp_gc', \n",
    "        'ct_temp_gc', \n",
    "        'rt_level_m', \n",
    "        'input_temp_gc', \n",
    "        'ct_level_m', \n",
    "        'ht_temp_gc', \n",
    "        'ht_level_m', \n",
    "    ]\n",
    "    \n",
    "    df[uint_columns] = df[uint_columns].apply(pd.to_numeric, downcast='unsigned')\n",
    "    df[float_columns] = df[float_columns].apply(pd.to_numeric, downcast='float')\n",
    "    return"
   ]
  },
  {
   "cell_type": "code",
   "execution_count": 8,
   "id": "839952f5",
   "metadata": {
    "ExecuteTime": {
     "end_time": "2022-09-05T16:54:36.520319Z",
     "start_time": "2022-09-05T16:52:28.543167Z"
    }
   },
   "outputs": [
    {
     "data": {
      "application/vnd.jupyter.widget-view+json": {
       "model_id": "88d3946136e146d7a7117dd90ca92ba7",
       "version_major": 2,
       "version_minor": 0
      },
      "text/plain": [
       "  0%|          | 0/49 [00:00<?, ?it/s]"
      ]
     },
     "metadata": {},
     "output_type": "display_data"
    }
   ],
   "source": [
    "train_dir = os.path.join(TARGET, 'train')\n",
    "if not os.path.isdir(train_dir):\n",
    "    os.mkdir(os.path.join(train_dir))\n",
    "\n",
    "test_dir = os.path.join(TARGET, 'test')\n",
    "if not os.path.isdir(test_dir):\n",
    "    os.mkdir(os.path.join(test_dir))\n",
    "\n",
    "files = os.listdir(os.path.join(SOURCE))\n",
    "\n",
    "for f in tqdm(files):\n",
    "    filename = os.path.join(SOURCE, f)\n",
    "    \n",
    "    data = pd.read_csv(filename)\n",
    "\n",
    "    rename_columns(data)\n",
    "    data = index_and_downsample(data)\n",
    "    trim_features(data)\n",
    "    optimize_dtypes(data)\n",
    "    \n",
    "    f_ = os.path.splitext(f)[0] + '.snappy'\n",
    "    filename_ = os.path.join(train_dir, f_) if data['anomaly'].max() == 0 else os.path.join(test_dir, f_)\n",
    "    data.to_parquet(filename_, compression='snappy')"
   ]
  },
  {
   "cell_type": "markdown",
   "id": "03c13088",
   "metadata": {},
   "source": [
    "# Self-Check"
   ]
  },
  {
   "cell_type": "code",
   "execution_count": 9,
   "id": "e192447d",
   "metadata": {
    "ExecuteTime": {
     "end_time": "2022-09-05T16:54:36.582204Z",
     "start_time": "2022-09-05T16:54:36.523189Z"
    }
   },
   "outputs": [
    {
     "name": "stdout",
     "output_type": "stream",
     "text": [
      "<class 'pandas.core.frame.DataFrame'>\n",
      "DatetimeIndex: 25001 entries, 2016-10-28 00:00:00 to 2016-11-14 08:40:00\n",
      "Data columns (total 13 columns):\n",
      " #   Column             Non-Null Count  Dtype  \n",
      "---  ------             --------------  -----  \n",
      " 0   rt_temp_gc         25001 non-null  float32\n",
      " 1   ht_temp_gc         25001 non-null  float32\n",
      " 2   rt_level_m         25001 non-null  float32\n",
      " 3   output_flow_state  25001 non-null  uint8  \n",
      " 4   return_flow_state  25001 non-null  uint8  \n",
      " 5   input_temp_gc      25001 non-null  float32\n",
      " 6   input_flow_state   25001 non-null  uint8  \n",
      " 7   supply_flow_state  25001 non-null  uint8  \n",
      " 8   ct_level_m         25001 non-null  float32\n",
      " 9   ct_temp_gc         25001 non-null  float32\n",
      " 10  heater_state       25001 non-null  uint8  \n",
      " 11  ht_level_m         25001 non-null  float32\n",
      " 12  anomaly            25001 non-null  uint8  \n",
      "dtypes: float32(7), uint8(6)\n",
      "memory usage: 1.0 MB\n"
     ]
    }
   ],
   "source": [
    "data = pd.read_parquet(filename_)\n",
    "data.info()"
   ]
  },
  {
   "cell_type": "code",
   "execution_count": 25,
   "id": "97949608",
   "metadata": {
    "ExecuteTime": {
     "end_time": "2022-09-05T16:59:11.858548Z",
     "start_time": "2022-09-05T16:59:11.840269Z"
    },
    "scrolled": true
   },
   "outputs": [
    {
     "data": {
      "text/plain": [
       "DatetimeIndex(['2016-10-28 00:00:00', '2016-10-28 00:01:00',\n",
       "               '2016-10-28 00:02:00', '2016-10-28 00:03:00',\n",
       "               '2016-10-28 00:04:00', '2016-10-28 00:05:00',\n",
       "               '2016-10-28 00:06:00', '2016-10-28 00:07:00',\n",
       "               '2016-10-28 00:08:00', '2016-10-28 00:09:00',\n",
       "               ...\n",
       "               '2016-11-14 08:31:00', '2016-11-14 08:32:00',\n",
       "               '2016-11-14 08:33:00', '2016-11-14 08:34:00',\n",
       "               '2016-11-14 08:35:00', '2016-11-14 08:36:00',\n",
       "               '2016-11-14 08:37:00', '2016-11-14 08:38:00',\n",
       "               '2016-11-14 08:39:00', '2016-11-14 08:40:00'],\n",
       "              dtype='datetime64[ns]', length=25001, freq='60S')"
      ]
     },
     "execution_count": 25,
     "metadata": {},
     "output_type": "execute_result"
    }
   ],
   "source": [
    "data.index"
   ]
  },
  {
   "cell_type": "code",
   "execution_count": null,
   "id": "92285481",
   "metadata": {},
   "outputs": [],
   "source": []
  }
 ],
 "metadata": {
  "kernelspec": {
   "display_name": "Python 3 (ipykernel)",
   "language": "python",
   "name": "python3"
  },
  "language_info": {
   "codemirror_mode": {
    "name": "ipython",
    "version": 3
   },
   "file_extension": ".py",
   "mimetype": "text/x-python",
   "name": "python",
   "nbconvert_exporter": "python",
   "pygments_lexer": "ipython3",
   "version": "3.8.8"
  },
  "toc": {
   "base_numbering": 1,
   "nav_menu": {},
   "number_sections": true,
   "sideBar": true,
   "skip_h1_title": false,
   "title_cell": "Table of Contents",
   "title_sidebar": "Contents",
   "toc_cell": false,
   "toc_position": {},
   "toc_section_display": true,
   "toc_window_display": false
  }
 },
 "nbformat": 4,
 "nbformat_minor": 5
}
