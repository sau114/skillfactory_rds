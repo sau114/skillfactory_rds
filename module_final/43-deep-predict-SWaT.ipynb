{
 "cells": [
  {
   "cell_type": "code",
   "execution_count": 1,
   "id": "6f3c87cb",
   "metadata": {
    "ExecuteTime": {
     "end_time": "2022-09-13T21:47:31.172383Z",
     "start_time": "2022-09-13T21:47:31.129277Z"
    }
   },
   "outputs": [],
   "source": [
    "!del /Q utils\\__pycache__"
   ]
  },
  {
   "cell_type": "code",
   "execution_count": 2,
   "id": "752d811d",
   "metadata": {
    "ExecuteTime": {
     "end_time": "2022-09-13T21:47:32.340247Z",
     "start_time": "2022-09-13T21:47:31.175370Z"
    }
   },
   "outputs": [],
   "source": [
    "import numpy as np\n",
    "import pandas as pd\n",
    "from tqdm.notebook import tqdm"
   ]
  },
  {
   "cell_type": "code",
   "execution_count": 3,
   "id": "04ddc3a0",
   "metadata": {
    "ExecuteTime": {
     "end_time": "2022-09-13T21:47:32.386064Z",
     "start_time": "2022-09-13T21:47:32.344595Z"
    }
   },
   "outputs": [],
   "source": [
    "from utils.datasets import GhlKasperskyDataset, TepHarvardDataset, TepKasperskyDataset, SwatItrustDataset\n",
    "from utils.custom_plots import plot_stacked\n",
    "from utils.metrics import time_span_metrics"
   ]
  },
  {
   "cell_type": "code",
   "execution_count": 4,
   "id": "550fbb3c",
   "metadata": {
    "ExecuteTime": {
     "end_time": "2022-09-13T21:47:33.372658Z",
     "start_time": "2022-09-13T21:47:32.388978Z"
    }
   },
   "outputs": [],
   "source": [
    "from sklearn.metrics import mean_squared_error"
   ]
  },
  {
   "cell_type": "markdown",
   "id": "e237a2ff",
   "metadata": {},
   "source": [
    "# Data"
   ]
  },
  {
   "cell_type": "code",
   "execution_count": 5,
   "id": "20f8f04b",
   "metadata": {
    "ExecuteTime": {
     "end_time": "2022-09-13T21:47:33.388655Z",
     "start_time": "2022-09-13T21:47:33.375659Z"
    }
   },
   "outputs": [],
   "source": [
    "ds = SwatItrustDataset()\n",
    "ds.shake_not_stir()"
   ]
  },
  {
   "cell_type": "code",
   "execution_count": 6,
   "id": "00211f4e",
   "metadata": {
    "ExecuteTime": {
     "end_time": "2022-09-13T21:47:33.465630Z",
     "start_time": "2022-09-13T21:47:33.392155Z"
    }
   },
   "outputs": [],
   "source": [
    "train, _ , _ = next(ds.train_generator())"
   ]
  },
  {
   "cell_type": "code",
   "execution_count": 7,
   "id": "61bf47ac",
   "metadata": {
    "ExecuteTime": {
     "end_time": "2022-09-13T21:47:33.481609Z",
     "start_time": "2022-09-13T21:47:33.467607Z"
    }
   },
   "outputs": [],
   "source": [
    "from sklearn.preprocessing import StandardScaler"
   ]
  },
  {
   "cell_type": "code",
   "execution_count": 8,
   "id": "44898356",
   "metadata": {
    "ExecuteTime": {
     "end_time": "2022-09-13T21:47:33.528644Z",
     "start_time": "2022-09-13T21:47:33.484609Z"
    }
   },
   "outputs": [],
   "source": [
    "scaler = StandardScaler()\n",
    "for data, _, _ in ds.train_generator():\n",
    "    scaler.partial_fit(data)"
   ]
  },
  {
   "cell_type": "code",
   "execution_count": 9,
   "id": "c260ed44",
   "metadata": {
    "ExecuteTime": {
     "end_time": "2022-09-13T21:47:33.544610Z",
     "start_time": "2022-09-13T21:47:33.533608Z"
    }
   },
   "outputs": [],
   "source": [
    "SEED = 7145"
   ]
  },
  {
   "cell_type": "markdown",
   "id": "38c265bc",
   "metadata": {},
   "source": [
    "# LSTM"
   ]
  },
  {
   "cell_type": "code",
   "execution_count": 10,
   "id": "98ec593c",
   "metadata": {
    "ExecuteTime": {
     "end_time": "2022-09-13T21:47:39.945207Z",
     "start_time": "2022-09-13T21:47:33.547609Z"
    }
   },
   "outputs": [],
   "source": [
    "from tensorflow.keras.models import Sequential\n",
    "from tensorflow.keras.layers import Dense, LSTM, GRU, Conv1D, ConvLSTM1D\n",
    "from tensorflow.keras.backend import clear_session\n",
    "from tensorflow.keras.callbacks import EarlyStopping, ModelCheckpoint\n",
    "from tensorflow.keras.utils import set_random_seed"
   ]
  },
  {
   "cell_type": "code",
   "execution_count": 11,
   "id": "229f0bb5",
   "metadata": {
    "ExecuteTime": {
     "end_time": "2022-09-13T21:47:39.959554Z",
     "start_time": "2022-09-13T21:47:39.945207Z"
    }
   },
   "outputs": [],
   "source": [
    "# split a multivariate sequence into samples\n",
    "def split_sequences(sequences, n_steps):\n",
    "    X, y = list(), list()\n",
    "    for i in range(len(sequences)):\n",
    "        # find the end of this pattern\n",
    "        end_ix = i + n_steps\n",
    "        # check if we are beyond the dataset\n",
    "        if end_ix > len(sequences)-1:\n",
    "            break\n",
    "        # gather input and output parts of the pattern\n",
    "        seq_x, seq_y = sequences[i:end_ix, :], sequences[end_ix, :]\n",
    "        X.append(seq_x)\n",
    "        y.append(seq_y)\n",
    "    return np.array(X), np.array(y)"
   ]
  },
  {
   "cell_type": "code",
   "execution_count": 12,
   "id": "68fc9998",
   "metadata": {
    "ExecuteTime": {
     "end_time": "2022-09-13T21:47:39.975726Z",
     "start_time": "2022-09-13T21:47:39.962645Z"
    }
   },
   "outputs": [],
   "source": [
    "n_features = train.shape[1]\n",
    "valid_size = 0.2\n",
    "res_lstm = pd.DataFrame(dtype='float')"
   ]
  },
  {
   "cell_type": "code",
   "execution_count": 13,
   "id": "9637e2ab",
   "metadata": {
    "ExecuteTime": {
     "end_time": "2022-09-13T21:47:39.990773Z",
     "start_time": "2022-09-13T21:47:39.978645Z"
    }
   },
   "outputs": [],
   "source": [
    "checkpoint = ModelCheckpoint('best_swat_lstm.hdf5',\n",
    "                             monitor='val_mse', \n",
    "                             verbose=0, \n",
    "                             mode='min',\n",
    "                             save_best_only = True,\n",
    "                            )\n",
    "\n",
    "earlystop = EarlyStopping(monitor='val_mse',\n",
    "                          patience=2,\n",
    "                          min_delta = 0.001,\n",
    "                          restore_best_weights=True,\n",
    "                          verbose=0,\n",
    "                         )\n",
    "\n",
    "callbacks_list = [checkpoint, earlystop]"
   ]
  },
  {
   "cell_type": "code",
   "execution_count": 14,
   "id": "d735a81c",
   "metadata": {
    "ExecuteTime": {
     "end_time": "2022-09-13T22:09:11.098174Z",
     "start_time": "2022-09-13T21:47:39.993645Z"
    },
    "scrolled": true
   },
   "outputs": [
    {
     "data": {
      "application/vnd.jupyter.widget-view+json": {
       "model_id": "1d4e254adfc9439488e9a9c788ced3d1",
       "version_major": 2,
       "version_minor": 0
      },
      "text/plain": [
       "  0%|          | 0/5 [00:00<?, ?it/s]"
      ]
     },
     "metadata": {},
     "output_type": "display_data"
    },
    {
     "data": {
      "application/vnd.jupyter.widget-view+json": {
       "model_id": "4df57b0cb3fd4e54bc64d3c43b73014c",
       "version_major": 2,
       "version_minor": 0
      },
      "text/plain": [
       "  0%|          | 0/4 [00:00<?, ?it/s]"
      ]
     },
     "metadata": {},
     "output_type": "display_data"
    },
    {
     "data": {
      "application/vnd.jupyter.widget-view+json": {
       "model_id": "e71ba6b4b6d342df91b9188fd9db2a50",
       "version_major": 2,
       "version_minor": 0
      },
      "text/plain": [
       "  0%|          | 0/4 [00:00<?, ?it/s]"
      ]
     },
     "metadata": {},
     "output_type": "display_data"
    },
    {
     "data": {
      "application/vnd.jupyter.widget-view+json": {
       "model_id": "1bb0330572c549b59828b9884546740a",
       "version_major": 2,
       "version_minor": 0
      },
      "text/plain": [
       "  0%|          | 0/4 [00:00<?, ?it/s]"
      ]
     },
     "metadata": {},
     "output_type": "display_data"
    },
    {
     "data": {
      "application/vnd.jupyter.widget-view+json": {
       "model_id": "e92c17d94fc349eea608409f48a42b5a",
       "version_major": 2,
       "version_minor": 0
      },
      "text/plain": [
       "  0%|          | 0/4 [00:00<?, ?it/s]"
      ]
     },
     "metadata": {},
     "output_type": "display_data"
    },
    {
     "data": {
      "application/vnd.jupyter.widget-view+json": {
       "model_id": "1fe009a96f2d4087b8b75de8511047f5",
       "version_major": 2,
       "version_minor": 0
      },
      "text/plain": [
       "  0%|          | 0/4 [00:00<?, ?it/s]"
      ]
     },
     "metadata": {},
     "output_type": "display_data"
    }
   ],
   "source": [
    "for n_steps in tqdm([2, 4, 8, 16, 32]):\n",
    "    for rnn_dim in tqdm([32, 64, 128, 256]):\n",
    "        res_lstm.loc[n_steps, rnn_dim] = 0.0\n",
    "        clear_session()\n",
    "        set_random_seed(SEED)\n",
    "        model = Sequential()\n",
    "        model.add(LSTM(rnn_dim, activation='relu', return_sequences=True, input_shape=(n_steps, n_features)))\n",
    "        model.add(LSTM(rnn_dim, activation='relu'))\n",
    "        model.add(Dense(n_features))\n",
    "        model.compile(optimizer='adam', loss='mse', metrics=['mse', 'mae'])\n",
    "        for train, _, _ in ds.train_generator():\n",
    "            X, y = split_sequences(scaler.transform(train), n_steps)\n",
    "\n",
    "            train_n = round(X.shape[0] * (1 - valid_size))\n",
    "            X_train = X[:train_n]\n",
    "            y_train= y[:train_n]\n",
    "            X_valid = X[train_n:]\n",
    "            y_valid = y[train_n:]\n",
    "\n",
    "            model.fit(X_train, y_train,\n",
    "                      epochs=100,\n",
    "                      validation_data=(X_valid, y_valid),\n",
    "                      callbacks=callbacks_list,\n",
    "                      verbose=0,\n",
    "                     )\n",
    "\n",
    "            y_ = model.predict(X_valid)\n",
    "            res_lstm.loc[n_steps, rnn_dim] += mean_squared_error(y_valid, y_)\n",
    "res_lstm /= len(ds.train_generator())"
   ]
  },
  {
   "cell_type": "code",
   "execution_count": 15,
   "id": "3a0b15d8",
   "metadata": {
    "ExecuteTime": {
     "end_time": "2022-09-13T22:09:11.159870Z",
     "start_time": "2022-09-13T22:09:11.101872Z"
    }
   },
   "outputs": [
    {
     "data": {
      "text/html": [
       "<div>\n",
       "<style scoped>\n",
       "    .dataframe tbody tr th:only-of-type {\n",
       "        vertical-align: middle;\n",
       "    }\n",
       "\n",
       "    .dataframe tbody tr th {\n",
       "        vertical-align: top;\n",
       "    }\n",
       "\n",
       "    .dataframe thead th {\n",
       "        text-align: right;\n",
       "    }\n",
       "</style>\n",
       "<table border=\"1\" class=\"dataframe\">\n",
       "  <thead>\n",
       "    <tr style=\"text-align: right;\">\n",
       "      <th></th>\n",
       "      <th>32</th>\n",
       "      <th>64</th>\n",
       "      <th>128</th>\n",
       "      <th>256</th>\n",
       "    </tr>\n",
       "  </thead>\n",
       "  <tbody>\n",
       "    <tr>\n",
       "      <th>2</th>\n",
       "      <td>0.157999</td>\n",
       "      <td>0.156510</td>\n",
       "      <td>0.151895</td>\n",
       "      <td>0.151924</td>\n",
       "    </tr>\n",
       "    <tr>\n",
       "      <th>4</th>\n",
       "      <td>0.154417</td>\n",
       "      <td>0.151977</td>\n",
       "      <td>0.144170</td>\n",
       "      <td>0.148224</td>\n",
       "    </tr>\n",
       "    <tr>\n",
       "      <th>8</th>\n",
       "      <td>0.147669</td>\n",
       "      <td>0.153058</td>\n",
       "      <td>0.144346</td>\n",
       "      <td>0.139765</td>\n",
       "    </tr>\n",
       "    <tr>\n",
       "      <th>16</th>\n",
       "      <td>0.145745</td>\n",
       "      <td>0.154725</td>\n",
       "      <td>0.178005</td>\n",
       "      <td>0.141459</td>\n",
       "    </tr>\n",
       "    <tr>\n",
       "      <th>32</th>\n",
       "      <td>0.179993</td>\n",
       "      <td>0.157387</td>\n",
       "      <td>0.173006</td>\n",
       "      <td>0.268571</td>\n",
       "    </tr>\n",
       "  </tbody>\n",
       "</table>\n",
       "</div>"
      ],
      "text/plain": [
       "         32        64        128       256\n",
       "2   0.157999  0.156510  0.151895  0.151924\n",
       "4   0.154417  0.151977  0.144170  0.148224\n",
       "8   0.147669  0.153058  0.144346  0.139765\n",
       "16  0.145745  0.154725  0.178005  0.141459\n",
       "32  0.179993  0.157387  0.173006  0.268571"
      ]
     },
     "execution_count": 15,
     "metadata": {},
     "output_type": "execute_result"
    }
   ],
   "source": [
    "res_lstm"
   ]
  },
  {
   "cell_type": "code",
   "execution_count": 16,
   "id": "efdb842f",
   "metadata": {
    "ExecuteTime": {
     "end_time": "2022-09-13T22:09:11.174870Z",
     "start_time": "2022-09-13T22:09:11.163871Z"
    }
   },
   "outputs": [
    {
     "data": {
      "text/plain": [
       "32     0.157165\n",
       "64     0.154731\n",
       "128    0.158284\n",
       "256    0.169989\n",
       "dtype: float64"
      ]
     },
     "execution_count": 16,
     "metadata": {},
     "output_type": "execute_result"
    }
   ],
   "source": [
    "res_lstm.mean(axis=0)"
   ]
  },
  {
   "cell_type": "code",
   "execution_count": 17,
   "id": "191c35c8",
   "metadata": {
    "ExecuteTime": {
     "end_time": "2022-09-13T22:09:11.205868Z",
     "start_time": "2022-09-13T22:09:11.178040Z"
    }
   },
   "outputs": [
    {
     "data": {
      "text/plain": [
       "2     0.154582\n",
       "4     0.149697\n",
       "8     0.146209\n",
       "16    0.154984\n",
       "32    0.194739\n",
       "dtype: float64"
      ]
     },
     "execution_count": 17,
     "metadata": {},
     "output_type": "execute_result"
    }
   ],
   "source": [
    "res_lstm.mean(axis=1)"
   ]
  },
  {
   "cell_type": "markdown",
   "id": "1c1ed04b",
   "metadata": {},
   "source": [
    "# GRU"
   ]
  },
  {
   "cell_type": "code",
   "execution_count": 24,
   "id": "60ec5906",
   "metadata": {
    "ExecuteTime": {
     "end_time": "2022-09-14T00:30:10.783660Z",
     "start_time": "2022-09-14T00:30:10.777054Z"
    }
   },
   "outputs": [],
   "source": [
    "res_gru = pd.DataFrame(dtype='float')"
   ]
  },
  {
   "cell_type": "code",
   "execution_count": 25,
   "id": "898b3361",
   "metadata": {
    "ExecuteTime": {
     "end_time": "2022-09-14T00:30:10.814662Z",
     "start_time": "2022-09-14T00:30:10.787680Z"
    }
   },
   "outputs": [],
   "source": [
    "checkpoint = ModelCheckpoint('best_swat_gru.hdf5',\n",
    "                             monitor='val_mse', \n",
    "                             verbose=0, \n",
    "                             mode='min',\n",
    "                             save_best_only = True,\n",
    "                            )\n",
    "\n",
    "earlystop = EarlyStopping(monitor='val_mse',\n",
    "                          patience=2,\n",
    "                          min_delta = 0.001,\n",
    "                          restore_best_weights=True,\n",
    "                          verbose=0,\n",
    "                         )\n",
    "\n",
    "callbacks_list = [checkpoint, earlystop]"
   ]
  },
  {
   "cell_type": "code",
   "execution_count": 26,
   "id": "f11529c8",
   "metadata": {
    "ExecuteTime": {
     "end_time": "2022-09-14T00:34:02.390063Z",
     "start_time": "2022-09-14T00:30:10.817663Z"
    }
   },
   "outputs": [
    {
     "data": {
      "application/vnd.jupyter.widget-view+json": {
       "model_id": "416eb0a76d0546a1bb3ef0c68f0c89e5",
       "version_major": 2,
       "version_minor": 0
      },
      "text/plain": [
       "  0%|          | 0/5 [00:00<?, ?it/s]"
      ]
     },
     "metadata": {},
     "output_type": "display_data"
    },
    {
     "data": {
      "application/vnd.jupyter.widget-view+json": {
       "model_id": "085d309514304f2f962cdc72d1ca1484",
       "version_major": 2,
       "version_minor": 0
      },
      "text/plain": [
       "  0%|          | 0/4 [00:00<?, ?it/s]"
      ]
     },
     "metadata": {},
     "output_type": "display_data"
    },
    {
     "data": {
      "application/vnd.jupyter.widget-view+json": {
       "model_id": "420990aa24da422e899a06fb13eb97d8",
       "version_major": 2,
       "version_minor": 0
      },
      "text/plain": [
       "  0%|          | 0/4 [00:00<?, ?it/s]"
      ]
     },
     "metadata": {},
     "output_type": "display_data"
    },
    {
     "data": {
      "application/vnd.jupyter.widget-view+json": {
       "model_id": "a34019e07e5e47ad8e11ba214c30805d",
       "version_major": 2,
       "version_minor": 0
      },
      "text/plain": [
       "  0%|          | 0/4 [00:00<?, ?it/s]"
      ]
     },
     "metadata": {},
     "output_type": "display_data"
    },
    {
     "data": {
      "application/vnd.jupyter.widget-view+json": {
       "model_id": "b63e94afb6b74e269990cf653c711638",
       "version_major": 2,
       "version_minor": 0
      },
      "text/plain": [
       "  0%|          | 0/4 [00:00<?, ?it/s]"
      ]
     },
     "metadata": {},
     "output_type": "display_data"
    },
    {
     "data": {
      "application/vnd.jupyter.widget-view+json": {
       "model_id": "6c3af38f25384ff1a015edd36cce1b89",
       "version_major": 2,
       "version_minor": 0
      },
      "text/plain": [
       "  0%|          | 0/4 [00:00<?, ?it/s]"
      ]
     },
     "metadata": {},
     "output_type": "display_data"
    }
   ],
   "source": [
    "for n_steps in tqdm([2, 4, 8, 16, 32]):\n",
    "    for rnn_dim in tqdm([32, 64, 128, 256]):\n",
    "        res_gru.loc[n_steps, rnn_dim] = 0.0\n",
    "        clear_session()\n",
    "        set_random_seed(SEED)\n",
    "        model = Sequential()\n",
    "        model.add(GRU(rnn_dim, activation='relu', return_sequences=True, input_shape=(n_steps, n_features)))\n",
    "        model.add(GRU(rnn_dim, activation='relu'))\n",
    "        model.add(Dense(n_features))\n",
    "        model.compile(optimizer='adam', loss='mse', metrics=['mse', 'mae'])\n",
    "        for train, _, _ in ds.train_generator():\n",
    "            X, y = split_sequences(scaler.transform(train), n_steps)\n",
    "\n",
    "            train_n = round(X.shape[0] * (1 - valid_size))\n",
    "            X_train = X[:train_n]\n",
    "            y_train= y[:train_n]\n",
    "            X_valid = X[train_n:]\n",
    "            y_valid = y[train_n:]\n",
    "\n",
    "            model.fit(X_train, y_train,\n",
    "                      epochs=1,\n",
    "                      validation_data=(X_valid, y_valid),\n",
    "                      callbacks=callbacks_list,\n",
    "                      verbose=0,\n",
    "                     )\n",
    "\n",
    "            y_ = model.predict(X_valid)\n",
    "            res_gru.loc[n_steps, rnn_dim] += mean_squared_error(y_valid, y_)\n",
    "res_gru /= len(ds.train_generator())"
   ]
  },
  {
   "cell_type": "code",
   "execution_count": 27,
   "id": "4e1ab28c",
   "metadata": {
    "ExecuteTime": {
     "end_time": "2022-09-14T00:34:02.422847Z",
     "start_time": "2022-09-14T00:34:02.390137Z"
    }
   },
   "outputs": [
    {
     "data": {
      "text/html": [
       "<div>\n",
       "<style scoped>\n",
       "    .dataframe tbody tr th:only-of-type {\n",
       "        vertical-align: middle;\n",
       "    }\n",
       "\n",
       "    .dataframe tbody tr th {\n",
       "        vertical-align: top;\n",
       "    }\n",
       "\n",
       "    .dataframe thead th {\n",
       "        text-align: right;\n",
       "    }\n",
       "</style>\n",
       "<table border=\"1\" class=\"dataframe\">\n",
       "  <thead>\n",
       "    <tr style=\"text-align: right;\">\n",
       "      <th></th>\n",
       "      <th>32</th>\n",
       "      <th>64</th>\n",
       "      <th>128</th>\n",
       "      <th>256</th>\n",
       "    </tr>\n",
       "  </thead>\n",
       "  <tbody>\n",
       "    <tr>\n",
       "      <th>2</th>\n",
       "      <td>0.206896</td>\n",
       "      <td>0.185729</td>\n",
       "      <td>0.167153</td>\n",
       "      <td>0.152144</td>\n",
       "    </tr>\n",
       "    <tr>\n",
       "      <th>4</th>\n",
       "      <td>0.199258</td>\n",
       "      <td>0.177815</td>\n",
       "      <td>0.160473</td>\n",
       "      <td>0.145456</td>\n",
       "    </tr>\n",
       "    <tr>\n",
       "      <th>8</th>\n",
       "      <td>0.198806</td>\n",
       "      <td>0.175249</td>\n",
       "      <td>0.154040</td>\n",
       "      <td>0.143714</td>\n",
       "    </tr>\n",
       "    <tr>\n",
       "      <th>16</th>\n",
       "      <td>0.202052</td>\n",
       "      <td>0.174859</td>\n",
       "      <td>0.161038</td>\n",
       "      <td>0.151506</td>\n",
       "    </tr>\n",
       "    <tr>\n",
       "      <th>32</th>\n",
       "      <td>0.195439</td>\n",
       "      <td>0.168033</td>\n",
       "      <td>0.151397</td>\n",
       "      <td>0.144452</td>\n",
       "    </tr>\n",
       "  </tbody>\n",
       "</table>\n",
       "</div>"
      ],
      "text/plain": [
       "         32        64        128       256\n",
       "2   0.206896  0.185729  0.167153  0.152144\n",
       "4   0.199258  0.177815  0.160473  0.145456\n",
       "8   0.198806  0.175249  0.154040  0.143714\n",
       "16  0.202052  0.174859  0.161038  0.151506\n",
       "32  0.195439  0.168033  0.151397  0.144452"
      ]
     },
     "execution_count": 27,
     "metadata": {},
     "output_type": "execute_result"
    }
   ],
   "source": [
    "res_gru"
   ]
  },
  {
   "cell_type": "code",
   "execution_count": 28,
   "id": "38445309",
   "metadata": {
    "ExecuteTime": {
     "end_time": "2022-09-14T00:34:02.438782Z",
     "start_time": "2022-09-14T00:34:02.426779Z"
    }
   },
   "outputs": [
    {
     "data": {
      "text/plain": [
       "32     0.200490\n",
       "64     0.176337\n",
       "128    0.158820\n",
       "256    0.147454\n",
       "dtype: float64"
      ]
     },
     "execution_count": 28,
     "metadata": {},
     "output_type": "execute_result"
    }
   ],
   "source": [
    "res_gru.mean(axis=0)"
   ]
  },
  {
   "cell_type": "code",
   "execution_count": 30,
   "id": "79acd672",
   "metadata": {
    "ExecuteTime": {
     "end_time": "2022-09-14T07:50:54.090833Z",
     "start_time": "2022-09-14T07:50:54.075832Z"
    }
   },
   "outputs": [
    {
     "data": {
      "text/plain": [
       "2     0.177981\n",
       "4     0.170751\n",
       "8     0.167952\n",
       "16    0.172364\n",
       "32    0.164830\n",
       "dtype: float64"
      ]
     },
     "execution_count": 30,
     "metadata": {},
     "output_type": "execute_result"
    }
   ],
   "source": [
    "res_gru.mean(axis=1)"
   ]
  },
  {
   "cell_type": "code",
   "execution_count": null,
   "id": "832013dd",
   "metadata": {},
   "outputs": [],
   "source": []
  }
 ],
 "metadata": {
  "kernelspec": {
   "display_name": "Python 3 (ipykernel)",
   "language": "python",
   "name": "python3"
  },
  "language_info": {
   "codemirror_mode": {
    "name": "ipython",
    "version": 3
   },
   "file_extension": ".py",
   "mimetype": "text/x-python",
   "name": "python",
   "nbconvert_exporter": "python",
   "pygments_lexer": "ipython3",
   "version": "3.8.8"
  },
  "toc": {
   "base_numbering": 1,
   "nav_menu": {},
   "number_sections": true,
   "sideBar": true,
   "skip_h1_title": false,
   "title_cell": "Table of Contents",
   "title_sidebar": "Contents",
   "toc_cell": false,
   "toc_position": {},
   "toc_section_display": true,
   "toc_window_display": false
  }
 },
 "nbformat": 4,
 "nbformat_minor": 5
}
