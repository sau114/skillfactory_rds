{
 "cells": [
  {
   "cell_type": "code",
   "execution_count": 1,
   "id": "3afcaa82",
   "metadata": {
    "ExecuteTime": {
     "end_time": "2022-09-09T19:16:58.688568Z",
     "start_time": "2022-09-09T19:16:58.645511Z"
    }
   },
   "outputs": [],
   "source": [
    "!del /Q utils\\__pycache__"
   ]
  },
  {
   "cell_type": "code",
   "execution_count": 2,
   "id": "86b03be5",
   "metadata": {
    "ExecuteTime": {
     "end_time": "2022-09-09T19:16:59.477217Z",
     "start_time": "2022-09-09T19:16:58.691495Z"
    }
   },
   "outputs": [],
   "source": [
    "import pandas as pd\n",
    "from tqdm.notebook import tqdm"
   ]
  },
  {
   "cell_type": "code",
   "execution_count": 3,
   "id": "f34899c4",
   "metadata": {
    "ExecuteTime": {
     "end_time": "2022-09-09T19:17:01.356679Z",
     "start_time": "2022-09-09T19:16:59.477694Z"
    }
   },
   "outputs": [],
   "source": [
    "from utils.datasets import GhlKasperskyDataset, TepHarvardDataset, TepKasperskyDataset, SwatItrustDataset\n",
    "from utils.custom_plots import plot_stacked\n",
    "from utils.metrics import time_span_metrics\n",
    "from utils.preserves import load_object\n",
    "from utils.watchmen import DirectLimitWatchman, PcaLimitWatchman, IsoForestWatchman, LinearPredictWatchman"
   ]
  },
  {
   "cell_type": "code",
   "execution_count": 4,
   "id": "f4e9bb0f",
   "metadata": {
    "ExecuteTime": {
     "end_time": "2022-09-09T19:17:01.385078Z",
     "start_time": "2022-09-09T19:17:01.358736Z"
    }
   },
   "outputs": [],
   "source": [
    "SEED = 585"
   ]
  },
  {
   "cell_type": "markdown",
   "id": "ab2d87dc",
   "metadata": {
    "ExecuteTime": {
     "end_time": "2022-08-19T10:07:19.598656Z",
     "start_time": "2022-08-19T10:07:18.676895Z"
    }
   },
   "source": [
    "# Preparing datasets"
   ]
  },
  {
   "cell_type": "code",
   "execution_count": 5,
   "id": "cb921176",
   "metadata": {
    "ExecuteTime": {
     "end_time": "2022-09-09T19:17:01.400049Z",
     "start_time": "2022-09-09T19:17:01.388836Z"
    }
   },
   "outputs": [],
   "source": [
    "datasets = {\n",
    "    0: GhlKasperskyDataset(),\n",
    "    1: TepHarvardDataset(),\n",
    "    2: TepKasperskyDataset(),\n",
    "    3: SwatItrustDataset(),\n",
    "}"
   ]
  },
  {
   "cell_type": "code",
   "execution_count": 6,
   "id": "fd787944",
   "metadata": {
    "ExecuteTime": {
     "end_time": "2022-09-09T19:17:01.510272Z",
     "start_time": "2022-09-09T19:17:01.403479Z"
    }
   },
   "outputs": [],
   "source": [
    "shake_kwargs = {\n",
    "    'random_state': SEED,\n",
    "    'valid2test_ratio': 0.3,\n",
    "}\n",
    "for d in datasets:\n",
    "    datasets[d].shake_not_stir(**shake_kwargs)"
   ]
  },
  {
   "cell_type": "markdown",
   "id": "f007db40",
   "metadata": {},
   "source": [
    "# Preparing watchhouse"
   ]
  },
  {
   "cell_type": "code",
   "execution_count": 7,
   "id": "b5c900e8",
   "metadata": {
    "ExecuteTime": {
     "end_time": "2022-09-09T19:17:01.526108Z",
     "start_time": "2022-09-09T19:17:01.513055Z"
    }
   },
   "outputs": [],
   "source": [
    "n = 5\n",
    "watchhouse = {\n",
    "    0: {w: None for w in range(n)},\n",
    "    1: {w: None for w in range(n)},\n",
    "    2: {w: None for w in range(n)},\n",
    "    3: {w: None for w in range(n)},\n",
    "}"
   ]
  },
  {
   "cell_type": "code",
   "execution_count": 8,
   "id": "1f5d8620",
   "metadata": {
    "ExecuteTime": {
     "end_time": "2022-09-09T19:17:01.606153Z",
     "start_time": "2022-09-09T19:17:01.529043Z"
    }
   },
   "outputs": [],
   "source": [
    "for d in datasets:\n",
    "    for w in watchhouse[d]:\n",
    "        watchhouse[d][w] = load_object(f'{datasets[d].__class__.__name__}-watchman_{w}')"
   ]
  },
  {
   "cell_type": "markdown",
   "id": "5c728a4c",
   "metadata": {},
   "source": [
    "# Examine"
   ]
  },
  {
   "cell_type": "markdown",
   "id": "05b98514",
   "metadata": {},
   "source": [
    "## Throw stones"
   ]
  },
  {
   "cell_type": "code",
   "execution_count": 9,
   "id": "149642a0",
   "metadata": {
    "ExecuteTime": {
     "end_time": "2022-09-09T19:17:01.621165Z",
     "start_time": "2022-09-09T19:17:01.610167Z"
    }
   },
   "outputs": [],
   "source": [
    "stones = dict()\n",
    "for d in datasets:\n",
    "    stones[d] = dict()\n",
    "    for w in watchhouse[d]:\n",
    "        stones[d][w] = list()"
   ]
  },
  {
   "cell_type": "code",
   "execution_count": 10,
   "id": "2eeb2ed3",
   "metadata": {
    "ExecuteTime": {
     "end_time": "2022-09-09T20:08:02.935992Z",
     "start_time": "2022-09-09T19:17:01.624171Z"
    }
   },
   "outputs": [
    {
     "data": {
      "application/vnd.jupyter.widget-view+json": {
       "model_id": "f992fa42ceb940a990e267356fcd69e2",
       "version_major": 2,
       "version_minor": 0
      },
      "text/plain": [
       "Detect on validation 0:   0%|          | 0/14 [00:00<?, ?it/s]"
      ]
     },
     "metadata": {},
     "output_type": "display_data"
    },
    {
     "data": {
      "application/vnd.jupyter.widget-view+json": {
       "model_id": "8b2d0dd1e4864898a84911e56e46a27a",
       "version_major": 2,
       "version_minor": 0
      },
      "text/plain": [
       "Detect on validation 1:   0%|          | 0/3150 [00:00<?, ?it/s]"
      ]
     },
     "metadata": {},
     "output_type": "display_data"
    },
    {
     "data": {
      "application/vnd.jupyter.widget-view+json": {
       "model_id": "601a54685215499c8edb6052b5ab5f79",
       "version_major": 2,
       "version_minor": 0
      },
      "text/plain": [
       "Detect on validation 2:   0%|          | 0/146 [00:00<?, ?it/s]"
      ]
     },
     "metadata": {},
     "output_type": "display_data"
    },
    {
     "data": {
      "application/vnd.jupyter.widget-view+json": {
       "model_id": "505ce33fc04a4094871b834adfbeade6",
       "version_major": 2,
       "version_minor": 0
      },
      "text/plain": [
       "Detect on validation 3:   0%|          | 0/2 [00:00<?, ?it/s]"
      ]
     },
     "metadata": {},
     "output_type": "display_data"
    }
   ],
   "source": [
    "for d in datasets:\n",
    "    for data, faults, info in tqdm(datasets[d].valid_generator(), desc=f'Detect on validation {d}'):\n",
    "        for w in watchhouse[d]:\n",
    "            detect = watchhouse[d][w].predict(data)\n",
    "            stones[d][w].append(pd.concat([faults, detect], axis=1))\n",
    "            stones[d][w][-1].index.name = info"
   ]
  },
  {
   "cell_type": "markdown",
   "id": "1bb3f782",
   "metadata": {},
   "source": [
    "## Individual results"
   ]
  },
  {
   "cell_type": "code",
   "execution_count": 11,
   "id": "80eb84b9",
   "metadata": {
    "ExecuteTime": {
     "end_time": "2022-09-09T20:08:02.963521Z",
     "start_time": "2022-09-09T20:08:02.935992Z"
    }
   },
   "outputs": [],
   "source": [
    "metrics = ('precision', 'recall', 'f1_score')\n",
    "results = {str(datasets[d]): pd.DataFrame(columns=metrics) for d in datasets}"
   ]
  },
  {
   "cell_type": "code",
   "execution_count": 12,
   "id": "e8aa1157",
   "metadata": {
    "ExecuteTime": {
     "end_time": "2022-09-09T20:09:13.391610Z",
     "start_time": "2022-09-09T20:08:02.967957Z"
    }
   },
   "outputs": [
    {
     "data": {
      "application/vnd.jupyter.widget-view+json": {
       "model_id": "7ed16336c7544069a0343c6c4a5776f6",
       "version_major": 2,
       "version_minor": 0
      },
      "text/plain": [
       "Collect stones d0:   0%|          | 0/5 [00:00<?, ?it/s]"
      ]
     },
     "metadata": {},
     "output_type": "display_data"
    },
    {
     "data": {
      "application/vnd.jupyter.widget-view+json": {
       "model_id": "3106a296f0da423e8d5f77a91ca40895",
       "version_major": 2,
       "version_minor": 0
      },
      "text/plain": [
       "Collect stones d1:   0%|          | 0/5 [00:00<?, ?it/s]"
      ]
     },
     "metadata": {},
     "output_type": "display_data"
    },
    {
     "data": {
      "application/vnd.jupyter.widget-view+json": {
       "model_id": "e3ef66c1a2f046359200ff8fecefebaa",
       "version_major": 2,
       "version_minor": 0
      },
      "text/plain": [
       "Collect stones d2:   0%|          | 0/5 [00:00<?, ?it/s]"
      ]
     },
     "metadata": {},
     "output_type": "display_data"
    },
    {
     "data": {
      "application/vnd.jupyter.widget-view+json": {
       "model_id": "2ae57c8d928049ab8d2f771e8443900e",
       "version_major": 2,
       "version_minor": 0
      },
      "text/plain": [
       "Collect stones d3:   0%|          | 0/5 [00:00<?, ?it/s]"
      ]
     },
     "metadata": {},
     "output_type": "display_data"
    }
   ],
   "source": [
    "for d in datasets:\n",
    "    for w in tqdm(watchhouse[d], desc=f'Collect stones d{d}'):\n",
    "        exam_paper = pd.DataFrame(columns=metrics)\n",
    "        for i_st, st in enumerate(stones[d][w]):\n",
    "            exam_paper.loc[i_st, metrics] = time_span_metrics(st.iloc[:, 0], st.iloc[:, 1:])\n",
    "        results[str(datasets[d])].loc[str(watchhouse[d][w]), metrics] = exam_paper.mean().values"
   ]
  },
  {
   "cell_type": "markdown",
   "id": "19aee2a0",
   "metadata": {},
   "source": [
    "## Ensembling results"
   ]
  },
  {
   "cell_type": "code",
   "execution_count": 17,
   "id": "f5ac600e",
   "metadata": {
    "ExecuteTime": {
     "end_time": "2022-09-09T20:11:48.082129Z",
     "start_time": "2022-09-09T20:11:16.652406Z"
    }
   },
   "outputs": [
    {
     "data": {
      "application/vnd.jupyter.widget-view+json": {
       "model_id": "d706bd322fff4c3ca80f36a9b510f2d2",
       "version_major": 2,
       "version_minor": 0
      },
      "text/plain": [
       "Collect stones d0:   0%|          | 0/14 [00:00<?, ?it/s]"
      ]
     },
     "metadata": {},
     "output_type": "display_data"
    },
    {
     "data": {
      "application/vnd.jupyter.widget-view+json": {
       "model_id": "56f445c1dfab4a60ac9a701aa2007b78",
       "version_major": 2,
       "version_minor": 0
      },
      "text/plain": [
       "Collect stones d1:   0%|          | 0/3150 [00:00<?, ?it/s]"
      ]
     },
     "metadata": {},
     "output_type": "display_data"
    },
    {
     "data": {
      "application/vnd.jupyter.widget-view+json": {
       "model_id": "9cb7a25eb10b4ba08403960e2b5d5d4e",
       "version_major": 2,
       "version_minor": 0
      },
      "text/plain": [
       "Collect stones d2:   0%|          | 0/146 [00:00<?, ?it/s]"
      ]
     },
     "metadata": {},
     "output_type": "display_data"
    },
    {
     "data": {
      "application/vnd.jupyter.widget-view+json": {
       "model_id": "83825b7127c84da4a51aea2e8301408e",
       "version_major": 2,
       "version_minor": 0
      },
      "text/plain": [
       "Collect stones d3:   0%|          | 0/2 [00:00<?, ?it/s]"
      ]
     },
     "metadata": {},
     "output_type": "display_data"
    }
   ],
   "source": [
    "threshold = 2\n",
    "for d in datasets:\n",
    "    exam_paper = pd.DataFrame(columns=metrics)\n",
    "    for i_st, st in enumerate(tqdm(stones[d][0], desc=f'Collect stones d{d}')):\n",
    "        opinions = pd.concat([stones[d][w][i_st].iloc[:, 1:].sum(axis=1) for w in watchhouse[d]], axis=1)\n",
    "        detect = (opinions.sum(axis=1) >= threshold).astype('uint8')\n",
    "        exam_paper.loc[i_st, metrics] = time_span_metrics(st.iloc[:, 0], detect)\n",
    "    results[str(datasets[d])].loc[f'ensemble(threshold={threshold})', metrics] = exam_paper.mean().values"
   ]
  },
  {
   "cell_type": "code",
   "execution_count": 18,
   "id": "f60820cf",
   "metadata": {
    "ExecuteTime": {
     "end_time": "2022-09-09T20:11:48.143104Z",
     "start_time": "2022-09-09T20:11:48.088120Z"
    },
    "scrolled": false
   },
   "outputs": [
    {
     "name": "stdout",
     "output_type": "stream",
     "text": [
      "GhlKasperskyDataset(E:\\Datasets\\GHL)\n"
     ]
    },
    {
     "data": {
      "text/html": [
       "<div>\n",
       "<style scoped>\n",
       "    .dataframe tbody tr th:only-of-type {\n",
       "        vertical-align: middle;\n",
       "    }\n",
       "\n",
       "    .dataframe tbody tr th {\n",
       "        vertical-align: top;\n",
       "    }\n",
       "\n",
       "    .dataframe thead th {\n",
       "        text-align: right;\n",
       "    }\n",
       "</style>\n",
       "<table border=\"1\" class=\"dataframe\">\n",
       "  <thead>\n",
       "    <tr style=\"text-align: right;\">\n",
       "      <th></th>\n",
       "      <th>precision</th>\n",
       "      <th>recall</th>\n",
       "      <th>f1_score</th>\n",
       "    </tr>\n",
       "  </thead>\n",
       "  <tbody>\n",
       "    <tr>\n",
       "      <th>ensemble(threshold=2)</th>\n",
       "      <td>0.445918</td>\n",
       "      <td>0.613095</td>\n",
       "      <td>0.460714</td>\n",
       "    </tr>\n",
       "    <tr>\n",
       "      <th>PcaLimitWatchman(n_features=12)</th>\n",
       "      <td>0.410256</td>\n",
       "      <td>0.386905</td>\n",
       "      <td>0.366667</td>\n",
       "    </tr>\n",
       "    <tr>\n",
       "      <th>DirectLimitWatchman(n_features=12)</th>\n",
       "      <td>0.34305</td>\n",
       "      <td>0.630952</td>\n",
       "      <td>0.366331</td>\n",
       "    </tr>\n",
       "    <tr>\n",
       "      <th>ensemble(threshold=3)</th>\n",
       "      <td>1.0</td>\n",
       "      <td>0.142857</td>\n",
       "      <td>0.185034</td>\n",
       "    </tr>\n",
       "    <tr>\n",
       "      <th>ensemble(threshold=4)</th>\n",
       "      <td>1.0</td>\n",
       "      <td>0.053571</td>\n",
       "      <td>0.07619</td>\n",
       "    </tr>\n",
       "    <tr>\n",
       "      <th>IsoForestWatchman(n_features=12)</th>\n",
       "      <td>0.023114</td>\n",
       "      <td>0.827381</td>\n",
       "      <td>0.044873</td>\n",
       "    </tr>\n",
       "    <tr>\n",
       "      <th>Watchman(n_features=12)</th>\n",
       "      <td>NaN</td>\n",
       "      <td>0.0</td>\n",
       "      <td>0.0</td>\n",
       "    </tr>\n",
       "    <tr>\n",
       "      <th>LinearPredictWatchman(n_features=12)</th>\n",
       "      <td>NaN</td>\n",
       "      <td>0.0</td>\n",
       "      <td>0.0</td>\n",
       "    </tr>\n",
       "  </tbody>\n",
       "</table>\n",
       "</div>"
      ],
      "text/plain": [
       "                                     precision    recall  f1_score\n",
       "ensemble(threshold=2)                 0.445918  0.613095  0.460714\n",
       "PcaLimitWatchman(n_features=12)       0.410256  0.386905  0.366667\n",
       "DirectLimitWatchman(n_features=12)     0.34305  0.630952  0.366331\n",
       "ensemble(threshold=3)                      1.0  0.142857  0.185034\n",
       "ensemble(threshold=4)                      1.0  0.053571   0.07619\n",
       "IsoForestWatchman(n_features=12)      0.023114  0.827381  0.044873\n",
       "Watchman(n_features=12)                    NaN       0.0       0.0\n",
       "LinearPredictWatchman(n_features=12)       NaN       0.0       0.0"
      ]
     },
     "metadata": {},
     "output_type": "display_data"
    },
    {
     "name": "stdout",
     "output_type": "stream",
     "text": [
      "TepHarvardDataset(E:\\Datasets\\TEP\\dataverse)\n"
     ]
    },
    {
     "data": {
      "text/html": [
       "<div>\n",
       "<style scoped>\n",
       "    .dataframe tbody tr th:only-of-type {\n",
       "        vertical-align: middle;\n",
       "    }\n",
       "\n",
       "    .dataframe tbody tr th {\n",
       "        vertical-align: top;\n",
       "    }\n",
       "\n",
       "    .dataframe thead th {\n",
       "        text-align: right;\n",
       "    }\n",
       "</style>\n",
       "<table border=\"1\" class=\"dataframe\">\n",
       "  <thead>\n",
       "    <tr style=\"text-align: right;\">\n",
       "      <th></th>\n",
       "      <th>precision</th>\n",
       "      <th>recall</th>\n",
       "      <th>f1_score</th>\n",
       "    </tr>\n",
       "  </thead>\n",
       "  <tbody>\n",
       "    <tr>\n",
       "      <th>DirectLimitWatchman(n_features=52)</th>\n",
       "      <td>1.0</td>\n",
       "      <td>0.651693</td>\n",
       "      <td>0.699804</td>\n",
       "    </tr>\n",
       "    <tr>\n",
       "      <th>ensemble(threshold=2)</th>\n",
       "      <td>1.0</td>\n",
       "      <td>0.594435</td>\n",
       "      <td>0.647804</td>\n",
       "    </tr>\n",
       "    <tr>\n",
       "      <th>PcaLimitWatchman(n_features=52)</th>\n",
       "      <td>1.0</td>\n",
       "      <td>0.575188</td>\n",
       "      <td>0.623612</td>\n",
       "    </tr>\n",
       "    <tr>\n",
       "      <th>ensemble(threshold=3)</th>\n",
       "      <td>1.0</td>\n",
       "      <td>0.530546</td>\n",
       "      <td>0.582427</td>\n",
       "    </tr>\n",
       "    <tr>\n",
       "      <th>IsoForestWatchman(n_features=52)</th>\n",
       "      <td>0.845028</td>\n",
       "      <td>0.493972</td>\n",
       "      <td>0.560941</td>\n",
       "    </tr>\n",
       "    <tr>\n",
       "      <th>ensemble(threshold=4)</th>\n",
       "      <td>1.0</td>\n",
       "      <td>0.490751</td>\n",
       "      <td>0.542501</td>\n",
       "    </tr>\n",
       "    <tr>\n",
       "      <th>Watchman(n_features=52)</th>\n",
       "      <td>NaN</td>\n",
       "      <td>0.0</td>\n",
       "      <td>0.0</td>\n",
       "    </tr>\n",
       "    <tr>\n",
       "      <th>LinearPredictWatchman(n_features=52)</th>\n",
       "      <td>NaN</td>\n",
       "      <td>0.0</td>\n",
       "      <td>0.0</td>\n",
       "    </tr>\n",
       "  </tbody>\n",
       "</table>\n",
       "</div>"
      ],
      "text/plain": [
       "                                     precision    recall  f1_score\n",
       "DirectLimitWatchman(n_features=52)         1.0  0.651693  0.699804\n",
       "ensemble(threshold=2)                      1.0  0.594435  0.647804\n",
       "PcaLimitWatchman(n_features=52)            1.0  0.575188  0.623612\n",
       "ensemble(threshold=3)                      1.0  0.530546  0.582427\n",
       "IsoForestWatchman(n_features=52)      0.845028  0.493972  0.560941\n",
       "ensemble(threshold=4)                      1.0  0.490751  0.542501\n",
       "Watchman(n_features=52)                    NaN       0.0       0.0\n",
       "LinearPredictWatchman(n_features=52)       NaN       0.0       0.0"
      ]
     },
     "metadata": {},
     "output_type": "display_data"
    },
    {
     "name": "stdout",
     "output_type": "stream",
     "text": [
      "TepKasperskyDataset(E:\\Datasets\\TEP\\kaspersky)\n"
     ]
    },
    {
     "data": {
      "text/html": [
       "<div>\n",
       "<style scoped>\n",
       "    .dataframe tbody tr th:only-of-type {\n",
       "        vertical-align: middle;\n",
       "    }\n",
       "\n",
       "    .dataframe tbody tr th {\n",
       "        vertical-align: top;\n",
       "    }\n",
       "\n",
       "    .dataframe thead th {\n",
       "        text-align: right;\n",
       "    }\n",
       "</style>\n",
       "<table border=\"1\" class=\"dataframe\">\n",
       "  <thead>\n",
       "    <tr style=\"text-align: right;\">\n",
       "      <th></th>\n",
       "      <th>precision</th>\n",
       "      <th>recall</th>\n",
       "      <th>f1_score</th>\n",
       "    </tr>\n",
       "  </thead>\n",
       "  <tbody>\n",
       "    <tr>\n",
       "      <th>DirectLimitWatchman(n_features=53)</th>\n",
       "      <td>0.736203</td>\n",
       "      <td>0.437018</td>\n",
       "      <td>0.413159</td>\n",
       "    </tr>\n",
       "    <tr>\n",
       "      <th>ensemble(threshold=2)</th>\n",
       "      <td>0.736203</td>\n",
       "      <td>0.437018</td>\n",
       "      <td>0.413159</td>\n",
       "    </tr>\n",
       "    <tr>\n",
       "      <th>ensemble(threshold=3)</th>\n",
       "      <td>0.712795</td>\n",
       "      <td>0.228959</td>\n",
       "      <td>0.227973</td>\n",
       "    </tr>\n",
       "    <tr>\n",
       "      <th>PcaLimitWatchman(n_features=53)</th>\n",
       "      <td>0.918981</td>\n",
       "      <td>0.221336</td>\n",
       "      <td>0.227713</td>\n",
       "    </tr>\n",
       "    <tr>\n",
       "      <th>ensemble(threshold=4)</th>\n",
       "      <td>0.782736</td>\n",
       "      <td>0.222706</td>\n",
       "      <td>0.221922</td>\n",
       "    </tr>\n",
       "    <tr>\n",
       "      <th>IsoForestWatchman(n_features=53)</th>\n",
       "      <td>0.08879</td>\n",
       "      <td>1.0</td>\n",
       "      <td>0.134426</td>\n",
       "    </tr>\n",
       "    <tr>\n",
       "      <th>Watchman(n_features=53)</th>\n",
       "      <td>NaN</td>\n",
       "      <td>0.0</td>\n",
       "      <td>0.0</td>\n",
       "    </tr>\n",
       "    <tr>\n",
       "      <th>LinearPredictWatchman(n_features=53)</th>\n",
       "      <td>NaN</td>\n",
       "      <td>0.0</td>\n",
       "      <td>0.0</td>\n",
       "    </tr>\n",
       "  </tbody>\n",
       "</table>\n",
       "</div>"
      ],
      "text/plain": [
       "                                     precision    recall  f1_score\n",
       "DirectLimitWatchman(n_features=53)    0.736203  0.437018  0.413159\n",
       "ensemble(threshold=2)                 0.736203  0.437018  0.413159\n",
       "ensemble(threshold=3)                 0.712795  0.228959  0.227973\n",
       "PcaLimitWatchman(n_features=53)       0.918981  0.221336  0.227713\n",
       "ensemble(threshold=4)                 0.782736  0.222706  0.221922\n",
       "IsoForestWatchman(n_features=53)       0.08879       1.0  0.134426\n",
       "Watchman(n_features=53)                    NaN       0.0       0.0\n",
       "LinearPredictWatchman(n_features=53)       NaN       0.0       0.0"
      ]
     },
     "metadata": {},
     "output_type": "display_data"
    },
    {
     "name": "stdout",
     "output_type": "stream",
     "text": [
      "SwatItrustDataset(E:\\Datasets\\SWaT\\datasetA1)\n"
     ]
    },
    {
     "data": {
      "text/html": [
       "<div>\n",
       "<style scoped>\n",
       "    .dataframe tbody tr th:only-of-type {\n",
       "        vertical-align: middle;\n",
       "    }\n",
       "\n",
       "    .dataframe tbody tr th {\n",
       "        vertical-align: top;\n",
       "    }\n",
       "\n",
       "    .dataframe thead th {\n",
       "        text-align: right;\n",
       "    }\n",
       "</style>\n",
       "<table border=\"1\" class=\"dataframe\">\n",
       "  <thead>\n",
       "    <tr style=\"text-align: right;\">\n",
       "      <th></th>\n",
       "      <th>precision</th>\n",
       "      <th>recall</th>\n",
       "      <th>f1_score</th>\n",
       "    </tr>\n",
       "  </thead>\n",
       "  <tbody>\n",
       "    <tr>\n",
       "      <th>ensemble(threshold=3)</th>\n",
       "      <td>0.262507</td>\n",
       "      <td>1.0</td>\n",
       "      <td>0.374799</td>\n",
       "    </tr>\n",
       "    <tr>\n",
       "      <th>DirectLimitWatchman(n_features=51)</th>\n",
       "      <td>0.257732</td>\n",
       "      <td>1.0</td>\n",
       "      <td>0.370309</td>\n",
       "    </tr>\n",
       "    <tr>\n",
       "      <th>IsoForestWatchman(n_features=51)</th>\n",
       "      <td>0.257732</td>\n",
       "      <td>1.0</td>\n",
       "      <td>0.370309</td>\n",
       "    </tr>\n",
       "    <tr>\n",
       "      <th>ensemble(threshold=2)</th>\n",
       "      <td>0.257732</td>\n",
       "      <td>1.0</td>\n",
       "      <td>0.370309</td>\n",
       "    </tr>\n",
       "    <tr>\n",
       "      <th>ensemble(threshold=4)</th>\n",
       "      <td>0.241865</td>\n",
       "      <td>0.806818</td>\n",
       "      <td>0.308252</td>\n",
       "    </tr>\n",
       "    <tr>\n",
       "      <th>PcaLimitWatchman(n_features=51)</th>\n",
       "      <td>0.357143</td>\n",
       "      <td>0.056818</td>\n",
       "      <td>0.098039</td>\n",
       "    </tr>\n",
       "    <tr>\n",
       "      <th>Watchman(n_features=51)</th>\n",
       "      <td>NaN</td>\n",
       "      <td>0.0</td>\n",
       "      <td>0.0</td>\n",
       "    </tr>\n",
       "    <tr>\n",
       "      <th>LinearPredictWatchman(n_features=51)</th>\n",
       "      <td>NaN</td>\n",
       "      <td>0.0</td>\n",
       "      <td>0.0</td>\n",
       "    </tr>\n",
       "  </tbody>\n",
       "</table>\n",
       "</div>"
      ],
      "text/plain": [
       "                                     precision    recall  f1_score\n",
       "ensemble(threshold=3)                 0.262507       1.0  0.374799\n",
       "DirectLimitWatchman(n_features=51)    0.257732       1.0  0.370309\n",
       "IsoForestWatchman(n_features=51)      0.257732       1.0  0.370309\n",
       "ensemble(threshold=2)                 0.257732       1.0  0.370309\n",
       "ensemble(threshold=4)                 0.241865  0.806818  0.308252\n",
       "PcaLimitWatchman(n_features=51)       0.357143  0.056818  0.098039\n",
       "Watchman(n_features=51)                    NaN       0.0       0.0\n",
       "LinearPredictWatchman(n_features=51)       NaN       0.0       0.0"
      ]
     },
     "metadata": {},
     "output_type": "display_data"
    }
   ],
   "source": [
    "for d in results:\n",
    "    print(d)\n",
    "    display(results[d].sort_values(by='f1_score', ascending=False))"
   ]
  },
  {
   "cell_type": "code",
   "execution_count": null,
   "id": "903fcf7c",
   "metadata": {},
   "outputs": [],
   "source": []
  }
 ],
 "metadata": {
  "kernelspec": {
   "display_name": "Python 3 (ipykernel)",
   "language": "python",
   "name": "python3"
  },
  "language_info": {
   "codemirror_mode": {
    "name": "ipython",
    "version": 3
   },
   "file_extension": ".py",
   "mimetype": "text/x-python",
   "name": "python",
   "nbconvert_exporter": "python",
   "pygments_lexer": "ipython3",
   "version": "3.8.8"
  },
  "toc": {
   "base_numbering": 1,
   "nav_menu": {},
   "number_sections": true,
   "sideBar": true,
   "skip_h1_title": false,
   "title_cell": "Table of Contents",
   "title_sidebar": "Contents",
   "toc_cell": false,
   "toc_position": {
    "height": "calc(100% - 180px)",
    "left": "10px",
    "top": "150px",
    "width": "272.2px"
   },
   "toc_section_display": true,
   "toc_window_display": true
  }
 },
 "nbformat": 4,
 "nbformat_minor": 5
}
