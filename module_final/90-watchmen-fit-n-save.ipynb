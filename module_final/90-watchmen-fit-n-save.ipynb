{
 "cells": [
  {
   "cell_type": "code",
   "execution_count": 1,
   "id": "3afcaa82",
   "metadata": {
    "ExecuteTime": {
     "end_time": "2022-09-07T17:03:46.532311Z",
     "start_time": "2022-09-07T17:03:46.488312Z"
    }
   },
   "outputs": [],
   "source": [
    "!del /Q utils\\__pycache__"
   ]
  },
  {
   "cell_type": "code",
   "execution_count": 2,
   "id": "86b03be5",
   "metadata": {
    "ExecuteTime": {
     "end_time": "2022-09-07T17:03:47.389620Z",
     "start_time": "2022-09-07T17:03:46.534253Z"
    }
   },
   "outputs": [],
   "source": [
    "import pandas as pd\n",
    "from tqdm.notebook import tqdm"
   ]
  },
  {
   "cell_type": "code",
   "execution_count": 3,
   "id": "f34899c4",
   "metadata": {
    "ExecuteTime": {
     "end_time": "2022-09-07T17:03:49.631446Z",
     "start_time": "2022-09-07T17:03:47.391540Z"
    }
   },
   "outputs": [],
   "source": [
    "from utils.datasets import GhlKasperskyDataset, TepHarvardDataset, TepKasperskyDataset, SwatItrustDataset\n",
    "from utils.custom_plots import plot_stacked\n",
    "from utils.metrics import time_span_metrics\n",
    "from utils.preserves import save_object, load_object\n",
    "from utils.watchmen import Watchman\n",
    "from utils.watchmen import DirectLimitWatchman, PcaLimitWatchman\n",
    "from utils.watchmen import IsolatingWatchman, LinearPredictWatchman"
   ]
  },
  {
   "cell_type": "code",
   "execution_count": 4,
   "id": "f4e9bb0f",
   "metadata": {
    "ExecuteTime": {
     "end_time": "2022-09-07T17:03:49.647739Z",
     "start_time": "2022-09-07T17:03:49.634965Z"
    }
   },
   "outputs": [],
   "source": [
    "SEED = 1729"
   ]
  },
  {
   "cell_type": "markdown",
   "id": "ab2d87dc",
   "metadata": {
    "ExecuteTime": {
     "end_time": "2022-08-19T10:07:19.598656Z",
     "start_time": "2022-08-19T10:07:18.676895Z"
    }
   },
   "source": [
    "# Preparing datasets"
   ]
  },
  {
   "cell_type": "code",
   "execution_count": 5,
   "id": "cb921176",
   "metadata": {
    "ExecuteTime": {
     "end_time": "2022-09-07T17:03:49.662038Z",
     "start_time": "2022-09-07T17:03:49.651753Z"
    }
   },
   "outputs": [],
   "source": [
    "datasets = {\n",
    "    0: GhlKasperskyDataset(),\n",
    "    1: TepHarvardDataset(),\n",
    "    2: TepKasperskyDataset(),\n",
    "    3: SwatItrustDataset(),\n",
    "}"
   ]
  },
  {
   "cell_type": "code",
   "execution_count": 6,
   "id": "fd787944",
   "metadata": {
    "ExecuteTime": {
     "end_time": "2022-09-07T17:03:49.784438Z",
     "start_time": "2022-09-07T17:03:49.665107Z"
    }
   },
   "outputs": [],
   "source": [
    "shake_kwargs = {\n",
    "    'random_state': SEED,\n",
    "    'valid2test_ratio': 0.3,\n",
    "}\n",
    "for d in datasets:\n",
    "    datasets[d].shake_not_stir(**shake_kwargs)"
   ]
  },
  {
   "cell_type": "markdown",
   "id": "f007db40",
   "metadata": {},
   "source": [
    "# Preparing watchhouse"
   ]
  },
  {
   "cell_type": "code",
   "execution_count": 7,
   "id": "b5c900e8",
   "metadata": {
    "ExecuteTime": {
     "end_time": "2022-09-07T17:03:49.799623Z",
     "start_time": "2022-09-07T17:03:49.787292Z"
    }
   },
   "outputs": [],
   "source": [
    "watchhouse = {\n",
    "    0: {  # GhlKasperskyDataset\n",
    "        0: Watchman(),\n",
    "        1: DirectLimitWatchman(),\n",
    "        2: PcaLimitWatchman(),\n",
    "        3: IsolatingWatchman(random_state=SEED),\n",
    "        4: LinearPredictWatchman(random_state=SEED),\n",
    "    },\n",
    "    1: {  # TepHarvardDataset\n",
    "        0: Watchman(),\n",
    "        1: DirectLimitWatchman(),\n",
    "        2: PcaLimitWatchman(),  # better: n_components=12\n",
    "        3: IsolatingWatchman(random_state=SEED),\n",
    "        4: LinearPredictWatchman(random_state=SEED),\n",
    "        5: Watchman(),\n",
    "    },\n",
    "    2: {  # TepKasperskyDataset\n",
    "        0: Watchman(),\n",
    "        1: DirectLimitWatchman(),\n",
    "        2: PcaLimitWatchman(),\n",
    "        3: IsolatingWatchman(random_state=SEED),  # better: max_samples=1024\n",
    "        4: LinearPredictWatchman(random_state=SEED),\n",
    "        5: Watchman(),\n",
    "    },\n",
    "    3: {  # SwatItrustDataset\n",
    "        0: Watchman(),\n",
    "        1: DirectLimitWatchman(),\n",
    "        2: PcaLimitWatchman(),\n",
    "        3: IsolatingWatchman(random_state=SEED),\n",
    "        4: LinearPredictWatchman(random_state=SEED),\n",
    "        5: Watchman(),\n",
    "    },\n",
    "}"
   ]
  },
  {
   "cell_type": "markdown",
   "id": "be4104e1",
   "metadata": {},
   "source": [
    "# Learning"
   ]
  },
  {
   "cell_type": "markdown",
   "id": "8fa34354",
   "metadata": {},
   "source": [
    "## Prefit"
   ]
  },
  {
   "cell_type": "code",
   "execution_count": 8,
   "id": "53beb5b4",
   "metadata": {
    "ExecuteTime": {
     "end_time": "2022-09-07T17:04:24.097777Z",
     "start_time": "2022-09-07T17:03:49.801558Z"
    }
   },
   "outputs": [
    {
     "data": {
      "application/vnd.jupyter.widget-view+json": {
       "model_id": "5ff68e9837cf4a66bbfd6c12a80ebf2a",
       "version_major": 2,
       "version_minor": 0
      },
      "text/plain": [
       "Prefit on train 0:   0%|          | 0/1 [00:00<?, ?it/s]"
      ]
     },
     "metadata": {},
     "output_type": "display_data"
    },
    {
     "data": {
      "application/vnd.jupyter.widget-view+json": {
       "model_id": "31214153d997492388fa2d81662440f4",
       "version_major": 2,
       "version_minor": 0
      },
      "text/plain": [
       "Prefit on train 1:   0%|          | 0/500 [00:00<?, ?it/s]"
      ]
     },
     "metadata": {},
     "output_type": "display_data"
    },
    {
     "data": {
      "application/vnd.jupyter.widget-view+json": {
       "model_id": "51b3234858a14302a7206767b068c6e5",
       "version_major": 2,
       "version_minor": 0
      },
      "text/plain": [
       "Prefit on train 2:   0%|          | 0/400 [00:00<?, ?it/s]"
      ]
     },
     "metadata": {},
     "output_type": "display_data"
    },
    {
     "data": {
      "application/vnd.jupyter.widget-view+json": {
       "model_id": "5b53d4fa0f6646a0818ac5ac9a88401d",
       "version_major": 2,
       "version_minor": 0
      },
      "text/plain": [
       "Prefit on train 3:   0%|          | 0/2 [00:00<?, ?it/s]"
      ]
     },
     "metadata": {},
     "output_type": "display_data"
    }
   ],
   "source": [
    "for d in datasets:\n",
    "    for data, _, _ in tqdm(datasets[d].train_generator(), desc=f'Prefit on train {d}'):\n",
    "        for w in watchhouse[d]:\n",
    "            watchhouse[d][w].prefit(data)"
   ]
  },
  {
   "cell_type": "markdown",
   "id": "77312393",
   "metadata": {},
   "source": [
    "## Fit"
   ]
  },
  {
   "cell_type": "code",
   "execution_count": null,
   "id": "ea1f2f67",
   "metadata": {
    "ExecuteTime": {
     "start_time": "2022-09-07T17:03:46.472Z"
    }
   },
   "outputs": [
    {
     "data": {
      "application/vnd.jupyter.widget-view+json": {
       "model_id": "274641cf7d9145849eb4742666da5f3f",
       "version_major": 2,
       "version_minor": 0
      },
      "text/plain": [
       "Fit on train 0:   0%|          | 0/1 [00:00<?, ?it/s]"
      ]
     },
     "metadata": {},
     "output_type": "display_data"
    },
    {
     "data": {
      "application/vnd.jupyter.widget-view+json": {
       "model_id": "ff584a72bf7643f08b98af6b86ffed07",
       "version_major": 2,
       "version_minor": 0
      },
      "text/plain": [
       "Fit on train 1:   0%|          | 0/500 [00:00<?, ?it/s]"
      ]
     },
     "metadata": {},
     "output_type": "display_data"
    },
    {
     "data": {
      "application/vnd.jupyter.widget-view+json": {
       "model_id": "f3cb2840ea3f4609bc516b5a70c1dd71",
       "version_major": 2,
       "version_minor": 0
      },
      "text/plain": [
       "Fit on train 2:   0%|          | 0/400 [00:00<?, ?it/s]"
      ]
     },
     "metadata": {},
     "output_type": "display_data"
    }
   ],
   "source": [
    "for d in datasets:\n",
    "    for data, _, _ in tqdm(datasets[d].train_generator(), desc=f'Fit on train {d}'):\n",
    "        for w in watchhouse[d]:\n",
    "            watchhouse[d][w].partial_fit(data)"
   ]
  },
  {
   "cell_type": "markdown",
   "id": "7bf9fdd6",
   "metadata": {},
   "source": [
    "## Save"
   ]
  },
  {
   "cell_type": "code",
   "execution_count": null,
   "id": "834ada88",
   "metadata": {
    "ExecuteTime": {
     "start_time": "2022-09-07T17:03:46.474Z"
    }
   },
   "outputs": [],
   "source": [
    "for d in datasets:\n",
    "    for w in watchhouse[d]:\n",
    "        save_object(watchhouse[d][w], f'{datasets[d].__class__.__name__}-watchman_{w}')"
   ]
  },
  {
   "cell_type": "markdown",
   "id": "78adf1e9",
   "metadata": {},
   "source": [
    "# Self-checking\n",
    "Check watchhouse on train. Theoretically all metrics must be NaN."
   ]
  },
  {
   "cell_type": "markdown",
   "id": "ad884747",
   "metadata": {},
   "source": [
    "## Load"
   ]
  },
  {
   "cell_type": "code",
   "execution_count": null,
   "id": "e7fca175",
   "metadata": {
    "ExecuteTime": {
     "start_time": "2022-09-07T17:03:46.476Z"
    }
   },
   "outputs": [],
   "source": [
    "for d in datasets:\n",
    "    for w in watchhouse[d]:\n",
    "        watchhouse[d][w] = load_object(f'{datasets[d].__class__.__name__}-watchman_{w}')"
   ]
  },
  {
   "cell_type": "markdown",
   "id": "d3fc0f0b",
   "metadata": {},
   "source": [
    "## Throw stones"
   ]
  },
  {
   "cell_type": "code",
   "execution_count": null,
   "id": "4f96a624",
   "metadata": {
    "ExecuteTime": {
     "start_time": "2022-09-07T17:03:46.478Z"
    }
   },
   "outputs": [],
   "source": [
    "stones = dict()\n",
    "for d in datasets:\n",
    "    stones[d] = dict()\n",
    "    for w in watchhouse[d]:\n",
    "        stones[d][w] = list()"
   ]
  },
  {
   "cell_type": "code",
   "execution_count": null,
   "id": "b6dce708",
   "metadata": {
    "ExecuteTime": {
     "start_time": "2022-09-07T17:03:46.482Z"
    }
   },
   "outputs": [],
   "source": [
    "for d in datasets:\n",
    "    for data, faults, info in tqdm(datasets[d].train_generator(), desc=f'Detect on train {d}'):\n",
    "        for w in watchhouse[d]:\n",
    "            detect = watchhouse[d][w].predict(data)\n",
    "            stones[d][w].append(pd.concat([faults, detect], axis=1))\n",
    "            stones[d][w][-1].index.name = info"
   ]
  },
  {
   "cell_type": "markdown",
   "id": "5fcea39a",
   "metadata": {},
   "source": [
    "## Checks"
   ]
  },
  {
   "cell_type": "code",
   "execution_count": null,
   "id": "d98cecc6",
   "metadata": {
    "ExecuteTime": {
     "start_time": "2022-09-07T17:03:46.484Z"
    }
   },
   "outputs": [],
   "source": [
    "metrics = ('precision', 'recall', 'f1_score')\n",
    "checks = {str(datasets[d]): pd.DataFrame(columns=metrics) for d in datasets}"
   ]
  },
  {
   "cell_type": "code",
   "execution_count": null,
   "id": "f5db580c",
   "metadata": {
    "ExecuteTime": {
     "start_time": "2022-09-07T17:03:46.487Z"
    }
   },
   "outputs": [],
   "source": [
    "# alone\n",
    "for d in datasets:\n",
    "    for w in tqdm(watchhouse[d], desc=f'Collect stones d{d}'):\n",
    "        exam_paper = pd.DataFrame(columns=metrics)\n",
    "        for i_st, st in enumerate(stones[d][w]):\n",
    "            exam_paper.loc[i_st, metrics] = time_span_metrics(st.iloc[:, 0], st.iloc[:, 1:])\n",
    "        checks[str(datasets[d])].loc[str(watchhouse[d][w]), metrics] = exam_paper.mean().values"
   ]
  },
  {
   "cell_type": "code",
   "execution_count": null,
   "id": "115fea76",
   "metadata": {
    "ExecuteTime": {
     "start_time": "2022-09-07T17:03:46.489Z"
    }
   },
   "outputs": [],
   "source": [
    "# ensemble\n",
    "max_threshold = 5\n",
    "for d in datasets:\n",
    "    exam_papers = dict()\n",
    "    for threshold in range(1, max_threshold+1):\n",
    "        exam_papers[threshold] = pd.DataFrame(columns=metrics)\n",
    "    for i_st, st in enumerate(tqdm(stones[d][0], desc=f'Ensembling stones d{d}')):\n",
    "        opinions = pd.concat([stones[d][w][i_st].iloc[:, 1:].sum(axis=1) for w in watchhouse[d]], axis=1)\n",
    "        for threshold in range(1, max_threshold+1):\n",
    "            detect = (opinions.sum(axis=1) >= threshold).astype('uint8')\n",
    "            exam_papers[threshold].loc[i_st, metrics] = time_span_metrics(st.iloc[:, 0], detect)\n",
    "    for threshold in range(1, max_threshold+1):\n",
    "        checks[str(datasets[d])].loc[f'ensemble(threshold={threshold})', metrics] = exam_papers[threshold].mean().values"
   ]
  },
  {
   "cell_type": "code",
   "execution_count": null,
   "id": "39437548",
   "metadata": {
    "ExecuteTime": {
     "start_time": "2022-09-07T17:03:46.490Z"
    }
   },
   "outputs": [],
   "source": [
    "for d in checks:\n",
    "    print(d)\n",
    "    display(checks[d])"
   ]
  },
  {
   "cell_type": "markdown",
   "id": "d3a7d66d",
   "metadata": {
    "ExecuteTime": {
     "end_time": "2022-09-01T10:44:09.441614Z",
     "start_time": "2022-09-01T10:44:09.440614Z"
    }
   },
   "source": [
    "IsolatingWatchman and LinearPredictWatchman detecting anomalies on train.\n",
    "\n",
    "Ensemble with threshold=4+ don't detect anomalies on train. Let's use threshold=4 for reducing false positive results."
   ]
  }
 ],
 "metadata": {
  "kernelspec": {
   "display_name": "Python 3 (ipykernel)",
   "language": "python",
   "name": "python3"
  },
  "language_info": {
   "codemirror_mode": {
    "name": "ipython",
    "version": 3
   },
   "file_extension": ".py",
   "mimetype": "text/x-python",
   "name": "python",
   "nbconvert_exporter": "python",
   "pygments_lexer": "ipython3",
   "version": "3.8.8"
  },
  "toc": {
   "base_numbering": 1,
   "nav_menu": {},
   "number_sections": true,
   "sideBar": true,
   "skip_h1_title": false,
   "title_cell": "Table of Contents",
   "title_sidebar": "Contents",
   "toc_cell": false,
   "toc_position": {
    "height": "calc(100% - 180px)",
    "left": "10px",
    "top": "150px",
    "width": "272.2px"
   },
   "toc_section_display": true,
   "toc_window_display": true
  }
 },
 "nbformat": 4,
 "nbformat_minor": 5
}
