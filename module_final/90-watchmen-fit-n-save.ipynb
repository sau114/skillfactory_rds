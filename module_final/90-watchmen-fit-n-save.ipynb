{
 "cells": [
  {
   "cell_type": "code",
   "execution_count": 1,
   "id": "3afcaa82",
   "metadata": {
    "ExecuteTime": {
     "end_time": "2022-09-15T22:00:43.288516Z",
     "start_time": "2022-09-15T22:00:43.244485Z"
    }
   },
   "outputs": [],
   "source": [
    "!del /Q utils\\__pycache__"
   ]
  },
  {
   "cell_type": "code",
   "execution_count": 2,
   "id": "86b03be5",
   "metadata": {
    "ExecuteTime": {
     "end_time": "2022-09-15T22:00:44.169025Z",
     "start_time": "2022-09-15T22:00:43.290484Z"
    }
   },
   "outputs": [],
   "source": [
    "import pandas as pd\n",
    "from tqdm.notebook import tqdm"
   ]
  },
  {
   "cell_type": "code",
   "execution_count": 3,
   "id": "f34899c4",
   "metadata": {
    "ExecuteTime": {
     "end_time": "2022-09-15T22:00:50.357633Z",
     "start_time": "2022-09-15T22:00:44.172347Z"
    }
   },
   "outputs": [],
   "source": [
    "from utils.datasets import GhlKasperskyDataset, TepHarvardDataset, TepKasperskyDataset, SwatItrustDataset\n",
    "from utils.custom_plots import plot_stacked\n",
    "from utils.metrics import time_span_metrics\n",
    "from utils.watchmen import Watchman\n",
    "from utils.watchmen import DirectLimitWatchman, PcaLimitWatchman\n",
    "from utils.watchmen import IsoForestWatchman\n",
    "from utils.watchmen import LinearPredictWatchman, DeepPredictWatchman"
   ]
  },
  {
   "cell_type": "code",
   "execution_count": 4,
   "id": "f4e9bb0f",
   "metadata": {
    "ExecuteTime": {
     "end_time": "2022-09-15T22:00:50.372749Z",
     "start_time": "2022-09-15T22:00:50.362311Z"
    }
   },
   "outputs": [],
   "source": [
    "SEED = 1729"
   ]
  },
  {
   "cell_type": "markdown",
   "id": "ab2d87dc",
   "metadata": {
    "ExecuteTime": {
     "end_time": "2022-08-19T10:07:19.598656Z",
     "start_time": "2022-08-19T10:07:18.676895Z"
    }
   },
   "source": [
    "# Preparing datasets"
   ]
  },
  {
   "cell_type": "code",
   "execution_count": 5,
   "id": "cb921176",
   "metadata": {
    "ExecuteTime": {
     "end_time": "2022-09-15T22:00:50.398325Z",
     "start_time": "2022-09-15T22:00:50.376299Z"
    }
   },
   "outputs": [],
   "source": [
    "datasets = {\n",
    "    0: GhlKasperskyDataset(),\n",
    "    1: TepHarvardDataset(),\n",
    "    2: TepKasperskyDataset(),\n",
    "    3: SwatItrustDataset(),\n",
    "}"
   ]
  },
  {
   "cell_type": "code",
   "execution_count": 6,
   "id": "fd787944",
   "metadata": {
    "ExecuteTime": {
     "end_time": "2022-09-15T22:00:50.539631Z",
     "start_time": "2022-09-15T22:00:50.403053Z"
    }
   },
   "outputs": [],
   "source": [
    "shake_kwargs = {\n",
    "    'random_state': SEED,\n",
    "    'valid2test_ratio': 0.3,\n",
    "}\n",
    "for d in datasets:\n",
    "    datasets[d].shake_not_stir(**shake_kwargs)"
   ]
  },
  {
   "cell_type": "markdown",
   "id": "f007db40",
   "metadata": {},
   "source": [
    "# Preparing watchhouse"
   ]
  },
  {
   "cell_type": "code",
   "execution_count": 7,
   "id": "b5c900e8",
   "metadata": {
    "ExecuteTime": {
     "end_time": "2022-09-15T22:00:50.554822Z",
     "start_time": "2022-09-15T22:00:50.541631Z"
    }
   },
   "outputs": [],
   "source": [
    "watchhouse = {\n",
    "    0: {  # GhlKasperskyDataset\n",
    "        0: Watchman(),\n",
    "        1: DirectLimitWatchman(),\n",
    "        2: PcaLimitWatchman(),\n",
    "        3: IsoForestWatchman(random_state=SEED),\n",
    "        4: LinearPredictWatchman(random_state=SEED),\n",
    "        5: DeepPredictWatchman(random_state=SEED),\n",
    "    },\n",
    "    1: {  # TepHarvardDataset\n",
    "        0: Watchman(),\n",
    "        1: DirectLimitWatchman(),\n",
    "        2: PcaLimitWatchman(),\n",
    "        3: IsoForestWatchman(random_state=SEED),\n",
    "        4: LinearPredictWatchman(random_state=SEED),\n",
    "        5: DeepPredictWatchman(random_state=SEED),\n",
    "    },\n",
    "    2: {  # TepKasperskyDataset\n",
    "        0: Watchman(),\n",
    "        1: DirectLimitWatchman(),\n",
    "        2: PcaLimitWatchman(),\n",
    "        3: IsoForestWatchman(random_state=SEED),\n",
    "        4: LinearPredictWatchman(random_state=SEED),\n",
    "        5: DeepPredictWatchman(random_state=SEED),\n",
    "    },\n",
    "    3: {  # SwatItrustDataset\n",
    "        0: Watchman(),\n",
    "        1: DirectLimitWatchman(),\n",
    "        2: PcaLimitWatchman(),\n",
    "        3: IsoForestWatchman(random_state=SEED),\n",
    "        4: LinearPredictWatchman(random_state=SEED),\n",
    "        5: DeepPredictWatchman(random_state=SEED),\n",
    "    },\n",
    "}"
   ]
  },
  {
   "cell_type": "markdown",
   "id": "be4104e1",
   "metadata": {},
   "source": [
    "# Learning"
   ]
  },
  {
   "cell_type": "markdown",
   "id": "8fa34354",
   "metadata": {},
   "source": [
    "## Prefit"
   ]
  },
  {
   "cell_type": "code",
   "execution_count": 8,
   "id": "53beb5b4",
   "metadata": {
    "ExecuteTime": {
     "end_time": "2022-09-15T22:01:03.127668Z",
     "start_time": "2022-09-15T22:00:50.557633Z"
    }
   },
   "outputs": [
    {
     "data": {
      "application/vnd.jupyter.widget-view+json": {
       "model_id": "e1f47e40bd5b4193a8a515667e15545d",
       "version_major": 2,
       "version_minor": 0
      },
      "text/plain": [
       "Prefit on train 0:   0%|          | 0/1 [00:00<?, ?it/s]"
      ]
     },
     "metadata": {},
     "output_type": "display_data"
    },
    {
     "data": {
      "application/vnd.jupyter.widget-view+json": {
       "model_id": "4d1cbfb041764f529ce41271fb2a9027",
       "version_major": 2,
       "version_minor": 0
      },
      "text/plain": [
       "Prefit on train 1:   0%|          | 0/500 [00:00<?, ?it/s]"
      ]
     },
     "metadata": {},
     "output_type": "display_data"
    },
    {
     "data": {
      "application/vnd.jupyter.widget-view+json": {
       "model_id": "b608f1132c50430d99651bfcbfb869ab",
       "version_major": 2,
       "version_minor": 0
      },
      "text/plain": [
       "Prefit on train 2:   0%|          | 0/400 [00:00<?, ?it/s]"
      ]
     },
     "metadata": {},
     "output_type": "display_data"
    },
    {
     "data": {
      "application/vnd.jupyter.widget-view+json": {
       "model_id": "4291671bda194f3088d38bd71ba60fb2",
       "version_major": 2,
       "version_minor": 0
      },
      "text/plain": [
       "Prefit on train 3:   0%|          | 0/1 [00:00<?, ?it/s]"
      ]
     },
     "metadata": {},
     "output_type": "display_data"
    }
   ],
   "source": [
    "for d in datasets:\n",
    "    for data, _, _ in tqdm(datasets[d].train_generator(), desc=f'Prefit on train {d}'):\n",
    "        for w in watchhouse[d]:\n",
    "            watchhouse[d][w].prefit(data)"
   ]
  },
  {
   "cell_type": "markdown",
   "id": "77312393",
   "metadata": {},
   "source": [
    "## Fit"
   ]
  },
  {
   "cell_type": "code",
   "execution_count": 9,
   "id": "ea1f2f67",
   "metadata": {
    "ExecuteTime": {
     "end_time": "2022-09-15T22:04:03.144252Z",
     "start_time": "2022-09-15T22:01:03.131668Z"
    },
    "scrolled": true
   },
   "outputs": [
    {
     "data": {
      "application/vnd.jupyter.widget-view+json": {
       "model_id": "ac15946115b34336b4d8e6aedbea2643",
       "version_major": 2,
       "version_minor": 0
      },
      "text/plain": [
       "Fit on train 0:   0%|          | 0/1 [00:00<?, ?it/s]"
      ]
     },
     "metadata": {},
     "output_type": "display_data"
    },
    {
     "data": {
      "application/vnd.jupyter.widget-view+json": {
       "model_id": "95bcc2aec171490f91664badc266b582",
       "version_major": 2,
       "version_minor": 0
      },
      "text/plain": [
       "Fit on train 1:   0%|          | 0/500 [00:00<?, ?it/s]"
      ]
     },
     "metadata": {},
     "output_type": "display_data"
    },
    {
     "data": {
      "application/vnd.jupyter.widget-view+json": {
       "model_id": "5d43ce138260473093bf1ef4f9c5dbff",
       "version_major": 2,
       "version_minor": 0
      },
      "text/plain": [
       "Fit on train 2:   0%|          | 0/400 [00:00<?, ?it/s]"
      ]
     },
     "metadata": {},
     "output_type": "display_data"
    },
    {
     "data": {
      "application/vnd.jupyter.widget-view+json": {
       "model_id": "cc5dce033ef4471ab83f358d3767ac0b",
       "version_major": 2,
       "version_minor": 0
      },
      "text/plain": [
       "Fit on train 3:   0%|          | 0/1 [00:00<?, ?it/s]"
      ]
     },
     "metadata": {},
     "output_type": "display_data"
    }
   ],
   "source": [
    "for d in datasets:\n",
    "    for data, _, _ in tqdm(datasets[d].train_generator(), desc=f'Fit on train {d}'):\n",
    "        for w in watchhouse[d]:\n",
    "            watchhouse[d][w].fit(data)"
   ]
  },
  {
   "cell_type": "markdown",
   "id": "33491c00",
   "metadata": {},
   "source": [
    "## Postfit"
   ]
  },
  {
   "cell_type": "code",
   "execution_count": 10,
   "id": "89c83a07",
   "metadata": {
    "ExecuteTime": {
     "end_time": "2022-09-15T22:04:16.442634Z",
     "start_time": "2022-09-15T22:04:03.147481Z"
    },
    "scrolled": true
   },
   "outputs": [
    {
     "data": {
      "application/vnd.jupyter.widget-view+json": {
       "model_id": "28360f9acc1c48f6810df53eede2e8f4",
       "version_major": 2,
       "version_minor": 0
      },
      "text/plain": [
       "Fit on train 0:   0%|          | 0/1 [00:00<?, ?it/s]"
      ]
     },
     "metadata": {},
     "output_type": "display_data"
    },
    {
     "data": {
      "application/vnd.jupyter.widget-view+json": {
       "model_id": "97216fc3717a459cb182ace4a865db94",
       "version_major": 2,
       "version_minor": 0
      },
      "text/plain": [
       "Fit on train 1:   0%|          | 0/500 [00:00<?, ?it/s]"
      ]
     },
     "metadata": {},
     "output_type": "display_data"
    },
    {
     "data": {
      "application/vnd.jupyter.widget-view+json": {
       "model_id": "b12370a51c4a435ab7a2bc8033d3102e",
       "version_major": 2,
       "version_minor": 0
      },
      "text/plain": [
       "Fit on train 2:   0%|          | 0/400 [00:00<?, ?it/s]"
      ]
     },
     "metadata": {},
     "output_type": "display_data"
    },
    {
     "data": {
      "application/vnd.jupyter.widget-view+json": {
       "model_id": "bf05647453fa466da15f1f13c70ff0a3",
       "version_major": 2,
       "version_minor": 0
      },
      "text/plain": [
       "Fit on train 3:   0%|          | 0/1 [00:00<?, ?it/s]"
      ]
     },
     "metadata": {},
     "output_type": "display_data"
    }
   ],
   "source": [
    "for d in datasets:\n",
    "    for data, _, _ in tqdm(datasets[d].train_generator(), desc=f'Fit on train {d}'):\n",
    "        for w in watchhouse[d]:\n",
    "            watchhouse[d][w].postfit(data)"
   ]
  },
  {
   "cell_type": "markdown",
   "id": "4c7d29aa",
   "metadata": {},
   "source": [
    "# Saving"
   ]
  },
  {
   "cell_type": "markdown",
   "id": "7bf9fdd6",
   "metadata": {},
   "source": [
    "## Save"
   ]
  },
  {
   "cell_type": "code",
   "execution_count": 11,
   "id": "834ada88",
   "metadata": {
    "ExecuteTime": {
     "end_time": "2022-09-15T22:04:16.521123Z",
     "start_time": "2022-09-15T22:04:16.444635Z"
    }
   },
   "outputs": [],
   "source": [
    "for d in datasets:\n",
    "    for w in watchhouse[d]:\n",
    "        watchhouse[d][w].dump(datasets[d].__class__.__name__)"
   ]
  },
  {
   "cell_type": "markdown",
   "id": "ad884747",
   "metadata": {},
   "source": [
    "## Load"
   ]
  },
  {
   "cell_type": "code",
   "execution_count": 12,
   "id": "e7fca175",
   "metadata": {
    "ExecuteTime": {
     "end_time": "2022-09-15T22:04:16.631691Z",
     "start_time": "2022-09-15T22:04:16.523633Z"
    },
    "scrolled": false
   },
   "outputs": [],
   "source": [
    "for d in datasets:\n",
    "    for w in watchhouse[d]:\n",
    "        watchhouse[d][w].load(datasets[d].__class__.__name__)"
   ]
  },
  {
   "cell_type": "code",
   "execution_count": null,
   "id": "1730dee4",
   "metadata": {},
   "outputs": [],
   "source": []
  }
 ],
 "metadata": {
  "kernelspec": {
   "display_name": "Python 3 (ipykernel)",
   "language": "python",
   "name": "python3"
  },
  "language_info": {
   "codemirror_mode": {
    "name": "ipython",
    "version": 3
   },
   "file_extension": ".py",
   "mimetype": "text/x-python",
   "name": "python",
   "nbconvert_exporter": "python",
   "pygments_lexer": "ipython3",
   "version": "3.8.8"
  },
  "toc": {
   "base_numbering": 1,
   "nav_menu": {},
   "number_sections": true,
   "sideBar": true,
   "skip_h1_title": false,
   "title_cell": "Table of Contents",
   "title_sidebar": "Contents",
   "toc_cell": false,
   "toc_position": {
    "height": "calc(100% - 180px)",
    "left": "10px",
    "top": "150px",
    "width": "272.2px"
   },
   "toc_section_display": true,
   "toc_window_display": false
  }
 },
 "nbformat": 4,
 "nbformat_minor": 5
}
