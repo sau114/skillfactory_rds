{
 "cells": [
  {
   "cell_type": "code",
   "execution_count": 1,
   "id": "3afcaa82",
   "metadata": {
    "ExecuteTime": {
     "end_time": "2022-09-02T17:14:47.785777Z",
     "start_time": "2022-09-02T17:14:47.725767Z"
    }
   },
   "outputs": [],
   "source": [
    "!del /Q utils\\__pycache__"
   ]
  },
  {
   "cell_type": "code",
   "execution_count": 2,
   "id": "86b03be5",
   "metadata": {
    "ExecuteTime": {
     "end_time": "2022-09-02T17:14:48.569245Z",
     "start_time": "2022-09-02T17:14:47.788782Z"
    }
   },
   "outputs": [],
   "source": [
    "import pandas as pd\n",
    "from tqdm.notebook import tqdm"
   ]
  },
  {
   "cell_type": "code",
   "execution_count": 3,
   "id": "f34899c4",
   "metadata": {
    "ExecuteTime": {
     "end_time": "2022-09-02T17:14:49.452074Z",
     "start_time": "2022-09-02T17:14:48.569447Z"
    }
   },
   "outputs": [],
   "source": [
    "from utils.datasets import GhlKasperskyDataset, TepHarvardDataset, TepKasperskyDataset, SwatItrustDataset\n",
    "from utils.custom_plots import plot_stacked\n",
    "from utils.metrics import time_span_metrics\n",
    "from utils.preserves import save_object, load_object\n",
    "from utils.watchmen import LimitWatchman, LimitPcaWatchman, SpePcaWatchman, IsolatingWatchman, LinearPredictWatchman"
   ]
  },
  {
   "cell_type": "code",
   "execution_count": 4,
   "id": "f4e9bb0f",
   "metadata": {
    "ExecuteTime": {
     "end_time": "2022-09-02T17:14:49.467633Z",
     "start_time": "2022-09-02T17:14:49.453097Z"
    }
   },
   "outputs": [],
   "source": [
    "SEED = 1729"
   ]
  },
  {
   "cell_type": "markdown",
   "id": "ab2d87dc",
   "metadata": {
    "ExecuteTime": {
     "end_time": "2022-08-19T10:07:19.598656Z",
     "start_time": "2022-08-19T10:07:18.676895Z"
    }
   },
   "source": [
    "# Preparing datasets"
   ]
  },
  {
   "cell_type": "code",
   "execution_count": 5,
   "id": "cb921176",
   "metadata": {
    "ExecuteTime": {
     "end_time": "2022-09-02T17:14:49.483704Z",
     "start_time": "2022-09-02T17:14:49.469629Z"
    }
   },
   "outputs": [],
   "source": [
    "datasets = {\n",
    "    0: GhlKasperskyDataset(),\n",
    "    1: TepHarvardDataset(),\n",
    "    2: TepKasperskyDataset(),\n",
    "    3: SwatItrustDataset(),\n",
    "}"
   ]
  },
  {
   "cell_type": "code",
   "execution_count": 6,
   "id": "fd787944",
   "metadata": {
    "ExecuteTime": {
     "end_time": "2022-09-02T17:14:49.579815Z",
     "start_time": "2022-09-02T17:14:49.486629Z"
    }
   },
   "outputs": [],
   "source": [
    "shake_kwargs = {\n",
    "    'random_state': SEED,\n",
    "    'valid_test_ratio': 0.3,\n",
    "}\n",
    "for d in datasets:\n",
    "    datasets[d].shake_not_stir(**shake_kwargs)"
   ]
  },
  {
   "cell_type": "markdown",
   "id": "f007db40",
   "metadata": {},
   "source": [
    "# Preparing watchmen"
   ]
  },
  {
   "cell_type": "code",
   "execution_count": 7,
   "id": "b5c900e8",
   "metadata": {
    "ExecuteTime": {
     "end_time": "2022-09-02T17:14:49.595664Z",
     "start_time": "2022-09-02T17:14:49.581628Z"
    }
   },
   "outputs": [],
   "source": [
    "watchmen = {\n",
    "    0: {  # GhlKasperskyDataset\n",
    "        0: LimitWatchman(),\n",
    "        1: LimitPcaWatchman(n_components=3),\n",
    "        2: SpePcaWatchman(n_components=3),\n",
    "        3: IsolatingWatchman(random_state=SEED),\n",
    "        4: LinearPredictWatchman(random_state=SEED),\n",
    "    },\n",
    "    1: {  # TepHarvardDataset\n",
    "        0: LimitWatchman(),  # better: ewma='3 min'\n",
    "        1: LimitPcaWatchman(n_components=3),  # better: n_components=12\n",
    "        2: SpePcaWatchman(n_components=3),  # better: n_components=12\n",
    "        3: IsolatingWatchman(random_state=SEED),\n",
    "        4: LinearPredictWatchman(random_state=SEED),\n",
    "    },\n",
    "    2: {  # TepKasperskyDataset\n",
    "        0: LimitWatchman(),\n",
    "        1: LimitPcaWatchman(n_components=3),\n",
    "        2: SpePcaWatchman(n_components=3),\n",
    "        3: IsolatingWatchman(random_state=SEED),  # better: max_samples=1024\n",
    "        4: LinearPredictWatchman(random_state=SEED),\n",
    "    },\n",
    "    3: {  # SwatItrustDataset\n",
    "        0: LimitWatchman(),\n",
    "        1: LimitPcaWatchman(n_components=3),\n",
    "        2: SpePcaWatchman(n_components=3),\n",
    "        3: IsolatingWatchman(random_state=SEED),\n",
    "        4: LinearPredictWatchman(random_state=SEED),\n",
    "    },\n",
    "}"
   ]
  },
  {
   "cell_type": "markdown",
   "id": "be4104e1",
   "metadata": {},
   "source": [
    "# Learning"
   ]
  },
  {
   "cell_type": "markdown",
   "id": "8fa34354",
   "metadata": {},
   "source": [
    "## Prefit"
   ]
  },
  {
   "cell_type": "code",
   "execution_count": 8,
   "id": "53beb5b4",
   "metadata": {
    "ExecuteTime": {
     "end_time": "2022-09-02T17:15:36.628818Z",
     "start_time": "2022-09-02T17:14:49.598643Z"
    }
   },
   "outputs": [
    {
     "data": {
      "application/vnd.jupyter.widget-view+json": {
       "model_id": "e02faca1d0e64947b865ecb28ccdd0b1",
       "version_major": 2,
       "version_minor": 0
      },
      "text/plain": [
       "Prefit on train 0: 0it [00:00, ?it/s]"
      ]
     },
     "metadata": {},
     "output_type": "display_data"
    },
    {
     "data": {
      "application/vnd.jupyter.widget-view+json": {
       "model_id": "3379ce8488fd4a2da2473bac8ce78e01",
       "version_major": 2,
       "version_minor": 0
      },
      "text/plain": [
       "Prefit on train 1: 0it [00:00, ?it/s]"
      ]
     },
     "metadata": {},
     "output_type": "display_data"
    },
    {
     "data": {
      "application/vnd.jupyter.widget-view+json": {
       "model_id": "e8377ee190d14925b5a57a2d64aaaffc",
       "version_major": 2,
       "version_minor": 0
      },
      "text/plain": [
       "Prefit on train 2: 0it [00:00, ?it/s]"
      ]
     },
     "metadata": {},
     "output_type": "display_data"
    },
    {
     "data": {
      "application/vnd.jupyter.widget-view+json": {
       "model_id": "286f593548fa4a2f8fea28184ef91131",
       "version_major": 2,
       "version_minor": 0
      },
      "text/plain": [
       "Prefit on train 3: 0it [00:00, ?it/s]"
      ]
     },
     "metadata": {},
     "output_type": "display_data"
    }
   ],
   "source": [
    "for d in datasets:\n",
    "    for data, _, _ in tqdm(datasets[d].train_generator(), desc=f'Prefit on train {d}'):\n",
    "        for w in watchmen[d]:\n",
    "            watchmen[d][w].prefit(data)"
   ]
  },
  {
   "cell_type": "markdown",
   "id": "77312393",
   "metadata": {},
   "source": [
    "## Fit"
   ]
  },
  {
   "cell_type": "code",
   "execution_count": 9,
   "id": "ea1f2f67",
   "metadata": {
    "ExecuteTime": {
     "end_time": "2022-09-02T17:22:41.818928Z",
     "start_time": "2022-09-02T17:15:36.634084Z"
    }
   },
   "outputs": [
    {
     "data": {
      "application/vnd.jupyter.widget-view+json": {
       "model_id": "6ed2f30767bc465a8fda0d2bde93e7bb",
       "version_major": 2,
       "version_minor": 0
      },
      "text/plain": [
       "Fit on train 0: 0it [00:00, ?it/s]"
      ]
     },
     "metadata": {},
     "output_type": "display_data"
    },
    {
     "data": {
      "application/vnd.jupyter.widget-view+json": {
       "model_id": "56ef7d1150fc41f3bacc1b94ebe94dc3",
       "version_major": 2,
       "version_minor": 0
      },
      "text/plain": [
       "Fit on train 1: 0it [00:00, ?it/s]"
      ]
     },
     "metadata": {},
     "output_type": "display_data"
    },
    {
     "data": {
      "application/vnd.jupyter.widget-view+json": {
       "model_id": "0063b2d39b0f4d4a8c162013ccfbe5ac",
       "version_major": 2,
       "version_minor": 0
      },
      "text/plain": [
       "Fit on train 2: 0it [00:00, ?it/s]"
      ]
     },
     "metadata": {},
     "output_type": "display_data"
    },
    {
     "data": {
      "application/vnd.jupyter.widget-view+json": {
       "model_id": "2310aa057ab04f3280b9153426ccbf9a",
       "version_major": 2,
       "version_minor": 0
      },
      "text/plain": [
       "Fit on train 3: 0it [00:00, ?it/s]"
      ]
     },
     "metadata": {},
     "output_type": "display_data"
    }
   ],
   "source": [
    "for d in datasets:\n",
    "    for data, _, _ in tqdm(datasets[d].train_generator(), desc=f'Fit on train {d}'):\n",
    "        for w in watchmen[d]:\n",
    "            watchmen[d][w].partial_fit(data)"
   ]
  },
  {
   "cell_type": "markdown",
   "id": "7bf9fdd6",
   "metadata": {},
   "source": [
    "## Save"
   ]
  },
  {
   "cell_type": "code",
   "execution_count": 10,
   "id": "834ada88",
   "metadata": {
    "ExecuteTime": {
     "end_time": "2022-09-02T17:22:41.898211Z",
     "start_time": "2022-09-02T17:22:41.821877Z"
    }
   },
   "outputs": [],
   "source": [
    "for d in datasets:\n",
    "    for w in watchmen[d]:\n",
    "        save_object(watchmen[d][w], f'{datasets[d].__class__.__name__}-watchman_{w}')"
   ]
  },
  {
   "cell_type": "markdown",
   "id": "78adf1e9",
   "metadata": {},
   "source": [
    "# Self-checking\n",
    "Check watchmen on train. Theoretically all metrics must be NaN."
   ]
  },
  {
   "cell_type": "markdown",
   "id": "ad884747",
   "metadata": {},
   "source": [
    "## Load"
   ]
  },
  {
   "cell_type": "code",
   "execution_count": 11,
   "id": "e7fca175",
   "metadata": {
    "ExecuteTime": {
     "end_time": "2022-09-02T17:22:42.149874Z",
     "start_time": "2022-09-02T17:22:41.900878Z"
    }
   },
   "outputs": [],
   "source": [
    "for d in datasets:\n",
    "    for w in watchmen[d]:\n",
    "        watchmen[d][w] = load_object(f'{datasets[d].__class__.__name__}-watchman_{w}')"
   ]
  },
  {
   "cell_type": "markdown",
   "id": "d3fc0f0b",
   "metadata": {},
   "source": [
    "## Throw stones"
   ]
  },
  {
   "cell_type": "code",
   "execution_count": 12,
   "id": "4f96a624",
   "metadata": {
    "ExecuteTime": {
     "end_time": "2022-09-02T17:22:42.164877Z",
     "start_time": "2022-09-02T17:22:42.151876Z"
    }
   },
   "outputs": [],
   "source": [
    "stones = dict()\n",
    "for d in datasets:\n",
    "    stones[d] = dict()\n",
    "    for w in watchmen[d]:\n",
    "        stones[d][w] = list()"
   ]
  },
  {
   "cell_type": "code",
   "execution_count": 13,
   "id": "b6dce708",
   "metadata": {
    "ExecuteTime": {
     "end_time": "2022-09-02T18:04:11.273661Z",
     "start_time": "2022-09-02T17:22:42.168026Z"
    }
   },
   "outputs": [
    {
     "data": {
      "application/vnd.jupyter.widget-view+json": {
       "model_id": "1e0a902c3fe24588b04635c85242e612",
       "version_major": 2,
       "version_minor": 0
      },
      "text/plain": [
       "Detect on train 0: 0it [00:00, ?it/s]"
      ]
     },
     "metadata": {},
     "output_type": "display_data"
    },
    {
     "data": {
      "application/vnd.jupyter.widget-view+json": {
       "model_id": "d5c48ee6fb9d47d6a930719e98027b3d",
       "version_major": 2,
       "version_minor": 0
      },
      "text/plain": [
       "Detect on train 1: 0it [00:00, ?it/s]"
      ]
     },
     "metadata": {},
     "output_type": "display_data"
    },
    {
     "data": {
      "application/vnd.jupyter.widget-view+json": {
       "model_id": "83cb134af2ac4a1ea61d9635734fb63a",
       "version_major": 2,
       "version_minor": 0
      },
      "text/plain": [
       "Detect on train 2: 0it [00:00, ?it/s]"
      ]
     },
     "metadata": {},
     "output_type": "display_data"
    },
    {
     "data": {
      "application/vnd.jupyter.widget-view+json": {
       "model_id": "abce5f23a134436c9bb39c10397b717b",
       "version_major": 2,
       "version_minor": 0
      },
      "text/plain": [
       "Detect on train 3: 0it [00:00, ?it/s]"
      ]
     },
     "metadata": {},
     "output_type": "display_data"
    }
   ],
   "source": [
    "for d in datasets:\n",
    "    for data, faults, info in tqdm(datasets[d].train_generator(), desc=f'Detect on train {d}'):\n",
    "        for w in watchmen[d]:\n",
    "            detect = watchmen[d][w].predict(data)\n",
    "            stones[d][w].append(pd.concat([faults, detect], axis=1))\n",
    "            stones[d][w][-1].index.name = info"
   ]
  },
  {
   "cell_type": "markdown",
   "id": "5fcea39a",
   "metadata": {},
   "source": [
    "## Checks"
   ]
  },
  {
   "cell_type": "code",
   "execution_count": 14,
   "id": "d98cecc6",
   "metadata": {
    "ExecuteTime": {
     "end_time": "2022-09-02T18:04:11.291830Z",
     "start_time": "2022-09-02T18:04:11.273661Z"
    }
   },
   "outputs": [],
   "source": [
    "metrics = ('precision', 'recall', 'f1_score')\n",
    "checks = {str(datasets[d]): pd.DataFrame(columns=metrics) for d in datasets}"
   ]
  },
  {
   "cell_type": "code",
   "execution_count": 15,
   "id": "f5db580c",
   "metadata": {
    "ExecuteTime": {
     "end_time": "2022-09-02T18:04:28.671106Z",
     "start_time": "2022-09-02T18:04:11.295387Z"
    }
   },
   "outputs": [
    {
     "data": {
      "application/vnd.jupyter.widget-view+json": {
       "model_id": "a2eea111fb1f434897cd1dda59bb0aa2",
       "version_major": 2,
       "version_minor": 0
      },
      "text/plain": [
       "Collect stones d0:   0%|          | 0/5 [00:00<?, ?it/s]"
      ]
     },
     "metadata": {},
     "output_type": "display_data"
    },
    {
     "data": {
      "application/vnd.jupyter.widget-view+json": {
       "model_id": "b1dbafa5aa764af7b907119a33bca2ac",
       "version_major": 2,
       "version_minor": 0
      },
      "text/plain": [
       "Collect stones d1:   0%|          | 0/5 [00:00<?, ?it/s]"
      ]
     },
     "metadata": {},
     "output_type": "display_data"
    },
    {
     "data": {
      "application/vnd.jupyter.widget-view+json": {
       "model_id": "aaf41a3710d6419fb3630cbbf5045c0b",
       "version_major": 2,
       "version_minor": 0
      },
      "text/plain": [
       "Collect stones d2:   0%|          | 0/5 [00:00<?, ?it/s]"
      ]
     },
     "metadata": {},
     "output_type": "display_data"
    },
    {
     "data": {
      "application/vnd.jupyter.widget-view+json": {
       "model_id": "1628f252b472415cb76cdd74582aee9f",
       "version_major": 2,
       "version_minor": 0
      },
      "text/plain": [
       "Collect stones d3:   0%|          | 0/5 [00:00<?, ?it/s]"
      ]
     },
     "metadata": {},
     "output_type": "display_data"
    }
   ],
   "source": [
    "# alone\n",
    "for d in datasets:\n",
    "    for w in tqdm(watchmen[d], desc=f'Collect stones d{d}'):\n",
    "        exam_paper = pd.DataFrame(columns=metrics)\n",
    "        for i_st, st in enumerate(stones[d][w]):\n",
    "            exam_paper.loc[i_st, metrics] = time_span_metrics(st.iloc[:, 0], st.iloc[:, 1:])\n",
    "        checks[str(datasets[d])].loc[str(watchmen[d][w]), metrics] = exam_paper.mean().values"
   ]
  },
  {
   "cell_type": "code",
   "execution_count": 16,
   "id": "115fea76",
   "metadata": {
    "ExecuteTime": {
     "end_time": "2022-09-02T18:04:48.852914Z",
     "start_time": "2022-09-02T18:04:28.671106Z"
    }
   },
   "outputs": [
    {
     "data": {
      "application/vnd.jupyter.widget-view+json": {
       "model_id": "60a6aaba997f450eb0c1bd179de362d6",
       "version_major": 2,
       "version_minor": 0
      },
      "text/plain": [
       "Ensembling stones d0: 0it [00:00, ?it/s]"
      ]
     },
     "metadata": {},
     "output_type": "display_data"
    },
    {
     "data": {
      "application/vnd.jupyter.widget-view+json": {
       "model_id": "8cfe3c4cc42f4291ab8435c1cb31ae06",
       "version_major": 2,
       "version_minor": 0
      },
      "text/plain": [
       "Ensembling stones d1: 0it [00:00, ?it/s]"
      ]
     },
     "metadata": {},
     "output_type": "display_data"
    },
    {
     "data": {
      "application/vnd.jupyter.widget-view+json": {
       "model_id": "1a20a232444e4c5396ebc085b8032c80",
       "version_major": 2,
       "version_minor": 0
      },
      "text/plain": [
       "Ensembling stones d2: 0it [00:00, ?it/s]"
      ]
     },
     "metadata": {},
     "output_type": "display_data"
    },
    {
     "data": {
      "application/vnd.jupyter.widget-view+json": {
       "model_id": "5b6a8e55fadb4dbc9f6b8438b2b9c39d",
       "version_major": 2,
       "version_minor": 0
      },
      "text/plain": [
       "Ensembling stones d3: 0it [00:00, ?it/s]"
      ]
     },
     "metadata": {},
     "output_type": "display_data"
    }
   ],
   "source": [
    "# ensemble\n",
    "max_threshold = 5\n",
    "for d in datasets:\n",
    "    exam_papers = dict()\n",
    "    for threshold in range(1, max_threshold+1):\n",
    "        exam_papers[threshold] = pd.DataFrame(columns=metrics)\n",
    "    for i_st, st in tqdm(enumerate(stones[d][0]), desc=f'Ensembling stones d{d}'):\n",
    "        opinions = pd.concat([stones[d][w][i_st].iloc[:, 1:].sum(axis=1) for w in watchmen[d]], axis=1)\n",
    "        for threshold in range(1, max_threshold+1):\n",
    "            detect = (opinions.sum(axis=1) >= threshold).astype('uint8')\n",
    "            exam_papers[threshold].loc[i_st, metrics] = time_span_metrics(st.iloc[:, 0], detect)\n",
    "    for threshold in range(1, max_threshold+1):\n",
    "        checks[str(datasets[d])].loc[f'ensemble(threshold={threshold})', metrics] = exam_papers[threshold].mean().values"
   ]
  },
  {
   "cell_type": "code",
   "execution_count": 17,
   "id": "39437548",
   "metadata": {
    "ExecuteTime": {
     "end_time": "2022-09-02T18:04:48.911929Z",
     "start_time": "2022-09-02T18:04:48.854328Z"
    }
   },
   "outputs": [
    {
     "name": "stdout",
     "output_type": "stream",
     "text": [
      "GhlKasperskyDataset(E:\\Datasets\\GHL)\n"
     ]
    },
    {
     "data": {
      "text/html": [
       "<div>\n",
       "<style scoped>\n",
       "    .dataframe tbody tr th:only-of-type {\n",
       "        vertical-align: middle;\n",
       "    }\n",
       "\n",
       "    .dataframe tbody tr th {\n",
       "        vertical-align: top;\n",
       "    }\n",
       "\n",
       "    .dataframe thead th {\n",
       "        text-align: right;\n",
       "    }\n",
       "</style>\n",
       "<table border=\"1\" class=\"dataframe\">\n",
       "  <thead>\n",
       "    <tr style=\"text-align: right;\">\n",
       "      <th></th>\n",
       "      <th>precision</th>\n",
       "      <th>recall</th>\n",
       "      <th>f1_score</th>\n",
       "    </tr>\n",
       "  </thead>\n",
       "  <tbody>\n",
       "    <tr>\n",
       "      <th>LimitWatchman(ewma=None)</th>\n",
       "      <td>NaN</td>\n",
       "      <td>NaN</td>\n",
       "      <td>NaN</td>\n",
       "    </tr>\n",
       "    <tr>\n",
       "      <th>LimitPcaWatchman(n_components=3)</th>\n",
       "      <td>NaN</td>\n",
       "      <td>NaN</td>\n",
       "      <td>NaN</td>\n",
       "    </tr>\n",
       "    <tr>\n",
       "      <th>SpePcaWatchman(n_components=3)</th>\n",
       "      <td>NaN</td>\n",
       "      <td>NaN</td>\n",
       "      <td>NaN</td>\n",
       "    </tr>\n",
       "    <tr>\n",
       "      <th>IsolatingWatchman(n_trees=17)</th>\n",
       "      <td>0.0</td>\n",
       "      <td>NaN</td>\n",
       "      <td>0.0</td>\n",
       "    </tr>\n",
       "    <tr>\n",
       "      <th>LinearPredictWatchman(n_features=12)</th>\n",
       "      <td>0.0</td>\n",
       "      <td>NaN</td>\n",
       "      <td>0.0</td>\n",
       "    </tr>\n",
       "    <tr>\n",
       "      <th>ensemble(threshold=1)</th>\n",
       "      <td>0.0</td>\n",
       "      <td>NaN</td>\n",
       "      <td>0.0</td>\n",
       "    </tr>\n",
       "    <tr>\n",
       "      <th>ensemble(threshold=2)</th>\n",
       "      <td>0.0</td>\n",
       "      <td>NaN</td>\n",
       "      <td>0.0</td>\n",
       "    </tr>\n",
       "    <tr>\n",
       "      <th>ensemble(threshold=3)</th>\n",
       "      <td>0.0</td>\n",
       "      <td>NaN</td>\n",
       "      <td>0.0</td>\n",
       "    </tr>\n",
       "    <tr>\n",
       "      <th>ensemble(threshold=4)</th>\n",
       "      <td>NaN</td>\n",
       "      <td>NaN</td>\n",
       "      <td>NaN</td>\n",
       "    </tr>\n",
       "    <tr>\n",
       "      <th>ensemble(threshold=5)</th>\n",
       "      <td>NaN</td>\n",
       "      <td>NaN</td>\n",
       "      <td>NaN</td>\n",
       "    </tr>\n",
       "  </tbody>\n",
       "</table>\n",
       "</div>"
      ],
      "text/plain": [
       "                                     precision recall f1_score\n",
       "LimitWatchman(ewma=None)                   NaN    NaN      NaN\n",
       "LimitPcaWatchman(n_components=3)           NaN    NaN      NaN\n",
       "SpePcaWatchman(n_components=3)             NaN    NaN      NaN\n",
       "IsolatingWatchman(n_trees=17)              0.0    NaN      0.0\n",
       "LinearPredictWatchman(n_features=12)       0.0    NaN      0.0\n",
       "ensemble(threshold=1)                      0.0    NaN      0.0\n",
       "ensemble(threshold=2)                      0.0    NaN      0.0\n",
       "ensemble(threshold=3)                      0.0    NaN      0.0\n",
       "ensemble(threshold=4)                      NaN    NaN      NaN\n",
       "ensemble(threshold=5)                      NaN    NaN      NaN"
      ]
     },
     "metadata": {},
     "output_type": "display_data"
    },
    {
     "name": "stdout",
     "output_type": "stream",
     "text": [
      "TepHarvardDataset(E:\\Datasets\\TEP\\dataverse)\n"
     ]
    },
    {
     "data": {
      "text/html": [
       "<div>\n",
       "<style scoped>\n",
       "    .dataframe tbody tr th:only-of-type {\n",
       "        vertical-align: middle;\n",
       "    }\n",
       "\n",
       "    .dataframe tbody tr th {\n",
       "        vertical-align: top;\n",
       "    }\n",
       "\n",
       "    .dataframe thead th {\n",
       "        text-align: right;\n",
       "    }\n",
       "</style>\n",
       "<table border=\"1\" class=\"dataframe\">\n",
       "  <thead>\n",
       "    <tr style=\"text-align: right;\">\n",
       "      <th></th>\n",
       "      <th>precision</th>\n",
       "      <th>recall</th>\n",
       "      <th>f1_score</th>\n",
       "    </tr>\n",
       "  </thead>\n",
       "  <tbody>\n",
       "    <tr>\n",
       "      <th>LimitWatchman(ewma=None)</th>\n",
       "      <td>NaN</td>\n",
       "      <td>NaN</td>\n",
       "      <td>NaN</td>\n",
       "    </tr>\n",
       "    <tr>\n",
       "      <th>LimitPcaWatchman(n_components=3)</th>\n",
       "      <td>NaN</td>\n",
       "      <td>NaN</td>\n",
       "      <td>NaN</td>\n",
       "    </tr>\n",
       "    <tr>\n",
       "      <th>SpePcaWatchman(n_components=3)</th>\n",
       "      <td>NaN</td>\n",
       "      <td>NaN</td>\n",
       "      <td>NaN</td>\n",
       "    </tr>\n",
       "    <tr>\n",
       "      <th>IsolatingWatchman(n_trees=500)</th>\n",
       "      <td>0.0</td>\n",
       "      <td>NaN</td>\n",
       "      <td>0.0</td>\n",
       "    </tr>\n",
       "    <tr>\n",
       "      <th>LinearPredictWatchman(n_features=52)</th>\n",
       "      <td>0.0</td>\n",
       "      <td>NaN</td>\n",
       "      <td>0.0</td>\n",
       "    </tr>\n",
       "    <tr>\n",
       "      <th>ensemble(threshold=1)</th>\n",
       "      <td>0.0</td>\n",
       "      <td>NaN</td>\n",
       "      <td>0.0</td>\n",
       "    </tr>\n",
       "    <tr>\n",
       "      <th>ensemble(threshold=2)</th>\n",
       "      <td>0.0</td>\n",
       "      <td>NaN</td>\n",
       "      <td>0.0</td>\n",
       "    </tr>\n",
       "    <tr>\n",
       "      <th>ensemble(threshold=3)</th>\n",
       "      <td>NaN</td>\n",
       "      <td>NaN</td>\n",
       "      <td>NaN</td>\n",
       "    </tr>\n",
       "    <tr>\n",
       "      <th>ensemble(threshold=4)</th>\n",
       "      <td>NaN</td>\n",
       "      <td>NaN</td>\n",
       "      <td>NaN</td>\n",
       "    </tr>\n",
       "    <tr>\n",
       "      <th>ensemble(threshold=5)</th>\n",
       "      <td>NaN</td>\n",
       "      <td>NaN</td>\n",
       "      <td>NaN</td>\n",
       "    </tr>\n",
       "  </tbody>\n",
       "</table>\n",
       "</div>"
      ],
      "text/plain": [
       "                                     precision recall f1_score\n",
       "LimitWatchman(ewma=None)                   NaN    NaN      NaN\n",
       "LimitPcaWatchman(n_components=3)           NaN    NaN      NaN\n",
       "SpePcaWatchman(n_components=3)             NaN    NaN      NaN\n",
       "IsolatingWatchman(n_trees=500)             0.0    NaN      0.0\n",
       "LinearPredictWatchman(n_features=52)       0.0    NaN      0.0\n",
       "ensemble(threshold=1)                      0.0    NaN      0.0\n",
       "ensemble(threshold=2)                      0.0    NaN      0.0\n",
       "ensemble(threshold=3)                      NaN    NaN      NaN\n",
       "ensemble(threshold=4)                      NaN    NaN      NaN\n",
       "ensemble(threshold=5)                      NaN    NaN      NaN"
      ]
     },
     "metadata": {},
     "output_type": "display_data"
    },
    {
     "name": "stdout",
     "output_type": "stream",
     "text": [
      "TepKasperskyDataset(E:\\Datasets\\TEP\\kaspersky)\n"
     ]
    },
    {
     "data": {
      "text/html": [
       "<div>\n",
       "<style scoped>\n",
       "    .dataframe tbody tr th:only-of-type {\n",
       "        vertical-align: middle;\n",
       "    }\n",
       "\n",
       "    .dataframe tbody tr th {\n",
       "        vertical-align: top;\n",
       "    }\n",
       "\n",
       "    .dataframe thead th {\n",
       "        text-align: right;\n",
       "    }\n",
       "</style>\n",
       "<table border=\"1\" class=\"dataframe\">\n",
       "  <thead>\n",
       "    <tr style=\"text-align: right;\">\n",
       "      <th></th>\n",
       "      <th>precision</th>\n",
       "      <th>recall</th>\n",
       "      <th>f1_score</th>\n",
       "    </tr>\n",
       "  </thead>\n",
       "  <tbody>\n",
       "    <tr>\n",
       "      <th>LimitWatchman(ewma=None)</th>\n",
       "      <td>NaN</td>\n",
       "      <td>NaN</td>\n",
       "      <td>NaN</td>\n",
       "    </tr>\n",
       "    <tr>\n",
       "      <th>LimitPcaWatchman(n_components=3)</th>\n",
       "      <td>NaN</td>\n",
       "      <td>NaN</td>\n",
       "      <td>NaN</td>\n",
       "    </tr>\n",
       "    <tr>\n",
       "      <th>SpePcaWatchman(n_components=3)</th>\n",
       "      <td>NaN</td>\n",
       "      <td>NaN</td>\n",
       "      <td>NaN</td>\n",
       "    </tr>\n",
       "    <tr>\n",
       "      <th>IsolatingWatchman(n_trees=400)</th>\n",
       "      <td>0.0</td>\n",
       "      <td>NaN</td>\n",
       "      <td>0.0</td>\n",
       "    </tr>\n",
       "    <tr>\n",
       "      <th>LinearPredictWatchman(n_features=53)</th>\n",
       "      <td>0.0</td>\n",
       "      <td>NaN</td>\n",
       "      <td>0.0</td>\n",
       "    </tr>\n",
       "    <tr>\n",
       "      <th>ensemble(threshold=1)</th>\n",
       "      <td>0.0</td>\n",
       "      <td>NaN</td>\n",
       "      <td>0.0</td>\n",
       "    </tr>\n",
       "    <tr>\n",
       "      <th>ensemble(threshold=2)</th>\n",
       "      <td>0.0</td>\n",
       "      <td>NaN</td>\n",
       "      <td>0.0</td>\n",
       "    </tr>\n",
       "    <tr>\n",
       "      <th>ensemble(threshold=3)</th>\n",
       "      <td>0.0</td>\n",
       "      <td>NaN</td>\n",
       "      <td>0.0</td>\n",
       "    </tr>\n",
       "    <tr>\n",
       "      <th>ensemble(threshold=4)</th>\n",
       "      <td>NaN</td>\n",
       "      <td>NaN</td>\n",
       "      <td>NaN</td>\n",
       "    </tr>\n",
       "    <tr>\n",
       "      <th>ensemble(threshold=5)</th>\n",
       "      <td>NaN</td>\n",
       "      <td>NaN</td>\n",
       "      <td>NaN</td>\n",
       "    </tr>\n",
       "  </tbody>\n",
       "</table>\n",
       "</div>"
      ],
      "text/plain": [
       "                                     precision recall f1_score\n",
       "LimitWatchman(ewma=None)                   NaN    NaN      NaN\n",
       "LimitPcaWatchman(n_components=3)           NaN    NaN      NaN\n",
       "SpePcaWatchman(n_components=3)             NaN    NaN      NaN\n",
       "IsolatingWatchman(n_trees=400)             0.0    NaN      0.0\n",
       "LinearPredictWatchman(n_features=53)       0.0    NaN      0.0\n",
       "ensemble(threshold=1)                      0.0    NaN      0.0\n",
       "ensemble(threshold=2)                      0.0    NaN      0.0\n",
       "ensemble(threshold=3)                      0.0    NaN      0.0\n",
       "ensemble(threshold=4)                      NaN    NaN      NaN\n",
       "ensemble(threshold=5)                      NaN    NaN      NaN"
      ]
     },
     "metadata": {},
     "output_type": "display_data"
    },
    {
     "name": "stdout",
     "output_type": "stream",
     "text": [
      "SwatItrustDataset(E:\\Datasets\\SWaT\\dataset12)\n"
     ]
    },
    {
     "data": {
      "text/html": [
       "<div>\n",
       "<style scoped>\n",
       "    .dataframe tbody tr th:only-of-type {\n",
       "        vertical-align: middle;\n",
       "    }\n",
       "\n",
       "    .dataframe tbody tr th {\n",
       "        vertical-align: top;\n",
       "    }\n",
       "\n",
       "    .dataframe thead th {\n",
       "        text-align: right;\n",
       "    }\n",
       "</style>\n",
       "<table border=\"1\" class=\"dataframe\">\n",
       "  <thead>\n",
       "    <tr style=\"text-align: right;\">\n",
       "      <th></th>\n",
       "      <th>precision</th>\n",
       "      <th>recall</th>\n",
       "      <th>f1_score</th>\n",
       "    </tr>\n",
       "  </thead>\n",
       "  <tbody>\n",
       "    <tr>\n",
       "      <th>LimitWatchman(ewma=None)</th>\n",
       "      <td>NaN</td>\n",
       "      <td>NaN</td>\n",
       "      <td>NaN</td>\n",
       "    </tr>\n",
       "    <tr>\n",
       "      <th>LimitPcaWatchman(n_components=3)</th>\n",
       "      <td>NaN</td>\n",
       "      <td>NaN</td>\n",
       "      <td>NaN</td>\n",
       "    </tr>\n",
       "    <tr>\n",
       "      <th>SpePcaWatchman(n_components=3)</th>\n",
       "      <td>NaN</td>\n",
       "      <td>NaN</td>\n",
       "      <td>NaN</td>\n",
       "    </tr>\n",
       "    <tr>\n",
       "      <th>IsolatingWatchman(n_trees=6)</th>\n",
       "      <td>0.0</td>\n",
       "      <td>NaN</td>\n",
       "      <td>0.0</td>\n",
       "    </tr>\n",
       "    <tr>\n",
       "      <th>LinearPredictWatchman(n_features=51)</th>\n",
       "      <td>0.0</td>\n",
       "      <td>NaN</td>\n",
       "      <td>0.0</td>\n",
       "    </tr>\n",
       "    <tr>\n",
       "      <th>ensemble(threshold=1)</th>\n",
       "      <td>0.0</td>\n",
       "      <td>NaN</td>\n",
       "      <td>0.0</td>\n",
       "    </tr>\n",
       "    <tr>\n",
       "      <th>ensemble(threshold=2)</th>\n",
       "      <td>0.0</td>\n",
       "      <td>NaN</td>\n",
       "      <td>0.0</td>\n",
       "    </tr>\n",
       "    <tr>\n",
       "      <th>ensemble(threshold=3)</th>\n",
       "      <td>0.0</td>\n",
       "      <td>NaN</td>\n",
       "      <td>0.0</td>\n",
       "    </tr>\n",
       "    <tr>\n",
       "      <th>ensemble(threshold=4)</th>\n",
       "      <td>NaN</td>\n",
       "      <td>NaN</td>\n",
       "      <td>NaN</td>\n",
       "    </tr>\n",
       "    <tr>\n",
       "      <th>ensemble(threshold=5)</th>\n",
       "      <td>NaN</td>\n",
       "      <td>NaN</td>\n",
       "      <td>NaN</td>\n",
       "    </tr>\n",
       "  </tbody>\n",
       "</table>\n",
       "</div>"
      ],
      "text/plain": [
       "                                     precision recall f1_score\n",
       "LimitWatchman(ewma=None)                   NaN    NaN      NaN\n",
       "LimitPcaWatchman(n_components=3)           NaN    NaN      NaN\n",
       "SpePcaWatchman(n_components=3)             NaN    NaN      NaN\n",
       "IsolatingWatchman(n_trees=6)               0.0    NaN      0.0\n",
       "LinearPredictWatchman(n_features=51)       0.0    NaN      0.0\n",
       "ensemble(threshold=1)                      0.0    NaN      0.0\n",
       "ensemble(threshold=2)                      0.0    NaN      0.0\n",
       "ensemble(threshold=3)                      0.0    NaN      0.0\n",
       "ensemble(threshold=4)                      NaN    NaN      NaN\n",
       "ensemble(threshold=5)                      NaN    NaN      NaN"
      ]
     },
     "metadata": {},
     "output_type": "display_data"
    }
   ],
   "source": [
    "for d in checks:\n",
    "    print(d)\n",
    "    display(checks[d])"
   ]
  },
  {
   "cell_type": "markdown",
   "id": "d3a7d66d",
   "metadata": {
    "ExecuteTime": {
     "end_time": "2022-09-01T10:44:09.441614Z",
     "start_time": "2022-09-01T10:44:09.440614Z"
    }
   },
   "source": [
    "IsolatingWatchman and LinearPredictWatchman detecting anomalies on train.\n",
    "\n",
    "Ensemble with threshold=4+ don't detect anomalies on train. Let's use threshold=4 for reducing false positive results."
   ]
  }
 ],
 "metadata": {
  "kernelspec": {
   "display_name": "Python 3 (ipykernel)",
   "language": "python",
   "name": "python3"
  },
  "language_info": {
   "codemirror_mode": {
    "name": "ipython",
    "version": 3
   },
   "file_extension": ".py",
   "mimetype": "text/x-python",
   "name": "python",
   "nbconvert_exporter": "python",
   "pygments_lexer": "ipython3",
   "version": "3.8.8"
  },
  "toc": {
   "base_numbering": 1,
   "nav_menu": {},
   "number_sections": true,
   "sideBar": true,
   "skip_h1_title": false,
   "title_cell": "Table of Contents",
   "title_sidebar": "Contents",
   "toc_cell": false,
   "toc_position": {
    "height": "calc(100% - 180px)",
    "left": "10px",
    "top": "150px",
    "width": "272.2px"
   },
   "toc_section_display": true,
   "toc_window_display": true
  }
 },
 "nbformat": 4,
 "nbformat_minor": 5
}
