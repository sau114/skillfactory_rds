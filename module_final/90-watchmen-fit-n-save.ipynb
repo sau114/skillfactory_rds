{
 "cells": [
  {
   "cell_type": "code",
   "execution_count": 1,
   "id": "3afcaa82",
   "metadata": {
    "ExecuteTime": {
     "end_time": "2022-09-15T13:23:05.953726Z",
     "start_time": "2022-09-15T13:23:05.894727Z"
    }
   },
   "outputs": [],
   "source": [
    "!del /Q utils\\__pycache__"
   ]
  },
  {
   "cell_type": "code",
   "execution_count": 2,
   "id": "86b03be5",
   "metadata": {
    "ExecuteTime": {
     "end_time": "2022-09-15T13:23:07.537725Z",
     "start_time": "2022-09-15T13:23:05.956072Z"
    }
   },
   "outputs": [],
   "source": [
    "import pandas as pd\n",
    "from tqdm.notebook import tqdm"
   ]
  },
  {
   "cell_type": "code",
   "execution_count": 3,
   "id": "f34899c4",
   "metadata": {
    "ExecuteTime": {
     "end_time": "2022-09-15T13:23:18.953555Z",
     "start_time": "2022-09-15T13:23:07.541839Z"
    }
   },
   "outputs": [],
   "source": [
    "from utils.datasets import GhlKasperskyDataset, TepHarvardDataset, TepKasperskyDataset, SwatItrustDataset\n",
    "from utils.custom_plots import plot_stacked\n",
    "from utils.metrics import time_span_metrics\n",
    "from utils.watchmen import Watchman\n",
    "from utils.watchmen import DirectLimitWatchman, PcaLimitWatchman\n",
    "from utils.watchmen import IsoForestWatchman\n",
    "from utils.watchmen import LinearPredictWatchman, DeepPredictWatchman"
   ]
  },
  {
   "cell_type": "code",
   "execution_count": 4,
   "id": "f4e9bb0f",
   "metadata": {
    "ExecuteTime": {
     "end_time": "2022-09-15T13:23:18.969613Z",
     "start_time": "2022-09-15T13:23:18.956559Z"
    }
   },
   "outputs": [],
   "source": [
    "SEED = 1729"
   ]
  },
  {
   "cell_type": "markdown",
   "id": "ab2d87dc",
   "metadata": {
    "ExecuteTime": {
     "end_time": "2022-08-19T10:07:19.598656Z",
     "start_time": "2022-08-19T10:07:18.676895Z"
    }
   },
   "source": [
    "# Preparing datasets"
   ]
  },
  {
   "cell_type": "code",
   "execution_count": 5,
   "id": "cb921176",
   "metadata": {
    "ExecuteTime": {
     "end_time": "2022-09-15T13:23:18.984978Z",
     "start_time": "2022-09-15T13:23:18.972555Z"
    }
   },
   "outputs": [],
   "source": [
    "datasets = {\n",
    "    0: GhlKasperskyDataset(),\n",
    "    1: TepHarvardDataset(),\n",
    "    2: TepKasperskyDataset(),\n",
    "    3: SwatItrustDataset(),\n",
    "}"
   ]
  },
  {
   "cell_type": "code",
   "execution_count": 6,
   "id": "fd787944",
   "metadata": {
    "ExecuteTime": {
     "end_time": "2022-09-15T13:23:19.231949Z",
     "start_time": "2022-09-15T13:23:18.988556Z"
    }
   },
   "outputs": [],
   "source": [
    "shake_kwargs = {\n",
    "    'random_state': SEED,\n",
    "    'valid2test_ratio': 0.3,\n",
    "}\n",
    "for d in datasets:\n",
    "    datasets[d].shake_not_stir(**shake_kwargs)"
   ]
  },
  {
   "cell_type": "markdown",
   "id": "f007db40",
   "metadata": {},
   "source": [
    "# Preparing watchhouse"
   ]
  },
  {
   "cell_type": "code",
   "execution_count": 7,
   "id": "b5c900e8",
   "metadata": {
    "ExecuteTime": {
     "end_time": "2022-09-15T13:23:19.277562Z",
     "start_time": "2022-09-15T13:23:19.234589Z"
    }
   },
   "outputs": [],
   "source": [
    "watchhouse = {\n",
    "    0: {  # GhlKasperskyDataset\n",
    "        0: Watchman(),\n",
    "        1: DirectLimitWatchman(),\n",
    "        2: PcaLimitWatchman(),\n",
    "        3: IsoForestWatchman(random_state=SEED),\n",
    "        4: LinearPredictWatchman(random_state=SEED),\n",
    "        5: DeepPredictWatchman(random_state=SEED),\n",
    "    },\n",
    "    1: {  # TepHarvardDataset\n",
    "        0: Watchman(),\n",
    "        1: DirectLimitWatchman(),\n",
    "        2: PcaLimitWatchman(),\n",
    "        3: IsoForestWatchman(random_state=SEED),\n",
    "        4: LinearPredictWatchman(random_state=SEED),\n",
    "        5: DeepPredictWatchman(random_state=SEED),\n",
    "    },\n",
    "    2: {  # TepKasperskyDataset\n",
    "        0: Watchman(),\n",
    "        1: DirectLimitWatchman(),\n",
    "        2: PcaLimitWatchman(),\n",
    "        3: IsoForestWatchman(random_state=SEED),\n",
    "        4: LinearPredictWatchman(random_state=SEED),\n",
    "        5: DeepPredictWatchman(random_state=SEED),\n",
    "    },\n",
    "    3: {  # SwatItrustDataset\n",
    "        0: Watchman(),\n",
    "        1: DirectLimitWatchman(),\n",
    "        2: PcaLimitWatchman(),\n",
    "        3: IsoForestWatchman(random_state=SEED),\n",
    "        4: LinearPredictWatchman(random_state=SEED),\n",
    "        5: DeepPredictWatchman(random_state=SEED),\n",
    "    },\n",
    "}"
   ]
  },
  {
   "cell_type": "markdown",
   "id": "be4104e1",
   "metadata": {},
   "source": [
    "# Learning"
   ]
  },
  {
   "cell_type": "markdown",
   "id": "8fa34354",
   "metadata": {},
   "source": [
    "## Prefit"
   ]
  },
  {
   "cell_type": "code",
   "execution_count": 8,
   "id": "53beb5b4",
   "metadata": {
    "ExecuteTime": {
     "end_time": "2022-09-15T13:24:00.701533Z",
     "start_time": "2022-09-15T13:23:19.280663Z"
    }
   },
   "outputs": [
    {
     "data": {
      "application/vnd.jupyter.widget-view+json": {
       "model_id": "0edaf233a9d846acb5b7918e04e81b7c",
       "version_major": 2,
       "version_minor": 0
      },
      "text/plain": [
       "Prefit on train 0:   0%|          | 0/1 [00:00<?, ?it/s]"
      ]
     },
     "metadata": {},
     "output_type": "display_data"
    },
    {
     "data": {
      "application/vnd.jupyter.widget-view+json": {
       "model_id": "0613bbb222f3462cabfb17844a0080d5",
       "version_major": 2,
       "version_minor": 0
      },
      "text/plain": [
       "Prefit on train 1:   0%|          | 0/500 [00:00<?, ?it/s]"
      ]
     },
     "metadata": {},
     "output_type": "display_data"
    },
    {
     "data": {
      "application/vnd.jupyter.widget-view+json": {
       "model_id": "700a3e9ab45a4bb39bcca3a5d01a0c85",
       "version_major": 2,
       "version_minor": 0
      },
      "text/plain": [
       "Prefit on train 2:   0%|          | 0/400 [00:00<?, ?it/s]"
      ]
     },
     "metadata": {},
     "output_type": "display_data"
    },
    {
     "data": {
      "application/vnd.jupyter.widget-view+json": {
       "model_id": "81f73d4294c34f11bbc38d3ada7f04cb",
       "version_major": 2,
       "version_minor": 0
      },
      "text/plain": [
       "Prefit on train 3:   0%|          | 0/1 [00:00<?, ?it/s]"
      ]
     },
     "metadata": {},
     "output_type": "display_data"
    }
   ],
   "source": [
    "for d in datasets:\n",
    "    for data, _, _ in tqdm(datasets[d].train_generator(), desc=f'Prefit on train {d}'):\n",
    "        for w in watchhouse[d]:\n",
    "            watchhouse[d][w].prefit(data)"
   ]
  },
  {
   "cell_type": "markdown",
   "id": "77312393",
   "metadata": {},
   "source": [
    "## Fit"
   ]
  },
  {
   "cell_type": "code",
   "execution_count": 9,
   "id": "ea1f2f67",
   "metadata": {
    "ExecuteTime": {
     "end_time": "2022-09-15T15:55:47.637726Z",
     "start_time": "2022-09-15T13:24:00.706466Z"
    }
   },
   "outputs": [
    {
     "data": {
      "application/vnd.jupyter.widget-view+json": {
       "model_id": "e81d0a78b6c14f88acdcf1ec2e349a52",
       "version_major": 2,
       "version_minor": 0
      },
      "text/plain": [
       "Fit on train 0:   0%|          | 0/1 [00:00<?, ?it/s]"
      ]
     },
     "metadata": {},
     "output_type": "display_data"
    },
    {
     "data": {
      "application/vnd.jupyter.widget-view+json": {
       "model_id": "fd5242d68f7247858dd66f6a2739a01a",
       "version_major": 2,
       "version_minor": 0
      },
      "text/plain": [
       "Fit on train 1:   0%|          | 0/500 [00:00<?, ?it/s]"
      ]
     },
     "metadata": {},
     "output_type": "display_data"
    },
    {
     "data": {
      "application/vnd.jupyter.widget-view+json": {
       "model_id": "ed2191e12029403f9ced5960e6522070",
       "version_major": 2,
       "version_minor": 0
      },
      "text/plain": [
       "Fit on train 2:   0%|          | 0/400 [00:00<?, ?it/s]"
      ]
     },
     "metadata": {},
     "output_type": "display_data"
    },
    {
     "data": {
      "application/vnd.jupyter.widget-view+json": {
       "model_id": "cdfb7171065c4dc9af7164ec4cede1da",
       "version_major": 2,
       "version_minor": 0
      },
      "text/plain": [
       "Fit on train 3:   0%|          | 0/1 [00:00<?, ?it/s]"
      ]
     },
     "metadata": {},
     "output_type": "display_data"
    }
   ],
   "source": [
    "for d in datasets:\n",
    "    for data, _, _ in tqdm(datasets[d].train_generator(), desc=f'Fit on train {d}'):\n",
    "        for w in watchhouse[d]:\n",
    "            watchhouse[d][w].fit(data)"
   ]
  },
  {
   "cell_type": "markdown",
   "id": "4ef52227",
   "metadata": {},
   "source": [
    "## Postfit"
   ]
  },
  {
   "cell_type": "code",
   "execution_count": null,
   "id": "e782a133",
   "metadata": {
    "ExecuteTime": {
     "start_time": "2022-09-15T13:23:05.931Z"
    }
   },
   "outputs": [
    {
     "data": {
      "application/vnd.jupyter.widget-view+json": {
       "model_id": "75aafc064a4f45a59f1a25a5c5554c31",
       "version_major": 2,
       "version_minor": 0
      },
      "text/plain": [
       "Fit on train 0:   0%|          | 0/1 [00:00<?, ?it/s]"
      ]
     },
     "metadata": {},
     "output_type": "display_data"
    },
    {
     "data": {
      "application/vnd.jupyter.widget-view+json": {
       "model_id": "b64f6ef643e34cc3ad2830596900f4c3",
       "version_major": 2,
       "version_minor": 0
      },
      "text/plain": [
       "Fit on train 1:   0%|          | 0/500 [00:00<?, ?it/s]"
      ]
     },
     "metadata": {},
     "output_type": "display_data"
    },
    {
     "data": {
      "application/vnd.jupyter.widget-view+json": {
       "model_id": "b98d74d0dd08456b88a55216738094df",
       "version_major": 2,
       "version_minor": 0
      },
      "text/plain": [
       "Fit on train 2:   0%|          | 0/400 [00:00<?, ?it/s]"
      ]
     },
     "metadata": {},
     "output_type": "display_data"
    }
   ],
   "source": [
    "for d in datasets:\n",
    "    for data, _, _ in tqdm(datasets[d].train_generator(), desc=f'Fit on train {d}'):\n",
    "        for w in watchhouse[d]:\n",
    "            watchhouse[d][w].postfit(data)"
   ]
  },
  {
   "cell_type": "markdown",
   "id": "7bf9fdd6",
   "metadata": {},
   "source": [
    "## Save"
   ]
  },
  {
   "cell_type": "code",
   "execution_count": null,
   "id": "834ada88",
   "metadata": {
    "ExecuteTime": {
     "start_time": "2022-09-15T13:23:05.940Z"
    }
   },
   "outputs": [],
   "source": [
    "for d in datasets:\n",
    "    for w in watchhouse[d]:\n",
    "        watchhouse[d][w].dump(datasets[d].__class__.__name__)"
   ]
  },
  {
   "cell_type": "markdown",
   "id": "78adf1e9",
   "metadata": {},
   "source": [
    "# Self-checking\n",
    "Check watchhouse on train. Theoretically all metrics must be NaN."
   ]
  },
  {
   "cell_type": "markdown",
   "id": "ad884747",
   "metadata": {},
   "source": [
    "## Load"
   ]
  },
  {
   "cell_type": "code",
   "execution_count": null,
   "id": "e7fca175",
   "metadata": {
    "ExecuteTime": {
     "start_time": "2022-09-15T13:23:05.944Z"
    },
    "scrolled": false
   },
   "outputs": [],
   "source": [
    "for d in datasets:\n",
    "    for w in watchhouse[d]:\n",
    "        watchhouse[d][w].load(datasets[d].__class__.__name__)"
   ]
  },
  {
   "cell_type": "markdown",
   "id": "d3fc0f0b",
   "metadata": {},
   "source": [
    "## Throw stones"
   ]
  },
  {
   "cell_type": "code",
   "execution_count": null,
   "id": "4f96a624",
   "metadata": {
    "ExecuteTime": {
     "start_time": "2022-09-15T13:23:05.953Z"
    }
   },
   "outputs": [],
   "source": [
    "stones = dict()\n",
    "for d in datasets:\n",
    "    stones[d] = dict()\n",
    "    for w in watchhouse[d]:\n",
    "        stones[d][w] = list()"
   ]
  },
  {
   "cell_type": "code",
   "execution_count": null,
   "id": "b6dce708",
   "metadata": {
    "ExecuteTime": {
     "start_time": "2022-09-15T13:23:05.968Z"
    }
   },
   "outputs": [],
   "source": [
    "for d in datasets:\n",
    "    for data, faults, info in tqdm(datasets[d].train_generator(), desc=f'Detect on train {d}'):\n",
    "        for w in watchhouse[d]:\n",
    "            detect = watchhouse[d][w].predict(data)\n",
    "            stones[d][w].append(pd.concat([faults, detect], axis=1))\n",
    "            stones[d][w][-1].index.name = info"
   ]
  },
  {
   "cell_type": "markdown",
   "id": "5fcea39a",
   "metadata": {},
   "source": [
    "## Checks"
   ]
  },
  {
   "cell_type": "code",
   "execution_count": null,
   "id": "d98cecc6",
   "metadata": {
    "ExecuteTime": {
     "start_time": "2022-09-15T13:23:05.978Z"
    }
   },
   "outputs": [],
   "source": [
    "metrics = ('precision', 'recall', 'f1_score')\n",
    "checks = {str(datasets[d]): pd.DataFrame(columns=metrics) for d in datasets}"
   ]
  },
  {
   "cell_type": "code",
   "execution_count": null,
   "id": "f5db580c",
   "metadata": {
    "ExecuteTime": {
     "start_time": "2022-09-15T13:23:05.996Z"
    }
   },
   "outputs": [],
   "source": [
    "# alone\n",
    "for d in datasets:\n",
    "    for w in tqdm(watchhouse[d], desc=f'Collect stones d{d}'):\n",
    "        exam_paper = pd.DataFrame(columns=metrics)\n",
    "        for i_st, st in enumerate(stones[d][w]):\n",
    "            exam_paper.loc[i_st, metrics] = time_span_metrics(st.iloc[:, 0], st.iloc[:, 1:])\n",
    "        checks[str(datasets[d])].loc[str(watchhouse[d][w]), metrics] = exam_paper.mean().values"
   ]
  },
  {
   "cell_type": "code",
   "execution_count": null,
   "id": "115fea76",
   "metadata": {
    "ExecuteTime": {
     "start_time": "2022-09-15T13:23:06.010Z"
    }
   },
   "outputs": [],
   "source": [
    "# ensemble\n",
    "max_threshold = 5\n",
    "for d in datasets:\n",
    "    exam_papers = dict()\n",
    "    for threshold in range(1, max_threshold+1):\n",
    "        exam_papers[threshold] = pd.DataFrame(columns=metrics)\n",
    "    for i_st, st in enumerate(tqdm(stones[d][0], desc=f'Ensembling stones d{d}')):\n",
    "        opinions = pd.concat([stones[d][w][i_st].iloc[:, 1:].sum(axis=1) for w in watchhouse[d]], axis=1)\n",
    "        for threshold in range(1, max_threshold+1):\n",
    "            detect = (opinions.sum(axis=1) >= threshold).astype('uint8')\n",
    "            exam_papers[threshold].loc[i_st, metrics] = time_span_metrics(st.iloc[:, 0], detect)\n",
    "    for threshold in range(1, max_threshold+1):\n",
    "        checks[str(datasets[d])].loc[f'ensemble(threshold={threshold})', metrics] = exam_papers[threshold].mean().values"
   ]
  },
  {
   "cell_type": "code",
   "execution_count": null,
   "id": "39437548",
   "metadata": {
    "ExecuteTime": {
     "start_time": "2022-09-15T13:23:06.023Z"
    },
    "scrolled": false
   },
   "outputs": [],
   "source": [
    "for d in checks:\n",
    "    print(d)\n",
    "    display(checks[d])"
   ]
  },
  {
   "cell_type": "markdown",
   "id": "d3a7d66d",
   "metadata": {
    "ExecuteTime": {
     "end_time": "2022-09-01T10:44:09.441614Z",
     "start_time": "2022-09-01T10:44:09.440614Z"
    }
   },
   "source": [
    "IsoForestWatchman, LinearPredictWatchman, DeepPredictWatchman detecting anomalies on train. Especially forTEP datasets.\n",
    "\n",
    "What threshold we should use?"
   ]
  },
  {
   "cell_type": "markdown",
   "id": "54c9d81b",
   "metadata": {},
   "source": [
    "## Let's look closer"
   ]
  },
  {
   "cell_type": "code",
   "execution_count": null,
   "id": "01a3860a",
   "metadata": {
    "ExecuteTime": {
     "start_time": "2022-09-15T13:23:06.034Z"
    }
   },
   "outputs": [],
   "source": [
    "counts = {str(datasets[d]): pd.DataFrame(columns=['max', 'median', 'q75', 'q95', 'q98', 'q99']) for d in datasets}"
   ]
  },
  {
   "cell_type": "code",
   "execution_count": null,
   "id": "4e9f881c",
   "metadata": {
    "ExecuteTime": {
     "start_time": "2022-09-15T13:23:06.051Z"
    }
   },
   "outputs": [],
   "source": [
    "# calc how much detect per watchman\n",
    "for d in datasets:\n",
    "    for w in tqdm(watchhouse[d], desc=f'Count stones d{d}'):\n",
    "        exam_paper = pd.DataFrame(columns=['max', 'median', 'q75', 'q95', 'q98', 'q99'])\n",
    "        for i_st, st in enumerate(stones[d][w]):\n",
    "            exam_paper.loc[i_st, 'max'] = st.iloc[:, 1:].sum(axis=1).max()\n",
    "            exam_paper.loc[i_st, 'median'] = st.iloc[:, 1:].sum(axis=1).median()\n",
    "            exam_paper.loc[i_st, 'q75'] = st.iloc[:, 1:].sum(axis=1).quantile(q=0.75)\n",
    "            exam_paper.loc[i_st, 'q95'] = st.iloc[:, 1:].sum(axis=1).quantile(q=0.95)\n",
    "            exam_paper.loc[i_st, 'q98'] = st.iloc[:, 1:].sum(axis=1).quantile(q=0.98)\n",
    "            exam_paper.loc[i_st, 'q99'] = st.iloc[:, 1:].sum(axis=1).quantile(q=0.99)\n",
    "        counts[str(datasets[d])].loc[str(watchhouse[d][w]), 'max'] = exam_paper['max'].max()\n",
    "        counts[str(datasets[d])].loc[str(watchhouse[d][w]), 'median'] = exam_paper['median'].median()\n",
    "        counts[str(datasets[d])].loc[str(watchhouse[d][w]), 'q75'] = exam_paper['q75'].mean()\n",
    "        counts[str(datasets[d])].loc[str(watchhouse[d][w]), 'q95'] = exam_paper['q95'].mean()\n",
    "        counts[str(datasets[d])].loc[str(watchhouse[d][w]), 'q98'] = exam_paper['q98'].mean()\n",
    "        counts[str(datasets[d])].loc[str(watchhouse[d][w]), 'q99'] = exam_paper['q99'].mean()"
   ]
  },
  {
   "cell_type": "code",
   "execution_count": null,
   "id": "5456669c",
   "metadata": {
    "ExecuteTime": {
     "start_time": "2022-09-15T13:23:06.065Z"
    }
   },
   "outputs": [],
   "source": [
    "for d in checks:\n",
    "    print(d)\n",
    "    display(counts[d])"
   ]
  },
  {
   "cell_type": "markdown",
   "id": "2873dd76",
   "metadata": {
    "ExecuteTime": {
     "end_time": "2022-09-15T10:25:42.761188Z",
     "start_time": "2022-09-15T10:25:42.733593Z"
    }
   },
   "source": [
    "Deep"
   ]
  },
  {
   "cell_type": "code",
   "execution_count": null,
   "id": "53245af8",
   "metadata": {},
   "outputs": [],
   "source": []
  }
 ],
 "metadata": {
  "kernelspec": {
   "display_name": "Python 3 (ipykernel)",
   "language": "python",
   "name": "python3"
  },
  "language_info": {
   "codemirror_mode": {
    "name": "ipython",
    "version": 3
   },
   "file_extension": ".py",
   "mimetype": "text/x-python",
   "name": "python",
   "nbconvert_exporter": "python",
   "pygments_lexer": "ipython3",
   "version": "3.8.8"
  },
  "toc": {
   "base_numbering": 1,
   "nav_menu": {},
   "number_sections": true,
   "sideBar": true,
   "skip_h1_title": false,
   "title_cell": "Table of Contents",
   "title_sidebar": "Contents",
   "toc_cell": false,
   "toc_position": {
    "height": "calc(100% - 180px)",
    "left": "10px",
    "top": "150px",
    "width": "272.2px"
   },
   "toc_section_display": true,
   "toc_window_display": false
  }
 },
 "nbformat": 4,
 "nbformat_minor": 5
}
