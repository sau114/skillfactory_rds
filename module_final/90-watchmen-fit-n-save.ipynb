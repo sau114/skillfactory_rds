{
 "cells": [
  {
   "cell_type": "code",
   "execution_count": 1,
   "id": "3afcaa82",
   "metadata": {
    "ExecuteTime": {
     "end_time": "2022-09-07T07:49:38.270595Z",
     "start_time": "2022-09-07T07:49:38.225596Z"
    }
   },
   "outputs": [],
   "source": [
    "!del /Q utils\\__pycache__"
   ]
  },
  {
   "cell_type": "code",
   "execution_count": 2,
   "id": "86b03be5",
   "metadata": {
    "ExecuteTime": {
     "end_time": "2022-09-07T07:49:39.043480Z",
     "start_time": "2022-09-07T07:49:38.273597Z"
    }
   },
   "outputs": [],
   "source": [
    "import pandas as pd\n",
    "from tqdm.notebook import tqdm"
   ]
  },
  {
   "cell_type": "code",
   "execution_count": 3,
   "id": "f34899c4",
   "metadata": {
    "ExecuteTime": {
     "end_time": "2022-09-07T07:49:40.908680Z",
     "start_time": "2022-09-07T07:49:39.047585Z"
    }
   },
   "outputs": [],
   "source": [
    "from utils.datasets import GhlKasperskyDataset, TepHarvardDataset, TepKasperskyDataset, SwatItrustDataset\n",
    "from utils.custom_plots import plot_stacked\n",
    "from utils.metrics import time_span_metrics\n",
    "from utils.preserves import save_object, load_object\n",
    "from utils.watchmen import LimitWatchman, LimitPcaWatchman, SpePcaWatchman, IsolatingWatchman, LinearPredictWatchman, Watchman"
   ]
  },
  {
   "cell_type": "code",
   "execution_count": 4,
   "id": "f4e9bb0f",
   "metadata": {
    "ExecuteTime": {
     "end_time": "2022-09-07T07:49:40.924029Z",
     "start_time": "2022-09-07T07:49:40.908680Z"
    }
   },
   "outputs": [],
   "source": [
    "SEED = 1729"
   ]
  },
  {
   "cell_type": "markdown",
   "id": "ab2d87dc",
   "metadata": {
    "ExecuteTime": {
     "end_time": "2022-08-19T10:07:19.598656Z",
     "start_time": "2022-08-19T10:07:18.676895Z"
    }
   },
   "source": [
    "# Preparing datasets"
   ]
  },
  {
   "cell_type": "code",
   "execution_count": 5,
   "id": "cb921176",
   "metadata": {
    "ExecuteTime": {
     "end_time": "2022-09-07T07:49:40.939352Z",
     "start_time": "2022-09-07T07:49:40.927321Z"
    }
   },
   "outputs": [],
   "source": [
    "datasets = {\n",
    "    0: GhlKasperskyDataset(),\n",
    "    1: TepHarvardDataset(),\n",
    "    2: TepKasperskyDataset(),\n",
    "    3: SwatItrustDataset(),\n",
    "}"
   ]
  },
  {
   "cell_type": "code",
   "execution_count": 6,
   "id": "fd787944",
   "metadata": {
    "ExecuteTime": {
     "end_time": "2022-09-07T07:49:47.761972Z",
     "start_time": "2022-09-07T07:49:40.941338Z"
    }
   },
   "outputs": [],
   "source": [
    "shake_kwargs = {\n",
    "    'random_state': SEED,\n",
    "    'valid2test_ratio': 0.3,\n",
    "}\n",
    "for d in datasets:\n",
    "    datasets[d].shake_not_stir(**shake_kwargs)"
   ]
  },
  {
   "cell_type": "markdown",
   "id": "f007db40",
   "metadata": {},
   "source": [
    "# Preparing watchmen"
   ]
  },
  {
   "cell_type": "code",
   "execution_count": 7,
   "id": "b5c900e8",
   "metadata": {
    "ExecuteTime": {
     "end_time": "2022-09-07T07:49:47.777650Z",
     "start_time": "2022-09-07T07:49:47.765385Z"
    }
   },
   "outputs": [],
   "source": [
    "watchmen = {\n",
    "    0: {  # GhlKasperskyDataset\n",
    "        0: LimitWatchman(),\n",
    "        1: LimitPcaWatchman(n_components=3),\n",
    "        2: SpePcaWatchman(n_components=3),\n",
    "        3: IsolatingWatchman(random_state=SEED),\n",
    "        4: LinearPredictWatchman(random_state=SEED),\n",
    "        5: Watchman(),\n",
    "    },\n",
    "    1: {  # TepHarvardDataset\n",
    "        0: LimitWatchman(),  # better: ewma='3 min'\n",
    "        1: LimitPcaWatchman(n_components=3),  # better: n_components=12\n",
    "        2: SpePcaWatchman(n_components=3),  # better: n_components=12\n",
    "        3: IsolatingWatchman(random_state=SEED),\n",
    "        4: LinearPredictWatchman(random_state=SEED),\n",
    "        5: Watchman(),\n",
    "    },\n",
    "    2: {  # TepKasperskyDataset\n",
    "        0: LimitWatchman(),\n",
    "        1: LimitPcaWatchman(n_components=3),\n",
    "        2: SpePcaWatchman(n_components=3),\n",
    "        3: IsolatingWatchman(random_state=SEED),  # better: max_samples=1024\n",
    "        4: LinearPredictWatchman(random_state=SEED),\n",
    "        5: Watchman(),\n",
    "    },\n",
    "    3: {  # SwatItrustDataset\n",
    "        0: LimitWatchman(),\n",
    "        1: LimitPcaWatchman(n_components=3),\n",
    "        2: SpePcaWatchman(n_components=3),\n",
    "        3: IsolatingWatchman(random_state=SEED),\n",
    "        4: LinearPredictWatchman(random_state=SEED),\n",
    "        5: Watchman(),\n",
    "    },\n",
    "}"
   ]
  },
  {
   "cell_type": "markdown",
   "id": "be4104e1",
   "metadata": {},
   "source": [
    "# Learning"
   ]
  },
  {
   "cell_type": "markdown",
   "id": "8fa34354",
   "metadata": {},
   "source": [
    "## Prefit"
   ]
  },
  {
   "cell_type": "code",
   "execution_count": 8,
   "id": "53beb5b4",
   "metadata": {
    "ExecuteTime": {
     "end_time": "2022-09-07T07:51:20.761489Z",
     "start_time": "2022-09-07T07:49:47.780650Z"
    }
   },
   "outputs": [
    {
     "data": {
      "application/vnd.jupyter.widget-view+json": {
       "model_id": "711e4196d9044563a95f4f6297cf58e4",
       "version_major": 2,
       "version_minor": 0
      },
      "text/plain": [
       "Prefit on train 0:   0%|          | 0/1 [00:00<?, ?it/s]"
      ]
     },
     "metadata": {},
     "output_type": "display_data"
    },
    {
     "data": {
      "application/vnd.jupyter.widget-view+json": {
       "model_id": "ede6cfd488464d9486836fcafa724a77",
       "version_major": 2,
       "version_minor": 0
      },
      "text/plain": [
       "Prefit on train 1:   0%|          | 0/500 [00:00<?, ?it/s]"
      ]
     },
     "metadata": {},
     "output_type": "display_data"
    },
    {
     "data": {
      "application/vnd.jupyter.widget-view+json": {
       "model_id": "1c840a4002614cc7acd5e6269d21f5cf",
       "version_major": 2,
       "version_minor": 0
      },
      "text/plain": [
       "Prefit on train 2:   0%|          | 0/400 [00:00<?, ?it/s]"
      ]
     },
     "metadata": {},
     "output_type": "display_data"
    },
    {
     "data": {
      "application/vnd.jupyter.widget-view+json": {
       "model_id": "fff3d5b067944c49aac9f7136a7d1f96",
       "version_major": 2,
       "version_minor": 0
      },
      "text/plain": [
       "Prefit on train 3:   0%|          | 0/2 [00:00<?, ?it/s]"
      ]
     },
     "metadata": {},
     "output_type": "display_data"
    }
   ],
   "source": [
    "for d in datasets:\n",
    "    for data, _, _ in tqdm(datasets[d].train_generator(), desc=f'Prefit on train {d}'):\n",
    "        for w in watchmen[d]:\n",
    "            watchmen[d][w].prefit(data)"
   ]
  },
  {
   "cell_type": "markdown",
   "id": "77312393",
   "metadata": {},
   "source": [
    "## Fit"
   ]
  },
  {
   "cell_type": "code",
   "execution_count": 9,
   "id": "ea1f2f67",
   "metadata": {
    "ExecuteTime": {
     "end_time": "2022-09-07T07:58:13.295463Z",
     "start_time": "2022-09-07T07:51:20.766181Z"
    }
   },
   "outputs": [
    {
     "data": {
      "application/vnd.jupyter.widget-view+json": {
       "model_id": "109c3d67613d41618fc2b18175c88d63",
       "version_major": 2,
       "version_minor": 0
      },
      "text/plain": [
       "Fit on train 0:   0%|          | 0/1 [00:00<?, ?it/s]"
      ]
     },
     "metadata": {},
     "output_type": "display_data"
    },
    {
     "data": {
      "application/vnd.jupyter.widget-view+json": {
       "model_id": "8eb15bb224a64ab58e21deba867dea67",
       "version_major": 2,
       "version_minor": 0
      },
      "text/plain": [
       "Fit on train 1:   0%|          | 0/500 [00:00<?, ?it/s]"
      ]
     },
     "metadata": {},
     "output_type": "display_data"
    },
    {
     "data": {
      "application/vnd.jupyter.widget-view+json": {
       "model_id": "3bf318d7319349cba299d6274e4bb288",
       "version_major": 2,
       "version_minor": 0
      },
      "text/plain": [
       "Fit on train 2:   0%|          | 0/400 [00:00<?, ?it/s]"
      ]
     },
     "metadata": {},
     "output_type": "display_data"
    },
    {
     "data": {
      "application/vnd.jupyter.widget-view+json": {
       "model_id": "f3e92e01d8a04e50b0b5c43208c8d011",
       "version_major": 2,
       "version_minor": 0
      },
      "text/plain": [
       "Fit on train 3:   0%|          | 0/2 [00:00<?, ?it/s]"
      ]
     },
     "metadata": {},
     "output_type": "display_data"
    }
   ],
   "source": [
    "for d in datasets:\n",
    "    for data, _, _ in tqdm(datasets[d].train_generator(), desc=f'Fit on train {d}'):\n",
    "        for w in watchmen[d]:\n",
    "            watchmen[d][w].partial_fit(data)"
   ]
  },
  {
   "cell_type": "markdown",
   "id": "7bf9fdd6",
   "metadata": {},
   "source": [
    "## Save"
   ]
  },
  {
   "cell_type": "code",
   "execution_count": 10,
   "id": "834ada88",
   "metadata": {
    "ExecuteTime": {
     "end_time": "2022-09-07T07:58:13.372997Z",
     "start_time": "2022-09-07T07:58:13.297364Z"
    }
   },
   "outputs": [],
   "source": [
    "for d in datasets:\n",
    "    for w in watchmen[d]:\n",
    "        save_object(watchmen[d][w], f'{datasets[d].__class__.__name__}-watchman_{w}')"
   ]
  },
  {
   "cell_type": "markdown",
   "id": "78adf1e9",
   "metadata": {},
   "source": [
    "# Self-checking\n",
    "Check watchmen on train. Theoretically all metrics must be NaN."
   ]
  },
  {
   "cell_type": "markdown",
   "id": "ad884747",
   "metadata": {},
   "source": [
    "## Load"
   ]
  },
  {
   "cell_type": "code",
   "execution_count": 11,
   "id": "e7fca175",
   "metadata": {
    "ExecuteTime": {
     "end_time": "2022-09-07T07:58:13.556672Z",
     "start_time": "2022-09-07T07:58:13.375364Z"
    }
   },
   "outputs": [],
   "source": [
    "for d in datasets:\n",
    "    for w in watchmen[d]:\n",
    "        watchmen[d][w] = load_object(f'{datasets[d].__class__.__name__}-watchman_{w}')"
   ]
  },
  {
   "cell_type": "markdown",
   "id": "d3fc0f0b",
   "metadata": {},
   "source": [
    "## Throw stones"
   ]
  },
  {
   "cell_type": "code",
   "execution_count": 12,
   "id": "4f96a624",
   "metadata": {
    "ExecuteTime": {
     "end_time": "2022-09-07T07:58:13.575571Z",
     "start_time": "2022-09-07T07:58:13.558665Z"
    }
   },
   "outputs": [],
   "source": [
    "stones = dict()\n",
    "for d in datasets:\n",
    "    stones[d] = dict()\n",
    "    for w in watchmen[d]:\n",
    "        stones[d][w] = list()"
   ]
  },
  {
   "cell_type": "code",
   "execution_count": 13,
   "id": "b6dce708",
   "metadata": {
    "ExecuteTime": {
     "end_time": "2022-09-07T08:43:38.428719Z",
     "start_time": "2022-09-07T07:58:13.575571Z"
    }
   },
   "outputs": [
    {
     "data": {
      "application/vnd.jupyter.widget-view+json": {
       "model_id": "28fbc3a3c364423eaa9596b79666b4b5",
       "version_major": 2,
       "version_minor": 0
      },
      "text/plain": [
       "Detect on train 0:   0%|          | 0/1 [00:00<?, ?it/s]"
      ]
     },
     "metadata": {},
     "output_type": "display_data"
    },
    {
     "data": {
      "application/vnd.jupyter.widget-view+json": {
       "model_id": "89a5019403014b62bf9356ebc3f9d0af",
       "version_major": 2,
       "version_minor": 0
      },
      "text/plain": [
       "Detect on train 1:   0%|          | 0/500 [00:00<?, ?it/s]"
      ]
     },
     "metadata": {},
     "output_type": "display_data"
    },
    {
     "data": {
      "application/vnd.jupyter.widget-view+json": {
       "model_id": "b95eebce87544b33b8fcb37c479ee973",
       "version_major": 2,
       "version_minor": 0
      },
      "text/plain": [
       "Detect on train 2:   0%|          | 0/400 [00:00<?, ?it/s]"
      ]
     },
     "metadata": {},
     "output_type": "display_data"
    },
    {
     "data": {
      "application/vnd.jupyter.widget-view+json": {
       "model_id": "059751533dd44d7c8b8dafd84e51a110",
       "version_major": 2,
       "version_minor": 0
      },
      "text/plain": [
       "Detect on train 3:   0%|          | 0/2 [00:00<?, ?it/s]"
      ]
     },
     "metadata": {},
     "output_type": "display_data"
    }
   ],
   "source": [
    "for d in datasets:\n",
    "    for data, faults, info in tqdm(datasets[d].train_generator(), desc=f'Detect on train {d}'):\n",
    "        for w in watchmen[d]:\n",
    "            detect = watchmen[d][w].predict(data)\n",
    "            stones[d][w].append(pd.concat([faults, detect], axis=1))\n",
    "            stones[d][w][-1].index.name = info"
   ]
  },
  {
   "cell_type": "markdown",
   "id": "5fcea39a",
   "metadata": {},
   "source": [
    "## Checks"
   ]
  },
  {
   "cell_type": "code",
   "execution_count": 14,
   "id": "d98cecc6",
   "metadata": {
    "ExecuteTime": {
     "end_time": "2022-09-07T08:43:38.444741Z",
     "start_time": "2022-09-07T08:43:38.431646Z"
    }
   },
   "outputs": [],
   "source": [
    "metrics = ('precision', 'recall', 'f1_score')\n",
    "checks = {str(datasets[d]): pd.DataFrame(columns=metrics) for d in datasets}"
   ]
  },
  {
   "cell_type": "code",
   "execution_count": 15,
   "id": "f5db580c",
   "metadata": {
    "ExecuteTime": {
     "end_time": "2022-09-07T08:44:00.305749Z",
     "start_time": "2022-09-07T08:43:38.448646Z"
    }
   },
   "outputs": [
    {
     "data": {
      "application/vnd.jupyter.widget-view+json": {
       "model_id": "805d05b3f3144776821e72d62c6ff218",
       "version_major": 2,
       "version_minor": 0
      },
      "text/plain": [
       "Collect stones d0:   0%|          | 0/6 [00:00<?, ?it/s]"
      ]
     },
     "metadata": {},
     "output_type": "display_data"
    },
    {
     "data": {
      "application/vnd.jupyter.widget-view+json": {
       "model_id": "fba6d1497c324694ba12ab8a1ec7270e",
       "version_major": 2,
       "version_minor": 0
      },
      "text/plain": [
       "Collect stones d1:   0%|          | 0/6 [00:00<?, ?it/s]"
      ]
     },
     "metadata": {},
     "output_type": "display_data"
    },
    {
     "data": {
      "application/vnd.jupyter.widget-view+json": {
       "model_id": "3c325f3dd4ed4e3fa06ec0f9319f655e",
       "version_major": 2,
       "version_minor": 0
      },
      "text/plain": [
       "Collect stones d2:   0%|          | 0/6 [00:00<?, ?it/s]"
      ]
     },
     "metadata": {},
     "output_type": "display_data"
    },
    {
     "data": {
      "application/vnd.jupyter.widget-view+json": {
       "model_id": "e4471bf4319f4610a2e9b8d06a13d5c3",
       "version_major": 2,
       "version_minor": 0
      },
      "text/plain": [
       "Collect stones d3:   0%|          | 0/6 [00:00<?, ?it/s]"
      ]
     },
     "metadata": {},
     "output_type": "display_data"
    }
   ],
   "source": [
    "# alone\n",
    "for d in datasets:\n",
    "    for w in tqdm(watchmen[d], desc=f'Collect stones d{d}'):\n",
    "        exam_paper = pd.DataFrame(columns=metrics)\n",
    "        for i_st, st in enumerate(stones[d][w]):\n",
    "            exam_paper.loc[i_st, metrics] = time_span_metrics(st.iloc[:, 0], st.iloc[:, 1:])\n",
    "        checks[str(datasets[d])].loc[str(watchmen[d][w]), metrics] = exam_paper.mean().values"
   ]
  },
  {
   "cell_type": "code",
   "execution_count": 19,
   "id": "115fea76",
   "metadata": {
    "ExecuteTime": {
     "end_time": "2022-09-07T08:45:36.669861Z",
     "start_time": "2022-09-07T08:45:11.866199Z"
    }
   },
   "outputs": [
    {
     "data": {
      "application/vnd.jupyter.widget-view+json": {
       "model_id": "ca3be13e1f5d4c22a54acbe06ab57aa9",
       "version_major": 2,
       "version_minor": 0
      },
      "text/plain": [
       "Ensembling stones d0:   0%|          | 0/1 [00:00<?, ?it/s]"
      ]
     },
     "metadata": {},
     "output_type": "display_data"
    },
    {
     "data": {
      "application/vnd.jupyter.widget-view+json": {
       "model_id": "213092b535c740629c00d7b2d6a28efb",
       "version_major": 2,
       "version_minor": 0
      },
      "text/plain": [
       "Ensembling stones d1:   0%|          | 0/500 [00:00<?, ?it/s]"
      ]
     },
     "metadata": {},
     "output_type": "display_data"
    },
    {
     "data": {
      "application/vnd.jupyter.widget-view+json": {
       "model_id": "2c6372738f684befb15524dc981d8112",
       "version_major": 2,
       "version_minor": 0
      },
      "text/plain": [
       "Ensembling stones d2:   0%|          | 0/400 [00:00<?, ?it/s]"
      ]
     },
     "metadata": {},
     "output_type": "display_data"
    },
    {
     "data": {
      "application/vnd.jupyter.widget-view+json": {
       "model_id": "245e91dd6af24f96a630e3971402ed0c",
       "version_major": 2,
       "version_minor": 0
      },
      "text/plain": [
       "Ensembling stones d3:   0%|          | 0/2 [00:00<?, ?it/s]"
      ]
     },
     "metadata": {},
     "output_type": "display_data"
    }
   ],
   "source": [
    "# ensemble\n",
    "max_threshold = 5\n",
    "for d in datasets:\n",
    "    exam_papers = dict()\n",
    "    for threshold in range(1, max_threshold+1):\n",
    "        exam_papers[threshold] = pd.DataFrame(columns=metrics)\n",
    "    for i_st, st in enumerate(tqdm(stones[d][0], desc=f'Ensembling stones d{d}')):\n",
    "        opinions = pd.concat([stones[d][w][i_st].iloc[:, 1:].sum(axis=1) for w in watchmen[d]], axis=1)\n",
    "        for threshold in range(1, max_threshold+1):\n",
    "            detect = (opinions.sum(axis=1) >= threshold).astype('uint8')\n",
    "            exam_papers[threshold].loc[i_st, metrics] = time_span_metrics(st.iloc[:, 0], detect)\n",
    "    for threshold in range(1, max_threshold+1):\n",
    "        checks[str(datasets[d])].loc[f'ensemble(threshold={threshold})', metrics] = exam_papers[threshold].mean().values"
   ]
  },
  {
   "cell_type": "code",
   "execution_count": 17,
   "id": "39437548",
   "metadata": {
    "ExecuteTime": {
     "end_time": "2022-09-07T08:44:22.683934Z",
     "start_time": "2022-09-07T08:44:22.623906Z"
    }
   },
   "outputs": [
    {
     "name": "stdout",
     "output_type": "stream",
     "text": [
      "GhlKasperskyDataset(E:\\Datasets\\GHL)\n"
     ]
    },
    {
     "data": {
      "text/html": [
       "<div>\n",
       "<style scoped>\n",
       "    .dataframe tbody tr th:only-of-type {\n",
       "        vertical-align: middle;\n",
       "    }\n",
       "\n",
       "    .dataframe tbody tr th {\n",
       "        vertical-align: top;\n",
       "    }\n",
       "\n",
       "    .dataframe thead th {\n",
       "        text-align: right;\n",
       "    }\n",
       "</style>\n",
       "<table border=\"1\" class=\"dataframe\">\n",
       "  <thead>\n",
       "    <tr style=\"text-align: right;\">\n",
       "      <th></th>\n",
       "      <th>precision</th>\n",
       "      <th>recall</th>\n",
       "      <th>f1_score</th>\n",
       "    </tr>\n",
       "  </thead>\n",
       "  <tbody>\n",
       "    <tr>\n",
       "      <th>LimitWatchman(ewma=None)</th>\n",
       "      <td>NaN</td>\n",
       "      <td>NaN</td>\n",
       "      <td>NaN</td>\n",
       "    </tr>\n",
       "    <tr>\n",
       "      <th>LimitPcaWatchman(n_components=3)</th>\n",
       "      <td>NaN</td>\n",
       "      <td>NaN</td>\n",
       "      <td>NaN</td>\n",
       "    </tr>\n",
       "    <tr>\n",
       "      <th>SpePcaWatchman(n_components=3)</th>\n",
       "      <td>NaN</td>\n",
       "      <td>NaN</td>\n",
       "      <td>NaN</td>\n",
       "    </tr>\n",
       "    <tr>\n",
       "      <th>IsolatingWatchman(n_trees=1)</th>\n",
       "      <td>0.0</td>\n",
       "      <td>NaN</td>\n",
       "      <td>0.0</td>\n",
       "    </tr>\n",
       "    <tr>\n",
       "      <th>LinearPredictWatchman(n_features=12)</th>\n",
       "      <td>NaN</td>\n",
       "      <td>NaN</td>\n",
       "      <td>NaN</td>\n",
       "    </tr>\n",
       "    <tr>\n",
       "      <th>Watchman()</th>\n",
       "      <td>NaN</td>\n",
       "      <td>NaN</td>\n",
       "      <td>NaN</td>\n",
       "    </tr>\n",
       "    <tr>\n",
       "      <th>ensemble(threshold=1)</th>\n",
       "      <td>0.0</td>\n",
       "      <td>NaN</td>\n",
       "      <td>0.0</td>\n",
       "    </tr>\n",
       "    <tr>\n",
       "      <th>ensemble(threshold=2)</th>\n",
       "      <td>NaN</td>\n",
       "      <td>NaN</td>\n",
       "      <td>NaN</td>\n",
       "    </tr>\n",
       "    <tr>\n",
       "      <th>ensemble(threshold=3)</th>\n",
       "      <td>NaN</td>\n",
       "      <td>NaN</td>\n",
       "      <td>NaN</td>\n",
       "    </tr>\n",
       "    <tr>\n",
       "      <th>ensemble(threshold=4)</th>\n",
       "      <td>NaN</td>\n",
       "      <td>NaN</td>\n",
       "      <td>NaN</td>\n",
       "    </tr>\n",
       "    <tr>\n",
       "      <th>ensemble(threshold=5)</th>\n",
       "      <td>NaN</td>\n",
       "      <td>NaN</td>\n",
       "      <td>NaN</td>\n",
       "    </tr>\n",
       "  </tbody>\n",
       "</table>\n",
       "</div>"
      ],
      "text/plain": [
       "                                     precision recall f1_score\n",
       "LimitWatchman(ewma=None)                   NaN    NaN      NaN\n",
       "LimitPcaWatchman(n_components=3)           NaN    NaN      NaN\n",
       "SpePcaWatchman(n_components=3)             NaN    NaN      NaN\n",
       "IsolatingWatchman(n_trees=1)               0.0    NaN      0.0\n",
       "LinearPredictWatchman(n_features=12)       NaN    NaN      NaN\n",
       "Watchman()                                 NaN    NaN      NaN\n",
       "ensemble(threshold=1)                      0.0    NaN      0.0\n",
       "ensemble(threshold=2)                      NaN    NaN      NaN\n",
       "ensemble(threshold=3)                      NaN    NaN      NaN\n",
       "ensemble(threshold=4)                      NaN    NaN      NaN\n",
       "ensemble(threshold=5)                      NaN    NaN      NaN"
      ]
     },
     "metadata": {},
     "output_type": "display_data"
    },
    {
     "name": "stdout",
     "output_type": "stream",
     "text": [
      "TepHarvardDataset(E:\\Datasets\\TEP\\dataverse)\n"
     ]
    },
    {
     "data": {
      "text/html": [
       "<div>\n",
       "<style scoped>\n",
       "    .dataframe tbody tr th:only-of-type {\n",
       "        vertical-align: middle;\n",
       "    }\n",
       "\n",
       "    .dataframe tbody tr th {\n",
       "        vertical-align: top;\n",
       "    }\n",
       "\n",
       "    .dataframe thead th {\n",
       "        text-align: right;\n",
       "    }\n",
       "</style>\n",
       "<table border=\"1\" class=\"dataframe\">\n",
       "  <thead>\n",
       "    <tr style=\"text-align: right;\">\n",
       "      <th></th>\n",
       "      <th>precision</th>\n",
       "      <th>recall</th>\n",
       "      <th>f1_score</th>\n",
       "    </tr>\n",
       "  </thead>\n",
       "  <tbody>\n",
       "    <tr>\n",
       "      <th>LimitWatchman(ewma=None)</th>\n",
       "      <td>NaN</td>\n",
       "      <td>NaN</td>\n",
       "      <td>NaN</td>\n",
       "    </tr>\n",
       "    <tr>\n",
       "      <th>LimitPcaWatchman(n_components=3)</th>\n",
       "      <td>NaN</td>\n",
       "      <td>NaN</td>\n",
       "      <td>NaN</td>\n",
       "    </tr>\n",
       "    <tr>\n",
       "      <th>SpePcaWatchman(n_components=3)</th>\n",
       "      <td>NaN</td>\n",
       "      <td>NaN</td>\n",
       "      <td>NaN</td>\n",
       "    </tr>\n",
       "    <tr>\n",
       "      <th>IsolatingWatchman(n_trees=500)</th>\n",
       "      <td>0.0</td>\n",
       "      <td>NaN</td>\n",
       "      <td>0.0</td>\n",
       "    </tr>\n",
       "    <tr>\n",
       "      <th>LinearPredictWatchman(n_features=52)</th>\n",
       "      <td>0.0</td>\n",
       "      <td>NaN</td>\n",
       "      <td>0.0</td>\n",
       "    </tr>\n",
       "    <tr>\n",
       "      <th>Watchman()</th>\n",
       "      <td>NaN</td>\n",
       "      <td>NaN</td>\n",
       "      <td>NaN</td>\n",
       "    </tr>\n",
       "    <tr>\n",
       "      <th>ensemble(threshold=1)</th>\n",
       "      <td>0.0</td>\n",
       "      <td>NaN</td>\n",
       "      <td>0.0</td>\n",
       "    </tr>\n",
       "    <tr>\n",
       "      <th>ensemble(threshold=2)</th>\n",
       "      <td>0.0</td>\n",
       "      <td>NaN</td>\n",
       "      <td>0.0</td>\n",
       "    </tr>\n",
       "    <tr>\n",
       "      <th>ensemble(threshold=3)</th>\n",
       "      <td>NaN</td>\n",
       "      <td>NaN</td>\n",
       "      <td>NaN</td>\n",
       "    </tr>\n",
       "    <tr>\n",
       "      <th>ensemble(threshold=4)</th>\n",
       "      <td>NaN</td>\n",
       "      <td>NaN</td>\n",
       "      <td>NaN</td>\n",
       "    </tr>\n",
       "    <tr>\n",
       "      <th>ensemble(threshold=5)</th>\n",
       "      <td>NaN</td>\n",
       "      <td>NaN</td>\n",
       "      <td>NaN</td>\n",
       "    </tr>\n",
       "  </tbody>\n",
       "</table>\n",
       "</div>"
      ],
      "text/plain": [
       "                                     precision recall f1_score\n",
       "LimitWatchman(ewma=None)                   NaN    NaN      NaN\n",
       "LimitPcaWatchman(n_components=3)           NaN    NaN      NaN\n",
       "SpePcaWatchman(n_components=3)             NaN    NaN      NaN\n",
       "IsolatingWatchman(n_trees=500)             0.0    NaN      0.0\n",
       "LinearPredictWatchman(n_features=52)       0.0    NaN      0.0\n",
       "Watchman()                                 NaN    NaN      NaN\n",
       "ensemble(threshold=1)                      0.0    NaN      0.0\n",
       "ensemble(threshold=2)                      0.0    NaN      0.0\n",
       "ensemble(threshold=3)                      NaN    NaN      NaN\n",
       "ensemble(threshold=4)                      NaN    NaN      NaN\n",
       "ensemble(threshold=5)                      NaN    NaN      NaN"
      ]
     },
     "metadata": {},
     "output_type": "display_data"
    },
    {
     "name": "stdout",
     "output_type": "stream",
     "text": [
      "TepKasperskyDataset(E:\\Datasets\\TEP\\kaspersky)\n"
     ]
    },
    {
     "data": {
      "text/html": [
       "<div>\n",
       "<style scoped>\n",
       "    .dataframe tbody tr th:only-of-type {\n",
       "        vertical-align: middle;\n",
       "    }\n",
       "\n",
       "    .dataframe tbody tr th {\n",
       "        vertical-align: top;\n",
       "    }\n",
       "\n",
       "    .dataframe thead th {\n",
       "        text-align: right;\n",
       "    }\n",
       "</style>\n",
       "<table border=\"1\" class=\"dataframe\">\n",
       "  <thead>\n",
       "    <tr style=\"text-align: right;\">\n",
       "      <th></th>\n",
       "      <th>precision</th>\n",
       "      <th>recall</th>\n",
       "      <th>f1_score</th>\n",
       "    </tr>\n",
       "  </thead>\n",
       "  <tbody>\n",
       "    <tr>\n",
       "      <th>LimitWatchman(ewma=None)</th>\n",
       "      <td>NaN</td>\n",
       "      <td>NaN</td>\n",
       "      <td>NaN</td>\n",
       "    </tr>\n",
       "    <tr>\n",
       "      <th>LimitPcaWatchman(n_components=3)</th>\n",
       "      <td>NaN</td>\n",
       "      <td>NaN</td>\n",
       "      <td>NaN</td>\n",
       "    </tr>\n",
       "    <tr>\n",
       "      <th>SpePcaWatchman(n_components=3)</th>\n",
       "      <td>NaN</td>\n",
       "      <td>NaN</td>\n",
       "      <td>NaN</td>\n",
       "    </tr>\n",
       "    <tr>\n",
       "      <th>IsolatingWatchman(n_trees=400)</th>\n",
       "      <td>0.0</td>\n",
       "      <td>NaN</td>\n",
       "      <td>0.0</td>\n",
       "    </tr>\n",
       "    <tr>\n",
       "      <th>LinearPredictWatchman(n_features=53)</th>\n",
       "      <td>0.0</td>\n",
       "      <td>NaN</td>\n",
       "      <td>0.0</td>\n",
       "    </tr>\n",
       "    <tr>\n",
       "      <th>Watchman()</th>\n",
       "      <td>NaN</td>\n",
       "      <td>NaN</td>\n",
       "      <td>NaN</td>\n",
       "    </tr>\n",
       "    <tr>\n",
       "      <th>ensemble(threshold=1)</th>\n",
       "      <td>0.0</td>\n",
       "      <td>NaN</td>\n",
       "      <td>0.0</td>\n",
       "    </tr>\n",
       "    <tr>\n",
       "      <th>ensemble(threshold=2)</th>\n",
       "      <td>0.0</td>\n",
       "      <td>NaN</td>\n",
       "      <td>0.0</td>\n",
       "    </tr>\n",
       "    <tr>\n",
       "      <th>ensemble(threshold=3)</th>\n",
       "      <td>0.0</td>\n",
       "      <td>NaN</td>\n",
       "      <td>0.0</td>\n",
       "    </tr>\n",
       "    <tr>\n",
       "      <th>ensemble(threshold=4)</th>\n",
       "      <td>0.0</td>\n",
       "      <td>NaN</td>\n",
       "      <td>0.0</td>\n",
       "    </tr>\n",
       "    <tr>\n",
       "      <th>ensemble(threshold=5)</th>\n",
       "      <td>NaN</td>\n",
       "      <td>NaN</td>\n",
       "      <td>NaN</td>\n",
       "    </tr>\n",
       "  </tbody>\n",
       "</table>\n",
       "</div>"
      ],
      "text/plain": [
       "                                     precision recall f1_score\n",
       "LimitWatchman(ewma=None)                   NaN    NaN      NaN\n",
       "LimitPcaWatchman(n_components=3)           NaN    NaN      NaN\n",
       "SpePcaWatchman(n_components=3)             NaN    NaN      NaN\n",
       "IsolatingWatchman(n_trees=400)             0.0    NaN      0.0\n",
       "LinearPredictWatchman(n_features=53)       0.0    NaN      0.0\n",
       "Watchman()                                 NaN    NaN      NaN\n",
       "ensemble(threshold=1)                      0.0    NaN      0.0\n",
       "ensemble(threshold=2)                      0.0    NaN      0.0\n",
       "ensemble(threshold=3)                      0.0    NaN      0.0\n",
       "ensemble(threshold=4)                      0.0    NaN      0.0\n",
       "ensemble(threshold=5)                      NaN    NaN      NaN"
      ]
     },
     "metadata": {},
     "output_type": "display_data"
    },
    {
     "name": "stdout",
     "output_type": "stream",
     "text": [
      "SwatItrustDataset(E:\\Datasets\\SWaT\\datasetA1)\n"
     ]
    },
    {
     "data": {
      "text/html": [
       "<div>\n",
       "<style scoped>\n",
       "    .dataframe tbody tr th:only-of-type {\n",
       "        vertical-align: middle;\n",
       "    }\n",
       "\n",
       "    .dataframe tbody tr th {\n",
       "        vertical-align: top;\n",
       "    }\n",
       "\n",
       "    .dataframe thead th {\n",
       "        text-align: right;\n",
       "    }\n",
       "</style>\n",
       "<table border=\"1\" class=\"dataframe\">\n",
       "  <thead>\n",
       "    <tr style=\"text-align: right;\">\n",
       "      <th></th>\n",
       "      <th>precision</th>\n",
       "      <th>recall</th>\n",
       "      <th>f1_score</th>\n",
       "    </tr>\n",
       "  </thead>\n",
       "  <tbody>\n",
       "    <tr>\n",
       "      <th>LimitWatchman(ewma=None)</th>\n",
       "      <td>NaN</td>\n",
       "      <td>NaN</td>\n",
       "      <td>NaN</td>\n",
       "    </tr>\n",
       "    <tr>\n",
       "      <th>LimitPcaWatchman(n_components=3)</th>\n",
       "      <td>NaN</td>\n",
       "      <td>NaN</td>\n",
       "      <td>NaN</td>\n",
       "    </tr>\n",
       "    <tr>\n",
       "      <th>SpePcaWatchman(n_components=3)</th>\n",
       "      <td>NaN</td>\n",
       "      <td>NaN</td>\n",
       "      <td>NaN</td>\n",
       "    </tr>\n",
       "    <tr>\n",
       "      <th>IsolatingWatchman(n_trees=2)</th>\n",
       "      <td>0.0</td>\n",
       "      <td>NaN</td>\n",
       "      <td>0.0</td>\n",
       "    </tr>\n",
       "    <tr>\n",
       "      <th>LinearPredictWatchman(n_features=51)</th>\n",
       "      <td>NaN</td>\n",
       "      <td>NaN</td>\n",
       "      <td>NaN</td>\n",
       "    </tr>\n",
       "    <tr>\n",
       "      <th>Watchman()</th>\n",
       "      <td>NaN</td>\n",
       "      <td>NaN</td>\n",
       "      <td>NaN</td>\n",
       "    </tr>\n",
       "    <tr>\n",
       "      <th>ensemble(threshold=1)</th>\n",
       "      <td>0.0</td>\n",
       "      <td>NaN</td>\n",
       "      <td>0.0</td>\n",
       "    </tr>\n",
       "    <tr>\n",
       "      <th>ensemble(threshold=2)</th>\n",
       "      <td>NaN</td>\n",
       "      <td>NaN</td>\n",
       "      <td>NaN</td>\n",
       "    </tr>\n",
       "    <tr>\n",
       "      <th>ensemble(threshold=3)</th>\n",
       "      <td>NaN</td>\n",
       "      <td>NaN</td>\n",
       "      <td>NaN</td>\n",
       "    </tr>\n",
       "    <tr>\n",
       "      <th>ensemble(threshold=4)</th>\n",
       "      <td>NaN</td>\n",
       "      <td>NaN</td>\n",
       "      <td>NaN</td>\n",
       "    </tr>\n",
       "    <tr>\n",
       "      <th>ensemble(threshold=5)</th>\n",
       "      <td>NaN</td>\n",
       "      <td>NaN</td>\n",
       "      <td>NaN</td>\n",
       "    </tr>\n",
       "  </tbody>\n",
       "</table>\n",
       "</div>"
      ],
      "text/plain": [
       "                                     precision recall f1_score\n",
       "LimitWatchman(ewma=None)                   NaN    NaN      NaN\n",
       "LimitPcaWatchman(n_components=3)           NaN    NaN      NaN\n",
       "SpePcaWatchman(n_components=3)             NaN    NaN      NaN\n",
       "IsolatingWatchman(n_trees=2)               0.0    NaN      0.0\n",
       "LinearPredictWatchman(n_features=51)       NaN    NaN      NaN\n",
       "Watchman()                                 NaN    NaN      NaN\n",
       "ensemble(threshold=1)                      0.0    NaN      0.0\n",
       "ensemble(threshold=2)                      NaN    NaN      NaN\n",
       "ensemble(threshold=3)                      NaN    NaN      NaN\n",
       "ensemble(threshold=4)                      NaN    NaN      NaN\n",
       "ensemble(threshold=5)                      NaN    NaN      NaN"
      ]
     },
     "metadata": {},
     "output_type": "display_data"
    }
   ],
   "source": [
    "for d in checks:\n",
    "    print(d)\n",
    "    display(checks[d])"
   ]
  },
  {
   "cell_type": "markdown",
   "id": "d3a7d66d",
   "metadata": {
    "ExecuteTime": {
     "end_time": "2022-09-01T10:44:09.441614Z",
     "start_time": "2022-09-01T10:44:09.440614Z"
    }
   },
   "source": [
    "IsolatingWatchman and LinearPredictWatchman detecting anomalies on train.\n",
    "\n",
    "Ensemble with threshold=4+ don't detect anomalies on train. Let's use threshold=4 for reducing false positive results."
   ]
  }
 ],
 "metadata": {
  "kernelspec": {
   "display_name": "Python 3 (ipykernel)",
   "language": "python",
   "name": "python3"
  },
  "language_info": {
   "codemirror_mode": {
    "name": "ipython",
    "version": 3
   },
   "file_extension": ".py",
   "mimetype": "text/x-python",
   "name": "python",
   "nbconvert_exporter": "python",
   "pygments_lexer": "ipython3",
   "version": "3.8.8"
  },
  "toc": {
   "base_numbering": 1,
   "nav_menu": {},
   "number_sections": true,
   "sideBar": true,
   "skip_h1_title": false,
   "title_cell": "Table of Contents",
   "title_sidebar": "Contents",
   "toc_cell": false,
   "toc_position": {
    "height": "calc(100% - 180px)",
    "left": "10px",
    "top": "150px",
    "width": "272.2px"
   },
   "toc_section_display": true,
   "toc_window_display": true
  }
 },
 "nbformat": 4,
 "nbformat_minor": 5
}
