{
 "cells": [
  {
   "cell_type": "code",
   "execution_count": 1,
   "id": "3afcaa82",
   "metadata": {
    "ExecuteTime": {
     "end_time": "2022-09-09T15:33:17.651275Z",
     "start_time": "2022-09-09T15:33:17.608074Z"
    }
   },
   "outputs": [],
   "source": [
    "!del /Q utils\\__pycache__"
   ]
  },
  {
   "cell_type": "code",
   "execution_count": 2,
   "id": "86b03be5",
   "metadata": {
    "ExecuteTime": {
     "end_time": "2022-09-09T15:33:18.434083Z",
     "start_time": "2022-09-09T15:33:17.653103Z"
    }
   },
   "outputs": [],
   "source": [
    "import pandas as pd\n",
    "from tqdm.notebook import tqdm"
   ]
  },
  {
   "cell_type": "code",
   "execution_count": 3,
   "id": "f34899c4",
   "metadata": {
    "ExecuteTime": {
     "end_time": "2022-09-09T15:33:20.447818Z",
     "start_time": "2022-09-09T15:33:18.434083Z"
    }
   },
   "outputs": [],
   "source": [
    "from utils.datasets import GhlKasperskyDataset, TepHarvardDataset, TepKasperskyDataset, SwatItrustDataset\n",
    "from utils.custom_plots import plot_stacked\n",
    "from utils.metrics import time_span_metrics\n",
    "from utils.preserves import save_object, load_object\n",
    "from utils.watchmen import Watchman\n",
    "from utils.watchmen import DirectLimitWatchman, PcaLimitWatchman\n",
    "from utils.watchmen import IsoForestWatchman, LinearPredictWatchman"
   ]
  },
  {
   "cell_type": "code",
   "execution_count": 4,
   "id": "f4e9bb0f",
   "metadata": {
    "ExecuteTime": {
     "end_time": "2022-09-09T15:33:20.463447Z",
     "start_time": "2022-09-09T15:33:20.454317Z"
    }
   },
   "outputs": [],
   "source": [
    "SEED = 1729"
   ]
  },
  {
   "cell_type": "markdown",
   "id": "ab2d87dc",
   "metadata": {
    "ExecuteTime": {
     "end_time": "2022-08-19T10:07:19.598656Z",
     "start_time": "2022-08-19T10:07:18.676895Z"
    }
   },
   "source": [
    "# Preparing datasets"
   ]
  },
  {
   "cell_type": "code",
   "execution_count": 5,
   "id": "cb921176",
   "metadata": {
    "ExecuteTime": {
     "end_time": "2022-09-09T15:33:20.479312Z",
     "start_time": "2022-09-09T15:33:20.466314Z"
    }
   },
   "outputs": [],
   "source": [
    "datasets = {\n",
    "    0: GhlKasperskyDataset(),\n",
    "    1: TepHarvardDataset(),\n",
    "    2: TepKasperskyDataset(),\n",
    "    3: SwatItrustDataset(),\n",
    "}"
   ]
  },
  {
   "cell_type": "code",
   "execution_count": 6,
   "id": "fd787944",
   "metadata": {
    "ExecuteTime": {
     "end_time": "2022-09-09T15:33:20.588421Z",
     "start_time": "2022-09-09T15:33:20.481313Z"
    }
   },
   "outputs": [],
   "source": [
    "shake_kwargs = {\n",
    "    'random_state': SEED,\n",
    "    'valid2test_ratio': 0.3,\n",
    "}\n",
    "for d in datasets:\n",
    "    datasets[d].shake_not_stir(**shake_kwargs)"
   ]
  },
  {
   "cell_type": "markdown",
   "id": "f007db40",
   "metadata": {},
   "source": [
    "# Preparing watchhouse"
   ]
  },
  {
   "cell_type": "code",
   "execution_count": 7,
   "id": "b5c900e8",
   "metadata": {
    "ExecuteTime": {
     "end_time": "2022-09-09T15:33:20.604506Z",
     "start_time": "2022-09-09T15:33:20.590443Z"
    }
   },
   "outputs": [],
   "source": [
    "watchhouse = {\n",
    "    0: {  # GhlKasperskyDataset\n",
    "        0: Watchman(),\n",
    "        1: DirectLimitWatchman(),\n",
    "        2: PcaLimitWatchman(),\n",
    "        3: IsoForestWatchman(random_state=SEED),\n",
    "        4: LinearPredictWatchman(random_state=SEED),\n",
    "    },\n",
    "    1: {  # TepHarvardDataset\n",
    "        0: Watchman(),\n",
    "        1: DirectLimitWatchman(),\n",
    "        2: PcaLimitWatchman(),\n",
    "        3: IsoForestWatchman(random_state=SEED),\n",
    "        4: LinearPredictWatchman(random_state=SEED),\n",
    "    },\n",
    "    2: {  # TepKasperskyDataset\n",
    "        0: Watchman(),\n",
    "        1: DirectLimitWatchman(),\n",
    "        2: PcaLimitWatchman(),\n",
    "        3: IsoForestWatchman(random_state=SEED),\n",
    "        4: LinearPredictWatchman(random_state=SEED),\n",
    "    },\n",
    "    3: {  # SwatItrustDataset\n",
    "        0: Watchman(),\n",
    "        1: DirectLimitWatchman(),\n",
    "        2: PcaLimitWatchman(),\n",
    "        3: IsoForestWatchman(random_state=SEED),\n",
    "        4: LinearPredictWatchman(random_state=SEED),\n",
    "    },\n",
    "}"
   ]
  },
  {
   "cell_type": "markdown",
   "id": "be4104e1",
   "metadata": {},
   "source": [
    "# Learning"
   ]
  },
  {
   "cell_type": "markdown",
   "id": "8fa34354",
   "metadata": {},
   "source": [
    "## Prefit"
   ]
  },
  {
   "cell_type": "code",
   "execution_count": 8,
   "id": "53beb5b4",
   "metadata": {
    "ExecuteTime": {
     "end_time": "2022-09-09T15:34:03.960312Z",
     "start_time": "2022-09-09T15:33:20.608431Z"
    }
   },
   "outputs": [
    {
     "data": {
      "application/vnd.jupyter.widget-view+json": {
       "model_id": "29f946261be74b9a8c1ba2fda6317e3a",
       "version_major": 2,
       "version_minor": 0
      },
      "text/plain": [
       "Prefit on train 0:   0%|          | 0/1 [00:00<?, ?it/s]"
      ]
     },
     "metadata": {},
     "output_type": "display_data"
    },
    {
     "data": {
      "application/vnd.jupyter.widget-view+json": {
       "model_id": "ad6543f1e9384650826f92c5d17130a7",
       "version_major": 2,
       "version_minor": 0
      },
      "text/plain": [
       "Prefit on train 1:   0%|          | 0/500 [00:00<?, ?it/s]"
      ]
     },
     "metadata": {},
     "output_type": "display_data"
    },
    {
     "data": {
      "application/vnd.jupyter.widget-view+json": {
       "model_id": "92ac619272194d1893f7eb21833ab186",
       "version_major": 2,
       "version_minor": 0
      },
      "text/plain": [
       "Prefit on train 2:   0%|          | 0/400 [00:00<?, ?it/s]"
      ]
     },
     "metadata": {},
     "output_type": "display_data"
    },
    {
     "data": {
      "application/vnd.jupyter.widget-view+json": {
       "model_id": "e5cf078e23774b489f4d6f4a486f5427",
       "version_major": 2,
       "version_minor": 0
      },
      "text/plain": [
       "Prefit on train 3:   0%|          | 0/1 [00:00<?, ?it/s]"
      ]
     },
     "metadata": {},
     "output_type": "display_data"
    }
   ],
   "source": [
    "for d in datasets:\n",
    "    for data, _, _ in tqdm(datasets[d].train_generator(), desc=f'Prefit on train {d}'):\n",
    "        for w in watchhouse[d]:\n",
    "            watchhouse[d][w].prefit(data)"
   ]
  },
  {
   "cell_type": "markdown",
   "id": "77312393",
   "metadata": {},
   "source": [
    "## Fit"
   ]
  },
  {
   "cell_type": "code",
   "execution_count": 9,
   "id": "ea1f2f67",
   "metadata": {
    "ExecuteTime": {
     "end_time": "2022-09-09T15:37:20.691183Z",
     "start_time": "2022-09-09T15:34:03.963310Z"
    }
   },
   "outputs": [
    {
     "data": {
      "application/vnd.jupyter.widget-view+json": {
       "model_id": "6d70068aa4354ba496195e131c3539b0",
       "version_major": 2,
       "version_minor": 0
      },
      "text/plain": [
       "Fit on train 0:   0%|          | 0/1 [00:00<?, ?it/s]"
      ]
     },
     "metadata": {},
     "output_type": "display_data"
    },
    {
     "data": {
      "application/vnd.jupyter.widget-view+json": {
       "model_id": "c4dd2f0cc83a4cf798686ad358ba7a35",
       "version_major": 2,
       "version_minor": 0
      },
      "text/plain": [
       "Fit on train 1:   0%|          | 0/500 [00:00<?, ?it/s]"
      ]
     },
     "metadata": {},
     "output_type": "display_data"
    },
    {
     "data": {
      "application/vnd.jupyter.widget-view+json": {
       "model_id": "1ad27de6d1e649a4b27edd5f575b1e7e",
       "version_major": 2,
       "version_minor": 0
      },
      "text/plain": [
       "Fit on train 2:   0%|          | 0/400 [00:00<?, ?it/s]"
      ]
     },
     "metadata": {},
     "output_type": "display_data"
    },
    {
     "data": {
      "application/vnd.jupyter.widget-view+json": {
       "model_id": "c8b501b3ab2f4fd7add8bb048867e0c1",
       "version_major": 2,
       "version_minor": 0
      },
      "text/plain": [
       "Fit on train 3:   0%|          | 0/1 [00:00<?, ?it/s]"
      ]
     },
     "metadata": {},
     "output_type": "display_data"
    }
   ],
   "source": [
    "for d in datasets:\n",
    "    for data, _, _ in tqdm(datasets[d].train_generator(), desc=f'Fit on train {d}'):\n",
    "        for w in watchhouse[d]:\n",
    "            watchhouse[d][w].partial_fit(data)"
   ]
  },
  {
   "cell_type": "code",
   "execution_count": 10,
   "id": "dd5d5652",
   "metadata": {
    "ExecuteTime": {
     "end_time": "2022-09-09T15:37:20.706797Z",
     "start_time": "2022-09-09T15:37:20.694267Z"
    }
   },
   "outputs": [
    {
     "name": "stdout",
     "output_type": "stream",
     "text": [
      "IsolationForest(n_estimators=55, n_jobs=-1, random_state=1729, warm_start=True)\n",
      "IsolationForest(n_estimators=500, n_jobs=-1, random_state=1729, warm_start=True)\n",
      "IsolationForest(n_estimators=400, n_jobs=-1, random_state=1729, warm_start=True)\n",
      "IsolationForest(n_estimators=18, n_jobs=-1, random_state=1729, warm_start=True)\n"
     ]
    }
   ],
   "source": [
    "# how much trees\n",
    "# for d in datasets:\n",
    "#     print(watchhouse[d][3].forest)"
   ]
  },
  {
   "cell_type": "markdown",
   "id": "7bf9fdd6",
   "metadata": {},
   "source": [
    "## Save"
   ]
  },
  {
   "cell_type": "code",
   "execution_count": 11,
   "id": "834ada88",
   "metadata": {
    "ExecuteTime": {
     "end_time": "2022-09-09T15:37:20.800755Z",
     "start_time": "2022-09-09T15:37:20.708797Z"
    }
   },
   "outputs": [],
   "source": [
    "for d in datasets:\n",
    "    for w in watchhouse[d]:\n",
    "        save_object(watchhouse[d][w], f'{datasets[d].__class__.__name__}-watchman_{w}')"
   ]
  },
  {
   "cell_type": "markdown",
   "id": "78adf1e9",
   "metadata": {},
   "source": [
    "# Self-checking\n",
    "Check watchhouse on train. Theoretically all metrics must be NaN."
   ]
  },
  {
   "cell_type": "markdown",
   "id": "ad884747",
   "metadata": {},
   "source": [
    "## Load"
   ]
  },
  {
   "cell_type": "code",
   "execution_count": 12,
   "id": "e7fca175",
   "metadata": {
    "ExecuteTime": {
     "end_time": "2022-09-09T15:37:20.973806Z",
     "start_time": "2022-09-09T15:37:20.803549Z"
    }
   },
   "outputs": [],
   "source": [
    "for d in datasets:\n",
    "    for w in watchhouse[d]:\n",
    "        watchhouse[d][w] = load_object(f'{datasets[d].__class__.__name__}-watchman_{w}')"
   ]
  },
  {
   "cell_type": "markdown",
   "id": "d3fc0f0b",
   "metadata": {},
   "source": [
    "## Throw stones"
   ]
  },
  {
   "cell_type": "code",
   "execution_count": 13,
   "id": "4f96a624",
   "metadata": {
    "ExecuteTime": {
     "end_time": "2022-09-09T15:37:20.989223Z",
     "start_time": "2022-09-09T15:37:20.975558Z"
    }
   },
   "outputs": [],
   "source": [
    "stones = dict()\n",
    "for d in datasets:\n",
    "    stones[d] = dict()\n",
    "    for w in watchhouse[d]:\n",
    "        stones[d][w] = list()"
   ]
  },
  {
   "cell_type": "code",
   "execution_count": null,
   "id": "b6dce708",
   "metadata": {
    "ExecuteTime": {
     "start_time": "2022-09-09T15:33:17.601Z"
    }
   },
   "outputs": [
    {
     "data": {
      "application/vnd.jupyter.widget-view+json": {
       "model_id": "5196d8a412e84542855c6957580a42ab",
       "version_major": 2,
       "version_minor": 0
      },
      "text/plain": [
       "Detect on train 0:   0%|          | 0/1 [00:00<?, ?it/s]"
      ]
     },
     "metadata": {},
     "output_type": "display_data"
    },
    {
     "data": {
      "application/vnd.jupyter.widget-view+json": {
       "model_id": "7904f1063d7f4cb597dabd07caed764a",
       "version_major": 2,
       "version_minor": 0
      },
      "text/plain": [
       "Detect on train 1:   0%|          | 0/500 [00:00<?, ?it/s]"
      ]
     },
     "metadata": {},
     "output_type": "display_data"
    },
    {
     "data": {
      "application/vnd.jupyter.widget-view+json": {
       "model_id": "e30ee6c86318489bbfaf0057d9fd0225",
       "version_major": 2,
       "version_minor": 0
      },
      "text/plain": [
       "Detect on train 2:   0%|          | 0/400 [00:00<?, ?it/s]"
      ]
     },
     "metadata": {},
     "output_type": "display_data"
    }
   ],
   "source": [
    "for d in datasets:\n",
    "    for data, faults, info in tqdm(datasets[d].train_generator(), desc=f'Detect on train {d}'):\n",
    "        for w in watchhouse[d]:\n",
    "            detect = watchhouse[d][w].predict(data)\n",
    "            stones[d][w].append(pd.concat([faults, detect], axis=1))\n",
    "            stones[d][w][-1].index.name = info"
   ]
  },
  {
   "cell_type": "markdown",
   "id": "5fcea39a",
   "metadata": {},
   "source": [
    "## Checks"
   ]
  },
  {
   "cell_type": "code",
   "execution_count": null,
   "id": "d98cecc6",
   "metadata": {
    "ExecuteTime": {
     "start_time": "2022-09-09T15:33:17.602Z"
    }
   },
   "outputs": [],
   "source": [
    "metrics = ('precision', 'recall', 'f1_score')\n",
    "checks = {str(datasets[d]): pd.DataFrame(columns=metrics) for d in datasets}"
   ]
  },
  {
   "cell_type": "code",
   "execution_count": null,
   "id": "f5db580c",
   "metadata": {
    "ExecuteTime": {
     "start_time": "2022-09-09T15:33:17.604Z"
    }
   },
   "outputs": [],
   "source": [
    "# alone\n",
    "for d in datasets:\n",
    "    for w in tqdm(watchhouse[d], desc=f'Collect stones d{d}'):\n",
    "        exam_paper = pd.DataFrame(columns=metrics)\n",
    "        for i_st, st in enumerate(stones[d][w]):\n",
    "            exam_paper.loc[i_st, metrics] = time_span_metrics(st.iloc[:, 0], st.iloc[:, 1:])\n",
    "        checks[str(datasets[d])].loc[str(watchhouse[d][w]), metrics] = exam_paper.mean().values"
   ]
  },
  {
   "cell_type": "code",
   "execution_count": null,
   "id": "115fea76",
   "metadata": {
    "ExecuteTime": {
     "start_time": "2022-09-09T15:33:17.606Z"
    }
   },
   "outputs": [],
   "source": [
    "# ensemble\n",
    "max_threshold = 5\n",
    "for d in datasets:\n",
    "    exam_papers = dict()\n",
    "    for threshold in range(1, max_threshold+1):\n",
    "        exam_papers[threshold] = pd.DataFrame(columns=metrics)\n",
    "    for i_st, st in enumerate(tqdm(stones[d][0], desc=f'Ensembling stones d{d}')):\n",
    "        opinions = pd.concat([stones[d][w][i_st].iloc[:, 1:].sum(axis=1) for w in watchhouse[d]], axis=1)\n",
    "        for threshold in range(1, max_threshold+1):\n",
    "            detect = (opinions.sum(axis=1) >= threshold).astype('uint8')\n",
    "            exam_papers[threshold].loc[i_st, metrics] = time_span_metrics(st.iloc[:, 0], detect)\n",
    "    for threshold in range(1, max_threshold+1):\n",
    "        checks[str(datasets[d])].loc[f'ensemble(threshold={threshold})', metrics] = exam_papers[threshold].mean().values"
   ]
  },
  {
   "cell_type": "code",
   "execution_count": null,
   "id": "39437548",
   "metadata": {
    "ExecuteTime": {
     "start_time": "2022-09-09T15:33:17.609Z"
    }
   },
   "outputs": [],
   "source": [
    "for d in checks:\n",
    "    print(d)\n",
    "    display(checks[d])"
   ]
  },
  {
   "cell_type": "markdown",
   "id": "d3a7d66d",
   "metadata": {
    "ExecuteTime": {
     "end_time": "2022-09-01T10:44:09.441614Z",
     "start_time": "2022-09-01T10:44:09.440614Z"
    }
   },
   "source": [
    "IsolatingWatchman and LinearPredictWatchman detecting anomalies on train.\n",
    "\n",
    "Ensemble with threshold=4+ don't detect anomalies on train. Let's use threshold=4 for reducing false positive results."
   ]
  }
 ],
 "metadata": {
  "kernelspec": {
   "display_name": "Python 3 (ipykernel)",
   "language": "python",
   "name": "python3"
  },
  "language_info": {
   "codemirror_mode": {
    "name": "ipython",
    "version": 3
   },
   "file_extension": ".py",
   "mimetype": "text/x-python",
   "name": "python",
   "nbconvert_exporter": "python",
   "pygments_lexer": "ipython3",
   "version": "3.8.8"
  },
  "toc": {
   "base_numbering": 1,
   "nav_menu": {},
   "number_sections": true,
   "sideBar": true,
   "skip_h1_title": false,
   "title_cell": "Table of Contents",
   "title_sidebar": "Contents",
   "toc_cell": false,
   "toc_position": {
    "height": "calc(100% - 180px)",
    "left": "10px",
    "top": "150px",
    "width": "272.2px"
   },
   "toc_section_display": true,
   "toc_window_display": true
  }
 },
 "nbformat": 4,
 "nbformat_minor": 5
}
