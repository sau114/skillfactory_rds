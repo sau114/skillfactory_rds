{
 "cells": [
  {
   "cell_type": "code",
   "execution_count": 1,
   "id": "6f3c87cb",
   "metadata": {
    "ExecuteTime": {
     "end_time": "2022-09-13T21:57:51.752230Z",
     "start_time": "2022-09-13T21:57:51.694514Z"
    }
   },
   "outputs": [],
   "source": [
    "!del /Q utils\\__pycache__"
   ]
  },
  {
   "cell_type": "code",
   "execution_count": 2,
   "id": "752d811d",
   "metadata": {
    "ExecuteTime": {
     "end_time": "2022-09-13T21:57:53.047379Z",
     "start_time": "2022-09-13T21:57:51.755031Z"
    }
   },
   "outputs": [],
   "source": [
    "import numpy as np\n",
    "import pandas as pd\n",
    "from tqdm.notebook import tqdm"
   ]
  },
  {
   "cell_type": "code",
   "execution_count": 3,
   "id": "04ddc3a0",
   "metadata": {
    "ExecuteTime": {
     "end_time": "2022-09-13T21:57:53.096840Z",
     "start_time": "2022-09-13T21:57:53.050409Z"
    }
   },
   "outputs": [],
   "source": [
    "from utils.datasets import GhlKasperskyDataset, TepHarvardDataset, TepKasperskyDataset, SwatItrustDataset\n",
    "from utils.custom_plots import plot_stacked\n",
    "from utils.metrics import time_span_metrics"
   ]
  },
  {
   "cell_type": "code",
   "execution_count": 4,
   "id": "550fbb3c",
   "metadata": {
    "ExecuteTime": {
     "end_time": "2022-09-13T21:57:54.182208Z",
     "start_time": "2022-09-13T21:57:53.099539Z"
    }
   },
   "outputs": [],
   "source": [
    "from sklearn.metrics import mean_squared_error"
   ]
  },
  {
   "cell_type": "markdown",
   "id": "e237a2ff",
   "metadata": {},
   "source": [
    "# Data"
   ]
  },
  {
   "cell_type": "code",
   "execution_count": 5,
   "id": "20f8f04b",
   "metadata": {
    "ExecuteTime": {
     "end_time": "2022-09-13T21:57:54.329128Z",
     "start_time": "2022-09-13T21:57:54.185376Z"
    }
   },
   "outputs": [],
   "source": [
    "ds = TepHarvardDataset()\n",
    "ds.shake_not_stir()"
   ]
  },
  {
   "cell_type": "code",
   "execution_count": 6,
   "id": "296813cc",
   "metadata": {
    "ExecuteTime": {
     "end_time": "2022-09-13T21:57:54.427208Z",
     "start_time": "2022-09-13T21:57:54.332266Z"
    }
   },
   "outputs": [],
   "source": [
    "train, _ , _ = next(ds.train_generator())"
   ]
  },
  {
   "cell_type": "code",
   "execution_count": 7,
   "id": "61bf47ac",
   "metadata": {
    "ExecuteTime": {
     "end_time": "2022-09-13T21:57:54.444100Z",
     "start_time": "2022-09-13T21:57:54.430170Z"
    }
   },
   "outputs": [],
   "source": [
    "from sklearn.preprocessing import StandardScaler"
   ]
  },
  {
   "cell_type": "code",
   "execution_count": 8,
   "id": "44898356",
   "metadata": {
    "ExecuteTime": {
     "end_time": "2022-09-13T21:58:06.254819Z",
     "start_time": "2022-09-13T21:57:54.446220Z"
    }
   },
   "outputs": [],
   "source": [
    "scaler = StandardScaler()\n",
    "for data, _, _ in ds.train_generator():\n",
    "    scaler.partial_fit(data)"
   ]
  },
  {
   "cell_type": "code",
   "execution_count": 9,
   "id": "1a1b3871",
   "metadata": {
    "ExecuteTime": {
     "end_time": "2022-09-13T21:58:06.275124Z",
     "start_time": "2022-09-13T21:58:06.259830Z"
    }
   },
   "outputs": [],
   "source": [
    "SEED = 7145"
   ]
  },
  {
   "cell_type": "markdown",
   "id": "38c265bc",
   "metadata": {},
   "source": [
    "# LSTM"
   ]
  },
  {
   "cell_type": "code",
   "execution_count": 10,
   "id": "98ec593c",
   "metadata": {
    "ExecuteTime": {
     "end_time": "2022-09-13T21:58:20.441915Z",
     "start_time": "2022-09-13T21:58:06.278124Z"
    }
   },
   "outputs": [],
   "source": [
    "from tensorflow.keras.models import Sequential\n",
    "from tensorflow.keras.layers import Dense, LSTM, GRU, Conv1D, ConvLSTM1D\n",
    "from tensorflow.keras.backend import clear_session\n",
    "from tensorflow.keras.callbacks import EarlyStopping, ModelCheckpoint\n",
    "from tensorflow.keras.utils import set_random_seed"
   ]
  },
  {
   "cell_type": "code",
   "execution_count": 11,
   "id": "229f0bb5",
   "metadata": {
    "ExecuteTime": {
     "end_time": "2022-09-13T21:58:20.457958Z",
     "start_time": "2022-09-13T21:58:20.444676Z"
    }
   },
   "outputs": [],
   "source": [
    "# split a multivariate sequence into samples\n",
    "def split_sequences(sequences, n_steps):\n",
    "    X, y = list(), list()\n",
    "    for i in range(len(sequences)):\n",
    "        # find the end of this pattern\n",
    "        end_ix = i + n_steps\n",
    "        # check if we are beyond the dataset\n",
    "        if end_ix > len(sequences)-1:\n",
    "            break\n",
    "        # gather input and output parts of the pattern\n",
    "        seq_x, seq_y = sequences[i:end_ix, :], sequences[end_ix, :]\n",
    "        X.append(seq_x)\n",
    "        y.append(seq_y)\n",
    "    return np.array(X), np.array(y)"
   ]
  },
  {
   "cell_type": "code",
   "execution_count": 12,
   "id": "68fc9998",
   "metadata": {
    "ExecuteTime": {
     "end_time": "2022-09-13T21:58:20.473957Z",
     "start_time": "2022-09-13T21:58:20.463117Z"
    }
   },
   "outputs": [],
   "source": [
    "n_features = train.shape[1]\n",
    "valid_size = 0.2\n",
    "res_lstm = pd.DataFrame(dtype='float')"
   ]
  },
  {
   "cell_type": "code",
   "execution_count": 13,
   "id": "9637e2ab",
   "metadata": {
    "ExecuteTime": {
     "end_time": "2022-09-13T21:58:20.504722Z",
     "start_time": "2022-09-13T21:58:20.479095Z"
    }
   },
   "outputs": [],
   "source": [
    "checkpoint = ModelCheckpoint('best_tep1_lstm.hdf5',\n",
    "                             monitor='val_mse', \n",
    "                             verbose=0, \n",
    "                             mode='min',\n",
    "                             save_best_only = True,\n",
    "                            )\n",
    "\n",
    "earlystop = EarlyStopping(monitor='val_mse',\n",
    "                          patience=2,\n",
    "                          min_delta = 0.001,\n",
    "                          restore_best_weights=True,\n",
    "                          verbose=0,\n",
    "                         )\n",
    "\n",
    "callbacks_list = [checkpoint, earlystop]"
   ]
  },
  {
   "cell_type": "code",
   "execution_count": 14,
   "id": "d735a81c",
   "metadata": {
    "ExecuteTime": {
     "end_time": "2022-09-14T03:38:12.122347Z",
     "start_time": "2022-09-13T21:58:20.508808Z"
    },
    "scrolled": true
   },
   "outputs": [
    {
     "data": {
      "application/vnd.jupyter.widget-view+json": {
       "model_id": "2624c2132e114498a0a023cd81a57de3",
       "version_major": 2,
       "version_minor": 0
      },
      "text/plain": [
       "  0%|          | 0/5 [00:00<?, ?it/s]"
      ]
     },
     "metadata": {},
     "output_type": "display_data"
    },
    {
     "data": {
      "application/vnd.jupyter.widget-view+json": {
       "model_id": "14cae1a627184271999d1f07f59f0189",
       "version_major": 2,
       "version_minor": 0
      },
      "text/plain": [
       "  0%|          | 0/4 [00:00<?, ?it/s]"
      ]
     },
     "metadata": {},
     "output_type": "display_data"
    },
    {
     "data": {
      "application/vnd.jupyter.widget-view+json": {
       "model_id": "416a424c84f040f882435865d6680ab9",
       "version_major": 2,
       "version_minor": 0
      },
      "text/plain": [
       "  0%|          | 0/4 [00:00<?, ?it/s]"
      ]
     },
     "metadata": {},
     "output_type": "display_data"
    },
    {
     "data": {
      "application/vnd.jupyter.widget-view+json": {
       "model_id": "2b767e8ec47b4dde80dbc06e48ea7ef1",
       "version_major": 2,
       "version_minor": 0
      },
      "text/plain": [
       "  0%|          | 0/4 [00:00<?, ?it/s]"
      ]
     },
     "metadata": {},
     "output_type": "display_data"
    },
    {
     "data": {
      "application/vnd.jupyter.widget-view+json": {
       "model_id": "6c3645054595454bb0bc2515e1419741",
       "version_major": 2,
       "version_minor": 0
      },
      "text/plain": [
       "  0%|          | 0/4 [00:00<?, ?it/s]"
      ]
     },
     "metadata": {},
     "output_type": "display_data"
    },
    {
     "data": {
      "application/vnd.jupyter.widget-view+json": {
       "model_id": "820517b0fb3f4500a5f268223b43f580",
       "version_major": 2,
       "version_minor": 0
      },
      "text/plain": [
       "  0%|          | 0/4 [00:00<?, ?it/s]"
      ]
     },
     "metadata": {},
     "output_type": "display_data"
    }
   ],
   "source": [
    "for n_steps in tqdm([2, 4, 8, 16, 32]):\n",
    "    for rnn_dim in tqdm([32, 64, 128, 256]):\n",
    "        res_lstm.loc[n_steps, rnn_dim] = 0.0\n",
    "        clear_session()\n",
    "        set_random_seed(SEED)\n",
    "        model = Sequential()\n",
    "        model.add(LSTM(rnn_dim, activation='relu', return_sequences=True, input_shape=(n_steps, n_features)))\n",
    "        model.add(LSTM(rnn_dim, activation='relu'))\n",
    "        model.add(Dense(n_features))\n",
    "        model.compile(optimizer='adam', loss='mse', metrics=['mse', 'mae'])\n",
    "        for train, _, _ in ds.train_generator():\n",
    "            X, y = split_sequences(scaler.transform(train), n_steps)\n",
    "\n",
    "            train_n = round(X.shape[0] * (1 - valid_size))\n",
    "            X_train = X[:train_n]\n",
    "            y_train= y[:train_n]\n",
    "            X_valid = X[train_n:]\n",
    "            y_valid = y[train_n:]\n",
    "\n",
    "            model.fit(X_train, y_train,\n",
    "                      epochs=100,\n",
    "                      validation_data=(X_valid, y_valid),\n",
    "                      callbacks=callbacks_list,\n",
    "                      verbose=0,\n",
    "                     )\n",
    "\n",
    "            y_ = model.predict(X_valid)\n",
    "            res_lstm.loc[n_steps, rnn_dim] += mean_squared_error(y_valid, y_)\n",
    "res_lstm /= len(ds.train_generator())"
   ]
  },
  {
   "cell_type": "code",
   "execution_count": 15,
   "id": "3a0b15d8",
   "metadata": {
    "ExecuteTime": {
     "end_time": "2022-09-14T03:38:12.151764Z",
     "start_time": "2022-09-14T03:38:12.124652Z"
    }
   },
   "outputs": [
    {
     "data": {
      "text/html": [
       "<div>\n",
       "<style scoped>\n",
       "    .dataframe tbody tr th:only-of-type {\n",
       "        vertical-align: middle;\n",
       "    }\n",
       "\n",
       "    .dataframe tbody tr th {\n",
       "        vertical-align: top;\n",
       "    }\n",
       "\n",
       "    .dataframe thead th {\n",
       "        text-align: right;\n",
       "    }\n",
       "</style>\n",
       "<table border=\"1\" class=\"dataframe\">\n",
       "  <thead>\n",
       "    <tr style=\"text-align: right;\">\n",
       "      <th></th>\n",
       "      <th>32</th>\n",
       "      <th>64</th>\n",
       "      <th>128</th>\n",
       "      <th>256</th>\n",
       "    </tr>\n",
       "  </thead>\n",
       "  <tbody>\n",
       "    <tr>\n",
       "      <th>2</th>\n",
       "      <td>0.506590</td>\n",
       "      <td>0.492223</td>\n",
       "      <td>0.488855</td>\n",
       "      <td>0.484421</td>\n",
       "    </tr>\n",
       "    <tr>\n",
       "      <th>4</th>\n",
       "      <td>0.498227</td>\n",
       "      <td>0.480511</td>\n",
       "      <td>0.468784</td>\n",
       "      <td>0.467806</td>\n",
       "    </tr>\n",
       "    <tr>\n",
       "      <th>8</th>\n",
       "      <td>0.502821</td>\n",
       "      <td>0.472968</td>\n",
       "      <td>0.464410</td>\n",
       "      <td>0.465121</td>\n",
       "    </tr>\n",
       "    <tr>\n",
       "      <th>16</th>\n",
       "      <td>0.508891</td>\n",
       "      <td>0.475423</td>\n",
       "      <td>0.465474</td>\n",
       "      <td>0.461862</td>\n",
       "    </tr>\n",
       "    <tr>\n",
       "      <th>32</th>\n",
       "      <td>0.502266</td>\n",
       "      <td>0.467115</td>\n",
       "      <td>0.459850</td>\n",
       "      <td>0.463456</td>\n",
       "    </tr>\n",
       "  </tbody>\n",
       "</table>\n",
       "</div>"
      ],
      "text/plain": [
       "         32        64        128       256\n",
       "2   0.506590  0.492223  0.488855  0.484421\n",
       "4   0.498227  0.480511  0.468784  0.467806\n",
       "8   0.502821  0.472968  0.464410  0.465121\n",
       "16  0.508891  0.475423  0.465474  0.461862\n",
       "32  0.502266  0.467115  0.459850  0.463456"
      ]
     },
     "execution_count": 15,
     "metadata": {},
     "output_type": "execute_result"
    }
   ],
   "source": [
    "res_lstm"
   ]
  },
  {
   "cell_type": "code",
   "execution_count": 16,
   "id": "08d8bd98",
   "metadata": {
    "ExecuteTime": {
     "end_time": "2022-09-14T03:38:12.259984Z",
     "start_time": "2022-09-14T03:38:12.153888Z"
    }
   },
   "outputs": [
    {
     "data": {
      "text/plain": [
       "32     0.503759\n",
       "64     0.477648\n",
       "128    0.469475\n",
       "256    0.468533\n",
       "dtype: float64"
      ]
     },
     "execution_count": 16,
     "metadata": {},
     "output_type": "execute_result"
    }
   ],
   "source": [
    "res_lstm.mean(axis=0)"
   ]
  },
  {
   "cell_type": "code",
   "execution_count": 17,
   "id": "3c431cd7",
   "metadata": {
    "ExecuteTime": {
     "end_time": "2022-09-14T03:38:12.288250Z",
     "start_time": "2022-09-14T03:38:12.260287Z"
    }
   },
   "outputs": [
    {
     "data": {
      "text/plain": [
       "2     0.493022\n",
       "4     0.478832\n",
       "8     0.476330\n",
       "16    0.477913\n",
       "32    0.473172\n",
       "dtype: float64"
      ]
     },
     "execution_count": 17,
     "metadata": {},
     "output_type": "execute_result"
    }
   ],
   "source": [
    "res_lstm.mean(axis=1)"
   ]
  },
  {
   "cell_type": "markdown",
   "id": "1c1ed04b",
   "metadata": {},
   "source": [
    "# GRU"
   ]
  },
  {
   "cell_type": "code",
   "execution_count": 18,
   "id": "60ec5906",
   "metadata": {
    "ExecuteTime": {
     "end_time": "2022-09-14T03:38:12.312360Z",
     "start_time": "2022-09-14T03:38:12.288250Z"
    }
   },
   "outputs": [],
   "source": [
    "res_gru = pd.DataFrame(dtype='float')"
   ]
  },
  {
   "cell_type": "code",
   "execution_count": 19,
   "id": "54760b20",
   "metadata": {
    "ExecuteTime": {
     "end_time": "2022-09-14T03:38:12.338007Z",
     "start_time": "2022-09-14T03:38:12.315631Z"
    }
   },
   "outputs": [],
   "source": [
    "checkpoint = ModelCheckpoint('best_tep1_gru.hdf5',\n",
    "                             monitor='val_mse', \n",
    "                             verbose=0, \n",
    "                             mode='min',\n",
    "                             save_best_only = True,\n",
    "                            )\n",
    "\n",
    "earlystop = EarlyStopping(monitor='val_mse',\n",
    "                          patience=2,\n",
    "                          min_delta = 0.001,\n",
    "                          restore_best_weights=True,\n",
    "                          verbose=0,\n",
    "                         )\n",
    "\n",
    "callbacks_list = [checkpoint, earlystop]"
   ]
  },
  {
   "cell_type": "code",
   "execution_count": 20,
   "id": "f11529c8",
   "metadata": {
    "ExecuteTime": {
     "end_time": "2022-09-14T05:20:17.854633Z",
     "start_time": "2022-09-14T03:38:12.341418Z"
    }
   },
   "outputs": [
    {
     "data": {
      "application/vnd.jupyter.widget-view+json": {
       "model_id": "41980d7a6f2d4ac48cf0f3d1e5117faf",
       "version_major": 2,
       "version_minor": 0
      },
      "text/plain": [
       "  0%|          | 0/5 [00:00<?, ?it/s]"
      ]
     },
     "metadata": {},
     "output_type": "display_data"
    },
    {
     "data": {
      "application/vnd.jupyter.widget-view+json": {
       "model_id": "e5814eb68760442a8ec9c9b11e62e32a",
       "version_major": 2,
       "version_minor": 0
      },
      "text/plain": [
       "  0%|          | 0/4 [00:00<?, ?it/s]"
      ]
     },
     "metadata": {},
     "output_type": "display_data"
    },
    {
     "data": {
      "application/vnd.jupyter.widget-view+json": {
       "model_id": "0b4b8defe3bb4a0c85358f091fcdcc07",
       "version_major": 2,
       "version_minor": 0
      },
      "text/plain": [
       "  0%|          | 0/4 [00:00<?, ?it/s]"
      ]
     },
     "metadata": {},
     "output_type": "display_data"
    },
    {
     "data": {
      "application/vnd.jupyter.widget-view+json": {
       "model_id": "436f994839144f71986e40ec812310ce",
       "version_major": 2,
       "version_minor": 0
      },
      "text/plain": [
       "  0%|          | 0/4 [00:00<?, ?it/s]"
      ]
     },
     "metadata": {},
     "output_type": "display_data"
    },
    {
     "data": {
      "application/vnd.jupyter.widget-view+json": {
       "model_id": "3cbad166729d4ca785d1f966a1fad59b",
       "version_major": 2,
       "version_minor": 0
      },
      "text/plain": [
       "  0%|          | 0/4 [00:00<?, ?it/s]"
      ]
     },
     "metadata": {},
     "output_type": "display_data"
    },
    {
     "data": {
      "application/vnd.jupyter.widget-view+json": {
       "model_id": "402e2eaa469449a8bce6cffb7fac15a4",
       "version_major": 2,
       "version_minor": 0
      },
      "text/plain": [
       "  0%|          | 0/4 [00:00<?, ?it/s]"
      ]
     },
     "metadata": {},
     "output_type": "display_data"
    }
   ],
   "source": [
    "for n_steps in tqdm([2, 4, 8, 16, 32]):\n",
    "    for rnn_dim in tqdm([32, 64, 128, 256]):\n",
    "        res_gru.loc[n_steps, rnn_dim] = 0.0\n",
    "        clear_session()\n",
    "        set_random_seed(SEED)\n",
    "        model = Sequential()\n",
    "        model.add(GRU(rnn_dim, activation='relu', return_sequences=True, input_shape=(n_steps, n_features)))\n",
    "        model.add(GRU(rnn_dim, activation='relu'))\n",
    "        model.add(Dense(n_features))\n",
    "        model.compile(optimizer='adam', loss='mse', metrics=['mse', 'mae'])\n",
    "        for train, _, _ in ds.train_generator():\n",
    "            X, y = split_sequences(scaler.transform(train), n_steps)\n",
    "\n",
    "            train_n = round(X.shape[0] * (1 - valid_size))\n",
    "            X_train = X[:train_n]\n",
    "            y_train= y[:train_n]\n",
    "            X_valid = X[train_n:]\n",
    "            y_valid = y[train_n:]\n",
    "\n",
    "            model.fit(X_train, y_train,\n",
    "                      epochs=1,\n",
    "                      validation_data=(X_valid, y_valid),\n",
    "                      callbacks=callbacks_list,\n",
    "                      verbose=100,\n",
    "                     )\n",
    "\n",
    "            y_ = model.predict(X_valid)\n",
    "            res_gru.loc[n_steps, rnn_dim] += mean_squared_error(y_valid, y_)\n",
    "res_gru /= len(ds.train_generator())"
   ]
  },
  {
   "cell_type": "code",
   "execution_count": 25,
   "id": "4e1ab28c",
   "metadata": {
    "ExecuteTime": {
     "end_time": "2022-09-14T06:11:32.386095Z",
     "start_time": "2022-09-14T06:11:32.375088Z"
    }
   },
   "outputs": [
    {
     "data": {
      "text/html": [
       "<div>\n",
       "<style scoped>\n",
       "    .dataframe tbody tr th:only-of-type {\n",
       "        vertical-align: middle;\n",
       "    }\n",
       "\n",
       "    .dataframe tbody tr th {\n",
       "        vertical-align: top;\n",
       "    }\n",
       "\n",
       "    .dataframe thead th {\n",
       "        text-align: right;\n",
       "    }\n",
       "</style>\n",
       "<table border=\"1\" class=\"dataframe\">\n",
       "  <thead>\n",
       "    <tr style=\"text-align: right;\">\n",
       "      <th></th>\n",
       "      <th>32</th>\n",
       "      <th>64</th>\n",
       "      <th>128</th>\n",
       "      <th>256</th>\n",
       "    </tr>\n",
       "  </thead>\n",
       "  <tbody>\n",
       "    <tr>\n",
       "      <th>2</th>\n",
       "      <td>0.532979</td>\n",
       "      <td>0.503730</td>\n",
       "      <td>0.495337</td>\n",
       "      <td>0.480684</td>\n",
       "    </tr>\n",
       "    <tr>\n",
       "      <th>4</th>\n",
       "      <td>0.525646</td>\n",
       "      <td>0.489814</td>\n",
       "      <td>0.477247</td>\n",
       "      <td>0.463216</td>\n",
       "    </tr>\n",
       "    <tr>\n",
       "      <th>8</th>\n",
       "      <td>0.524070</td>\n",
       "      <td>0.484350</td>\n",
       "      <td>0.472073</td>\n",
       "      <td>0.460756</td>\n",
       "    </tr>\n",
       "    <tr>\n",
       "      <th>16</th>\n",
       "      <td>0.537259</td>\n",
       "      <td>0.490500</td>\n",
       "      <td>0.476918</td>\n",
       "      <td>0.465306</td>\n",
       "    </tr>\n",
       "    <tr>\n",
       "      <th>32</th>\n",
       "      <td>0.525607</td>\n",
       "      <td>0.482867</td>\n",
       "      <td>0.469963</td>\n",
       "      <td>0.458601</td>\n",
       "    </tr>\n",
       "  </tbody>\n",
       "</table>\n",
       "</div>"
      ],
      "text/plain": [
       "         32        64        128       256\n",
       "2   0.532979  0.503730  0.495337  0.480684\n",
       "4   0.525646  0.489814  0.477247  0.463216\n",
       "8   0.524070  0.484350  0.472073  0.460756\n",
       "16  0.537259  0.490500  0.476918  0.465306\n",
       "32  0.525607  0.482867  0.469963  0.458601"
      ]
     },
     "execution_count": 25,
     "metadata": {},
     "output_type": "execute_result"
    }
   ],
   "source": [
    "res_gru"
   ]
  },
  {
   "cell_type": "code",
   "execution_count": 26,
   "id": "b4df8c8f",
   "metadata": {
    "ExecuteTime": {
     "end_time": "2022-09-14T06:11:33.103199Z",
     "start_time": "2022-09-14T06:11:33.090331Z"
    }
   },
   "outputs": [
    {
     "data": {
      "text/plain": [
       "32     0.529112\n",
       "64     0.490252\n",
       "128    0.478307\n",
       "256    0.465713\n",
       "dtype: float64"
      ]
     },
     "execution_count": 26,
     "metadata": {},
     "output_type": "execute_result"
    }
   ],
   "source": [
    "res_gru.mean(axis=0)"
   ]
  },
  {
   "cell_type": "code",
   "execution_count": 28,
   "id": "0858c7b9",
   "metadata": {
    "ExecuteTime": {
     "end_time": "2022-09-14T07:47:21.942013Z",
     "start_time": "2022-09-14T07:47:21.918922Z"
    }
   },
   "outputs": [
    {
     "data": {
      "text/plain": [
       "2     0.503182\n",
       "4     0.488981\n",
       "8     0.485312\n",
       "16    0.492496\n",
       "32    0.484260\n",
       "dtype: float64"
      ]
     },
     "execution_count": 28,
     "metadata": {},
     "output_type": "execute_result"
    }
   ],
   "source": [
    "res_gru.mean(axis=1)"
   ]
  },
  {
   "cell_type": "code",
   "execution_count": null,
   "id": "bc6ac122",
   "metadata": {},
   "outputs": [],
   "source": []
  }
 ],
 "metadata": {
  "kernelspec": {
   "display_name": "Python 3 (ipykernel)",
   "language": "python",
   "name": "python3"
  },
  "language_info": {
   "codemirror_mode": {
    "name": "ipython",
    "version": 3
   },
   "file_extension": ".py",
   "mimetype": "text/x-python",
   "name": "python",
   "nbconvert_exporter": "python",
   "pygments_lexer": "ipython3",
   "version": "3.8.8"
  },
  "toc": {
   "base_numbering": 1,
   "nav_menu": {},
   "number_sections": true,
   "sideBar": true,
   "skip_h1_title": false,
   "title_cell": "Table of Contents",
   "title_sidebar": "Contents",
   "toc_cell": false,
   "toc_position": {},
   "toc_section_display": true,
   "toc_window_display": false
  }
 },
 "nbformat": 4,
 "nbformat_minor": 5
}
