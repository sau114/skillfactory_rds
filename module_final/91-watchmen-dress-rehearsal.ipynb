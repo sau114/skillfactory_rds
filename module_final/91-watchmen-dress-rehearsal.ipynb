{
 "cells": [
  {
   "cell_type": "code",
   "execution_count": 12,
   "id": "3afcaa82",
   "metadata": {
    "ExecuteTime": {
     "end_time": "2022-08-30T16:20:35.374254Z",
     "start_time": "2022-08-30T16:20:35.325976Z"
    }
   },
   "outputs": [],
   "source": [
    "!del /Q utils\\__pycache__"
   ]
  },
  {
   "cell_type": "code",
   "execution_count": 13,
   "id": "86b03be5",
   "metadata": {
    "ExecuteTime": {
     "end_time": "2022-08-30T16:20:36.042611Z",
     "start_time": "2022-08-30T16:20:36.034246Z"
    }
   },
   "outputs": [],
   "source": [
    "import pandas as pd\n",
    "from tqdm.notebook import tqdm"
   ]
  },
  {
   "cell_type": "code",
   "execution_count": 14,
   "id": "f34899c4",
   "metadata": {
    "ExecuteTime": {
     "end_time": "2022-08-30T16:20:36.693508Z",
     "start_time": "2022-08-30T16:20:36.675332Z"
    }
   },
   "outputs": [],
   "source": [
    "from utils.datasets import GhlKasperskyDataset, TepHarvardDataset, TepKasperskyDataset, SwatItrustDataset\n",
    "from utils.custom_plots import plot_stacked\n",
    "from utils.metrics import time_span_metrics\n",
    "from utils.watchmen import LimitWatchman, LimitPcaWatchman, SpePcaWatchman, IsolatingWatchman, LinearPredictWatchman"
   ]
  },
  {
   "cell_type": "code",
   "execution_count": 15,
   "id": "f4e9bb0f",
   "metadata": {
    "ExecuteTime": {
     "end_time": "2022-08-30T16:20:37.271881Z",
     "start_time": "2022-08-30T16:20:37.264879Z"
    }
   },
   "outputs": [],
   "source": [
    "SEED = 1729"
   ]
  },
  {
   "cell_type": "markdown",
   "id": "ab2d87dc",
   "metadata": {
    "ExecuteTime": {
     "end_time": "2022-08-19T10:07:19.598656Z",
     "start_time": "2022-08-19T10:07:18.676895Z"
    }
   },
   "source": [
    "# Preparing datasets"
   ]
  },
  {
   "cell_type": "code",
   "execution_count": 16,
   "id": "cb921176",
   "metadata": {
    "ExecuteTime": {
     "end_time": "2022-08-30T16:20:38.333661Z",
     "start_time": "2022-08-30T16:20:38.327630Z"
    }
   },
   "outputs": [],
   "source": [
    "datasets = {\n",
    "    0: GhlKasperskyDataset(),\n",
    "    1: TepHarvardDataset(),\n",
    "    2: TepKasperskyDataset(),\n",
    "    3: SwatItrustDataset(),\n",
    "}"
   ]
  },
  {
   "cell_type": "code",
   "execution_count": 19,
   "id": "fd787944",
   "metadata": {
    "ExecuteTime": {
     "end_time": "2022-08-30T16:21:56.701932Z",
     "start_time": "2022-08-30T16:21:56.684912Z"
    }
   },
   "outputs": [],
   "source": [
    "shake_kwargs = {\n",
    "    'random_state': SEED,\n",
    "    'valid_test_ratio': 0.3,\n",
    "}"
   ]
  },
  {
   "cell_type": "markdown",
   "id": "f007db40",
   "metadata": {},
   "source": [
    "# Preparing watchmen"
   ]
  },
  {
   "cell_type": "code",
   "execution_count": 17,
   "id": "b5c900e8",
   "metadata": {
    "ExecuteTime": {
     "end_time": "2022-08-30T16:20:41.263328Z",
     "start_time": "2022-08-30T16:20:41.236910Z"
    }
   },
   "outputs": [],
   "source": [
    "watchmen = {\n",
    "    0: {  # GhlKasperskyDataset\n",
    "        0: LimitWatchman(),\n",
    "        1: LimitPcaWatchman(n_components=3),\n",
    "        2: SpePcaWatchman(n_components=3),\n",
    "        3: IsolatingWatchman(max_samples=256, random_state=SEED),\n",
    "        4: LinearPredictWatchman(random_state=SEED),\n",
    "    },\n",
    "    1: {  # TepHarvardDataset\n",
    "        0: LimitWatchman(ewma='3 min'),\n",
    "        1: LimitPcaWatchman(n_components=12),\n",
    "        2: SpePcaWatchman(n_components=12),\n",
    "        3: IsolatingWatchman(max_samples=256, random_state=SEED),\n",
    "        4: LinearPredictWatchman(random_state=SEED),\n",
    "    },\n",
    "    2: {  # TepKasperskyDataset\n",
    "        0: LimitWatchman(),\n",
    "        1: LimitPcaWatchman(n_components=3),\n",
    "        2: SpePcaWatchman(n_components=3),\n",
    "        3: IsolatingWatchman(max_samples=1024, random_state=SEED),\n",
    "        4: LinearPredictWatchman(random_state=SEED),\n",
    "    },\n",
    "    3: {  # SwatItrustDataset\n",
    "        0: LimitWatchman(),\n",
    "        1: LimitPcaWatchman(n_components=3),\n",
    "        2: SpePcaWatchman(n_components=3),\n",
    "        3: IsolatingWatchman(max_samples=256, random_state=SEED),\n",
    "        4: LinearPredictWatchman(random_state=SEED),\n",
    "    },\n",
    "}"
   ]
  },
  {
   "cell_type": "markdown",
   "id": "be4104e1",
   "metadata": {},
   "source": [
    "# Learning"
   ]
  },
  {
   "cell_type": "markdown",
   "id": "8fa34354",
   "metadata": {},
   "source": [
    "## Prefit"
   ]
  },
  {
   "cell_type": "code",
   "execution_count": 20,
   "id": "53beb5b4",
   "metadata": {
    "ExecuteTime": {
     "end_time": "2022-08-30T16:23:02.681722Z",
     "start_time": "2022-08-30T16:22:13.075168Z"
    }
   },
   "outputs": [
    {
     "data": {
      "application/vnd.jupyter.widget-view+json": {
       "model_id": "2f4703e87d464aa5ab5e3dcfcfca69b9",
       "version_major": 2,
       "version_minor": 0
      },
      "text/plain": [
       "Prefit on train 0: 0it [00:00, ?it/s]"
      ]
     },
     "metadata": {},
     "output_type": "display_data"
    },
    {
     "data": {
      "application/vnd.jupyter.widget-view+json": {
       "model_id": "4cd6cea1480e4a21b528f1c2233b1c99",
       "version_major": 2,
       "version_minor": 0
      },
      "text/plain": [
       "Prefit on train 1: 0it [00:00, ?it/s]"
      ]
     },
     "metadata": {},
     "output_type": "display_data"
    },
    {
     "data": {
      "application/vnd.jupyter.widget-view+json": {
       "model_id": "647ed39d8c74428ebe37ad01230526ab",
       "version_major": 2,
       "version_minor": 0
      },
      "text/plain": [
       "Prefit on train 2: 0it [00:00, ?it/s]"
      ]
     },
     "metadata": {},
     "output_type": "display_data"
    },
    {
     "data": {
      "application/vnd.jupyter.widget-view+json": {
       "model_id": "e2a4b963da3b45ec8a1c1f8eaec01edd",
       "version_major": 2,
       "version_minor": 0
      },
      "text/plain": [
       "Prefit on train 3: 0it [00:00, ?it/s]"
      ]
     },
     "metadata": {},
     "output_type": "display_data"
    }
   ],
   "source": [
    "for d in datasets:\n",
    "    datasets[d].shake_not_stir(shake_kwargs)\n",
    "    for data, _, _ in tqdm(datasets[d].train_generator(), desc=f'Prefit on train {d}'):\n",
    "        for w in watchmen[d]:\n",
    "            watchmen[d][w].prefit(data)"
   ]
  },
  {
   "cell_type": "markdown",
   "id": "77312393",
   "metadata": {},
   "source": [
    "## Fit"
   ]
  },
  {
   "cell_type": "code",
   "execution_count": 21,
   "id": "ea1f2f67",
   "metadata": {
    "ExecuteTime": {
     "end_time": "2022-08-30T16:31:21.806099Z",
     "start_time": "2022-08-30T16:24:01.852203Z"
    }
   },
   "outputs": [
    {
     "data": {
      "application/vnd.jupyter.widget-view+json": {
       "model_id": "debe834fe71141f695d40c8b136e8461",
       "version_major": 2,
       "version_minor": 0
      },
      "text/plain": [
       "Fit on train 0: 0it [00:00, ?it/s]"
      ]
     },
     "metadata": {},
     "output_type": "display_data"
    },
    {
     "data": {
      "application/vnd.jupyter.widget-view+json": {
       "model_id": "37f6a74ee3c44aafaa2b895edc3ed8fa",
       "version_major": 2,
       "version_minor": 0
      },
      "text/plain": [
       "Fit on train 1: 0it [00:00, ?it/s]"
      ]
     },
     "metadata": {},
     "output_type": "display_data"
    },
    {
     "data": {
      "application/vnd.jupyter.widget-view+json": {
       "model_id": "2c5ed6ddd9934e32b1fd3d8c25efa904",
       "version_major": 2,
       "version_minor": 0
      },
      "text/plain": [
       "Fit on train 2: 0it [00:00, ?it/s]"
      ]
     },
     "metadata": {},
     "output_type": "display_data"
    },
    {
     "data": {
      "application/vnd.jupyter.widget-view+json": {
       "model_id": "30c9fd7d036b46fdb2acc8e14380693f",
       "version_major": 2,
       "version_minor": 0
      },
      "text/plain": [
       "Fit on train 3: 0it [00:00, ?it/s]"
      ]
     },
     "metadata": {},
     "output_type": "display_data"
    }
   ],
   "source": [
    "for d in datasets:\n",
    "    datasets[d].shake_not_stir(shake_kwargs)\n",
    "    for data, _, _ in tqdm(datasets[d].train_generator(), desc=f'Fit on train {d}'):\n",
    "        for w in watchmen[d]:\n",
    "            watchmen[d][w].partial_fit(data)"
   ]
  },
  {
   "cell_type": "markdown",
   "id": "5c728a4c",
   "metadata": {},
   "source": [
    "# Examine"
   ]
  },
  {
   "cell_type": "markdown",
   "id": "05b98514",
   "metadata": {},
   "source": [
    "## Throw stones"
   ]
  },
  {
   "cell_type": "code",
   "execution_count": 39,
   "id": "149642a0",
   "metadata": {
    "ExecuteTime": {
     "end_time": "2022-08-30T16:49:52.692861Z",
     "start_time": "2022-08-30T16:49:52.677875Z"
    }
   },
   "outputs": [],
   "source": [
    "stones = dict()\n",
    "for d in datasets:\n",
    "    stones[d] = dict()\n",
    "    for w in watchmen[d]:\n",
    "        stones[d][w] = list()"
   ]
  },
  {
   "cell_type": "code",
   "execution_count": 24,
   "id": "2eeb2ed3",
   "metadata": {
    "ExecuteTime": {
     "end_time": "2022-08-30T16:42:33.503202Z",
     "start_time": "2022-08-30T16:37:25.147284Z"
    }
   },
   "outputs": [
    {
     "data": {
      "application/vnd.jupyter.widget-view+json": {
       "model_id": "03a3eae159c8414e9250991e07f6b4dd",
       "version_major": 2,
       "version_minor": 0
      },
      "text/plain": [
       "Detect on validation 0: 0it [00:00, ?it/s]"
      ]
     },
     "metadata": {},
     "output_type": "display_data"
    },
    {
     "data": {
      "application/vnd.jupyter.widget-view+json": {
       "model_id": "4349f54959894998ac148935a167e4e1",
       "version_major": 2,
       "version_minor": 0
      },
      "text/plain": [
       "Detect on validation 1: 0it [00:00, ?it/s]"
      ]
     },
     "metadata": {},
     "output_type": "display_data"
    },
    {
     "ename": "KeyboardInterrupt",
     "evalue": "",
     "output_type": "error",
     "traceback": [
      "\u001b[1;31m---------------------------------------------------------------------------\u001b[0m",
      "\u001b[1;31mKeyboardInterrupt\u001b[0m                         Traceback (most recent call last)",
      "Input \u001b[1;32mIn [24]\u001b[0m, in \u001b[0;36m<cell line: 1>\u001b[1;34m()\u001b[0m\n\u001b[0;32m      3\u001b[0m \u001b[38;5;28;01mfor\u001b[39;00m data, faults, info \u001b[38;5;129;01min\u001b[39;00m tqdm(datasets[d]\u001b[38;5;241m.\u001b[39mvalid_generator(), desc\u001b[38;5;241m=\u001b[39m\u001b[38;5;124mf\u001b[39m\u001b[38;5;124m'\u001b[39m\u001b[38;5;124mDetect on validation \u001b[39m\u001b[38;5;132;01m{\u001b[39;00md\u001b[38;5;132;01m}\u001b[39;00m\u001b[38;5;124m'\u001b[39m):\n\u001b[0;32m      4\u001b[0m     \u001b[38;5;28;01mfor\u001b[39;00m w \u001b[38;5;129;01min\u001b[39;00m watchmen[d]:\n\u001b[1;32m----> 5\u001b[0m         detect \u001b[38;5;241m=\u001b[39m \u001b[43mwatchmen\u001b[49m\u001b[43m[\u001b[49m\u001b[43md\u001b[49m\u001b[43m]\u001b[49m\u001b[43m[\u001b[49m\u001b[43mw\u001b[49m\u001b[43m]\u001b[49m\u001b[38;5;241;43m.\u001b[39;49m\u001b[43mpredict\u001b[49m\u001b[43m(\u001b[49m\u001b[43mdata\u001b[49m\u001b[43m)\u001b[49m\n\u001b[0;32m      6\u001b[0m         stones[d][w]\u001b[38;5;241m.\u001b[39mappend(pd\u001b[38;5;241m.\u001b[39mconcat([faults, detect], axis\u001b[38;5;241m=\u001b[39m\u001b[38;5;241m1\u001b[39m))\n",
      "File \u001b[1;32m~\\Data_science\\skillfactory_rds\\module_final\\utils\\watchmen.py:242\u001b[0m, in \u001b[0;36mIsolatingWatchman.predict\u001b[1;34m(self, data)\u001b[0m\n\u001b[0;32m    240\u001b[0m \u001b[38;5;28;01mif\u001b[39;00m \u001b[38;5;28mself\u001b[39m\u001b[38;5;241m.\u001b[39mgenerate_stat_features:\n\u001b[0;32m    241\u001b[0m     data \u001b[38;5;241m=\u001b[39m \u001b[38;5;28mself\u001b[39m\u001b[38;5;241m.\u001b[39m_generate_stat_features(data)\n\u001b[1;32m--> 242\u001b[0m result \u001b[38;5;241m=\u001b[39m (pd\u001b[38;5;241m.\u001b[39mSeries(index\u001b[38;5;241m=\u001b[39mdata\u001b[38;5;241m.\u001b[39mindex, data\u001b[38;5;241m=\u001b[39m\u001b[38;5;28;43mself\u001b[39;49m\u001b[38;5;241;43m.\u001b[39;49m\u001b[43mforest\u001b[49m\u001b[38;5;241;43m.\u001b[39;49m\u001b[43mpredict\u001b[49m\u001b[43m(\u001b[49m\u001b[43mdata\u001b[49m\u001b[38;5;241;43m.\u001b[39;49m\u001b[43mvalues\u001b[49m\u001b[43m)\u001b[49m)\n\u001b[0;32m    243\u001b[0m           \u001b[38;5;241m.\u001b[39mreplace({\u001b[38;5;241m1\u001b[39m: \u001b[38;5;241m0\u001b[39m, \u001b[38;5;241m-\u001b[39m\u001b[38;5;241m1\u001b[39m: \u001b[38;5;241m1\u001b[39m})\n\u001b[0;32m    244\u001b[0m           \u001b[38;5;241m.\u001b[39mastype(\u001b[38;5;124m'\u001b[39m\u001b[38;5;124muint8\u001b[39m\u001b[38;5;124m'\u001b[39m)\n\u001b[0;32m    245\u001b[0m           )\n\u001b[0;32m    246\u001b[0m \u001b[38;5;28;01mreturn\u001b[39;00m result\n",
      "File \u001b[1;32m~\\anaconda3\\lib\\site-packages\\sklearn\\ensemble\\_iforest.py:340\u001b[0m, in \u001b[0;36mIsolationForest.predict\u001b[1;34m(self, X)\u001b[0m\n\u001b[0;32m    323\u001b[0m \u001b[38;5;124;03m\"\"\"\u001b[39;00m\n\u001b[0;32m    324\u001b[0m \u001b[38;5;124;03mPredict if a particular sample is an outlier or not.\u001b[39;00m\n\u001b[0;32m    325\u001b[0m \n\u001b[1;32m   (...)\u001b[0m\n\u001b[0;32m    337\u001b[0m \u001b[38;5;124;03m    be considered as an inlier according to the fitted model.\u001b[39;00m\n\u001b[0;32m    338\u001b[0m \u001b[38;5;124;03m\"\"\"\u001b[39;00m\n\u001b[0;32m    339\u001b[0m check_is_fitted(\u001b[38;5;28mself\u001b[39m)\n\u001b[1;32m--> 340\u001b[0m decision_func \u001b[38;5;241m=\u001b[39m \u001b[38;5;28;43mself\u001b[39;49m\u001b[38;5;241;43m.\u001b[39;49m\u001b[43mdecision_function\u001b[49m\u001b[43m(\u001b[49m\u001b[43mX\u001b[49m\u001b[43m)\u001b[49m\n\u001b[0;32m    341\u001b[0m is_inlier \u001b[38;5;241m=\u001b[39m np\u001b[38;5;241m.\u001b[39mones_like(decision_func, dtype\u001b[38;5;241m=\u001b[39m\u001b[38;5;28mint\u001b[39m)\n\u001b[0;32m    342\u001b[0m is_inlier[decision_func \u001b[38;5;241m<\u001b[39m \u001b[38;5;241m0\u001b[39m] \u001b[38;5;241m=\u001b[39m \u001b[38;5;241m-\u001b[39m\u001b[38;5;241m1\u001b[39m\n",
      "File \u001b[1;32m~\\anaconda3\\lib\\site-packages\\sklearn\\ensemble\\_iforest.py:375\u001b[0m, in \u001b[0;36mIsolationForest.decision_function\u001b[1;34m(self, X)\u001b[0m\n\u001b[0;32m    346\u001b[0m \u001b[38;5;124;03m\"\"\"\u001b[39;00m\n\u001b[0;32m    347\u001b[0m \u001b[38;5;124;03mAverage anomaly score of X of the base classifiers.\u001b[39;00m\n\u001b[0;32m    348\u001b[0m \n\u001b[1;32m   (...)\u001b[0m\n\u001b[0;32m    370\u001b[0m \u001b[38;5;124;03m    positive scores represent inliers.\u001b[39;00m\n\u001b[0;32m    371\u001b[0m \u001b[38;5;124;03m\"\"\"\u001b[39;00m\n\u001b[0;32m    372\u001b[0m \u001b[38;5;66;03m# We subtract self.offset_ to make 0 be the threshold value for being\u001b[39;00m\n\u001b[0;32m    373\u001b[0m \u001b[38;5;66;03m# an outlier:\u001b[39;00m\n\u001b[1;32m--> 375\u001b[0m \u001b[38;5;28;01mreturn\u001b[39;00m \u001b[38;5;28;43mself\u001b[39;49m\u001b[38;5;241;43m.\u001b[39;49m\u001b[43mscore_samples\u001b[49m\u001b[43m(\u001b[49m\u001b[43mX\u001b[49m\u001b[43m)\u001b[49m \u001b[38;5;241m-\u001b[39m \u001b[38;5;28mself\u001b[39m\u001b[38;5;241m.\u001b[39moffset_\n",
      "File \u001b[1;32m~\\anaconda3\\lib\\site-packages\\sklearn\\ensemble\\_iforest.py:410\u001b[0m, in \u001b[0;36mIsolationForest.score_samples\u001b[1;34m(self, X)\u001b[0m\n\u001b[0;32m    406\u001b[0m X \u001b[38;5;241m=\u001b[39m \u001b[38;5;28mself\u001b[39m\u001b[38;5;241m.\u001b[39m_validate_data(X, accept_sparse\u001b[38;5;241m=\u001b[39m\u001b[38;5;124m\"\u001b[39m\u001b[38;5;124mcsr\u001b[39m\u001b[38;5;124m\"\u001b[39m, reset\u001b[38;5;241m=\u001b[39m\u001b[38;5;28;01mFalse\u001b[39;00m)\n\u001b[0;32m    408\u001b[0m \u001b[38;5;66;03m# Take the opposite of the scores as bigger is better (here less\u001b[39;00m\n\u001b[0;32m    409\u001b[0m \u001b[38;5;66;03m# abnormal)\u001b[39;00m\n\u001b[1;32m--> 410\u001b[0m \u001b[38;5;28;01mreturn\u001b[39;00m \u001b[38;5;241m-\u001b[39m\u001b[38;5;28;43mself\u001b[39;49m\u001b[38;5;241;43m.\u001b[39;49m\u001b[43m_compute_chunked_score_samples\u001b[49m\u001b[43m(\u001b[49m\u001b[43mX\u001b[49m\u001b[43m)\u001b[49m\n",
      "File \u001b[1;32m~\\anaconda3\\lib\\site-packages\\sklearn\\ensemble\\_iforest.py:441\u001b[0m, in \u001b[0;36mIsolationForest._compute_chunked_score_samples\u001b[1;34m(self, X)\u001b[0m\n\u001b[0;32m    437\u001b[0m scores \u001b[38;5;241m=\u001b[39m np\u001b[38;5;241m.\u001b[39mzeros(n_samples, order\u001b[38;5;241m=\u001b[39m\u001b[38;5;124m\"\u001b[39m\u001b[38;5;124mf\u001b[39m\u001b[38;5;124m\"\u001b[39m)\n\u001b[0;32m    439\u001b[0m \u001b[38;5;28;01mfor\u001b[39;00m sl \u001b[38;5;129;01min\u001b[39;00m slices:\n\u001b[0;32m    440\u001b[0m     \u001b[38;5;66;03m# compute score on the slices of test samples:\u001b[39;00m\n\u001b[1;32m--> 441\u001b[0m     scores[sl] \u001b[38;5;241m=\u001b[39m \u001b[38;5;28;43mself\u001b[39;49m\u001b[38;5;241;43m.\u001b[39;49m\u001b[43m_compute_score_samples\u001b[49m\u001b[43m(\u001b[49m\u001b[43mX\u001b[49m\u001b[43m[\u001b[49m\u001b[43msl\u001b[49m\u001b[43m]\u001b[49m\u001b[43m,\u001b[49m\u001b[43m \u001b[49m\u001b[43msubsample_features\u001b[49m\u001b[43m)\u001b[49m\n\u001b[0;32m    443\u001b[0m \u001b[38;5;28;01mreturn\u001b[39;00m scores\n",
      "File \u001b[1;32m~\\anaconda3\\lib\\site-packages\\sklearn\\ensemble\\_iforest.py:465\u001b[0m, in \u001b[0;36mIsolationForest._compute_score_samples\u001b[1;34m(self, X, subsample_features)\u001b[0m\n\u001b[0;32m    462\u001b[0m X_subset \u001b[38;5;241m=\u001b[39m X[:, features] \u001b[38;5;28;01mif\u001b[39;00m subsample_features \u001b[38;5;28;01melse\u001b[39;00m X\n\u001b[0;32m    464\u001b[0m leaves_index \u001b[38;5;241m=\u001b[39m tree\u001b[38;5;241m.\u001b[39mapply(X_subset)\n\u001b[1;32m--> 465\u001b[0m node_indicator \u001b[38;5;241m=\u001b[39m \u001b[43mtree\u001b[49m\u001b[38;5;241;43m.\u001b[39;49m\u001b[43mdecision_path\u001b[49m\u001b[43m(\u001b[49m\u001b[43mX_subset\u001b[49m\u001b[43m)\u001b[49m\n\u001b[0;32m    466\u001b[0m n_samples_leaf \u001b[38;5;241m=\u001b[39m tree\u001b[38;5;241m.\u001b[39mtree_\u001b[38;5;241m.\u001b[39mn_node_samples[leaves_index]\n\u001b[0;32m    468\u001b[0m depths \u001b[38;5;241m+\u001b[39m\u001b[38;5;241m=\u001b[39m (\n\u001b[0;32m    469\u001b[0m     np\u001b[38;5;241m.\u001b[39mravel(node_indicator\u001b[38;5;241m.\u001b[39msum(axis\u001b[38;5;241m=\u001b[39m\u001b[38;5;241m1\u001b[39m))\n\u001b[0;32m    470\u001b[0m     \u001b[38;5;241m+\u001b[39m _average_path_length(n_samples_leaf)\n\u001b[0;32m    471\u001b[0m     \u001b[38;5;241m-\u001b[39m \u001b[38;5;241m1.0\u001b[39m\n\u001b[0;32m    472\u001b[0m )\n",
      "File \u001b[1;32m~\\anaconda3\\lib\\site-packages\\sklearn\\tree\\_classes.py:544\u001b[0m, in \u001b[0;36mBaseDecisionTree.decision_path\u001b[1;34m(self, X, check_input)\u001b[0m\n\u001b[0;32m    522\u001b[0m \u001b[38;5;28;01mdef\u001b[39;00m \u001b[38;5;21mdecision_path\u001b[39m(\u001b[38;5;28mself\u001b[39m, X, check_input\u001b[38;5;241m=\u001b[39m\u001b[38;5;28;01mTrue\u001b[39;00m):\n\u001b[0;32m    523\u001b[0m     \u001b[38;5;124;03m\"\"\"Return the decision path in the tree.\u001b[39;00m\n\u001b[0;32m    524\u001b[0m \n\u001b[0;32m    525\u001b[0m \u001b[38;5;124;03m    .. versionadded:: 0.18\u001b[39;00m\n\u001b[1;32m   (...)\u001b[0m\n\u001b[0;32m    542\u001b[0m \u001b[38;5;124;03m        indicates that the samples goes through the nodes.\u001b[39;00m\n\u001b[0;32m    543\u001b[0m \u001b[38;5;124;03m    \"\"\"\u001b[39;00m\n\u001b[1;32m--> 544\u001b[0m     X \u001b[38;5;241m=\u001b[39m \u001b[38;5;28;43mself\u001b[39;49m\u001b[38;5;241;43m.\u001b[39;49m\u001b[43m_validate_X_predict\u001b[49m\u001b[43m(\u001b[49m\u001b[43mX\u001b[49m\u001b[43m,\u001b[49m\u001b[43m \u001b[49m\u001b[43mcheck_input\u001b[49m\u001b[43m)\u001b[49m\n\u001b[0;32m    545\u001b[0m     \u001b[38;5;28;01mreturn\u001b[39;00m \u001b[38;5;28mself\u001b[39m\u001b[38;5;241m.\u001b[39mtree_\u001b[38;5;241m.\u001b[39mdecision_path(X)\n",
      "File \u001b[1;32m~\\anaconda3\\lib\\site-packages\\sklearn\\tree\\_classes.py:433\u001b[0m, in \u001b[0;36mBaseDecisionTree._validate_X_predict\u001b[1;34m(self, X, check_input)\u001b[0m\n\u001b[0;32m    431\u001b[0m \u001b[38;5;124;03m\"\"\"Validate the training data on predict (probabilities).\"\"\"\u001b[39;00m\n\u001b[0;32m    432\u001b[0m \u001b[38;5;28;01mif\u001b[39;00m check_input:\n\u001b[1;32m--> 433\u001b[0m     X \u001b[38;5;241m=\u001b[39m \u001b[38;5;28;43mself\u001b[39;49m\u001b[38;5;241;43m.\u001b[39;49m\u001b[43m_validate_data\u001b[49m\u001b[43m(\u001b[49m\u001b[43mX\u001b[49m\u001b[43m,\u001b[49m\u001b[43m \u001b[49m\u001b[43mdtype\u001b[49m\u001b[38;5;241;43m=\u001b[39;49m\u001b[43mDTYPE\u001b[49m\u001b[43m,\u001b[49m\u001b[43m \u001b[49m\u001b[43maccept_sparse\u001b[49m\u001b[38;5;241;43m=\u001b[39;49m\u001b[38;5;124;43m\"\u001b[39;49m\u001b[38;5;124;43mcsr\u001b[39;49m\u001b[38;5;124;43m\"\u001b[39;49m\u001b[43m,\u001b[49m\u001b[43m \u001b[49m\u001b[43mreset\u001b[49m\u001b[38;5;241;43m=\u001b[39;49m\u001b[38;5;28;43;01mFalse\u001b[39;49;00m\u001b[43m)\u001b[49m\n\u001b[0;32m    434\u001b[0m     \u001b[38;5;28;01mif\u001b[39;00m issparse(X) \u001b[38;5;129;01mand\u001b[39;00m (\n\u001b[0;32m    435\u001b[0m         X\u001b[38;5;241m.\u001b[39mindices\u001b[38;5;241m.\u001b[39mdtype \u001b[38;5;241m!=\u001b[39m np\u001b[38;5;241m.\u001b[39mintc \u001b[38;5;129;01mor\u001b[39;00m X\u001b[38;5;241m.\u001b[39mindptr\u001b[38;5;241m.\u001b[39mdtype \u001b[38;5;241m!=\u001b[39m np\u001b[38;5;241m.\u001b[39mintc\n\u001b[0;32m    436\u001b[0m     ):\n\u001b[0;32m    437\u001b[0m         \u001b[38;5;28;01mraise\u001b[39;00m \u001b[38;5;167;01mValueError\u001b[39;00m(\u001b[38;5;124m\"\u001b[39m\u001b[38;5;124mNo support for np.int64 index based sparse matrices\u001b[39m\u001b[38;5;124m\"\u001b[39m)\n",
      "File \u001b[1;32m~\\anaconda3\\lib\\site-packages\\sklearn\\base.py:566\u001b[0m, in \u001b[0;36mBaseEstimator._validate_data\u001b[1;34m(self, X, y, reset, validate_separately, **check_params)\u001b[0m\n\u001b[0;32m    564\u001b[0m     \u001b[38;5;28;01mraise\u001b[39;00m \u001b[38;5;167;01mValueError\u001b[39;00m(\u001b[38;5;124m\"\u001b[39m\u001b[38;5;124mValidation should be done on X, y or both.\u001b[39m\u001b[38;5;124m\"\u001b[39m)\n\u001b[0;32m    565\u001b[0m \u001b[38;5;28;01melif\u001b[39;00m \u001b[38;5;129;01mnot\u001b[39;00m no_val_X \u001b[38;5;129;01mand\u001b[39;00m no_val_y:\n\u001b[1;32m--> 566\u001b[0m     X \u001b[38;5;241m=\u001b[39m \u001b[43mcheck_array\u001b[49m\u001b[43m(\u001b[49m\u001b[43mX\u001b[49m\u001b[43m,\u001b[49m\u001b[43m \u001b[49m\u001b[38;5;241;43m*\u001b[39;49m\u001b[38;5;241;43m*\u001b[39;49m\u001b[43mcheck_params\u001b[49m\u001b[43m)\u001b[49m\n\u001b[0;32m    567\u001b[0m     out \u001b[38;5;241m=\u001b[39m X\n\u001b[0;32m    568\u001b[0m \u001b[38;5;28;01melif\u001b[39;00m no_val_X \u001b[38;5;129;01mand\u001b[39;00m \u001b[38;5;129;01mnot\u001b[39;00m no_val_y:\n",
      "File \u001b[1;32m~\\anaconda3\\lib\\site-packages\\sklearn\\utils\\validation.py:746\u001b[0m, in \u001b[0;36mcheck_array\u001b[1;34m(array, accept_sparse, accept_large_sparse, dtype, order, copy, force_all_finite, ensure_2d, allow_nd, ensure_min_samples, ensure_min_features, estimator)\u001b[0m\n\u001b[0;32m    744\u001b[0m         array \u001b[38;5;241m=\u001b[39m array\u001b[38;5;241m.\u001b[39mastype(dtype, casting\u001b[38;5;241m=\u001b[39m\u001b[38;5;124m\"\u001b[39m\u001b[38;5;124munsafe\u001b[39m\u001b[38;5;124m\"\u001b[39m, copy\u001b[38;5;241m=\u001b[39m\u001b[38;5;28;01mFalse\u001b[39;00m)\n\u001b[0;32m    745\u001b[0m     \u001b[38;5;28;01melse\u001b[39;00m:\n\u001b[1;32m--> 746\u001b[0m         array \u001b[38;5;241m=\u001b[39m \u001b[43mnp\u001b[49m\u001b[38;5;241;43m.\u001b[39;49m\u001b[43masarray\u001b[49m\u001b[43m(\u001b[49m\u001b[43marray\u001b[49m\u001b[43m,\u001b[49m\u001b[43m \u001b[49m\u001b[43morder\u001b[49m\u001b[38;5;241;43m=\u001b[39;49m\u001b[43morder\u001b[49m\u001b[43m,\u001b[49m\u001b[43m \u001b[49m\u001b[43mdtype\u001b[49m\u001b[38;5;241;43m=\u001b[39;49m\u001b[43mdtype\u001b[49m\u001b[43m)\u001b[49m\n\u001b[0;32m    747\u001b[0m \u001b[38;5;28;01mexcept\u001b[39;00m ComplexWarning \u001b[38;5;28;01mas\u001b[39;00m complex_warning:\n\u001b[0;32m    748\u001b[0m     \u001b[38;5;28;01mraise\u001b[39;00m \u001b[38;5;167;01mValueError\u001b[39;00m(\n\u001b[0;32m    749\u001b[0m         \u001b[38;5;124m\"\u001b[39m\u001b[38;5;124mComplex data not supported\u001b[39m\u001b[38;5;130;01m\\n\u001b[39;00m\u001b[38;5;132;01m{}\u001b[39;00m\u001b[38;5;130;01m\\n\u001b[39;00m\u001b[38;5;124m\"\u001b[39m\u001b[38;5;241m.\u001b[39mformat(array)\n\u001b[0;32m    750\u001b[0m     ) \u001b[38;5;28;01mfrom\u001b[39;00m \u001b[38;5;21;01mcomplex_warning\u001b[39;00m\n",
      "\u001b[1;31mKeyboardInterrupt\u001b[0m: "
     ]
    }
   ],
   "source": [
    "for d in datasets:\n",
    "    datasets[d].shake_not_stir(shake_kwargs)\n",
    "    for data, faults, info in tqdm(datasets[d].valid_generator(), desc=f'Detect on validation {d}'):\n",
    "        for w in watchmen[d]:\n",
    "            detect = watchmen[d][w].predict(data)\n",
    "            stones[d][w].append(pd.concat([faults, detect], axis=1))\n",
    "            stones[d][w][-1].index.name = info"
   ]
  },
  {
   "cell_type": "markdown",
   "id": "1bb3f782",
   "metadata": {},
   "source": [
    "## Individual results"
   ]
  },
  {
   "cell_type": "code",
   "execution_count": null,
   "id": "e8aa1157",
   "metadata": {},
   "outputs": [],
   "source": [
    "indi_results = dict()\n",
    "for d in datasets:\n",
    "    exam_paper = \n",
    "    for w in watchmen[d]:\n",
    "        exam_paper = exam_paper.assign()\n",
    "        for st in stones[d][w]:\n",
    "            exam_paper.iloc[st.index.name, w] = time_span_metrics(st.iloc[:, 0], st.iloc[:, 1:])\n",
    "            \n",
    "    indi_results[str(datasets[d])] = \n"
   ]
  },
  {
   "cell_type": "code",
   "execution_count": 19,
   "id": "4e04072b",
   "metadata": {
    "ExecuteTime": {
     "end_time": "2022-08-30T10:55:37.478826Z",
     "start_time": "2022-08-30T10:55:37.433730Z"
    }
   },
   "outputs": [
    {
     "name": "stdout",
     "output_type": "stream",
     "text": [
      "GhlKasperskyDataset(E:\\Datasets\\GHL)\n"
     ]
    },
    {
     "data": {
      "text/html": [
       "<div>\n",
       "<style scoped>\n",
       "    .dataframe tbody tr th:only-of-type {\n",
       "        vertical-align: middle;\n",
       "    }\n",
       "\n",
       "    .dataframe tbody tr th {\n",
       "        vertical-align: top;\n",
       "    }\n",
       "\n",
       "    .dataframe thead th {\n",
       "        text-align: right;\n",
       "    }\n",
       "</style>\n",
       "<table border=\"1\" class=\"dataframe\">\n",
       "  <thead>\n",
       "    <tr style=\"text-align: right;\">\n",
       "      <th></th>\n",
       "      <th>precision</th>\n",
       "      <th>recall</th>\n",
       "      <th>f1_score</th>\n",
       "    </tr>\n",
       "  </thead>\n",
       "  <tbody>\n",
       "    <tr>\n",
       "      <th>LimitWatchman</th>\n",
       "      <td>0.32572</td>\n",
       "      <td>0.643899</td>\n",
       "      <td>0.378634</td>\n",
       "    </tr>\n",
       "    <tr>\n",
       "      <th>LimitPcaWatchman</th>\n",
       "      <td>0.369174</td>\n",
       "      <td>0.383978</td>\n",
       "      <td>0.355303</td>\n",
       "    </tr>\n",
       "    <tr>\n",
       "      <th>SpePcaWatchman</th>\n",
       "      <td>0.0</td>\n",
       "      <td>0.0</td>\n",
       "      <td>0.0</td>\n",
       "    </tr>\n",
       "    <tr>\n",
       "      <th>IsolatingWatchman</th>\n",
       "      <td>0.016294</td>\n",
       "      <td>0.970982</td>\n",
       "      <td>0.031934</td>\n",
       "    </tr>\n",
       "    <tr>\n",
       "      <th>LinearPredictWatchman</th>\n",
       "      <td>0.013827</td>\n",
       "      <td>1.0</td>\n",
       "      <td>0.027189</td>\n",
       "    </tr>\n",
       "  </tbody>\n",
       "</table>\n",
       "</div>"
      ],
      "text/plain": [
       "                      precision    recall  f1_score\n",
       "LimitWatchman           0.32572  0.643899  0.378634\n",
       "LimitPcaWatchman       0.369174  0.383978  0.355303\n",
       "SpePcaWatchman              0.0       0.0       0.0\n",
       "IsolatingWatchman      0.016294  0.970982  0.031934\n",
       "LinearPredictWatchman  0.013827       1.0  0.027189"
      ]
     },
     "metadata": {},
     "output_type": "display_data"
    },
    {
     "name": "stdout",
     "output_type": "stream",
     "text": [
      "\n",
      "TepKasperskyDataset(E:\\Datasets\\TEP\\kaspersky)\n"
     ]
    },
    {
     "data": {
      "text/html": [
       "<div>\n",
       "<style scoped>\n",
       "    .dataframe tbody tr th:only-of-type {\n",
       "        vertical-align: middle;\n",
       "    }\n",
       "\n",
       "    .dataframe tbody tr th {\n",
       "        vertical-align: top;\n",
       "    }\n",
       "\n",
       "    .dataframe thead th {\n",
       "        text-align: right;\n",
       "    }\n",
       "</style>\n",
       "<table border=\"1\" class=\"dataframe\">\n",
       "  <thead>\n",
       "    <tr style=\"text-align: right;\">\n",
       "      <th></th>\n",
       "      <th>precision</th>\n",
       "      <th>recall</th>\n",
       "      <th>f1_score</th>\n",
       "    </tr>\n",
       "  </thead>\n",
       "  <tbody>\n",
       "    <tr>\n",
       "      <th>LimitWatchman</th>\n",
       "      <td>0.742059</td>\n",
       "      <td>0.433985</td>\n",
       "      <td>0.404575</td>\n",
       "    </tr>\n",
       "    <tr>\n",
       "      <th>LimitPcaWatchman</th>\n",
       "      <td>0.788462</td>\n",
       "      <td>0.243649</td>\n",
       "      <td>0.235529</td>\n",
       "    </tr>\n",
       "    <tr>\n",
       "      <th>SpePcaWatchman</th>\n",
       "      <td>0.976871</td>\n",
       "      <td>0.245566</td>\n",
       "      <td>0.253022</td>\n",
       "    </tr>\n",
       "    <tr>\n",
       "      <th>IsolatingWatchman</th>\n",
       "      <td>0.075873</td>\n",
       "      <td>1.0</td>\n",
       "      <td>0.116781</td>\n",
       "    </tr>\n",
       "    <tr>\n",
       "      <th>LinearPredictWatchman</th>\n",
       "      <td>0.352244</td>\n",
       "      <td>0.478348</td>\n",
       "      <td>0.250919</td>\n",
       "    </tr>\n",
       "  </tbody>\n",
       "</table>\n",
       "</div>"
      ],
      "text/plain": [
       "                      precision    recall  f1_score\n",
       "LimitWatchman          0.742059  0.433985  0.404575\n",
       "LimitPcaWatchman       0.788462  0.243649  0.235529\n",
       "SpePcaWatchman         0.976871  0.245566  0.253022\n",
       "IsolatingWatchman      0.075873       1.0  0.116781\n",
       "LinearPredictWatchman  0.352244  0.478348  0.250919"
      ]
     },
     "metadata": {},
     "output_type": "display_data"
    },
    {
     "name": "stdout",
     "output_type": "stream",
     "text": [
      "\n",
      "SwatItrustDataset(E:\\Datasets\\SWaT\\dataset12)\n"
     ]
    },
    {
     "data": {
      "text/html": [
       "<div>\n",
       "<style scoped>\n",
       "    .dataframe tbody tr th:only-of-type {\n",
       "        vertical-align: middle;\n",
       "    }\n",
       "\n",
       "    .dataframe tbody tr th {\n",
       "        vertical-align: top;\n",
       "    }\n",
       "\n",
       "    .dataframe thead th {\n",
       "        text-align: right;\n",
       "    }\n",
       "</style>\n",
       "<table border=\"1\" class=\"dataframe\">\n",
       "  <thead>\n",
       "    <tr style=\"text-align: right;\">\n",
       "      <th></th>\n",
       "      <th>precision</th>\n",
       "      <th>recall</th>\n",
       "      <th>f1_score</th>\n",
       "    </tr>\n",
       "  </thead>\n",
       "  <tbody>\n",
       "    <tr>\n",
       "      <th>LimitWatchman</th>\n",
       "      <td>0.3</td>\n",
       "      <td>1.0</td>\n",
       "      <td>0.461538</td>\n",
       "    </tr>\n",
       "    <tr>\n",
       "      <th>LimitPcaWatchman</th>\n",
       "      <td>0.285714</td>\n",
       "      <td>0.333333</td>\n",
       "      <td>0.307692</td>\n",
       "    </tr>\n",
       "    <tr>\n",
       "      <th>SpePcaWatchman</th>\n",
       "      <td>NaN</td>\n",
       "      <td>0.0</td>\n",
       "      <td>0.0</td>\n",
       "    </tr>\n",
       "    <tr>\n",
       "      <th>IsolatingWatchman</th>\n",
       "      <td>0.3</td>\n",
       "      <td>1.0</td>\n",
       "      <td>0.461538</td>\n",
       "    </tr>\n",
       "    <tr>\n",
       "      <th>LinearPredictWatchman</th>\n",
       "      <td>0.25</td>\n",
       "      <td>0.666667</td>\n",
       "      <td>0.363636</td>\n",
       "    </tr>\n",
       "  </tbody>\n",
       "</table>\n",
       "</div>"
      ],
      "text/plain": [
       "                      precision    recall  f1_score\n",
       "LimitWatchman               0.3       1.0  0.461538\n",
       "LimitPcaWatchman       0.285714  0.333333  0.307692\n",
       "SpePcaWatchman              NaN       0.0       0.0\n",
       "IsolatingWatchman           0.3       1.0  0.461538\n",
       "LinearPredictWatchman      0.25  0.666667  0.363636"
      ]
     },
     "metadata": {},
     "output_type": "display_data"
    },
    {
     "name": "stdout",
     "output_type": "stream",
     "text": [
      "\n"
     ]
    }
   ],
   "source": [
    "for d in indi_results:\n",
    "    print(d)\n",
    "    display(indi_results[d])"
   ]
  },
  {
   "cell_type": "code",
   "execution_count": 16,
   "id": "257c5e42",
   "metadata": {
    "ExecuteTime": {
     "end_time": "2022-08-30T10:28:00.714873Z",
     "start_time": "2022-08-30T10:28:00.703233Z"
    }
   },
   "outputs": [],
   "source": [
    "exam_index = [watchmen[w][0].__class__.__name__ for w in watchmen]\n",
    "exam_metric = ['precision', 'recall', 'f1_score']\n",
    "exam_table = {d: pd.DataFrame(index=exam_index, columns=exam_metric) for d in datasets}"
   ]
  }
 ],
 "metadata": {
  "kernelspec": {
   "display_name": "Python 3 (ipykernel)",
   "language": "python",
   "name": "python3"
  },
  "language_info": {
   "codemirror_mode": {
    "name": "ipython",
    "version": 3
   },
   "file_extension": ".py",
   "mimetype": "text/x-python",
   "name": "python",
   "nbconvert_exporter": "python",
   "pygments_lexer": "ipython3",
   "version": "3.8.8"
  },
  "toc": {
   "base_numbering": 1,
   "nav_menu": {},
   "number_sections": true,
   "sideBar": true,
   "skip_h1_title": false,
   "title_cell": "Table of Contents",
   "title_sidebar": "Contents",
   "toc_cell": false,
   "toc_position": {
    "height": "calc(100% - 180px)",
    "left": "10px",
    "top": "150px",
    "width": "272.2px"
   },
   "toc_section_display": true,
   "toc_window_display": true
  }
 },
 "nbformat": 4,
 "nbformat_minor": 5
}
