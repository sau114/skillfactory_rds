{
 "cells": [
  {
   "cell_type": "code",
   "execution_count": 1,
   "id": "3afcaa82",
   "metadata": {
    "ExecuteTime": {
     "end_time": "2022-08-31T08:11:36.087956Z",
     "start_time": "2022-08-31T08:11:36.026889Z"
    }
   },
   "outputs": [],
   "source": [
    "!del /Q utils\\__pycache__"
   ]
  },
  {
   "cell_type": "code",
   "execution_count": 2,
   "id": "86b03be5",
   "metadata": {
    "ExecuteTime": {
     "end_time": "2022-08-31T08:11:37.548696Z",
     "start_time": "2022-08-31T08:11:36.090786Z"
    }
   },
   "outputs": [],
   "source": [
    "import pandas as pd\n",
    "from tqdm.notebook import tqdm"
   ]
  },
  {
   "cell_type": "code",
   "execution_count": 3,
   "id": "f34899c4",
   "metadata": {
    "ExecuteTime": {
     "end_time": "2022-08-31T08:11:39.307617Z",
     "start_time": "2022-08-31T08:11:37.550694Z"
    }
   },
   "outputs": [],
   "source": [
    "from utils.datasets import GhlKasperskyDataset, TepHarvardDataset, TepKasperskyDataset, SwatItrustDataset\n",
    "from utils.custom_plots import plot_stacked\n",
    "from utils.metrics import time_span_metrics\n",
    "from utils.watchmen import LimitWatchman, LimitPcaWatchman, SpePcaWatchman, IsolatingWatchman, LinearPredictWatchman"
   ]
  },
  {
   "cell_type": "code",
   "execution_count": 4,
   "id": "f4e9bb0f",
   "metadata": {
    "ExecuteTime": {
     "end_time": "2022-08-31T08:11:39.323598Z",
     "start_time": "2022-08-31T08:11:39.311527Z"
    }
   },
   "outputs": [],
   "source": [
    "SEED = 1729"
   ]
  },
  {
   "cell_type": "markdown",
   "id": "ab2d87dc",
   "metadata": {
    "ExecuteTime": {
     "end_time": "2022-08-19T10:07:19.598656Z",
     "start_time": "2022-08-19T10:07:18.676895Z"
    }
   },
   "source": [
    "# Preparing datasets"
   ]
  },
  {
   "cell_type": "code",
   "execution_count": 5,
   "id": "cb921176",
   "metadata": {
    "ExecuteTime": {
     "end_time": "2022-08-31T08:11:39.463942Z",
     "start_time": "2022-08-31T08:11:39.326516Z"
    }
   },
   "outputs": [],
   "source": [
    "datasets = {\n",
    "    0: GhlKasperskyDataset(),\n",
    "    1: TepHarvardDataset(),\n",
    "    2: TepKasperskyDataset(),\n",
    "    3: SwatItrustDataset(),\n",
    "}"
   ]
  },
  {
   "cell_type": "code",
   "execution_count": 6,
   "id": "fd787944",
   "metadata": {
    "ExecuteTime": {
     "end_time": "2022-08-31T08:11:39.478902Z",
     "start_time": "2022-08-31T08:11:39.466760Z"
    }
   },
   "outputs": [],
   "source": [
    "shake_kwargs = {\n",
    "    'random_state': SEED,\n",
    "    'valid_test_ratio': 0.3,\n",
    "}"
   ]
  },
  {
   "cell_type": "markdown",
   "id": "f007db40",
   "metadata": {},
   "source": [
    "# Preparing watchmen"
   ]
  },
  {
   "cell_type": "code",
   "execution_count": 7,
   "id": "b5c900e8",
   "metadata": {
    "ExecuteTime": {
     "end_time": "2022-08-31T08:11:39.494044Z",
     "start_time": "2022-08-31T08:11:39.482508Z"
    }
   },
   "outputs": [],
   "source": [
    "watchmen = {\n",
    "    0: {  # GhlKasperskyDataset\n",
    "        0: LimitWatchman(),\n",
    "        1: LimitPcaWatchman(n_components=3),\n",
    "        2: SpePcaWatchman(n_components=3),\n",
    "        3: IsolatingWatchman(random_state=SEED),\n",
    "        4: LinearPredictWatchman(random_state=SEED),\n",
    "    },\n",
    "    1: {  # TepHarvardDataset\n",
    "        0: LimitWatchman(ewma='3 min'),\n",
    "        1: LimitPcaWatchman(n_components=12),\n",
    "        2: SpePcaWatchman(n_components=12),\n",
    "        3: IsolatingWatchman(random_state=SEED),\n",
    "        4: LinearPredictWatchman(random_state=SEED),\n",
    "    },\n",
    "    2: {  # TepKasperskyDataset\n",
    "        0: LimitWatchman(),\n",
    "        1: LimitPcaWatchman(n_components=3),\n",
    "        2: SpePcaWatchman(n_components=3),\n",
    "        3: IsolatingWatchman(random_state=SEED),\n",
    "        4: LinearPredictWatchman(random_state=SEED),\n",
    "    },\n",
    "    3: {  # SwatItrustDataset\n",
    "        0: LimitWatchman(),\n",
    "        1: LimitPcaWatchman(n_components=3),\n",
    "        2: SpePcaWatchman(n_components=3),\n",
    "        3: IsolatingWatchman(random_state=SEED),\n",
    "        4: LinearPredictWatchman(random_state=SEED),\n",
    "    },\n",
    "}"
   ]
  },
  {
   "cell_type": "markdown",
   "id": "be4104e1",
   "metadata": {},
   "source": [
    "# Learning"
   ]
  },
  {
   "cell_type": "markdown",
   "id": "8fa34354",
   "metadata": {},
   "source": [
    "## Prefit"
   ]
  },
  {
   "cell_type": "code",
   "execution_count": 9,
   "id": "53beb5b4",
   "metadata": {
    "ExecuteTime": {
     "end_time": "2022-08-31T08:16:39.971411Z",
     "start_time": "2022-08-31T08:14:56.948917Z"
    }
   },
   "outputs": [
    {
     "data": {
      "application/vnd.jupyter.widget-view+json": {
       "model_id": "0fb7eb6156314c678d54dcbd2877d7a3",
       "version_major": 2,
       "version_minor": 0
      },
      "text/plain": [
       "Prefit on train 0: 0it [00:00, ?it/s]"
      ]
     },
     "metadata": {},
     "output_type": "display_data"
    },
    {
     "data": {
      "application/vnd.jupyter.widget-view+json": {
       "model_id": "b64c3d6eb2324d7a8165aad420fa063b",
       "version_major": 2,
       "version_minor": 0
      },
      "text/plain": [
       "Prefit on train 1: 0it [00:00, ?it/s]"
      ]
     },
     "metadata": {},
     "output_type": "display_data"
    },
    {
     "data": {
      "application/vnd.jupyter.widget-view+json": {
       "model_id": "6604959897084b3c84403acbf7ba0233",
       "version_major": 2,
       "version_minor": 0
      },
      "text/plain": [
       "Prefit on train 2: 0it [00:00, ?it/s]"
      ]
     },
     "metadata": {},
     "output_type": "display_data"
    },
    {
     "data": {
      "application/vnd.jupyter.widget-view+json": {
       "model_id": "b2e60cb683574eec95386caabfa7b0cd",
       "version_major": 2,
       "version_minor": 0
      },
      "text/plain": [
       "Prefit on train 3: 0it [00:00, ?it/s]"
      ]
     },
     "metadata": {},
     "output_type": "display_data"
    }
   ],
   "source": [
    "for d in datasets:\n",
    "    datasets[d].shake_not_stir(**shake_kwargs)\n",
    "    for data, _, _ in tqdm(datasets[d].train_generator(), desc=f'Prefit on train {d}'):\n",
    "        for w in watchmen[d]:\n",
    "            watchmen[d][w].prefit(data)"
   ]
  },
  {
   "cell_type": "markdown",
   "id": "77312393",
   "metadata": {},
   "source": [
    "## Fit"
   ]
  },
  {
   "cell_type": "code",
   "execution_count": 10,
   "id": "ea1f2f67",
   "metadata": {
    "ExecuteTime": {
     "end_time": "2022-08-31T08:24:17.719890Z",
     "start_time": "2022-08-31T08:16:43.294033Z"
    }
   },
   "outputs": [
    {
     "data": {
      "application/vnd.jupyter.widget-view+json": {
       "model_id": "06a233a659cb4d5bb949bbd02d05bbb0",
       "version_major": 2,
       "version_minor": 0
      },
      "text/plain": [
       "Fit on train 0: 0it [00:00, ?it/s]"
      ]
     },
     "metadata": {},
     "output_type": "display_data"
    },
    {
     "data": {
      "application/vnd.jupyter.widget-view+json": {
       "model_id": "86783a66608743d4b15279da3e61e410",
       "version_major": 2,
       "version_minor": 0
      },
      "text/plain": [
       "Fit on train 1: 0it [00:00, ?it/s]"
      ]
     },
     "metadata": {},
     "output_type": "display_data"
    },
    {
     "data": {
      "application/vnd.jupyter.widget-view+json": {
       "model_id": "26086d0e13c94105a8aa0ed3dd4fc6b3",
       "version_major": 2,
       "version_minor": 0
      },
      "text/plain": [
       "Fit on train 2: 0it [00:00, ?it/s]"
      ]
     },
     "metadata": {},
     "output_type": "display_data"
    },
    {
     "data": {
      "application/vnd.jupyter.widget-view+json": {
       "model_id": "6a3200f9cdf84acc90915f6f910d0a28",
       "version_major": 2,
       "version_minor": 0
      },
      "text/plain": [
       "Fit on train 3: 0it [00:00, ?it/s]"
      ]
     },
     "metadata": {},
     "output_type": "display_data"
    }
   ],
   "source": [
    "for d in datasets:\n",
    "    datasets[d].shake_not_stir(**shake_kwargs)\n",
    "    for data, _, _ in tqdm(datasets[d].train_generator(), desc=f'Fit on train {d}'):\n",
    "        for w in watchmen[d]:\n",
    "            watchmen[d][w].partial_fit(data)"
   ]
  },
  {
   "cell_type": "markdown",
   "id": "5c728a4c",
   "metadata": {},
   "source": [
    "# Examine"
   ]
  },
  {
   "cell_type": "markdown",
   "id": "05b98514",
   "metadata": {},
   "source": [
    "## Throw stones"
   ]
  },
  {
   "cell_type": "code",
   "execution_count": 11,
   "id": "149642a0",
   "metadata": {
    "ExecuteTime": {
     "end_time": "2022-08-31T08:24:17.735805Z",
     "start_time": "2022-08-31T08:24:17.723662Z"
    }
   },
   "outputs": [],
   "source": [
    "stones = dict()\n",
    "for d in datasets:\n",
    "    stones[d] = dict()\n",
    "    for w in watchmen[d]:\n",
    "        stones[d][w] = list()"
   ]
  },
  {
   "cell_type": "code",
   "execution_count": 12,
   "id": "2eeb2ed3",
   "metadata": {
    "ExecuteTime": {
     "end_time": "2022-08-31T09:16:54.306078Z",
     "start_time": "2022-08-31T08:24:17.739665Z"
    }
   },
   "outputs": [
    {
     "data": {
      "application/vnd.jupyter.widget-view+json": {
       "model_id": "0ada0d7676fa4e88a0f6ded7d9c58138",
       "version_major": 2,
       "version_minor": 0
      },
      "text/plain": [
       "Detect on validation 0: 0it [00:00, ?it/s]"
      ]
     },
     "metadata": {},
     "output_type": "display_data"
    },
    {
     "data": {
      "application/vnd.jupyter.widget-view+json": {
       "model_id": "6cd6e8e005f14ea583585c892413d396",
       "version_major": 2,
       "version_minor": 0
      },
      "text/plain": [
       "Detect on validation 1: 0it [00:00, ?it/s]"
      ]
     },
     "metadata": {},
     "output_type": "display_data"
    },
    {
     "data": {
      "application/vnd.jupyter.widget-view+json": {
       "model_id": "d17d895dbc32430d815334a06dde3298",
       "version_major": 2,
       "version_minor": 0
      },
      "text/plain": [
       "Detect on validation 2: 0it [00:00, ?it/s]"
      ]
     },
     "metadata": {},
     "output_type": "display_data"
    },
    {
     "ename": "KeyboardInterrupt",
     "evalue": "",
     "output_type": "error",
     "traceback": [
      "\u001b[1;31m---------------------------------------------------------------------------\u001b[0m",
      "\u001b[1;31mKeyboardInterrupt\u001b[0m                         Traceback (most recent call last)",
      "Input \u001b[1;32mIn [12]\u001b[0m, in \u001b[0;36m<cell line: 1>\u001b[1;34m()\u001b[0m\n\u001b[0;32m      3\u001b[0m \u001b[38;5;28;01mfor\u001b[39;00m data, faults, info \u001b[38;5;129;01min\u001b[39;00m tqdm(datasets[d]\u001b[38;5;241m.\u001b[39mvalid_generator(), desc\u001b[38;5;241m=\u001b[39m\u001b[38;5;124mf\u001b[39m\u001b[38;5;124m'\u001b[39m\u001b[38;5;124mDetect on validation \u001b[39m\u001b[38;5;132;01m{\u001b[39;00md\u001b[38;5;132;01m}\u001b[39;00m\u001b[38;5;124m'\u001b[39m):\n\u001b[0;32m      4\u001b[0m     \u001b[38;5;28;01mfor\u001b[39;00m w \u001b[38;5;129;01min\u001b[39;00m watchmen[d]:\n\u001b[1;32m----> 5\u001b[0m         detect \u001b[38;5;241m=\u001b[39m \u001b[43mwatchmen\u001b[49m\u001b[43m[\u001b[49m\u001b[43md\u001b[49m\u001b[43m]\u001b[49m\u001b[43m[\u001b[49m\u001b[43mw\u001b[49m\u001b[43m]\u001b[49m\u001b[38;5;241;43m.\u001b[39;49m\u001b[43mpredict\u001b[49m\u001b[43m(\u001b[49m\u001b[43mdata\u001b[49m\u001b[43m)\u001b[49m\n\u001b[0;32m      6\u001b[0m         stones[d][w]\u001b[38;5;241m.\u001b[39mappend(pd\u001b[38;5;241m.\u001b[39mconcat([faults, detect], axis\u001b[38;5;241m=\u001b[39m\u001b[38;5;241m1\u001b[39m))\n\u001b[0;32m      7\u001b[0m         stones[d][w][\u001b[38;5;241m-\u001b[39m\u001b[38;5;241m1\u001b[39m]\u001b[38;5;241m.\u001b[39mindex\u001b[38;5;241m.\u001b[39mname \u001b[38;5;241m=\u001b[39m info\n",
      "File \u001b[1;32m~\\Data_science\\skillfactory_rds\\module_final\\utils\\watchmen.py:242\u001b[0m, in \u001b[0;36mIsolatingWatchman.predict\u001b[1;34m(self, data)\u001b[0m\n\u001b[0;32m    240\u001b[0m \u001b[38;5;28;01mif\u001b[39;00m \u001b[38;5;28mself\u001b[39m\u001b[38;5;241m.\u001b[39mgenerate_stat_features:\n\u001b[0;32m    241\u001b[0m     data \u001b[38;5;241m=\u001b[39m \u001b[38;5;28mself\u001b[39m\u001b[38;5;241m.\u001b[39m_generate_stat_features(data)\n\u001b[1;32m--> 242\u001b[0m result \u001b[38;5;241m=\u001b[39m (pd\u001b[38;5;241m.\u001b[39mSeries(index\u001b[38;5;241m=\u001b[39mdata\u001b[38;5;241m.\u001b[39mindex, data\u001b[38;5;241m=\u001b[39m\u001b[38;5;28;43mself\u001b[39;49m\u001b[38;5;241;43m.\u001b[39;49m\u001b[43mforest\u001b[49m\u001b[38;5;241;43m.\u001b[39;49m\u001b[43mpredict\u001b[49m\u001b[43m(\u001b[49m\u001b[43mdata\u001b[49m\u001b[38;5;241;43m.\u001b[39;49m\u001b[43mvalues\u001b[49m\u001b[43m)\u001b[49m)\n\u001b[0;32m    243\u001b[0m           \u001b[38;5;241m.\u001b[39mreplace({\u001b[38;5;241m1\u001b[39m: \u001b[38;5;241m0\u001b[39m, \u001b[38;5;241m-\u001b[39m\u001b[38;5;241m1\u001b[39m: \u001b[38;5;241m1\u001b[39m})\n\u001b[0;32m    244\u001b[0m           \u001b[38;5;241m.\u001b[39mastype(\u001b[38;5;124m'\u001b[39m\u001b[38;5;124muint8\u001b[39m\u001b[38;5;124m'\u001b[39m)\n\u001b[0;32m    245\u001b[0m           )\n\u001b[0;32m    246\u001b[0m \u001b[38;5;28;01mreturn\u001b[39;00m result\n",
      "File \u001b[1;32m~\\anaconda3\\lib\\site-packages\\sklearn\\ensemble\\_iforest.py:340\u001b[0m, in \u001b[0;36mIsolationForest.predict\u001b[1;34m(self, X)\u001b[0m\n\u001b[0;32m    323\u001b[0m \u001b[38;5;124;03m\"\"\"\u001b[39;00m\n\u001b[0;32m    324\u001b[0m \u001b[38;5;124;03mPredict if a particular sample is an outlier or not.\u001b[39;00m\n\u001b[0;32m    325\u001b[0m \n\u001b[1;32m   (...)\u001b[0m\n\u001b[0;32m    337\u001b[0m \u001b[38;5;124;03m    be considered as an inlier according to the fitted model.\u001b[39;00m\n\u001b[0;32m    338\u001b[0m \u001b[38;5;124;03m\"\"\"\u001b[39;00m\n\u001b[0;32m    339\u001b[0m check_is_fitted(\u001b[38;5;28mself\u001b[39m)\n\u001b[1;32m--> 340\u001b[0m decision_func \u001b[38;5;241m=\u001b[39m \u001b[38;5;28;43mself\u001b[39;49m\u001b[38;5;241;43m.\u001b[39;49m\u001b[43mdecision_function\u001b[49m\u001b[43m(\u001b[49m\u001b[43mX\u001b[49m\u001b[43m)\u001b[49m\n\u001b[0;32m    341\u001b[0m is_inlier \u001b[38;5;241m=\u001b[39m np\u001b[38;5;241m.\u001b[39mones_like(decision_func, dtype\u001b[38;5;241m=\u001b[39m\u001b[38;5;28mint\u001b[39m)\n\u001b[0;32m    342\u001b[0m is_inlier[decision_func \u001b[38;5;241m<\u001b[39m \u001b[38;5;241m0\u001b[39m] \u001b[38;5;241m=\u001b[39m \u001b[38;5;241m-\u001b[39m\u001b[38;5;241m1\u001b[39m\n",
      "File \u001b[1;32m~\\anaconda3\\lib\\site-packages\\sklearn\\ensemble\\_iforest.py:375\u001b[0m, in \u001b[0;36mIsolationForest.decision_function\u001b[1;34m(self, X)\u001b[0m\n\u001b[0;32m    346\u001b[0m \u001b[38;5;124;03m\"\"\"\u001b[39;00m\n\u001b[0;32m    347\u001b[0m \u001b[38;5;124;03mAverage anomaly score of X of the base classifiers.\u001b[39;00m\n\u001b[0;32m    348\u001b[0m \n\u001b[1;32m   (...)\u001b[0m\n\u001b[0;32m    370\u001b[0m \u001b[38;5;124;03m    positive scores represent inliers.\u001b[39;00m\n\u001b[0;32m    371\u001b[0m \u001b[38;5;124;03m\"\"\"\u001b[39;00m\n\u001b[0;32m    372\u001b[0m \u001b[38;5;66;03m# We subtract self.offset_ to make 0 be the threshold value for being\u001b[39;00m\n\u001b[0;32m    373\u001b[0m \u001b[38;5;66;03m# an outlier:\u001b[39;00m\n\u001b[1;32m--> 375\u001b[0m \u001b[38;5;28;01mreturn\u001b[39;00m \u001b[38;5;28;43mself\u001b[39;49m\u001b[38;5;241;43m.\u001b[39;49m\u001b[43mscore_samples\u001b[49m\u001b[43m(\u001b[49m\u001b[43mX\u001b[49m\u001b[43m)\u001b[49m \u001b[38;5;241m-\u001b[39m \u001b[38;5;28mself\u001b[39m\u001b[38;5;241m.\u001b[39moffset_\n",
      "File \u001b[1;32m~\\anaconda3\\lib\\site-packages\\sklearn\\ensemble\\_iforest.py:410\u001b[0m, in \u001b[0;36mIsolationForest.score_samples\u001b[1;34m(self, X)\u001b[0m\n\u001b[0;32m    406\u001b[0m X \u001b[38;5;241m=\u001b[39m \u001b[38;5;28mself\u001b[39m\u001b[38;5;241m.\u001b[39m_validate_data(X, accept_sparse\u001b[38;5;241m=\u001b[39m\u001b[38;5;124m\"\u001b[39m\u001b[38;5;124mcsr\u001b[39m\u001b[38;5;124m\"\u001b[39m, reset\u001b[38;5;241m=\u001b[39m\u001b[38;5;28;01mFalse\u001b[39;00m)\n\u001b[0;32m    408\u001b[0m \u001b[38;5;66;03m# Take the opposite of the scores as bigger is better (here less\u001b[39;00m\n\u001b[0;32m    409\u001b[0m \u001b[38;5;66;03m# abnormal)\u001b[39;00m\n\u001b[1;32m--> 410\u001b[0m \u001b[38;5;28;01mreturn\u001b[39;00m \u001b[38;5;241m-\u001b[39m\u001b[38;5;28;43mself\u001b[39;49m\u001b[38;5;241;43m.\u001b[39;49m\u001b[43m_compute_chunked_score_samples\u001b[49m\u001b[43m(\u001b[49m\u001b[43mX\u001b[49m\u001b[43m)\u001b[49m\n",
      "File \u001b[1;32m~\\anaconda3\\lib\\site-packages\\sklearn\\ensemble\\_iforest.py:441\u001b[0m, in \u001b[0;36mIsolationForest._compute_chunked_score_samples\u001b[1;34m(self, X)\u001b[0m\n\u001b[0;32m    437\u001b[0m scores \u001b[38;5;241m=\u001b[39m np\u001b[38;5;241m.\u001b[39mzeros(n_samples, order\u001b[38;5;241m=\u001b[39m\u001b[38;5;124m\"\u001b[39m\u001b[38;5;124mf\u001b[39m\u001b[38;5;124m\"\u001b[39m)\n\u001b[0;32m    439\u001b[0m \u001b[38;5;28;01mfor\u001b[39;00m sl \u001b[38;5;129;01min\u001b[39;00m slices:\n\u001b[0;32m    440\u001b[0m     \u001b[38;5;66;03m# compute score on the slices of test samples:\u001b[39;00m\n\u001b[1;32m--> 441\u001b[0m     scores[sl] \u001b[38;5;241m=\u001b[39m \u001b[38;5;28;43mself\u001b[39;49m\u001b[38;5;241;43m.\u001b[39;49m\u001b[43m_compute_score_samples\u001b[49m\u001b[43m(\u001b[49m\u001b[43mX\u001b[49m\u001b[43m[\u001b[49m\u001b[43msl\u001b[49m\u001b[43m]\u001b[49m\u001b[43m,\u001b[49m\u001b[43m \u001b[49m\u001b[43msubsample_features\u001b[49m\u001b[43m)\u001b[49m\n\u001b[0;32m    443\u001b[0m \u001b[38;5;28;01mreturn\u001b[39;00m scores\n",
      "File \u001b[1;32m~\\anaconda3\\lib\\site-packages\\sklearn\\ensemble\\_iforest.py:464\u001b[0m, in \u001b[0;36mIsolationForest._compute_score_samples\u001b[1;34m(self, X, subsample_features)\u001b[0m\n\u001b[0;32m    461\u001b[0m \u001b[38;5;28;01mfor\u001b[39;00m tree, features \u001b[38;5;129;01min\u001b[39;00m \u001b[38;5;28mzip\u001b[39m(\u001b[38;5;28mself\u001b[39m\u001b[38;5;241m.\u001b[39mestimators_, \u001b[38;5;28mself\u001b[39m\u001b[38;5;241m.\u001b[39mestimators_features_):\n\u001b[0;32m    462\u001b[0m     X_subset \u001b[38;5;241m=\u001b[39m X[:, features] \u001b[38;5;28;01mif\u001b[39;00m subsample_features \u001b[38;5;28;01melse\u001b[39;00m X\n\u001b[1;32m--> 464\u001b[0m     leaves_index \u001b[38;5;241m=\u001b[39m \u001b[43mtree\u001b[49m\u001b[38;5;241;43m.\u001b[39;49m\u001b[43mapply\u001b[49m\u001b[43m(\u001b[49m\u001b[43mX_subset\u001b[49m\u001b[43m)\u001b[49m\n\u001b[0;32m    465\u001b[0m     node_indicator \u001b[38;5;241m=\u001b[39m tree\u001b[38;5;241m.\u001b[39mdecision_path(X_subset)\n\u001b[0;32m    466\u001b[0m     n_samples_leaf \u001b[38;5;241m=\u001b[39m tree\u001b[38;5;241m.\u001b[39mtree_\u001b[38;5;241m.\u001b[39mn_node_samples[leaves_index]\n",
      "File \u001b[1;32m~\\anaconda3\\lib\\site-packages\\sklearn\\tree\\_classes.py:520\u001b[0m, in \u001b[0;36mBaseDecisionTree.apply\u001b[1;34m(self, X, check_input)\u001b[0m\n\u001b[0;32m    518\u001b[0m check_is_fitted(\u001b[38;5;28mself\u001b[39m)\n\u001b[0;32m    519\u001b[0m X \u001b[38;5;241m=\u001b[39m \u001b[38;5;28mself\u001b[39m\u001b[38;5;241m.\u001b[39m_validate_X_predict(X, check_input)\n\u001b[1;32m--> 520\u001b[0m \u001b[38;5;28;01mreturn\u001b[39;00m \u001b[38;5;28;43mself\u001b[39;49m\u001b[38;5;241;43m.\u001b[39;49m\u001b[43mtree_\u001b[49m\u001b[38;5;241;43m.\u001b[39;49m\u001b[43mapply\u001b[49m\u001b[43m(\u001b[49m\u001b[43mX\u001b[49m\u001b[43m)\u001b[49m\n",
      "\u001b[1;31mKeyboardInterrupt\u001b[0m: "
     ]
    }
   ],
   "source": [
    "for d in datasets:\n",
    "    datasets[d].shake_not_stir(**shake_kwargs)\n",
    "    for data, faults, info in tqdm(datasets[d].valid_generator(), desc=f'Detect on validation {d}'):\n",
    "        for w in watchmen[d]:\n",
    "            detect = watchmen[d][w].predict(data)\n",
    "            stones[d][w].append(pd.concat([faults, detect], axis=1))\n",
    "            stones[d][w][-1].index.name = info"
   ]
  },
  {
   "cell_type": "markdown",
   "id": "1bb3f782",
   "metadata": {},
   "source": [
    "## Individual results"
   ]
  },
  {
   "cell_type": "code",
   "execution_count": 16,
   "id": "e8aa1157",
   "metadata": {
    "ExecuteTime": {
     "end_time": "2022-08-31T09:23:51.443492Z",
     "start_time": "2022-08-31T09:22:16.990181Z"
    }
   },
   "outputs": [],
   "source": [
    "metrics = ('precision', 'recall', 'f1_score')\n",
    "indi_results = dict()\n",
    "for d in datasets:\n",
    "    indi_results[str(datasets[d])] = pd.DataFrame(columns=metrics)\n",
    "    for w in watchmen[d]:\n",
    "        exam_paper = pd.DataFrame(columns=metrics)\n",
    "        for st in stones[d][w]:\n",
    "            exam_paper.loc[st.index.name, metrics] = time_span_metrics(st.iloc[:, 0], st.iloc[:, 1:])\n",
    "        indi_results[str(datasets[d])].loc[str(watchmen[d][w]), metrics] = exam_paper.mean().values"
   ]
  },
  {
   "cell_type": "code",
   "execution_count": 17,
   "id": "4e04072b",
   "metadata": {
    "ExecuteTime": {
     "end_time": "2022-08-31T09:23:51.505535Z",
     "start_time": "2022-08-31T09:23:51.448409Z"
    }
   },
   "outputs": [
    {
     "name": "stdout",
     "output_type": "stream",
     "text": [
      "GhlKasperskyDataset(E:\\Datasets\\GHL)\n"
     ]
    },
    {
     "data": {
      "text/html": [
       "<div>\n",
       "<style scoped>\n",
       "    .dataframe tbody tr th:only-of-type {\n",
       "        vertical-align: middle;\n",
       "    }\n",
       "\n",
       "    .dataframe tbody tr th {\n",
       "        vertical-align: top;\n",
       "    }\n",
       "\n",
       "    .dataframe thead th {\n",
       "        text-align: right;\n",
       "    }\n",
       "</style>\n",
       "<table border=\"1\" class=\"dataframe\">\n",
       "  <thead>\n",
       "    <tr style=\"text-align: right;\">\n",
       "      <th></th>\n",
       "      <th>precision</th>\n",
       "      <th>recall</th>\n",
       "      <th>f1_score</th>\n",
       "    </tr>\n",
       "  </thead>\n",
       "  <tbody>\n",
       "    <tr>\n",
       "      <th>LimitWatchman(ewma=None)</th>\n",
       "      <td>0.207358</td>\n",
       "      <td>0.638095</td>\n",
       "      <td>0.281676</td>\n",
       "    </tr>\n",
       "    <tr>\n",
       "      <th>LimitPcaWatchman(n_components=3)</th>\n",
       "      <td>0.284864</td>\n",
       "      <td>0.328571</td>\n",
       "      <td>0.298718</td>\n",
       "    </tr>\n",
       "    <tr>\n",
       "      <th>SpePcaWatchman(n_components=3)</th>\n",
       "      <td>0.0</td>\n",
       "      <td>0.0</td>\n",
       "      <td>0.0</td>\n",
       "    </tr>\n",
       "    <tr>\n",
       "      <th>IsolatingWatchman(n_trees=17)</th>\n",
       "      <td>0.017045</td>\n",
       "      <td>1.0</td>\n",
       "      <td>0.033429</td>\n",
       "    </tr>\n",
       "    <tr>\n",
       "      <th>LinearPredictWatchman(n_features=12)</th>\n",
       "      <td>0.014094</td>\n",
       "      <td>1.0</td>\n",
       "      <td>0.02773</td>\n",
       "    </tr>\n",
       "  </tbody>\n",
       "</table>\n",
       "</div>"
      ],
      "text/plain": [
       "                                     precision    recall  f1_score\n",
       "LimitWatchman(ewma=None)              0.207358  0.638095  0.281676\n",
       "LimitPcaWatchman(n_components=3)      0.284864  0.328571  0.298718\n",
       "SpePcaWatchman(n_components=3)             0.0       0.0       0.0\n",
       "IsolatingWatchman(n_trees=17)         0.017045       1.0  0.033429\n",
       "LinearPredictWatchman(n_features=12)  0.014094       1.0   0.02773"
      ]
     },
     "metadata": {},
     "output_type": "display_data"
    },
    {
     "name": "stdout",
     "output_type": "stream",
     "text": [
      "TepHarvardDataset(E:\\Datasets\\TEP\\dataverse)\n"
     ]
    },
    {
     "data": {
      "text/html": [
       "<div>\n",
       "<style scoped>\n",
       "    .dataframe tbody tr th:only-of-type {\n",
       "        vertical-align: middle;\n",
       "    }\n",
       "\n",
       "    .dataframe tbody tr th {\n",
       "        vertical-align: top;\n",
       "    }\n",
       "\n",
       "    .dataframe thead th {\n",
       "        text-align: right;\n",
       "    }\n",
       "</style>\n",
       "<table border=\"1\" class=\"dataframe\">\n",
       "  <thead>\n",
       "    <tr style=\"text-align: right;\">\n",
       "      <th></th>\n",
       "      <th>precision</th>\n",
       "      <th>recall</th>\n",
       "      <th>f1_score</th>\n",
       "    </tr>\n",
       "  </thead>\n",
       "  <tbody>\n",
       "    <tr>\n",
       "      <th>LimitWatchman(ewma=3 min)</th>\n",
       "      <td>1.0</td>\n",
       "      <td>0.643558</td>\n",
       "      <td>0.68672</td>\n",
       "    </tr>\n",
       "    <tr>\n",
       "      <th>LimitPcaWatchman(n_components=12)</th>\n",
       "      <td>1.0</td>\n",
       "      <td>0.510827</td>\n",
       "      <td>0.553397</td>\n",
       "    </tr>\n",
       "    <tr>\n",
       "      <th>SpePcaWatchman(n_components=12)</th>\n",
       "      <td>1.0</td>\n",
       "      <td>0.574329</td>\n",
       "      <td>0.611637</td>\n",
       "    </tr>\n",
       "    <tr>\n",
       "      <th>IsolatingWatchman(n_trees=500)</th>\n",
       "      <td>0.845354</td>\n",
       "      <td>0.4658</td>\n",
       "      <td>0.530065</td>\n",
       "    </tr>\n",
       "    <tr>\n",
       "      <th>LinearPredictWatchman(n_features=52)</th>\n",
       "      <td>0.9996</td>\n",
       "      <td>0.750827</td>\n",
       "      <td>0.788164</td>\n",
       "    </tr>\n",
       "  </tbody>\n",
       "</table>\n",
       "</div>"
      ],
      "text/plain": [
       "                                     precision    recall  f1_score\n",
       "LimitWatchman(ewma=3 min)                  1.0  0.643558   0.68672\n",
       "LimitPcaWatchman(n_components=12)          1.0  0.510827  0.553397\n",
       "SpePcaWatchman(n_components=12)            1.0  0.574329  0.611637\n",
       "IsolatingWatchman(n_trees=500)        0.845354    0.4658  0.530065\n",
       "LinearPredictWatchman(n_features=52)    0.9996  0.750827  0.788164"
      ]
     },
     "metadata": {},
     "output_type": "display_data"
    },
    {
     "name": "stdout",
     "output_type": "stream",
     "text": [
      "TepKasperskyDataset(E:\\Datasets\\TEP\\kaspersky)\n"
     ]
    },
    {
     "data": {
      "text/html": [
       "<div>\n",
       "<style scoped>\n",
       "    .dataframe tbody tr th:only-of-type {\n",
       "        vertical-align: middle;\n",
       "    }\n",
       "\n",
       "    .dataframe tbody tr th {\n",
       "        vertical-align: top;\n",
       "    }\n",
       "\n",
       "    .dataframe thead th {\n",
       "        text-align: right;\n",
       "    }\n",
       "</style>\n",
       "<table border=\"1\" class=\"dataframe\">\n",
       "  <thead>\n",
       "    <tr style=\"text-align: right;\">\n",
       "      <th></th>\n",
       "      <th>precision</th>\n",
       "      <th>recall</th>\n",
       "      <th>f1_score</th>\n",
       "    </tr>\n",
       "  </thead>\n",
       "  <tbody>\n",
       "    <tr>\n",
       "      <th>LimitWatchman(ewma=None)</th>\n",
       "      <td>0.547695</td>\n",
       "      <td>0.397086</td>\n",
       "      <td>0.33061</td>\n",
       "    </tr>\n",
       "    <tr>\n",
       "      <th>LimitPcaWatchman(n_components=3)</th>\n",
       "      <td>0.75</td>\n",
       "      <td>0.2</td>\n",
       "      <td>0.2</td>\n",
       "    </tr>\n",
       "    <tr>\n",
       "      <th>SpePcaWatchman(n_components=3)</th>\n",
       "      <td>0.977778</td>\n",
       "      <td>0.210353</td>\n",
       "      <td>0.219549</td>\n",
       "    </tr>\n",
       "    <tr>\n",
       "      <th>IsolatingWatchman(n_trees=400)</th>\n",
       "      <td>0.06954</td>\n",
       "      <td>1.0</td>\n",
       "      <td>0.110505</td>\n",
       "    </tr>\n",
       "    <tr>\n",
       "      <th>LinearPredictWatchman(n_features=53)</th>\n",
       "      <td>0.267029</td>\n",
       "      <td>0.372862</td>\n",
       "      <td>0.184011</td>\n",
       "    </tr>\n",
       "  </tbody>\n",
       "</table>\n",
       "</div>"
      ],
      "text/plain": [
       "                                     precision    recall  f1_score\n",
       "LimitWatchman(ewma=None)              0.547695  0.397086   0.33061\n",
       "LimitPcaWatchman(n_components=3)          0.75       0.2       0.2\n",
       "SpePcaWatchman(n_components=3)        0.977778  0.210353  0.219549\n",
       "IsolatingWatchman(n_trees=400)         0.06954       1.0  0.110505\n",
       "LinearPredictWatchman(n_features=53)  0.267029  0.372862  0.184011"
      ]
     },
     "metadata": {},
     "output_type": "display_data"
    },
    {
     "name": "stdout",
     "output_type": "stream",
     "text": [
      "SwatItrustDataset(E:\\Datasets\\SWaT\\dataset12)\n"
     ]
    },
    {
     "data": {
      "text/html": [
       "<div>\n",
       "<style scoped>\n",
       "    .dataframe tbody tr th:only-of-type {\n",
       "        vertical-align: middle;\n",
       "    }\n",
       "\n",
       "    .dataframe tbody tr th {\n",
       "        vertical-align: top;\n",
       "    }\n",
       "\n",
       "    .dataframe thead th {\n",
       "        text-align: right;\n",
       "    }\n",
       "</style>\n",
       "<table border=\"1\" class=\"dataframe\">\n",
       "  <thead>\n",
       "    <tr style=\"text-align: right;\">\n",
       "      <th></th>\n",
       "      <th>precision</th>\n",
       "      <th>recall</th>\n",
       "      <th>f1_score</th>\n",
       "    </tr>\n",
       "  </thead>\n",
       "  <tbody>\n",
       "    <tr>\n",
       "      <th>LimitWatchman(ewma=None)</th>\n",
       "      <td>NaN</td>\n",
       "      <td>NaN</td>\n",
       "      <td>NaN</td>\n",
       "    </tr>\n",
       "    <tr>\n",
       "      <th>LimitPcaWatchman(n_components=3)</th>\n",
       "      <td>NaN</td>\n",
       "      <td>NaN</td>\n",
       "      <td>NaN</td>\n",
       "    </tr>\n",
       "    <tr>\n",
       "      <th>SpePcaWatchman(n_components=3)</th>\n",
       "      <td>NaN</td>\n",
       "      <td>NaN</td>\n",
       "      <td>NaN</td>\n",
       "    </tr>\n",
       "    <tr>\n",
       "      <th>IsolatingWatchman(n_trees=6)</th>\n",
       "      <td>NaN</td>\n",
       "      <td>NaN</td>\n",
       "      <td>NaN</td>\n",
       "    </tr>\n",
       "    <tr>\n",
       "      <th>LinearPredictWatchman(n_features=51)</th>\n",
       "      <td>NaN</td>\n",
       "      <td>NaN</td>\n",
       "      <td>NaN</td>\n",
       "    </tr>\n",
       "  </tbody>\n",
       "</table>\n",
       "</div>"
      ],
      "text/plain": [
       "                                     precision recall f1_score\n",
       "LimitWatchman(ewma=None)                   NaN    NaN      NaN\n",
       "LimitPcaWatchman(n_components=3)           NaN    NaN      NaN\n",
       "SpePcaWatchman(n_components=3)             NaN    NaN      NaN\n",
       "IsolatingWatchman(n_trees=6)               NaN    NaN      NaN\n",
       "LinearPredictWatchman(n_features=51)       NaN    NaN      NaN"
      ]
     },
     "metadata": {},
     "output_type": "display_data"
    }
   ],
   "source": [
    "for d in indi_results:\n",
    "    print(d)\n",
    "    display(indi_results[d])"
   ]
  },
  {
   "cell_type": "markdown",
   "id": "19aee2a0",
   "metadata": {},
   "source": [
    "## Ensembling results"
   ]
  },
  {
   "cell_type": "markdown",
   "id": "198d46e4",
   "metadata": {},
   "source": [
    "### At least one"
   ]
  },
  {
   "cell_type": "code",
   "execution_count": 26,
   "id": "f5ac600e",
   "metadata": {
    "ExecuteTime": {
     "end_time": "2022-08-31T09:38:54.134997Z",
     "start_time": "2022-08-31T09:38:27.922143Z"
    }
   },
   "outputs": [
    {
     "ename": "IndexError",
     "evalue": "list index out of range",
     "output_type": "error",
     "traceback": [
      "\u001b[1;31m---------------------------------------------------------------------------\u001b[0m",
      "\u001b[1;31mIndexError\u001b[0m                                Traceback (most recent call last)",
      "Input \u001b[1;32mIn [26]\u001b[0m, in \u001b[0;36m<cell line: 3>\u001b[1;34m()\u001b[0m\n\u001b[0;32m      5\u001b[0m exam_paper \u001b[38;5;241m=\u001b[39m pd\u001b[38;5;241m.\u001b[39mDataFrame(columns\u001b[38;5;241m=\u001b[39mmetrics)\n\u001b[0;32m      6\u001b[0m \u001b[38;5;28;01mfor\u001b[39;00m i_st, st \u001b[38;5;129;01min\u001b[39;00m \u001b[38;5;28menumerate\u001b[39m(stones[d][\u001b[38;5;241m0\u001b[39m]):\n\u001b[1;32m----> 7\u001b[0m     detect_union \u001b[38;5;241m=\u001b[39m pd\u001b[38;5;241m.\u001b[39mconcat([stones[d][w][i_st]\u001b[38;5;241m.\u001b[39miloc[:, \u001b[38;5;241m1\u001b[39m:] \u001b[38;5;28;01mfor\u001b[39;00m w \u001b[38;5;129;01min\u001b[39;00m watchmen[d]], axis\u001b[38;5;241m=\u001b[39m\u001b[38;5;241m1\u001b[39m)\n\u001b[0;32m      8\u001b[0m     exam_paper\u001b[38;5;241m.\u001b[39mloc[st\u001b[38;5;241m.\u001b[39mindex\u001b[38;5;241m.\u001b[39mname, metrics] \u001b[38;5;241m=\u001b[39m time_span_metrics(st\u001b[38;5;241m.\u001b[39miloc[:, \u001b[38;5;241m0\u001b[39m], detect_union)\n\u001b[0;32m      9\u001b[0m union_results[\u001b[38;5;28mstr\u001b[39m(datasets[d])]\u001b[38;5;241m.\u001b[39mloc[\u001b[38;5;124m'\u001b[39m\u001b[38;5;124mat_least_one\u001b[39m\u001b[38;5;124m'\u001b[39m, metrics] \u001b[38;5;241m=\u001b[39m exam_paper\u001b[38;5;241m.\u001b[39mmean()\u001b[38;5;241m.\u001b[39mvalues\n",
      "Input \u001b[1;32mIn [26]\u001b[0m, in \u001b[0;36m<listcomp>\u001b[1;34m(.0)\u001b[0m\n\u001b[0;32m      5\u001b[0m exam_paper \u001b[38;5;241m=\u001b[39m pd\u001b[38;5;241m.\u001b[39mDataFrame(columns\u001b[38;5;241m=\u001b[39mmetrics)\n\u001b[0;32m      6\u001b[0m \u001b[38;5;28;01mfor\u001b[39;00m i_st, st \u001b[38;5;129;01min\u001b[39;00m \u001b[38;5;28menumerate\u001b[39m(stones[d][\u001b[38;5;241m0\u001b[39m]):\n\u001b[1;32m----> 7\u001b[0m     detect_union \u001b[38;5;241m=\u001b[39m pd\u001b[38;5;241m.\u001b[39mconcat([\u001b[43mstones\u001b[49m\u001b[43m[\u001b[49m\u001b[43md\u001b[49m\u001b[43m]\u001b[49m\u001b[43m[\u001b[49m\u001b[43mw\u001b[49m\u001b[43m]\u001b[49m\u001b[43m[\u001b[49m\u001b[43mi_st\u001b[49m\u001b[43m]\u001b[49m\u001b[38;5;241m.\u001b[39miloc[:, \u001b[38;5;241m1\u001b[39m:] \u001b[38;5;28;01mfor\u001b[39;00m w \u001b[38;5;129;01min\u001b[39;00m watchmen[d]], axis\u001b[38;5;241m=\u001b[39m\u001b[38;5;241m1\u001b[39m)\n\u001b[0;32m      8\u001b[0m     exam_paper\u001b[38;5;241m.\u001b[39mloc[st\u001b[38;5;241m.\u001b[39mindex\u001b[38;5;241m.\u001b[39mname, metrics] \u001b[38;5;241m=\u001b[39m time_span_metrics(st\u001b[38;5;241m.\u001b[39miloc[:, \u001b[38;5;241m0\u001b[39m], detect_union)\n\u001b[0;32m      9\u001b[0m union_results[\u001b[38;5;28mstr\u001b[39m(datasets[d])]\u001b[38;5;241m.\u001b[39mloc[\u001b[38;5;124m'\u001b[39m\u001b[38;5;124mat_least_one\u001b[39m\u001b[38;5;124m'\u001b[39m, metrics] \u001b[38;5;241m=\u001b[39m exam_paper\u001b[38;5;241m.\u001b[39mmean()\u001b[38;5;241m.\u001b[39mvalues\n",
      "\u001b[1;31mIndexError\u001b[0m: list index out of range"
     ]
    }
   ],
   "source": [
    "metrics = ('precision', 'recall', 'f1_score')\n",
    "union_results = dict()\n",
    "for d in datasets:\n",
    "    union_results[str(datasets[d])] = pd.DataFrame(columns=metrics)\n",
    "    exam_paper = pd.DataFrame(columns=metrics)\n",
    "    for i_st, st in enumerate(stones[d][0]):\n",
    "        detect_union = pd.concat([stones[d][w][i_st].iloc[:, 1:] for w in watchmen[d]], axis=1)\n",
    "        exam_paper.loc[st.index.name, metrics] = time_span_metrics(st.iloc[:, 0], detect_union)\n",
    "    union_results[str(datasets[d])].loc['at_least_one', metrics] = exam_paper.mean().values"
   ]
  },
  {
   "cell_type": "code",
   "execution_count": 27,
   "id": "f60820cf",
   "metadata": {
    "ExecuteTime": {
     "end_time": "2022-08-31T09:39:05.848354Z",
     "start_time": "2022-08-31T09:39:05.799391Z"
    }
   },
   "outputs": [
    {
     "name": "stdout",
     "output_type": "stream",
     "text": [
      "GhlKasperskyDataset(E:\\Datasets\\GHL)\n"
     ]
    },
    {
     "data": {
      "text/html": [
       "<div>\n",
       "<style scoped>\n",
       "    .dataframe tbody tr th:only-of-type {\n",
       "        vertical-align: middle;\n",
       "    }\n",
       "\n",
       "    .dataframe tbody tr th {\n",
       "        vertical-align: top;\n",
       "    }\n",
       "\n",
       "    .dataframe thead th {\n",
       "        text-align: right;\n",
       "    }\n",
       "</style>\n",
       "<table border=\"1\" class=\"dataframe\">\n",
       "  <thead>\n",
       "    <tr style=\"text-align: right;\">\n",
       "      <th></th>\n",
       "      <th>precision</th>\n",
       "      <th>recall</th>\n",
       "      <th>f1_score</th>\n",
       "    </tr>\n",
       "  </thead>\n",
       "  <tbody>\n",
       "    <tr>\n",
       "      <th>at_least_one</th>\n",
       "      <td>0.014094</td>\n",
       "      <td>1.0</td>\n",
       "      <td>0.02773</td>\n",
       "    </tr>\n",
       "  </tbody>\n",
       "</table>\n",
       "</div>"
      ],
      "text/plain": [
       "             precision recall f1_score\n",
       "at_least_one  0.014094    1.0  0.02773"
      ]
     },
     "metadata": {},
     "output_type": "display_data"
    },
    {
     "name": "stdout",
     "output_type": "stream",
     "text": [
      "TepHarvardDataset(E:\\Datasets\\TEP\\dataverse)\n"
     ]
    },
    {
     "data": {
      "text/html": [
       "<div>\n",
       "<style scoped>\n",
       "    .dataframe tbody tr th:only-of-type {\n",
       "        vertical-align: middle;\n",
       "    }\n",
       "\n",
       "    .dataframe tbody tr th {\n",
       "        vertical-align: top;\n",
       "    }\n",
       "\n",
       "    .dataframe thead th {\n",
       "        text-align: right;\n",
       "    }\n",
       "</style>\n",
       "<table border=\"1\" class=\"dataframe\">\n",
       "  <thead>\n",
       "    <tr style=\"text-align: right;\">\n",
       "      <th></th>\n",
       "      <th>precision</th>\n",
       "      <th>recall</th>\n",
       "      <th>f1_score</th>\n",
       "    </tr>\n",
       "  </thead>\n",
       "  <tbody>\n",
       "    <tr>\n",
       "      <th>at_least_one</th>\n",
       "      <td>0.919894</td>\n",
       "      <td>0.789587</td>\n",
       "      <td>0.821137</td>\n",
       "    </tr>\n",
       "  </tbody>\n",
       "</table>\n",
       "</div>"
      ],
      "text/plain": [
       "             precision    recall  f1_score\n",
       "at_least_one  0.919894  0.789587  0.821137"
      ]
     },
     "metadata": {},
     "output_type": "display_data"
    },
    {
     "name": "stdout",
     "output_type": "stream",
     "text": [
      "TepKasperskyDataset(E:\\Datasets\\TEP\\kaspersky)\n"
     ]
    },
    {
     "data": {
      "text/html": [
       "<div>\n",
       "<style scoped>\n",
       "    .dataframe tbody tr th:only-of-type {\n",
       "        vertical-align: middle;\n",
       "    }\n",
       "\n",
       "    .dataframe tbody tr th {\n",
       "        vertical-align: top;\n",
       "    }\n",
       "\n",
       "    .dataframe thead th {\n",
       "        text-align: right;\n",
       "    }\n",
       "</style>\n",
       "<table border=\"1\" class=\"dataframe\">\n",
       "  <thead>\n",
       "    <tr style=\"text-align: right;\">\n",
       "      <th></th>\n",
       "      <th>precision</th>\n",
       "      <th>recall</th>\n",
       "      <th>f1_score</th>\n",
       "    </tr>\n",
       "  </thead>\n",
       "  <tbody>\n",
       "  </tbody>\n",
       "</table>\n",
       "</div>"
      ],
      "text/plain": [
       "Empty DataFrame\n",
       "Columns: [precision, recall, f1_score]\n",
       "Index: []"
      ]
     },
     "metadata": {},
     "output_type": "display_data"
    }
   ],
   "source": [
    "for d in union_results:\n",
    "    print(d)\n",
    "    display(union_results[d])"
   ]
  },
  {
   "cell_type": "markdown",
   "id": "ae0b6609",
   "metadata": {},
   "source": [
    "### Two or more"
   ]
  },
  {
   "cell_type": "markdown",
   "id": "7d90ec12",
   "metadata": {},
   "source": [
    "### Weighted"
   ]
  }
 ],
 "metadata": {
  "kernelspec": {
   "display_name": "Python 3 (ipykernel)",
   "language": "python",
   "name": "python3"
  },
  "language_info": {
   "codemirror_mode": {
    "name": "ipython",
    "version": 3
   },
   "file_extension": ".py",
   "mimetype": "text/x-python",
   "name": "python",
   "nbconvert_exporter": "python",
   "pygments_lexer": "ipython3",
   "version": "3.8.8"
  },
  "toc": {
   "base_numbering": 1,
   "nav_menu": {},
   "number_sections": true,
   "sideBar": true,
   "skip_h1_title": false,
   "title_cell": "Table of Contents",
   "title_sidebar": "Contents",
   "toc_cell": false,
   "toc_position": {
    "height": "calc(100% - 180px)",
    "left": "10px",
    "top": "150px",
    "width": "272.2px"
   },
   "toc_section_display": true,
   "toc_window_display": true
  }
 },
 "nbformat": 4,
 "nbformat_minor": 5
}
