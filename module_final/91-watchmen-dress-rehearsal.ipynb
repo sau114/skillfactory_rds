{
 "cells": [
  {
   "cell_type": "code",
   "execution_count": 1,
   "id": "3afcaa82",
   "metadata": {
    "ExecuteTime": {
     "end_time": "2022-08-31T15:57:04.489780Z",
     "start_time": "2022-08-31T15:57:04.430387Z"
    }
   },
   "outputs": [],
   "source": [
    "!del /Q utils\\__pycache__"
   ]
  },
  {
   "cell_type": "code",
   "execution_count": 2,
   "id": "86b03be5",
   "metadata": {
    "ExecuteTime": {
     "end_time": "2022-08-31T15:57:06.398599Z",
     "start_time": "2022-08-31T15:57:04.492783Z"
    }
   },
   "outputs": [],
   "source": [
    "import pandas as pd\n",
    "from tqdm.notebook import tqdm"
   ]
  },
  {
   "cell_type": "code",
   "execution_count": 3,
   "id": "f34899c4",
   "metadata": {
    "ExecuteTime": {
     "end_time": "2022-08-31T15:57:09.304384Z",
     "start_time": "2022-08-31T15:57:06.401888Z"
    }
   },
   "outputs": [],
   "source": [
    "from utils.datasets import GhlKasperskyDataset, TepHarvardDataset, TepKasperskyDataset, SwatItrustDataset\n",
    "from utils.custom_plots import plot_stacked\n",
    "from utils.metrics import time_span_metrics\n",
    "from utils.watchmen import LimitWatchman, LimitPcaWatchman, SpePcaWatchman, IsolatingWatchman, LinearPredictWatchman"
   ]
  },
  {
   "cell_type": "code",
   "execution_count": 4,
   "id": "f4e9bb0f",
   "metadata": {
    "ExecuteTime": {
     "end_time": "2022-08-31T15:57:09.319802Z",
     "start_time": "2022-08-31T15:57:09.308714Z"
    }
   },
   "outputs": [],
   "source": [
    "SEED = 1729"
   ]
  },
  {
   "cell_type": "markdown",
   "id": "ab2d87dc",
   "metadata": {
    "ExecuteTime": {
     "end_time": "2022-08-19T10:07:19.598656Z",
     "start_time": "2022-08-19T10:07:18.676895Z"
    }
   },
   "source": [
    "# Preparing datasets"
   ]
  },
  {
   "cell_type": "code",
   "execution_count": 5,
   "id": "cb921176",
   "metadata": {
    "ExecuteTime": {
     "end_time": "2022-08-31T15:57:09.383785Z",
     "start_time": "2022-08-31T15:57:09.323716Z"
    }
   },
   "outputs": [],
   "source": [
    "datasets = {\n",
    "    0: GhlKasperskyDataset(),\n",
    "    1: TepHarvardDataset(),\n",
    "    2: TepKasperskyDataset(),\n",
    "    3: SwatItrustDataset(),\n",
    "}"
   ]
  },
  {
   "cell_type": "code",
   "execution_count": 6,
   "id": "fd787944",
   "metadata": {
    "ExecuteTime": {
     "end_time": "2022-08-31T15:57:09.399713Z",
     "start_time": "2022-08-31T15:57:09.386714Z"
    }
   },
   "outputs": [],
   "source": [
    "shake_kwargs = {\n",
    "    'random_state': SEED,\n",
    "    'valid_test_ratio': 0.3,\n",
    "}"
   ]
  },
  {
   "cell_type": "markdown",
   "id": "f007db40",
   "metadata": {},
   "source": [
    "# Preparing watchmen"
   ]
  },
  {
   "cell_type": "code",
   "execution_count": null,
   "id": "d278ff6e",
   "metadata": {},
   "outputs": [],
   "source": []
  },
  {
   "cell_type": "code",
   "execution_count": 7,
   "id": "b5c900e8",
   "metadata": {
    "ExecuteTime": {
     "end_time": "2022-08-31T15:57:09.415245Z",
     "start_time": "2022-08-31T15:57:09.402718Z"
    }
   },
   "outputs": [],
   "source": [
    "watchmen = {\n",
    "    0: {  # GhlKasperskyDataset\n",
    "        0: LimitWatchman(),\n",
    "        1: LimitPcaWatchman(n_components=3),\n",
    "        2: SpePcaWatchman(n_components=3),\n",
    "        3: IsolatingWatchman(random_state=SEED),\n",
    "        4: LinearPredictWatchman(random_state=SEED),\n",
    "    },\n",
    "    1: {  # TepHarvardDataset\n",
    "        0: LimitWatchman(),  # better: ewma='3 min'\n",
    "        1: LimitPcaWatchman(n_components=3),  # better: n_components=12\n",
    "        2: SpePcaWatchman(n_components=3),  # better: n_components=12\n",
    "        3: IsolatingWatchman(random_state=SEED),\n",
    "        4: LinearPredictWatchman(random_state=SEED),\n",
    "    },\n",
    "    2: {  # TepKasperskyDataset\n",
    "        0: LimitWatchman(),\n",
    "        1: LimitPcaWatchman(n_components=3),\n",
    "        2: SpePcaWatchman(n_components=3),\n",
    "        3: IsolatingWatchman(random_state=SEED),\n",
    "        4: LinearPredictWatchman(random_state=SEED),\n",
    "    },\n",
    "    3: {  # SwatItrustDataset\n",
    "        0: LimitWatchman(),\n",
    "        1: LimitPcaWatchman(n_components=3),\n",
    "        2: SpePcaWatchman(n_components=3),\n",
    "        3: IsolatingWatchman(random_state=SEED),\n",
    "        4: LinearPredictWatchman(random_state=SEED),\n",
    "    },\n",
    "}"
   ]
  },
  {
   "cell_type": "markdown",
   "id": "be4104e1",
   "metadata": {},
   "source": [
    "# Learning"
   ]
  },
  {
   "cell_type": "markdown",
   "id": "8fa34354",
   "metadata": {},
   "source": [
    "## Prefit"
   ]
  },
  {
   "cell_type": "code",
   "execution_count": 8,
   "id": "53beb5b4",
   "metadata": {
    "ExecuteTime": {
     "end_time": "2022-08-31T15:57:10.447438Z",
     "start_time": "2022-08-31T15:57:09.418241Z"
    }
   },
   "outputs": [
    {
     "data": {
      "application/vnd.jupyter.widget-view+json": {
       "model_id": "e5d38142835242688b4f0bb70fa27a94",
       "version_major": 2,
       "version_minor": 0
      },
      "text/plain": [
       "Prefit on train 0: 0it [00:00, ?it/s]"
      ]
     },
     "metadata": {},
     "output_type": "display_data"
    },
    {
     "data": {
      "application/vnd.jupyter.widget-view+json": {
       "model_id": "3f093936f1dc4dec939401fc963e089f",
       "version_major": 2,
       "version_minor": 0
      },
      "text/plain": [
       "Prefit on train 3: 0it [00:00, ?it/s]"
      ]
     },
     "metadata": {},
     "output_type": "display_data"
    }
   ],
   "source": [
    "for d in datasets:\n",
    "    datasets[d].shake_not_stir(**shake_kwargs)\n",
    "    for data, _, _ in tqdm(datasets[d].train_generator(), desc=f'Prefit on train {d}'):\n",
    "        for w in watchmen[d]:\n",
    "            watchmen[d][w].prefit(data)"
   ]
  },
  {
   "cell_type": "markdown",
   "id": "77312393",
   "metadata": {},
   "source": [
    "## Fit"
   ]
  },
  {
   "cell_type": "code",
   "execution_count": 9,
   "id": "ea1f2f67",
   "metadata": {
    "ExecuteTime": {
     "end_time": "2022-08-31T15:57:14.596585Z",
     "start_time": "2022-08-31T15:57:10.450430Z"
    }
   },
   "outputs": [
    {
     "data": {
      "application/vnd.jupyter.widget-view+json": {
       "model_id": "34c26241846f4a469553ed636d7c01df",
       "version_major": 2,
       "version_minor": 0
      },
      "text/plain": [
       "Fit on train 0: 0it [00:00, ?it/s]"
      ]
     },
     "metadata": {},
     "output_type": "display_data"
    },
    {
     "data": {
      "application/vnd.jupyter.widget-view+json": {
       "model_id": "ea98a368606a49c1a17f829cd3835d4b",
       "version_major": 2,
       "version_minor": 0
      },
      "text/plain": [
       "Fit on train 3: 0it [00:00, ?it/s]"
      ]
     },
     "metadata": {},
     "output_type": "display_data"
    }
   ],
   "source": [
    "for d in datasets:\n",
    "    datasets[d].shake_not_stir(**shake_kwargs)\n",
    "    for data, _, _ in tqdm(datasets[d].train_generator(), desc=f'Fit on train {d}'):\n",
    "        for w in watchmen[d]:\n",
    "            watchmen[d][w].partial_fit(data)"
   ]
  },
  {
   "cell_type": "markdown",
   "id": "5c728a4c",
   "metadata": {},
   "source": [
    "# Examine"
   ]
  },
  {
   "cell_type": "markdown",
   "id": "05b98514",
   "metadata": {},
   "source": [
    "## Throw stones"
   ]
  },
  {
   "cell_type": "code",
   "execution_count": 10,
   "id": "149642a0",
   "metadata": {
    "ExecuteTime": {
     "end_time": "2022-08-31T15:57:14.611527Z",
     "start_time": "2022-08-31T15:57:14.599530Z"
    }
   },
   "outputs": [],
   "source": [
    "stones = dict()\n",
    "for d in datasets:\n",
    "    stones[d] = dict()\n",
    "    for w in watchmen[d]:\n",
    "        stones[d][w] = list()"
   ]
  },
  {
   "cell_type": "code",
   "execution_count": 11,
   "id": "2eeb2ed3",
   "metadata": {
    "ExecuteTime": {
     "end_time": "2022-08-31T15:57:17.616019Z",
     "start_time": "2022-08-31T15:57:14.614529Z"
    }
   },
   "outputs": [
    {
     "data": {
      "application/vnd.jupyter.widget-view+json": {
       "model_id": "1563e9a3818748bfbcfa8d139a3a376a",
       "version_major": 2,
       "version_minor": 0
      },
      "text/plain": [
       "Detect on validation 0: 0it [00:00, ?it/s]"
      ]
     },
     "metadata": {},
     "output_type": "display_data"
    },
    {
     "data": {
      "application/vnd.jupyter.widget-view+json": {
       "model_id": "ccf129b076fc489a86f414c0d700e48f",
       "version_major": 2,
       "version_minor": 0
      },
      "text/plain": [
       "Detect on validation 3: 0it [00:00, ?it/s]"
      ]
     },
     "metadata": {},
     "output_type": "display_data"
    }
   ],
   "source": [
    "for d in datasets:\n",
    "    datasets[d].shake_not_stir(**shake_kwargs)\n",
    "    for data, faults, info in tqdm(datasets[d].valid_generator(), desc=f'Detect on validation {d}'):\n",
    "        for w in watchmen[d]:\n",
    "            detect = watchmen[d][w].predict(data)\n",
    "            stones[d][w].append(pd.concat([faults, detect], axis=1))\n",
    "            stones[d][w][-1].index.name = info"
   ]
  },
  {
   "cell_type": "markdown",
   "id": "1bb3f782",
   "metadata": {},
   "source": [
    "## Individual results"
   ]
  },
  {
   "cell_type": "code",
   "execution_count": 12,
   "id": "e8aa1157",
   "metadata": {
    "ExecuteTime": {
     "end_time": "2022-08-31T15:57:18.250686Z",
     "start_time": "2022-08-31T15:57:17.619021Z"
    }
   },
   "outputs": [],
   "source": [
    "metrics = ('precision', 'recall', 'f1_score')\n",
    "indi_results = dict()\n",
    "for d in datasets:\n",
    "    indi_results[str(datasets[d])] = pd.DataFrame(columns=metrics)\n",
    "    for w in watchmen[d]:\n",
    "        exam_paper = pd.DataFrame(columns=metrics)\n",
    "        for st in stones[d][w]:\n",
    "            exam_paper.loc[st.index.name, metrics] = time_span_metrics(st.iloc[:, 0], st.iloc[:, 1:])\n",
    "        indi_results[str(datasets[d])].loc[str(watchmen[d][w]), metrics] = exam_paper.mean().values"
   ]
  },
  {
   "cell_type": "code",
   "execution_count": 13,
   "id": "4e04072b",
   "metadata": {
    "ExecuteTime": {
     "end_time": "2022-08-31T15:57:18.313850Z",
     "start_time": "2022-08-31T15:57:18.255868Z"
    }
   },
   "outputs": [
    {
     "name": "stdout",
     "output_type": "stream",
     "text": [
      "GhlKasperskyDataset(E:\\Datasets\\GHL)\n"
     ]
    },
    {
     "data": {
      "text/html": [
       "<div>\n",
       "<style scoped>\n",
       "    .dataframe tbody tr th:only-of-type {\n",
       "        vertical-align: middle;\n",
       "    }\n",
       "\n",
       "    .dataframe tbody tr th {\n",
       "        vertical-align: top;\n",
       "    }\n",
       "\n",
       "    .dataframe thead th {\n",
       "        text-align: right;\n",
       "    }\n",
       "</style>\n",
       "<table border=\"1\" class=\"dataframe\">\n",
       "  <thead>\n",
       "    <tr style=\"text-align: right;\">\n",
       "      <th></th>\n",
       "      <th>precision</th>\n",
       "      <th>recall</th>\n",
       "      <th>f1_score</th>\n",
       "    </tr>\n",
       "  </thead>\n",
       "  <tbody>\n",
       "    <tr>\n",
       "      <th>LimitWatchman(ewma=None)</th>\n",
       "      <td>0.207358</td>\n",
       "      <td>0.638095</td>\n",
       "      <td>0.281676</td>\n",
       "    </tr>\n",
       "    <tr>\n",
       "      <th>LimitPcaWatchman(n_components=3)</th>\n",
       "      <td>0.284864</td>\n",
       "      <td>0.328571</td>\n",
       "      <td>0.298718</td>\n",
       "    </tr>\n",
       "    <tr>\n",
       "      <th>SpePcaWatchman(n_components=3)</th>\n",
       "      <td>0.0</td>\n",
       "      <td>0.0</td>\n",
       "      <td>0.0</td>\n",
       "    </tr>\n",
       "    <tr>\n",
       "      <th>IsolatingWatchman(n_trees=17)</th>\n",
       "      <td>0.017045</td>\n",
       "      <td>1.0</td>\n",
       "      <td>0.033429</td>\n",
       "    </tr>\n",
       "    <tr>\n",
       "      <th>LinearPredictWatchman(n_features=12)</th>\n",
       "      <td>0.014094</td>\n",
       "      <td>1.0</td>\n",
       "      <td>0.02773</td>\n",
       "    </tr>\n",
       "  </tbody>\n",
       "</table>\n",
       "</div>"
      ],
      "text/plain": [
       "                                     precision    recall  f1_score\n",
       "LimitWatchman(ewma=None)              0.207358  0.638095  0.281676\n",
       "LimitPcaWatchman(n_components=3)      0.284864  0.328571  0.298718\n",
       "SpePcaWatchman(n_components=3)             0.0       0.0       0.0\n",
       "IsolatingWatchman(n_trees=17)         0.017045       1.0  0.033429\n",
       "LinearPredictWatchman(n_features=12)  0.014094       1.0   0.02773"
      ]
     },
     "metadata": {},
     "output_type": "display_data"
    },
    {
     "name": "stdout",
     "output_type": "stream",
     "text": [
      "SwatItrustDataset(E:\\Datasets\\SWaT\\dataset12)\n"
     ]
    },
    {
     "data": {
      "text/html": [
       "<div>\n",
       "<style scoped>\n",
       "    .dataframe tbody tr th:only-of-type {\n",
       "        vertical-align: middle;\n",
       "    }\n",
       "\n",
       "    .dataframe tbody tr th {\n",
       "        vertical-align: top;\n",
       "    }\n",
       "\n",
       "    .dataframe thead th {\n",
       "        text-align: right;\n",
       "    }\n",
       "</style>\n",
       "<table border=\"1\" class=\"dataframe\">\n",
       "  <thead>\n",
       "    <tr style=\"text-align: right;\">\n",
       "      <th></th>\n",
       "      <th>precision</th>\n",
       "      <th>recall</th>\n",
       "      <th>f1_score</th>\n",
       "    </tr>\n",
       "  </thead>\n",
       "  <tbody>\n",
       "    <tr>\n",
       "      <th>LimitWatchman(ewma=None)</th>\n",
       "      <td>0.226415</td>\n",
       "      <td>1.0</td>\n",
       "      <td>0.369231</td>\n",
       "    </tr>\n",
       "    <tr>\n",
       "      <th>LimitPcaWatchman(n_components=3)</th>\n",
       "      <td>NaN</td>\n",
       "      <td>0.0</td>\n",
       "      <td>0.0</td>\n",
       "    </tr>\n",
       "    <tr>\n",
       "      <th>SpePcaWatchman(n_components=3)</th>\n",
       "      <td>NaN</td>\n",
       "      <td>0.0</td>\n",
       "      <td>0.0</td>\n",
       "    </tr>\n",
       "    <tr>\n",
       "      <th>IsolatingWatchman(n_trees=6)</th>\n",
       "      <td>0.222222</td>\n",
       "      <td>1.0</td>\n",
       "      <td>0.363636</td>\n",
       "    </tr>\n",
       "    <tr>\n",
       "      <th>LinearPredictWatchman(n_features=51)</th>\n",
       "      <td>0.375</td>\n",
       "      <td>0.25</td>\n",
       "      <td>0.3</td>\n",
       "    </tr>\n",
       "  </tbody>\n",
       "</table>\n",
       "</div>"
      ],
      "text/plain": [
       "                                     precision recall  f1_score\n",
       "LimitWatchman(ewma=None)              0.226415    1.0  0.369231\n",
       "LimitPcaWatchman(n_components=3)           NaN    0.0       0.0\n",
       "SpePcaWatchman(n_components=3)             NaN    0.0       0.0\n",
       "IsolatingWatchman(n_trees=6)          0.222222    1.0  0.363636\n",
       "LinearPredictWatchman(n_features=51)     0.375   0.25       0.3"
      ]
     },
     "metadata": {},
     "output_type": "display_data"
    }
   ],
   "source": [
    "for d in indi_results:\n",
    "    print(d)\n",
    "    display(indi_results[d])"
   ]
  },
  {
   "cell_type": "markdown",
   "id": "19aee2a0",
   "metadata": {},
   "source": [
    "## Ensembling results"
   ]
  },
  {
   "cell_type": "markdown",
   "id": "198d46e4",
   "metadata": {},
   "source": [
    "### Threshold\n",
    "Watchman can detect anomaly by several features."
   ]
  },
  {
   "cell_type": "code",
   "execution_count": 50,
   "id": "f5ac600e",
   "metadata": {
    "ExecuteTime": {
     "end_time": "2022-08-31T16:36:19.552866Z",
     "start_time": "2022-08-31T16:36:18.768959Z"
    }
   },
   "outputs": [],
   "source": [
    "metrics = ('precision', 'recall', 'f1_score')\n",
    "union_results = dict()\n",
    "max_threshold = 10\n",
    "for d in datasets:\n",
    "    union_results[str(datasets[d])] = pd.DataFrame(columns=metrics)\n",
    "    exam_papers = dict()\n",
    "    for threshold in range(1, max_threshold+1):\n",
    "        exam_papers[threshold] = pd.DataFrame(columns=metrics)\n",
    "    for i_st, st in enumerate(stones[d][0]):\n",
    "        opinions = pd.concat([stones[d][w][i_st].iloc[:, 1:].sum(axis=1) for w in watchmen[d]], axis=1)\n",
    "        for threshold in range(1, max_threshold+1):\n",
    "            detect = (opinions.sum(axis=1) >= threshold).astype('uint8')\n",
    "            exam_papers[threshold].loc[i_st, metrics] = time_span_metrics(st.iloc[:, 0], detect)\n",
    "    for threshold in range(1, max_threshold+1):\n",
    "        union_results[str(datasets[d])].loc[threshold, metrics] = exam_papers[threshold].mean().values"
   ]
  },
  {
   "cell_type": "code",
   "execution_count": 51,
   "id": "f60820cf",
   "metadata": {
    "ExecuteTime": {
     "end_time": "2022-08-31T16:36:19.649706Z",
     "start_time": "2022-08-31T16:36:19.615641Z"
    }
   },
   "outputs": [
    {
     "name": "stdout",
     "output_type": "stream",
     "text": [
      "GhlKasperskyDataset(E:\\Datasets\\GHL)\n"
     ]
    },
    {
     "data": {
      "text/html": [
       "<div>\n",
       "<style scoped>\n",
       "    .dataframe tbody tr th:only-of-type {\n",
       "        vertical-align: middle;\n",
       "    }\n",
       "\n",
       "    .dataframe tbody tr th {\n",
       "        vertical-align: top;\n",
       "    }\n",
       "\n",
       "    .dataframe thead th {\n",
       "        text-align: right;\n",
       "    }\n",
       "</style>\n",
       "<table border=\"1\" class=\"dataframe\">\n",
       "  <thead>\n",
       "    <tr style=\"text-align: right;\">\n",
       "      <th></th>\n",
       "      <th>precision</th>\n",
       "      <th>recall</th>\n",
       "      <th>f1_score</th>\n",
       "    </tr>\n",
       "  </thead>\n",
       "  <tbody>\n",
       "    <tr>\n",
       "      <th>1</th>\n",
       "      <td>0.014094</td>\n",
       "      <td>1.0</td>\n",
       "      <td>0.02773</td>\n",
       "    </tr>\n",
       "    <tr>\n",
       "      <th>2</th>\n",
       "      <td>0.016777</td>\n",
       "      <td>1.0</td>\n",
       "      <td>0.032914</td>\n",
       "    </tr>\n",
       "    <tr>\n",
       "      <th>3</th>\n",
       "      <td>0.187554</td>\n",
       "      <td>0.666667</td>\n",
       "      <td>0.275014</td>\n",
       "    </tr>\n",
       "    <tr>\n",
       "      <th>4</th>\n",
       "      <td>0.292491</td>\n",
       "      <td>0.3</td>\n",
       "      <td>0.278211</td>\n",
       "    </tr>\n",
       "    <tr>\n",
       "      <th>5</th>\n",
       "      <td>NaN</td>\n",
       "      <td>0.0</td>\n",
       "      <td>0.0</td>\n",
       "    </tr>\n",
       "    <tr>\n",
       "      <th>6</th>\n",
       "      <td>NaN</td>\n",
       "      <td>0.0</td>\n",
       "      <td>0.0</td>\n",
       "    </tr>\n",
       "    <tr>\n",
       "      <th>7</th>\n",
       "      <td>NaN</td>\n",
       "      <td>0.0</td>\n",
       "      <td>0.0</td>\n",
       "    </tr>\n",
       "    <tr>\n",
       "      <th>8</th>\n",
       "      <td>NaN</td>\n",
       "      <td>0.0</td>\n",
       "      <td>0.0</td>\n",
       "    </tr>\n",
       "    <tr>\n",
       "      <th>9</th>\n",
       "      <td>NaN</td>\n",
       "      <td>0.0</td>\n",
       "      <td>0.0</td>\n",
       "    </tr>\n",
       "    <tr>\n",
       "      <th>10</th>\n",
       "      <td>NaN</td>\n",
       "      <td>0.0</td>\n",
       "      <td>0.0</td>\n",
       "    </tr>\n",
       "  </tbody>\n",
       "</table>\n",
       "</div>"
      ],
      "text/plain": [
       "   precision    recall  f1_score\n",
       "1   0.014094       1.0   0.02773\n",
       "2   0.016777       1.0  0.032914\n",
       "3   0.187554  0.666667  0.275014\n",
       "4   0.292491       0.3  0.278211\n",
       "5        NaN       0.0       0.0\n",
       "6        NaN       0.0       0.0\n",
       "7        NaN       0.0       0.0\n",
       "8        NaN       0.0       0.0\n",
       "9        NaN       0.0       0.0\n",
       "10       NaN       0.0       0.0"
      ]
     },
     "metadata": {},
     "output_type": "display_data"
    },
    {
     "name": "stdout",
     "output_type": "stream",
     "text": [
      "SwatItrustDataset(E:\\Datasets\\SWaT\\dataset12)\n"
     ]
    },
    {
     "data": {
      "text/html": [
       "<div>\n",
       "<style scoped>\n",
       "    .dataframe tbody tr th:only-of-type {\n",
       "        vertical-align: middle;\n",
       "    }\n",
       "\n",
       "    .dataframe tbody tr th {\n",
       "        vertical-align: top;\n",
       "    }\n",
       "\n",
       "    .dataframe thead th {\n",
       "        text-align: right;\n",
       "    }\n",
       "</style>\n",
       "<table border=\"1\" class=\"dataframe\">\n",
       "  <thead>\n",
       "    <tr style=\"text-align: right;\">\n",
       "      <th></th>\n",
       "      <th>precision</th>\n",
       "      <th>recall</th>\n",
       "      <th>f1_score</th>\n",
       "    </tr>\n",
       "  </thead>\n",
       "  <tbody>\n",
       "    <tr>\n",
       "      <th>1</th>\n",
       "      <td>0.164303</td>\n",
       "      <td>1.0</td>\n",
       "      <td>0.277972</td>\n",
       "    </tr>\n",
       "    <tr>\n",
       "      <th>2</th>\n",
       "      <td>0.184636</td>\n",
       "      <td>0.95</td>\n",
       "      <td>0.307903</td>\n",
       "    </tr>\n",
       "    <tr>\n",
       "      <th>3</th>\n",
       "      <td>0.361111</td>\n",
       "      <td>0.416667</td>\n",
       "      <td>0.383333</td>\n",
       "    </tr>\n",
       "    <tr>\n",
       "      <th>4</th>\n",
       "      <td>0.666667</td>\n",
       "      <td>0.275</td>\n",
       "      <td>0.373626</td>\n",
       "    </tr>\n",
       "    <tr>\n",
       "      <th>5</th>\n",
       "      <td>0.714286</td>\n",
       "      <td>0.225</td>\n",
       "      <td>0.324561</td>\n",
       "    </tr>\n",
       "    <tr>\n",
       "      <th>6</th>\n",
       "      <td>1.0</td>\n",
       "      <td>0.183333</td>\n",
       "      <td>0.309524</td>\n",
       "    </tr>\n",
       "    <tr>\n",
       "      <th>7</th>\n",
       "      <td>1.0</td>\n",
       "      <td>0.091667</td>\n",
       "      <td>0.167832</td>\n",
       "    </tr>\n",
       "    <tr>\n",
       "      <th>8</th>\n",
       "      <td>1.0</td>\n",
       "      <td>0.091667</td>\n",
       "      <td>0.167832</td>\n",
       "    </tr>\n",
       "    <tr>\n",
       "      <th>9</th>\n",
       "      <td>1.0</td>\n",
       "      <td>0.091667</td>\n",
       "      <td>0.167832</td>\n",
       "    </tr>\n",
       "    <tr>\n",
       "      <th>10</th>\n",
       "      <td>1.0</td>\n",
       "      <td>0.091667</td>\n",
       "      <td>0.167832</td>\n",
       "    </tr>\n",
       "  </tbody>\n",
       "</table>\n",
       "</div>"
      ],
      "text/plain": [
       "   precision    recall  f1_score\n",
       "1   0.164303       1.0  0.277972\n",
       "2   0.184636      0.95  0.307903\n",
       "3   0.361111  0.416667  0.383333\n",
       "4   0.666667     0.275  0.373626\n",
       "5   0.714286     0.225  0.324561\n",
       "6        1.0  0.183333  0.309524\n",
       "7        1.0  0.091667  0.167832\n",
       "8        1.0  0.091667  0.167832\n",
       "9        1.0  0.091667  0.167832\n",
       "10       1.0  0.091667  0.167832"
      ]
     },
     "metadata": {},
     "output_type": "display_data"
    }
   ],
   "source": [
    "for d in union_results:\n",
    "    print(d)\n",
    "    display(union_results[d])"
   ]
  },
  {
   "cell_type": "markdown",
   "id": "ae0b6609",
   "metadata": {},
   "source": [
    "### Probability\n",
    "Something like probabilty for every watchman."
   ]
  },
  {
   "cell_type": "code",
   "execution_count": 56,
   "id": "84118fcc",
   "metadata": {
    "ExecuteTime": {
     "end_time": "2022-08-31T16:41:08.614700Z",
     "start_time": "2022-08-31T16:41:07.863513Z"
    }
   },
   "outputs": [],
   "source": [
    "metrics = ('precision', 'recall', 'f1_score')\n",
    "union_results = dict()\n",
    "for d in datasets:\n",
    "    union_results[str(datasets[d])] = pd.DataFrame(columns=metrics)\n",
    "    exam_papers = dict()\n",
    "    for threshold in range(5, 51, 5):\n",
    "        exam_papers[threshold] = pd.DataFrame(columns=metrics)\n",
    "    for i_st, st in enumerate(stones[d][0]):\n",
    "        opinions = pd.concat([stones[d][w][i_st].iloc[:, 1:].mean(axis=1) for w in watchmen[d]], axis=1)\n",
    "        for threshold in range(5, 51, 5):\n",
    "            detect = (opinions.sum(axis=1) >= threshold*0.01).astype('uint8')\n",
    "            exam_papers[threshold].loc[i_st, metrics] = time_span_metrics(st.iloc[:, 0], detect)\n",
    "    for threshold in range(5, 51, 5):\n",
    "        union_results[str(datasets[d])].loc[threshold*0.01, metrics] = exam_papers[threshold].mean().values"
   ]
  },
  {
   "cell_type": "code",
   "execution_count": 57,
   "id": "b2dcb051",
   "metadata": {
    "ExecuteTime": {
     "end_time": "2022-08-31T16:41:08.645685Z",
     "start_time": "2022-08-31T16:41:08.618528Z"
    }
   },
   "outputs": [
    {
     "name": "stdout",
     "output_type": "stream",
     "text": [
      "GhlKasperskyDataset(E:\\Datasets\\GHL)\n"
     ]
    },
    {
     "data": {
      "text/html": [
       "<div>\n",
       "<style scoped>\n",
       "    .dataframe tbody tr th:only-of-type {\n",
       "        vertical-align: middle;\n",
       "    }\n",
       "\n",
       "    .dataframe tbody tr th {\n",
       "        vertical-align: top;\n",
       "    }\n",
       "\n",
       "    .dataframe thead th {\n",
       "        text-align: right;\n",
       "    }\n",
       "</style>\n",
       "<table border=\"1\" class=\"dataframe\">\n",
       "  <thead>\n",
       "    <tr style=\"text-align: right;\">\n",
       "      <th></th>\n",
       "      <th>precision</th>\n",
       "      <th>recall</th>\n",
       "      <th>f1_score</th>\n",
       "    </tr>\n",
       "  </thead>\n",
       "  <tbody>\n",
       "    <tr>\n",
       "      <th>0.05</th>\n",
       "      <td>0.014094</td>\n",
       "      <td>1.0</td>\n",
       "      <td>0.02773</td>\n",
       "    </tr>\n",
       "    <tr>\n",
       "      <th>0.10</th>\n",
       "      <td>0.016777</td>\n",
       "      <td>1.0</td>\n",
       "      <td>0.032914</td>\n",
       "    </tr>\n",
       "    <tr>\n",
       "      <th>0.15</th>\n",
       "      <td>0.016777</td>\n",
       "      <td>1.0</td>\n",
       "      <td>0.032914</td>\n",
       "    </tr>\n",
       "    <tr>\n",
       "      <th>0.20</th>\n",
       "      <td>0.016954</td>\n",
       "      <td>1.0</td>\n",
       "      <td>0.033254</td>\n",
       "    </tr>\n",
       "    <tr>\n",
       "      <th>0.25</th>\n",
       "      <td>0.016998</td>\n",
       "      <td>1.0</td>\n",
       "      <td>0.03334</td>\n",
       "    </tr>\n",
       "    <tr>\n",
       "      <th>0.30</th>\n",
       "      <td>0.016998</td>\n",
       "      <td>1.0</td>\n",
       "      <td>0.03334</td>\n",
       "    </tr>\n",
       "    <tr>\n",
       "      <th>0.35</th>\n",
       "      <td>0.016998</td>\n",
       "      <td>1.0</td>\n",
       "      <td>0.03334</td>\n",
       "    </tr>\n",
       "    <tr>\n",
       "      <th>0.40</th>\n",
       "      <td>0.016998</td>\n",
       "      <td>1.0</td>\n",
       "      <td>0.03334</td>\n",
       "    </tr>\n",
       "    <tr>\n",
       "      <th>0.45</th>\n",
       "      <td>0.01704</td>\n",
       "      <td>1.0</td>\n",
       "      <td>0.03342</td>\n",
       "    </tr>\n",
       "    <tr>\n",
       "      <th>0.50</th>\n",
       "      <td>0.017045</td>\n",
       "      <td>1.0</td>\n",
       "      <td>0.033429</td>\n",
       "    </tr>\n",
       "  </tbody>\n",
       "</table>\n",
       "</div>"
      ],
      "text/plain": [
       "     precision recall  f1_score\n",
       "0.05  0.014094    1.0   0.02773\n",
       "0.10  0.016777    1.0  0.032914\n",
       "0.15  0.016777    1.0  0.032914\n",
       "0.20  0.016954    1.0  0.033254\n",
       "0.25  0.016998    1.0   0.03334\n",
       "0.30  0.016998    1.0   0.03334\n",
       "0.35  0.016998    1.0   0.03334\n",
       "0.40  0.016998    1.0   0.03334\n",
       "0.45   0.01704    1.0   0.03342\n",
       "0.50  0.017045    1.0  0.033429"
      ]
     },
     "metadata": {},
     "output_type": "display_data"
    },
    {
     "name": "stdout",
     "output_type": "stream",
     "text": [
      "SwatItrustDataset(E:\\Datasets\\SWaT\\dataset12)\n"
     ]
    },
    {
     "data": {
      "text/html": [
       "<div>\n",
       "<style scoped>\n",
       "    .dataframe tbody tr th:only-of-type {\n",
       "        vertical-align: middle;\n",
       "    }\n",
       "\n",
       "    .dataframe tbody tr th {\n",
       "        vertical-align: top;\n",
       "    }\n",
       "\n",
       "    .dataframe thead th {\n",
       "        text-align: right;\n",
       "    }\n",
       "</style>\n",
       "<table border=\"1\" class=\"dataframe\">\n",
       "  <thead>\n",
       "    <tr style=\"text-align: right;\">\n",
       "      <th></th>\n",
       "      <th>precision</th>\n",
       "      <th>recall</th>\n",
       "      <th>f1_score</th>\n",
       "    </tr>\n",
       "  </thead>\n",
       "  <tbody>\n",
       "    <tr>\n",
       "      <th>0.05</th>\n",
       "      <td>0.164303</td>\n",
       "      <td>1.0</td>\n",
       "      <td>0.277972</td>\n",
       "    </tr>\n",
       "    <tr>\n",
       "      <th>0.10</th>\n",
       "      <td>0.164303</td>\n",
       "      <td>1.0</td>\n",
       "      <td>0.277972</td>\n",
       "    </tr>\n",
       "    <tr>\n",
       "      <th>0.15</th>\n",
       "      <td>0.164303</td>\n",
       "      <td>1.0</td>\n",
       "      <td>0.277972</td>\n",
       "    </tr>\n",
       "    <tr>\n",
       "      <th>0.20</th>\n",
       "      <td>0.164303</td>\n",
       "      <td>1.0</td>\n",
       "      <td>0.277972</td>\n",
       "    </tr>\n",
       "    <tr>\n",
       "      <th>0.25</th>\n",
       "      <td>0.164303</td>\n",
       "      <td>1.0</td>\n",
       "      <td>0.277972</td>\n",
       "    </tr>\n",
       "    <tr>\n",
       "      <th>0.30</th>\n",
       "      <td>0.164303</td>\n",
       "      <td>1.0</td>\n",
       "      <td>0.277972</td>\n",
       "    </tr>\n",
       "    <tr>\n",
       "      <th>0.35</th>\n",
       "      <td>0.164303</td>\n",
       "      <td>1.0</td>\n",
       "      <td>0.277972</td>\n",
       "    </tr>\n",
       "    <tr>\n",
       "      <th>0.40</th>\n",
       "      <td>0.164303</td>\n",
       "      <td>1.0</td>\n",
       "      <td>0.277972</td>\n",
       "    </tr>\n",
       "    <tr>\n",
       "      <th>0.45</th>\n",
       "      <td>0.164303</td>\n",
       "      <td>1.0</td>\n",
       "      <td>0.277972</td>\n",
       "    </tr>\n",
       "    <tr>\n",
       "      <th>0.50</th>\n",
       "      <td>0.164303</td>\n",
       "      <td>1.0</td>\n",
       "      <td>0.277972</td>\n",
       "    </tr>\n",
       "  </tbody>\n",
       "</table>\n",
       "</div>"
      ],
      "text/plain": [
       "     precision recall  f1_score\n",
       "0.05  0.164303    1.0  0.277972\n",
       "0.10  0.164303    1.0  0.277972\n",
       "0.15  0.164303    1.0  0.277972\n",
       "0.20  0.164303    1.0  0.277972\n",
       "0.25  0.164303    1.0  0.277972\n",
       "0.30  0.164303    1.0  0.277972\n",
       "0.35  0.164303    1.0  0.277972\n",
       "0.40  0.164303    1.0  0.277972\n",
       "0.45  0.164303    1.0  0.277972\n",
       "0.50  0.164303    1.0  0.277972"
      ]
     },
     "metadata": {},
     "output_type": "display_data"
    }
   ],
   "source": [
    "for d in union_results:\n",
    "    print(d)\n",
    "    display(union_results[d])"
   ]
  },
  {
   "cell_type": "code",
   "execution_count": null,
   "id": "8d988b6f",
   "metadata": {},
   "outputs": [],
   "source": []
  }
 ],
 "metadata": {
  "kernelspec": {
   "display_name": "Python 3 (ipykernel)",
   "language": "python",
   "name": "python3"
  },
  "language_info": {
   "codemirror_mode": {
    "name": "ipython",
    "version": 3
   },
   "file_extension": ".py",
   "mimetype": "text/x-python",
   "name": "python",
   "nbconvert_exporter": "python",
   "pygments_lexer": "ipython3",
   "version": "3.8.8"
  },
  "toc": {
   "base_numbering": 1,
   "nav_menu": {},
   "number_sections": true,
   "sideBar": true,
   "skip_h1_title": false,
   "title_cell": "Table of Contents",
   "title_sidebar": "Contents",
   "toc_cell": false,
   "toc_position": {
    "height": "calc(100% - 180px)",
    "left": "10px",
    "top": "150px",
    "width": "272.2px"
   },
   "toc_section_display": true,
   "toc_window_display": true
  }
 },
 "nbformat": 4,
 "nbformat_minor": 5
}
