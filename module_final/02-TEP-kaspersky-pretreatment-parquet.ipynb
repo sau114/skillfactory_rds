{
 "cells": [
  {
   "cell_type": "markdown",
   "id": "8824e260",
   "metadata": {},
   "source": [
    "# Prepare"
   ]
  },
  {
   "cell_type": "code",
   "execution_count": 1,
   "id": "00734054",
   "metadata": {
    "ExecuteTime": {
     "end_time": "2022-09-06T10:58:14.584099Z",
     "start_time": "2022-09-06T10:58:13.722028Z"
    }
   },
   "outputs": [],
   "source": [
    "# import libraries\n",
    "import os\n",
    "import os.path\n",
    "import pandas as pd\n",
    "from tqdm.notebook import tqdm"
   ]
  },
  {
   "cell_type": "code",
   "execution_count": 2,
   "id": "372f2535",
   "metadata": {
    "ExecuteTime": {
     "end_time": "2022-09-06T10:58:14.600028Z",
     "start_time": "2022-09-06T10:58:14.586092Z"
    }
   },
   "outputs": [],
   "source": [
    "SOURCE = 'Y:\\\\ZBU\\\\_Datasets\\\\TEP\\\\cyber-attack'  # dataset source dir\n",
    "TARGET = 'E:\\\\Datasets\\\\TEP\\\\kaspersky\\\\_pretreated'  # dataset target dir"
   ]
  },
  {
   "cell_type": "markdown",
   "id": "b4c23433",
   "metadata": {},
   "source": [
    "# Stages"
   ]
  },
  {
   "cell_type": "code",
   "execution_count": 3,
   "id": "34057793",
   "metadata": {
    "ExecuteTime": {
     "end_time": "2022-09-06T10:58:14.615478Z",
     "start_time": "2022-09-06T10:58:14.603054Z"
    }
   },
   "outputs": [],
   "source": [
    "def rename_columns(df: pd.DataFrame) -> None:\n",
    "    columns = [\n",
    "        \"time\",\n",
    "        \"inp_a_flow_ksm3h\",\n",
    "        \"inp_d_flow_kgh\",\n",
    "        \"inp_e_flow_kgh\",\n",
    "        \"inp_c_flow_ksm3h\",\n",
    "        \"recyl_flow_ksm3h\",\n",
    "        \"react_flow_ksm3h\",\n",
    "        \"react_press_kpa\",\n",
    "        \"react_level_pc\",\n",
    "        \"react_temp_gc\",\n",
    "        \"purge_flow_ksm3h\",\n",
    "        \"seprt_temp_gc\",\n",
    "        \"seprt_level_pc\",\n",
    "        \"seprt_press_kpa\",\n",
    "        \"seprt_flow_m3h\",\n",
    "        \"strip_level_pc\",\n",
    "        \"strip_press_kpa\",\n",
    "        \"prod_flow_m3h\",\n",
    "        \"strip_temp_gc\",\n",
    "        \"steam_flow_kgh\",\n",
    "        \"compr_power_kw\",\n",
    "        \"re_cl_temp_gc\",\n",
    "        \"co_cl_temp_gc\",\n",
    "        \"react_a_prt_molp\",\n",
    "        \"react_b_prt_molp\",\n",
    "        \"react_c_prt_molp\",\n",
    "        \"react_d_prt_molp\",\n",
    "        \"react_e_prt_molp\",\n",
    "        \"react_f_prt_molp\",\n",
    "        \"purge_a_prt_molp\",\n",
    "        \"purge_b_prt_molp\",\n",
    "        \"purge_c_prt_molp\",\n",
    "        \"purge_d_prt_molp\",\n",
    "        \"purge_e_prt_molp\",\n",
    "        \"purge_f_prt_molp\",\n",
    "        \"purge_g_prt_molp\",\n",
    "        \"purge_h_prt_molp\",\n",
    "        \"prod_d_prt_molp\",\n",
    "        \"prod_e_prt_molp\",\n",
    "        \"prod_f_prt_molp\",\n",
    "        \"prod_g_prt_molp\",\n",
    "        \"prod_h_prt_molp\",\n",
    "        \"inp_d_feed_pc\",\n",
    "        \"inp_e_feed_pc\",\n",
    "        \"inp_a_feed_pc\",\n",
    "        \"inp_c_feed_pc\",\n",
    "        \"compr_valv_pc\",\n",
    "        \"purge_feed_pc\",\n",
    "        \"seprt_feed_pc\",\n",
    "        \"strip_feed_pc\",\n",
    "        \"steam_feed_pc\",\n",
    "        \"re_cl_feed_pc\",\n",
    "        \"co_cl_feed_pc\",\n",
    "        \"agit_speed_pc\",\n",
    "        \"is_mv_attack\",\n",
    "        \"is_meas_attack\",\n",
    "        \"is_sp_attack\",\n",
    "        \"state\",\n",
    "        \"product_rate\",\n",
    "        \"hourly_cost\",\n",
    "    ]\n",
    "    df.columns = columns\n",
    "    return"
   ]
  },
  {
   "cell_type": "code",
   "execution_count": 4,
   "id": "f9036661",
   "metadata": {
    "ExecuteTime": {
     "end_time": "2022-09-06T10:58:14.630412Z",
     "start_time": "2022-09-06T10:58:14.618319Z"
    }
   },
   "outputs": [],
   "source": [
    "def set_index(df: pd.DataFrame) -> None:\n",
    "    df['time'] = pd.to_datetime(df['time'], unit='h', origin='2017-05-16T00:00:00')\n",
    "    df.set_index('time', inplace=True)\n",
    "    df.index.name = None\n",
    "    return"
   ]
  },
  {
   "cell_type": "code",
   "execution_count": 5,
   "id": "09890b8c",
   "metadata": {
    "ExecuteTime": {
     "end_time": "2022-09-06T10:58:14.646191Z",
     "start_time": "2022-09-06T10:58:14.632335Z"
    }
   },
   "outputs": [],
   "source": [
    "def downsample(df: pd.DataFrame) -> pd.DataFrame:\n",
    "    return df.resample('1 min').first()"
   ]
  },
  {
   "cell_type": "code",
   "execution_count": 6,
   "id": "ce48cb05",
   "metadata": {
    "ExecuteTime": {
     "end_time": "2022-09-06T10:58:14.662121Z",
     "start_time": "2022-09-06T10:58:14.649032Z"
    }
   },
   "outputs": [],
   "source": [
    "def trim_features(df: pd.DataFrame) -> None:\n",
    "    df['anomaly'] = df['is_mv_attack']*32 + df['is_meas_attack']*64 + df['is_sp_attack']*128\n",
    "    df.drop(columns=[\"is_mv_attack\", \"is_meas_attack\", \"is_sp_attack\", \"state\", \"product_rate\", \"hourly_cost\"],\n",
    "            inplace=True,\n",
    "           )\n",
    "    return"
   ]
  },
  {
   "cell_type": "code",
   "execution_count": 7,
   "id": "687ac62b",
   "metadata": {
    "ExecuteTime": {
     "end_time": "2022-09-06T10:58:14.678188Z",
     "start_time": "2022-09-06T10:58:14.664031Z"
    }
   },
   "outputs": [],
   "source": [
    "def optimize_dtypes(df: pd.DataFrame) -> None:\n",
    "    # optimize dataframe by memory usage\n",
    "    uint_columns = ['anomaly',]\n",
    "    float_columns = [c for c in df.columns if c not in uint_columns]\n",
    "    \n",
    "    df[uint_columns] = df[uint_columns].apply(pd.to_numeric, downcast='unsigned')\n",
    "    df[float_columns] = df[float_columns].apply(pd.to_numeric, downcast='float')\n",
    "    \n",
    "    return"
   ]
  },
  {
   "cell_type": "markdown",
   "id": "523b5abe",
   "metadata": {},
   "source": [
    "# Convert dataset"
   ]
  },
  {
   "cell_type": "code",
   "execution_count": 8,
   "id": "8e492ff8",
   "metadata": {
    "ExecuteTime": {
     "end_time": "2022-09-06T14:16:24.152174Z",
     "start_time": "2022-09-06T10:58:14.680993Z"
    }
   },
   "outputs": [
    {
     "name": "stdout",
     "output_type": "stream",
     "text": [
      "200 files in single_states\n"
     ]
    },
    {
     "data": {
      "application/vnd.jupyter.widget-view+json": {
       "model_id": "1631a372bd8540a2b8fc010937b07374",
       "version_major": 2,
       "version_minor": 0
      },
      "text/plain": [
       "  0%|          | 0/200 [00:00<?, ?it/s]"
      ]
     },
     "metadata": {},
     "output_type": "display_data"
    },
    {
     "name": "stdout",
     "output_type": "stream",
     "text": [
      "672 files in transient_processes\n"
     ]
    },
    {
     "data": {
      "application/vnd.jupyter.widget-view+json": {
       "model_id": "f9ffae2c1b0248a7b1331383aee99a6f",
       "version_major": 2,
       "version_minor": 0
      },
      "text/plain": [
       "  0%|          | 0/346 [00:00<?, ?it/s]"
      ]
     },
     "metadata": {},
     "output_type": "display_data"
    },
    {
     "name": "stdout",
     "output_type": "stream",
     "text": [
      "142 files in attacks\n"
     ]
    },
    {
     "data": {
      "application/vnd.jupyter.widget-view+json": {
       "model_id": "91913b1af28b49a9b500801598e792e6",
       "version_major": 2,
       "version_minor": 0
      },
      "text/plain": [
       "  0%|          | 0/142 [00:00<?, ?it/s]"
      ]
     },
     "metadata": {},
     "output_type": "display_data"
    }
   ],
   "source": [
    "if not os.path.isdir(os.path.join(TARGET)):\n",
    "    os.mkdir(TARGET)\n",
    "\n",
    "subdirs = ('single_states', \n",
    "           'transient_processes',\n",
    "           'attacks',\n",
    "          )\n",
    "\n",
    "for sub in subdirs:\n",
    "    files = os.listdir(os.path.join(SOURCE, sub))\n",
    "    print(f'{len(files)} files in {sub}')\n",
    "    for f in tqdm([csv for csv in files if csv.endswith('.csv')]):\n",
    "        data = pd.read_csv(os.path.join(SOURCE, sub, f), header=None)\n",
    "        rename_columns(data)\n",
    "        set_index(data)\n",
    "        data = downsample(data)\n",
    "        trim_features(data)\n",
    "        optimize_dtypes(data)\n",
    "        p = os.path.splitext(f)[0] + '.snappy'\n",
    "        data.to_parquet(os.path.join(TARGET, p), compression='snappy')"
   ]
  },
  {
   "cell_type": "markdown",
   "id": "dbf1fb67",
   "metadata": {
    "ExecuteTime": {
     "end_time": "2022-09-06T10:53:52.364639Z",
     "start_time": "2022-09-06T10:53:52.358640Z"
    }
   },
   "source": [
    "# Self-Check"
   ]
  },
  {
   "cell_type": "code",
   "execution_count": 9,
   "id": "f4ba717b",
   "metadata": {
    "ExecuteTime": {
     "end_time": "2022-09-06T14:16:24.221014Z",
     "start_time": "2022-09-06T14:16:24.156829Z"
    }
   },
   "outputs": [
    {
     "name": "stdout",
     "output_type": "stream",
     "text": [
      "<class 'pandas.core.frame.DataFrame'>\n",
      "DatetimeIndex: 7200 entries, 2017-05-16 00:00:00 to 2017-05-20 23:59:00\n",
      "Data columns (total 54 columns):\n",
      " #   Column            Non-Null Count  Dtype  \n",
      "---  ------            --------------  -----  \n",
      " 0   inp_a_flow_ksm3h  7200 non-null   float32\n",
      " 1   inp_d_flow_kgh    7200 non-null   float32\n",
      " 2   inp_e_flow_kgh    7200 non-null   float32\n",
      " 3   inp_c_flow_ksm3h  7200 non-null   float32\n",
      " 4   recyl_flow_ksm3h  7200 non-null   float32\n",
      " 5   react_flow_ksm3h  7200 non-null   float32\n",
      " 6   react_press_kpa   7200 non-null   float32\n",
      " 7   react_level_pc    7200 non-null   float32\n",
      " 8   react_temp_gc     7200 non-null   float32\n",
      " 9   purge_flow_ksm3h  7200 non-null   float32\n",
      " 10  seprt_temp_gc     7200 non-null   float32\n",
      " 11  seprt_level_pc    7200 non-null   float32\n",
      " 12  seprt_press_kpa   7200 non-null   float32\n",
      " 13  seprt_flow_m3h    7200 non-null   float32\n",
      " 14  strip_level_pc    7200 non-null   float32\n",
      " 15  strip_press_kpa   7200 non-null   float32\n",
      " 16  prod_flow_m3h     7200 non-null   float32\n",
      " 17  strip_temp_gc     7200 non-null   float32\n",
      " 18  steam_flow_kgh    7200 non-null   float32\n",
      " 19  compr_power_kw    7200 non-null   float32\n",
      " 20  re_cl_temp_gc     7200 non-null   float32\n",
      " 21  co_cl_temp_gc     7200 non-null   float32\n",
      " 22  react_a_prt_molp  7200 non-null   float32\n",
      " 23  react_b_prt_molp  7200 non-null   float32\n",
      " 24  react_c_prt_molp  7200 non-null   float32\n",
      " 25  react_d_prt_molp  7200 non-null   float32\n",
      " 26  react_e_prt_molp  7200 non-null   float32\n",
      " 27  react_f_prt_molp  7200 non-null   float32\n",
      " 28  purge_a_prt_molp  7200 non-null   float32\n",
      " 29  purge_b_prt_molp  7200 non-null   float32\n",
      " 30  purge_c_prt_molp  7200 non-null   float32\n",
      " 31  purge_d_prt_molp  7200 non-null   float32\n",
      " 32  purge_e_prt_molp  7200 non-null   float32\n",
      " 33  purge_f_prt_molp  7200 non-null   float32\n",
      " 34  purge_g_prt_molp  7200 non-null   float32\n",
      " 35  purge_h_prt_molp  7200 non-null   float32\n",
      " 36  prod_d_prt_molp   7200 non-null   float32\n",
      " 37  prod_e_prt_molp   7200 non-null   float32\n",
      " 38  prod_f_prt_molp   7200 non-null   float32\n",
      " 39  prod_g_prt_molp   7200 non-null   float32\n",
      " 40  prod_h_prt_molp   7200 non-null   float32\n",
      " 41  inp_d_feed_pc     7200 non-null   float32\n",
      " 42  inp_e_feed_pc     7200 non-null   float32\n",
      " 43  inp_a_feed_pc     7200 non-null   float32\n",
      " 44  inp_c_feed_pc     7200 non-null   float32\n",
      " 45  compr_valv_pc     7200 non-null   float32\n",
      " 46  purge_feed_pc     7200 non-null   float32\n",
      " 47  seprt_feed_pc     7200 non-null   float32\n",
      " 48  strip_feed_pc     7200 non-null   float32\n",
      " 49  steam_feed_pc     7200 non-null   float32\n",
      " 50  re_cl_feed_pc     7200 non-null   float32\n",
      " 51  co_cl_feed_pc     7200 non-null   float32\n",
      " 52  agit_speed_pc     7200 non-null   float32\n",
      " 53  anomaly           7200 non-null   uint8  \n",
      "dtypes: float32(53), uint8(1)\n",
      "memory usage: 1.5 MB\n"
     ]
    }
   ],
   "source": [
    "data = pd.read_parquet(os.path.join(TARGET, p))\n",
    "data.info()"
   ]
  },
  {
   "cell_type": "code",
   "execution_count": 10,
   "id": "06bee9d9",
   "metadata": {
    "ExecuteTime": {
     "end_time": "2022-09-06T14:16:24.270407Z",
     "start_time": "2022-09-06T14:16:24.222113Z"
    }
   },
   "outputs": [
    {
     "data": {
      "text/plain": [
       "DatetimeIndex(['2017-05-16 00:00:00', '2017-05-16 00:01:00',\n",
       "               '2017-05-16 00:02:00', '2017-05-16 00:03:00',\n",
       "               '2017-05-16 00:04:00', '2017-05-16 00:05:00',\n",
       "               '2017-05-16 00:06:00', '2017-05-16 00:07:00',\n",
       "               '2017-05-16 00:08:00', '2017-05-16 00:09:00',\n",
       "               ...\n",
       "               '2017-05-20 23:50:00', '2017-05-20 23:51:00',\n",
       "               '2017-05-20 23:52:00', '2017-05-20 23:53:00',\n",
       "               '2017-05-20 23:54:00', '2017-05-20 23:55:00',\n",
       "               '2017-05-20 23:56:00', '2017-05-20 23:57:00',\n",
       "               '2017-05-20 23:58:00', '2017-05-20 23:59:00'],\n",
       "              dtype='datetime64[ns]', length=7200, freq=None)"
      ]
     },
     "execution_count": 10,
     "metadata": {},
     "output_type": "execute_result"
    }
   ],
   "source": [
    "data.index"
   ]
  },
  {
   "cell_type": "code",
   "execution_count": null,
   "id": "91cfc2ad",
   "metadata": {},
   "outputs": [],
   "source": []
  }
 ],
 "metadata": {
  "kernelspec": {
   "display_name": "Python 3 (ipykernel)",
   "language": "python",
   "name": "python3"
  },
  "language_info": {
   "codemirror_mode": {
    "name": "ipython",
    "version": 3
   },
   "file_extension": ".py",
   "mimetype": "text/x-python",
   "name": "python",
   "nbconvert_exporter": "python",
   "pygments_lexer": "ipython3",
   "version": "3.8.8"
  },
  "toc": {
   "base_numbering": 1,
   "nav_menu": {},
   "number_sections": true,
   "sideBar": true,
   "skip_h1_title": false,
   "title_cell": "Table of Contents",
   "title_sidebar": "Contents",
   "toc_cell": false,
   "toc_position": {},
   "toc_section_display": true,
   "toc_window_display": false
  }
 },
 "nbformat": 4,
 "nbformat_minor": 5
}
