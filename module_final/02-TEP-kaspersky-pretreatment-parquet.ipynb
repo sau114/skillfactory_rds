{
 "cells": [
  {
   "cell_type": "markdown",
   "id": "8824e260",
   "metadata": {},
   "source": [
    "# Prepare"
   ]
  },
  {
   "cell_type": "code",
   "execution_count": 1,
   "id": "00734054",
   "metadata": {
    "ExecuteTime": {
     "end_time": "2022-08-16T13:28:14.817061Z",
     "start_time": "2022-08-16T13:28:14.068445Z"
    }
   },
   "outputs": [],
   "source": [
    "# import libraries\n",
    "import json\n",
    "import os\n",
    "import os.path\n",
    "import pandas as pd\n",
    "import pyreadr"
   ]
  },
  {
   "cell_type": "code",
   "execution_count": 2,
   "id": "80ad8df4",
   "metadata": {
    "ExecuteTime": {
     "end_time": "2022-08-16T13:28:14.897060Z",
     "start_time": "2022-08-16T13:28:14.819059Z"
    }
   },
   "outputs": [],
   "source": [
    "from tqdm.notebook import tqdm"
   ]
  },
  {
   "cell_type": "code",
   "execution_count": 3,
   "id": "372f2535",
   "metadata": {
    "ExecuteTime": {
     "end_time": "2022-08-16T13:28:14.913074Z",
     "start_time": "2022-08-16T13:28:14.899484Z"
    }
   },
   "outputs": [],
   "source": [
    "SOURCE = 'Y:\\\\ZBU\\\\_Datasets\\\\TEP\\\\cyber-attack'  # dataset source dir\n",
    "TARGET = 'E:\\\\Datasets\\\\TEP\\\\kaspersky\\\\_pretreated'  # dataset target dir\n",
    "DTYPES_FILE = 'dtypes.json'  # dtypes of columns"
   ]
  },
  {
   "cell_type": "markdown",
   "id": "b4c23433",
   "metadata": {},
   "source": [
    "# Stages"
   ]
  },
  {
   "cell_type": "code",
   "execution_count": 4,
   "id": "34057793",
   "metadata": {
    "ExecuteTime": {
     "end_time": "2022-08-16T13:28:14.929214Z",
     "start_time": "2022-08-16T13:28:14.917062Z"
    }
   },
   "outputs": [],
   "source": [
    "def rename_columns(df: pd.DataFrame) -> None:\n",
    "    columns = [\n",
    "        \"time\",\n",
    "        \"inp_a_flow_ksm3h\",\n",
    "        \"inp_d_flow_kgh\",\n",
    "        \"inp_e_flow_kgh\",\n",
    "        \"inp_c_flow_ksm3h\",\n",
    "        \"recyl_flow_ksm3h\",\n",
    "        \"react_flow_ksm3h\",\n",
    "        \"react_press_kpa\",\n",
    "        \"react_level_pc\",\n",
    "        \"react_temp_gc\",\n",
    "        \"purge_flow_ksm3h\",\n",
    "        \"seprt_temp_gc\",\n",
    "        \"seprt_level_pc\",\n",
    "        \"seprt_press_kpa\",\n",
    "        \"seprt_flow_m3h\",\n",
    "        \"strip_level_pc\",\n",
    "        \"strip_press_kpa\",\n",
    "        \"prod_flow_m3h\",\n",
    "        \"strip_temp_gc\",\n",
    "        \"steam_flow_kgh\",\n",
    "        \"compr_power_kw\",\n",
    "        \"re_cl_temp_gc\",\n",
    "        \"co_cl_temp_gc\",\n",
    "        \"react_a_prt_molp\",\n",
    "        \"react_b_prt_molp\",\n",
    "        \"react_c_prt_molp\",\n",
    "        \"react_d_prt_molp\",\n",
    "        \"react_e_prt_molp\",\n",
    "        \"react_f_prt_molp\",\n",
    "        \"purge_a_prt_molp\",\n",
    "        \"purge_b_prt_molp\",\n",
    "        \"purge_c_prt_molp\",\n",
    "        \"purge_d_prt_molp\",\n",
    "        \"purge_e_prt_molp\",\n",
    "        \"purge_f_prt_molp\",\n",
    "        \"purge_g_prt_molp\",\n",
    "        \"purge_h_prt_molp\",\n",
    "        \"prod_d_prt_molp\",\n",
    "        \"prod_e_prt_molp\",\n",
    "        \"prod_f_prt_molp\",\n",
    "        \"prod_g_prt_molp\",\n",
    "        \"prod_h_prt_molp\",\n",
    "        \"inp_d_feed_pc\",\n",
    "        \"inp_e_feed_pc\",\n",
    "        \"inp_a_feed_pc\",\n",
    "        \"inp_c_feed_pc\",\n",
    "        \"compr_valv_pc\",\n",
    "        \"purge_feed_pc\",\n",
    "        \"seprt_feed_pc\",\n",
    "        \"strip_feed_pc\",\n",
    "        \"steam_feed_pc\",\n",
    "        \"re_cl_feed_pc\",\n",
    "        \"co_cl_feed_pc\",\n",
    "        \"agit_speed_pc\",\n",
    "        \"is_mv_attack\",\n",
    "        \"is_meas_attack\",\n",
    "        \"is_sp_attack\",\n",
    "        \"state\",\n",
    "        \"product_rate\",\n",
    "        \"hourly_cost\",\n",
    "    ]\n",
    "    df.columns = columns\n",
    "    return"
   ]
  },
  {
   "cell_type": "code",
   "execution_count": 5,
   "id": "f9036661",
   "metadata": {
    "ExecuteTime": {
     "end_time": "2022-08-16T13:28:14.945155Z",
     "start_time": "2022-08-16T13:28:14.932072Z"
    }
   },
   "outputs": [],
   "source": [
    "def set_index(df: pd.DataFrame) -> None:\n",
    "    df['time'] = pd.to_datetime(df['time'], unit='h', origin='2022-08-01T00:00:00')\n",
    "    df.set_index('time', inplace=True)\n",
    "    return"
   ]
  },
  {
   "cell_type": "code",
   "execution_count": 6,
   "id": "09890b8c",
   "metadata": {
    "ExecuteTime": {
     "end_time": "2022-08-16T13:28:14.961116Z",
     "start_time": "2022-08-16T13:28:14.947059Z"
    }
   },
   "outputs": [],
   "source": [
    "def downsample(df: pd.DataFrame) -> pd.DataFrame:\n",
    "    return df.resample('1 min').first()"
   ]
  },
  {
   "cell_type": "code",
   "execution_count": 7,
   "id": "ce48cb05",
   "metadata": {
    "ExecuteTime": {
     "end_time": "2022-08-16T13:28:14.977057Z",
     "start_time": "2022-08-16T13:28:14.963057Z"
    }
   },
   "outputs": [],
   "source": [
    "def trim_features(df: pd.DataFrame) -> None:\n",
    "    df['attack'] = df['is_mv_attack']*32 + df['is_meas_attack']*64 + df['is_sp_attack']*128\n",
    "    df.drop(columns=[\"is_mv_attack\", \"is_meas_attack\", \"is_sp_attack\", \"state\", \"product_rate\", \"hourly_cost\"],\n",
    "           inplace=True,\n",
    "           )\n",
    "    return"
   ]
  },
  {
   "cell_type": "code",
   "execution_count": 8,
   "id": "687ac62b",
   "metadata": {
    "ExecuteTime": {
     "end_time": "2022-08-16T13:28:14.993057Z",
     "start_time": "2022-08-16T13:28:14.979059Z"
    }
   },
   "outputs": [],
   "source": [
    "def optimize_dtypes(df: pd.DataFrame) -> None:\n",
    "    # optimize dataframe by memory usage\n",
    "    uint_columns = df.columns.values[-2:]  # this columns can be uint\n",
    "    float_columns = df.columns.values[:-2]  # other must be float\n",
    "    \n",
    "    df[uint_columns] = df[uint_columns].apply(pd.to_numeric, downcast='unsigned')\n",
    "    df[float_columns] = df[float_columns].apply(pd.to_numeric, downcast='float')\n",
    "    \n",
    "    # saving our dtypes description for further use\n",
    "#     dtypes_file = os.path.join(TARGET, DTYPES_FILE)\n",
    "#     if not os.path.isfile(dtypes_file):\n",
    "#         # we need to create it\n",
    "#         names = df.dtypes.index  # columns names\n",
    "#         types = [c.name for c in df.dtypes]  # columns types\n",
    "#         dtypes_dict = dict(zip(names, types))  # dict for pandas.read_csv\n",
    "#         with open(dtypes_file, 'w') as f:\n",
    "#             json.dump(dtypes_dict, f)\n",
    "        \n",
    "    return"
   ]
  },
  {
   "cell_type": "markdown",
   "id": "523b5abe",
   "metadata": {},
   "source": [
    "# Convert dataset"
   ]
  },
  {
   "cell_type": "code",
   "execution_count": 9,
   "id": "8e492ff8",
   "metadata": {
    "ExecuteTime": {
     "end_time": "2022-08-16T14:55:04.130211Z",
     "start_time": "2022-08-16T13:28:14.996729Z"
    }
   },
   "outputs": [
    {
     "name": "stdout",
     "output_type": "stream",
     "text": [
      "200 files in single_states\n"
     ]
    },
    {
     "data": {
      "application/vnd.jupyter.widget-view+json": {
       "model_id": "b4dd2f02455249c59db0c2c2ef5fd2a2",
       "version_major": 2,
       "version_minor": 0
      },
      "text/plain": [
       "  0%|          | 0/200 [00:00<?, ?it/s]"
      ]
     },
     "metadata": {},
     "output_type": "display_data"
    },
    {
     "name": "stdout",
     "output_type": "stream",
     "text": [
      "672 files in transient_processes\n"
     ]
    },
    {
     "data": {
      "application/vnd.jupyter.widget-view+json": {
       "model_id": "bcaf9116376746aa9cfc79fc948eaf67",
       "version_major": 2,
       "version_minor": 0
      },
      "text/plain": [
       "  0%|          | 0/346 [00:00<?, ?it/s]"
      ]
     },
     "metadata": {},
     "output_type": "display_data"
    },
    {
     "name": "stdout",
     "output_type": "stream",
     "text": [
      "142 files in attacks\n"
     ]
    },
    {
     "data": {
      "application/vnd.jupyter.widget-view+json": {
       "model_id": "b044ff767ff0451ebdf73a56d6fe00c0",
       "version_major": 2,
       "version_minor": 0
      },
      "text/plain": [
       "  0%|          | 0/142 [00:00<?, ?it/s]"
      ]
     },
     "metadata": {},
     "output_type": "display_data"
    }
   ],
   "source": [
    "if not os.path.isdir(os.path.join(TARGET)):\n",
    "    os.mkdir(TARGET)\n",
    "\n",
    "subdirs = ('single_states', \n",
    "           'transient_processes',\n",
    "           'attacks',\n",
    "          )\n",
    "\n",
    "for sub in subdirs:\n",
    "    files = os.listdir(os.path.join(SOURCE, sub))\n",
    "    print(f'{len(files)} files in {sub}')\n",
    "    for f in tqdm([csv for csv in files if csv.endswith('.csv')]):\n",
    "        data = pd.read_csv(os.path.join(SOURCE, sub, f), header=None)\n",
    "        rename_columns(data)\n",
    "        set_index(data)\n",
    "        data = downsample(data)\n",
    "        trim_features(data)\n",
    "        optimize_dtypes(data)\n",
    "        p = os.path.splitext(f)[0] + '.snappy'\n",
    "        data.to_parquet(os.path.join(TARGET, p), compression='snappy')"
   ]
  }
 ],
 "metadata": {
  "kernelspec": {
   "display_name": "Python 3 (ipykernel)",
   "language": "python",
   "name": "python3"
  },
  "language_info": {
   "codemirror_mode": {
    "name": "ipython",
    "version": 3
   },
   "file_extension": ".py",
   "mimetype": "text/x-python",
   "name": "python",
   "nbconvert_exporter": "python",
   "pygments_lexer": "ipython3",
   "version": "3.8.8"
  },
  "toc": {
   "base_numbering": 1,
   "nav_menu": {},
   "number_sections": true,
   "sideBar": true,
   "skip_h1_title": false,
   "title_cell": "Table of Contents",
   "title_sidebar": "Contents",
   "toc_cell": false,
   "toc_position": {},
   "toc_section_display": true,
   "toc_window_display": false
  }
 },
 "nbformat": 4,
 "nbformat_minor": 5
}
