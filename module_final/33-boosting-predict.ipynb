{
 "cells": [
  {
   "cell_type": "code",
   "execution_count": 1,
   "id": "f91db00f",
   "metadata": {
    "ExecuteTime": {
     "end_time": "2022-09-05T13:38:46.305045Z",
     "start_time": "2022-09-05T13:38:46.290893Z"
    }
   },
   "outputs": [],
   "source": [
    "# Exploring predict next row by current"
   ]
  },
  {
   "cell_type": "markdown",
   "id": "71d2f1db",
   "metadata": {
    "ExecuteTime": {
     "end_time": "2022-09-05T13:19:29.738119Z",
     "start_time": "2022-09-05T13:19:21.381324Z"
    }
   },
   "source": [
    "!pip install lightgbm"
   ]
  },
  {
   "cell_type": "code",
   "execution_count": 1,
   "id": "4f643971",
   "metadata": {
    "ExecuteTime": {
     "end_time": "2022-09-05T15:23:16.853779Z",
     "start_time": "2022-09-05T15:23:16.804776Z"
    }
   },
   "outputs": [],
   "source": [
    "!del /Q utils\\__pycache__"
   ]
  },
  {
   "cell_type": "code",
   "execution_count": 2,
   "id": "cefbb20d",
   "metadata": {
    "ExecuteTime": {
     "end_time": "2022-09-05T15:23:17.970217Z",
     "start_time": "2022-09-05T15:23:17.151443Z"
    }
   },
   "outputs": [],
   "source": [
    "import pandas as pd\n",
    "import numpy as np\n",
    "from tqdm.notebook import tqdm"
   ]
  },
  {
   "cell_type": "code",
   "execution_count": 3,
   "id": "27c6c08c",
   "metadata": {
    "ExecuteTime": {
     "end_time": "2022-09-05T15:23:18.011384Z",
     "start_time": "2022-09-05T15:23:17.970217Z"
    }
   },
   "outputs": [],
   "source": [
    "from utils.metrics import time_span_metrics\n",
    "from utils.datasets import GhlKasperskyDataset, TepHarvardDataset, SwatItrustDataset\n",
    "from utils.custom_plots import plot_stacked"
   ]
  },
  {
   "cell_type": "code",
   "execution_count": 4,
   "id": "c25b0b15",
   "metadata": {
    "ExecuteTime": {
     "end_time": "2022-09-05T15:23:18.892628Z",
     "start_time": "2022-09-05T15:23:18.157248Z"
    }
   },
   "outputs": [],
   "source": [
    "from sklearn.preprocessing import StandardScaler"
   ]
  },
  {
   "cell_type": "code",
   "execution_count": 5,
   "id": "5376079a",
   "metadata": {
    "ExecuteTime": {
     "end_time": "2022-09-05T15:23:20.204081Z",
     "start_time": "2022-09-05T15:23:18.894833Z"
    }
   },
   "outputs": [],
   "source": [
    "from lightgbm import LGBMRegressor"
   ]
  },
  {
   "cell_type": "markdown",
   "id": "7560d1d2",
   "metadata": {},
   "source": [
    "# GHL"
   ]
  },
  {
   "cell_type": "code",
   "execution_count": 6,
   "id": "5d9566c2",
   "metadata": {
    "ExecuteTime": {
     "end_time": "2022-09-05T15:23:21.610199Z",
     "start_time": "2022-09-05T15:23:21.604030Z"
    }
   },
   "outputs": [],
   "source": [
    "ds = GhlKasperskyDataset()\n",
    "ds.shake_not_stir(valid_test_ratio=0.3)"
   ]
  },
  {
   "cell_type": "code",
   "execution_count": 7,
   "id": "12fc987c",
   "metadata": {
    "ExecuteTime": {
     "end_time": "2022-09-05T15:23:22.237653Z",
     "start_time": "2022-09-05T15:23:22.170157Z"
    }
   },
   "outputs": [],
   "source": [
    "train, _, _ = next(ds.train_generator())\n",
    "valid, _, _ = next(ds.valid_generator())"
   ]
  },
  {
   "cell_type": "code",
   "execution_count": 9,
   "id": "634d49ce",
   "metadata": {
    "ExecuteTime": {
     "end_time": "2022-09-05T13:38:50.138690Z",
     "start_time": "2022-09-05T13:38:50.103334Z"
    }
   },
   "outputs": [
    {
     "data": {
      "text/plain": [
       "Index(['input_temp_gc', 'rt_temp_gc', 'ht_temp_gc', 'ct_temp_gc', 'rt_level_m',\n",
       "       'ht_level_m', 'ct_level_m', 'input_flow_state', 'supply_flow_state',\n",
       "       'return_flow_state', 'output_flow_state', 'heater_state'],\n",
       "      dtype='object')"
      ]
     },
     "execution_count": 9,
     "metadata": {},
     "output_type": "execute_result"
    }
   ],
   "source": [
    "train.columns"
   ]
  },
  {
   "cell_type": "code",
   "execution_count": 10,
   "id": "4ba1bc1e",
   "metadata": {
    "ExecuteTime": {
     "end_time": "2022-09-05T13:38:50.155971Z",
     "start_time": "2022-09-05T13:38:50.141697Z"
    }
   },
   "outputs": [],
   "source": [
    "y = train['rt_level_m'].shift(-1).iloc[:-1]\n",
    "X = train.iloc[:-1]"
   ]
  },
  {
   "cell_type": "code",
   "execution_count": 11,
   "id": "2e7929b7",
   "metadata": {
    "ExecuteTime": {
     "end_time": "2022-09-05T13:38:50.381756Z",
     "start_time": "2022-09-05T13:38:50.159298Z"
    }
   },
   "outputs": [
    {
     "name": "stdout",
     "output_type": "stream",
     "text": [
      "Score: 0.9960547905095276\n"
     ]
    }
   ],
   "source": [
    "lr_1 = LGBMRegressor(random_state=31)\n",
    "lr_1.fit(X, y)\n",
    "print('Score:', lr_1.score(X, y))\n",
    "# print(pd.Series(index=train.columns, data=lr_1.coef_))\n",
    "# print('icpt:', lr_1.intercept_)"
   ]
  },
  {
   "cell_type": "code",
   "execution_count": 12,
   "id": "14947dda",
   "metadata": {
    "ExecuteTime": {
     "end_time": "2022-09-05T13:38:51.229970Z",
     "start_time": "2022-09-05T13:38:50.384758Z"
    }
   },
   "outputs": [
    {
     "ename": "NameError",
     "evalue": "name 'Ridge' is not defined",
     "output_type": "error",
     "traceback": [
      "\u001b[1;31m---------------------------------------------------------------------------\u001b[0m",
      "\u001b[1;31mNameError\u001b[0m                                 Traceback (most recent call last)",
      "Input \u001b[1;32mIn [12]\u001b[0m, in \u001b[0;36m<cell line: 1>\u001b[1;34m()\u001b[0m\n\u001b[1;32m----> 1\u001b[0m lr_2 \u001b[38;5;241m=\u001b[39m \u001b[43mRidge\u001b[49m(random_state\u001b[38;5;241m=\u001b[39m\u001b[38;5;241m31\u001b[39m)\n\u001b[0;32m      2\u001b[0m lr_2\u001b[38;5;241m.\u001b[39mfit(X, y)\n\u001b[0;32m      3\u001b[0m \u001b[38;5;28mprint\u001b[39m(\u001b[38;5;124m'\u001b[39m\u001b[38;5;124mScore:\u001b[39m\u001b[38;5;124m'\u001b[39m, lr_2\u001b[38;5;241m.\u001b[39mscore(X, y))\n",
      "\u001b[1;31mNameError\u001b[0m: name 'Ridge' is not defined"
     ]
    }
   ],
   "source": [
    "lr_2 = Ridge(random_state=31)\n",
    "lr_2.fit(X, y)\n",
    "print('Score:', lr_2.score(X, y))\n",
    "# print(pd.Series(index=train.columns, data=lr_1.coef_))\n",
    "# print('icpt:', lr_1.intercept_)"
   ]
  },
  {
   "cell_type": "code",
   "execution_count": null,
   "id": "14a354a4",
   "metadata": {
    "ExecuteTime": {
     "end_time": "2022-09-05T13:38:51.234924Z",
     "start_time": "2022-09-05T13:38:51.234924Z"
    }
   },
   "outputs": [],
   "source": [
    "def fit_and_score(lr, df):\n",
    "    scores = pd.Series(index=df.columns, name='score', dtype='float64')\n",
    "    X = df.iloc[:-1].copy()  # without last row\n",
    "    for c in df.columns:\n",
    "        y = df[c].shift(-1).iloc[:-1]  # predict next value\n",
    "        lr.fit(X, y)\n",
    "        scores[c] = lr.score(X, y)\n",
    "    return scores"
   ]
  },
  {
   "cell_type": "code",
   "execution_count": null,
   "id": "9038291e",
   "metadata": {
    "ExecuteTime": {
     "end_time": "2022-09-05T13:38:51.236923Z",
     "start_time": "2022-09-05T13:38:51.236923Z"
    }
   },
   "outputs": [],
   "source": [
    "fit_and_score(LinearRegression(), train).median()"
   ]
  },
  {
   "cell_type": "code",
   "execution_count": null,
   "id": "ce8b7897",
   "metadata": {
    "ExecuteTime": {
     "end_time": "2022-09-05T13:38:51.238924Z",
     "start_time": "2022-09-05T13:38:51.238924Z"
    }
   },
   "outputs": [],
   "source": [
    "fit_and_score(Lasso(random_state=31), train).median()"
   ]
  },
  {
   "cell_type": "code",
   "execution_count": null,
   "id": "59c10b62",
   "metadata": {
    "ExecuteTime": {
     "end_time": "2022-09-05T13:38:51.241924Z",
     "start_time": "2022-09-05T13:38:51.241924Z"
    }
   },
   "outputs": [],
   "source": [
    "fit_and_score(Ridge(random_state=31), train).median()"
   ]
  },
  {
   "cell_type": "code",
   "execution_count": null,
   "id": "7626b95f",
   "metadata": {
    "ExecuteTime": {
     "end_time": "2022-09-05T13:38:51.244925Z",
     "start_time": "2022-09-05T13:38:51.244925Z"
    }
   },
   "outputs": [],
   "source": [
    "train_ = pd.DataFrame(index=train.index, columns=train.columns, data=StandardScaler().fit_transform(train))\n",
    "fit_and_score(SGDRegressor(random_state=31), train_)"
   ]
  },
  {
   "cell_type": "code",
   "execution_count": null,
   "id": "b321a9a9",
   "metadata": {
    "ExecuteTime": {
     "end_time": "2022-09-05T13:38:51.247925Z",
     "start_time": "2022-09-05T13:38:51.247925Z"
    }
   },
   "outputs": [],
   "source": [
    "# Let's using SGDRegressor, because it have warm_start"
   ]
  },
  {
   "cell_type": "code",
   "execution_count": null,
   "id": "3af89e9b",
   "metadata": {
    "ExecuteTime": {
     "end_time": "2022-09-05T13:38:51.250111Z",
     "start_time": "2022-09-05T13:38:51.250111Z"
    }
   },
   "outputs": [],
   "source": [
    "train.info()"
   ]
  },
  {
   "cell_type": "markdown",
   "id": "f6a32a13",
   "metadata": {},
   "source": [
    "# TEP Harvard"
   ]
  },
  {
   "cell_type": "code",
   "execution_count": null,
   "id": "95890ae4",
   "metadata": {
    "ExecuteTime": {
     "end_time": "2022-09-05T13:38:51.252923Z",
     "start_time": "2022-09-05T13:38:51.252923Z"
    }
   },
   "outputs": [],
   "source": [
    "ds = TepHarvardDataset()\n",
    "ds.shake_not_stir(valid_test_ratio=0.3)"
   ]
  },
  {
   "cell_type": "code",
   "execution_count": null,
   "id": "06a2c4a5",
   "metadata": {
    "ExecuteTime": {
     "end_time": "2022-09-05T13:38:51.254923Z",
     "start_time": "2022-09-05T13:38:51.254923Z"
    }
   },
   "outputs": [],
   "source": [
    "train, _, _ = next(ds.train_generator())\n",
    "valid, _, _ = next(ds.valid_generator())"
   ]
  },
  {
   "cell_type": "code",
   "execution_count": null,
   "id": "411a17af",
   "metadata": {
    "ExecuteTime": {
     "end_time": "2022-09-05T13:38:51.257949Z",
     "start_time": "2022-09-05T13:38:51.257949Z"
    }
   },
   "outputs": [],
   "source": [
    "# add derivatives\n",
    "def add_derivatives(data: pd.DataFrame) -> pd.DataFrame:\n",
    "    diff1 = data.diff()\n",
    "    diff1.columns = data.columns + '_d1'\n",
    "    diff2 = diff1.diff()\n",
    "    diff2.columns = data.columns + '_d2'\n",
    "    return pd.concat([data, diff1, diff2], axis=1).fillna(0)\n",
    "#     return pd.concat([data, diff1], axis=1).fillna(0)\n",
    "\n",
    "train = add_derivatives(train)"
   ]
  },
  {
   "cell_type": "code",
   "execution_count": null,
   "id": "9fa65fcc",
   "metadata": {
    "ExecuteTime": {
     "end_time": "2022-09-05T13:38:51.259923Z",
     "start_time": "2022-09-05T13:38:51.259923Z"
    }
   },
   "outputs": [],
   "source": [
    "train.columns"
   ]
  },
  {
   "cell_type": "code",
   "execution_count": null,
   "id": "187f830f",
   "metadata": {
    "ExecuteTime": {
     "end_time": "2022-09-05T13:38:51.262925Z",
     "start_time": "2022-09-05T13:38:51.262925Z"
    }
   },
   "outputs": [],
   "source": [
    "fit_and_score(LinearRegression(), train).median()"
   ]
  },
  {
   "cell_type": "code",
   "execution_count": null,
   "id": "af0e5aa3",
   "metadata": {
    "ExecuteTime": {
     "end_time": "2022-09-05T13:38:51.265433Z",
     "start_time": "2022-09-05T13:38:51.265433Z"
    }
   },
   "outputs": [],
   "source": [
    "fit_and_score(Lasso(random_state=31), train).median()"
   ]
  },
  {
   "cell_type": "code",
   "execution_count": null,
   "id": "9b84ea0a",
   "metadata": {
    "ExecuteTime": {
     "end_time": "2022-09-05T13:38:51.266924Z",
     "start_time": "2022-09-05T13:38:51.266924Z"
    }
   },
   "outputs": [],
   "source": [
    "fit_and_score(Ridge(random_state=31), train).median()"
   ]
  },
  {
   "cell_type": "code",
   "execution_count": null,
   "id": "f0b6f0b4",
   "metadata": {
    "ExecuteTime": {
     "end_time": "2022-09-05T13:38:51.269931Z",
     "start_time": "2022-09-05T13:38:51.269931Z"
    }
   },
   "outputs": [],
   "source": [
    "train_ = pd.DataFrame(index=train.index, columns=train.columns, data=StandardScaler().fit_transform(train))\n",
    "fit_and_score(SGDRegressor(random_state=31), train_).median()"
   ]
  },
  {
   "cell_type": "code",
   "execution_count": null,
   "id": "c8b4c761",
   "metadata": {
    "ExecuteTime": {
     "end_time": "2022-09-05T13:38:51.271939Z",
     "start_time": "2022-09-05T13:38:51.271939Z"
    }
   },
   "outputs": [],
   "source": [
    "train.info()"
   ]
  },
  {
   "cell_type": "markdown",
   "id": "b1c4d4aa",
   "metadata": {},
   "source": [
    "# SWaT"
   ]
  },
  {
   "cell_type": "code",
   "execution_count": null,
   "id": "3e27e65e",
   "metadata": {
    "ExecuteTime": {
     "end_time": "2022-09-05T13:38:51.276375Z",
     "start_time": "2022-09-05T13:38:51.276375Z"
    }
   },
   "outputs": [],
   "source": [
    "ds = SwatItrustDataset()\n",
    "ds.shake_not_stir(valid_test_ratio=0.3)"
   ]
  },
  {
   "cell_type": "code",
   "execution_count": null,
   "id": "68e4f570",
   "metadata": {
    "ExecuteTime": {
     "end_time": "2022-09-05T13:38:51.278925Z",
     "start_time": "2022-09-05T13:38:51.278925Z"
    }
   },
   "outputs": [],
   "source": [
    "train, _, _ = next(ds.train_generator())\n",
    "valid, _, _ = next(ds.valid_generator())"
   ]
  },
  {
   "cell_type": "code",
   "execution_count": null,
   "id": "a7e4c0bb",
   "metadata": {
    "ExecuteTime": {
     "end_time": "2022-09-05T13:38:51.281312Z",
     "start_time": "2022-09-05T13:38:51.281312Z"
    }
   },
   "outputs": [],
   "source": [
    "fit_and_score(LinearRegression(), train).median()"
   ]
  },
  {
   "cell_type": "code",
   "execution_count": null,
   "id": "90ed81a4",
   "metadata": {
    "ExecuteTime": {
     "end_time": "2022-09-05T13:38:51.283927Z",
     "start_time": "2022-09-05T13:38:51.283927Z"
    }
   },
   "outputs": [],
   "source": [
    "# fit_and_score(Lasso(random_state=31), train).median()"
   ]
  },
  {
   "cell_type": "code",
   "execution_count": null,
   "id": "23e49ded",
   "metadata": {
    "ExecuteTime": {
     "end_time": "2022-09-05T13:38:51.285922Z",
     "start_time": "2022-09-05T13:38:51.285922Z"
    }
   },
   "outputs": [],
   "source": [
    "# fit_and_score(Ridge(random_state=31), train).median()"
   ]
  },
  {
   "cell_type": "code",
   "execution_count": null,
   "id": "a869f7ec",
   "metadata": {
    "ExecuteTime": {
     "end_time": "2022-09-05T13:38:51.287938Z",
     "start_time": "2022-09-05T13:38:51.287938Z"
    }
   },
   "outputs": [],
   "source": [
    "regr = SGDRegressor(random_state=31, \n",
    "                    penalty='l2', \n",
    "                    alpha=1.0, \n",
    "                    l1_ratio=0.15, \n",
    "                    max_iter=1000, \n",
    "                    tol=0.001, \n",
    "                    learning_rate='invscaling', \n",
    "                    eta0=0.01, \n",
    "                    power_t=0.25, \n",
    "                    validation_fraction=0.1, \n",
    "                    n_iter_no_change=10, \n",
    "                    warm_start=False, \n",
    "                    average=False)\n",
    "train_ = pd.DataFrame(index=train.index, columns=train.columns, data=StandardScaler().fit_transform(train))\n",
    "fit_and_score(regr, train_)"
   ]
  },
  {
   "cell_type": "code",
   "execution_count": null,
   "id": "0c17aafe",
   "metadata": {
    "ExecuteTime": {
     "end_time": "2022-09-05T13:38:51.290924Z",
     "start_time": "2022-09-05T13:38:51.290924Z"
    }
   },
   "outputs": [],
   "source": [
    "train.info()"
   ]
  },
  {
   "cell_type": "markdown",
   "id": "69378e7e",
   "metadata": {},
   "source": [
    "# Watchman"
   ]
  },
  {
   "cell_type": "code",
   "execution_count": 8,
   "id": "8fd6e75d",
   "metadata": {
    "ExecuteTime": {
     "end_time": "2022-09-05T15:23:26.953120Z",
     "start_time": "2022-09-05T15:23:26.778379Z"
    }
   },
   "outputs": [],
   "source": [
    "from utils.watchmen import GbmPredictWatchman"
   ]
  },
  {
   "cell_type": "markdown",
   "id": "8efbbd6b",
   "metadata": {},
   "source": [
    "## GHL"
   ]
  },
  {
   "cell_type": "code",
   "execution_count": 9,
   "id": "705dfcc4",
   "metadata": {
    "ExecuteTime": {
     "end_time": "2022-09-05T15:23:27.738707Z",
     "start_time": "2022-09-05T15:23:27.718690Z"
    }
   },
   "outputs": [],
   "source": [
    "ds = GhlKasperskyDataset()\n",
    "ds.shake_not_stir(random_state=42, valid_test_ratio=0.3)"
   ]
  },
  {
   "cell_type": "code",
   "execution_count": 10,
   "id": "98bb299e",
   "metadata": {
    "ExecuteTime": {
     "end_time": "2022-09-05T15:23:28.220591Z",
     "start_time": "2022-09-05T15:23:28.213559Z"
    }
   },
   "outputs": [],
   "source": [
    "watchman = GbmPredictWatchman(random_state=31)"
   ]
  },
  {
   "cell_type": "code",
   "execution_count": 11,
   "id": "fcc63e4b",
   "metadata": {
    "ExecuteTime": {
     "end_time": "2022-09-05T15:24:16.349767Z",
     "start_time": "2022-09-05T15:23:28.730045Z"
    }
   },
   "outputs": [
    {
     "data": {
      "application/vnd.jupyter.widget-view+json": {
       "model_id": "91cafcc40f184d1ab3ae8613bcade24f",
       "version_major": 2,
       "version_minor": 0
      },
      "text/plain": [
       "0it [00:00, ?it/s]"
      ]
     },
     "metadata": {},
     "output_type": "display_data"
    },
    {
     "data": {
      "application/vnd.jupyter.widget-view+json": {
       "model_id": "d5c9a849d1084f75ad266f25f78677e7",
       "version_major": 2,
       "version_minor": 0
      },
      "text/plain": [
       "0it [00:00, ?it/s]"
      ]
     },
     "metadata": {},
     "output_type": "display_data"
    }
   ],
   "source": [
    "for train, _, _ in tqdm(ds.train_generator()):\n",
    "    watchman.prefit(train)\n",
    "for train, _, _ in tqdm(ds.train_generator()):\n",
    "    watchman.partial_fit(train)"
   ]
  },
  {
   "cell_type": "code",
   "execution_count": null,
   "id": "f3279bf0",
   "metadata": {
    "ExecuteTime": {
     "end_time": "2022-09-05T13:38:51.302926Z",
     "start_time": "2022-09-05T13:38:51.302926Z"
    }
   },
   "outputs": [],
   "source": [
    "# watchman.limits"
   ]
  },
  {
   "cell_type": "code",
   "execution_count": null,
   "id": "2cb36ae8",
   "metadata": {
    "ExecuteTime": {
     "end_time": "2022-09-05T13:38:51.304922Z",
     "start_time": "2022-09-05T13:38:51.303923Z"
    }
   },
   "outputs": [],
   "source": [
    "# main_columns = ['rt_temp_gc', 'ht_temp_gc', 'rt_level_m', 'ht_level_m']"
   ]
  },
  {
   "cell_type": "code",
   "execution_count": 12,
   "id": "71dd582b",
   "metadata": {
    "ExecuteTime": {
     "end_time": "2022-09-05T15:24:35.000538Z",
     "start_time": "2022-09-05T15:24:16.354814Z"
    }
   },
   "outputs": [
    {
     "data": {
      "application/vnd.jupyter.widget-view+json": {
       "model_id": "f7fd986be98f4872a5795a2b5d00c56f",
       "version_major": 2,
       "version_minor": 0
      },
      "text/plain": [
       "0it [00:00, ?it/s]"
      ]
     },
     "metadata": {},
     "output_type": "display_data"
    }
   ],
   "source": [
    "valid_gen = ds.valid_generator()\n",
    "examine_list = pd.DataFrame(columns=['precision', 'recall', 'f1_score'], dtype='float')\n",
    "for valid, faults, info in tqdm(valid_gen):\n",
    "    detect = watchman.predict(valid)\n",
    "#     detect = detect[main_columns]\n",
    "    examine_list.loc[info] = time_span_metrics(faults, detect)\n",
    "#     if max(faults) and max(detect):\n",
    "#         plot_stacked(valid, faults=faults, detect=detect)\n",
    "#         break"
   ]
  },
  {
   "cell_type": "code",
   "execution_count": 13,
   "id": "36387a2a",
   "metadata": {
    "ExecuteTime": {
     "end_time": "2022-09-05T15:24:35.031918Z",
     "start_time": "2022-09-05T15:24:35.004034Z"
    }
   },
   "outputs": [
    {
     "data": {
      "text/plain": [
       "precision    0.010890\n",
       "recall       1.000000\n",
       "f1_score     0.021537\n",
       "dtype: float64"
      ]
     },
     "execution_count": 13,
     "metadata": {},
     "output_type": "execute_result"
    }
   ],
   "source": [
    "examine_list.mean()"
   ]
  },
  {
   "cell_type": "markdown",
   "id": "63e0cf96",
   "metadata": {},
   "source": [
    "## TEP"
   ]
  },
  {
   "cell_type": "code",
   "execution_count": 19,
   "id": "1dfded90",
   "metadata": {
    "ExecuteTime": {
     "end_time": "2022-09-05T13:41:51.437520Z",
     "start_time": "2022-09-05T13:41:51.327222Z"
    }
   },
   "outputs": [],
   "source": [
    "ds = TepHarvardDataset()\n",
    "ds.shake_not_stir(random_state=42, valid_test_ratio=1.0, balanced_test=True)"
   ]
  },
  {
   "cell_type": "code",
   "execution_count": 20,
   "id": "65a90b54",
   "metadata": {
    "ExecuteTime": {
     "end_time": "2022-09-05T13:41:51.485253Z",
     "start_time": "2022-09-05T13:41:51.441169Z"
    }
   },
   "outputs": [],
   "source": [
    "watchman = GbmPredictWatchman(random_state=31)"
   ]
  },
  {
   "cell_type": "code",
   "execution_count": 21,
   "id": "58793a20",
   "metadata": {
    "ExecuteTime": {
     "end_time": "2022-09-05T14:02:25.308342Z",
     "start_time": "2022-09-05T13:41:51.488167Z"
    }
   },
   "outputs": [
    {
     "data": {
      "application/vnd.jupyter.widget-view+json": {
       "model_id": "2302939cadc642209a4b5c2e3d1c8d31",
       "version_major": 2,
       "version_minor": 0
      },
      "text/plain": [
       "0it [00:00, ?it/s]"
      ]
     },
     "metadata": {},
     "output_type": "display_data"
    },
    {
     "data": {
      "application/vnd.jupyter.widget-view+json": {
       "model_id": "2e6d52686f044ed8b7476db2359699ff",
       "version_major": 2,
       "version_minor": 0
      },
      "text/plain": [
       "0it [00:00, ?it/s]"
      ]
     },
     "metadata": {},
     "output_type": "display_data"
    },
    {
     "ename": "KeyboardInterrupt",
     "evalue": "",
     "output_type": "error",
     "traceback": [
      "\u001b[1;31m---------------------------------------------------------------------------\u001b[0m",
      "\u001b[1;31mKeyboardInterrupt\u001b[0m                         Traceback (most recent call last)",
      "Input \u001b[1;32mIn [21]\u001b[0m, in \u001b[0;36m<cell line: 3>\u001b[1;34m()\u001b[0m\n\u001b[0;32m      2\u001b[0m     watchman\u001b[38;5;241m.\u001b[39mprefit(train)\n\u001b[0;32m      3\u001b[0m \u001b[38;5;28;01mfor\u001b[39;00m train, _, _ \u001b[38;5;129;01min\u001b[39;00m tqdm(ds\u001b[38;5;241m.\u001b[39mtrain_generator()):\n\u001b[1;32m----> 4\u001b[0m     \u001b[43mwatchman\u001b[49m\u001b[38;5;241;43m.\u001b[39;49m\u001b[43mpartial_fit\u001b[49m\u001b[43m(\u001b[49m\u001b[43mtrain\u001b[49m\u001b[43m)\u001b[49m\n",
      "File \u001b[1;32m~\\Data_science\\skillfactory_rds\\module_final\\utils\\watchmen.py:573\u001b[0m, in \u001b[0;36mGbmPredictWatchman.partial_fit\u001b[1;34m(self, data, tolerance, increment)\u001b[0m\n\u001b[0;32m    571\u001b[0m             \u001b[38;5;28mself\u001b[39m\u001b[38;5;241m.\u001b[39mregressors[c]\u001b[38;5;241m.\u001b[39mfit(x, y, init_model\u001b[38;5;241m=\u001b[39m\u001b[38;5;28mself\u001b[39m\u001b[38;5;241m.\u001b[39mregressors[c])\n\u001b[0;32m    572\u001b[0m     \u001b[38;5;66;03m# compute predict errors\u001b[39;00m\n\u001b[1;32m--> 573\u001b[0m     errors[c] \u001b[38;5;241m=\u001b[39m y \u001b[38;5;241m-\u001b[39m \u001b[38;5;28;43mself\u001b[39;49m\u001b[38;5;241;43m.\u001b[39;49m\u001b[43mregressors\u001b[49m\u001b[43m[\u001b[49m\u001b[43mc\u001b[49m\u001b[43m]\u001b[49m\u001b[38;5;241;43m.\u001b[39;49m\u001b[43mpredict\u001b[49m\u001b[43m(\u001b[49m\u001b[43mx\u001b[49m\u001b[43m)\u001b[49m\n\u001b[0;32m    574\u001b[0m \u001b[38;5;66;03m# update limits\u001b[39;00m\n\u001b[0;32m    575\u001b[0m center \u001b[38;5;241m=\u001b[39m (errors\u001b[38;5;241m.\u001b[39mmax() \u001b[38;5;241m+\u001b[39m errors\u001b[38;5;241m.\u001b[39mmin()) \u001b[38;5;241m/\u001b[39m \u001b[38;5;241m2\u001b[39m\n",
      "File \u001b[1;32m~\\anaconda3\\lib\\site-packages\\lightgbm\\sklearn.py:803\u001b[0m, in \u001b[0;36mLGBMModel.predict\u001b[1;34m(self, X, raw_score, start_iteration, num_iteration, pred_leaf, pred_contrib, **kwargs)\u001b[0m\n\u001b[0;32m    799\u001b[0m \u001b[38;5;28;01mif\u001b[39;00m \u001b[38;5;28mself\u001b[39m\u001b[38;5;241m.\u001b[39m_n_features \u001b[38;5;241m!=\u001b[39m n_features:\n\u001b[0;32m    800\u001b[0m     \u001b[38;5;28;01mraise\u001b[39;00m \u001b[38;5;167;01mValueError\u001b[39;00m(\u001b[38;5;124m\"\u001b[39m\u001b[38;5;124mNumber of features of the model must \u001b[39m\u001b[38;5;124m\"\u001b[39m\n\u001b[0;32m    801\u001b[0m                      \u001b[38;5;124mf\u001b[39m\u001b[38;5;124m\"\u001b[39m\u001b[38;5;124mmatch the input. Model n_features_ is \u001b[39m\u001b[38;5;132;01m{\u001b[39;00m\u001b[38;5;28mself\u001b[39m\u001b[38;5;241m.\u001b[39m_n_features\u001b[38;5;132;01m}\u001b[39;00m\u001b[38;5;124m and \u001b[39m\u001b[38;5;124m\"\u001b[39m\n\u001b[0;32m    802\u001b[0m                      \u001b[38;5;124mf\u001b[39m\u001b[38;5;124m\"\u001b[39m\u001b[38;5;124minput n_features is \u001b[39m\u001b[38;5;132;01m{\u001b[39;00mn_features\u001b[38;5;132;01m}\u001b[39;00m\u001b[38;5;124m\"\u001b[39m)\n\u001b[1;32m--> 803\u001b[0m \u001b[38;5;28;01mreturn\u001b[39;00m \u001b[38;5;28;43mself\u001b[39;49m\u001b[38;5;241;43m.\u001b[39;49m\u001b[43m_Booster\u001b[49m\u001b[38;5;241;43m.\u001b[39;49m\u001b[43mpredict\u001b[49m\u001b[43m(\u001b[49m\u001b[43mX\u001b[49m\u001b[43m,\u001b[49m\u001b[43m \u001b[49m\u001b[43mraw_score\u001b[49m\u001b[38;5;241;43m=\u001b[39;49m\u001b[43mraw_score\u001b[49m\u001b[43m,\u001b[49m\u001b[43m \u001b[49m\u001b[43mstart_iteration\u001b[49m\u001b[38;5;241;43m=\u001b[39;49m\u001b[43mstart_iteration\u001b[49m\u001b[43m,\u001b[49m\u001b[43m \u001b[49m\u001b[43mnum_iteration\u001b[49m\u001b[38;5;241;43m=\u001b[39;49m\u001b[43mnum_iteration\u001b[49m\u001b[43m,\u001b[49m\n\u001b[0;32m    804\u001b[0m \u001b[43m                             \u001b[49m\u001b[43mpred_leaf\u001b[49m\u001b[38;5;241;43m=\u001b[39;49m\u001b[43mpred_leaf\u001b[49m\u001b[43m,\u001b[49m\u001b[43m \u001b[49m\u001b[43mpred_contrib\u001b[49m\u001b[38;5;241;43m=\u001b[39;49m\u001b[43mpred_contrib\u001b[49m\u001b[43m,\u001b[49m\u001b[43m \u001b[49m\u001b[38;5;241;43m*\u001b[39;49m\u001b[38;5;241;43m*\u001b[39;49m\u001b[43mkwargs\u001b[49m\u001b[43m)\u001b[49m\n",
      "File \u001b[1;32m~\\anaconda3\\lib\\site-packages\\lightgbm\\basic.py:3538\u001b[0m, in \u001b[0;36mBooster.predict\u001b[1;34m(self, data, start_iteration, num_iteration, raw_score, pred_leaf, pred_contrib, data_has_header, is_reshape, **kwargs)\u001b[0m\n\u001b[0;32m   3536\u001b[0m     \u001b[38;5;28;01melse\u001b[39;00m:\n\u001b[0;32m   3537\u001b[0m         num_iteration \u001b[38;5;241m=\u001b[39m \u001b[38;5;241m-\u001b[39m\u001b[38;5;241m1\u001b[39m\n\u001b[1;32m-> 3538\u001b[0m \u001b[38;5;28;01mreturn\u001b[39;00m \u001b[43mpredictor\u001b[49m\u001b[38;5;241;43m.\u001b[39;49m\u001b[43mpredict\u001b[49m\u001b[43m(\u001b[49m\u001b[43mdata\u001b[49m\u001b[43m,\u001b[49m\u001b[43m \u001b[49m\u001b[43mstart_iteration\u001b[49m\u001b[43m,\u001b[49m\u001b[43m \u001b[49m\u001b[43mnum_iteration\u001b[49m\u001b[43m,\u001b[49m\n\u001b[0;32m   3539\u001b[0m \u001b[43m                         \u001b[49m\u001b[43mraw_score\u001b[49m\u001b[43m,\u001b[49m\u001b[43m \u001b[49m\u001b[43mpred_leaf\u001b[49m\u001b[43m,\u001b[49m\u001b[43m \u001b[49m\u001b[43mpred_contrib\u001b[49m\u001b[43m,\u001b[49m\n\u001b[0;32m   3540\u001b[0m \u001b[43m                         \u001b[49m\u001b[43mdata_has_header\u001b[49m\u001b[43m,\u001b[49m\u001b[43m \u001b[49m\u001b[43mis_reshape\u001b[49m\u001b[43m)\u001b[49m\n",
      "File \u001b[1;32m~\\anaconda3\\lib\\site-packages\\lightgbm\\basic.py:848\u001b[0m, in \u001b[0;36m_InnerPredictor.predict\u001b[1;34m(self, data, start_iteration, num_iteration, raw_score, pred_leaf, pred_contrib, data_has_header, is_reshape)\u001b[0m\n\u001b[0;32m    846\u001b[0m     preds, nrow \u001b[38;5;241m=\u001b[39m \u001b[38;5;28mself\u001b[39m\u001b[38;5;241m.\u001b[39m__pred_for_csc(data, start_iteration, num_iteration, predict_type)\n\u001b[0;32m    847\u001b[0m \u001b[38;5;28;01melif\u001b[39;00m \u001b[38;5;28misinstance\u001b[39m(data, np\u001b[38;5;241m.\u001b[39mndarray):\n\u001b[1;32m--> 848\u001b[0m     preds, nrow \u001b[38;5;241m=\u001b[39m \u001b[38;5;28;43mself\u001b[39;49m\u001b[38;5;241;43m.\u001b[39;49m\u001b[43m__pred_for_np2d\u001b[49m\u001b[43m(\u001b[49m\u001b[43mdata\u001b[49m\u001b[43m,\u001b[49m\u001b[43m \u001b[49m\u001b[43mstart_iteration\u001b[49m\u001b[43m,\u001b[49m\u001b[43m \u001b[49m\u001b[43mnum_iteration\u001b[49m\u001b[43m,\u001b[49m\u001b[43m \u001b[49m\u001b[43mpredict_type\u001b[49m\u001b[43m)\u001b[49m\n\u001b[0;32m    849\u001b[0m \u001b[38;5;28;01melif\u001b[39;00m \u001b[38;5;28misinstance\u001b[39m(data, \u001b[38;5;28mlist\u001b[39m):\n\u001b[0;32m    850\u001b[0m     \u001b[38;5;28;01mtry\u001b[39;00m:\n",
      "File \u001b[1;32m~\\anaconda3\\lib\\site-packages\\lightgbm\\basic.py:938\u001b[0m, in \u001b[0;36m_InnerPredictor.__pred_for_np2d\u001b[1;34m(self, mat, start_iteration, num_iteration, predict_type)\u001b[0m\n\u001b[0;32m    936\u001b[0m     \u001b[38;5;28;01mreturn\u001b[39;00m preds, nrow\n\u001b[0;32m    937\u001b[0m \u001b[38;5;28;01melse\u001b[39;00m:\n\u001b[1;32m--> 938\u001b[0m     \u001b[38;5;28;01mreturn\u001b[39;00m \u001b[43minner_predict\u001b[49m\u001b[43m(\u001b[49m\u001b[43mmat\u001b[49m\u001b[43m,\u001b[49m\u001b[43m \u001b[49m\u001b[43mstart_iteration\u001b[49m\u001b[43m,\u001b[49m\u001b[43m \u001b[49m\u001b[43mnum_iteration\u001b[49m\u001b[43m,\u001b[49m\u001b[43m \u001b[49m\u001b[43mpredict_type\u001b[49m\u001b[43m)\u001b[49m\n",
      "File \u001b[1;32m~\\anaconda3\\lib\\site-packages\\lightgbm\\basic.py:908\u001b[0m, in \u001b[0;36m_InnerPredictor.__pred_for_np2d.<locals>.inner_predict\u001b[1;34m(mat, start_iteration, num_iteration, predict_type, preds)\u001b[0m\n\u001b[0;32m    906\u001b[0m     \u001b[38;5;28;01mraise\u001b[39;00m \u001b[38;5;167;01mValueError\u001b[39;00m(\u001b[38;5;124m\"\u001b[39m\u001b[38;5;124mWrong length of pre-allocated predict array\u001b[39m\u001b[38;5;124m\"\u001b[39m)\n\u001b[0;32m    907\u001b[0m out_num_preds \u001b[38;5;241m=\u001b[39m ctypes\u001b[38;5;241m.\u001b[39mc_int64(\u001b[38;5;241m0\u001b[39m)\n\u001b[1;32m--> 908\u001b[0m _safe_call(\u001b[43m_LIB\u001b[49m\u001b[38;5;241;43m.\u001b[39;49m\u001b[43mLGBM_BoosterPredictForMat\u001b[49m\u001b[43m(\u001b[49m\n\u001b[0;32m    909\u001b[0m \u001b[43m    \u001b[49m\u001b[38;5;28;43mself\u001b[39;49m\u001b[38;5;241;43m.\u001b[39;49m\u001b[43mhandle\u001b[49m\u001b[43m,\u001b[49m\n\u001b[0;32m    910\u001b[0m \u001b[43m    \u001b[49m\u001b[43mptr_data\u001b[49m\u001b[43m,\u001b[49m\n\u001b[0;32m    911\u001b[0m \u001b[43m    \u001b[49m\u001b[43mctypes\u001b[49m\u001b[38;5;241;43m.\u001b[39;49m\u001b[43mc_int\u001b[49m\u001b[43m(\u001b[49m\u001b[43mtype_ptr_data\u001b[49m\u001b[43m)\u001b[49m\u001b[43m,\u001b[49m\n\u001b[0;32m    912\u001b[0m \u001b[43m    \u001b[49m\u001b[43mctypes\u001b[49m\u001b[38;5;241;43m.\u001b[39;49m\u001b[43mc_int32\u001b[49m\u001b[43m(\u001b[49m\u001b[43mmat\u001b[49m\u001b[38;5;241;43m.\u001b[39;49m\u001b[43mshape\u001b[49m\u001b[43m[\u001b[49m\u001b[38;5;241;43m0\u001b[39;49m\u001b[43m]\u001b[49m\u001b[43m)\u001b[49m\u001b[43m,\u001b[49m\n\u001b[0;32m    913\u001b[0m \u001b[43m    \u001b[49m\u001b[43mctypes\u001b[49m\u001b[38;5;241;43m.\u001b[39;49m\u001b[43mc_int32\u001b[49m\u001b[43m(\u001b[49m\u001b[43mmat\u001b[49m\u001b[38;5;241;43m.\u001b[39;49m\u001b[43mshape\u001b[49m\u001b[43m[\u001b[49m\u001b[38;5;241;43m1\u001b[39;49m\u001b[43m]\u001b[49m\u001b[43m)\u001b[49m\u001b[43m,\u001b[49m\n\u001b[0;32m    914\u001b[0m \u001b[43m    \u001b[49m\u001b[43mctypes\u001b[49m\u001b[38;5;241;43m.\u001b[39;49m\u001b[43mc_int\u001b[49m\u001b[43m(\u001b[49m\u001b[43mC_API_IS_ROW_MAJOR\u001b[49m\u001b[43m)\u001b[49m\u001b[43m,\u001b[49m\n\u001b[0;32m    915\u001b[0m \u001b[43m    \u001b[49m\u001b[43mctypes\u001b[49m\u001b[38;5;241;43m.\u001b[39;49m\u001b[43mc_int\u001b[49m\u001b[43m(\u001b[49m\u001b[43mpredict_type\u001b[49m\u001b[43m)\u001b[49m\u001b[43m,\u001b[49m\n\u001b[0;32m    916\u001b[0m \u001b[43m    \u001b[49m\u001b[43mctypes\u001b[49m\u001b[38;5;241;43m.\u001b[39;49m\u001b[43mc_int\u001b[49m\u001b[43m(\u001b[49m\u001b[43mstart_iteration\u001b[49m\u001b[43m)\u001b[49m\u001b[43m,\u001b[49m\n\u001b[0;32m    917\u001b[0m \u001b[43m    \u001b[49m\u001b[43mctypes\u001b[49m\u001b[38;5;241;43m.\u001b[39;49m\u001b[43mc_int\u001b[49m\u001b[43m(\u001b[49m\u001b[43mnum_iteration\u001b[49m\u001b[43m)\u001b[49m\u001b[43m,\u001b[49m\n\u001b[0;32m    918\u001b[0m \u001b[43m    \u001b[49m\u001b[43mc_str\u001b[49m\u001b[43m(\u001b[49m\u001b[38;5;28;43mself\u001b[39;49m\u001b[38;5;241;43m.\u001b[39;49m\u001b[43mpred_parameter\u001b[49m\u001b[43m)\u001b[49m\u001b[43m,\u001b[49m\n\u001b[0;32m    919\u001b[0m \u001b[43m    \u001b[49m\u001b[43mctypes\u001b[49m\u001b[38;5;241;43m.\u001b[39;49m\u001b[43mbyref\u001b[49m\u001b[43m(\u001b[49m\u001b[43mout_num_preds\u001b[49m\u001b[43m)\u001b[49m\u001b[43m,\u001b[49m\n\u001b[0;32m    920\u001b[0m \u001b[43m    \u001b[49m\u001b[43mpreds\u001b[49m\u001b[38;5;241;43m.\u001b[39;49m\u001b[43mctypes\u001b[49m\u001b[38;5;241;43m.\u001b[39;49m\u001b[43mdata_as\u001b[49m\u001b[43m(\u001b[49m\u001b[43mctypes\u001b[49m\u001b[38;5;241;43m.\u001b[39;49m\u001b[43mPOINTER\u001b[49m\u001b[43m(\u001b[49m\u001b[43mctypes\u001b[49m\u001b[38;5;241;43m.\u001b[39;49m\u001b[43mc_double\u001b[49m\u001b[43m)\u001b[49m\u001b[43m)\u001b[49m\u001b[43m)\u001b[49m)\n\u001b[0;32m    921\u001b[0m \u001b[38;5;28;01mif\u001b[39;00m n_preds \u001b[38;5;241m!=\u001b[39m out_num_preds\u001b[38;5;241m.\u001b[39mvalue:\n\u001b[0;32m    922\u001b[0m     \u001b[38;5;28;01mraise\u001b[39;00m \u001b[38;5;167;01mValueError\u001b[39;00m(\u001b[38;5;124m\"\u001b[39m\u001b[38;5;124mWrong length for predict results\u001b[39m\u001b[38;5;124m\"\u001b[39m)\n",
      "\u001b[1;31mKeyboardInterrupt\u001b[0m: "
     ]
    }
   ],
   "source": [
    "for train, _, _ in tqdm(ds.train_generator()):\n",
    "    watchman.prefit(train)\n",
    "for train, _, _ in tqdm(ds.train_generator()):\n",
    "    watchman.partial_fit(train)"
   ]
  },
  {
   "cell_type": "code",
   "execution_count": null,
   "id": "5eb4ed06",
   "metadata": {
    "ExecuteTime": {
     "end_time": "2022-09-05T14:02:25.312678Z",
     "start_time": "2022-09-05T14:02:25.312678Z"
    }
   },
   "outputs": [],
   "source": [
    "# watchman.limits"
   ]
  },
  {
   "cell_type": "code",
   "execution_count": 22,
   "id": "b5077566",
   "metadata": {
    "ExecuteTime": {
     "end_time": "2022-09-05T14:06:57.989318Z",
     "start_time": "2022-09-05T14:02:27.735791Z"
    }
   },
   "outputs": [
    {
     "data": {
      "application/vnd.jupyter.widget-view+json": {
       "model_id": "587991061d8a479199d0d71949027522",
       "version_major": 2,
       "version_minor": 0
      },
      "text/plain": [
       "0it [00:00, ?it/s]"
      ]
     },
     "metadata": {},
     "output_type": "display_data"
    },
    {
     "ename": "KeyboardInterrupt",
     "evalue": "",
     "output_type": "error",
     "traceback": [
      "\u001b[1;31m---------------------------------------------------------------------------\u001b[0m",
      "\u001b[1;31mKeyboardInterrupt\u001b[0m                         Traceback (most recent call last)",
      "Input \u001b[1;32mIn [22]\u001b[0m, in \u001b[0;36m<cell line: 3>\u001b[1;34m()\u001b[0m\n\u001b[0;32m      2\u001b[0m examine_list \u001b[38;5;241m=\u001b[39m pd\u001b[38;5;241m.\u001b[39mDataFrame(columns\u001b[38;5;241m=\u001b[39m[\u001b[38;5;124m'\u001b[39m\u001b[38;5;124mprecision\u001b[39m\u001b[38;5;124m'\u001b[39m, \u001b[38;5;124m'\u001b[39m\u001b[38;5;124mrecall\u001b[39m\u001b[38;5;124m'\u001b[39m, \u001b[38;5;124m'\u001b[39m\u001b[38;5;124mf1_score\u001b[39m\u001b[38;5;124m'\u001b[39m], dtype\u001b[38;5;241m=\u001b[39m\u001b[38;5;124m'\u001b[39m\u001b[38;5;124mfloat\u001b[39m\u001b[38;5;124m'\u001b[39m)\n\u001b[0;32m      3\u001b[0m \u001b[38;5;28;01mfor\u001b[39;00m valid, faults, info \u001b[38;5;129;01min\u001b[39;00m tqdm(valid_gen):\n\u001b[1;32m----> 4\u001b[0m     detect \u001b[38;5;241m=\u001b[39m \u001b[43mwatchman\u001b[49m\u001b[38;5;241;43m.\u001b[39;49m\u001b[43mpredict\u001b[49m\u001b[43m(\u001b[49m\u001b[43mvalid\u001b[49m\u001b[43m)\u001b[49m\n\u001b[0;32m      5\u001b[0m     examine_list\u001b[38;5;241m.\u001b[39mloc[info] \u001b[38;5;241m=\u001b[39m time_span_metrics(faults, detect)\n",
      "File \u001b[1;32m~\\Data_science\\skillfactory_rds\\module_final\\utils\\watchmen.py:593\u001b[0m, in \u001b[0;36mGbmPredictWatchman.predict\u001b[1;34m(self, data)\u001b[0m\n\u001b[0;32m    591\u001b[0m \u001b[38;5;28;01mfor\u001b[39;00m j, c \u001b[38;5;129;01min\u001b[39;00m \u001b[38;5;28menumerate\u001b[39m(data\u001b[38;5;241m.\u001b[39mcolumns):\n\u001b[0;32m    592\u001b[0m     y \u001b[38;5;241m=\u001b[39m x_[\u001b[38;5;241m1\u001b[39m:, j]  \u001b[38;5;66;03m# without first row\u001b[39;00m\n\u001b[1;32m--> 593\u001b[0m     errors[c] \u001b[38;5;241m=\u001b[39m y \u001b[38;5;241m-\u001b[39m \u001b[38;5;28;43mself\u001b[39;49m\u001b[38;5;241;43m.\u001b[39;49m\u001b[43mregressors\u001b[49m\u001b[43m[\u001b[49m\u001b[43mc\u001b[49m\u001b[43m]\u001b[49m\u001b[38;5;241;43m.\u001b[39;49m\u001b[43mpredict\u001b[49m\u001b[43m(\u001b[49m\u001b[43mx\u001b[49m\u001b[43m)\u001b[49m\n\u001b[0;32m    594\u001b[0m result\u001b[38;5;241m.\u001b[39mloc[data\u001b[38;5;241m.\u001b[39mindex[\u001b[38;5;241m1\u001b[39m]:] \u001b[38;5;241m=\u001b[39m (errors \u001b[38;5;241m<\u001b[39m \u001b[38;5;28mself\u001b[39m\u001b[38;5;241m.\u001b[39mlimits[\u001b[38;5;124m'\u001b[39m\u001b[38;5;124mlo\u001b[39m\u001b[38;5;124m'\u001b[39m]) \u001b[38;5;241m|\u001b[39m (errors \u001b[38;5;241m>\u001b[39m \u001b[38;5;28mself\u001b[39m\u001b[38;5;241m.\u001b[39mlimits[\u001b[38;5;124m'\u001b[39m\u001b[38;5;124mhi\u001b[39m\u001b[38;5;124m'\u001b[39m])\n\u001b[0;32m    595\u001b[0m \u001b[38;5;28;01mif\u001b[39;00m \u001b[38;5;28mself\u001b[39m\u001b[38;5;241m.\u001b[39mspe_hi \u001b[38;5;129;01mis\u001b[39;00m \u001b[38;5;129;01mnot\u001b[39;00m \u001b[38;5;28;01mNone\u001b[39;00m:\n",
      "File \u001b[1;32m~\\anaconda3\\lib\\site-packages\\lightgbm\\sklearn.py:803\u001b[0m, in \u001b[0;36mLGBMModel.predict\u001b[1;34m(self, X, raw_score, start_iteration, num_iteration, pred_leaf, pred_contrib, **kwargs)\u001b[0m\n\u001b[0;32m    799\u001b[0m \u001b[38;5;28;01mif\u001b[39;00m \u001b[38;5;28mself\u001b[39m\u001b[38;5;241m.\u001b[39m_n_features \u001b[38;5;241m!=\u001b[39m n_features:\n\u001b[0;32m    800\u001b[0m     \u001b[38;5;28;01mraise\u001b[39;00m \u001b[38;5;167;01mValueError\u001b[39;00m(\u001b[38;5;124m\"\u001b[39m\u001b[38;5;124mNumber of features of the model must \u001b[39m\u001b[38;5;124m\"\u001b[39m\n\u001b[0;32m    801\u001b[0m                      \u001b[38;5;124mf\u001b[39m\u001b[38;5;124m\"\u001b[39m\u001b[38;5;124mmatch the input. Model n_features_ is \u001b[39m\u001b[38;5;132;01m{\u001b[39;00m\u001b[38;5;28mself\u001b[39m\u001b[38;5;241m.\u001b[39m_n_features\u001b[38;5;132;01m}\u001b[39;00m\u001b[38;5;124m and \u001b[39m\u001b[38;5;124m\"\u001b[39m\n\u001b[0;32m    802\u001b[0m                      \u001b[38;5;124mf\u001b[39m\u001b[38;5;124m\"\u001b[39m\u001b[38;5;124minput n_features is \u001b[39m\u001b[38;5;132;01m{\u001b[39;00mn_features\u001b[38;5;132;01m}\u001b[39;00m\u001b[38;5;124m\"\u001b[39m)\n\u001b[1;32m--> 803\u001b[0m \u001b[38;5;28;01mreturn\u001b[39;00m \u001b[38;5;28;43mself\u001b[39;49m\u001b[38;5;241;43m.\u001b[39;49m\u001b[43m_Booster\u001b[49m\u001b[38;5;241;43m.\u001b[39;49m\u001b[43mpredict\u001b[49m\u001b[43m(\u001b[49m\u001b[43mX\u001b[49m\u001b[43m,\u001b[49m\u001b[43m \u001b[49m\u001b[43mraw_score\u001b[49m\u001b[38;5;241;43m=\u001b[39;49m\u001b[43mraw_score\u001b[49m\u001b[43m,\u001b[49m\u001b[43m \u001b[49m\u001b[43mstart_iteration\u001b[49m\u001b[38;5;241;43m=\u001b[39;49m\u001b[43mstart_iteration\u001b[49m\u001b[43m,\u001b[49m\u001b[43m \u001b[49m\u001b[43mnum_iteration\u001b[49m\u001b[38;5;241;43m=\u001b[39;49m\u001b[43mnum_iteration\u001b[49m\u001b[43m,\u001b[49m\n\u001b[0;32m    804\u001b[0m \u001b[43m                             \u001b[49m\u001b[43mpred_leaf\u001b[49m\u001b[38;5;241;43m=\u001b[39;49m\u001b[43mpred_leaf\u001b[49m\u001b[43m,\u001b[49m\u001b[43m \u001b[49m\u001b[43mpred_contrib\u001b[49m\u001b[38;5;241;43m=\u001b[39;49m\u001b[43mpred_contrib\u001b[49m\u001b[43m,\u001b[49m\u001b[43m \u001b[49m\u001b[38;5;241;43m*\u001b[39;49m\u001b[38;5;241;43m*\u001b[39;49m\u001b[43mkwargs\u001b[49m\u001b[43m)\u001b[49m\n",
      "File \u001b[1;32m~\\anaconda3\\lib\\site-packages\\lightgbm\\basic.py:3532\u001b[0m, in \u001b[0;36mBooster.predict\u001b[1;34m(self, data, start_iteration, num_iteration, raw_score, pred_leaf, pred_contrib, data_has_header, is_reshape, **kwargs)\u001b[0m\n\u001b[0;32m   3485\u001b[0m \u001b[38;5;28;01mdef\u001b[39;00m \u001b[38;5;21mpredict\u001b[39m(\u001b[38;5;28mself\u001b[39m, data, start_iteration\u001b[38;5;241m=\u001b[39m\u001b[38;5;241m0\u001b[39m, num_iteration\u001b[38;5;241m=\u001b[39m\u001b[38;5;28;01mNone\u001b[39;00m,\n\u001b[0;32m   3486\u001b[0m             raw_score\u001b[38;5;241m=\u001b[39m\u001b[38;5;28;01mFalse\u001b[39;00m, pred_leaf\u001b[38;5;241m=\u001b[39m\u001b[38;5;28;01mFalse\u001b[39;00m, pred_contrib\u001b[38;5;241m=\u001b[39m\u001b[38;5;28;01mFalse\u001b[39;00m,\n\u001b[0;32m   3487\u001b[0m             data_has_header\u001b[38;5;241m=\u001b[39m\u001b[38;5;28;01mFalse\u001b[39;00m, is_reshape\u001b[38;5;241m=\u001b[39m\u001b[38;5;28;01mTrue\u001b[39;00m, \u001b[38;5;241m*\u001b[39m\u001b[38;5;241m*\u001b[39mkwargs):\n\u001b[0;32m   3488\u001b[0m     \u001b[38;5;124;03m\"\"\"Make a prediction.\u001b[39;00m\n\u001b[0;32m   3489\u001b[0m \n\u001b[0;32m   3490\u001b[0m \u001b[38;5;124;03m    Parameters\u001b[39;00m\n\u001b[1;32m   (...)\u001b[0m\n\u001b[0;32m   3530\u001b[0m \u001b[38;5;124;03m        Can be sparse or a list of sparse objects (each element represents predictions for one class) for feature contributions (when ``pred_contrib=True``).\u001b[39;00m\n\u001b[0;32m   3531\u001b[0m \u001b[38;5;124;03m    \"\"\"\u001b[39;00m\n\u001b[1;32m-> 3532\u001b[0m     predictor \u001b[38;5;241m=\u001b[39m \u001b[38;5;28;43mself\u001b[39;49m\u001b[38;5;241;43m.\u001b[39;49m\u001b[43m_to_predictor\u001b[49m\u001b[43m(\u001b[49m\u001b[43mdeepcopy\u001b[49m\u001b[43m(\u001b[49m\u001b[43mkwargs\u001b[49m\u001b[43m)\u001b[49m\u001b[43m)\u001b[49m\n\u001b[0;32m   3533\u001b[0m     \u001b[38;5;28;01mif\u001b[39;00m num_iteration \u001b[38;5;129;01mis\u001b[39;00m \u001b[38;5;28;01mNone\u001b[39;00m:\n\u001b[0;32m   3534\u001b[0m         \u001b[38;5;28;01mif\u001b[39;00m start_iteration \u001b[38;5;241m<\u001b[39m\u001b[38;5;241m=\u001b[39m \u001b[38;5;241m0\u001b[39m:\n",
      "File \u001b[1;32m~\\anaconda3\\lib\\site-packages\\lightgbm\\basic.py:3622\u001b[0m, in \u001b[0;36mBooster._to_predictor\u001b[1;34m(self, pred_parameter)\u001b[0m\n\u001b[0;32m   3620\u001b[0m \u001b[38;5;28;01mdef\u001b[39;00m \u001b[38;5;21m_to_predictor\u001b[39m(\u001b[38;5;28mself\u001b[39m, pred_parameter\u001b[38;5;241m=\u001b[39m\u001b[38;5;28;01mNone\u001b[39;00m):\n\u001b[0;32m   3621\u001b[0m     \u001b[38;5;124;03m\"\"\"Convert to predictor.\"\"\"\u001b[39;00m\n\u001b[1;32m-> 3622\u001b[0m     predictor \u001b[38;5;241m=\u001b[39m \u001b[43m_InnerPredictor\u001b[49m\u001b[43m(\u001b[49m\u001b[43mbooster_handle\u001b[49m\u001b[38;5;241;43m=\u001b[39;49m\u001b[38;5;28;43mself\u001b[39;49m\u001b[38;5;241;43m.\u001b[39;49m\u001b[43mhandle\u001b[49m\u001b[43m,\u001b[49m\u001b[43m \u001b[49m\u001b[43mpred_parameter\u001b[49m\u001b[38;5;241;43m=\u001b[39;49m\u001b[43mpred_parameter\u001b[49m\u001b[43m)\u001b[49m\n\u001b[0;32m   3623\u001b[0m     predictor\u001b[38;5;241m.\u001b[39mpandas_categorical \u001b[38;5;241m=\u001b[39m \u001b[38;5;28mself\u001b[39m\u001b[38;5;241m.\u001b[39mpandas_categorical\n\u001b[0;32m   3624\u001b[0m     \u001b[38;5;28;01mreturn\u001b[39;00m predictor\n",
      "File \u001b[1;32m~\\anaconda3\\lib\\site-packages\\lightgbm\\basic.py:766\u001b[0m, in \u001b[0;36m_InnerPredictor.__init__\u001b[1;34m(self, model_file, booster_handle, pred_parameter)\u001b[0m\n\u001b[0;32m    762\u001b[0m     _safe_call(_LIB\u001b[38;5;241m.\u001b[39mLGBM_BoosterGetNumClasses(\n\u001b[0;32m    763\u001b[0m         \u001b[38;5;28mself\u001b[39m\u001b[38;5;241m.\u001b[39mhandle,\n\u001b[0;32m    764\u001b[0m         ctypes\u001b[38;5;241m.\u001b[39mbyref(out_num_class)))\n\u001b[0;32m    765\u001b[0m     \u001b[38;5;28mself\u001b[39m\u001b[38;5;241m.\u001b[39mnum_class \u001b[38;5;241m=\u001b[39m out_num_class\u001b[38;5;241m.\u001b[39mvalue\n\u001b[1;32m--> 766\u001b[0m     \u001b[38;5;28mself\u001b[39m\u001b[38;5;241m.\u001b[39mnum_total_iteration \u001b[38;5;241m=\u001b[39m \u001b[38;5;28;43mself\u001b[39;49m\u001b[38;5;241;43m.\u001b[39;49m\u001b[43mcurrent_iteration\u001b[49m\u001b[43m(\u001b[49m\u001b[43m)\u001b[49m\n\u001b[0;32m    767\u001b[0m     \u001b[38;5;28mself\u001b[39m\u001b[38;5;241m.\u001b[39mpandas_categorical \u001b[38;5;241m=\u001b[39m \u001b[38;5;28;01mNone\u001b[39;00m\n\u001b[0;32m    768\u001b[0m \u001b[38;5;28;01melse\u001b[39;00m:\n",
      "File \u001b[1;32m~\\anaconda3\\lib\\site-packages\\lightgbm\\basic.py:1164\u001b[0m, in \u001b[0;36m_InnerPredictor.current_iteration\u001b[1;34m(self)\u001b[0m\n\u001b[0;32m   1156\u001b[0m \u001b[38;5;124;03m\"\"\"Get the index of the current iteration.\u001b[39;00m\n\u001b[0;32m   1157\u001b[0m \n\u001b[0;32m   1158\u001b[0m \u001b[38;5;124;03mReturns\u001b[39;00m\n\u001b[1;32m   (...)\u001b[0m\n\u001b[0;32m   1161\u001b[0m \u001b[38;5;124;03m    The index of the current iteration.\u001b[39;00m\n\u001b[0;32m   1162\u001b[0m \u001b[38;5;124;03m\"\"\"\u001b[39;00m\n\u001b[0;32m   1163\u001b[0m out_cur_iter \u001b[38;5;241m=\u001b[39m ctypes\u001b[38;5;241m.\u001b[39mc_int(\u001b[38;5;241m0\u001b[39m)\n\u001b[1;32m-> 1164\u001b[0m _safe_call(\u001b[43m_LIB\u001b[49m\u001b[38;5;241;43m.\u001b[39;49m\u001b[43mLGBM_BoosterGetCurrentIteration\u001b[49m\u001b[43m(\u001b[49m\n\u001b[0;32m   1165\u001b[0m \u001b[43m    \u001b[49m\u001b[38;5;28;43mself\u001b[39;49m\u001b[38;5;241;43m.\u001b[39;49m\u001b[43mhandle\u001b[49m\u001b[43m,\u001b[49m\n\u001b[0;32m   1166\u001b[0m \u001b[43m    \u001b[49m\u001b[43mctypes\u001b[49m\u001b[38;5;241;43m.\u001b[39;49m\u001b[43mbyref\u001b[49m\u001b[43m(\u001b[49m\u001b[43mout_cur_iter\u001b[49m\u001b[43m)\u001b[49m\u001b[43m)\u001b[49m)\n\u001b[0;32m   1167\u001b[0m \u001b[38;5;28;01mreturn\u001b[39;00m out_cur_iter\u001b[38;5;241m.\u001b[39mvalue\n",
      "\u001b[1;31mKeyboardInterrupt\u001b[0m: "
     ]
    }
   ],
   "source": [
    "valid_gen = ds.valid_generator()\n",
    "examine_list = pd.DataFrame(columns=['precision', 'recall', 'f1_score'], dtype='float')\n",
    "for valid, faults, info in tqdm(valid_gen):\n",
    "    detect = watchman.predict(valid)\n",
    "    examine_list.loc[info] = time_span_metrics(faults, detect)"
   ]
  },
  {
   "cell_type": "code",
   "execution_count": 23,
   "id": "553172de",
   "metadata": {
    "ExecuteTime": {
     "end_time": "2022-09-05T14:07:00.096836Z",
     "start_time": "2022-09-05T14:07:00.075795Z"
    }
   },
   "outputs": [
    {
     "data": {
      "text/plain": [
       "precision    0.960000\n",
       "recall       1.000000\n",
       "f1_score     0.979592\n",
       "dtype: float64"
      ]
     },
     "execution_count": 23,
     "metadata": {},
     "output_type": "execute_result"
    }
   ],
   "source": [
    "examine_list.mean()"
   ]
  },
  {
   "cell_type": "markdown",
   "id": "c44ef041",
   "metadata": {},
   "source": [
    "## SWaT"
   ]
  },
  {
   "cell_type": "code",
   "execution_count": 24,
   "id": "f8bcb34c",
   "metadata": {
    "ExecuteTime": {
     "end_time": "2022-09-05T14:07:07.715897Z",
     "start_time": "2022-09-05T14:07:07.697785Z"
    }
   },
   "outputs": [],
   "source": [
    "ds = SwatItrustDataset()\n",
    "ds.shake_not_stir(random_state=42, valid_test_ratio=0.5)"
   ]
  },
  {
   "cell_type": "code",
   "execution_count": 27,
   "id": "b92f9913",
   "metadata": {
    "ExecuteTime": {
     "end_time": "2022-09-05T14:09:30.861457Z",
     "start_time": "2022-09-05T14:09:30.845732Z"
    }
   },
   "outputs": [],
   "source": [
    "watchman = GbmPredictWatchman(random_state=31, use_log_state=False)"
   ]
  },
  {
   "cell_type": "code",
   "execution_count": 28,
   "id": "3849a782",
   "metadata": {
    "ExecuteTime": {
     "end_time": "2022-09-05T14:10:53.328563Z",
     "start_time": "2022-09-05T14:09:31.957939Z"
    }
   },
   "outputs": [
    {
     "data": {
      "application/vnd.jupyter.widget-view+json": {
       "model_id": "b7b3a6672839457bbafe8eb1a69071a2",
       "version_major": 2,
       "version_minor": 0
      },
      "text/plain": [
       "0it [00:00, ?it/s]"
      ]
     },
     "metadata": {},
     "output_type": "display_data"
    },
    {
     "data": {
      "application/vnd.jupyter.widget-view+json": {
       "model_id": "033e972076b84b7486b212d4bb68d36a",
       "version_major": 2,
       "version_minor": 0
      },
      "text/plain": [
       "0it [00:00, ?it/s]"
      ]
     },
     "metadata": {},
     "output_type": "display_data"
    }
   ],
   "source": [
    "for train, _, _ in tqdm(ds.train_generator()):\n",
    "    watchman.prefit(train)\n",
    "for train, _, _ in tqdm(ds.train_generator()):\n",
    "    watchman.partial_fit(train)"
   ]
  },
  {
   "cell_type": "code",
   "execution_count": 29,
   "id": "4b84d254",
   "metadata": {
    "ExecuteTime": {
     "end_time": "2022-09-05T14:11:15.968985Z",
     "start_time": "2022-09-05T14:11:15.954530Z"
    }
   },
   "outputs": [],
   "source": [
    "# watchman.limits"
   ]
  },
  {
   "cell_type": "code",
   "execution_count": 30,
   "id": "3699441e",
   "metadata": {
    "ExecuteTime": {
     "end_time": "2022-09-05T14:11:20.298811Z",
     "start_time": "2022-09-05T14:11:16.452961Z"
    }
   },
   "outputs": [
    {
     "data": {
      "application/vnd.jupyter.widget-view+json": {
       "model_id": "a5e9ae205f624b45ab0ed29936b83b10",
       "version_major": 2,
       "version_minor": 0
      },
      "text/plain": [
       "0it [00:00, ?it/s]"
      ]
     },
     "metadata": {},
     "output_type": "display_data"
    }
   ],
   "source": [
    "valid_gen = ds.valid_generator()\n",
    "examine_list = pd.DataFrame(columns=['precision', 'recall', 'f1_score'], dtype='float')\n",
    "for valid, faults, info in tqdm(valid_gen):\n",
    "    detect = watchman.predict(valid)\n",
    "    examine_list.loc[info] = time_span_metrics(faults, detect)"
   ]
  },
  {
   "cell_type": "code",
   "execution_count": 31,
   "id": "5a0ce8a6",
   "metadata": {
    "ExecuteTime": {
     "end_time": "2022-09-05T14:11:20.313761Z",
     "start_time": "2022-09-05T14:11:20.302015Z"
    }
   },
   "outputs": [
    {
     "data": {
      "text/plain": [
       "precision    0.051724\n",
       "recall       1.000000\n",
       "f1_score     0.098361\n",
       "dtype: float64"
      ]
     },
     "execution_count": 31,
     "metadata": {},
     "output_type": "execute_result"
    }
   ],
   "source": [
    "examine_list.mean()"
   ]
  },
  {
   "cell_type": "code",
   "execution_count": null,
   "id": "a6ad2820",
   "metadata": {},
   "outputs": [],
   "source": []
  }
 ],
 "metadata": {
  "kernelspec": {
   "display_name": "Python 3 (ipykernel)",
   "language": "python",
   "name": "python3"
  },
  "language_info": {
   "codemirror_mode": {
    "name": "ipython",
    "version": 3
   },
   "file_extension": ".py",
   "mimetype": "text/x-python",
   "name": "python",
   "nbconvert_exporter": "python",
   "pygments_lexer": "ipython3",
   "version": "3.8.8"
  },
  "toc": {
   "base_numbering": 1,
   "nav_menu": {},
   "number_sections": true,
   "sideBar": true,
   "skip_h1_title": false,
   "title_cell": "Table of Contents",
   "title_sidebar": "Contents",
   "toc_cell": false,
   "toc_position": {},
   "toc_section_display": true,
   "toc_window_display": false
  }
 },
 "nbformat": 4,
 "nbformat_minor": 5
}
