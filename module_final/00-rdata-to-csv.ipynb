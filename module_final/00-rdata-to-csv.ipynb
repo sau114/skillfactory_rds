{
 "cells": [
  {
   "cell_type": "code",
   "execution_count": 1,
   "id": "0ff73b47",
   "metadata": {
    "ExecuteTime": {
     "end_time": "2022-08-04T14:59:12.874902Z",
     "start_time": "2022-08-04T14:59:12.859906Z"
    }
   },
   "outputs": [],
   "source": [
    "# only once\n",
    "# !pip install pyreadr"
   ]
  },
  {
   "cell_type": "markdown",
   "id": "9efc0e1f",
   "metadata": {},
   "source": [
    "# Prepare"
   ]
  },
  {
   "cell_type": "code",
   "execution_count": 2,
   "id": "00734054",
   "metadata": {
    "ExecuteTime": {
     "end_time": "2022-08-04T14:59:13.500815Z",
     "start_time": "2022-08-04T14:59:12.878999Z"
    }
   },
   "outputs": [],
   "source": [
    "# import libraries\n",
    "import os.path\n",
    "import pandas as pd\n",
    "import pyreadr"
   ]
  },
  {
   "cell_type": "code",
   "execution_count": 3,
   "id": "925c51a4",
   "metadata": {
    "ExecuteTime": {
     "end_time": "2022-08-04T14:59:13.516494Z",
     "start_time": "2022-08-04T14:59:13.504417Z"
    }
   },
   "outputs": [],
   "source": [
    "# check memory usage\n",
    "import os\n",
    "import gc\n",
    "import psutil"
   ]
  },
  {
   "cell_type": "code",
   "execution_count": 4,
   "id": "372f2535",
   "metadata": {
    "ExecuteTime": {
     "end_time": "2022-08-04T14:59:13.531481Z",
     "start_time": "2022-08-04T14:59:13.523419Z"
    }
   },
   "outputs": [],
   "source": [
    "DIR = 'E:\\Datasets\\TEP\\dataverse'  # dataset source dir\n",
    "R_FILES = ('TEP_FaultFree_Training.RData',  # datasets RData, sorted by size asc\n",
    "           'TEP_FaultFree_Testing.RData',\n",
    "#            'TEP_Faulty_Training.RData',\n",
    "#            'TEP_Faulty_Testing.RData',\n",
    "        )\n",
    "DTYPES_FILE = 'dtypes.json'  # dtypes of columns"
   ]
  },
  {
   "cell_type": "code",
   "execution_count": 5,
   "id": "d8f82b93",
   "metadata": {
    "ExecuteTime": {
     "end_time": "2022-08-04T14:59:13.546506Z",
     "start_time": "2022-08-04T14:59:13.534506Z"
    }
   },
   "outputs": [],
   "source": [
    "proc = psutil.Process(os.getpid())\n",
    "\n",
    "def print_memusage(prefix=''):\n",
    "# print memory usage info\n",
    "    print(prefix, f'{proc.memory_info().rss/1024**2:0.2f} MB')"
   ]
  },
  {
   "cell_type": "code",
   "execution_count": 6,
   "id": "37eb90d0",
   "metadata": {
    "ExecuteTime": {
     "end_time": "2022-08-04T14:59:13.562610Z",
     "start_time": "2022-08-04T14:59:13.549504Z"
    }
   },
   "outputs": [
    {
     "name": "stdout",
     "output_type": "stream",
     "text": [
      "Before loading 96.90 MB\n"
     ]
    }
   ],
   "source": [
    "print_memusage('Before loading')\n",
    "print()"
   ]
  },
  {
   "cell_type": "markdown",
   "id": "517e6b91",
   "metadata": {},
   "source": [
    "# Convert RData"
   ]
  },
  {
   "cell_type": "code",
   "execution_count": 7,
   "id": "6d2f8762",
   "metadata": {
    "ExecuteTime": {
     "end_time": "2022-08-04T14:59:13.578605Z",
     "start_time": "2022-08-04T14:59:13.566506Z"
    }
   },
   "outputs": [],
   "source": [
    "def optimize_dtypes(df: pd.DataFrame) -> None:\n",
    "    # optimize dataframe by memory usage\n",
    "    uint_columns = df.columns.values[:3]  # this columns can be uint\n",
    "    float_columns = df.columns.values[3:]  # other must be float\n",
    "    df[uint_columns] = df[uint_columns].apply(pd.to_numeric, downcast='unsigned')\n",
    "    df[float_columns] = df[float_columns].apply(pd.to_numeric, downcast='float')\n",
    "    \n",
    "    # saving our dtypes description\n",
    "    dtypes_file = os.path.join(DIR, DTYPES_FILE)\n",
    "    if not os.path.isfile(dtypes_file):\n",
    "        # we need to create it\n",
    "        names = df.dtypes.index  # columns names\n",
    "        types = [c.name for c in df.dtypes]  # columns types\n",
    "        dtypes_dict = dict(zip(names, types))  # dict for pandas.read_csv\n",
    "        with open(dtypes_file, 'w') as f:\n",
    "            json.dump(dtypes_dict, f)\n",
    "        \n",
    "    return"
   ]
  },
  {
   "cell_type": "code",
   "execution_count": 8,
   "id": "839952f5",
   "metadata": {
    "ExecuteTime": {
     "end_time": "2022-08-04T15:10:54.785046Z",
     "start_time": "2022-08-04T14:59:13.582506Z"
    }
   },
   "outputs": [
    {
     "name": "stdout",
     "output_type": "stream",
     "text": [
      "After reading E:\\Datasets\\TEP\\dataverse\\TEP_FaultFree_Training.RData 203.80 MB\n",
      "Dataset fault_free_training with shape (250000, 55)\n",
      "After optimizing 149.87 MB\n",
      "After deleting 104.00 MB\n",
      "After reading E:\\Datasets\\TEP\\dataverse\\TEP_Faulty_Training.RData 2162.84 MB\n",
      "Dataset faulty_training with shape (5000000, 55)\n",
      "After optimizing 1118.68 MB\n",
      "After deleting 108.83 MB\n"
     ]
    }
   ],
   "source": [
    "for f in R_FILES:\n",
    "    r_file = os.path.join(DIR, f)\n",
    "    r_data = pyreadr.read_r(r_file)\n",
    "    print_memusage('After reading ' + r_file)\n",
    "\n",
    "    for k in r_data.keys():\n",
    "        print('Dataset', k, 'with shape', r_data[k].shape)\n",
    "        optimize_dtypes(r_data[k])\n",
    "        print_memusage('After optimizing')\n",
    "        \n",
    "        c_file = os.path.join(DIR, k)\n",
    "        compression_opts = dict(method='zip',\n",
    "                                archive_name=k+'.csv',\n",
    "                               )\n",
    "        r_data[k].to_csv(c_file+'.zip',\n",
    "                         index=False,\n",
    "                         compression=compression_opts,\n",
    "                        )\n",
    "\n",
    "    del r_data  # because need a lot of RAM\n",
    "    print_memusage('After deleting')\n",
    "    print()"
   ]
  }
 ],
 "metadata": {
  "kernelspec": {
   "display_name": "Python 3 (ipykernel)",
   "language": "python",
   "name": "python3"
  },
  "language_info": {
   "codemirror_mode": {
    "name": "ipython",
    "version": 3
   },
   "file_extension": ".py",
   "mimetype": "text/x-python",
   "name": "python",
   "nbconvert_exporter": "python",
   "pygments_lexer": "ipython3",
   "version": "3.8.8"
  },
  "toc": {
   "base_numbering": 1,
   "nav_menu": {},
   "number_sections": true,
   "sideBar": true,
   "skip_h1_title": false,
   "title_cell": "Table of Contents",
   "title_sidebar": "Contents",
   "toc_cell": false,
   "toc_position": {},
   "toc_section_display": true,
   "toc_window_display": false
  }
 },
 "nbformat": 4,
 "nbformat_minor": 5
}
