{
 "cells": [
  {
   "cell_type": "markdown",
   "id": "8824e260",
   "metadata": {},
   "source": [
    "# Prepare"
   ]
  },
  {
   "cell_type": "code",
   "execution_count": 1,
   "id": "00734054",
   "metadata": {
    "ExecuteTime": {
     "end_time": "2022-08-16T08:15:05.782953Z",
     "start_time": "2022-08-16T08:15:04.999892Z"
    }
   },
   "outputs": [],
   "source": [
    "# import libraries\n",
    "import json\n",
    "import os\n",
    "import os.path\n",
    "import pandas as pd"
   ]
  },
  {
   "cell_type": "code",
   "execution_count": 2,
   "id": "372f2535",
   "metadata": {
    "ExecuteTime": {
     "end_time": "2022-08-16T08:15:05.798703Z",
     "start_time": "2022-08-16T08:15:05.782953Z"
    }
   },
   "outputs": [],
   "source": [
    "SOURCE = 'Y:\\\\ZBU\\\\_Datasets\\\\GHL\\\\GHL'  # dataset source dir\n",
    "TARGET = 'E:\\\\Datasets\\\\GHL'\n",
    "# DTYPES_FILE = 'dtypes.json'  # dtypes of columns"
   ]
  },
  {
   "cell_type": "markdown",
   "id": "523b5abe",
   "metadata": {},
   "source": [
    "# Conver data"
   ]
  },
  {
   "cell_type": "code",
   "execution_count": 4,
   "id": "94e4c4c9",
   "metadata": {
    "ExecuteTime": {
     "end_time": "2022-08-16T08:15:05.830658Z",
     "start_time": "2022-08-16T08:15:05.817560Z"
    }
   },
   "outputs": [],
   "source": [
    "# There are tags in the dataset that do not relate to sensor or control signals.\n",
    "# For realistic, let's drop them.\n",
    "\n",
    "# There are duplicates and not integer timestamps.\n",
    "# For realistic, let's fix it.\n",
    "\n",
    "# There is impossible to get values every second for process like this.\n",
    "# For realistic, let's resample to 1 min.\n",
    "\n",
    "def clear_tags(df: pd.DataFrame) -> pd.DataFrame:\n",
    "    # rename columns\n",
    "    rename_dict = {\n",
    "        'Time': 'time',\n",
    "        'limiter.y': 'input_temp_gc',  # let's we have this sensor\n",
    "        'RT_temperature.T': 'rt_temp_gc',\n",
    "        'HT_temperature.T': 'ht_temp_gc',\n",
    "        'C_temperature.T': 'ct_temp_gc',\n",
    "        'RT_level': 'rt_level_m',\n",
    "        'HT_level': 'ht_level_m',\n",
    "        'C_level': 'ct_level_m',\n",
    "        'inj_valve_act': 'input_flow_state',\n",
    "        'dir_valve_act': 'supply_flow_state',\n",
    "        'inv_valve_act': 'return_flow_state',\n",
    "        'out_valve_act': 'output_flow_state',\n",
    "        'heater_act': 'heater_state',  # device with its own regulator\n",
    "#         'RT_level_ini': ,  # level in RT at start of input\n",
    "#         'dT_rand': ,  # random fluctuations of input temperature\n",
    "#         'dt_rand':,  # random fluctuations of relaxing time\n",
    "#         'dL_rand':  # random fluctuations of stop level in RT\n",
    "#         'limiter1.y': 'time_relax',  # resulting relaxing time\n",
    "#         'Relaxing.active': ,  # relax state is control logic value\n",
    "#         'boundary.m_flow_in': 'input_flow_m3h',  # nominal input flow\n",
    "    }\n",
    "    clear_df = (df[rename_dict.keys()]\n",
    "                .rename(columns=rename_dict)\n",
    "               )\n",
    "    clear_df['time'] = clear_df['time'].astype('int')\n",
    "    # change temperature from kelvin to celsius\n",
    "    zero_celsius = 273.0\n",
    "    clear_df['input_temp_gc'] = clear_df['input_temp_gc'] - zero_celsius\n",
    "    clear_df['rt_temp_gc'] = clear_df['rt_temp_gc'] - zero_celsius\n",
    "    clear_df['ht_temp_gc'] = clear_df['ht_temp_gc'] - zero_celsius\n",
    "    clear_df['ct_temp_gc'] = clear_df['ct_temp_gc'] - zero_celsius\n",
    "    # add attack tag\n",
    "    if 'ATTACK' in df.columns:\n",
    "        clear_df['attack'] = df['ATTACK']\n",
    "    else:\n",
    "        clear_df['attack'] = 0\n",
    "    clear_df = (clear_df\n",
    "                .drop_duplicates(subset='time', keep='first')\n",
    "                .set_index('time').loc[0::60]\n",
    "               )\n",
    "    clear_df.index = clear_df.index // 60\n",
    "    return clear_df"
   ]
  },
  {
   "cell_type": "code",
   "execution_count": 5,
   "id": "687ac62b",
   "metadata": {
    "ExecuteTime": {
     "end_time": "2022-08-16T08:15:05.846562Z",
     "start_time": "2022-08-16T08:15:05.832591Z"
    }
   },
   "outputs": [],
   "source": [
    "def optimize_dtypes(df: pd.DataFrame) -> None:\n",
    "    # optimize dataframe by memory usage\n",
    "    uint_columns = df.columns.values[7:]  # this columns can be uint\n",
    "    float_columns = df.columns.values[:7]  # other must be float\n",
    "    \n",
    "    df[uint_columns] = df[uint_columns].apply(pd.to_numeric, downcast='unsigned')\n",
    "    df[float_columns] = df[float_columns].apply(pd.to_numeric, downcast='float')\n",
    "    \n",
    "    # saving our dtypes description for further use\n",
    "#     dtypes_file = os.path.join(DIR, DTYPES_FILE)\n",
    "#     if not os.path.isfile(dtypes_file):\n",
    "#         # we need to create it\n",
    "#         names = df.dtypes.index  # columns names\n",
    "#         types = [c.name for c in df.dtypes]  # columns types\n",
    "#         dtypes_dict = dict(zip(names, types))  # dict for pandas.read_csv\n",
    "#         with open(dtypes_file, 'w') as f:\n",
    "#             json.dump(dtypes_dict, f)\n",
    "        \n",
    "    return"
   ]
  },
  {
   "cell_type": "code",
   "execution_count": 6,
   "id": "839952f5",
   "metadata": {
    "ExecuteTime": {
     "end_time": "2022-08-16T08:15:49.711242Z",
     "start_time": "2022-08-16T08:15:05.849562Z"
    }
   },
   "outputs": [
    {
     "name": "stdout",
     "output_type": "stream",
     "text": [
      "Before loading 105.59 MB\n",
      "\n",
      "After reading 01_Lev_fault_Temp_corr_seed_11_vars_23.csv 142.46 MB\n",
      "\n",
      "After reading 02_Lev_fault_Temp_corr_seed_17_vars_23.csv 148.28 MB\n",
      "\n",
      "After reading 03_Lev_fault_Temp_corr_seed_19_vars_23.csv 148.74 MB\n",
      "\n",
      "After reading 04_Lev_fault_Temp_corr_seed_23_vars_23.csv 149.04 MB\n",
      "\n",
      "After reading 05_Lev_fault_Temp_corr_seed_27_vars_23.csv 149.13 MB\n",
      "\n",
      "After reading 06_Lev_fault_Temp_corr_seed_29_vars_23.csv 149.43 MB\n",
      "\n",
      "After reading 07_Lev_fault_Temp_corr_seed_31_vars_23.csv 149.24 MB\n",
      "\n",
      "After reading 08_Lev_fault_Temp_corr_seed_33_vars_23.csv 149.55 MB\n",
      "\n",
      "After reading 09_Lev_fault_Temp_corr_seed_37_vars_23.csv 149.36 MB\n",
      "\n",
      "After reading 10_Lev_fault_Temp_corr_seed_39_vars_23.csv 149.37 MB\n",
      "\n",
      "After reading 11_Lev_fault_Temp_corr_seed_41_vars_23.csv 149.73 MB\n",
      "\n",
      "After reading 12_Lev_fault_Temp_corr_seed_43_vars_23.csv 149.82 MB\n",
      "\n",
      "After reading 13_Lev_fault_Temp_corr_seed_666_vars_23.csv 149.71 MB\n",
      "\n",
      "After reading 14_Lev_fault_Temp_corr_seed_47_vars_23.csv 149.70 MB\n",
      "\n",
      "After reading 15_Lev_fault_Temp_corr_seed_49_vars_23.csv 151.22 MB\n",
      "\n",
      "After reading 16_Lev_fault_Temp_corr_seed_53_vars_23.csv 150.36 MB\n",
      "\n",
      "After reading 17_Lev_fault_Temp_corr_seed_57_vars_23.csv 149.63 MB\n",
      "\n",
      "After reading 18_Lev_fault_Temp_corr_seed_59_vars_23.csv 150.68 MB\n",
      "\n",
      "After reading 19_Lev_fault_Temp_corr_seed_62_vars_23.csv 150.60 MB\n",
      "\n",
      "After reading 20_Lev_fault_Temp_corr_seed_67_vars_23.csv 151.02 MB\n",
      "\n",
      "After reading 21_Lev_fault_Temp_corr_seed_73_vars_23.csv 149.81 MB\n",
      "\n",
      "After reading 22_Lev_fault_Temp_corr_seed_777_vars_23.csv 150.16 MB\n",
      "\n",
      "After reading 23_Lev_fault_Temp_corr_seed_79_vars_23.csv 150.65 MB\n",
      "\n",
      "After reading 24_Lev_fault_Temp_corr_seed_83_vars_23.csv 149.95 MB\n",
      "\n",
      "After reading 25_Lev_corr_Temp_fault_seed_111_vars_23.csv 150.89 MB\n",
      "\n",
      "After reading 26_Lev_corr_Temp_fault_seed_113_vars_23.csv 150.66 MB\n",
      "\n",
      "After reading 27_Lev_corr_Temp_fault_seed_115_vars_23.csv 150.73 MB\n",
      "\n",
      "After reading 28_Lev_corr_Temp_fault_seed_119_vars_23.csv 150.62 MB\n",
      "\n",
      "After reading 29_Lev_corr_Temp_fault_seed_120_vars_23.csv 151.23 MB\n",
      "\n",
      "After reading 30_Lev_corr_Temp_fault_seed_130_vars_23.csv 151.40 MB\n",
      "\n",
      "After reading 31_Lev_corr_Temp_fault_seed_132_vars_23.csv 150.54 MB\n",
      "\n",
      "After reading 32_Lev_corr_Temp_fault_seed_137_vars_23.csv 150.48 MB\n",
      "\n",
      "After reading 33_Lev_corr_Temp_fault_seed_139_vars_23.csv 179.42 MB\n",
      "\n",
      "After reading 34_Lev_corr_Temp_fault_seed_151_vars_23.csv 150.27 MB\n",
      "\n",
      "After reading 35_Lev_corr_Temp_fault_seed_153_vars_23.csv 181.09 MB\n",
      "\n",
      "After reading 36_Lev_corr_Temp_fault_seed_159_vars_23.csv 150.91 MB\n",
      "\n",
      "After reading 37_Lev_corr_Temp_fault_seed_163_vars_23.csv 182.48 MB\n",
      "\n",
      "After reading 38_Lev_corr_Temp_fault_seed_166_vars_23.csv 149.74 MB\n",
      "\n",
      "After reading 39_Lev_corr_Temp_fault_seed_170_vars_23.csv 181.10 MB\n",
      "\n",
      "After reading 40_Lev_corr_Temp_fault_seed_180_vars_23.csv 182.72 MB\n",
      "\n",
      "After reading 41_Lev_corr_Temp_fault_seed_181_vars_23.csv 182.93 MB\n",
      "\n",
      "After reading 42_Lev_corr_Temp_fault_seed_185_vars_23.csv 182.95 MB\n",
      "\n",
      "After reading 43_Lev_corr_Temp_fault_seed_189_vars_23.csv 182.74 MB\n",
      "\n",
      "After reading 44_Lev_corr_Temp_fault_seed_190_vars_23.csv 182.16 MB\n",
      "\n",
      "After reading 45_Lev_corr_Temp_fault_seed_193_vars_23.csv 182.48 MB\n",
      "\n",
      "After reading 46_Lev_corr_Temp_fault_seed_194_vars_23.csv 182.52 MB\n",
      "\n",
      "After reading 47_Lev_corr_Temp_fault_seed_197_vars_23.csv 183.26 MB\n",
      "\n",
      "After reading 48_Lev_corr_Temp_fault_seed_199_vars_23.csv 184.59 MB\n",
      "\n",
      "After reading train_1500000_seed_11_vars_23.csv 350.14 MB\n",
      "\n"
     ]
    }
   ],
   "source": [
    "print_memusage('Before loading')\n",
    "print()\n",
    "\n",
    "inp_dir = 'GHL'\n",
    "train_dir = 'train'\n",
    "test_dir = 'test'\n",
    "\n",
    "files = os.listdir(os.path.join(SOURCE, inp_dir))\n",
    "\n",
    "if not os.path.isdir(os.path.join(TARGET, train_dir)):\n",
    "    os.mkdir(os.path.join(TARGET, train_dir))\n",
    "\n",
    "if not os.path.isdir(os.path.join(TARGET, test_dir)):\n",
    "    os.mkdir(os.path.join(TARGET, test_dir))\n",
    "\n",
    "for f in files:\n",
    "    data = pd.read_csv(os.path.join(SOURCE, inp_dir, f))\n",
    "    print_memusage('After reading ' + f)\n",
    "    \n",
    "    data_ = clear_tags(data)\n",
    "    \n",
    "    optimize_dtypes(data_)\n",
    "    \n",
    "    f_ = os.path.splitext(f)[0] + '.snappy'\n",
    "    if data_['attack'].max() > 0:\n",
    "        data_.to_parquet(os.path.join(TARGET, test_dir, f_), compression='snappy')\n",
    "    else:\n",
    "        data_.to_parquet(os.path.join(TARGET, train_dir, f_), compression='snappy')\n",
    "    print()"
   ]
  }
 ],
 "metadata": {
  "kernelspec": {
   "display_name": "Python 3 (ipykernel)",
   "language": "python",
   "name": "python3"
  },
  "language_info": {
   "codemirror_mode": {
    "name": "ipython",
    "version": 3
   },
   "file_extension": ".py",
   "mimetype": "text/x-python",
   "name": "python",
   "nbconvert_exporter": "python",
   "pygments_lexer": "ipython3",
   "version": "3.8.8"
  },
  "toc": {
   "base_numbering": 1,
   "nav_menu": {},
   "number_sections": true,
   "sideBar": true,
   "skip_h1_title": false,
   "title_cell": "Table of Contents",
   "title_sidebar": "Contents",
   "toc_cell": false,
   "toc_position": {},
   "toc_section_display": true,
   "toc_window_display": false
  }
 },
 "nbformat": 4,
 "nbformat_minor": 5
}
