{
 "cells": [
  {
   "cell_type": "markdown",
   "id": "568f98d8",
   "metadata": {},
   "source": [
    "IMPORTANT: One of dataset is too large for loading in jupyter. You can get \"MemoryError: Unable to allocate 3.79 GiB for an array with shape (53, 9600000) and data type float64\"."
   ]
  },
  {
   "cell_type": "markdown",
   "id": "8824e260",
   "metadata": {},
   "source": [
    "# Prepare"
   ]
  },
  {
   "cell_type": "code",
   "execution_count": 1,
   "id": "00734054",
   "metadata": {
    "ExecuteTime": {
     "end_time": "2022-09-06T09:47:48.187386Z",
     "start_time": "2022-09-06T09:47:47.375828Z"
    }
   },
   "outputs": [],
   "source": [
    "# import libraries\n",
    "import os\n",
    "import os.path\n",
    "import pandas as pd\n",
    "import pyreadr\n",
    "from tqdm.notebook import tqdm"
   ]
  },
  {
   "cell_type": "code",
   "execution_count": 2,
   "id": "372f2535",
   "metadata": {
    "ExecuteTime": {
     "end_time": "2022-09-06T09:47:48.208898Z",
     "start_time": "2022-09-06T09:47:48.188367Z"
    }
   },
   "outputs": [],
   "source": [
    "SOURCE = 'Y:\\\\ZBU\\\\_Datasets\\\\TEP\\\\dataverse'  # dataset source dir\n",
    "R_FILES = ('TEP_FaultFree_Training.RData',  # datasets RData, sorted by size\n",
    "           'TEP_FaultFree_Testing.RData',\n",
    "           'TEP_Faulty_Training.RData',\n",
    "           'TEP_Faulty_Testing.RData',\n",
    "        )\n",
    "TARGET = 'E:\\\\Datasets\\\\TEP\\\\dataverse'"
   ]
  },
  {
   "cell_type": "markdown",
   "id": "523b5abe",
   "metadata": {},
   "source": [
    "# Convert RData"
   ]
  },
  {
   "cell_type": "code",
   "execution_count": 3,
   "id": "2404980d",
   "metadata": {
    "ExecuteTime": {
     "end_time": "2022-09-06T09:47:48.238125Z",
     "start_time": "2022-09-06T09:47:48.212427Z"
    }
   },
   "outputs": [],
   "source": [
    "def rename_columns(df: pd.DataFrame) -> None:\n",
    "    # rename columns\n",
    "    rename_dict = {\n",
    "        \"xmeas_1\": \"inp_a_flow_ksm3h\",\n",
    "        \"xmeas_2\": \"inp_d_flow_kgh\",\n",
    "        \"xmeas_3\": \"inp_e_flow_kgh\",\n",
    "        \"xmeas_4\": \"inp_c_flow_ksm3h\",\n",
    "        \"xmeas_5\": \"recyl_flow_ksm3h\",\n",
    "        \"xmeas_6\": \"react_flow_ksm3h\",\n",
    "        \"xmeas_7\": \"react_press_kpa\",\n",
    "        \"xmeas_8\": \"react_level_pc\",\n",
    "        \"xmeas_9\": \"react_temp_gc\",\n",
    "        \"xmeas_10\": \"purge_flow_ksm3h\",\n",
    "        \"xmeas_11\": \"seprt_temp_gc\",\n",
    "        \"xmeas_12\": \"seprt_level_pc\",\n",
    "        \"xmeas_13\": \"seprt_press_kpa\",\n",
    "        \"xmeas_14\": \"seprt_flow_m3h\",\n",
    "        \"xmeas_15\": \"strip_level_pc\",\n",
    "        \"xmeas_16\": \"strip_press_kpa\",\n",
    "        \"xmeas_17\": \"prod_flow_m3h\",\n",
    "        \"xmeas_18\": \"strip_temp_gc\",\n",
    "        \"xmeas_19\": \"steam_flow_kgh\",\n",
    "        \"xmeas_20\": \"compr_power_kw\",\n",
    "        \"xmeas_21\": \"re_cl_temp_gc\",\n",
    "        \"xmeas_22\": \"co_cl_temp_gc\",\n",
    "        \"xmeas_23\": \"react_a_prt_molp\",\n",
    "        \"xmeas_24\": \"react_b_prt_molp\",\n",
    "        \"xmeas_25\": \"react_c_prt_molp\",\n",
    "        \"xmeas_26\": \"react_d_prt_molp\",\n",
    "        \"xmeas_27\": \"react_e_prt_molp\",\n",
    "        \"xmeas_28\": \"react_f_prt_molp\",\n",
    "        \"xmeas_29\": \"purge_a_prt_molp\",\n",
    "        \"xmeas_30\": \"purge_b_prt_molp\",\n",
    "        \"xmeas_31\": \"purge_c_prt_molp\",\n",
    "        \"xmeas_32\": \"purge_d_prt_molp\",\n",
    "        \"xmeas_33\": \"purge_e_prt_molp\",\n",
    "        \"xmeas_34\": \"purge_f_prt_molp\",\n",
    "        \"xmeas_35\": \"purge_g_prt_molp\",\n",
    "        \"xmeas_36\": \"purge_h_prt_molp\",\n",
    "        \"xmeas_37\": \"prod_d_prt_molp\",\n",
    "        \"xmeas_38\": \"prod_e_prt_molp\",\n",
    "        \"xmeas_39\": \"prod_f_prt_molp\",\n",
    "        \"xmeas_40\": \"prod_g_prt_molp\",\n",
    "        \"xmeas_41\": \"prod_h_prt_molp\",\n",
    "        \"xmv_1\": \"inp_d_feed_pc\",\n",
    "        \"xmv_2\": \"inp_e_feed_pc\",\n",
    "        \"xmv_3\": \"inp_a_feed_pc\",\n",
    "        \"xmv_4\": \"inp_c_feed_pc\",\n",
    "        \"xmv_5\": \"compr_valv_pc\",\n",
    "        \"xmv_6\": \"purge_feed_pc\",\n",
    "        \"xmv_7\": \"seprt_feed_pc\",\n",
    "        \"xmv_8\": \"strip_feed_pc\",\n",
    "        \"xmv_9\": \"steam_feed_pc\",\n",
    "        \"xmv_10\": \"re_cl_feed_pc\",\n",
    "        \"xmv_11\": \"co_cl_feed_pc\",\n",
    "        'sample': 'time',\n",
    "        'faultNumber': 'anomaly',\n",
    "        'simulationRun': 'run'\n",
    "    }\n",
    "    df.rename(columns=rename_dict, inplace=True)\n",
    "    return"
   ]
  },
  {
   "cell_type": "code",
   "execution_count": 4,
   "id": "25e40a2f",
   "metadata": {
    "ExecuteTime": {
     "end_time": "2022-09-06T09:47:48.256524Z",
     "start_time": "2022-09-06T09:47:48.242428Z"
    }
   },
   "outputs": [],
   "source": [
    "def index_and_downsample(df: pd.DataFrame) -> None:\n",
    "    # set index\n",
    "    df['time'] = pd.to_datetime((df['time'].astype('int')-1)*3, unit='m', origin='2017-07-06T00:00:00')\n",
    "    df.set_index('time', inplace=True)\n",
    "    df.index.name = None\n",
    "    # downsample don't need\n",
    "    # df = df.resample('1 min').first()\n",
    "    return df"
   ]
  },
  {
   "cell_type": "code",
   "execution_count": 5,
   "id": "687ac62b",
   "metadata": {
    "ExecuteTime": {
     "end_time": "2022-09-06T09:47:48.284199Z",
     "start_time": "2022-09-06T09:47:48.256524Z"
    }
   },
   "outputs": [],
   "source": [
    "def optimize_dtypes(df: pd.DataFrame) -> None:\n",
    "    # optimize dataframe by memory usage\n",
    "    uint_columns = [\n",
    "        'anomaly',\n",
    "        'run',\n",
    "    ]\n",
    "    float_columns = [c for c in df.columns if c not in uint_columns]\n",
    "    \n",
    "    df[uint_columns] = df[uint_columns].apply(pd.to_numeric, downcast='unsigned')\n",
    "    df[float_columns] = df[float_columns].apply(pd.to_numeric, downcast='float')\n",
    "    \n",
    "    return"
   ]
  },
  {
   "cell_type": "code",
   "execution_count": 6,
   "id": "9ca48b9c",
   "metadata": {
    "ExecuteTime": {
     "end_time": "2022-09-06T09:47:48.309229Z",
     "start_time": "2022-09-06T09:47:48.284613Z"
    }
   },
   "outputs": [],
   "source": [
    "def split_n_save(df: pd.DataFrame, subdir: str) -> None:\n",
    "    outdir = os.path.join(TARGET, subdir)\n",
    "    if not os.path.isdir(outdir):\n",
    "        os.mkdir(outdir)\n",
    "    for anomaly in df['anomaly'].unique():\n",
    "        for run in df['run'].unique():\n",
    "            sub_df = df.query(f'anomaly=={anomaly} and run=={run}').drop(columns=['run'])\n",
    "            # mark normal period\n",
    "            if 'training' in subdir:\n",
    "                # first 1 hour\n",
    "                sub_df.loc[:'2017-07-06T01:00:00', 'anomaly'] = 0\n",
    "            elif 'testing' in subdir:\n",
    "                # first 8 hours\n",
    "                sub_df.loc[:'2017-07-06T08:00:00', 'anomaly'] = 0\n",
    "            fname = os.path.join(outdir, f'{subdir}_run_{run:03d}_fault_{anomaly:03d}.snappy')\n",
    "            sub_df.to_parquet(fname, compression='snappy')\n",
    "    return"
   ]
  },
  {
   "cell_type": "code",
   "execution_count": 7,
   "id": "839952f5",
   "metadata": {
    "ExecuteTime": {
     "end_time": "2022-09-06T09:48:05.917851Z",
     "start_time": "2022-09-06T09:47:48.309447Z"
    }
   },
   "outputs": [
    {
     "name": "stdout",
     "output_type": "stream",
     "text": [
      "Dataset fault_free_training with shape (250000, 55)\n"
     ]
    },
    {
     "ename": "NameError",
     "evalue": "name 'stop' is not defined",
     "output_type": "error",
     "traceback": [
      "\u001b[1;31m---------------------------------------------------------------------------\u001b[0m",
      "\u001b[1;31mNameError\u001b[0m                                 Traceback (most recent call last)",
      "Input \u001b[1;32mIn [7]\u001b[0m, in \u001b[0;36m<cell line: 4>\u001b[1;34m()\u001b[0m\n\u001b[0;32m     11\u001b[0m optimize_dtypes(r_data[k])\n\u001b[0;32m     12\u001b[0m split_n_save(r_data[k], k)\n\u001b[1;32m---> 13\u001b[0m \u001b[43mstop\u001b[49m\n",
      "\u001b[1;31mNameError\u001b[0m: name 'stop' is not defined"
     ]
    }
   ],
   "source": [
    "if not os.path.isdir(TARGET):\n",
    "    os.mkdir(os.path.join(TARGET))\n",
    "\n",
    "for f in R_FILES:\n",
    "    r_file = os.path.join(SOURCE, f)\n",
    "    r_data = pyreadr.read_r(r_file)\n",
    "    for k in r_data.keys():\n",
    "        print('Dataset', k, 'with shape', r_data[k].shape)\n",
    "        rename_columns(r_data[k])\n",
    "        index_and_downsample(r_data[k])\n",
    "        optimize_dtypes(r_data[k])\n",
    "        split_n_save(r_data[k], k)"
   ]
  },
  {
   "cell_type": "code",
   "execution_count": 11,
   "id": "9854e4dc",
   "metadata": {
    "ExecuteTime": {
     "end_time": "2022-09-06T09:50:05.306753Z",
     "start_time": "2022-09-06T09:50:05.292545Z"
    }
   },
   "outputs": [
    {
     "data": {
      "text/plain": [
       "DatetimeIndex(['2017-07-06 00:00:00', '2017-07-06 00:03:00',\n",
       "               '2017-07-06 00:06:00', '2017-07-06 00:09:00',\n",
       "               '2017-07-06 00:12:00', '2017-07-06 00:15:00',\n",
       "               '2017-07-06 00:18:00', '2017-07-06 00:21:00',\n",
       "               '2017-07-06 00:24:00', '2017-07-06 00:27:00',\n",
       "               ...\n",
       "               '2017-07-07 00:30:00', '2017-07-07 00:33:00',\n",
       "               '2017-07-07 00:36:00', '2017-07-07 00:39:00',\n",
       "               '2017-07-07 00:42:00', '2017-07-07 00:45:00',\n",
       "               '2017-07-07 00:48:00', '2017-07-07 00:51:00',\n",
       "               '2017-07-07 00:54:00', '2017-07-07 00:57:00'],\n",
       "              dtype='datetime64[ns]', length=250000, freq=None)"
      ]
     },
     "execution_count": 11,
     "metadata": {},
     "output_type": "execute_result"
    }
   ],
   "source": [
    "r_data['fault_free_training'].index"
   ]
  },
  {
   "cell_type": "markdown",
   "id": "9188607a",
   "metadata": {},
   "source": [
    "# Self-Check"
   ]
  },
  {
   "cell_type": "code",
   "execution_count": 8,
   "id": "3034f53e",
   "metadata": {
    "ExecuteTime": {
     "end_time": "2022-09-06T09:49:20.547851Z",
     "start_time": "2022-09-06T09:49:20.433701Z"
    }
   },
   "outputs": [
    {
     "name": "stdout",
     "output_type": "stream",
     "text": [
      "<class 'pandas.core.frame.DataFrame'>\n",
      "DatetimeIndex: 500 entries, 2017-07-06 00:00:00 to 2017-07-07 00:57:00\n",
      "Data columns (total 53 columns):\n",
      " #   Column            Non-Null Count  Dtype  \n",
      "---  ------            --------------  -----  \n",
      " 0   anomaly           500 non-null    uint8  \n",
      " 1   inp_a_flow_ksm3h  500 non-null    float32\n",
      " 2   inp_d_flow_kgh    500 non-null    float32\n",
      " 3   inp_e_flow_kgh    500 non-null    float32\n",
      " 4   inp_c_flow_ksm3h  500 non-null    float32\n",
      " 5   recyl_flow_ksm3h  500 non-null    float32\n",
      " 6   react_flow_ksm3h  500 non-null    float32\n",
      " 7   react_press_kpa   500 non-null    float32\n",
      " 8   react_level_pc    500 non-null    float32\n",
      " 9   react_temp_gc     500 non-null    float32\n",
      " 10  purge_flow_ksm3h  500 non-null    float32\n",
      " 11  seprt_temp_gc     500 non-null    float32\n",
      " 12  seprt_level_pc    500 non-null    float32\n",
      " 13  seprt_press_kpa   500 non-null    float32\n",
      " 14  seprt_flow_m3h    500 non-null    float32\n",
      " 15  strip_level_pc    500 non-null    float32\n",
      " 16  strip_press_kpa   500 non-null    float32\n",
      " 17  prod_flow_m3h     500 non-null    float32\n",
      " 18  strip_temp_gc     500 non-null    float32\n",
      " 19  steam_flow_kgh    500 non-null    float32\n",
      " 20  compr_power_kw    500 non-null    float32\n",
      " 21  re_cl_temp_gc     500 non-null    float32\n",
      " 22  co_cl_temp_gc     500 non-null    float32\n",
      " 23  react_a_prt_molp  500 non-null    float32\n",
      " 24  react_b_prt_molp  500 non-null    float32\n",
      " 25  react_c_prt_molp  500 non-null    float32\n",
      " 26  react_d_prt_molp  500 non-null    float32\n",
      " 27  react_e_prt_molp  500 non-null    float32\n",
      " 28  react_f_prt_molp  500 non-null    float32\n",
      " 29  purge_a_prt_molp  500 non-null    float32\n",
      " 30  purge_b_prt_molp  500 non-null    float32\n",
      " 31  purge_c_prt_molp  500 non-null    float32\n",
      " 32  purge_d_prt_molp  500 non-null    float32\n",
      " 33  purge_e_prt_molp  500 non-null    float32\n",
      " 34  purge_f_prt_molp  500 non-null    float32\n",
      " 35  purge_g_prt_molp  500 non-null    float32\n",
      " 36  purge_h_prt_molp  500 non-null    float32\n",
      " 37  prod_d_prt_molp   500 non-null    float32\n",
      " 38  prod_e_prt_molp   500 non-null    float32\n",
      " 39  prod_f_prt_molp   500 non-null    float32\n",
      " 40  prod_g_prt_molp   500 non-null    float32\n",
      " 41  prod_h_prt_molp   500 non-null    float32\n",
      " 42  inp_d_feed_pc     500 non-null    float32\n",
      " 43  inp_e_feed_pc     500 non-null    float32\n",
      " 44  inp_a_feed_pc     500 non-null    float32\n",
      " 45  inp_c_feed_pc     500 non-null    float32\n",
      " 46  compr_valv_pc     500 non-null    float32\n",
      " 47  purge_feed_pc     500 non-null    float32\n",
      " 48  seprt_feed_pc     500 non-null    float32\n",
      " 49  strip_feed_pc     500 non-null    float32\n",
      " 50  steam_feed_pc     500 non-null    float32\n",
      " 51  re_cl_feed_pc     500 non-null    float32\n",
      " 52  co_cl_feed_pc     500 non-null    float32\n",
      "dtypes: float32(52), uint8(1)\n",
      "memory usage: 106.0 KB\n"
     ]
    }
   ],
   "source": [
    "data = pd.read_parquet(os.path.join(TARGET, 'fault_free_training', 'fault_free_training_run_001_fault_000.snappy'))\n",
    "data.info()"
   ]
  },
  {
   "cell_type": "code",
   "execution_count": 9,
   "id": "40b65cd0",
   "metadata": {
    "ExecuteTime": {
     "end_time": "2022-09-06T09:49:31.317339Z",
     "start_time": "2022-09-06T09:49:31.292199Z"
    }
   },
   "outputs": [
    {
     "data": {
      "text/plain": [
       "DatetimeIndex(['2017-07-06 00:00:00', '2017-07-06 00:03:00',\n",
       "               '2017-07-06 00:06:00', '2017-07-06 00:09:00',\n",
       "               '2017-07-06 00:12:00', '2017-07-06 00:15:00',\n",
       "               '2017-07-06 00:18:00', '2017-07-06 00:21:00',\n",
       "               '2017-07-06 00:24:00', '2017-07-06 00:27:00',\n",
       "               ...\n",
       "               '2017-07-07 00:30:00', '2017-07-07 00:33:00',\n",
       "               '2017-07-07 00:36:00', '2017-07-07 00:39:00',\n",
       "               '2017-07-07 00:42:00', '2017-07-07 00:45:00',\n",
       "               '2017-07-07 00:48:00', '2017-07-07 00:51:00',\n",
       "               '2017-07-07 00:54:00', '2017-07-07 00:57:00'],\n",
       "              dtype='datetime64[ns]', length=500, freq=None)"
      ]
     },
     "execution_count": 9,
     "metadata": {},
     "output_type": "execute_result"
    }
   ],
   "source": [
    "data.index"
   ]
  },
  {
   "cell_type": "code",
   "execution_count": null,
   "id": "63e6b71f",
   "metadata": {},
   "outputs": [],
   "source": []
  }
 ],
 "metadata": {
  "kernelspec": {
   "display_name": "Python 3 (ipykernel)",
   "language": "python",
   "name": "python3"
  },
  "language_info": {
   "codemirror_mode": {
    "name": "ipython",
    "version": 3
   },
   "file_extension": ".py",
   "mimetype": "text/x-python",
   "name": "python",
   "nbconvert_exporter": "python",
   "pygments_lexer": "ipython3",
   "version": "3.8.8"
  },
  "toc": {
   "base_numbering": 1,
   "nav_menu": {},
   "number_sections": true,
   "sideBar": true,
   "skip_h1_title": false,
   "title_cell": "Table of Contents",
   "title_sidebar": "Contents",
   "toc_cell": false,
   "toc_position": {},
   "toc_section_display": true,
   "toc_window_display": false
  }
 },
 "nbformat": 4,
 "nbformat_minor": 5
}
