{
 "cells": [
  {
   "cell_type": "markdown",
   "id": "568f98d8",
   "metadata": {},
   "source": [
    "IMPORTANT: One of dataset is too large for loading in jupyter. You can get \"MemoryError: Unable to allocate 3.79 GiB for an array with shape (53, 9600000) and data type float64\"."
   ]
  },
  {
   "cell_type": "markdown",
   "id": "8824e260",
   "metadata": {},
   "source": [
    "# Prepare"
   ]
  },
  {
   "cell_type": "code",
   "execution_count": 2,
   "id": "00734054",
   "metadata": {
    "ExecuteTime": {
     "end_time": "2022-08-09T12:48:37.521215Z",
     "start_time": "2022-08-09T12:48:36.907929Z"
    }
   },
   "outputs": [],
   "source": [
    "# import libraries\n",
    "import json\n",
    "import os\n",
    "import os.path\n",
    "import pandas as pd\n",
    "import pyreadr"
   ]
  },
  {
   "cell_type": "code",
   "execution_count": 3,
   "id": "925c51a4",
   "metadata": {
    "ExecuteTime": {
     "end_time": "2022-08-09T12:48:37.537212Z",
     "start_time": "2022-08-09T12:48:37.524270Z"
    }
   },
   "outputs": [],
   "source": [
    "# check memory usage\n",
    "import psutil"
   ]
  },
  {
   "cell_type": "code",
   "execution_count": 4,
   "id": "372f2535",
   "metadata": {
    "ExecuteTime": {
     "end_time": "2022-08-09T12:48:37.552570Z",
     "start_time": "2022-08-09T12:48:37.540218Z"
    }
   },
   "outputs": [],
   "source": [
    "SOURCE = 'Y:\\\\ZBU\\\\_Datasets\\\\TEP\\\\dataverse'  # dataset source dir\n",
    "R_FILES = ('TEP_FaultFree_Training.RData',  # datasets RData, sorted by size\n",
    "           'TEP_FaultFree_Testing.RData',\n",
    "           'TEP_Faulty_Training.RData',\n",
    "           'TEP_Faulty_Testing.RData',\n",
    "        )\n",
    "TARGET = 'E:\\\\Datasets\\\\TEP\\\\dataverse'\n",
    "# DTYPES_FILE = 'dtypes.json'  # dtypes of columns"
   ]
  },
  {
   "cell_type": "code",
   "execution_count": 5,
   "id": "d8f82b93",
   "metadata": {
    "ExecuteTime": {
     "end_time": "2022-08-09T12:48:37.568254Z",
     "start_time": "2022-08-09T12:48:37.555221Z"
    }
   },
   "outputs": [],
   "source": [
    "proc = psutil.Process(os.getpid())\n",
    "\n",
    "def print_memusage(prefix=''):\n",
    "# print memory usage info\n",
    "    print(prefix, f'{proc.memory_info().rss/1024**2:0.2f} MB')"
   ]
  },
  {
   "cell_type": "markdown",
   "id": "523b5abe",
   "metadata": {},
   "source": [
    "# Convert RData"
   ]
  },
  {
   "cell_type": "code",
   "execution_count": 6,
   "id": "2404980d",
   "metadata": {
    "ExecuteTime": {
     "end_time": "2022-08-09T12:48:37.584329Z",
     "start_time": "2022-08-09T12:48:37.571248Z"
    }
   },
   "outputs": [],
   "source": [
    "def clear_tags(df: pd.DataFrame) -> None:\n",
    "    # rename columns\n",
    "    rename_dict = {\n",
    "        \"xmeas_1\": \"inp_a_flow_ksm3h\",\n",
    "        \"xmeas_2\": \"inp_d_flow_kgh\",\n",
    "        \"xmeas_3\": \"inp_e_flow_kgh\",\n",
    "        \"xmeas_4\": \"inp_c_flow_ksm3h\",\n",
    "        \"xmeas_5\": \"recyl_flow_ksm3h\",\n",
    "        \"xmeas_6\": \"react_flow_ksm3h\",\n",
    "        \"xmeas_7\": \"react_press_kpa\",\n",
    "        \"xmeas_8\": \"react_level_pc\",\n",
    "        \"xmeas_9\": \"react_temp_gc\",\n",
    "        \"xmeas_10\": \"purge_flow_ksm3h\",\n",
    "        \"xmeas_11\": \"seprt_temp_gc\",\n",
    "        \"xmeas_12\": \"seprt_level_pc\",\n",
    "        \"xmeas_13\": \"seprt_press_kpa\",\n",
    "        \"xmeas_14\": \"seprt_flow_m3h\",\n",
    "        \"xmeas_15\": \"strip_level_pc\",\n",
    "        \"xmeas_16\": \"strip_press_kpa\",\n",
    "        \"xmeas_17\": \"prod_flow_m3h\",\n",
    "        \"xmeas_18\": \"strip_temp_gc\",\n",
    "        \"xmeas_19\": \"steam_flow_kgh\",\n",
    "        \"xmeas_20\": \"compr_power_kw\",\n",
    "        \"xmeas_21\": \"re_cl_temp_gc\",\n",
    "        \"xmeas_22\": \"co_cl_temp_gc\",\n",
    "        \"xmeas_23\": \"react_a_prt_molp\",\n",
    "        \"xmeas_24\": \"react_b_prt_molp\",\n",
    "        \"xmeas_25\": \"react_c_prt_molp\",\n",
    "        \"xmeas_26\": \"react_d_prt_molp\",\n",
    "        \"xmeas_27\": \"react_e_prt_molp\",\n",
    "        \"xmeas_28\": \"react_f_prt_molp\",\n",
    "        \"xmeas_29\": \"purge_a_prt_molp\",\n",
    "        \"xmeas_30\": \"purge_b_prt_molp\",\n",
    "        \"xmeas_31\": \"purge_c_prt_molp\",\n",
    "        \"xmeas_32\": \"purge_d_prt_molp\",\n",
    "        \"xmeas_33\": \"purge_e_prt_molp\",\n",
    "        \"xmeas_34\": \"purge_f_prt_molp\",\n",
    "        \"xmeas_35\": \"purge_g_prt_molp\",\n",
    "        \"xmeas_36\": \"purge_h_prt_molp\",\n",
    "        \"xmeas_37\": \"prod_d_prt_molp\",\n",
    "        \"xmeas_38\": \"prod_e_prt_molp\",\n",
    "        \"xmeas_39\": \"prod_f_prt_molp\",\n",
    "        \"xmeas_40\": \"prod_g_prt_molp\",\n",
    "        \"xmeas_41\": \"prod_h_prt_molp\",\n",
    "        \"xmv_1\": \"inp_d_feed_pc\",\n",
    "        \"xmv_2\": \"inp_e_feed_pc\",\n",
    "        \"xmv_3\": \"inp_a_feed_pc\",\n",
    "        \"xmv_4\": \"inp_c_feed_pc\",\n",
    "        \"xmv_5\": \"compr_valv_pc\",\n",
    "        \"xmv_6\": \"purge_feed_pc\",\n",
    "        \"xmv_7\": \"seprt_feed_pc\",\n",
    "        \"xmv_8\": \"strip_feed_pc\",\n",
    "        \"xmv_9\": \"steam_feed_pc\",\n",
    "        \"xmv_10\": \"re_cl_feed_pc\",\n",
    "        \"xmv_11\": \"co_cl_feed_pc\",\n",
    "    }\n",
    "    \n",
    "    df.rename(columns=rename_dict, inplace=True)\n",
    "    return"
   ]
  },
  {
   "cell_type": "code",
   "execution_count": 7,
   "id": "687ac62b",
   "metadata": {
    "ExecuteTime": {
     "end_time": "2022-08-09T12:48:37.615254Z",
     "start_time": "2022-08-09T12:48:37.586221Z"
    }
   },
   "outputs": [],
   "source": [
    "def optimize_dtypes(df: pd.DataFrame) -> None:\n",
    "    # optimize dataframe by memory usage\n",
    "    uint_columns = df.columns.values[:3]  # this columns can be uint\n",
    "    float_columns = df.columns.values[3:]  # other must be float\n",
    "    \n",
    "    df[uint_columns] = df[uint_columns].apply(pd.to_numeric, downcast='unsigned')\n",
    "    df[float_columns] = df[float_columns].apply(pd.to_numeric, downcast='float')\n",
    "    \n",
    "    # saving our dtypes description for further use\n",
    "#     dtypes_file = os.path.join(DIR, DTYPES_FILE)\n",
    "#     if not os.path.isfile(dtypes_file):\n",
    "#         # we need to create it\n",
    "#         names = df.dtypes.index  # columns names\n",
    "#         types = [c.name for c in df.dtypes]  # columns types\n",
    "#         dtypes_dict = dict(zip(names, types))  # dict for pandas.read_csv\n",
    "#         with open(dtypes_file, 'w') as f:\n",
    "#             json.dump(dtypes_dict, f)\n",
    "        \n",
    "    return"
   ]
  },
  {
   "cell_type": "code",
   "execution_count": 8,
   "id": "9ca48b9c",
   "metadata": {
    "ExecuteTime": {
     "end_time": "2022-08-09T12:48:37.631244Z",
     "start_time": "2022-08-09T12:48:37.618264Z"
    }
   },
   "outputs": [],
   "source": [
    "def split_n_save(df: pd.DataFrame, subdir: str) -> None:\n",
    "    outdir = os.path.join(TARGET, subdir)\n",
    "    if not os.path.isdir(outdir):\n",
    "        os.mkdir(outdir)\n",
    "    \n",
    "    for flt in df['faultNumber'].unique():\n",
    "        for run in df['simulationRun'].unique():\n",
    "            sub_df = (df.query(f'faultNumber == {flt} and simulationRun == {run}')\n",
    "                        .drop(columns=['simulationRun'])\n",
    "                        .set_index('sample')\n",
    "                     )\n",
    "            fname = os.path.join(outdir, f'{subdir}_run_{run:03d}_fault_{flt:03d}.snappy')\n",
    "            sub_df.to_parquet(fname, compression='snappy')\n",
    "    \n",
    "    return"
   ]
  },
  {
   "cell_type": "code",
   "execution_count": 9,
   "id": "839952f5",
   "metadata": {
    "ExecuteTime": {
     "end_time": "2022-08-09T12:48:56.480018Z",
     "start_time": "2022-08-09T12:48:37.636222Z"
    }
   },
   "outputs": [
    {
     "name": "stdout",
     "output_type": "stream",
     "text": [
      "Before loading 97.04 MB\n",
      "\n",
      "After reading TEP_FaultFree_Training.RData 203.84 MB\n",
      "Dataset fault_free_training with shape (250000, 55)\n",
      "After optimizing 149.86 MB\n",
      "After split'n'saving 157.46 MB\n",
      "After deleting 104.06 MB\n",
      "\n"
     ]
    }
   ],
   "source": [
    "print_memusage('Before loading')\n",
    "print()\n",
    "\n",
    "for f in R_FILES:\n",
    "    r_file = os.path.join(SOURCE, f)\n",
    "    r_data = pyreadr.read_r(r_file)\n",
    "    print_memusage('After reading ' + f)\n",
    "\n",
    "    for k in r_data.keys():\n",
    "        print('Dataset', k, 'with shape', r_data[k].shape)\n",
    "        clear_tags(r_data[k])\n",
    "        optimize_dtypes(r_data[k])\n",
    "        print_memusage('After optimizing')\n",
    "        \n",
    "        split_n_save(r_data[k], k)\n",
    "        print_memusage(\"After split\\'n\\'saving\")\n",
    "        \n",
    "    del r_data  # because need a lot of RAM\n",
    "    print_memusage('After deleting')\n",
    "    print()"
   ]
  }
 ],
 "metadata": {
  "kernelspec": {
   "display_name": "Python 3 (ipykernel)",
   "language": "python",
   "name": "python3"
  },
  "language_info": {
   "codemirror_mode": {
    "name": "ipython",
    "version": 3
   },
   "file_extension": ".py",
   "mimetype": "text/x-python",
   "name": "python",
   "nbconvert_exporter": "python",
   "pygments_lexer": "ipython3",
   "version": "3.8.8"
  },
  "toc": {
   "base_numbering": 1,
   "nav_menu": {},
   "number_sections": true,
   "sideBar": true,
   "skip_h1_title": false,
   "title_cell": "Table of Contents",
   "title_sidebar": "Contents",
   "toc_cell": false,
   "toc_position": {},
   "toc_section_display": true,
   "toc_window_display": false
  }
 },
 "nbformat": 4,
 "nbformat_minor": 5
}
