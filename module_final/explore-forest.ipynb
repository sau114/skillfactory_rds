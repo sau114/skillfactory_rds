{
 "cells": [
  {
   "cell_type": "markdown",
   "id": "0a33d98d",
   "metadata": {
    "ExecuteTime": {
     "end_time": "2022-08-23T15:52:40.275666Z",
     "start_time": "2022-08-23T15:52:32.127883Z"
    }
   },
   "source": [
    "!pip install rrcf"
   ]
  },
  {
   "cell_type": "code",
   "execution_count": 1,
   "id": "c36e95b5",
   "metadata": {
    "ExecuteTime": {
     "end_time": "2022-08-23T17:08:07.257773Z",
     "start_time": "2022-08-23T17:08:06.502315Z"
    }
   },
   "outputs": [],
   "source": [
    "import numpy as np\n",
    "import pandas as pd"
   ]
  },
  {
   "cell_type": "code",
   "execution_count": 2,
   "id": "3847919a",
   "metadata": {
    "ExecuteTime": {
     "end_time": "2022-08-23T17:08:07.289821Z",
     "start_time": "2022-08-23T17:08:07.259643Z"
    }
   },
   "outputs": [],
   "source": [
    "from utils.datasets import GhlKasperskyDataset, TepHarvardDataset, TepKasperskyDataset\n",
    "from utils.custom_plots import plot_stacked"
   ]
  },
  {
   "cell_type": "code",
   "execution_count": 3,
   "id": "9fca2cf1",
   "metadata": {
    "ExecuteTime": {
     "end_time": "2022-08-23T17:08:08.131329Z",
     "start_time": "2022-08-23T17:08:07.292625Z"
    }
   },
   "outputs": [],
   "source": [
    "from sklearn.preprocessing import StandardScaler\n",
    "from sklearn.ensemble import IsolationForest"
   ]
  },
  {
   "cell_type": "code",
   "execution_count": 4,
   "id": "73a43705",
   "metadata": {
    "ExecuteTime": {
     "end_time": "2022-08-23T17:08:08.147234Z",
     "start_time": "2022-08-23T17:08:08.133233Z"
    }
   },
   "outputs": [],
   "source": [
    "import rrcf"
   ]
  },
  {
   "cell_type": "code",
   "execution_count": 5,
   "id": "49ed7a4b",
   "metadata": {
    "ExecuteTime": {
     "end_time": "2022-08-23T17:08:08.179234Z",
     "start_time": "2022-08-23T17:08:08.150232Z"
    }
   },
   "outputs": [],
   "source": [
    "from adtk.metrics import precision, recall, f1_score\n",
    "from utils.metrics import time_span_metrics"
   ]
  },
  {
   "cell_type": "code",
   "execution_count": 6,
   "id": "70a07933",
   "metadata": {
    "ExecuteTime": {
     "end_time": "2022-08-23T17:08:08.273234Z",
     "start_time": "2022-08-23T17:08:08.182246Z"
    }
   },
   "outputs": [],
   "source": [
    "from tqdm.notebook import tqdm"
   ]
  },
  {
   "cell_type": "markdown",
   "id": "8378a23f",
   "metadata": {},
   "source": [
    "# Get data from datasets"
   ]
  },
  {
   "cell_type": "code",
   "execution_count": 7,
   "id": "fc5c5559",
   "metadata": {
    "ExecuteTime": {
     "end_time": "2022-08-23T17:08:08.352234Z",
     "start_time": "2022-08-23T17:08:08.276233Z"
    }
   },
   "outputs": [],
   "source": [
    "ds_ghl = GhlKasperskyDataset()\n",
    "ds_ghl.shake_not_stir(valid_test_ratio=0.3)\n",
    "train_ghl, _, _= next(ds_ghl.train_generator())\n",
    "valid_ghl, faults_ghl, info_ghl= next(ds_ghl.valid_generator())"
   ]
  },
  {
   "cell_type": "code",
   "execution_count": 8,
   "id": "16129bc3",
   "metadata": {
    "ExecuteTime": {
     "end_time": "2022-08-23T17:08:08.477858Z",
     "start_time": "2022-08-23T17:08:08.354236Z"
    }
   },
   "outputs": [],
   "source": [
    "ds_tep1 = TepHarvardDataset()\n",
    "ds_tep1.shake_not_stir(balanced_test=True, valid_test_ratio=1.0)\n",
    "train_tep1, _, _= next(ds_tep1.train_generator())\n",
    "valid_tep1, faults_tep1, info_tep1= next(ds_tep1.valid_generator())"
   ]
  },
  {
   "cell_type": "code",
   "execution_count": 9,
   "id": "29a6c6ac",
   "metadata": {
    "ExecuteTime": {
     "end_time": "2022-08-23T17:08:08.604723Z",
     "start_time": "2022-08-23T17:08:08.482721Z"
    }
   },
   "outputs": [],
   "source": [
    "ds_tep2 = TepHarvardDataset()\n",
    "ds_tep2.shake_not_stir(valid_test_ratio=0.3)\n",
    "train_tep2, _, _= next(ds_tep2.train_generator())\n",
    "valid_tep2, faults_tep2, info_tep2= next(ds_tep2.valid_generator())"
   ]
  },
  {
   "cell_type": "markdown",
   "id": "c6eb2244",
   "metadata": {},
   "source": [
    "# IsolationForest test"
   ]
  },
  {
   "cell_type": "markdown",
   "id": "c058e940",
   "metadata": {},
   "source": [
    "## GHL"
   ]
  },
  {
   "cell_type": "code",
   "execution_count": 10,
   "id": "287e17fa",
   "metadata": {
    "ExecuteTime": {
     "end_time": "2022-08-23T17:08:08.620716Z",
     "start_time": "2022-08-23T17:08:08.606716Z"
    }
   },
   "outputs": [],
   "source": [
    "isoforest = IsolationForest(n_estimators=1000,\n",
    "                            max_samples='auto',\n",
    "                            contamination='auto',\n",
    "                            max_features=1.0,\n",
    "                            bootstrap=False,\n",
    "                            n_jobs=-1,\n",
    "                            random_state=31,\n",
    "                            verbose=1,\n",
    "                            warm_start=False)"
   ]
  },
  {
   "cell_type": "code",
   "execution_count": 11,
   "id": "c7bc306d",
   "metadata": {
    "ExecuteTime": {
     "end_time": "2022-08-23T17:08:11.841279Z",
     "start_time": "2022-08-23T17:08:08.624727Z"
    },
    "scrolled": true
   },
   "outputs": [
    {
     "name": "stderr",
     "output_type": "stream",
     "text": [
      "[Parallel(n_jobs=8)]: Using backend ThreadingBackend with 8 concurrent workers.\n",
      "[Parallel(n_jobs=8)]: Done   2 out of   8 | elapsed:    3.0s remaining:    9.3s\n",
      "[Parallel(n_jobs=8)]: Done   8 out of   8 | elapsed:    3.1s finished\n"
     ]
    },
    {
     "data": {
      "text/plain": [
       "IsolationForest(n_estimators=1000, n_jobs=-1, random_state=31, verbose=1)"
      ]
     },
     "execution_count": 11,
     "metadata": {},
     "output_type": "execute_result"
    }
   ],
   "source": [
    "isoforest.fit(train_ghl)"
   ]
  },
  {
   "cell_type": "code",
   "execution_count": 12,
   "id": "49103516",
   "metadata": {
    "ExecuteTime": {
     "end_time": "2022-08-23T17:08:12.949862Z",
     "start_time": "2022-08-23T17:08:11.844183Z"
    }
   },
   "outputs": [],
   "source": [
    "detect = pd.Series(index=valid_ghl.index, data=isoforest.predict(valid_ghl))\n",
    "detect.replace({1: 0, -1: 1}, inplace=True)"
   ]
  },
  {
   "cell_type": "code",
   "execution_count": 13,
   "id": "3330328e",
   "metadata": {
    "ExecuteTime": {
     "end_time": "2022-08-23T17:08:12.980747Z",
     "start_time": "2022-08-23T17:08:12.952715Z"
    }
   },
   "outputs": [
    {
     "data": {
      "text/plain": [
       "(0.010416666666666666, 1.0, 0.020618556701030927)"
      ]
     },
     "execution_count": 13,
     "metadata": {},
     "output_type": "execute_result"
    }
   ],
   "source": [
    "time_span_metrics(faults_ghl, detect)"
   ]
  },
  {
   "cell_type": "code",
   "execution_count": 14,
   "id": "1f38dcbb",
   "metadata": {
    "ExecuteTime": {
     "end_time": "2022-08-23T17:08:15.839235Z",
     "start_time": "2022-08-23T17:08:12.983710Z"
    }
   },
   "outputs": [],
   "source": [
    "# Set parameters\n",
    "np.random.seed(0)\n",
    "n = 2010\n",
    "d = 3\n",
    "num_trees = 100\n",
    "tree_size = 256\n",
    "\n",
    "# Generate data\n",
    "X = np.zeros((n, d))\n",
    "X[:1000,0] = 5\n",
    "X[1000:2000,0] = -5\n",
    "X += 0.01*np.random.randn(*X.shape)\n",
    "\n",
    "\n",
    "rcforest = []\n",
    "while len(rcforest) < num_trees:\n",
    "    # Select random subsets of points uniformly from point set\n",
    "    ixs = np.random.choice(n, \n",
    "                           size=(n // tree_size, tree_size),\n",
    "                           replace=False,\n",
    "                          )\n",
    "    # Add sampled trees to forest\n",
    "    trees = [rrcf.RCTree(X[ix], index_labels=ix) for ix in ixs]\n",
    "    rcforest.extend(trees)"
   ]
  },
  {
   "cell_type": "code",
   "execution_count": 15,
   "id": "b0dcb2d3",
   "metadata": {
    "ExecuteTime": {
     "end_time": "2022-08-23T17:08:16.199631Z",
     "start_time": "2022-08-23T17:08:15.842140Z"
    }
   },
   "outputs": [],
   "source": [
    "# Compute average CoDisp\n",
    "avg_codisp = pd.Series(0.0, index=np.arange(n))\n",
    "index = np.zeros(n)\n",
    "for tree in rcforest:\n",
    "    codisp = pd.Series({leaf : tree.codisp(leaf) for leaf in tree.leaves})\n",
    "    avg_codisp[codisp.index] += codisp\n",
    "    np.add.at(index, codisp.index.values, 1)\n",
    "avg_codisp /= index"
   ]
  },
  {
   "cell_type": "code",
   "execution_count": 16,
   "id": "0c8539b7",
   "metadata": {
    "ExecuteTime": {
     "end_time": "2022-08-23T17:08:17.433358Z",
     "start_time": "2022-08-23T17:08:16.201632Z"
    }
   },
   "outputs": [
    {
     "data": {
      "text/plain": [
       "<AxesSubplot:>"
      ]
     },
     "execution_count": 16,
     "metadata": {},
     "output_type": "execute_result"
    },
    {
     "data": {
      "image/png": "[encoded data removed]",
      "text/plain": [
       "<Figure size 432x288 with 1 Axes>"
      ]
     },
     "metadata": {
      "needs_background": "light"
     },
     "output_type": "display_data"
    }
   ],
   "source": [
    "avg_codisp.plot()"
   ]
  },
  {
   "cell_type": "code",
   "execution_count": 17,
   "id": "1c7660f9",
   "metadata": {
    "ExecuteTime": {
     "end_time": "2022-08-23T17:08:26.873729Z",
     "start_time": "2022-08-23T17:08:17.436374Z"
    }
   },
   "outputs": [],
   "source": [
    "# Generate data\n",
    "n = 730\n",
    "A = 50\n",
    "center = 100\n",
    "phi = 30\n",
    "T = 2*np.pi/100\n",
    "t = np.arange(n)\n",
    "sin = A*np.sin(T*t-phi*T) + center\n",
    "sin[235:255] = 80\n",
    "\n",
    "# Set tree parameters\n",
    "num_trees = 40\n",
    "shingle_size = 4\n",
    "tree_size = 256\n",
    "\n",
    "# Create a forest of empty trees\n",
    "forest = []\n",
    "for _ in range(num_trees):\n",
    "    tree = rrcf.RCTree()\n",
    "    forest.append(tree)\n",
    "    \n",
    "# Use the \"shingle\" generator to create rolling window\n",
    "points = rrcf.shingle(sin, size=shingle_size)\n",
    "\n",
    "# Create a dict to store anomaly score of each point\n",
    "avg_codisp = {}\n",
    "\n",
    "# For each shingle...\n",
    "for index, point in enumerate(points):\n",
    "    # For each tree in the forest...\n",
    "    for tree in forest:\n",
    "        # If tree is above permitted size, drop the oldest point (FIFO)\n",
    "        if len(tree.leaves) > tree_size:\n",
    "            tree.forget_point(index - tree_size)\n",
    "        # Insert the new point into the tree\n",
    "        tree.insert_point(point, index=index)\n",
    "        # Compute codisp on the new point and take the average among all trees\n",
    "        if not index in avg_codisp:\n",
    "            avg_codisp[index] = 0\n",
    "        avg_codisp[index] += tree.codisp(index) / num_trees"
   ]
  },
  {
   "cell_type": "markdown",
   "id": "792a428d",
   "metadata": {},
   "source": [
    "## TEP Harvard"
   ]
  },
  {
   "cell_type": "code",
   "execution_count": 18,
   "id": "21d03203",
   "metadata": {
    "ExecuteTime": {
     "end_time": "2022-08-23T17:08:26.889699Z",
     "start_time": "2022-08-23T17:08:26.875675Z"
    }
   },
   "outputs": [],
   "source": [
    "isoforest = IsolationForest(n_estimators=100,\n",
    "                            max_samples='auto',\n",
    "                            contamination='auto',\n",
    "                            max_features=1.0,\n",
    "                            bootstrap=False,\n",
    "                            n_jobs=-1,\n",
    "                            random_state=31,\n",
    "                            verbose=1,\n",
    "                            warm_start=False)"
   ]
  },
  {
   "cell_type": "code",
   "execution_count": 19,
   "id": "55713002",
   "metadata": {
    "ExecuteTime": {
     "end_time": "2022-08-23T17:08:27.122167Z",
     "start_time": "2022-08-23T17:08:26.892651Z"
    }
   },
   "outputs": [
    {
     "name": "stderr",
     "output_type": "stream",
     "text": [
      "[Parallel(n_jobs=8)]: Using backend ThreadingBackend with 8 concurrent workers.\n",
      "[Parallel(n_jobs=8)]: Done   2 out of   8 | elapsed:    0.1s remaining:    0.5s\n",
      "[Parallel(n_jobs=8)]: Done   8 out of   8 | elapsed:    0.1s finished\n"
     ]
    },
    {
     "data": {
      "text/plain": [
       "IsolationForest(n_jobs=-1, random_state=31, verbose=1)"
      ]
     },
     "execution_count": 19,
     "metadata": {},
     "output_type": "execute_result"
    }
   ],
   "source": [
    "isoforest.fit(train_tep1.values)"
   ]
  },
  {
   "cell_type": "code",
   "execution_count": 20,
   "id": "f36b1458",
   "metadata": {
    "ExecuteTime": {
     "end_time": "2022-08-23T17:08:27.218083Z",
     "start_time": "2022-08-23T17:08:27.125099Z"
    }
   },
   "outputs": [],
   "source": [
    "detect = pd.Series(index=valid_tep1.index, data=isoforest.predict(valid_tep1.values))\n",
    "detect.replace({1: 0, -1: 1}, inplace=True)"
   ]
  },
  {
   "cell_type": "code",
   "execution_count": 21,
   "id": "abc5f49f",
   "metadata": {
    "ExecuteTime": {
     "end_time": "2022-08-23T17:08:27.249100Z",
     "start_time": "2022-08-23T17:08:27.220665Z"
    }
   },
   "outputs": [
    {
     "data": {
      "text/plain": [
       "(1.0, 0.9791666666666666, 0.9894736842105263)"
      ]
     },
     "execution_count": 21,
     "metadata": {},
     "output_type": "execute_result"
    }
   ],
   "source": [
    "time_span_metrics(faults_tep1, detect)"
   ]
  },
  {
   "cell_type": "markdown",
   "id": "b1a1de5d",
   "metadata": {},
   "source": [
    "## TEP Kaspersky"
   ]
  },
  {
   "cell_type": "code",
   "execution_count": 22,
   "id": "ee8757c0",
   "metadata": {
    "ExecuteTime": {
     "end_time": "2022-08-23T17:08:27.264320Z",
     "start_time": "2022-08-23T17:08:27.253465Z"
    }
   },
   "outputs": [],
   "source": [
    "isoforest = IsolationForest(n_estimators=100,\n",
    "                            max_samples='auto',\n",
    "                            contamination='auto',\n",
    "                            max_features=1.0,\n",
    "                            bootstrap=False,\n",
    "                            n_jobs=-1,\n",
    "                            random_state=31,\n",
    "                            verbose=1,\n",
    "                            warm_start=False)"
   ]
  },
  {
   "cell_type": "code",
   "execution_count": 23,
   "id": "e59cfa17",
   "metadata": {
    "ExecuteTime": {
     "end_time": "2022-08-23T17:08:27.543328Z",
     "start_time": "2022-08-23T17:08:27.267380Z"
    }
   },
   "outputs": [
    {
     "name": "stderr",
     "output_type": "stream",
     "text": [
      "[Parallel(n_jobs=8)]: Using backend ThreadingBackend with 8 concurrent workers.\n",
      "[Parallel(n_jobs=8)]: Done   2 out of   8 | elapsed:    0.1s remaining:    0.6s\n",
      "[Parallel(n_jobs=8)]: Done   8 out of   8 | elapsed:    0.1s finished\n"
     ]
    },
    {
     "data": {
      "text/plain": [
       "IsolationForest(n_jobs=-1, random_state=31, verbose=1)"
      ]
     },
     "execution_count": 23,
     "metadata": {},
     "output_type": "execute_result"
    }
   ],
   "source": [
    "isoforest.fit(train_tep2.values)"
   ]
  },
  {
   "cell_type": "code",
   "execution_count": 24,
   "id": "068a4139",
   "metadata": {
    "ExecuteTime": {
     "end_time": "2022-08-23T17:08:27.621120Z",
     "start_time": "2022-08-23T17:08:27.546247Z"
    }
   },
   "outputs": [],
   "source": [
    "detect = pd.Series(index=valid_tep2.index, data=isoforest.predict(valid_tep2.values))\n",
    "detect.replace({1: 0, -1: 1}, inplace=True)"
   ]
  },
  {
   "cell_type": "code",
   "execution_count": 25,
   "id": "1267de3d",
   "metadata": {
    "ExecuteTime": {
     "end_time": "2022-08-23T17:08:27.637327Z",
     "start_time": "2022-08-23T17:08:27.623148Z"
    }
   },
   "outputs": [
    {
     "data": {
      "text/plain": [
       "(1.0, 0.3541666666666667, 0.5230769230769231)"
      ]
     },
     "execution_count": 25,
     "metadata": {},
     "output_type": "execute_result"
    }
   ],
   "source": [
    "time_span_metrics(faults_tep2, detect)"
   ]
  },
  {
   "cell_type": "markdown",
   "id": "c8308e30",
   "metadata": {},
   "source": [
    "# Watchman test"
   ]
  },
  {
   "cell_type": "code",
   "execution_count": 26,
   "id": "8ed22e76",
   "metadata": {
    "ExecuteTime": {
     "end_time": "2022-08-23T17:08:27.653208Z",
     "start_time": "2022-08-23T17:08:27.641141Z"
    }
   },
   "outputs": [],
   "source": [
    "from utils.watchmen import IsolatedWatchman"
   ]
  },
  {
   "cell_type": "markdown",
   "id": "9ef8f6e3",
   "metadata": {},
   "source": [
    "## GHL"
   ]
  },
  {
   "cell_type": "code",
   "execution_count": 27,
   "id": "f1af253d",
   "metadata": {
    "ExecuteTime": {
     "end_time": "2022-08-23T17:08:27.668208Z",
     "start_time": "2022-08-23T17:08:27.658123Z"
    }
   },
   "outputs": [],
   "source": [
    "watchman_ghl = IsolatedWatchman(random_state=31)"
   ]
  },
  {
   "cell_type": "code",
   "execution_count": 28,
   "id": "2c8b797d",
   "metadata": {
    "ExecuteTime": {
     "end_time": "2022-08-23T17:08:27.683159Z",
     "start_time": "2022-08-23T17:08:27.671121Z"
    }
   },
   "outputs": [],
   "source": [
    "ds_ghl.shake_not_stir(valid_test_ratio=0.3)"
   ]
  },
  {
   "cell_type": "code",
   "execution_count": 29,
   "id": "91716ef2",
   "metadata": {
    "ExecuteTime": {
     "end_time": "2022-08-23T17:08:28.088709Z",
     "start_time": "2022-08-23T17:08:27.686135Z"
    }
   },
   "outputs": [
    {
     "data": {
      "application/vnd.jupyter.widget-view+json": {
       "model_id": "93e96485618348eaa4f1fd5966754e8f",
       "version_major": 2,
       "version_minor": 0
      },
      "text/plain": [
       "0it [00:00, ?it/s]"
      ]
     },
     "metadata": {},
     "output_type": "display_data"
    }
   ],
   "source": [
    "# learn data\n",
    "train_gen = ds_ghl.train_generator()\n",
    "for train, _, _ in tqdm(train_gen):\n",
    "    watchman_ghl.partial_fit(train)"
   ]
  },
  {
   "cell_type": "code",
   "execution_count": 30,
   "id": "81f1c31f",
   "metadata": {
    "ExecuteTime": {
     "end_time": "2022-08-23T17:08:28.103808Z",
     "start_time": "2022-08-23T17:08:28.092018Z"
    }
   },
   "outputs": [
    {
     "data": {
      "text/plain": [
       "(25001, 12)"
      ]
     },
     "execution_count": 30,
     "metadata": {},
     "output_type": "execute_result"
    }
   ],
   "source": [
    "train.shape"
   ]
  },
  {
   "cell_type": "code",
   "execution_count": 31,
   "id": "3fce3444",
   "metadata": {
    "ExecuteTime": {
     "end_time": "2022-08-23T17:08:30.099999Z",
     "start_time": "2022-08-23T17:08:28.107478Z"
    }
   },
   "outputs": [
    {
     "data": {
      "application/vnd.jupyter.widget-view+json": {
       "model_id": "7f0a143e9b334a84bc0e501d4b1a05af",
       "version_major": 2,
       "version_minor": 0
      },
      "text/plain": [
       "0it [00:00, ?it/s]"
      ]
     },
     "metadata": {},
     "output_type": "display_data"
    },
    {
     "name": "stdout",
     "output_type": "stream",
     "text": [
      "precision    0.015105\n",
      "recall       0.862925\n",
      "f1_score     0.029501\n",
      "dtype: float64\n"
     ]
    }
   ],
   "source": [
    "# examine\n",
    "valid_gen = ds_ghl.valid_generator()\n",
    "examine_list = pd.DataFrame(columns=['precision', 'recall', 'f1_score'], dtype='float')\n",
    "for valid, faults, info in tqdm(valid_gen):\n",
    "    detect = watchman_ghl.predict(valid)\n",
    "    examine_list.loc[info] = time_span_metrics(faults, detect)\n",
    "print(examine_list.mean())"
   ]
  },
  {
   "cell_type": "code",
   "execution_count": 32,
   "id": "58130d6c",
   "metadata": {
    "ExecuteTime": {
     "end_time": "2022-08-23T17:08:30.115167Z",
     "start_time": "2022-08-23T17:08:30.103180Z"
    }
   },
   "outputs": [
    {
     "data": {
      "text/plain": [
       "IsolatedWatchman(n_trees=97)"
      ]
     },
     "execution_count": 32,
     "metadata": {},
     "output_type": "execute_result"
    }
   ],
   "source": [
    "watchman_ghl"
   ]
  },
  {
   "cell_type": "markdown",
   "id": "8fd82b77",
   "metadata": {},
   "source": [
    "## TEP Harvard"
   ]
  },
  {
   "cell_type": "code",
   "execution_count": 33,
   "id": "a0e8792d",
   "metadata": {
    "ExecuteTime": {
     "end_time": "2022-08-23T17:08:30.130559Z",
     "start_time": "2022-08-23T17:08:30.118275Z"
    }
   },
   "outputs": [],
   "source": [
    "watchman_tep1 = IsolatedWatchman(random_state=31)"
   ]
  },
  {
   "cell_type": "code",
   "execution_count": 34,
   "id": "b7aa1967",
   "metadata": {
    "ExecuteTime": {
     "end_time": "2022-08-23T17:08:30.226170Z",
     "start_time": "2022-08-23T17:08:30.133483Z"
    }
   },
   "outputs": [],
   "source": [
    "ds_tep1.shake_not_stir(balanced_test=True, valid_test_ratio=0.5)"
   ]
  },
  {
   "cell_type": "code",
   "execution_count": 36,
   "id": "1ce7ad27",
   "metadata": {
    "ExecuteTime": {
     "end_time": "2022-08-23T17:08:39.082749Z",
     "start_time": "2022-08-23T17:08:30.244931Z"
    }
   },
   "outputs": [
    {
     "data": {
      "application/vnd.jupyter.widget-view+json": {
       "model_id": "12b3eef7ccfe46c794b0e965e1bf789b",
       "version_major": 2,
       "version_minor": 0
      },
      "text/plain": [
       "  0%|          | 0/500 [00:00<?, ?it/s]"
      ]
     },
     "metadata": {},
     "output_type": "display_data"
    }
   ],
   "source": [
    "# learn data\n",
    "train_gen = ds_tep1.train_generator()\n",
    "for train, _, _ in tqdm(train_gen, total=500):\n",
    "    watchman_tep1.partial_fit(train)"
   ]
  },
  {
   "cell_type": "raw",
   "id": "ab0a537f",
   "metadata": {
    "ExecuteTime": {
     "end_time": "2022-08-23T17:08:30.242060Z",
     "start_time": "2022-08-23T17:08:30.228929Z"
    }
   },
   "source": [
    "train.shape"
   ]
  },
  {
   "cell_type": "code",
   "execution_count": 37,
   "id": "98a705c3",
   "metadata": {
    "ExecuteTime": {
     "end_time": "2022-08-23T17:11:26.253800Z",
     "start_time": "2022-08-23T17:08:39.085769Z"
    }
   },
   "outputs": [
    {
     "data": {
      "application/vnd.jupyter.widget-view+json": {
       "model_id": "05714be5071d4f1f90ddb924b49d6a14",
       "version_major": 2,
       "version_minor": 0
      },
      "text/plain": [
       "  0%|          | 0/500 [00:00<?, ?it/s]"
      ]
     },
     "metadata": {},
     "output_type": "display_data"
    },
    {
     "name": "stdout",
     "output_type": "stream",
     "text": [
      "precision    0.999719\n",
      "recall       0.529063\n",
      "f1_score     0.611234\n",
      "dtype: float64\n"
     ]
    }
   ],
   "source": [
    "# examine\n",
    "valid_gen = ds_tep1.valid_generator()\n",
    "examine_list = pd.DataFrame(columns=['precision', 'recall', 'f1_score'], dtype='float')\n",
    "for valid, faults, info in tqdm(valid_gen, total=500):\n",
    "    detect = watchman_tep1.predict(valid)\n",
    "    examine_list.loc[info] = time_span_metrics(faults, detect)\n",
    "#     if max(faults) and max(detect_vector) and 'fault_011' in info:\n",
    "#         plot_stacked(test, faults=faults, detect=detect_vector)\n",
    "#         break\n",
    "print(examine_list.mean())"
   ]
  },
  {
   "cell_type": "code",
   "execution_count": 38,
   "id": "e3b0bb5e",
   "metadata": {
    "ExecuteTime": {
     "end_time": "2022-08-23T17:11:26.269742Z",
     "start_time": "2022-08-23T17:11:26.255726Z"
    }
   },
   "outputs": [
    {
     "data": {
      "text/plain": [
       "IsolatedWatchman(n_trees=500)"
      ]
     },
     "execution_count": 38,
     "metadata": {},
     "output_type": "execute_result"
    }
   ],
   "source": [
    "watchman_tep1"
   ]
  }
 ],
 "metadata": {
  "kernelspec": {
   "display_name": "Python 3 (ipykernel)",
   "language": "python",
   "name": "python3"
  },
  "language_info": {
   "codemirror_mode": {
    "name": "ipython",
    "version": 3
   },
   "file_extension": ".py",
   "mimetype": "text/x-python",
   "name": "python",
   "nbconvert_exporter": "python",
   "pygments_lexer": "ipython3",
   "version": "3.8.8"
  },
  "toc": {
   "base_numbering": 1,
   "nav_menu": {},
   "number_sections": true,
   "sideBar": true,
   "skip_h1_title": false,
   "title_cell": "Table of Contents",
   "title_sidebar": "Contents",
   "toc_cell": false,
   "toc_position": {
    "height": "calc(100% - 180px)",
    "left": "10px",
    "top": "150px",
    "width": "268.8px"
   },
   "toc_section_display": true,
   "toc_window_display": true
  }
 },
 "nbformat": 4,
 "nbformat_minor": 5
}
