{
 "cells": [
  {
   "cell_type": "markdown",
   "id": "0a33d98d",
   "metadata": {
    "ExecuteTime": {
     "end_time": "2022-08-23T15:52:40.275666Z",
     "start_time": "2022-08-23T15:52:32.127883Z"
    }
   },
   "source": [
    "!pip install rrcf"
   ]
  },
  {
   "cell_type": "code",
   "execution_count": 1,
   "id": "c36e95b5",
   "metadata": {
    "ExecuteTime": {
     "end_time": "2022-08-24T13:15:41.036432Z",
     "start_time": "2022-08-24T13:15:40.226395Z"
    }
   },
   "outputs": [],
   "source": [
    "import numpy as np\n",
    "import pandas as pd"
   ]
  },
  {
   "cell_type": "code",
   "execution_count": 2,
   "id": "3847919a",
   "metadata": {
    "ExecuteTime": {
     "end_time": "2022-08-24T13:15:41.068250Z",
     "start_time": "2022-08-24T13:15:41.038215Z"
    }
   },
   "outputs": [],
   "source": [
    "from utils.datasets import GhlKasperskyDataset, TepHarvardDataset, TepKasperskyDataset\n",
    "from utils.custom_plots import plot_stacked"
   ]
  },
  {
   "cell_type": "code",
   "execution_count": 3,
   "id": "9fca2cf1",
   "metadata": {
    "ExecuteTime": {
     "end_time": "2022-08-24T13:15:42.057001Z",
     "start_time": "2022-08-24T13:15:41.071249Z"
    }
   },
   "outputs": [],
   "source": [
    "from sklearn.preprocessing import StandardScaler\n",
    "from sklearn.ensemble import IsolationForest"
   ]
  },
  {
   "cell_type": "code",
   "execution_count": 4,
   "id": "73a43705",
   "metadata": {
    "ExecuteTime": {
     "end_time": "2022-08-24T13:15:42.072868Z",
     "start_time": "2022-08-24T13:15:42.058830Z"
    }
   },
   "outputs": [],
   "source": [
    "import rrcf"
   ]
  },
  {
   "cell_type": "code",
   "execution_count": 5,
   "id": "49ed7a4b",
   "metadata": {
    "ExecuteTime": {
     "end_time": "2022-08-24T13:15:42.103867Z",
     "start_time": "2022-08-24T13:15:42.074867Z"
    }
   },
   "outputs": [],
   "source": [
    "from adtk.metrics import precision, recall, f1_score\n",
    "from utils.metrics import time_span_metrics"
   ]
  },
  {
   "cell_type": "code",
   "execution_count": 6,
   "id": "70a07933",
   "metadata": {
    "ExecuteTime": {
     "end_time": "2022-08-24T13:15:42.198156Z",
     "start_time": "2022-08-24T13:15:42.105834Z"
    }
   },
   "outputs": [],
   "source": [
    "from tqdm.notebook import tqdm"
   ]
  },
  {
   "cell_type": "markdown",
   "id": "8378a23f",
   "metadata": {},
   "source": [
    "# Get data from datasets"
   ]
  },
  {
   "cell_type": "code",
   "execution_count": 7,
   "id": "fc5c5559",
   "metadata": {
    "ExecuteTime": {
     "end_time": "2022-08-24T13:15:42.588069Z",
     "start_time": "2022-08-24T13:15:42.200463Z"
    }
   },
   "outputs": [],
   "source": [
    "ds_ghl = GhlKasperskyDataset()\n",
    "ds_ghl.shake_not_stir(valid_test_ratio=0.3)\n",
    "train_ghl, _, _= next(ds_ghl.train_generator())\n",
    "valid_ghl, faults_ghl, info_ghl= next(ds_ghl.valid_generator())"
   ]
  },
  {
   "cell_type": "code",
   "execution_count": 8,
   "id": "16129bc3",
   "metadata": {
    "ExecuteTime": {
     "end_time": "2022-08-24T13:15:42.722469Z",
     "start_time": "2022-08-24T13:15:42.590396Z"
    }
   },
   "outputs": [],
   "source": [
    "ds_tep1 = TepHarvardDataset()\n",
    "ds_tep1.shake_not_stir(balanced_test=True, valid_test_ratio=1.0)\n",
    "train_tep1, _, _= next(ds_tep1.train_generator())\n",
    "valid_tep1, faults_tep1, info_tep1= next(ds_tep1.valid_generator())"
   ]
  },
  {
   "cell_type": "code",
   "execution_count": 9,
   "id": "29a6c6ac",
   "metadata": {
    "ExecuteTime": {
     "end_time": "2022-08-24T13:15:42.864454Z",
     "start_time": "2022-08-24T13:15:42.728503Z"
    }
   },
   "outputs": [],
   "source": [
    "ds_tep2 = TepHarvardDataset()\n",
    "ds_tep2.shake_not_stir(valid_test_ratio=0.3)\n",
    "train_tep2, _, _= next(ds_tep2.train_generator())\n",
    "valid_tep2, faults_tep2, info_tep2= next(ds_tep2.valid_generator())"
   ]
  },
  {
   "cell_type": "markdown",
   "id": "c6eb2244",
   "metadata": {},
   "source": [
    "# IsolationForest test"
   ]
  },
  {
   "cell_type": "markdown",
   "id": "c058e940",
   "metadata": {},
   "source": [
    "## GHL"
   ]
  },
  {
   "cell_type": "code",
   "execution_count": 10,
   "id": "287e17fa",
   "metadata": {
    "ExecuteTime": {
     "end_time": "2022-08-24T13:15:42.880673Z",
     "start_time": "2022-08-24T13:15:42.866712Z"
    }
   },
   "outputs": [],
   "source": [
    "isoforest = IsolationForest(n_estimators=1000,\n",
    "                            max_samples='auto',\n",
    "                            contamination='auto',\n",
    "                            max_features=1.0,\n",
    "                            bootstrap=False,\n",
    "                            n_jobs=-1,\n",
    "                            random_state=31,\n",
    "                            verbose=1,\n",
    "                            warm_start=False)"
   ]
  },
  {
   "cell_type": "code",
   "execution_count": 11,
   "id": "c7bc306d",
   "metadata": {
    "ExecuteTime": {
     "end_time": "2022-08-24T13:15:46.134748Z",
     "start_time": "2022-08-24T13:15:42.884273Z"
    },
    "scrolled": true
   },
   "outputs": [
    {
     "name": "stderr",
     "output_type": "stream",
     "text": [
      "[Parallel(n_jobs=8)]: Using backend ThreadingBackend with 8 concurrent workers.\n",
      "[Parallel(n_jobs=8)]: Done   2 out of   8 | elapsed:    3.0s remaining:    9.2s\n",
      "[Parallel(n_jobs=8)]: Done   8 out of   8 | elapsed:    3.1s finished\n"
     ]
    },
    {
     "data": {
      "text/plain": [
       "IsolationForest(n_estimators=1000, n_jobs=-1, random_state=31, verbose=1)"
      ]
     },
     "execution_count": 11,
     "metadata": {},
     "output_type": "execute_result"
    }
   ],
   "source": [
    "isoforest.fit(train_ghl)"
   ]
  },
  {
   "cell_type": "code",
   "execution_count": 12,
   "id": "49103516",
   "metadata": {
    "ExecuteTime": {
     "end_time": "2022-08-24T13:15:47.179105Z",
     "start_time": "2022-08-24T13:15:46.137423Z"
    }
   },
   "outputs": [],
   "source": [
    "detect = pd.Series(index=valid_ghl.index, data=isoforest.predict(valid_ghl))\n",
    "detect.replace({1: 0, -1: 1}, inplace=True)"
   ]
  },
  {
   "cell_type": "code",
   "execution_count": 13,
   "id": "3330328e",
   "metadata": {
    "ExecuteTime": {
     "end_time": "2022-08-24T13:15:47.210151Z",
     "start_time": "2022-08-24T13:15:47.181088Z"
    }
   },
   "outputs": [
    {
     "data": {
      "text/plain": [
       "(0.020100502512562814, 1.0, 0.03940886699507389)"
      ]
     },
     "execution_count": 13,
     "metadata": {},
     "output_type": "execute_result"
    }
   ],
   "source": [
    "time_span_metrics(faults_ghl, detect)"
   ]
  },
  {
   "cell_type": "code",
   "execution_count": 14,
   "id": "1c7660f9",
   "metadata": {
    "ExecuteTime": {
     "end_time": "2022-08-24T13:15:56.674939Z",
     "start_time": "2022-08-24T13:15:47.213066Z"
    }
   },
   "outputs": [],
   "source": [
    "# Generate data\n",
    "n = 730\n",
    "A = 50\n",
    "center = 100\n",
    "phi = 30\n",
    "T = 2*np.pi/100\n",
    "t = np.arange(n)\n",
    "sin = A*np.sin(T*t-phi*T) + center\n",
    "sin[235:255] = 80\n",
    "\n",
    "# Set tree parameters\n",
    "num_trees = 40\n",
    "shingle_size = 4\n",
    "tree_size = 256\n",
    "\n",
    "# Create a forest of empty trees\n",
    "forest = []\n",
    "for _ in range(num_trees):\n",
    "    tree = rrcf.RCTree()\n",
    "    forest.append(tree)\n",
    "    \n",
    "# Use the \"shingle\" generator to create rolling window\n",
    "points = rrcf.shingle(sin, size=shingle_size)\n",
    "\n",
    "# Create a dict to store anomaly score of each point\n",
    "avg_codisp = {}\n",
    "\n",
    "# For each shingle...\n",
    "for index, point in enumerate(points):\n",
    "    # For each tree in the forest...\n",
    "    for tree in forest:\n",
    "        # If tree is above permitted size, drop the oldest point (FIFO)\n",
    "        if len(tree.leaves) > tree_size:\n",
    "            tree.forget_point(index - tree_size)\n",
    "        # Insert the new point into the tree\n",
    "        tree.insert_point(point, index=index)\n",
    "        # Compute codisp on the new point and take the average among all trees\n",
    "        if not index in avg_codisp:\n",
    "            avg_codisp[index] = 0\n",
    "        avg_codisp[index] += tree.codisp(index) / num_trees"
   ]
  },
  {
   "cell_type": "markdown",
   "id": "792a428d",
   "metadata": {},
   "source": [
    "## TEP Harvard"
   ]
  },
  {
   "cell_type": "code",
   "execution_count": 15,
   "id": "21d03203",
   "metadata": {
    "ExecuteTime": {
     "end_time": "2022-08-24T13:15:56.690510Z",
     "start_time": "2022-08-24T13:15:56.677761Z"
    }
   },
   "outputs": [],
   "source": [
    "isoforest = IsolationForest(n_estimators=100,\n",
    "                            max_samples='auto',\n",
    "                            contamination='auto',\n",
    "                            max_features=1.0,\n",
    "                            bootstrap=False,\n",
    "                            n_jobs=-1,\n",
    "                            random_state=31,\n",
    "                            verbose=1,\n",
    "                            warm_start=False)"
   ]
  },
  {
   "cell_type": "code",
   "execution_count": 16,
   "id": "55713002",
   "metadata": {
    "ExecuteTime": {
     "end_time": "2022-08-24T13:15:56.961836Z",
     "start_time": "2022-08-24T13:15:56.693517Z"
    }
   },
   "outputs": [
    {
     "name": "stderr",
     "output_type": "stream",
     "text": [
      "[Parallel(n_jobs=8)]: Using backend ThreadingBackend with 8 concurrent workers.\n",
      "[Parallel(n_jobs=8)]: Done   2 out of   8 | elapsed:    0.1s remaining:    0.6s\n",
      "[Parallel(n_jobs=8)]: Done   8 out of   8 | elapsed:    0.1s finished\n"
     ]
    },
    {
     "data": {
      "text/plain": [
       "IsolationForest(n_jobs=-1, random_state=31, verbose=1)"
      ]
     },
     "execution_count": 16,
     "metadata": {},
     "output_type": "execute_result"
    }
   ],
   "source": [
    "isoforest.fit(train_tep1.values)"
   ]
  },
  {
   "cell_type": "code",
   "execution_count": 17,
   "id": "f36b1458",
   "metadata": {
    "ExecuteTime": {
     "end_time": "2022-08-24T13:15:57.055837Z",
     "start_time": "2022-08-24T13:15:56.964696Z"
    }
   },
   "outputs": [],
   "source": [
    "detect = pd.Series(index=valid_tep1.index, data=isoforest.predict(valid_tep1.values))\n",
    "detect.replace({1: 0, -1: 1}, inplace=True)"
   ]
  },
  {
   "cell_type": "code",
   "execution_count": 18,
   "id": "abc5f49f",
   "metadata": {
    "ExecuteTime": {
     "end_time": "2022-08-24T13:15:57.087456Z",
     "start_time": "2022-08-24T13:15:57.058841Z"
    }
   },
   "outputs": [
    {
     "data": {
      "text/plain": [
       "(1.0, 1.0, 1.0)"
      ]
     },
     "execution_count": 18,
     "metadata": {},
     "output_type": "execute_result"
    }
   ],
   "source": [
    "time_span_metrics(faults_tep1, detect)"
   ]
  },
  {
   "cell_type": "markdown",
   "id": "b1a1de5d",
   "metadata": {},
   "source": [
    "## TEP Kaspersky"
   ]
  },
  {
   "cell_type": "code",
   "execution_count": 19,
   "id": "ee8757c0",
   "metadata": {
    "ExecuteTime": {
     "end_time": "2022-08-24T13:15:57.102815Z",
     "start_time": "2022-08-24T13:15:57.090838Z"
    }
   },
   "outputs": [],
   "source": [
    "isoforest = IsolationForest(n_estimators=100,\n",
    "                            max_samples='auto',\n",
    "                            contamination='auto',\n",
    "                            max_features=1.0,\n",
    "                            bootstrap=False,\n",
    "                            n_jobs=-1,\n",
    "                            random_state=31,\n",
    "                            verbose=1,\n",
    "                            warm_start=False)"
   ]
  },
  {
   "cell_type": "code",
   "execution_count": 20,
   "id": "e59cfa17",
   "metadata": {
    "ExecuteTime": {
     "end_time": "2022-08-24T13:15:57.428291Z",
     "start_time": "2022-08-24T13:15:57.106764Z"
    }
   },
   "outputs": [
    {
     "name": "stderr",
     "output_type": "stream",
     "text": [
      "[Parallel(n_jobs=8)]: Using backend ThreadingBackend with 8 concurrent workers.\n",
      "[Parallel(n_jobs=8)]: Done   2 out of   8 | elapsed:    0.2s remaining:    0.7s\n",
      "[Parallel(n_jobs=8)]: Done   8 out of   8 | elapsed:    0.2s finished\n"
     ]
    },
    {
     "data": {
      "text/plain": [
       "IsolationForest(n_jobs=-1, random_state=31, verbose=1)"
      ]
     },
     "execution_count": 20,
     "metadata": {},
     "output_type": "execute_result"
    }
   ],
   "source": [
    "isoforest.fit(train_tep2.values)"
   ]
  },
  {
   "cell_type": "code",
   "execution_count": 21,
   "id": "068a4139",
   "metadata": {
    "ExecuteTime": {
     "end_time": "2022-08-24T13:15:57.538434Z",
     "start_time": "2022-08-24T13:15:57.431785Z"
    }
   },
   "outputs": [],
   "source": [
    "detect = pd.Series(index=valid_tep2.index, data=isoforest.predict(valid_tep2.values))\n",
    "detect.replace({1: 0, -1: 1}, inplace=True)"
   ]
  },
  {
   "cell_type": "code",
   "execution_count": 22,
   "id": "1267de3d",
   "metadata": {
    "ExecuteTime": {
     "end_time": "2022-08-24T13:15:57.553733Z",
     "start_time": "2022-08-24T13:15:57.541339Z"
    }
   },
   "outputs": [
    {
     "data": {
      "text/plain": [
       "(1.0, 0.7916666666666666, 0.8837209302325582)"
      ]
     },
     "execution_count": 22,
     "metadata": {},
     "output_type": "execute_result"
    }
   ],
   "source": [
    "time_span_metrics(faults_tep2, detect)"
   ]
  },
  {
   "cell_type": "markdown",
   "id": "c8308e30",
   "metadata": {},
   "source": [
    "# Isolating Watchman test"
   ]
  },
  {
   "cell_type": "code",
   "execution_count": 23,
   "id": "8ed22e76",
   "metadata": {
    "ExecuteTime": {
     "end_time": "2022-08-24T13:15:57.585337Z",
     "start_time": "2022-08-24T13:15:57.556685Z"
    }
   },
   "outputs": [],
   "source": [
    "from utils.watchmen import IsolatingWatchman"
   ]
  },
  {
   "cell_type": "markdown",
   "id": "9ef8f6e3",
   "metadata": {},
   "source": [
    "## GHL"
   ]
  },
  {
   "cell_type": "code",
   "execution_count": 24,
   "id": "f1af253d",
   "metadata": {
    "ExecuteTime": {
     "end_time": "2022-08-24T13:15:57.600372Z",
     "start_time": "2022-08-24T13:15:57.587347Z"
    }
   },
   "outputs": [],
   "source": [
    "watchman_ghl = IsolatingWatchman(random_state=31)"
   ]
  },
  {
   "cell_type": "code",
   "execution_count": 25,
   "id": "2c8b797d",
   "metadata": {
    "ExecuteTime": {
     "end_time": "2022-08-24T13:15:57.615899Z",
     "start_time": "2022-08-24T13:15:57.603716Z"
    }
   },
   "outputs": [],
   "source": [
    "ds_ghl.shake_not_stir(valid_test_ratio=0.3)"
   ]
  },
  {
   "cell_type": "code",
   "execution_count": 26,
   "id": "91716ef2",
   "metadata": {
    "ExecuteTime": {
     "end_time": "2022-08-24T13:16:01.311729Z",
     "start_time": "2022-08-24T13:15:57.618142Z"
    }
   },
   "outputs": [
    {
     "data": {
      "application/vnd.jupyter.widget-view+json": {
       "model_id": "ab3e10e179fb4da7bada826cc59daff8",
       "version_major": 2,
       "version_minor": 0
      },
      "text/plain": [
       "0it [00:00, ?it/s]"
      ]
     },
     "metadata": {},
     "output_type": "display_data"
    }
   ],
   "source": [
    "# learn data\n",
    "train_gen = ds_ghl.train_generator()\n",
    "for train, _, _ in tqdm(train_gen):\n",
    "    watchman_ghl.partial_fit(train)"
   ]
  },
  {
   "cell_type": "code",
   "execution_count": 27,
   "id": "81f1c31f",
   "metadata": {
    "ExecuteTime": {
     "end_time": "2022-08-24T13:16:01.342686Z",
     "start_time": "2022-08-24T13:16:01.319677Z"
    }
   },
   "outputs": [
    {
     "data": {
      "text/plain": [
       "(25001, 12)"
      ]
     },
     "execution_count": 27,
     "metadata": {},
     "output_type": "execute_result"
    }
   ],
   "source": [
    "train.shape"
   ]
  },
  {
   "cell_type": "code",
   "execution_count": 28,
   "id": "3fce3444",
   "metadata": {
    "ExecuteTime": {
     "end_time": "2022-08-24T13:16:20.988489Z",
     "start_time": "2022-08-24T13:16:01.346675Z"
    }
   },
   "outputs": [
    {
     "data": {
      "application/vnd.jupyter.widget-view+json": {
       "model_id": "f13490ed6df24908ab1ce8f87a2a7927",
       "version_major": 2,
       "version_minor": 0
      },
      "text/plain": [
       "0it [00:00, ?it/s]"
      ]
     },
     "metadata": {},
     "output_type": "display_data"
    },
    {
     "name": "stdout",
     "output_type": "stream",
     "text": [
      "precision    0.014502\n",
      "recall       0.811054\n",
      "f1_score     0.028326\n",
      "dtype: float64\n"
     ]
    }
   ],
   "source": [
    "# examine\n",
    "valid_gen = ds_ghl.valid_generator()\n",
    "examine_list = pd.DataFrame(columns=['precision', 'recall', 'f1_score'], dtype='float')\n",
    "for valid, faults, info in tqdm(valid_gen):\n",
    "    detect = watchman_ghl.predict(valid)\n",
    "    examine_list.loc[info] = time_span_metrics(faults, detect)\n",
    "print(examine_list.mean())"
   ]
  },
  {
   "cell_type": "code",
   "execution_count": 29,
   "id": "58130d6c",
   "metadata": {
    "ExecuteTime": {
     "end_time": "2022-08-24T13:16:21.004456Z",
     "start_time": "2022-08-24T13:16:20.991582Z"
    }
   },
   "outputs": [
    {
     "data": {
      "text/plain": [
       "IsolatingWatchman(n_trees=1000)"
      ]
     },
     "execution_count": 29,
     "metadata": {},
     "output_type": "execute_result"
    }
   ],
   "source": [
    "watchman_ghl"
   ]
  },
  {
   "cell_type": "markdown",
   "id": "8fd82b77",
   "metadata": {},
   "source": [
    "## TEP Harvard"
   ]
  },
  {
   "cell_type": "code",
   "execution_count": 30,
   "id": "a0e8792d",
   "metadata": {
    "ExecuteTime": {
     "end_time": "2022-08-24T13:16:21.019699Z",
     "start_time": "2022-08-24T13:16:21.008574Z"
    }
   },
   "outputs": [],
   "source": [
    "watchman_tep1 = IsolatingWatchman(random_state=31)"
   ]
  },
  {
   "cell_type": "code",
   "execution_count": 31,
   "id": "b7aa1967",
   "metadata": {
    "ExecuteTime": {
     "end_time": "2022-08-24T13:16:21.115412Z",
     "start_time": "2022-08-24T13:16:21.023860Z"
    }
   },
   "outputs": [],
   "source": [
    "ds_tep1.shake_not_stir(balanced_test=True, valid_test_ratio=0.5)"
   ]
  },
  {
   "cell_type": "code",
   "execution_count": 32,
   "id": "1ce7ad27",
   "metadata": {
    "ExecuteTime": {
     "end_time": "2022-08-24T13:16:31.824986Z",
     "start_time": "2022-08-24T13:16:21.117302Z"
    }
   },
   "outputs": [
    {
     "data": {
      "application/vnd.jupyter.widget-view+json": {
       "model_id": "c182d6c4b571497392d1236064dfe0a0",
       "version_major": 2,
       "version_minor": 0
      },
      "text/plain": [
       "  0%|          | 0/500 [00:00<?, ?it/s]"
      ]
     },
     "metadata": {},
     "output_type": "display_data"
    }
   ],
   "source": [
    "# learn data\n",
    "train_gen = ds_tep1.train_generator()\n",
    "for train, _, _ in tqdm(train_gen, total=500):\n",
    "    watchman_tep1.partial_fit(train)"
   ]
  },
  {
   "cell_type": "raw",
   "id": "ab0a537f",
   "metadata": {
    "ExecuteTime": {
     "end_time": "2022-08-23T17:08:30.242060Z",
     "start_time": "2022-08-23T17:08:30.228929Z"
    }
   },
   "source": [
    "train.shape"
   ]
  },
  {
   "cell_type": "code",
   "execution_count": 33,
   "id": "98a705c3",
   "metadata": {
    "ExecuteTime": {
     "end_time": "2022-08-24T13:18:32.405792Z",
     "start_time": "2022-08-24T13:16:31.826909Z"
    }
   },
   "outputs": [
    {
     "data": {
      "application/vnd.jupyter.widget-view+json": {
       "model_id": "b8da54eb8020450582655ad2e7451896",
       "version_major": 2,
       "version_minor": 0
      },
      "text/plain": [
       "  0%|          | 0/500 [00:00<?, ?it/s]"
      ]
     },
     "metadata": {},
     "output_type": "display_data"
    },
    {
     "ename": "KeyboardInterrupt",
     "evalue": "",
     "output_type": "error",
     "traceback": [
      "\u001b[1;31m---------------------------------------------------------------------------\u001b[0m",
      "\u001b[1;31mKeyboardInterrupt\u001b[0m                         Traceback (most recent call last)",
      "Input \u001b[1;32mIn [33]\u001b[0m, in \u001b[0;36m<cell line: 4>\u001b[1;34m()\u001b[0m\n\u001b[0;32m      2\u001b[0m valid_gen \u001b[38;5;241m=\u001b[39m ds_tep1\u001b[38;5;241m.\u001b[39mvalid_generator()\n\u001b[0;32m      3\u001b[0m examine_list \u001b[38;5;241m=\u001b[39m pd\u001b[38;5;241m.\u001b[39mDataFrame(columns\u001b[38;5;241m=\u001b[39m[\u001b[38;5;124m'\u001b[39m\u001b[38;5;124mprecision\u001b[39m\u001b[38;5;124m'\u001b[39m, \u001b[38;5;124m'\u001b[39m\u001b[38;5;124mrecall\u001b[39m\u001b[38;5;124m'\u001b[39m, \u001b[38;5;124m'\u001b[39m\u001b[38;5;124mf1_score\u001b[39m\u001b[38;5;124m'\u001b[39m], dtype\u001b[38;5;241m=\u001b[39m\u001b[38;5;124m'\u001b[39m\u001b[38;5;124mfloat\u001b[39m\u001b[38;5;124m'\u001b[39m)\n\u001b[1;32m----> 4\u001b[0m \u001b[38;5;28;01mfor\u001b[39;00m valid, faults, info \u001b[38;5;129;01min\u001b[39;00m tqdm(valid_gen, total\u001b[38;5;241m=\u001b[39m\u001b[38;5;241m500\u001b[39m):\n\u001b[0;32m      5\u001b[0m     detect \u001b[38;5;241m=\u001b[39m watchman_tep1\u001b[38;5;241m.\u001b[39mpredict(valid)\n\u001b[0;32m      6\u001b[0m     examine_list\u001b[38;5;241m.\u001b[39mloc[info] \u001b[38;5;241m=\u001b[39m time_span_metrics(faults, detect)\n",
      "File \u001b[1;32m~\\anaconda3\\lib\\site-packages\\tqdm\\notebook.py:257\u001b[0m, in \u001b[0;36mtqdm_notebook.__iter__\u001b[1;34m(self)\u001b[0m\n\u001b[0;32m    255\u001b[0m \u001b[38;5;28;01mdef\u001b[39;00m \u001b[38;5;21m__iter__\u001b[39m(\u001b[38;5;28mself\u001b[39m):\n\u001b[0;32m    256\u001b[0m     \u001b[38;5;28;01mtry\u001b[39;00m:\n\u001b[1;32m--> 257\u001b[0m         \u001b[38;5;28;01mfor\u001b[39;00m obj \u001b[38;5;129;01min\u001b[39;00m \u001b[38;5;28msuper\u001b[39m(tqdm_notebook, \u001b[38;5;28mself\u001b[39m)\u001b[38;5;241m.\u001b[39m\u001b[38;5;21m__iter__\u001b[39m():\n\u001b[0;32m    258\u001b[0m             \u001b[38;5;66;03m# return super(tqdm...) will not catch exception\u001b[39;00m\n\u001b[0;32m    259\u001b[0m             \u001b[38;5;28;01myield\u001b[39;00m obj\n\u001b[0;32m    260\u001b[0m     \u001b[38;5;66;03m# NB: except ... [ as ...] breaks IPython async KeyboardInterrupt\u001b[39;00m\n",
      "File \u001b[1;32m~\\anaconda3\\lib\\site-packages\\tqdm\\std.py:1195\u001b[0m, in \u001b[0;36mtqdm.__iter__\u001b[1;34m(self)\u001b[0m\n\u001b[0;32m   1192\u001b[0m time \u001b[38;5;241m=\u001b[39m \u001b[38;5;28mself\u001b[39m\u001b[38;5;241m.\u001b[39m_time\n\u001b[0;32m   1194\u001b[0m \u001b[38;5;28;01mtry\u001b[39;00m:\n\u001b[1;32m-> 1195\u001b[0m     \u001b[38;5;28;01mfor\u001b[39;00m obj \u001b[38;5;129;01min\u001b[39;00m iterable:\n\u001b[0;32m   1196\u001b[0m         \u001b[38;5;28;01myield\u001b[39;00m obj\n\u001b[0;32m   1197\u001b[0m         \u001b[38;5;66;03m# Update and possibly print the progressbar.\u001b[39;00m\n\u001b[0;32m   1198\u001b[0m         \u001b[38;5;66;03m# Note: does not call self.update(1) for speed optimisation.\u001b[39;00m\n",
      "File \u001b[1;32m~\\Data_science\\skillfactory_rds\\module_final\\utils\\datasets.py:194\u001b[0m, in \u001b[0;36mTepHarvardDataset.valid_generator\u001b[1;34m(self)\u001b[0m\n\u001b[0;32m    191\u001b[0m \u001b[38;5;28;01mdef\u001b[39;00m \u001b[38;5;21mvalid_generator\u001b[39m(\u001b[38;5;28mself\u001b[39m) \u001b[38;5;241m-\u001b[39m\u001b[38;5;241m>\u001b[39m \u001b[38;5;28mtuple\u001b[39m:\n\u001b[0;32m    192\u001b[0m     \u001b[38;5;66;03m# load valid, prepare index\u001b[39;00m\n\u001b[0;32m    193\u001b[0m     \u001b[38;5;28;01mfor\u001b[39;00m filepath \u001b[38;5;129;01min\u001b[39;00m \u001b[38;5;28mself\u001b[39m\u001b[38;5;241m.\u001b[39m_valid_files:\n\u001b[1;32m--> 194\u001b[0m         data \u001b[38;5;241m=\u001b[39m \u001b[43mpd\u001b[49m\u001b[38;5;241;43m.\u001b[39;49m\u001b[43mread_parquet\u001b[49m\u001b[43m(\u001b[49m\u001b[43mfilepath\u001b[49m\u001b[43m)\u001b[49m\n\u001b[0;32m    195\u001b[0m         data\u001b[38;5;241m.\u001b[39mindex\u001b[38;5;241m.\u001b[39mname \u001b[38;5;241m=\u001b[39m \u001b[38;5;28;01mNone\u001b[39;00m\n\u001b[0;32m    196\u001b[0m         \u001b[38;5;66;03m# dataset-specific: for valid first 1 h (20 * 3 min) always normal\u001b[39;00m\n",
      "File \u001b[1;32m~\\anaconda3\\lib\\site-packages\\pandas\\io\\parquet.py:493\u001b[0m, in \u001b[0;36mread_parquet\u001b[1;34m(path, engine, columns, storage_options, use_nullable_dtypes, **kwargs)\u001b[0m\n\u001b[0;32m    446\u001b[0m \u001b[38;5;124;03m\"\"\"\u001b[39;00m\n\u001b[0;32m    447\u001b[0m \u001b[38;5;124;03mLoad a parquet object from the file path, returning a DataFrame.\u001b[39;00m\n\u001b[0;32m    448\u001b[0m \n\u001b[1;32m   (...)\u001b[0m\n\u001b[0;32m    489\u001b[0m \u001b[38;5;124;03mDataFrame\u001b[39;00m\n\u001b[0;32m    490\u001b[0m \u001b[38;5;124;03m\"\"\"\u001b[39;00m\n\u001b[0;32m    491\u001b[0m impl \u001b[38;5;241m=\u001b[39m get_engine(engine)\n\u001b[1;32m--> 493\u001b[0m \u001b[38;5;28;01mreturn\u001b[39;00m \u001b[43mimpl\u001b[49m\u001b[38;5;241;43m.\u001b[39;49m\u001b[43mread\u001b[49m\u001b[43m(\u001b[49m\n\u001b[0;32m    494\u001b[0m \u001b[43m    \u001b[49m\u001b[43mpath\u001b[49m\u001b[43m,\u001b[49m\n\u001b[0;32m    495\u001b[0m \u001b[43m    \u001b[49m\u001b[43mcolumns\u001b[49m\u001b[38;5;241;43m=\u001b[39;49m\u001b[43mcolumns\u001b[49m\u001b[43m,\u001b[49m\n\u001b[0;32m    496\u001b[0m \u001b[43m    \u001b[49m\u001b[43mstorage_options\u001b[49m\u001b[38;5;241;43m=\u001b[39;49m\u001b[43mstorage_options\u001b[49m\u001b[43m,\u001b[49m\n\u001b[0;32m    497\u001b[0m \u001b[43m    \u001b[49m\u001b[43muse_nullable_dtypes\u001b[49m\u001b[38;5;241;43m=\u001b[39;49m\u001b[43muse_nullable_dtypes\u001b[49m\u001b[43m,\u001b[49m\n\u001b[0;32m    498\u001b[0m \u001b[43m    \u001b[49m\u001b[38;5;241;43m*\u001b[39;49m\u001b[38;5;241;43m*\u001b[39;49m\u001b[43mkwargs\u001b[49m\u001b[43m,\u001b[49m\n\u001b[0;32m    499\u001b[0m \u001b[43m\u001b[49m\u001b[43m)\u001b[49m\n",
      "File \u001b[1;32m~\\anaconda3\\lib\\site-packages\\pandas\\io\\parquet.py:240\u001b[0m, in \u001b[0;36mPyArrowImpl.read\u001b[1;34m(self, path, columns, use_nullable_dtypes, storage_options, **kwargs)\u001b[0m\n\u001b[0;32m    233\u001b[0m path_or_handle, handles, kwargs[\u001b[38;5;124m\"\u001b[39m\u001b[38;5;124mfilesystem\u001b[39m\u001b[38;5;124m\"\u001b[39m] \u001b[38;5;241m=\u001b[39m _get_path_or_handle(\n\u001b[0;32m    234\u001b[0m     path,\n\u001b[0;32m    235\u001b[0m     kwargs\u001b[38;5;241m.\u001b[39mpop(\u001b[38;5;124m\"\u001b[39m\u001b[38;5;124mfilesystem\u001b[39m\u001b[38;5;124m\"\u001b[39m, \u001b[38;5;28;01mNone\u001b[39;00m),\n\u001b[0;32m    236\u001b[0m     storage_options\u001b[38;5;241m=\u001b[39mstorage_options,\n\u001b[0;32m    237\u001b[0m     mode\u001b[38;5;241m=\u001b[39m\u001b[38;5;124m\"\u001b[39m\u001b[38;5;124mrb\u001b[39m\u001b[38;5;124m\"\u001b[39m,\n\u001b[0;32m    238\u001b[0m )\n\u001b[0;32m    239\u001b[0m \u001b[38;5;28;01mtry\u001b[39;00m:\n\u001b[1;32m--> 240\u001b[0m     result \u001b[38;5;241m=\u001b[39m \u001b[38;5;28;43mself\u001b[39;49m\u001b[38;5;241;43m.\u001b[39;49m\u001b[43mapi\u001b[49m\u001b[38;5;241;43m.\u001b[39;49m\u001b[43mparquet\u001b[49m\u001b[38;5;241;43m.\u001b[39;49m\u001b[43mread_table\u001b[49m\u001b[43m(\u001b[49m\n\u001b[0;32m    241\u001b[0m \u001b[43m        \u001b[49m\u001b[43mpath_or_handle\u001b[49m\u001b[43m,\u001b[49m\u001b[43m \u001b[49m\u001b[43mcolumns\u001b[49m\u001b[38;5;241;43m=\u001b[39;49m\u001b[43mcolumns\u001b[49m\u001b[43m,\u001b[49m\u001b[43m \u001b[49m\u001b[38;5;241;43m*\u001b[39;49m\u001b[38;5;241;43m*\u001b[39;49m\u001b[43mkwargs\u001b[49m\n\u001b[0;32m    242\u001b[0m \u001b[43m    \u001b[49m\u001b[43m)\u001b[49m\u001b[38;5;241m.\u001b[39mto_pandas(\u001b[38;5;241m*\u001b[39m\u001b[38;5;241m*\u001b[39mto_pandas_kwargs)\n\u001b[0;32m    243\u001b[0m     \u001b[38;5;28;01mif\u001b[39;00m manager \u001b[38;5;241m==\u001b[39m \u001b[38;5;124m\"\u001b[39m\u001b[38;5;124marray\u001b[39m\u001b[38;5;124m\"\u001b[39m:\n\u001b[0;32m    244\u001b[0m         result \u001b[38;5;241m=\u001b[39m result\u001b[38;5;241m.\u001b[39m_as_manager(\u001b[38;5;124m\"\u001b[39m\u001b[38;5;124marray\u001b[39m\u001b[38;5;124m\"\u001b[39m, copy\u001b[38;5;241m=\u001b[39m\u001b[38;5;28;01mFalse\u001b[39;00m)\n",
      "File \u001b[1;32m~\\anaconda3\\lib\\site-packages\\pyarrow\\parquet\\__init__.py:2827\u001b[0m, in \u001b[0;36mread_table\u001b[1;34m(source, columns, use_threads, metadata, schema, use_pandas_metadata, memory_map, read_dictionary, filesystem, filters, buffer_size, partitioning, use_legacy_dataset, ignore_prefixes, pre_buffer, coerce_int96_timestamp_unit, decryption_properties, thrift_string_size_limit, thrift_container_size_limit)\u001b[0m\n\u001b[0;32m   2816\u001b[0m         \u001b[38;5;66;03m# TODO test that source is not a directory or a list\u001b[39;00m\n\u001b[0;32m   2817\u001b[0m         dataset \u001b[38;5;241m=\u001b[39m ParquetFile(\n\u001b[0;32m   2818\u001b[0m             source, metadata\u001b[38;5;241m=\u001b[39mmetadata, read_dictionary\u001b[38;5;241m=\u001b[39mread_dictionary,\n\u001b[0;32m   2819\u001b[0m             memory_map\u001b[38;5;241m=\u001b[39mmemory_map, buffer_size\u001b[38;5;241m=\u001b[39mbuffer_size,\n\u001b[1;32m   (...)\u001b[0m\n\u001b[0;32m   2824\u001b[0m             thrift_container_size_limit\u001b[38;5;241m=\u001b[39mthrift_container_size_limit,\n\u001b[0;32m   2825\u001b[0m         )\n\u001b[1;32m-> 2827\u001b[0m     \u001b[38;5;28;01mreturn\u001b[39;00m \u001b[43mdataset\u001b[49m\u001b[38;5;241;43m.\u001b[39;49m\u001b[43mread\u001b[49m\u001b[43m(\u001b[49m\u001b[43mcolumns\u001b[49m\u001b[38;5;241;43m=\u001b[39;49m\u001b[43mcolumns\u001b[49m\u001b[43m,\u001b[49m\u001b[43m \u001b[49m\u001b[43muse_threads\u001b[49m\u001b[38;5;241;43m=\u001b[39;49m\u001b[43muse_threads\u001b[49m\u001b[43m,\u001b[49m\n\u001b[0;32m   2828\u001b[0m \u001b[43m                        \u001b[49m\u001b[43muse_pandas_metadata\u001b[49m\u001b[38;5;241;43m=\u001b[39;49m\u001b[43muse_pandas_metadata\u001b[49m\u001b[43m)\u001b[49m\n\u001b[0;32m   2830\u001b[0m warnings\u001b[38;5;241m.\u001b[39mwarn(\n\u001b[0;32m   2831\u001b[0m     \u001b[38;5;124m\"\u001b[39m\u001b[38;5;124mPassing \u001b[39m\u001b[38;5;124m'\u001b[39m\u001b[38;5;124muse_legacy_dataset=True\u001b[39m\u001b[38;5;124m'\u001b[39m\u001b[38;5;124m to get the legacy behaviour is \u001b[39m\u001b[38;5;124m\"\u001b[39m\n\u001b[0;32m   2832\u001b[0m     \u001b[38;5;124m\"\u001b[39m\u001b[38;5;124mdeprecated as of pyarrow 8.0.0, and the legacy implementation will \u001b[39m\u001b[38;5;124m\"\u001b[39m\n\u001b[0;32m   2833\u001b[0m     \u001b[38;5;124m\"\u001b[39m\u001b[38;5;124mbe removed in a future version.\u001b[39m\u001b[38;5;124m\"\u001b[39m,\n\u001b[0;32m   2834\u001b[0m     \u001b[38;5;167;01mFutureWarning\u001b[39;00m, stacklevel\u001b[38;5;241m=\u001b[39m\u001b[38;5;241m2\u001b[39m)\n\u001b[0;32m   2836\u001b[0m \u001b[38;5;28;01mif\u001b[39;00m ignore_prefixes \u001b[38;5;129;01mis\u001b[39;00m \u001b[38;5;129;01mnot\u001b[39;00m \u001b[38;5;28;01mNone\u001b[39;00m:\n",
      "File \u001b[1;32m~\\anaconda3\\lib\\site-packages\\pyarrow\\parquet\\__init__.py:2473\u001b[0m, in \u001b[0;36m_ParquetDatasetV2.read\u001b[1;34m(self, columns, use_threads, use_pandas_metadata)\u001b[0m\n\u001b[0;32m   2465\u001b[0m         index_columns \u001b[38;5;241m=\u001b[39m [\n\u001b[0;32m   2466\u001b[0m             col \u001b[38;5;28;01mfor\u001b[39;00m col \u001b[38;5;129;01min\u001b[39;00m _get_pandas_index_columns(metadata)\n\u001b[0;32m   2467\u001b[0m             \u001b[38;5;28;01mif\u001b[39;00m \u001b[38;5;129;01mnot\u001b[39;00m \u001b[38;5;28misinstance\u001b[39m(col, \u001b[38;5;28mdict\u001b[39m)\n\u001b[0;32m   2468\u001b[0m         ]\n\u001b[0;32m   2469\u001b[0m         columns \u001b[38;5;241m=\u001b[39m (\n\u001b[0;32m   2470\u001b[0m             \u001b[38;5;28mlist\u001b[39m(columns) \u001b[38;5;241m+\u001b[39m \u001b[38;5;28mlist\u001b[39m(\u001b[38;5;28mset\u001b[39m(index_columns) \u001b[38;5;241m-\u001b[39m \u001b[38;5;28mset\u001b[39m(columns))\n\u001b[0;32m   2471\u001b[0m         )\n\u001b[1;32m-> 2473\u001b[0m table \u001b[38;5;241m=\u001b[39m \u001b[38;5;28;43mself\u001b[39;49m\u001b[38;5;241;43m.\u001b[39;49m\u001b[43m_dataset\u001b[49m\u001b[38;5;241;43m.\u001b[39;49m\u001b[43mto_table\u001b[49m\u001b[43m(\u001b[49m\n\u001b[0;32m   2474\u001b[0m \u001b[43m    \u001b[49m\u001b[43mcolumns\u001b[49m\u001b[38;5;241;43m=\u001b[39;49m\u001b[43mcolumns\u001b[49m\u001b[43m,\u001b[49m\u001b[43m \u001b[49m\u001b[38;5;28;43mfilter\u001b[39;49m\u001b[38;5;241;43m=\u001b[39;49m\u001b[38;5;28;43mself\u001b[39;49m\u001b[38;5;241;43m.\u001b[39;49m\u001b[43m_filter_expression\u001b[49m\u001b[43m,\u001b[49m\n\u001b[0;32m   2475\u001b[0m \u001b[43m    \u001b[49m\u001b[43muse_threads\u001b[49m\u001b[38;5;241;43m=\u001b[39;49m\u001b[43muse_threads\u001b[49m\n\u001b[0;32m   2476\u001b[0m \u001b[43m\u001b[49m\u001b[43m)\u001b[49m\n\u001b[0;32m   2478\u001b[0m \u001b[38;5;66;03m# if use_pandas_metadata, restore the pandas metadata (which gets\u001b[39;00m\n\u001b[0;32m   2479\u001b[0m \u001b[38;5;66;03m# lost if doing a specific `columns` selection in to_table)\u001b[39;00m\n\u001b[0;32m   2480\u001b[0m \u001b[38;5;28;01mif\u001b[39;00m use_pandas_metadata:\n",
      "\u001b[1;31mKeyboardInterrupt\u001b[0m: "
     ]
    }
   ],
   "source": [
    "# examine\n",
    "valid_gen = ds_tep1.valid_generator()\n",
    "examine_list = pd.DataFrame(columns=['precision', 'recall', 'f1_score'], dtype='float')\n",
    "for valid, faults, info in tqdm(valid_gen, total=500):\n",
    "    detect = watchman_tep1.predict(valid)\n",
    "    examine_list.loc[info] = time_span_metrics(faults, detect)\n",
    "#     if max(faults) and max(detect_vector) and 'fault_011' in info:\n",
    "#         plot_stacked(test, faults=faults, detect=detect_vector)\n",
    "#         break\n",
    "print(examine_list.mean())"
   ]
  },
  {
   "cell_type": "code",
   "execution_count": null,
   "id": "e3b0bb5e",
   "metadata": {
    "ExecuteTime": {
     "end_time": "2022-08-24T13:18:32.408578Z",
     "start_time": "2022-08-24T13:18:32.408578Z"
    }
   },
   "outputs": [],
   "source": [
    "watchman_tep1"
   ]
  },
  {
   "cell_type": "markdown",
   "id": "633c9f57",
   "metadata": {},
   "source": [
    "# RRCF test"
   ]
  },
  {
   "cell_type": "code",
   "execution_count": 153,
   "id": "6a17c554",
   "metadata": {
    "ExecuteTime": {
     "end_time": "2022-08-24T14:37:50.137833Z",
     "start_time": "2022-08-24T14:37:50.118227Z"
    }
   },
   "outputs": [],
   "source": [
    "import rrcf"
   ]
  },
  {
   "cell_type": "code",
   "execution_count": 154,
   "id": "a3c7bc39",
   "metadata": {
    "ExecuteTime": {
     "end_time": "2022-08-24T14:37:50.738460Z",
     "start_time": "2022-08-24T14:37:50.719365Z"
    }
   },
   "outputs": [],
   "source": [
    "# from utils.watchmen import CuttingWatchman\n",
    "\n",
    "from typing import Optional\n",
    "\n",
    "class CuttingWatchman:\n",
    "    # using Robust Random Cut Forest for anomaly detection\n",
    "\n",
    "    def __init__(self,\n",
    "                 max_trees: int = 1000,\n",
    "                 tree_size: int = 256,\n",
    "                 random_state: Optional[int] = None\n",
    "                 ):\n",
    "        self.forest = []\n",
    "        self.max_trees = max_trees\n",
    "        self.tree_size = tree_size\n",
    "        self.max_codisp = 0.0\n",
    "        if isinstance(random_state, int):\n",
    "            np.random.seed(random_state)\n",
    "        return\n",
    "\n",
    "    def __repr__(self):\n",
    "        return f'{self.__class__.__name__}(n_trees={len(self.forest)})'\n",
    "\n",
    "    def partial_fit(self, data: pd.DataFrame, tolerance: float = 0.05) -> None:\n",
    "        # choose how many trees need to add\n",
    "        for _ in range(data.shape[0] // self.tree_size):\n",
    "            if len(self.forest) < self.max_trees:\n",
    "                # add new tree with tree_size\n",
    "                sample = data.sample(n=self.tree_size)\n",
    "                try:\n",
    "                    tree = rrcf.RCTree(X=sample.values)\n",
    "                except:\n",
    "                    # bug in framework with some samples\n",
    "                    # try again\n",
    "                    sample = data.sample(n=self.tree_size)\n",
    "                    tree = rrcf.RCTree(X=sample.values)\n",
    "                self.forest.append(tree)\n",
    "                # compute codisp for all leaves in new tree and store max\n",
    "                max_codisp = max([tree.codisp(l) for l in tree.leaves])\n",
    "                self.max_codisp = max(self.max_codisp, max_codisp * (1 + tolerance))\n",
    "        return\n",
    "\n",
    "    def predict(self, data: pd.DataFrame) -> pd.DataFrame:\n",
    "        codisp = pd.Series(index=range(data.shape[0]), data=0.0)  # average codisp over forest\n",
    "        # add new points to copies of trees and compute codisp\n",
    "        for tree in self.forest:\n",
    "            # test_tree = rrcf.RCTree.from_dict(tree.to_dict())\n",
    "            for i in range(data.shape[0]):\n",
    "                tree.insert_point(data.iloc[i], index=i+self.tree_size)\n",
    "                codisp[i] += test_tree.codisp(i+self.tree_size)\n",
    "                tree.forget_point(index=i+self.tree_size)\n",
    "        codisp /= self.tree_size\n",
    "        codisp.index = data.index\n",
    "        result = (codisp > self.max_codisp).astype('unit8')\n",
    "        return result\n"
   ]
  },
  {
   "cell_type": "markdown",
   "id": "3f4a9a18",
   "metadata": {
    "ExecuteTime": {
     "end_time": "2022-08-24T11:46:55.412642Z",
     "start_time": "2022-08-24T11:46:55.402711Z"
    }
   },
   "source": [
    "## GHL"
   ]
  },
  {
   "cell_type": "code",
   "execution_count": 172,
   "id": "a644a3ae",
   "metadata": {
    "ExecuteTime": {
     "end_time": "2022-08-24T14:51:07.963929Z",
     "start_time": "2022-08-24T14:51:07.949386Z"
    }
   },
   "outputs": [],
   "source": [
    "watchman_ghl = CuttingWatchman(random_state=31)"
   ]
  },
  {
   "cell_type": "code",
   "execution_count": 173,
   "id": "da5c6ca3",
   "metadata": {
    "ExecuteTime": {
     "end_time": "2022-08-24T14:51:08.529777Z",
     "start_time": "2022-08-24T14:51:08.516541Z"
    }
   },
   "outputs": [],
   "source": [
    "ds_ghl.shake_not_stir(valid_test_ratio=0.3)"
   ]
  },
  {
   "cell_type": "code",
   "execution_count": 174,
   "id": "0dec1116",
   "metadata": {
    "ExecuteTime": {
     "end_time": "2022-08-24T14:51:12.976580Z",
     "start_time": "2022-08-24T14:51:09.149965Z"
    }
   },
   "outputs": [
    {
     "data": {
      "application/vnd.jupyter.widget-view+json": {
       "model_id": "716fb6a5f3b14149bfe93ead7b2faa07",
       "version_major": 2,
       "version_minor": 0
      },
      "text/plain": [
       "0it [00:00, ?it/s]"
      ]
     },
     "metadata": {},
     "output_type": "display_data"
    },
    {
     "data": {
      "text/plain": [
       "267.75"
      ]
     },
     "execution_count": 174,
     "metadata": {},
     "output_type": "execute_result"
    }
   ],
   "source": [
    "# learn data\n",
    "train_gen = ds_ghl.train_generator()\n",
    "for train, _, _ in tqdm(train_gen):\n",
    "    watchman_ghl.partial_fit(train, tolerance=0.05)\n",
    "watchman_ghl.max_codisp"
   ]
  },
  {
   "cell_type": "code",
   "execution_count": 175,
   "id": "9f548b94",
   "metadata": {
    "ExecuteTime": {
     "end_time": "2022-08-24T14:51:14.668045Z",
     "start_time": "2022-08-24T14:51:14.649254Z"
    }
   },
   "outputs": [
    {
     "data": {
      "text/plain": [
       "CuttingWatchman(n_trees=97)"
      ]
     },
     "execution_count": 175,
     "metadata": {},
     "output_type": "execute_result"
    }
   ],
   "source": [
    "watchman_ghl"
   ]
  },
  {
   "cell_type": "code",
   "execution_count": 176,
   "id": "ec3cb2cf",
   "metadata": {
    "ExecuteTime": {
     "end_time": "2022-08-24T14:51:21.273380Z",
     "start_time": "2022-08-24T14:51:21.134223Z"
    }
   },
   "outputs": [
    {
     "data": {
      "application/vnd.jupyter.widget-view+json": {
       "model_id": "08ccf666e2d04daf90e4aad9aef0c8f7",
       "version_major": 2,
       "version_minor": 0
      },
      "text/plain": [
       "0it [00:00, ?it/s]"
      ]
     },
     "metadata": {},
     "output_type": "display_data"
    },
    {
     "ename": "KeyError",
     "evalue": "'leaf must be a Leaf instance or key to self.leaves'",
     "output_type": "error",
     "traceback": [
      "\u001b[1;31m---------------------------------------------------------------------------\u001b[0m",
      "\u001b[1;31mKeyError\u001b[0m                                  Traceback (most recent call last)",
      "File \u001b[1;32m~\\anaconda3\\lib\\site-packages\\rrcf\\rrcf.py:611\u001b[0m, in \u001b[0;36mRCTree.codisp\u001b[1;34m(self, leaf)\u001b[0m\n\u001b[0;32m    610\u001b[0m \u001b[38;5;28;01mtry\u001b[39;00m:\n\u001b[1;32m--> 611\u001b[0m     leaf \u001b[38;5;241m=\u001b[39m \u001b[38;5;28;43mself\u001b[39;49m\u001b[38;5;241;43m.\u001b[39;49m\u001b[43mleaves\u001b[49m\u001b[43m[\u001b[49m\u001b[43mleaf\u001b[49m\u001b[43m]\u001b[49m\n\u001b[0;32m    612\u001b[0m \u001b[38;5;28;01mexcept\u001b[39;00m \u001b[38;5;167;01mKeyError\u001b[39;00m:\n",
      "\u001b[1;31mKeyError\u001b[0m: 256",
      "\nDuring handling of the above exception, another exception occurred:\n",
      "\u001b[1;31mKeyError\u001b[0m                                  Traceback (most recent call last)",
      "Input \u001b[1;32mIn [176]\u001b[0m, in \u001b[0;36m<cell line: 4>\u001b[1;34m()\u001b[0m\n\u001b[0;32m      3\u001b[0m examine_list \u001b[38;5;241m=\u001b[39m pd\u001b[38;5;241m.\u001b[39mDataFrame(columns\u001b[38;5;241m=\u001b[39m[\u001b[38;5;124m'\u001b[39m\u001b[38;5;124mprecision\u001b[39m\u001b[38;5;124m'\u001b[39m, \u001b[38;5;124m'\u001b[39m\u001b[38;5;124mrecall\u001b[39m\u001b[38;5;124m'\u001b[39m, \u001b[38;5;124m'\u001b[39m\u001b[38;5;124mf1_score\u001b[39m\u001b[38;5;124m'\u001b[39m], dtype\u001b[38;5;241m=\u001b[39m\u001b[38;5;124m'\u001b[39m\u001b[38;5;124mfloat\u001b[39m\u001b[38;5;124m'\u001b[39m)\n\u001b[0;32m      4\u001b[0m \u001b[38;5;28;01mfor\u001b[39;00m valid, faults, info \u001b[38;5;129;01min\u001b[39;00m tqdm(valid_gen):\n\u001b[1;32m----> 5\u001b[0m     detect \u001b[38;5;241m=\u001b[39m \u001b[43mwatchman_ghl\u001b[49m\u001b[38;5;241;43m.\u001b[39;49m\u001b[43mpredict\u001b[49m\u001b[43m(\u001b[49m\u001b[43mvalid\u001b[49m\u001b[43m)\u001b[49m\n\u001b[0;32m      6\u001b[0m     examine_list\u001b[38;5;241m.\u001b[39mloc[info] \u001b[38;5;241m=\u001b[39m time_span_metrics(faults, detect)\n\u001b[0;32m      7\u001b[0m \u001b[38;5;28mprint\u001b[39m(examine_list\u001b[38;5;241m.\u001b[39mmean())\n",
      "Input \u001b[1;32mIn [154]\u001b[0m, in \u001b[0;36mCuttingWatchman.predict\u001b[1;34m(self, data)\u001b[0m\n\u001b[0;32m     48\u001b[0m     \u001b[38;5;28;01mfor\u001b[39;00m i \u001b[38;5;129;01min\u001b[39;00m \u001b[38;5;28mrange\u001b[39m(data\u001b[38;5;241m.\u001b[39mshape[\u001b[38;5;241m0\u001b[39m]):\n\u001b[0;32m     49\u001b[0m         tree\u001b[38;5;241m.\u001b[39minsert_point(data\u001b[38;5;241m.\u001b[39miloc[i], index\u001b[38;5;241m=\u001b[39mi\u001b[38;5;241m+\u001b[39m\u001b[38;5;28mself\u001b[39m\u001b[38;5;241m.\u001b[39mtree_size)\n\u001b[1;32m---> 50\u001b[0m         codisp[i] \u001b[38;5;241m+\u001b[39m\u001b[38;5;241m=\u001b[39m \u001b[43mtest_tree\u001b[49m\u001b[38;5;241;43m.\u001b[39;49m\u001b[43mcodisp\u001b[49m\u001b[43m(\u001b[49m\u001b[43mi\u001b[49m\u001b[38;5;241;43m+\u001b[39;49m\u001b[38;5;28;43mself\u001b[39;49m\u001b[38;5;241;43m.\u001b[39;49m\u001b[43mtree_size\u001b[49m\u001b[43m)\u001b[49m\n\u001b[0;32m     51\u001b[0m         tree\u001b[38;5;241m.\u001b[39mforget_point(index\u001b[38;5;241m=\u001b[39mi\u001b[38;5;241m+\u001b[39m\u001b[38;5;28mself\u001b[39m\u001b[38;5;241m.\u001b[39mtree_size)\n\u001b[0;32m     52\u001b[0m codisp \u001b[38;5;241m/\u001b[39m\u001b[38;5;241m=\u001b[39m \u001b[38;5;28mself\u001b[39m\u001b[38;5;241m.\u001b[39mtree_size\n",
      "File \u001b[1;32m~\\anaconda3\\lib\\site-packages\\rrcf\\rrcf.py:613\u001b[0m, in \u001b[0;36mRCTree.codisp\u001b[1;34m(self, leaf)\u001b[0m\n\u001b[0;32m    611\u001b[0m         leaf \u001b[38;5;241m=\u001b[39m \u001b[38;5;28mself\u001b[39m\u001b[38;5;241m.\u001b[39mleaves[leaf]\n\u001b[0;32m    612\u001b[0m     \u001b[38;5;28;01mexcept\u001b[39;00m \u001b[38;5;167;01mKeyError\u001b[39;00m:\n\u001b[1;32m--> 613\u001b[0m         \u001b[38;5;28;01mraise\u001b[39;00m \u001b[38;5;167;01mKeyError\u001b[39;00m(\n\u001b[0;32m    614\u001b[0m             \u001b[38;5;124m'\u001b[39m\u001b[38;5;124mleaf must be a Leaf instance or key to self.leaves\u001b[39m\u001b[38;5;124m'\u001b[39m)\n\u001b[0;32m    615\u001b[0m \u001b[38;5;66;03m# Handle case where leaf is root\u001b[39;00m\n\u001b[0;32m    616\u001b[0m \u001b[38;5;28;01mif\u001b[39;00m leaf \u001b[38;5;129;01mis\u001b[39;00m \u001b[38;5;28mself\u001b[39m\u001b[38;5;241m.\u001b[39mroot:\n",
      "\u001b[1;31mKeyError\u001b[0m: 'leaf must be a Leaf instance or key to self.leaves'"
     ]
    }
   ],
   "source": [
    "# examine\n",
    "valid_gen = ds_ghl.valid_generator()\n",
    "examine_list = pd.DataFrame(columns=['precision', 'recall', 'f1_score'], dtype='float')\n",
    "for valid, faults, info in tqdm(valid_gen):\n",
    "    detect = watchman_ghl.predict(valid)\n",
    "    examine_list.loc[info] = time_span_metrics(faults, detect)\n",
    "print(examine_list.mean())"
   ]
  },
  {
   "cell_type": "code",
   "execution_count": 180,
   "id": "d6a87390",
   "metadata": {
    "ExecuteTime": {
     "end_time": "2022-08-24T14:59:02.173549Z",
     "start_time": "2022-08-24T14:59:02.156841Z"
    }
   },
   "outputs": [
    {
     "data": {
      "text/plain": [
       "323398"
      ]
     },
     "execution_count": 180,
     "metadata": {},
     "output_type": "execute_result"
    }
   ],
   "source": [
    "valid.shape[0] * len(watchman_ghl.forest)"
   ]
  },
  {
   "cell_type": "code",
   "execution_count": 182,
   "id": "5efe2bbc",
   "metadata": {
    "ExecuteTime": {
     "end_time": "2022-08-24T15:00:49.838618Z",
     "start_time": "2022-08-24T15:00:38.915828Z"
    }
   },
   "outputs": [],
   "source": [
    "codisp = pd.Series(index=range(valid.shape[0]), data=0.0)\n",
    "for tree in watchman_ghl.forest:\n",
    "    test_tree = rrcf.RCTree.from_dict(tree.to_dict())\n",
    "#     for i in range(valid.shape[0]):\n",
    "#         j = max(tree.leaves) + 1 + i\n",
    "#         tree.insert_point(valid.iloc[i], index=j)\n",
    "#         codisp[i] += tree.codisp(j)\n",
    "#         tree.forget_point(index=j)\n",
    "\n",
    "# it takes toooooo long"
   ]
  },
  {
   "cell_type": "code",
   "execution_count": 170,
   "id": "8fd82aa8",
   "metadata": {
    "ExecuteTime": {
     "end_time": "2022-08-24T14:42:21.899123Z",
     "start_time": "2022-08-24T14:42:21.885087Z"
    }
   },
   "outputs": [
    {
     "data": {
      "text/plain": [
       "Leaf(256)"
      ]
     },
     "execution_count": 170,
     "metadata": {},
     "output_type": "execute_result"
    }
   ],
   "source": [
    "tree.leaves[257]"
   ]
  }
 ],
 "metadata": {
  "kernelspec": {
   "display_name": "Python 3 (ipykernel)",
   "language": "python",
   "name": "python3"
  },
  "language_info": {
   "codemirror_mode": {
    "name": "ipython",
    "version": 3
   },
   "file_extension": ".py",
   "mimetype": "text/x-python",
   "name": "python",
   "nbconvert_exporter": "python",
   "pygments_lexer": "ipython3",
   "version": "3.8.8"
  },
  "toc": {
   "base_numbering": 1,
   "nav_menu": {},
   "number_sections": true,
   "sideBar": true,
   "skip_h1_title": false,
   "title_cell": "Table of Contents",
   "title_sidebar": "Contents",
   "toc_cell": false,
   "toc_position": {
    "height": "calc(100% - 180px)",
    "left": "10px",
    "top": "150px",
    "width": "268.8px"
   },
   "toc_section_display": true,
   "toc_window_display": true
  }
 },
 "nbformat": 4,
 "nbformat_minor": 5
}
