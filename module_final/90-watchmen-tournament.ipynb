{
 "cells": [
  {
   "cell_type": "code",
   "execution_count": 1,
   "id": "3afcaa82",
   "metadata": {
    "ExecuteTime": {
     "end_time": "2022-08-29T16:49:17.162297Z",
     "start_time": "2022-08-29T16:49:17.119145Z"
    }
   },
   "outputs": [],
   "source": [
    "!del /Q utils\\__pycache__"
   ]
  },
  {
   "cell_type": "code",
   "execution_count": 2,
   "id": "86b03be5",
   "metadata": {
    "ExecuteTime": {
     "end_time": "2022-08-29T16:49:17.967400Z",
     "start_time": "2022-08-29T16:49:17.165153Z"
    }
   },
   "outputs": [],
   "source": [
    "import pandas as pd\n",
    "from tqdm.notebook import tqdm"
   ]
  },
  {
   "cell_type": "code",
   "execution_count": 3,
   "id": "b9bc2432",
   "metadata": {
    "ExecuteTime": {
     "end_time": "2022-08-29T16:49:17.983504Z",
     "start_time": "2022-08-29T16:49:17.972413Z"
    }
   },
   "outputs": [],
   "source": [
    "# from adtk.metrics import precision, recall, f1_score\n",
    "from utils.metrics import time_span_metrics"
   ]
  },
  {
   "cell_type": "code",
   "execution_count": 4,
   "id": "f34899c4",
   "metadata": {
    "ExecuteTime": {
     "end_time": "2022-08-29T16:49:18.841166Z",
     "start_time": "2022-08-29T16:49:17.991399Z"
    }
   },
   "outputs": [],
   "source": [
    "from utils.datasets import GhlKasperskyDataset, TepHarvardDataset, TepKasperskyDataset, SwatItrustDataset\n",
    "from utils.watchmen import LimitWatchman, LimitPcaWatchman, SpePcaWatchman, IsolatingWatchman, LinearPredictWatchman\n",
    "from utils.custom_plots import plot_stacked"
   ]
  },
  {
   "cell_type": "code",
   "execution_count": 5,
   "id": "f4e9bb0f",
   "metadata": {
    "ExecuteTime": {
     "end_time": "2022-08-29T16:49:18.856268Z",
     "start_time": "2022-08-29T16:49:18.843867Z"
    }
   },
   "outputs": [],
   "source": [
    "SEED = 1729"
   ]
  },
  {
   "cell_type": "markdown",
   "id": "ab2d87dc",
   "metadata": {
    "ExecuteTime": {
     "end_time": "2022-08-19T10:07:19.598656Z",
     "start_time": "2022-08-19T10:07:18.676895Z"
    }
   },
   "source": [
    "# Preparing datasets"
   ]
  },
  {
   "cell_type": "code",
   "execution_count": 6,
   "id": "cb921176",
   "metadata": {
    "ExecuteTime": {
     "end_time": "2022-08-29T16:49:18.871261Z",
     "start_time": "2022-08-29T16:49:18.859649Z"
    }
   },
   "outputs": [],
   "source": [
    "datasets = {\n",
    "    0: GhlKasperskyDataset(),\n",
    "#     1: TepHarvardDataset(),\n",
    "    2: TepKasperskyDataset(),\n",
    "    3: SwatItrustDataset(),\n",
    "}"
   ]
  },
  {
   "cell_type": "markdown",
   "id": "f007db40",
   "metadata": {},
   "source": [
    "# Preparing watchmen"
   ]
  },
  {
   "cell_type": "markdown",
   "id": "cfcd94df",
   "metadata": {},
   "source": [
    "## LimitWatchman"
   ]
  },
  {
   "cell_type": "code",
   "execution_count": 7,
   "id": "659e26d6",
   "metadata": {
    "ExecuteTime": {
     "end_time": "2022-08-29T16:49:18.886221Z",
     "start_time": "2022-08-29T16:49:18.874594Z"
    }
   },
   "outputs": [],
   "source": [
    "# one for every dataset\n",
    "limit_watchmen = {\n",
    "    0: LimitWatchman(),\n",
    "    1: LimitWatchman(ewma='3 min'),\n",
    "    2: LimitWatchman(),\n",
    "    3: LimitWatchman(),\n",
    "}"
   ]
  },
  {
   "cell_type": "markdown",
   "id": "9241eabd",
   "metadata": {},
   "source": [
    "## LimitPcaWatchman"
   ]
  },
  {
   "cell_type": "code",
   "execution_count": 8,
   "id": "faa49d97",
   "metadata": {
    "ExecuteTime": {
     "end_time": "2022-08-29T16:49:18.901838Z",
     "start_time": "2022-08-29T16:49:18.892167Z"
    }
   },
   "outputs": [],
   "source": [
    "# one for every dataset\n",
    "limit_pca_watchmen = {\n",
    "    0: LimitPcaWatchman(n_components=3),\n",
    "    1: LimitPcaWatchman(n_components=12),\n",
    "    2: LimitPcaWatchman(n_components=3),\n",
    "    3: LimitPcaWatchman(n_components=3),\n",
    "}"
   ]
  },
  {
   "cell_type": "markdown",
   "id": "e7edb216",
   "metadata": {},
   "source": [
    "## SpePcaWatchman"
   ]
  },
  {
   "cell_type": "code",
   "execution_count": 9,
   "id": "0cd8bc3d",
   "metadata": {
    "ExecuteTime": {
     "end_time": "2022-08-29T16:49:18.917164Z",
     "start_time": "2022-08-29T16:49:18.904787Z"
    }
   },
   "outputs": [],
   "source": [
    "# one for every dataset\n",
    "spe_pca_watchmen = {\n",
    "    0: SpePcaWatchman(n_components=3),\n",
    "    1: SpePcaWatchman(n_components=12),\n",
    "    2: SpePcaWatchman(n_components=3),\n",
    "    3: SpePcaWatchman(n_components=3),\n",
    "}"
   ]
  },
  {
   "cell_type": "markdown",
   "id": "e5471847",
   "metadata": {},
   "source": [
    "## Isolating Watchman"
   ]
  },
  {
   "cell_type": "code",
   "execution_count": 10,
   "id": "55301001",
   "metadata": {
    "ExecuteTime": {
     "end_time": "2022-08-29T16:49:18.933263Z",
     "start_time": "2022-08-29T16:49:18.920169Z"
    }
   },
   "outputs": [],
   "source": [
    "# one for every dataset\n",
    "isolating_watchmen = {\n",
    "    0: IsolatingWatchman(max_samples=256, random_state=SEED),\n",
    "    1: IsolatingWatchman(max_samples=256, random_state=SEED),\n",
    "    2: IsolatingWatchman(max_samples=1024, random_state=SEED),\n",
    "    3: IsolatingWatchman(max_samples=256, random_state=SEED),\n",
    "}"
   ]
  },
  {
   "cell_type": "markdown",
   "id": "7e6ba7cb",
   "metadata": {},
   "source": [
    "## Linear Predict Watchman"
   ]
  },
  {
   "cell_type": "code",
   "execution_count": 11,
   "id": "c1c48724",
   "metadata": {
    "ExecuteTime": {
     "end_time": "2022-08-29T16:49:18.948496Z",
     "start_time": "2022-08-29T16:49:18.937315Z"
    }
   },
   "outputs": [],
   "source": [
    "# one for every dataset\n",
    "linear_predict_watchmen = {\n",
    "    0: LinearPredictWatchman(random_state=SEED),\n",
    "    1: LinearPredictWatchman(random_state=SEED),\n",
    "    2: LinearPredictWatchman(random_state=SEED),\n",
    "    3: LinearPredictWatchman(random_state=SEED),\n",
    "}"
   ]
  },
  {
   "cell_type": "markdown",
   "id": "aa8b4956",
   "metadata": {},
   "source": [
    "## Bring them all"
   ]
  },
  {
   "cell_type": "code",
   "execution_count": 12,
   "id": "b5c900e8",
   "metadata": {
    "ExecuteTime": {
     "end_time": "2022-08-29T16:49:18.963706Z",
     "start_time": "2022-08-29T16:49:18.951957Z"
    }
   },
   "outputs": [],
   "source": [
    "watchmen = {\n",
    "    0: limit_watchmen,\n",
    "    1: limit_pca_watchmen,\n",
    "    2: spe_pca_watchmen,\n",
    "    3: isolating_watchmen,\n",
    "    4: linear_predict_watchmen,\n",
    "}"
   ]
  },
  {
   "cell_type": "markdown",
   "id": "be4104e1",
   "metadata": {},
   "source": [
    "# Learning"
   ]
  },
  {
   "cell_type": "markdown",
   "id": "8fa34354",
   "metadata": {},
   "source": [
    "## Prefit"
   ]
  },
  {
   "cell_type": "code",
   "execution_count": 13,
   "id": "53beb5b4",
   "metadata": {
    "ExecuteTime": {
     "end_time": "2022-08-29T16:49:57.845499Z",
     "start_time": "2022-08-29T16:49:18.967241Z"
    }
   },
   "outputs": [
    {
     "data": {
      "application/vnd.jupyter.widget-view+json": {
       "model_id": "e96e835b66794da98dba0eb8fd4f2bda",
       "version_major": 2,
       "version_minor": 0
      },
      "text/plain": [
       "prefit on dataset 0: 0it [00:00, ?it/s]"
      ]
     },
     "metadata": {},
     "output_type": "display_data"
    },
    {
     "data": {
      "application/vnd.jupyter.widget-view+json": {
       "model_id": "1701d46105aa4a7a89481e6592243b18",
       "version_major": 2,
       "version_minor": 0
      },
      "text/plain": [
       "prefit on dataset 2: 0it [00:00, ?it/s]"
      ]
     },
     "metadata": {},
     "output_type": "display_data"
    },
    {
     "data": {
      "application/vnd.jupyter.widget-view+json": {
       "model_id": "94e9e83666554b3daf75b06e512b1c6b",
       "version_major": 2,
       "version_minor": 0
      },
      "text/plain": [
       "prefit on dataset 3: 0it [00:00, ?it/s]"
      ]
     },
     "metadata": {},
     "output_type": "display_data"
    }
   ],
   "source": [
    "for d in datasets:\n",
    "    datasets[d].shake_not_stir(random_state=SEED)\n",
    "    for data, _, _ in tqdm(datasets[d].train_generator(), desc=f'prefit on dataset {d}'):\n",
    "        for w in watchmen:\n",
    "            watchmen[w][d].prefit(data)"
   ]
  },
  {
   "cell_type": "markdown",
   "id": "77312393",
   "metadata": {},
   "source": [
    "## Fit"
   ]
  },
  {
   "cell_type": "code",
   "execution_count": 14,
   "id": "ea1f2f67",
   "metadata": {
    "ExecuteTime": {
     "end_time": "2022-08-29T16:56:16.541628Z",
     "start_time": "2022-08-29T16:49:57.848250Z"
    }
   },
   "outputs": [
    {
     "data": {
      "application/vnd.jupyter.widget-view+json": {
       "model_id": "d1d50a4176a443308f041b52b2fb60cf",
       "version_major": 2,
       "version_minor": 0
      },
      "text/plain": [
       "fit on dataset 0: 0it [00:00, ?it/s]"
      ]
     },
     "metadata": {},
     "output_type": "display_data"
    },
    {
     "data": {
      "application/vnd.jupyter.widget-view+json": {
       "model_id": "091812552fd9451aac4091adee3046b2",
       "version_major": 2,
       "version_minor": 0
      },
      "text/plain": [
       "fit on dataset 2: 0it [00:00, ?it/s]"
      ]
     },
     "metadata": {},
     "output_type": "display_data"
    },
    {
     "data": {
      "application/vnd.jupyter.widget-view+json": {
       "model_id": "8ce4362c06a34aadb9160f07dcd45bd7",
       "version_major": 2,
       "version_minor": 0
      },
      "text/plain": [
       "fit on dataset 3: 0it [00:00, ?it/s]"
      ]
     },
     "metadata": {},
     "output_type": "display_data"
    }
   ],
   "source": [
    "for d in datasets:\n",
    "    datasets[d].shake_not_stir(random_state=SEED)\n",
    "    for data, _, _ in tqdm(datasets[d].train_generator(), desc=f'fit on dataset {d}'):\n",
    "        for w in watchmen:\n",
    "            watchmen[w][d].partial_fit(data)"
   ]
  },
  {
   "cell_type": "code",
   "execution_count": 18,
   "id": "369cfb72",
   "metadata": {
    "ExecuteTime": {
     "end_time": "2022-08-29T16:59:22.482018Z",
     "start_time": "2022-08-29T16:59:22.436868Z"
    }
   },
   "outputs": [
    {
     "name": "stdout",
     "output_type": "stream",
     "text": [
      "<class 'pandas.core.frame.DataFrame'>\n",
      "DatetimeIndex: 7200 entries, 2022-08-01 00:00:00 to 2022-08-05 23:59:00\n",
      "Freq: T\n",
      "Data columns (total 53 columns):\n",
      " #   Column            Non-Null Count  Dtype  \n",
      "---  ------            --------------  -----  \n",
      " 0   inp_a_flow_ksm3h  7200 non-null   float32\n",
      " 1   inp_d_flow_kgh    7200 non-null   float32\n",
      " 2   inp_e_flow_kgh    7200 non-null   float32\n",
      " 3   inp_c_flow_ksm3h  7200 non-null   float32\n",
      " 4   recyl_flow_ksm3h  7200 non-null   float32\n",
      " 5   react_flow_ksm3h  7200 non-null   float32\n",
      " 6   react_press_kpa   7200 non-null   float32\n",
      " 7   react_level_pc    7200 non-null   float32\n",
      " 8   react_temp_gc     7200 non-null   float32\n",
      " 9   purge_flow_ksm3h  7200 non-null   float32\n",
      " 10  seprt_temp_gc     7200 non-null   float32\n",
      " 11  seprt_level_pc    7200 non-null   float32\n",
      " 12  seprt_press_kpa   7200 non-null   float32\n",
      " 13  seprt_flow_m3h    7200 non-null   float32\n",
      " 14  strip_level_pc    7200 non-null   float32\n",
      " 15  strip_press_kpa   7200 non-null   float32\n",
      " 16  prod_flow_m3h     7200 non-null   float32\n",
      " 17  strip_temp_gc     7200 non-null   float32\n",
      " 18  steam_flow_kgh    7200 non-null   float32\n",
      " 19  compr_power_kw    7200 non-null   float32\n",
      " 20  re_cl_temp_gc     7200 non-null   float32\n",
      " 21  co_cl_temp_gc     7200 non-null   float32\n",
      " 22  react_a_prt_molp  7200 non-null   float32\n",
      " 23  react_b_prt_molp  7200 non-null   float32\n",
      " 24  react_c_prt_molp  7200 non-null   float32\n",
      " 25  react_d_prt_molp  7200 non-null   float32\n",
      " 26  react_e_prt_molp  7200 non-null   float32\n",
      " 27  react_f_prt_molp  7200 non-null   float32\n",
      " 28  purge_a_prt_molp  7200 non-null   float32\n",
      " 29  purge_b_prt_molp  7200 non-null   float32\n",
      " 30  purge_c_prt_molp  7200 non-null   float32\n",
      " 31  purge_d_prt_molp  7200 non-null   float32\n",
      " 32  purge_e_prt_molp  7200 non-null   float32\n",
      " 33  purge_f_prt_molp  7200 non-null   float32\n",
      " 34  purge_g_prt_molp  7200 non-null   float32\n",
      " 35  purge_h_prt_molp  7200 non-null   float32\n",
      " 36  prod_d_prt_molp   7200 non-null   float32\n",
      " 37  prod_e_prt_molp   7200 non-null   float32\n",
      " 38  prod_f_prt_molp   7200 non-null   float32\n",
      " 39  prod_g_prt_molp   7200 non-null   float32\n",
      " 40  prod_h_prt_molp   7200 non-null   float32\n",
      " 41  inp_d_feed_pc     7200 non-null   float32\n",
      " 42  inp_e_feed_pc     7200 non-null   float32\n",
      " 43  inp_a_feed_pc     7200 non-null   float32\n",
      " 44  inp_c_feed_pc     7200 non-null   float32\n",
      " 45  compr_valv_pc     7200 non-null   float32\n",
      " 46  purge_feed_pc     7200 non-null   float32\n",
      " 47  seprt_feed_pc     7200 non-null   float32\n",
      " 48  strip_feed_pc     7200 non-null   float32\n",
      " 49  steam_feed_pc     7200 non-null   float32\n",
      " 50  re_cl_feed_pc     7200 non-null   float32\n",
      " 51  co_cl_feed_pc     7200 non-null   float32\n",
      " 52  agit_speed_pc     7200 non-null   uint8  \n",
      "dtypes: float32(52), uint8(1)\n",
      "memory usage: 1.5 MB\n"
     ]
    }
   ],
   "source": [
    "next(datasets[2].train_generator())[0].info()"
   ]
  },
  {
   "cell_type": "code",
   "execution_count": 19,
   "id": "58f44f51",
   "metadata": {
    "ExecuteTime": {
     "end_time": "2022-08-29T16:59:43.267671Z",
     "start_time": "2022-08-29T16:59:43.226964Z"
    }
   },
   "outputs": [
    {
     "name": "stdout",
     "output_type": "stream",
     "text": [
      "<class 'pandas.core.frame.DataFrame'>\n",
      "DatetimeIndex: 7200 entries, 2022-08-01 00:00:00 to 2022-08-05 23:59:00\n",
      "Freq: T\n",
      "Data columns (total 53 columns):\n",
      " #   Column            Non-Null Count  Dtype  \n",
      "---  ------            --------------  -----  \n",
      " 0   inp_a_flow_ksm3h  7200 non-null   float32\n",
      " 1   inp_d_flow_kgh    7200 non-null   float32\n",
      " 2   inp_e_flow_kgh    7200 non-null   float32\n",
      " 3   inp_c_flow_ksm3h  7200 non-null   float32\n",
      " 4   recyl_flow_ksm3h  7200 non-null   float32\n",
      " 5   react_flow_ksm3h  7200 non-null   float32\n",
      " 6   react_press_kpa   7200 non-null   float32\n",
      " 7   react_level_pc    7200 non-null   float32\n",
      " 8   react_temp_gc     7200 non-null   float32\n",
      " 9   purge_flow_ksm3h  7200 non-null   float32\n",
      " 10  seprt_temp_gc     7200 non-null   float32\n",
      " 11  seprt_level_pc    7200 non-null   float32\n",
      " 12  seprt_press_kpa   7200 non-null   float32\n",
      " 13  seprt_flow_m3h    7200 non-null   float32\n",
      " 14  strip_level_pc    7200 non-null   float32\n",
      " 15  strip_press_kpa   7200 non-null   float32\n",
      " 16  prod_flow_m3h     7200 non-null   float32\n",
      " 17  strip_temp_gc     7200 non-null   float32\n",
      " 18  steam_flow_kgh    7200 non-null   float32\n",
      " 19  compr_power_kw    7200 non-null   float32\n",
      " 20  re_cl_temp_gc     7200 non-null   float32\n",
      " 21  co_cl_temp_gc     7200 non-null   float32\n",
      " 22  react_a_prt_molp  7200 non-null   float32\n",
      " 23  react_b_prt_molp  7200 non-null   float32\n",
      " 24  react_c_prt_molp  7200 non-null   float32\n",
      " 25  react_d_prt_molp  7200 non-null   float32\n",
      " 26  react_e_prt_molp  7200 non-null   float32\n",
      " 27  react_f_prt_molp  7200 non-null   float32\n",
      " 28  purge_a_prt_molp  7200 non-null   float32\n",
      " 29  purge_b_prt_molp  7200 non-null   float32\n",
      " 30  purge_c_prt_molp  7200 non-null   float32\n",
      " 31  purge_d_prt_molp  7200 non-null   float32\n",
      " 32  purge_e_prt_molp  7200 non-null   float32\n",
      " 33  purge_f_prt_molp  7200 non-null   float32\n",
      " 34  purge_g_prt_molp  7200 non-null   float32\n",
      " 35  purge_h_prt_molp  7200 non-null   float32\n",
      " 36  prod_d_prt_molp   7200 non-null   float32\n",
      " 37  prod_e_prt_molp   7200 non-null   float32\n",
      " 38  prod_f_prt_molp   7200 non-null   float32\n",
      " 39  prod_g_prt_molp   7200 non-null   float32\n",
      " 40  prod_h_prt_molp   7200 non-null   float32\n",
      " 41  inp_d_feed_pc     7200 non-null   float32\n",
      " 42  inp_e_feed_pc     7200 non-null   float32\n",
      " 43  inp_a_feed_pc     7200 non-null   float32\n",
      " 44  inp_c_feed_pc     7200 non-null   float32\n",
      " 45  compr_valv_pc     7200 non-null   float32\n",
      " 46  purge_feed_pc     7200 non-null   float32\n",
      " 47  seprt_feed_pc     7200 non-null   float32\n",
      " 48  strip_feed_pc     7200 non-null   float32\n",
      " 49  steam_feed_pc     7200 non-null   float32\n",
      " 50  re_cl_feed_pc     7200 non-null   float32\n",
      " 51  co_cl_feed_pc     7200 non-null   float32\n",
      " 52  agit_speed_pc     7200 non-null   uint8  \n",
      "dtypes: float32(52), uint8(1)\n",
      "memory usage: 1.5 MB\n"
     ]
    }
   ],
   "source": [
    "next(datasets[2].test_generator())[0].info()"
   ]
  },
  {
   "cell_type": "markdown",
   "id": "5c728a4c",
   "metadata": {},
   "source": [
    "# Examine"
   ]
  },
  {
   "cell_type": "code",
   "execution_count": 15,
   "id": "c741772e",
   "metadata": {
    "ExecuteTime": {
     "end_time": "2022-08-29T16:56:16.557721Z",
     "start_time": "2022-08-29T16:56:16.545582Z"
    }
   },
   "outputs": [],
   "source": [
    "# СДЕЛАТЬ ТАБЛИЦУ ИНАЧЕ !!"
   ]
  },
  {
   "cell_type": "code",
   "execution_count": 16,
   "id": "257c5e42",
   "metadata": {
    "ExecuteTime": {
     "end_time": "2022-08-29T16:56:16.572782Z",
     "start_time": "2022-08-29T16:56:16.561271Z"
    }
   },
   "outputs": [],
   "source": [
    "exam_index = [watchmen[w][0].__class__.__name__ for w in watchmen]\n",
    "exam_metric = ['precision', 'recall', 'f1_score']\n",
    "exam_table = {d: pd.DataFrame(index=exam_index, columns=exam_metric) for d in datasets}"
   ]
  },
  {
   "cell_type": "code",
   "execution_count": 17,
   "id": "2eeb2ed3",
   "metadata": {
    "ExecuteTime": {
     "end_time": "2022-08-29T16:56:23.278780Z",
     "start_time": "2022-08-29T16:56:16.575600Z"
    }
   },
   "outputs": [
    {
     "data": {
      "application/vnd.jupyter.widget-view+json": {
       "model_id": "6dbfb582ea904c04bd2692167d08c6e5",
       "version_major": 2,
       "version_minor": 0
      },
      "text/plain": [
       "examine dataset 0: 0it [00:00, ?it/s]"
      ]
     },
     "metadata": {},
     "output_type": "display_data"
    },
    {
     "data": {
      "application/vnd.jupyter.widget-view+json": {
       "model_id": "01d2f4aab01f415498eb0161ecf66395",
       "version_major": 2,
       "version_minor": 0
      },
      "text/plain": [
       "examine dataset 2: 0it [00:00, ?it/s]"
      ]
     },
     "metadata": {},
     "output_type": "display_data"
    },
    {
     "ename": "ValueError",
     "evalue": "X has 261 features, but IsolationForest is expecting 265 features as input.",
     "output_type": "error",
     "traceback": [
      "\u001b[1;31m---------------------------------------------------------------------------\u001b[0m",
      "\u001b[1;31mValueError\u001b[0m                                Traceback (most recent call last)",
      "Input \u001b[1;32mIn [17]\u001b[0m, in \u001b[0;36m<cell line: 1>\u001b[1;34m()\u001b[0m\n\u001b[0;32m      4\u001b[0m \u001b[38;5;28;01mfor\u001b[39;00m data, faults, info \u001b[38;5;129;01min\u001b[39;00m tqdm(datasets[d]\u001b[38;5;241m.\u001b[39mtest_generator(), desc\u001b[38;5;241m=\u001b[39m\u001b[38;5;124mf\u001b[39m\u001b[38;5;124m'\u001b[39m\u001b[38;5;124mexamine dataset \u001b[39m\u001b[38;5;132;01m{\u001b[39;00md\u001b[38;5;132;01m}\u001b[39;00m\u001b[38;5;124m'\u001b[39m):\n\u001b[0;32m      5\u001b[0m     \u001b[38;5;28;01mfor\u001b[39;00m w \u001b[38;5;129;01min\u001b[39;00m watchmen:\n\u001b[1;32m----> 6\u001b[0m         detect \u001b[38;5;241m=\u001b[39m \u001b[43mwatchmen\u001b[49m\u001b[43m[\u001b[49m\u001b[43mw\u001b[49m\u001b[43m]\u001b[49m\u001b[43m[\u001b[49m\u001b[43md\u001b[49m\u001b[43m]\u001b[49m\u001b[38;5;241;43m.\u001b[39;49m\u001b[43mpredict\u001b[49m\u001b[43m(\u001b[49m\u001b[43mdata\u001b[49m\u001b[43m)\u001b[49m\n\u001b[0;32m      7\u001b[0m         exam_list[w]\u001b[38;5;241m.\u001b[39mloc[info, exam_metric] \u001b[38;5;241m=\u001b[39m time_span_metrics(faults, detect)\n\u001b[0;32m      8\u001b[0m \u001b[38;5;28;01mfor\u001b[39;00m w \u001b[38;5;129;01min\u001b[39;00m watchmen:\n",
      "File \u001b[1;32m~\\Data_science\\skillfactory_rds\\module_final\\utils\\watchmen.py:242\u001b[0m, in \u001b[0;36mIsolatingWatchman.predict\u001b[1;34m(self, data)\u001b[0m\n\u001b[0;32m    240\u001b[0m \u001b[38;5;28;01mif\u001b[39;00m \u001b[38;5;28mself\u001b[39m\u001b[38;5;241m.\u001b[39mgenerate_stat_features:\n\u001b[0;32m    241\u001b[0m     data \u001b[38;5;241m=\u001b[39m \u001b[38;5;28mself\u001b[39m\u001b[38;5;241m.\u001b[39m_generate_stat_features(data)\n\u001b[1;32m--> 242\u001b[0m result \u001b[38;5;241m=\u001b[39m (pd\u001b[38;5;241m.\u001b[39mSeries(index\u001b[38;5;241m=\u001b[39mdata\u001b[38;5;241m.\u001b[39mindex, data\u001b[38;5;241m=\u001b[39m\u001b[38;5;28;43mself\u001b[39;49m\u001b[38;5;241;43m.\u001b[39;49m\u001b[43mforest\u001b[49m\u001b[38;5;241;43m.\u001b[39;49m\u001b[43mpredict\u001b[49m\u001b[43m(\u001b[49m\u001b[43mdata\u001b[49m\u001b[38;5;241;43m.\u001b[39;49m\u001b[43mvalues\u001b[49m\u001b[43m)\u001b[49m)\n\u001b[0;32m    243\u001b[0m           \u001b[38;5;241m.\u001b[39mreplace({\u001b[38;5;241m1\u001b[39m: \u001b[38;5;241m0\u001b[39m, \u001b[38;5;241m-\u001b[39m\u001b[38;5;241m1\u001b[39m: \u001b[38;5;241m1\u001b[39m})\n\u001b[0;32m    244\u001b[0m           \u001b[38;5;241m.\u001b[39mastype(\u001b[38;5;124m'\u001b[39m\u001b[38;5;124muint8\u001b[39m\u001b[38;5;124m'\u001b[39m)\n\u001b[0;32m    245\u001b[0m           )\n\u001b[0;32m    246\u001b[0m \u001b[38;5;28;01mreturn\u001b[39;00m result\n",
      "File \u001b[1;32m~\\anaconda3\\lib\\site-packages\\sklearn\\ensemble\\_iforest.py:340\u001b[0m, in \u001b[0;36mIsolationForest.predict\u001b[1;34m(self, X)\u001b[0m\n\u001b[0;32m    323\u001b[0m \u001b[38;5;124;03m\"\"\"\u001b[39;00m\n\u001b[0;32m    324\u001b[0m \u001b[38;5;124;03mPredict if a particular sample is an outlier or not.\u001b[39;00m\n\u001b[0;32m    325\u001b[0m \n\u001b[1;32m   (...)\u001b[0m\n\u001b[0;32m    337\u001b[0m \u001b[38;5;124;03m    be considered as an inlier according to the fitted model.\u001b[39;00m\n\u001b[0;32m    338\u001b[0m \u001b[38;5;124;03m\"\"\"\u001b[39;00m\n\u001b[0;32m    339\u001b[0m check_is_fitted(\u001b[38;5;28mself\u001b[39m)\n\u001b[1;32m--> 340\u001b[0m decision_func \u001b[38;5;241m=\u001b[39m \u001b[38;5;28;43mself\u001b[39;49m\u001b[38;5;241;43m.\u001b[39;49m\u001b[43mdecision_function\u001b[49m\u001b[43m(\u001b[49m\u001b[43mX\u001b[49m\u001b[43m)\u001b[49m\n\u001b[0;32m    341\u001b[0m is_inlier \u001b[38;5;241m=\u001b[39m np\u001b[38;5;241m.\u001b[39mones_like(decision_func, dtype\u001b[38;5;241m=\u001b[39m\u001b[38;5;28mint\u001b[39m)\n\u001b[0;32m    342\u001b[0m is_inlier[decision_func \u001b[38;5;241m<\u001b[39m \u001b[38;5;241m0\u001b[39m] \u001b[38;5;241m=\u001b[39m \u001b[38;5;241m-\u001b[39m\u001b[38;5;241m1\u001b[39m\n",
      "File \u001b[1;32m~\\anaconda3\\lib\\site-packages\\sklearn\\ensemble\\_iforest.py:375\u001b[0m, in \u001b[0;36mIsolationForest.decision_function\u001b[1;34m(self, X)\u001b[0m\n\u001b[0;32m    346\u001b[0m \u001b[38;5;124;03m\"\"\"\u001b[39;00m\n\u001b[0;32m    347\u001b[0m \u001b[38;5;124;03mAverage anomaly score of X of the base classifiers.\u001b[39;00m\n\u001b[0;32m    348\u001b[0m \n\u001b[1;32m   (...)\u001b[0m\n\u001b[0;32m    370\u001b[0m \u001b[38;5;124;03m    positive scores represent inliers.\u001b[39;00m\n\u001b[0;32m    371\u001b[0m \u001b[38;5;124;03m\"\"\"\u001b[39;00m\n\u001b[0;32m    372\u001b[0m \u001b[38;5;66;03m# We subtract self.offset_ to make 0 be the threshold value for being\u001b[39;00m\n\u001b[0;32m    373\u001b[0m \u001b[38;5;66;03m# an outlier:\u001b[39;00m\n\u001b[1;32m--> 375\u001b[0m \u001b[38;5;28;01mreturn\u001b[39;00m \u001b[38;5;28;43mself\u001b[39;49m\u001b[38;5;241;43m.\u001b[39;49m\u001b[43mscore_samples\u001b[49m\u001b[43m(\u001b[49m\u001b[43mX\u001b[49m\u001b[43m)\u001b[49m \u001b[38;5;241m-\u001b[39m \u001b[38;5;28mself\u001b[39m\u001b[38;5;241m.\u001b[39moffset_\n",
      "File \u001b[1;32m~\\anaconda3\\lib\\site-packages\\sklearn\\ensemble\\_iforest.py:406\u001b[0m, in \u001b[0;36mIsolationForest.score_samples\u001b[1;34m(self, X)\u001b[0m\n\u001b[0;32m    403\u001b[0m check_is_fitted(\u001b[38;5;28mself\u001b[39m)\n\u001b[0;32m    405\u001b[0m \u001b[38;5;66;03m# Check data\u001b[39;00m\n\u001b[1;32m--> 406\u001b[0m X \u001b[38;5;241m=\u001b[39m \u001b[38;5;28;43mself\u001b[39;49m\u001b[38;5;241;43m.\u001b[39;49m\u001b[43m_validate_data\u001b[49m\u001b[43m(\u001b[49m\u001b[43mX\u001b[49m\u001b[43m,\u001b[49m\u001b[43m \u001b[49m\u001b[43maccept_sparse\u001b[49m\u001b[38;5;241;43m=\u001b[39;49m\u001b[38;5;124;43m\"\u001b[39;49m\u001b[38;5;124;43mcsr\u001b[39;49m\u001b[38;5;124;43m\"\u001b[39;49m\u001b[43m,\u001b[49m\u001b[43m \u001b[49m\u001b[43mreset\u001b[49m\u001b[38;5;241;43m=\u001b[39;49m\u001b[38;5;28;43;01mFalse\u001b[39;49;00m\u001b[43m)\u001b[49m\n\u001b[0;32m    408\u001b[0m \u001b[38;5;66;03m# Take the opposite of the scores as bigger is better (here less\u001b[39;00m\n\u001b[0;32m    409\u001b[0m \u001b[38;5;66;03m# abnormal)\u001b[39;00m\n\u001b[0;32m    410\u001b[0m \u001b[38;5;28;01mreturn\u001b[39;00m \u001b[38;5;241m-\u001b[39m\u001b[38;5;28mself\u001b[39m\u001b[38;5;241m.\u001b[39m_compute_chunked_score_samples(X)\n",
      "File \u001b[1;32m~\\anaconda3\\lib\\site-packages\\sklearn\\base.py:585\u001b[0m, in \u001b[0;36mBaseEstimator._validate_data\u001b[1;34m(self, X, y, reset, validate_separately, **check_params)\u001b[0m\n\u001b[0;32m    582\u001b[0m     out \u001b[38;5;241m=\u001b[39m X, y\n\u001b[0;32m    584\u001b[0m \u001b[38;5;28;01mif\u001b[39;00m \u001b[38;5;129;01mnot\u001b[39;00m no_val_X \u001b[38;5;129;01mand\u001b[39;00m check_params\u001b[38;5;241m.\u001b[39mget(\u001b[38;5;124m\"\u001b[39m\u001b[38;5;124mensure_2d\u001b[39m\u001b[38;5;124m\"\u001b[39m, \u001b[38;5;28;01mTrue\u001b[39;00m):\n\u001b[1;32m--> 585\u001b[0m     \u001b[38;5;28;43mself\u001b[39;49m\u001b[38;5;241;43m.\u001b[39;49m\u001b[43m_check_n_features\u001b[49m\u001b[43m(\u001b[49m\u001b[43mX\u001b[49m\u001b[43m,\u001b[49m\u001b[43m \u001b[49m\u001b[43mreset\u001b[49m\u001b[38;5;241;43m=\u001b[39;49m\u001b[43mreset\u001b[49m\u001b[43m)\u001b[49m\n\u001b[0;32m    587\u001b[0m \u001b[38;5;28;01mreturn\u001b[39;00m out\n",
      "File \u001b[1;32m~\\anaconda3\\lib\\site-packages\\sklearn\\base.py:400\u001b[0m, in \u001b[0;36mBaseEstimator._check_n_features\u001b[1;34m(self, X, reset)\u001b[0m\n\u001b[0;32m    397\u001b[0m     \u001b[38;5;28;01mreturn\u001b[39;00m\n\u001b[0;32m    399\u001b[0m \u001b[38;5;28;01mif\u001b[39;00m n_features \u001b[38;5;241m!=\u001b[39m \u001b[38;5;28mself\u001b[39m\u001b[38;5;241m.\u001b[39mn_features_in_:\n\u001b[1;32m--> 400\u001b[0m     \u001b[38;5;28;01mraise\u001b[39;00m \u001b[38;5;167;01mValueError\u001b[39;00m(\n\u001b[0;32m    401\u001b[0m         \u001b[38;5;124mf\u001b[39m\u001b[38;5;124m\"\u001b[39m\u001b[38;5;124mX has \u001b[39m\u001b[38;5;132;01m{\u001b[39;00mn_features\u001b[38;5;132;01m}\u001b[39;00m\u001b[38;5;124m features, but \u001b[39m\u001b[38;5;132;01m{\u001b[39;00m\u001b[38;5;28mself\u001b[39m\u001b[38;5;241m.\u001b[39m\u001b[38;5;18m__class__\u001b[39m\u001b[38;5;241m.\u001b[39m\u001b[38;5;18m__name__\u001b[39m\u001b[38;5;132;01m}\u001b[39;00m\u001b[38;5;124m \u001b[39m\u001b[38;5;124m\"\u001b[39m\n\u001b[0;32m    402\u001b[0m         \u001b[38;5;124mf\u001b[39m\u001b[38;5;124m\"\u001b[39m\u001b[38;5;124mis expecting \u001b[39m\u001b[38;5;132;01m{\u001b[39;00m\u001b[38;5;28mself\u001b[39m\u001b[38;5;241m.\u001b[39mn_features_in_\u001b[38;5;132;01m}\u001b[39;00m\u001b[38;5;124m features as input.\u001b[39m\u001b[38;5;124m\"\u001b[39m\n\u001b[0;32m    403\u001b[0m     )\n",
      "\u001b[1;31mValueError\u001b[0m: X has 261 features, but IsolationForest is expecting 265 features as input."
     ]
    }
   ],
   "source": [
    "for d in datasets:\n",
    "    datasets[d].shake_not_stir(random_state=SEED)\n",
    "    exam_list = {w: pd.DataFrame(columns=['precision', 'recall', 'f1_score'], dtype='float') for w in watchmen}\n",
    "    for data, faults, info in tqdm(datasets[d].test_generator(), desc=f'examine dataset {d}'):\n",
    "        for w in watchmen:\n",
    "            detect = watchmen[w][d].predict(data)\n",
    "            exam_list[w].loc[info, exam_metric] = time_span_metrics(faults, detect)\n",
    "    for w in watchmen:\n",
    "        exam_table[d].loc[exam_index[w], exam_metric] = exam_list[w][exam_metric].mean()"
   ]
  },
  {
   "cell_type": "code",
   "execution_count": null,
   "id": "4e04072b",
   "metadata": {
    "ExecuteTime": {
     "end_time": "2022-08-29T16:56:23.281680Z",
     "start_time": "2022-08-29T16:56:23.281680Z"
    }
   },
   "outputs": [],
   "source": [
    "for d in datasets:\n",
    "    print(datasets[d])\n",
    "    display(exam_table[d])\n",
    "    print()"
   ]
  }
 ],
 "metadata": {
  "kernelspec": {
   "display_name": "Python 3 (ipykernel)",
   "language": "python",
   "name": "python3"
  },
  "language_info": {
   "codemirror_mode": {
    "name": "ipython",
    "version": 3
   },
   "file_extension": ".py",
   "mimetype": "text/x-python",
   "name": "python",
   "nbconvert_exporter": "python",
   "pygments_lexer": "ipython3",
   "version": "3.8.8"
  },
  "toc": {
   "base_numbering": 1,
   "nav_menu": {},
   "number_sections": true,
   "sideBar": true,
   "skip_h1_title": false,
   "title_cell": "Table of Contents",
   "title_sidebar": "Contents",
   "toc_cell": false,
   "toc_position": {
    "height": "calc(100% - 180px)",
    "left": "10px",
    "top": "150px",
    "width": "272.2px"
   },
   "toc_section_display": true,
   "toc_window_display": true
  }
 },
 "nbformat": 4,
 "nbformat_minor": 5
}
