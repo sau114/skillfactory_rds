{
 "cells": [
  {
   "cell_type": "code",
   "execution_count": 1,
   "id": "3afcaa82",
   "metadata": {
    "ExecuteTime": {
     "end_time": "2022-08-26T14:21:09.343597Z",
     "start_time": "2022-08-26T14:21:09.300458Z"
    }
   },
   "outputs": [],
   "source": [
    "!del /Q utils\\__pycache__"
   ]
  },
  {
   "cell_type": "code",
   "execution_count": 2,
   "id": "86b03be5",
   "metadata": {
    "ExecuteTime": {
     "end_time": "2022-08-26T14:21:10.127584Z",
     "start_time": "2022-08-26T14:21:09.346454Z"
    }
   },
   "outputs": [],
   "source": [
    "import pandas as pd\n",
    "from tqdm.notebook import tqdm"
   ]
  },
  {
   "cell_type": "code",
   "execution_count": 3,
   "id": "b9bc2432",
   "metadata": {
    "ExecuteTime": {
     "end_time": "2022-08-26T14:21:10.143309Z",
     "start_time": "2022-08-26T14:21:10.127584Z"
    }
   },
   "outputs": [],
   "source": [
    "# from adtk.metrics import precision, recall, f1_score\n",
    "from utils.metrics import time_span_metrics"
   ]
  },
  {
   "cell_type": "code",
   "execution_count": 4,
   "id": "f34899c4",
   "metadata": {
    "ExecuteTime": {
     "end_time": "2022-08-26T14:21:10.933691Z",
     "start_time": "2022-08-26T14:21:10.148225Z"
    }
   },
   "outputs": [],
   "source": [
    "from utils.datasets import GhlKasperskyDataset, TepHarvardDataset, TepKasperskyDataset, SwatItrustDataset\n",
    "from utils.watchmen import LimitWatchman, LimitPcaWatchman, SpePcaWatchman, IsolatingWatchman, LinearPredictWatchman\n",
    "from utils.custom_plots import plot_stacked"
   ]
  },
  {
   "cell_type": "code",
   "execution_count": 5,
   "id": "f4e9bb0f",
   "metadata": {
    "ExecuteTime": {
     "end_time": "2022-08-26T14:21:10.949435Z",
     "start_time": "2022-08-26T14:21:10.933691Z"
    }
   },
   "outputs": [],
   "source": [
    "SEED = 1729"
   ]
  },
  {
   "cell_type": "markdown",
   "id": "ab2d87dc",
   "metadata": {
    "ExecuteTime": {
     "end_time": "2022-08-19T10:07:19.598656Z",
     "start_time": "2022-08-19T10:07:18.676895Z"
    }
   },
   "source": [
    "# Preparing datasets"
   ]
  },
  {
   "cell_type": "code",
   "execution_count": 6,
   "id": "cb921176",
   "metadata": {
    "ExecuteTime": {
     "end_time": "2022-08-26T14:21:10.965359Z",
     "start_time": "2022-08-26T14:21:10.951576Z"
    }
   },
   "outputs": [],
   "source": [
    "datasets = {\n",
    "    0: GhlKasperskyDataset(),\n",
    "    1: TepHarvardDataset(),\n",
    "    2: TepKasperskyDataset(),\n",
    "    3: SwatItrustDataset(),\n",
    "}"
   ]
  },
  {
   "cell_type": "markdown",
   "id": "f007db40",
   "metadata": {},
   "source": [
    "# Preparing watchmen"
   ]
  },
  {
   "cell_type": "markdown",
   "id": "cfcd94df",
   "metadata": {},
   "source": [
    "## LimitWatchman"
   ]
  },
  {
   "cell_type": "code",
   "execution_count": 7,
   "id": "659e26d6",
   "metadata": {
    "ExecuteTime": {
     "end_time": "2022-08-26T14:21:10.980809Z",
     "start_time": "2022-08-26T14:21:10.967280Z"
    }
   },
   "outputs": [],
   "source": [
    "# one for every dataset\n",
    "limit_watchmen = {\n",
    "    0: LimitWatchman(),\n",
    "    1: LimitWatchman(ewma='3 min'),\n",
    "    2: LimitWatchman(),\n",
    "    3: LimitWatchman(),\n",
    "}"
   ]
  },
  {
   "cell_type": "markdown",
   "id": "9241eabd",
   "metadata": {},
   "source": [
    "## LimitPcaWatchman"
   ]
  },
  {
   "cell_type": "code",
   "execution_count": 8,
   "id": "faa49d97",
   "metadata": {
    "ExecuteTime": {
     "end_time": "2022-08-26T14:21:10.996281Z",
     "start_time": "2022-08-26T14:21:10.983282Z"
    }
   },
   "outputs": [],
   "source": [
    "# one for every dataset\n",
    "limit_pca_watchmen = {\n",
    "    0: LimitPcaWatchman(n_components=3),\n",
    "    1: LimitPcaWatchman(n_components=12),\n",
    "    2: LimitPcaWatchman(n_components=3),\n",
    "    3: LimitPcaWatchman(n_components=3),\n",
    "}"
   ]
  },
  {
   "cell_type": "code",
   "execution_count": 9,
   "id": "bd24ec7f",
   "metadata": {
    "ExecuteTime": {
     "end_time": "2022-08-26T14:21:52.425732Z",
     "start_time": "2022-08-26T14:21:11.002303Z"
    }
   },
   "outputs": [
    {
     "data": {
      "application/vnd.jupyter.widget-view+json": {
       "model_id": "066d4f7d3d704d59ba1c9d7ac865d5b0",
       "version_major": 2,
       "version_minor": 0
      },
      "text/plain": [
       "fit scaler on dataset 0: 0it [00:00, ?it/s]"
      ]
     },
     "metadata": {},
     "output_type": "display_data"
    },
    {
     "data": {
      "application/vnd.jupyter.widget-view+json": {
       "model_id": "76a2aa30ff1a43bf8916d4aef562deaa",
       "version_major": 2,
       "version_minor": 0
      },
      "text/plain": [
       "fit pca on dataset 0: 0it [00:00, ?it/s]"
      ]
     },
     "metadata": {},
     "output_type": "display_data"
    },
    {
     "data": {
      "application/vnd.jupyter.widget-view+json": {
       "model_id": "3f0e8e817e184211ac3aac50aaa6b82e",
       "version_major": 2,
       "version_minor": 0
      },
      "text/plain": [
       "fit scaler on dataset 1: 0it [00:00, ?it/s]"
      ]
     },
     "metadata": {},
     "output_type": "display_data"
    },
    {
     "data": {
      "application/vnd.jupyter.widget-view+json": {
       "model_id": "6ec8168414c14ef6ad6e7307bf54a48d",
       "version_major": 2,
       "version_minor": 0
      },
      "text/plain": [
       "fit pca on dataset 1: 0it [00:00, ?it/s]"
      ]
     },
     "metadata": {},
     "output_type": "display_data"
    },
    {
     "data": {
      "application/vnd.jupyter.widget-view+json": {
       "model_id": "624928a9fe964e1eb256d16d873902e3",
       "version_major": 2,
       "version_minor": 0
      },
      "text/plain": [
       "fit scaler on dataset 2: 0it [00:00, ?it/s]"
      ]
     },
     "metadata": {},
     "output_type": "display_data"
    },
    {
     "data": {
      "application/vnd.jupyter.widget-view+json": {
       "model_id": "e65db449bb0146eaae004486de1b48e6",
       "version_major": 2,
       "version_minor": 0
      },
      "text/plain": [
       "fit pca on dataset 2: 0it [00:00, ?it/s]"
      ]
     },
     "metadata": {},
     "output_type": "display_data"
    },
    {
     "data": {
      "application/vnd.jupyter.widget-view+json": {
       "model_id": "8e6ac627d171457f86fcbab2952f95cd",
       "version_major": 2,
       "version_minor": 0
      },
      "text/plain": [
       "fit scaler on dataset 3: 0it [00:00, ?it/s]"
      ]
     },
     "metadata": {},
     "output_type": "display_data"
    },
    {
     "data": {
      "application/vnd.jupyter.widget-view+json": {
       "model_id": "2c55ab5643f34af99ff37aea35d0898e",
       "version_major": 2,
       "version_minor": 0
      },
      "text/plain": [
       "fit pca on dataset 3: 0it [00:00, ?it/s]"
      ]
     },
     "metadata": {},
     "output_type": "display_data"
    }
   ],
   "source": [
    "for d in datasets:\n",
    "    datasets[d].shake_not_stir(random_state=SEED)\n",
    "    for data, faults, info in tqdm(datasets[d].train_generator(), desc=f'fit scaler on dataset {d}'):\n",
    "        limit_pca_watchmen[d].partial_fit_scaler(data)\n",
    "    for data, faults, info in tqdm(datasets[d].train_generator(), desc=f'fit pca on dataset {d}'):\n",
    "        limit_pca_watchmen[d].partial_fit_pca(data)        "
   ]
  },
  {
   "cell_type": "markdown",
   "id": "e7edb216",
   "metadata": {},
   "source": [
    "## SpePcaWatchman"
   ]
  },
  {
   "cell_type": "code",
   "execution_count": 10,
   "id": "0cd8bc3d",
   "metadata": {
    "ExecuteTime": {
     "end_time": "2022-08-26T14:21:52.440732Z",
     "start_time": "2022-08-26T14:21:52.427741Z"
    }
   },
   "outputs": [],
   "source": [
    "# one for every dataset\n",
    "spe_pca_watchmen = {\n",
    "    0: SpePcaWatchman(n_components=3),\n",
    "    1: SpePcaWatchman(n_components=12),\n",
    "    2: SpePcaWatchman(n_components=3),\n",
    "    3: SpePcaWatchman(n_components=3),\n",
    "}"
   ]
  },
  {
   "cell_type": "code",
   "execution_count": 11,
   "id": "1ed98f89",
   "metadata": {
    "ExecuteTime": {
     "end_time": "2022-08-26T14:22:34.398171Z",
     "start_time": "2022-08-26T14:21:52.442737Z"
    }
   },
   "outputs": [
    {
     "data": {
      "application/vnd.jupyter.widget-view+json": {
       "model_id": "8618959ae9c649ed81a246dcd17f1ff0",
       "version_major": 2,
       "version_minor": 0
      },
      "text/plain": [
       "fit scaler on dataset 0: 0it [00:00, ?it/s]"
      ]
     },
     "metadata": {},
     "output_type": "display_data"
    },
    {
     "data": {
      "application/vnd.jupyter.widget-view+json": {
       "model_id": "3436a79e8fe64909b017cd2afc481662",
       "version_major": 2,
       "version_minor": 0
      },
      "text/plain": [
       "fit pca on dataset 0: 0it [00:00, ?it/s]"
      ]
     },
     "metadata": {},
     "output_type": "display_data"
    },
    {
     "data": {
      "application/vnd.jupyter.widget-view+json": {
       "model_id": "6f34cb2cd30244baa6bc90c6267eec7b",
       "version_major": 2,
       "version_minor": 0
      },
      "text/plain": [
       "fit scaler on dataset 1: 0it [00:00, ?it/s]"
      ]
     },
     "metadata": {},
     "output_type": "display_data"
    },
    {
     "data": {
      "application/vnd.jupyter.widget-view+json": {
       "model_id": "87064e60277b447ea04a91e34d228c07",
       "version_major": 2,
       "version_minor": 0
      },
      "text/plain": [
       "fit pca on dataset 1: 0it [00:00, ?it/s]"
      ]
     },
     "metadata": {},
     "output_type": "display_data"
    },
    {
     "data": {
      "application/vnd.jupyter.widget-view+json": {
       "model_id": "b9ce13bcb1de417eb1d41975fa3bfa4c",
       "version_major": 2,
       "version_minor": 0
      },
      "text/plain": [
       "fit scaler on dataset 2: 0it [00:00, ?it/s]"
      ]
     },
     "metadata": {},
     "output_type": "display_data"
    },
    {
     "data": {
      "application/vnd.jupyter.widget-view+json": {
       "model_id": "4adb6f86c2c14440b60c69fefa1943a7",
       "version_major": 2,
       "version_minor": 0
      },
      "text/plain": [
       "fit pca on dataset 2: 0it [00:00, ?it/s]"
      ]
     },
     "metadata": {},
     "output_type": "display_data"
    },
    {
     "data": {
      "application/vnd.jupyter.widget-view+json": {
       "model_id": "951a483d76674a7eb016dc9bfb9b2c8e",
       "version_major": 2,
       "version_minor": 0
      },
      "text/plain": [
       "fit scaler on dataset 3: 0it [00:00, ?it/s]"
      ]
     },
     "metadata": {},
     "output_type": "display_data"
    },
    {
     "data": {
      "application/vnd.jupyter.widget-view+json": {
       "model_id": "ebe4c338e70b45c6be3c311fb96302e3",
       "version_major": 2,
       "version_minor": 0
      },
      "text/plain": [
       "fit pca on dataset 3: 0it [00:00, ?it/s]"
      ]
     },
     "metadata": {},
     "output_type": "display_data"
    }
   ],
   "source": [
    "for d in datasets:\n",
    "    datasets[d].shake_not_stir(random_state=SEED)\n",
    "    for data, _, _ in tqdm(datasets[d].train_generator(), desc=f'fit scaler on dataset {d}'):\n",
    "        spe_pca_watchmen[d].partial_fit_scaler(data)\n",
    "    for data, _, _ in tqdm(datasets[d].train_generator(), desc=f'fit pca on dataset {d}'):\n",
    "        spe_pca_watchmen[d].partial_fit_pca(data)        "
   ]
  },
  {
   "cell_type": "markdown",
   "id": "e5471847",
   "metadata": {},
   "source": [
    "## Isolating Watchman"
   ]
  },
  {
   "cell_type": "code",
   "execution_count": 12,
   "id": "55301001",
   "metadata": {
    "ExecuteTime": {
     "end_time": "2022-08-26T14:22:34.413938Z",
     "start_time": "2022-08-26T14:22:34.400918Z"
    }
   },
   "outputs": [],
   "source": [
    "# one for every dataset\n",
    "isolating_watchmen = {\n",
    "    0: IsolatingWatchman(max_samples=256, random_state=SEED),\n",
    "    1: IsolatingWatchman(max_samples=256, random_state=SEED),\n",
    "    2: IsolatingWatchman(max_samples=1024, random_state=SEED),\n",
    "    3: IsolatingWatchman(max_samples=256, random_state=SEED),\n",
    "}"
   ]
  },
  {
   "cell_type": "markdown",
   "id": "7e6ba7cb",
   "metadata": {},
   "source": [
    "## Linear Predict Watchman"
   ]
  },
  {
   "cell_type": "code",
   "execution_count": 13,
   "id": "c1c48724",
   "metadata": {
    "ExecuteTime": {
     "end_time": "2022-08-26T14:22:34.429917Z",
     "start_time": "2022-08-26T14:22:34.417099Z"
    }
   },
   "outputs": [],
   "source": [
    "# one for every dataset\n",
    "linear_predict_watchmen = {\n",
    "    0: LinearPredictWatchman(random_state=SEED),\n",
    "    1: LinearPredictWatchman(random_state=SEED),\n",
    "    2: LinearPredictWatchman(random_state=SEED),\n",
    "    3: LinearPredictWatchman(random_state=SEED),\n",
    "}"
   ]
  },
  {
   "cell_type": "code",
   "execution_count": 14,
   "id": "3d3dba44",
   "metadata": {
    "ExecuteTime": {
     "end_time": "2022-08-26T14:22:50.636373Z",
     "start_time": "2022-08-26T14:22:34.432916Z"
    }
   },
   "outputs": [
    {
     "data": {
      "application/vnd.jupyter.widget-view+json": {
       "model_id": "558971c2c0714b82b466c6ffbd01bbd5",
       "version_major": 2,
       "version_minor": 0
      },
      "text/plain": [
       "fit scaler on dataset 0: 0it [00:00, ?it/s]"
      ]
     },
     "metadata": {},
     "output_type": "display_data"
    },
    {
     "data": {
      "application/vnd.jupyter.widget-view+json": {
       "model_id": "3622b17864494a72ba9ea58d116c3b73",
       "version_major": 2,
       "version_minor": 0
      },
      "text/plain": [
       "fit scaler on dataset 1: 0it [00:00, ?it/s]"
      ]
     },
     "metadata": {},
     "output_type": "display_data"
    },
    {
     "data": {
      "application/vnd.jupyter.widget-view+json": {
       "model_id": "c383165053774f959757ea1a5860a20f",
       "version_major": 2,
       "version_minor": 0
      },
      "text/plain": [
       "fit scaler on dataset 2: 0it [00:00, ?it/s]"
      ]
     },
     "metadata": {},
     "output_type": "display_data"
    },
    {
     "data": {
      "application/vnd.jupyter.widget-view+json": {
       "model_id": "a65fd0e146d34219a01a821d471cad6b",
       "version_major": 2,
       "version_minor": 0
      },
      "text/plain": [
       "fit scaler on dataset 3: 0it [00:00, ?it/s]"
      ]
     },
     "metadata": {},
     "output_type": "display_data"
    }
   ],
   "source": [
    "for d in datasets:\n",
    "    datasets[d].shake_not_stir(random_state=SEED)\n",
    "    for data, _, _ in tqdm(datasets[d].train_generator(), desc=f'fit scaler on dataset {d}'):\n",
    "        linear_predict_watchmen[d].partial_fit_scaler(data)"
   ]
  },
  {
   "cell_type": "markdown",
   "id": "aa8b4956",
   "metadata": {},
   "source": [
    "## Bring them all"
   ]
  },
  {
   "cell_type": "code",
   "execution_count": 15,
   "id": "b5c900e8",
   "metadata": {
    "ExecuteTime": {
     "end_time": "2022-08-26T14:22:50.652569Z",
     "start_time": "2022-08-26T14:22:50.638371Z"
    }
   },
   "outputs": [],
   "source": [
    "watchmen = {\n",
    "    0: limit_watchmen,\n",
    "    1: limit_pca_watchmen,\n",
    "    2: spe_pca_watchmen,\n",
    "    3: isolating_watchmen,\n",
    "    4: linear_predict_watchmen,\n",
    "}"
   ]
  },
  {
   "cell_type": "markdown",
   "id": "be4104e1",
   "metadata": {},
   "source": [
    "# Learning"
   ]
  },
  {
   "cell_type": "code",
   "execution_count": 16,
   "id": "ea1f2f67",
   "metadata": {
    "ExecuteTime": {
     "end_time": "2022-08-26T14:27:10.328057Z",
     "start_time": "2022-08-26T14:22:50.656397Z"
    }
   },
   "outputs": [
    {
     "data": {
      "application/vnd.jupyter.widget-view+json": {
       "model_id": "bbe3b6a224064da78ee9728d9511f5a5",
       "version_major": 2,
       "version_minor": 0
      },
      "text/plain": [
       "learn dataset 0: 0it [00:00, ?it/s]"
      ]
     },
     "metadata": {},
     "output_type": "display_data"
    },
    {
     "data": {
      "application/vnd.jupyter.widget-view+json": {
       "model_id": "dcaf6c0b4c31449ab2cae679b95868eb",
       "version_major": 2,
       "version_minor": 0
      },
      "text/plain": [
       "learn dataset 1: 0it [00:00, ?it/s]"
      ]
     },
     "metadata": {},
     "output_type": "display_data"
    },
    {
     "data": {
      "application/vnd.jupyter.widget-view+json": {
       "model_id": "3f68ea078d18486ea59b326368ff2331",
       "version_major": 2,
       "version_minor": 0
      },
      "text/plain": [
       "learn dataset 2: 0it [00:00, ?it/s]"
      ]
     },
     "metadata": {},
     "output_type": "display_data"
    },
    {
     "data": {
      "application/vnd.jupyter.widget-view+json": {
       "model_id": "56eebbc911854ee5bddd7f724ab9982b",
       "version_major": 2,
       "version_minor": 0
      },
      "text/plain": [
       "learn dataset 3: 0it [00:00, ?it/s]"
      ]
     },
     "metadata": {},
     "output_type": "display_data"
    }
   ],
   "source": [
    "for d in datasets:\n",
    "    datasets[d].shake_not_stir(random_state=SEED)\n",
    "    for data, _, _ in tqdm(datasets[d].train_generator(), desc=f'learn dataset {d}'):\n",
    "        for w in watchmen:\n",
    "            watchmen[w][d].partial_fit(data)"
   ]
  },
  {
   "cell_type": "markdown",
   "id": "5c728a4c",
   "metadata": {},
   "source": [
    "# Examine"
   ]
  },
  {
   "cell_type": "code",
   "execution_count": 17,
   "id": "c741772e",
   "metadata": {
    "ExecuteTime": {
     "end_time": "2022-08-26T14:27:10.343803Z",
     "start_time": "2022-08-26T14:27:10.330806Z"
    }
   },
   "outputs": [],
   "source": [
    "# СДЕЛАТЬ ТАБЛИЦУ ИНАЧЕ !!"
   ]
  },
  {
   "cell_type": "code",
   "execution_count": 18,
   "id": "257c5e42",
   "metadata": {
    "ExecuteTime": {
     "end_time": "2022-08-26T14:27:10.359940Z",
     "start_time": "2022-08-26T14:27:10.347804Z"
    }
   },
   "outputs": [],
   "source": [
    "exam_index = [watchmen[w][0].__class__.__name__ for w in watchmen]\n",
    "exam_metric = ['precision', 'recall', 'f1_score']\n",
    "exam_table = {d: pd.DataFrame(index=exam_index, columns=exam_metric) for d in datasets}"
   ]
  },
  {
   "cell_type": "code",
   "execution_count": 19,
   "id": "2eeb2ed3",
   "metadata": {
    "ExecuteTime": {
     "end_time": "2022-08-26T16:11:45.011863Z",
     "start_time": "2022-08-26T14:27:10.362810Z"
    }
   },
   "outputs": [
    {
     "data": {
      "application/vnd.jupyter.widget-view+json": {
       "model_id": "796886f8c23a4d179a32d1e0b9d4aa3d",
       "version_major": 2,
       "version_minor": 0
      },
      "text/plain": [
       "examine dataset 0: 0it [00:00, ?it/s]"
      ]
     },
     "metadata": {},
     "output_type": "display_data"
    },
    {
     "data": {
      "application/vnd.jupyter.widget-view+json": {
       "model_id": "69e69de2097e4bd7ac013f4111647432",
       "version_major": 2,
       "version_minor": 0
      },
      "text/plain": [
       "examine dataset 1: 0it [00:00, ?it/s]"
      ]
     },
     "metadata": {},
     "output_type": "display_data"
    },
    {
     "data": {
      "application/vnd.jupyter.widget-view+json": {
       "model_id": "c4bf9a254a6443a2b8c7376634a35a48",
       "version_major": 2,
       "version_minor": 0
      },
      "text/plain": [
       "examine dataset 2: 0it [00:00, ?it/s]"
      ]
     },
     "metadata": {},
     "output_type": "display_data"
    },
    {
     "data": {
      "application/vnd.jupyter.widget-view+json": {
       "model_id": "9f7f5c9796364442ae93bed571b01f4a",
       "version_major": 2,
       "version_minor": 0
      },
      "text/plain": [
       "examine dataset 3: 0it [00:00, ?it/s]"
      ]
     },
     "metadata": {},
     "output_type": "display_data"
    }
   ],
   "source": [
    "for d in datasets:\n",
    "    datasets[d].shake_not_stir(random_state=SEED)\n",
    "    exam_list = {w: pd.DataFrame(columns=['precision', 'recall', 'f1_score'], dtype='float') for w in watchmen}\n",
    "    for data, faults, info in tqdm(datasets[d].test_generator(), desc=f'examine dataset {d}'):\n",
    "        for w in watchmen:\n",
    "            detect = watchmen[w][d].predict(data)\n",
    "            exam_list[w].loc[info, exam_metric] = time_span_metrics(faults, detect)\n",
    "    for w in watchmen:\n",
    "        exam_table[d].loc[exam_index[w], exam_metric] = exam_list[w][exam_metric].mean()"
   ]
  },
  {
   "cell_type": "code",
   "execution_count": 20,
   "id": "4e04072b",
   "metadata": {
    "ExecuteTime": {
     "end_time": "2022-08-26T16:11:45.216712Z",
     "start_time": "2022-08-26T16:11:45.014712Z"
    }
   },
   "outputs": [
    {
     "name": "stdout",
     "output_type": "stream",
     "text": [
      "GhlKasperskyDataset(E:\\Datasets\\GHL)\n"
     ]
    },
    {
     "data": {
      "text/html": [
       "<div>\n",
       "<style scoped>\n",
       "    .dataframe tbody tr th:only-of-type {\n",
       "        vertical-align: middle;\n",
       "    }\n",
       "\n",
       "    .dataframe tbody tr th {\n",
       "        vertical-align: top;\n",
       "    }\n",
       "\n",
       "    .dataframe thead th {\n",
       "        text-align: right;\n",
       "    }\n",
       "</style>\n",
       "<table border=\"1\" class=\"dataframe\">\n",
       "  <thead>\n",
       "    <tr style=\"text-align: right;\">\n",
       "      <th></th>\n",
       "      <th>precision</th>\n",
       "      <th>recall</th>\n",
       "      <th>f1_score</th>\n",
       "    </tr>\n",
       "  </thead>\n",
       "  <tbody>\n",
       "    <tr>\n",
       "      <th>LimitWatchman</th>\n",
       "      <td>0.32572</td>\n",
       "      <td>0.643899</td>\n",
       "      <td>0.378634</td>\n",
       "    </tr>\n",
       "    <tr>\n",
       "      <th>LimitPcaWatchman</th>\n",
       "      <td>0.429861</td>\n",
       "      <td>0.38745</td>\n",
       "      <td>0.3959</td>\n",
       "    </tr>\n",
       "    <tr>\n",
       "      <th>SpePcaWatchman</th>\n",
       "      <td>0.35</td>\n",
       "      <td>0.034722</td>\n",
       "      <td>0.046528</td>\n",
       "    </tr>\n",
       "    <tr>\n",
       "      <th>IsolatingWatchman</th>\n",
       "      <td>0.013876</td>\n",
       "      <td>0.995833</td>\n",
       "      <td>0.027283</td>\n",
       "    </tr>\n",
       "    <tr>\n",
       "      <th>LinearPredictWatchman</th>\n",
       "      <td>0.013827</td>\n",
       "      <td>1.0</td>\n",
       "      <td>0.027189</td>\n",
       "    </tr>\n",
       "  </tbody>\n",
       "</table>\n",
       "</div>"
      ],
      "text/plain": [
       "                      precision    recall  f1_score\n",
       "LimitWatchman           0.32572  0.643899  0.378634\n",
       "LimitPcaWatchman       0.429861   0.38745    0.3959\n",
       "SpePcaWatchman             0.35  0.034722  0.046528\n",
       "IsolatingWatchman      0.013876  0.995833  0.027283\n",
       "LinearPredictWatchman  0.013827       1.0  0.027189"
      ]
     },
     "metadata": {},
     "output_type": "display_data"
    },
    {
     "name": "stdout",
     "output_type": "stream",
     "text": [
      "\n",
      "TepHarvardDataset(E:\\Datasets\\TEP\\dataverse)\n"
     ]
    },
    {
     "data": {
      "text/html": [
       "<div>\n",
       "<style scoped>\n",
       "    .dataframe tbody tr th:only-of-type {\n",
       "        vertical-align: middle;\n",
       "    }\n",
       "\n",
       "    .dataframe tbody tr th {\n",
       "        vertical-align: top;\n",
       "    }\n",
       "\n",
       "    .dataframe thead th {\n",
       "        text-align: right;\n",
       "    }\n",
       "</style>\n",
       "<table border=\"1\" class=\"dataframe\">\n",
       "  <thead>\n",
       "    <tr style=\"text-align: right;\">\n",
       "      <th></th>\n",
       "      <th>precision</th>\n",
       "      <th>recall</th>\n",
       "      <th>f1_score</th>\n",
       "    </tr>\n",
       "  </thead>\n",
       "  <tbody>\n",
       "    <tr>\n",
       "      <th>LimitWatchman</th>\n",
       "      <td>0.990742</td>\n",
       "      <td>0.641585</td>\n",
       "      <td>0.677138</td>\n",
       "    </tr>\n",
       "    <tr>\n",
       "      <th>LimitPcaWatchman</th>\n",
       "      <td>0.993204</td>\n",
       "      <td>0.510739</td>\n",
       "      <td>0.545577</td>\n",
       "    </tr>\n",
       "    <tr>\n",
       "      <th>SpePcaWatchman</th>\n",
       "      <td>0.999871</td>\n",
       "      <td>0.572456</td>\n",
       "      <td>0.605494</td>\n",
       "    </tr>\n",
       "    <tr>\n",
       "      <th>IsolatingWatchman</th>\n",
       "      <td>0.924354</td>\n",
       "      <td>0.532686</td>\n",
       "      <td>0.59111</td>\n",
       "    </tr>\n",
       "    <tr>\n",
       "      <th>LinearPredictWatchman</th>\n",
       "      <td>0.983441</td>\n",
       "      <td>0.748545</td>\n",
       "      <td>0.771986</td>\n",
       "    </tr>\n",
       "  </tbody>\n",
       "</table>\n",
       "</div>"
      ],
      "text/plain": [
       "                      precision    recall  f1_score\n",
       "LimitWatchman          0.990742  0.641585  0.677138\n",
       "LimitPcaWatchman       0.993204  0.510739  0.545577\n",
       "SpePcaWatchman         0.999871  0.572456  0.605494\n",
       "IsolatingWatchman      0.924354  0.532686   0.59111\n",
       "LinearPredictWatchman  0.983441  0.748545  0.771986"
      ]
     },
     "metadata": {},
     "output_type": "display_data"
    },
    {
     "name": "stdout",
     "output_type": "stream",
     "text": [
      "\n",
      "TepKasperskyDataset(E:\\Datasets\\TEP\\kaspersky)\n"
     ]
    },
    {
     "data": {
      "text/html": [
       "<div>\n",
       "<style scoped>\n",
       "    .dataframe tbody tr th:only-of-type {\n",
       "        vertical-align: middle;\n",
       "    }\n",
       "\n",
       "    .dataframe tbody tr th {\n",
       "        vertical-align: top;\n",
       "    }\n",
       "\n",
       "    .dataframe thead th {\n",
       "        text-align: right;\n",
       "    }\n",
       "</style>\n",
       "<table border=\"1\" class=\"dataframe\">\n",
       "  <thead>\n",
       "    <tr style=\"text-align: right;\">\n",
       "      <th></th>\n",
       "      <th>precision</th>\n",
       "      <th>recall</th>\n",
       "      <th>f1_score</th>\n",
       "    </tr>\n",
       "  </thead>\n",
       "  <tbody>\n",
       "    <tr>\n",
       "      <th>LimitWatchman</th>\n",
       "      <td>0.742059</td>\n",
       "      <td>0.433985</td>\n",
       "      <td>0.404575</td>\n",
       "    </tr>\n",
       "    <tr>\n",
       "      <th>LimitPcaWatchman</th>\n",
       "      <td>0.803922</td>\n",
       "      <td>0.243649</td>\n",
       "      <td>0.237142</td>\n",
       "    </tr>\n",
       "    <tr>\n",
       "      <th>SpePcaWatchman</th>\n",
       "      <td>0.976871</td>\n",
       "      <td>0.245566</td>\n",
       "      <td>0.253022</td>\n",
       "    </tr>\n",
       "    <tr>\n",
       "      <th>IsolatingWatchman</th>\n",
       "      <td>0.075873</td>\n",
       "      <td>1.0</td>\n",
       "      <td>0.116781</td>\n",
       "    </tr>\n",
       "    <tr>\n",
       "      <th>LinearPredictWatchman</th>\n",
       "      <td>0.352244</td>\n",
       "      <td>0.478348</td>\n",
       "      <td>0.250919</td>\n",
       "    </tr>\n",
       "  </tbody>\n",
       "</table>\n",
       "</div>"
      ],
      "text/plain": [
       "                      precision    recall  f1_score\n",
       "LimitWatchman          0.742059  0.433985  0.404575\n",
       "LimitPcaWatchman       0.803922  0.243649  0.237142\n",
       "SpePcaWatchman         0.976871  0.245566  0.253022\n",
       "IsolatingWatchman      0.075873       1.0  0.116781\n",
       "LinearPredictWatchman  0.352244  0.478348  0.250919"
      ]
     },
     "metadata": {},
     "output_type": "display_data"
    },
    {
     "name": "stdout",
     "output_type": "stream",
     "text": [
      "\n",
      "SwatItrustDataset(E:\\Datasets\\SWaT\\dataset12)\n"
     ]
    },
    {
     "data": {
      "text/html": [
       "<div>\n",
       "<style scoped>\n",
       "    .dataframe tbody tr th:only-of-type {\n",
       "        vertical-align: middle;\n",
       "    }\n",
       "\n",
       "    .dataframe tbody tr th {\n",
       "        vertical-align: top;\n",
       "    }\n",
       "\n",
       "    .dataframe thead th {\n",
       "        text-align: right;\n",
       "    }\n",
       "</style>\n",
       "<table border=\"1\" class=\"dataframe\">\n",
       "  <thead>\n",
       "    <tr style=\"text-align: right;\">\n",
       "      <th></th>\n",
       "      <th>precision</th>\n",
       "      <th>recall</th>\n",
       "      <th>f1_score</th>\n",
       "    </tr>\n",
       "  </thead>\n",
       "  <tbody>\n",
       "    <tr>\n",
       "      <th>LimitWatchman</th>\n",
       "      <td>0.3</td>\n",
       "      <td>1.0</td>\n",
       "      <td>0.461538</td>\n",
       "    </tr>\n",
       "    <tr>\n",
       "      <th>LimitPcaWatchman</th>\n",
       "      <td>1.0</td>\n",
       "      <td>0.166667</td>\n",
       "      <td>0.285714</td>\n",
       "    </tr>\n",
       "    <tr>\n",
       "      <th>SpePcaWatchman</th>\n",
       "      <td>NaN</td>\n",
       "      <td>0.0</td>\n",
       "      <td>0.0</td>\n",
       "    </tr>\n",
       "    <tr>\n",
       "      <th>IsolatingWatchman</th>\n",
       "      <td>0.3</td>\n",
       "      <td>1.0</td>\n",
       "      <td>0.461538</td>\n",
       "    </tr>\n",
       "    <tr>\n",
       "      <th>LinearPredictWatchman</th>\n",
       "      <td>0.272727</td>\n",
       "      <td>0.5</td>\n",
       "      <td>0.352941</td>\n",
       "    </tr>\n",
       "  </tbody>\n",
       "</table>\n",
       "</div>"
      ],
      "text/plain": [
       "                      precision    recall  f1_score\n",
       "LimitWatchman               0.3       1.0  0.461538\n",
       "LimitPcaWatchman            1.0  0.166667  0.285714\n",
       "SpePcaWatchman              NaN       0.0       0.0\n",
       "IsolatingWatchman           0.3       1.0  0.461538\n",
       "LinearPredictWatchman  0.272727       0.5  0.352941"
      ]
     },
     "metadata": {},
     "output_type": "display_data"
    },
    {
     "name": "stdout",
     "output_type": "stream",
     "text": [
      "\n"
     ]
    }
   ],
   "source": [
    "for d in datasets:\n",
    "    print(datasets[d])\n",
    "    display(exam_table[d])\n",
    "    print()"
   ]
  }
 ],
 "metadata": {
  "kernelspec": {
   "display_name": "Python 3 (ipykernel)",
   "language": "python",
   "name": "python3"
  },
  "language_info": {
   "codemirror_mode": {
    "name": "ipython",
    "version": 3
   },
   "file_extension": ".py",
   "mimetype": "text/x-python",
   "name": "python",
   "nbconvert_exporter": "python",
   "pygments_lexer": "ipython3",
   "version": "3.8.8"
  },
  "toc": {
   "base_numbering": 1,
   "nav_menu": {},
   "number_sections": true,
   "sideBar": true,
   "skip_h1_title": false,
   "title_cell": "Table of Contents",
   "title_sidebar": "Contents",
   "toc_cell": false,
   "toc_position": {
    "height": "calc(100% - 180px)",
    "left": "10px",
    "top": "150px",
    "width": "307.2px"
   },
   "toc_section_display": true,
   "toc_window_display": true
  }
 },
 "nbformat": 4,
 "nbformat_minor": 5
}
