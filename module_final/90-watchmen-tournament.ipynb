{
 "cells": [
  {
   "cell_type": "code",
   "execution_count": 1,
   "id": "3afcaa82",
   "metadata": {
    "ExecuteTime": {
     "end_time": "2022-08-20T21:01:21.263889Z",
     "start_time": "2022-08-20T21:01:21.219790Z"
    }
   },
   "outputs": [],
   "source": [
    "!del /Q utils\\__pycache__"
   ]
  },
  {
   "cell_type": "code",
   "execution_count": 2,
   "id": "86b03be5",
   "metadata": {
    "ExecuteTime": {
     "end_time": "2022-08-20T21:01:22.573352Z",
     "start_time": "2022-08-20T21:01:21.267222Z"
    }
   },
   "outputs": [],
   "source": [
    "import pandas as pd\n",
    "from tqdm.notebook import tqdm"
   ]
  },
  {
   "cell_type": "code",
   "execution_count": 3,
   "id": "bb02fe5c",
   "metadata": {
    "ExecuteTime": {
     "end_time": "2022-08-20T21:01:22.588571Z",
     "start_time": "2022-08-20T21:01:22.574607Z"
    }
   },
   "outputs": [],
   "source": [
    "# from adtk.metrics import precision, recall, f1_score"
   ]
  },
  {
   "cell_type": "code",
   "execution_count": 4,
   "id": "b9bc2432",
   "metadata": {
    "ExecuteTime": {
     "end_time": "2022-08-20T21:01:22.619869Z",
     "start_time": "2022-08-20T21:01:22.591801Z"
    }
   },
   "outputs": [],
   "source": [
    "from utils.metrics import time_span_metrics"
   ]
  },
  {
   "cell_type": "code",
   "execution_count": 5,
   "id": "f34899c4",
   "metadata": {
    "ExecuteTime": {
     "end_time": "2022-08-20T21:01:24.013332Z",
     "start_time": "2022-08-20T21:01:22.623230Z"
    }
   },
   "outputs": [],
   "source": [
    "from utils.datasets import GhlKasperskyDataset, TepHarvardDataset\n",
    "from utils.watchmen import LimitWatchman, LimitPcaWatchman, SpePcaWatchman\n",
    "from utils.custom_plots import plot_stacked"
   ]
  },
  {
   "cell_type": "markdown",
   "id": "ab2d87dc",
   "metadata": {
    "ExecuteTime": {
     "end_time": "2022-08-19T10:07:19.598656Z",
     "start_time": "2022-08-19T10:07:18.676895Z"
    }
   },
   "source": [
    "# Preparing datasets"
   ]
  },
  {
   "cell_type": "markdown",
   "id": "94bca394",
   "metadata": {},
   "source": [
    "## GHL"
   ]
  },
  {
   "cell_type": "code",
   "execution_count": 6,
   "id": "24a0e964",
   "metadata": {
    "ExecuteTime": {
     "end_time": "2022-08-20T21:01:24.083812Z",
     "start_time": "2022-08-20T21:01:24.016506Z"
    }
   },
   "outputs": [
    {
     "data": {
      "text/plain": [
       "GhlKasperskyDataset(E:\\Datasets\\GHL)"
      ]
     },
     "execution_count": 6,
     "metadata": {},
     "output_type": "execute_result"
    }
   ],
   "source": [
    "ghl = GhlKasperskyDataset()\n",
    "ghl"
   ]
  },
  {
   "cell_type": "markdown",
   "id": "5e76b6cf",
   "metadata": {},
   "source": [
    "## TEP Harvard"
   ]
  },
  {
   "cell_type": "code",
   "execution_count": 7,
   "id": "811e05e6",
   "metadata": {
    "ExecuteTime": {
     "end_time": "2022-08-20T21:01:24.177915Z",
     "start_time": "2022-08-20T21:01:24.086817Z"
    }
   },
   "outputs": [
    {
     "data": {
      "text/plain": [
       "TepHarvardDataset(E:\\Datasets\\TEP\\dataverse)"
      ]
     },
     "execution_count": 7,
     "metadata": {},
     "output_type": "execute_result"
    }
   ],
   "source": [
    "tep1 = TepHarvardDataset()\n",
    "tep1"
   ]
  },
  {
   "cell_type": "markdown",
   "id": "7cb93b41",
   "metadata": {},
   "source": [
    "## Bring them all"
   ]
  },
  {
   "cell_type": "code",
   "execution_count": 8,
   "id": "cb921176",
   "metadata": {
    "ExecuteTime": {
     "end_time": "2022-08-20T21:01:24.193349Z",
     "start_time": "2022-08-20T21:01:24.179889Z"
    }
   },
   "outputs": [],
   "source": [
    "datasets = {\n",
    "    0: ghl,\n",
    "    1: tep1,\n",
    "}"
   ]
  },
  {
   "cell_type": "markdown",
   "id": "f007db40",
   "metadata": {},
   "source": [
    "# Preparing watchmen"
   ]
  },
  {
   "cell_type": "markdown",
   "id": "cfcd94df",
   "metadata": {},
   "source": [
    "## LimitWatchman"
   ]
  },
  {
   "cell_type": "code",
   "execution_count": 9,
   "id": "659e26d6",
   "metadata": {
    "ExecuteTime": {
     "end_time": "2022-08-20T21:01:24.208975Z",
     "start_time": "2022-08-20T21:01:24.198810Z"
    }
   },
   "outputs": [],
   "source": [
    "# one for every dataset\n",
    "limit_watchmen = {\n",
    "    0: LimitWatchman(),\n",
    "    1: LimitWatchman(ewma='3 min'),\n",
    "}"
   ]
  },
  {
   "cell_type": "markdown",
   "id": "9241eabd",
   "metadata": {},
   "source": [
    "## LimitPcaWatchman"
   ]
  },
  {
   "cell_type": "code",
   "execution_count": 10,
   "id": "faa49d97",
   "metadata": {
    "ExecuteTime": {
     "end_time": "2022-08-20T21:01:24.223812Z",
     "start_time": "2022-08-20T21:01:24.211816Z"
    }
   },
   "outputs": [],
   "source": [
    "# one for every dataset\n",
    "limit_pca_watchmen = {\n",
    "    0: LimitPcaWatchman(n_components=1),\n",
    "    1: LimitPcaWatchman(n_components=12),\n",
    "}"
   ]
  },
  {
   "cell_type": "code",
   "execution_count": 11,
   "id": "bd24ec7f",
   "metadata": {
    "ExecuteTime": {
     "end_time": "2022-08-20T21:01:53.546258Z",
     "start_time": "2022-08-20T21:01:24.226450Z"
    }
   },
   "outputs": [
    {
     "data": {
      "application/vnd.jupyter.widget-view+json": {
       "model_id": "ba6d70a639d74457895c721198555939",
       "version_major": 2,
       "version_minor": 0
      },
      "text/plain": [
       "fit scaler on dataset 0: 0it [00:00, ?it/s]"
      ]
     },
     "metadata": {},
     "output_type": "display_data"
    },
    {
     "data": {
      "application/vnd.jupyter.widget-view+json": {
       "model_id": "70dd33b34c7847d49d2b5eac23a1219f",
       "version_major": 2,
       "version_minor": 0
      },
      "text/plain": [
       "fit pca on dataset 0: 0it [00:00, ?it/s]"
      ]
     },
     "metadata": {},
     "output_type": "display_data"
    },
    {
     "data": {
      "application/vnd.jupyter.widget-view+json": {
       "model_id": "f5c1489158614199a3a89a94c6f8c612",
       "version_major": 2,
       "version_minor": 0
      },
      "text/plain": [
       "fit scaler on dataset 1: 0it [00:00, ?it/s]"
      ]
     },
     "metadata": {},
     "output_type": "display_data"
    },
    {
     "data": {
      "application/vnd.jupyter.widget-view+json": {
       "model_id": "de47f62a302f46b6be22c41f4419f7f9",
       "version_major": 2,
       "version_minor": 0
      },
      "text/plain": [
       "fit pca on dataset 1: 0it [00:00, ?it/s]"
      ]
     },
     "metadata": {},
     "output_type": "display_data"
    }
   ],
   "source": [
    "for d in datasets:\n",
    "    datasets[d].shake_not_stir()\n",
    "    for data, faults, info in tqdm(datasets[d].train_generator(), desc=f'fit scaler on dataset {d}'):\n",
    "        limit_pca_watchmen[d].partial_fit_scaler(data)\n",
    "    for data, faults, info in tqdm(datasets[d].train_generator(), desc=f'fit pca on dataset {d}'):\n",
    "        limit_pca_watchmen[d].partial_fit_pca(data)        "
   ]
  },
  {
   "cell_type": "markdown",
   "id": "e7edb216",
   "metadata": {},
   "source": [
    "## SpePcaWatchman"
   ]
  },
  {
   "cell_type": "code",
   "execution_count": 12,
   "id": "0cd8bc3d",
   "metadata": {
    "ExecuteTime": {
     "end_time": "2022-08-20T21:01:53.561458Z",
     "start_time": "2022-08-20T21:01:53.549233Z"
    }
   },
   "outputs": [],
   "source": [
    "# one for every dataset\n",
    "spe_pca_watchmen = {\n",
    "    0: SpePcaWatchman(n_components=1),\n",
    "    1: SpePcaWatchman(n_components=12),\n",
    "}"
   ]
  },
  {
   "cell_type": "code",
   "execution_count": 13,
   "id": "1ed98f89",
   "metadata": {
    "ExecuteTime": {
     "end_time": "2022-08-20T21:02:10.544989Z",
     "start_time": "2022-08-20T21:01:53.563184Z"
    }
   },
   "outputs": [
    {
     "data": {
      "application/vnd.jupyter.widget-view+json": {
       "model_id": "cbe8579890b44d668fb433becce980e4",
       "version_major": 2,
       "version_minor": 0
      },
      "text/plain": [
       "fit scaler on dataset 0: 0it [00:00, ?it/s]"
      ]
     },
     "metadata": {},
     "output_type": "display_data"
    },
    {
     "data": {
      "application/vnd.jupyter.widget-view+json": {
       "model_id": "da8a6f71ff874e99ada37800a7379faa",
       "version_major": 2,
       "version_minor": 0
      },
      "text/plain": [
       "fit pca on dataset 0: 0it [00:00, ?it/s]"
      ]
     },
     "metadata": {},
     "output_type": "display_data"
    },
    {
     "data": {
      "application/vnd.jupyter.widget-view+json": {
       "model_id": "ef16d1e874304834a63ecd4969c25af7",
       "version_major": 2,
       "version_minor": 0
      },
      "text/plain": [
       "fit scaler on dataset 1: 0it [00:00, ?it/s]"
      ]
     },
     "metadata": {},
     "output_type": "display_data"
    },
    {
     "data": {
      "application/vnd.jupyter.widget-view+json": {
       "model_id": "935eb857e37c43e3bef07f7e2bb9e54c",
       "version_major": 2,
       "version_minor": 0
      },
      "text/plain": [
       "fit pca on dataset 1: 0it [00:00, ?it/s]"
      ]
     },
     "metadata": {},
     "output_type": "display_data"
    }
   ],
   "source": [
    "for d in datasets:\n",
    "    datasets[d].shake_not_stir()\n",
    "    for data, _, _ in tqdm(datasets[d].train_generator(), desc=f'fit scaler on dataset {d}'):\n",
    "        spe_pca_watchmen[d].partial_fit_scaler(data)\n",
    "    for data, _, _ in tqdm(datasets[d].train_generator(), desc=f'fit pca on dataset {d}'):\n",
    "        spe_pca_watchmen[d].partial_fit_pca(data)        "
   ]
  },
  {
   "cell_type": "markdown",
   "id": "aa8b4956",
   "metadata": {},
   "source": [
    "## Bring them all"
   ]
  },
  {
   "cell_type": "code",
   "execution_count": 14,
   "id": "b5c900e8",
   "metadata": {
    "ExecuteTime": {
     "end_time": "2022-08-20T21:02:10.560992Z",
     "start_time": "2022-08-20T21:02:10.546991Z"
    }
   },
   "outputs": [],
   "source": [
    "watchmen = {\n",
    "    0: limit_watchmen,\n",
    "    1: limit_pca_watchmen,\n",
    "    2: spe_pca_watchmen,\n",
    "}"
   ]
  },
  {
   "cell_type": "markdown",
   "id": "be4104e1",
   "metadata": {},
   "source": [
    "# Learning"
   ]
  },
  {
   "cell_type": "code",
   "execution_count": 15,
   "id": "ea1f2f67",
   "metadata": {
    "ExecuteTime": {
     "end_time": "2022-08-20T21:02:26.507941Z",
     "start_time": "2022-08-20T21:02:10.562992Z"
    }
   },
   "outputs": [
    {
     "data": {
      "application/vnd.jupyter.widget-view+json": {
       "model_id": "139fedfc8f5542149ef8924094f2dd42",
       "version_major": 2,
       "version_minor": 0
      },
      "text/plain": [
       "learn dataset 0: 0it [00:00, ?it/s]"
      ]
     },
     "metadata": {},
     "output_type": "display_data"
    },
    {
     "data": {
      "application/vnd.jupyter.widget-view+json": {
       "model_id": "8fb30c72dbf542728e6d5e260c717148",
       "version_major": 2,
       "version_minor": 0
      },
      "text/plain": [
       "learn dataset 1: 0it [00:00, ?it/s]"
      ]
     },
     "metadata": {},
     "output_type": "display_data"
    }
   ],
   "source": [
    "for d in datasets:\n",
    "    datasets[d].shake_not_stir()\n",
    "    for data, _, _ in tqdm(datasets[d].train_generator(), desc=f'learn dataset {d}'):\n",
    "        for w in watchmen:\n",
    "            watchmen[w][d].learn(data)"
   ]
  },
  {
   "cell_type": "markdown",
   "id": "5c728a4c",
   "metadata": {},
   "source": [
    "# Examine"
   ]
  },
  {
   "cell_type": "code",
   "execution_count": 16,
   "id": "257c5e42",
   "metadata": {
    "ExecuteTime": {
     "end_time": "2022-08-20T21:02:26.524132Z",
     "start_time": "2022-08-20T21:02:26.510948Z"
    }
   },
   "outputs": [],
   "source": [
    "exam_index = [watchmen[w][0].__class__.__name__ for w in watchmen]\n",
    "exam_metric = ['precision', 'recall', 'f1_score']\n",
    "exam_table = {d: pd.DataFrame(index=exam_index, columns=exam_metric) for d in datasets}"
   ]
  },
  {
   "cell_type": "code",
   "execution_count": 17,
   "id": "2eeb2ed3",
   "metadata": {
    "ExecuteTime": {
     "end_time": "2022-08-20T21:03:24.861488Z",
     "start_time": "2022-08-20T21:02:26.527583Z"
    }
   },
   "outputs": [
    {
     "data": {
      "application/vnd.jupyter.widget-view+json": {
       "model_id": "1de62baf1fdc493b99303f891992391a",
       "version_major": 2,
       "version_minor": 0
      },
      "text/plain": [
       "examine dataset 0: 0it [00:00, ?it/s]"
      ]
     },
     "metadata": {},
     "output_type": "display_data"
    },
    {
     "data": {
      "application/vnd.jupyter.widget-view+json": {
       "model_id": "de991488895940d699804ebb0d1e8364",
       "version_major": 2,
       "version_minor": 0
      },
      "text/plain": [
       "examine dataset 1: 0it [00:00, ?it/s]"
      ]
     },
     "metadata": {},
     "output_type": "display_data"
    }
   ],
   "source": [
    "for d in datasets:\n",
    "    datasets[d].shake_not_stir()\n",
    "    exam_list = {w: pd.DataFrame(columns=['precision', 'recall', 'f1_score'], dtype='float') for w in watchmen}\n",
    "    for data, faults, info in tqdm(datasets[d].test_generator(), desc=f'examine dataset {d}'):\n",
    "        for w in watchmen:\n",
    "            detect = watchmen[w][d].examine(data) # dataframe or series\n",
    "            exam_list[w].loc[info, exam_metric] = time_span_metrics(faults, detect)\n",
    "    for w in watchmen:\n",
    "        exam_table[d].loc[exam_index[w], exam_metric] = exam_list[w][exam_metric].mean()"
   ]
  },
  {
   "cell_type": "code",
   "execution_count": 18,
   "id": "4e04072b",
   "metadata": {
    "ExecuteTime": {
     "end_time": "2022-08-20T21:03:24.907652Z",
     "start_time": "2022-08-20T21:03:24.863552Z"
    }
   },
   "outputs": [
    {
     "name": "stdout",
     "output_type": "stream",
     "text": [
      "GhlKasperskyDataset(E:\\Datasets\\GHL)\n"
     ]
    },
    {
     "data": {
      "text/html": [
       "<div>\n",
       "<style scoped>\n",
       "    .dataframe tbody tr th:only-of-type {\n",
       "        vertical-align: middle;\n",
       "    }\n",
       "\n",
       "    .dataframe tbody tr th {\n",
       "        vertical-align: top;\n",
       "    }\n",
       "\n",
       "    .dataframe thead th {\n",
       "        text-align: right;\n",
       "    }\n",
       "</style>\n",
       "<table border=\"1\" class=\"dataframe\">\n",
       "  <thead>\n",
       "    <tr style=\"text-align: right;\">\n",
       "      <th></th>\n",
       "      <th>precision</th>\n",
       "      <th>recall</th>\n",
       "      <th>f1_score</th>\n",
       "    </tr>\n",
       "  </thead>\n",
       "  <tbody>\n",
       "    <tr>\n",
       "      <th>LimitWatchman</th>\n",
       "      <td>0.32572</td>\n",
       "      <td>0.643899</td>\n",
       "      <td>0.378634</td>\n",
       "    </tr>\n",
       "    <tr>\n",
       "      <th>LimitPcaWatchman</th>\n",
       "      <td>0.5</td>\n",
       "      <td>0.382242</td>\n",
       "      <td>0.426135</td>\n",
       "    </tr>\n",
       "    <tr>\n",
       "      <th>SpePcaWatchman</th>\n",
       "      <td>NaN</td>\n",
       "      <td>0.0</td>\n",
       "      <td>0.0</td>\n",
       "    </tr>\n",
       "  </tbody>\n",
       "</table>\n",
       "</div>"
      ],
      "text/plain": [
       "                 precision    recall  f1_score\n",
       "LimitWatchman      0.32572  0.643899  0.378634\n",
       "LimitPcaWatchman       0.5  0.382242  0.426135\n",
       "SpePcaWatchman         NaN       0.0       0.0"
      ]
     },
     "metadata": {},
     "output_type": "display_data"
    },
    {
     "name": "stdout",
     "output_type": "stream",
     "text": [
      "\n",
      "TepHarvardDataset(E:\\Datasets\\TEP\\dataverse)\n"
     ]
    },
    {
     "data": {
      "text/html": [
       "<div>\n",
       "<style scoped>\n",
       "    .dataframe tbody tr th:only-of-type {\n",
       "        vertical-align: middle;\n",
       "    }\n",
       "\n",
       "    .dataframe tbody tr th {\n",
       "        vertical-align: top;\n",
       "    }\n",
       "\n",
       "    .dataframe thead th {\n",
       "        text-align: right;\n",
       "    }\n",
       "</style>\n",
       "<table border=\"1\" class=\"dataframe\">\n",
       "  <thead>\n",
       "    <tr style=\"text-align: right;\">\n",
       "      <th></th>\n",
       "      <th>precision</th>\n",
       "      <th>recall</th>\n",
       "      <th>f1_score</th>\n",
       "    </tr>\n",
       "  </thead>\n",
       "  <tbody>\n",
       "    <tr>\n",
       "      <th>LimitWatchman</th>\n",
       "      <td>0.895785</td>\n",
       "      <td>0.654288</td>\n",
       "      <td>0.630264</td>\n",
       "    </tr>\n",
       "    <tr>\n",
       "      <th>LimitPcaWatchman</th>\n",
       "      <td>0.914738</td>\n",
       "      <td>0.531437</td>\n",
       "      <td>0.530534</td>\n",
       "    </tr>\n",
       "    <tr>\n",
       "      <th>SpePcaWatchman</th>\n",
       "      <td>1.0</td>\n",
       "      <td>0.593725</td>\n",
       "      <td>0.627698</td>\n",
       "    </tr>\n",
       "  </tbody>\n",
       "</table>\n",
       "</div>"
      ],
      "text/plain": [
       "                 precision    recall  f1_score\n",
       "LimitWatchman     0.895785  0.654288  0.630264\n",
       "LimitPcaWatchman  0.914738  0.531437  0.530534\n",
       "SpePcaWatchman         1.0  0.593725  0.627698"
      ]
     },
     "metadata": {},
     "output_type": "display_data"
    },
    {
     "name": "stdout",
     "output_type": "stream",
     "text": [
      "\n"
     ]
    }
   ],
   "source": [
    "for d in datasets:\n",
    "    print(datasets[d])\n",
    "    display(exam_table[d])\n",
    "    print()"
   ]
  },
  {
   "cell_type": "code",
   "execution_count": null,
   "id": "06a8e3f4",
   "metadata": {},
   "outputs": [],
   "source": []
  }
 ],
 "metadata": {
  "kernelspec": {
   "display_name": "Python 3 (ipykernel)",
   "language": "python",
   "name": "python3"
  },
  "language_info": {
   "codemirror_mode": {
    "name": "ipython",
    "version": 3
   },
   "file_extension": ".py",
   "mimetype": "text/x-python",
   "name": "python",
   "nbconvert_exporter": "python",
   "pygments_lexer": "ipython3",
   "version": "3.8.8"
  },
  "toc": {
   "base_numbering": 1,
   "nav_menu": {},
   "number_sections": true,
   "sideBar": true,
   "skip_h1_title": false,
   "title_cell": "Table of Contents",
   "title_sidebar": "Contents",
   "toc_cell": false,
   "toc_position": {},
   "toc_section_display": true,
   "toc_window_display": true
  }
 },
 "nbformat": 4,
 "nbformat_minor": 5
}
