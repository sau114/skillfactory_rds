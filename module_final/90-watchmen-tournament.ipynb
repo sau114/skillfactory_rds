{
 "cells": [
  {
   "cell_type": "code",
   "execution_count": 1,
   "id": "3afcaa82",
   "metadata": {
    "ExecuteTime": {
     "end_time": "2022-08-25T09:47:21.373388Z",
     "start_time": "2022-08-25T09:47:21.331196Z"
    }
   },
   "outputs": [],
   "source": [
    "!del /Q utils\\__pycache__"
   ]
  },
  {
   "cell_type": "code",
   "execution_count": 2,
   "id": "86b03be5",
   "metadata": {
    "ExecuteTime": {
     "end_time": "2022-08-25T09:47:22.220809Z",
     "start_time": "2022-08-25T09:47:21.376477Z"
    }
   },
   "outputs": [],
   "source": [
    "import pandas as pd\n",
    "from tqdm.notebook import tqdm"
   ]
  },
  {
   "cell_type": "code",
   "execution_count": 3,
   "id": "b9bc2432",
   "metadata": {
    "ExecuteTime": {
     "end_time": "2022-08-25T09:47:22.236080Z",
     "start_time": "2022-08-25T09:47:22.221284Z"
    }
   },
   "outputs": [],
   "source": [
    "# from adtk.metrics import precision, recall, f1_score\n",
    "from utils.metrics import time_span_metrics"
   ]
  },
  {
   "cell_type": "code",
   "execution_count": 4,
   "id": "f34899c4",
   "metadata": {
    "ExecuteTime": {
     "end_time": "2022-08-25T09:47:23.087094Z",
     "start_time": "2022-08-25T09:47:22.241079Z"
    }
   },
   "outputs": [],
   "source": [
    "from utils.datasets import GhlKasperskyDataset, TepHarvardDataset, TepKasperskyDataset\n",
    "from utils.watchmen import LimitWatchman, LimitPcaWatchman, SpePcaWatchman, IsolatingWatchman\n",
    "from utils.custom_plots import plot_stacked"
   ]
  },
  {
   "cell_type": "code",
   "execution_count": 5,
   "id": "f4e9bb0f",
   "metadata": {
    "ExecuteTime": {
     "end_time": "2022-08-25T09:47:23.102909Z",
     "start_time": "2022-08-25T09:47:23.087921Z"
    }
   },
   "outputs": [],
   "source": [
    "SEED = 31"
   ]
  },
  {
   "cell_type": "markdown",
   "id": "ab2d87dc",
   "metadata": {
    "ExecuteTime": {
     "end_time": "2022-08-19T10:07:19.598656Z",
     "start_time": "2022-08-19T10:07:18.676895Z"
    }
   },
   "source": [
    "# Preparing datasets"
   ]
  },
  {
   "cell_type": "code",
   "execution_count": 6,
   "id": "cb921176",
   "metadata": {
    "ExecuteTime": {
     "end_time": "2022-08-25T09:47:23.118861Z",
     "start_time": "2022-08-25T09:47:23.104813Z"
    }
   },
   "outputs": [],
   "source": [
    "datasets = {\n",
    "    0: GhlKasperskyDataset(),\n",
    "    1: TepHarvardDataset(),\n",
    "    2: TepKasperskyDataset(),\n",
    "}"
   ]
  },
  {
   "cell_type": "markdown",
   "id": "f007db40",
   "metadata": {},
   "source": [
    "# Preparing watchmen"
   ]
  },
  {
   "cell_type": "markdown",
   "id": "cfcd94df",
   "metadata": {},
   "source": [
    "## LimitWatchman"
   ]
  },
  {
   "cell_type": "code",
   "execution_count": 7,
   "id": "659e26d6",
   "metadata": {
    "ExecuteTime": {
     "end_time": "2022-08-25T09:47:23.134862Z",
     "start_time": "2022-08-25T09:47:23.121847Z"
    }
   },
   "outputs": [],
   "source": [
    "# one for every dataset\n",
    "limit_watchmen = {\n",
    "    0: LimitWatchman(),\n",
    "    1: LimitWatchman(ewma='3 min'),\n",
    "    2: LimitWatchman(),\n",
    "}"
   ]
  },
  {
   "cell_type": "markdown",
   "id": "9241eabd",
   "metadata": {},
   "source": [
    "## LimitPcaWatchman"
   ]
  },
  {
   "cell_type": "code",
   "execution_count": 8,
   "id": "faa49d97",
   "metadata": {
    "ExecuteTime": {
     "end_time": "2022-08-25T09:47:23.150860Z",
     "start_time": "2022-08-25T09:47:23.136916Z"
    }
   },
   "outputs": [],
   "source": [
    "# one for every dataset\n",
    "limit_pca_watchmen = {\n",
    "    0: LimitPcaWatchman(n_components=3),\n",
    "    1: LimitPcaWatchman(n_components=12),\n",
    "    2: LimitPcaWatchman(n_components=3),\n",
    "}"
   ]
  },
  {
   "cell_type": "code",
   "execution_count": 9,
   "id": "bd24ec7f",
   "metadata": {
    "ExecuteTime": {
     "end_time": "2022-08-25T09:48:02.850159Z",
     "start_time": "2022-08-25T09:47:23.152829Z"
    }
   },
   "outputs": [
    {
     "data": {
      "application/vnd.jupyter.widget-view+json": {
       "model_id": "74ea47fcde364318ba798eba7561af2f",
       "version_major": 2,
       "version_minor": 0
      },
      "text/plain": [
       "fit scaler on dataset 0: 0it [00:00, ?it/s]"
      ]
     },
     "metadata": {},
     "output_type": "display_data"
    },
    {
     "data": {
      "application/vnd.jupyter.widget-view+json": {
       "model_id": "9144e400fdfa4d6dadc0746e4378779c",
       "version_major": 2,
       "version_minor": 0
      },
      "text/plain": [
       "fit pca on dataset 0: 0it [00:00, ?it/s]"
      ]
     },
     "metadata": {},
     "output_type": "display_data"
    },
    {
     "data": {
      "application/vnd.jupyter.widget-view+json": {
       "model_id": "e2b0d4aafa8a4f6991b6c634ea02d69a",
       "version_major": 2,
       "version_minor": 0
      },
      "text/plain": [
       "fit scaler on dataset 1: 0it [00:00, ?it/s]"
      ]
     },
     "metadata": {},
     "output_type": "display_data"
    },
    {
     "data": {
      "application/vnd.jupyter.widget-view+json": {
       "model_id": "aadf2c34660e48a2a5fd3941ed26b183",
       "version_major": 2,
       "version_minor": 0
      },
      "text/plain": [
       "fit pca on dataset 1: 0it [00:00, ?it/s]"
      ]
     },
     "metadata": {},
     "output_type": "display_data"
    },
    {
     "data": {
      "application/vnd.jupyter.widget-view+json": {
       "model_id": "88396feb5a114b1995dcee013b150bfa",
       "version_major": 2,
       "version_minor": 0
      },
      "text/plain": [
       "fit scaler on dataset 2: 0it [00:00, ?it/s]"
      ]
     },
     "metadata": {},
     "output_type": "display_data"
    },
    {
     "data": {
      "application/vnd.jupyter.widget-view+json": {
       "model_id": "f6db6d805d874d88993b6babca69037a",
       "version_major": 2,
       "version_minor": 0
      },
      "text/plain": [
       "fit pca on dataset 2: 0it [00:00, ?it/s]"
      ]
     },
     "metadata": {},
     "output_type": "display_data"
    }
   ],
   "source": [
    "for d in datasets:\n",
    "    datasets[d].shake_not_stir(random_state=SEED)\n",
    "    for data, faults, info in tqdm(datasets[d].train_generator(), desc=f'fit scaler on dataset {d}'):\n",
    "        limit_pca_watchmen[d].partial_fit_scaler(data)\n",
    "    for data, faults, info in tqdm(datasets[d].train_generator(), desc=f'fit pca on dataset {d}'):\n",
    "        limit_pca_watchmen[d].partial_fit_pca(data)        "
   ]
  },
  {
   "cell_type": "markdown",
   "id": "e7edb216",
   "metadata": {},
   "source": [
    "## SpePcaWatchman"
   ]
  },
  {
   "cell_type": "code",
   "execution_count": 10,
   "id": "0cd8bc3d",
   "metadata": {
    "ExecuteTime": {
     "end_time": "2022-08-25T09:48:02.866236Z",
     "start_time": "2022-08-25T09:48:02.852096Z"
    }
   },
   "outputs": [],
   "source": [
    "# one for every dataset\n",
    "spe_pca_watchmen = {\n",
    "    0: SpePcaWatchman(n_components=3),\n",
    "    1: SpePcaWatchman(n_components=12),\n",
    "    2: SpePcaWatchman(n_components=3),\n",
    "}"
   ]
  },
  {
   "cell_type": "code",
   "execution_count": 11,
   "id": "1ed98f89",
   "metadata": {
    "ExecuteTime": {
     "end_time": "2022-08-25T09:48:42.693152Z",
     "start_time": "2022-08-25T09:48:02.869097Z"
    }
   },
   "outputs": [
    {
     "data": {
      "application/vnd.jupyter.widget-view+json": {
       "model_id": "e4ec082d8168415bb9d71e385b8b1902",
       "version_major": 2,
       "version_minor": 0
      },
      "text/plain": [
       "fit scaler on dataset 0: 0it [00:00, ?it/s]"
      ]
     },
     "metadata": {},
     "output_type": "display_data"
    },
    {
     "data": {
      "application/vnd.jupyter.widget-view+json": {
       "model_id": "37c65c614a024ca3a3caa1928087bc99",
       "version_major": 2,
       "version_minor": 0
      },
      "text/plain": [
       "fit pca on dataset 0: 0it [00:00, ?it/s]"
      ]
     },
     "metadata": {},
     "output_type": "display_data"
    },
    {
     "data": {
      "application/vnd.jupyter.widget-view+json": {
       "model_id": "c8ac129d2e004426bbe74a0caa5a20c2",
       "version_major": 2,
       "version_minor": 0
      },
      "text/plain": [
       "fit scaler on dataset 1: 0it [00:00, ?it/s]"
      ]
     },
     "metadata": {},
     "output_type": "display_data"
    },
    {
     "data": {
      "application/vnd.jupyter.widget-view+json": {
       "model_id": "8157e2f558914f85aba8b3079511177b",
       "version_major": 2,
       "version_minor": 0
      },
      "text/plain": [
       "fit pca on dataset 1: 0it [00:00, ?it/s]"
      ]
     },
     "metadata": {},
     "output_type": "display_data"
    },
    {
     "data": {
      "application/vnd.jupyter.widget-view+json": {
       "model_id": "4f020414dbd34f53b85c26238192941e",
       "version_major": 2,
       "version_minor": 0
      },
      "text/plain": [
       "fit scaler on dataset 2: 0it [00:00, ?it/s]"
      ]
     },
     "metadata": {},
     "output_type": "display_data"
    },
    {
     "data": {
      "application/vnd.jupyter.widget-view+json": {
       "model_id": "c80a7a1302724007aab5bfc1dce1ac66",
       "version_major": 2,
       "version_minor": 0
      },
      "text/plain": [
       "fit pca on dataset 2: 0it [00:00, ?it/s]"
      ]
     },
     "metadata": {},
     "output_type": "display_data"
    }
   ],
   "source": [
    "for d in datasets:\n",
    "    datasets[d].shake_not_stir(random_state=SEED)\n",
    "    for data, _, _ in tqdm(datasets[d].train_generator(), desc=f'fit scaler on dataset {d}'):\n",
    "        spe_pca_watchmen[d].partial_fit_scaler(data)\n",
    "    for data, _, _ in tqdm(datasets[d].train_generator(), desc=f'fit pca on dataset {d}'):\n",
    "        spe_pca_watchmen[d].partial_fit_pca(data)        "
   ]
  },
  {
   "cell_type": "markdown",
   "id": "e5471847",
   "metadata": {},
   "source": [
    "## Isolating Watchman"
   ]
  },
  {
   "cell_type": "code",
   "execution_count": 12,
   "id": "55301001",
   "metadata": {
    "ExecuteTime": {
     "end_time": "2022-08-25T09:48:42.709017Z",
     "start_time": "2022-08-25T09:48:42.695024Z"
    }
   },
   "outputs": [],
   "source": [
    "# one for every dataset\n",
    "isolating_watchmen = {\n",
    "    0: IsolatingWatchman(max_samples=256),\n",
    "    1: IsolatingWatchman(max_samples=256),\n",
    "    2: IsolatingWatchman(max_samples=1024),\n",
    "}"
   ]
  },
  {
   "cell_type": "markdown",
   "id": "aa8b4956",
   "metadata": {},
   "source": [
    "## Bring them all"
   ]
  },
  {
   "cell_type": "code",
   "execution_count": 13,
   "id": "b5c900e8",
   "metadata": {
    "ExecuteTime": {
     "end_time": "2022-08-25T09:48:42.725080Z",
     "start_time": "2022-08-25T09:48:42.714023Z"
    }
   },
   "outputs": [],
   "source": [
    "watchmen = {\n",
    "    0: limit_watchmen,\n",
    "    1: limit_pca_watchmen,\n",
    "    2: spe_pca_watchmen,\n",
    "    3: isolating_watchmen,\n",
    "}"
   ]
  },
  {
   "cell_type": "markdown",
   "id": "be4104e1",
   "metadata": {},
   "source": [
    "# Learning"
   ]
  },
  {
   "cell_type": "code",
   "execution_count": 14,
   "id": "ea1f2f67",
   "metadata": {
    "ExecuteTime": {
     "end_time": "2022-08-25T09:49:18.683336Z",
     "start_time": "2022-08-25T09:48:42.728023Z"
    }
   },
   "outputs": [
    {
     "data": {
      "application/vnd.jupyter.widget-view+json": {
       "model_id": "1c66c82c8e2d48e89cb06c57ea64e68d",
       "version_major": 2,
       "version_minor": 0
      },
      "text/plain": [
       "learn dataset 0: 0it [00:00, ?it/s]"
      ]
     },
     "metadata": {},
     "output_type": "display_data"
    },
    {
     "data": {
      "application/vnd.jupyter.widget-view+json": {
       "model_id": "de2c5bea79c04df89ed8f5e00bec1717",
       "version_major": 2,
       "version_minor": 0
      },
      "text/plain": [
       "learn dataset 1: 0it [00:00, ?it/s]"
      ]
     },
     "metadata": {},
     "output_type": "display_data"
    },
    {
     "data": {
      "application/vnd.jupyter.widget-view+json": {
       "model_id": "6dc8068f79b4410abcc40b28dad32807",
       "version_major": 2,
       "version_minor": 0
      },
      "text/plain": [
       "learn dataset 2: 0it [00:00, ?it/s]"
      ]
     },
     "metadata": {},
     "output_type": "display_data"
    }
   ],
   "source": [
    "for d in datasets:\n",
    "    datasets[d].shake_not_stir(random_state=SEED)\n",
    "    for data, _, _ in tqdm(datasets[d].train_generator(), desc=f'learn dataset {d}'):\n",
    "        for w in watchmen:\n",
    "            watchmen[w][d].partial_fit(data)"
   ]
  },
  {
   "cell_type": "markdown",
   "id": "5c728a4c",
   "metadata": {},
   "source": [
    "# Examine"
   ]
  },
  {
   "cell_type": "code",
   "execution_count": 26,
   "id": "c741772e",
   "metadata": {
    "ExecuteTime": {
     "end_time": "2022-08-25T11:21:30.058219Z",
     "start_time": "2022-08-25T11:21:30.047096Z"
    }
   },
   "outputs": [],
   "source": [
    "# СДЕЛАТЬ ТАБЛИЦУ ИНАЧЕ !!"
   ]
  },
  {
   "cell_type": "code",
   "execution_count": 27,
   "id": "257c5e42",
   "metadata": {
    "ExecuteTime": {
     "end_time": "2022-08-25T11:29:33.074646Z",
     "start_time": "2022-08-25T11:29:33.054648Z"
    }
   },
   "outputs": [],
   "source": [
    "exam_index = [watchmen[w][0].__class__.__name__ for w in watchmen]\n",
    "exam_metric = ['precision', 'recall', 'f1_score']\n",
    "exam_table = {d: pd.DataFrame(index=exam_index, columns=exam_metric) for d in datasets}"
   ]
  },
  {
   "cell_type": "code",
   "execution_count": 28,
   "id": "2eeb2ed3",
   "metadata": {
    "ExecuteTime": {
     "end_time": "2022-08-25T11:29:37.207236Z",
     "start_time": "2022-08-25T11:29:33.476854Z"
    }
   },
   "outputs": [
    {
     "data": {
      "application/vnd.jupyter.widget-view+json": {
       "model_id": "c8989b3b12314475a2899b4782ad501f",
       "version_major": 2,
       "version_minor": 0
      },
      "text/plain": [
       "examine dataset 0: 0it [00:00, ?it/s]"
      ]
     },
     "metadata": {},
     "output_type": "display_data"
    },
    {
     "data": {
      "application/vnd.jupyter.widget-view+json": {
       "model_id": "325939b24ab840d4a4a12b25c11c5a88",
       "version_major": 2,
       "version_minor": 0
      },
      "text/plain": [
       "examine dataset 1: 0it [00:00, ?it/s]"
      ]
     },
     "metadata": {},
     "output_type": "display_data"
    },
    {
     "ename": "KeyboardInterrupt",
     "evalue": "",
     "output_type": "error",
     "traceback": [
      "\u001b[1;31m---------------------------------------------------------------------------\u001b[0m",
      "\u001b[1;31mKeyboardInterrupt\u001b[0m                         Traceback (most recent call last)",
      "Input \u001b[1;32mIn [28]\u001b[0m, in \u001b[0;36m<cell line: 1>\u001b[1;34m()\u001b[0m\n\u001b[0;32m      4\u001b[0m \u001b[38;5;28;01mfor\u001b[39;00m data, faults, info \u001b[38;5;129;01min\u001b[39;00m tqdm(datasets[d]\u001b[38;5;241m.\u001b[39mtest_generator(), desc\u001b[38;5;241m=\u001b[39m\u001b[38;5;124mf\u001b[39m\u001b[38;5;124m'\u001b[39m\u001b[38;5;124mexamine dataset \u001b[39m\u001b[38;5;132;01m{\u001b[39;00md\u001b[38;5;132;01m}\u001b[39;00m\u001b[38;5;124m'\u001b[39m):\n\u001b[0;32m      5\u001b[0m     \u001b[38;5;28;01mfor\u001b[39;00m w \u001b[38;5;129;01min\u001b[39;00m watchmen:\n\u001b[1;32m----> 6\u001b[0m         detect \u001b[38;5;241m=\u001b[39m \u001b[43mwatchmen\u001b[49m\u001b[43m[\u001b[49m\u001b[43mw\u001b[49m\u001b[43m]\u001b[49m\u001b[43m[\u001b[49m\u001b[43md\u001b[49m\u001b[43m]\u001b[49m\u001b[38;5;241;43m.\u001b[39;49m\u001b[43mpredict\u001b[49m\u001b[43m(\u001b[49m\u001b[43mdata\u001b[49m\u001b[43m)\u001b[49m\n\u001b[0;32m      7\u001b[0m         exam_list[w]\u001b[38;5;241m.\u001b[39mloc[info, exam_metric] \u001b[38;5;241m=\u001b[39m time_span_metrics(faults, detect)\n\u001b[0;32m      8\u001b[0m \u001b[38;5;28;01mfor\u001b[39;00m w \u001b[38;5;129;01min\u001b[39;00m watchmen:\n",
      "File \u001b[1;32m~\\Data_science\\skillfactory_rds\\module_final\\utils\\watchmen.py:220\u001b[0m, in \u001b[0;36mpredict\u001b[1;34m(self, data)\u001b[0m\n\u001b[0;32m    217\u001b[0m \u001b[38;5;28;01mdef\u001b[39;00m \u001b[38;5;21m__repr__\u001b[39m(\u001b[38;5;28mself\u001b[39m):\n\u001b[0;32m    218\u001b[0m     \u001b[38;5;28;01mreturn\u001b[39;00m \u001b[38;5;124mf\u001b[39m\u001b[38;5;124m'\u001b[39m\u001b[38;5;132;01m{\u001b[39;00m\u001b[38;5;28mself\u001b[39m\u001b[38;5;241m.\u001b[39m\u001b[38;5;18m__class__\u001b[39m\u001b[38;5;241m.\u001b[39m\u001b[38;5;18m__name__\u001b[39m\u001b[38;5;132;01m}\u001b[39;00m\u001b[38;5;124m(n_trees=\u001b[39m\u001b[38;5;132;01m{\u001b[39;00m\u001b[38;5;28mself\u001b[39m\u001b[38;5;241m.\u001b[39mforest\u001b[38;5;241m.\u001b[39mn_estimators\u001b[38;5;132;01m}\u001b[39;00m\u001b[38;5;124m)\u001b[39m\u001b[38;5;124m'\u001b[39m\n\u001b[1;32m--> 220\u001b[0m \u001b[38;5;28;01mdef\u001b[39;00m \u001b[38;5;21mpartial_fit\u001b[39m(\u001b[38;5;28mself\u001b[39m, data: pd\u001b[38;5;241m.\u001b[39mDataFrame, increment: Optional[\u001b[38;5;28mint\u001b[39m] \u001b[38;5;241m=\u001b[39m \u001b[38;5;241m1\u001b[39m) \u001b[38;5;241m-\u001b[39m\u001b[38;5;241m>\u001b[39m \u001b[38;5;28;01mNone\u001b[39;00m:\n\u001b[0;32m    221\u001b[0m     \u001b[38;5;28;01mif\u001b[39;00m increment \u001b[38;5;129;01mis\u001b[39;00m \u001b[38;5;28;01mNone\u001b[39;00m \u001b[38;5;129;01mor\u001b[39;00m increment \u001b[38;5;241m<\u001b[39m\u001b[38;5;241m=\u001b[39m \u001b[38;5;241m0\u001b[39m:\n\u001b[0;32m    222\u001b[0m         inc \u001b[38;5;241m=\u001b[39m data\u001b[38;5;241m.\u001b[39mshape[\u001b[38;5;241m0\u001b[39m] \u001b[38;5;241m/\u001b[39m\u001b[38;5;241m/\u001b[39m \u001b[38;5;28mself\u001b[39m\u001b[38;5;241m.\u001b[39mforest\u001b[38;5;241m.\u001b[39mmax_samples\n",
      "File \u001b[1;32m~\\anaconda3\\lib\\site-packages\\sklearn\\ensemble\\_iforest.py:340\u001b[0m, in \u001b[0;36mIsolationForest.predict\u001b[1;34m(self, X)\u001b[0m\n\u001b[0;32m    323\u001b[0m \u001b[38;5;124;03m\"\"\"\u001b[39;00m\n\u001b[0;32m    324\u001b[0m \u001b[38;5;124;03mPredict if a particular sample is an outlier or not.\u001b[39;00m\n\u001b[0;32m    325\u001b[0m \n\u001b[1;32m   (...)\u001b[0m\n\u001b[0;32m    337\u001b[0m \u001b[38;5;124;03m    be considered as an inlier according to the fitted model.\u001b[39;00m\n\u001b[0;32m    338\u001b[0m \u001b[38;5;124;03m\"\"\"\u001b[39;00m\n\u001b[0;32m    339\u001b[0m check_is_fitted(\u001b[38;5;28mself\u001b[39m)\n\u001b[1;32m--> 340\u001b[0m decision_func \u001b[38;5;241m=\u001b[39m \u001b[38;5;28;43mself\u001b[39;49m\u001b[38;5;241;43m.\u001b[39;49m\u001b[43mdecision_function\u001b[49m\u001b[43m(\u001b[49m\u001b[43mX\u001b[49m\u001b[43m)\u001b[49m\n\u001b[0;32m    341\u001b[0m is_inlier \u001b[38;5;241m=\u001b[39m np\u001b[38;5;241m.\u001b[39mones_like(decision_func, dtype\u001b[38;5;241m=\u001b[39m\u001b[38;5;28mint\u001b[39m)\n\u001b[0;32m    342\u001b[0m is_inlier[decision_func \u001b[38;5;241m<\u001b[39m \u001b[38;5;241m0\u001b[39m] \u001b[38;5;241m=\u001b[39m \u001b[38;5;241m-\u001b[39m\u001b[38;5;241m1\u001b[39m\n",
      "File \u001b[1;32m~\\anaconda3\\lib\\site-packages\\sklearn\\ensemble\\_iforest.py:375\u001b[0m, in \u001b[0;36mIsolationForest.decision_function\u001b[1;34m(self, X)\u001b[0m\n\u001b[0;32m    346\u001b[0m \u001b[38;5;124;03m\"\"\"\u001b[39;00m\n\u001b[0;32m    347\u001b[0m \u001b[38;5;124;03mAverage anomaly score of X of the base classifiers.\u001b[39;00m\n\u001b[0;32m    348\u001b[0m \n\u001b[1;32m   (...)\u001b[0m\n\u001b[0;32m    370\u001b[0m \u001b[38;5;124;03m    positive scores represent inliers.\u001b[39;00m\n\u001b[0;32m    371\u001b[0m \u001b[38;5;124;03m\"\"\"\u001b[39;00m\n\u001b[0;32m    372\u001b[0m \u001b[38;5;66;03m# We subtract self.offset_ to make 0 be the threshold value for being\u001b[39;00m\n\u001b[0;32m    373\u001b[0m \u001b[38;5;66;03m# an outlier:\u001b[39;00m\n\u001b[1;32m--> 375\u001b[0m \u001b[38;5;28;01mreturn\u001b[39;00m \u001b[38;5;28;43mself\u001b[39;49m\u001b[38;5;241;43m.\u001b[39;49m\u001b[43mscore_samples\u001b[49m\u001b[43m(\u001b[49m\u001b[43mX\u001b[49m\u001b[43m)\u001b[49m \u001b[38;5;241m-\u001b[39m \u001b[38;5;28mself\u001b[39m\u001b[38;5;241m.\u001b[39moffset_\n",
      "File \u001b[1;32m~\\anaconda3\\lib\\site-packages\\sklearn\\ensemble\\_iforest.py:410\u001b[0m, in \u001b[0;36mIsolationForest.score_samples\u001b[1;34m(self, X)\u001b[0m\n\u001b[0;32m    406\u001b[0m X \u001b[38;5;241m=\u001b[39m \u001b[38;5;28mself\u001b[39m\u001b[38;5;241m.\u001b[39m_validate_data(X, accept_sparse\u001b[38;5;241m=\u001b[39m\u001b[38;5;124m\"\u001b[39m\u001b[38;5;124mcsr\u001b[39m\u001b[38;5;124m\"\u001b[39m, reset\u001b[38;5;241m=\u001b[39m\u001b[38;5;28;01mFalse\u001b[39;00m)\n\u001b[0;32m    408\u001b[0m \u001b[38;5;66;03m# Take the opposite of the scores as bigger is better (here less\u001b[39;00m\n\u001b[0;32m    409\u001b[0m \u001b[38;5;66;03m# abnormal)\u001b[39;00m\n\u001b[1;32m--> 410\u001b[0m \u001b[38;5;28;01mreturn\u001b[39;00m \u001b[38;5;241m-\u001b[39m\u001b[38;5;28;43mself\u001b[39;49m\u001b[38;5;241;43m.\u001b[39;49m\u001b[43m_compute_chunked_score_samples\u001b[49m\u001b[43m(\u001b[49m\u001b[43mX\u001b[49m\u001b[43m)\u001b[49m\n",
      "File \u001b[1;32m~\\anaconda3\\lib\\site-packages\\sklearn\\ensemble\\_iforest.py:441\u001b[0m, in \u001b[0;36mIsolationForest._compute_chunked_score_samples\u001b[1;34m(self, X)\u001b[0m\n\u001b[0;32m    437\u001b[0m scores \u001b[38;5;241m=\u001b[39m np\u001b[38;5;241m.\u001b[39mzeros(n_samples, order\u001b[38;5;241m=\u001b[39m\u001b[38;5;124m\"\u001b[39m\u001b[38;5;124mf\u001b[39m\u001b[38;5;124m\"\u001b[39m)\n\u001b[0;32m    439\u001b[0m \u001b[38;5;28;01mfor\u001b[39;00m sl \u001b[38;5;129;01min\u001b[39;00m slices:\n\u001b[0;32m    440\u001b[0m     \u001b[38;5;66;03m# compute score on the slices of test samples:\u001b[39;00m\n\u001b[1;32m--> 441\u001b[0m     scores[sl] \u001b[38;5;241m=\u001b[39m \u001b[38;5;28;43mself\u001b[39;49m\u001b[38;5;241;43m.\u001b[39;49m\u001b[43m_compute_score_samples\u001b[49m\u001b[43m(\u001b[49m\u001b[43mX\u001b[49m\u001b[43m[\u001b[49m\u001b[43msl\u001b[49m\u001b[43m]\u001b[49m\u001b[43m,\u001b[49m\u001b[43m \u001b[49m\u001b[43msubsample_features\u001b[49m\u001b[43m)\u001b[49m\n\u001b[0;32m    443\u001b[0m \u001b[38;5;28;01mreturn\u001b[39;00m scores\n",
      "File \u001b[1;32m~\\anaconda3\\lib\\site-packages\\sklearn\\ensemble\\_iforest.py:470\u001b[0m, in \u001b[0;36mIsolationForest._compute_score_samples\u001b[1;34m(self, X, subsample_features)\u001b[0m\n\u001b[0;32m    465\u001b[0m     node_indicator \u001b[38;5;241m=\u001b[39m tree\u001b[38;5;241m.\u001b[39mdecision_path(X_subset)\n\u001b[0;32m    466\u001b[0m     n_samples_leaf \u001b[38;5;241m=\u001b[39m tree\u001b[38;5;241m.\u001b[39mtree_\u001b[38;5;241m.\u001b[39mn_node_samples[leaves_index]\n\u001b[0;32m    468\u001b[0m     depths \u001b[38;5;241m+\u001b[39m\u001b[38;5;241m=\u001b[39m (\n\u001b[0;32m    469\u001b[0m         np\u001b[38;5;241m.\u001b[39mravel(node_indicator\u001b[38;5;241m.\u001b[39msum(axis\u001b[38;5;241m=\u001b[39m\u001b[38;5;241m1\u001b[39m))\n\u001b[1;32m--> 470\u001b[0m         \u001b[38;5;241m+\u001b[39m \u001b[43m_average_path_length\u001b[49m\u001b[43m(\u001b[49m\u001b[43mn_samples_leaf\u001b[49m\u001b[43m)\u001b[49m\n\u001b[0;32m    471\u001b[0m         \u001b[38;5;241m-\u001b[39m \u001b[38;5;241m1.0\u001b[39m\n\u001b[0;32m    472\u001b[0m     )\n\u001b[0;32m    473\u001b[0m denominator \u001b[38;5;241m=\u001b[39m \u001b[38;5;28mlen\u001b[39m(\u001b[38;5;28mself\u001b[39m\u001b[38;5;241m.\u001b[39mestimators_) \u001b[38;5;241m*\u001b[39m _average_path_length([\u001b[38;5;28mself\u001b[39m\u001b[38;5;241m.\u001b[39mmax_samples_])\n\u001b[0;32m    474\u001b[0m scores \u001b[38;5;241m=\u001b[39m \u001b[38;5;241m2\u001b[39m \u001b[38;5;241m*\u001b[39m\u001b[38;5;241m*\u001b[39m (\n\u001b[0;32m    475\u001b[0m     \u001b[38;5;66;03m# For a single training sample, denominator and depth are 0.\u001b[39;00m\n\u001b[0;32m    476\u001b[0m     \u001b[38;5;66;03m# Therefore, we set the score manually to 1.\u001b[39;00m\n\u001b[1;32m   (...)\u001b[0m\n\u001b[0;32m    479\u001b[0m     )\n\u001b[0;32m    480\u001b[0m )\n",
      "File \u001b[1;32m~\\anaconda3\\lib\\site-packages\\sklearn\\ensemble\\_iforest.py:522\u001b[0m, in \u001b[0;36m_average_path_length\u001b[1;34m(n_samples_leaf)\u001b[0m\n\u001b[0;32m    519\u001b[0m average_path_length[mask_1] \u001b[38;5;241m=\u001b[39m \u001b[38;5;241m0.0\u001b[39m\n\u001b[0;32m    520\u001b[0m average_path_length[mask_2] \u001b[38;5;241m=\u001b[39m \u001b[38;5;241m1.0\u001b[39m\n\u001b[0;32m    521\u001b[0m average_path_length[not_mask] \u001b[38;5;241m=\u001b[39m (\n\u001b[1;32m--> 522\u001b[0m     \u001b[38;5;241m2.0\u001b[39m \u001b[38;5;241m*\u001b[39m (np\u001b[38;5;241m.\u001b[39mlog(\u001b[43mn_samples_leaf\u001b[49m\u001b[43m[\u001b[49m\u001b[43mnot_mask\u001b[49m\u001b[43m]\u001b[49m\u001b[43m \u001b[49m\u001b[38;5;241;43m-\u001b[39;49m\u001b[43m \u001b[49m\u001b[38;5;241;43m1.0\u001b[39;49m) \u001b[38;5;241m+\u001b[39m np\u001b[38;5;241m.\u001b[39meuler_gamma)\n\u001b[0;32m    523\u001b[0m     \u001b[38;5;241m-\u001b[39m \u001b[38;5;241m2.0\u001b[39m \u001b[38;5;241m*\u001b[39m (n_samples_leaf[not_mask] \u001b[38;5;241m-\u001b[39m \u001b[38;5;241m1.0\u001b[39m) \u001b[38;5;241m/\u001b[39m n_samples_leaf[not_mask]\n\u001b[0;32m    524\u001b[0m )\n\u001b[0;32m    526\u001b[0m \u001b[38;5;28;01mreturn\u001b[39;00m average_path_length\u001b[38;5;241m.\u001b[39mreshape(n_samples_leaf_shape)\n",
      "\u001b[1;31mKeyboardInterrupt\u001b[0m: "
     ]
    }
   ],
   "source": [
    "for d in datasets:\n",
    "    datasets[d].shake_not_stir(random_state=SEED)\n",
    "    exam_list = {w: pd.DataFrame(columns=['precision', 'recall', 'f1_score'], dtype='float') for w in watchmen}\n",
    "    for data, faults, info in tqdm(datasets[d].test_generator(), desc=f'examine dataset {d}'):\n",
    "        for w in watchmen:\n",
    "            detect = watchmen[w][d].predict(data)\n",
    "            exam_list[w].loc[info, exam_metric] = time_span_metrics(faults, detect)\n",
    "    for w in watchmen:\n",
    "        exam_table[d].loc[exam_index[w], exam_metric] = exam_list[w][exam_metric].mean()"
   ]
  },
  {
   "cell_type": "code",
   "execution_count": 29,
   "id": "4e04072b",
   "metadata": {
    "ExecuteTime": {
     "end_time": "2022-08-25T11:29:38.791575Z",
     "start_time": "2022-08-25T11:29:38.754419Z"
    }
   },
   "outputs": [
    {
     "name": "stdout",
     "output_type": "stream",
     "text": [
      "GhlKasperskyDataset(E:\\Datasets\\GHL)\n"
     ]
    },
    {
     "data": {
      "text/html": [
       "<div>\n",
       "<style scoped>\n",
       "    .dataframe tbody tr th:only-of-type {\n",
       "        vertical-align: middle;\n",
       "    }\n",
       "\n",
       "    .dataframe tbody tr th {\n",
       "        vertical-align: top;\n",
       "    }\n",
       "\n",
       "    .dataframe thead th {\n",
       "        text-align: right;\n",
       "    }\n",
       "</style>\n",
       "<table border=\"1\" class=\"dataframe\">\n",
       "  <thead>\n",
       "    <tr style=\"text-align: right;\">\n",
       "      <th></th>\n",
       "      <th>precision</th>\n",
       "      <th>recall</th>\n",
       "      <th>f1_score</th>\n",
       "    </tr>\n",
       "  </thead>\n",
       "  <tbody>\n",
       "    <tr>\n",
       "      <th>LimitWatchman</th>\n",
       "      <td>0.32572</td>\n",
       "      <td>0.643899</td>\n",
       "      <td>0.378634</td>\n",
       "    </tr>\n",
       "    <tr>\n",
       "      <th>LimitPcaWatchman</th>\n",
       "      <td>0.429861</td>\n",
       "      <td>0.38745</td>\n",
       "      <td>0.3959</td>\n",
       "    </tr>\n",
       "    <tr>\n",
       "      <th>SpePcaWatchman</th>\n",
       "      <td>0.35</td>\n",
       "      <td>0.034722</td>\n",
       "      <td>0.046528</td>\n",
       "    </tr>\n",
       "    <tr>\n",
       "      <th>IsolatingWatchman</th>\n",
       "      <td>0.013832</td>\n",
       "      <td>1.0</td>\n",
       "      <td>0.0272</td>\n",
       "    </tr>\n",
       "  </tbody>\n",
       "</table>\n",
       "</div>"
      ],
      "text/plain": [
       "                  precision    recall  f1_score\n",
       "LimitWatchman       0.32572  0.643899  0.378634\n",
       "LimitPcaWatchman   0.429861   0.38745    0.3959\n",
       "SpePcaWatchman         0.35  0.034722  0.046528\n",
       "IsolatingWatchman  0.013832       1.0    0.0272"
      ]
     },
     "metadata": {},
     "output_type": "display_data"
    },
    {
     "name": "stdout",
     "output_type": "stream",
     "text": [
      "\n",
      "TepHarvardDataset(E:\\Datasets\\TEP\\dataverse)\n"
     ]
    },
    {
     "data": {
      "text/html": [
       "<div>\n",
       "<style scoped>\n",
       "    .dataframe tbody tr th:only-of-type {\n",
       "        vertical-align: middle;\n",
       "    }\n",
       "\n",
       "    .dataframe tbody tr th {\n",
       "        vertical-align: top;\n",
       "    }\n",
       "\n",
       "    .dataframe thead th {\n",
       "        text-align: right;\n",
       "    }\n",
       "</style>\n",
       "<table border=\"1\" class=\"dataframe\">\n",
       "  <thead>\n",
       "    <tr style=\"text-align: right;\">\n",
       "      <th></th>\n",
       "      <th>precision</th>\n",
       "      <th>recall</th>\n",
       "      <th>f1_score</th>\n",
       "    </tr>\n",
       "  </thead>\n",
       "  <tbody>\n",
       "    <tr>\n",
       "      <th>LimitWatchman</th>\n",
       "      <td>NaN</td>\n",
       "      <td>NaN</td>\n",
       "      <td>NaN</td>\n",
       "    </tr>\n",
       "    <tr>\n",
       "      <th>LimitPcaWatchman</th>\n",
       "      <td>NaN</td>\n",
       "      <td>NaN</td>\n",
       "      <td>NaN</td>\n",
       "    </tr>\n",
       "    <tr>\n",
       "      <th>SpePcaWatchman</th>\n",
       "      <td>NaN</td>\n",
       "      <td>NaN</td>\n",
       "      <td>NaN</td>\n",
       "    </tr>\n",
       "    <tr>\n",
       "      <th>IsolatingWatchman</th>\n",
       "      <td>NaN</td>\n",
       "      <td>NaN</td>\n",
       "      <td>NaN</td>\n",
       "    </tr>\n",
       "  </tbody>\n",
       "</table>\n",
       "</div>"
      ],
      "text/plain": [
       "                  precision recall f1_score\n",
       "LimitWatchman           NaN    NaN      NaN\n",
       "LimitPcaWatchman        NaN    NaN      NaN\n",
       "SpePcaWatchman          NaN    NaN      NaN\n",
       "IsolatingWatchman       NaN    NaN      NaN"
      ]
     },
     "metadata": {},
     "output_type": "display_data"
    },
    {
     "name": "stdout",
     "output_type": "stream",
     "text": [
      "\n",
      "TepKasperskyDataset(E:\\Datasets\\TEP\\kaspersky)\n"
     ]
    },
    {
     "data": {
      "text/html": [
       "<div>\n",
       "<style scoped>\n",
       "    .dataframe tbody tr th:only-of-type {\n",
       "        vertical-align: middle;\n",
       "    }\n",
       "\n",
       "    .dataframe tbody tr th {\n",
       "        vertical-align: top;\n",
       "    }\n",
       "\n",
       "    .dataframe thead th {\n",
       "        text-align: right;\n",
       "    }\n",
       "</style>\n",
       "<table border=\"1\" class=\"dataframe\">\n",
       "  <thead>\n",
       "    <tr style=\"text-align: right;\">\n",
       "      <th></th>\n",
       "      <th>precision</th>\n",
       "      <th>recall</th>\n",
       "      <th>f1_score</th>\n",
       "    </tr>\n",
       "  </thead>\n",
       "  <tbody>\n",
       "    <tr>\n",
       "      <th>LimitWatchman</th>\n",
       "      <td>NaN</td>\n",
       "      <td>NaN</td>\n",
       "      <td>NaN</td>\n",
       "    </tr>\n",
       "    <tr>\n",
       "      <th>LimitPcaWatchman</th>\n",
       "      <td>NaN</td>\n",
       "      <td>NaN</td>\n",
       "      <td>NaN</td>\n",
       "    </tr>\n",
       "    <tr>\n",
       "      <th>SpePcaWatchman</th>\n",
       "      <td>NaN</td>\n",
       "      <td>NaN</td>\n",
       "      <td>NaN</td>\n",
       "    </tr>\n",
       "    <tr>\n",
       "      <th>IsolatingWatchman</th>\n",
       "      <td>NaN</td>\n",
       "      <td>NaN</td>\n",
       "      <td>NaN</td>\n",
       "    </tr>\n",
       "  </tbody>\n",
       "</table>\n",
       "</div>"
      ],
      "text/plain": [
       "                  precision recall f1_score\n",
       "LimitWatchman           NaN    NaN      NaN\n",
       "LimitPcaWatchman        NaN    NaN      NaN\n",
       "SpePcaWatchman          NaN    NaN      NaN\n",
       "IsolatingWatchman       NaN    NaN      NaN"
      ]
     },
     "metadata": {},
     "output_type": "display_data"
    },
    {
     "name": "stdout",
     "output_type": "stream",
     "text": [
      "\n"
     ]
    }
   ],
   "source": [
    "for d in datasets:\n",
    "    print(datasets[d])\n",
    "    display(exam_table[d])\n",
    "    print()"
   ]
  },
  {
   "cell_type": "code",
   "execution_count": null,
   "id": "9ae4ec68",
   "metadata": {},
   "outputs": [],
   "source": []
  }
 ],
 "metadata": {
  "kernelspec": {
   "display_name": "Python 3 (ipykernel)",
   "language": "python",
   "name": "python3"
  },
  "language_info": {
   "codemirror_mode": {
    "name": "ipython",
    "version": 3
   },
   "file_extension": ".py",
   "mimetype": "text/x-python",
   "name": "python",
   "nbconvert_exporter": "python",
   "pygments_lexer": "ipython3",
   "version": "3.8.8"
  },
  "toc": {
   "base_numbering": 1,
   "nav_menu": {},
   "number_sections": true,
   "sideBar": true,
   "skip_h1_title": false,
   "title_cell": "Table of Contents",
   "title_sidebar": "Contents",
   "toc_cell": false,
   "toc_position": {
    "height": "calc(100% - 180px)",
    "left": "10px",
    "top": "150px",
    "width": "307.2px"
   },
   "toc_section_display": true,
   "toc_window_display": true
  }
 },
 "nbformat": 4,
 "nbformat_minor": 5
}
