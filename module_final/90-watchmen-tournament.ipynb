{
 "cells": [
  {
   "cell_type": "code",
   "execution_count": 1,
   "id": "e99e3524",
   "metadata": {
    "ExecuteTime": {
     "end_time": "2022-08-19T12:58:15.996644Z",
     "start_time": "2022-08-19T12:58:15.952573Z"
    }
   },
   "outputs": [],
   "source": [
    "!del /Q utils\\__pycache__"
   ]
  },
  {
   "cell_type": "code",
   "execution_count": 2,
   "id": "05868259",
   "metadata": {
    "ExecuteTime": {
     "end_time": "2022-08-19T12:58:16.854270Z",
     "start_time": "2022-08-19T12:58:15.998583Z"
    }
   },
   "outputs": [],
   "source": [
    "import pandas as pd\n",
    "from tqdm.notebook import tqdm"
   ]
  },
  {
   "cell_type": "code",
   "execution_count": 3,
   "id": "ce511bf9",
   "metadata": {
    "ExecuteTime": {
     "end_time": "2022-08-19T12:58:16.885280Z",
     "start_time": "2022-08-19T12:58:16.856217Z"
    }
   },
   "outputs": [],
   "source": [
    "from adtk.metrics import precision, recall, f1_score"
   ]
  },
  {
   "cell_type": "code",
   "execution_count": 4,
   "id": "b77f3767",
   "metadata": {
    "ExecuteTime": {
     "end_time": "2022-08-19T12:58:17.696409Z",
     "start_time": "2022-08-19T12:58:16.888236Z"
    }
   },
   "outputs": [],
   "source": [
    "from utils.datasets import GhlKasperskyDataset, TepHarvardDataset\n",
    "from utils.watchmen import LimitWatchman, LimitPcaWatchman, SpePcaWatchman\n",
    "from utils.custom_plots import plot_stacked"
   ]
  },
  {
   "cell_type": "markdown",
   "id": "5d8e3f5b",
   "metadata": {
    "ExecuteTime": {
     "end_time": "2022-08-19T10:07:19.598656Z",
     "start_time": "2022-08-19T10:07:18.676895Z"
    }
   },
   "source": [
    "# Preparing datasets"
   ]
  },
  {
   "cell_type": "markdown",
   "id": "0302aaab",
   "metadata": {},
   "source": [
    "## GHL"
   ]
  },
  {
   "cell_type": "code",
   "execution_count": 5,
   "id": "6d5768d1",
   "metadata": {
    "ExecuteTime": {
     "end_time": "2022-08-19T12:58:17.727427Z",
     "start_time": "2022-08-19T12:58:17.698350Z"
    }
   },
   "outputs": [
    {
     "data": {
      "text/plain": [
       "GhlKasperskyDataset(E:\\Datasets\\GHL)"
      ]
     },
     "execution_count": 5,
     "metadata": {},
     "output_type": "execute_result"
    }
   ],
   "source": [
    "ghl = GhlKasperskyDataset()\n",
    "ghl"
   ]
  },
  {
   "cell_type": "markdown",
   "id": "c439d022",
   "metadata": {},
   "source": [
    "## TEP Harvard"
   ]
  },
  {
   "cell_type": "code",
   "execution_count": 6,
   "id": "1b6c6b21",
   "metadata": {
    "ExecuteTime": {
     "end_time": "2022-08-19T12:58:17.742753Z",
     "start_time": "2022-08-19T12:58:17.729350Z"
    }
   },
   "outputs": [
    {
     "data": {
      "text/plain": [
       "TepHarvardDataset(E:\\Datasets\\TEP\\dataverse)"
      ]
     },
     "execution_count": 6,
     "metadata": {},
     "output_type": "execute_result"
    }
   ],
   "source": [
    "tep1 = TepHarvardDataset()\n",
    "tep1"
   ]
  },
  {
   "cell_type": "markdown",
   "id": "b5a276d5",
   "metadata": {},
   "source": [
    "## Bring them all"
   ]
  },
  {
   "cell_type": "code",
   "execution_count": 7,
   "id": "b1061323",
   "metadata": {
    "ExecuteTime": {
     "end_time": "2022-08-19T12:58:17.758557Z",
     "start_time": "2022-08-19T12:58:17.745522Z"
    }
   },
   "outputs": [],
   "source": [
    "datasets = {\n",
    "    0: ghl,\n",
    "    1: tep1,\n",
    "}"
   ]
  },
  {
   "cell_type": "markdown",
   "id": "a3fa8a25",
   "metadata": {},
   "source": [
    "# Preparing watchmen"
   ]
  },
  {
   "cell_type": "markdown",
   "id": "998d1318",
   "metadata": {},
   "source": [
    "## LimitWatchman"
   ]
  },
  {
   "cell_type": "code",
   "execution_count": 8,
   "id": "8081c7e6",
   "metadata": {
    "ExecuteTime": {
     "end_time": "2022-08-19T12:58:17.774522Z",
     "start_time": "2022-08-19T12:58:17.762524Z"
    }
   },
   "outputs": [],
   "source": [
    "# using datasets keys\n",
    "limit_watchmen = {\n",
    "    0: LimitWatchman(),\n",
    "    1: LimitWatchman(ewma='3 min'),\n",
    "}"
   ]
  },
  {
   "cell_type": "markdown",
   "id": "88f1f709",
   "metadata": {},
   "source": [
    "## LimitPcaWatchman"
   ]
  },
  {
   "cell_type": "code",
   "execution_count": 9,
   "id": "24a9e094",
   "metadata": {
    "ExecuteTime": {
     "end_time": "2022-08-19T12:58:17.789342Z",
     "start_time": "2022-08-19T12:58:17.777523Z"
    }
   },
   "outputs": [],
   "source": [
    "# using datasets keys\n",
    "limit_pca_watchmen = {\n",
    "    0: LimitPcaWatchman(n_components=1),\n",
    "    1: LimitPcaWatchman(n_components=12),\n",
    "}"
   ]
  },
  {
   "cell_type": "code",
   "execution_count": 10,
   "id": "63818c28",
   "metadata": {
    "ExecuteTime": {
     "end_time": "2022-08-19T12:58:34.291779Z",
     "start_time": "2022-08-19T12:58:17.792526Z"
    }
   },
   "outputs": [
    {
     "data": {
      "application/vnd.jupyter.widget-view+json": {
       "model_id": "9c68b9320e8e489f89ea27a3782fd9be",
       "version_major": 2,
       "version_minor": 0
      },
      "text/plain": [
       "fit scaler on dataset 0: 0it [00:00, ?it/s]"
      ]
     },
     "metadata": {},
     "output_type": "display_data"
    },
    {
     "data": {
      "application/vnd.jupyter.widget-view+json": {
       "model_id": "4b39ef81df9145eebbdb1ba6504910b6",
       "version_major": 2,
       "version_minor": 0
      },
      "text/plain": [
       "fit pca on dataset 0: 0it [00:00, ?it/s]"
      ]
     },
     "metadata": {},
     "output_type": "display_data"
    },
    {
     "data": {
      "application/vnd.jupyter.widget-view+json": {
       "model_id": "64e29d034e754caa8b0aba6c119bd4f3",
       "version_major": 2,
       "version_minor": 0
      },
      "text/plain": [
       "fit scaler on dataset 1: 0it [00:00, ?it/s]"
      ]
     },
     "metadata": {},
     "output_type": "display_data"
    },
    {
     "data": {
      "application/vnd.jupyter.widget-view+json": {
       "model_id": "c78a2f306f4c44619955c0a524b3b276",
       "version_major": 2,
       "version_minor": 0
      },
      "text/plain": [
       "fit pca on dataset 1: 0it [00:00, ?it/s]"
      ]
     },
     "metadata": {},
     "output_type": "display_data"
    }
   ],
   "source": [
    "for d in datasets:\n",
    "    datasets[d].shake_not_stir()\n",
    "    for data, faults, info in tqdm(datasets[d].train_generator(), desc=f'fit scaler on dataset {d}'):\n",
    "        limit_pca_watchmen[d].partial_fit_scaler(data)\n",
    "    for data, faults, info in tqdm(datasets[d].train_generator(), desc=f'fit pca on dataset {d}'):\n",
    "        limit_pca_watchmen[d].partial_fit_pca(data)        "
   ]
  },
  {
   "cell_type": "markdown",
   "id": "b9a16274",
   "metadata": {},
   "source": [
    "## SpePcaWatchman"
   ]
  },
  {
   "cell_type": "code",
   "execution_count": 11,
   "id": "8b4e7a46",
   "metadata": {
    "ExecuteTime": {
     "end_time": "2022-08-19T12:58:34.307777Z",
     "start_time": "2022-08-19T12:58:34.294712Z"
    }
   },
   "outputs": [],
   "source": [
    "# using datasets keys\n",
    "spe_pca_watchmen = {\n",
    "    0: SpePcaWatchman(n_components=1),\n",
    "    1: SpePcaWatchman(n_components=12),\n",
    "}"
   ]
  },
  {
   "cell_type": "code",
   "execution_count": 12,
   "id": "6bf5d889",
   "metadata": {
    "ExecuteTime": {
     "end_time": "2022-08-19T12:58:50.034874Z",
     "start_time": "2022-08-19T12:58:34.310713Z"
    }
   },
   "outputs": [
    {
     "data": {
      "application/vnd.jupyter.widget-view+json": {
       "model_id": "9a10edd0d44546b2a89758f0d4fb4228",
       "version_major": 2,
       "version_minor": 0
      },
      "text/plain": [
       "fit scaler on dataset 0: 0it [00:00, ?it/s]"
      ]
     },
     "metadata": {},
     "output_type": "display_data"
    },
    {
     "data": {
      "application/vnd.jupyter.widget-view+json": {
       "model_id": "1d0cbdfe13274087a240f09acec4b4ae",
       "version_major": 2,
       "version_minor": 0
      },
      "text/plain": [
       "fit pca on dataset 0: 0it [00:00, ?it/s]"
      ]
     },
     "metadata": {},
     "output_type": "display_data"
    },
    {
     "data": {
      "application/vnd.jupyter.widget-view+json": {
       "model_id": "7e2590b97bef405d8c829378d1210360",
       "version_major": 2,
       "version_minor": 0
      },
      "text/plain": [
       "fit scaler on dataset 1: 0it [00:00, ?it/s]"
      ]
     },
     "metadata": {},
     "output_type": "display_data"
    },
    {
     "data": {
      "application/vnd.jupyter.widget-view+json": {
       "model_id": "772c766823ae4910b2cfeae7d070d494",
       "version_major": 2,
       "version_minor": 0
      },
      "text/plain": [
       "fit pca on dataset 1: 0it [00:00, ?it/s]"
      ]
     },
     "metadata": {},
     "output_type": "display_data"
    }
   ],
   "source": [
    "for d in datasets:\n",
    "    datasets[d].shake_not_stir()\n",
    "    for data, _, _ in tqdm(datasets[d].train_generator(), desc=f'fit scaler on dataset {d}'):\n",
    "        spe_pca_watchmen[d].partial_fit_scaler(data)\n",
    "    for data, _, _ in tqdm(datasets[d].train_generator(), desc=f'fit pca on dataset {d}'):\n",
    "        spe_pca_watchmen[d].partial_fit_pca(data)        "
   ]
  },
  {
   "cell_type": "markdown",
   "id": "2132c2a7",
   "metadata": {},
   "source": [
    "## Bring them all"
   ]
  },
  {
   "cell_type": "code",
   "execution_count": 13,
   "id": "da5e9c76",
   "metadata": {
    "ExecuteTime": {
     "end_time": "2022-08-19T12:58:50.049903Z",
     "start_time": "2022-08-19T12:58:50.037833Z"
    }
   },
   "outputs": [],
   "source": [
    "watchmen = {\n",
    "    0: limit_watchmen,\n",
    "    1: limit_pca_watchmen,\n",
    "    2: spe_pca_watchmen,\n",
    "}"
   ]
  },
  {
   "cell_type": "markdown",
   "id": "6b59c12c",
   "metadata": {},
   "source": [
    "# Learning"
   ]
  },
  {
   "cell_type": "code",
   "execution_count": 14,
   "id": "bb6f810b",
   "metadata": {
    "ExecuteTime": {
     "end_time": "2022-08-19T12:59:03.922513Z",
     "start_time": "2022-08-19T12:58:50.052813Z"
    }
   },
   "outputs": [
    {
     "data": {
      "application/vnd.jupyter.widget-view+json": {
       "model_id": "af3011df0dab415d953e48780ee9e4a6",
       "version_major": 2,
       "version_minor": 0
      },
      "text/plain": [
       "learn dataset 0: 0it [00:00, ?it/s]"
      ]
     },
     "metadata": {},
     "output_type": "display_data"
    },
    {
     "data": {
      "application/vnd.jupyter.widget-view+json": {
       "model_id": "a896af390a454ac5b2cdd24348347b08",
       "version_major": 2,
       "version_minor": 0
      },
      "text/plain": [
       "learn dataset 1: 0it [00:00, ?it/s]"
      ]
     },
     "metadata": {},
     "output_type": "display_data"
    }
   ],
   "source": [
    "for d in datasets:\n",
    "    datasets[d].shake_not_stir()\n",
    "    for data, _, _ in tqdm(datasets[d].train_generator(), desc=f'learn dataset {d}'):\n",
    "        for w in watchmen:\n",
    "            watchmen[w][d].learn(data)"
   ]
  },
  {
   "cell_type": "markdown",
   "id": "4a58610a",
   "metadata": {},
   "source": [
    "# Examine"
   ]
  },
  {
   "cell_type": "code",
   "execution_count": 15,
   "id": "4cd0de73",
   "metadata": {
    "ExecuteTime": {
     "end_time": "2022-08-19T12:59:03.938692Z",
     "start_time": "2022-08-19T12:59:03.925524Z"
    }
   },
   "outputs": [],
   "source": [
    "exam_index = [watchmen[w][0].__class__.__name__ for w in watchmen]\n",
    "exam_metric = ['precision', 'recall', 'f1_score']\n",
    "exam_table = {d: pd.DataFrame(index=exam_index, columns=exam_metric) for d in datasets}"
   ]
  },
  {
   "cell_type": "code",
   "execution_count": 16,
   "id": "1507e048",
   "metadata": {
    "ExecuteTime": {
     "end_time": "2022-08-19T13:00:02.581142Z",
     "start_time": "2022-08-19T12:59:03.941538Z"
    }
   },
   "outputs": [
    {
     "data": {
      "application/vnd.jupyter.widget-view+json": {
       "model_id": "08ff23e136014160a3659a13d19375f7",
       "version_major": 2,
       "version_minor": 0
      },
      "text/plain": [
       "examine dataset 0: 0it [00:00, ?it/s]"
      ]
     },
     "metadata": {},
     "output_type": "display_data"
    },
    {
     "data": {
      "application/vnd.jupyter.widget-view+json": {
       "model_id": "7ca9fb09698b487aa46827789a0dbee6",
       "version_major": 2,
       "version_minor": 0
      },
      "text/plain": [
       "examine dataset 1: 0it [00:00, ?it/s]"
      ]
     },
     "metadata": {},
     "output_type": "display_data"
    }
   ],
   "source": [
    "for d in datasets:\n",
    "    datasets[d].shake_not_stir()\n",
    "    exam_list = {w: pd.DataFrame(columns=['precision', 'recall', 'f1_score'], dtype='float') for w in watchmen}\n",
    "    for data, faults, info in tqdm(datasets[d].test_generator(), desc=f'examine dataset {d}'):\n",
    "        for w in watchmen:\n",
    "            detect = watchmen[w][d].examine(data) # dataframe or series\n",
    "            if isinstance(detect, pd.DataFrame):\n",
    "                detect = detect.sum(axis=1) # dataframe to series\n",
    "            exam_list[w].loc[info, 'precision'] = precision(faults, detect)\n",
    "            exam_list[w].loc[info, 'recall'] = recall(faults, detect)\n",
    "            exam_list[w].loc[info, 'f1_score'] = f1_score(faults, detect)\n",
    "    for w in watchmen:\n",
    "        exam_table[d].loc[exam_index[w], 'precision'] = exam_list[w]['precision'].mean()\n",
    "        exam_table[d].loc[exam_index[w], 'recall'] = exam_list[w]['recall'].mean()\n",
    "        exam_table[d].loc[exam_index[w], 'f1_score'] = exam_list[w]['f1_score'].mean()"
   ]
  },
  {
   "cell_type": "code",
   "execution_count": 18,
   "id": "de469f12",
   "metadata": {
    "ExecuteTime": {
     "end_time": "2022-08-19T13:01:20.976242Z",
     "start_time": "2022-08-19T13:01:20.939239Z"
    }
   },
   "outputs": [
    {
     "name": "stdout",
     "output_type": "stream",
     "text": [
      "GhlKasperskyDataset(E:\\Datasets\\GHL)\n"
     ]
    },
    {
     "data": {
      "text/html": [
       "<div>\n",
       "<style scoped>\n",
       "    .dataframe tbody tr th:only-of-type {\n",
       "        vertical-align: middle;\n",
       "    }\n",
       "\n",
       "    .dataframe tbody tr th {\n",
       "        vertical-align: top;\n",
       "    }\n",
       "\n",
       "    .dataframe thead th {\n",
       "        text-align: right;\n",
       "    }\n",
       "</style>\n",
       "<table border=\"1\" class=\"dataframe\">\n",
       "  <thead>\n",
       "    <tr style=\"text-align: right;\">\n",
       "      <th></th>\n",
       "      <th>precision</th>\n",
       "      <th>recall</th>\n",
       "      <th>f1_score</th>\n",
       "    </tr>\n",
       "  </thead>\n",
       "  <tbody>\n",
       "    <tr>\n",
       "      <th>LimitWatchman</th>\n",
       "      <td>0.354426</td>\n",
       "      <td>0.35489</td>\n",
       "      <td>0.362392</td>\n",
       "    </tr>\n",
       "    <tr>\n",
       "      <th>LimitPcaWatchman</th>\n",
       "      <td>0.5</td>\n",
       "      <td>0.2572</td>\n",
       "      <td>0.664033</td>\n",
       "    </tr>\n",
       "    <tr>\n",
       "      <th>SpePcaWatchman</th>\n",
       "      <td>NaN</td>\n",
       "      <td>0.0</td>\n",
       "      <td>NaN</td>\n",
       "    </tr>\n",
       "  </tbody>\n",
       "</table>\n",
       "</div>"
      ],
      "text/plain": [
       "                 precision   recall  f1_score\n",
       "LimitWatchman     0.354426  0.35489  0.362392\n",
       "LimitPcaWatchman       0.5   0.2572  0.664033\n",
       "SpePcaWatchman         NaN      0.0       NaN"
      ]
     },
     "metadata": {},
     "output_type": "display_data"
    },
    {
     "name": "stdout",
     "output_type": "stream",
     "text": [
      "TepHarvardDataset(E:\\Datasets\\TEP\\dataverse)\n"
     ]
    },
    {
     "data": {
      "text/html": [
       "<div>\n",
       "<style scoped>\n",
       "    .dataframe tbody tr th:only-of-type {\n",
       "        vertical-align: middle;\n",
       "    }\n",
       "\n",
       "    .dataframe tbody tr th {\n",
       "        vertical-align: top;\n",
       "    }\n",
       "\n",
       "    .dataframe thead th {\n",
       "        text-align: right;\n",
       "    }\n",
       "</style>\n",
       "<table border=\"1\" class=\"dataframe\">\n",
       "  <thead>\n",
       "    <tr style=\"text-align: right;\">\n",
       "      <th></th>\n",
       "      <th>precision</th>\n",
       "      <th>recall</th>\n",
       "      <th>f1_score</th>\n",
       "    </tr>\n",
       "  </thead>\n",
       "  <tbody>\n",
       "    <tr>\n",
       "      <th>LimitWatchman</th>\n",
       "      <td>0.896402</td>\n",
       "      <td>0.623058</td>\n",
       "      <td>0.748686</td>\n",
       "    </tr>\n",
       "    <tr>\n",
       "      <th>LimitPcaWatchman</th>\n",
       "      <td>0.914768</td>\n",
       "      <td>0.490085</td>\n",
       "      <td>0.64627</td>\n",
       "    </tr>\n",
       "    <tr>\n",
       "      <th>SpePcaWatchman</th>\n",
       "      <td>1.0</td>\n",
       "      <td>0.54021</td>\n",
       "      <td>0.723497</td>\n",
       "    </tr>\n",
       "  </tbody>\n",
       "</table>\n",
       "</div>"
      ],
      "text/plain": [
       "                 precision    recall  f1_score\n",
       "LimitWatchman     0.896402  0.623058  0.748686\n",
       "LimitPcaWatchman  0.914768  0.490085   0.64627\n",
       "SpePcaWatchman         1.0   0.54021  0.723497"
      ]
     },
     "metadata": {},
     "output_type": "display_data"
    }
   ],
   "source": [
    "for d in datasets:\n",
    "    print(datasets[d])\n",
    "    display(exam_table[d])"
   ]
  },
  {
   "cell_type": "code",
   "execution_count": null,
   "id": "1610f358",
   "metadata": {},
   "outputs": [],
   "source": []
  }
 ],
 "metadata": {
  "kernelspec": {
   "display_name": "Python 3 (ipykernel)",
   "language": "python",
   "name": "python3"
  },
  "language_info": {
   "codemirror_mode": {
    "name": "ipython",
    "version": 3
   },
   "file_extension": ".py",
   "mimetype": "text/x-python",
   "name": "python",
   "nbconvert_exporter": "python",
   "pygments_lexer": "ipython3",
   "version": "3.8.8"
  },
  "toc": {
   "base_numbering": 1,
   "nav_menu": {},
   "number_sections": true,
   "sideBar": true,
   "skip_h1_title": false,
   "title_cell": "Table of Contents",
   "title_sidebar": "Contents",
   "toc_cell": false,
   "toc_position": {},
   "toc_section_display": true,
   "toc_window_display": true
  }
 },
 "nbformat": 4,
 "nbformat_minor": 5
}
