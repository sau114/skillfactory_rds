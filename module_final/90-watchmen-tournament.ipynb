{
 "cells": [
  {
   "cell_type": "code",
   "execution_count": 1,
   "id": "3afcaa82",
   "metadata": {
    "ExecuteTime": {
     "end_time": "2022-08-31T18:35:01.290806Z",
     "start_time": "2022-08-31T18:35:01.247808Z"
    }
   },
   "outputs": [],
   "source": [
    "!del /Q utils\\__pycache__"
   ]
  },
  {
   "cell_type": "code",
   "execution_count": 2,
   "id": "86b03be5",
   "metadata": {
    "ExecuteTime": {
     "end_time": "2022-08-31T18:35:02.101877Z",
     "start_time": "2022-08-31T18:35:01.293807Z"
    }
   },
   "outputs": [],
   "source": [
    "import pandas as pd\n",
    "from tqdm.notebook import tqdm"
   ]
  },
  {
   "cell_type": "code",
   "execution_count": 3,
   "id": "f34899c4",
   "metadata": {
    "ExecuteTime": {
     "end_time": "2022-08-31T18:35:02.939738Z",
     "start_time": "2022-08-31T18:35:02.103892Z"
    }
   },
   "outputs": [],
   "source": [
    "from utils.datasets import GhlKasperskyDataset, TepHarvardDataset, TepKasperskyDataset, SwatItrustDataset\n",
    "from utils.custom_plots import plot_stacked\n",
    "from utils.metrics import time_span_metrics\n",
    "from utils.watchmen import LimitWatchman, LimitPcaWatchman, SpePcaWatchman, IsolatingWatchman, LinearPredictWatchman"
   ]
  },
  {
   "cell_type": "code",
   "execution_count": 4,
   "id": "f4e9bb0f",
   "metadata": {
    "ExecuteTime": {
     "end_time": "2022-08-31T18:35:02.955799Z",
     "start_time": "2022-08-31T18:35:02.943736Z"
    }
   },
   "outputs": [],
   "source": [
    "SEED = 127"
   ]
  },
  {
   "cell_type": "markdown",
   "id": "ab2d87dc",
   "metadata": {
    "ExecuteTime": {
     "end_time": "2022-08-19T10:07:19.598656Z",
     "start_time": "2022-08-19T10:07:18.676895Z"
    }
   },
   "source": [
    "# Preparing datasets"
   ]
  },
  {
   "cell_type": "code",
   "execution_count": 5,
   "id": "cb921176",
   "metadata": {
    "ExecuteTime": {
     "end_time": "2022-08-31T18:35:02.971734Z",
     "start_time": "2022-08-31T18:35:02.958737Z"
    }
   },
   "outputs": [],
   "source": [
    "datasets = {\n",
    "    0: GhlKasperskyDataset(),\n",
    "    1: TepHarvardDataset(),\n",
    "    2: TepKasperskyDataset(),\n",
    "    3: SwatItrustDataset(),\n",
    "}"
   ]
  },
  {
   "cell_type": "code",
   "execution_count": 6,
   "id": "fd787944",
   "metadata": {
    "ExecuteTime": {
     "end_time": "2022-08-31T18:35:02.987816Z",
     "start_time": "2022-08-31T18:35:02.974179Z"
    }
   },
   "outputs": [],
   "source": [
    "shake_kwargs = {\n",
    "    'random_state': SEED,\n",
    "    'valid_test_ratio': 0.0,\n",
    "}"
   ]
  },
  {
   "cell_type": "markdown",
   "id": "f007db40",
   "metadata": {},
   "source": [
    "# Preparing watchmen"
   ]
  },
  {
   "cell_type": "code",
   "execution_count": 7,
   "id": "b5c900e8",
   "metadata": {
    "ExecuteTime": {
     "end_time": "2022-08-31T18:35:03.002737Z",
     "start_time": "2022-08-31T18:35:02.990569Z"
    }
   },
   "outputs": [],
   "source": [
    "watchmen = {\n",
    "    0: {  # GhlKasperskyDataset\n",
    "        0: LimitWatchman(),\n",
    "        1: LimitPcaWatchman(n_components=3),\n",
    "        2: SpePcaWatchman(n_components=3),\n",
    "        3: IsolatingWatchman(random_state=SEED),\n",
    "        4: LinearPredictWatchman(random_state=SEED),\n",
    "    },\n",
    "    1: {  # TepHarvardDataset\n",
    "        0: LimitWatchman(),  # better: ewma='3 min'\n",
    "        1: LimitPcaWatchman(n_components=3),  # better: n_components=12\n",
    "        2: SpePcaWatchman(n_components=3),  # better: n_components=12\n",
    "        3: IsolatingWatchman(random_state=SEED),\n",
    "        4: LinearPredictWatchman(random_state=SEED),\n",
    "    },\n",
    "    2: {  # TepKasperskyDataset\n",
    "        0: LimitWatchman(),\n",
    "        1: LimitPcaWatchman(n_components=3),\n",
    "        2: SpePcaWatchman(n_components=3),\n",
    "        3: IsolatingWatchman(random_state=SEED),\n",
    "        4: LinearPredictWatchman(random_state=SEED),\n",
    "    },\n",
    "    3: {  # SwatItrustDataset\n",
    "        0: LimitWatchman(),\n",
    "        1: LimitPcaWatchman(n_components=3),\n",
    "        2: SpePcaWatchman(n_components=3),\n",
    "        3: IsolatingWatchman(random_state=SEED),\n",
    "        4: LinearPredictWatchman(random_state=SEED),\n",
    "    },\n",
    "}"
   ]
  },
  {
   "cell_type": "markdown",
   "id": "be4104e1",
   "metadata": {},
   "source": [
    "# Learning"
   ]
  },
  {
   "cell_type": "markdown",
   "id": "8fa34354",
   "metadata": {},
   "source": [
    "## Prefit"
   ]
  },
  {
   "cell_type": "code",
   "execution_count": 8,
   "id": "53beb5b4",
   "metadata": {
    "ExecuteTime": {
     "end_time": "2022-08-31T18:35:55.325101Z",
     "start_time": "2022-08-31T18:35:03.004737Z"
    }
   },
   "outputs": [
    {
     "data": {
      "application/vnd.jupyter.widget-view+json": {
       "model_id": "d5d16c83c2c94e32b8aa30701ed85458",
       "version_major": 2,
       "version_minor": 0
      },
      "text/plain": [
       "Prefit on train 0: 0it [00:00, ?it/s]"
      ]
     },
     "metadata": {},
     "output_type": "display_data"
    },
    {
     "data": {
      "application/vnd.jupyter.widget-view+json": {
       "model_id": "806c4107a76947cc98f9b2e81ed9a983",
       "version_major": 2,
       "version_minor": 0
      },
      "text/plain": [
       "Prefit on train 1: 0it [00:00, ?it/s]"
      ]
     },
     "metadata": {},
     "output_type": "display_data"
    },
    {
     "data": {
      "application/vnd.jupyter.widget-view+json": {
       "model_id": "3ef75042621746a6814fa3363a16db88",
       "version_major": 2,
       "version_minor": 0
      },
      "text/plain": [
       "Prefit on train 2: 0it [00:00, ?it/s]"
      ]
     },
     "metadata": {},
     "output_type": "display_data"
    },
    {
     "data": {
      "application/vnd.jupyter.widget-view+json": {
       "model_id": "0722721340524fe39d53665024d85e4a",
       "version_major": 2,
       "version_minor": 0
      },
      "text/plain": [
       "Prefit on train 3: 0it [00:00, ?it/s]"
      ]
     },
     "metadata": {},
     "output_type": "display_data"
    }
   ],
   "source": [
    "for d in datasets:\n",
    "    datasets[d].shake_not_stir(**shake_kwargs)\n",
    "    for data, _, _ in tqdm(datasets[d].train_generator(), desc=f'Prefit on train {d}'):\n",
    "        for w in watchmen[d]:\n",
    "            watchmen[d][w].prefit(data)"
   ]
  },
  {
   "cell_type": "markdown",
   "id": "77312393",
   "metadata": {},
   "source": [
    "## Fit"
   ]
  },
  {
   "cell_type": "code",
   "execution_count": 9,
   "id": "ea1f2f67",
   "metadata": {
    "ExecuteTime": {
     "end_time": "2022-08-31T18:42:23.436291Z",
     "start_time": "2022-08-31T18:35:55.328037Z"
    }
   },
   "outputs": [
    {
     "data": {
      "application/vnd.jupyter.widget-view+json": {
       "model_id": "4d2f1954127a4fec9adfbb372dce555b",
       "version_major": 2,
       "version_minor": 0
      },
      "text/plain": [
       "Fit on train 0: 0it [00:00, ?it/s]"
      ]
     },
     "metadata": {},
     "output_type": "display_data"
    },
    {
     "data": {
      "application/vnd.jupyter.widget-view+json": {
       "model_id": "feeb4ab8e13d40cf98095bce2008daec",
       "version_major": 2,
       "version_minor": 0
      },
      "text/plain": [
       "Fit on train 1: 0it [00:00, ?it/s]"
      ]
     },
     "metadata": {},
     "output_type": "display_data"
    },
    {
     "data": {
      "application/vnd.jupyter.widget-view+json": {
       "model_id": "39c535cdeacc46f3aef664a8d5c822b0",
       "version_major": 2,
       "version_minor": 0
      },
      "text/plain": [
       "Fit on train 2: 0it [00:00, ?it/s]"
      ]
     },
     "metadata": {},
     "output_type": "display_data"
    },
    {
     "data": {
      "application/vnd.jupyter.widget-view+json": {
       "model_id": "4898e926f0b24bd7aa581668f740d646",
       "version_major": 2,
       "version_minor": 0
      },
      "text/plain": [
       "Fit on train 3: 0it [00:00, ?it/s]"
      ]
     },
     "metadata": {},
     "output_type": "display_data"
    }
   ],
   "source": [
    "for d in datasets:\n",
    "    datasets[d].shake_not_stir(**shake_kwargs)\n",
    "    for data, _, _ in tqdm(datasets[d].train_generator(), desc=f'Fit on train {d}'):\n",
    "        for w in watchmen[d]:\n",
    "            watchmen[d][w].partial_fit(data)"
   ]
  },
  {
   "cell_type": "markdown",
   "id": "5c728a4c",
   "metadata": {},
   "source": [
    "# Examine"
   ]
  },
  {
   "cell_type": "markdown",
   "id": "05b98514",
   "metadata": {},
   "source": [
    "## Throw stones"
   ]
  },
  {
   "cell_type": "code",
   "execution_count": 10,
   "id": "149642a0",
   "metadata": {
    "ExecuteTime": {
     "end_time": "2022-08-31T18:42:23.451882Z",
     "start_time": "2022-08-31T18:42:23.440276Z"
    }
   },
   "outputs": [],
   "source": [
    "stones = dict()\n",
    "for d in datasets:\n",
    "    stones[d] = dict()\n",
    "    for w in watchmen[d]:\n",
    "        stones[d][w] = list()"
   ]
  },
  {
   "cell_type": "code",
   "execution_count": 11,
   "id": "2eeb2ed3",
   "metadata": {
    "ExecuteTime": {
     "end_time": "2022-09-01T00:53:33.521261Z",
     "start_time": "2022-08-31T18:42:23.455279Z"
    }
   },
   "outputs": [
    {
     "data": {
      "application/vnd.jupyter.widget-view+json": {
       "model_id": "06140a107bbb464b81c80f57f996058c",
       "version_major": 2,
       "version_minor": 0
      },
      "text/plain": [
       "Detect on testation 0: 0it [00:00, ?it/s]"
      ]
     },
     "metadata": {},
     "output_type": "display_data"
    },
    {
     "data": {
      "application/vnd.jupyter.widget-view+json": {
       "model_id": "5c8b4c36b6a740438a63e47ae4562b33",
       "version_major": 2,
       "version_minor": 0
      },
      "text/plain": [
       "Detect on testation 1: 0it [00:00, ?it/s]"
      ]
     },
     "metadata": {},
     "output_type": "display_data"
    },
    {
     "data": {
      "application/vnd.jupyter.widget-view+json": {
       "model_id": "8359a45f52a944c9bb132529367a694f",
       "version_major": 2,
       "version_minor": 0
      },
      "text/plain": [
       "Detect on testation 2: 0it [00:00, ?it/s]"
      ]
     },
     "metadata": {},
     "output_type": "display_data"
    },
    {
     "data": {
      "application/vnd.jupyter.widget-view+json": {
       "model_id": "a11489094d5e4a749a0fa12dd482d2ba",
       "version_major": 2,
       "version_minor": 0
      },
      "text/plain": [
       "Detect on testation 3: 0it [00:00, ?it/s]"
      ]
     },
     "metadata": {},
     "output_type": "display_data"
    }
   ],
   "source": [
    "for d in datasets:\n",
    "    datasets[d].shake_not_stir(**shake_kwargs)\n",
    "    for data, faults, info in tqdm(datasets[d].test_generator(), desc=f'Detect on test {d}'):\n",
    "        for w in watchmen[d]:\n",
    "            detect = watchmen[d][w].predict(data)\n",
    "            stones[d][w].append(pd.concat([faults, detect], axis=1))\n",
    "            stones[d][w][-1].index.name = info"
   ]
  },
  {
   "cell_type": "markdown",
   "id": "1bb3f782",
   "metadata": {},
   "source": [
    "## Results"
   ]
  },
  {
   "cell_type": "code",
   "execution_count": 19,
   "id": "2a812d4d",
   "metadata": {
    "ExecuteTime": {
     "end_time": "2022-09-01T07:12:57.743890Z",
     "start_time": "2022-09-01T07:12:57.705874Z"
    }
   },
   "outputs": [],
   "source": [
    "metrics = ('precision', 'recall', 'f1_score')\n",
    "results = {str(datasets[d]): pd.DataFrame(columns=metrics) for d in datasets}"
   ]
  },
  {
   "cell_type": "markdown",
   "id": "502e007e",
   "metadata": {},
   "source": [
    "### Individual"
   ]
  },
  {
   "cell_type": "code",
   "execution_count": 20,
   "id": "e8aa1157",
   "metadata": {
    "ExecuteTime": {
     "end_time": "2022-09-01T07:25:30.256118Z",
     "start_time": "2022-09-01T07:12:59.246560Z"
    }
   },
   "outputs": [
    {
     "data": {
      "application/vnd.jupyter.widget-view+json": {
       "model_id": "f5c24d6fc4cc461fa3a7adb28b36ece7",
       "version_major": 2,
       "version_minor": 0
      },
      "text/plain": [
       "Collect stones 0:   0%|          | 0/48 [00:00<?, ?it/s]"
      ]
     },
     "metadata": {},
     "output_type": "display_data"
    },
    {
     "data": {
      "application/vnd.jupyter.widget-view+json": {
       "model_id": "6b7a6e5923694f7e801c67168fa6ee96",
       "version_major": 2,
       "version_minor": 0
      },
      "text/plain": [
       "Collect stones 0:   0%|          | 0/48 [00:00<?, ?it/s]"
      ]
     },
     "metadata": {},
     "output_type": "display_data"
    },
    {
     "data": {
      "application/vnd.jupyter.widget-view+json": {
       "model_id": "cfa064a3fbf4475fbb393b8a743e13d4",
       "version_major": 2,
       "version_minor": 0
      },
      "text/plain": [
       "Collect stones 0:   0%|          | 0/48 [00:00<?, ?it/s]"
      ]
     },
     "metadata": {},
     "output_type": "display_data"
    },
    {
     "data": {
      "application/vnd.jupyter.widget-view+json": {
       "model_id": "7d4ee5ed45824ef58faf0878abd71156",
       "version_major": 2,
       "version_minor": 0
      },
      "text/plain": [
       "Collect stones 0:   0%|          | 0/48 [00:00<?, ?it/s]"
      ]
     },
     "metadata": {},
     "output_type": "display_data"
    },
    {
     "data": {
      "application/vnd.jupyter.widget-view+json": {
       "model_id": "abcaea7951054e40a05c5a2e979d96f5",
       "version_major": 2,
       "version_minor": 0
      },
      "text/plain": [
       "Collect stones 0:   0%|          | 0/48 [00:00<?, ?it/s]"
      ]
     },
     "metadata": {},
     "output_type": "display_data"
    },
    {
     "data": {
      "application/vnd.jupyter.widget-view+json": {
       "model_id": "a495f97958bd43618c1d0b9ebe918ea1",
       "version_major": 2,
       "version_minor": 0
      },
      "text/plain": [
       "Collect stones 1:   0%|          | 0/10500 [00:00<?, ?it/s]"
      ]
     },
     "metadata": {},
     "output_type": "display_data"
    },
    {
     "data": {
      "application/vnd.jupyter.widget-view+json": {
       "model_id": "2cef2f3ef1824d849bba150d675b9b29",
       "version_major": 2,
       "version_minor": 0
      },
      "text/plain": [
       "Collect stones 1:   0%|          | 0/10500 [00:00<?, ?it/s]"
      ]
     },
     "metadata": {},
     "output_type": "display_data"
    },
    {
     "data": {
      "application/vnd.jupyter.widget-view+json": {
       "model_id": "0b0571ffc5d349919c9c7d4abd798e1f",
       "version_major": 2,
       "version_minor": 0
      },
      "text/plain": [
       "Collect stones 1:   0%|          | 0/10500 [00:00<?, ?it/s]"
      ]
     },
     "metadata": {},
     "output_type": "display_data"
    },
    {
     "data": {
      "application/vnd.jupyter.widget-view+json": {
       "model_id": "def2058af3144d4682d08b8ad143888b",
       "version_major": 2,
       "version_minor": 0
      },
      "text/plain": [
       "Collect stones 1:   0%|          | 0/10500 [00:00<?, ?it/s]"
      ]
     },
     "metadata": {},
     "output_type": "display_data"
    },
    {
     "data": {
      "application/vnd.jupyter.widget-view+json": {
       "model_id": "5651a7b4f0364713b4f482b6921cb425",
       "version_major": 2,
       "version_minor": 0
      },
      "text/plain": [
       "Collect stones 1:   0%|          | 0/10500 [00:00<?, ?it/s]"
      ]
     },
     "metadata": {},
     "output_type": "display_data"
    },
    {
     "data": {
      "application/vnd.jupyter.widget-view+json": {
       "model_id": "e2131a15a710498ebb4728ed13c1f2e6",
       "version_major": 2,
       "version_minor": 0
      },
      "text/plain": [
       "Collect stones 2:   0%|          | 0/288 [00:00<?, ?it/s]"
      ]
     },
     "metadata": {},
     "output_type": "display_data"
    },
    {
     "data": {
      "application/vnd.jupyter.widget-view+json": {
       "model_id": "994ae61be74e42b78d9f6d73b670481d",
       "version_major": 2,
       "version_minor": 0
      },
      "text/plain": [
       "Collect stones 2:   0%|          | 0/288 [00:00<?, ?it/s]"
      ]
     },
     "metadata": {},
     "output_type": "display_data"
    },
    {
     "data": {
      "application/vnd.jupyter.widget-view+json": {
       "model_id": "73ec1e72623547e9961357f2cd89512d",
       "version_major": 2,
       "version_minor": 0
      },
      "text/plain": [
       "Collect stones 2:   0%|          | 0/288 [00:00<?, ?it/s]"
      ]
     },
     "metadata": {},
     "output_type": "display_data"
    },
    {
     "data": {
      "application/vnd.jupyter.widget-view+json": {
       "model_id": "f6222a3d3a7549f5ac1ef723329c2a35",
       "version_major": 2,
       "version_minor": 0
      },
      "text/plain": [
       "Collect stones 2:   0%|          | 0/288 [00:00<?, ?it/s]"
      ]
     },
     "metadata": {},
     "output_type": "display_data"
    },
    {
     "data": {
      "application/vnd.jupyter.widget-view+json": {
       "model_id": "5df98e180b9149789ff691ea6b773e65",
       "version_major": 2,
       "version_minor": 0
      },
      "text/plain": [
       "Collect stones 2:   0%|          | 0/288 [00:00<?, ?it/s]"
      ]
     },
     "metadata": {},
     "output_type": "display_data"
    },
    {
     "data": {
      "application/vnd.jupyter.widget-view+json": {
       "model_id": "6f1af8af4c3144789f0e4ba775687d67",
       "version_major": 2,
       "version_minor": 0
      },
      "text/plain": [
       "Collect stones 3:   0%|          | 0/6 [00:00<?, ?it/s]"
      ]
     },
     "metadata": {},
     "output_type": "display_data"
    },
    {
     "data": {
      "application/vnd.jupyter.widget-view+json": {
       "model_id": "91be8199a9ad48b0b7fa07ef738747ed",
       "version_major": 2,
       "version_minor": 0
      },
      "text/plain": [
       "Collect stones 3:   0%|          | 0/6 [00:00<?, ?it/s]"
      ]
     },
     "metadata": {},
     "output_type": "display_data"
    },
    {
     "data": {
      "application/vnd.jupyter.widget-view+json": {
       "model_id": "a6d37ecbb97544e3a5c7e3fc2b7e48c6",
       "version_major": 2,
       "version_minor": 0
      },
      "text/plain": [
       "Collect stones 3:   0%|          | 0/6 [00:00<?, ?it/s]"
      ]
     },
     "metadata": {},
     "output_type": "display_data"
    },
    {
     "data": {
      "application/vnd.jupyter.widget-view+json": {
       "model_id": "7da8091dafa24bd4823b38252418d62b",
       "version_major": 2,
       "version_minor": 0
      },
      "text/plain": [
       "Collect stones 3:   0%|          | 0/6 [00:00<?, ?it/s]"
      ]
     },
     "metadata": {},
     "output_type": "display_data"
    },
    {
     "data": {
      "application/vnd.jupyter.widget-view+json": {
       "model_id": "b2db1c44f9d246d2a50b5fcfa7e402ab",
       "version_major": 2,
       "version_minor": 0
      },
      "text/plain": [
       "Collect stones 3:   0%|          | 0/6 [00:00<?, ?it/s]"
      ]
     },
     "metadata": {},
     "output_type": "display_data"
    }
   ],
   "source": [
    "for d in datasets:\n",
    "    for w in watchmen[d]:\n",
    "        exam_paper = pd.DataFrame(columns=metrics)\n",
    "        for st in tqdm(stones[d][w], desc=f'Collect stones d{d}w{w}'):\n",
    "            exam_paper.loc[st.index.name, metrics] = time_span_metrics(st.iloc[:, 0], st.iloc[:, 1:])\n",
    "        results[str(datasets[d])].loc[str(watchmen[d][w]), metrics] = exam_paper.mean().values"
   ]
  },
  {
   "cell_type": "markdown",
   "id": "19aee2a0",
   "metadata": {},
   "source": [
    "### Ensembling"
   ]
  },
  {
   "cell_type": "code",
   "execution_count": 23,
   "id": "f5ac600e",
   "metadata": {
    "ExecuteTime": {
     "end_time": "2022-09-01T07:35:15.838894Z",
     "start_time": "2022-09-01T07:32:10.153812Z"
    }
   },
   "outputs": [
    {
     "data": {
      "application/vnd.jupyter.widget-view+json": {
       "model_id": "097a85e1668447318740352260b6e3f2",
       "version_major": 2,
       "version_minor": 0
      },
      "text/plain": [
       "Collect stones d0: 0it [00:00, ?it/s]"
      ]
     },
     "metadata": {},
     "output_type": "display_data"
    },
    {
     "data": {
      "application/vnd.jupyter.widget-view+json": {
       "model_id": "bcef6673df4c4eeda1fc81ffb16f6cb6",
       "version_major": 2,
       "version_minor": 0
      },
      "text/plain": [
       "Collect stones d1: 0it [00:00, ?it/s]"
      ]
     },
     "metadata": {},
     "output_type": "display_data"
    },
    {
     "data": {
      "application/vnd.jupyter.widget-view+json": {
       "model_id": "ea44cf7ca1ac4f6ca21efb68b25e0252",
       "version_major": 2,
       "version_minor": 0
      },
      "text/plain": [
       "Collect stones d2: 0it [00:00, ?it/s]"
      ]
     },
     "metadata": {},
     "output_type": "display_data"
    },
    {
     "data": {
      "application/vnd.jupyter.widget-view+json": {
       "model_id": "a38970651f674dc1add17c0694c98272",
       "version_major": 2,
       "version_minor": 0
      },
      "text/plain": [
       "Collect stones d3: 0it [00:00, ?it/s]"
      ]
     },
     "metadata": {},
     "output_type": "display_data"
    }
   ],
   "source": [
    "threshold = 3\n",
    "for d in datasets:\n",
    "    exam_paper = pd.DataFrame(columns=metrics)\n",
    "    for i_st, st in tqdm(enumerate(stones[d][0]), desc=f'Collect stones d{d}'):\n",
    "        opinions = pd.concat([stones[d][w][i_st].iloc[:, 1:].sum(axis=1) for w in watchmen[d]], axis=1)\n",
    "        detect = (opinions.sum(axis=1) >= threshold).astype('uint8')\n",
    "        exam_paper.loc[i_st, metrics] = time_span_metrics(st.iloc[:, 0], detect)\n",
    "    results[str(datasets[d])].loc[f'ensemble(threshold={threshold})', metrics] = exam_paper.mean().values"
   ]
  },
  {
   "cell_type": "markdown",
   "id": "54459025",
   "metadata": {},
   "source": [
    "### Let's see"
   ]
  },
  {
   "cell_type": "code",
   "execution_count": 24,
   "id": "f60820cf",
   "metadata": {
    "ExecuteTime": {
     "end_time": "2022-09-01T07:36:13.976600Z",
     "start_time": "2022-09-01T07:36:13.894257Z"
    }
   },
   "outputs": [
    {
     "name": "stdout",
     "output_type": "stream",
     "text": [
      "GhlKasperskyDataset(E:\\Datasets\\GHL)\n"
     ]
    },
    {
     "data": {
      "text/html": [
       "<div>\n",
       "<style scoped>\n",
       "    .dataframe tbody tr th:only-of-type {\n",
       "        vertical-align: middle;\n",
       "    }\n",
       "\n",
       "    .dataframe tbody tr th {\n",
       "        vertical-align: top;\n",
       "    }\n",
       "\n",
       "    .dataframe thead th {\n",
       "        text-align: right;\n",
       "    }\n",
       "</style>\n",
       "<table border=\"1\" class=\"dataframe\">\n",
       "  <thead>\n",
       "    <tr style=\"text-align: right;\">\n",
       "      <th></th>\n",
       "      <th>precision</th>\n",
       "      <th>recall</th>\n",
       "      <th>f1_score</th>\n",
       "    </tr>\n",
       "  </thead>\n",
       "  <tbody>\n",
       "    <tr>\n",
       "      <th>LimitWatchman(ewma=None)</th>\n",
       "      <td>0.32572</td>\n",
       "      <td>0.643899</td>\n",
       "      <td>0.378634</td>\n",
       "    </tr>\n",
       "    <tr>\n",
       "      <th>LimitPcaWatchman(n_components=3)</th>\n",
       "      <td>0.369174</td>\n",
       "      <td>0.383978</td>\n",
       "      <td>0.355303</td>\n",
       "    </tr>\n",
       "    <tr>\n",
       "      <th>SpePcaWatchman(n_components=3)</th>\n",
       "      <td>0.0</td>\n",
       "      <td>0.0</td>\n",
       "      <td>0.0</td>\n",
       "    </tr>\n",
       "    <tr>\n",
       "      <th>IsolatingWatchman(n_trees=17)</th>\n",
       "      <td>0.015384</td>\n",
       "      <td>0.989583</td>\n",
       "      <td>0.030195</td>\n",
       "    </tr>\n",
       "    <tr>\n",
       "      <th>LinearPredictWatchman(n_features=12)</th>\n",
       "      <td>0.013989</td>\n",
       "      <td>1.0</td>\n",
       "      <td>0.027504</td>\n",
       "    </tr>\n",
       "    <tr>\n",
       "      <th>ensemble(threshold=3)</th>\n",
       "      <td>0.244337</td>\n",
       "      <td>0.649802</td>\n",
       "      <td>0.319381</td>\n",
       "    </tr>\n",
       "    <tr>\n",
       "      <th>ensemble(threshold=2)</th>\n",
       "      <td>0.015819</td>\n",
       "      <td>0.989583</td>\n",
       "      <td>0.031032</td>\n",
       "    </tr>\n",
       "  </tbody>\n",
       "</table>\n",
       "</div>"
      ],
      "text/plain": [
       "                                     precision    recall  f1_score\n",
       "LimitWatchman(ewma=None)               0.32572  0.643899  0.378634\n",
       "LimitPcaWatchman(n_components=3)      0.369174  0.383978  0.355303\n",
       "SpePcaWatchman(n_components=3)             0.0       0.0       0.0\n",
       "IsolatingWatchman(n_trees=17)         0.015384  0.989583  0.030195\n",
       "LinearPredictWatchman(n_features=12)  0.013989       1.0  0.027504\n",
       "ensemble(threshold=3)                 0.244337  0.649802  0.319381\n",
       "ensemble(threshold=2)                 0.015819  0.989583  0.031032"
      ]
     },
     "metadata": {},
     "output_type": "display_data"
    },
    {
     "name": "stdout",
     "output_type": "stream",
     "text": [
      "TepHarvardDataset(E:\\Datasets\\TEP\\dataverse)\n"
     ]
    },
    {
     "data": {
      "text/html": [
       "<div>\n",
       "<style scoped>\n",
       "    .dataframe tbody tr th:only-of-type {\n",
       "        vertical-align: middle;\n",
       "    }\n",
       "\n",
       "    .dataframe tbody tr th {\n",
       "        vertical-align: top;\n",
       "    }\n",
       "\n",
       "    .dataframe thead th {\n",
       "        text-align: right;\n",
       "    }\n",
       "</style>\n",
       "<table border=\"1\" class=\"dataframe\">\n",
       "  <thead>\n",
       "    <tr style=\"text-align: right;\">\n",
       "      <th></th>\n",
       "      <th>precision</th>\n",
       "      <th>recall</th>\n",
       "      <th>f1_score</th>\n",
       "    </tr>\n",
       "  </thead>\n",
       "  <tbody>\n",
       "    <tr>\n",
       "      <th>LimitWatchman(ewma=None)</th>\n",
       "      <td>0.990542</td>\n",
       "      <td>0.640096</td>\n",
       "      <td>0.679066</td>\n",
       "    </tr>\n",
       "    <tr>\n",
       "      <th>LimitPcaWatchman(n_components=3)</th>\n",
       "      <td>0.997282</td>\n",
       "      <td>0.395399</td>\n",
       "      <td>0.44416</td>\n",
       "    </tr>\n",
       "    <tr>\n",
       "      <th>SpePcaWatchman(n_components=3)</th>\n",
       "      <td>0.999734</td>\n",
       "      <td>0.532409</td>\n",
       "      <td>0.568998</td>\n",
       "    </tr>\n",
       "    <tr>\n",
       "      <th>IsolatingWatchman(n_trees=500)</th>\n",
       "      <td>0.851412</td>\n",
       "      <td>0.446763</td>\n",
       "      <td>0.492408</td>\n",
       "    </tr>\n",
       "    <tr>\n",
       "      <th>LinearPredictWatchman(n_features=52)</th>\n",
       "      <td>0.983448</td>\n",
       "      <td>0.745214</td>\n",
       "      <td>0.768758</td>\n",
       "    </tr>\n",
       "    <tr>\n",
       "      <th>ensemble(threshold=3)</th>\n",
       "      <td>0.998295</td>\n",
       "      <td>0.659082</td>\n",
       "      <td>0.700136</td>\n",
       "    </tr>\n",
       "    <tr>\n",
       "      <th>ensemble(threshold=2)</th>\n",
       "      <td>0.992988</td>\n",
       "      <td>0.702225</td>\n",
       "      <td>0.740372</td>\n",
       "    </tr>\n",
       "  </tbody>\n",
       "</table>\n",
       "</div>"
      ],
      "text/plain": [
       "                                     precision    recall  f1_score\n",
       "LimitWatchman(ewma=None)              0.990542  0.640096  0.679066\n",
       "LimitPcaWatchman(n_components=3)      0.997282  0.395399   0.44416\n",
       "SpePcaWatchman(n_components=3)        0.999734  0.532409  0.568998\n",
       "IsolatingWatchman(n_trees=500)        0.851412  0.446763  0.492408\n",
       "LinearPredictWatchman(n_features=52)  0.983448  0.745214  0.768758\n",
       "ensemble(threshold=3)                 0.998295  0.659082  0.700136\n",
       "ensemble(threshold=2)                 0.992988  0.702225  0.740372"
      ]
     },
     "metadata": {},
     "output_type": "display_data"
    },
    {
     "name": "stdout",
     "output_type": "stream",
     "text": [
      "TepKasperskyDataset(E:\\Datasets\\TEP\\kaspersky)\n"
     ]
    },
    {
     "data": {
      "text/html": [
       "<div>\n",
       "<style scoped>\n",
       "    .dataframe tbody tr th:only-of-type {\n",
       "        vertical-align: middle;\n",
       "    }\n",
       "\n",
       "    .dataframe tbody tr th {\n",
       "        vertical-align: top;\n",
       "    }\n",
       "\n",
       "    .dataframe thead th {\n",
       "        text-align: right;\n",
       "    }\n",
       "</style>\n",
       "<table border=\"1\" class=\"dataframe\">\n",
       "  <thead>\n",
       "    <tr style=\"text-align: right;\">\n",
       "      <th></th>\n",
       "      <th>precision</th>\n",
       "      <th>recall</th>\n",
       "      <th>f1_score</th>\n",
       "    </tr>\n",
       "  </thead>\n",
       "  <tbody>\n",
       "    <tr>\n",
       "      <th>LimitWatchman(ewma=None)</th>\n",
       "      <td>0.790822</td>\n",
       "      <td>0.43373</td>\n",
       "      <td>0.421019</td>\n",
       "    </tr>\n",
       "    <tr>\n",
       "      <th>LimitPcaWatchman(n_components=3)</th>\n",
       "      <td>0.880952</td>\n",
       "      <td>0.243432</td>\n",
       "      <td>0.245122</td>\n",
       "    </tr>\n",
       "    <tr>\n",
       "      <th>SpePcaWatchman(n_components=3)</th>\n",
       "      <td>0.95625</td>\n",
       "      <td>0.245628</td>\n",
       "      <td>0.251329</td>\n",
       "    </tr>\n",
       "    <tr>\n",
       "      <th>IsolatingWatchman(n_trees=400)</th>\n",
       "      <td>0.075873</td>\n",
       "      <td>1.0</td>\n",
       "      <td>0.116781</td>\n",
       "    </tr>\n",
       "    <tr>\n",
       "      <th>LinearPredictWatchman(n_features=53)</th>\n",
       "      <td>0.308391</td>\n",
       "      <td>0.476066</td>\n",
       "      <td>0.228849</td>\n",
       "    </tr>\n",
       "    <tr>\n",
       "      <th>ensemble(threshold=3)</th>\n",
       "      <td>0.766649</td>\n",
       "      <td>0.424246</td>\n",
       "      <td>0.401417</td>\n",
       "    </tr>\n",
       "    <tr>\n",
       "      <th>ensemble(threshold=2)</th>\n",
       "      <td>0.302243</td>\n",
       "      <td>0.485086</td>\n",
       "      <td>0.226342</td>\n",
       "    </tr>\n",
       "  </tbody>\n",
       "</table>\n",
       "</div>"
      ],
      "text/plain": [
       "                                     precision    recall  f1_score\n",
       "LimitWatchman(ewma=None)              0.790822   0.43373  0.421019\n",
       "LimitPcaWatchman(n_components=3)      0.880952  0.243432  0.245122\n",
       "SpePcaWatchman(n_components=3)         0.95625  0.245628  0.251329\n",
       "IsolatingWatchman(n_trees=400)        0.075873       1.0  0.116781\n",
       "LinearPredictWatchman(n_features=53)  0.308391  0.476066  0.228849\n",
       "ensemble(threshold=3)                 0.766649  0.424246  0.401417\n",
       "ensemble(threshold=2)                 0.302243  0.485086  0.226342"
      ]
     },
     "metadata": {},
     "output_type": "display_data"
    },
    {
     "name": "stdout",
     "output_type": "stream",
     "text": [
      "SwatItrustDataset(E:\\Datasets\\SWaT\\dataset12)\n"
     ]
    },
    {
     "data": {
      "text/html": [
       "<div>\n",
       "<style scoped>\n",
       "    .dataframe tbody tr th:only-of-type {\n",
       "        vertical-align: middle;\n",
       "    }\n",
       "\n",
       "    .dataframe tbody tr th {\n",
       "        vertical-align: top;\n",
       "    }\n",
       "\n",
       "    .dataframe thead th {\n",
       "        text-align: right;\n",
       "    }\n",
       "</style>\n",
       "<table border=\"1\" class=\"dataframe\">\n",
       "  <thead>\n",
       "    <tr style=\"text-align: right;\">\n",
       "      <th></th>\n",
       "      <th>precision</th>\n",
       "      <th>recall</th>\n",
       "      <th>f1_score</th>\n",
       "    </tr>\n",
       "  </thead>\n",
       "  <tbody>\n",
       "    <tr>\n",
       "      <th>LimitWatchman(ewma=None)</th>\n",
       "      <td>0.3</td>\n",
       "      <td>1.0</td>\n",
       "      <td>0.461538</td>\n",
       "    </tr>\n",
       "    <tr>\n",
       "      <th>LimitPcaWatchman(n_components=3)</th>\n",
       "      <td>0.285714</td>\n",
       "      <td>0.333333</td>\n",
       "      <td>0.307692</td>\n",
       "    </tr>\n",
       "    <tr>\n",
       "      <th>SpePcaWatchman(n_components=3)</th>\n",
       "      <td>NaN</td>\n",
       "      <td>0.0</td>\n",
       "      <td>0.0</td>\n",
       "    </tr>\n",
       "    <tr>\n",
       "      <th>IsolatingWatchman(n_trees=6)</th>\n",
       "      <td>0.3</td>\n",
       "      <td>1.0</td>\n",
       "      <td>0.461538</td>\n",
       "    </tr>\n",
       "    <tr>\n",
       "      <th>LinearPredictWatchman(n_features=51)</th>\n",
       "      <td>0.272727</td>\n",
       "      <td>0.5</td>\n",
       "      <td>0.352941</td>\n",
       "    </tr>\n",
       "    <tr>\n",
       "      <th>ensemble(threshold=3)</th>\n",
       "      <td>0.246578</td>\n",
       "      <td>0.827778</td>\n",
       "      <td>0.337145</td>\n",
       "    </tr>\n",
       "    <tr>\n",
       "      <th>ensemble(threshold=2)</th>\n",
       "      <td>0.194539</td>\n",
       "      <td>0.983333</td>\n",
       "      <td>0.310043</td>\n",
       "    </tr>\n",
       "  </tbody>\n",
       "</table>\n",
       "</div>"
      ],
      "text/plain": [
       "                                     precision    recall  f1_score\n",
       "LimitWatchman(ewma=None)                   0.3       1.0  0.461538\n",
       "LimitPcaWatchman(n_components=3)      0.285714  0.333333  0.307692\n",
       "SpePcaWatchman(n_components=3)             NaN       0.0       0.0\n",
       "IsolatingWatchman(n_trees=6)               0.3       1.0  0.461538\n",
       "LinearPredictWatchman(n_features=51)  0.272727       0.5  0.352941\n",
       "ensemble(threshold=3)                 0.246578  0.827778  0.337145\n",
       "ensemble(threshold=2)                 0.194539  0.983333  0.310043"
      ]
     },
     "metadata": {},
     "output_type": "display_data"
    }
   ],
   "source": [
    "for d in results:\n",
    "    print(d)\n",
    "    display(results[d])"
   ]
  },
  {
   "cell_type": "code",
   "execution_count": null,
   "id": "903fcf7c",
   "metadata": {},
   "outputs": [],
   "source": []
  }
 ],
 "metadata": {
  "kernelspec": {
   "display_name": "Python 3 (ipykernel)",
   "language": "python",
   "name": "python3"
  },
  "language_info": {
   "codemirror_mode": {
    "name": "ipython",
    "version": 3
   },
   "file_extension": ".py",
   "mimetype": "text/x-python",
   "name": "python",
   "nbconvert_exporter": "python",
   "pygments_lexer": "ipython3",
   "version": "3.8.8"
  },
  "toc": {
   "base_numbering": 1,
   "nav_menu": {},
   "number_sections": true,
   "sideBar": true,
   "skip_h1_title": false,
   "title_cell": "Table of Contents",
   "title_sidebar": "Contents",
   "toc_cell": false,
   "toc_position": {
    "height": "calc(100% - 180px)",
    "left": "10px",
    "top": "150px",
    "width": "272.2px"
   },
   "toc_section_display": true,
   "toc_window_display": true
  }
 },
 "nbformat": 4,
 "nbformat_minor": 5
}
