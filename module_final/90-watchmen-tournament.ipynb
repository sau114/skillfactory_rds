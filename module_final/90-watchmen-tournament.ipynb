{
 "cells": [
  {
   "cell_type": "code",
   "execution_count": 1,
   "id": "1476e0be",
   "metadata": {
    "ExecuteTime": {
     "end_time": "2022-08-19T11:03:35.009204Z",
     "start_time": "2022-08-19T11:03:34.965175Z"
    }
   },
   "outputs": [],
   "source": [
    "!del /Q utils\\__pycache__"
   ]
  },
  {
   "cell_type": "code",
   "execution_count": 2,
   "id": "2e78844e",
   "metadata": {
    "ExecuteTime": {
     "end_time": "2022-08-19T11:03:35.765891Z",
     "start_time": "2022-08-19T11:03:35.011169Z"
    }
   },
   "outputs": [],
   "source": [
    "import pandas as pd\n",
    "from tqdm.notebook import tqdm"
   ]
  },
  {
   "cell_type": "code",
   "execution_count": 3,
   "id": "97fd5573",
   "metadata": {
    "ExecuteTime": {
     "end_time": "2022-08-19T11:03:35.796845Z",
     "start_time": "2022-08-19T11:03:35.769284Z"
    }
   },
   "outputs": [],
   "source": [
    "from adtk.metrics import f1_score, precision, recall"
   ]
  },
  {
   "cell_type": "code",
   "execution_count": 4,
   "id": "ad8c2e7e",
   "metadata": {
    "ExecuteTime": {
     "end_time": "2022-08-19T11:03:36.505435Z",
     "start_time": "2022-08-19T11:03:35.799358Z"
    }
   },
   "outputs": [],
   "source": [
    "from utils.datasets import GhlKasperskyDataset, TepHarvardDataset\n",
    "from utils.watchmen import LimitWatchman, LimitPcaWatchman, SpePcaWatchman\n",
    "from utils.custom_plots import plot_stacked"
   ]
  },
  {
   "cell_type": "markdown",
   "id": "d36e8a44",
   "metadata": {
    "ExecuteTime": {
     "end_time": "2022-08-19T10:07:19.598656Z",
     "start_time": "2022-08-19T10:07:18.676895Z"
    }
   },
   "source": [
    "# Preparing datasets"
   ]
  },
  {
   "cell_type": "markdown",
   "id": "12a559fc",
   "metadata": {},
   "source": [
    "## GHL"
   ]
  },
  {
   "cell_type": "code",
   "execution_count": 5,
   "id": "02648000",
   "metadata": {
    "ExecuteTime": {
     "end_time": "2022-08-19T11:03:36.536775Z",
     "start_time": "2022-08-19T11:03:36.505435Z"
    }
   },
   "outputs": [
    {
     "data": {
      "text/plain": [
       "GhlKasperskyDataset(E:\\Datasets\\GHL)"
      ]
     },
     "execution_count": 5,
     "metadata": {},
     "output_type": "execute_result"
    }
   ],
   "source": [
    "ghl = GhlKasperskyDataset()\n",
    "ghl"
   ]
  },
  {
   "cell_type": "markdown",
   "id": "e52ef1a8",
   "metadata": {},
   "source": [
    "## TEP Harvard"
   ]
  },
  {
   "cell_type": "code",
   "execution_count": 6,
   "id": "bedb1dda",
   "metadata": {
    "ExecuteTime": {
     "end_time": "2022-08-19T11:03:36.552795Z",
     "start_time": "2022-08-19T11:03:36.538678Z"
    }
   },
   "outputs": [
    {
     "data": {
      "text/plain": [
       "TepHarvardDataset(E:\\Datasets\\TEP\\dataverse)"
      ]
     },
     "execution_count": 6,
     "metadata": {},
     "output_type": "execute_result"
    }
   ],
   "source": [
    "tep1 = TepHarvardDataset()\n",
    "tep1"
   ]
  },
  {
   "cell_type": "markdown",
   "id": "65a22bab",
   "metadata": {},
   "source": [
    "## Bring them all"
   ]
  },
  {
   "cell_type": "code",
   "execution_count": 7,
   "id": "74c0611a",
   "metadata": {
    "ExecuteTime": {
     "end_time": "2022-08-19T11:03:36.568092Z",
     "start_time": "2022-08-19T11:03:36.555714Z"
    }
   },
   "outputs": [],
   "source": [
    "datasets = {\n",
    "    0: ghl,\n",
    "    1: tep1,\n",
    "}"
   ]
  },
  {
   "cell_type": "markdown",
   "id": "957445e7",
   "metadata": {},
   "source": [
    "# Preparing watchmen"
   ]
  },
  {
   "cell_type": "markdown",
   "id": "9859d060",
   "metadata": {},
   "source": [
    "## LimitWatchman"
   ]
  },
  {
   "cell_type": "code",
   "execution_count": 8,
   "id": "28c05484",
   "metadata": {
    "ExecuteTime": {
     "end_time": "2022-08-19T11:03:36.583834Z",
     "start_time": "2022-08-19T11:03:36.570677Z"
    }
   },
   "outputs": [],
   "source": [
    "limit_watchmen = {\n",
    "    0: LimitWatchman(),\n",
    "    1: LimitWatchman(ewma='3 min'),\n",
    "}"
   ]
  },
  {
   "cell_type": "markdown",
   "id": "341dc1ea",
   "metadata": {},
   "source": [
    "## LimitPcaWatchman"
   ]
  },
  {
   "cell_type": "code",
   "execution_count": 9,
   "id": "e0e6eb33",
   "metadata": {
    "ExecuteTime": {
     "end_time": "2022-08-19T11:03:36.599776Z",
     "start_time": "2022-08-19T11:03:36.588678Z"
    }
   },
   "outputs": [],
   "source": [
    "limit_pca_watchmen = {\n",
    "    0: LimitPcaWatchman(n_components=1),\n",
    "    1: LimitPcaWatchman(n_components=12),\n",
    "}"
   ]
  },
  {
   "cell_type": "code",
   "execution_count": 10,
   "id": "d1ba7744",
   "metadata": {
    "ExecuteTime": {
     "end_time": "2022-08-19T11:03:52.314191Z",
     "start_time": "2022-08-19T11:03:36.602681Z"
    }
   },
   "outputs": [
    {
     "data": {
      "application/vnd.jupyter.widget-view+json": {
       "model_id": "094617bf3e734bb28ab8a62eb1d2cae5",
       "version_major": 2,
       "version_minor": 0
      },
      "text/plain": [
       "fit scaler on dataset 0: 0it [00:00, ?it/s]"
      ]
     },
     "metadata": {},
     "output_type": "display_data"
    },
    {
     "data": {
      "application/vnd.jupyter.widget-view+json": {
       "model_id": "d00a40d738e84e19b29338c00b20325c",
       "version_major": 2,
       "version_minor": 0
      },
      "text/plain": [
       "fit pca on dataset 0: 0it [00:00, ?it/s]"
      ]
     },
     "metadata": {},
     "output_type": "display_data"
    },
    {
     "data": {
      "application/vnd.jupyter.widget-view+json": {
       "model_id": "26d7c058d4b04c3ebd30406342ed81f9",
       "version_major": 2,
       "version_minor": 0
      },
      "text/plain": [
       "fit scaler on dataset 1: 0it [00:00, ?it/s]"
      ]
     },
     "metadata": {},
     "output_type": "display_data"
    },
    {
     "data": {
      "application/vnd.jupyter.widget-view+json": {
       "model_id": "43f5e5a7e35c47a7b08660b4109f8aaf",
       "version_major": 2,
       "version_minor": 0
      },
      "text/plain": [
       "fit pca on dataset 1: 0it [00:00, ?it/s]"
      ]
     },
     "metadata": {},
     "output_type": "display_data"
    }
   ],
   "source": [
    "for k in datasets:\n",
    "    datasets[k].shake_not_stir()\n",
    "    for data, faults, info in tqdm(datasets[k].train_generator(), desc=f'fit scaler on dataset {k}'):\n",
    "        limit_pca_watchmen[k].partial_fit_scaler(data)\n",
    "    for data, faults, info in tqdm(datasets[k].train_generator(), desc=f'fit pca on dataset {k}'):\n",
    "        limit_pca_watchmen[k].partial_fit_pca(data)        "
   ]
  },
  {
   "cell_type": "markdown",
   "id": "e3941470",
   "metadata": {},
   "source": [
    "## SpePcaWatchman"
   ]
  },
  {
   "cell_type": "code",
   "execution_count": 11,
   "id": "355f237f",
   "metadata": {
    "ExecuteTime": {
     "end_time": "2022-08-19T11:03:52.330223Z",
     "start_time": "2022-08-19T11:03:52.317133Z"
    }
   },
   "outputs": [],
   "source": [
    "spe_pca_watchmen = {\n",
    "    0: SpePcaWatchman(n_components=1),\n",
    "    1: SpePcaWatchman(n_components=12),\n",
    "}"
   ]
  },
  {
   "cell_type": "code",
   "execution_count": 12,
   "id": "19d17dcc",
   "metadata": {
    "ExecuteTime": {
     "end_time": "2022-08-19T11:04:08.119034Z",
     "start_time": "2022-08-19T11:03:52.333503Z"
    }
   },
   "outputs": [
    {
     "data": {
      "application/vnd.jupyter.widget-view+json": {
       "model_id": "87bd534d64b542fa9c3613c75b5ae7ef",
       "version_major": 2,
       "version_minor": 0
      },
      "text/plain": [
       "fit scaler on dataset 0: 0it [00:00, ?it/s]"
      ]
     },
     "metadata": {},
     "output_type": "display_data"
    },
    {
     "data": {
      "application/vnd.jupyter.widget-view+json": {
       "model_id": "3bf70ae2026e45ff93842e6d6c0d33d6",
       "version_major": 2,
       "version_minor": 0
      },
      "text/plain": [
       "fit pca on dataset 0: 0it [00:00, ?it/s]"
      ]
     },
     "metadata": {},
     "output_type": "display_data"
    },
    {
     "data": {
      "application/vnd.jupyter.widget-view+json": {
       "model_id": "b5d9335c8e0a4cd9b3e6f21536261a2f",
       "version_major": 2,
       "version_minor": 0
      },
      "text/plain": [
       "fit scaler on dataset 1: 0it [00:00, ?it/s]"
      ]
     },
     "metadata": {},
     "output_type": "display_data"
    },
    {
     "data": {
      "application/vnd.jupyter.widget-view+json": {
       "model_id": "631a984f19cb4270a25d0adbd616050b",
       "version_major": 2,
       "version_minor": 0
      },
      "text/plain": [
       "fit pca on dataset 1: 0it [00:00, ?it/s]"
      ]
     },
     "metadata": {},
     "output_type": "display_data"
    }
   ],
   "source": [
    "for k in datasets:\n",
    "    datasets[k].shake_not_stir()\n",
    "    for data, _, _ in tqdm(datasets[k].train_generator(), desc=f'fit scaler on dataset {k}'):\n",
    "        spe_pca_watchmen[k].partial_fit_scaler(data)\n",
    "    for data, _, _ in tqdm(datasets[k].train_generator(), desc=f'fit pca on dataset {k}'):\n",
    "        spe_pca_watchmen[k].partial_fit_pca(data)        "
   ]
  },
  {
   "cell_type": "markdown",
   "id": "a6f844d3",
   "metadata": {},
   "source": [
    "## Bring them all"
   ]
  },
  {
   "cell_type": "code",
   "execution_count": 13,
   "id": "6904d4c5",
   "metadata": {
    "ExecuteTime": {
     "end_time": "2022-08-19T11:04:08.135045Z",
     "start_time": "2022-08-19T11:04:08.121982Z"
    }
   },
   "outputs": [],
   "source": [
    "watchmen = {\n",
    "    0: limit_watchmen,\n",
    "    1: limit_pca_watchmen,\n",
    "    2: spe_pca_watchmen,\n",
    "}"
   ]
  },
  {
   "cell_type": "markdown",
   "id": "107e4af2",
   "metadata": {},
   "source": [
    "# Learning"
   ]
  },
  {
   "cell_type": "code",
   "execution_count": 14,
   "id": "80a37d01",
   "metadata": {
    "ExecuteTime": {
     "end_time": "2022-08-19T11:04:35.356778Z",
     "start_time": "2022-08-19T11:04:08.138089Z"
    }
   },
   "outputs": [
    {
     "data": {
      "application/vnd.jupyter.widget-view+json": {
       "model_id": "5fd9e1837d8643a8910f46ba36fcc79f",
       "version_major": 2,
       "version_minor": 0
      },
      "text/plain": [
       "learn watchman 0 on dataset 0: 0it [00:00, ?it/s]"
      ]
     },
     "metadata": {},
     "output_type": "display_data"
    },
    {
     "data": {
      "application/vnd.jupyter.widget-view+json": {
       "model_id": "078c7f014dd044cdb510f99199beffa1",
       "version_major": 2,
       "version_minor": 0
      },
      "text/plain": [
       "learn watchman 1 on dataset 0: 0it [00:00, ?it/s]"
      ]
     },
     "metadata": {},
     "output_type": "display_data"
    },
    {
     "data": {
      "application/vnd.jupyter.widget-view+json": {
       "model_id": "c0338c93e8f94db19a12924316415ccd",
       "version_major": 2,
       "version_minor": 0
      },
      "text/plain": [
       "learn watchman 2 on dataset 0: 0it [00:00, ?it/s]"
      ]
     },
     "metadata": {},
     "output_type": "display_data"
    },
    {
     "data": {
      "application/vnd.jupyter.widget-view+json": {
       "model_id": "2daf3c784a8b41dba40f45679c074eff",
       "version_major": 2,
       "version_minor": 0
      },
      "text/plain": [
       "learn watchman 0 on dataset 1: 0it [00:00, ?it/s]"
      ]
     },
     "metadata": {},
     "output_type": "display_data"
    },
    {
     "data": {
      "application/vnd.jupyter.widget-view+json": {
       "model_id": "d2af7b5550054cd39b38a62de4b95613",
       "version_major": 2,
       "version_minor": 0
      },
      "text/plain": [
       "learn watchman 1 on dataset 1: 0it [00:00, ?it/s]"
      ]
     },
     "metadata": {},
     "output_type": "display_data"
    },
    {
     "data": {
      "application/vnd.jupyter.widget-view+json": {
       "model_id": "6e86028b18c3488ba493882a0fa3785e",
       "version_major": 2,
       "version_minor": 0
      },
      "text/plain": [
       "learn watchman 2 on dataset 1: 0it [00:00, ?it/s]"
      ]
     },
     "metadata": {},
     "output_type": "display_data"
    }
   ],
   "source": [
    "for k in datasets:\n",
    "    datasets[k].shake_not_stir()\n",
    "    for w in watchmen:\n",
    "        for data, _, _ in tqdm(datasets[k].train_generator(), desc=f'learn watchman {w} on dataset {k}'):\n",
    "            watchmen[w][k].learn(data)"
   ]
  },
  {
   "cell_type": "markdown",
   "id": "1af7a778",
   "metadata": {},
   "source": [
    "# Examine"
   ]
  },
  {
   "cell_type": "code",
   "execution_count": null,
   "id": "49db4324",
   "metadata": {},
   "outputs": [],
   "source": []
  }
 ],
 "metadata": {
  "kernelspec": {
   "display_name": "Python 3 (ipykernel)",
   "language": "python",
   "name": "python3"
  },
  "language_info": {
   "codemirror_mode": {
    "name": "ipython",
    "version": 3
   },
   "file_extension": ".py",
   "mimetype": "text/x-python",
   "name": "python",
   "nbconvert_exporter": "python",
   "pygments_lexer": "ipython3",
   "version": "3.8.8"
  },
  "toc": {
   "base_numbering": 1,
   "nav_menu": {},
   "number_sections": true,
   "sideBar": true,
   "skip_h1_title": false,
   "title_cell": "Table of Contents",
   "title_sidebar": "Contents",
   "toc_cell": false,
   "toc_position": {},
   "toc_section_display": true,
   "toc_window_display": true
  }
 },
 "nbformat": 4,
 "nbformat_minor": 5
}
