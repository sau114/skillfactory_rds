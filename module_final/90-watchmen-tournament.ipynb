{
 "cells": [
  {
   "cell_type": "code",
   "execution_count": 1,
   "id": "3afcaa82",
   "metadata": {
    "ExecuteTime": {
     "end_time": "2022-08-30T10:20:57.285138Z",
     "start_time": "2022-08-30T10:20:57.244204Z"
    }
   },
   "outputs": [],
   "source": [
    "!del /Q utils\\__pycache__"
   ]
  },
  {
   "cell_type": "code",
   "execution_count": 2,
   "id": "86b03be5",
   "metadata": {
    "ExecuteTime": {
     "end_time": "2022-08-30T10:20:58.249852Z",
     "start_time": "2022-08-30T10:20:57.288555Z"
    }
   },
   "outputs": [],
   "source": [
    "import pandas as pd\n",
    "from tqdm.notebook import tqdm"
   ]
  },
  {
   "cell_type": "code",
   "execution_count": 3,
   "id": "b9bc2432",
   "metadata": {
    "ExecuteTime": {
     "end_time": "2022-08-30T10:20:58.265649Z",
     "start_time": "2022-08-30T10:20:58.252855Z"
    }
   },
   "outputs": [],
   "source": [
    "from utils.metrics import time_span_metrics"
   ]
  },
  {
   "cell_type": "code",
   "execution_count": 4,
   "id": "f34899c4",
   "metadata": {
    "ExecuteTime": {
     "end_time": "2022-08-30T10:20:59.293493Z",
     "start_time": "2022-08-30T10:20:58.270866Z"
    }
   },
   "outputs": [],
   "source": [
    "from utils.datasets import GhlKasperskyDataset, TepHarvardDataset, TepKasperskyDataset, SwatItrustDataset\n",
    "from utils.watchmen import LimitWatchman, LimitPcaWatchman, SpePcaWatchman, IsolatingWatchman, LinearPredictWatchman\n",
    "from utils.custom_plots import plot_stacked"
   ]
  },
  {
   "cell_type": "code",
   "execution_count": 5,
   "id": "f4e9bb0f",
   "metadata": {
    "ExecuteTime": {
     "end_time": "2022-08-30T10:20:59.308977Z",
     "start_time": "2022-08-30T10:20:59.297148Z"
    }
   },
   "outputs": [],
   "source": [
    "SEED = 1729"
   ]
  },
  {
   "cell_type": "markdown",
   "id": "ab2d87dc",
   "metadata": {
    "ExecuteTime": {
     "end_time": "2022-08-19T10:07:19.598656Z",
     "start_time": "2022-08-19T10:07:18.676895Z"
    }
   },
   "source": [
    "# Preparing datasets"
   ]
  },
  {
   "cell_type": "code",
   "execution_count": 6,
   "id": "cb921176",
   "metadata": {
    "ExecuteTime": {
     "end_time": "2022-08-30T10:20:59.324830Z",
     "start_time": "2022-08-30T10:20:59.311933Z"
    }
   },
   "outputs": [],
   "source": [
    "datasets = {\n",
    "    0: GhlKasperskyDataset(),\n",
    "#     1: TepHarvardDataset(),\n",
    "    2: TepKasperskyDataset(),\n",
    "    3: SwatItrustDataset(),\n",
    "}"
   ]
  },
  {
   "cell_type": "markdown",
   "id": "f007db40",
   "metadata": {},
   "source": [
    "# Preparing watchmen"
   ]
  },
  {
   "cell_type": "markdown",
   "id": "cfcd94df",
   "metadata": {},
   "source": [
    "## LimitWatchman"
   ]
  },
  {
   "cell_type": "code",
   "execution_count": 7,
   "id": "659e26d6",
   "metadata": {
    "ExecuteTime": {
     "end_time": "2022-08-30T10:20:59.340193Z",
     "start_time": "2022-08-30T10:20:59.328824Z"
    }
   },
   "outputs": [],
   "source": [
    "# one for every dataset\n",
    "limit_watchmen = {\n",
    "    0: LimitWatchman(),\n",
    "    1: LimitWatchman(ewma='3 min'),\n",
    "    2: LimitWatchman(),\n",
    "    3: LimitWatchman(),\n",
    "}"
   ]
  },
  {
   "cell_type": "markdown",
   "id": "9241eabd",
   "metadata": {},
   "source": [
    "## LimitPcaWatchman"
   ]
  },
  {
   "cell_type": "code",
   "execution_count": 8,
   "id": "faa49d97",
   "metadata": {
    "ExecuteTime": {
     "end_time": "2022-08-30T10:20:59.356004Z",
     "start_time": "2022-08-30T10:20:59.343061Z"
    }
   },
   "outputs": [],
   "source": [
    "# one for every dataset\n",
    "limit_pca_watchmen = {\n",
    "    0: LimitPcaWatchman(n_components=3),\n",
    "    1: LimitPcaWatchman(n_components=12),\n",
    "    2: LimitPcaWatchman(n_components=3),\n",
    "    3: LimitPcaWatchman(n_components=3),\n",
    "}"
   ]
  },
  {
   "cell_type": "markdown",
   "id": "e7edb216",
   "metadata": {},
   "source": [
    "## SpePcaWatchman"
   ]
  },
  {
   "cell_type": "code",
   "execution_count": 9,
   "id": "0cd8bc3d",
   "metadata": {
    "ExecuteTime": {
     "end_time": "2022-08-30T10:20:59.371400Z",
     "start_time": "2022-08-30T10:20:59.357957Z"
    }
   },
   "outputs": [],
   "source": [
    "# one for every dataset\n",
    "spe_pca_watchmen = {\n",
    "    0: SpePcaWatchman(n_components=3),\n",
    "    1: SpePcaWatchman(n_components=12),\n",
    "    2: SpePcaWatchman(n_components=3),\n",
    "    3: SpePcaWatchman(n_components=3),\n",
    "}"
   ]
  },
  {
   "cell_type": "markdown",
   "id": "e5471847",
   "metadata": {},
   "source": [
    "## Isolating Watchman"
   ]
  },
  {
   "cell_type": "code",
   "execution_count": 10,
   "id": "55301001",
   "metadata": {
    "ExecuteTime": {
     "end_time": "2022-08-30T10:20:59.387021Z",
     "start_time": "2022-08-30T10:20:59.375006Z"
    }
   },
   "outputs": [],
   "source": [
    "# one for every dataset\n",
    "isolating_watchmen = {\n",
    "    0: IsolatingWatchman(max_samples=256, random_state=SEED),\n",
    "    1: IsolatingWatchman(max_samples=256, random_state=SEED),\n",
    "    2: IsolatingWatchman(max_samples=1024, random_state=SEED),\n",
    "    3: IsolatingWatchman(max_samples=256, random_state=SEED),\n",
    "}"
   ]
  },
  {
   "cell_type": "markdown",
   "id": "7e6ba7cb",
   "metadata": {},
   "source": [
    "## Linear Predict Watchman"
   ]
  },
  {
   "cell_type": "code",
   "execution_count": 11,
   "id": "c1c48724",
   "metadata": {
    "ExecuteTime": {
     "end_time": "2022-08-30T10:20:59.402967Z",
     "start_time": "2022-08-30T10:20:59.388863Z"
    }
   },
   "outputs": [],
   "source": [
    "# one for every dataset\n",
    "linear_predict_watchmen = {\n",
    "    0: LinearPredictWatchman(random_state=SEED),\n",
    "    1: LinearPredictWatchman(random_state=SEED),\n",
    "    2: LinearPredictWatchman(random_state=SEED),\n",
    "    3: LinearPredictWatchman(random_state=SEED),\n",
    "}"
   ]
  },
  {
   "cell_type": "markdown",
   "id": "aa8b4956",
   "metadata": {},
   "source": [
    "## Bring them all"
   ]
  },
  {
   "cell_type": "code",
   "execution_count": 12,
   "id": "b5c900e8",
   "metadata": {
    "ExecuteTime": {
     "end_time": "2022-08-30T10:20:59.418395Z",
     "start_time": "2022-08-30T10:20:59.407536Z"
    }
   },
   "outputs": [],
   "source": [
    "watchmen = {\n",
    "    0: limit_watchmen,\n",
    "    1: limit_pca_watchmen,\n",
    "    2: spe_pca_watchmen,\n",
    "    3: isolating_watchmen,\n",
    "    4: linear_predict_watchmen,\n",
    "}"
   ]
  },
  {
   "cell_type": "markdown",
   "id": "be4104e1",
   "metadata": {},
   "source": [
    "# Learning"
   ]
  },
  {
   "cell_type": "markdown",
   "id": "8fa34354",
   "metadata": {},
   "source": [
    "## Prefit"
   ]
  },
  {
   "cell_type": "code",
   "execution_count": 13,
   "id": "53beb5b4",
   "metadata": {
    "ExecuteTime": {
     "end_time": "2022-08-30T10:21:42.967999Z",
     "start_time": "2022-08-30T10:20:59.423243Z"
    }
   },
   "outputs": [
    {
     "data": {
      "application/vnd.jupyter.widget-view+json": {
       "model_id": "1de671cce8e049868fab1bed33d4b9c3",
       "version_major": 2,
       "version_minor": 0
      },
      "text/plain": [
       "prefit on dataset 0: 0it [00:00, ?it/s]"
      ]
     },
     "metadata": {},
     "output_type": "display_data"
    },
    {
     "data": {
      "application/vnd.jupyter.widget-view+json": {
       "model_id": "a42ea7a4160949b2a954a9fda1da47fc",
       "version_major": 2,
       "version_minor": 0
      },
      "text/plain": [
       "prefit on dataset 2: 0it [00:00, ?it/s]"
      ]
     },
     "metadata": {},
     "output_type": "display_data"
    },
    {
     "data": {
      "application/vnd.jupyter.widget-view+json": {
       "model_id": "9dbba328d92e4c54899cfb8605bc27b2",
       "version_major": 2,
       "version_minor": 0
      },
      "text/plain": [
       "prefit on dataset 3: 0it [00:00, ?it/s]"
      ]
     },
     "metadata": {},
     "output_type": "display_data"
    }
   ],
   "source": [
    "for d in datasets:\n",
    "    datasets[d].shake_not_stir(valid_test_ratio=0.0, random_state=SEED)\n",
    "    for data, _, _ in tqdm(datasets[d].train_generator(), desc=f'prefit on dataset {d}'):\n",
    "        for w in watchmen:\n",
    "            watchmen[w][d].prefit(data)"
   ]
  },
  {
   "cell_type": "markdown",
   "id": "77312393",
   "metadata": {},
   "source": [
    "## Fit"
   ]
  },
  {
   "cell_type": "code",
   "execution_count": 14,
   "id": "ea1f2f67",
   "metadata": {
    "ExecuteTime": {
     "end_time": "2022-08-30T10:28:00.683846Z",
     "start_time": "2022-08-30T10:21:42.971461Z"
    }
   },
   "outputs": [
    {
     "data": {
      "application/vnd.jupyter.widget-view+json": {
       "model_id": "eb86862de2344d5ca11040911f75a08e",
       "version_major": 2,
       "version_minor": 0
      },
      "text/plain": [
       "fit on dataset 0: 0it [00:00, ?it/s]"
      ]
     },
     "metadata": {},
     "output_type": "display_data"
    },
    {
     "data": {
      "application/vnd.jupyter.widget-view+json": {
       "model_id": "77e8fd3db2604748af2b5a3acea25261",
       "version_major": 2,
       "version_minor": 0
      },
      "text/plain": [
       "fit on dataset 2: 0it [00:00, ?it/s]"
      ]
     },
     "metadata": {},
     "output_type": "display_data"
    },
    {
     "data": {
      "application/vnd.jupyter.widget-view+json": {
       "model_id": "62b718b9181541c688bd120508d27fba",
       "version_major": 2,
       "version_minor": 0
      },
      "text/plain": [
       "fit on dataset 3: 0it [00:00, ?it/s]"
      ]
     },
     "metadata": {},
     "output_type": "display_data"
    }
   ],
   "source": [
    "for d in datasets:\n",
    "    datasets[d].shake_not_stir(valid_test_ratio=0.0, random_state=SEED)\n",
    "    for data, _, _ in tqdm(datasets[d].train_generator(), desc=f'fit on dataset {d}'):\n",
    "        for w in watchmen:\n",
    "            watchmen[w][d].partial_fit(data)"
   ]
  },
  {
   "cell_type": "markdown",
   "id": "5c728a4c",
   "metadata": {},
   "source": [
    "# Examine"
   ]
  },
  {
   "cell_type": "code",
   "execution_count": 15,
   "id": "c741772e",
   "metadata": {
    "ExecuteTime": {
     "end_time": "2022-08-30T10:28:00.699296Z",
     "start_time": "2022-08-30T10:28:00.686181Z"
    }
   },
   "outputs": [],
   "source": [
    "# СДЕЛАТЬ ТАБЛИЦУ ИНАЧЕ !!"
   ]
  },
  {
   "cell_type": "code",
   "execution_count": 16,
   "id": "257c5e42",
   "metadata": {
    "ExecuteTime": {
     "end_time": "2022-08-30T10:28:00.714873Z",
     "start_time": "2022-08-30T10:28:00.703233Z"
    }
   },
   "outputs": [],
   "source": [
    "exam_index = [watchmen[w][0].__class__.__name__ for w in watchmen]\n",
    "exam_metric = ['precision', 'recall', 'f1_score']\n",
    "exam_table = {d: pd.DataFrame(index=exam_index, columns=exam_metric) for d in datasets}"
   ]
  },
  {
   "cell_type": "code",
   "execution_count": 17,
   "id": "2eeb2ed3",
   "metadata": {
    "ExecuteTime": {
     "end_time": "2022-08-30T10:55:37.399025Z",
     "start_time": "2022-08-30T10:28:00.717752Z"
    }
   },
   "outputs": [
    {
     "data": {
      "application/vnd.jupyter.widget-view+json": {
       "model_id": "baad8ccda62f4f2eb74af1df9f584799",
       "version_major": 2,
       "version_minor": 0
      },
      "text/plain": [
       "examine dataset 0: 0it [00:00, ?it/s]"
      ]
     },
     "metadata": {},
     "output_type": "display_data"
    },
    {
     "data": {
      "application/vnd.jupyter.widget-view+json": {
       "model_id": "3fe15c9020aa4da4b7fc40d0145398c3",
       "version_major": 2,
       "version_minor": 0
      },
      "text/plain": [
       "examine dataset 2: 0it [00:00, ?it/s]"
      ]
     },
     "metadata": {},
     "output_type": "display_data"
    },
    {
     "data": {
      "application/vnd.jupyter.widget-view+json": {
       "model_id": "1ef2098896884454b859dd8ccc900723",
       "version_major": 2,
       "version_minor": 0
      },
      "text/plain": [
       "examine dataset 3: 0it [00:00, ?it/s]"
      ]
     },
     "metadata": {},
     "output_type": "display_data"
    }
   ],
   "source": [
    "for d in datasets:\n",
    "    datasets[d].shake_not_stir(valid_test_ratio=0.0, random_state=SEED)\n",
    "    exam_list = {w: pd.DataFrame(columns=['precision', 'recall', 'f1_score'], dtype='float') for w in watchmen}\n",
    "    for data, faults, info in tqdm(datasets[d].test_generator(), desc=f'examine dataset {d}'):\n",
    "        for w in watchmen:\n",
    "            detect = watchmen[w][d].predict(data)\n",
    "            exam_list[w].loc[info, exam_metric] = time_span_metrics(faults, detect)\n",
    "    for w in watchmen:\n",
    "        exam_table[d].loc[exam_index[w], exam_metric] = exam_list[w][exam_metric].mean()"
   ]
  },
  {
   "cell_type": "code",
   "execution_count": 19,
   "id": "4e04072b",
   "metadata": {
    "ExecuteTime": {
     "end_time": "2022-08-30T10:55:37.478826Z",
     "start_time": "2022-08-30T10:55:37.433730Z"
    }
   },
   "outputs": [
    {
     "name": "stdout",
     "output_type": "stream",
     "text": [
      "GhlKasperskyDataset(E:\\Datasets\\GHL)\n"
     ]
    },
    {
     "data": {
      "text/html": [
       "<div>\n",
       "<style scoped>\n",
       "    .dataframe tbody tr th:only-of-type {\n",
       "        vertical-align: middle;\n",
       "    }\n",
       "\n",
       "    .dataframe tbody tr th {\n",
       "        vertical-align: top;\n",
       "    }\n",
       "\n",
       "    .dataframe thead th {\n",
       "        text-align: right;\n",
       "    }\n",
       "</style>\n",
       "<table border=\"1\" class=\"dataframe\">\n",
       "  <thead>\n",
       "    <tr style=\"text-align: right;\">\n",
       "      <th></th>\n",
       "      <th>precision</th>\n",
       "      <th>recall</th>\n",
       "      <th>f1_score</th>\n",
       "    </tr>\n",
       "  </thead>\n",
       "  <tbody>\n",
       "    <tr>\n",
       "      <th>LimitWatchman</th>\n",
       "      <td>0.32572</td>\n",
       "      <td>0.643899</td>\n",
       "      <td>0.378634</td>\n",
       "    </tr>\n",
       "    <tr>\n",
       "      <th>LimitPcaWatchman</th>\n",
       "      <td>0.369174</td>\n",
       "      <td>0.383978</td>\n",
       "      <td>0.355303</td>\n",
       "    </tr>\n",
       "    <tr>\n",
       "      <th>SpePcaWatchman</th>\n",
       "      <td>0.0</td>\n",
       "      <td>0.0</td>\n",
       "      <td>0.0</td>\n",
       "    </tr>\n",
       "    <tr>\n",
       "      <th>IsolatingWatchman</th>\n",
       "      <td>0.016294</td>\n",
       "      <td>0.970982</td>\n",
       "      <td>0.031934</td>\n",
       "    </tr>\n",
       "    <tr>\n",
       "      <th>LinearPredictWatchman</th>\n",
       "      <td>0.013827</td>\n",
       "      <td>1.0</td>\n",
       "      <td>0.027189</td>\n",
       "    </tr>\n",
       "  </tbody>\n",
       "</table>\n",
       "</div>"
      ],
      "text/plain": [
       "                      precision    recall  f1_score\n",
       "LimitWatchman           0.32572  0.643899  0.378634\n",
       "LimitPcaWatchman       0.369174  0.383978  0.355303\n",
       "SpePcaWatchman              0.0       0.0       0.0\n",
       "IsolatingWatchman      0.016294  0.970982  0.031934\n",
       "LinearPredictWatchman  0.013827       1.0  0.027189"
      ]
     },
     "metadata": {},
     "output_type": "display_data"
    },
    {
     "name": "stdout",
     "output_type": "stream",
     "text": [
      "\n",
      "TepKasperskyDataset(E:\\Datasets\\TEP\\kaspersky)\n"
     ]
    },
    {
     "data": {
      "text/html": [
       "<div>\n",
       "<style scoped>\n",
       "    .dataframe tbody tr th:only-of-type {\n",
       "        vertical-align: middle;\n",
       "    }\n",
       "\n",
       "    .dataframe tbody tr th {\n",
       "        vertical-align: top;\n",
       "    }\n",
       "\n",
       "    .dataframe thead th {\n",
       "        text-align: right;\n",
       "    }\n",
       "</style>\n",
       "<table border=\"1\" class=\"dataframe\">\n",
       "  <thead>\n",
       "    <tr style=\"text-align: right;\">\n",
       "      <th></th>\n",
       "      <th>precision</th>\n",
       "      <th>recall</th>\n",
       "      <th>f1_score</th>\n",
       "    </tr>\n",
       "  </thead>\n",
       "  <tbody>\n",
       "    <tr>\n",
       "      <th>LimitWatchman</th>\n",
       "      <td>0.742059</td>\n",
       "      <td>0.433985</td>\n",
       "      <td>0.404575</td>\n",
       "    </tr>\n",
       "    <tr>\n",
       "      <th>LimitPcaWatchman</th>\n",
       "      <td>0.788462</td>\n",
       "      <td>0.243649</td>\n",
       "      <td>0.235529</td>\n",
       "    </tr>\n",
       "    <tr>\n",
       "      <th>SpePcaWatchman</th>\n",
       "      <td>0.976871</td>\n",
       "      <td>0.245566</td>\n",
       "      <td>0.253022</td>\n",
       "    </tr>\n",
       "    <tr>\n",
       "      <th>IsolatingWatchman</th>\n",
       "      <td>0.075873</td>\n",
       "      <td>1.0</td>\n",
       "      <td>0.116781</td>\n",
       "    </tr>\n",
       "    <tr>\n",
       "      <th>LinearPredictWatchman</th>\n",
       "      <td>0.352244</td>\n",
       "      <td>0.478348</td>\n",
       "      <td>0.250919</td>\n",
       "    </tr>\n",
       "  </tbody>\n",
       "</table>\n",
       "</div>"
      ],
      "text/plain": [
       "                      precision    recall  f1_score\n",
       "LimitWatchman          0.742059  0.433985  0.404575\n",
       "LimitPcaWatchman       0.788462  0.243649  0.235529\n",
       "SpePcaWatchman         0.976871  0.245566  0.253022\n",
       "IsolatingWatchman      0.075873       1.0  0.116781\n",
       "LinearPredictWatchman  0.352244  0.478348  0.250919"
      ]
     },
     "metadata": {},
     "output_type": "display_data"
    },
    {
     "name": "stdout",
     "output_type": "stream",
     "text": [
      "\n",
      "SwatItrustDataset(E:\\Datasets\\SWaT\\dataset12)\n"
     ]
    },
    {
     "data": {
      "text/html": [
       "<div>\n",
       "<style scoped>\n",
       "    .dataframe tbody tr th:only-of-type {\n",
       "        vertical-align: middle;\n",
       "    }\n",
       "\n",
       "    .dataframe tbody tr th {\n",
       "        vertical-align: top;\n",
       "    }\n",
       "\n",
       "    .dataframe thead th {\n",
       "        text-align: right;\n",
       "    }\n",
       "</style>\n",
       "<table border=\"1\" class=\"dataframe\">\n",
       "  <thead>\n",
       "    <tr style=\"text-align: right;\">\n",
       "      <th></th>\n",
       "      <th>precision</th>\n",
       "      <th>recall</th>\n",
       "      <th>f1_score</th>\n",
       "    </tr>\n",
       "  </thead>\n",
       "  <tbody>\n",
       "    <tr>\n",
       "      <th>LimitWatchman</th>\n",
       "      <td>0.3</td>\n",
       "      <td>1.0</td>\n",
       "      <td>0.461538</td>\n",
       "    </tr>\n",
       "    <tr>\n",
       "      <th>LimitPcaWatchman</th>\n",
       "      <td>0.285714</td>\n",
       "      <td>0.333333</td>\n",
       "      <td>0.307692</td>\n",
       "    </tr>\n",
       "    <tr>\n",
       "      <th>SpePcaWatchman</th>\n",
       "      <td>NaN</td>\n",
       "      <td>0.0</td>\n",
       "      <td>0.0</td>\n",
       "    </tr>\n",
       "    <tr>\n",
       "      <th>IsolatingWatchman</th>\n",
       "      <td>0.3</td>\n",
       "      <td>1.0</td>\n",
       "      <td>0.461538</td>\n",
       "    </tr>\n",
       "    <tr>\n",
       "      <th>LinearPredictWatchman</th>\n",
       "      <td>0.25</td>\n",
       "      <td>0.666667</td>\n",
       "      <td>0.363636</td>\n",
       "    </tr>\n",
       "  </tbody>\n",
       "</table>\n",
       "</div>"
      ],
      "text/plain": [
       "                      precision    recall  f1_score\n",
       "LimitWatchman               0.3       1.0  0.461538\n",
       "LimitPcaWatchman       0.285714  0.333333  0.307692\n",
       "SpePcaWatchman              NaN       0.0       0.0\n",
       "IsolatingWatchman           0.3       1.0  0.461538\n",
       "LinearPredictWatchman      0.25  0.666667  0.363636"
      ]
     },
     "metadata": {},
     "output_type": "display_data"
    },
    {
     "name": "stdout",
     "output_type": "stream",
     "text": [
      "\n"
     ]
    }
   ],
   "source": [
    "for d in datasets:\n",
    "    print(datasets[d])\n",
    "    display(exam_table[d])\n",
    "    print()"
   ]
  }
 ],
 "metadata": {
  "kernelspec": {
   "display_name": "Python 3 (ipykernel)",
   "language": "python",
   "name": "python3"
  },
  "language_info": {
   "codemirror_mode": {
    "name": "ipython",
    "version": 3
   },
   "file_extension": ".py",
   "mimetype": "text/x-python",
   "name": "python",
   "nbconvert_exporter": "python",
   "pygments_lexer": "ipython3",
   "version": "3.8.8"
  },
  "toc": {
   "base_numbering": 1,
   "nav_menu": {},
   "number_sections": true,
   "sideBar": true,
   "skip_h1_title": false,
   "title_cell": "Table of Contents",
   "title_sidebar": "Contents",
   "toc_cell": false,
   "toc_position": {
    "height": "calc(100% - 180px)",
    "left": "10px",
    "top": "150px",
    "width": "272.2px"
   },
   "toc_section_display": true,
   "toc_window_display": true
  }
 },
 "nbformat": 4,
 "nbformat_minor": 5
}
