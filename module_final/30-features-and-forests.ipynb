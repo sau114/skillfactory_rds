{
 "cells": [
  {
   "cell_type": "code",
   "execution_count": 1,
   "id": "2b2ce1b4",
   "metadata": {
    "ExecuteTime": {
     "end_time": "2022-08-25T11:30:16.796953Z",
     "start_time": "2022-08-25T11:30:16.751850Z"
    }
   },
   "outputs": [],
   "source": [
    "!del /Q utils\\__pycache__"
   ]
  },
  {
   "cell_type": "code",
   "execution_count": 2,
   "id": "e079cd6f",
   "metadata": {
    "ExecuteTime": {
     "end_time": "2022-08-25T11:30:17.638179Z",
     "start_time": "2022-08-25T11:30:16.798848Z"
    }
   },
   "outputs": [],
   "source": [
    "import pandas as pd\n",
    "from tqdm.notebook import tqdm"
   ]
  },
  {
   "cell_type": "code",
   "execution_count": 3,
   "id": "7e87a04e",
   "metadata": {
    "ExecuteTime": {
     "end_time": "2022-08-25T11:30:18.510628Z",
     "start_time": "2022-08-25T11:30:17.641177Z"
    }
   },
   "outputs": [],
   "source": [
    "from utils.datasets import GhlKasperskyDataset, TepHarvardDataset, TepKasperskyDataset\n",
    "from utils.watchmen import IsolatingWatchman\n",
    "from utils.metrics import time_span_metrics\n",
    "from utils.custom_plots import plot_stacked"
   ]
  },
  {
   "cell_type": "markdown",
   "id": "5dd7567c",
   "metadata": {},
   "source": [
    "## GHL"
   ]
  },
  {
   "cell_type": "code",
   "execution_count": 4,
   "id": "deee08ee",
   "metadata": {
    "ExecuteTime": {
     "end_time": "2022-08-25T11:30:18.526631Z",
     "start_time": "2022-08-25T11:30:18.512625Z"
    }
   },
   "outputs": [],
   "source": [
    "ds = GhlKasperskyDataset()\n",
    "ds.shake_not_stir(valid_test_ratio=0.4)"
   ]
  },
  {
   "cell_type": "code",
   "execution_count": 5,
   "id": "c4b93514",
   "metadata": {
    "ExecuteTime": {
     "end_time": "2022-08-25T11:30:18.542713Z",
     "start_time": "2022-08-25T11:30:18.529626Z"
    }
   },
   "outputs": [],
   "source": [
    "watchman = IsolatingWatchman(random_state=31)"
   ]
  },
  {
   "cell_type": "code",
   "execution_count": 6,
   "id": "e6927a59",
   "metadata": {
    "ExecuteTime": {
     "end_time": "2022-08-25T11:30:18.714693Z",
     "start_time": "2022-08-25T11:30:18.545640Z"
    }
   },
   "outputs": [
    {
     "data": {
      "application/vnd.jupyter.widget-view+json": {
       "model_id": "99553609613748d3a45666a855925a5f",
       "version_major": 2,
       "version_minor": 0
      },
      "text/plain": [
       "  0%|          | 0/1 [00:00<?, ?it/s]"
      ]
     },
     "metadata": {},
     "output_type": "display_data"
    }
   ],
   "source": [
    "train_gen = ds.train_generator()\n",
    "for train, _, _ in tqdm(train_gen, total=1):\n",
    "    watchman.partial_fit(train)"
   ]
  },
  {
   "cell_type": "code",
   "execution_count": 7,
   "id": "5cb3ff65",
   "metadata": {
    "ExecuteTime": {
     "end_time": "2022-08-25T11:30:18.730534Z",
     "start_time": "2022-08-25T11:30:18.717533Z"
    }
   },
   "outputs": [
    {
     "data": {
      "text/plain": [
       "IsolatingWatchman(n_trees=17)"
      ]
     },
     "execution_count": 7,
     "metadata": {},
     "output_type": "execute_result"
    }
   ],
   "source": [
    "watchman"
   ]
  },
  {
   "cell_type": "code",
   "execution_count": 8,
   "id": "b616ce58",
   "metadata": {
    "ExecuteTime": {
     "end_time": "2022-08-25T11:30:19.462062Z",
     "start_time": "2022-08-25T11:30:18.733534Z"
    }
   },
   "outputs": [
    {
     "data": {
      "application/vnd.jupyter.widget-view+json": {
       "model_id": "67c42282c2d345d38a13930253faf696",
       "version_major": 2,
       "version_minor": 0
      },
      "text/plain": [
       "  0%|          | 0/19 [00:00<?, ?it/s]"
      ]
     },
     "metadata": {},
     "output_type": "display_data"
    }
   ],
   "source": [
    "valid_gen = ds.valid_generator()\n",
    "examine_list = pd.DataFrame(columns=['precision', 'recall', 'f1_score'], dtype='float')\n",
    "for valid, faults, info in tqdm(valid_gen, total=19):\n",
    "    detect = watchman.predict(valid)\n",
    "    examine_list.loc[info] = time_span_metrics(faults, detect)\n",
    "#     if max(faults) and max(detect):\n",
    "#         plot_stacked(data,\n",
    "#                      title=info,\n",
    "#                      group='value_unit',\n",
    "#                      faults=faults,\n",
    "#                      detect=detect,\n",
    "#                     )"
   ]
  },
  {
   "cell_type": "code",
   "execution_count": 9,
   "id": "5cb472d8",
   "metadata": {
    "ExecuteTime": {
     "end_time": "2022-08-25T11:30:19.478118Z",
     "start_time": "2022-08-25T11:30:19.468031Z"
    },
    "scrolled": true
   },
   "outputs": [
    {
     "data": {
      "text/plain": [
       "precision    0.013455\n",
       "recall       1.000000\n",
       "f1_score     0.026500\n",
       "dtype: float64"
      ]
     },
     "execution_count": 9,
     "metadata": {},
     "output_type": "execute_result"
    }
   ],
   "source": [
    "examine_list.mean()"
   ]
  },
  {
   "cell_type": "markdown",
   "id": "aa910a2a",
   "metadata": {},
   "source": [
    "## TEP Harvard"
   ]
  },
  {
   "cell_type": "code",
   "execution_count": 10,
   "id": "978c6f5e",
   "metadata": {
    "ExecuteTime": {
     "end_time": "2022-08-25T11:30:19.572131Z",
     "start_time": "2022-08-25T11:30:19.481030Z"
    }
   },
   "outputs": [],
   "source": [
    "ds = TepHarvardDataset()\n",
    "ds.shake_not_stir(valid_test_ratio=0.5, balanced_test=True)"
   ]
  },
  {
   "cell_type": "code",
   "execution_count": 11,
   "id": "24524a27",
   "metadata": {
    "ExecuteTime": {
     "end_time": "2022-08-25T11:30:19.588065Z",
     "start_time": "2022-08-25T11:30:19.576044Z"
    }
   },
   "outputs": [],
   "source": [
    "watchman = IsolatingWatchman(random_state=31)"
   ]
  },
  {
   "cell_type": "code",
   "execution_count": 12,
   "id": "8192572b",
   "metadata": {
    "ExecuteTime": {
     "end_time": "2022-08-25T11:30:27.991021Z",
     "start_time": "2022-08-25T11:30:19.591669Z"
    }
   },
   "outputs": [
    {
     "data": {
      "application/vnd.jupyter.widget-view+json": {
       "model_id": "6511f9a256404f82a3f88807b8b589b6",
       "version_major": 2,
       "version_minor": 0
      },
      "text/plain": [
       "  0%|          | 0/500 [00:00<?, ?it/s]"
      ]
     },
     "metadata": {},
     "output_type": "display_data"
    }
   ],
   "source": [
    "train_gen = ds.train_generator()\n",
    "for train, _, _ in tqdm(train_gen, total=500):\n",
    "    watchman.partial_fit(train)"
   ]
  },
  {
   "cell_type": "code",
   "execution_count": 13,
   "id": "f82f461d",
   "metadata": {
    "ExecuteTime": {
     "end_time": "2022-08-25T11:30:28.007099Z",
     "start_time": "2022-08-25T11:30:27.992955Z"
    }
   },
   "outputs": [
    {
     "data": {
      "text/plain": [
       "IsolatingWatchman(n_trees=500)"
      ]
     },
     "execution_count": 13,
     "metadata": {},
     "output_type": "execute_result"
    }
   ],
   "source": [
    "watchman"
   ]
  },
  {
   "cell_type": "code",
   "execution_count": 14,
   "id": "323701de",
   "metadata": {
    "ExecuteTime": {
     "end_time": "2022-08-25T11:33:07.837340Z",
     "start_time": "2022-08-25T11:30:28.009557Z"
    }
   },
   "outputs": [
    {
     "data": {
      "application/vnd.jupyter.widget-view+json": {
       "model_id": "ad767e5e0cdb40ab80689b51c34075fb",
       "version_major": 2,
       "version_minor": 0
      },
      "text/plain": [
       "  0%|          | 0/500 [00:00<?, ?it/s]"
      ]
     },
     "metadata": {},
     "output_type": "display_data"
    }
   ],
   "source": [
    "valid_gen = ds.valid_generator()\n",
    "examine_list = pd.DataFrame(columns=['precision', 'recall', 'f1_score'], dtype='float')\n",
    "for valid, faults, info in tqdm(valid_gen, total=500):\n",
    "    detect = watchman.predict(valid)\n",
    "    examine_list.loc[info] = time_span_metrics(faults, detect)\n",
    "#     if max(faults) and max(detect):\n",
    "#         plot_stacked(data,\n",
    "#                      title=info,\n",
    "#                      group='value_unit',\n",
    "#                      faults=faults,\n",
    "#                      detect=detect,\n",
    "#                     )"
   ]
  },
  {
   "cell_type": "code",
   "execution_count": 15,
   "id": "43ac4a7a",
   "metadata": {
    "ExecuteTime": {
     "end_time": "2022-08-25T11:33:07.853189Z",
     "start_time": "2022-08-25T11:33:07.840063Z"
    }
   },
   "outputs": [
    {
     "data": {
      "text/plain": [
       "precision    1.000000\n",
       "recall       0.505437\n",
       "f1_score     0.589816\n",
       "dtype: float64"
      ]
     },
     "execution_count": 15,
     "metadata": {},
     "output_type": "execute_result"
    }
   ],
   "source": [
    "examine_list.mean()"
   ]
  },
  {
   "cell_type": "markdown",
   "id": "4647b7c5",
   "metadata": {},
   "source": [
    "## TEP Kaspersky"
   ]
  },
  {
   "cell_type": "code",
   "execution_count": 16,
   "id": "f5f09aec",
   "metadata": {
    "ExecuteTime": {
     "end_time": "2022-08-25T11:33:07.883493Z",
     "start_time": "2022-08-25T11:33:07.856202Z"
    }
   },
   "outputs": [],
   "source": [
    "ds = TepKasperskyDataset()\n",
    "ds.shake_not_stir(valid_test_ratio=0.4)"
   ]
  },
  {
   "cell_type": "code",
   "execution_count": 17,
   "id": "d28b8f53",
   "metadata": {
    "ExecuteTime": {
     "end_time": "2022-08-25T11:33:07.899565Z",
     "start_time": "2022-08-25T11:33:07.886005Z"
    }
   },
   "outputs": [],
   "source": [
    "watchman = IsolatingWatchman(random_state=31, max_samples=1024)"
   ]
  },
  {
   "cell_type": "code",
   "execution_count": 18,
   "id": "95d58e5e",
   "metadata": {
    "ExecuteTime": {
     "end_time": "2022-08-25T11:33:07.915585Z",
     "start_time": "2022-08-25T11:33:07.902495Z"
    }
   },
   "outputs": [
    {
     "data": {
      "text/plain": [
       "IsolationForest(max_samples=2048, n_estimators=0, n_jobs=-1, random_state=31,\n",
       "                warm_start=True)"
      ]
     },
     "execution_count": 18,
     "metadata": {},
     "output_type": "execute_result"
    }
   ],
   "source": [
    "watchman.forest"
   ]
  },
  {
   "cell_type": "code",
   "execution_count": 19,
   "id": "ab5ddcba",
   "metadata": {
    "ExecuteTime": {
     "end_time": "2022-08-25T11:33:17.453365Z",
     "start_time": "2022-08-25T11:33:07.917494Z"
    }
   },
   "outputs": [
    {
     "data": {
      "application/vnd.jupyter.widget-view+json": {
       "model_id": "361b48ee010e4124bb125d0dd87ce011",
       "version_major": 2,
       "version_minor": 0
      },
      "text/plain": [
       "  0%|          | 0/400 [00:00<?, ?it/s]"
      ]
     },
     "metadata": {},
     "output_type": "display_data"
    }
   ],
   "source": [
    "train_gen = ds.train_generator()\n",
    "for train, _, _ in tqdm(train_gen, total=400):\n",
    "    watchman.partial_fit(train, increment=1)"
   ]
  },
  {
   "cell_type": "code",
   "execution_count": 20,
   "id": "62f4c9cf",
   "metadata": {
    "ExecuteTime": {
     "end_time": "2022-08-25T11:33:17.469118Z",
     "start_time": "2022-08-25T11:33:17.455308Z"
    }
   },
   "outputs": [
    {
     "data": {
      "text/plain": [
       "IsolatingWatchman(n_trees=400)"
      ]
     },
     "execution_count": 20,
     "metadata": {},
     "output_type": "execute_result"
    }
   ],
   "source": [
    "watchman"
   ]
  },
  {
   "cell_type": "code",
   "execution_count": 21,
   "id": "82132a94",
   "metadata": {
    "ExecuteTime": {
     "end_time": "2022-08-25T11:35:24.451057Z",
     "start_time": "2022-08-25T11:33:17.472262Z"
    }
   },
   "outputs": [
    {
     "data": {
      "application/vnd.jupyter.widget-view+json": {
       "model_id": "85228aa2925c49f888aab27b078398f2",
       "version_major": 2,
       "version_minor": 0
      },
      "text/plain": [
       "  0%|          | 0/115 [00:00<?, ?it/s]"
      ]
     },
     "metadata": {},
     "output_type": "display_data"
    }
   ],
   "source": [
    "valid_gen = ds.valid_generator()\n",
    "examine_list = pd.DataFrame(columns=['precision', 'recall', 'f1_score'], dtype='float')\n",
    "for valid, faults, info in tqdm(valid_gen, total=115):\n",
    "    detect = watchman.predict(valid)\n",
    "    examine_list.loc[info] = time_span_metrics(faults, detect)\n",
    "#     if max(faults) and max(detect):\n",
    "#         plot_stacked(data,\n",
    "#                      title=info,\n",
    "#                      group='value_unit',\n",
    "#                      faults=faults,\n",
    "#                      detect=detect,\n",
    "#                     )"
   ]
  },
  {
   "cell_type": "code",
   "execution_count": 22,
   "id": "496878cb",
   "metadata": {
    "ExecuteTime": {
     "end_time": "2022-08-25T11:35:24.481120Z",
     "start_time": "2022-08-25T11:35:24.455010Z"
    }
   },
   "outputs": [
    {
     "data": {
      "text/plain": [
       "precision    0.084068\n",
       "recall       1.000000\n",
       "f1_score     0.128973\n",
       "dtype: float64"
      ]
     },
     "execution_count": 22,
     "metadata": {},
     "output_type": "execute_result"
    }
   ],
   "source": [
    "examine_list.mean()"
   ]
  }
 ],
 "metadata": {
  "kernelspec": {
   "display_name": "Python 3 (ipykernel)",
   "language": "python",
   "name": "python3"
  },
  "language_info": {
   "codemirror_mode": {
    "name": "ipython",
    "version": 3
   },
   "file_extension": ".py",
   "mimetype": "text/x-python",
   "name": "python",
   "nbconvert_exporter": "python",
   "pygments_lexer": "ipython3",
   "version": "3.8.8"
  },
  "toc": {
   "base_numbering": 1,
   "nav_menu": {},
   "number_sections": true,
   "sideBar": true,
   "skip_h1_title": false,
   "title_cell": "Table of Contents",
   "title_sidebar": "Contents",
   "toc_cell": false,
   "toc_position": {},
   "toc_section_display": true,
   "toc_window_display": false
  }
 },
 "nbformat": 4,
 "nbformat_minor": 5
}
