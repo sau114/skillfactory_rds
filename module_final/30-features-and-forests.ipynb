{
 "cells": [
  {
   "cell_type": "code",
   "execution_count": 1,
   "id": "2b2ce1b4",
   "metadata": {
    "ExecuteTime": {
     "end_time": "2022-08-29T16:00:28.660230Z",
     "start_time": "2022-08-29T16:00:28.602154Z"
    }
   },
   "outputs": [],
   "source": [
    "!del /Q utils\\__pycache__"
   ]
  },
  {
   "cell_type": "code",
   "execution_count": 2,
   "id": "e079cd6f",
   "metadata": {
    "ExecuteTime": {
     "end_time": "2022-08-29T16:00:29.508644Z",
     "start_time": "2022-08-29T16:00:28.663560Z"
    }
   },
   "outputs": [],
   "source": [
    "import numpy as np\n",
    "import pandas as pd\n",
    "from tqdm.notebook import tqdm"
   ]
  },
  {
   "cell_type": "code",
   "execution_count": 3,
   "id": "7e87a04e",
   "metadata": {
    "ExecuteTime": {
     "end_time": "2022-08-29T16:00:30.364896Z",
     "start_time": "2022-08-29T16:00:29.508987Z"
    }
   },
   "outputs": [],
   "source": [
    "from utils.datasets import GhlKasperskyDataset, TepHarvardDataset, TepKasperskyDataset\n",
    "from utils.watchmen import IsolatingWatchman\n",
    "from utils.metrics import time_span_metrics\n",
    "from utils.custom_plots import plot_stacked"
   ]
  },
  {
   "cell_type": "markdown",
   "id": "5dd7567c",
   "metadata": {},
   "source": [
    "## GHL"
   ]
  },
  {
   "cell_type": "code",
   "execution_count": 4,
   "id": "142bb9eb",
   "metadata": {
    "ExecuteTime": {
     "end_time": "2022-08-29T16:00:30.380122Z",
     "start_time": "2022-08-29T16:00:30.368266Z"
    }
   },
   "outputs": [],
   "source": [
    "ds = GhlKasperskyDataset()\n",
    "ds.shake_not_stir(valid_test_ratio=0.4)"
   ]
  },
  {
   "cell_type": "markdown",
   "id": "90498d23",
   "metadata": {
    "ExecuteTime": {
     "end_time": "2022-08-25T15:45:59.712881Z",
     "start_time": "2022-08-25T15:45:59.704344Z"
    }
   },
   "source": [
    "### Without"
   ]
  },
  {
   "cell_type": "code",
   "execution_count": 5,
   "id": "deee08ee",
   "metadata": {
    "ExecuteTime": {
     "end_time": "2022-08-29T16:00:31.462658Z",
     "start_time": "2022-08-29T16:00:30.383626Z"
    }
   },
   "outputs": [
    {
     "data": {
      "application/vnd.jupyter.widget-view+json": {
       "model_id": "45c842ac932b4a60960482c47265205c",
       "version_major": 2,
       "version_minor": 0
      },
      "text/plain": [
       "0it [00:00, ?it/s]"
      ]
     },
     "metadata": {},
     "output_type": "display_data"
    },
    {
     "data": {
      "application/vnd.jupyter.widget-view+json": {
       "model_id": "810f20ea28054abab9fe96d212e57ca9",
       "version_major": 2,
       "version_minor": 0
      },
      "text/plain": [
       "0it [00:00, ?it/s]"
      ]
     },
     "metadata": {},
     "output_type": "display_data"
    },
    {
     "data": {
      "text/plain": [
       "precision    0.012276\n",
       "recall       1.000000\n",
       "f1_score     0.024230\n",
       "dtype: float64"
      ]
     },
     "execution_count": 5,
     "metadata": {},
     "output_type": "execute_result"
    }
   ],
   "source": [
    "watchman = IsolatingWatchman(random_state=31)\n",
    "\n",
    "for train, _, _ in tqdm(ds.train_generator()):\n",
    "    watchman.partial_fit(train)\n",
    "\n",
    "exam_list = pd.DataFrame(columns=['precision', 'recall', 'f1_score'])\n",
    "for valid, faults, info in tqdm(ds.valid_generator()):\n",
    "    detect = watchman.predict(valid)\n",
    "    exam_list.loc[info] = time_span_metrics(faults, detect)\n",
    "    \n",
    "exam_list.mean()"
   ]
  },
  {
   "cell_type": "code",
   "execution_count": 6,
   "id": "e85a9564",
   "metadata": {
    "ExecuteTime": {
     "end_time": "2022-08-29T16:00:31.478659Z",
     "start_time": "2022-08-29T16:00:31.465659Z"
    },
    "scrolled": true
   },
   "outputs": [],
   "source": [
    "# plot_stacked(test, faults=faults)"
   ]
  },
  {
   "cell_type": "markdown",
   "id": "3a0a10e8",
   "metadata": {},
   "source": [
    "### First and second derivatives"
   ]
  },
  {
   "cell_type": "code",
   "execution_count": 7,
   "id": "c46ea950",
   "metadata": {
    "ExecuteTime": {
     "end_time": "2022-08-29T16:00:31.494759Z",
     "start_time": "2022-08-29T16:00:31.481671Z"
    }
   },
   "outputs": [],
   "source": [
    "def add_derivatives(data: pd.DataFrame) -> pd.DataFrame:\n",
    "    diff1 = data.diff()\n",
    "    diff1.columns = data.columns + '_d1'\n",
    "    diff2 = diff1.diff()\n",
    "    diff2.columns = data.columns + '_d2'\n",
    "    return pd.concat([data, diff1, diff2], axis=1).fillna(0)"
   ]
  },
  {
   "cell_type": "code",
   "execution_count": 8,
   "id": "f45bb0e1",
   "metadata": {
    "ExecuteTime": {
     "end_time": "2022-08-29T16:00:32.693319Z",
     "start_time": "2022-08-29T16:00:31.497660Z"
    }
   },
   "outputs": [
    {
     "data": {
      "application/vnd.jupyter.widget-view+json": {
       "model_id": "61e5aa75b91445ba888f96c42fd000a7",
       "version_major": 2,
       "version_minor": 0
      },
      "text/plain": [
       "0it [00:00, ?it/s]"
      ]
     },
     "metadata": {},
     "output_type": "display_data"
    },
    {
     "data": {
      "application/vnd.jupyter.widget-view+json": {
       "model_id": "fd704b102b4840b6ae9d40337949cc74",
       "version_major": 2,
       "version_minor": 0
      },
      "text/plain": [
       "0it [00:00, ?it/s]"
      ]
     },
     "metadata": {},
     "output_type": "display_data"
    },
    {
     "data": {
      "text/plain": [
       "precision    0.010944\n",
       "recall       0.815789\n",
       "f1_score     0.021574\n",
       "dtype: float64"
      ]
     },
     "execution_count": 8,
     "metadata": {},
     "output_type": "execute_result"
    }
   ],
   "source": [
    "watchman = IsolatingWatchman(random_state=31)\n",
    "\n",
    "for train, _, _ in tqdm(ds.train_generator()):\n",
    "    train = add_derivatives(train)\n",
    "    watchman.partial_fit(train)\n",
    "\n",
    "exam_list = pd.DataFrame(columns=['precision', 'recall', 'f1_score'])\n",
    "for valid, faults, info in tqdm(ds.valid_generator()):\n",
    "    valid = add_derivatives(valid)\n",
    "    detect = watchman.predict(valid)\n",
    "    exam_list.loc[info] = time_span_metrics(faults, detect)\n",
    "    \n",
    "exam_list.mean()"
   ]
  },
  {
   "cell_type": "markdown",
   "id": "b9f27092",
   "metadata": {},
   "source": [
    "### EWMA"
   ]
  },
  {
   "cell_type": "code",
   "execution_count": 9,
   "id": "cb32b544",
   "metadata": {
    "ExecuteTime": {
     "end_time": "2022-08-29T16:00:32.708611Z",
     "start_time": "2022-08-29T16:00:32.696320Z"
    }
   },
   "outputs": [],
   "source": [
    "ti_ewma = '4 min'"
   ]
  },
  {
   "cell_type": "code",
   "execution_count": 10,
   "id": "896b2181",
   "metadata": {
    "ExecuteTime": {
     "end_time": "2022-08-29T16:00:33.707848Z",
     "start_time": "2022-08-29T16:00:32.711935Z"
    }
   },
   "outputs": [
    {
     "data": {
      "application/vnd.jupyter.widget-view+json": {
       "model_id": "d7845a6ff4cc458291e1734e9ed7bf40",
       "version_major": 2,
       "version_minor": 0
      },
      "text/plain": [
       "0it [00:00, ?it/s]"
      ]
     },
     "metadata": {},
     "output_type": "display_data"
    },
    {
     "data": {
      "application/vnd.jupyter.widget-view+json": {
       "model_id": "3ad462f2d569461f92cff07d1bd1c4c4",
       "version_major": 2,
       "version_minor": 0
      },
      "text/plain": [
       "0it [00:00, ?it/s]"
      ]
     },
     "metadata": {},
     "output_type": "display_data"
    },
    {
     "data": {
      "text/plain": [
       "precision    0.014156\n",
       "recall       0.973684\n",
       "f1_score     0.027874\n",
       "dtype: float64"
      ]
     },
     "execution_count": 10,
     "metadata": {},
     "output_type": "execute_result"
    }
   ],
   "source": [
    "watchman = IsolatingWatchman(random_state=31)\n",
    "\n",
    "for train, _, _ in tqdm(ds.train_generator()):\n",
    "    train = train.ewm(halflife=ti_ewma, times=train.index).mean()\n",
    "    watchman.partial_fit(train)\n",
    "\n",
    "exam_list = pd.DataFrame(columns=['precision', 'recall', 'f1_score'])\n",
    "for valid, faults, info in tqdm(ds.valid_generator()):\n",
    "    valid = valid.ewm(halflife=ti_ewma, times=valid.index).mean()\n",
    "    detect = watchman.predict(valid)\n",
    "    exam_list.loc[info] = time_span_metrics(faults, detect)\n",
    "    \n",
    "exam_list.mean()"
   ]
  },
  {
   "cell_type": "markdown",
   "id": "b285ab2d",
   "metadata": {},
   "source": [
    "### Add Fourier coefs"
   ]
  },
  {
   "cell_type": "code",
   "execution_count": 11,
   "id": "3966ee92",
   "metadata": {
    "ExecuteTime": {
     "end_time": "2022-08-29T16:00:33.723715Z",
     "start_time": "2022-08-29T16:00:33.709716Z"
    }
   },
   "outputs": [],
   "source": [
    "from numpy.fft import rfft, hfft"
   ]
  },
  {
   "cell_type": "code",
   "execution_count": 12,
   "id": "7e3b7de0",
   "metadata": {
    "ExecuteTime": {
     "end_time": "2022-08-29T16:00:33.739204Z",
     "start_time": "2022-08-29T16:00:33.727563Z"
    }
   },
   "outputs": [],
   "source": [
    "def add_fft_coef(data: pd.DataFrame, window: int, n_coef: int) -> pd.DataFrame:\n",
    "    for c in data.select_dtypes(include='float').columns:\n",
    "        fft_coefs = pd.concat(((data[c]\n",
    "                                .rolling(window, min_periods=1)\n",
    "                                .apply(lambda x: hfft(x, n_coef)[i])) for i in range(n_coef)), \n",
    "                              axis=1\n",
    "                             )\n",
    "        fft_coefs.columns = [f'{c}_fft_coef_{i}' for i in range(n_coef)]\n",
    "        data = pd.concat([data, fft_coefs], axis=1)\n",
    "    return data"
   ]
  },
  {
   "cell_type": "code",
   "execution_count": 15,
   "id": "c4b93514",
   "metadata": {
    "ExecuteTime": {
     "end_time": "2022-08-29T16:05:14.052761Z",
     "start_time": "2022-08-29T16:03:16.320627Z"
    }
   },
   "outputs": [
    {
     "data": {
      "application/vnd.jupyter.widget-view+json": {
       "model_id": "271e2dd53ab34903a02daf1b0e080d66",
       "version_major": 2,
       "version_minor": 0
      },
      "text/plain": [
       "0it [00:00, ?it/s]"
      ]
     },
     "metadata": {},
     "output_type": "display_data"
    },
    {
     "data": {
      "application/vnd.jupyter.widget-view+json": {
       "model_id": "78ee467ba7454f45bbd3c2f7272670da",
       "version_major": 2,
       "version_minor": 0
      },
      "text/plain": [
       "0it [00:00, ?it/s]"
      ]
     },
     "metadata": {},
     "output_type": "display_data"
    },
    {
     "data": {
      "text/plain": [
       "precision    0.011112\n",
       "recall       0.907895\n",
       "f1_score     0.021934\n",
       "dtype: float64"
      ]
     },
     "execution_count": 15,
     "metadata": {},
     "output_type": "execute_result"
    }
   ],
   "source": [
    "watchman = IsolatingWatchman(random_state=31)\n",
    "\n",
    "w = 15\n",
    "n = 3\n",
    "\n",
    "for train, _, _ in tqdm(ds.train_generator()):\n",
    "    train = add_fft_coef(train, w, n)\n",
    "    watchman.partial_fit(train)\n",
    "\n",
    "exam_list = pd.DataFrame(columns=['precision', 'recall', 'f1_score'])\n",
    "for valid, faults, info in tqdm(ds.valid_generator()):\n",
    "    valid = add_fft_coef(valid, w, n)\n",
    "    detect = watchman.predict(valid)\n",
    "    exam_list.loc[info] = time_span_metrics(faults, detect)\n",
    "    \n",
    "exam_list.mean()"
   ]
  },
  {
   "cell_type": "markdown",
   "id": "de95ae9a",
   "metadata": {},
   "source": [
    "## Add mean ans std"
   ]
  },
  {
   "cell_type": "code",
   "execution_count": 60,
   "id": "7ab34806",
   "metadata": {
    "ExecuteTime": {
     "end_time": "2022-08-29T16:39:28.248033Z",
     "start_time": "2022-08-29T16:39:28.228940Z"
    }
   },
   "outputs": [],
   "source": [
    "def add_stat(data: pd.DataFrame, window: int) -> pd.DataFrame:\n",
    "    float_data = data.select_dtypes(include='float')\n",
    "    data_mean = float_data.rolling(window, min_periods=1).mean()\n",
    "    data_mean.columns += '_mean'\n",
    "    data_std = float_data.rolling(window, min_periods=1).std().fillna(0)\n",
    "    data_std.columns += '_std'\n",
    "    data_median = float_data.rolling(window, min_periods=1).median()\n",
    "    data_median.columns += '_median'\n",
    "    data_kurt = float_data.rolling(window, min_periods=1).kurt().fillna(0)\n",
    "    data_kurt.columns += '_kurt'\n",
    "    data = pd.concat([data, data_mean, data_std, data_median, data_kurt], axis=1)\n",
    "    return data"
   ]
  },
  {
   "cell_type": "code",
   "execution_count": 61,
   "id": "ec50e62b",
   "metadata": {
    "ExecuteTime": {
     "end_time": "2022-08-29T16:39:30.577654Z",
     "start_time": "2022-08-29T16:39:28.942063Z"
    }
   },
   "outputs": [
    {
     "data": {
      "application/vnd.jupyter.widget-view+json": {
       "model_id": "a837cfcb32414300848b62e681ef439d",
       "version_major": 2,
       "version_minor": 0
      },
      "text/plain": [
       "0it [00:00, ?it/s]"
      ]
     },
     "metadata": {},
     "output_type": "display_data"
    },
    {
     "data": {
      "application/vnd.jupyter.widget-view+json": {
       "model_id": "d212cf55f9164ebda9c583306d1ffc75",
       "version_major": 2,
       "version_minor": 0
      },
      "text/plain": [
       "0it [00:00, ?it/s]"
      ]
     },
     "metadata": {},
     "output_type": "display_data"
    },
    {
     "data": {
      "text/plain": [
       "precision    0.015225\n",
       "recall       0.973684\n",
       "f1_score     0.029946\n",
       "dtype: float64"
      ]
     },
     "execution_count": 61,
     "metadata": {},
     "output_type": "execute_result"
    }
   ],
   "source": [
    "watchman = IsolatingWatchman(random_state=31)\n",
    "\n",
    "w = 15\n",
    "\n",
    "for train, _, _ in tqdm(ds.train_generator()):\n",
    "    train = add_stat(train, w)\n",
    "    watchman.partial_fit(train)\n",
    "\n",
    "exam_list = pd.DataFrame(columns=['precision', 'recall', 'f1_score'])\n",
    "for valid, faults, info in tqdm(ds.valid_generator()):\n",
    "    valid = add_stat(valid, w)\n",
    "    detect = watchman.predict(valid)\n",
    "    exam_list.loc[info] = time_span_metrics(faults, detect)\n",
    "    \n",
    "exam_list.mean()"
   ]
  },
  {
   "cell_type": "code",
   "execution_count": 14,
   "id": "f921de09",
   "metadata": {
    "ExecuteTime": {
     "end_time": "2022-08-29T16:01:55.633403Z",
     "start_time": "2022-08-29T16:01:54.988334Z"
    }
   },
   "outputs": [
    {
     "ename": "NameError",
     "evalue": "name 'stop' is not defined",
     "output_type": "error",
     "traceback": [
      "\u001b[1;31m---------------------------------------------------------------------------\u001b[0m",
      "\u001b[1;31mNameError\u001b[0m                                 Traceback (most recent call last)",
      "Input \u001b[1;32mIn [14]\u001b[0m, in \u001b[0;36m<cell line: 1>\u001b[1;34m()\u001b[0m\n\u001b[1;32m----> 1\u001b[0m \u001b[43mstop\u001b[49m\n",
      "\u001b[1;31mNameError\u001b[0m: name 'stop' is not defined"
     ]
    }
   ],
   "source": [
    "stop"
   ]
  },
  {
   "cell_type": "markdown",
   "id": "aa910a2a",
   "metadata": {},
   "source": [
    "## TEP Harvard"
   ]
  },
  {
   "cell_type": "code",
   "execution_count": null,
   "id": "978c6f5e",
   "metadata": {
    "ExecuteTime": {
     "end_time": "2022-08-29T16:01:55.636782Z",
     "start_time": "2022-08-29T16:01:55.636782Z"
    }
   },
   "outputs": [],
   "source": [
    "ds = TepHarvardDataset()\n",
    "ds.shake_not_stir(valid_test_ratio=0.5, balanced_test=True)"
   ]
  },
  {
   "cell_type": "code",
   "execution_count": null,
   "id": "24524a27",
   "metadata": {
    "ExecuteTime": {
     "end_time": "2022-08-29T16:01:55.639340Z",
     "start_time": "2022-08-29T16:01:55.639340Z"
    }
   },
   "outputs": [],
   "source": [
    "watchman = IsolatingWatchman(random_state=31)"
   ]
  },
  {
   "cell_type": "code",
   "execution_count": null,
   "id": "8192572b",
   "metadata": {
    "ExecuteTime": {
     "end_time": "2022-08-29T16:01:55.642339Z",
     "start_time": "2022-08-29T16:01:55.642339Z"
    }
   },
   "outputs": [],
   "source": [
    "train_gen = ds.train_generator()\n",
    "for train, _, _ in tqdm(train_gen, total=500):\n",
    "    watchman.partial_fit(train)"
   ]
  },
  {
   "cell_type": "code",
   "execution_count": null,
   "id": "f82f461d",
   "metadata": {
    "ExecuteTime": {
     "end_time": "2022-08-29T16:01:55.643797Z",
     "start_time": "2022-08-29T16:01:55.643797Z"
    }
   },
   "outputs": [],
   "source": [
    "watchman"
   ]
  },
  {
   "cell_type": "code",
   "execution_count": null,
   "id": "323701de",
   "metadata": {
    "ExecuteTime": {
     "end_time": "2022-08-29T16:01:55.644342Z",
     "start_time": "2022-08-29T16:01:55.644342Z"
    }
   },
   "outputs": [],
   "source": [
    "valid_gen = ds.valid_generator()\n",
    "examine_list = pd.DataFrame(columns=['precision', 'recall', 'f1_score'], dtype='float')\n",
    "for valid, faults, info in tqdm(valid_gen, total=500):\n",
    "    detect = watchman.predict(valid)\n",
    "    examine_list.loc[info] = time_span_metrics(faults, detect)\n",
    "#     if max(faults) and max(detect):\n",
    "#         plot_stacked(data,\n",
    "#                      title=info,\n",
    "#                      group='value_unit',\n",
    "#                      faults=faults,\n",
    "#                      detect=detect,\n",
    "#                     )"
   ]
  },
  {
   "cell_type": "code",
   "execution_count": null,
   "id": "43ac4a7a",
   "metadata": {
    "ExecuteTime": {
     "end_time": "2022-08-29T16:01:55.646339Z",
     "start_time": "2022-08-29T16:01:55.646339Z"
    }
   },
   "outputs": [],
   "source": [
    "examine_list.mean()"
   ]
  },
  {
   "cell_type": "code",
   "execution_count": null,
   "id": "f5d04feb",
   "metadata": {},
   "outputs": [],
   "source": []
  },
  {
   "cell_type": "markdown",
   "id": "4647b7c5",
   "metadata": {},
   "source": [
    "## TEP Kaspersky"
   ]
  },
  {
   "cell_type": "code",
   "execution_count": null,
   "id": "f5f09aec",
   "metadata": {
    "ExecuteTime": {
     "end_time": "2022-08-29T16:01:55.649432Z",
     "start_time": "2022-08-29T16:01:55.649432Z"
    }
   },
   "outputs": [],
   "source": [
    "ds = TepKasperskyDataset()\n",
    "ds.shake_not_stir(valid_test_ratio=0.4)"
   ]
  },
  {
   "cell_type": "code",
   "execution_count": null,
   "id": "d28b8f53",
   "metadata": {
    "ExecuteTime": {
     "end_time": "2022-08-29T16:01:55.651354Z",
     "start_time": "2022-08-29T16:01:55.651354Z"
    }
   },
   "outputs": [],
   "source": [
    "watchman = IsolatingWatchman(random_state=31, max_samples=1024)"
   ]
  },
  {
   "cell_type": "code",
   "execution_count": null,
   "id": "95d58e5e",
   "metadata": {
    "ExecuteTime": {
     "end_time": "2022-08-29T16:01:55.653717Z",
     "start_time": "2022-08-29T16:01:55.653717Z"
    }
   },
   "outputs": [],
   "source": [
    "watchman.forest"
   ]
  },
  {
   "cell_type": "code",
   "execution_count": null,
   "id": "ab5ddcba",
   "metadata": {
    "ExecuteTime": {
     "end_time": "2022-08-29T16:01:55.655338Z",
     "start_time": "2022-08-29T16:01:55.655338Z"
    }
   },
   "outputs": [],
   "source": [
    "train_gen = ds.train_generator()\n",
    "for train, _, _ in tqdm(train_gen, total=400):\n",
    "    watchman.partial_fit(train, increment=1)"
   ]
  },
  {
   "cell_type": "code",
   "execution_count": null,
   "id": "62f4c9cf",
   "metadata": {
    "ExecuteTime": {
     "end_time": "2022-08-29T16:01:55.658699Z",
     "start_time": "2022-08-29T16:01:55.658699Z"
    }
   },
   "outputs": [],
   "source": [
    "watchman"
   ]
  },
  {
   "cell_type": "code",
   "execution_count": null,
   "id": "82132a94",
   "metadata": {
    "ExecuteTime": {
     "end_time": "2022-08-29T16:01:55.660339Z",
     "start_time": "2022-08-29T16:01:55.660339Z"
    }
   },
   "outputs": [],
   "source": [
    "valid_gen = ds.valid_generator()\n",
    "examine_list = pd.DataFrame(columns=['precision', 'recall', 'f1_score'], dtype='float')\n",
    "for valid, faults, info in tqdm(valid_gen, total=115):\n",
    "    detect = watchman.predict(valid)\n",
    "    examine_list.loc[info] = time_span_metrics(faults, detect)\n",
    "#     if max(faults) and max(detect):\n",
    "#         plot_stacked(data,\n",
    "#                      title=info,\n",
    "#                      group='value_unit',\n",
    "#                      faults=faults,\n",
    "#                      detect=detect,\n",
    "#                     )"
   ]
  },
  {
   "cell_type": "code",
   "execution_count": null,
   "id": "496878cb",
   "metadata": {
    "ExecuteTime": {
     "end_time": "2022-08-29T16:01:55.663338Z",
     "start_time": "2022-08-29T16:01:55.663338Z"
    }
   },
   "outputs": [],
   "source": [
    "examine_list.mean()"
   ]
  },
  {
   "cell_type": "code",
   "execution_count": null,
   "id": "dc6e3b02",
   "metadata": {},
   "outputs": [],
   "source": []
  }
 ],
 "metadata": {
  "kernelspec": {
   "display_name": "Python 3 (ipykernel)",
   "language": "python",
   "name": "python3"
  },
  "language_info": {
   "codemirror_mode": {
    "name": "ipython",
    "version": 3
   },
   "file_extension": ".py",
   "mimetype": "text/x-python",
   "name": "python",
   "nbconvert_exporter": "python",
   "pygments_lexer": "ipython3",
   "version": "3.8.8"
  },
  "toc": {
   "base_numbering": 1,
   "nav_menu": {},
   "number_sections": true,
   "sideBar": true,
   "skip_h1_title": false,
   "title_cell": "Table of Contents",
   "title_sidebar": "Contents",
   "toc_cell": false,
   "toc_position": {},
   "toc_section_display": true,
   "toc_window_display": false
  }
 },
 "nbformat": 4,
 "nbformat_minor": 5
}
