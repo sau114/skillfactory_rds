{
 "cells": [
  {
   "cell_type": "code",
   "execution_count": 1,
   "id": "2b2ce1b4",
   "metadata": {
    "ExecuteTime": {
     "end_time": "2022-08-25T15:25:41.498882Z",
     "start_time": "2022-08-25T15:25:41.439459Z"
    }
   },
   "outputs": [],
   "source": [
    "!del /Q utils\\__pycache__"
   ]
  },
  {
   "cell_type": "code",
   "execution_count": 21,
   "id": "e079cd6f",
   "metadata": {
    "ExecuteTime": {
     "end_time": "2022-08-25T15:35:30.818113Z",
     "start_time": "2022-08-25T15:35:30.800083Z"
    }
   },
   "outputs": [],
   "source": [
    "import numpy as np\n",
    "import pandas as pd\n",
    "from tqdm.notebook import tqdm"
   ]
  },
  {
   "cell_type": "code",
   "execution_count": 3,
   "id": "7e87a04e",
   "metadata": {
    "ExecuteTime": {
     "end_time": "2022-08-25T15:25:43.704468Z",
     "start_time": "2022-08-25T15:25:42.567811Z"
    }
   },
   "outputs": [],
   "source": [
    "from utils.datasets import GhlKasperskyDataset, TepHarvardDataset, TepKasperskyDataset\n",
    "from utils.watchmen import IsolatingWatchman\n",
    "from utils.metrics import time_span_metrics\n",
    "from utils.custom_plots import plot_stacked"
   ]
  },
  {
   "cell_type": "markdown",
   "id": "5dd7567c",
   "metadata": {},
   "source": [
    "## GHL"
   ]
  },
  {
   "cell_type": "code",
   "execution_count": null,
   "id": "142bb9eb",
   "metadata": {},
   "outputs": [],
   "source": [
    "ds = GhlKasperskyDataset()"
   ]
  },
  {
   "cell_type": "markdown",
   "id": "90498d23",
   "metadata": {
    "ExecuteTime": {
     "end_time": "2022-08-25T15:45:59.712881Z",
     "start_time": "2022-08-25T15:45:59.704344Z"
    }
   },
   "source": [
    "### Without additional features"
   ]
  },
  {
   "cell_type": "code",
   "execution_count": 30,
   "id": "deee08ee",
   "metadata": {
    "ExecuteTime": {
     "end_time": "2022-08-25T15:44:49.108440Z",
     "start_time": "2022-08-25T15:44:47.918864Z"
    }
   },
   "outputs": [
    {
     "data": {
      "application/vnd.jupyter.widget-view+json": {
       "model_id": "5a3fc1830c7c41b597bc6a0eb0eb3dfe",
       "version_major": 2,
       "version_minor": 0
      },
      "text/plain": [
       "0it [00:00, ?it/s]"
      ]
     },
     "metadata": {},
     "output_type": "display_data"
    },
    {
     "data": {
      "application/vnd.jupyter.widget-view+json": {
       "model_id": "b359c7f6ca364c60bfb8704ea8f5a305",
       "version_major": 2,
       "version_minor": 0
      },
      "text/plain": [
       "0it [00:00, ?it/s]"
      ]
     },
     "metadata": {},
     "output_type": "display_data"
    },
    {
     "data": {
      "text/plain": [
       "precision    0.017957\n",
       "recall       1.000000\n",
       "f1_score     0.035280\n",
       "dtype: float64"
      ]
     },
     "execution_count": 30,
     "metadata": {},
     "output_type": "execute_result"
    }
   ],
   "source": [
    "watchman = IsolatingWatchman(random_state=31)\n",
    "\n",
    "ds.shake_not_stir(valid_test_ratio=0.4)\n",
    "\n",
    "for train, _, _ in tqdm(ds.train_generator()):\n",
    "    watchman.partial_fit(train, increment=1)\n",
    "\n",
    "exam_list = pd.DataFrame(columns=['precision', 'recall', 'f1_score'])\n",
    "for test, anomaly, info in tqdm(ds.test_generator()):\n",
    "    detect = watchman.predict(test)\n",
    "    exam_list.loc[info] = time_span_metrics(faults, detect)\n",
    "    \n",
    "exam_list.mean()"
   ]
  },
  {
   "cell_type": "code",
   "execution_count": 97,
   "id": "e85a9564",
   "metadata": {
    "ExecuteTime": {
     "end_time": "2022-08-25T16:19:24.089926Z",
     "start_time": "2022-08-25T16:19:24.076778Z"
    },
    "scrolled": true
   },
   "outputs": [],
   "source": [
    "# plot_stacked(test, faults=faults)"
   ]
  },
  {
   "cell_type": "markdown",
   "id": "3a0a10e8",
   "metadata": {},
   "source": [
    "### First and second derivatives"
   ]
  },
  {
   "cell_type": "code",
   "execution_count": 112,
   "id": "c46ea950",
   "metadata": {
    "ExecuteTime": {
     "end_time": "2022-08-25T16:36:24.206315Z",
     "start_time": "2022-08-25T16:36:24.190280Z"
    }
   },
   "outputs": [],
   "source": [
    "def add_derivatives(data: pd.DataFrame) -> pd.DataFrame:\n",
    "    diff1 = data.diff()\n",
    "    diff1.columns = data.columns + '_d1'\n",
    "    diff2 = diff1.diff()\n",
    "    diff2.columns = data.columns + '_d2'\n",
    "    return pd.concat([data, diff1, diff2], axis=1).fillna(0)"
   ]
  },
  {
   "cell_type": "code",
   "execution_count": 113,
   "id": "f45bb0e1",
   "metadata": {
    "ExecuteTime": {
     "end_time": "2022-08-25T16:36:26.363149Z",
     "start_time": "2022-08-25T16:36:24.699605Z"
    }
   },
   "outputs": [
    {
     "data": {
      "application/vnd.jupyter.widget-view+json": {
       "model_id": "86cff43f157d419d8961bc9ea67db28c",
       "version_major": 2,
       "version_minor": 0
      },
      "text/plain": [
       "0it [00:00, ?it/s]"
      ]
     },
     "metadata": {},
     "output_type": "display_data"
    },
    {
     "data": {
      "application/vnd.jupyter.widget-view+json": {
       "model_id": "6ca24dd1fa2d438b952bd3fcd7376ea3",
       "version_major": 2,
       "version_minor": 0
      },
      "text/plain": [
       "0it [00:00, ?it/s]"
      ]
     },
     "metadata": {},
     "output_type": "display_data"
    },
    {
     "data": {
      "text/plain": [
       "precision    0.017217\n",
       "recall       0.862069\n",
       "f1_score     0.033759\n",
       "dtype: float64"
      ]
     },
     "execution_count": 113,
     "metadata": {},
     "output_type": "execute_result"
    }
   ],
   "source": [
    "watchman = IsolatingWatchman(random_state=31)\n",
    "\n",
    "ds.shake_not_stir(valid_test_ratio=0.4)\n",
    "\n",
    "for train, _, _ in tqdm(ds.train_generator()):\n",
    "    train = add_derivatives(train)\n",
    "    watchman.partial_fit(train, increment=1)\n",
    "\n",
    "exam_list = pd.DataFrame(columns=['precision', 'recall', 'f1_score'])\n",
    "for test, anomaly, info in tqdm(ds.test_generator()):\n",
    "    test = add_derivatives(test)\n",
    "    detect = watchman.predict(test)\n",
    "    exam_list.loc[info] = time_span_metrics(faults, detect)\n",
    "    \n",
    "exam_list.mean()"
   ]
  },
  {
   "cell_type": "markdown",
   "id": "b9f27092",
   "metadata": {},
   "source": [
    "### EWMA"
   ]
  },
  {
   "cell_type": "code",
   "execution_count": 149,
   "id": "cb32b544",
   "metadata": {
    "ExecuteTime": {
     "end_time": "2022-08-25T16:44:49.702659Z",
     "start_time": "2022-08-25T16:44:49.694557Z"
    }
   },
   "outputs": [],
   "source": [
    "ti_ewma = '5 min'"
   ]
  },
  {
   "cell_type": "code",
   "execution_count": 150,
   "id": "896b2181",
   "metadata": {
    "ExecuteTime": {
     "end_time": "2022-08-25T16:44:51.258545Z",
     "start_time": "2022-08-25T16:44:49.907258Z"
    }
   },
   "outputs": [
    {
     "data": {
      "application/vnd.jupyter.widget-view+json": {
       "model_id": "3181a8b3364a40838ece026f3a007a05",
       "version_major": 2,
       "version_minor": 0
      },
      "text/plain": [
       "0it [00:00, ?it/s]"
      ]
     },
     "metadata": {},
     "output_type": "display_data"
    },
    {
     "data": {
      "application/vnd.jupyter.widget-view+json": {
       "model_id": "774c09246e0242b4b4724220ea5a5d0d",
       "version_major": 2,
       "version_minor": 0
      },
      "text/plain": [
       "0it [00:00, ?it/s]"
      ]
     },
     "metadata": {},
     "output_type": "display_data"
    },
    {
     "data": {
      "text/plain": [
       "precision    0.017893\n",
       "recall       0.905172\n",
       "f1_score     0.035092\n",
       "dtype: float64"
      ]
     },
     "execution_count": 150,
     "metadata": {},
     "output_type": "execute_result"
    }
   ],
   "source": [
    "watchman = IsolatingWatchman(random_state=31)\n",
    "\n",
    "ds.shake_not_stir(valid_test_ratio=0.4)\n",
    "\n",
    "for train, _, _ in tqdm(ds.train_generator()):\n",
    "    train = train.ewm(halflife=ti_ewma, times=train.index).mean()\n",
    "    watchman.partial_fit(train, increment=1)\n",
    "\n",
    "exam_list = pd.DataFrame(columns=['precision', 'recall', 'f1_score'])\n",
    "for test, anomaly, info in tqdm(ds.test_generator()):\n",
    "    test = test.ewm(halflife=ti_ewma, times=test.index).mean()\n",
    "    detect = watchman.predict(test)\n",
    "    exam_list.loc[info] = time_span_metrics(faults, detect)\n",
    "    \n",
    "exam_list.mean()"
   ]
  },
  {
   "cell_type": "markdown",
   "id": "b285ab2d",
   "metadata": {},
   "source": [
    "### With Fourier features"
   ]
  },
  {
   "cell_type": "code",
   "execution_count": 32,
   "id": "3966ee92",
   "metadata": {
    "ExecuteTime": {
     "end_time": "2022-08-25T15:46:39.041351Z",
     "start_time": "2022-08-25T15:46:39.038347Z"
    }
   },
   "outputs": [],
   "source": [
    "from numpy.fft import rfft"
   ]
  },
  {
   "cell_type": "code",
   "execution_count": 59,
   "id": "661de9eb",
   "metadata": {
    "ExecuteTime": {
     "end_time": "2022-08-25T16:10:47.330593Z",
     "start_time": "2022-08-25T16:10:47.314464Z"
    }
   },
   "outputs": [
    {
     "data": {
      "text/plain": [
       "(1001, 7)"
      ]
     },
     "execution_count": 59,
     "metadata": {},
     "output_type": "execute_result"
    }
   ],
   "source": [
    "train.select_dtypes(include='float').shape"
   ]
  },
  {
   "cell_type": "code",
   "execution_count": 100,
   "id": "bafcdb70",
   "metadata": {
    "ExecuteTime": {
     "end_time": "2022-08-25T16:23:14.386588Z",
     "start_time": "2022-08-25T16:23:14.186344Z"
    }
   },
   "outputs": [
    {
     "data": {
      "text/plain": [
       "<AxesSubplot:>"
      ]
     },
     "execution_count": 100,
     "metadata": {},
     "output_type": "execute_result"
    },
    {
     "data": {
      "image/png": "[encoded data removed]",
      "text/plain": [
       "<Figure size 432x288 with 1 Axes>"
      ]
     },
     "metadata": {
      "needs_background": "light"
     },
     "output_type": "display_data"
    }
   ],
   "source": [
    "pd.Series(data=abs(rfft(test, n=15))[:, 2]).plot()"
   ]
  },
  {
   "cell_type": "code",
   "execution_count": 33,
   "id": "224cb115",
   "metadata": {
    "ExecuteTime": {
     "end_time": "2022-08-25T15:46:41.598499Z",
     "start_time": "2022-08-25T15:46:41.578498Z"
    }
   },
   "outputs": [],
   "source": [
    "ht_temp = valid['ht_temp_gc'].iloc[:15].copy()"
   ]
  },
  {
   "cell_type": "code",
   "execution_count": 34,
   "id": "63ce95d7",
   "metadata": {
    "ExecuteTime": {
     "end_time": "2022-08-25T15:46:42.197941Z",
     "start_time": "2022-08-25T15:46:42.187771Z"
    }
   },
   "outputs": [
    {
     "data": {
      "text/plain": [
       "array([211.44204712,  -6.63747415,  -4.33507715,  -3.90075559,\n",
       "        -3.75032842,  -3.68312073,  -3.65117006,  -3.63814323])"
      ]
     },
     "execution_count": 34,
     "metadata": {},
     "output_type": "execute_result"
    }
   ],
   "source": [
    "np.real(rfft(ht_temp.values))"
   ]
  },
  {
   "cell_type": "code",
   "execution_count": 35,
   "id": "e847d3ac",
   "metadata": {
    "ExecuteTime": {
     "end_time": "2022-08-25T15:46:43.958513Z",
     "start_time": "2022-08-25T15:46:43.938428Z"
    }
   },
   "outputs": [
    {
     "data": {
      "text/plain": [
       "array([ 0.        , 15.87164652,  7.77735764,  4.79000037,  3.13859762,\n",
       "        2.01433893,  1.1339696 ,  0.36685355])"
      ]
     },
     "execution_count": 35,
     "metadata": {},
     "output_type": "execute_result"
    }
   ],
   "source": [
    "np.imag(rfft(ht_temp.values))"
   ]
  },
  {
   "cell_type": "code",
   "execution_count": 36,
   "id": "648da703",
   "metadata": {
    "ExecuteTime": {
     "end_time": "2022-08-25T15:46:44.849826Z",
     "start_time": "2022-08-25T15:46:44.837231Z"
    }
   },
   "outputs": [
    {
     "data": {
      "text/plain": [
       "array([211.44204712,  17.20363992,   8.90394215,   6.1773779 ,\n",
       "         4.89037405,   4.19796851,   3.82320937,   3.65659236])"
      ]
     },
     "execution_count": 36,
     "metadata": {},
     "output_type": "execute_result"
    }
   ],
   "source": [
    "abs(rfft(ht_temp.values))"
   ]
  },
  {
   "cell_type": "code",
   "execution_count": 25,
   "id": "439e40f0",
   "metadata": {
    "ExecuteTime": {
     "end_time": "2022-08-25T15:37:42.337042Z",
     "start_time": "2022-08-25T15:37:42.323040Z"
    }
   },
   "outputs": [
    {
     "data": {
      "text/plain": [
       "array([0.       , 1.9668906, 2.079301 , 2.2542286, 2.4447615, 2.6411242,\n",
       "       2.84046  , 3.041097 ], dtype=float32)"
      ]
     },
     "execution_count": 25,
     "metadata": {},
     "output_type": "execute_result"
    }
   ],
   "source": [
    "np.angle(rfft(ht_temp.values))"
   ]
  },
  {
   "cell_type": "code",
   "execution_count": 26,
   "id": "9d67d47c",
   "metadata": {
    "ExecuteTime": {
     "end_time": "2022-08-25T15:38:28.245959Z",
     "start_time": "2022-08-25T15:38:28.229874Z"
    }
   },
   "outputs": [
    {
     "data": {
      "text/plain": [
       "array([0.        , 0.92257494, 0.87347347, 0.77540994, 0.6417908 ,\n",
       "       0.47983658, 0.296602  , 0.10032666], dtype=float32)"
      ]
     },
     "execution_count": 26,
     "metadata": {},
     "output_type": "execute_result"
    }
   ],
   "source": [
    "np.sin(np.angle(rfft(ht_temp.values)))"
   ]
  },
  {
   "cell_type": "code",
   "execution_count": 27,
   "id": "61ddfb3d",
   "metadata": {
    "ExecuteTime": {
     "end_time": "2022-08-25T15:38:33.771995Z",
     "start_time": "2022-08-25T15:38:33.761838Z"
    }
   },
   "outputs": [
    {
     "data": {
      "text/plain": [
       "array([ 1.        , -0.38581795, -0.48687178, -0.63145816, -0.76687974,\n",
       "       -0.8773579 , -0.9550012 , -0.9949545 ], dtype=float32)"
      ]
     },
     "execution_count": 27,
     "metadata": {},
     "output_type": "execute_result"
    }
   ],
   "source": [
    "np.cos(np.angle(rfft(ht_temp.values)))"
   ]
  },
  {
   "cell_type": "code",
   "execution_count": 5,
   "id": "c4b93514",
   "metadata": {
    "ExecuteTime": {
     "end_time": "2022-08-25T11:30:18.542713Z",
     "start_time": "2022-08-25T11:30:18.529626Z"
    }
   },
   "outputs": [],
   "source": [
    "watchman = IsolatingWatchman(random_state=31)"
   ]
  },
  {
   "cell_type": "code",
   "execution_count": 6,
   "id": "e6927a59",
   "metadata": {
    "ExecuteTime": {
     "end_time": "2022-08-25T11:30:18.714693Z",
     "start_time": "2022-08-25T11:30:18.545640Z"
    }
   },
   "outputs": [
    {
     "data": {
      "application/vnd.jupyter.widget-view+json": {
       "model_id": "99553609613748d3a45666a855925a5f",
       "version_major": 2,
       "version_minor": 0
      },
      "text/plain": [
       "  0%|          | 0/1 [00:00<?, ?it/s]"
      ]
     },
     "metadata": {},
     "output_type": "display_data"
    }
   ],
   "source": [
    "train_gen = ds.train_generator()\n",
    "for train, _, _ in tqdm(train_gen, total=1):\n",
    "    watchman.partial_fit(train)"
   ]
  },
  {
   "cell_type": "code",
   "execution_count": 7,
   "id": "5cb3ff65",
   "metadata": {
    "ExecuteTime": {
     "end_time": "2022-08-25T11:30:18.730534Z",
     "start_time": "2022-08-25T11:30:18.717533Z"
    }
   },
   "outputs": [
    {
     "data": {
      "text/plain": [
       "IsolatingWatchman(n_trees=17)"
      ]
     },
     "execution_count": 7,
     "metadata": {},
     "output_type": "execute_result"
    }
   ],
   "source": [
    "watchman"
   ]
  },
  {
   "cell_type": "code",
   "execution_count": 8,
   "id": "b616ce58",
   "metadata": {
    "ExecuteTime": {
     "end_time": "2022-08-25T11:30:19.462062Z",
     "start_time": "2022-08-25T11:30:18.733534Z"
    }
   },
   "outputs": [
    {
     "data": {
      "application/vnd.jupyter.widget-view+json": {
       "model_id": "67c42282c2d345d38a13930253faf696",
       "version_major": 2,
       "version_minor": 0
      },
      "text/plain": [
       "  0%|          | 0/19 [00:00<?, ?it/s]"
      ]
     },
     "metadata": {},
     "output_type": "display_data"
    }
   ],
   "source": [
    "valid_gen = ds.valid_generator()\n",
    "examine_list = pd.DataFrame(columns=['precision', 'recall', 'f1_score'], dtype='float')\n",
    "for valid, faults, info in tqdm(valid_gen, total=19):\n",
    "    detect = watchman.predict(valid)\n",
    "    examine_list.loc[info] = time_span_metrics(faults, detect)\n",
    "#     if max(faults) and max(detect):\n",
    "#         plot_stacked(data,\n",
    "#                      title=info,\n",
    "#                      group='value_unit',\n",
    "#                      faults=faults,\n",
    "#                      detect=detect,\n",
    "#                     )"
   ]
  },
  {
   "cell_type": "code",
   "execution_count": 9,
   "id": "5cb472d8",
   "metadata": {
    "ExecuteTime": {
     "end_time": "2022-08-25T11:30:19.478118Z",
     "start_time": "2022-08-25T11:30:19.468031Z"
    },
    "scrolled": false
   },
   "outputs": [
    {
     "data": {
      "text/plain": [
       "precision    0.013455\n",
       "recall       1.000000\n",
       "f1_score     0.026500\n",
       "dtype: float64"
      ]
     },
     "execution_count": 9,
     "metadata": {},
     "output_type": "execute_result"
    }
   ],
   "source": [
    "examine_list.mean()"
   ]
  },
  {
   "cell_type": "code",
   "execution_count": null,
   "id": "f921de09",
   "metadata": {},
   "outputs": [],
   "source": [
    "stop"
   ]
  },
  {
   "cell_type": "markdown",
   "id": "aa910a2a",
   "metadata": {},
   "source": [
    "## TEP Harvard"
   ]
  },
  {
   "cell_type": "code",
   "execution_count": 10,
   "id": "978c6f5e",
   "metadata": {
    "ExecuteTime": {
     "end_time": "2022-08-25T11:30:19.572131Z",
     "start_time": "2022-08-25T11:30:19.481030Z"
    }
   },
   "outputs": [],
   "source": [
    "ds = TepHarvardDataset()\n",
    "ds.shake_not_stir(valid_test_ratio=0.5, balanced_test=True)"
   ]
  },
  {
   "cell_type": "code",
   "execution_count": 11,
   "id": "24524a27",
   "metadata": {
    "ExecuteTime": {
     "end_time": "2022-08-25T11:30:19.588065Z",
     "start_time": "2022-08-25T11:30:19.576044Z"
    }
   },
   "outputs": [],
   "source": [
    "watchman = IsolatingWatchman(random_state=31)"
   ]
  },
  {
   "cell_type": "code",
   "execution_count": 12,
   "id": "8192572b",
   "metadata": {
    "ExecuteTime": {
     "end_time": "2022-08-25T11:30:27.991021Z",
     "start_time": "2022-08-25T11:30:19.591669Z"
    }
   },
   "outputs": [
    {
     "data": {
      "application/vnd.jupyter.widget-view+json": {
       "model_id": "6511f9a256404f82a3f88807b8b589b6",
       "version_major": 2,
       "version_minor": 0
      },
      "text/plain": [
       "  0%|          | 0/500 [00:00<?, ?it/s]"
      ]
     },
     "metadata": {},
     "output_type": "display_data"
    }
   ],
   "source": [
    "train_gen = ds.train_generator()\n",
    "for train, _, _ in tqdm(train_gen, total=500):\n",
    "    watchman.partial_fit(train)"
   ]
  },
  {
   "cell_type": "code",
   "execution_count": 13,
   "id": "f82f461d",
   "metadata": {
    "ExecuteTime": {
     "end_time": "2022-08-25T11:30:28.007099Z",
     "start_time": "2022-08-25T11:30:27.992955Z"
    }
   },
   "outputs": [
    {
     "data": {
      "text/plain": [
       "IsolatingWatchman(n_trees=500)"
      ]
     },
     "execution_count": 13,
     "metadata": {},
     "output_type": "execute_result"
    }
   ],
   "source": [
    "watchman"
   ]
  },
  {
   "cell_type": "code",
   "execution_count": 14,
   "id": "323701de",
   "metadata": {
    "ExecuteTime": {
     "end_time": "2022-08-25T11:33:07.837340Z",
     "start_time": "2022-08-25T11:30:28.009557Z"
    }
   },
   "outputs": [
    {
     "data": {
      "application/vnd.jupyter.widget-view+json": {
       "model_id": "ad767e5e0cdb40ab80689b51c34075fb",
       "version_major": 2,
       "version_minor": 0
      },
      "text/plain": [
       "  0%|          | 0/500 [00:00<?, ?it/s]"
      ]
     },
     "metadata": {},
     "output_type": "display_data"
    }
   ],
   "source": [
    "valid_gen = ds.valid_generator()\n",
    "examine_list = pd.DataFrame(columns=['precision', 'recall', 'f1_score'], dtype='float')\n",
    "for valid, faults, info in tqdm(valid_gen, total=500):\n",
    "    detect = watchman.predict(valid)\n",
    "    examine_list.loc[info] = time_span_metrics(faults, detect)\n",
    "#     if max(faults) and max(detect):\n",
    "#         plot_stacked(data,\n",
    "#                      title=info,\n",
    "#                      group='value_unit',\n",
    "#                      faults=faults,\n",
    "#                      detect=detect,\n",
    "#                     )"
   ]
  },
  {
   "cell_type": "code",
   "execution_count": 15,
   "id": "43ac4a7a",
   "metadata": {
    "ExecuteTime": {
     "end_time": "2022-08-25T11:33:07.853189Z",
     "start_time": "2022-08-25T11:33:07.840063Z"
    }
   },
   "outputs": [
    {
     "data": {
      "text/plain": [
       "precision    1.000000\n",
       "recall       0.505437\n",
       "f1_score     0.589816\n",
       "dtype: float64"
      ]
     },
     "execution_count": 15,
     "metadata": {},
     "output_type": "execute_result"
    }
   ],
   "source": [
    "examine_list.mean()"
   ]
  },
  {
   "cell_type": "markdown",
   "id": "4647b7c5",
   "metadata": {},
   "source": [
    "## TEP Kaspersky"
   ]
  },
  {
   "cell_type": "code",
   "execution_count": 16,
   "id": "f5f09aec",
   "metadata": {
    "ExecuteTime": {
     "end_time": "2022-08-25T11:33:07.883493Z",
     "start_time": "2022-08-25T11:33:07.856202Z"
    }
   },
   "outputs": [],
   "source": [
    "ds = TepKasperskyDataset()\n",
    "ds.shake_not_stir(valid_test_ratio=0.4)"
   ]
  },
  {
   "cell_type": "code",
   "execution_count": 17,
   "id": "d28b8f53",
   "metadata": {
    "ExecuteTime": {
     "end_time": "2022-08-25T11:33:07.899565Z",
     "start_time": "2022-08-25T11:33:07.886005Z"
    }
   },
   "outputs": [],
   "source": [
    "watchman = IsolatingWatchman(random_state=31, max_samples=1024)"
   ]
  },
  {
   "cell_type": "code",
   "execution_count": 18,
   "id": "95d58e5e",
   "metadata": {
    "ExecuteTime": {
     "end_time": "2022-08-25T11:33:07.915585Z",
     "start_time": "2022-08-25T11:33:07.902495Z"
    }
   },
   "outputs": [
    {
     "data": {
      "text/plain": [
       "IsolationForest(max_samples=2048, n_estimators=0, n_jobs=-1, random_state=31,\n",
       "                warm_start=True)"
      ]
     },
     "execution_count": 18,
     "metadata": {},
     "output_type": "execute_result"
    }
   ],
   "source": [
    "watchman.forest"
   ]
  },
  {
   "cell_type": "code",
   "execution_count": 19,
   "id": "ab5ddcba",
   "metadata": {
    "ExecuteTime": {
     "end_time": "2022-08-25T11:33:17.453365Z",
     "start_time": "2022-08-25T11:33:07.917494Z"
    }
   },
   "outputs": [
    {
     "data": {
      "application/vnd.jupyter.widget-view+json": {
       "model_id": "361b48ee010e4124bb125d0dd87ce011",
       "version_major": 2,
       "version_minor": 0
      },
      "text/plain": [
       "  0%|          | 0/400 [00:00<?, ?it/s]"
      ]
     },
     "metadata": {},
     "output_type": "display_data"
    }
   ],
   "source": [
    "train_gen = ds.train_generator()\n",
    "for train, _, _ in tqdm(train_gen, total=400):\n",
    "    watchman.partial_fit(train, increment=1)"
   ]
  },
  {
   "cell_type": "code",
   "execution_count": 20,
   "id": "62f4c9cf",
   "metadata": {
    "ExecuteTime": {
     "end_time": "2022-08-25T11:33:17.469118Z",
     "start_time": "2022-08-25T11:33:17.455308Z"
    }
   },
   "outputs": [
    {
     "data": {
      "text/plain": [
       "IsolatingWatchman(n_trees=400)"
      ]
     },
     "execution_count": 20,
     "metadata": {},
     "output_type": "execute_result"
    }
   ],
   "source": [
    "watchman"
   ]
  },
  {
   "cell_type": "code",
   "execution_count": 21,
   "id": "82132a94",
   "metadata": {
    "ExecuteTime": {
     "end_time": "2022-08-25T11:35:24.451057Z",
     "start_time": "2022-08-25T11:33:17.472262Z"
    }
   },
   "outputs": [
    {
     "data": {
      "application/vnd.jupyter.widget-view+json": {
       "model_id": "85228aa2925c49f888aab27b078398f2",
       "version_major": 2,
       "version_minor": 0
      },
      "text/plain": [
       "  0%|          | 0/115 [00:00<?, ?it/s]"
      ]
     },
     "metadata": {},
     "output_type": "display_data"
    }
   ],
   "source": [
    "valid_gen = ds.valid_generator()\n",
    "examine_list = pd.DataFrame(columns=['precision', 'recall', 'f1_score'], dtype='float')\n",
    "for valid, faults, info in tqdm(valid_gen, total=115):\n",
    "    detect = watchman.predict(valid)\n",
    "    examine_list.loc[info] = time_span_metrics(faults, detect)\n",
    "#     if max(faults) and max(detect):\n",
    "#         plot_stacked(data,\n",
    "#                      title=info,\n",
    "#                      group='value_unit',\n",
    "#                      faults=faults,\n",
    "#                      detect=detect,\n",
    "#                     )"
   ]
  },
  {
   "cell_type": "code",
   "execution_count": 22,
   "id": "496878cb",
   "metadata": {
    "ExecuteTime": {
     "end_time": "2022-08-25T11:35:24.481120Z",
     "start_time": "2022-08-25T11:35:24.455010Z"
    }
   },
   "outputs": [
    {
     "data": {
      "text/plain": [
       "precision    0.084068\n",
       "recall       1.000000\n",
       "f1_score     0.128973\n",
       "dtype: float64"
      ]
     },
     "execution_count": 22,
     "metadata": {},
     "output_type": "execute_result"
    }
   ],
   "source": [
    "examine_list.mean()"
   ]
  }
 ],
 "metadata": {
  "kernelspec": {
   "display_name": "Python 3 (ipykernel)",
   "language": "python",
   "name": "python3"
  },
  "language_info": {
   "codemirror_mode": {
    "name": "ipython",
    "version": 3
   },
   "file_extension": ".py",
   "mimetype": "text/x-python",
   "name": "python",
   "nbconvert_exporter": "python",
   "pygments_lexer": "ipython3",
   "version": "3.8.8"
  },
  "toc": {
   "base_numbering": 1,
   "nav_menu": {},
   "number_sections": true,
   "sideBar": true,
   "skip_h1_title": false,
   "title_cell": "Table of Contents",
   "title_sidebar": "Contents",
   "toc_cell": false,
   "toc_position": {},
   "toc_section_display": true,
   "toc_window_display": false
  }
 },
 "nbformat": 4,
 "nbformat_minor": 5
}
