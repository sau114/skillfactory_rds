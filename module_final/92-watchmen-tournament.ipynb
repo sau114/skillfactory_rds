{
 "cells": [
  {
   "cell_type": "code",
   "execution_count": 1,
   "id": "3afcaa82",
   "metadata": {
    "ExecuteTime": {
     "end_time": "2022-09-02T21:16:33.300303Z",
     "start_time": "2022-09-02T21:16:33.256924Z"
    }
   },
   "outputs": [],
   "source": [
    "!del /Q utils\\__pycache__"
   ]
  },
  {
   "cell_type": "code",
   "execution_count": 2,
   "id": "86b03be5",
   "metadata": {
    "ExecuteTime": {
     "end_time": "2022-09-02T21:16:34.169785Z",
     "start_time": "2022-09-02T21:16:33.303290Z"
    }
   },
   "outputs": [],
   "source": [
    "import pandas as pd\n",
    "from tqdm.notebook import tqdm"
   ]
  },
  {
   "cell_type": "code",
   "execution_count": 3,
   "id": "f34899c4",
   "metadata": {
    "ExecuteTime": {
     "end_time": "2022-09-02T21:16:35.068550Z",
     "start_time": "2022-09-02T21:16:34.172783Z"
    }
   },
   "outputs": [],
   "source": [
    "from utils.datasets import GhlKasperskyDataset, TepHarvardDataset, TepKasperskyDataset, SwatItrustDataset\n",
    "from utils.custom_plots import plot_stacked\n",
    "from utils.metrics import time_span_metrics\n",
    "from utils.preserves import load_object\n",
    "from utils.watchmen import LimitWatchman, LimitPcaWatchman, SpePcaWatchman, IsolatingWatchman, LinearPredictWatchman"
   ]
  },
  {
   "cell_type": "code",
   "execution_count": 4,
   "id": "f4e9bb0f",
   "metadata": {
    "ExecuteTime": {
     "end_time": "2022-09-02T21:16:35.084583Z",
     "start_time": "2022-09-02T21:16:35.071517Z"
    }
   },
   "outputs": [],
   "source": [
    "SEED = 127"
   ]
  },
  {
   "cell_type": "markdown",
   "id": "ab2d87dc",
   "metadata": {
    "ExecuteTime": {
     "end_time": "2022-08-19T10:07:19.598656Z",
     "start_time": "2022-08-19T10:07:18.676895Z"
    }
   },
   "source": [
    "# Preparing datasets"
   ]
  },
  {
   "cell_type": "code",
   "execution_count": 5,
   "id": "cb921176",
   "metadata": {
    "ExecuteTime": {
     "end_time": "2022-09-02T21:16:35.100597Z",
     "start_time": "2022-09-02T21:16:35.087518Z"
    }
   },
   "outputs": [],
   "source": [
    "datasets = {\n",
    "    0: GhlKasperskyDataset(),\n",
    "    1: TepHarvardDataset(),\n",
    "    2: TepKasperskyDataset(),\n",
    "    3: SwatItrustDataset(),\n",
    "}"
   ]
  },
  {
   "cell_type": "code",
   "execution_count": 6,
   "id": "fd787944",
   "metadata": {
    "ExecuteTime": {
     "end_time": "2022-09-02T21:16:35.196604Z",
     "start_time": "2022-09-02T21:16:35.103638Z"
    }
   },
   "outputs": [],
   "source": [
    "shake_kwargs = {\n",
    "    'random_state': SEED,\n",
    "    'valid_test_ratio': 0.0,\n",
    "}\n",
    "for d in datasets:\n",
    "    datasets[d].shake_not_stir(**shake_kwargs)"
   ]
  },
  {
   "cell_type": "markdown",
   "id": "f007db40",
   "metadata": {},
   "source": [
    "# Preparing watchmen"
   ]
  },
  {
   "cell_type": "code",
   "execution_count": 7,
   "id": "b5c900e8",
   "metadata": {
    "ExecuteTime": {
     "end_time": "2022-09-02T21:16:35.212594Z",
     "start_time": "2022-09-02T21:16:35.198514Z"
    }
   },
   "outputs": [],
   "source": [
    "watchmen = {\n",
    "    0: {w: None for w in range(5)},\n",
    "    1: {w: None for w in range(5)},\n",
    "    2: {w: None for w in range(5)},\n",
    "    3: {w: None for w in range(5)},\n",
    "}"
   ]
  },
  {
   "cell_type": "code",
   "execution_count": 8,
   "id": "5154ed8a",
   "metadata": {
    "ExecuteTime": {
     "end_time": "2022-09-02T21:16:35.292613Z",
     "start_time": "2022-09-02T21:16:35.214515Z"
    }
   },
   "outputs": [],
   "source": [
    "for d in datasets:\n",
    "    for w in watchmen[d]:\n",
    "        watchmen[d][w] = load_object(f'{datasets[d].__class__.__name__}-watchman_{w}')"
   ]
  },
  {
   "cell_type": "markdown",
   "id": "5c728a4c",
   "metadata": {},
   "source": [
    "# Examine"
   ]
  },
  {
   "cell_type": "markdown",
   "id": "05b98514",
   "metadata": {},
   "source": [
    "## Throw stones"
   ]
  },
  {
   "cell_type": "code",
   "execution_count": 9,
   "id": "149642a0",
   "metadata": {
    "ExecuteTime": {
     "end_time": "2022-09-02T21:16:35.308629Z",
     "start_time": "2022-09-02T21:16:35.296515Z"
    }
   },
   "outputs": [],
   "source": [
    "stones = dict()\n",
    "for d in datasets:\n",
    "    stones[d] = dict()\n",
    "    for w in watchmen[d]:\n",
    "        stones[d][w] = list()"
   ]
  },
  {
   "cell_type": "code",
   "execution_count": 10,
   "id": "2eeb2ed3",
   "metadata": {
    "ExecuteTime": {
     "end_time": "2022-09-03T02:56:53.026363Z",
     "start_time": "2022-09-02T21:16:35.310517Z"
    }
   },
   "outputs": [
    {
     "data": {
      "application/vnd.jupyter.widget-view+json": {
       "model_id": "f85c16a07e184fab8105f12368d6eec0",
       "version_major": 2,
       "version_minor": 0
      },
      "text/plain": [
       "Detect on test 0: 0it [00:00, ?it/s]"
      ]
     },
     "metadata": {},
     "output_type": "display_data"
    },
    {
     "data": {
      "application/vnd.jupyter.widget-view+json": {
       "model_id": "6be3837f7374428cb3a1abd0246f2f0c",
       "version_major": 2,
       "version_minor": 0
      },
      "text/plain": [
       "Detect on test 1: 0it [00:00, ?it/s]"
      ]
     },
     "metadata": {},
     "output_type": "display_data"
    },
    {
     "data": {
      "application/vnd.jupyter.widget-view+json": {
       "model_id": "93748500e9994eb0aa27921665789fdd",
       "version_major": 2,
       "version_minor": 0
      },
      "text/plain": [
       "Detect on test 2: 0it [00:00, ?it/s]"
      ]
     },
     "metadata": {},
     "output_type": "display_data"
    },
    {
     "data": {
      "application/vnd.jupyter.widget-view+json": {
       "model_id": "79b1a31fd7414b6e9adf978ce2ae3e41",
       "version_major": 2,
       "version_minor": 0
      },
      "text/plain": [
       "Detect on test 3: 0it [00:00, ?it/s]"
      ]
     },
     "metadata": {},
     "output_type": "display_data"
    }
   ],
   "source": [
    "for d in datasets:\n",
    "    for data, faults, info in tqdm(datasets[d].test_generator(), desc=f'Detect on test {d}'):\n",
    "        for w in watchmen[d]:\n",
    "            detect = watchmen[d][w].predict(data)\n",
    "            stones[d][w].append(pd.concat([faults, detect], axis=1))\n",
    "            stones[d][w][-1].index.name = info"
   ]
  },
  {
   "cell_type": "markdown",
   "id": "1bb3f782",
   "metadata": {},
   "source": [
    "## Results"
   ]
  },
  {
   "cell_type": "code",
   "execution_count": 11,
   "id": "2a812d4d",
   "metadata": {
    "ExecuteTime": {
     "end_time": "2022-09-03T02:56:53.066436Z",
     "start_time": "2022-09-03T02:56:53.026363Z"
    }
   },
   "outputs": [],
   "source": [
    "metrics = ('precision', 'recall', 'f1_score')\n",
    "results = {str(datasets[d]): pd.DataFrame(columns=metrics) for d in datasets}"
   ]
  },
  {
   "cell_type": "markdown",
   "id": "502e007e",
   "metadata": {},
   "source": [
    "### Individual"
   ]
  },
  {
   "cell_type": "code",
   "execution_count": 12,
   "id": "e8aa1157",
   "metadata": {
    "ExecuteTime": {
     "end_time": "2022-09-03T03:02:25.920692Z",
     "start_time": "2022-09-03T02:56:53.066436Z"
    }
   },
   "outputs": [
    {
     "data": {
      "application/vnd.jupyter.widget-view+json": {
       "model_id": "e1fc8fd99a974d25a41d7805bd2a38d7",
       "version_major": 2,
       "version_minor": 0
      },
      "text/plain": [
       "Collect stones d0:   0%|          | 0/5 [00:00<?, ?it/s]"
      ]
     },
     "metadata": {},
     "output_type": "display_data"
    },
    {
     "data": {
      "application/vnd.jupyter.widget-view+json": {
       "model_id": "67d22c139a0142969bdddd945baac017",
       "version_major": 2,
       "version_minor": 0
      },
      "text/plain": [
       "Collect stones d1:   0%|          | 0/5 [00:00<?, ?it/s]"
      ]
     },
     "metadata": {},
     "output_type": "display_data"
    },
    {
     "data": {
      "application/vnd.jupyter.widget-view+json": {
       "model_id": "e1eaef0192904e27976fc7b4a84ca17c",
       "version_major": 2,
       "version_minor": 0
      },
      "text/plain": [
       "Collect stones d2:   0%|          | 0/5 [00:00<?, ?it/s]"
      ]
     },
     "metadata": {},
     "output_type": "display_data"
    },
    {
     "data": {
      "application/vnd.jupyter.widget-view+json": {
       "model_id": "eff89ce971224155b0dac34870163231",
       "version_major": 2,
       "version_minor": 0
      },
      "text/plain": [
       "Collect stones d3:   0%|          | 0/5 [00:00<?, ?it/s]"
      ]
     },
     "metadata": {},
     "output_type": "display_data"
    }
   ],
   "source": [
    "for d in datasets:\n",
    "    for w in tqdm(watchmen[d], desc=f'Collect stones d{d}'):\n",
    "        exam_paper = pd.DataFrame(columns=metrics)\n",
    "        for i_st, st in enumerate(stones[d][w]):\n",
    "            exam_paper.loc[i_st, metrics] = time_span_metrics(st.iloc[:, 0], st.iloc[:, 1:])\n",
    "        results[str(datasets[d])].loc[str(watchmen[d][w]), metrics] = exam_paper.mean().values"
   ]
  },
  {
   "cell_type": "markdown",
   "id": "19aee2a0",
   "metadata": {},
   "source": [
    "### Ensembling"
   ]
  },
  {
   "cell_type": "code",
   "execution_count": 13,
   "id": "f5ac600e",
   "metadata": {
    "ExecuteTime": {
     "end_time": "2022-09-03T03:04:51.758694Z",
     "start_time": "2022-09-03T03:02:25.926709Z"
    }
   },
   "outputs": [
    {
     "data": {
      "application/vnd.jupyter.widget-view+json": {
       "model_id": "5d421382236f47859b4db68bba19f6f9",
       "version_major": 2,
       "version_minor": 0
      },
      "text/plain": [
       "Collect stones d0: 0it [00:00, ?it/s]"
      ]
     },
     "metadata": {},
     "output_type": "display_data"
    },
    {
     "data": {
      "application/vnd.jupyter.widget-view+json": {
       "model_id": "e9e4ad36d19942ebb08e7a56f044f325",
       "version_major": 2,
       "version_minor": 0
      },
      "text/plain": [
       "Collect stones d1: 0it [00:00, ?it/s]"
      ]
     },
     "metadata": {},
     "output_type": "display_data"
    },
    {
     "data": {
      "application/vnd.jupyter.widget-view+json": {
       "model_id": "7e9c17c3e844459688e817698d0c5423",
       "version_major": 2,
       "version_minor": 0
      },
      "text/plain": [
       "Collect stones d2: 0it [00:00, ?it/s]"
      ]
     },
     "metadata": {},
     "output_type": "display_data"
    },
    {
     "data": {
      "application/vnd.jupyter.widget-view+json": {
       "model_id": "efbcdeff390645bc81b92ed197c606d2",
       "version_major": 2,
       "version_minor": 0
      },
      "text/plain": [
       "Collect stones d3: 0it [00:00, ?it/s]"
      ]
     },
     "metadata": {},
     "output_type": "display_data"
    }
   ],
   "source": [
    "threshold = 4\n",
    "for d in datasets:\n",
    "    exam_paper = pd.DataFrame(columns=metrics)\n",
    "    for i_st, st in tqdm(enumerate(stones[d][0]), desc=f'Collect stones d{d}'):\n",
    "        opinions = pd.concat([stones[d][w][i_st].iloc[:, 1:].sum(axis=1) for w in watchmen[d]], axis=1)\n",
    "        detect = (opinions.sum(axis=1) >= threshold).astype('uint8')\n",
    "        exam_paper.loc[i_st, metrics] = time_span_metrics(st.iloc[:, 0], detect)\n",
    "    results[str(datasets[d])].loc[f'ensemble(threshold={threshold})', metrics] = exam_paper.mean().values"
   ]
  },
  {
   "cell_type": "markdown",
   "id": "54459025",
   "metadata": {},
   "source": [
    "### Let's see"
   ]
  },
  {
   "cell_type": "code",
   "execution_count": 17,
   "id": "f60820cf",
   "metadata": {
    "ExecuteTime": {
     "end_time": "2022-09-03T06:24:55.385361Z",
     "start_time": "2022-09-03T06:24:55.328366Z"
    }
   },
   "outputs": [
    {
     "name": "stdout",
     "output_type": "stream",
     "text": [
      "GhlKasperskyDataset(E:\\Datasets\\GHL)\n"
     ]
    },
    {
     "data": {
      "text/html": [
       "<div>\n",
       "<style scoped>\n",
       "    .dataframe tbody tr th:only-of-type {\n",
       "        vertical-align: middle;\n",
       "    }\n",
       "\n",
       "    .dataframe tbody tr th {\n",
       "        vertical-align: top;\n",
       "    }\n",
       "\n",
       "    .dataframe thead th {\n",
       "        text-align: right;\n",
       "    }\n",
       "</style>\n",
       "<table border=\"1\" class=\"dataframe\">\n",
       "  <thead>\n",
       "    <tr style=\"text-align: right;\">\n",
       "      <th></th>\n",
       "      <th>precision</th>\n",
       "      <th>recall</th>\n",
       "      <th>f1_score</th>\n",
       "    </tr>\n",
       "  </thead>\n",
       "  <tbody>\n",
       "    <tr>\n",
       "      <th>LimitWatchman(ewma=None)</th>\n",
       "      <td>0.32572</td>\n",
       "      <td>0.643899</td>\n",
       "      <td>0.378634</td>\n",
       "    </tr>\n",
       "    <tr>\n",
       "      <th>LimitPcaWatchman(n_components=3)</th>\n",
       "      <td>0.369174</td>\n",
       "      <td>0.383978</td>\n",
       "      <td>0.355303</td>\n",
       "    </tr>\n",
       "    <tr>\n",
       "      <th>ensemble(threshold=4)</th>\n",
       "      <td>0.348501</td>\n",
       "      <td>0.315377</td>\n",
       "      <td>0.300894</td>\n",
       "    </tr>\n",
       "    <tr>\n",
       "      <th>IsolatingWatchman(n_trees=17)</th>\n",
       "      <td>0.016294</td>\n",
       "      <td>0.970982</td>\n",
       "      <td>0.031934</td>\n",
       "    </tr>\n",
       "    <tr>\n",
       "      <th>LinearPredictWatchman(n_features=12)</th>\n",
       "      <td>0.013827</td>\n",
       "      <td>1.0</td>\n",
       "      <td>0.027189</td>\n",
       "    </tr>\n",
       "    <tr>\n",
       "      <th>SpePcaWatchman(n_components=3)</th>\n",
       "      <td>0.0</td>\n",
       "      <td>0.0</td>\n",
       "      <td>0.0</td>\n",
       "    </tr>\n",
       "  </tbody>\n",
       "</table>\n",
       "</div>"
      ],
      "text/plain": [
       "                                     precision    recall  f1_score\n",
       "LimitWatchman(ewma=None)               0.32572  0.643899  0.378634\n",
       "LimitPcaWatchman(n_components=3)      0.369174  0.383978  0.355303\n",
       "ensemble(threshold=4)                 0.348501  0.315377  0.300894\n",
       "IsolatingWatchman(n_trees=17)         0.016294  0.970982  0.031934\n",
       "LinearPredictWatchman(n_features=12)  0.013827       1.0  0.027189\n",
       "SpePcaWatchman(n_components=3)             0.0       0.0       0.0"
      ]
     },
     "metadata": {},
     "output_type": "display_data"
    },
    {
     "name": "stdout",
     "output_type": "stream",
     "text": [
      "TepHarvardDataset(E:\\Datasets\\TEP\\dataverse)\n"
     ]
    },
    {
     "data": {
      "text/html": [
       "<div>\n",
       "<style scoped>\n",
       "    .dataframe tbody tr th:only-of-type {\n",
       "        vertical-align: middle;\n",
       "    }\n",
       "\n",
       "    .dataframe tbody tr th {\n",
       "        vertical-align: top;\n",
       "    }\n",
       "\n",
       "    .dataframe thead th {\n",
       "        text-align: right;\n",
       "    }\n",
       "</style>\n",
       "<table border=\"1\" class=\"dataframe\">\n",
       "  <thead>\n",
       "    <tr style=\"text-align: right;\">\n",
       "      <th></th>\n",
       "      <th>precision</th>\n",
       "      <th>recall</th>\n",
       "      <th>f1_score</th>\n",
       "    </tr>\n",
       "  </thead>\n",
       "  <tbody>\n",
       "    <tr>\n",
       "      <th>LinearPredictWatchman(n_features=52)</th>\n",
       "      <td>0.983441</td>\n",
       "      <td>0.748545</td>\n",
       "      <td>0.771986</td>\n",
       "    </tr>\n",
       "    <tr>\n",
       "      <th>LimitWatchman(ewma=None)</th>\n",
       "      <td>0.990542</td>\n",
       "      <td>0.640096</td>\n",
       "      <td>0.679066</td>\n",
       "    </tr>\n",
       "    <tr>\n",
       "      <th>ensemble(threshold=4)</th>\n",
       "      <td>0.999266</td>\n",
       "      <td>0.591363</td>\n",
       "      <td>0.641562</td>\n",
       "    </tr>\n",
       "    <tr>\n",
       "      <th>SpePcaWatchman(n_components=3)</th>\n",
       "      <td>0.999744</td>\n",
       "      <td>0.548044</td>\n",
       "      <td>0.588005</td>\n",
       "    </tr>\n",
       "    <tr>\n",
       "      <th>IsolatingWatchman(n_trees=500)</th>\n",
       "      <td>0.854073</td>\n",
       "      <td>0.454568</td>\n",
       "      <td>0.499293</td>\n",
       "    </tr>\n",
       "    <tr>\n",
       "      <th>LimitPcaWatchman(n_components=3)</th>\n",
       "      <td>0.996004</td>\n",
       "      <td>0.402341</td>\n",
       "      <td>0.449245</td>\n",
       "    </tr>\n",
       "  </tbody>\n",
       "</table>\n",
       "</div>"
      ],
      "text/plain": [
       "                                     precision    recall  f1_score\n",
       "LinearPredictWatchman(n_features=52)  0.983441  0.748545  0.771986\n",
       "LimitWatchman(ewma=None)              0.990542  0.640096  0.679066\n",
       "ensemble(threshold=4)                 0.999266  0.591363  0.641562\n",
       "SpePcaWatchman(n_components=3)        0.999744  0.548044  0.588005\n",
       "IsolatingWatchman(n_trees=500)        0.854073  0.454568  0.499293\n",
       "LimitPcaWatchman(n_components=3)      0.996004  0.402341  0.449245"
      ]
     },
     "metadata": {},
     "output_type": "display_data"
    },
    {
     "name": "stdout",
     "output_type": "stream",
     "text": [
      "TepKasperskyDataset(E:\\Datasets\\TEP\\kaspersky)\n"
     ]
    },
    {
     "data": {
      "text/html": [
       "<div>\n",
       "<style scoped>\n",
       "    .dataframe tbody tr th:only-of-type {\n",
       "        vertical-align: middle;\n",
       "    }\n",
       "\n",
       "    .dataframe tbody tr th {\n",
       "        vertical-align: top;\n",
       "    }\n",
       "\n",
       "    .dataframe thead th {\n",
       "        text-align: right;\n",
       "    }\n",
       "</style>\n",
       "<table border=\"1\" class=\"dataframe\">\n",
       "  <thead>\n",
       "    <tr style=\"text-align: right;\">\n",
       "      <th></th>\n",
       "      <th>precision</th>\n",
       "      <th>recall</th>\n",
       "      <th>f1_score</th>\n",
       "    </tr>\n",
       "  </thead>\n",
       "  <tbody>\n",
       "    <tr>\n",
       "      <th>LimitWatchman(ewma=None)</th>\n",
       "      <td>0.765249</td>\n",
       "      <td>0.433985</td>\n",
       "      <td>0.413122</td>\n",
       "    </tr>\n",
       "    <tr>\n",
       "      <th>ensemble(threshold=4)</th>\n",
       "      <td>0.839017</td>\n",
       "      <td>0.30976</td>\n",
       "      <td>0.323324</td>\n",
       "    </tr>\n",
       "    <tr>\n",
       "      <th>LinearPredictWatchman(n_features=53)</th>\n",
       "      <td>0.359084</td>\n",
       "      <td>0.478348</td>\n",
       "      <td>0.255118</td>\n",
       "    </tr>\n",
       "    <tr>\n",
       "      <th>SpePcaWatchman(n_components=3)</th>\n",
       "      <td>0.976871</td>\n",
       "      <td>0.245566</td>\n",
       "      <td>0.253022</td>\n",
       "    </tr>\n",
       "    <tr>\n",
       "      <th>LimitPcaWatchman(n_components=3)</th>\n",
       "      <td>0.836735</td>\n",
       "      <td>0.243649</td>\n",
       "      <td>0.240436</td>\n",
       "    </tr>\n",
       "    <tr>\n",
       "      <th>IsolatingWatchman(n_trees=400)</th>\n",
       "      <td>0.075873</td>\n",
       "      <td>1.0</td>\n",
       "      <td>0.116781</td>\n",
       "    </tr>\n",
       "  </tbody>\n",
       "</table>\n",
       "</div>"
      ],
      "text/plain": [
       "                                     precision    recall  f1_score\n",
       "LimitWatchman(ewma=None)              0.765249  0.433985  0.413122\n",
       "ensemble(threshold=4)                 0.839017   0.30976  0.323324\n",
       "LinearPredictWatchman(n_features=53)  0.359084  0.478348  0.255118\n",
       "SpePcaWatchman(n_components=3)        0.976871  0.245566  0.253022\n",
       "LimitPcaWatchman(n_components=3)      0.836735  0.243649  0.240436\n",
       "IsolatingWatchman(n_trees=400)        0.075873       1.0  0.116781"
      ]
     },
     "metadata": {},
     "output_type": "display_data"
    },
    {
     "name": "stdout",
     "output_type": "stream",
     "text": [
      "SwatItrustDataset(E:\\Datasets\\SWaT\\dataset12)\n"
     ]
    },
    {
     "data": {
      "text/html": [
       "<div>\n",
       "<style scoped>\n",
       "    .dataframe tbody tr th:only-of-type {\n",
       "        vertical-align: middle;\n",
       "    }\n",
       "\n",
       "    .dataframe tbody tr th {\n",
       "        vertical-align: top;\n",
       "    }\n",
       "\n",
       "    .dataframe thead th {\n",
       "        text-align: right;\n",
       "    }\n",
       "</style>\n",
       "<table border=\"1\" class=\"dataframe\">\n",
       "  <thead>\n",
       "    <tr style=\"text-align: right;\">\n",
       "      <th></th>\n",
       "      <th>precision</th>\n",
       "      <th>recall</th>\n",
       "      <th>f1_score</th>\n",
       "    </tr>\n",
       "  </thead>\n",
       "  <tbody>\n",
       "    <tr>\n",
       "      <th>ensemble(threshold=4)</th>\n",
       "      <td>0.347633</td>\n",
       "      <td>0.783333</td>\n",
       "      <td>0.348253</td>\n",
       "    </tr>\n",
       "    <tr>\n",
       "      <th>LimitPcaWatchman(n_components=3)</th>\n",
       "      <td>0.341508</td>\n",
       "      <td>0.432456</td>\n",
       "      <td>0.344494</td>\n",
       "    </tr>\n",
       "    <tr>\n",
       "      <th>LinearPredictWatchman(n_features=51)</th>\n",
       "      <td>0.338323</td>\n",
       "      <td>0.671345</td>\n",
       "      <td>0.323797</td>\n",
       "    </tr>\n",
       "    <tr>\n",
       "      <th>LimitWatchman(ewma=None)</th>\n",
       "      <td>0.193875</td>\n",
       "      <td>0.983333</td>\n",
       "      <td>0.309055</td>\n",
       "    </tr>\n",
       "    <tr>\n",
       "      <th>IsolatingWatchman(n_trees=6)</th>\n",
       "      <td>0.187796</td>\n",
       "      <td>1.0</td>\n",
       "      <td>0.300011</td>\n",
       "    </tr>\n",
       "    <tr>\n",
       "      <th>SpePcaWatchman(n_components=3)</th>\n",
       "      <td>1.0</td>\n",
       "      <td>0.033333</td>\n",
       "      <td>0.060606</td>\n",
       "    </tr>\n",
       "  </tbody>\n",
       "</table>\n",
       "</div>"
      ],
      "text/plain": [
       "                                     precision    recall  f1_score\n",
       "ensemble(threshold=4)                 0.347633  0.783333  0.348253\n",
       "LimitPcaWatchman(n_components=3)      0.341508  0.432456  0.344494\n",
       "LinearPredictWatchman(n_features=51)  0.338323  0.671345  0.323797\n",
       "LimitWatchman(ewma=None)              0.193875  0.983333  0.309055\n",
       "IsolatingWatchman(n_trees=6)          0.187796       1.0  0.300011\n",
       "SpePcaWatchman(n_components=3)             1.0  0.033333  0.060606"
      ]
     },
     "metadata": {},
     "output_type": "display_data"
    }
   ],
   "source": [
    "for d in results:\n",
    "    print(d)\n",
    "    display(results[d].sort_values(by='f1_score', ascending=False))"
   ]
  },
  {
   "cell_type": "code",
   "execution_count": null,
   "id": "903fcf7c",
   "metadata": {},
   "outputs": [],
   "source": []
  }
 ],
 "metadata": {
  "kernelspec": {
   "display_name": "Python 3 (ipykernel)",
   "language": "python",
   "name": "python3"
  },
  "language_info": {
   "codemirror_mode": {
    "name": "ipython",
    "version": 3
   },
   "file_extension": ".py",
   "mimetype": "text/x-python",
   "name": "python",
   "nbconvert_exporter": "python",
   "pygments_lexer": "ipython3",
   "version": "3.8.8"
  },
  "toc": {
   "base_numbering": 1,
   "nav_menu": {},
   "number_sections": true,
   "sideBar": true,
   "skip_h1_title": false,
   "title_cell": "Table of Contents",
   "title_sidebar": "Contents",
   "toc_cell": false,
   "toc_position": {
    "height": "calc(100% - 180px)",
    "left": "10px",
    "top": "150px",
    "width": "272.2px"
   },
   "toc_section_display": true,
   "toc_window_display": true
  }
 },
 "nbformat": 4,
 "nbformat_minor": 5
}
