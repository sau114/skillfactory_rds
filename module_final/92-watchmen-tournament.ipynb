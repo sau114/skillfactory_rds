{
 "cells": [
  {
   "cell_type": "code",
   "execution_count": 1,
   "id": "3afcaa82",
   "metadata": {
    "ExecuteTime": {
     "end_time": "2022-09-16T15:58:31.994187Z",
     "start_time": "2022-09-16T15:58:31.950594Z"
    }
   },
   "outputs": [],
   "source": [
    "!del /Q utils\\__pycache__"
   ]
  },
  {
   "cell_type": "code",
   "execution_count": 2,
   "id": "86b03be5",
   "metadata": {
    "ExecuteTime": {
     "end_time": "2022-09-16T15:58:33.003293Z",
     "start_time": "2022-09-16T15:58:31.996188Z"
    }
   },
   "outputs": [],
   "source": [
    "import pandas as pd\n",
    "from tqdm.notebook import tqdm"
   ]
  },
  {
   "cell_type": "code",
   "execution_count": 3,
   "id": "f34899c4",
   "metadata": {
    "ExecuteTime": {
     "end_time": "2022-09-16T15:58:39.016977Z",
     "start_time": "2022-09-16T15:58:33.007273Z"
    }
   },
   "outputs": [],
   "source": [
    "from utils.datasets import GhlKasperskyDataset, TepHarvardDataset, TepKasperskyDataset, SwatItrustDataset\n",
    "from utils.custom_plots import plot_stacked\n",
    "from utils.metrics import time_span_metrics\n",
    "from utils.watchhouse import DirectLimitWatchman, PcaLimitWatchman\n",
    "from utils.watchhouse import IsoForestWatchman\n",
    "from utils.watchhouse import LinearPredictWatchman, DeepPredictWatchman"
   ]
  },
  {
   "cell_type": "code",
   "execution_count": 4,
   "id": "f4e9bb0f",
   "metadata": {
    "ExecuteTime": {
     "end_time": "2022-09-16T15:58:39.031997Z",
     "start_time": "2022-09-16T15:58:39.018987Z"
    }
   },
   "outputs": [],
   "source": [
    "SEED = 127"
   ]
  },
  {
   "cell_type": "markdown",
   "id": "ab2d87dc",
   "metadata": {
    "ExecuteTime": {
     "end_time": "2022-08-19T10:07:19.598656Z",
     "start_time": "2022-08-19T10:07:18.676895Z"
    }
   },
   "source": [
    "# Preparing datasets"
   ]
  },
  {
   "cell_type": "code",
   "execution_count": 5,
   "id": "cb921176",
   "metadata": {
    "ExecuteTime": {
     "end_time": "2022-09-16T15:58:39.047503Z",
     "start_time": "2022-09-16T15:58:39.033967Z"
    }
   },
   "outputs": [],
   "source": [
    "datasets = {\n",
    "    0: GhlKasperskyDataset(),\n",
    "    1: TepHarvardDataset(),\n",
    "    2: TepKasperskyDataset(),\n",
    "    3: SwatItrustDataset(),\n",
    "}"
   ]
  },
  {
   "cell_type": "code",
   "execution_count": 6,
   "id": "fd787944",
   "metadata": {
    "ExecuteTime": {
     "end_time": "2022-09-16T15:58:39.157844Z",
     "start_time": "2022-09-16T15:58:39.050504Z"
    }
   },
   "outputs": [],
   "source": [
    "shake_kwargs = {\n",
    "    'random_state': SEED,\n",
    "    'valid2test_ratio': 0.3,\n",
    "}\n",
    "for d in datasets:\n",
    "    datasets[d].shake_not_stir(**shake_kwargs)"
   ]
  },
  {
   "cell_type": "markdown",
   "id": "f007db40",
   "metadata": {},
   "source": [
    "# Preparing watchhouse"
   ]
  },
  {
   "cell_type": "code",
   "execution_count": 7,
   "id": "b5c900e8",
   "metadata": {
    "ExecuteTime": {
     "end_time": "2022-09-16T15:58:39.188904Z",
     "start_time": "2022-09-16T15:58:39.159762Z"
    }
   },
   "outputs": [],
   "source": [
    "watchhouse = {\n",
    "    0: {  # GhlKasperskyDataset\n",
    "        0: DirectLimitWatchman(),\n",
    "        1: PcaLimitWatchman(),\n",
    "        2: IsoForestWatchman(),\n",
    "        3: LinearPredictWatchman(),\n",
    "        4: DeepPredictWatchman(),\n",
    "    },\n",
    "    1: {  # TepHarvardDataset\n",
    "        0: DirectLimitWatchman(),\n",
    "        1: PcaLimitWatchman(),\n",
    "        2: IsoForestWatchman(),\n",
    "        3: LinearPredictWatchman(),\n",
    "        4: DeepPredictWatchman(),\n",
    "    },\n",
    "    2: {  # TepKasperskyDataset\n",
    "        0: DirectLimitWatchman(),\n",
    "        1: PcaLimitWatchman(),\n",
    "        2: IsoForestWatchman(),\n",
    "        3: LinearPredictWatchman(),\n",
    "        4: DeepPredictWatchman(),\n",
    "    },\n",
    "    3: {  # SwatItrustDataset\n",
    "        0: DirectLimitWatchman(),\n",
    "        1: PcaLimitWatchman(),\n",
    "        2: IsoForestWatchman(),\n",
    "        3: LinearPredictWatchman(),\n",
    "        4: DeepPredictWatchman(),\n",
    "    },\n",
    "}"
   ]
  },
  {
   "cell_type": "code",
   "execution_count": 8,
   "id": "5154ed8a",
   "metadata": {
    "ExecuteTime": {
     "end_time": "2022-09-16T15:58:40.418440Z",
     "start_time": "2022-09-16T15:58:39.190853Z"
    }
   },
   "outputs": [],
   "source": [
    "for d in datasets:\n",
    "    for w in watchhouse[d]:\n",
    "        watchhouse[d][w].load(f'{datasets[d].__class__.__name__}')"
   ]
  },
  {
   "cell_type": "markdown",
   "id": "5c728a4c",
   "metadata": {},
   "source": [
    "# Examine"
   ]
  },
  {
   "cell_type": "markdown",
   "id": "05b98514",
   "metadata": {},
   "source": [
    "## Throw stones"
   ]
  },
  {
   "cell_type": "code",
   "execution_count": 10,
   "id": "149642a0",
   "metadata": {
    "ExecuteTime": {
     "end_time": "2022-09-16T16:00:01.314870Z",
     "start_time": "2022-09-16T16:00:01.295450Z"
    }
   },
   "outputs": [],
   "source": [
    "stones = dict()\n",
    "for d in datasets:\n",
    "    stones[d] = dict()\n",
    "    for w in watchhouse[d]:\n",
    "        stones[d][w] = list()"
   ]
  },
  {
   "cell_type": "code",
   "execution_count": 11,
   "id": "2eeb2ed3",
   "metadata": {
    "ExecuteTime": {
     "end_time": "2022-09-17T10:03:04.379638Z",
     "start_time": "2022-09-16T16:00:01.317755Z"
    }
   },
   "outputs": [
    {
     "data": {
      "application/vnd.jupyter.widget-view+json": {
       "model_id": "580ea27226ca4e4aa473fe67d061d4b6",
       "version_major": 2,
       "version_minor": 0
      },
      "text/plain": [
       "Detect on test 0:   0%|          | 0/48 [00:00<?, ?it/s]"
      ]
     },
     "metadata": {},
     "output_type": "display_data"
    },
    {
     "data": {
      "application/vnd.jupyter.widget-view+json": {
       "model_id": "a4ac83973b514ef086ae8643fb3e4b19",
       "version_major": 2,
       "version_minor": 0
      },
      "text/plain": [
       "Detect on test 1:   0%|          | 0/10500 [00:00<?, ?it/s]"
      ]
     },
     "metadata": {},
     "output_type": "display_data"
    },
    {
     "data": {
      "application/vnd.jupyter.widget-view+json": {
       "model_id": "ebbd572c6551465892e48ccaaf4e9300",
       "version_major": 2,
       "version_minor": 0
      },
      "text/plain": [
       "Detect on test 2:   0%|          | 0/488 [00:00<?, ?it/s]"
      ]
     },
     "metadata": {},
     "output_type": "display_data"
    },
    {
     "data": {
      "application/vnd.jupyter.widget-view+json": {
       "model_id": "6608e5c372c343509e3f337e19001e8b",
       "version_major": 2,
       "version_minor": 0
      },
      "text/plain": [
       "Detect on test 3:   0%|          | 0/6 [00:00<?, ?it/s]"
      ]
     },
     "metadata": {},
     "output_type": "display_data"
    }
   ],
   "source": [
    "for d in datasets:\n",
    "    for data, faults, info in tqdm(datasets[d].test_generator(), desc=f'Detect on test {d}'):\n",
    "        for w in watchhouse[d]:\n",
    "            detect = watchhouse[d][w].predict(data)\n",
    "            stones[d][w].append(pd.concat([faults, detect], axis=1))\n",
    "            stones[d][w][-1].index.name = info"
   ]
  },
  {
   "cell_type": "markdown",
   "id": "1bb3f782",
   "metadata": {},
   "source": [
    "## Results"
   ]
  },
  {
   "cell_type": "code",
   "execution_count": 12,
   "id": "2a812d4d",
   "metadata": {
    "ExecuteTime": {
     "end_time": "2022-09-17T10:03:04.426453Z",
     "start_time": "2022-09-17T10:03:04.393404Z"
    }
   },
   "outputs": [],
   "source": [
    "metrics = ('precision', 'recall', 'f1_score')\n",
    "results = {str(datasets[d]): pd.DataFrame(columns=metrics) for d in datasets}"
   ]
  },
  {
   "cell_type": "markdown",
   "id": "502e007e",
   "metadata": {},
   "source": [
    "### Individual"
   ]
  },
  {
   "cell_type": "code",
   "execution_count": 13,
   "id": "e8aa1157",
   "metadata": {
    "ExecuteTime": {
     "end_time": "2022-09-17T10:12:28.418495Z",
     "start_time": "2022-09-17T10:03:04.441434Z"
    }
   },
   "outputs": [
    {
     "data": {
      "application/vnd.jupyter.widget-view+json": {
       "model_id": "d6ecfed27eda49449bbd0b5b9ad40b1d",
       "version_major": 2,
       "version_minor": 0
      },
      "text/plain": [
       "Collect stones d0:   0%|          | 0/5 [00:00<?, ?it/s]"
      ]
     },
     "metadata": {},
     "output_type": "display_data"
    },
    {
     "data": {
      "application/vnd.jupyter.widget-view+json": {
       "model_id": "f6e823fdc5e84a7b97bc013af2b2acab",
       "version_major": 2,
       "version_minor": 0
      },
      "text/plain": [
       "Collect stones d1:   0%|          | 0/5 [00:00<?, ?it/s]"
      ]
     },
     "metadata": {},
     "output_type": "display_data"
    },
    {
     "data": {
      "application/vnd.jupyter.widget-view+json": {
       "model_id": "b5cbd12d27064ff2b442b52e9a0d44c9",
       "version_major": 2,
       "version_minor": 0
      },
      "text/plain": [
       "Collect stones d2:   0%|          | 0/5 [00:00<?, ?it/s]"
      ]
     },
     "metadata": {},
     "output_type": "display_data"
    },
    {
     "data": {
      "application/vnd.jupyter.widget-view+json": {
       "model_id": "0f3f4f5d063e42d8a68a9989c2f40e9d",
       "version_major": 2,
       "version_minor": 0
      },
      "text/plain": [
       "Collect stones d3:   0%|          | 0/5 [00:00<?, ?it/s]"
      ]
     },
     "metadata": {},
     "output_type": "display_data"
    }
   ],
   "source": [
    "for d in datasets:\n",
    "    for w in tqdm(watchhouse[d], desc=f'Collect stones d{d}'):\n",
    "        exam_paper = pd.DataFrame(columns=metrics)\n",
    "        for i_st, st in enumerate(stones[d][w]):\n",
    "            exam_paper.loc[i_st, metrics] = time_span_metrics(st.iloc[:, 0], st.iloc[:, 1:])\n",
    "        results[str(datasets[d])].loc[str(watchhouse[d][w]), metrics] = exam_paper.mean().values"
   ]
  },
  {
   "cell_type": "markdown",
   "id": "19aee2a0",
   "metadata": {},
   "source": [
    "### Ensembling"
   ]
  },
  {
   "cell_type": "code",
   "execution_count": 18,
   "id": "f5ac600e",
   "metadata": {
    "ExecuteTime": {
     "end_time": "2022-09-17T12:11:19.369709Z",
     "start_time": "2022-09-17T12:06:05.542946Z"
    }
   },
   "outputs": [
    {
     "data": {
      "application/vnd.jupyter.widget-view+json": {
       "model_id": "fba923f29657436b8fed41fc760ee24c",
       "version_major": 2,
       "version_minor": 0
      },
      "text/plain": [
       "  0%|          | 0/4 [00:00<?, ?it/s]"
      ]
     },
     "metadata": {},
     "output_type": "display_data"
    }
   ],
   "source": [
    "threshold = 5\n",
    "for d in tqdm(datasets):\n",
    "    exam_paper = pd.DataFrame(columns=metrics)\n",
    "    for i_st, st in enumerate(stones[d][0]):\n",
    "        opinions = pd.concat([stones[d][w][i_st].iloc[:, 1:].sum(axis=1) for w in watchhouse[d]], axis=1)\n",
    "        detect = (opinions.sum(axis=1) >= threshold).astype('uint8')\n",
    "        exam_paper.loc[i_st, metrics] = time_span_metrics(st.iloc[:, 0], detect)\n",
    "    results[str(datasets[d])].loc[f'ensemble(threshold={threshold})', metrics] = exam_paper.mean().values"
   ]
  },
  {
   "cell_type": "markdown",
   "id": "54459025",
   "metadata": {},
   "source": [
    "### Let's see"
   ]
  },
  {
   "cell_type": "code",
   "execution_count": 19,
   "id": "f60820cf",
   "metadata": {
    "ExecuteTime": {
     "end_time": "2022-09-17T12:11:19.541509Z",
     "start_time": "2022-09-17T12:11:19.399189Z"
    }
   },
   "outputs": [
    {
     "name": "stdout",
     "output_type": "stream",
     "text": [
      "GhlKasperskyDataset(E:\\Datasets\\GHL)\n"
     ]
    },
    {
     "data": {
      "text/html": [
       "<div>\n",
       "<style scoped>\n",
       "    .dataframe tbody tr th:only-of-type {\n",
       "        vertical-align: middle;\n",
       "    }\n",
       "\n",
       "    .dataframe tbody tr th {\n",
       "        vertical-align: top;\n",
       "    }\n",
       "\n",
       "    .dataframe thead th {\n",
       "        text-align: right;\n",
       "    }\n",
       "</style>\n",
       "<table border=\"1\" class=\"dataframe\">\n",
       "  <thead>\n",
       "    <tr style=\"text-align: right;\">\n",
       "      <th></th>\n",
       "      <th>precision</th>\n",
       "      <th>recall</th>\n",
       "      <th>f1_score</th>\n",
       "    </tr>\n",
       "  </thead>\n",
       "  <tbody>\n",
       "    <tr>\n",
       "      <th>ensemble(threshold=5)</th>\n",
       "      <td>0.738343</td>\n",
       "      <td>0.532937</td>\n",
       "      <td>0.593724</td>\n",
       "    </tr>\n",
       "    <tr>\n",
       "      <th>ensemble(threshold=4)</th>\n",
       "      <td>0.493247</td>\n",
       "      <td>0.602728</td>\n",
       "      <td>0.494965</td>\n",
       "    </tr>\n",
       "    <tr>\n",
       "      <th>ensemble(threshold=3)</th>\n",
       "      <td>0.334795</td>\n",
       "      <td>0.66002</td>\n",
       "      <td>0.401773</td>\n",
       "    </tr>\n",
       "    <tr>\n",
       "      <th>PcaLimitWatchman(n_features=12)</th>\n",
       "      <td>0.5075</td>\n",
       "      <td>0.377034</td>\n",
       "      <td>0.388211</td>\n",
       "    </tr>\n",
       "    <tr>\n",
       "      <th>DirectLimitWatchman(n_features=12)</th>\n",
       "      <td>0.32591</td>\n",
       "      <td>0.654315</td>\n",
       "      <td>0.379217</td>\n",
       "    </tr>\n",
       "    <tr>\n",
       "      <th>DeepPredictWatchman(n_features=12)</th>\n",
       "      <td>0.222512</td>\n",
       "      <td>0.710565</td>\n",
       "      <td>0.322436</td>\n",
       "    </tr>\n",
       "    <tr>\n",
       "      <th>IsoForestWatchman(n_features=12)</th>\n",
       "      <td>0.026413</td>\n",
       "      <td>0.832391</td>\n",
       "      <td>0.050855</td>\n",
       "    </tr>\n",
       "    <tr>\n",
       "      <th>LinearPredictWatchman(n_features=12)</th>\n",
       "      <td>0.027397</td>\n",
       "      <td>0.042014</td>\n",
       "      <td>0.028886</td>\n",
       "    </tr>\n",
       "  </tbody>\n",
       "</table>\n",
       "</div>"
      ],
      "text/plain": [
       "                                     precision    recall  f1_score\n",
       "ensemble(threshold=5)                 0.738343  0.532937  0.593724\n",
       "ensemble(threshold=4)                 0.493247  0.602728  0.494965\n",
       "ensemble(threshold=3)                 0.334795   0.66002  0.401773\n",
       "PcaLimitWatchman(n_features=12)         0.5075  0.377034  0.388211\n",
       "DirectLimitWatchman(n_features=12)     0.32591  0.654315  0.379217\n",
       "DeepPredictWatchman(n_features=12)    0.222512  0.710565  0.322436\n",
       "IsoForestWatchman(n_features=12)      0.026413  0.832391  0.050855\n",
       "LinearPredictWatchman(n_features=12)  0.027397  0.042014  0.028886"
      ]
     },
     "metadata": {},
     "output_type": "display_data"
    },
    {
     "name": "stdout",
     "output_type": "stream",
     "text": [
      "TepHarvardDataset(E:\\Datasets\\TEP\\dataverse)\n"
     ]
    },
    {
     "data": {
      "text/html": [
       "<div>\n",
       "<style scoped>\n",
       "    .dataframe tbody tr th:only-of-type {\n",
       "        vertical-align: middle;\n",
       "    }\n",
       "\n",
       "    .dataframe tbody tr th {\n",
       "        vertical-align: top;\n",
       "    }\n",
       "\n",
       "    .dataframe thead th {\n",
       "        text-align: right;\n",
       "    }\n",
       "</style>\n",
       "<table border=\"1\" class=\"dataframe\">\n",
       "  <thead>\n",
       "    <tr style=\"text-align: right;\">\n",
       "      <th></th>\n",
       "      <th>precision</th>\n",
       "      <th>recall</th>\n",
       "      <th>f1_score</th>\n",
       "    </tr>\n",
       "  </thead>\n",
       "  <tbody>\n",
       "    <tr>\n",
       "      <th>LinearPredictWatchman(n_features=52)</th>\n",
       "      <td>0.980548</td>\n",
       "      <td>0.798</td>\n",
       "      <td>0.812021</td>\n",
       "    </tr>\n",
       "    <tr>\n",
       "      <th>ensemble(threshold=3)</th>\n",
       "      <td>0.9965</td>\n",
       "      <td>0.727969</td>\n",
       "      <td>0.761344</td>\n",
       "    </tr>\n",
       "    <tr>\n",
       "      <th>ensemble(threshold=4)</th>\n",
       "      <td>0.998278</td>\n",
       "      <td>0.689536</td>\n",
       "      <td>0.727105</td>\n",
       "    </tr>\n",
       "    <tr>\n",
       "      <th>DeepPredictWatchman(n_features=52)</th>\n",
       "      <td>0.984308</td>\n",
       "      <td>0.678536</td>\n",
       "      <td>0.716741</td>\n",
       "    </tr>\n",
       "    <tr>\n",
       "      <th>DirectLimitWatchman(n_features=52)</th>\n",
       "      <td>0.986124</td>\n",
       "      <td>0.644344</td>\n",
       "      <td>0.682156</td>\n",
       "    </tr>\n",
       "    <tr>\n",
       "      <th>ensemble(threshold=5)</th>\n",
       "      <td>0.999062</td>\n",
       "      <td>0.622593</td>\n",
       "      <td>0.674236</td>\n",
       "    </tr>\n",
       "    <tr>\n",
       "      <th>PcaLimitWatchman(n_features=52)</th>\n",
       "      <td>0.996583</td>\n",
       "      <td>0.558771</td>\n",
       "      <td>0.600721</td>\n",
       "    </tr>\n",
       "    <tr>\n",
       "      <th>IsoForestWatchman(n_features=52)</th>\n",
       "      <td>0.853757</td>\n",
       "      <td>0.478014</td>\n",
       "      <td>0.525161</td>\n",
       "    </tr>\n",
       "  </tbody>\n",
       "</table>\n",
       "</div>"
      ],
      "text/plain": [
       "                                     precision    recall  f1_score\n",
       "LinearPredictWatchman(n_features=52)  0.980548     0.798  0.812021\n",
       "ensemble(threshold=3)                   0.9965  0.727969  0.761344\n",
       "ensemble(threshold=4)                 0.998278  0.689536  0.727105\n",
       "DeepPredictWatchman(n_features=52)    0.984308  0.678536  0.716741\n",
       "DirectLimitWatchman(n_features=52)    0.986124  0.644344  0.682156\n",
       "ensemble(threshold=5)                 0.999062  0.622593  0.674236\n",
       "PcaLimitWatchman(n_features=52)       0.996583  0.558771  0.600721\n",
       "IsoForestWatchman(n_features=52)      0.853757  0.478014  0.525161"
      ]
     },
     "metadata": {},
     "output_type": "display_data"
    },
    {
     "name": "stdout",
     "output_type": "stream",
     "text": [
      "TepKasperskyDataset(E:\\Datasets\\TEP\\kaspersky)\n"
     ]
    },
    {
     "data": {
      "text/html": [
       "<div>\n",
       "<style scoped>\n",
       "    .dataframe tbody tr th:only-of-type {\n",
       "        vertical-align: middle;\n",
       "    }\n",
       "\n",
       "    .dataframe tbody tr th {\n",
       "        vertical-align: top;\n",
       "    }\n",
       "\n",
       "    .dataframe thead th {\n",
       "        text-align: right;\n",
       "    }\n",
       "</style>\n",
       "<table border=\"1\" class=\"dataframe\">\n",
       "  <thead>\n",
       "    <tr style=\"text-align: right;\">\n",
       "      <th></th>\n",
       "      <th>precision</th>\n",
       "      <th>recall</th>\n",
       "      <th>f1_score</th>\n",
       "    </tr>\n",
       "  </thead>\n",
       "  <tbody>\n",
       "    <tr>\n",
       "      <th>LinearPredictWatchman(n_features=53)</th>\n",
       "      <td>0.784132</td>\n",
       "      <td>0.480178</td>\n",
       "      <td>0.443834</td>\n",
       "    </tr>\n",
       "    <tr>\n",
       "      <th>ensemble(threshold=3)</th>\n",
       "      <td>0.749968</td>\n",
       "      <td>0.470508</td>\n",
       "      <td>0.427041</td>\n",
       "    </tr>\n",
       "    <tr>\n",
       "      <th>DirectLimitWatchman(n_features=53)</th>\n",
       "      <td>0.776658</td>\n",
       "      <td>0.431569</td>\n",
       "      <td>0.415414</td>\n",
       "    </tr>\n",
       "    <tr>\n",
       "      <th>ensemble(threshold=4)</th>\n",
       "      <td>0.770535</td>\n",
       "      <td>0.438411</td>\n",
       "      <td>0.410373</td>\n",
       "    </tr>\n",
       "    <tr>\n",
       "      <th>DeepPredictWatchman(n_features=53)</th>\n",
       "      <td>0.651948</td>\n",
       "      <td>0.480615</td>\n",
       "      <td>0.391748</td>\n",
       "    </tr>\n",
       "    <tr>\n",
       "      <th>ensemble(threshold=5)</th>\n",
       "      <td>0.805399</td>\n",
       "      <td>0.367713</td>\n",
       "      <td>0.361742</td>\n",
       "    </tr>\n",
       "    <tr>\n",
       "      <th>PcaLimitWatchman(n_features=53)</th>\n",
       "      <td>0.95817</td>\n",
       "      <td>0.248921</td>\n",
       "      <td>0.257048</td>\n",
       "    </tr>\n",
       "    <tr>\n",
       "      <th>IsoForestWatchman(n_features=53)</th>\n",
       "      <td>0.044778</td>\n",
       "      <td>1.0</td>\n",
       "      <td>0.06892</td>\n",
       "    </tr>\n",
       "  </tbody>\n",
       "</table>\n",
       "</div>"
      ],
      "text/plain": [
       "                                     precision    recall  f1_score\n",
       "LinearPredictWatchman(n_features=53)  0.784132  0.480178  0.443834\n",
       "ensemble(threshold=3)                 0.749968  0.470508  0.427041\n",
       "DirectLimitWatchman(n_features=53)    0.776658  0.431569  0.415414\n",
       "ensemble(threshold=4)                 0.770535  0.438411  0.410373\n",
       "DeepPredictWatchman(n_features=53)    0.651948  0.480615  0.391748\n",
       "ensemble(threshold=5)                 0.805399  0.367713  0.361742\n",
       "PcaLimitWatchman(n_features=53)        0.95817  0.248921  0.257048\n",
       "IsoForestWatchman(n_features=53)      0.044778       1.0   0.06892"
      ]
     },
     "metadata": {},
     "output_type": "display_data"
    },
    {
     "name": "stdout",
     "output_type": "stream",
     "text": [
      "SwatItrustDataset(E:\\Datasets\\SWaT\\datasetA1)\n"
     ]
    },
    {
     "data": {
      "text/html": [
       "<div>\n",
       "<style scoped>\n",
       "    .dataframe tbody tr th:only-of-type {\n",
       "        vertical-align: middle;\n",
       "    }\n",
       "\n",
       "    .dataframe tbody tr th {\n",
       "        vertical-align: top;\n",
       "    }\n",
       "\n",
       "    .dataframe thead th {\n",
       "        text-align: right;\n",
       "    }\n",
       "</style>\n",
       "<table border=\"1\" class=\"dataframe\">\n",
       "  <thead>\n",
       "    <tr style=\"text-align: right;\">\n",
       "      <th></th>\n",
       "      <th>precision</th>\n",
       "      <th>recall</th>\n",
       "      <th>f1_score</th>\n",
       "    </tr>\n",
       "  </thead>\n",
       "  <tbody>\n",
       "    <tr>\n",
       "      <th>ensemble(threshold=4)</th>\n",
       "      <td>0.268927</td>\n",
       "      <td>0.856902</td>\n",
       "      <td>0.347944</td>\n",
       "    </tr>\n",
       "    <tr>\n",
       "      <th>ensemble(threshold=3)</th>\n",
       "      <td>0.244791</td>\n",
       "      <td>0.905724</td>\n",
       "      <td>0.345886</td>\n",
       "    </tr>\n",
       "    <tr>\n",
       "      <th>ensemble(threshold=5)</th>\n",
       "      <td>0.311374</td>\n",
       "      <td>0.804714</td>\n",
       "      <td>0.341294</td>\n",
       "    </tr>\n",
       "    <tr>\n",
       "      <th>DirectLimitWatchman(n_features=51)</th>\n",
       "      <td>0.222668</td>\n",
       "      <td>0.96633</td>\n",
       "      <td>0.325686</td>\n",
       "    </tr>\n",
       "    <tr>\n",
       "      <th>DeepPredictWatchman(n_features=51)</th>\n",
       "      <td>0.206669</td>\n",
       "      <td>0.905724</td>\n",
       "      <td>0.309418</td>\n",
       "    </tr>\n",
       "    <tr>\n",
       "      <th>IsoForestWatchman(n_features=51)</th>\n",
       "      <td>0.168094</td>\n",
       "      <td>1.0</td>\n",
       "      <td>0.267875</td>\n",
       "    </tr>\n",
       "    <tr>\n",
       "      <th>LinearPredictWatchman(n_features=51)</th>\n",
       "      <td>1.0</td>\n",
       "      <td>0.173822</td>\n",
       "      <td>0.213374</td>\n",
       "    </tr>\n",
       "    <tr>\n",
       "      <th>PcaLimitWatchman(n_features=51)</th>\n",
       "      <td>0.577381</td>\n",
       "      <td>0.097252</td>\n",
       "      <td>0.161099</td>\n",
       "    </tr>\n",
       "  </tbody>\n",
       "</table>\n",
       "</div>"
      ],
      "text/plain": [
       "                                     precision    recall  f1_score\n",
       "ensemble(threshold=4)                 0.268927  0.856902  0.347944\n",
       "ensemble(threshold=3)                 0.244791  0.905724  0.345886\n",
       "ensemble(threshold=5)                 0.311374  0.804714  0.341294\n",
       "DirectLimitWatchman(n_features=51)    0.222668   0.96633  0.325686\n",
       "DeepPredictWatchman(n_features=51)    0.206669  0.905724  0.309418\n",
       "IsoForestWatchman(n_features=51)      0.168094       1.0  0.267875\n",
       "LinearPredictWatchman(n_features=51)       1.0  0.173822  0.213374\n",
       "PcaLimitWatchman(n_features=51)       0.577381  0.097252  0.161099"
      ]
     },
     "metadata": {},
     "output_type": "display_data"
    }
   ],
   "source": [
    "for d in results:\n",
    "    print(d)\n",
    "    display(results[d].sort_values(by='f1_score', ascending=False))"
   ]
  },
  {
   "cell_type": "code",
   "execution_count": null,
   "id": "903fcf7c",
   "metadata": {},
   "outputs": [],
   "source": []
  }
 ],
 "metadata": {
  "kernelspec": {
   "display_name": "Python 3 (ipykernel)",
   "language": "python",
   "name": "python3"
  },
  "language_info": {
   "codemirror_mode": {
    "name": "ipython",
    "version": 3
   },
   "file_extension": ".py",
   "mimetype": "text/x-python",
   "name": "python",
   "nbconvert_exporter": "python",
   "pygments_lexer": "ipython3",
   "version": "3.8.8"
  },
  "toc": {
   "base_numbering": 1,
   "nav_menu": {},
   "number_sections": true,
   "sideBar": true,
   "skip_h1_title": false,
   "title_cell": "Table of Contents",
   "title_sidebar": "Contents",
   "toc_cell": false,
   "toc_position": {
    "height": "calc(100% - 180px)",
    "left": "10px",
    "top": "150px",
    "width": "272.2px"
   },
   "toc_section_display": true,
   "toc_window_display": true
  }
 },
 "nbformat": 4,
 "nbformat_minor": 5
}
