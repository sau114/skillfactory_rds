{
 "cells": [
  {
   "cell_type": "code",
   "execution_count": 1,
   "id": "2b2ce1b4",
   "metadata": {
    "ExecuteTime": {
     "end_time": "2022-08-24T16:10:40.975085Z",
     "start_time": "2022-08-24T16:10:40.931050Z"
    }
   },
   "outputs": [],
   "source": [
    "!del /Q utils\\__pycache__"
   ]
  },
  {
   "cell_type": "code",
   "execution_count": 2,
   "id": "e079cd6f",
   "metadata": {
    "ExecuteTime": {
     "end_time": "2022-08-24T16:10:41.797598Z",
     "start_time": "2022-08-24T16:10:40.977051Z"
    }
   },
   "outputs": [],
   "source": [
    "import pandas as pd\n",
    "from tqdm.notebook import tqdm"
   ]
  },
  {
   "cell_type": "code",
   "execution_count": 3,
   "id": "7e87a04e",
   "metadata": {
    "ExecuteTime": {
     "end_time": "2022-08-24T16:10:41.829229Z",
     "start_time": "2022-08-24T16:10:41.801496Z"
    }
   },
   "outputs": [],
   "source": [
    "from utils.datasets import GhlKasperskyDataset, TepHarvardDataset, TepKasperskyDataset\n",
    "from utils.custom_plots import plot_stacked"
   ]
  },
  {
   "cell_type": "code",
   "execution_count": 4,
   "id": "426ceb0c",
   "metadata": {
    "ExecuteTime": {
     "end_time": "2022-08-24T16:10:41.845230Z",
     "start_time": "2022-08-24T16:10:41.835125Z"
    }
   },
   "outputs": [],
   "source": [
    "from utils.metrics import time_span_metrics"
   ]
  },
  {
   "cell_type": "code",
   "execution_count": 5,
   "id": "3cef7391",
   "metadata": {
    "ExecuteTime": {
     "end_time": "2022-08-24T16:10:42.728294Z",
     "start_time": "2022-08-24T16:10:41.848141Z"
    }
   },
   "outputs": [],
   "source": [
    "from utils.watchmen import IsolatingWatchman"
   ]
  },
  {
   "cell_type": "markdown",
   "id": "5dd7567c",
   "metadata": {},
   "source": [
    "## GHL"
   ]
  },
  {
   "cell_type": "code",
   "execution_count": 6,
   "id": "deee08ee",
   "metadata": {
    "ExecuteTime": {
     "end_time": "2022-08-24T16:10:42.744420Z",
     "start_time": "2022-08-24T16:10:42.730291Z"
    }
   },
   "outputs": [],
   "source": [
    "ds = GhlKasperskyDataset()\n",
    "ds.shake_not_stir(valid_test_ratio=0.4)"
   ]
  },
  {
   "cell_type": "code",
   "execution_count": 7,
   "id": "c4b93514",
   "metadata": {
    "ExecuteTime": {
     "end_time": "2022-08-24T16:10:42.760528Z",
     "start_time": "2022-08-24T16:10:42.746292Z"
    }
   },
   "outputs": [],
   "source": [
    "watchman = IsolatingWatchman(random_state=31)"
   ]
  },
  {
   "cell_type": "code",
   "execution_count": 8,
   "id": "e6927a59",
   "metadata": {
    "ExecuteTime": {
     "end_time": "2022-08-24T16:10:43.217440Z",
     "start_time": "2022-08-24T16:10:42.766293Z"
    }
   },
   "outputs": [
    {
     "data": {
      "application/vnd.jupyter.widget-view+json": {
       "model_id": "641a4687aee24b9b932d27eb4217e538",
       "version_major": 2,
       "version_minor": 0
      },
      "text/plain": [
       "  0%|          | 0/1 [00:00<?, ?it/s]"
      ]
     },
     "metadata": {},
     "output_type": "display_data"
    }
   ],
   "source": [
    "train_gen = ds.train_generator()\n",
    "for train, _, _ in tqdm(train_gen, total=1):\n",
    "    watchman.partial_fit(train)"
   ]
  },
  {
   "cell_type": "code",
   "execution_count": 9,
   "id": "5cb3ff65",
   "metadata": {
    "ExecuteTime": {
     "end_time": "2022-08-24T16:10:43.233553Z",
     "start_time": "2022-08-24T16:10:43.219858Z"
    }
   },
   "outputs": [
    {
     "data": {
      "text/plain": [
       "IsolatingWatchman(n_trees=97)"
      ]
     },
     "execution_count": 9,
     "metadata": {},
     "output_type": "execute_result"
    }
   ],
   "source": [
    "watchman"
   ]
  },
  {
   "cell_type": "code",
   "execution_count": 10,
   "id": "b616ce58",
   "metadata": {
    "ExecuteTime": {
     "end_time": "2022-08-24T16:10:45.991505Z",
     "start_time": "2022-08-24T16:10:43.236453Z"
    }
   },
   "outputs": [
    {
     "data": {
      "application/vnd.jupyter.widget-view+json": {
       "model_id": "b6dc76edf87240b8b9d671e90e28a25a",
       "version_major": 2,
       "version_minor": 0
      },
      "text/plain": [
       "  0%|          | 0/19 [00:00<?, ?it/s]"
      ]
     },
     "metadata": {},
     "output_type": "display_data"
    }
   ],
   "source": [
    "valid_gen = ds.valid_generator()\n",
    "examine_list = pd.DataFrame(columns=['precision', 'recall', 'f1_score'], dtype='float')\n",
    "for valid, faults, info in tqdm(valid_gen, total=19):\n",
    "    detect = watchman.predict(valid)\n",
    "    examine_list.loc[info] = time_span_metrics(faults, detect)\n",
    "#     if max(faults) and max(detect):\n",
    "#         plot_stacked(data,\n",
    "#                      title=info,\n",
    "#                      group='value_unit',\n",
    "#                      faults=faults,\n",
    "#                      detect=detect,\n",
    "#                     )"
   ]
  },
  {
   "cell_type": "code",
   "execution_count": 11,
   "id": "5cb472d8",
   "metadata": {
    "ExecuteTime": {
     "end_time": "2022-08-24T16:10:46.007599Z",
     "start_time": "2022-08-24T16:10:45.994428Z"
    },
    "scrolled": true
   },
   "outputs": [
    {
     "data": {
      "text/plain": [
       "precision    0.013175\n",
       "recall       0.828822\n",
       "f1_score     0.025861\n",
       "dtype: float64"
      ]
     },
     "execution_count": 11,
     "metadata": {},
     "output_type": "execute_result"
    }
   ],
   "source": [
    "examine_list.mean()"
   ]
  },
  {
   "cell_type": "markdown",
   "id": "aa910a2a",
   "metadata": {},
   "source": [
    "## TEP Harvard"
   ]
  },
  {
   "cell_type": "code",
   "execution_count": 12,
   "id": "978c6f5e",
   "metadata": {
    "ExecuteTime": {
     "end_time": "2022-08-24T16:10:46.087529Z",
     "start_time": "2022-08-24T16:10:46.010430Z"
    }
   },
   "outputs": [],
   "source": [
    "ds = TepHarvardDataset()\n",
    "ds.shake_not_stir(valid_test_ratio=0.5, balanced_test=True)"
   ]
  },
  {
   "cell_type": "code",
   "execution_count": 13,
   "id": "24524a27",
   "metadata": {
    "ExecuteTime": {
     "end_time": "2022-08-24T16:10:46.103248Z",
     "start_time": "2022-08-24T16:10:46.090428Z"
    }
   },
   "outputs": [],
   "source": [
    "watchman = IsolatingWatchman(random_state=31)"
   ]
  },
  {
   "cell_type": "code",
   "execution_count": 14,
   "id": "8192572b",
   "metadata": {
    "ExecuteTime": {
     "end_time": "2022-08-24T16:10:54.583060Z",
     "start_time": "2022-08-24T16:10:46.106095Z"
    }
   },
   "outputs": [
    {
     "data": {
      "application/vnd.jupyter.widget-view+json": {
       "model_id": "50100f6c25334f05aebe6e3987d18075",
       "version_major": 2,
       "version_minor": 0
      },
      "text/plain": [
       "  0%|          | 0/500 [00:00<?, ?it/s]"
      ]
     },
     "metadata": {},
     "output_type": "display_data"
    }
   ],
   "source": [
    "train_gen = ds.train_generator()\n",
    "for train, _, _ in tqdm(train_gen, total=500):\n",
    "    watchman.partial_fit(train)"
   ]
  },
  {
   "cell_type": "code",
   "execution_count": 15,
   "id": "f82f461d",
   "metadata": {
    "ExecuteTime": {
     "end_time": "2022-08-24T16:10:54.599162Z",
     "start_time": "2022-08-24T16:10:54.586060Z"
    }
   },
   "outputs": [
    {
     "data": {
      "text/plain": [
       "IsolatingWatchman(n_trees=500)"
      ]
     },
     "execution_count": 15,
     "metadata": {},
     "output_type": "execute_result"
    }
   ],
   "source": [
    "watchman"
   ]
  },
  {
   "cell_type": "code",
   "execution_count": 16,
   "id": "323701de",
   "metadata": {
    "ExecuteTime": {
     "end_time": "2022-08-24T16:13:39.562051Z",
     "start_time": "2022-08-24T16:10:54.601060Z"
    }
   },
   "outputs": [
    {
     "data": {
      "application/vnd.jupyter.widget-view+json": {
       "model_id": "a43548308a8c409bbb1db95a9de016ba",
       "version_major": 2,
       "version_minor": 0
      },
      "text/plain": [
       "  0%|          | 0/500 [00:00<?, ?it/s]"
      ]
     },
     "metadata": {},
     "output_type": "display_data"
    }
   ],
   "source": [
    "valid_gen = ds.valid_generator()\n",
    "examine_list = pd.DataFrame(columns=['precision', 'recall', 'f1_score'], dtype='float')\n",
    "for valid, faults, info in tqdm(valid_gen, total=500):\n",
    "    detect = watchman.predict(valid)\n",
    "    examine_list.loc[info] = time_span_metrics(faults, detect)\n",
    "#     if max(faults) and max(detect):\n",
    "#         plot_stacked(data,\n",
    "#                      title=info,\n",
    "#                      group='value_unit',\n",
    "#                      faults=faults,\n",
    "#                      detect=detect,\n",
    "#                     )"
   ]
  },
  {
   "cell_type": "code",
   "execution_count": 17,
   "id": "43ac4a7a",
   "metadata": {
    "ExecuteTime": {
     "end_time": "2022-08-24T16:13:39.578017Z",
     "start_time": "2022-08-24T16:13:39.563900Z"
    }
   },
   "outputs": [
    {
     "data": {
      "text/plain": [
       "precision    0.999978\n",
       "recall       0.500208\n",
       "f1_score     0.586213\n",
       "dtype: float64"
      ]
     },
     "execution_count": 17,
     "metadata": {},
     "output_type": "execute_result"
    }
   ],
   "source": [
    "examine_list.mean()"
   ]
  },
  {
   "cell_type": "markdown",
   "id": "4647b7c5",
   "metadata": {},
   "source": [
    "## TEP Kaspersky"
   ]
  },
  {
   "cell_type": "code",
   "execution_count": 53,
   "id": "f5f09aec",
   "metadata": {
    "ExecuteTime": {
     "end_time": "2022-08-24T16:38:00.566571Z",
     "start_time": "2022-08-24T16:38:00.548634Z"
    }
   },
   "outputs": [],
   "source": [
    "ds = TepKasperskyDataset()\n",
    "ds.shake_not_stir(valid_test_ratio=0.4)"
   ]
  },
  {
   "cell_type": "code",
   "execution_count": 54,
   "id": "d28b8f53",
   "metadata": {
    "ExecuteTime": {
     "end_time": "2022-08-24T16:38:00.582454Z",
     "start_time": "2022-08-24T16:38:00.569422Z"
    }
   },
   "outputs": [],
   "source": [
    "watchman = IsolatingWatchman(random_state=31, max_samples=2048)"
   ]
  },
  {
   "cell_type": "code",
   "execution_count": 55,
   "id": "95d58e5e",
   "metadata": {
    "ExecuteTime": {
     "end_time": "2022-08-24T16:38:00.598420Z",
     "start_time": "2022-08-24T16:38:00.585416Z"
    }
   },
   "outputs": [
    {
     "data": {
      "text/plain": [
       "IsolationForest(max_samples=2048, n_estimators=0, n_jobs=-1, random_state=31,\n",
       "                warm_start=True)"
      ]
     },
     "execution_count": 55,
     "metadata": {},
     "output_type": "execute_result"
    }
   ],
   "source": [
    "watchman.forest"
   ]
  },
  {
   "cell_type": "code",
   "execution_count": 56,
   "id": "ab5ddcba",
   "metadata": {
    "ExecuteTime": {
     "end_time": "2022-08-24T16:38:09.692084Z",
     "start_time": "2022-08-24T16:38:00.602425Z"
    }
   },
   "outputs": [
    {
     "data": {
      "application/vnd.jupyter.widget-view+json": {
       "model_id": "2b4ca9f60e5140a5855d1f5749d78104",
       "version_major": 2,
       "version_minor": 0
      },
      "text/plain": [
       "  0%|          | 0/400 [00:00<?, ?it/s]"
      ]
     },
     "metadata": {},
     "output_type": "display_data"
    }
   ],
   "source": [
    "train_gen = ds.train_generator()\n",
    "for train, _, _ in tqdm(train_gen, total=400):\n",
    "    watchman.partial_fit(train, increment=1)"
   ]
  },
  {
   "cell_type": "code",
   "execution_count": 57,
   "id": "62f4c9cf",
   "metadata": {
    "ExecuteTime": {
     "end_time": "2022-08-24T16:38:09.707099Z",
     "start_time": "2022-08-24T16:38:09.695092Z"
    }
   },
   "outputs": [
    {
     "data": {
      "text/plain": [
       "IsolatingWatchman(n_trees=400)"
      ]
     },
     "execution_count": 57,
     "metadata": {},
     "output_type": "execute_result"
    }
   ],
   "source": [
    "watchman"
   ]
  },
  {
   "cell_type": "code",
   "execution_count": 58,
   "id": "82132a94",
   "metadata": {
    "ExecuteTime": {
     "end_time": "2022-08-24T16:40:12.883320Z",
     "start_time": "2022-08-24T16:38:09.709107Z"
    }
   },
   "outputs": [
    {
     "data": {
      "application/vnd.jupyter.widget-view+json": {
       "model_id": "aded6e47991c4532b0693086c54da8d5",
       "version_major": 2,
       "version_minor": 0
      },
      "text/plain": [
       "  0%|          | 0/115 [00:00<?, ?it/s]"
      ]
     },
     "metadata": {},
     "output_type": "display_data"
    }
   ],
   "source": [
    "valid_gen = ds.valid_generator()\n",
    "examine_list = pd.DataFrame(columns=['precision', 'recall', 'f1_score'], dtype='float')\n",
    "for valid, faults, info in tqdm(valid_gen, total=115):\n",
    "    detect = watchman.predict(valid)\n",
    "    examine_list.loc[info] = time_span_metrics(faults, detect)\n",
    "#     if max(faults) and max(detect):\n",
    "#         plot_stacked(data,\n",
    "#                      title=info,\n",
    "#                      group='value_unit',\n",
    "#                      faults=faults,\n",
    "#                      detect=detect,\n",
    "#                     )"
   ]
  },
  {
   "cell_type": "code",
   "execution_count": 59,
   "id": "496878cb",
   "metadata": {
    "ExecuteTime": {
     "end_time": "2022-08-24T16:40:12.899148Z",
     "start_time": "2022-08-24T16:40:12.886202Z"
    }
   },
   "outputs": [
    {
     "data": {
      "text/plain": [
       "precision    0.074594\n",
       "recall       1.000000\n",
       "f1_score     0.116174\n",
       "dtype: float64"
      ]
     },
     "execution_count": 59,
     "metadata": {},
     "output_type": "execute_result"
    }
   ],
   "source": [
    "examine_list.mean()"
   ]
  }
 ],
 "metadata": {
  "kernelspec": {
   "display_name": "Python 3 (ipykernel)",
   "language": "python",
   "name": "python3"
  },
  "language_info": {
   "codemirror_mode": {
    "name": "ipython",
    "version": 3
   },
   "file_extension": ".py",
   "mimetype": "text/x-python",
   "name": "python",
   "nbconvert_exporter": "python",
   "pygments_lexer": "ipython3",
   "version": "3.8.8"
  },
  "toc": {
   "base_numbering": 1,
   "nav_menu": {},
   "number_sections": true,
   "sideBar": true,
   "skip_h1_title": false,
   "title_cell": "Table of Contents",
   "title_sidebar": "Contents",
   "toc_cell": false,
   "toc_position": {},
   "toc_section_display": true,
   "toc_window_display": false
  }
 },
 "nbformat": 4,
 "nbformat_minor": 5
}
