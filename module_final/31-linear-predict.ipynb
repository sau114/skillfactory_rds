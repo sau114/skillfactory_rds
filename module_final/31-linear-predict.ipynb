{
 "cells": [
  {
   "cell_type": "code",
   "execution_count": 1,
   "id": "f91db00f",
   "metadata": {
    "ExecuteTime": {
     "end_time": "2022-08-26T14:37:29.030307Z",
     "start_time": "2022-08-26T14:37:29.017178Z"
    }
   },
   "outputs": [],
   "source": [
    "# Exploring predict next row by current"
   ]
  },
  {
   "cell_type": "code",
   "execution_count": 2,
   "id": "4f643971",
   "metadata": {
    "ExecuteTime": {
     "end_time": "2022-08-26T14:37:29.075173Z",
     "start_time": "2022-08-26T14:37:29.033161Z"
    }
   },
   "outputs": [],
   "source": [
    "!del /Q utils\\__pycache__"
   ]
  },
  {
   "cell_type": "code",
   "execution_count": 3,
   "id": "cefbb20d",
   "metadata": {
    "ExecuteTime": {
     "end_time": "2022-08-26T14:37:29.965743Z",
     "start_time": "2022-08-26T14:37:29.078173Z"
    }
   },
   "outputs": [],
   "source": [
    "import pandas as pd\n",
    "import numpy as np\n",
    "from tqdm.notebook import tqdm"
   ]
  },
  {
   "cell_type": "code",
   "execution_count": 4,
   "id": "27c6c08c",
   "metadata": {
    "ExecuteTime": {
     "end_time": "2022-08-26T14:37:30.012662Z",
     "start_time": "2022-08-26T14:37:29.967545Z"
    }
   },
   "outputs": [],
   "source": [
    "from utils.metrics import time_span_metrics\n",
    "from utils.datasets import GhlKasperskyDataset, TepHarvardDataset, SwatItrustDataset\n",
    "from utils.custom_plots import plot_stacked"
   ]
  },
  {
   "cell_type": "code",
   "execution_count": 5,
   "id": "c25b0b15",
   "metadata": {
    "ExecuteTime": {
     "end_time": "2022-08-26T14:37:30.879782Z",
     "start_time": "2022-08-26T14:37:30.014545Z"
    }
   },
   "outputs": [],
   "source": [
    "from sklearn.linear_model import LinearRegression, Lasso, Ridge, SGDRegressor\n",
    "from sklearn.preprocessing import StandardScaler"
   ]
  },
  {
   "cell_type": "markdown",
   "id": "7560d1d2",
   "metadata": {},
   "source": [
    "# GHL"
   ]
  },
  {
   "cell_type": "code",
   "execution_count": 6,
   "id": "5d9566c2",
   "metadata": {
    "ExecuteTime": {
     "end_time": "2022-08-26T14:37:30.895781Z",
     "start_time": "2022-08-26T14:37:30.882783Z"
    }
   },
   "outputs": [],
   "source": [
    "ds = GhlKasperskyDataset()\n",
    "ds.shake_not_stir(valid_test_ratio=0.3)"
   ]
  },
  {
   "cell_type": "code",
   "execution_count": 7,
   "id": "12fc987c",
   "metadata": {
    "ExecuteTime": {
     "end_time": "2022-08-26T14:37:30.990066Z",
     "start_time": "2022-08-26T14:37:30.898783Z"
    }
   },
   "outputs": [],
   "source": [
    "train, _, _ = next(ds.train_generator())\n",
    "valid, _, _ = next(ds.valid_generator())"
   ]
  },
  {
   "cell_type": "code",
   "execution_count": 8,
   "id": "634d49ce",
   "metadata": {
    "ExecuteTime": {
     "end_time": "2022-08-26T14:37:31.020988Z",
     "start_time": "2022-08-26T14:37:30.992445Z"
    }
   },
   "outputs": [
    {
     "data": {
      "text/plain": [
       "Index(['input_temp_gc', 'rt_temp_gc', 'ht_temp_gc', 'ct_temp_gc', 'rt_level_m',\n",
       "       'ht_level_m', 'ct_level_m', 'input_flow_state', 'supply_flow_state',\n",
       "       'return_flow_state', 'output_flow_state', 'heater_state'],\n",
       "      dtype='object')"
      ]
     },
     "execution_count": 8,
     "metadata": {},
     "output_type": "execute_result"
    }
   ],
   "source": [
    "train.columns"
   ]
  },
  {
   "cell_type": "code",
   "execution_count": 9,
   "id": "4ba1bc1e",
   "metadata": {
    "ExecuteTime": {
     "end_time": "2022-08-26T14:37:31.037006Z",
     "start_time": "2022-08-26T14:37:31.025954Z"
    }
   },
   "outputs": [],
   "source": [
    "y = train['rt_level_m'].shift(-1).iloc[:-1]\n",
    "X = train.iloc[:-1]"
   ]
  },
  {
   "cell_type": "code",
   "execution_count": 10,
   "id": "2e7929b7",
   "metadata": {
    "ExecuteTime": {
     "end_time": "2022-08-26T14:37:31.068279Z",
     "start_time": "2022-08-26T14:37:31.040083Z"
    }
   },
   "outputs": [
    {
     "name": "stdout",
     "output_type": "stream",
     "text": [
      "Score: 0.41978540804238307\n"
     ]
    }
   ],
   "source": [
    "lr_1 = Lasso(random_state=31)\n",
    "lr_1.fit(X, y)\n",
    "print('Score:', lr_1.score(X, y))\n",
    "# print(pd.Series(index=train.columns, data=lr_1.coef_))\n",
    "# print('icpt:', lr_1.intercept_)"
   ]
  },
  {
   "cell_type": "code",
   "execution_count": 11,
   "id": "14947dda",
   "metadata": {
    "ExecuteTime": {
     "end_time": "2022-08-26T14:37:31.083954Z",
     "start_time": "2022-08-26T14:37:31.070954Z"
    }
   },
   "outputs": [
    {
     "name": "stdout",
     "output_type": "stream",
     "text": [
      "Score: 0.9101176038761056\n"
     ]
    }
   ],
   "source": [
    "lr_2 = Ridge(random_state=31)\n",
    "lr_2.fit(X, y)\n",
    "print('Score:', lr_2.score(X, y))\n",
    "# print(pd.Series(index=train.columns, data=lr_1.coef_))\n",
    "# print('icpt:', lr_1.intercept_)"
   ]
  },
  {
   "cell_type": "code",
   "execution_count": 12,
   "id": "14a354a4",
   "metadata": {
    "ExecuteTime": {
     "end_time": "2022-08-26T14:37:31.100112Z",
     "start_time": "2022-08-26T14:37:31.085959Z"
    }
   },
   "outputs": [],
   "source": [
    "def fit_and_score(lr, df):\n",
    "    scores = pd.Series(index=df.columns, name='score', dtype='float64')\n",
    "    X = df.iloc[:-1].copy()  # without last row\n",
    "    for c in df.columns:\n",
    "        y = df[c].shift(-1).iloc[:-1]  # predict next value\n",
    "        lr.fit(X, y)\n",
    "        scores[c] = lr.score(X, y)\n",
    "    return scores"
   ]
  },
  {
   "cell_type": "code",
   "execution_count": 13,
   "id": "9038291e",
   "metadata": {
    "ExecuteTime": {
     "end_time": "2022-08-26T14:37:31.223950Z",
     "start_time": "2022-08-26T14:37:31.102952Z"
    }
   },
   "outputs": [
    {
     "data": {
      "text/plain": [
       "0.9032384629696463"
      ]
     },
     "execution_count": 13,
     "metadata": {},
     "output_type": "execute_result"
    }
   ],
   "source": [
    "fit_and_score(LinearRegression(), train).median()"
   ]
  },
  {
   "cell_type": "code",
   "execution_count": 14,
   "id": "ce8b7897",
   "metadata": {
    "ExecuteTime": {
     "end_time": "2022-08-26T14:37:31.317948Z",
     "start_time": "2022-08-26T14:37:31.226953Z"
    }
   },
   "outputs": [
    {
     "data": {
      "text/plain": [
       "0.2523845320112769"
      ]
     },
     "execution_count": 14,
     "metadata": {},
     "output_type": "execute_result"
    }
   ],
   "source": [
    "fit_and_score(Lasso(random_state=31), train).median()"
   ]
  },
  {
   "cell_type": "code",
   "execution_count": 15,
   "id": "59c10b62",
   "metadata": {
    "ExecuteTime": {
     "end_time": "2022-08-26T14:37:31.394888Z",
     "start_time": "2022-08-26T14:37:31.319889Z"
    }
   },
   "outputs": [
    {
     "data": {
      "text/plain": [
       "0.902914994718925"
      ]
     },
     "execution_count": 15,
     "metadata": {},
     "output_type": "execute_result"
    }
   ],
   "source": [
    "fit_and_score(Ridge(random_state=31), train).median()"
   ]
  },
  {
   "cell_type": "code",
   "execution_count": 16,
   "id": "7626b95f",
   "metadata": {
    "ExecuteTime": {
     "end_time": "2022-08-26T14:37:31.504019Z",
     "start_time": "2022-08-26T14:37:31.397891Z"
    }
   },
   "outputs": [
    {
     "data": {
      "text/plain": [
       "input_temp_gc        0.983786\n",
       "rt_temp_gc           0.989903\n",
       "ht_temp_gc           0.956837\n",
       "ct_temp_gc           0.997965\n",
       "rt_level_m           0.909093\n",
       "ht_level_m           0.584622\n",
       "ct_level_m           0.999970\n",
       "input_flow_state     0.895690\n",
       "supply_flow_state    0.125663\n",
       "return_flow_state    0.052921\n",
       "output_flow_state    0.532552\n",
       "heater_state         0.562575\n",
       "Name: score, dtype: float64"
      ]
     },
     "execution_count": 16,
     "metadata": {},
     "output_type": "execute_result"
    }
   ],
   "source": [
    "train_ = pd.DataFrame(index=train.index, columns=train.columns, data=StandardScaler().fit_transform(train))\n",
    "fit_and_score(SGDRegressor(random_state=31), train_)"
   ]
  },
  {
   "cell_type": "code",
   "execution_count": 17,
   "id": "b321a9a9",
   "metadata": {
    "ExecuteTime": {
     "end_time": "2022-08-26T14:37:31.519505Z",
     "start_time": "2022-08-26T14:37:31.506064Z"
    }
   },
   "outputs": [],
   "source": [
    "# Let's using SGDRegressor, because it have warm_start"
   ]
  },
  {
   "cell_type": "markdown",
   "id": "f6a32a13",
   "metadata": {},
   "source": [
    "# TEP Harvard"
   ]
  },
  {
   "cell_type": "code",
   "execution_count": 18,
   "id": "95890ae4",
   "metadata": {
    "ExecuteTime": {
     "end_time": "2022-08-26T14:37:31.628513Z",
     "start_time": "2022-08-26T14:37:31.522022Z"
    }
   },
   "outputs": [],
   "source": [
    "ds = TepHarvardDataset()\n",
    "ds.shake_not_stir(valid_test_ratio=0.3)"
   ]
  },
  {
   "cell_type": "code",
   "execution_count": 19,
   "id": "06a2c4a5",
   "metadata": {
    "ExecuteTime": {
     "end_time": "2022-08-26T14:37:31.706214Z",
     "start_time": "2022-08-26T14:37:31.632313Z"
    }
   },
   "outputs": [],
   "source": [
    "train, _, _ = next(ds.train_generator())\n",
    "valid, _, _ = next(ds.valid_generator())"
   ]
  },
  {
   "cell_type": "code",
   "execution_count": 20,
   "id": "411a17af",
   "metadata": {
    "ExecuteTime": {
     "end_time": "2022-08-26T14:37:31.721928Z",
     "start_time": "2022-08-26T14:37:31.708213Z"
    }
   },
   "outputs": [],
   "source": [
    "# add derivatives\n",
    "def add_derivatives(data: pd.DataFrame) -> pd.DataFrame:\n",
    "    diff1 = data.diff()\n",
    "    diff1.columns = data.columns + '_d1'\n",
    "    diff2 = diff1.diff()\n",
    "    diff2.columns = data.columns + '_d2'\n",
    "    return pd.concat([data, diff1, diff2], axis=1).fillna(0)\n",
    "#     return pd.concat([data, diff1], axis=1).fillna(0)\n",
    "\n",
    "train = add_derivatives(train)"
   ]
  },
  {
   "cell_type": "code",
   "execution_count": 21,
   "id": "9fa65fcc",
   "metadata": {
    "ExecuteTime": {
     "end_time": "2022-08-26T14:37:31.737283Z",
     "start_time": "2022-08-26T14:37:31.725214Z"
    }
   },
   "outputs": [
    {
     "data": {
      "text/plain": [
       "Index(['inp_a_flow_ksm3h', 'inp_d_flow_kgh', 'inp_e_flow_kgh',\n",
       "       'inp_c_flow_ksm3h', 'recyl_flow_ksm3h', 'react_flow_ksm3h',\n",
       "       'react_press_kpa', 'react_level_pc', 'react_temp_gc',\n",
       "       'purge_flow_ksm3h',\n",
       "       ...\n",
       "       'inp_e_feed_pc_d2', 'inp_a_feed_pc_d2', 'inp_c_feed_pc_d2',\n",
       "       'compr_valv_pc_d2', 'purge_feed_pc_d2', 'seprt_feed_pc_d2',\n",
       "       'strip_feed_pc_d2', 'steam_feed_pc_d2', 're_cl_feed_pc_d2',\n",
       "       'co_cl_feed_pc_d2'],\n",
       "      dtype='object', length=156)"
      ]
     },
     "execution_count": 21,
     "metadata": {},
     "output_type": "execute_result"
    }
   ],
   "source": [
    "train.columns"
   ]
  },
  {
   "cell_type": "code",
   "execution_count": 22,
   "id": "187f830f",
   "metadata": {
    "ExecuteTime": {
     "end_time": "2022-08-26T14:37:33.399530Z",
     "start_time": "2022-08-26T14:37:31.740214Z"
    }
   },
   "outputs": [
    {
     "data": {
      "text/plain": [
       "0.7572341479788365"
      ]
     },
     "execution_count": 22,
     "metadata": {},
     "output_type": "execute_result"
    }
   ],
   "source": [
    "fit_and_score(LinearRegression(), train).median()"
   ]
  },
  {
   "cell_type": "code",
   "execution_count": 23,
   "id": "af0e5aa3",
   "metadata": {
    "ExecuteTime": {
     "end_time": "2022-08-26T14:37:34.761119Z",
     "start_time": "2022-08-26T14:37:33.402490Z"
    }
   },
   "outputs": [
    {
     "data": {
      "text/plain": [
       "0.003862012138952875"
      ]
     },
     "execution_count": 23,
     "metadata": {},
     "output_type": "execute_result"
    }
   ],
   "source": [
    "fit_and_score(Lasso(random_state=31), train).median()"
   ]
  },
  {
   "cell_type": "code",
   "execution_count": 24,
   "id": "9b84ea0a",
   "metadata": {
    "ExecuteTime": {
     "end_time": "2022-08-26T14:37:36.025715Z",
     "start_time": "2022-08-26T14:37:34.763124Z"
    }
   },
   "outputs": [
    {
     "data": {
      "text/plain": [
       "0.7055406521339254"
      ]
     },
     "execution_count": 24,
     "metadata": {},
     "output_type": "execute_result"
    }
   ],
   "source": [
    "fit_and_score(Ridge(random_state=31), train).median()"
   ]
  },
  {
   "cell_type": "code",
   "execution_count": 25,
   "id": "f0b6f0b4",
   "metadata": {
    "ExecuteTime": {
     "end_time": "2022-08-26T14:37:38.110877Z",
     "start_time": "2022-08-26T14:37:36.028643Z"
    }
   },
   "outputs": [
    {
     "data": {
      "text/plain": [
       "0.7460486482643751"
      ]
     },
     "execution_count": 25,
     "metadata": {},
     "output_type": "execute_result"
    }
   ],
   "source": [
    "train_ = pd.DataFrame(index=train.index, columns=train.columns, data=StandardScaler().fit_transform(train))\n",
    "fit_and_score(SGDRegressor(random_state=31), train_).median()"
   ]
  },
  {
   "cell_type": "markdown",
   "id": "b1c4d4aa",
   "metadata": {},
   "source": [
    "# SWaT"
   ]
  },
  {
   "cell_type": "code",
   "execution_count": 26,
   "id": "3e27e65e",
   "metadata": {
    "ExecuteTime": {
     "end_time": "2022-08-26T14:37:38.125842Z",
     "start_time": "2022-08-26T14:37:38.113810Z"
    }
   },
   "outputs": [],
   "source": [
    "ds = SwatItrustDataset()\n",
    "ds.shake_not_stir(valid_test_ratio=0.3)"
   ]
  },
  {
   "cell_type": "code",
   "execution_count": 27,
   "id": "68e4f570",
   "metadata": {
    "ExecuteTime": {
     "end_time": "2022-08-26T14:37:38.171808Z",
     "start_time": "2022-08-26T14:37:38.131807Z"
    }
   },
   "outputs": [],
   "source": [
    "train, _, _ = next(ds.train_generator())\n",
    "valid, _, _ = next(ds.valid_generator())"
   ]
  },
  {
   "cell_type": "code",
   "execution_count": 28,
   "id": "a7e4c0bb",
   "metadata": {
    "ExecuteTime": {
     "end_time": "2022-08-26T14:37:38.503866Z",
     "start_time": "2022-08-26T14:37:38.174805Z"
    }
   },
   "outputs": [
    {
     "data": {
      "text/plain": [
       "0.9825456632676254"
      ]
     },
     "execution_count": 28,
     "metadata": {},
     "output_type": "execute_result"
    }
   ],
   "source": [
    "fit_and_score(LinearRegression(), train).median()"
   ]
  },
  {
   "cell_type": "code",
   "execution_count": 29,
   "id": "90ed81a4",
   "metadata": {
    "ExecuteTime": {
     "end_time": "2022-08-26T14:37:38.519314Z",
     "start_time": "2022-08-26T14:37:38.505807Z"
    }
   },
   "outputs": [],
   "source": [
    "# fit_and_score(Lasso(random_state=31), train).median()"
   ]
  },
  {
   "cell_type": "code",
   "execution_count": 30,
   "id": "23e49ded",
   "metadata": {
    "ExecuteTime": {
     "end_time": "2022-08-26T14:37:38.534606Z",
     "start_time": "2022-08-26T14:37:38.521807Z"
    }
   },
   "outputs": [],
   "source": [
    "# fit_and_score(Ridge(random_state=31), train).median()"
   ]
  },
  {
   "cell_type": "code",
   "execution_count": 47,
   "id": "a869f7ec",
   "metadata": {
    "ExecuteTime": {
     "end_time": "2022-08-26T14:49:26.951139Z",
     "start_time": "2022-08-26T14:49:26.406492Z"
    }
   },
   "outputs": [
    {
     "data": {
      "text/plain": [
       "FIT101_flow_m3h             0.807538\n",
       "LIT101_level_mm             0.847500\n",
       "MV101_feed_state            0.746730\n",
       "P101_pump_state             0.835405\n",
       "P102_pump_state             1.000000\n",
       "AIT201_conductivity_uScm    0.868183\n",
       "AIT202_acidity_pH           0.580579\n",
       "AIT203_oxidation_mV         0.849374\n",
       "FIT201_flow_m3h             0.845837\n",
       "MV201_feed_state            0.818286\n",
       "P201_pump_state             1.000000\n",
       "P202_pump_state             1.000000\n",
       "P203_pump_state             0.846164\n",
       "P204_pump_state             1.000000\n",
       "P205_pump_state             0.636739\n",
       "P206_pump_state             1.000000\n",
       "DPIT301_diffpressure_kPa    0.690489\n",
       "FIT301_flow_m3h             0.660621\n",
       "LIT301_level_mm             0.901437\n",
       "MV301_feed_state            0.017796\n",
       "MV302_feed_state            0.734218\n",
       "MV303_feed_state            0.447263\n",
       "MV304_feed_state            0.673567\n",
       "P301_pump_state             0.731346\n",
       "P302_pump_state             0.660601\n",
       "AIT401_hardness_ppm         0.776939\n",
       "AIT402_oxidation_mV         0.942895\n",
       "FIT401_flow_m3h             0.973317\n",
       "LIT401_level_mm             0.917818\n",
       "P401_pump_state             1.000000\n",
       "P402_pump_state             0.949752\n",
       "P403_pump_state             1.000000\n",
       "P404_pump_state             1.000000\n",
       "UV401_sterilizer_state      0.949752\n",
       "AIT501_acidity_pH           0.944896\n",
       "AIT502_oxidation_mV         0.931144\n",
       "AIT503_conductivity_uScm    0.836325\n",
       "AIT504_conductivity_uScm    0.950434\n",
       "FIT501_flow_m3h             0.973660\n",
       "FIT502_flow_m3h             0.971582\n",
       "FIT503_flow_m3h             0.980728\n",
       "FIT504_flow_m3h             0.985585\n",
       "P501_pump_state             0.974918\n",
       "P502_pump_state             1.000000\n",
       "PIT501_pressure_kPa         0.971018\n",
       "PIT502_pressure_kPa         0.723058\n",
       "PIT503_pressure_kPa         0.966750\n",
       "FIT601_flow_m3h             0.017052\n",
       "P601_pump_state             1.000000\n",
       "P602_pump_state             0.017796\n",
       "P603_pump_state             1.000000\n",
       "Name: score, dtype: float64"
      ]
     },
     "execution_count": 47,
     "metadata": {},
     "output_type": "execute_result"
    }
   ],
   "source": [
    "regr = SGDRegressor(random_state=31, \n",
    "                    penalty='l2', \n",
    "                    alpha=1.0, \n",
    "                    l1_ratio=0.15, \n",
    "                    max_iter=1000, \n",
    "                    tol=0.001, \n",
    "                    learning_rate='invscaling', \n",
    "                    eta0=0.01, \n",
    "                    power_t=0.25, \n",
    "                    validation_fraction=0.1, \n",
    "                    n_iter_no_change=10, \n",
    "                    warm_start=False, \n",
    "                    average=False)\n",
    "train_ = pd.DataFrame(index=train.index, columns=train.columns, data=StandardScaler().fit_transform(train))\n",
    "fit_and_score(regr, train_)"
   ]
  },
  {
   "cell_type": "code",
   "execution_count": 32,
   "id": "927fb73b",
   "metadata": {
    "ExecuteTime": {
     "end_time": "2022-08-26T14:37:39.713624Z",
     "start_time": "2022-08-26T14:37:39.038394Z"
    }
   },
   "outputs": [
    {
     "ename": "NameError",
     "evalue": "name 'stop' is not defined",
     "output_type": "error",
     "traceback": [
      "\u001b[1;31m---------------------------------------------------------------------------\u001b[0m",
      "\u001b[1;31mNameError\u001b[0m                                 Traceback (most recent call last)",
      "Input \u001b[1;32mIn [32]\u001b[0m, in \u001b[0;36m<cell line: 1>\u001b[1;34m()\u001b[0m\n\u001b[1;32m----> 1\u001b[0m \u001b[43mstop\u001b[49m\n",
      "\u001b[1;31mNameError\u001b[0m: name 'stop' is not defined"
     ]
    }
   ],
   "source": [
    "stop"
   ]
  },
  {
   "cell_type": "markdown",
   "id": "69378e7e",
   "metadata": {},
   "source": [
    "# Watchman"
   ]
  },
  {
   "cell_type": "code",
   "execution_count": null,
   "id": "8fd6e75d",
   "metadata": {
    "ExecuteTime": {
     "end_time": "2022-08-26T14:37:39.716840Z",
     "start_time": "2022-08-26T14:37:39.716840Z"
    }
   },
   "outputs": [],
   "source": [
    "from utils.watchmen import LinearPredictWatchman"
   ]
  },
  {
   "cell_type": "markdown",
   "id": "8efbbd6b",
   "metadata": {},
   "source": [
    "## GHL"
   ]
  },
  {
   "cell_type": "code",
   "execution_count": null,
   "id": "705dfcc4",
   "metadata": {
    "ExecuteTime": {
     "end_time": "2022-08-26T14:37:39.718799Z",
     "start_time": "2022-08-26T14:37:39.718799Z"
    }
   },
   "outputs": [],
   "source": [
    "ds = GhlKasperskyDataset()\n",
    "ds.shake_not_stir(valid_test_ratio=0.3)"
   ]
  },
  {
   "cell_type": "code",
   "execution_count": null,
   "id": "98bb299e",
   "metadata": {
    "ExecuteTime": {
     "end_time": "2022-08-26T14:37:39.720798Z",
     "start_time": "2022-08-26T14:37:39.720798Z"
    }
   },
   "outputs": [],
   "source": [
    "watchman = LinearPredictWatchman(random_state=31)"
   ]
  },
  {
   "cell_type": "code",
   "execution_count": null,
   "id": "fcc63e4b",
   "metadata": {
    "ExecuteTime": {
     "end_time": "2022-08-26T14:37:39.723117Z",
     "start_time": "2022-08-26T14:37:39.723117Z"
    }
   },
   "outputs": [],
   "source": [
    "for train, _, _ in tqdm(ds.train_generator()):\n",
    "    watchman.partial_fit_scaler(train)\n",
    "for train, _, _ in tqdm(ds.train_generator()):\n",
    "    watchman.partial_fit(train)"
   ]
  },
  {
   "cell_type": "code",
   "execution_count": null,
   "id": "f3279bf0",
   "metadata": {
    "ExecuteTime": {
     "end_time": "2022-08-26T14:37:39.724800Z",
     "start_time": "2022-08-26T14:37:39.724800Z"
    }
   },
   "outputs": [],
   "source": [
    "watchman.limits"
   ]
  },
  {
   "cell_type": "code",
   "execution_count": null,
   "id": "2cb36ae8",
   "metadata": {
    "ExecuteTime": {
     "end_time": "2022-08-26T14:37:39.726796Z",
     "start_time": "2022-08-26T14:37:39.726796Z"
    }
   },
   "outputs": [],
   "source": [
    "# main_columns = ['rt_temp_gc', 'ht_temp_gc', 'rt_level_m', 'ht_level_m']"
   ]
  },
  {
   "cell_type": "code",
   "execution_count": null,
   "id": "71dd582b",
   "metadata": {
    "ExecuteTime": {
     "end_time": "2022-08-26T14:37:39.727798Z",
     "start_time": "2022-08-26T14:37:39.727798Z"
    }
   },
   "outputs": [],
   "source": [
    "valid_gen = ds.valid_generator()\n",
    "examine_list = pd.DataFrame(columns=['precision', 'recall', 'f1_score'], dtype='float')\n",
    "for valid, faults, info in tqdm(valid_gen):\n",
    "    detect = watchman.predict(valid)\n",
    "#     detect = detect[main_columns]\n",
    "    examine_list.loc[info] = time_span_metrics(faults, detect)\n",
    "#     if max(faults) and max(detect):\n",
    "#         plot_stacked(valid, faults=faults, detect=detect)\n",
    "#         break"
   ]
  },
  {
   "cell_type": "code",
   "execution_count": null,
   "id": "36387a2a",
   "metadata": {
    "ExecuteTime": {
     "end_time": "2022-08-26T14:37:39.729801Z",
     "start_time": "2022-08-26T14:37:39.729801Z"
    }
   },
   "outputs": [],
   "source": [
    "examine_list.mean()"
   ]
  },
  {
   "cell_type": "markdown",
   "id": "63e0cf96",
   "metadata": {},
   "source": [
    "## TEP"
   ]
  },
  {
   "cell_type": "code",
   "execution_count": null,
   "id": "1dfded90",
   "metadata": {
    "ExecuteTime": {
     "end_time": "2022-08-26T14:37:39.731801Z",
     "start_time": "2022-08-26T14:37:39.731801Z"
    }
   },
   "outputs": [],
   "source": [
    "ds = TepHarvardDataset()\n",
    "ds.shake_not_stir(valid_test_ratio=1.0, balanced_test=True)"
   ]
  },
  {
   "cell_type": "code",
   "execution_count": null,
   "id": "65a90b54",
   "metadata": {
    "ExecuteTime": {
     "end_time": "2022-08-26T14:37:39.732894Z",
     "start_time": "2022-08-26T14:37:39.732894Z"
    }
   },
   "outputs": [],
   "source": [
    "watchman = LinearPredictWatchman(random_state=31)"
   ]
  },
  {
   "cell_type": "code",
   "execution_count": null,
   "id": "58793a20",
   "metadata": {
    "ExecuteTime": {
     "end_time": "2022-08-26T14:37:39.735801Z",
     "start_time": "2022-08-26T14:37:39.735801Z"
    }
   },
   "outputs": [],
   "source": [
    "for train, _, _ in tqdm(ds.train_generator()):\n",
    "    watchman.partial_fit_scaler(train)\n",
    "for train, _, _ in tqdm(ds.train_generator()):\n",
    "    watchman.partial_fit(train)"
   ]
  },
  {
   "cell_type": "code",
   "execution_count": null,
   "id": "5eb4ed06",
   "metadata": {
    "ExecuteTime": {
     "end_time": "2022-08-26T14:37:39.736801Z",
     "start_time": "2022-08-26T14:37:39.736801Z"
    }
   },
   "outputs": [],
   "source": [
    "watchman.limits"
   ]
  },
  {
   "cell_type": "code",
   "execution_count": null,
   "id": "b5077566",
   "metadata": {
    "ExecuteTime": {
     "end_time": "2022-08-26T14:37:39.738802Z",
     "start_time": "2022-08-26T14:37:39.738802Z"
    }
   },
   "outputs": [],
   "source": [
    "valid_gen = ds.valid_generator()\n",
    "examine_list = pd.DataFrame(columns=['precision', 'recall', 'f1_score'], dtype='float')\n",
    "for valid, faults, info in tqdm(valid_gen):\n",
    "    detect = watchman.predict(valid)\n",
    "    examine_list.loc[info] = time_span_metrics(faults, detect)"
   ]
  },
  {
   "cell_type": "code",
   "execution_count": null,
   "id": "553172de",
   "metadata": {
    "ExecuteTime": {
     "end_time": "2022-08-26T14:37:39.740798Z",
     "start_time": "2022-08-26T14:37:39.740798Z"
    }
   },
   "outputs": [],
   "source": [
    "examine_list.mean()"
   ]
  },
  {
   "cell_type": "markdown",
   "id": "c44ef041",
   "metadata": {},
   "source": [
    "## SWaT"
   ]
  },
  {
   "cell_type": "code",
   "execution_count": null,
   "id": "f8bcb34c",
   "metadata": {
    "ExecuteTime": {
     "end_time": "2022-08-26T14:37:39.742799Z",
     "start_time": "2022-08-26T14:37:39.742799Z"
    }
   },
   "outputs": [],
   "source": [
    "ds = SwatItrustDataset()\n",
    "ds.shake_not_stir(valid_test_ratio=0.5)"
   ]
  },
  {
   "cell_type": "code",
   "execution_count": null,
   "id": "b92f9913",
   "metadata": {
    "ExecuteTime": {
     "end_time": "2022-08-26T14:37:39.743801Z",
     "start_time": "2022-08-26T14:37:39.743801Z"
    }
   },
   "outputs": [],
   "source": [
    "watchman = LinearPredictWatchman(random_state=31)"
   ]
  },
  {
   "cell_type": "code",
   "execution_count": null,
   "id": "3849a782",
   "metadata": {
    "ExecuteTime": {
     "end_time": "2022-08-26T14:37:39.745800Z",
     "start_time": "2022-08-26T14:37:39.745800Z"
    }
   },
   "outputs": [],
   "source": [
    "for train, _, _ in tqdm(ds.train_generator()):\n",
    "    watchman.partial_fit_scaler(train)\n",
    "for train, _, _ in tqdm(ds.train_generator()):\n",
    "    watchman.partial_fit(train)"
   ]
  },
  {
   "cell_type": "code",
   "execution_count": null,
   "id": "4b84d254",
   "metadata": {
    "ExecuteTime": {
     "end_time": "2022-08-26T14:37:39.748804Z",
     "start_time": "2022-08-26T14:37:39.748804Z"
    }
   },
   "outputs": [],
   "source": [
    "watchman.limits"
   ]
  },
  {
   "cell_type": "code",
   "execution_count": null,
   "id": "3699441e",
   "metadata": {
    "ExecuteTime": {
     "end_time": "2022-08-26T14:37:39.750149Z",
     "start_time": "2022-08-26T14:37:39.750149Z"
    }
   },
   "outputs": [],
   "source": [
    "valid_gen = ds.valid_generator()\n",
    "examine_list = pd.DataFrame(columns=['precision', 'recall', 'f1_score'], dtype='float')\n",
    "for valid, faults, info in tqdm(valid_gen):\n",
    "    detect = watchman.predict(valid)\n",
    "    examine_list.loc[info] = time_span_metrics(faults, detect)"
   ]
  },
  {
   "cell_type": "code",
   "execution_count": null,
   "id": "5a0ce8a6",
   "metadata": {
    "ExecuteTime": {
     "end_time": "2022-08-26T14:37:39.752800Z",
     "start_time": "2022-08-26T14:37:39.752800Z"
    }
   },
   "outputs": [],
   "source": [
    "examine_list.mean()"
   ]
  }
 ],
 "metadata": {
  "kernelspec": {
   "display_name": "Python 3 (ipykernel)",
   "language": "python",
   "name": "python3"
  },
  "language_info": {
   "codemirror_mode": {
    "name": "ipython",
    "version": 3
   },
   "file_extension": ".py",
   "mimetype": "text/x-python",
   "name": "python",
   "nbconvert_exporter": "python",
   "pygments_lexer": "ipython3",
   "version": "3.8.8"
  },
  "toc": {
   "base_numbering": 1,
   "nav_menu": {},
   "number_sections": true,
   "sideBar": true,
   "skip_h1_title": false,
   "title_cell": "Table of Contents",
   "title_sidebar": "Contents",
   "toc_cell": false,
   "toc_position": {},
   "toc_section_display": true,
   "toc_window_display": false
  }
 },
 "nbformat": 4,
 "nbformat_minor": 5
}
