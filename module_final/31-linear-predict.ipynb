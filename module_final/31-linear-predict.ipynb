{
 "cells": [
  {
   "cell_type": "code",
   "execution_count": 1,
   "id": "f91db00f",
   "metadata": {
    "ExecuteTime": {
     "end_time": "2022-08-29T10:32:07.120405Z",
     "start_time": "2022-08-29T10:32:07.108193Z"
    }
   },
   "outputs": [],
   "source": [
    "# Exploring predict next row by current"
   ]
  },
  {
   "cell_type": "code",
   "execution_count": 2,
   "id": "4f643971",
   "metadata": {
    "ExecuteTime": {
     "end_time": "2022-08-29T10:32:07.167035Z",
     "start_time": "2022-08-29T10:32:07.123334Z"
    }
   },
   "outputs": [],
   "source": [
    "!del /Q utils\\__pycache__"
   ]
  },
  {
   "cell_type": "code",
   "execution_count": 3,
   "id": "cefbb20d",
   "metadata": {
    "ExecuteTime": {
     "end_time": "2022-08-29T10:32:08.007385Z",
     "start_time": "2022-08-29T10:32:07.171164Z"
    }
   },
   "outputs": [],
   "source": [
    "import pandas as pd\n",
    "import numpy as np\n",
    "from tqdm.notebook import tqdm"
   ]
  },
  {
   "cell_type": "code",
   "execution_count": 4,
   "id": "27c6c08c",
   "metadata": {
    "ExecuteTime": {
     "end_time": "2022-08-29T10:32:08.054789Z",
     "start_time": "2022-08-29T10:32:08.009269Z"
    }
   },
   "outputs": [],
   "source": [
    "from utils.metrics import time_span_metrics\n",
    "from utils.datasets import GhlKasperskyDataset, TepHarvardDataset, SwatItrustDataset\n",
    "from utils.custom_plots import plot_stacked"
   ]
  },
  {
   "cell_type": "code",
   "execution_count": 5,
   "id": "c25b0b15",
   "metadata": {
    "ExecuteTime": {
     "end_time": "2022-08-29T10:32:08.847500Z",
     "start_time": "2022-08-29T10:32:08.056786Z"
    }
   },
   "outputs": [],
   "source": [
    "from sklearn.linear_model import LinearRegression, Lasso, Ridge, SGDRegressor\n",
    "from sklearn.preprocessing import StandardScaler"
   ]
  },
  {
   "cell_type": "markdown",
   "id": "7560d1d2",
   "metadata": {},
   "source": [
    "# GHL"
   ]
  },
  {
   "cell_type": "code",
   "execution_count": 6,
   "id": "5d9566c2",
   "metadata": {
    "ExecuteTime": {
     "end_time": "2022-08-29T10:32:08.862901Z",
     "start_time": "2022-08-29T10:32:08.850531Z"
    }
   },
   "outputs": [],
   "source": [
    "ds = GhlKasperskyDataset()\n",
    "ds.shake_not_stir(valid_test_ratio=0.3)"
   ]
  },
  {
   "cell_type": "code",
   "execution_count": 7,
   "id": "12fc987c",
   "metadata": {
    "ExecuteTime": {
     "end_time": "2022-08-29T10:32:08.941266Z",
     "start_time": "2022-08-29T10:32:08.866868Z"
    }
   },
   "outputs": [],
   "source": [
    "train, _, _ = next(ds.train_generator())\n",
    "valid, _, _ = next(ds.valid_generator())"
   ]
  },
  {
   "cell_type": "code",
   "execution_count": 8,
   "id": "634d49ce",
   "metadata": {
    "ExecuteTime": {
     "end_time": "2022-08-29T10:32:08.957010Z",
     "start_time": "2022-08-29T10:32:08.943264Z"
    }
   },
   "outputs": [
    {
     "data": {
      "text/plain": [
       "Index(['input_temp_gc', 'rt_temp_gc', 'ht_temp_gc', 'ct_temp_gc', 'rt_level_m',\n",
       "       'ht_level_m', 'ct_level_m', 'input_flow_state', 'supply_flow_state',\n",
       "       'return_flow_state', 'output_flow_state', 'heater_state'],\n",
       "      dtype='object')"
      ]
     },
     "execution_count": 8,
     "metadata": {},
     "output_type": "execute_result"
    }
   ],
   "source": [
    "train.columns"
   ]
  },
  {
   "cell_type": "code",
   "execution_count": 9,
   "id": "4ba1bc1e",
   "metadata": {
    "ExecuteTime": {
     "end_time": "2022-08-29T10:32:08.972625Z",
     "start_time": "2022-08-29T10:32:08.963034Z"
    }
   },
   "outputs": [],
   "source": [
    "y = train['rt_level_m'].shift(-1).iloc[:-1]\n",
    "X = train.iloc[:-1]"
   ]
  },
  {
   "cell_type": "code",
   "execution_count": 10,
   "id": "2e7929b7",
   "metadata": {
    "ExecuteTime": {
     "end_time": "2022-08-29T10:32:09.003370Z",
     "start_time": "2022-08-29T10:32:08.975377Z"
    }
   },
   "outputs": [
    {
     "name": "stdout",
     "output_type": "stream",
     "text": [
      "Score: 0.41978540804238307\n"
     ]
    }
   ],
   "source": [
    "lr_1 = Lasso(random_state=31)\n",
    "lr_1.fit(X, y)\n",
    "print('Score:', lr_1.score(X, y))\n",
    "# print(pd.Series(index=train.columns, data=lr_1.coef_))\n",
    "# print('icpt:', lr_1.intercept_)"
   ]
  },
  {
   "cell_type": "code",
   "execution_count": 11,
   "id": "14947dda",
   "metadata": {
    "ExecuteTime": {
     "end_time": "2022-08-29T10:32:09.033923Z",
     "start_time": "2022-08-29T10:32:09.006373Z"
    }
   },
   "outputs": [
    {
     "name": "stdout",
     "output_type": "stream",
     "text": [
      "Score: 0.9101176038761056\n"
     ]
    }
   ],
   "source": [
    "lr_2 = Ridge(random_state=31)\n",
    "lr_2.fit(X, y)\n",
    "print('Score:', lr_2.score(X, y))\n",
    "# print(pd.Series(index=train.columns, data=lr_1.coef_))\n",
    "# print('icpt:', lr_1.intercept_)"
   ]
  },
  {
   "cell_type": "code",
   "execution_count": 12,
   "id": "14a354a4",
   "metadata": {
    "ExecuteTime": {
     "end_time": "2022-08-29T10:32:09.049023Z",
     "start_time": "2022-08-29T10:32:09.035925Z"
    }
   },
   "outputs": [],
   "source": [
    "def fit_and_score(lr, df):\n",
    "    scores = pd.Series(index=df.columns, name='score', dtype='float64')\n",
    "    X = df.iloc[:-1].copy()  # without last row\n",
    "    for c in df.columns:\n",
    "        y = df[c].shift(-1).iloc[:-1]  # predict next value\n",
    "        lr.fit(X, y)\n",
    "        scores[c] = lr.score(X, y)\n",
    "    return scores"
   ]
  },
  {
   "cell_type": "code",
   "execution_count": 13,
   "id": "9038291e",
   "metadata": {
    "ExecuteTime": {
     "end_time": "2022-08-29T10:32:09.158027Z",
     "start_time": "2022-08-29T10:32:09.052830Z"
    }
   },
   "outputs": [
    {
     "data": {
      "text/plain": [
       "0.9032384629696463"
      ]
     },
     "execution_count": 13,
     "metadata": {},
     "output_type": "execute_result"
    }
   ],
   "source": [
    "fit_and_score(LinearRegression(), train).median()"
   ]
  },
  {
   "cell_type": "code",
   "execution_count": 14,
   "id": "ce8b7897",
   "metadata": {
    "ExecuteTime": {
     "end_time": "2022-08-29T10:32:09.250553Z",
     "start_time": "2022-08-29T10:32:09.161059Z"
    }
   },
   "outputs": [
    {
     "data": {
      "text/plain": [
       "0.2523845320112769"
      ]
     },
     "execution_count": 14,
     "metadata": {},
     "output_type": "execute_result"
    }
   ],
   "source": [
    "fit_and_score(Lasso(random_state=31), train).median()"
   ]
  },
  {
   "cell_type": "code",
   "execution_count": 15,
   "id": "59c10b62",
   "metadata": {
    "ExecuteTime": {
     "end_time": "2022-08-29T10:32:09.328919Z",
     "start_time": "2022-08-29T10:32:09.252504Z"
    }
   },
   "outputs": [
    {
     "data": {
      "text/plain": [
       "0.902914994718925"
      ]
     },
     "execution_count": 15,
     "metadata": {},
     "output_type": "execute_result"
    }
   ],
   "source": [
    "fit_and_score(Ridge(random_state=31), train).median()"
   ]
  },
  {
   "cell_type": "code",
   "execution_count": 16,
   "id": "7626b95f",
   "metadata": {
    "ExecuteTime": {
     "end_time": "2022-08-29T10:32:09.422902Z",
     "start_time": "2022-08-29T10:32:09.331928Z"
    }
   },
   "outputs": [
    {
     "data": {
      "text/plain": [
       "input_temp_gc        0.983786\n",
       "rt_temp_gc           0.989903\n",
       "ht_temp_gc           0.956837\n",
       "ct_temp_gc           0.997965\n",
       "rt_level_m           0.909093\n",
       "ht_level_m           0.584622\n",
       "ct_level_m           0.999970\n",
       "input_flow_state     0.895690\n",
       "supply_flow_state    0.125663\n",
       "return_flow_state    0.052921\n",
       "output_flow_state    0.532552\n",
       "heater_state         0.562575\n",
       "Name: score, dtype: float64"
      ]
     },
     "execution_count": 16,
     "metadata": {},
     "output_type": "execute_result"
    }
   ],
   "source": [
    "train_ = pd.DataFrame(index=train.index, columns=train.columns, data=StandardScaler().fit_transform(train))\n",
    "fit_and_score(SGDRegressor(random_state=31), train_)"
   ]
  },
  {
   "cell_type": "code",
   "execution_count": 17,
   "id": "b321a9a9",
   "metadata": {
    "ExecuteTime": {
     "end_time": "2022-08-29T10:32:09.438118Z",
     "start_time": "2022-08-29T10:32:09.425855Z"
    }
   },
   "outputs": [],
   "source": [
    "# Let's using SGDRegressor, because it have warm_start"
   ]
  },
  {
   "cell_type": "code",
   "execution_count": 18,
   "id": "75d38198",
   "metadata": {
    "ExecuteTime": {
     "end_time": "2022-08-29T10:32:09.469710Z",
     "start_time": "2022-08-29T10:32:09.440448Z"
    }
   },
   "outputs": [
    {
     "name": "stdout",
     "output_type": "stream",
     "text": [
      "<class 'pandas.core.frame.DataFrame'>\n",
      "DatetimeIndex: 1500 entries, 2022-08-01 00:00:00 to 2022-08-02 00:59:00\n",
      "Freq: T\n",
      "Data columns (total 12 columns):\n",
      " #   Column             Non-Null Count  Dtype  \n",
      "---  ------             --------------  -----  \n",
      " 0   input_temp_gc      1500 non-null   float32\n",
      " 1   rt_temp_gc         1500 non-null   float32\n",
      " 2   ht_temp_gc         1500 non-null   float32\n",
      " 3   ct_temp_gc         1500 non-null   float32\n",
      " 4   rt_level_m         1500 non-null   float32\n",
      " 5   ht_level_m         1500 non-null   float32\n",
      " 6   ct_level_m         1500 non-null   float32\n",
      " 7   input_flow_state   1500 non-null   uint8  \n",
      " 8   supply_flow_state  1500 non-null   uint8  \n",
      " 9   return_flow_state  1500 non-null   uint8  \n",
      " 10  output_flow_state  1500 non-null   uint8  \n",
      " 11  heater_state       1500 non-null   uint8  \n",
      "dtypes: float32(7), uint8(5)\n",
      "memory usage: 60.1 KB\n"
     ]
    }
   ],
   "source": [
    "train.info()"
   ]
  },
  {
   "cell_type": "markdown",
   "id": "f6a32a13",
   "metadata": {},
   "source": [
    "# TEP Harvard"
   ]
  },
  {
   "cell_type": "code",
   "execution_count": 19,
   "id": "95890ae4",
   "metadata": {
    "ExecuteTime": {
     "end_time": "2022-08-29T10:32:09.592477Z",
     "start_time": "2022-08-29T10:32:09.472885Z"
    }
   },
   "outputs": [],
   "source": [
    "ds = TepHarvardDataset()\n",
    "ds.shake_not_stir(valid_test_ratio=0.3)"
   ]
  },
  {
   "cell_type": "code",
   "execution_count": 20,
   "id": "06a2c4a5",
   "metadata": {
    "ExecuteTime": {
     "end_time": "2022-08-29T10:32:09.639356Z",
     "start_time": "2022-08-29T10:32:09.594479Z"
    }
   },
   "outputs": [],
   "source": [
    "train, _, _ = next(ds.train_generator())\n",
    "valid, _, _ = next(ds.valid_generator())"
   ]
  },
  {
   "cell_type": "code",
   "execution_count": 21,
   "id": "411a17af",
   "metadata": {
    "ExecuteTime": {
     "end_time": "2022-08-29T10:32:09.654983Z",
     "start_time": "2022-08-29T10:32:09.641723Z"
    }
   },
   "outputs": [],
   "source": [
    "# add derivatives\n",
    "def add_derivatives(data: pd.DataFrame) -> pd.DataFrame:\n",
    "    diff1 = data.diff()\n",
    "    diff1.columns = data.columns + '_d1'\n",
    "    diff2 = diff1.diff()\n",
    "    diff2.columns = data.columns + '_d2'\n",
    "    return pd.concat([data, diff1, diff2], axis=1).fillna(0)\n",
    "#     return pd.concat([data, diff1], axis=1).fillna(0)\n",
    "\n",
    "train = add_derivatives(train)"
   ]
  },
  {
   "cell_type": "code",
   "execution_count": 22,
   "id": "9fa65fcc",
   "metadata": {
    "ExecuteTime": {
     "end_time": "2022-08-29T10:32:09.670330Z",
     "start_time": "2022-08-29T10:32:09.658019Z"
    }
   },
   "outputs": [
    {
     "data": {
      "text/plain": [
       "Index(['inp_a_flow_ksm3h', 'inp_d_flow_kgh', 'inp_e_flow_kgh',\n",
       "       'inp_c_flow_ksm3h', 'recyl_flow_ksm3h', 'react_flow_ksm3h',\n",
       "       'react_press_kpa', 'react_level_pc', 'react_temp_gc',\n",
       "       'purge_flow_ksm3h',\n",
       "       ...\n",
       "       'inp_e_feed_pc_d2', 'inp_a_feed_pc_d2', 'inp_c_feed_pc_d2',\n",
       "       'compr_valv_pc_d2', 'purge_feed_pc_d2', 'seprt_feed_pc_d2',\n",
       "       'strip_feed_pc_d2', 'steam_feed_pc_d2', 're_cl_feed_pc_d2',\n",
       "       'co_cl_feed_pc_d2'],\n",
       "      dtype='object', length=156)"
      ]
     },
     "execution_count": 22,
     "metadata": {},
     "output_type": "execute_result"
    }
   ],
   "source": [
    "train.columns"
   ]
  },
  {
   "cell_type": "code",
   "execution_count": 23,
   "id": "187f830f",
   "metadata": {
    "ExecuteTime": {
     "end_time": "2022-08-29T10:32:11.296207Z",
     "start_time": "2022-08-29T10:32:09.673732Z"
    }
   },
   "outputs": [
    {
     "data": {
      "text/plain": [
       "0.7871181949718344"
      ]
     },
     "execution_count": 23,
     "metadata": {},
     "output_type": "execute_result"
    }
   ],
   "source": [
    "fit_and_score(LinearRegression(), train).median()"
   ]
  },
  {
   "cell_type": "code",
   "execution_count": 24,
   "id": "af0e5aa3",
   "metadata": {
    "ExecuteTime": {
     "end_time": "2022-08-29T10:32:12.579074Z",
     "start_time": "2022-08-29T10:32:11.299129Z"
    }
   },
   "outputs": [
    {
     "data": {
      "text/plain": [
       "0.010055077195604445"
      ]
     },
     "execution_count": 24,
     "metadata": {},
     "output_type": "execute_result"
    }
   ],
   "source": [
    "fit_and_score(Lasso(random_state=31), train).median()"
   ]
  },
  {
   "cell_type": "code",
   "execution_count": 25,
   "id": "9b84ea0a",
   "metadata": {
    "ExecuteTime": {
     "end_time": "2022-08-29T10:32:13.820924Z",
     "start_time": "2022-08-29T10:32:12.582362Z"
    }
   },
   "outputs": [
    {
     "data": {
      "text/plain": [
       "0.7401013586480665"
      ]
     },
     "execution_count": 25,
     "metadata": {},
     "output_type": "execute_result"
    }
   ],
   "source": [
    "fit_and_score(Ridge(random_state=31), train).median()"
   ]
  },
  {
   "cell_type": "code",
   "execution_count": 26,
   "id": "f0b6f0b4",
   "metadata": {
    "ExecuteTime": {
     "end_time": "2022-08-29T10:32:15.979794Z",
     "start_time": "2022-08-29T10:32:13.822880Z"
    }
   },
   "outputs": [
    {
     "data": {
      "text/plain": [
       "0.7597907464773208"
      ]
     },
     "execution_count": 26,
     "metadata": {},
     "output_type": "execute_result"
    }
   ],
   "source": [
    "train_ = pd.DataFrame(index=train.index, columns=train.columns, data=StandardScaler().fit_transform(train))\n",
    "fit_and_score(SGDRegressor(random_state=31), train_).median()"
   ]
  },
  {
   "cell_type": "code",
   "execution_count": 27,
   "id": "cae11441",
   "metadata": {
    "ExecuteTime": {
     "end_time": "2022-08-29T10:32:16.010972Z",
     "start_time": "2022-08-29T10:32:15.984875Z"
    }
   },
   "outputs": [
    {
     "name": "stdout",
     "output_type": "stream",
     "text": [
      "<class 'pandas.core.frame.DataFrame'>\n",
      "DatetimeIndex: 500 entries, 2022-08-01 00:00:00 to 2022-08-02 00:57:00\n",
      "Freq: 3T\n",
      "Columns: 156 entries, inp_a_flow_ksm3h to co_cl_feed_pc_d2\n",
      "dtypes: float32(156)\n",
      "memory usage: 308.6 KB\n"
     ]
    }
   ],
   "source": [
    "train.info()"
   ]
  },
  {
   "cell_type": "markdown",
   "id": "b1c4d4aa",
   "metadata": {},
   "source": [
    "# SWaT"
   ]
  },
  {
   "cell_type": "code",
   "execution_count": 28,
   "id": "3e27e65e",
   "metadata": {
    "ExecuteTime": {
     "end_time": "2022-08-29T10:32:16.026250Z",
     "start_time": "2022-08-29T10:32:16.013939Z"
    }
   },
   "outputs": [],
   "source": [
    "ds = SwatItrustDataset()\n",
    "ds.shake_not_stir(valid_test_ratio=0.3)"
   ]
  },
  {
   "cell_type": "code",
   "execution_count": 29,
   "id": "68e4f570",
   "metadata": {
    "ExecuteTime": {
     "end_time": "2022-08-29T10:32:16.072529Z",
     "start_time": "2022-08-29T10:32:16.028159Z"
    }
   },
   "outputs": [],
   "source": [
    "train, _, _ = next(ds.train_generator())\n",
    "valid, _, _ = next(ds.valid_generator())"
   ]
  },
  {
   "cell_type": "code",
   "execution_count": 30,
   "id": "a7e4c0bb",
   "metadata": {
    "ExecuteTime": {
     "end_time": "2022-08-29T10:32:16.417610Z",
     "start_time": "2022-08-29T10:32:16.074414Z"
    }
   },
   "outputs": [
    {
     "data": {
      "text/plain": [
       "0.9825456632676254"
      ]
     },
     "execution_count": 30,
     "metadata": {},
     "output_type": "execute_result"
    }
   ],
   "source": [
    "fit_and_score(LinearRegression(), train).median()"
   ]
  },
  {
   "cell_type": "code",
   "execution_count": 31,
   "id": "90ed81a4",
   "metadata": {
    "ExecuteTime": {
     "end_time": "2022-08-29T10:32:16.432993Z",
     "start_time": "2022-08-29T10:32:16.419177Z"
    }
   },
   "outputs": [],
   "source": [
    "# fit_and_score(Lasso(random_state=31), train).median()"
   ]
  },
  {
   "cell_type": "code",
   "execution_count": 32,
   "id": "23e49ded",
   "metadata": {
    "ExecuteTime": {
     "end_time": "2022-08-29T10:32:16.448591Z",
     "start_time": "2022-08-29T10:32:16.435945Z"
    }
   },
   "outputs": [],
   "source": [
    "# fit_and_score(Ridge(random_state=31), train).median()"
   ]
  },
  {
   "cell_type": "code",
   "execution_count": 33,
   "id": "a869f7ec",
   "metadata": {
    "ExecuteTime": {
     "end_time": "2022-08-29T10:32:16.998376Z",
     "start_time": "2022-08-29T10:32:16.451113Z"
    }
   },
   "outputs": [
    {
     "data": {
      "text/plain": [
       "FIT101_flow_m3h             0.807538\n",
       "LIT101_level_mm             0.847500\n",
       "MV101_feed_state            0.746730\n",
       "P101_pump_state             0.835405\n",
       "P102_pump_state             1.000000\n",
       "AIT201_conductivity_uScm    0.868183\n",
       "AIT202_acidity_pH           0.580579\n",
       "AIT203_oxidation_mV         0.849374\n",
       "FIT201_flow_m3h             0.845837\n",
       "MV201_feed_state            0.818286\n",
       "P201_pump_state             1.000000\n",
       "P202_pump_state             1.000000\n",
       "P203_pump_state             0.846164\n",
       "P204_pump_state             1.000000\n",
       "P205_pump_state             0.636739\n",
       "P206_pump_state             1.000000\n",
       "DPIT301_diffpressure_kPa    0.690489\n",
       "FIT301_flow_m3h             0.660621\n",
       "LIT301_level_mm             0.901437\n",
       "MV301_feed_state            0.017796\n",
       "MV302_feed_state            0.734218\n",
       "MV303_feed_state            0.447263\n",
       "MV304_feed_state            0.673567\n",
       "P301_pump_state             0.731346\n",
       "P302_pump_state             0.660601\n",
       "AIT401_hardness_ppm         0.776939\n",
       "AIT402_oxidation_mV         0.942895\n",
       "FIT401_flow_m3h             0.973317\n",
       "LIT401_level_mm             0.917818\n",
       "P401_pump_state             1.000000\n",
       "P402_pump_state             0.949752\n",
       "P403_pump_state             1.000000\n",
       "P404_pump_state             1.000000\n",
       "UV401_sterilizer_state      0.949752\n",
       "AIT501_acidity_pH           0.944896\n",
       "AIT502_oxidation_mV         0.931144\n",
       "AIT503_conductivity_uScm    0.836325\n",
       "AIT504_conductivity_uScm    0.950434\n",
       "FIT501_flow_m3h             0.973660\n",
       "FIT502_flow_m3h             0.971582\n",
       "FIT503_flow_m3h             0.980728\n",
       "FIT504_flow_m3h             0.985585\n",
       "P501_pump_state             0.974918\n",
       "P502_pump_state             1.000000\n",
       "PIT501_pressure_kPa         0.971018\n",
       "PIT502_pressure_kPa         0.723058\n",
       "PIT503_pressure_kPa         0.966750\n",
       "FIT601_flow_m3h             0.017052\n",
       "P601_pump_state             1.000000\n",
       "P602_pump_state             0.017796\n",
       "P603_pump_state             1.000000\n",
       "Name: score, dtype: float64"
      ]
     },
     "execution_count": 33,
     "metadata": {},
     "output_type": "execute_result"
    }
   ],
   "source": [
    "regr = SGDRegressor(random_state=31, \n",
    "                    penalty='l2', \n",
    "                    alpha=1.0, \n",
    "                    l1_ratio=0.15, \n",
    "                    max_iter=1000, \n",
    "                    tol=0.001, \n",
    "                    learning_rate='invscaling', \n",
    "                    eta0=0.01, \n",
    "                    power_t=0.25, \n",
    "                    validation_fraction=0.1, \n",
    "                    n_iter_no_change=10, \n",
    "                    warm_start=False, \n",
    "                    average=False)\n",
    "train_ = pd.DataFrame(index=train.index, columns=train.columns, data=StandardScaler().fit_transform(train))\n",
    "fit_and_score(regr, train_)"
   ]
  },
  {
   "cell_type": "code",
   "execution_count": 34,
   "id": "4489e9f9",
   "metadata": {
    "ExecuteTime": {
     "end_time": "2022-08-29T10:32:17.029022Z",
     "start_time": "2022-08-29T10:32:17.001384Z"
    }
   },
   "outputs": [
    {
     "name": "stdout",
     "output_type": "stream",
     "text": [
      "<class 'pandas.core.frame.DataFrame'>\n",
      "DatetimeIndex: 1440 entries, 2015-12-22 16:30:00 to 2015-12-23 16:29:00\n",
      "Freq: T\n",
      "Data columns (total 51 columns):\n",
      " #   Column                    Non-Null Count  Dtype  \n",
      "---  ------                    --------------  -----  \n",
      " 0   FIT101_flow_m3h           1440 non-null   float32\n",
      " 1   LIT101_level_mm           1440 non-null   float32\n",
      " 2   MV101_feed_state          1440 non-null   uint8  \n",
      " 3   P101_pump_state           1440 non-null   uint8  \n",
      " 4   P102_pump_state           1440 non-null   uint8  \n",
      " 5   AIT201_conductivity_uScm  1440 non-null   float32\n",
      " 6   AIT202_acidity_pH         1440 non-null   float32\n",
      " 7   AIT203_oxidation_mV       1440 non-null   float32\n",
      " 8   FIT201_flow_m3h           1440 non-null   float32\n",
      " 9   MV201_feed_state          1440 non-null   uint8  \n",
      " 10  P201_pump_state           1440 non-null   uint8  \n",
      " 11  P202_pump_state           1440 non-null   uint8  \n",
      " 12  P203_pump_state           1440 non-null   uint8  \n",
      " 13  P204_pump_state           1440 non-null   uint8  \n",
      " 14  P205_pump_state           1440 non-null   uint8  \n",
      " 15  P206_pump_state           1440 non-null   uint8  \n",
      " 16  DPIT301_diffpressure_kPa  1440 non-null   float32\n",
      " 17  FIT301_flow_m3h           1440 non-null   float32\n",
      " 18  LIT301_level_mm           1440 non-null   float32\n",
      " 19  MV301_feed_state          1440 non-null   uint8  \n",
      " 20  MV302_feed_state          1440 non-null   uint8  \n",
      " 21  MV303_feed_state          1440 non-null   uint8  \n",
      " 22  MV304_feed_state          1440 non-null   uint8  \n",
      " 23  P301_pump_state           1440 non-null   uint8  \n",
      " 24  P302_pump_state           1440 non-null   uint8  \n",
      " 25  AIT401_hardness_ppm       1440 non-null   float32\n",
      " 26  AIT402_oxidation_mV       1440 non-null   float32\n",
      " 27  FIT401_flow_m3h           1440 non-null   float32\n",
      " 28  LIT401_level_mm           1440 non-null   float32\n",
      " 29  P401_pump_state           1440 non-null   uint8  \n",
      " 30  P402_pump_state           1440 non-null   uint8  \n",
      " 31  P403_pump_state           1440 non-null   uint8  \n",
      " 32  P404_pump_state           1440 non-null   uint8  \n",
      " 33  UV401_sterilizer_state    1440 non-null   uint8  \n",
      " 34  AIT501_acidity_pH         1440 non-null   float32\n",
      " 35  AIT502_oxidation_mV       1440 non-null   float32\n",
      " 36  AIT503_conductivity_uScm  1440 non-null   float32\n",
      " 37  AIT504_conductivity_uScm  1440 non-null   float32\n",
      " 38  FIT501_flow_m3h           1440 non-null   float32\n",
      " 39  FIT502_flow_m3h           1440 non-null   float32\n",
      " 40  FIT503_flow_m3h           1440 non-null   float32\n",
      " 41  FIT504_flow_m3h           1440 non-null   float32\n",
      " 42  P501_pump_state           1440 non-null   uint8  \n",
      " 43  P502_pump_state           1440 non-null   uint8  \n",
      " 44  PIT501_pressure_kPa       1440 non-null   float32\n",
      " 45  PIT502_pressure_kPa       1440 non-null   float32\n",
      " 46  PIT503_pressure_kPa       1440 non-null   float32\n",
      " 47  FIT601_flow_m3h           1440 non-null   float32\n",
      " 48  P601_pump_state           1440 non-null   uint8  \n",
      " 49  P602_pump_state           1440 non-null   uint8  \n",
      " 50  P603_pump_state           1440 non-null   uint8  \n",
      "dtypes: float32(25), uint8(26)\n",
      "memory usage: 188.4 KB\n"
     ]
    }
   ],
   "source": [
    "train.info()"
   ]
  },
  {
   "cell_type": "markdown",
   "id": "69378e7e",
   "metadata": {},
   "source": [
    "# Watchman"
   ]
  },
  {
   "cell_type": "code",
   "execution_count": 35,
   "id": "8fd6e75d",
   "metadata": {
    "ExecuteTime": {
     "end_time": "2022-08-29T10:32:17.138070Z",
     "start_time": "2022-08-29T10:32:17.032385Z"
    }
   },
   "outputs": [],
   "source": [
    "from utils.watchmen import LinearPredictWatchman"
   ]
  },
  {
   "cell_type": "markdown",
   "id": "8efbbd6b",
   "metadata": {},
   "source": [
    "## GHL"
   ]
  },
  {
   "cell_type": "code",
   "execution_count": 36,
   "id": "705dfcc4",
   "metadata": {
    "ExecuteTime": {
     "end_time": "2022-08-29T10:32:17.154128Z",
     "start_time": "2022-08-29T10:32:17.140269Z"
    }
   },
   "outputs": [],
   "source": [
    "ds = GhlKasperskyDataset()\n",
    "ds.shake_not_stir(valid_test_ratio=0.3)"
   ]
  },
  {
   "cell_type": "code",
   "execution_count": 37,
   "id": "98bb299e",
   "metadata": {
    "ExecuteTime": {
     "end_time": "2022-08-29T10:32:17.170265Z",
     "start_time": "2022-08-29T10:32:17.156037Z"
    }
   },
   "outputs": [],
   "source": [
    "watchman = LinearPredictWatchman(random_state=31)"
   ]
  },
  {
   "cell_type": "code",
   "execution_count": 38,
   "id": "fcc63e4b",
   "metadata": {
    "ExecuteTime": {
     "end_time": "2022-08-29T10:32:17.777726Z",
     "start_time": "2022-08-29T10:32:17.173174Z"
    }
   },
   "outputs": [
    {
     "data": {
      "application/vnd.jupyter.widget-view+json": {
       "model_id": "2a7a6b5b611b4d68a98dfc2adf37becb",
       "version_major": 2,
       "version_minor": 0
      },
      "text/plain": [
       "0it [00:00, ?it/s]"
      ]
     },
     "metadata": {},
     "output_type": "display_data"
    },
    {
     "data": {
      "application/vnd.jupyter.widget-view+json": {
       "model_id": "8cb391cf0e24419dac7507238eac67f0",
       "version_major": 2,
       "version_minor": 0
      },
      "text/plain": [
       "0it [00:00, ?it/s]"
      ]
     },
     "metadata": {},
     "output_type": "display_data"
    }
   ],
   "source": [
    "for train, _, _ in tqdm(ds.train_generator()):\n",
    "    watchman.prefit(train)\n",
    "for train, _, _ in tqdm(ds.train_generator()):\n",
    "    watchman.partial_fit(train)"
   ]
  },
  {
   "cell_type": "code",
   "execution_count": 39,
   "id": "f3279bf0",
   "metadata": {
    "ExecuteTime": {
     "end_time": "2022-08-29T10:32:17.793650Z",
     "start_time": "2022-08-29T10:32:17.780169Z"
    }
   },
   "outputs": [],
   "source": [
    "# watchman.limits"
   ]
  },
  {
   "cell_type": "code",
   "execution_count": 40,
   "id": "2cb36ae8",
   "metadata": {
    "ExecuteTime": {
     "end_time": "2022-08-29T10:32:17.809315Z",
     "start_time": "2022-08-29T10:32:17.795524Z"
    }
   },
   "outputs": [],
   "source": [
    "# main_columns = ['rt_temp_gc', 'ht_temp_gc', 'rt_level_m', 'ht_level_m']"
   ]
  },
  {
   "cell_type": "code",
   "execution_count": 41,
   "id": "71dd582b",
   "metadata": {
    "ExecuteTime": {
     "end_time": "2022-08-29T10:32:18.511049Z",
     "start_time": "2022-08-29T10:32:17.812304Z"
    }
   },
   "outputs": [
    {
     "data": {
      "application/vnd.jupyter.widget-view+json": {
       "model_id": "6099753991854625b3e541d6d83d00ad",
       "version_major": 2,
       "version_minor": 0
      },
      "text/plain": [
       "0it [00:00, ?it/s]"
      ]
     },
     "metadata": {},
     "output_type": "display_data"
    }
   ],
   "source": [
    "valid_gen = ds.valid_generator()\n",
    "examine_list = pd.DataFrame(columns=['precision', 'recall', 'f1_score'], dtype='float')\n",
    "for valid, faults, info in tqdm(valid_gen):\n",
    "    detect = watchman.predict(valid)\n",
    "#     detect = detect[main_columns]\n",
    "    examine_list.loc[info] = time_span_metrics(faults, detect)\n",
    "#     if max(faults) and max(detect):\n",
    "#         plot_stacked(valid, faults=faults, detect=detect)\n",
    "#         break"
   ]
  },
  {
   "cell_type": "code",
   "execution_count": 42,
   "id": "36387a2a",
   "metadata": {
    "ExecuteTime": {
     "end_time": "2022-08-29T10:32:18.526375Z",
     "start_time": "2022-08-29T10:32:18.514066Z"
    }
   },
   "outputs": [
    {
     "data": {
      "text/plain": [
       "precision    0.009300\n",
       "recall       0.422619\n",
       "f1_score     0.018176\n",
       "dtype: float64"
      ]
     },
     "execution_count": 42,
     "metadata": {},
     "output_type": "execute_result"
    }
   ],
   "source": [
    "examine_list.mean()"
   ]
  },
  {
   "cell_type": "markdown",
   "id": "63e0cf96",
   "metadata": {},
   "source": [
    "## TEP"
   ]
  },
  {
   "cell_type": "code",
   "execution_count": 43,
   "id": "1dfded90",
   "metadata": {
    "ExecuteTime": {
     "end_time": "2022-08-29T10:32:18.618992Z",
     "start_time": "2022-08-29T10:32:18.529200Z"
    }
   },
   "outputs": [],
   "source": [
    "ds = TepHarvardDataset()\n",
    "ds.shake_not_stir(valid_test_ratio=1.0, balanced_test=True)"
   ]
  },
  {
   "cell_type": "code",
   "execution_count": 44,
   "id": "65a90b54",
   "metadata": {
    "ExecuteTime": {
     "end_time": "2022-08-29T10:32:18.634868Z",
     "start_time": "2022-08-29T10:32:18.621874Z"
    }
   },
   "outputs": [],
   "source": [
    "watchman = LinearPredictWatchman(random_state=31)"
   ]
  },
  {
   "cell_type": "code",
   "execution_count": 45,
   "id": "58793a20",
   "metadata": {
    "ExecuteTime": {
     "end_time": "2022-08-29T10:33:18.737081Z",
     "start_time": "2022-08-29T10:32:18.637958Z"
    }
   },
   "outputs": [
    {
     "data": {
      "application/vnd.jupyter.widget-view+json": {
       "model_id": "64a31876f50d4bafa3c9f0edf88ff737",
       "version_major": 2,
       "version_minor": 0
      },
      "text/plain": [
       "0it [00:00, ?it/s]"
      ]
     },
     "metadata": {},
     "output_type": "display_data"
    },
    {
     "data": {
      "application/vnd.jupyter.widget-view+json": {
       "model_id": "47020703653f467bb8d8222b82cd877e",
       "version_major": 2,
       "version_minor": 0
      },
      "text/plain": [
       "0it [00:00, ?it/s]"
      ]
     },
     "metadata": {},
     "output_type": "display_data"
    }
   ],
   "source": [
    "for train, _, _ in tqdm(ds.train_generator()):\n",
    "    watchman.prefit(train)\n",
    "for train, _, _ in tqdm(ds.train_generator()):\n",
    "    watchman.partial_fit(train)"
   ]
  },
  {
   "cell_type": "code",
   "execution_count": 46,
   "id": "5eb4ed06",
   "metadata": {
    "ExecuteTime": {
     "end_time": "2022-08-29T10:33:18.752200Z",
     "start_time": "2022-08-29T10:33:18.740131Z"
    }
   },
   "outputs": [],
   "source": [
    "# watchman.limits"
   ]
  },
  {
   "cell_type": "code",
   "execution_count": 47,
   "id": "b5077566",
   "metadata": {
    "ExecuteTime": {
     "end_time": "2022-08-29T10:35:13.061255Z",
     "start_time": "2022-08-29T10:33:18.755214Z"
    }
   },
   "outputs": [
    {
     "data": {
      "application/vnd.jupyter.widget-view+json": {
       "model_id": "43a38c8ca2394e61af386baae0c4bb7b",
       "version_major": 2,
       "version_minor": 0
      },
      "text/plain": [
       "0it [00:00, ?it/s]"
      ]
     },
     "metadata": {},
     "output_type": "display_data"
    }
   ],
   "source": [
    "valid_gen = ds.valid_generator()\n",
    "examine_list = pd.DataFrame(columns=['precision', 'recall', 'f1_score'], dtype='float')\n",
    "for valid, faults, info in tqdm(valid_gen):\n",
    "    detect = watchman.predict(valid)\n",
    "    examine_list.loc[info] = time_span_metrics(faults, detect)"
   ]
  },
  {
   "cell_type": "code",
   "execution_count": 48,
   "id": "553172de",
   "metadata": {
    "ExecuteTime": {
     "end_time": "2022-08-29T10:35:13.076919Z",
     "start_time": "2022-08-29T10:35:13.064186Z"
    }
   },
   "outputs": [
    {
     "data": {
      "text/plain": [
       "precision    1.000000\n",
       "recall       0.661135\n",
       "f1_score     0.712843\n",
       "dtype: float64"
      ]
     },
     "execution_count": 48,
     "metadata": {},
     "output_type": "execute_result"
    }
   ],
   "source": [
    "examine_list.mean()"
   ]
  },
  {
   "cell_type": "markdown",
   "id": "c44ef041",
   "metadata": {},
   "source": [
    "## SWaT"
   ]
  },
  {
   "cell_type": "code",
   "execution_count": 49,
   "id": "f8bcb34c",
   "metadata": {
    "ExecuteTime": {
     "end_time": "2022-08-29T10:35:13.092419Z",
     "start_time": "2022-08-29T10:35:13.079053Z"
    }
   },
   "outputs": [],
   "source": [
    "ds = SwatItrustDataset()\n",
    "ds.shake_not_stir(valid_test_ratio=0.5)"
   ]
  },
  {
   "cell_type": "code",
   "execution_count": 50,
   "id": "b92f9913",
   "metadata": {
    "ExecuteTime": {
     "end_time": "2022-08-29T10:35:13.108438Z",
     "start_time": "2022-08-29T10:35:13.098124Z"
    }
   },
   "outputs": [],
   "source": [
    "watchman = LinearPredictWatchman(random_state=31)"
   ]
  },
  {
   "cell_type": "code",
   "execution_count": 51,
   "id": "3849a782",
   "metadata": {
    "ExecuteTime": {
     "end_time": "2022-08-29T10:35:14.056557Z",
     "start_time": "2022-08-29T10:35:13.113373Z"
    }
   },
   "outputs": [
    {
     "data": {
      "application/vnd.jupyter.widget-view+json": {
       "model_id": "d7c37e1169254a119fa05b37713770a6",
       "version_major": 2,
       "version_minor": 0
      },
      "text/plain": [
       "0it [00:00, ?it/s]"
      ]
     },
     "metadata": {},
     "output_type": "display_data"
    },
    {
     "data": {
      "application/vnd.jupyter.widget-view+json": {
       "model_id": "81eb3244ac354627b9318f1c9e4245a4",
       "version_major": 2,
       "version_minor": 0
      },
      "text/plain": [
       "0it [00:00, ?it/s]"
      ]
     },
     "metadata": {},
     "output_type": "display_data"
    }
   ],
   "source": [
    "for train, _, _ in tqdm(ds.train_generator()):\n",
    "    watchman.prefit(train)\n",
    "for train, _, _ in tqdm(ds.train_generator()):\n",
    "    watchman.partial_fit(train)"
   ]
  },
  {
   "cell_type": "code",
   "execution_count": 52,
   "id": "4b84d254",
   "metadata": {
    "ExecuteTime": {
     "end_time": "2022-08-29T10:35:14.071895Z",
     "start_time": "2022-08-29T10:35:14.059460Z"
    }
   },
   "outputs": [],
   "source": [
    "# watchman.limits"
   ]
  },
  {
   "cell_type": "code",
   "execution_count": 53,
   "id": "3699441e",
   "metadata": {
    "ExecuteTime": {
     "end_time": "2022-08-29T10:35:14.473597Z",
     "start_time": "2022-08-29T10:35:14.074836Z"
    }
   },
   "outputs": [
    {
     "data": {
      "application/vnd.jupyter.widget-view+json": {
       "model_id": "1d8e3c220ee448e193848376ed085988",
       "version_major": 2,
       "version_minor": 0
      },
      "text/plain": [
       "0it [00:00, ?it/s]"
      ]
     },
     "metadata": {},
     "output_type": "display_data"
    }
   ],
   "source": [
    "valid_gen = ds.valid_generator()\n",
    "examine_list = pd.DataFrame(columns=['precision', 'recall', 'f1_score'], dtype='float')\n",
    "for valid, faults, info in tqdm(valid_gen):\n",
    "    detect = watchman.predict(valid)\n",
    "    examine_list.loc[info] = time_span_metrics(faults, detect)"
   ]
  },
  {
   "cell_type": "code",
   "execution_count": 54,
   "id": "5a0ce8a6",
   "metadata": {
    "ExecuteTime": {
     "end_time": "2022-08-29T10:35:14.489294Z",
     "start_time": "2022-08-29T10:35:14.476781Z"
    }
   },
   "outputs": [
    {
     "data": {
      "text/plain": [
       "precision    0.051724\n",
       "recall       1.000000\n",
       "f1_score     0.098361\n",
       "dtype: float64"
      ]
     },
     "execution_count": 54,
     "metadata": {},
     "output_type": "execute_result"
    }
   ],
   "source": [
    "examine_list.mean()"
   ]
  }
 ],
 "metadata": {
  "kernelspec": {
   "display_name": "Python 3 (ipykernel)",
   "language": "python",
   "name": "python3"
  },
  "language_info": {
   "codemirror_mode": {
    "name": "ipython",
    "version": 3
   },
   "file_extension": ".py",
   "mimetype": "text/x-python",
   "name": "python",
   "nbconvert_exporter": "python",
   "pygments_lexer": "ipython3",
   "version": "3.8.8"
  },
  "toc": {
   "base_numbering": 1,
   "nav_menu": {},
   "number_sections": true,
   "sideBar": true,
   "skip_h1_title": false,
   "title_cell": "Table of Contents",
   "title_sidebar": "Contents",
   "toc_cell": false,
   "toc_position": {},
   "toc_section_display": true,
   "toc_window_display": false
  }
 },
 "nbformat": 4,
 "nbformat_minor": 5
}
