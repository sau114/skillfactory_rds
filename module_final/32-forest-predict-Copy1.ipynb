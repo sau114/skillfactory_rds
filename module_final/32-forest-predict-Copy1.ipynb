{
 "cells": [
  {
   "cell_type": "code",
   "execution_count": 1,
   "id": "f91db00f",
   "metadata": {
    "ExecuteTime": {
     "end_time": "2022-09-05T13:10:35.236033Z",
     "start_time": "2022-09-05T13:10:35.222946Z"
    }
   },
   "outputs": [],
   "source": [
    "# Exploring predict next row by current"
   ]
  },
  {
   "cell_type": "code",
   "execution_count": 2,
   "id": "4f643971",
   "metadata": {
    "ExecuteTime": {
     "end_time": "2022-09-05T13:10:35.283007Z",
     "start_time": "2022-09-05T13:10:35.237946Z"
    }
   },
   "outputs": [],
   "source": [
    "!del /Q utils\\__pycache__"
   ]
  },
  {
   "cell_type": "code",
   "execution_count": 3,
   "id": "cefbb20d",
   "metadata": {
    "ExecuteTime": {
     "end_time": "2022-09-05T13:10:36.205798Z",
     "start_time": "2022-09-05T13:10:35.286950Z"
    }
   },
   "outputs": [],
   "source": [
    "import pandas as pd\n",
    "import numpy as np\n",
    "from tqdm.notebook import tqdm"
   ]
  },
  {
   "cell_type": "code",
   "execution_count": 4,
   "id": "27c6c08c",
   "metadata": {
    "ExecuteTime": {
     "end_time": "2022-09-05T13:10:36.253891Z",
     "start_time": "2022-09-05T13:10:36.208711Z"
    }
   },
   "outputs": [],
   "source": [
    "from utils.metrics import time_span_metrics\n",
    "from utils.datasets import GhlKasperskyDataset, TepHarvardDataset, SwatItrustDataset\n",
    "from utils.custom_plots import plot_stacked"
   ]
  },
  {
   "cell_type": "markdown",
   "id": "f1907ece",
   "metadata": {},
   "source": [
    "# See on forest"
   ]
  },
  {
   "cell_type": "code",
   "execution_count": 5,
   "id": "c25b0b15",
   "metadata": {
    "ExecuteTime": {
     "end_time": "2022-09-05T13:10:37.191314Z",
     "start_time": "2022-09-05T13:10:36.256896Z"
    }
   },
   "outputs": [],
   "source": [
    "from sklearn.ensemble import RandomForestRegressor\n",
    "from sklearn.preprocessing import StandardScaler"
   ]
  },
  {
   "cell_type": "code",
   "execution_count": 6,
   "id": "fa588f59",
   "metadata": {
    "ExecuteTime": {
     "end_time": "2022-09-05T13:10:37.206410Z",
     "start_time": "2022-09-05T13:10:37.193268Z"
    }
   },
   "outputs": [],
   "source": [
    "forest = RandomForestRegressor(n_estimators=10, warm_start=True)"
   ]
  },
  {
   "cell_type": "markdown",
   "id": "69378e7e",
   "metadata": {},
   "source": [
    "# Watchman"
   ]
  },
  {
   "cell_type": "code",
   "execution_count": 7,
   "id": "8fd6e75d",
   "metadata": {
    "ExecuteTime": {
     "end_time": "2022-09-05T13:10:37.315566Z",
     "start_time": "2022-09-05T13:10:37.209253Z"
    }
   },
   "outputs": [],
   "source": [
    "from utils.watchmen import ForestPredictWatchman"
   ]
  },
  {
   "cell_type": "markdown",
   "id": "8efbbd6b",
   "metadata": {},
   "source": [
    "## GHL"
   ]
  },
  {
   "cell_type": "code",
   "execution_count": 8,
   "id": "705dfcc4",
   "metadata": {
    "ExecuteTime": {
     "end_time": "2022-09-05T13:10:37.377642Z",
     "start_time": "2022-09-05T13:10:37.317410Z"
    }
   },
   "outputs": [],
   "source": [
    "ds = GhlKasperskyDataset()\n",
    "ds.shake_not_stir(random_state=42, valid_test_ratio=0.3)"
   ]
  },
  {
   "cell_type": "code",
   "execution_count": 9,
   "id": "98bb299e",
   "metadata": {
    "ExecuteTime": {
     "end_time": "2022-09-05T13:10:37.423752Z",
     "start_time": "2022-09-05T13:10:37.381617Z"
    }
   },
   "outputs": [],
   "source": [
    "watchman = ForestPredictWatchman(random_state=31)"
   ]
  },
  {
   "cell_type": "code",
   "execution_count": 10,
   "id": "fcc63e4b",
   "metadata": {
    "ExecuteTime": {
     "end_time": "2022-09-05T13:10:43.361995Z",
     "start_time": "2022-09-05T13:10:37.426718Z"
    }
   },
   "outputs": [
    {
     "data": {
      "application/vnd.jupyter.widget-view+json": {
       "model_id": "445b43afd62e4b839867046b8119b256",
       "version_major": 2,
       "version_minor": 0
      },
      "text/plain": [
       "0it [00:00, ?it/s]"
      ]
     },
     "metadata": {},
     "output_type": "display_data"
    },
    {
     "data": {
      "application/vnd.jupyter.widget-view+json": {
       "model_id": "3a1f99aae1d44f6e9d3c946fe1f742dc",
       "version_major": 2,
       "version_minor": 0
      },
      "text/plain": [
       "0it [00:00, ?it/s]"
      ]
     },
     "metadata": {},
     "output_type": "display_data"
    }
   ],
   "source": [
    "for train, _, _ in tqdm(ds.train_generator()):\n",
    "    watchman.prefit(train)\n",
    "for train, _, _ in tqdm(ds.train_generator()):\n",
    "    watchman.partial_fit(train)"
   ]
  },
  {
   "cell_type": "code",
   "execution_count": 11,
   "id": "f3279bf0",
   "metadata": {
    "ExecuteTime": {
     "end_time": "2022-09-05T13:10:43.377615Z",
     "start_time": "2022-09-05T13:10:43.365440Z"
    }
   },
   "outputs": [],
   "source": [
    "# watchman.limits"
   ]
  },
  {
   "cell_type": "code",
   "execution_count": 12,
   "id": "2cb36ae8",
   "metadata": {
    "ExecuteTime": {
     "end_time": "2022-09-05T13:10:43.392793Z",
     "start_time": "2022-09-05T13:10:43.381290Z"
    }
   },
   "outputs": [],
   "source": [
    "# main_columns = ['rt_temp_gc', 'ht_temp_gc', 'rt_level_m', 'ht_level_m']"
   ]
  },
  {
   "cell_type": "code",
   "execution_count": 13,
   "id": "71dd582b",
   "metadata": {
    "ExecuteTime": {
     "end_time": "2022-09-05T13:10:47.416570Z",
     "start_time": "2022-09-05T13:10:43.395782Z"
    }
   },
   "outputs": [
    {
     "data": {
      "application/vnd.jupyter.widget-view+json": {
       "model_id": "fd9a1251468c4e8d924ad1c04e176728",
       "version_major": 2,
       "version_minor": 0
      },
      "text/plain": [
       "0it [00:00, ?it/s]"
      ]
     },
     "metadata": {},
     "output_type": "display_data"
    }
   ],
   "source": [
    "valid_gen = ds.valid_generator()\n",
    "examine_list = pd.DataFrame(columns=['precision', 'recall', 'f1_score'], dtype='float')\n",
    "for valid, faults, info in tqdm(valid_gen):\n",
    "    detect = watchman.predict(valid)\n",
    "#     detect = detect[main_columns]\n",
    "    examine_list.loc[info] = time_span_metrics(faults, detect)\n",
    "#     if max(faults) and max(detect):\n",
    "#         plot_stacked(valid, faults=faults, detect=detect)\n",
    "#         break"
   ]
  },
  {
   "cell_type": "code",
   "execution_count": 14,
   "id": "36387a2a",
   "metadata": {
    "ExecuteTime": {
     "end_time": "2022-09-05T13:10:47.448601Z",
     "start_time": "2022-09-05T13:10:47.417504Z"
    }
   },
   "outputs": [
    {
     "data": {
      "text/plain": [
       "precision    0.010890\n",
       "recall       1.000000\n",
       "f1_score     0.021537\n",
       "dtype: float64"
      ]
     },
     "execution_count": 14,
     "metadata": {},
     "output_type": "execute_result"
    }
   ],
   "source": [
    "examine_list.mean()"
   ]
  },
  {
   "cell_type": "markdown",
   "id": "63e0cf96",
   "metadata": {},
   "source": [
    "## TEP"
   ]
  },
  {
   "cell_type": "code",
   "execution_count": 15,
   "id": "1dfded90",
   "metadata": {
    "ExecuteTime": {
     "end_time": "2022-09-05T13:10:47.544572Z",
     "start_time": "2022-09-05T13:10:47.452070Z"
    }
   },
   "outputs": [],
   "source": [
    "ds = TepHarvardDataset()\n",
    "ds.shake_not_stir(random_state=42, valid_test_ratio=1.0, balanced_test=True)"
   ]
  },
  {
   "cell_type": "code",
   "execution_count": 16,
   "id": "65a90b54",
   "metadata": {
    "ExecuteTime": {
     "end_time": "2022-09-05T13:10:47.560556Z",
     "start_time": "2022-09-05T13:10:47.546753Z"
    }
   },
   "outputs": [],
   "source": [
    "watchman = ForestPredictWatchman(random_state=31)"
   ]
  },
  {
   "cell_type": "code",
   "execution_count": null,
   "id": "58793a20",
   "metadata": {
    "ExecuteTime": {
     "start_time": "2022-09-05T13:10:35.210Z"
    }
   },
   "outputs": [
    {
     "data": {
      "application/vnd.jupyter.widget-view+json": {
       "model_id": "6f29d1fd71ec42c097519ac2324ee6ba",
       "version_major": 2,
       "version_minor": 0
      },
      "text/plain": [
       "0it [00:00, ?it/s]"
      ]
     },
     "metadata": {},
     "output_type": "display_data"
    },
    {
     "data": {
      "application/vnd.jupyter.widget-view+json": {
       "model_id": "07a57f38a3d249f79baa6a3fa05cd21a",
       "version_major": 2,
       "version_minor": 0
      },
      "text/plain": [
       "0it [00:00, ?it/s]"
      ]
     },
     "metadata": {},
     "output_type": "display_data"
    }
   ],
   "source": [
    "for train, _, _ in tqdm(ds.train_generator()):\n",
    "    watchman.prefit(train)\n",
    "for train, _, _ in tqdm(ds.train_generator()):\n",
    "    watchman.partial_fit(train)"
   ]
  },
  {
   "cell_type": "code",
   "execution_count": null,
   "id": "5eb4ed06",
   "metadata": {
    "ExecuteTime": {
     "start_time": "2022-09-05T13:10:35.211Z"
    }
   },
   "outputs": [],
   "source": [
    "# watchman.limits"
   ]
  },
  {
   "cell_type": "code",
   "execution_count": null,
   "id": "b5077566",
   "metadata": {
    "ExecuteTime": {
     "start_time": "2022-09-05T13:10:35.212Z"
    }
   },
   "outputs": [],
   "source": [
    "valid_gen = ds.valid_generator()\n",
    "examine_list = pd.DataFrame(columns=['precision', 'recall', 'f1_score'], dtype='float')\n",
    "for valid, faults, info in tqdm(valid_gen):\n",
    "    detect = watchman.predict(valid)\n",
    "    examine_list.loc[info] = time_span_metrics(faults, detect)"
   ]
  },
  {
   "cell_type": "code",
   "execution_count": null,
   "id": "553172de",
   "metadata": {
    "ExecuteTime": {
     "start_time": "2022-09-05T13:10:35.213Z"
    }
   },
   "outputs": [],
   "source": [
    "examine_list.mean()"
   ]
  },
  {
   "cell_type": "markdown",
   "id": "c44ef041",
   "metadata": {},
   "source": [
    "## SWaT"
   ]
  },
  {
   "cell_type": "code",
   "execution_count": null,
   "id": "f8bcb34c",
   "metadata": {
    "ExecuteTime": {
     "start_time": "2022-09-05T13:10:35.215Z"
    }
   },
   "outputs": [],
   "source": [
    "ds = SwatItrustDataset()\n",
    "ds.shake_not_stir(random_state=42, valid_test_ratio=0.5)"
   ]
  },
  {
   "cell_type": "code",
   "execution_count": null,
   "id": "b92f9913",
   "metadata": {
    "ExecuteTime": {
     "start_time": "2022-09-05T13:10:35.216Z"
    }
   },
   "outputs": [],
   "source": [
    "watchman = ForestPredictWatchman(random_state=31, use_log_state=False)"
   ]
  },
  {
   "cell_type": "code",
   "execution_count": null,
   "id": "3849a782",
   "metadata": {
    "ExecuteTime": {
     "start_time": "2022-09-05T13:10:35.218Z"
    }
   },
   "outputs": [],
   "source": [
    "for train, _, _ in tqdm(ds.train_generator()):\n",
    "    watchman.prefit(train)\n",
    "for train, _, _ in tqdm(ds.train_generator()):\n",
    "    watchman.partial_fit(train)"
   ]
  },
  {
   "cell_type": "code",
   "execution_count": null,
   "id": "4b84d254",
   "metadata": {
    "ExecuteTime": {
     "start_time": "2022-09-05T13:10:35.219Z"
    }
   },
   "outputs": [],
   "source": [
    "# watchman.limits"
   ]
  },
  {
   "cell_type": "code",
   "execution_count": null,
   "id": "3699441e",
   "metadata": {
    "ExecuteTime": {
     "start_time": "2022-09-05T13:10:35.221Z"
    }
   },
   "outputs": [],
   "source": [
    "valid_gen = ds.valid_generator()\n",
    "examine_list = pd.DataFrame(columns=['precision', 'recall', 'f1_score'], dtype='float')\n",
    "for valid, faults, info in tqdm(valid_gen):\n",
    "    detect = watchman.predict(valid)\n",
    "    examine_list.loc[info] = time_span_metrics(faults, detect)"
   ]
  },
  {
   "cell_type": "code",
   "execution_count": null,
   "id": "5a0ce8a6",
   "metadata": {
    "ExecuteTime": {
     "start_time": "2022-09-05T13:10:35.224Z"
    }
   },
   "outputs": [],
   "source": [
    "examine_list.mean()"
   ]
  },
  {
   "cell_type": "code",
   "execution_count": null,
   "id": "24563895",
   "metadata": {},
   "outputs": [],
   "source": []
  }
 ],
 "metadata": {
  "kernelspec": {
   "display_name": "Python 3 (ipykernel)",
   "language": "python",
   "name": "python3"
  },
  "language_info": {
   "codemirror_mode": {
    "name": "ipython",
    "version": 3
   },
   "file_extension": ".py",
   "mimetype": "text/x-python",
   "name": "python",
   "nbconvert_exporter": "python",
   "pygments_lexer": "ipython3",
   "version": "3.8.8"
  },
  "toc": {
   "base_numbering": 1,
   "nav_menu": {},
   "number_sections": true,
   "sideBar": true,
   "skip_h1_title": false,
   "title_cell": "Table of Contents",
   "title_sidebar": "Contents",
   "toc_cell": false,
   "toc_position": {},
   "toc_section_display": true,
   "toc_window_display": false
  }
 },
 "nbformat": 4,
 "nbformat_minor": 5
}
