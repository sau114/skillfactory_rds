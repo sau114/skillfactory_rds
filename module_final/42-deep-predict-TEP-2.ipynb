{
 "cells": [
  {
   "cell_type": "code",
   "execution_count": 1,
   "id": "6f3c87cb",
   "metadata": {
    "ExecuteTime": {
     "end_time": "2022-09-14T06:12:50.706134Z",
     "start_time": "2022-09-14T06:12:50.633025Z"
    }
   },
   "outputs": [],
   "source": [
    "!del /Q utils\\__pycache__"
   ]
  },
  {
   "cell_type": "code",
   "execution_count": 2,
   "id": "752d811d",
   "metadata": {
    "ExecuteTime": {
     "end_time": "2022-09-14T06:12:51.706327Z",
     "start_time": "2022-09-14T06:12:50.709020Z"
    }
   },
   "outputs": [],
   "source": [
    "import numpy as np\n",
    "import pandas as pd\n",
    "from tqdm.notebook import tqdm"
   ]
  },
  {
   "cell_type": "code",
   "execution_count": 3,
   "id": "04ddc3a0",
   "metadata": {
    "ExecuteTime": {
     "end_time": "2022-09-14T06:12:51.785671Z",
     "start_time": "2022-09-14T06:12:51.706989Z"
    }
   },
   "outputs": [],
   "source": [
    "from utils.datasets import GhlKasperskyDataset, TepHarvardDataset, TepKasperskyDataset, SwatItrustDataset\n",
    "from utils.custom_plots import plot_stacked\n",
    "from utils.metrics import time_span_metrics"
   ]
  },
  {
   "cell_type": "code",
   "execution_count": 4,
   "id": "550fbb3c",
   "metadata": {
    "ExecuteTime": {
     "end_time": "2022-09-14T06:12:52.684231Z",
     "start_time": "2022-09-14T06:12:51.790610Z"
    }
   },
   "outputs": [],
   "source": [
    "from sklearn.metrics import mean_squared_error"
   ]
  },
  {
   "cell_type": "markdown",
   "id": "e237a2ff",
   "metadata": {},
   "source": [
    "# Data"
   ]
  },
  {
   "cell_type": "code",
   "execution_count": 5,
   "id": "20f8f04b",
   "metadata": {
    "ExecuteTime": {
     "end_time": "2022-09-14T06:12:52.715476Z",
     "start_time": "2022-09-14T06:12:52.684231Z"
    }
   },
   "outputs": [],
   "source": [
    "ds = TepKasperskyDataset()\n",
    "ds.shake_not_stir()"
   ]
  },
  {
   "cell_type": "code",
   "execution_count": 6,
   "id": "00211f4e",
   "metadata": {
    "ExecuteTime": {
     "end_time": "2022-09-14T06:12:53.123598Z",
     "start_time": "2022-09-14T06:12:52.717437Z"
    }
   },
   "outputs": [],
   "source": [
    "train, _ , _ = next(ds.train_generator())"
   ]
  },
  {
   "cell_type": "code",
   "execution_count": 7,
   "id": "61bf47ac",
   "metadata": {
    "ExecuteTime": {
     "end_time": "2022-09-14T06:12:53.138765Z",
     "start_time": "2022-09-14T06:12:53.125608Z"
    }
   },
   "outputs": [],
   "source": [
    "from sklearn.preprocessing import StandardScaler"
   ]
  },
  {
   "cell_type": "code",
   "execution_count": 8,
   "id": "44898356",
   "metadata": {
    "ExecuteTime": {
     "end_time": "2022-09-14T06:13:16.815260Z",
     "start_time": "2022-09-14T06:12:53.144642Z"
    }
   },
   "outputs": [],
   "source": [
    "scaler = StandardScaler()\n",
    "for data, _, _ in ds.train_generator():\n",
    "    scaler.partial_fit(data)"
   ]
  },
  {
   "cell_type": "code",
   "execution_count": 9,
   "id": "ace815be",
   "metadata": {
    "ExecuteTime": {
     "end_time": "2022-09-14T06:13:16.831195Z",
     "start_time": "2022-09-14T06:13:16.815260Z"
    }
   },
   "outputs": [],
   "source": [
    "SEED = 7145"
   ]
  },
  {
   "cell_type": "markdown",
   "id": "38c265bc",
   "metadata": {},
   "source": [
    "# LSTM"
   ]
  },
  {
   "cell_type": "code",
   "execution_count": 10,
   "id": "98ec593c",
   "metadata": {
    "ExecuteTime": {
     "end_time": "2022-09-14T06:13:21.626739Z",
     "start_time": "2022-09-14T06:13:16.833991Z"
    }
   },
   "outputs": [],
   "source": [
    "from tensorflow.keras.models import Sequential\n",
    "from tensorflow.keras.layers import Dense, LSTM, GRU, Conv1D, ConvLSTM1D\n",
    "from tensorflow.keras.backend import clear_session\n",
    "from tensorflow.keras.callbacks import EarlyStopping, ModelCheckpoint\n",
    "from tensorflow.keras.utils import set_random_seed"
   ]
  },
  {
   "cell_type": "code",
   "execution_count": 11,
   "id": "229f0bb5",
   "metadata": {
    "ExecuteTime": {
     "end_time": "2022-09-14T06:13:21.720783Z",
     "start_time": "2022-09-14T06:13:21.626739Z"
    }
   },
   "outputs": [],
   "source": [
    "# split a multivariate sequence into samples\n",
    "def split_sequences(sequences, n_steps):\n",
    "    X, y = list(), list()\n",
    "    for i in range(len(sequences)):\n",
    "        # find the end of this pattern\n",
    "        end_ix = i + n_steps\n",
    "        # check if we are beyond the dataset\n",
    "        if end_ix > len(sequences)-1:\n",
    "            break\n",
    "        # gather input and output parts of the pattern\n",
    "        seq_x, seq_y = sequences[i:end_ix, :], sequences[end_ix, :]\n",
    "        X.append(seq_x)\n",
    "        y.append(seq_y)\n",
    "    return np.array(X), np.array(y)"
   ]
  },
  {
   "cell_type": "code",
   "execution_count": 12,
   "id": "68fc9998",
   "metadata": {
    "ExecuteTime": {
     "end_time": "2022-09-14T06:13:21.736816Z",
     "start_time": "2022-09-14T06:13:21.723784Z"
    }
   },
   "outputs": [],
   "source": [
    "n_features = train.shape[1]\n",
    "valid_size = 0.2\n",
    "res_lstm = pd.DataFrame(dtype='float')"
   ]
  },
  {
   "cell_type": "code",
   "execution_count": 13,
   "id": "9637e2ab",
   "metadata": {
    "ExecuteTime": {
     "end_time": "2022-09-14T06:13:21.752823Z",
     "start_time": "2022-09-14T06:13:21.739868Z"
    }
   },
   "outputs": [],
   "source": [
    "checkpoint = ModelCheckpoint('best_tep2_lstm.hdf5',\n",
    "                             monitor='val_mse', \n",
    "                             verbose=0, \n",
    "                             mode='min',\n",
    "                             save_best_only = True,\n",
    "                            )\n",
    "\n",
    "earlystop = EarlyStopping(monitor='val_mse',\n",
    "                          patience=2,\n",
    "                          min_delta = 0.001,\n",
    "                          restore_best_weights=True,\n",
    "                          verbose=0,\n",
    "                         )\n",
    "\n",
    "callbacks_list = [checkpoint, earlystop]"
   ]
  },
  {
   "cell_type": "code",
   "execution_count": 14,
   "id": "d735a81c",
   "metadata": {
    "ExecuteTime": {
     "end_time": "2022-09-14T09:32:20.642995Z",
     "start_time": "2022-09-14T06:13:21.756733Z"
    },
    "scrolled": true
   },
   "outputs": [
    {
     "data": {
      "application/vnd.jupyter.widget-view+json": {
       "model_id": "1f33c55240fd4262a42b2127c57c6400",
       "version_major": 2,
       "version_minor": 0
      },
      "text/plain": [
       "  0%|          | 0/5 [00:00<?, ?it/s]"
      ]
     },
     "metadata": {},
     "output_type": "display_data"
    },
    {
     "data": {
      "application/vnd.jupyter.widget-view+json": {
       "model_id": "46637a47758a4025a3f51c5d445a0db2",
       "version_major": 2,
       "version_minor": 0
      },
      "text/plain": [
       "  0%|          | 0/4 [00:00<?, ?it/s]"
      ]
     },
     "metadata": {},
     "output_type": "display_data"
    },
    {
     "data": {
      "application/vnd.jupyter.widget-view+json": {
       "model_id": "9809d690ed5e41a6b4de996c1b96985e",
       "version_major": 2,
       "version_minor": 0
      },
      "text/plain": [
       "  0%|          | 0/4 [00:00<?, ?it/s]"
      ]
     },
     "metadata": {},
     "output_type": "display_data"
    },
    {
     "ename": "KeyboardInterrupt",
     "evalue": "",
     "output_type": "error",
     "traceback": [
      "\u001b[1;31m---------------------------------------------------------------------------\u001b[0m",
      "\u001b[1;31mKeyboardInterrupt\u001b[0m                         Traceback (most recent call last)",
      "Input \u001b[1;32mIn [14]\u001b[0m, in \u001b[0;36m<cell line: 1>\u001b[1;34m()\u001b[0m\n\u001b[0;32m     17\u001b[0m X_valid \u001b[38;5;241m=\u001b[39m X[train_n:]\n\u001b[0;32m     18\u001b[0m y_valid \u001b[38;5;241m=\u001b[39m y[train_n:]\n\u001b[1;32m---> 20\u001b[0m \u001b[43mmodel\u001b[49m\u001b[38;5;241;43m.\u001b[39;49m\u001b[43mfit\u001b[49m\u001b[43m(\u001b[49m\u001b[43mX_train\u001b[49m\u001b[43m,\u001b[49m\u001b[43m \u001b[49m\u001b[43my_train\u001b[49m\u001b[43m,\u001b[49m\n\u001b[0;32m     21\u001b[0m \u001b[43m          \u001b[49m\u001b[43mepochs\u001b[49m\u001b[38;5;241;43m=\u001b[39;49m\u001b[38;5;241;43m100\u001b[39;49m\u001b[43m,\u001b[49m\n\u001b[0;32m     22\u001b[0m \u001b[43m          \u001b[49m\u001b[43mvalidation_data\u001b[49m\u001b[38;5;241;43m=\u001b[39;49m\u001b[43m(\u001b[49m\u001b[43mX_valid\u001b[49m\u001b[43m,\u001b[49m\u001b[43m \u001b[49m\u001b[43my_valid\u001b[49m\u001b[43m)\u001b[49m\u001b[43m,\u001b[49m\n\u001b[0;32m     23\u001b[0m \u001b[43m          \u001b[49m\u001b[43mcallbacks\u001b[49m\u001b[38;5;241;43m=\u001b[39;49m\u001b[43mcallbacks_list\u001b[49m\u001b[43m,\u001b[49m\n\u001b[0;32m     24\u001b[0m \u001b[43m          \u001b[49m\u001b[43mverbose\u001b[49m\u001b[38;5;241;43m=\u001b[39;49m\u001b[38;5;241;43m0\u001b[39;49m\u001b[43m,\u001b[49m\n\u001b[0;32m     25\u001b[0m \u001b[43m         \u001b[49m\u001b[43m)\u001b[49m\n\u001b[0;32m     27\u001b[0m y_ \u001b[38;5;241m=\u001b[39m model\u001b[38;5;241m.\u001b[39mpredict(X_valid)\n\u001b[0;32m     28\u001b[0m res_lstm\u001b[38;5;241m.\u001b[39mloc[n_steps, rnn_dim] \u001b[38;5;241m+\u001b[39m\u001b[38;5;241m=\u001b[39m mean_squared_error(y_valid, y_)\n",
      "File \u001b[1;32m~\\anaconda3\\lib\\site-packages\\keras\\utils\\traceback_utils.py:64\u001b[0m, in \u001b[0;36mfilter_traceback.<locals>.error_handler\u001b[1;34m(*args, **kwargs)\u001b[0m\n\u001b[0;32m     62\u001b[0m filtered_tb \u001b[38;5;241m=\u001b[39m \u001b[38;5;28;01mNone\u001b[39;00m\n\u001b[0;32m     63\u001b[0m \u001b[38;5;28;01mtry\u001b[39;00m:\n\u001b[1;32m---> 64\u001b[0m   \u001b[38;5;28;01mreturn\u001b[39;00m \u001b[43mfn\u001b[49m\u001b[43m(\u001b[49m\u001b[38;5;241;43m*\u001b[39;49m\u001b[43margs\u001b[49m\u001b[43m,\u001b[49m\u001b[43m \u001b[49m\u001b[38;5;241;43m*\u001b[39;49m\u001b[38;5;241;43m*\u001b[39;49m\u001b[43mkwargs\u001b[49m\u001b[43m)\u001b[49m\n\u001b[0;32m     65\u001b[0m \u001b[38;5;28;01mexcept\u001b[39;00m \u001b[38;5;167;01mException\u001b[39;00m \u001b[38;5;28;01mas\u001b[39;00m e:  \u001b[38;5;66;03m# pylint: disable=broad-except\u001b[39;00m\n\u001b[0;32m     66\u001b[0m   filtered_tb \u001b[38;5;241m=\u001b[39m _process_traceback_frames(e\u001b[38;5;241m.\u001b[39m__traceback__)\n",
      "File \u001b[1;32m~\\anaconda3\\lib\\site-packages\\keras\\engine\\training.py:1384\u001b[0m, in \u001b[0;36mModel.fit\u001b[1;34m(self, x, y, batch_size, epochs, verbose, callbacks, validation_split, validation_data, shuffle, class_weight, sample_weight, initial_epoch, steps_per_epoch, validation_steps, validation_batch_size, validation_freq, max_queue_size, workers, use_multiprocessing)\u001b[0m\n\u001b[0;32m   1377\u001b[0m \u001b[38;5;28;01mwith\u001b[39;00m tf\u001b[38;5;241m.\u001b[39mprofiler\u001b[38;5;241m.\u001b[39mexperimental\u001b[38;5;241m.\u001b[39mTrace(\n\u001b[0;32m   1378\u001b[0m     \u001b[38;5;124m'\u001b[39m\u001b[38;5;124mtrain\u001b[39m\u001b[38;5;124m'\u001b[39m,\n\u001b[0;32m   1379\u001b[0m     epoch_num\u001b[38;5;241m=\u001b[39mepoch,\n\u001b[0;32m   1380\u001b[0m     step_num\u001b[38;5;241m=\u001b[39mstep,\n\u001b[0;32m   1381\u001b[0m     batch_size\u001b[38;5;241m=\u001b[39mbatch_size,\n\u001b[0;32m   1382\u001b[0m     _r\u001b[38;5;241m=\u001b[39m\u001b[38;5;241m1\u001b[39m):\n\u001b[0;32m   1383\u001b[0m   callbacks\u001b[38;5;241m.\u001b[39mon_train_batch_begin(step)\n\u001b[1;32m-> 1384\u001b[0m   tmp_logs \u001b[38;5;241m=\u001b[39m \u001b[38;5;28;43mself\u001b[39;49m\u001b[38;5;241;43m.\u001b[39;49m\u001b[43mtrain_function\u001b[49m\u001b[43m(\u001b[49m\u001b[43miterator\u001b[49m\u001b[43m)\u001b[49m\n\u001b[0;32m   1385\u001b[0m   \u001b[38;5;28;01mif\u001b[39;00m data_handler\u001b[38;5;241m.\u001b[39mshould_sync:\n\u001b[0;32m   1386\u001b[0m     context\u001b[38;5;241m.\u001b[39masync_wait()\n",
      "File \u001b[1;32m~\\anaconda3\\lib\\site-packages\\tensorflow\\python\\util\\traceback_utils.py:150\u001b[0m, in \u001b[0;36mfilter_traceback.<locals>.error_handler\u001b[1;34m(*args, **kwargs)\u001b[0m\n\u001b[0;32m    148\u001b[0m filtered_tb \u001b[38;5;241m=\u001b[39m \u001b[38;5;28;01mNone\u001b[39;00m\n\u001b[0;32m    149\u001b[0m \u001b[38;5;28;01mtry\u001b[39;00m:\n\u001b[1;32m--> 150\u001b[0m   \u001b[38;5;28;01mreturn\u001b[39;00m \u001b[43mfn\u001b[49m\u001b[43m(\u001b[49m\u001b[38;5;241;43m*\u001b[39;49m\u001b[43margs\u001b[49m\u001b[43m,\u001b[49m\u001b[43m \u001b[49m\u001b[38;5;241;43m*\u001b[39;49m\u001b[38;5;241;43m*\u001b[39;49m\u001b[43mkwargs\u001b[49m\u001b[43m)\u001b[49m\n\u001b[0;32m    151\u001b[0m \u001b[38;5;28;01mexcept\u001b[39;00m \u001b[38;5;167;01mException\u001b[39;00m \u001b[38;5;28;01mas\u001b[39;00m e:\n\u001b[0;32m    152\u001b[0m   filtered_tb \u001b[38;5;241m=\u001b[39m _process_traceback_frames(e\u001b[38;5;241m.\u001b[39m__traceback__)\n",
      "File \u001b[1;32m~\\anaconda3\\lib\\site-packages\\tensorflow\\python\\eager\\def_function.py:915\u001b[0m, in \u001b[0;36mFunction.__call__\u001b[1;34m(self, *args, **kwds)\u001b[0m\n\u001b[0;32m    912\u001b[0m compiler \u001b[38;5;241m=\u001b[39m \u001b[38;5;124m\"\u001b[39m\u001b[38;5;124mxla\u001b[39m\u001b[38;5;124m\"\u001b[39m \u001b[38;5;28;01mif\u001b[39;00m \u001b[38;5;28mself\u001b[39m\u001b[38;5;241m.\u001b[39m_jit_compile \u001b[38;5;28;01melse\u001b[39;00m \u001b[38;5;124m\"\u001b[39m\u001b[38;5;124mnonXla\u001b[39m\u001b[38;5;124m\"\u001b[39m\n\u001b[0;32m    914\u001b[0m \u001b[38;5;28;01mwith\u001b[39;00m OptionalXlaContext(\u001b[38;5;28mself\u001b[39m\u001b[38;5;241m.\u001b[39m_jit_compile):\n\u001b[1;32m--> 915\u001b[0m   result \u001b[38;5;241m=\u001b[39m \u001b[38;5;28;43mself\u001b[39;49m\u001b[38;5;241;43m.\u001b[39;49m\u001b[43m_call\u001b[49m\u001b[43m(\u001b[49m\u001b[38;5;241;43m*\u001b[39;49m\u001b[43margs\u001b[49m\u001b[43m,\u001b[49m\u001b[43m \u001b[49m\u001b[38;5;241;43m*\u001b[39;49m\u001b[38;5;241;43m*\u001b[39;49m\u001b[43mkwds\u001b[49m\u001b[43m)\u001b[49m\n\u001b[0;32m    917\u001b[0m new_tracing_count \u001b[38;5;241m=\u001b[39m \u001b[38;5;28mself\u001b[39m\u001b[38;5;241m.\u001b[39mexperimental_get_tracing_count()\n\u001b[0;32m    918\u001b[0m without_tracing \u001b[38;5;241m=\u001b[39m (tracing_count \u001b[38;5;241m==\u001b[39m new_tracing_count)\n",
      "File \u001b[1;32m~\\anaconda3\\lib\\site-packages\\tensorflow\\python\\eager\\def_function.py:947\u001b[0m, in \u001b[0;36mFunction._call\u001b[1;34m(self, *args, **kwds)\u001b[0m\n\u001b[0;32m    944\u001b[0m   \u001b[38;5;28mself\u001b[39m\u001b[38;5;241m.\u001b[39m_lock\u001b[38;5;241m.\u001b[39mrelease()\n\u001b[0;32m    945\u001b[0m   \u001b[38;5;66;03m# In this case we have created variables on the first call, so we run the\u001b[39;00m\n\u001b[0;32m    946\u001b[0m   \u001b[38;5;66;03m# defunned version which is guaranteed to never create variables.\u001b[39;00m\n\u001b[1;32m--> 947\u001b[0m   \u001b[38;5;28;01mreturn\u001b[39;00m \u001b[38;5;28;43mself\u001b[39;49m\u001b[38;5;241;43m.\u001b[39;49m\u001b[43m_stateless_fn\u001b[49m\u001b[43m(\u001b[49m\u001b[38;5;241;43m*\u001b[39;49m\u001b[43margs\u001b[49m\u001b[43m,\u001b[49m\u001b[43m \u001b[49m\u001b[38;5;241;43m*\u001b[39;49m\u001b[38;5;241;43m*\u001b[39;49m\u001b[43mkwds\u001b[49m\u001b[43m)\u001b[49m  \u001b[38;5;66;03m# pylint: disable=not-callable\u001b[39;00m\n\u001b[0;32m    948\u001b[0m \u001b[38;5;28;01melif\u001b[39;00m \u001b[38;5;28mself\u001b[39m\u001b[38;5;241m.\u001b[39m_stateful_fn \u001b[38;5;129;01mis\u001b[39;00m \u001b[38;5;129;01mnot\u001b[39;00m \u001b[38;5;28;01mNone\u001b[39;00m:\n\u001b[0;32m    949\u001b[0m   \u001b[38;5;66;03m# Release the lock early so that multiple threads can perform the call\u001b[39;00m\n\u001b[0;32m    950\u001b[0m   \u001b[38;5;66;03m# in parallel.\u001b[39;00m\n\u001b[0;32m    951\u001b[0m   \u001b[38;5;28mself\u001b[39m\u001b[38;5;241m.\u001b[39m_lock\u001b[38;5;241m.\u001b[39mrelease()\n",
      "File \u001b[1;32m~\\anaconda3\\lib\\site-packages\\tensorflow\\python\\eager\\function.py:2956\u001b[0m, in \u001b[0;36mFunction.__call__\u001b[1;34m(self, *args, **kwargs)\u001b[0m\n\u001b[0;32m   2953\u001b[0m \u001b[38;5;28;01mwith\u001b[39;00m \u001b[38;5;28mself\u001b[39m\u001b[38;5;241m.\u001b[39m_lock:\n\u001b[0;32m   2954\u001b[0m   (graph_function,\n\u001b[0;32m   2955\u001b[0m    filtered_flat_args) \u001b[38;5;241m=\u001b[39m \u001b[38;5;28mself\u001b[39m\u001b[38;5;241m.\u001b[39m_maybe_define_function(args, kwargs)\n\u001b[1;32m-> 2956\u001b[0m \u001b[38;5;28;01mreturn\u001b[39;00m \u001b[43mgraph_function\u001b[49m\u001b[38;5;241;43m.\u001b[39;49m\u001b[43m_call_flat\u001b[49m\u001b[43m(\u001b[49m\n\u001b[0;32m   2957\u001b[0m \u001b[43m    \u001b[49m\u001b[43mfiltered_flat_args\u001b[49m\u001b[43m,\u001b[49m\u001b[43m \u001b[49m\u001b[43mcaptured_inputs\u001b[49m\u001b[38;5;241;43m=\u001b[39;49m\u001b[43mgraph_function\u001b[49m\u001b[38;5;241;43m.\u001b[39;49m\u001b[43mcaptured_inputs\u001b[49m\u001b[43m)\u001b[49m\n",
      "File \u001b[1;32m~\\anaconda3\\lib\\site-packages\\tensorflow\\python\\eager\\function.py:1853\u001b[0m, in \u001b[0;36mConcreteFunction._call_flat\u001b[1;34m(self, args, captured_inputs, cancellation_manager)\u001b[0m\n\u001b[0;32m   1849\u001b[0m possible_gradient_type \u001b[38;5;241m=\u001b[39m gradients_util\u001b[38;5;241m.\u001b[39mPossibleTapeGradientTypes(args)\n\u001b[0;32m   1850\u001b[0m \u001b[38;5;28;01mif\u001b[39;00m (possible_gradient_type \u001b[38;5;241m==\u001b[39m gradients_util\u001b[38;5;241m.\u001b[39mPOSSIBLE_GRADIENT_TYPES_NONE\n\u001b[0;32m   1851\u001b[0m     \u001b[38;5;129;01mand\u001b[39;00m executing_eagerly):\n\u001b[0;32m   1852\u001b[0m   \u001b[38;5;66;03m# No tape is watching; skip to running the function.\u001b[39;00m\n\u001b[1;32m-> 1853\u001b[0m   \u001b[38;5;28;01mreturn\u001b[39;00m \u001b[38;5;28mself\u001b[39m\u001b[38;5;241m.\u001b[39m_build_call_outputs(\u001b[38;5;28;43mself\u001b[39;49m\u001b[38;5;241;43m.\u001b[39;49m\u001b[43m_inference_function\u001b[49m\u001b[38;5;241;43m.\u001b[39;49m\u001b[43mcall\u001b[49m\u001b[43m(\u001b[49m\n\u001b[0;32m   1854\u001b[0m \u001b[43m      \u001b[49m\u001b[43mctx\u001b[49m\u001b[43m,\u001b[49m\u001b[43m \u001b[49m\u001b[43margs\u001b[49m\u001b[43m,\u001b[49m\u001b[43m \u001b[49m\u001b[43mcancellation_manager\u001b[49m\u001b[38;5;241;43m=\u001b[39;49m\u001b[43mcancellation_manager\u001b[49m\u001b[43m)\u001b[49m)\n\u001b[0;32m   1855\u001b[0m forward_backward \u001b[38;5;241m=\u001b[39m \u001b[38;5;28mself\u001b[39m\u001b[38;5;241m.\u001b[39m_select_forward_and_backward_functions(\n\u001b[0;32m   1856\u001b[0m     args,\n\u001b[0;32m   1857\u001b[0m     possible_gradient_type,\n\u001b[0;32m   1858\u001b[0m     executing_eagerly)\n\u001b[0;32m   1859\u001b[0m forward_function, args_with_tangents \u001b[38;5;241m=\u001b[39m forward_backward\u001b[38;5;241m.\u001b[39mforward()\n",
      "File \u001b[1;32m~\\anaconda3\\lib\\site-packages\\tensorflow\\python\\eager\\function.py:499\u001b[0m, in \u001b[0;36m_EagerDefinedFunction.call\u001b[1;34m(self, ctx, args, cancellation_manager)\u001b[0m\n\u001b[0;32m    497\u001b[0m \u001b[38;5;28;01mwith\u001b[39;00m _InterpolateFunctionError(\u001b[38;5;28mself\u001b[39m):\n\u001b[0;32m    498\u001b[0m   \u001b[38;5;28;01mif\u001b[39;00m cancellation_manager \u001b[38;5;129;01mis\u001b[39;00m \u001b[38;5;28;01mNone\u001b[39;00m:\n\u001b[1;32m--> 499\u001b[0m     outputs \u001b[38;5;241m=\u001b[39m \u001b[43mexecute\u001b[49m\u001b[38;5;241;43m.\u001b[39;49m\u001b[43mexecute\u001b[49m\u001b[43m(\u001b[49m\n\u001b[0;32m    500\u001b[0m \u001b[43m        \u001b[49m\u001b[38;5;28;43mstr\u001b[39;49m\u001b[43m(\u001b[49m\u001b[38;5;28;43mself\u001b[39;49m\u001b[38;5;241;43m.\u001b[39;49m\u001b[43msignature\u001b[49m\u001b[38;5;241;43m.\u001b[39;49m\u001b[43mname\u001b[49m\u001b[43m)\u001b[49m\u001b[43m,\u001b[49m\n\u001b[0;32m    501\u001b[0m \u001b[43m        \u001b[49m\u001b[43mnum_outputs\u001b[49m\u001b[38;5;241;43m=\u001b[39;49m\u001b[38;5;28;43mself\u001b[39;49m\u001b[38;5;241;43m.\u001b[39;49m\u001b[43m_num_outputs\u001b[49m\u001b[43m,\u001b[49m\n\u001b[0;32m    502\u001b[0m \u001b[43m        \u001b[49m\u001b[43minputs\u001b[49m\u001b[38;5;241;43m=\u001b[39;49m\u001b[43margs\u001b[49m\u001b[43m,\u001b[49m\n\u001b[0;32m    503\u001b[0m \u001b[43m        \u001b[49m\u001b[43mattrs\u001b[49m\u001b[38;5;241;43m=\u001b[39;49m\u001b[43mattrs\u001b[49m\u001b[43m,\u001b[49m\n\u001b[0;32m    504\u001b[0m \u001b[43m        \u001b[49m\u001b[43mctx\u001b[49m\u001b[38;5;241;43m=\u001b[39;49m\u001b[43mctx\u001b[49m\u001b[43m)\u001b[49m\n\u001b[0;32m    505\u001b[0m   \u001b[38;5;28;01melse\u001b[39;00m:\n\u001b[0;32m    506\u001b[0m     outputs \u001b[38;5;241m=\u001b[39m execute\u001b[38;5;241m.\u001b[39mexecute_with_cancellation(\n\u001b[0;32m    507\u001b[0m         \u001b[38;5;28mstr\u001b[39m(\u001b[38;5;28mself\u001b[39m\u001b[38;5;241m.\u001b[39msignature\u001b[38;5;241m.\u001b[39mname),\n\u001b[0;32m    508\u001b[0m         num_outputs\u001b[38;5;241m=\u001b[39m\u001b[38;5;28mself\u001b[39m\u001b[38;5;241m.\u001b[39m_num_outputs,\n\u001b[1;32m   (...)\u001b[0m\n\u001b[0;32m    511\u001b[0m         ctx\u001b[38;5;241m=\u001b[39mctx,\n\u001b[0;32m    512\u001b[0m         cancellation_manager\u001b[38;5;241m=\u001b[39mcancellation_manager)\n",
      "File \u001b[1;32m~\\anaconda3\\lib\\site-packages\\tensorflow\\python\\eager\\execute.py:54\u001b[0m, in \u001b[0;36mquick_execute\u001b[1;34m(op_name, num_outputs, inputs, attrs, ctx, name)\u001b[0m\n\u001b[0;32m     52\u001b[0m \u001b[38;5;28;01mtry\u001b[39;00m:\n\u001b[0;32m     53\u001b[0m   ctx\u001b[38;5;241m.\u001b[39mensure_initialized()\n\u001b[1;32m---> 54\u001b[0m   tensors \u001b[38;5;241m=\u001b[39m \u001b[43mpywrap_tfe\u001b[49m\u001b[38;5;241;43m.\u001b[39;49m\u001b[43mTFE_Py_Execute\u001b[49m\u001b[43m(\u001b[49m\u001b[43mctx\u001b[49m\u001b[38;5;241;43m.\u001b[39;49m\u001b[43m_handle\u001b[49m\u001b[43m,\u001b[49m\u001b[43m \u001b[49m\u001b[43mdevice_name\u001b[49m\u001b[43m,\u001b[49m\u001b[43m \u001b[49m\u001b[43mop_name\u001b[49m\u001b[43m,\u001b[49m\n\u001b[0;32m     55\u001b[0m \u001b[43m                                      \u001b[49m\u001b[43minputs\u001b[49m\u001b[43m,\u001b[49m\u001b[43m \u001b[49m\u001b[43mattrs\u001b[49m\u001b[43m,\u001b[49m\u001b[43m \u001b[49m\u001b[43mnum_outputs\u001b[49m\u001b[43m)\u001b[49m\n\u001b[0;32m     56\u001b[0m \u001b[38;5;28;01mexcept\u001b[39;00m core\u001b[38;5;241m.\u001b[39m_NotOkStatusException \u001b[38;5;28;01mas\u001b[39;00m e:\n\u001b[0;32m     57\u001b[0m   \u001b[38;5;28;01mif\u001b[39;00m name \u001b[38;5;129;01mis\u001b[39;00m \u001b[38;5;129;01mnot\u001b[39;00m \u001b[38;5;28;01mNone\u001b[39;00m:\n",
      "\u001b[1;31mKeyboardInterrupt\u001b[0m: "
     ]
    }
   ],
   "source": [
    "for n_steps in tqdm([2, 4, 8, 16, 32]):\n",
    "    for rnn_dim in tqdm([32, 64, 128, 256]):\n",
    "        res_lstm.loc[n_steps, rnn_dim] = 0.0\n",
    "        clear_session()\n",
    "        set_random_seed(SEED)\n",
    "        model = Sequential()\n",
    "        model.add(LSTM(rnn_dim, activation='relu', return_sequences=True, input_shape=(n_steps, n_features)))\n",
    "        model.add(LSTM(rnn_dim, activation='relu'))\n",
    "        model.add(Dense(n_features))\n",
    "        model.compile(optimizer='adam', loss='mse', metrics=['mse', 'mae'])\n",
    "        for train, _, _ in ds.train_generator():\n",
    "            X, y = split_sequences(scaler.transform(train), n_steps)\n",
    "\n",
    "            train_n = round(X.shape[0] * (1 - valid_size))\n",
    "            X_train = X[:train_n]\n",
    "            y_train= y[:train_n]\n",
    "            X_valid = X[train_n:]\n",
    "            y_valid = y[train_n:]\n",
    "\n",
    "            model.fit(X_train, y_train,\n",
    "                      epochs=100,\n",
    "                      validation_data=(X_valid, y_valid),\n",
    "                      callbacks=callbacks_list,\n",
    "                      verbose=0,\n",
    "                     )\n",
    "\n",
    "            y_ = model.predict(X_valid)\n",
    "            res_lstm.loc[n_steps, rnn_dim] += mean_squared_error(y_valid, y_)\n",
    "res_lstm /= len(ds.train_generator())"
   ]
  },
  {
   "cell_type": "code",
   "execution_count": 19,
   "id": "3a0b15d8",
   "metadata": {
    "ExecuteTime": {
     "end_time": "2022-09-14T09:32:41.180251Z",
     "start_time": "2022-09-14T09:32:41.157007Z"
    }
   },
   "outputs": [
    {
     "data": {
      "text/html": [
       "<div>\n",
       "<style scoped>\n",
       "    .dataframe tbody tr th:only-of-type {\n",
       "        vertical-align: middle;\n",
       "    }\n",
       "\n",
       "    .dataframe tbody tr th {\n",
       "        vertical-align: top;\n",
       "    }\n",
       "\n",
       "    .dataframe thead th {\n",
       "        text-align: right;\n",
       "    }\n",
       "</style>\n",
       "<table border=\"1\" class=\"dataframe\">\n",
       "  <thead>\n",
       "    <tr style=\"text-align: right;\">\n",
       "      <th></th>\n",
       "      <th>32</th>\n",
       "      <th>64</th>\n",
       "      <th>128</th>\n",
       "      <th>256</th>\n",
       "    </tr>\n",
       "  </thead>\n",
       "  <tbody>\n",
       "    <tr>\n",
       "      <th>2</th>\n",
       "      <td>0.012669</td>\n",
       "      <td>0.012288</td>\n",
       "      <td>0.011401</td>\n",
       "      <td>0.011616</td>\n",
       "    </tr>\n",
       "    <tr>\n",
       "      <th>4</th>\n",
       "      <td>0.012579</td>\n",
       "      <td>0.011175</td>\n",
       "      <td>NaN</td>\n",
       "      <td>NaN</td>\n",
       "    </tr>\n",
       "  </tbody>\n",
       "</table>\n",
       "</div>"
      ],
      "text/plain": [
       "        32        64        128       256\n",
       "2  0.012669  0.012288  0.011401  0.011616\n",
       "4  0.012579  0.011175       NaN       NaN"
      ]
     },
     "execution_count": 19,
     "metadata": {},
     "output_type": "execute_result"
    }
   ],
   "source": [
    "res_lstm"
   ]
  },
  {
   "cell_type": "code",
   "execution_count": 20,
   "id": "efdb842f",
   "metadata": {
    "ExecuteTime": {
     "end_time": "2022-09-14T09:32:41.923774Z",
     "start_time": "2022-09-14T09:32:41.903403Z"
    }
   },
   "outputs": [
    {
     "data": {
      "text/plain": [
       "32     0.012624\n",
       "64     0.011731\n",
       "128    0.011401\n",
       "256    0.011616\n",
       "dtype: float64"
      ]
     },
     "execution_count": 20,
     "metadata": {},
     "output_type": "execute_result"
    }
   ],
   "source": [
    "res_lstm.mean(axis=0)"
   ]
  },
  {
   "cell_type": "code",
   "execution_count": 21,
   "id": "191c35c8",
   "metadata": {
    "ExecuteTime": {
     "end_time": "2022-09-14T09:32:42.740575Z",
     "start_time": "2022-09-14T09:32:42.718480Z"
    }
   },
   "outputs": [
    {
     "data": {
      "text/plain": [
       "2    0.011994\n",
       "4    0.011877\n",
       "dtype: float64"
      ]
     },
     "execution_count": 21,
     "metadata": {},
     "output_type": "execute_result"
    }
   ],
   "source": [
    "res_lstm.mean(axis=1)"
   ]
  },
  {
   "cell_type": "markdown",
   "id": "1c1ed04b",
   "metadata": {},
   "source": [
    "# GRU"
   ]
  },
  {
   "cell_type": "code",
   "execution_count": null,
   "id": "60ec5906",
   "metadata": {
    "ExecuteTime": {
     "end_time": "2022-09-14T09:32:20.659995Z",
     "start_time": "2022-09-14T09:32:20.659995Z"
    }
   },
   "outputs": [],
   "source": [
    "res_gru = pd.DataFrame(dtype='float')"
   ]
  },
  {
   "cell_type": "code",
   "execution_count": null,
   "id": "6be262cb",
   "metadata": {
    "ExecuteTime": {
     "end_time": "2022-09-14T09:32:20.664816Z",
     "start_time": "2022-09-14T09:32:20.664816Z"
    }
   },
   "outputs": [],
   "source": [
    "checkpoint = ModelCheckpoint('best_tep2_gru.hdf5',\n",
    "                             monitor='val_mse', \n",
    "                             verbose=0, \n",
    "                             mode='min',\n",
    "                             save_best_only = True,\n",
    "                            )\n",
    "\n",
    "earlystop = EarlyStopping(monitor='val_mse',\n",
    "                          patience=2,\n",
    "                          min_delta = 0.001,\n",
    "                          restore_best_weights=True,\n",
    "                          verbose=0,\n",
    "                         )\n",
    "\n",
    "callbacks_list = [checkpoint, earlystop]"
   ]
  },
  {
   "cell_type": "code",
   "execution_count": null,
   "id": "f11529c8",
   "metadata": {
    "ExecuteTime": {
     "end_time": "2022-09-14T09:32:20.668236Z",
     "start_time": "2022-09-14T09:32:20.668236Z"
    }
   },
   "outputs": [],
   "source": [
    "for n_steps in tqdm([2, 4, 8, 16, 32]):\n",
    "    for rnn_dim in tqdm([32, 64, 128, 256]):\n",
    "        res_gru.loc[n_steps, rnn_dim] = 0.0\n",
    "        clear_session()\n",
    "        set_random_seed(SEED)\n",
    "        model = Sequential()\n",
    "        model.add(GRU(rnn_dim, activation='relu', return_sequences=True, input_shape=(n_steps, n_features)))\n",
    "        model.add(GRU(rnn_dim, activation='relu'))\n",
    "        model.add(Dense(n_features))\n",
    "        model.compile(optimizer='adam', loss='mse', metrics=['mse', 'mae'])\n",
    "        for train, _, _ in ds.train_generator():\n",
    "            X, y = split_sequences(scaler.transform(train), n_steps)\n",
    "\n",
    "            train_n = round(X.shape[0] * (1 - valid_size))\n",
    "            X_train = X[:train_n]\n",
    "            y_train= y[:train_n]\n",
    "            X_valid = X[train_n:]\n",
    "            y_valid = y[train_n:]\n",
    "\n",
    "            model.fit(X_train, y_train,\n",
    "                      epochs=100,\n",
    "                      validation_data=(X_valid, y_valid),\n",
    "                      callbacks=callbacks_list,\n",
    "                      verbose=0,\n",
    "                     )\n",
    "\n",
    "            y_ = model.predict(X_valid)\n",
    "            res_gru.loc[n_steps, rnn_dim] += mean_squared_error(y_valid, y_)\n",
    "res_gru /= len(ds.train_generator())"
   ]
  },
  {
   "cell_type": "code",
   "execution_count": null,
   "id": "4e1ab28c",
   "metadata": {
    "ExecuteTime": {
     "end_time": "2022-09-14T09:32:20.670994Z",
     "start_time": "2022-09-14T09:32:20.670994Z"
    }
   },
   "outputs": [],
   "source": [
    "res_gru"
   ]
  },
  {
   "cell_type": "code",
   "execution_count": null,
   "id": "38445309",
   "metadata": {
    "ExecuteTime": {
     "end_time": "2022-09-14T09:32:20.674069Z",
     "start_time": "2022-09-14T09:32:20.674069Z"
    }
   },
   "outputs": [],
   "source": [
    "res_gru.mean(axis=0)"
   ]
  },
  {
   "cell_type": "code",
   "execution_count": null,
   "id": "79acd672",
   "metadata": {
    "ExecuteTime": {
     "end_time": "2022-09-14T09:32:20.678205Z",
     "start_time": "2022-09-14T09:32:20.678205Z"
    }
   },
   "outputs": [],
   "source": [
    "res_gru.mean(axis=0)"
   ]
  }
 ],
 "metadata": {
  "kernelspec": {
   "display_name": "Python 3 (ipykernel)",
   "language": "python",
   "name": "python3"
  },
  "language_info": {
   "codemirror_mode": {
    "name": "ipython",
    "version": 3
   },
   "file_extension": ".py",
   "mimetype": "text/x-python",
   "name": "python",
   "nbconvert_exporter": "python",
   "pygments_lexer": "ipython3",
   "version": "3.8.8"
  },
  "toc": {
   "base_numbering": 1,
   "nav_menu": {},
   "number_sections": true,
   "sideBar": true,
   "skip_h1_title": false,
   "title_cell": "Table of Contents",
   "title_sidebar": "Contents",
   "toc_cell": false,
   "toc_position": {},
   "toc_section_display": true,
   "toc_window_display": false
  }
 },
 "nbformat": 4,
 "nbformat_minor": 5
}
