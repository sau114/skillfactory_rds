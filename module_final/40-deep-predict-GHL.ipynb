{
 "cells": [
  {
   "cell_type": "code",
   "execution_count": 1,
   "id": "6f3c87cb",
   "metadata": {
    "ExecuteTime": {
     "end_time": "2022-09-13T21:37:15.191354Z",
     "start_time": "2022-09-13T21:37:15.130178Z"
    }
   },
   "outputs": [],
   "source": [
    "!del /Q utils\\__pycache__"
   ]
  },
  {
   "cell_type": "code",
   "execution_count": 2,
   "id": "752d811d",
   "metadata": {
    "ExecuteTime": {
     "end_time": "2022-09-13T21:37:16.085641Z",
     "start_time": "2022-09-13T21:37:15.194188Z"
    }
   },
   "outputs": [],
   "source": [
    "import numpy as np\n",
    "import pandas as pd\n",
    "from tqdm.notebook import tqdm"
   ]
  },
  {
   "cell_type": "code",
   "execution_count": 3,
   "id": "04ddc3a0",
   "metadata": {
    "ExecuteTime": {
     "end_time": "2022-09-13T21:37:16.133472Z",
     "start_time": "2022-09-13T21:37:16.089473Z"
    }
   },
   "outputs": [],
   "source": [
    "from utils.datasets import GhlKasperskyDataset, TepHarvardDataset, TepKasperskyDataset, SwatItrustDataset\n",
    "from utils.custom_plots import plot_stacked\n",
    "from utils.metrics import time_span_metrics"
   ]
  },
  {
   "cell_type": "code",
   "execution_count": 4,
   "id": "e1900968",
   "metadata": {
    "ExecuteTime": {
     "end_time": "2022-09-13T21:37:16.929042Z",
     "start_time": "2022-09-13T21:37:16.137472Z"
    }
   },
   "outputs": [],
   "source": [
    "from sklearn.metrics import mean_squared_error"
   ]
  },
  {
   "cell_type": "markdown",
   "id": "b78da385",
   "metadata": {},
   "source": [
    "# Data"
   ]
  },
  {
   "cell_type": "code",
   "execution_count": 5,
   "id": "20f8f04b",
   "metadata": {
    "ExecuteTime": {
     "end_time": "2022-09-13T21:37:16.944146Z",
     "start_time": "2022-09-13T21:37:16.932606Z"
    }
   },
   "outputs": [],
   "source": [
    "ds = GhlKasperskyDataset()\n",
    "ds.shake_not_stir()"
   ]
  },
  {
   "cell_type": "code",
   "execution_count": 6,
   "id": "abb29ad1",
   "metadata": {
    "ExecuteTime": {
     "end_time": "2022-09-13T21:37:17.346858Z",
     "start_time": "2022-09-13T21:37:16.947033Z"
    }
   },
   "outputs": [],
   "source": [
    "train, _, _ = next(ds.train_generator())\n",
    "valid, _, _ = next(ds.valid_generator())"
   ]
  },
  {
   "cell_type": "code",
   "execution_count": 7,
   "id": "0a79bd82",
   "metadata": {
    "ExecuteTime": {
     "end_time": "2022-09-13T21:37:17.362440Z",
     "start_time": "2022-09-13T21:37:17.350691Z"
    }
   },
   "outputs": [],
   "source": [
    "from sklearn.preprocessing import StandardScaler"
   ]
  },
  {
   "cell_type": "code",
   "execution_count": 8,
   "id": "c2bdd732",
   "metadata": {
    "ExecuteTime": {
     "end_time": "2022-09-13T21:37:17.394361Z",
     "start_time": "2022-09-13T21:37:17.364424Z"
    }
   },
   "outputs": [],
   "source": [
    "scaler = StandardScaler()\n",
    "for data, _, _ in ds.train_generator():\n",
    "    scaler.partial_fit(data)"
   ]
  },
  {
   "cell_type": "code",
   "execution_count": 9,
   "id": "e7f66466",
   "metadata": {
    "ExecuteTime": {
     "end_time": "2022-09-13T21:37:17.409492Z",
     "start_time": "2022-09-13T21:37:17.398369Z"
    }
   },
   "outputs": [],
   "source": [
    "SEED = 7145"
   ]
  },
  {
   "cell_type": "markdown",
   "id": "107f1358",
   "metadata": {},
   "source": [
    "# LSTM"
   ]
  },
  {
   "cell_type": "code",
   "execution_count": 10,
   "id": "11c2281f",
   "metadata": {
    "ExecuteTime": {
     "end_time": "2022-09-13T21:37:21.384608Z",
     "start_time": "2022-09-13T21:37:17.412615Z"
    }
   },
   "outputs": [],
   "source": [
    "from tensorflow.keras.models import Sequential\n",
    "from tensorflow.keras.layers import Dense, LSTM, GRU, Conv1D, ConvLSTM1D\n",
    "from tensorflow.keras.backend import clear_session\n",
    "from tensorflow.keras.callbacks import EarlyStopping, ModelCheckpoint\n",
    "from tensorflow.keras.utils import set_random_seed"
   ]
  },
  {
   "cell_type": "code",
   "execution_count": 11,
   "id": "5a0660ef",
   "metadata": {
    "ExecuteTime": {
     "end_time": "2022-09-13T21:37:21.480524Z",
     "start_time": "2022-09-13T21:37:21.385573Z"
    }
   },
   "outputs": [],
   "source": [
    "# split a multivariate sequence into samples\n",
    "def split_sequences(sequences, n_steps):\n",
    "    X, y = list(), list()\n",
    "    for i in range(len(sequences)):\n",
    "        # find the end of this pattern\n",
    "        end_ix = i + n_steps\n",
    "        # check if we are beyond the dataset\n",
    "        if end_ix > len(sequences)-1:\n",
    "            break\n",
    "        # gather input and output parts of the pattern\n",
    "        seq_x, seq_y = sequences[i:end_ix, :], sequences[end_ix, :]\n",
    "        X.append(seq_x)\n",
    "        y.append(seq_y)\n",
    "    return np.array(X), np.array(y)"
   ]
  },
  {
   "cell_type": "code",
   "execution_count": 12,
   "id": "632864ff",
   "metadata": {
    "ExecuteTime": {
     "end_time": "2022-09-13T21:37:21.495518Z",
     "start_time": "2022-09-13T21:37:21.483431Z"
    }
   },
   "outputs": [],
   "source": [
    "n_features = train.shape[1]\n",
    "valid_size = 0.2\n",
    "res_lstm = pd.DataFrame(dtype='float')"
   ]
  },
  {
   "cell_type": "code",
   "execution_count": 13,
   "id": "67c0c5da",
   "metadata": {
    "ExecuteTime": {
     "end_time": "2022-09-13T21:37:21.510557Z",
     "start_time": "2022-09-13T21:37:21.498522Z"
    }
   },
   "outputs": [],
   "source": [
    "checkpoint = ModelCheckpoint('best_ghl_lstm.hdf5',\n",
    "                             monitor='val_mse', \n",
    "                             verbose=0, \n",
    "                             mode='min',\n",
    "                             save_best_only = True,\n",
    "                            )\n",
    "\n",
    "earlystop = EarlyStopping(monitor='val_mse',\n",
    "                          patience=2,\n",
    "                          min_delta = 0.001,\n",
    "                          restore_best_weights=True,\n",
    "                          verbose=0,\n",
    "                         )\n",
    "\n",
    "callbacks_list = [checkpoint, earlystop]"
   ]
  },
  {
   "cell_type": "code",
   "execution_count": 14,
   "id": "4a0c2f3d",
   "metadata": {
    "ExecuteTime": {
     "end_time": "2022-09-13T22:07:44.284399Z",
     "start_time": "2022-09-13T21:37:21.512524Z"
    },
    "scrolled": true
   },
   "outputs": [
    {
     "data": {
      "application/vnd.jupyter.widget-view+json": {
       "model_id": "71dba8c1f19c4a39900cac1b8fc490b8",
       "version_major": 2,
       "version_minor": 0
      },
      "text/plain": [
       "  0%|          | 0/5 [00:00<?, ?it/s]"
      ]
     },
     "metadata": {},
     "output_type": "display_data"
    },
    {
     "data": {
      "application/vnd.jupyter.widget-view+json": {
       "model_id": "6144561cf61a4c7abda5dd5d466511c9",
       "version_major": 2,
       "version_minor": 0
      },
      "text/plain": [
       "  0%|          | 0/3 [00:00<?, ?it/s]"
      ]
     },
     "metadata": {},
     "output_type": "display_data"
    },
    {
     "data": {
      "application/vnd.jupyter.widget-view+json": {
       "model_id": "ea2acdec8a174540a208ad0af8a9f897",
       "version_major": 2,
       "version_minor": 0
      },
      "text/plain": [
       "  0%|          | 0/3 [00:00<?, ?it/s]"
      ]
     },
     "metadata": {},
     "output_type": "display_data"
    },
    {
     "data": {
      "application/vnd.jupyter.widget-view+json": {
       "model_id": "2b98f0f05c75480daf86de529f905b0e",
       "version_major": 2,
       "version_minor": 0
      },
      "text/plain": [
       "  0%|          | 0/3 [00:00<?, ?it/s]"
      ]
     },
     "metadata": {},
     "output_type": "display_data"
    },
    {
     "data": {
      "application/vnd.jupyter.widget-view+json": {
       "model_id": "8521f3adcbe84f3c86d1637506049d6f",
       "version_major": 2,
       "version_minor": 0
      },
      "text/plain": [
       "  0%|          | 0/3 [00:00<?, ?it/s]"
      ]
     },
     "metadata": {},
     "output_type": "display_data"
    },
    {
     "data": {
      "application/vnd.jupyter.widget-view+json": {
       "model_id": "d41aec9850974da2886848ea3fdb5a37",
       "version_major": 2,
       "version_minor": 0
      },
      "text/plain": [
       "  0%|          | 0/3 [00:00<?, ?it/s]"
      ]
     },
     "metadata": {},
     "output_type": "display_data"
    }
   ],
   "source": [
    "for n_steps in tqdm([2, 4, 8, 16, 32]):\n",
    "    for rnn_dim in tqdm([32, 64, 128, 256]):\n",
    "        X, y = split_sequences(scaler.transform(train), n_steps)\n",
    "        \n",
    "        train_n = round(X.shape[0] * (1 - valid_size))\n",
    "        X_train = X[:train_n]\n",
    "        y_train= y[:train_n]\n",
    "        X_valid = X[train_n:]\n",
    "        y_valid = y[train_n:]\n",
    "\n",
    "        clear_session()\n",
    "        set_random_seed(SEED)\n",
    "        model = Sequential()\n",
    "        model.add(LSTM(rnn_dim, activation='relu', return_sequences=True, input_shape=(n_steps, n_features)))\n",
    "        model.add(LSTM(rnn_dim, activation='relu'))\n",
    "        model.add(Dense(n_features))\n",
    "        model.compile(optimizer='adam', loss='mse', metrics=['mse', 'mae'])\n",
    "        model.fit(X_train, y_train,\n",
    "                  epochs=100,\n",
    "                  validation_data=(X_valid, y_valid),\n",
    "                  callbacks=callbacks_list,\n",
    "                  verbose=0,\n",
    "                 )\n",
    "        \n",
    "        y_ = model.predict(X_valid)\n",
    "        res_lstm.loc[n_steps, rnn_dim] = mean_squared_error(y_valid, y_)"
   ]
  },
  {
   "cell_type": "code",
   "execution_count": 15,
   "id": "5fc10832",
   "metadata": {
    "ExecuteTime": {
     "end_time": "2022-09-13T22:07:44.330561Z",
     "start_time": "2022-09-13T22:07:44.287925Z"
    }
   },
   "outputs": [
    {
     "data": {
      "text/html": [
       "<div>\n",
       "<style scoped>\n",
       "    .dataframe tbody tr th:only-of-type {\n",
       "        vertical-align: middle;\n",
       "    }\n",
       "\n",
       "    .dataframe tbody tr th {\n",
       "        vertical-align: top;\n",
       "    }\n",
       "\n",
       "    .dataframe thead th {\n",
       "        text-align: right;\n",
       "    }\n",
       "</style>\n",
       "<table border=\"1\" class=\"dataframe\">\n",
       "  <thead>\n",
       "    <tr style=\"text-align: right;\">\n",
       "      <th></th>\n",
       "      <th>32</th>\n",
       "      <th>64</th>\n",
       "      <th>128</th>\n",
       "    </tr>\n",
       "  </thead>\n",
       "  <tbody>\n",
       "    <tr>\n",
       "      <th>2</th>\n",
       "      <td>0.116756</td>\n",
       "      <td>0.101350</td>\n",
       "      <td>0.121519</td>\n",
       "    </tr>\n",
       "    <tr>\n",
       "      <th>4</th>\n",
       "      <td>0.133456</td>\n",
       "      <td>0.106358</td>\n",
       "      <td>0.118350</td>\n",
       "    </tr>\n",
       "    <tr>\n",
       "      <th>8</th>\n",
       "      <td>0.117916</td>\n",
       "      <td>0.120674</td>\n",
       "      <td>0.126802</td>\n",
       "    </tr>\n",
       "    <tr>\n",
       "      <th>16</th>\n",
       "      <td>0.136642</td>\n",
       "      <td>0.134246</td>\n",
       "      <td>0.110592</td>\n",
       "    </tr>\n",
       "    <tr>\n",
       "      <th>32</th>\n",
       "      <td>0.166581</td>\n",
       "      <td>0.135608</td>\n",
       "      <td>0.130117</td>\n",
       "    </tr>\n",
       "  </tbody>\n",
       "</table>\n",
       "</div>"
      ],
      "text/plain": [
       "         32        64        128\n",
       "2   0.116756  0.101350  0.121519\n",
       "4   0.133456  0.106358  0.118350\n",
       "8   0.117916  0.120674  0.126802\n",
       "16  0.136642  0.134246  0.110592\n",
       "32  0.166581  0.135608  0.130117"
      ]
     },
     "execution_count": 15,
     "metadata": {},
     "output_type": "execute_result"
    }
   ],
   "source": [
    "res_lstm"
   ]
  },
  {
   "cell_type": "code",
   "execution_count": 16,
   "id": "a2752679",
   "metadata": {
    "ExecuteTime": {
     "end_time": "2022-09-13T22:07:44.407218Z",
     "start_time": "2022-09-13T22:07:44.330561Z"
    }
   },
   "outputs": [
    {
     "data": {
      "text/plain": [
       "32     0.134270\n",
       "64     0.119647\n",
       "128    0.121476\n",
       "dtype: float64"
      ]
     },
     "execution_count": 16,
     "metadata": {},
     "output_type": "execute_result"
    }
   ],
   "source": [
    "res_lstm.mean(axis=0)"
   ]
  },
  {
   "cell_type": "code",
   "execution_count": 17,
   "id": "590e6ef9",
   "metadata": {
    "ExecuteTime": {
     "end_time": "2022-09-13T22:07:44.429571Z",
     "start_time": "2022-09-13T22:07:44.412806Z"
    }
   },
   "outputs": [
    {
     "data": {
      "text/plain": [
       "2     0.113209\n",
       "4     0.119388\n",
       "8     0.121797\n",
       "16    0.127160\n",
       "32    0.144102\n",
       "dtype: float64"
      ]
     },
     "execution_count": 17,
     "metadata": {},
     "output_type": "execute_result"
    }
   ],
   "source": [
    "res_lstm.mean(axis=1)"
   ]
  },
  {
   "cell_type": "markdown",
   "id": "b272bc4f",
   "metadata": {},
   "source": [
    "# GRU"
   ]
  },
  {
   "cell_type": "code",
   "execution_count": 18,
   "id": "af067cf5",
   "metadata": {
    "ExecuteTime": {
     "end_time": "2022-09-13T22:07:44.444999Z",
     "start_time": "2022-09-13T22:07:44.433450Z"
    }
   },
   "outputs": [],
   "source": [
    "res_gru = pd.DataFrame(dtype='float')"
   ]
  },
  {
   "cell_type": "code",
   "execution_count": 19,
   "id": "975e4674",
   "metadata": {
    "ExecuteTime": {
     "end_time": "2022-09-13T22:07:44.460275Z",
     "start_time": "2022-09-13T22:07:44.449455Z"
    }
   },
   "outputs": [],
   "source": [
    "checkpoint = ModelCheckpoint('best_ghl_gru.hdf5',\n",
    "                             monitor='val_mse', \n",
    "                             verbose=0, \n",
    "                             mode='min',\n",
    "                             save_best_only = True,\n",
    "                            )\n",
    "\n",
    "earlystop = EarlyStopping(monitor='val_mse',\n",
    "                          patience=2,\n",
    "                          min_delta = 0.001,\n",
    "                          restore_best_weights=True,\n",
    "                          verbose=0,\n",
    "                         )\n",
    "\n",
    "callbacks_list = [checkpoint, earlystop]"
   ]
  },
  {
   "cell_type": "code",
   "execution_count": 20,
   "id": "21fd2a35",
   "metadata": {
    "ExecuteTime": {
     "end_time": "2022-09-13T22:44:41.858510Z",
     "start_time": "2022-09-13T22:07:44.463746Z"
    }
   },
   "outputs": [
    {
     "data": {
      "application/vnd.jupyter.widget-view+json": {
       "model_id": "4283ef69a5de4e42a76f79f7379362db",
       "version_major": 2,
       "version_minor": 0
      },
      "text/plain": [
       "  0%|          | 0/5 [00:00<?, ?it/s]"
      ]
     },
     "metadata": {},
     "output_type": "display_data"
    },
    {
     "data": {
      "application/vnd.jupyter.widget-view+json": {
       "model_id": "afadec481f534d35a038fd7718436a90",
       "version_major": 2,
       "version_minor": 0
      },
      "text/plain": [
       "  0%|          | 0/3 [00:00<?, ?it/s]"
      ]
     },
     "metadata": {},
     "output_type": "display_data"
    },
    {
     "data": {
      "application/vnd.jupyter.widget-view+json": {
       "model_id": "fd296f3e23a54d9daceb49e664d1b2f8",
       "version_major": 2,
       "version_minor": 0
      },
      "text/plain": [
       "  0%|          | 0/3 [00:00<?, ?it/s]"
      ]
     },
     "metadata": {},
     "output_type": "display_data"
    },
    {
     "data": {
      "application/vnd.jupyter.widget-view+json": {
       "model_id": "c6b33759888346f69777136c214cf445",
       "version_major": 2,
       "version_minor": 0
      },
      "text/plain": [
       "  0%|          | 0/3 [00:00<?, ?it/s]"
      ]
     },
     "metadata": {},
     "output_type": "display_data"
    },
    {
     "data": {
      "application/vnd.jupyter.widget-view+json": {
       "model_id": "fb80f800b715427c9dd8fc2fc5a12625",
       "version_major": 2,
       "version_minor": 0
      },
      "text/plain": [
       "  0%|          | 0/3 [00:00<?, ?it/s]"
      ]
     },
     "metadata": {},
     "output_type": "display_data"
    },
    {
     "data": {
      "application/vnd.jupyter.widget-view+json": {
       "model_id": "db4a1a5d43354decb48f5410fe9dec3a",
       "version_major": 2,
       "version_minor": 0
      },
      "text/plain": [
       "  0%|          | 0/3 [00:00<?, ?it/s]"
      ]
     },
     "metadata": {},
     "output_type": "display_data"
    }
   ],
   "source": [
    "for n_steps in tqdm([2, 4, 8, 16, 32]):\n",
    "    for rnn_dim in tqdm([32, 64, 128, 256]):\n",
    "        X, y = split_sequences(scaler.transform(train), n_steps)\n",
    "        \n",
    "        train_n = round(X.shape[0] * (1 - valid_size))\n",
    "        X_train = X[:train_n]\n",
    "        y_train= y[:train_n]\n",
    "        X_valid = X[train_n:]\n",
    "        y_valid = y[train_n:]\n",
    "\n",
    "        clear_session()\n",
    "        set_random_seed(SEED)\n",
    "        model = Sequential()\n",
    "        model.add(GRU(rnn_dim, activation='relu', return_sequences=True, input_shape=(n_steps, n_features)))\n",
    "        model.add(GRU(rnn_dim, activation='relu'))\n",
    "        model.add(Dense(n_features))\n",
    "        model.compile(optimizer='adam', loss='mse', metrics=['mse', 'mae'])\n",
    "        model.fit(X_train, y_train,\n",
    "                  epochs=100,\n",
    "                  validation_data=(X_valid, y_valid),\n",
    "                  callbacks=callbacks_list,\n",
    "                  verbose=0,\n",
    "                 )\n",
    "        \n",
    "        y_ = model.predict(X_valid)\n",
    "        res_gru.loc[n_steps, rnn_dim] = mean_squared_error(y_valid, y_)"
   ]
  },
  {
   "cell_type": "code",
   "execution_count": 21,
   "id": "c0d8b85e",
   "metadata": {
    "ExecuteTime": {
     "end_time": "2022-09-13T22:44:41.889619Z",
     "start_time": "2022-09-13T22:44:41.861274Z"
    }
   },
   "outputs": [
    {
     "data": {
      "text/html": [
       "<div>\n",
       "<style scoped>\n",
       "    .dataframe tbody tr th:only-of-type {\n",
       "        vertical-align: middle;\n",
       "    }\n",
       "\n",
       "    .dataframe tbody tr th {\n",
       "        vertical-align: top;\n",
       "    }\n",
       "\n",
       "    .dataframe thead th {\n",
       "        text-align: right;\n",
       "    }\n",
       "</style>\n",
       "<table border=\"1\" class=\"dataframe\">\n",
       "  <thead>\n",
       "    <tr style=\"text-align: right;\">\n",
       "      <th></th>\n",
       "      <th>32</th>\n",
       "      <th>64</th>\n",
       "      <th>128</th>\n",
       "    </tr>\n",
       "  </thead>\n",
       "  <tbody>\n",
       "    <tr>\n",
       "      <th>2</th>\n",
       "      <td>0.115627</td>\n",
       "      <td>0.096118</td>\n",
       "      <td>0.117307</td>\n",
       "    </tr>\n",
       "    <tr>\n",
       "      <th>4</th>\n",
       "      <td>0.137974</td>\n",
       "      <td>0.126135</td>\n",
       "      <td>0.116888</td>\n",
       "    </tr>\n",
       "    <tr>\n",
       "      <th>8</th>\n",
       "      <td>0.138558</td>\n",
       "      <td>0.130839</td>\n",
       "      <td>0.128089</td>\n",
       "    </tr>\n",
       "    <tr>\n",
       "      <th>16</th>\n",
       "      <td>0.148013</td>\n",
       "      <td>0.103846</td>\n",
       "      <td>0.106176</td>\n",
       "    </tr>\n",
       "    <tr>\n",
       "      <th>32</th>\n",
       "      <td>0.124888</td>\n",
       "      <td>0.099594</td>\n",
       "      <td>0.099551</td>\n",
       "    </tr>\n",
       "  </tbody>\n",
       "</table>\n",
       "</div>"
      ],
      "text/plain": [
       "         32        64        128\n",
       "2   0.115627  0.096118  0.117307\n",
       "4   0.137974  0.126135  0.116888\n",
       "8   0.138558  0.130839  0.128089\n",
       "16  0.148013  0.103846  0.106176\n",
       "32  0.124888  0.099594  0.099551"
      ]
     },
     "execution_count": 21,
     "metadata": {},
     "output_type": "execute_result"
    }
   ],
   "source": [
    "res_gru"
   ]
  },
  {
   "cell_type": "code",
   "execution_count": 22,
   "id": "e18581f6",
   "metadata": {
    "ExecuteTime": {
     "end_time": "2022-09-13T22:44:42.212555Z",
     "start_time": "2022-09-13T22:44:41.892631Z"
    }
   },
   "outputs": [
    {
     "data": {
      "text/plain": [
       "32     0.133012\n",
       "64     0.111306\n",
       "128    0.113602\n",
       "dtype: float64"
      ]
     },
     "execution_count": 22,
     "metadata": {},
     "output_type": "execute_result"
    }
   ],
   "source": [
    "res_gru.mean(axis=0)"
   ]
  },
  {
   "cell_type": "code",
   "execution_count": 23,
   "id": "6c0c6e15",
   "metadata": {
    "ExecuteTime": {
     "end_time": "2022-09-13T22:44:42.228591Z",
     "start_time": "2022-09-13T22:44:42.212555Z"
    }
   },
   "outputs": [
    {
     "data": {
      "text/plain": [
       "2     0.109684\n",
       "4     0.126999\n",
       "8     0.132495\n",
       "16    0.119345\n",
       "32    0.108011\n",
       "dtype: float64"
      ]
     },
     "execution_count": 23,
     "metadata": {},
     "output_type": "execute_result"
    }
   ],
   "source": [
    "res_gru.mean(axis=1)"
   ]
  },
  {
   "cell_type": "code",
   "execution_count": 26,
   "id": "ddffd52a",
   "metadata": {
    "ExecuteTime": {
     "end_time": "2022-09-14T09:20:24.806717Z",
     "start_time": "2022-09-14T09:20:24.792707Z"
    }
   },
   "outputs": [
    {
     "data": {
      "text/plain": [
       "array([[0.1156268 , 0.09611776, 0.11730716],\n",
       "       [0.1379741 , 0.12613483, 0.11688779]])"
      ]
     },
     "execution_count": 26,
     "metadata": {},
     "output_type": "execute_result"
    }
   ],
   "source": [
    "res_gru.values[:-3]"
   ]
  },
  {
   "cell_type": "code",
   "execution_count": null,
   "id": "fd286522",
   "metadata": {},
   "outputs": [],
   "source": []
  }
 ],
 "metadata": {
  "kernelspec": {
   "display_name": "Python 3 (ipykernel)",
   "language": "python",
   "name": "python3"
  },
  "language_info": {
   "codemirror_mode": {
    "name": "ipython",
    "version": 3
   },
   "file_extension": ".py",
   "mimetype": "text/x-python",
   "name": "python",
   "nbconvert_exporter": "python",
   "pygments_lexer": "ipython3",
   "version": "3.8.8"
  },
  "toc": {
   "base_numbering": 1,
   "nav_menu": {},
   "number_sections": true,
   "sideBar": true,
   "skip_h1_title": false,
   "title_cell": "Table of Contents",
   "title_sidebar": "Contents",
   "toc_cell": false,
   "toc_position": {},
   "toc_section_display": true,
   "toc_window_display": false
  }
 },
 "nbformat": 4,
 "nbformat_minor": 5
}
