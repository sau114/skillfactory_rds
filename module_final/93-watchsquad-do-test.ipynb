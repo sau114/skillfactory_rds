{
 "cells": [
  {
   "cell_type": "code",
   "execution_count": 1,
   "id": "3afcaa82",
   "metadata": {
    "ExecuteTime": {
     "end_time": "2022-09-19T08:54:14.446000Z",
     "start_time": "2022-09-19T08:54:14.402310Z"
    }
   },
   "outputs": [],
   "source": [
    "!del /Q utils\\__pycache__"
   ]
  },
  {
   "cell_type": "code",
   "execution_count": 2,
   "id": "86b03be5",
   "metadata": {
    "ExecuteTime": {
     "end_time": "2022-09-19T08:54:15.234418Z",
     "start_time": "2022-09-19T08:54:14.448337Z"
    }
   },
   "outputs": [],
   "source": [
    "import pandas as pd\n",
    "from tqdm.notebook import tqdm"
   ]
  },
  {
   "cell_type": "code",
   "execution_count": 3,
   "id": "f34899c4",
   "metadata": {
    "ExecuteTime": {
     "end_time": "2022-09-19T08:54:20.341866Z",
     "start_time": "2022-09-19T08:54:15.237317Z"
    }
   },
   "outputs": [],
   "source": [
    "from utils.datasets import GhlKasperskyDataset, TepHarvardDataset, TepKasperskyDataset, SwatItrustDataset\n",
    "from utils.metrics import time_span_metrics\n",
    "from utils.watchmen import WatchSquad"
   ]
  },
  {
   "cell_type": "markdown",
   "id": "ab2d87dc",
   "metadata": {
    "ExecuteTime": {
     "end_time": "2022-08-19T10:07:19.598656Z",
     "start_time": "2022-08-19T10:07:18.676895Z"
    }
   },
   "source": [
    "# Preparing datasets"
   ]
  },
  {
   "cell_type": "code",
   "execution_count": 4,
   "id": "cb921176",
   "metadata": {
    "ExecuteTime": {
     "end_time": "2022-09-19T08:54:20.356732Z",
     "start_time": "2022-09-19T08:54:20.345273Z"
    }
   },
   "outputs": [],
   "source": [
    "datasets = {\n",
    "    0: GhlKasperskyDataset(),\n",
    "    1: TepHarvardDataset(),\n",
    "    2: TepKasperskyDataset(),\n",
    "    3: SwatItrustDataset(),\n",
    "}"
   ]
  },
  {
   "cell_type": "code",
   "execution_count": 5,
   "id": "fd787944",
   "metadata": {
    "ExecuteTime": {
     "end_time": "2022-09-19T08:54:20.463761Z",
     "start_time": "2022-09-19T08:54:20.360735Z"
    }
   },
   "outputs": [],
   "source": [
    "for d in datasets:\n",
    "    datasets[d].shake_not_stir()"
   ]
  },
  {
   "cell_type": "markdown",
   "id": "f007db40",
   "metadata": {},
   "source": [
    "# Preparing squads"
   ]
  },
  {
   "cell_type": "code",
   "execution_count": 6,
   "id": "b5c900e8",
   "metadata": {
    "ExecuteTime": {
     "end_time": "2022-09-19T08:54:20.479788Z",
     "start_time": "2022-09-19T08:54:20.466696Z"
    }
   },
   "outputs": [],
   "source": [
    "squads = {\n",
    "    0: WatchSquad(),\n",
    "    1: WatchSquad(),\n",
    "    2: WatchSquad(),\n",
    "    3: WatchSquad(),\n",
    "}"
   ]
  },
  {
   "cell_type": "markdown",
   "id": "5920f97c",
   "metadata": {},
   "source": [
    "## you can fit ..."
   ]
  },
  {
   "cell_type": "markdown",
   "id": "fa1bedfa",
   "metadata": {},
   "source": [
    "for d in tqdm(datasets):\n",
    "    for data, _, _ in datasets[d].train_generator():\n",
    "        squads[d].prefit(data)"
   ]
  },
  {
   "cell_type": "markdown",
   "id": "42d6dcd0",
   "metadata": {},
   "source": [
    "for d in tqdm(datasets):\n",
    "    for data, _, _ in datasets[d].train_generator():\n",
    "        squads[d].fit(data)"
   ]
  },
  {
   "cell_type": "markdown",
   "id": "1896d8c8",
   "metadata": {},
   "source": [
    "for d in tqdm(datasets):\n",
    "    for data, _, _ in datasets[d].train_generator():\n",
    "        squads[d].postfit(data)"
   ]
  },
  {
   "cell_type": "markdown",
   "id": "ea1c2062",
   "metadata": {},
   "source": [
    "for d in tqdm(datasets):\n",
    "    squads[d].dump(f'{datasets[d].__class__.__name__}')"
   ]
  },
  {
   "cell_type": "markdown",
   "id": "d8d484bd",
   "metadata": {},
   "source": [
    "## ... or just loading"
   ]
  },
  {
   "cell_type": "code",
   "execution_count": 7,
   "id": "5154ed8a",
   "metadata": {
    "ExecuteTime": {
     "end_time": "2022-09-19T08:54:21.402800Z",
     "start_time": "2022-09-19T08:54:20.483416Z"
    }
   },
   "outputs": [],
   "source": [
    "for d in datasets:\n",
    "    squads[d].load(f'{datasets[d].__class__.__name__}')"
   ]
  },
  {
   "cell_type": "markdown",
   "id": "5c728a4c",
   "metadata": {},
   "source": [
    "# Examine"
   ]
  },
  {
   "cell_type": "code",
   "execution_count": 8,
   "id": "2a812d4d",
   "metadata": {
    "ExecuteTime": {
     "end_time": "2022-09-19T08:54:21.418794Z",
     "start_time": "2022-09-19T08:54:21.405695Z"
    }
   },
   "outputs": [],
   "source": [
    "metrics = ('precision', 'recall', 'f1_score')\n",
    "results = pd.DataFrame(columns=metrics)"
   ]
  },
  {
   "cell_type": "code",
   "execution_count": null,
   "id": "6845cd9b",
   "metadata": {
    "ExecuteTime": {
     "start_time": "2022-09-19T08:54:14.378Z"
    }
   },
   "outputs": [
    {
     "data": {
      "application/vnd.jupyter.widget-view+json": {
       "model_id": "418f5b0f3023457f80f98d2e3ce09f92",
       "version_major": 2,
       "version_minor": 0
      },
      "text/plain": [
       "  0%|          | 0/4 [00:00<?, ?it/s]"
      ]
     },
     "metadata": {},
     "output_type": "display_data"
    },
    {
     "data": {
      "application/vnd.jupyter.widget-view+json": {
       "model_id": "dc7477752c7546c0bf4676617abb81c2",
       "version_major": 2,
       "version_minor": 0
      },
      "text/plain": [
       "  0%|          | 0/48 [00:00<?, ?it/s]"
      ]
     },
     "metadata": {},
     "output_type": "display_data"
    },
    {
     "data": {
      "application/vnd.jupyter.widget-view+json": {
       "model_id": "5fe1b46908324788b66214710d72d364",
       "version_major": 2,
       "version_minor": 0
      },
      "text/plain": [
       "  0%|          | 0/10500 [00:00<?, ?it/s]"
      ]
     },
     "metadata": {},
     "output_type": "display_data"
    }
   ],
   "source": [
    "for d in tqdm(datasets):\n",
    "    exam_paper = pd.DataFrame(columns=metrics)\n",
    "    for i_st, (data, faults, info) in enumerate(tqdm(datasets[d].test_generator())):\n",
    "        detect = squads[d].predict(data)\n",
    "        exam_paper.loc[i_st, metrics] = time_span_metrics(faults, detect)\n",
    "    results.loc[str(datasets[d]), metrics] = exam_paper.mean().values"
   ]
  },
  {
   "cell_type": "code",
   "execution_count": null,
   "id": "f60820cf",
   "metadata": {
    "ExecuteTime": {
     "start_time": "2022-09-19T08:54:14.380Z"
    }
   },
   "outputs": [],
   "source": [
    "results"
   ]
  },
  {
   "cell_type": "code",
   "execution_count": null,
   "id": "903fcf7c",
   "metadata": {},
   "outputs": [],
   "source": []
  }
 ],
 "metadata": {
  "kernelspec": {
   "display_name": "Python 3 (ipykernel)",
   "language": "python",
   "name": "python3"
  },
  "language_info": {
   "codemirror_mode": {
    "name": "ipython",
    "version": 3
   },
   "file_extension": ".py",
   "mimetype": "text/x-python",
   "name": "python",
   "nbconvert_exporter": "python",
   "pygments_lexer": "ipython3",
   "version": "3.8.8"
  },
  "toc": {
   "base_numbering": 1,
   "nav_menu": {},
   "number_sections": true,
   "sideBar": true,
   "skip_h1_title": false,
   "title_cell": "Table of Contents",
   "title_sidebar": "Contents",
   "toc_cell": false,
   "toc_position": {
    "height": "calc(100% - 180px)",
    "left": "10px",
    "top": "150px",
    "width": "272.2px"
   },
   "toc_section_display": true,
   "toc_window_display": true
  }
 },
 "nbformat": 4,
 "nbformat_minor": 5
}
