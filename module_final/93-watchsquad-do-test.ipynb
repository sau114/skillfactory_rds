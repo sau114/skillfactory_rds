{
 "cells": [
  {
   "cell_type": "code",
   "execution_count": 1,
   "id": "3afcaa82",
   "metadata": {
    "ExecuteTime": {
     "end_time": "2022-09-16T15:58:31.994187Z",
     "start_time": "2022-09-16T15:58:31.950594Z"
    }
   },
   "outputs": [],
   "source": [
    "!del /Q utils\\__pycache__"
   ]
  },
  {
   "cell_type": "code",
   "execution_count": 1,
   "id": "86b03be5",
   "metadata": {
    "ExecuteTime": {
     "end_time": "2022-09-16T16:52:28.712812Z",
     "start_time": "2022-09-16T16:52:27.638030Z"
    }
   },
   "outputs": [],
   "source": [
    "import pandas as pd\n",
    "from tqdm.notebook import tqdm"
   ]
  },
  {
   "cell_type": "code",
   "execution_count": 3,
   "id": "f34899c4",
   "metadata": {
    "ExecuteTime": {
     "end_time": "2022-09-16T16:52:48.343105Z",
     "start_time": "2022-09-16T16:52:42.259385Z"
    }
   },
   "outputs": [],
   "source": [
    "from utils.datasets import GhlKasperskyDataset, TepHarvardDataset, TepKasperskyDataset, SwatItrustDataset\n",
    "from utils.metrics import time_span_metrics\n",
    "from utils.watchmen import WatchSquad"
   ]
  },
  {
   "cell_type": "markdown",
   "id": "ab2d87dc",
   "metadata": {
    "ExecuteTime": {
     "end_time": "2022-08-19T10:07:19.598656Z",
     "start_time": "2022-08-19T10:07:18.676895Z"
    }
   },
   "source": [
    "# Preparing datasets"
   ]
  },
  {
   "cell_type": "code",
   "execution_count": 4,
   "id": "cb921176",
   "metadata": {
    "ExecuteTime": {
     "end_time": "2022-09-16T16:52:52.441763Z",
     "start_time": "2022-09-16T16:52:52.419636Z"
    }
   },
   "outputs": [],
   "source": [
    "datasets = {\n",
    "    0: GhlKasperskyDataset(),\n",
    "    1: TepHarvardDataset(),\n",
    "    2: TepKasperskyDataset(),\n",
    "    3: SwatItrustDataset(),\n",
    "}"
   ]
  },
  {
   "cell_type": "code",
   "execution_count": 5,
   "id": "fd787944",
   "metadata": {
    "ExecuteTime": {
     "end_time": "2022-09-16T16:53:00.645824Z",
     "start_time": "2022-09-16T16:53:00.529008Z"
    }
   },
   "outputs": [],
   "source": [
    "for d in datasets:\n",
    "    datasets[d].shake_not_stir()"
   ]
  },
  {
   "cell_type": "markdown",
   "id": "f007db40",
   "metadata": {},
   "source": [
    "# Preparing watchhouse"
   ]
  },
  {
   "cell_type": "code",
   "execution_count": 6,
   "id": "b5c900e8",
   "metadata": {
    "ExecuteTime": {
     "end_time": "2022-09-16T16:53:07.561964Z",
     "start_time": "2022-09-16T16:53:07.543987Z"
    }
   },
   "outputs": [],
   "source": [
    "squads = {\n",
    "    0: WatchSquad(),\n",
    "    1: WatchSquad(),\n",
    "    2: WatchSquad(),\n",
    "    3: WatchSquad(),\n",
    "}"
   ]
  },
  {
   "cell_type": "markdown",
   "id": "2c52d53c",
   "metadata": {},
   "source": [
    "## you can fit ..."
   ]
  },
  {
   "cell_type": "code",
   "execution_count": null,
   "id": "32bc63a0",
   "metadata": {},
   "outputs": [],
   "source": [
    "for d in tqdm(datasets):\n",
    "    for data, _, _ in datasets[d].train_generator():\n",
    "        squads[d].prefit(data)"
   ]
  },
  {
   "cell_type": "code",
   "execution_count": null,
   "id": "9680550a",
   "metadata": {},
   "outputs": [],
   "source": [
    "for d in tqdm(datasets):\n",
    "    for data, _, _ in datasets[d].train_generator():\n",
    "        squads[d].fit(data)"
   ]
  },
  {
   "cell_type": "code",
   "execution_count": null,
   "id": "a595785b",
   "metadata": {},
   "outputs": [],
   "source": [
    "for d in tqdm(datasets):\n",
    "    for data, _, _ in datasets[d].train_generator():\n",
    "        squads[d].postfit(data)"
   ]
  },
  {
   "cell_type": "code",
   "execution_count": null,
   "id": "ca1e91e7",
   "metadata": {},
   "outputs": [],
   "source": [
    "for d in tqdm(datasets):\n",
    "    squads[d].dump(f'{datasets[d].__class__.__name__}')"
   ]
  },
  {
   "cell_type": "markdown",
   "id": "afbed98a",
   "metadata": {},
   "source": [
    "## ... or just loading"
   ]
  },
  {
   "cell_type": "code",
   "execution_count": 8,
   "id": "5154ed8a",
   "metadata": {
    "ExecuteTime": {
     "end_time": "2022-09-16T16:53:34.799978Z",
     "start_time": "2022-09-16T16:53:33.547951Z"
    }
   },
   "outputs": [
    {
     "data": {
      "application/vnd.jupyter.widget-view+json": {
       "model_id": "30b0361c24404cf28efa4f5f3fa339bc",
       "version_major": 2,
       "version_minor": 0
      },
      "text/plain": [
       "  0%|          | 0/4 [00:00<?, ?it/s]"
      ]
     },
     "metadata": {},
     "output_type": "display_data"
    }
   ],
   "source": [
    "for d in tqdm(datasets):\n",
    "    squads[d].load(f'{datasets[d].__class__.__name__}')"
   ]
  },
  {
   "cell_type": "markdown",
   "id": "5c728a4c",
   "metadata": {},
   "source": [
    "# Examine"
   ]
  },
  {
   "cell_type": "markdown",
   "id": "05b98514",
   "metadata": {},
   "source": [
    "## Throw stones"
   ]
  },
  {
   "cell_type": "code",
   "execution_count": 10,
   "id": "149642a0",
   "metadata": {
    "ExecuteTime": {
     "end_time": "2022-09-16T16:00:01.314870Z",
     "start_time": "2022-09-16T16:00:01.295450Z"
    }
   },
   "outputs": [],
   "source": [
    "stones = dict()\n",
    "for d in datasets:\n",
    "    stones[d] = dict()\n",
    "    for w in watchhouse[d]:\n",
    "        stones[d][w] = list()"
   ]
  },
  {
   "cell_type": "code",
   "execution_count": null,
   "id": "2eeb2ed3",
   "metadata": {
    "ExecuteTime": {
     "start_time": "2022-09-16T16:00:01.295Z"
    }
   },
   "outputs": [
    {
     "data": {
      "application/vnd.jupyter.widget-view+json": {
       "model_id": "580ea27226ca4e4aa473fe67d061d4b6",
       "version_major": 2,
       "version_minor": 0
      },
      "text/plain": [
       "Detect on test 0:   0%|          | 0/48 [00:00<?, ?it/s]"
      ]
     },
     "metadata": {},
     "output_type": "display_data"
    },
    {
     "data": {
      "application/vnd.jupyter.widget-view+json": {
       "model_id": "a4ac83973b514ef086ae8643fb3e4b19",
       "version_major": 2,
       "version_minor": 0
      },
      "text/plain": [
       "Detect on test 1:   0%|          | 0/10500 [00:00<?, ?it/s]"
      ]
     },
     "metadata": {},
     "output_type": "display_data"
    }
   ],
   "source": [
    "for d in datasets:\n",
    "    for data, faults, info in tqdm(datasets[d].test_generator(), desc=f'Detect on test {d}'):\n",
    "        for w in watchhouse[d]:\n",
    "            detect = watchhouse[d][w].predict(data)\n",
    "            stones[d][w].append(pd.concat([faults, detect], axis=1))\n",
    "            stones[d][w][-1].index.name = info"
   ]
  },
  {
   "cell_type": "markdown",
   "id": "1bb3f782",
   "metadata": {},
   "source": [
    "## Results"
   ]
  },
  {
   "cell_type": "code",
   "execution_count": null,
   "id": "2a812d4d",
   "metadata": {
    "ExecuteTime": {
     "start_time": "2022-09-16T16:00:01.297Z"
    }
   },
   "outputs": [],
   "source": [
    "metrics = ('precision', 'recall', 'f1_score')\n",
    "results = pd.DataFrame(columns=metrics)"
   ]
  },
  {
   "cell_type": "markdown",
   "id": "502e007e",
   "metadata": {},
   "source": [
    "### Individual"
   ]
  },
  {
   "cell_type": "code",
   "execution_count": null,
   "id": "e8aa1157",
   "metadata": {
    "ExecuteTime": {
     "start_time": "2022-09-16T16:00:01.300Z"
    }
   },
   "outputs": [],
   "source": [
    "for d in datasets:\n",
    "    exam_paper = pd.DataFrame(columns=metrics)\n",
    "    for i_st, st in enumerate(stones[d][w]):\n",
    "        exam_paper.loc[i_st, metrics] = time_span_metrics(st.iloc[:, 0], st.iloc[:, 1:])\n",
    "    results[str(datasets[d])].loc[str(watchhouse[d][w]), metrics] = exam_paper.mean().values"
   ]
  },
  {
   "cell_type": "markdown",
   "id": "54459025",
   "metadata": {},
   "source": [
    "### Let's see"
   ]
  },
  {
   "cell_type": "code",
   "execution_count": null,
   "id": "f60820cf",
   "metadata": {
    "ExecuteTime": {
     "start_time": "2022-09-16T16:00:01.305Z"
    }
   },
   "outputs": [],
   "source": [
    "for d in results:\n",
    "    print(d)\n",
    "    display(results[d].sort_values(by='f1_score', ascending=False))"
   ]
  },
  {
   "cell_type": "code",
   "execution_count": null,
   "id": "903fcf7c",
   "metadata": {},
   "outputs": [],
   "source": []
  }
 ],
 "metadata": {
  "kernelspec": {
   "display_name": "Python 3 (ipykernel)",
   "language": "python",
   "name": "python3"
  },
  "language_info": {
   "codemirror_mode": {
    "name": "ipython",
    "version": 3
   },
   "file_extension": ".py",
   "mimetype": "text/x-python",
   "name": "python",
   "nbconvert_exporter": "python",
   "pygments_lexer": "ipython3",
   "version": "3.8.8"
  },
  "toc": {
   "base_numbering": 1,
   "nav_menu": {},
   "number_sections": true,
   "sideBar": true,
   "skip_h1_title": false,
   "title_cell": "Table of Contents",
   "title_sidebar": "Contents",
   "toc_cell": false,
   "toc_position": {
    "height": "calc(100% - 180px)",
    "left": "10px",
    "top": "150px",
    "width": "272.2px"
   },
   "toc_section_display": true,
   "toc_window_display": true
  }
 },
 "nbformat": 4,
 "nbformat_minor": 5
}
