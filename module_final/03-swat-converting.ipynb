{
 "cells": [
  {
   "cell_type": "code",
   "execution_count": 1,
   "id": "c028d1e7",
   "metadata": {
    "ExecuteTime": {
     "end_time": "2022-08-12T17:01:35.188928Z",
     "start_time": "2022-08-12T17:01:34.608189Z"
    }
   },
   "outputs": [],
   "source": [
    "import pandas as pd"
   ]
  },
  {
   "cell_type": "code",
   "execution_count": 2,
   "id": "1c8bbb1a",
   "metadata": {
    "ExecuteTime": {
     "end_time": "2022-08-12T17:01:35.204378Z",
     "start_time": "2022-08-12T17:01:35.191381Z"
    }
   },
   "outputs": [],
   "source": [
    "xls = r'E:\\Datasets\\SWaT\\SWaT.A1 _ A2_Dec 2015\\Physical\\SWaT_Dataset_Normal_v0.xlsx'\n",
    "csv = r'E:\\Datasets\\SWaT\\SWaT.A1 _ A2_Dec 2015\\Physical\\SWaT_Dataset_Normal_v0.csv'"
   ]
  },
  {
   "cell_type": "code",
   "execution_count": 3,
   "id": "c42319f7",
   "metadata": {
    "ExecuteTime": {
     "end_time": "2022-08-12T17:07:31.185946Z",
     "start_time": "2022-08-12T17:01:35.206380Z"
    }
   },
   "outputs": [
    {
     "name": "stderr",
     "output_type": "stream",
     "text": [
      "C:\\Users\\Stepan\\anaconda3\\lib\\site-packages\\openpyxl\\worksheet\\_reader.py:312: UserWarning: Unknown extension is not supported and will be removed\n",
      "  warn(msg)\n"
     ]
    }
   ],
   "source": [
    "data = pd.read_excel(xls, engine='openpyxl', skiprows=1, index_col=0)"
   ]
  },
  {
   "cell_type": "code",
   "execution_count": 4,
   "id": "65af10fe",
   "metadata": {
    "ExecuteTime": {
     "end_time": "2022-08-12T17:07:46.307596Z",
     "start_time": "2022-08-12T17:07:31.189334Z"
    }
   },
   "outputs": [],
   "source": [
    "data.to_csv(csv)"
   ]
  }
 ],
 "metadata": {
  "kernelspec": {
   "display_name": "Python 3 (ipykernel)",
   "language": "python",
   "name": "python3"
  },
  "language_info": {
   "codemirror_mode": {
    "name": "ipython",
    "version": 3
   },
   "file_extension": ".py",
   "mimetype": "text/x-python",
   "name": "python",
   "nbconvert_exporter": "python",
   "pygments_lexer": "ipython3",
   "version": "3.8.8"
  },
  "toc": {
   "base_numbering": 1,
   "nav_menu": {},
   "number_sections": true,
   "sideBar": true,
   "skip_h1_title": false,
   "title_cell": "Table of Contents",
   "title_sidebar": "Contents",
   "toc_cell": false,
   "toc_position": {},
   "toc_section_display": true,
   "toc_window_display": false
  }
 },
 "nbformat": 4,
 "nbformat_minor": 5
}
