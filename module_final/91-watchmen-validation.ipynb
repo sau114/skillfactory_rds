{
 "cells": [
  {
   "cell_type": "code",
   "execution_count": 1,
   "id": "3afcaa82",
   "metadata": {
    "ExecuteTime": {
     "end_time": "2022-09-12T13:36:47.514445Z",
     "start_time": "2022-09-12T13:36:47.456286Z"
    }
   },
   "outputs": [],
   "source": [
    "!del /Q utils\\__pycache__"
   ]
  },
  {
   "cell_type": "code",
   "execution_count": 2,
   "id": "86b03be5",
   "metadata": {
    "ExecuteTime": {
     "end_time": "2022-09-12T13:36:48.373350Z",
     "start_time": "2022-09-12T13:36:47.516287Z"
    }
   },
   "outputs": [],
   "source": [
    "import pandas as pd\n",
    "from tqdm.notebook import tqdm"
   ]
  },
  {
   "cell_type": "code",
   "execution_count": 3,
   "id": "f34899c4",
   "metadata": {
    "ExecuteTime": {
     "end_time": "2022-09-12T13:36:49.280812Z",
     "start_time": "2022-09-12T13:36:48.377169Z"
    }
   },
   "outputs": [],
   "source": [
    "from utils.datasets import GhlKasperskyDataset, TepHarvardDataset, TepKasperskyDataset, SwatItrustDataset\n",
    "from utils.custom_plots import plot_stacked\n",
    "from utils.metrics import time_span_metrics\n",
    "from utils.watchmen import DirectLimitWatchman, PcaLimitWatchman\n",
    "from utils.watchmen import IsoForestWatchman\n",
    "from utils.watchmen import LinearPredictWatchman, DeepPredictWatchman"
   ]
  },
  {
   "cell_type": "code",
   "execution_count": 4,
   "id": "f4e9bb0f",
   "metadata": {
    "ExecuteTime": {
     "end_time": "2022-09-12T13:36:49.295885Z",
     "start_time": "2022-09-12T13:36:49.284842Z"
    }
   },
   "outputs": [],
   "source": [
    "SEED = 585"
   ]
  },
  {
   "cell_type": "markdown",
   "id": "ab2d87dc",
   "metadata": {
    "ExecuteTime": {
     "end_time": "2022-08-19T10:07:19.598656Z",
     "start_time": "2022-08-19T10:07:18.676895Z"
    }
   },
   "source": [
    "# Preparing datasets"
   ]
  },
  {
   "cell_type": "code",
   "execution_count": 5,
   "id": "cb921176",
   "metadata": {
    "ExecuteTime": {
     "end_time": "2022-09-12T13:36:49.326812Z",
     "start_time": "2022-09-12T13:36:49.299069Z"
    }
   },
   "outputs": [],
   "source": [
    "datasets = {\n",
    "    0: GhlKasperskyDataset(),\n",
    "    1: TepHarvardDataset(),\n",
    "    2: TepKasperskyDataset(),\n",
    "    3: SwatItrustDataset(),\n",
    "}"
   ]
  },
  {
   "cell_type": "code",
   "execution_count": 6,
   "id": "fd787944",
   "metadata": {
    "ExecuteTime": {
     "end_time": "2022-09-12T13:36:49.435148Z",
     "start_time": "2022-09-12T13:36:49.329813Z"
    }
   },
   "outputs": [],
   "source": [
    "shake_kwargs = {\n",
    "    'random_state': SEED,\n",
    "    'valid2test_ratio': 0.3,\n",
    "}\n",
    "for d in datasets:\n",
    "    datasets[d].shake_not_stir(**shake_kwargs)"
   ]
  },
  {
   "cell_type": "markdown",
   "id": "f007db40",
   "metadata": {},
   "source": [
    "# Preparing watchhouse"
   ]
  },
  {
   "cell_type": "code",
   "execution_count": 7,
   "id": "b5c900e8",
   "metadata": {
    "ExecuteTime": {
     "end_time": "2022-09-12T13:36:49.450069Z",
     "start_time": "2022-09-12T13:36:49.438954Z"
    }
   },
   "outputs": [],
   "source": [
    "watchhouse = {\n",
    "    0: {  # GhlKasperskyDataset\n",
    "        0: DirectLimitWatchman(),\n",
    "        1: PcaLimitWatchman(),\n",
    "        2: IsoForestWatchman(),\n",
    "        3: LinearPredictWatchman(),\n",
    "        4: DeepPredictWatchman(),\n",
    "    },\n",
    "    1: {  # TepHarvardDataset\n",
    "        0: DirectLimitWatchman(),\n",
    "        1: PcaLimitWatchman(),\n",
    "        2: IsoForestWatchman(),\n",
    "        3: LinearPredictWatchman(),\n",
    "        4: DeepPredictWatchman(),\n",
    "    },\n",
    "    2: {  # TepKasperskyDataset\n",
    "        0: DirectLimitWatchman(),\n",
    "        1: PcaLimitWatchman(),\n",
    "        2: IsoForestWatchman(),\n",
    "        3: LinearPredictWatchman(),\n",
    "        4: DeepPredictWatchman(),\n",
    "    },\n",
    "    3: {  # SwatItrustDataset\n",
    "        0: DirectLimitWatchman(),\n",
    "        1: PcaLimitWatchman(),\n",
    "        2: IsoForestWatchman(),\n",
    "        3: LinearPredictWatchman(),\n",
    "        4: DeepPredictWatchman(),\n",
    "    },\n",
    "}"
   ]
  },
  {
   "cell_type": "code",
   "execution_count": 8,
   "id": "1f5d8620",
   "metadata": {
    "ExecuteTime": {
     "end_time": "2022-09-12T13:36:49.544036Z",
     "start_time": "2022-09-12T13:36:49.456952Z"
    }
   },
   "outputs": [],
   "source": [
    "for d in datasets:\n",
    "    for w in watchhouse[d]:\n",
    "        watchhouse[d][w].load(f'{datasets[d].__class__.__name__}-watchman_{w}')"
   ]
  },
  {
   "cell_type": "markdown",
   "id": "5c728a4c",
   "metadata": {},
   "source": [
    "# Examine"
   ]
  },
  {
   "cell_type": "markdown",
   "id": "05b98514",
   "metadata": {},
   "source": [
    "## Throw stones"
   ]
  },
  {
   "cell_type": "code",
   "execution_count": 9,
   "id": "149642a0",
   "metadata": {
    "ExecuteTime": {
     "end_time": "2022-09-12T13:36:49.560048Z",
     "start_time": "2022-09-12T13:36:49.548950Z"
    }
   },
   "outputs": [],
   "source": [
    "stones = dict()\n",
    "for d in datasets:\n",
    "    stones[d] = dict()\n",
    "    for w in watchhouse[d]:\n",
    "        stones[d][w] = list()"
   ]
  },
  {
   "cell_type": "code",
   "execution_count": 10,
   "id": "2eeb2ed3",
   "metadata": {
    "ExecuteTime": {
     "end_time": "2022-09-12T14:39:49.024210Z",
     "start_time": "2022-09-12T13:36:49.561952Z"
    },
    "scrolled": true
   },
   "outputs": [
    {
     "data": {
      "application/vnd.jupyter.widget-view+json": {
       "model_id": "fb0c469d9356458a814ef4f09e1a1ff7",
       "version_major": 2,
       "version_minor": 0
      },
      "text/plain": [
       "Detect on validation 0:   0%|          | 0/14 [00:00<?, ?it/s]"
      ]
     },
     "metadata": {},
     "output_type": "display_data"
    },
    {
     "data": {
      "application/vnd.jupyter.widget-view+json": {
       "model_id": "d7af8964c78a4ca087157f27cdfb1bf8",
       "version_major": 2,
       "version_minor": 0
      },
      "text/plain": [
       "Detect on validation 1:   0%|          | 0/3150 [00:00<?, ?it/s]"
      ]
     },
     "metadata": {},
     "output_type": "display_data"
    },
    {
     "data": {
      "application/vnd.jupyter.widget-view+json": {
       "model_id": "dcf46b0e9d004169a23680be08b3e50b",
       "version_major": 2,
       "version_minor": 0
      },
      "text/plain": [
       "Detect on validation 2:   0%|          | 0/146 [00:00<?, ?it/s]"
      ]
     },
     "metadata": {},
     "output_type": "display_data"
    },
    {
     "data": {
      "application/vnd.jupyter.widget-view+json": {
       "model_id": "30d3d9d97b044e729a707ba720a76594",
       "version_major": 2,
       "version_minor": 0
      },
      "text/plain": [
       "Detect on validation 3:   0%|          | 0/2 [00:00<?, ?it/s]"
      ]
     },
     "metadata": {},
     "output_type": "display_data"
    }
   ],
   "source": [
    "for d in datasets:\n",
    "    for data, faults, info in tqdm(datasets[d].valid_generator(), desc=f'Detect on validation {d}'):\n",
    "        for w in watchhouse[d]:\n",
    "            detect = watchhouse[d][w].predict(data)\n",
    "            stones[d][w].append(pd.concat([faults, detect], axis=1))\n",
    "            stones[d][w][-1].index.name = info"
   ]
  },
  {
   "cell_type": "markdown",
   "id": "1bb3f782",
   "metadata": {},
   "source": [
    "## Individual results"
   ]
  },
  {
   "cell_type": "code",
   "execution_count": 11,
   "id": "80eb84b9",
   "metadata": {
    "ExecuteTime": {
     "end_time": "2022-09-12T14:39:49.051344Z",
     "start_time": "2022-09-12T14:39:49.028754Z"
    }
   },
   "outputs": [],
   "source": [
    "metrics = ('precision', 'recall', 'f1_score')\n",
    "results = {str(datasets[d]): pd.DataFrame(columns=metrics) for d in datasets}"
   ]
  },
  {
   "cell_type": "code",
   "execution_count": 12,
   "id": "e8aa1157",
   "metadata": {
    "ExecuteTime": {
     "end_time": "2022-09-12T14:41:02.364613Z",
     "start_time": "2022-09-12T14:39:49.054205Z"
    }
   },
   "outputs": [
    {
     "data": {
      "application/vnd.jupyter.widget-view+json": {
       "model_id": "f5cb59407a254da18a4b86940588af48",
       "version_major": 2,
       "version_minor": 0
      },
      "text/plain": [
       "Collect stones d0:   0%|          | 0/5 [00:00<?, ?it/s]"
      ]
     },
     "metadata": {},
     "output_type": "display_data"
    },
    {
     "data": {
      "application/vnd.jupyter.widget-view+json": {
       "model_id": "e2f4404f3f664529b5228ccf923e52de",
       "version_major": 2,
       "version_minor": 0
      },
      "text/plain": [
       "Collect stones d1:   0%|          | 0/5 [00:00<?, ?it/s]"
      ]
     },
     "metadata": {},
     "output_type": "display_data"
    },
    {
     "data": {
      "application/vnd.jupyter.widget-view+json": {
       "model_id": "cd5161e176584c77844f483962e8d961",
       "version_major": 2,
       "version_minor": 0
      },
      "text/plain": [
       "Collect stones d2:   0%|          | 0/5 [00:00<?, ?it/s]"
      ]
     },
     "metadata": {},
     "output_type": "display_data"
    },
    {
     "data": {
      "application/vnd.jupyter.widget-view+json": {
       "model_id": "675f07e63f1846d7baf9d7f1d7d49c7e",
       "version_major": 2,
       "version_minor": 0
      },
      "text/plain": [
       "Collect stones d3:   0%|          | 0/5 [00:00<?, ?it/s]"
      ]
     },
     "metadata": {},
     "output_type": "display_data"
    }
   ],
   "source": [
    "for d in datasets:\n",
    "    for w in tqdm(watchhouse[d], desc=f'Collect stones d{d}'):\n",
    "        exam_paper = pd.DataFrame(columns=metrics)\n",
    "        for i_st, st in enumerate(stones[d][w]):\n",
    "            exam_paper.loc[i_st, metrics] = time_span_metrics(st.iloc[:, 0], st.iloc[:, 1:])\n",
    "        results[str(datasets[d])].loc[str(watchhouse[d][w]), metrics] = exam_paper.mean().values"
   ]
  },
  {
   "cell_type": "markdown",
   "id": "19aee2a0",
   "metadata": {},
   "source": [
    "## Ensembling results"
   ]
  },
  {
   "cell_type": "code",
   "execution_count": 13,
   "id": "f5ac600e",
   "metadata": {
    "ExecuteTime": {
     "end_time": "2022-09-12T14:42:02.028531Z",
     "start_time": "2022-09-12T14:41:02.370844Z"
    }
   },
   "outputs": [
    {
     "data": {
      "application/vnd.jupyter.widget-view+json": {
       "model_id": "9be19448a1b24d56b8dc3fe76a6af29e",
       "version_major": 2,
       "version_minor": 0
      },
      "text/plain": [
       "Collect stones d0:   0%|          | 0/14 [00:00<?, ?it/s]"
      ]
     },
     "metadata": {},
     "output_type": "display_data"
    },
    {
     "data": {
      "application/vnd.jupyter.widget-view+json": {
       "model_id": "3e19f45da9a44dc4ab98bc987cb5fe0d",
       "version_major": 2,
       "version_minor": 0
      },
      "text/plain": [
       "Collect stones d1:   0%|          | 0/3150 [00:00<?, ?it/s]"
      ]
     },
     "metadata": {},
     "output_type": "display_data"
    },
    {
     "data": {
      "application/vnd.jupyter.widget-view+json": {
       "model_id": "015c96394fd4453b8cf0b4bc17da76c9",
       "version_major": 2,
       "version_minor": 0
      },
      "text/plain": [
       "Collect stones d2:   0%|          | 0/146 [00:00<?, ?it/s]"
      ]
     },
     "metadata": {},
     "output_type": "display_data"
    },
    {
     "data": {
      "application/vnd.jupyter.widget-view+json": {
       "model_id": "0a512342ae1340788d6dd62c972af987",
       "version_major": 2,
       "version_minor": 0
      },
      "text/plain": [
       "Collect stones d3:   0%|          | 0/2 [00:00<?, ?it/s]"
      ]
     },
     "metadata": {},
     "output_type": "display_data"
    },
    {
     "data": {
      "application/vnd.jupyter.widget-view+json": {
       "model_id": "fd94229883974522ab1c442f3d591c5d",
       "version_major": 2,
       "version_minor": 0
      },
      "text/plain": [
       "Collect stones d0:   0%|          | 0/14 [00:00<?, ?it/s]"
      ]
     },
     "metadata": {},
     "output_type": "display_data"
    },
    {
     "data": {
      "application/vnd.jupyter.widget-view+json": {
       "model_id": "2aed4e25d95748e19d163091640e9200",
       "version_major": 2,
       "version_minor": 0
      },
      "text/plain": [
       "Collect stones d1:   0%|          | 0/3150 [00:00<?, ?it/s]"
      ]
     },
     "metadata": {},
     "output_type": "display_data"
    },
    {
     "data": {
      "application/vnd.jupyter.widget-view+json": {
       "model_id": "ac6487cd8a7549a59a99a303000a03a6",
       "version_major": 2,
       "version_minor": 0
      },
      "text/plain": [
       "Collect stones d2:   0%|          | 0/146 [00:00<?, ?it/s]"
      ]
     },
     "metadata": {},
     "output_type": "display_data"
    },
    {
     "data": {
      "application/vnd.jupyter.widget-view+json": {
       "model_id": "5f4858bf491e4ace91e401dba3c49d14",
       "version_major": 2,
       "version_minor": 0
      },
      "text/plain": [
       "Collect stones d3:   0%|          | 0/2 [00:00<?, ?it/s]"
      ]
     },
     "metadata": {},
     "output_type": "display_data"
    }
   ],
   "source": [
    "thresholds = (2,)\n",
    "for threshold in thresholds:\n",
    "    for d in datasets:\n",
    "        exam_paper = pd.DataFrame(columns=metrics)\n",
    "        for i_st, st in enumerate(tqdm(stones[d][0], desc=f'Collect stones d{d}')):\n",
    "            opinions = pd.concat([stones[d][w][i_st].iloc[:, 1:].sum(axis=1) for w in watchhouse[d]], axis=1)\n",
    "            detect = (opinions.sum(axis=1) >= threshold).astype('uint8')\n",
    "            exam_paper.loc[i_st, metrics] = time_span_metrics(st.iloc[:, 0], detect)\n",
    "        results[str(datasets[d])].loc[f'ensemble(threshold={threshold})', metrics] = exam_paper.mean().values"
   ]
  },
  {
   "cell_type": "code",
   "execution_count": 14,
   "id": "f60820cf",
   "metadata": {
    "ExecuteTime": {
     "end_time": "2022-09-12T14:42:02.103106Z",
     "start_time": "2022-09-12T14:42:02.032864Z"
    },
    "scrolled": false
   },
   "outputs": [
    {
     "name": "stdout",
     "output_type": "stream",
     "text": [
      "GhlKasperskyDataset(E:\\Datasets\\GHL)\n"
     ]
    },
    {
     "data": {
      "text/html": [
       "<div>\n",
       "<style scoped>\n",
       "    .dataframe tbody tr th:only-of-type {\n",
       "        vertical-align: middle;\n",
       "    }\n",
       "\n",
       "    .dataframe tbody tr th {\n",
       "        vertical-align: top;\n",
       "    }\n",
       "\n",
       "    .dataframe thead th {\n",
       "        text-align: right;\n",
       "    }\n",
       "</style>\n",
       "<table border=\"1\" class=\"dataframe\">\n",
       "  <thead>\n",
       "    <tr style=\"text-align: right;\">\n",
       "      <th></th>\n",
       "      <th>precision</th>\n",
       "      <th>recall</th>\n",
       "      <th>f1_score</th>\n",
       "    </tr>\n",
       "  </thead>\n",
       "  <tbody>\n",
       "    <tr>\n",
       "      <th>PcaLimitWatchman(n_features=12)</th>\n",
       "      <td>0.410256</td>\n",
       "      <td>0.386905</td>\n",
       "      <td>0.366667</td>\n",
       "    </tr>\n",
       "    <tr>\n",
       "      <th>DirectLimitWatchman(n_features=12)</th>\n",
       "      <td>0.34305</td>\n",
       "      <td>0.630952</td>\n",
       "      <td>0.366331</td>\n",
       "    </tr>\n",
       "    <tr>\n",
       "      <th>ensemble(threshold=2)</th>\n",
       "      <td>0.241663</td>\n",
       "      <td>0.613095</td>\n",
       "      <td>0.310873</td>\n",
       "    </tr>\n",
       "    <tr>\n",
       "      <th>ensemble(threshold=4)</th>\n",
       "      <td>0.222222</td>\n",
       "      <td>0.053571</td>\n",
       "      <td>0.07619</td>\n",
       "    </tr>\n",
       "    <tr>\n",
       "      <th>IsoForestWatchman(n_features=12)</th>\n",
       "      <td>0.023114</td>\n",
       "      <td>0.827381</td>\n",
       "      <td>0.044873</td>\n",
       "    </tr>\n",
       "    <tr>\n",
       "      <th>LinearPredictWatchman(n_features=12)</th>\n",
       "      <td>0.008929</td>\n",
       "      <td>0.02381</td>\n",
       "      <td>0.012987</td>\n",
       "    </tr>\n",
       "    <tr>\n",
       "      <th>Watchman(n_features=12)</th>\n",
       "      <td>NaN</td>\n",
       "      <td>0.0</td>\n",
       "      <td>0.0</td>\n",
       "    </tr>\n",
       "  </tbody>\n",
       "</table>\n",
       "</div>"
      ],
      "text/plain": [
       "                                     precision    recall  f1_score\n",
       "PcaLimitWatchman(n_features=12)       0.410256  0.386905  0.366667\n",
       "DirectLimitWatchman(n_features=12)     0.34305  0.630952  0.366331\n",
       "ensemble(threshold=2)                 0.241663  0.613095  0.310873\n",
       "ensemble(threshold=4)                 0.222222  0.053571   0.07619\n",
       "IsoForestWatchman(n_features=12)      0.023114  0.827381  0.044873\n",
       "LinearPredictWatchman(n_features=12)  0.008929   0.02381  0.012987\n",
       "Watchman(n_features=12)                    NaN       0.0       0.0"
      ]
     },
     "metadata": {},
     "output_type": "display_data"
    },
    {
     "name": "stdout",
     "output_type": "stream",
     "text": [
      "TepHarvardDataset(E:\\Datasets\\TEP\\dataverse)\n"
     ]
    },
    {
     "data": {
      "text/html": [
       "<div>\n",
       "<style scoped>\n",
       "    .dataframe tbody tr th:only-of-type {\n",
       "        vertical-align: middle;\n",
       "    }\n",
       "\n",
       "    .dataframe tbody tr th {\n",
       "        vertical-align: top;\n",
       "    }\n",
       "\n",
       "    .dataframe thead th {\n",
       "        text-align: right;\n",
       "    }\n",
       "</style>\n",
       "<table border=\"1\" class=\"dataframe\">\n",
       "  <thead>\n",
       "    <tr style=\"text-align: right;\">\n",
       "      <th></th>\n",
       "      <th>precision</th>\n",
       "      <th>recall</th>\n",
       "      <th>f1_score</th>\n",
       "    </tr>\n",
       "  </thead>\n",
       "  <tbody>\n",
       "    <tr>\n",
       "      <th>LinearPredictWatchman(n_features=52)</th>\n",
       "      <td>0.998884</td>\n",
       "      <td>0.757722</td>\n",
       "      <td>0.792104</td>\n",
       "    </tr>\n",
       "    <tr>\n",
       "      <th>ensemble(threshold=2)</th>\n",
       "      <td>1.0</td>\n",
       "      <td>0.721551</td>\n",
       "      <td>0.766578</td>\n",
       "    </tr>\n",
       "    <tr>\n",
       "      <th>DirectLimitWatchman(n_features=52)</th>\n",
       "      <td>1.0</td>\n",
       "      <td>0.651693</td>\n",
       "      <td>0.699804</td>\n",
       "    </tr>\n",
       "    <tr>\n",
       "      <th>ensemble(threshold=4)</th>\n",
       "      <td>1.0</td>\n",
       "      <td>0.613694</td>\n",
       "      <td>0.668459</td>\n",
       "    </tr>\n",
       "    <tr>\n",
       "      <th>PcaLimitWatchman(n_features=52)</th>\n",
       "      <td>1.0</td>\n",
       "      <td>0.570655</td>\n",
       "      <td>0.618879</td>\n",
       "    </tr>\n",
       "    <tr>\n",
       "      <th>IsoForestWatchman(n_features=52)</th>\n",
       "      <td>0.845028</td>\n",
       "      <td>0.493972</td>\n",
       "      <td>0.560941</td>\n",
       "    </tr>\n",
       "    <tr>\n",
       "      <th>Watchman(n_features=52)</th>\n",
       "      <td>NaN</td>\n",
       "      <td>0.0</td>\n",
       "      <td>0.0</td>\n",
       "    </tr>\n",
       "  </tbody>\n",
       "</table>\n",
       "</div>"
      ],
      "text/plain": [
       "                                     precision    recall  f1_score\n",
       "LinearPredictWatchman(n_features=52)  0.998884  0.757722  0.792104\n",
       "ensemble(threshold=2)                      1.0  0.721551  0.766578\n",
       "DirectLimitWatchman(n_features=52)         1.0  0.651693  0.699804\n",
       "ensemble(threshold=4)                      1.0  0.613694  0.668459\n",
       "PcaLimitWatchman(n_features=52)            1.0  0.570655  0.618879\n",
       "IsoForestWatchman(n_features=52)      0.845028  0.493972  0.560941\n",
       "Watchman(n_features=52)                    NaN       0.0       0.0"
      ]
     },
     "metadata": {},
     "output_type": "display_data"
    },
    {
     "name": "stdout",
     "output_type": "stream",
     "text": [
      "TepKasperskyDataset(E:\\Datasets\\TEP\\kaspersky)\n"
     ]
    },
    {
     "data": {
      "text/html": [
       "<div>\n",
       "<style scoped>\n",
       "    .dataframe tbody tr th:only-of-type {\n",
       "        vertical-align: middle;\n",
       "    }\n",
       "\n",
       "    .dataframe tbody tr th {\n",
       "        vertical-align: top;\n",
       "    }\n",
       "\n",
       "    .dataframe thead th {\n",
       "        text-align: right;\n",
       "    }\n",
       "</style>\n",
       "<table border=\"1\" class=\"dataframe\">\n",
       "  <thead>\n",
       "    <tr style=\"text-align: right;\">\n",
       "      <th></th>\n",
       "      <th>precision</th>\n",
       "      <th>recall</th>\n",
       "      <th>f1_score</th>\n",
       "    </tr>\n",
       "  </thead>\n",
       "  <tbody>\n",
       "    <tr>\n",
       "      <th>DirectLimitWatchman(n_features=53)</th>\n",
       "      <td>0.736203</td>\n",
       "      <td>0.437018</td>\n",
       "      <td>0.413159</td>\n",
       "    </tr>\n",
       "    <tr>\n",
       "      <th>ensemble(threshold=4)</th>\n",
       "      <td>0.615658</td>\n",
       "      <td>0.336897</td>\n",
       "      <td>0.306021</td>\n",
       "    </tr>\n",
       "    <tr>\n",
       "      <th>LinearPredictWatchman(n_features=53)</th>\n",
       "      <td>0.341616</td>\n",
       "      <td>0.528525</td>\n",
       "      <td>0.263802</td>\n",
       "    </tr>\n",
       "    <tr>\n",
       "      <th>ensemble(threshold=2)</th>\n",
       "      <td>0.332358</td>\n",
       "      <td>0.536896</td>\n",
       "      <td>0.260004</td>\n",
       "    </tr>\n",
       "    <tr>\n",
       "      <th>PcaLimitWatchman(n_features=53)</th>\n",
       "      <td>0.920988</td>\n",
       "      <td>0.221336</td>\n",
       "      <td>0.22772</td>\n",
       "    </tr>\n",
       "    <tr>\n",
       "      <th>IsoForestWatchman(n_features=53)</th>\n",
       "      <td>0.08879</td>\n",
       "      <td>1.0</td>\n",
       "      <td>0.134426</td>\n",
       "    </tr>\n",
       "    <tr>\n",
       "      <th>Watchman(n_features=53)</th>\n",
       "      <td>NaN</td>\n",
       "      <td>0.0</td>\n",
       "      <td>0.0</td>\n",
       "    </tr>\n",
       "  </tbody>\n",
       "</table>\n",
       "</div>"
      ],
      "text/plain": [
       "                                     precision    recall  f1_score\n",
       "DirectLimitWatchman(n_features=53)    0.736203  0.437018  0.413159\n",
       "ensemble(threshold=4)                 0.615658  0.336897  0.306021\n",
       "LinearPredictWatchman(n_features=53)  0.341616  0.528525  0.263802\n",
       "ensemble(threshold=2)                 0.332358  0.536896  0.260004\n",
       "PcaLimitWatchman(n_features=53)       0.920988  0.221336   0.22772\n",
       "IsoForestWatchman(n_features=53)       0.08879       1.0  0.134426\n",
       "Watchman(n_features=53)                    NaN       0.0       0.0"
      ]
     },
     "metadata": {},
     "output_type": "display_data"
    },
    {
     "name": "stdout",
     "output_type": "stream",
     "text": [
      "SwatItrustDataset(E:\\Datasets\\SWaT\\datasetA1)\n"
     ]
    },
    {
     "data": {
      "text/html": [
       "<div>\n",
       "<style scoped>\n",
       "    .dataframe tbody tr th:only-of-type {\n",
       "        vertical-align: middle;\n",
       "    }\n",
       "\n",
       "    .dataframe tbody tr th {\n",
       "        vertical-align: top;\n",
       "    }\n",
       "\n",
       "    .dataframe thead th {\n",
       "        text-align: right;\n",
       "    }\n",
       "</style>\n",
       "<table border=\"1\" class=\"dataframe\">\n",
       "  <thead>\n",
       "    <tr style=\"text-align: right;\">\n",
       "      <th></th>\n",
       "      <th>precision</th>\n",
       "      <th>recall</th>\n",
       "      <th>f1_score</th>\n",
       "    </tr>\n",
       "  </thead>\n",
       "  <tbody>\n",
       "    <tr>\n",
       "      <th>DirectLimitWatchman(n_features=51)</th>\n",
       "      <td>0.257732</td>\n",
       "      <td>1.0</td>\n",
       "      <td>0.370309</td>\n",
       "    </tr>\n",
       "    <tr>\n",
       "      <th>IsoForestWatchman(n_features=51)</th>\n",
       "      <td>0.257732</td>\n",
       "      <td>1.0</td>\n",
       "      <td>0.370309</td>\n",
       "    </tr>\n",
       "    <tr>\n",
       "      <th>ensemble(threshold=2)</th>\n",
       "      <td>0.257732</td>\n",
       "      <td>1.0</td>\n",
       "      <td>0.370309</td>\n",
       "    </tr>\n",
       "    <tr>\n",
       "      <th>ensemble(threshold=4)</th>\n",
       "      <td>0.241865</td>\n",
       "      <td>0.806818</td>\n",
       "      <td>0.308252</td>\n",
       "    </tr>\n",
       "    <tr>\n",
       "      <th>LinearPredictWatchman(n_features=51)</th>\n",
       "      <td>0.75</td>\n",
       "      <td>0.094697</td>\n",
       "      <td>0.147222</td>\n",
       "    </tr>\n",
       "    <tr>\n",
       "      <th>PcaLimitWatchman(n_features=51)</th>\n",
       "      <td>0.357143</td>\n",
       "      <td>0.056818</td>\n",
       "      <td>0.098039</td>\n",
       "    </tr>\n",
       "    <tr>\n",
       "      <th>Watchman(n_features=51)</th>\n",
       "      <td>NaN</td>\n",
       "      <td>0.0</td>\n",
       "      <td>0.0</td>\n",
       "    </tr>\n",
       "  </tbody>\n",
       "</table>\n",
       "</div>"
      ],
      "text/plain": [
       "                                     precision    recall  f1_score\n",
       "DirectLimitWatchman(n_features=51)    0.257732       1.0  0.370309\n",
       "IsoForestWatchman(n_features=51)      0.257732       1.0  0.370309\n",
       "ensemble(threshold=2)                 0.257732       1.0  0.370309\n",
       "ensemble(threshold=4)                 0.241865  0.806818  0.308252\n",
       "LinearPredictWatchman(n_features=51)      0.75  0.094697  0.147222\n",
       "PcaLimitWatchman(n_features=51)       0.357143  0.056818  0.098039\n",
       "Watchman(n_features=51)                    NaN       0.0       0.0"
      ]
     },
     "metadata": {},
     "output_type": "display_data"
    }
   ],
   "source": [
    "for d in results:\n",
    "    print(d)\n",
    "    display(results[d].sort_values(by='f1_score', ascending=False))"
   ]
  },
  {
   "cell_type": "code",
   "execution_count": null,
   "id": "903fcf7c",
   "metadata": {},
   "outputs": [],
   "source": []
  }
 ],
 "metadata": {
  "kernelspec": {
   "display_name": "Python 3 (ipykernel)",
   "language": "python",
   "name": "python3"
  },
  "language_info": {
   "codemirror_mode": {
    "name": "ipython",
    "version": 3
   },
   "file_extension": ".py",
   "mimetype": "text/x-python",
   "name": "python",
   "nbconvert_exporter": "python",
   "pygments_lexer": "ipython3",
   "version": "3.8.8"
  },
  "toc": {
   "base_numbering": 1,
   "nav_menu": {},
   "number_sections": true,
   "sideBar": true,
   "skip_h1_title": false,
   "title_cell": "Table of Contents",
   "title_sidebar": "Contents",
   "toc_cell": false,
   "toc_position": {
    "height": "calc(100% - 180px)",
    "left": "10px",
    "top": "150px",
    "width": "272.2px"
   },
   "toc_section_display": true,
   "toc_window_display": false
  }
 },
 "nbformat": 4,
 "nbformat_minor": 5
}
