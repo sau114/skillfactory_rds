{
 "cells": [
  {
   "cell_type": "code",
   "execution_count": 1,
   "id": "3afcaa82",
   "metadata": {
    "ExecuteTime": {
     "end_time": "2022-09-16T14:16:57.682358Z",
     "start_time": "2022-09-16T14:16:57.625604Z"
    }
   },
   "outputs": [],
   "source": [
    "!del /Q utils\\__pycache__"
   ]
  },
  {
   "cell_type": "code",
   "execution_count": 2,
   "id": "86b03be5",
   "metadata": {
    "ExecuteTime": {
     "end_time": "2022-09-16T14:16:59.091095Z",
     "start_time": "2022-09-16T14:16:57.684473Z"
    }
   },
   "outputs": [],
   "source": [
    "import pandas as pd\n",
    "from tqdm.notebook import tqdm"
   ]
  },
  {
   "cell_type": "code",
   "execution_count": 3,
   "id": "f34899c4",
   "metadata": {
    "ExecuteTime": {
     "end_time": "2022-09-16T14:17:08.903349Z",
     "start_time": "2022-09-16T14:16:59.094954Z"
    }
   },
   "outputs": [],
   "source": [
    "from utils.datasets import GhlKasperskyDataset, TepHarvardDataset, TepKasperskyDataset, SwatItrustDataset\n",
    "from utils.custom_plots import plot_stacked\n",
    "from utils.metrics import time_span_metrics\n",
    "from utils.watchmen import DirectLimitWatchman, PcaLimitWatchman\n",
    "from utils.watchmen import IsoForestWatchman\n",
    "from utils.watchmen import LinearPredictWatchman, DeepPredictWatchman"
   ]
  },
  {
   "cell_type": "code",
   "execution_count": 4,
   "id": "f4e9bb0f",
   "metadata": {
    "ExecuteTime": {
     "end_time": "2022-09-16T14:17:08.918204Z",
     "start_time": "2022-09-16T14:17:08.906065Z"
    }
   },
   "outputs": [],
   "source": [
    "SEED = 585"
   ]
  },
  {
   "cell_type": "markdown",
   "id": "ab2d87dc",
   "metadata": {
    "ExecuteTime": {
     "end_time": "2022-08-19T10:07:19.598656Z",
     "start_time": "2022-08-19T10:07:18.676895Z"
    }
   },
   "source": [
    "# Preparing datasets"
   ]
  },
  {
   "cell_type": "code",
   "execution_count": 5,
   "id": "cb921176",
   "metadata": {
    "ExecuteTime": {
     "end_time": "2022-09-16T14:17:09.089958Z",
     "start_time": "2022-09-16T14:17:08.920924Z"
    }
   },
   "outputs": [],
   "source": [
    "datasets = {\n",
    "    0: GhlKasperskyDataset(),\n",
    "    1: TepHarvardDataset(),\n",
    "    2: TepKasperskyDataset(),\n",
    "    3: SwatItrustDataset(),\n",
    "}"
   ]
  },
  {
   "cell_type": "code",
   "execution_count": 6,
   "id": "fd787944",
   "metadata": {
    "ExecuteTime": {
     "end_time": "2022-09-16T14:17:12.068349Z",
     "start_time": "2022-09-16T14:17:09.092920Z"
    }
   },
   "outputs": [],
   "source": [
    "shake_kwargs = {\n",
    "    'random_state': SEED,\n",
    "    'valid2test_ratio': 0.3,\n",
    "}\n",
    "for d in datasets:\n",
    "    datasets[d].shake_not_stir(**shake_kwargs)"
   ]
  },
  {
   "cell_type": "markdown",
   "id": "f007db40",
   "metadata": {},
   "source": [
    "# Preparing watchhouse"
   ]
  },
  {
   "cell_type": "code",
   "execution_count": 7,
   "id": "b5c900e8",
   "metadata": {
    "ExecuteTime": {
     "end_time": "2022-09-16T14:17:12.099515Z",
     "start_time": "2022-09-16T14:17:12.068349Z"
    }
   },
   "outputs": [],
   "source": [
    "watchhouse = {\n",
    "    0: {  # GhlKasperskyDataset\n",
    "        0: DirectLimitWatchman(),\n",
    "        1: PcaLimitWatchman(),\n",
    "        2: IsoForestWatchman(),\n",
    "        3: LinearPredictWatchman(),\n",
    "        4: DeepPredictWatchman(),\n",
    "    },\n",
    "    1: {  # TepHarvardDataset\n",
    "        0: DirectLimitWatchman(),\n",
    "        1: PcaLimitWatchman(),\n",
    "        2: IsoForestWatchman(),\n",
    "        3: LinearPredictWatchman(),\n",
    "        4: DeepPredictWatchman(),\n",
    "    },\n",
    "    2: {  # TepKasperskyDataset\n",
    "        0: DirectLimitWatchman(),\n",
    "        1: PcaLimitWatchman(),\n",
    "        2: IsoForestWatchman(),\n",
    "        3: LinearPredictWatchman(),\n",
    "        4: DeepPredictWatchman(),\n",
    "    },\n",
    "    3: {  # SwatItrustDataset\n",
    "        0: DirectLimitWatchman(),\n",
    "        1: PcaLimitWatchman(),\n",
    "        2: IsoForestWatchman(),\n",
    "        3: LinearPredictWatchman(),\n",
    "        4: DeepPredictWatchman(),\n",
    "    },\n",
    "}"
   ]
  },
  {
   "cell_type": "code",
   "execution_count": 8,
   "id": "1f5d8620",
   "metadata": {
    "ExecuteTime": {
     "end_time": "2022-09-16T14:17:13.322544Z",
     "start_time": "2022-09-16T14:17:12.102388Z"
    }
   },
   "outputs": [],
   "source": [
    "for d in datasets:\n",
    "    for w in watchhouse[d]:\n",
    "        watchhouse[d][w].load(f'{datasets[d].__class__.__name__}')"
   ]
  },
  {
   "cell_type": "markdown",
   "id": "5c728a4c",
   "metadata": {},
   "source": [
    "# Examine"
   ]
  },
  {
   "cell_type": "markdown",
   "id": "05b98514",
   "metadata": {},
   "source": [
    "## Throw stones"
   ]
  },
  {
   "cell_type": "code",
   "execution_count": 9,
   "id": "149642a0",
   "metadata": {
    "ExecuteTime": {
     "end_time": "2022-09-16T14:17:13.337738Z",
     "start_time": "2022-09-16T14:17:13.328512Z"
    }
   },
   "outputs": [],
   "source": [
    "stones = dict()\n",
    "for d in datasets:\n",
    "    stones[d] = dict()\n",
    "    for w in watchhouse[d]:\n",
    "        stones[d][w] = list()"
   ]
  },
  {
   "cell_type": "code",
   "execution_count": 10,
   "id": "2eeb2ed3",
   "metadata": {
    "ExecuteTime": {
     "end_time": "2022-09-16T15:44:04.584005Z",
     "start_time": "2022-09-16T14:17:13.341511Z"
    },
    "scrolled": true
   },
   "outputs": [
    {
     "data": {
      "application/vnd.jupyter.widget-view+json": {
       "model_id": "c8a577a836034eeaac12f97132ce4e3b",
       "version_major": 2,
       "version_minor": 0
      },
      "text/plain": [
       "Detect on validation 0:   0%|          | 0/14 [00:00<?, ?it/s]"
      ]
     },
     "metadata": {},
     "output_type": "display_data"
    },
    {
     "data": {
      "application/vnd.jupyter.widget-view+json": {
       "model_id": "4aae1dd4ded74760aaac31df4fa10b19",
       "version_major": 2,
       "version_minor": 0
      },
      "text/plain": [
       "Detect on validation 1:   0%|          | 0/3150 [00:00<?, ?it/s]"
      ]
     },
     "metadata": {},
     "output_type": "display_data"
    },
    {
     "data": {
      "application/vnd.jupyter.widget-view+json": {
       "model_id": "d33f44ba396d4b4ab98fab41383b5bca",
       "version_major": 2,
       "version_minor": 0
      },
      "text/plain": [
       "Detect on validation 2:   0%|          | 0/146 [00:00<?, ?it/s]"
      ]
     },
     "metadata": {},
     "output_type": "display_data"
    },
    {
     "data": {
      "application/vnd.jupyter.widget-view+json": {
       "model_id": "d78adb64861e4cf7812a70697d26980a",
       "version_major": 2,
       "version_minor": 0
      },
      "text/plain": [
       "Detect on validation 3:   0%|          | 0/2 [00:00<?, ?it/s]"
      ]
     },
     "metadata": {},
     "output_type": "display_data"
    }
   ],
   "source": [
    "for d in datasets:\n",
    "    for data, faults, info in tqdm(datasets[d].valid_generator(), desc=f'Detect on validation {d}'):\n",
    "        for w in watchhouse[d]:\n",
    "            detect = watchhouse[d][w].predict(data)\n",
    "            stones[d][w].append(pd.concat([faults, detect], axis=1))\n",
    "            stones[d][w][-1].index.name = info"
   ]
  },
  {
   "cell_type": "markdown",
   "id": "1bb3f782",
   "metadata": {},
   "source": [
    "## Individual results"
   ]
  },
  {
   "cell_type": "code",
   "execution_count": 11,
   "id": "80eb84b9",
   "metadata": {
    "ExecuteTime": {
     "end_time": "2022-09-16T15:44:04.614582Z",
     "start_time": "2022-09-16T15:44:04.589617Z"
    }
   },
   "outputs": [],
   "source": [
    "metrics = ('precision', 'recall', 'f1_score')\n",
    "results = {str(datasets[d]): pd.DataFrame(columns=metrics) for d in datasets}"
   ]
  },
  {
   "cell_type": "code",
   "execution_count": 12,
   "id": "e8aa1157",
   "metadata": {
    "ExecuteTime": {
     "end_time": "2022-09-16T15:45:30.677324Z",
     "start_time": "2022-09-16T15:44:04.623780Z"
    }
   },
   "outputs": [
    {
     "data": {
      "application/vnd.jupyter.widget-view+json": {
       "model_id": "6b178d82fc65477fb2ac7ea3967a2550",
       "version_major": 2,
       "version_minor": 0
      },
      "text/plain": [
       "Collect stones d0:   0%|          | 0/5 [00:00<?, ?it/s]"
      ]
     },
     "metadata": {},
     "output_type": "display_data"
    },
    {
     "data": {
      "application/vnd.jupyter.widget-view+json": {
       "model_id": "198e7b30b5004f5b9ecab9633ed96229",
       "version_major": 2,
       "version_minor": 0
      },
      "text/plain": [
       "Collect stones d1:   0%|          | 0/5 [00:00<?, ?it/s]"
      ]
     },
     "metadata": {},
     "output_type": "display_data"
    },
    {
     "data": {
      "application/vnd.jupyter.widget-view+json": {
       "model_id": "67e7635250e249a4a961e6b324a51eb8",
       "version_major": 2,
       "version_minor": 0
      },
      "text/plain": [
       "Collect stones d2:   0%|          | 0/5 [00:00<?, ?it/s]"
      ]
     },
     "metadata": {},
     "output_type": "display_data"
    },
    {
     "data": {
      "application/vnd.jupyter.widget-view+json": {
       "model_id": "d961b26205c742fe83912503c12ad3f5",
       "version_major": 2,
       "version_minor": 0
      },
      "text/plain": [
       "Collect stones d3:   0%|          | 0/5 [00:00<?, ?it/s]"
      ]
     },
     "metadata": {},
     "output_type": "display_data"
    }
   ],
   "source": [
    "for d in datasets:\n",
    "    for w in tqdm(watchhouse[d], desc=f'Collect stones d{d}'):\n",
    "        exam_paper = pd.DataFrame(columns=metrics)\n",
    "        for i_st, st in enumerate(stones[d][w]):\n",
    "            exam_paper.loc[i_st, metrics] = time_span_metrics(st.iloc[:, 0], st.iloc[:, 1:])\n",
    "        results[str(datasets[d])].loc[str(watchhouse[d][w]), metrics] = exam_paper.mean().values"
   ]
  },
  {
   "cell_type": "markdown",
   "id": "19aee2a0",
   "metadata": {},
   "source": [
    "## Ensembling results"
   ]
  },
  {
   "cell_type": "code",
   "execution_count": 15,
   "id": "f5ac600e",
   "metadata": {
    "ExecuteTime": {
     "end_time": "2022-09-16T15:58:56.059555Z",
     "start_time": "2022-09-16T15:55:32.767254Z"
    }
   },
   "outputs": [
    {
     "data": {
      "application/vnd.jupyter.widget-view+json": {
       "model_id": "78b0934772514ec582cb37cb33329d48",
       "version_major": 2,
       "version_minor": 0
      },
      "text/plain": [
       "  0%|          | 0/4 [00:00<?, ?it/s]"
      ]
     },
     "metadata": {},
     "output_type": "display_data"
    },
    {
     "data": {
      "application/vnd.jupyter.widget-view+json": {
       "model_id": "61cdf48538494f0da9e6cbc8ddbfbd74",
       "version_major": 2,
       "version_minor": 0
      },
      "text/plain": [
       "  0%|          | 0/4 [00:00<?, ?it/s]"
      ]
     },
     "metadata": {},
     "output_type": "display_data"
    },
    {
     "data": {
      "application/vnd.jupyter.widget-view+json": {
       "model_id": "5f4edd8fd56c4b8693834e7611c71aed",
       "version_major": 2,
       "version_minor": 0
      },
      "text/plain": [
       "  0%|          | 0/4 [00:00<?, ?it/s]"
      ]
     },
     "metadata": {},
     "output_type": "display_data"
    },
    {
     "data": {
      "application/vnd.jupyter.widget-view+json": {
       "model_id": "b8b9d171f0354dda9fefe6b44aca6811",
       "version_major": 2,
       "version_minor": 0
      },
      "text/plain": [
       "  0%|          | 0/4 [00:00<?, ?it/s]"
      ]
     },
     "metadata": {},
     "output_type": "display_data"
    },
    {
     "data": {
      "application/vnd.jupyter.widget-view+json": {
       "model_id": "abaf410309a04e829d97128e5b486f29",
       "version_major": 2,
       "version_minor": 0
      },
      "text/plain": [
       "  0%|          | 0/4 [00:00<?, ?it/s]"
      ]
     },
     "metadata": {},
     "output_type": "display_data"
    },
    {
     "data": {
      "application/vnd.jupyter.widget-view+json": {
       "model_id": "5d2d7abc8ad14e0ba4069afd665d216b",
       "version_major": 2,
       "version_minor": 0
      },
      "text/plain": [
       "  0%|          | 0/4 [00:00<?, ?it/s]"
      ]
     },
     "metadata": {},
     "output_type": "display_data"
    }
   ],
   "source": [
    "for threshold in range(1, 7):\n",
    "    for d in tqdm(datasets):\n",
    "        exam_paper = pd.DataFrame(columns=metrics)\n",
    "        for i_st, st in enumerate(stones[d][0]):\n",
    "            opinions = pd.concat([stones[d][w][i_st].iloc[:, 1:].sum(axis=1) for w in watchhouse[d]], axis=1)\n",
    "            detect = (opinions.sum(axis=1) >= threshold).astype('uint8')\n",
    "            exam_paper.loc[i_st, metrics] = time_span_metrics(st.iloc[:, 0], detect)\n",
    "        results[str(datasets[d])].loc[f'ensemble(threshold={threshold})', metrics] = exam_paper.mean().values"
   ]
  },
  {
   "cell_type": "markdown",
   "id": "d328eca1",
   "metadata": {},
   "source": [
    "## Let's see"
   ]
  },
  {
   "cell_type": "code",
   "execution_count": 16,
   "id": "f60820cf",
   "metadata": {
    "ExecuteTime": {
     "end_time": "2022-09-16T16:00:16.212161Z",
     "start_time": "2022-09-16T16:00:16.130029Z"
    },
    "scrolled": false
   },
   "outputs": [
    {
     "name": "stdout",
     "output_type": "stream",
     "text": [
      "GhlKasperskyDataset(E:\\Datasets\\GHL)\n"
     ]
    },
    {
     "data": {
      "text/html": [
       "<div>\n",
       "<style scoped>\n",
       "    .dataframe tbody tr th:only-of-type {\n",
       "        vertical-align: middle;\n",
       "    }\n",
       "\n",
       "    .dataframe tbody tr th {\n",
       "        vertical-align: top;\n",
       "    }\n",
       "\n",
       "    .dataframe thead th {\n",
       "        text-align: right;\n",
       "    }\n",
       "</style>\n",
       "<table border=\"1\" class=\"dataframe\">\n",
       "  <thead>\n",
       "    <tr style=\"text-align: right;\">\n",
       "      <th></th>\n",
       "      <th>precision</th>\n",
       "      <th>recall</th>\n",
       "      <th>f1_score</th>\n",
       "    </tr>\n",
       "  </thead>\n",
       "  <tbody>\n",
       "    <tr>\n",
       "      <th>ensemble(threshold=5)</th>\n",
       "      <td>0.785714</td>\n",
       "      <td>0.52381</td>\n",
       "      <td>0.597959</td>\n",
       "    </tr>\n",
       "    <tr>\n",
       "      <th>ensemble(threshold=4)</th>\n",
       "      <td>0.415056</td>\n",
       "      <td>0.630952</td>\n",
       "      <td>0.441955</td>\n",
       "    </tr>\n",
       "    <tr>\n",
       "      <th>ensemble(threshold=3)</th>\n",
       "      <td>0.313453</td>\n",
       "      <td>0.672619</td>\n",
       "      <td>0.376754</td>\n",
       "    </tr>\n",
       "    <tr>\n",
       "      <th>PcaLimitWatchman(n_features=12)</th>\n",
       "      <td>0.410256</td>\n",
       "      <td>0.386905</td>\n",
       "      <td>0.366667</td>\n",
       "    </tr>\n",
       "    <tr>\n",
       "      <th>DirectLimitWatchman(n_features=12)</th>\n",
       "      <td>0.34305</td>\n",
       "      <td>0.630952</td>\n",
       "      <td>0.366331</td>\n",
       "    </tr>\n",
       "    <tr>\n",
       "      <th>ensemble(threshold=6)</th>\n",
       "      <td>1.0</td>\n",
       "      <td>0.244048</td>\n",
       "      <td>0.314286</td>\n",
       "    </tr>\n",
       "    <tr>\n",
       "      <th>ensemble(threshold=2)</th>\n",
       "      <td>0.215977</td>\n",
       "      <td>0.714286</td>\n",
       "      <td>0.29657</td>\n",
       "    </tr>\n",
       "    <tr>\n",
       "      <th>DeepPredictWatchman(n_features=12)</th>\n",
       "      <td>0.168142</td>\n",
       "      <td>0.714286</td>\n",
       "      <td>0.259547</td>\n",
       "    </tr>\n",
       "    <tr>\n",
       "      <th>ensemble(threshold=1)</th>\n",
       "      <td>0.025862</td>\n",
       "      <td>1.0</td>\n",
       "      <td>0.050299</td>\n",
       "    </tr>\n",
       "    <tr>\n",
       "      <th>IsoForestWatchman(n_features=12)</th>\n",
       "      <td>0.023114</td>\n",
       "      <td>0.827381</td>\n",
       "      <td>0.044873</td>\n",
       "    </tr>\n",
       "    <tr>\n",
       "      <th>LinearPredictWatchman(n_features=12)</th>\n",
       "      <td>0.007937</td>\n",
       "      <td>0.02381</td>\n",
       "      <td>0.011905</td>\n",
       "    </tr>\n",
       "  </tbody>\n",
       "</table>\n",
       "</div>"
      ],
      "text/plain": [
       "                                     precision    recall  f1_score\n",
       "ensemble(threshold=5)                 0.785714   0.52381  0.597959\n",
       "ensemble(threshold=4)                 0.415056  0.630952  0.441955\n",
       "ensemble(threshold=3)                 0.313453  0.672619  0.376754\n",
       "PcaLimitWatchman(n_features=12)       0.410256  0.386905  0.366667\n",
       "DirectLimitWatchman(n_features=12)     0.34305  0.630952  0.366331\n",
       "ensemble(threshold=6)                      1.0  0.244048  0.314286\n",
       "ensemble(threshold=2)                 0.215977  0.714286   0.29657\n",
       "DeepPredictWatchman(n_features=12)    0.168142  0.714286  0.259547\n",
       "ensemble(threshold=1)                 0.025862       1.0  0.050299\n",
       "IsoForestWatchman(n_features=12)      0.023114  0.827381  0.044873\n",
       "LinearPredictWatchman(n_features=12)  0.007937   0.02381  0.011905"
      ]
     },
     "metadata": {},
     "output_type": "display_data"
    },
    {
     "name": "stdout",
     "output_type": "stream",
     "text": [
      "TepHarvardDataset(E:\\Datasets\\TEP\\dataverse)\n"
     ]
    },
    {
     "data": {
      "text/html": [
       "<div>\n",
       "<style scoped>\n",
       "    .dataframe tbody tr th:only-of-type {\n",
       "        vertical-align: middle;\n",
       "    }\n",
       "\n",
       "    .dataframe tbody tr th {\n",
       "        vertical-align: top;\n",
       "    }\n",
       "\n",
       "    .dataframe thead th {\n",
       "        text-align: right;\n",
       "    }\n",
       "</style>\n",
       "<table border=\"1\" class=\"dataframe\">\n",
       "  <thead>\n",
       "    <tr style=\"text-align: right;\">\n",
       "      <th></th>\n",
       "      <th>precision</th>\n",
       "      <th>recall</th>\n",
       "      <th>f1_score</th>\n",
       "    </tr>\n",
       "  </thead>\n",
       "  <tbody>\n",
       "    <tr>\n",
       "      <th>ensemble(threshold=1)</th>\n",
       "      <td>0.917139</td>\n",
       "      <td>0.818191</td>\n",
       "      <td>0.838499</td>\n",
       "    </tr>\n",
       "    <tr>\n",
       "      <th>LinearPredictWatchman(n_features=52)</th>\n",
       "      <td>1.0</td>\n",
       "      <td>0.793294</td>\n",
       "      <td>0.821243</td>\n",
       "    </tr>\n",
       "    <tr>\n",
       "      <th>ensemble(threshold=2)</th>\n",
       "      <td>1.0</td>\n",
       "      <td>0.763542</td>\n",
       "      <td>0.798357</td>\n",
       "    </tr>\n",
       "    <tr>\n",
       "      <th>ensemble(threshold=3)</th>\n",
       "      <td>1.0</td>\n",
       "      <td>0.724471</td>\n",
       "      <td>0.7639</td>\n",
       "    </tr>\n",
       "    <tr>\n",
       "      <th>DeepPredictWatchman(n_features=52)</th>\n",
       "      <td>1.0</td>\n",
       "      <td>0.687159</td>\n",
       "      <td>0.737626</td>\n",
       "    </tr>\n",
       "    <tr>\n",
       "      <th>ensemble(threshold=4)</th>\n",
       "      <td>1.0</td>\n",
       "      <td>0.687798</td>\n",
       "      <td>0.730151</td>\n",
       "    </tr>\n",
       "    <tr>\n",
       "      <th>DirectLimitWatchman(n_features=52)</th>\n",
       "      <td>1.0</td>\n",
       "      <td>0.651693</td>\n",
       "      <td>0.699804</td>\n",
       "    </tr>\n",
       "    <tr>\n",
       "      <th>ensemble(threshold=5)</th>\n",
       "      <td>1.0</td>\n",
       "      <td>0.629077</td>\n",
       "      <td>0.682971</td>\n",
       "    </tr>\n",
       "    <tr>\n",
       "      <th>ensemble(threshold=6)</th>\n",
       "      <td>1.0</td>\n",
       "      <td>0.581779</td>\n",
       "      <td>0.634125</td>\n",
       "    </tr>\n",
       "    <tr>\n",
       "      <th>PcaLimitWatchman(n_features=52)</th>\n",
       "      <td>1.0</td>\n",
       "      <td>0.569884</td>\n",
       "      <td>0.618054</td>\n",
       "    </tr>\n",
       "    <tr>\n",
       "      <th>IsoForestWatchman(n_features=52)</th>\n",
       "      <td>0.845028</td>\n",
       "      <td>0.493972</td>\n",
       "      <td>0.560941</td>\n",
       "    </tr>\n",
       "  </tbody>\n",
       "</table>\n",
       "</div>"
      ],
      "text/plain": [
       "                                     precision    recall  f1_score\n",
       "ensemble(threshold=1)                 0.917139  0.818191  0.838499\n",
       "LinearPredictWatchman(n_features=52)       1.0  0.793294  0.821243\n",
       "ensemble(threshold=2)                      1.0  0.763542  0.798357\n",
       "ensemble(threshold=3)                      1.0  0.724471    0.7639\n",
       "DeepPredictWatchman(n_features=52)         1.0  0.687159  0.737626\n",
       "ensemble(threshold=4)                      1.0  0.687798  0.730151\n",
       "DirectLimitWatchman(n_features=52)         1.0  0.651693  0.699804\n",
       "ensemble(threshold=5)                      1.0  0.629077  0.682971\n",
       "ensemble(threshold=6)                      1.0  0.581779  0.634125\n",
       "PcaLimitWatchman(n_features=52)            1.0  0.569884  0.618054\n",
       "IsoForestWatchman(n_features=52)      0.845028  0.493972  0.560941"
      ]
     },
     "metadata": {},
     "output_type": "display_data"
    },
    {
     "name": "stdout",
     "output_type": "stream",
     "text": [
      "TepKasperskyDataset(E:\\Datasets\\TEP\\kaspersky)\n"
     ]
    },
    {
     "data": {
      "text/html": [
       "<div>\n",
       "<style scoped>\n",
       "    .dataframe tbody tr th:only-of-type {\n",
       "        vertical-align: middle;\n",
       "    }\n",
       "\n",
       "    .dataframe tbody tr th {\n",
       "        vertical-align: top;\n",
       "    }\n",
       "\n",
       "    .dataframe thead th {\n",
       "        text-align: right;\n",
       "    }\n",
       "</style>\n",
       "<table border=\"1\" class=\"dataframe\">\n",
       "  <thead>\n",
       "    <tr style=\"text-align: right;\">\n",
       "      <th></th>\n",
       "      <th>precision</th>\n",
       "      <th>recall</th>\n",
       "      <th>f1_score</th>\n",
       "    </tr>\n",
       "  </thead>\n",
       "  <tbody>\n",
       "    <tr>\n",
       "      <th>LinearPredictWatchman(n_features=53)</th>\n",
       "      <td>0.786575</td>\n",
       "      <td>0.486306</td>\n",
       "      <td>0.457713</td>\n",
       "    </tr>\n",
       "    <tr>\n",
       "      <th>ensemble(threshold=3)</th>\n",
       "      <td>0.733105</td>\n",
       "      <td>0.474329</td>\n",
       "      <td>0.42869</td>\n",
       "    </tr>\n",
       "    <tr>\n",
       "      <th>DirectLimitWatchman(n_features=53)</th>\n",
       "      <td>0.736203</td>\n",
       "      <td>0.437018</td>\n",
       "      <td>0.413159</td>\n",
       "    </tr>\n",
       "    <tr>\n",
       "      <th>DeepPredictWatchman(n_features=53)</th>\n",
       "      <td>0.67109</td>\n",
       "      <td>0.481813</td>\n",
       "      <td>0.405539</td>\n",
       "    </tr>\n",
       "    <tr>\n",
       "      <th>ensemble(threshold=2)</th>\n",
       "      <td>0.635369</td>\n",
       "      <td>0.503349</td>\n",
       "      <td>0.404354</td>\n",
       "    </tr>\n",
       "    <tr>\n",
       "      <th>ensemble(threshold=4)</th>\n",
       "      <td>0.756979</td>\n",
       "      <td>0.435101</td>\n",
       "      <td>0.402375</td>\n",
       "    </tr>\n",
       "    <tr>\n",
       "      <th>ensemble(threshold=5)</th>\n",
       "      <td>0.776044</td>\n",
       "      <td>0.356763</td>\n",
       "      <td>0.350949</td>\n",
       "    </tr>\n",
       "    <tr>\n",
       "      <th>ensemble(threshold=6)</th>\n",
       "      <td>0.764976</td>\n",
       "      <td>0.329143</td>\n",
       "      <td>0.324713</td>\n",
       "    </tr>\n",
       "    <tr>\n",
       "      <th>PcaLimitWatchman(n_features=53)</th>\n",
       "      <td>0.917949</td>\n",
       "      <td>0.221242</td>\n",
       "      <td>0.227533</td>\n",
       "    </tr>\n",
       "    <tr>\n",
       "      <th>IsoForestWatchman(n_features=53)</th>\n",
       "      <td>0.08879</td>\n",
       "      <td>1.0</td>\n",
       "      <td>0.134426</td>\n",
       "    </tr>\n",
       "    <tr>\n",
       "      <th>ensemble(threshold=1)</th>\n",
       "      <td>0.08879</td>\n",
       "      <td>1.0</td>\n",
       "      <td>0.134426</td>\n",
       "    </tr>\n",
       "  </tbody>\n",
       "</table>\n",
       "</div>"
      ],
      "text/plain": [
       "                                     precision    recall  f1_score\n",
       "LinearPredictWatchman(n_features=53)  0.786575  0.486306  0.457713\n",
       "ensemble(threshold=3)                 0.733105  0.474329   0.42869\n",
       "DirectLimitWatchman(n_features=53)    0.736203  0.437018  0.413159\n",
       "DeepPredictWatchman(n_features=53)     0.67109  0.481813  0.405539\n",
       "ensemble(threshold=2)                 0.635369  0.503349  0.404354\n",
       "ensemble(threshold=4)                 0.756979  0.435101  0.402375\n",
       "ensemble(threshold=5)                 0.776044  0.356763  0.350949\n",
       "ensemble(threshold=6)                 0.764976  0.329143  0.324713\n",
       "PcaLimitWatchman(n_features=53)       0.917949  0.221242  0.227533\n",
       "IsoForestWatchman(n_features=53)       0.08879       1.0  0.134426\n",
       "ensemble(threshold=1)                  0.08879       1.0  0.134426"
      ]
     },
     "metadata": {},
     "output_type": "display_data"
    },
    {
     "name": "stdout",
     "output_type": "stream",
     "text": [
      "SwatItrustDataset(E:\\Datasets\\SWaT\\datasetA1)\n"
     ]
    },
    {
     "data": {
      "text/html": [
       "<div>\n",
       "<style scoped>\n",
       "    .dataframe tbody tr th:only-of-type {\n",
       "        vertical-align: middle;\n",
       "    }\n",
       "\n",
       "    .dataframe tbody tr th {\n",
       "        vertical-align: top;\n",
       "    }\n",
       "\n",
       "    .dataframe thead th {\n",
       "        text-align: right;\n",
       "    }\n",
       "</style>\n",
       "<table border=\"1\" class=\"dataframe\">\n",
       "  <thead>\n",
       "    <tr style=\"text-align: right;\">\n",
       "      <th></th>\n",
       "      <th>precision</th>\n",
       "      <th>recall</th>\n",
       "      <th>f1_score</th>\n",
       "    </tr>\n",
       "  </thead>\n",
       "  <tbody>\n",
       "    <tr>\n",
       "      <th>LinearPredictWatchman(n_features=51)</th>\n",
       "      <td>1.0</td>\n",
       "      <td>0.420455</td>\n",
       "      <td>0.45679</td>\n",
       "    </tr>\n",
       "    <tr>\n",
       "      <th>DirectLimitWatchman(n_features=51)</th>\n",
       "      <td>0.257732</td>\n",
       "      <td>1.0</td>\n",
       "      <td>0.370309</td>\n",
       "    </tr>\n",
       "    <tr>\n",
       "      <th>IsoForestWatchman(n_features=51)</th>\n",
       "      <td>0.257732</td>\n",
       "      <td>1.0</td>\n",
       "      <td>0.370309</td>\n",
       "    </tr>\n",
       "    <tr>\n",
       "      <th>DeepPredictWatchman(n_features=51)</th>\n",
       "      <td>0.257732</td>\n",
       "      <td>1.0</td>\n",
       "      <td>0.370309</td>\n",
       "    </tr>\n",
       "    <tr>\n",
       "      <th>ensemble(threshold=1)</th>\n",
       "      <td>0.257732</td>\n",
       "      <td>1.0</td>\n",
       "      <td>0.370309</td>\n",
       "    </tr>\n",
       "    <tr>\n",
       "      <th>ensemble(threshold=2)</th>\n",
       "      <td>0.257732</td>\n",
       "      <td>1.0</td>\n",
       "      <td>0.370309</td>\n",
       "    </tr>\n",
       "    <tr>\n",
       "      <th>ensemble(threshold=3)</th>\n",
       "      <td>0.257732</td>\n",
       "      <td>1.0</td>\n",
       "      <td>0.370309</td>\n",
       "    </tr>\n",
       "    <tr>\n",
       "      <th>ensemble(threshold=4)</th>\n",
       "      <td>0.257732</td>\n",
       "      <td>1.0</td>\n",
       "      <td>0.370309</td>\n",
       "    </tr>\n",
       "    <tr>\n",
       "      <th>ensemble(threshold=5)</th>\n",
       "      <td>0.257732</td>\n",
       "      <td>1.0</td>\n",
       "      <td>0.370309</td>\n",
       "    </tr>\n",
       "    <tr>\n",
       "      <th>ensemble(threshold=6)</th>\n",
       "      <td>0.257732</td>\n",
       "      <td>1.0</td>\n",
       "      <td>0.370309</td>\n",
       "    </tr>\n",
       "    <tr>\n",
       "      <th>PcaLimitWatchman(n_features=51)</th>\n",
       "      <td>0.357143</td>\n",
       "      <td>0.056818</td>\n",
       "      <td>0.098039</td>\n",
       "    </tr>\n",
       "  </tbody>\n",
       "</table>\n",
       "</div>"
      ],
      "text/plain": [
       "                                     precision    recall  f1_score\n",
       "LinearPredictWatchman(n_features=51)       1.0  0.420455   0.45679\n",
       "DirectLimitWatchman(n_features=51)    0.257732       1.0  0.370309\n",
       "IsoForestWatchman(n_features=51)      0.257732       1.0  0.370309\n",
       "DeepPredictWatchman(n_features=51)    0.257732       1.0  0.370309\n",
       "ensemble(threshold=1)                 0.257732       1.0  0.370309\n",
       "ensemble(threshold=2)                 0.257732       1.0  0.370309\n",
       "ensemble(threshold=3)                 0.257732       1.0  0.370309\n",
       "ensemble(threshold=4)                 0.257732       1.0  0.370309\n",
       "ensemble(threshold=5)                 0.257732       1.0  0.370309\n",
       "ensemble(threshold=6)                 0.257732       1.0  0.370309\n",
       "PcaLimitWatchman(n_features=51)       0.357143  0.056818  0.098039"
      ]
     },
     "metadata": {},
     "output_type": "display_data"
    }
   ],
   "source": [
    "for d in results:\n",
    "    print(d)\n",
    "    display(results[d].sort_values(by='f1_score', ascending=False))"
   ]
  },
  {
   "cell_type": "code",
   "execution_count": null,
   "id": "903fcf7c",
   "metadata": {},
   "outputs": [],
   "source": []
  }
 ],
 "metadata": {
  "kernelspec": {
   "display_name": "Python 3 (ipykernel)",
   "language": "python",
   "name": "python3"
  },
  "language_info": {
   "codemirror_mode": {
    "name": "ipython",
    "version": 3
   },
   "file_extension": ".py",
   "mimetype": "text/x-python",
   "name": "python",
   "nbconvert_exporter": "python",
   "pygments_lexer": "ipython3",
   "version": "3.8.8"
  },
  "toc": {
   "base_numbering": 1,
   "nav_menu": {},
   "number_sections": true,
   "sideBar": true,
   "skip_h1_title": false,
   "title_cell": "Table of Contents",
   "title_sidebar": "Contents",
   "toc_cell": false,
   "toc_position": {
    "height": "calc(100% - 180px)",
    "left": "10px",
    "top": "150px",
    "width": "272.2px"
   },
   "toc_section_display": true,
   "toc_window_display": false
  }
 },
 "nbformat": 4,
 "nbformat_minor": 5
}
