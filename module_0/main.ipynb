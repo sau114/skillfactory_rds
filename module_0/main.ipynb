{
 "cells": [
  {
   "cell_type": "markdown",
   "id": "66cccecc",
   "metadata": {},
   "source": [
    "## Угадай число\n",
    "Компьютер угадывает случайное число от 1 до 100."
   ]
  },
  {
   "cell_type": "code",
   "execution_count": 1,
   "id": "27a31fdf",
   "metadata": {
    "ExecuteTime": {
     "end_time": "2021-07-15T11:32:57.221562Z",
     "start_time": "2021-07-15T11:32:57.027236Z"
    }
   },
   "outputs": [],
   "source": [
    "import numpy\n",
    "\n",
    "SCORING_TOTAL = 1000\n",
    "RANDOM_LOW_LIMIT = 1\n",
    "RANDOM_HIGH_LIMIT = 100\n",
    "\n",
    "# ответ для передачи данных между отгадчиком и проверяющим\n",
    "_prompt = None"
   ]
  },
  {
   "cell_type": "code",
   "execution_count": 2,
   "id": "4303a09b",
   "metadata": {
    "ExecuteTime": {
     "end_time": "2021-07-15T11:32:57.253212Z",
     "start_time": "2021-07-15T11:32:57.225771Z"
    }
   },
   "outputs": [],
   "source": [
    "def examine(guess_method):\n",
    "    global _prompt\n",
    "\n",
    "    attempts_count = []\n",
    "    # generate random sequence\n",
    "    numpy.random.seed(1)\n",
    "    random_numbers = numpy.random.randint(RANDOM_LOW_LIMIT, RANDOM_HIGH_LIMIT+1, size=(SCORING_TOTAL))\n",
    "\n",
    "    for number in random_numbers:\n",
    "        _prompt = None\n",
    "        count = 1\n",
    "        for attempt in guess_method():\n",
    "            if attempt == number:\n",
    "                attempts_count.append(count)\n",
    "                break\n",
    "            else:\n",
    "                # _prompt is +1 if number > attempt and is -1 if number < attempt\n",
    "                _prompt = (number - attempt) // abs(number - attempt)\n",
    "                count += 1\n",
    "\n",
    "    score = int(numpy.mean(attempts_count))\n",
    "    print(f'Your method used {score} attempts average.')\n",
    "    return score"
   ]
  },
  {
   "cell_type": "markdown",
   "id": "ee546dd8",
   "metadata": {},
   "source": [
    "### Отгадчик перебором\n",
    "Оставлен для примера"
   ]
  },
  {
   "cell_type": "code",
   "execution_count": 3,
   "id": "fc47663f",
   "metadata": {
    "ExecuteTime": {
     "end_time": "2021-07-15T11:32:57.268737Z",
     "start_time": "2021-07-15T11:32:57.255203Z"
    }
   },
   "outputs": [],
   "source": [
    "def guess_brute_force():\n",
    "    global _prompt\n",
    "\n",
    "    guess = RANDOM_LOW_LIMIT\n",
    "    while True:\n",
    "        yield guess\n",
    "        guess += 1"
   ]
  },
  {
   "cell_type": "markdown",
   "id": "b4967d8f",
   "metadata": {},
   "source": [
    "### Отгадчик случайным образом\n",
    "Оставлен для примера"
   ]
  },
  {
   "cell_type": "code",
   "execution_count": 4,
   "id": "a45fc7aa",
   "metadata": {
    "ExecuteTime": {
     "end_time": "2021-07-15T11:32:57.277748Z",
     "start_time": "2021-07-15T11:32:57.271727Z"
    }
   },
   "outputs": [],
   "source": [
    "def guess_random():\n",
    "    global _prompt\n",
    "\n",
    "    guess = RANDOM_HIGH_LIMIT - 1\n",
    "    while True:\n",
    "        guess = numpy.random.randint(RANDOM_LOW_LIMIT, RANDOM_HIGH_LIMIT+1)\n",
    "        yield guess"
   ]
  },
  {
   "cell_type": "markdown",
   "id": "37a7f145",
   "metadata": {},
   "source": [
    "### Отгадчик методом половинного деления\n",
    "Оптимальный способ"
   ]
  },
  {
   "cell_type": "code",
   "execution_count": 5,
   "id": "48a8120c",
   "metadata": {
    "ExecuteTime": {
     "end_time": "2021-07-15T11:32:57.293371Z",
     "start_time": "2021-07-15T11:32:57.279741Z"
    }
   },
   "outputs": [],
   "source": [
    "def guess_half_division():\n",
    "    global _prompt\n",
    "\n",
    "    low_limit = RANDOM_LOW_LIMIT\n",
    "    high_limit = RANDOM_HIGH_LIMIT\n",
    "    while True:\n",
    "        guess = (low_limit + high_limit) // 2\n",
    "        yield guess\n",
    "        if _prompt > 0:\n",
    "            low_limit = guess + 1     # because guess we already tried\n",
    "        else:\n",
    "            high_limit = guess - 1    # because guess we already tried"
   ]
  },
  {
   "cell_type": "code",
   "execution_count": 6,
   "id": "7426cfed",
   "metadata": {
    "ExecuteTime": {
     "end_time": "2021-07-15T11:32:57.333654Z",
     "start_time": "2021-07-15T11:32:57.296347Z"
    }
   },
   "outputs": [
    {
     "name": "stdout",
     "output_type": "stream",
     "text": [
      "Your method used 5 attempts average.\n"
     ]
    },
    {
     "data": {
      "text/plain": [
       "5"
      ]
     },
     "execution_count": 6,
     "metadata": {},
     "output_type": "execute_result"
    }
   ],
   "source": [
    "examine(guess_half_division)"
   ]
  }
 ],
 "metadata": {
  "kernelspec": {
   "display_name": "Python 3",
   "language": "python",
   "name": "python3"
  },
  "language_info": {
   "codemirror_mode": {
    "name": "ipython",
    "version": 3
   },
   "file_extension": ".py",
   "mimetype": "text/x-python",
   "name": "python",
   "nbconvert_exporter": "python",
   "pygments_lexer": "ipython3",
   "version": "3.8.8"
  }
 },
 "nbformat": 4,
 "nbformat_minor": 5
}
