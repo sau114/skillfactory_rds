{
 "cells": [
  {
   "cell_type": "markdown",
   "id": "48758938",
   "metadata": {
    "ExecuteTime": {
     "end_time": "2022-03-07T15:43:31.235155Z",
     "start_time": "2022-03-07T15:43:31.222806Z"
    }
   },
   "source": [
    "CatBoost - Продвинутая библиотека градиентного бустинга на деревьях решений с открытым исходным кодом.\n",
    "\n",
    "Заявляется, что хорошо относится к категориальным признакам и не требует их предварительной обработки."
   ]
  },
  {
   "cell_type": "code",
   "execution_count": 1,
   "id": "a21db7a1",
   "metadata": {
    "ExecuteTime": {
     "end_time": "2022-03-07T18:32:02.234067Z",
     "start_time": "2022-03-07T18:32:02.220101Z"
    }
   },
   "outputs": [],
   "source": [
    "# !pip install catboost"
   ]
  },
  {
   "cell_type": "code",
   "execution_count": 2,
   "id": "6ab0813e",
   "metadata": {
    "ExecuteTime": {
     "end_time": "2022-03-07T18:32:02.249216Z",
     "start_time": "2022-03-07T18:32:02.237427Z"
    }
   },
   "outputs": [],
   "source": [
    "# !pip install ipywidgets"
   ]
  },
  {
   "cell_type": "code",
   "execution_count": 3,
   "id": "d5b8ad49",
   "metadata": {
    "ExecuteTime": {
     "end_time": "2022-03-07T18:32:03.522980Z",
     "start_time": "2022-03-07T18:32:02.252019Z"
    }
   },
   "outputs": [],
   "source": [
    "import pandas as pd\n",
    "import numpy as np\n",
    "\n",
    "from catboost import Pool, CatBoostRegressor\n",
    "\n",
    "from sklearn.metrics import mean_absolute_percentage_error\n",
    "from sklearn.model_selection import train_test_split"
   ]
  },
  {
   "cell_type": "markdown",
   "id": "ffbb988f",
   "metadata": {},
   "source": [
    "# Загружаем данные"
   ]
  },
  {
   "cell_type": "code",
   "execution_count": 4,
   "id": "3cfd126a",
   "metadata": {
    "ExecuteTime": {
     "end_time": "2022-03-07T18:32:04.177464Z",
     "start_time": "2022-03-07T18:32:03.524875Z"
    }
   },
   "outputs": [],
   "source": [
    "X = pd.read_csv('EDAv1_Train.zip').drop(columns='price').drop(columns='model_name')\n",
    "y = pd.read_csv('EDAv1_Train.zip', usecols=['price'])\n",
    "\n",
    "X_test = pd.read_csv('EDAv1_Test.zip').drop(columns='model_name')"
   ]
  },
  {
   "cell_type": "code",
   "execution_count": 5,
   "id": "011c19d3",
   "metadata": {
    "ExecuteTime": {
     "end_time": "2022-03-07T18:32:04.208078Z",
     "start_time": "2022-03-07T18:32:04.179375Z"
    }
   },
   "outputs": [
    {
     "data": {
      "text/plain": [
       "Index(['body_type', 'brand', 'color', 'fuel_type', 'model_year', 'n_doors',\n",
       "       'production_year', 'vehicle_transmission', 'engine_power', 'mileage',\n",
       "       'drive_type', 'n_owners', 'is_original_techpass', 'is_lefthand_drive',\n",
       "       'engine_displacement'],\n",
       "      dtype='object')"
      ]
     },
     "execution_count": 5,
     "metadata": {},
     "output_type": "execute_result"
    }
   ],
   "source": [
    "X.columns"
   ]
  },
  {
   "cell_type": "code",
   "execution_count": 6,
   "id": "898c6c26",
   "metadata": {
    "ExecuteTime": {
     "end_time": "2022-03-07T18:32:04.222915Z",
     "start_time": "2022-03-07T18:32:04.209654Z"
    }
   },
   "outputs": [],
   "source": [
    "# категориальные признаки\n",
    "cat_features_list = ['body_type', 'brand', 'color', 'fuel_type', 'n_doors', \n",
    "                     'vehicle_transmission', 'drive_type', 'n_owners', \n",
    "                     'is_original_techpass', 'is_lefthand_drive']"
   ]
  },
  {
   "cell_type": "code",
   "execution_count": 7,
   "id": "c4bb0ca1",
   "metadata": {
    "ExecuteTime": {
     "end_time": "2022-03-07T18:32:04.270654Z",
     "start_time": "2022-03-07T18:32:04.225910Z"
    }
   },
   "outputs": [
    {
     "name": "stdout",
     "output_type": "stream",
     "text": [
      "(69482, 15) (69482, 1)\n",
      "(17371, 15) (17371, 1)\n"
     ]
    }
   ],
   "source": [
    "# разделим на обучающую и валидационную\n",
    "test_size = 0.2\n",
    "seed = 73\n",
    "X_train, X_valid, y_train, y_valid = train_test_split(X, y, test_size=test_size, random_state=seed)\n",
    "print(X_train.shape, y_train.shape)\n",
    "print(X_valid.shape, y_valid.shape)"
   ]
  },
  {
   "cell_type": "code",
   "execution_count": 8,
   "id": "139586f0",
   "metadata": {
    "ExecuteTime": {
     "end_time": "2022-03-07T18:32:04.690102Z",
     "start_time": "2022-03-07T18:32:04.273123Z"
    }
   },
   "outputs": [],
   "source": [
    "# готовим для CatBoost\n",
    "train_pool = Pool(X_train, y_train, cat_features=cat_features_list)\n",
    "valid_pool = Pool(X_valid, y_valid, cat_features=cat_features_list)\n",
    "test_pool = Pool(X_test, cat_features=cat_features_list)"
   ]
  },
  {
   "cell_type": "code",
   "execution_count": 9,
   "id": "9cf0a6d7",
   "metadata": {
    "ExecuteTime": {
     "end_time": "2022-03-07T18:39:13.237150Z",
     "start_time": "2022-03-07T18:32:04.691833Z"
    },
    "scrolled": false
   },
   "outputs": [
    {
     "data": {
      "application/vnd.jupyter.widget-view+json": {
       "model_id": "46a9a501e29446abbcadd727cff32eb6",
       "version_major": 2,
       "version_minor": 0
      },
      "text/plain": [
       "MetricVisualizer(layout=Layout(align_self='stretch', height='500px'))"
      ]
     },
     "metadata": {},
     "output_type": "display_data"
    },
    {
     "data": {
      "text/plain": [
       "<catboost.core.CatBoostRegressor at 0x1d7e876cca0>"
      ]
     },
     "execution_count": 9,
     "metadata": {},
     "output_type": "execute_result"
    }
   ],
   "source": [
    "# учим модель как есть\n",
    "model = CatBoostRegressor(iterations=5000, eval_metric='MAPE', loss_function='MAE')\n",
    "model.fit(train_pool, eval_set=valid_pool, logging_level='Silent', plot=True)"
   ]
  },
  {
   "cell_type": "code",
   "execution_count": 10,
   "id": "1bf76893",
   "metadata": {
    "ExecuteTime": {
     "end_time": "2022-03-07T18:39:13.425741Z",
     "start_time": "2022-03-07T18:39:13.239080Z"
    }
   },
   "outputs": [],
   "source": [
    "# предсказываем результат\n",
    "y_test_predict = model.predict(test_pool)"
   ]
  },
  {
   "cell_type": "code",
   "execution_count": 11,
   "id": "ebd046fa",
   "metadata": {
    "ExecuteTime": {
     "end_time": "2022-03-07T18:39:13.563575Z",
     "start_time": "2022-03-07T18:39:13.427620Z"
    }
   },
   "outputs": [],
   "source": [
    "submission = pd.read_csv('sample_submission_empty.csv')\n",
    "submission['price'] = y_test_predict\n",
    "submission.to_csv('sample_submission_catboost.csv', index=False)"
   ]
  },
  {
   "cell_type": "code",
   "execution_count": null,
   "id": "a3e6f9bd",
   "metadata": {},
   "outputs": [],
   "source": []
  }
 ],
 "metadata": {
  "kernelspec": {
   "display_name": "Python 3",
   "language": "python",
   "name": "python3"
  },
  "language_info": {
   "codemirror_mode": {
    "name": "ipython",
    "version": 3
   },
   "file_extension": ".py",
   "mimetype": "text/x-python",
   "name": "python",
   "nbconvert_exporter": "python",
   "pygments_lexer": "ipython3",
   "version": "3.8.8"
  },
  "toc": {
   "base_numbering": 1,
   "nav_menu": {},
   "number_sections": true,
   "sideBar": true,
   "skip_h1_title": false,
   "title_cell": "Table of Contents",
   "title_sidebar": "Contents",
   "toc_cell": false,
   "toc_position": {},
   "toc_section_display": true,
   "toc_window_display": false
  }
 },
 "nbformat": 4,
 "nbformat_minor": 5
}
