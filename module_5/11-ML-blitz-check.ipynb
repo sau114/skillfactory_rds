{
 "cells": [
  {
   "cell_type": "markdown",
   "id": "8864a403",
   "metadata": {},
   "source": [
    "В данном датасете построим некоторую базовую модель, относительно предсказаний которой можно будет отталкиваться в оценке точности.\n",
    "\n",
    "Устроим блиц-проверку алгоритмов sklearn по мотивам статьи https://habr.com/ru/post/475552/\n",
    "\n",
    "По условиям соревнования, критерием оценки будет MAPE. Мы тоже будет его использовать."
   ]
  },
  {
   "cell_type": "code",
   "execution_count": null,
   "id": "97a1dcd9",
   "metadata": {
    "ExecuteTime": {
     "end_time": "2022-03-07T15:12:13.408357Z",
     "start_time": "2022-03-07T15:08:30.108Z"
    }
   },
   "outputs": [],
   "source": [
    "import pandas as pd\n",
    "import numpy as np\n",
    "from datetime import datetime\n",
    "\n",
    "from sklearn.linear_model import LinearRegression\n",
    "from sklearn.metrics import mean_absolute_percentage_error\n",
    "from sklearn.model_selection import train_test_split"
   ]
  },
  {
   "cell_type": "code",
   "execution_count": 2,
   "id": "e7e3f50c",
   "metadata": {
    "ExecuteTime": {
     "end_time": "2022-03-07T14:36:39.483420Z",
     "start_time": "2022-03-07T14:36:38.953816Z"
    }
   },
   "outputs": [],
   "source": [
    "from sklearn.datasets import load_boston\n",
    "from sklearn.model_selection import train_test_split\n",
    "from sklearn.linear_model import LinearRegression\n",
    "from sklearn.linear_model import Ridge\n",
    "from sklearn.linear_model import Lars\n",
    "from sklearn.linear_model import Lasso\n",
    "from sklearn.linear_model import ElasticNet\n",
    "from sklearn.linear_model import LarsCV\n",
    "from sklearn.linear_model import BayesianRidge\n",
    "from sklearn.neighbors import KNeighborsRegressor\n",
    "from sklearn.tree import DecisionTreeRegressor\n",
    "from sklearn.svm import LinearSVR\n",
    "from sklearn.svm import SVR\n",
    "from sklearn.ensemble import AdaBoostRegressor\n",
    "from sklearn.ensemble import BaggingRegressor\n",
    "from sklearn.ensemble import ExtraTreesRegressor\n",
    "from sklearn.ensemble import GradientBoostingRegressor\n",
    "from sklearn.ensemble import RandomForestRegressor\n",
    "from sklearn.model_selection import KFold\n",
    "from sklearn.model_selection import cross_val_score\n",
    "from sklearn.pipeline import Pipeline\n",
    "from sklearn.preprocessing import StandardScaler\n",
    "from sklearn.preprocessing import Normalizer\n",
    "from matplotlib import pyplot"
   ]
  },
  {
   "cell_type": "markdown",
   "id": "adc5e988",
   "metadata": {},
   "source": [
    "# Загрузка тренировочного датасета"
   ]
  },
  {
   "cell_type": "code",
   "execution_count": 3,
   "id": "e61b223c",
   "metadata": {
    "ExecuteTime": {
     "end_time": "2022-03-07T14:36:39.844656Z",
     "start_time": "2022-03-07T14:36:39.486320Z"
    }
   },
   "outputs": [
    {
     "data": {
      "text/html": [
       "<div>\n",
       "<style scoped>\n",
       "    .dataframe tbody tr th:only-of-type {\n",
       "        vertical-align: middle;\n",
       "    }\n",
       "\n",
       "    .dataframe tbody tr th {\n",
       "        vertical-align: top;\n",
       "    }\n",
       "\n",
       "    .dataframe thead th {\n",
       "        text-align: right;\n",
       "    }\n",
       "</style>\n",
       "<table border=\"1\" class=\"dataframe\">\n",
       "  <thead>\n",
       "    <tr style=\"text-align: right;\">\n",
       "      <th></th>\n",
       "      <th>0</th>\n",
       "    </tr>\n",
       "  </thead>\n",
       "  <tbody>\n",
       "    <tr>\n",
       "      <th>body_type</th>\n",
       "      <td>седан</td>\n",
       "    </tr>\n",
       "    <tr>\n",
       "      <th>brand</th>\n",
       "      <td>AUDI</td>\n",
       "    </tr>\n",
       "    <tr>\n",
       "      <th>color</th>\n",
       "      <td>чёрный</td>\n",
       "    </tr>\n",
       "    <tr>\n",
       "      <th>fuel_type</th>\n",
       "      <td>бензин</td>\n",
       "    </tr>\n",
       "    <tr>\n",
       "      <th>model_year</th>\n",
       "      <td>1990</td>\n",
       "    </tr>\n",
       "    <tr>\n",
       "      <th>n_doors</th>\n",
       "      <td>4</td>\n",
       "    </tr>\n",
       "    <tr>\n",
       "      <th>production_year</th>\n",
       "      <td>1991</td>\n",
       "    </tr>\n",
       "    <tr>\n",
       "      <th>vehicle_transmission</th>\n",
       "      <td>механика</td>\n",
       "    </tr>\n",
       "    <tr>\n",
       "      <th>engine_power</th>\n",
       "      <td>174.0</td>\n",
       "    </tr>\n",
       "    <tr>\n",
       "      <th>mileage</th>\n",
       "      <td>350000</td>\n",
       "    </tr>\n",
       "    <tr>\n",
       "      <th>drive_type</th>\n",
       "      <td>полный</td>\n",
       "    </tr>\n",
       "    <tr>\n",
       "      <th>n_owners</th>\n",
       "      <td>3+</td>\n",
       "    </tr>\n",
       "    <tr>\n",
       "      <th>model_name</th>\n",
       "      <td>100</td>\n",
       "    </tr>\n",
       "    <tr>\n",
       "      <th>is_original_techpass</th>\n",
       "      <td>1</td>\n",
       "    </tr>\n",
       "    <tr>\n",
       "      <th>is_lefthand_drive</th>\n",
       "      <td>1</td>\n",
       "    </tr>\n",
       "    <tr>\n",
       "      <th>engine_displacement</th>\n",
       "      <td>2.8</td>\n",
       "    </tr>\n",
       "  </tbody>\n",
       "</table>\n",
       "</div>"
      ],
      "text/plain": [
       "                             0\n",
       "body_type                седан\n",
       "brand                     AUDI\n",
       "color                   чёрный\n",
       "fuel_type               бензин\n",
       "model_year                1990\n",
       "n_doors                      4\n",
       "production_year           1991\n",
       "vehicle_transmission  механика\n",
       "engine_power             174.0\n",
       "mileage                 350000\n",
       "drive_type              полный\n",
       "n_owners                    3+\n",
       "model_name                 100\n",
       "is_original_techpass         1\n",
       "is_lefthand_drive            1\n",
       "engine_displacement        2.8"
      ]
     },
     "execution_count": 3,
     "metadata": {},
     "output_type": "execute_result"
    }
   ],
   "source": [
    "X = pd.read_csv('EDAv1_Train.zip').drop(columns='price')\n",
    "X.head(1).T"
   ]
  },
  {
   "cell_type": "code",
   "execution_count": 4,
   "id": "02faff54",
   "metadata": {
    "ExecuteTime": {
     "end_time": "2022-03-07T14:36:40.065559Z",
     "start_time": "2022-03-07T14:36:39.847701Z"
    }
   },
   "outputs": [
    {
     "data": {
      "text/html": [
       "<div>\n",
       "<style scoped>\n",
       "    .dataframe tbody tr th:only-of-type {\n",
       "        vertical-align: middle;\n",
       "    }\n",
       "\n",
       "    .dataframe tbody tr th {\n",
       "        vertical-align: top;\n",
       "    }\n",
       "\n",
       "    .dataframe thead th {\n",
       "        text-align: right;\n",
       "    }\n",
       "</style>\n",
       "<table border=\"1\" class=\"dataframe\">\n",
       "  <thead>\n",
       "    <tr style=\"text-align: right;\">\n",
       "      <th></th>\n",
       "      <th>price</th>\n",
       "    </tr>\n",
       "  </thead>\n",
       "  <tbody>\n",
       "    <tr>\n",
       "      <th>0</th>\n",
       "      <td>200000.0</td>\n",
       "    </tr>\n",
       "  </tbody>\n",
       "</table>\n",
       "</div>"
      ],
      "text/plain": [
       "      price\n",
       "0  200000.0"
      ]
     },
     "execution_count": 4,
     "metadata": {},
     "output_type": "execute_result"
    }
   ],
   "source": [
    "y = pd.read_csv('EDAv1_Train.zip', usecols=['price'])\n",
    "y.head(1)"
   ]
  },
  {
   "cell_type": "markdown",
   "id": "359e2b92",
   "metadata": {},
   "source": [
    "# Проверим готовность данных"
   ]
  },
  {
   "cell_type": "code",
   "execution_count": 5,
   "id": "d006694b",
   "metadata": {
    "ExecuteTime": {
     "end_time": "2022-03-07T14:36:40.128797Z",
     "start_time": "2022-03-07T14:36:40.067245Z"
    }
   },
   "outputs": [
    {
     "name": "stdout",
     "output_type": "stream",
     "text": [
      "<class 'pandas.core.frame.DataFrame'>\n",
      "RangeIndex: 86853 entries, 0 to 86852\n",
      "Data columns (total 16 columns):\n",
      " #   Column                Non-Null Count  Dtype  \n",
      "---  ------                --------------  -----  \n",
      " 0   body_type             86853 non-null  object \n",
      " 1   brand                 86853 non-null  object \n",
      " 2   color                 86853 non-null  object \n",
      " 3   fuel_type             86853 non-null  object \n",
      " 4   model_year            86853 non-null  int64  \n",
      " 5   n_doors               86853 non-null  int64  \n",
      " 6   production_year       86853 non-null  int64  \n",
      " 7   vehicle_transmission  86853 non-null  object \n",
      " 8   engine_power          86853 non-null  float64\n",
      " 9   mileage               86853 non-null  int64  \n",
      " 10  drive_type            86853 non-null  object \n",
      " 11  n_owners              86853 non-null  object \n",
      " 12  model_name            86853 non-null  object \n",
      " 13  is_original_techpass  86853 non-null  int64  \n",
      " 14  is_lefthand_drive     86853 non-null  int64  \n",
      " 15  engine_displacement   66557 non-null  float64\n",
      "dtypes: float64(2), int64(6), object(8)\n",
      "memory usage: 10.6+ MB\n"
     ]
    }
   ],
   "source": [
    "X.info()"
   ]
  },
  {
   "cell_type": "markdown",
   "id": "2658df09",
   "metadata": {},
   "source": [
    "В обоих датасетах есть пропуски в объёме двигателя. \n",
    "При этом, во время EDA было видно, что у объема высокая корреляция с мощностью двигателя.\n",
    "Поэтому, в данной ситуации, для baseline удалим этот признак.\n",
    "\n",
    "Также удалим признак model_year - высокая корреляция с production_year, который д.б. более важным по смыслу.\n",
    "\n",
    "Признак model_name тоже пока что удалим - слишком много вариаций."
   ]
  },
  {
   "cell_type": "code",
   "execution_count": 6,
   "id": "304156d4",
   "metadata": {
    "ExecuteTime": {
     "end_time": "2022-03-07T14:36:40.159768Z",
     "start_time": "2022-03-07T14:36:40.130707Z"
    },
    "scrolled": true
   },
   "outputs": [],
   "source": [
    "columns_to_drop = ['engine_displacement', 'model_year', 'model_name']\n",
    "X.drop(columns=columns_to_drop, inplace=True)"
   ]
  },
  {
   "cell_type": "code",
   "execution_count": 7,
   "id": "eee72ac1",
   "metadata": {
    "ExecuteTime": {
     "end_time": "2022-03-07T14:36:40.268707Z",
     "start_time": "2022-03-07T14:36:40.164664Z"
    }
   },
   "outputs": [],
   "source": [
    "# one-hot-encoding для категориальных признаков\n",
    "X = pd.get_dummies(X)"
   ]
  },
  {
   "cell_type": "markdown",
   "id": "1cd676e8",
   "metadata": {},
   "source": [
    "# Проверяем модели"
   ]
  },
  {
   "cell_type": "markdown",
   "id": "0ed3c246",
   "metadata": {},
   "source": [
    "## Разделяем на тренировочную и валидационную части"
   ]
  },
  {
   "cell_type": "code",
   "execution_count": 23,
   "id": "b487a39e",
   "metadata": {
    "ExecuteTime": {
     "end_time": "2022-03-07T15:00:50.618557Z",
     "start_time": "2022-03-07T15:00:50.601588Z"
    }
   },
   "outputs": [],
   "source": [
    "# параметры разделения\n",
    "test_size = 0.3\n",
    "seed = 73"
   ]
  },
  {
   "cell_type": "code",
   "execution_count": 24,
   "id": "38e543f1",
   "metadata": {
    "ExecuteTime": {
     "end_time": "2022-03-07T15:00:51.096628Z",
     "start_time": "2022-03-07T15:00:51.026185Z"
    }
   },
   "outputs": [
    {
     "name": "stdout",
     "output_type": "stream",
     "text": [
      "(60797, 80) (60797, 1)\n",
      "(26056, 80) (26056, 1)\n"
     ]
    }
   ],
   "source": [
    "X_train, X_valid, y_train, y_valid = train_test_split(X, y, test_size=test_size, random_state=seed)\n",
    "print(X_train.shape, y_train.shape)\n",
    "print(X_valid.shape, y_valid.shape)"
   ]
  },
  {
   "cell_type": "code",
   "execution_count": 25,
   "id": "2bcc259b",
   "metadata": {
    "ExecuteTime": {
     "end_time": "2022-03-07T15:00:51.576965Z",
     "start_time": "2022-03-07T15:00:51.569187Z"
    }
   },
   "outputs": [],
   "source": [
    "# параметры оценки\n",
    "num_folds = 5\n",
    "n_iter = 1000\n",
    "n_estimators = 100\n",
    "scoring = 'neg_mean_absolute_percentage_error'"
   ]
  },
  {
   "cell_type": "code",
   "execution_count": 26,
   "id": "0991c5d8",
   "metadata": {
    "ExecuteTime": {
     "end_time": "2022-03-07T15:00:52.211195Z",
     "start_time": "2022-03-07T15:00:52.110424Z"
    }
   },
   "outputs": [],
   "source": [
    "# список моделей-кандидатов\n",
    "# закомментированы совсем плохие по результатам или расходящиеся\n",
    "models = []\n",
    "models.append(('LR', LinearRegression(n_jobs=-1)))\n",
    "models.append(('R', Ridge()))\n",
    "# models.append(('L', Lasso()))\n",
    "# models.append(('ELN', ElasticNet()))\n",
    "# models.append(('LARS', Lars(normalize=False)))\n",
    "# models.append(('BR', BayesianRidge(n_iter=n_iter)))\n",
    "models.append(('KNR', KNeighborsRegressor(n_jobs=-1))) # более-менее результат, но хуже ансамблей и очень медленно\n",
    "models.append(('DTR', DecisionTreeRegressor()))\n",
    "# models.append(('LSVR', LinearSVR()))\n",
    "# models.append(('SVR', SVR()))\n",
    "# models.append(('ABR', AdaBoostRegressor(n_estimators=n_estimators))) # очень плохие результаты\n",
    "models.append(('BR', BaggingRegressor(n_estimators=n_estimators, n_jobs=-1)))\n",
    "models.append(('ETR', ExtraTreesRegressor(n_estimators=n_estimators, n_jobs=-1)))\n",
    "models.append(('GBR', GradientBoostingRegressor(n_estimators=n_estimators)))\n",
    "models.append(('RFR', RandomForestRegressor(n_estimators=n_estimators, n_jobs=-1)))"
   ]
  },
  {
   "cell_type": "code",
   "execution_count": 27,
   "id": "6d84f84a",
   "metadata": {
    "ExecuteTime": {
     "end_time": "2022-03-07T15:00:54.007951Z",
     "start_time": "2022-03-07T15:00:53.994370Z"
    }
   },
   "outputs": [],
   "source": [
    "# таблица результатов\n",
    "models_effcy = pd.DataFrame(index=[name for name, model in models])"
   ]
  },
  {
   "cell_type": "code",
   "execution_count": 28,
   "id": "afda4dac",
   "metadata": {
    "ExecuteTime": {
     "end_time": "2022-03-07T15:12:13.095650Z",
     "start_time": "2022-03-07T15:00:54.585499Z"
    },
    "scrolled": false
   },
   "outputs": [
    {
     "name": "stdout",
     "output_type": "stream",
     "text": [
      "LR LinearRegression(n_jobs=-1) complete\n",
      "R Ridge() complete\n",
      "KNR KNeighborsRegressor(n_jobs=-1) complete\n",
      "DTR DecisionTreeRegressor() complete\n",
      "BR BaggingRegressor(n_estimators=100, n_jobs=-1) complete\n",
      "ETR ExtraTreesRegressor(n_jobs=-1) complete\n",
      "GBR GradientBoostingRegressor() complete\n",
      "RFR RandomForestRegressor(n_jobs=-1) complete\n"
     ]
    },
    {
     "data": {
      "text/html": [
       "<div>\n",
       "<style scoped>\n",
       "    .dataframe tbody tr th:only-of-type {\n",
       "        vertical-align: middle;\n",
       "    }\n",
       "\n",
       "    .dataframe tbody tr th {\n",
       "        vertical-align: top;\n",
       "    }\n",
       "\n",
       "    .dataframe thead th {\n",
       "        text-align: right;\n",
       "    }\n",
       "</style>\n",
       "<table border=\"1\" class=\"dataframe\">\n",
       "  <thead>\n",
       "    <tr style=\"text-align: right;\">\n",
       "      <th></th>\n",
       "      <th>split_score</th>\n",
       "      <th>cv_mean</th>\n",
       "      <th>cv_std</th>\n",
       "    </tr>\n",
       "  </thead>\n",
       "  <tbody>\n",
       "    <tr>\n",
       "      <th>LR</th>\n",
       "      <td>0.938004</td>\n",
       "      <td>-0.957173</td>\n",
       "      <td>0.010086</td>\n",
       "    </tr>\n",
       "    <tr>\n",
       "      <th>R</th>\n",
       "      <td>0.938014</td>\n",
       "      <td>-0.957154</td>\n",
       "      <td>0.010070</td>\n",
       "    </tr>\n",
       "    <tr>\n",
       "      <th>KNR</th>\n",
       "      <td>0.414946</td>\n",
       "      <td>-0.412539</td>\n",
       "      <td>0.003390</td>\n",
       "    </tr>\n",
       "    <tr>\n",
       "      <th>DTR</th>\n",
       "      <td>0.201589</td>\n",
       "      <td>-0.201753</td>\n",
       "      <td>0.003571</td>\n",
       "    </tr>\n",
       "    <tr>\n",
       "      <th>BR</th>\n",
       "      <td>0.158559</td>\n",
       "      <td>-0.157246</td>\n",
       "      <td>0.002921</td>\n",
       "    </tr>\n",
       "    <tr>\n",
       "      <th>ETR</th>\n",
       "      <td>0.159024</td>\n",
       "      <td>-0.159154</td>\n",
       "      <td>0.002644</td>\n",
       "    </tr>\n",
       "    <tr>\n",
       "      <th>GBR</th>\n",
       "      <td>0.263766</td>\n",
       "      <td>-0.275265</td>\n",
       "      <td>0.007704</td>\n",
       "    </tr>\n",
       "    <tr>\n",
       "      <th>RFR</th>\n",
       "      <td>0.158183</td>\n",
       "      <td>-0.157090</td>\n",
       "      <td>0.003069</td>\n",
       "    </tr>\n",
       "  </tbody>\n",
       "</table>\n",
       "</div>"
      ],
      "text/plain": [
       "     split_score   cv_mean    cv_std\n",
       "LR      0.938004 -0.957173  0.010086\n",
       "R       0.938014 -0.957154  0.010070\n",
       "KNR     0.414946 -0.412539  0.003390\n",
       "DTR     0.201589 -0.201753  0.003571\n",
       "BR      0.158559 -0.157246  0.002921\n",
       "ETR     0.159024 -0.159154  0.002644\n",
       "GBR     0.263766 -0.275265  0.007704\n",
       "RFR     0.158183 -0.157090  0.003069"
      ]
     },
     "metadata": {},
     "output_type": "display_data"
    }
   ],
   "source": [
    "# Оценивание эффективности каждой модели\n",
    "for name, model in models:\n",
    "    # оценка с отложенной частью\n",
    "    m_fit = model.fit(X_train, np.ravel(y_train))\n",
    "    y_predict = model.predict(X_valid)\n",
    "    m_score = mean_absolute_percentage_error(y_valid, y_predict)\n",
    "    models_effcy.loc[name, 'split_score'] = m_score\n",
    "    # оценка кросс-валидацией по всем данным\n",
    "    kfold = KFold(n_splits=num_folds, shuffle=True, random_state=seed)\n",
    "    cv_results = cross_val_score(model, X, np.ravel(y.values), cv=kfold, scoring=scoring)\n",
    "    models_effcy.loc[name, 'cv_mean'] = cv_results.mean()\n",
    "    models_effcy.loc[name, 'cv_std'] = cv_results.std()\n",
    "    # models_effcy.loc[name, 'results'] = list(cv_results)\n",
    "    print(name, model, 'complete')\n",
    "display(models_effcy)"
   ]
  },
  {
   "cell_type": "markdown",
   "id": "98e5f2ce",
   "metadata": {
    "ExecuteTime": {
     "end_time": "2022-03-07T14:55:58.626825Z",
     "start_time": "2022-03-07T14:55:58.598693Z"
    }
   },
   "source": [
    "split_score - чем меньше, тем лучше\n",
    "\n",
    "cv_mean - чем меньше по модулю, тем лучше"
   ]
  },
  {
   "cell_type": "markdown",
   "id": "76db2e84",
   "metadata": {},
   "source": [
    "По показателям выберем BaggingRegressor для baseline"
   ]
  },
  {
   "cell_type": "markdown",
   "id": "8395133c",
   "metadata": {},
   "source": [
    "ТОП для тюнинга и стекинга:\n",
    "- KNeighborsRegressor\n",
    "- BaggingRegressor\n",
    "- RandomForestRegressor\n",
    "- ExtraTreesRegressor\n",
    "- DecisionTreeRegressor"
   ]
  },
  {
   "cell_type": "markdown",
   "id": "f2581310",
   "metadata": {},
   "source": [
    "# Результат для Kaggle"
   ]
  },
  {
   "cell_type": "code",
   "execution_count": 39,
   "id": "b96fc38e",
   "metadata": {
    "ExecuteTime": {
     "end_time": "2022-03-07T15:27:08.933330Z",
     "start_time": "2022-03-07T15:27:08.325225Z"
    }
   },
   "outputs": [],
   "source": [
    "X_train = pd.read_csv('EDAv1_Train.zip').drop(columns='price')\n",
    "y_train = pd.read_csv('EDAv1_Train.zip', usecols=['price'])\n",
    "X_test = pd.read_csv('EDAv1_Test.zip')"
   ]
  },
  {
   "cell_type": "code",
   "execution_count": 40,
   "id": "1d09f344",
   "metadata": {
    "ExecuteTime": {
     "end_time": "2022-03-07T15:27:09.226926Z",
     "start_time": "2022-03-07T15:27:09.178706Z"
    }
   },
   "outputs": [],
   "source": [
    "# склеим датасеты признаков\n",
    "X_train['is_train'] = 1\n",
    "X_test['is_train'] = 0\n",
    "X = X_train.append(X_test)"
   ]
  },
  {
   "cell_type": "code",
   "execution_count": 41,
   "id": "06c4b2ee",
   "metadata": {
    "ExecuteTime": {
     "end_time": "2022-03-07T15:27:10.279519Z",
     "start_time": "2022-03-07T15:27:10.120499Z"
    }
   },
   "outputs": [],
   "source": [
    "# обработаем также\n",
    "columns_to_drop = ['engine_displacement', 'model_year', 'model_name']\n",
    "X.drop(columns=columns_to_drop, inplace=True)\n",
    "X = pd.get_dummies(X)"
   ]
  },
  {
   "cell_type": "code",
   "execution_count": 42,
   "id": "702349cf",
   "metadata": {
    "ExecuteTime": {
     "end_time": "2022-03-07T15:27:11.166091Z",
     "start_time": "2022-03-07T15:27:11.056972Z"
    }
   },
   "outputs": [],
   "source": [
    "# разделим\n",
    "X_train = X[X['is_train'] == 1].drop(columns=['is_train'])\n",
    "X_test = X[X['is_train'] == 0].drop(columns=['is_train'])"
   ]
  },
  {
   "cell_type": "code",
   "execution_count": 44,
   "id": "c7b11df5",
   "metadata": {
    "ExecuteTime": {
     "end_time": "2022-03-07T15:28:07.916439Z",
     "start_time": "2022-03-07T15:27:42.263449Z"
    }
   },
   "outputs": [
    {
     "data": {
      "text/plain": [
       "BaggingRegressor(n_estimators=100, n_jobs=-1)"
      ]
     },
     "execution_count": 44,
     "metadata": {},
     "output_type": "execute_result"
    }
   ],
   "source": [
    "# обучим\n",
    "baseline_model = BaggingRegressor(n_estimators=n_estimators, n_jobs=-1)\n",
    "baseline_model.fit(X_train, np.ravel(y_train))"
   ]
  },
  {
   "cell_type": "code",
   "execution_count": 45,
   "id": "bed54cc1",
   "metadata": {
    "ExecuteTime": {
     "end_time": "2022-03-07T15:28:10.107478Z",
     "start_time": "2022-03-07T15:28:07.918383Z"
    }
   },
   "outputs": [],
   "source": [
    "# предскажем\n",
    "y_test_predict = baseline_model.predict(X_test)"
   ]
  },
  {
   "cell_type": "code",
   "execution_count": 47,
   "id": "19c6e748",
   "metadata": {
    "ExecuteTime": {
     "end_time": "2022-03-07T15:28:25.698089Z",
     "start_time": "2022-03-07T15:28:25.593402Z"
    }
   },
   "outputs": [],
   "source": [
    "submission = pd.read_csv('sample_submission_empty.csv')\n",
    "submission['price'] = y_test_predict\n",
    "submission.to_csv('sample_submission.csv', index=False)"
   ]
  },
  {
   "cell_type": "code",
   "execution_count": null,
   "id": "04f3fe49",
   "metadata": {},
   "outputs": [],
   "source": []
  }
 ],
 "metadata": {
  "kernelspec": {
   "display_name": "Python 3",
   "language": "python",
   "name": "python3"
  },
  "language_info": {
   "codemirror_mode": {
    "name": "ipython",
    "version": 3
   },
   "file_extension": ".py",
   "mimetype": "text/x-python",
   "name": "python",
   "nbconvert_exporter": "python",
   "pygments_lexer": "ipython3",
   "version": "3.8.8"
  },
  "toc": {
   "base_numbering": 1,
   "nav_menu": {},
   "number_sections": true,
   "sideBar": true,
   "skip_h1_title": false,
   "title_cell": "Table of Contents",
   "title_sidebar": "Contents",
   "toc_cell": false,
   "toc_position": {},
   "toc_section_display": true,
   "toc_window_display": false
  }
 },
 "nbformat": 4,
 "nbformat_minor": 5
}
