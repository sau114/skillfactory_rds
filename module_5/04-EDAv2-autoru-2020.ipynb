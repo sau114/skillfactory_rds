{
 "cells": [
  {
   "cell_type": "markdown",
   "id": "f231143f",
   "metadata": {},
   "source": [
    "# Импорт библиотек"
   ]
  },
  {
   "cell_type": "code",
   "execution_count": 1,
   "id": "e76d3f75",
   "metadata": {
    "ExecuteTime": {
     "end_time": "2022-03-09T14:56:13.969819Z",
     "start_time": "2022-03-09T14:55:56.048076Z"
    }
   },
   "outputs": [],
   "source": [
    "import pandas as pd\n",
    "import numpy as np\n",
    "from pandas_profiling import ProfileReport\n",
    "import re"
   ]
  },
  {
   "cell_type": "markdown",
   "id": "1b03c54e",
   "metadata": {},
   "source": [
    "# Загружаем и смотрим данные"
   ]
  },
  {
   "cell_type": "code",
   "execution_count": 2,
   "id": "17ee90c5",
   "metadata": {
    "ExecuteTime": {
     "end_time": "2022-03-09T14:56:23.562360Z",
     "start_time": "2022-03-09T14:56:13.972775Z"
    },
    "scrolled": true
   },
   "outputs": [],
   "source": [
    "data_raw = pd.read_csv('all_auto_ru_09_09_2020.csv.zip')"
   ]
  },
  {
   "cell_type": "code",
   "execution_count": 3,
   "id": "611d6122",
   "metadata": {
    "ExecuteTime": {
     "end_time": "2022-03-09T14:56:23.684885Z",
     "start_time": "2022-03-09T14:56:23.594942Z"
    }
   },
   "outputs": [
    {
     "data": {
      "text/html": [
       "<div>\n",
       "<style scoped>\n",
       "    .dataframe tbody tr th:only-of-type {\n",
       "        vertical-align: middle;\n",
       "    }\n",
       "\n",
       "    .dataframe tbody tr th {\n",
       "        vertical-align: top;\n",
       "    }\n",
       "\n",
       "    .dataframe thead th {\n",
       "        text-align: right;\n",
       "    }\n",
       "</style>\n",
       "<table border=\"1\" class=\"dataframe\">\n",
       "  <thead>\n",
       "    <tr style=\"text-align: right;\">\n",
       "      <th></th>\n",
       "      <th>0</th>\n",
       "      <th>1</th>\n",
       "    </tr>\n",
       "  </thead>\n",
       "  <tbody>\n",
       "    <tr>\n",
       "      <th>bodyType</th>\n",
       "      <td>Седан</td>\n",
       "      <td>Седан</td>\n",
       "    </tr>\n",
       "    <tr>\n",
       "      <th>brand</th>\n",
       "      <td>AUDI</td>\n",
       "      <td>AUDI</td>\n",
       "    </tr>\n",
       "    <tr>\n",
       "      <th>color</th>\n",
       "      <td>040001</td>\n",
       "      <td>EE1D19</td>\n",
       "    </tr>\n",
       "    <tr>\n",
       "      <th>fuelType</th>\n",
       "      <td>бензин</td>\n",
       "      <td>бензин</td>\n",
       "    </tr>\n",
       "    <tr>\n",
       "      <th>modelDate</th>\n",
       "      <td>1990.0</td>\n",
       "      <td>1982.0</td>\n",
       "    </tr>\n",
       "    <tr>\n",
       "      <th>name</th>\n",
       "      <td>2.8 MT (174 л.с.) 4WD</td>\n",
       "      <td>1.8 MT (90 л.с.)</td>\n",
       "    </tr>\n",
       "    <tr>\n",
       "      <th>numberOfDoors</th>\n",
       "      <td>4.0</td>\n",
       "      <td>4.0</td>\n",
       "    </tr>\n",
       "    <tr>\n",
       "      <th>productionDate</th>\n",
       "      <td>1991</td>\n",
       "      <td>1986</td>\n",
       "    </tr>\n",
       "    <tr>\n",
       "      <th>vehicleConfiguration</th>\n",
       "      <td>SEDAN MECHANICAL 2.8</td>\n",
       "      <td>SEDAN MECHANICAL 1.8</td>\n",
       "    </tr>\n",
       "    <tr>\n",
       "      <th>vehicleTransmission</th>\n",
       "      <td>MECHANICAL</td>\n",
       "      <td>MECHANICAL</td>\n",
       "    </tr>\n",
       "    <tr>\n",
       "      <th>engineDisplacement</th>\n",
       "      <td>2.8</td>\n",
       "      <td>1.8</td>\n",
       "    </tr>\n",
       "    <tr>\n",
       "      <th>enginePower</th>\n",
       "      <td>174.0</td>\n",
       "      <td>90.0</td>\n",
       "    </tr>\n",
       "    <tr>\n",
       "      <th>description</th>\n",
       "      <td>Машина  в приличном состоянии ,не гнилая не р...</td>\n",
       "      <td>Машина в оригинале не гнилая все вопросы по те...</td>\n",
       "    </tr>\n",
       "    <tr>\n",
       "      <th>mileage</th>\n",
       "      <td>350000</td>\n",
       "      <td>173424</td>\n",
       "    </tr>\n",
       "    <tr>\n",
       "      <th>Комплектация</th>\n",
       "      <td>{'id': '0'}</td>\n",
       "      <td>{'id': '0'}</td>\n",
       "    </tr>\n",
       "    <tr>\n",
       "      <th>Привод</th>\n",
       "      <td>полный</td>\n",
       "      <td>передний</td>\n",
       "    </tr>\n",
       "    <tr>\n",
       "      <th>Руль</th>\n",
       "      <td>LEFT</td>\n",
       "      <td>LEFT</td>\n",
       "    </tr>\n",
       "    <tr>\n",
       "      <th>Состояние</th>\n",
       "      <td>NaN</td>\n",
       "      <td>NaN</td>\n",
       "    </tr>\n",
       "    <tr>\n",
       "      <th>Владельцы</th>\n",
       "      <td>3.0</td>\n",
       "      <td>3.0</td>\n",
       "    </tr>\n",
       "    <tr>\n",
       "      <th>ПТС</th>\n",
       "      <td>ORIGINAL</td>\n",
       "      <td>ORIGINAL</td>\n",
       "    </tr>\n",
       "    <tr>\n",
       "      <th>Таможня</th>\n",
       "      <td>True</td>\n",
       "      <td>True</td>\n",
       "    </tr>\n",
       "    <tr>\n",
       "      <th>Владение</th>\n",
       "      <td>NaN</td>\n",
       "      <td>NaN</td>\n",
       "    </tr>\n",
       "    <tr>\n",
       "      <th>price</th>\n",
       "      <td>200000.0</td>\n",
       "      <td>60000.0</td>\n",
       "    </tr>\n",
       "    <tr>\n",
       "      <th>start_date</th>\n",
       "      <td>2019-10-03T08:09:11Z</td>\n",
       "      <td>2020-09-06T06:49:40Z</td>\n",
       "    </tr>\n",
       "    <tr>\n",
       "      <th>hidden</th>\n",
       "      <td>NaN</td>\n",
       "      <td>NaN</td>\n",
       "    </tr>\n",
       "    <tr>\n",
       "      <th>model</th>\n",
       "      <td>100</td>\n",
       "      <td>100</td>\n",
       "    </tr>\n",
       "  </tbody>\n",
       "</table>\n",
       "</div>"
      ],
      "text/plain": [
       "                                                                      0  \\\n",
       "bodyType                                                          Седан   \n",
       "brand                                                              AUDI   \n",
       "color                                                            040001   \n",
       "fuelType                                                         бензин   \n",
       "modelDate                                                        1990.0   \n",
       "name                                              2.8 MT (174 л.с.) 4WD   \n",
       "numberOfDoors                                                       4.0   \n",
       "productionDate                                                     1991   \n",
       "vehicleConfiguration                               SEDAN MECHANICAL 2.8   \n",
       "vehicleTransmission                                          MECHANICAL   \n",
       "engineDisplacement                                                  2.8   \n",
       "enginePower                                                       174.0   \n",
       "description            Машина  в приличном состоянии ,не гнилая не р...   \n",
       "mileage                                                          350000   \n",
       "Комплектация                                                {'id': '0'}   \n",
       "Привод                                                           полный   \n",
       "Руль                                                               LEFT   \n",
       "Состояние                                                           NaN   \n",
       "Владельцы                                                           3.0   \n",
       "ПТС                                                            ORIGINAL   \n",
       "Таможня                                                            True   \n",
       "Владение                                                            NaN   \n",
       "price                                                          200000.0   \n",
       "start_date                                         2019-10-03T08:09:11Z   \n",
       "hidden                                                              NaN   \n",
       "model                                                               100   \n",
       "\n",
       "                                                                      1  \n",
       "bodyType                                                          Седан  \n",
       "brand                                                              AUDI  \n",
       "color                                                            EE1D19  \n",
       "fuelType                                                         бензин  \n",
       "modelDate                                                        1982.0  \n",
       "name                                                   1.8 MT (90 л.с.)  \n",
       "numberOfDoors                                                       4.0  \n",
       "productionDate                                                     1986  \n",
       "vehicleConfiguration                               SEDAN MECHANICAL 1.8  \n",
       "vehicleTransmission                                          MECHANICAL  \n",
       "engineDisplacement                                                  1.8  \n",
       "enginePower                                                        90.0  \n",
       "description           Машина в оригинале не гнилая все вопросы по те...  \n",
       "mileage                                                          173424  \n",
       "Комплектация                                                {'id': '0'}  \n",
       "Привод                                                         передний  \n",
       "Руль                                                               LEFT  \n",
       "Состояние                                                           NaN  \n",
       "Владельцы                                                           3.0  \n",
       "ПТС                                                            ORIGINAL  \n",
       "Таможня                                                            True  \n",
       "Владение                                                            NaN  \n",
       "price                                                           60000.0  \n",
       "start_date                                         2020-09-06T06:49:40Z  \n",
       "hidden                                                              NaN  \n",
       "model                                                               100  "
      ]
     },
     "execution_count": 3,
     "metadata": {},
     "output_type": "execute_result"
    }
   ],
   "source": [
    "data_raw.head(2).T"
   ]
  },
  {
   "cell_type": "code",
   "execution_count": 4,
   "id": "fc7e69a1",
   "metadata": {
    "ExecuteTime": {
     "end_time": "2022-03-09T14:56:23.980905Z",
     "start_time": "2022-03-09T14:56:23.686925Z"
    }
   },
   "outputs": [
    {
     "name": "stdout",
     "output_type": "stream",
     "text": [
      "<class 'pandas.core.frame.DataFrame'>\n",
      "RangeIndex: 89378 entries, 0 to 89377\n",
      "Data columns (total 26 columns):\n",
      " #   Column                Non-Null Count  Dtype  \n",
      "---  ------                --------------  -----  \n",
      " 0   bodyType              89377 non-null  object \n",
      " 1   brand                 89378 non-null  object \n",
      " 2   color                 89378 non-null  object \n",
      " 3   fuelType              89378 non-null  object \n",
      " 4   modelDate             89377 non-null  float64\n",
      " 5   name                  89377 non-null  object \n",
      " 6   numberOfDoors         89377 non-null  float64\n",
      " 7   productionDate        89378 non-null  int64  \n",
      " 8   vehicleConfiguration  89377 non-null  object \n",
      " 9   vehicleTransmission   89377 non-null  object \n",
      " 10  engineDisplacement    89377 non-null  object \n",
      " 11  enginePower           89377 non-null  float64\n",
      " 12  description           86124 non-null  object \n",
      " 13  mileage               89378 non-null  int64  \n",
      " 14  Комплектация          89378 non-null  object \n",
      " 15  Привод                89377 non-null  object \n",
      " 16  Руль                  89378 non-null  object \n",
      " 17  Состояние             0 non-null      float64\n",
      " 18  Владельцы             75790 non-null  float64\n",
      " 19  ПТС                   89017 non-null  object \n",
      " 20  Таможня               89378 non-null  bool   \n",
      " 21  Владение              29201 non-null  object \n",
      " 22  price                 88968 non-null  float64\n",
      " 23  start_date            89378 non-null  object \n",
      " 24  hidden                0 non-null      float64\n",
      " 25  model                 89378 non-null  object \n",
      "dtypes: bool(1), float64(7), int64(2), object(16)\n",
      "memory usage: 17.1+ MB\n"
     ]
    }
   ],
   "source": [
    "data_raw.info()"
   ]
  },
  {
   "cell_type": "code",
   "execution_count": 5,
   "id": "8c1ca255",
   "metadata": {
    "ExecuteTime": {
     "end_time": "2022-03-09T14:56:24.010510Z",
     "start_time": "2022-03-09T14:56:23.995220Z"
    }
   },
   "outputs": [],
   "source": [
    "data_raw_profile = ProfileReport(data_raw, title=\"Pandas Profiling Report\")\n",
    "# data_raw_profile.to_notebook_iframe()"
   ]
  },
  {
   "cell_type": "markdown",
   "id": "9195226b",
   "metadata": {},
   "source": [
    "Подход такой же, как и при обработке датасета соревнования.\n",
    "\n",
    "Что надо сделать:\n",
    "- оставить данные, только есть цена\n",
    "- сравнить категориальные признаки с датасетом соревнования, привести к такому же типу\n",
    "- названия признаков привести к одному виду\n",
    "- удалить дубликаты"
   ]
  },
  {
   "cell_type": "code",
   "execution_count": 6,
   "id": "07a49328",
   "metadata": {
    "ExecuteTime": {
     "end_time": "2022-03-09T14:56:25.909022Z",
     "start_time": "2022-03-09T14:56:24.012699Z"
    }
   },
   "outputs": [],
   "source": [
    "# удалим бесценное, сильно пустое и дубликаты\n",
    "data_raw = data_raw.dropna(axis=0, subset=['price']).dropna(axis=0, thresh=20).drop_duplicates()"
   ]
  },
  {
   "cell_type": "markdown",
   "id": "27f48ff6",
   "metadata": {},
   "source": [
    "# Предобработка v2"
   ]
  },
  {
   "cell_type": "markdown",
   "id": "dae454e3",
   "metadata": {},
   "source": [
    "## Копируем основу"
   ]
  },
  {
   "cell_type": "code",
   "execution_count": 7,
   "id": "154d1fad",
   "metadata": {
    "ExecuteTime": {
     "end_time": "2022-03-09T14:56:26.002331Z",
     "start_time": "2022-03-09T14:56:25.912997Z"
    }
   },
   "outputs": [],
   "source": [
    "# удалим бесполезное\n",
    "data_1 = data_raw.drop(columns=['Состояние', 'Таможня', 'Владение', 'hidden'])"
   ]
  },
  {
   "cell_type": "code",
   "execution_count": 8,
   "id": "735b50d2",
   "metadata": {
    "ExecuteTime": {
     "end_time": "2022-03-09T14:56:26.049944Z",
     "start_time": "2022-03-09T14:56:26.005321Z"
    }
   },
   "outputs": [],
   "source": [
    "# удалим требующее обработки, добавим потом из data_raw\n",
    "data_1.drop(columns=['ПТС', 'Руль', 'Комплектация', 'name', 'model', \n",
    "                     'start_date', 'engineDisplacement', 'vehicleConfiguration'], inplace=True)\n",
    "# оставим description для CatBoost\n",
    "# model пойдёт в сборный признак"
   ]
  },
  {
   "cell_type": "markdown",
   "id": "c07da559",
   "metadata": {},
   "source": [
    "## Правим названия"
   ]
  },
  {
   "cell_type": "code",
   "execution_count": 9,
   "id": "c6157dc0",
   "metadata": {
    "ExecuteTime": {
     "end_time": "2022-03-09T14:56:26.065171Z",
     "start_time": "2022-03-09T14:56:26.051938Z"
    }
   },
   "outputs": [],
   "source": [
    "# приведем названия к единому стилю\n",
    "rule_rename = {'bodyType': 'body_type',\n",
    "               'fuelType': 'fuel_type',\n",
    "               'modelDate': 'model_year',\n",
    "               'model': 'model_name',\n",
    "               'numberOfDoors': 'n_doors',\n",
    "               'productionDate': 'production_year',\n",
    "               'vehicleConfiguration': 'vehicle_configuration',\n",
    "               'vehicleTransmission': 'vehicle_transmission',\n",
    "               'engineDisplacement': 'engine_displacement',\n",
    "               'enginePower': 'engine_power',\n",
    "               'Владельцы': 'n_owners',\n",
    "               'Привод': 'drive_type'}\n",
    "data_1.rename(columns=rule_rename, inplace=True)"
   ]
  },
  {
   "cell_type": "markdown",
   "id": "440c71ba",
   "metadata": {},
   "source": [
    "## Простые обработки признаков"
   ]
  },
  {
   "cell_type": "code",
   "execution_count": 10,
   "id": "19369731",
   "metadata": {
    "ExecuteTime": {
     "end_time": "2022-03-09T14:56:26.191078Z",
     "start_time": "2022-03-09T14:56:26.068233Z"
    }
   },
   "outputs": [],
   "source": [
    "# ПТС - это бинарный признак, оригинал или дубликат\n",
    "data_1['is_original_techpass'] = data_raw['ПТС'].apply(lambda x: 1 if x in ['ORIGINAL', 'Оригинал'] else 0).astype('int8')"
   ]
  },
  {
   "cell_type": "code",
   "execution_count": 11,
   "id": "ce2e7e4a",
   "metadata": {
    "ExecuteTime": {
     "end_time": "2022-03-09T14:56:26.284501Z",
     "start_time": "2022-03-09T14:56:26.193014Z"
    }
   },
   "outputs": [],
   "source": [
    "# Руль - это бинарный признак, левый или правый\n",
    "data_1['is_lefthand_drive'] = data_raw['Руль'].apply(lambda x: 1 if x in ['LEFT', 'Левый'] else 0).astype('int8')"
   ]
  },
  {
   "cell_type": "code",
   "execution_count": 12,
   "id": "398f5fcd",
   "metadata": {
    "ExecuteTime": {
     "end_time": "2022-03-09T14:56:26.642557Z",
     "start_time": "2022-03-09T14:56:26.289002Z"
    }
   },
   "outputs": [],
   "source": [
    "# сделаем объем двигателя числом\n",
    "engine_displacement_re = data_raw['name'].apply(lambda x : re.match('\\d\\.\\d', x))\n",
    "data_1['engine_displacement'] = engine_displacement_re.apply(lambda x: float(x.group(0)) if x is not None else np.NaN)"
   ]
  },
  {
   "cell_type": "code",
   "execution_count": 13,
   "id": "c4bb9403",
   "metadata": {
    "ExecuteTime": {
     "end_time": "2022-03-09T14:56:27.129117Z",
     "start_time": "2022-03-09T14:56:26.644504Z"
    }
   },
   "outputs": [
    {
     "data": {
      "text/plain": [
       "array(['седан', 'универсал', 'хэтчбек', 'кабриолет', 'купе', 'лифтбек',\n",
       "       'внедорожник', 'минивэн', 'родстер', 'пикап', 'фургон', 'лимузин'],\n",
       "      dtype=object)"
      ]
     },
     "execution_count": 13,
     "metadata": {},
     "output_type": "execute_result"
    }
   ],
   "source": [
    "# укрупним категории типа кузова\n",
    "# теперь пусть роадстер будет отдельным типом\n",
    "def generic_body_type(raw_body_type):\n",
    "    \"\"\"\n",
    "    Функция ищет ключевые слова в описании кузова и возвращает тип кузова\n",
    "    \"\"\"\n",
    "    result = raw_body_type\n",
    "    body_type = raw_body_type.lower()\n",
    "    generic_dict = {'лифтбек': 'лифтбек',\n",
    "                    'фастбек': 'лифтбек',\n",
    "                    'седан': 'седан',\n",
    "                    'внедорожник': 'внедорожник',\n",
    "                    'хэтчбек': 'хэтчбек',\n",
    "                    'универсал': 'универсал',\n",
    "                    'пикап': 'пикап',\n",
    "                    'купе': 'купе',\n",
    "                    'кабриолет': 'кабриолет',\n",
    "                    'родстер': 'родстер',\n",
    "                    'тарга': 'родстер',\n",
    "                    'вэн': 'минивэн',\n",
    "                    'лимузин': 'лимузин',\n",
    "                    'фургон': 'фургон'}\n",
    "    for keyword in generic_dict.keys():\n",
    "        if body_type.find(keyword) >= 0:\n",
    "            result = generic_dict[keyword]\n",
    "            break\n",
    "    return result\n",
    "\n",
    "data_1['body_type'] = data_1['body_type'].fillna(value='unknown').apply(generic_body_type)\n",
    "data_1['body_type'].unique()"
   ]
  },
  {
   "cell_type": "code",
   "execution_count": 14,
   "id": "60aac010",
   "metadata": {
    "ExecuteTime": {
     "end_time": "2022-03-09T14:56:27.569499Z",
     "start_time": "2022-03-09T14:56:27.132619Z"
    }
   },
   "outputs": [
    {
     "data": {
      "text/plain": [
       "array(['чёрный', 'красный', 'синий', 'серый', 'зелёный', 'белый',\n",
       "       'фиолетовый', 'коричневый', 'бежевый', 'жёлтый', 'розовый'],\n",
       "      dtype=object)"
      ]
     },
     "execution_count": 14,
     "metadata": {},
     "output_type": "execute_result"
    }
   ],
   "source": [
    "# назовём цвет кузова\n",
    "# https://hysy.org/colors/\n",
    "def generic_color(raw_color):\n",
    "    \"\"\"\n",
    "    Функция проверяет цвет и даёт ему название\n",
    "    \"\"\"\n",
    "    result = raw_color\n",
    "    generic_dict = {'040001': 'чёрный',\n",
    "                    'EE1D19': 'красный',\n",
    "                    '0000CC': 'синий',\n",
    "                    'CACECB': 'серый',\n",
    "                    '007F00': 'зелёный',\n",
    "                    'FAFBFB': 'белый',\n",
    "                    '97948F': 'серый',\n",
    "                    '22A0F8': 'синий',\n",
    "                    '660099': 'фиолетовый',\n",
    "                    '200204': 'коричневый',\n",
    "                    'C49648': 'бежевый',\n",
    "                    'DEA522': 'жёлтый',\n",
    "                    '4A2197': 'фиолетовый',\n",
    "                    'FFD600': 'жёлтый',\n",
    "                    'FF8649': 'розовый',\n",
    "                    'FFC0CB': 'розовый',\n",
    "                    'пурпурный': 'фиолетовый',\n",
    "                    'голубой': 'синий',\n",
    "                    'золотистый': 'жёлтый',\n",
    "                    'серебристый': 'серый',\n",
    "                    'оранжевый': 'жёлтый'}\n",
    "    for keyword in generic_dict.keys():\n",
    "        if raw_color.find(keyword) >= 0:\n",
    "            result = generic_dict[keyword]\n",
    "            break\n",
    "    return result\n",
    "\n",
    "data_1['color'] = data_1['color'].fillna(value='unknown').apply(generic_color)\n",
    "data_1['color'].unique()"
   ]
  },
  {
   "cell_type": "code",
   "execution_count": 15,
   "id": "64776486",
   "metadata": {
    "ExecuteTime": {
     "end_time": "2022-03-09T14:56:27.598627Z",
     "start_time": "2022-03-09T14:56:27.576480Z"
    }
   },
   "outputs": [],
   "source": [
    "data_1['model_year'] = data_1['model_year'].astype('int')"
   ]
  },
  {
   "cell_type": "code",
   "execution_count": 16,
   "id": "d5775dba",
   "metadata": {
    "ExecuteTime": {
     "end_time": "2022-03-09T14:56:27.611755Z",
     "start_time": "2022-03-09T14:56:27.603614Z"
    }
   },
   "outputs": [],
   "source": [
    "data_1['n_doors'] = data_1['n_doors'].astype('int')"
   ]
  },
  {
   "cell_type": "code",
   "execution_count": 17,
   "id": "2c87095e",
   "metadata": {
    "ExecuteTime": {
     "end_time": "2022-03-09T14:56:27.905059Z",
     "start_time": "2022-03-09T14:56:27.613806Z"
    }
   },
   "outputs": [
    {
     "data": {
      "text/plain": [
       "array(['механика', 'автомат', 'робот', 'вариатор'], dtype=object)"
      ]
     },
     "execution_count": 17,
     "metadata": {},
     "output_type": "execute_result"
    }
   ],
   "source": [
    "# назовём тип КПП\n",
    "def generic_transmission(raw_gearbox):\n",
    "    \"\"\"\n",
    "    Функция даёт название КПП\n",
    "    \"\"\"\n",
    "    result = raw_gearbox\n",
    "    generic_dict = {'MECHANICAL': 'механика',\n",
    "                    'AUTOMATIC': 'автомат',\n",
    "                    'ROBOT': 'робот',\n",
    "                    'VARIATOR': 'вариатор',\n",
    "                    'роботизированная': 'робот',\n",
    "                    'механическая': 'механика',\n",
    "                    'автоматическая': 'автомат',\n",
    "                    'вариатор': 'вариатор'\n",
    "                   }\n",
    "    for keyword in generic_dict.keys():\n",
    "        if raw_gearbox.find(keyword) >= 0:\n",
    "            result = generic_dict[keyword]\n",
    "            break\n",
    "    return result\n",
    "\n",
    "data_1['vehicle_transmission'] = data_1['vehicle_transmission'].fillna(value='unknown').apply(generic_transmission)\n",
    "data_1['vehicle_transmission'].unique()"
   ]
  },
  {
   "cell_type": "code",
   "execution_count": 18,
   "id": "3e9933d7",
   "metadata": {
    "ExecuteTime": {
     "end_time": "2022-03-09T14:56:28.422369Z",
     "start_time": "2022-03-09T14:56:27.912386Z"
    }
   },
   "outputs": [
    {
     "data": {
      "text/plain": [
       "array(['3+', '1', '2', '0'], dtype=object)"
      ]
     },
     "execution_count": 18,
     "metadata": {},
     "output_type": "execute_result"
    }
   ],
   "source": [
    "# назовём количество владельцев\n",
    "def generic_owners(raw_owners):\n",
    "    \"\"\"\n",
    "    Функция даёт название КПП\n",
    "    \"\"\"\n",
    "    result = str(raw_owners)\n",
    "    generic_dict = {'1': '1',\n",
    "                    '2': '2',\n",
    "                    '3': '3+',\n",
    "                   }\n",
    "    for keyword in generic_dict.keys():\n",
    "        if str(raw_owners).find(keyword) >= 0:\n",
    "            result = generic_dict[keyword]\n",
    "            break\n",
    "    return result\n",
    "\n",
    "data_1['n_owners'] = data_1['n_owners'].fillna(value='0').apply(generic_owners)\n",
    "data_1['n_owners'].unique()"
   ]
  },
  {
   "cell_type": "code",
   "execution_count": 19,
   "id": "bbabf229",
   "metadata": {
    "ExecuteTime": {
     "end_time": "2022-03-09T14:56:28.438060Z",
     "start_time": "2022-03-09T14:56:28.424329Z"
    }
   },
   "outputs": [],
   "source": [
    "# посмотрим на этих неизвестных владельев\n",
    "# display(data_1[data_1['n_owners'] == 'unknown'].sample(5))\n",
    "# display(data_1[data_1['n_owners'] == 'unknown']['mileage'].unique())\n",
    "# это новые автомобили, значит отметим выше, что у них 0 владельцев"
   ]
  },
  {
   "cell_type": "markdown",
   "id": "10502c81",
   "metadata": {
    "ExecuteTime": {
     "end_time": "2022-03-08T13:37:29.586637Z",
     "start_time": "2022-03-08T13:37:29.577682Z"
    }
   },
   "source": [
    "## Более сложные признаки"
   ]
  },
  {
   "cell_type": "code",
   "execution_count": 20,
   "id": "efbacfac",
   "metadata": {
    "ExecuteTime": {
     "end_time": "2022-03-09T14:56:28.654715Z",
     "start_time": "2022-03-09T14:56:28.440080Z"
    }
   },
   "outputs": [
    {
     "data": {
      "text/plain": [
       "array(['audi 100', 'audi 200', 'audi 80', ..., 'ssang_yong rexton',\n",
       "       'ssang_yong rodius', 'ssang_yong stavic'], dtype=object)"
      ]
     },
     "execution_count": 20,
     "metadata": {},
     "output_type": "execute_result"
    }
   ],
   "source": [
    "# соберём марку и модель в один признак\n",
    "data_1['full_model_name'] = (data_raw['brand'] + ' ' + data_raw['model']).str.lower()\n",
    "data_1['full_model_name'].unique()"
   ]
  },
  {
   "cell_type": "markdown",
   "id": "948585c9",
   "metadata": {},
   "source": [
    "# Посмотрим на результат предобработки"
   ]
  },
  {
   "cell_type": "code",
   "execution_count": 21,
   "id": "b63fd36a",
   "metadata": {
    "ExecuteTime": {
     "end_time": "2022-03-09T14:56:28.792989Z",
     "start_time": "2022-03-09T14:56:28.659701Z"
    },
    "scrolled": false
   },
   "outputs": [
    {
     "name": "stdout",
     "output_type": "stream",
     "text": [
      "<class 'pandas.core.frame.DataFrame'>\n",
      "Int64Index: 86853 entries, 0 to 89377\n",
      "Data columns (total 18 columns):\n",
      " #   Column                Non-Null Count  Dtype  \n",
      "---  ------                --------------  -----  \n",
      " 0   body_type             86853 non-null  object \n",
      " 1   brand                 86853 non-null  object \n",
      " 2   color                 86853 non-null  object \n",
      " 3   fuel_type             86853 non-null  object \n",
      " 4   model_year            86853 non-null  int32  \n",
      " 5   n_doors               86853 non-null  int32  \n",
      " 6   production_year       86853 non-null  int64  \n",
      " 7   vehicle_transmission  86853 non-null  object \n",
      " 8   engine_power          86853 non-null  float64\n",
      " 9   description           83640 non-null  object \n",
      " 10  mileage               86853 non-null  int64  \n",
      " 11  drive_type            86853 non-null  object \n",
      " 12  n_owners              86853 non-null  object \n",
      " 13  price                 86853 non-null  float64\n",
      " 14  is_original_techpass  86853 non-null  int8   \n",
      " 15  is_lefthand_drive     86853 non-null  int8   \n",
      " 16  engine_displacement   66557 non-null  float64\n",
      " 17  full_model_name       86853 non-null  object \n",
      "dtypes: float64(3), int32(2), int64(2), int8(2), object(9)\n",
      "memory usage: 10.8+ MB\n"
     ]
    }
   ],
   "source": [
    "data_1.info()"
   ]
  },
  {
   "cell_type": "code",
   "execution_count": 22,
   "id": "813e485d",
   "metadata": {
    "ExecuteTime": {
     "end_time": "2022-03-09T14:56:28.840183Z",
     "start_time": "2022-03-09T14:56:28.820109Z"
    }
   },
   "outputs": [],
   "source": [
    "data_1_profile = ProfileReport(data_1, title=\"Data_EDA_v1 Profiling Report\")\n",
    "# data_1_profile.to_notebook_iframe()"
   ]
  },
  {
   "cell_type": "markdown",
   "id": "0ac7dcf8",
   "metadata": {},
   "source": [
    "# Сохраним результат предобработки"
   ]
  },
  {
   "cell_type": "code",
   "execution_count": 23,
   "id": "64d5c71e",
   "metadata": {
    "ExecuteTime": {
     "end_time": "2022-03-09T14:56:48.563314Z",
     "start_time": "2022-03-09T14:56:28.844143Z"
    }
   },
   "outputs": [],
   "source": [
    "compression_opts = dict(method='zip', archive_name='EDAv2_Train.csv')  \n",
    "data_1.to_csv('EDAv2_Train.zip', index=False, compression=compression_opts)"
   ]
  },
  {
   "cell_type": "markdown",
   "id": "f83664b7",
   "metadata": {},
   "source": [
    "# Посмотрим внимательно на цены"
   ]
  },
  {
   "cell_type": "code",
   "execution_count": 27,
   "id": "0275de86",
   "metadata": {
    "ExecuteTime": {
     "end_time": "2022-03-09T15:00:29.085003Z",
     "start_time": "2022-03-09T15:00:29.064151Z"
    }
   },
   "outputs": [],
   "source": [
    "data_1['price'].sample(10)"
   ]
  },
  {
   "cell_type": "code",
   "execution_count": 29,
   "id": "48fef611",
   "metadata": {
    "ExecuteTime": {
     "end_time": "2022-03-09T15:00:41.418517Z",
     "start_time": "2022-03-09T15:00:41.408083Z"
    }
   },
   "outputs": [],
   "source": [
    "# гипотеза - все цены кратны 1000 рублей\n",
    "price = data_1['price']"
   ]
  },
  {
   "cell_type": "code",
   "execution_count": 34,
   "id": "f571922a",
   "metadata": {
    "ExecuteTime": {
     "end_time": "2022-03-09T15:02:22.803152Z",
     "start_time": "2022-03-09T15:02:22.779391Z"
    }
   },
   "outputs": [
    {
     "data": {
      "text/plain": [
       "8099"
      ]
     },
     "execution_count": 34,
     "metadata": {},
     "output_type": "execute_result"
    }
   ],
   "source": [
    "(((price/1000).astype('int')*1000 - price) != 0).sum()\n",
    "# довольно мало ~10% не кратны 1000"
   ]
  },
  {
   "cell_type": "code",
   "execution_count": 35,
   "id": "10b1172f",
   "metadata": {
    "ExecuteTime": {
     "end_time": "2022-03-09T15:04:04.192591Z",
     "start_time": "2022-03-09T15:04:04.179011Z"
    }
   },
   "outputs": [
    {
     "data": {
      "text/plain": [
       "40       109999.0\n",
       "110      199999.0\n",
       "154       87500.0\n",
       "205       99999.0\n",
       "231       89999.0\n",
       "           ...   \n",
       "88868    549999.0\n",
       "89013    529900.0\n",
       "89019    534900.0\n",
       "89041    749750.0\n",
       "89202    429999.0\n",
       "Name: price, Length: 8099, dtype: float64"
      ]
     },
     "execution_count": 35,
     "metadata": {},
     "output_type": "execute_result"
    }
   ],
   "source": [
    "price[((price/1000).astype('int')*1000 - price) != 0]\n",
    "# при этом даже не кратные, очень близки"
   ]
  }
 ],
 "metadata": {
  "kernelspec": {
   "display_name": "Python 3",
   "language": "python",
   "name": "python3"
  },
  "language_info": {
   "codemirror_mode": {
    "name": "ipython",
    "version": 3
   },
   "file_extension": ".py",
   "mimetype": "text/x-python",
   "name": "python",
   "nbconvert_exporter": "python",
   "pygments_lexer": "ipython3",
   "version": "3.8.8"
  },
  "toc": {
   "base_numbering": 1,
   "nav_menu": {},
   "number_sections": true,
   "sideBar": true,
   "skip_h1_title": false,
   "title_cell": "Table of Contents",
   "title_sidebar": "Contents",
   "toc_cell": false,
   "toc_position": {},
   "toc_section_display": true,
   "toc_window_display": false
  }
 },
 "nbformat": 4,
 "nbformat_minor": 5
}
