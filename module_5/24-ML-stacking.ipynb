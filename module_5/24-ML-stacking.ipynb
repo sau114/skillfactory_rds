{
 "cells": [
  {
   "cell_type": "markdown",
   "id": "8864a403",
   "metadata": {},
   "source": [
    "Устроим стекинг ТОП-алгоритмов из блиц-проверки"
   ]
  },
  {
   "cell_type": "code",
   "execution_count": 1,
   "id": "97a1dcd9",
   "metadata": {
    "ExecuteTime": {
     "end_time": "2022-03-09T15:34:34.240569Z",
     "start_time": "2022-03-09T15:34:32.983724Z"
    }
   },
   "outputs": [],
   "source": [
    "import pandas as pd\n",
    "import numpy as np\n",
    "from datetime import datetime\n",
    "\n",
    "from sklearn.metrics import mean_absolute_percentage_error\n",
    "from sklearn.model_selection import train_test_split\n",
    "from sklearn.base import clone\n",
    "\n",
    "from catboost import Pool, CatBoostRegressor\n",
    "\n",
    "from tqdm import tqdm\n"
   ]
  },
  {
   "cell_type": "code",
   "execution_count": 2,
   "id": "e7e3f50c",
   "metadata": {
    "ExecuteTime": {
     "end_time": "2022-03-09T15:34:34.378868Z",
     "start_time": "2022-03-09T15:34:34.242619Z"
    }
   },
   "outputs": [],
   "source": [
    "from sklearn.linear_model import LinearRegression\n",
    "from sklearn.neighbors import KNeighborsRegressor\n",
    "from sklearn.ensemble import BaggingRegressor\n",
    "from sklearn.ensemble import RandomForestRegressor\n",
    "from sklearn.ensemble import ExtraTreesRegressor\n",
    "from sklearn.model_selection import KFold\n",
    "from sklearn.model_selection import cross_val_score\n",
    "from sklearn.preprocessing import StandardScaler"
   ]
  },
  {
   "cell_type": "markdown",
   "id": "adc5e988",
   "metadata": {},
   "source": [
    "# Загрузка тренировочного датасета"
   ]
  },
  {
   "cell_type": "code",
   "execution_count": 3,
   "id": "e61b223c",
   "metadata": {
    "ExecuteTime": {
     "end_time": "2022-03-09T15:34:38.526154Z",
     "start_time": "2022-03-09T15:34:34.381078Z"
    }
   },
   "outputs": [
    {
     "data": {
      "text/html": [
       "<div>\n",
       "<style scoped>\n",
       "    .dataframe tbody tr th:only-of-type {\n",
       "        vertical-align: middle;\n",
       "    }\n",
       "\n",
       "    .dataframe tbody tr th {\n",
       "        vertical-align: top;\n",
       "    }\n",
       "\n",
       "    .dataframe thead th {\n",
       "        text-align: right;\n",
       "    }\n",
       "</style>\n",
       "<table border=\"1\" class=\"dataframe\">\n",
       "  <thead>\n",
       "    <tr style=\"text-align: right;\">\n",
       "      <th></th>\n",
       "      <th>0</th>\n",
       "    </tr>\n",
       "  </thead>\n",
       "  <tbody>\n",
       "    <tr>\n",
       "      <th>body_type</th>\n",
       "      <td>седан</td>\n",
       "    </tr>\n",
       "    <tr>\n",
       "      <th>brand</th>\n",
       "      <td>AUDI</td>\n",
       "    </tr>\n",
       "    <tr>\n",
       "      <th>color</th>\n",
       "      <td>чёрный</td>\n",
       "    </tr>\n",
       "    <tr>\n",
       "      <th>fuel_type</th>\n",
       "      <td>бензин</td>\n",
       "    </tr>\n",
       "    <tr>\n",
       "      <th>model_year</th>\n",
       "      <td>1990</td>\n",
       "    </tr>\n",
       "    <tr>\n",
       "      <th>n_doors</th>\n",
       "      <td>4</td>\n",
       "    </tr>\n",
       "    <tr>\n",
       "      <th>production_year</th>\n",
       "      <td>1991</td>\n",
       "    </tr>\n",
       "    <tr>\n",
       "      <th>vehicle_transmission</th>\n",
       "      <td>механика</td>\n",
       "    </tr>\n",
       "    <tr>\n",
       "      <th>engine_power</th>\n",
       "      <td>174.0</td>\n",
       "    </tr>\n",
       "    <tr>\n",
       "      <th>description</th>\n",
       "      <td>Машина  в приличном состоянии ,не гнилая не р...</td>\n",
       "    </tr>\n",
       "    <tr>\n",
       "      <th>mileage</th>\n",
       "      <td>350000</td>\n",
       "    </tr>\n",
       "    <tr>\n",
       "      <th>drive_type</th>\n",
       "      <td>полный</td>\n",
       "    </tr>\n",
       "    <tr>\n",
       "      <th>n_owners</th>\n",
       "      <td>3+</td>\n",
       "    </tr>\n",
       "    <tr>\n",
       "      <th>is_original_techpass</th>\n",
       "      <td>1</td>\n",
       "    </tr>\n",
       "    <tr>\n",
       "      <th>is_lefthand_drive</th>\n",
       "      <td>1</td>\n",
       "    </tr>\n",
       "    <tr>\n",
       "      <th>engine_displacement</th>\n",
       "      <td>2.8</td>\n",
       "    </tr>\n",
       "    <tr>\n",
       "      <th>full_model_name</th>\n",
       "      <td>audi 100</td>\n",
       "    </tr>\n",
       "  </tbody>\n",
       "</table>\n",
       "</div>"
      ],
      "text/plain": [
       "                                                                      0\n",
       "body_type                                                         седан\n",
       "brand                                                              AUDI\n",
       "color                                                            чёрный\n",
       "fuel_type                                                        бензин\n",
       "model_year                                                         1990\n",
       "n_doors                                                               4\n",
       "production_year                                                    1991\n",
       "vehicle_transmission                                           механика\n",
       "engine_power                                                      174.0\n",
       "description            Машина  в приличном состоянии ,не гнилая не р...\n",
       "mileage                                                          350000\n",
       "drive_type                                                       полный\n",
       "n_owners                                                             3+\n",
       "is_original_techpass                                                  1\n",
       "is_lefthand_drive                                                     1\n",
       "engine_displacement                                                 2.8\n",
       "full_model_name                                                audi 100"
      ]
     },
     "execution_count": 3,
     "metadata": {},
     "output_type": "execute_result"
    }
   ],
   "source": [
    "X = pd.read_csv('EDAv2_Train.zip')\n",
    "y = X['price']\n",
    "X.drop(columns='price', inplace=True)\n",
    "X.head(1).T"
   ]
  },
  {
   "cell_type": "code",
   "execution_count": 4,
   "id": "02faff54",
   "metadata": {
    "ExecuteTime": {
     "end_time": "2022-03-09T15:34:38.541810Z",
     "start_time": "2022-03-09T15:34:38.528148Z"
    }
   },
   "outputs": [
    {
     "data": {
      "text/plain": [
       "0    200000.0\n",
       "Name: price, dtype: float64"
      ]
     },
     "execution_count": 4,
     "metadata": {},
     "output_type": "execute_result"
    }
   ],
   "source": [
    "y.head(1)"
   ]
  },
  {
   "cell_type": "code",
   "execution_count": 5,
   "id": "e2d7a16c",
   "metadata": {
    "ExecuteTime": {
     "end_time": "2022-03-09T15:34:39.741146Z",
     "start_time": "2022-03-09T15:34:38.544777Z"
    }
   },
   "outputs": [
    {
     "data": {
      "text/html": [
       "<div>\n",
       "<style scoped>\n",
       "    .dataframe tbody tr th:only-of-type {\n",
       "        vertical-align: middle;\n",
       "    }\n",
       "\n",
       "    .dataframe tbody tr th {\n",
       "        vertical-align: top;\n",
       "    }\n",
       "\n",
       "    .dataframe thead th {\n",
       "        text-align: right;\n",
       "    }\n",
       "</style>\n",
       "<table border=\"1\" class=\"dataframe\">\n",
       "  <thead>\n",
       "    <tr style=\"text-align: right;\">\n",
       "      <th></th>\n",
       "      <th>0</th>\n",
       "    </tr>\n",
       "  </thead>\n",
       "  <tbody>\n",
       "    <tr>\n",
       "      <th>body_type</th>\n",
       "      <td>лифтбек</td>\n",
       "    </tr>\n",
       "    <tr>\n",
       "      <th>brand</th>\n",
       "      <td>SKODA</td>\n",
       "    </tr>\n",
       "    <tr>\n",
       "      <th>color</th>\n",
       "      <td>синий</td>\n",
       "    </tr>\n",
       "    <tr>\n",
       "      <th>description</th>\n",
       "      <td>Все автомобили, представленные в продаже, прох...</td>\n",
       "    </tr>\n",
       "    <tr>\n",
       "      <th>engine_displacement</th>\n",
       "      <td>1.2</td>\n",
       "    </tr>\n",
       "    <tr>\n",
       "      <th>engine_power</th>\n",
       "      <td>105.0</td>\n",
       "    </tr>\n",
       "    <tr>\n",
       "      <th>fuel_type</th>\n",
       "      <td>бензин</td>\n",
       "    </tr>\n",
       "    <tr>\n",
       "      <th>mileage</th>\n",
       "      <td>74000</td>\n",
       "    </tr>\n",
       "    <tr>\n",
       "      <th>model_year</th>\n",
       "      <td>2013</td>\n",
       "    </tr>\n",
       "    <tr>\n",
       "      <th>n_doors</th>\n",
       "      <td>5</td>\n",
       "    </tr>\n",
       "    <tr>\n",
       "      <th>production_year</th>\n",
       "      <td>2014</td>\n",
       "    </tr>\n",
       "    <tr>\n",
       "      <th>vehicle_transmission</th>\n",
       "      <td>робот</td>\n",
       "    </tr>\n",
       "    <tr>\n",
       "      <th>n_owners</th>\n",
       "      <td>3+</td>\n",
       "    </tr>\n",
       "    <tr>\n",
       "      <th>drive_type</th>\n",
       "      <td>передний</td>\n",
       "    </tr>\n",
       "    <tr>\n",
       "      <th>is_original_techpass</th>\n",
       "      <td>1</td>\n",
       "    </tr>\n",
       "    <tr>\n",
       "      <th>is_lefthand_drive</th>\n",
       "      <td>1</td>\n",
       "    </tr>\n",
       "    <tr>\n",
       "      <th>full_model_name</th>\n",
       "      <td>skoda octavia</td>\n",
       "    </tr>\n",
       "  </tbody>\n",
       "</table>\n",
       "</div>"
      ],
      "text/plain": [
       "                                                                      0\n",
       "body_type                                                       лифтбек\n",
       "brand                                                             SKODA\n",
       "color                                                             синий\n",
       "description           Все автомобили, представленные в продаже, прох...\n",
       "engine_displacement                                                 1.2\n",
       "engine_power                                                      105.0\n",
       "fuel_type                                                        бензин\n",
       "mileage                                                           74000\n",
       "model_year                                                         2013\n",
       "n_doors                                                               5\n",
       "production_year                                                    2014\n",
       "vehicle_transmission                                              робот\n",
       "n_owners                                                             3+\n",
       "drive_type                                                     передний\n",
       "is_original_techpass                                                  1\n",
       "is_lefthand_drive                                                     1\n",
       "full_model_name                                           skoda octavia"
      ]
     },
     "execution_count": 5,
     "metadata": {},
     "output_type": "execute_result"
    }
   ],
   "source": [
    "X_test = pd.read_csv('EDAv2_Test.zip')\n",
    "X_test.head(1).T"
   ]
  },
  {
   "cell_type": "markdown",
   "id": "359e2b92",
   "metadata": {},
   "source": [
    "# Проверим готовность данных"
   ]
  },
  {
   "cell_type": "code",
   "execution_count": 6,
   "id": "548dce6b",
   "metadata": {
    "ExecuteTime": {
     "end_time": "2022-03-09T15:34:39.834902Z",
     "start_time": "2022-03-09T15:34:39.743990Z"
    }
   },
   "outputs": [
    {
     "data": {
      "text/plain": [
       "'Train brands:'"
      ]
     },
     "metadata": {},
     "output_type": "display_data"
    },
    {
     "data": {
      "text/plain": [
       "12"
      ]
     },
     "metadata": {},
     "output_type": "display_data"
    },
    {
     "data": {
      "text/plain": [
       "'Test brands:'"
      ]
     },
     "metadata": {},
     "output_type": "display_data"
    },
    {
     "data": {
      "text/plain": [
       "12"
      ]
     },
     "metadata": {},
     "output_type": "display_data"
    }
   ],
   "source": [
    "# оставим в тренировочном датасете только те бренды, которые есть в тестовом\n",
    "brand_list = list(X_test['brand'].unique())\n",
    "brand_mask = X['brand'].apply(lambda x: True if x in brand_list else False)\n",
    "X = X[brand_mask]\n",
    "y = y[brand_mask]\n",
    "# и проверим это\n",
    "display('Train brands:', X['brand'].nunique())\n",
    "display('Test brands:', X_test['brand'].nunique())"
   ]
  },
  {
   "cell_type": "code",
   "execution_count": 7,
   "id": "d006694b",
   "metadata": {
    "ExecuteTime": {
     "end_time": "2022-03-09T15:34:39.912328Z",
     "start_time": "2022-03-09T15:34:39.839150Z"
    }
   },
   "outputs": [
    {
     "data": {
      "text/plain": [
       "(37841, 17)"
      ]
     },
     "metadata": {},
     "output_type": "display_data"
    },
    {
     "data": {
      "text/plain": [
       "(37841,)"
      ]
     },
     "metadata": {},
     "output_type": "display_data"
    }
   ],
   "source": [
    "# оставим в тренировочном датасете только б/у машины\n",
    "used_cars_mask = list(X['n_owners'] != '0')\n",
    "X = X[used_cars_mask]\n",
    "y = y[used_cars_mask]\n",
    "display(X.shape, y.shape)"
   ]
  },
  {
   "cell_type": "code",
   "execution_count": 8,
   "id": "304156d4",
   "metadata": {
    "ExecuteTime": {
     "end_time": "2022-03-09T15:34:40.163055Z",
     "start_time": "2022-03-09T15:34:39.914832Z"
    },
    "scrolled": true
   },
   "outputs": [],
   "source": [
    "# склеим датасеты признаков\n",
    "X['is_train'] = 1\n",
    "X_test['is_train'] = 0\n",
    "X_ = X.append(X_test)\n",
    "# обработаем\n",
    "columns_to_drop = ['engine_displacement', 'model_year', 'full_model_name', 'description']\n",
    "X_.drop(columns=columns_to_drop, inplace=True)\n",
    "X_ = pd.get_dummies(X_)\n",
    "# разделим\n",
    "X = X_[X_['is_train'] == 1].drop(columns=['is_train'])\n",
    "X_test = X_[X_['is_train'] == 0].drop(columns=['is_train'])"
   ]
  },
  {
   "cell_type": "markdown",
   "id": "470bf65a",
   "metadata": {},
   "source": [
    "# Стекинг"
   ]
  },
  {
   "cell_type": "markdown",
   "id": "0ed3c246",
   "metadata": {},
   "source": [
    "## Готовим данные"
   ]
  },
  {
   "cell_type": "code",
   "execution_count": 9,
   "id": "b487a39e",
   "metadata": {
    "ExecuteTime": {
     "end_time": "2022-03-09T15:34:40.178673Z",
     "start_time": "2022-03-09T15:34:40.164795Z"
    }
   },
   "outputs": [],
   "source": [
    "seed = 73"
   ]
  },
  {
   "cell_type": "code",
   "execution_count": 10,
   "id": "23f39274",
   "metadata": {
    "ExecuteTime": {
     "end_time": "2022-03-09T15:34:40.209049Z",
     "start_time": "2022-03-09T15:34:40.180704Z"
    }
   },
   "outputs": [],
   "source": [
    "# готовим для стекинга\n",
    "X_train = X.values\n",
    "y_train = y.values\n",
    "X_test = X_test.values"
   ]
  },
  {
   "cell_type": "markdown",
   "id": "d6ac5837",
   "metadata": {},
   "source": [
    "## Функции стекинга"
   ]
  },
  {
   "cell_type": "code",
   "execution_count": 11,
   "id": "ad6d7c4b",
   "metadata": {
    "ExecuteTime": {
     "end_time": "2022-03-09T15:34:40.225007Z",
     "start_time": "2022-03-09T15:34:40.211692Z"
    }
   },
   "outputs": [],
   "source": [
    "def compute_meta_feature(clf, X_train, X_test, y_train, cv):\n",
    "\n",
    "    X_meta_train = np.zeros_like(y_train, dtype=np.float64)\n",
    "    for train_fold_index, predict_fold_index in cv.split(X_train):\n",
    "        X_fold_train, X_fold_predict = X_train[train_fold_index], X_train[predict_fold_index]\n",
    "        y_fold_train = y_train[train_fold_index]\n",
    "        \n",
    "        folded_clf = clone(clf)\n",
    "        folded_clf.fit(X_fold_train, y_fold_train)\n",
    "        X_meta_train[predict_fold_index] = folded_clf.predict(X_fold_predict)\n",
    "    \n",
    "    meta_clf = clone(clf)\n",
    "    meta_clf.fit(X_train, y_train)\n",
    "    \n",
    "    X_meta_test = meta_clf.predict(X_test)\n",
    "    \n",
    "    return X_meta_train, X_meta_test\n",
    "\n",
    "def generate_meta_features(classifiers, X_train, X_test, y_train, cv):\n",
    "    features = [\n",
    "        compute_meta_feature(clf, X_train, X_test, y_train, cv)\n",
    "        for clf in tqdm(classifiers)]\n",
    "    stacked_features_train = np.vstack([\n",
    "        features_train for features_train, features_test in features]).T\n",
    "    stacked_features_test = np.vstack([\n",
    "        features_test for features_train, features_test in features]).T\n",
    "    \n",
    "    return stacked_features_train, stacked_features_test"
   ]
  },
  {
   "cell_type": "code",
   "execution_count": 12,
   "id": "f70a4022",
   "metadata": {
    "ExecuteTime": {
     "end_time": "2022-03-09T15:34:40.240511Z",
     "start_time": "2022-03-09T15:34:40.227963Z"
    }
   },
   "outputs": [],
   "source": [
    "# модели для стекинга\n",
    "models_list = [BaggingRegressor(n_jobs=-1,\n",
    "                                n_estimators=300,\n",
    "                                max_samples=0.9),\n",
    "               RandomForestRegressor(n_jobs=-1,\n",
    "                                     n_estimators=400,\n",
    "                                     max_features=0.5),\n",
    "#                KNeighborsRegressor(n_jobs=-1,\n",
    "#                                    n_neighbors=3),\n",
    "               ExtraTreesRegressor(n_jobs=-1,\n",
    "                                   n_estimators=300,\n",
    "                                   max_features=0.9)\n",
    "]"
   ]
  },
  {
   "cell_type": "code",
   "execution_count": 13,
   "id": "b70bb7ea",
   "metadata": {
    "ExecuteTime": {
     "end_time": "2022-03-09T15:39:39.411847Z",
     "start_time": "2022-03-09T15:34:40.242866Z"
    }
   },
   "outputs": [
    {
     "name": "stderr",
     "output_type": "stream",
     "text": [
      "\r",
      "  0%|                                                                                            | 0/3 [00:00<?, ?it/s]"
     ]
    },
    {
     "data": {
      "text/plain": [
       "array([      0.        ,       0.        ,       0.        , ...,\n",
       "       6299655.39666667,       0.        ,       0.        ])"
      ]
     },
     "metadata": {},
     "output_type": "display_data"
    },
    {
     "data": {
      "text/plain": [
       "array([      0.        ,   86071.66333333,       0.        , ...,\n",
       "       6299655.39666667,       0.        ,       0.        ])"
      ]
     },
     "metadata": {},
     "output_type": "display_data"
    },
    {
     "data": {
      "text/plain": [
       "array([ 144083.33333333,   86071.66333333,       0.        , ...,\n",
       "       6299655.39666667, 2896426.63      ,       0.        ])"
      ]
     },
     "metadata": {},
     "output_type": "display_data"
    },
    {
     "data": {
      "text/plain": [
       "array([ 144083.33333333,   86071.66333333,       0.        , ...,\n",
       "       6299655.39666667, 2896426.63      ,       0.        ])"
      ]
     },
     "metadata": {},
     "output_type": "display_data"
    },
    {
     "data": {
      "text/plain": [
       "array([ 144083.33333333,   86071.66333333,  253989.97333333, ...,\n",
       "       6299655.39666667, 2896426.63      , 4868011.74      ])"
      ]
     },
     "metadata": {},
     "output_type": "display_data"
    },
    {
     "name": "stderr",
     "output_type": "stream",
     "text": [
      "\r",
      " 33%|███████████████████████████▋                                                       | 1/3 [02:12<04:24, 132.39s/it]"
     ]
    },
    {
     "data": {
      "text/plain": [
       "array([ 141627.5   ,       0.    ,  220389.46  , ..., 6583871.5325,\n",
       "       3441201.4825,       0.    ])"
      ]
     },
     "metadata": {},
     "output_type": "display_data"
    },
    {
     "data": {
      "text/plain": [
       "array([ 141627.5       ,   84132.4975    ,  220389.46      , ...,\n",
       "       6583871.5325    , 3441201.4825    , 4712463.00583333])"
      ]
     },
     "metadata": {},
     "output_type": "display_data"
    },
    {
     "data": {
      "text/plain": [
       "array([ 141627.5       ,   84132.4975    ,  220389.46      , ...,\n",
       "       6583871.5325    , 3441201.4825    , 4712463.00583333])"
      ]
     },
     "metadata": {},
     "output_type": "display_data"
    },
    {
     "data": {
      "text/plain": [
       "array([ 141627.5       ,   84132.4975    ,  220389.46      , ...,\n",
       "       6583871.5325    , 3441201.4825    , 4712463.00583333])"
      ]
     },
     "metadata": {},
     "output_type": "display_data"
    },
    {
     "data": {
      "text/plain": [
       "array([ 141627.5       ,   84132.4975    ,  220389.46      , ...,\n",
       "       6583871.5325    , 3441201.4825    , 4712463.00583333])"
      ]
     },
     "metadata": {},
     "output_type": "display_data"
    },
    {
     "name": "stderr",
     "output_type": "stream",
     "text": [
      "\r",
      " 67%|████████████████████████████████████████████████████████                            | 2/3 [03:20<01:34, 94.47s/it]"
     ]
    },
    {
     "data": {
      "text/plain": [
       "array([0., 0., 0., ..., 0., 0., 0.])"
      ]
     },
     "metadata": {},
     "output_type": "display_data"
    },
    {
     "data": {
      "text/plain": [
       "array([      0.        ,       0.        ,       0.        , ...,\n",
       "             0.        , 3206374.50666667,       0.        ])"
      ]
     },
     "metadata": {},
     "output_type": "display_data"
    },
    {
     "data": {
      "text/plain": [
       "array([      0.        ,   62246.66666667,       0.        , ...,\n",
       "             0.        , 3206374.50666667, 4382677.19666667])"
      ]
     },
     "metadata": {},
     "output_type": "display_data"
    },
    {
     "data": {
      "text/plain": [
       "array([ 127673.33333333,   62246.66666667,  194530.        , ...,\n",
       "             0.        , 3206374.50666667, 4382677.19666667])"
      ]
     },
     "metadata": {},
     "output_type": "display_data"
    },
    {
     "data": {
      "text/plain": [
       "array([ 127673.33333333,   62246.66666667,  194530.        , ...,\n",
       "       6491795.79333333, 3206374.50666667, 4382677.19666667])"
      ]
     },
     "metadata": {},
     "output_type": "display_data"
    },
    {
     "name": "stderr",
     "output_type": "stream",
     "text": [
      "100%|████████████████████████████████████████████████████████████████████████████████████| 3/3 [04:59<00:00, 99.71s/it]\n"
     ]
    }
   ],
   "source": [
    "cv = KFold(n_splits=5, shuffle=True)\n",
    "\n",
    "stacked_features_train, stacked_features_test = generate_meta_features(models_list, X_train, X_test, y_train, cv)"
   ]
  },
  {
   "cell_type": "code",
   "execution_count": 14,
   "id": "30f0b3d4",
   "metadata": {
    "ExecuteTime": {
     "end_time": "2022-03-09T15:39:39.459511Z",
     "start_time": "2022-03-09T15:39:39.415835Z"
    }
   },
   "outputs": [],
   "source": [
    "meta_model = LinearRegression()\n",
    "meta_model.fit(stacked_features_train, y_train)\n",
    "y_test_predict = meta_model.predict(stacked_features_test)"
   ]
  },
  {
   "cell_type": "markdown",
   "id": "74efbdef",
   "metadata": {},
   "source": [
    "# Результат для Kaggle"
   ]
  },
  {
   "cell_type": "code",
   "execution_count": 15,
   "id": "19c6e748",
   "metadata": {
    "ExecuteTime": {
     "end_time": "2022-03-09T15:39:39.599123Z",
     "start_time": "2022-03-09T15:39:39.461699Z"
    }
   },
   "outputs": [],
   "source": [
    "submission = pd.read_csv('sample_submission_empty.csv')\n",
    "submission['price'] = np.around(y_test_predict, decimals=-3)\n",
    "submission.to_csv('sample_submission_stacking.csv', index=False)"
   ]
  }
 ],
 "metadata": {
  "kernelspec": {
   "display_name": "Python 3",
   "language": "python",
   "name": "python3"
  },
  "language_info": {
   "codemirror_mode": {
    "name": "ipython",
    "version": 3
   },
   "file_extension": ".py",
   "mimetype": "text/x-python",
   "name": "python",
   "nbconvert_exporter": "python",
   "pygments_lexer": "ipython3",
   "version": "3.8.8"
  },
  "toc": {
   "base_numbering": 1,
   "nav_menu": {},
   "number_sections": true,
   "sideBar": true,
   "skip_h1_title": false,
   "title_cell": "Table of Contents",
   "title_sidebar": "Contents",
   "toc_cell": false,
   "toc_position": {},
   "toc_section_display": true,
   "toc_window_display": false
  }
 },
 "nbformat": 4,
 "nbformat_minor": 5
}
