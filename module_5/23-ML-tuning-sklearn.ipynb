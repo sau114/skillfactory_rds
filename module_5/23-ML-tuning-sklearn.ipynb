{
 "cells": [
  {
   "cell_type": "markdown",
   "id": "8864a403",
   "metadata": {},
   "source": [
    "В данном датасете построим некоторую базовую модель, относительно предсказаний которой можно будет отталкиваться в оценке точности.\n",
    "\n",
    "Устроим блиц-проверку алгоритмов sklearn по мотивам статьи https://habr.com/ru/post/475552/\n",
    "\n",
    "По условиям соревнования, критерием оценки будет MAPE. Мы тоже будет его использовать."
   ]
  },
  {
   "cell_type": "code",
   "execution_count": 1,
   "id": "97a1dcd9",
   "metadata": {
    "ExecuteTime": {
     "end_time": "2022-03-09T15:22:15.280952Z",
     "start_time": "2022-03-09T15:22:14.065555Z"
    }
   },
   "outputs": [],
   "source": [
    "import pandas as pd\n",
    "import numpy as np\n",
    "from datetime import datetime\n",
    "\n",
    "from sklearn.metrics import mean_absolute_percentage_error\n",
    "from sklearn.model_selection import train_test_split"
   ]
  },
  {
   "cell_type": "code",
   "execution_count": 2,
   "id": "e7e3f50c",
   "metadata": {
    "ExecuteTime": {
     "end_time": "2022-03-09T15:22:15.434143Z",
     "start_time": "2022-03-09T15:22:15.283294Z"
    }
   },
   "outputs": [],
   "source": [
    "from sklearn.model_selection import KFold\n",
    "from sklearn.model_selection import cross_val_score\n",
    "from sklearn.neighbors import KNeighborsRegressor\n",
    "from sklearn.tree import DecisionTreeRegressor\n",
    "from sklearn.ensemble import BaggingRegressor\n",
    "from sklearn.ensemble import ExtraTreesRegressor\n",
    "from sklearn.ensemble import RandomForestRegressor\n",
    "from sklearn.preprocessing import StandardScaler\n",
    "from sklearn.preprocessing import Normalizer\n",
    "from sklearn.model_selection import GridSearchCV"
   ]
  },
  {
   "cell_type": "markdown",
   "id": "adc5e988",
   "metadata": {},
   "source": [
    "# Загрузка тренировочного датасета"
   ]
  },
  {
   "cell_type": "code",
   "execution_count": 3,
   "id": "e61b223c",
   "metadata": {
    "ExecuteTime": {
     "end_time": "2022-03-09T15:22:19.736338Z",
     "start_time": "2022-03-09T15:22:15.436278Z"
    }
   },
   "outputs": [
    {
     "data": {
      "text/html": [
       "<div>\n",
       "<style scoped>\n",
       "    .dataframe tbody tr th:only-of-type {\n",
       "        vertical-align: middle;\n",
       "    }\n",
       "\n",
       "    .dataframe tbody tr th {\n",
       "        vertical-align: top;\n",
       "    }\n",
       "\n",
       "    .dataframe thead th {\n",
       "        text-align: right;\n",
       "    }\n",
       "</style>\n",
       "<table border=\"1\" class=\"dataframe\">\n",
       "  <thead>\n",
       "    <tr style=\"text-align: right;\">\n",
       "      <th></th>\n",
       "      <th>0</th>\n",
       "    </tr>\n",
       "  </thead>\n",
       "  <tbody>\n",
       "    <tr>\n",
       "      <th>body_type</th>\n",
       "      <td>седан</td>\n",
       "    </tr>\n",
       "    <tr>\n",
       "      <th>brand</th>\n",
       "      <td>AUDI</td>\n",
       "    </tr>\n",
       "    <tr>\n",
       "      <th>color</th>\n",
       "      <td>чёрный</td>\n",
       "    </tr>\n",
       "    <tr>\n",
       "      <th>fuel_type</th>\n",
       "      <td>бензин</td>\n",
       "    </tr>\n",
       "    <tr>\n",
       "      <th>model_year</th>\n",
       "      <td>1990</td>\n",
       "    </tr>\n",
       "    <tr>\n",
       "      <th>n_doors</th>\n",
       "      <td>4</td>\n",
       "    </tr>\n",
       "    <tr>\n",
       "      <th>production_year</th>\n",
       "      <td>1991</td>\n",
       "    </tr>\n",
       "    <tr>\n",
       "      <th>vehicle_transmission</th>\n",
       "      <td>механика</td>\n",
       "    </tr>\n",
       "    <tr>\n",
       "      <th>engine_power</th>\n",
       "      <td>174.0</td>\n",
       "    </tr>\n",
       "    <tr>\n",
       "      <th>description</th>\n",
       "      <td>Машина  в приличном состоянии ,не гнилая не р...</td>\n",
       "    </tr>\n",
       "    <tr>\n",
       "      <th>mileage</th>\n",
       "      <td>350000</td>\n",
       "    </tr>\n",
       "    <tr>\n",
       "      <th>drive_type</th>\n",
       "      <td>полный</td>\n",
       "    </tr>\n",
       "    <tr>\n",
       "      <th>n_owners</th>\n",
       "      <td>3+</td>\n",
       "    </tr>\n",
       "    <tr>\n",
       "      <th>is_original_techpass</th>\n",
       "      <td>1</td>\n",
       "    </tr>\n",
       "    <tr>\n",
       "      <th>is_lefthand_drive</th>\n",
       "      <td>1</td>\n",
       "    </tr>\n",
       "    <tr>\n",
       "      <th>engine_displacement</th>\n",
       "      <td>2.8</td>\n",
       "    </tr>\n",
       "    <tr>\n",
       "      <th>full_model_name</th>\n",
       "      <td>audi 100</td>\n",
       "    </tr>\n",
       "  </tbody>\n",
       "</table>\n",
       "</div>"
      ],
      "text/plain": [
       "                                                                      0\n",
       "body_type                                                         седан\n",
       "brand                                                              AUDI\n",
       "color                                                            чёрный\n",
       "fuel_type                                                        бензин\n",
       "model_year                                                         1990\n",
       "n_doors                                                               4\n",
       "production_year                                                    1991\n",
       "vehicle_transmission                                           механика\n",
       "engine_power                                                      174.0\n",
       "description            Машина  в приличном состоянии ,не гнилая не р...\n",
       "mileage                                                          350000\n",
       "drive_type                                                       полный\n",
       "n_owners                                                             3+\n",
       "is_original_techpass                                                  1\n",
       "is_lefthand_drive                                                     1\n",
       "engine_displacement                                                 2.8\n",
       "full_model_name                                                audi 100"
      ]
     },
     "execution_count": 3,
     "metadata": {},
     "output_type": "execute_result"
    }
   ],
   "source": [
    "X = pd.read_csv('EDAv2_Train.zip')\n",
    "y = X['price']\n",
    "X.drop(columns='price', inplace=True)\n",
    "X.head(1).T"
   ]
  },
  {
   "cell_type": "code",
   "execution_count": 4,
   "id": "02faff54",
   "metadata": {
    "ExecuteTime": {
     "end_time": "2022-03-09T15:22:19.751572Z",
     "start_time": "2022-03-09T15:22:19.738589Z"
    }
   },
   "outputs": [
    {
     "data": {
      "text/plain": [
       "0    200000.0\n",
       "Name: price, dtype: float64"
      ]
     },
     "execution_count": 4,
     "metadata": {},
     "output_type": "execute_result"
    }
   ],
   "source": [
    "# y = pd.read_csv('EDAv2_Train.zip', usecols=['price'])\n",
    "y.head(1)"
   ]
  },
  {
   "cell_type": "code",
   "execution_count": 5,
   "id": "e2d7a16c",
   "metadata": {
    "ExecuteTime": {
     "end_time": "2022-03-09T15:22:20.963762Z",
     "start_time": "2022-03-09T15:22:19.753766Z"
    }
   },
   "outputs": [
    {
     "data": {
      "text/html": [
       "<div>\n",
       "<style scoped>\n",
       "    .dataframe tbody tr th:only-of-type {\n",
       "        vertical-align: middle;\n",
       "    }\n",
       "\n",
       "    .dataframe tbody tr th {\n",
       "        vertical-align: top;\n",
       "    }\n",
       "\n",
       "    .dataframe thead th {\n",
       "        text-align: right;\n",
       "    }\n",
       "</style>\n",
       "<table border=\"1\" class=\"dataframe\">\n",
       "  <thead>\n",
       "    <tr style=\"text-align: right;\">\n",
       "      <th></th>\n",
       "      <th>0</th>\n",
       "    </tr>\n",
       "  </thead>\n",
       "  <tbody>\n",
       "    <tr>\n",
       "      <th>body_type</th>\n",
       "      <td>лифтбек</td>\n",
       "    </tr>\n",
       "    <tr>\n",
       "      <th>brand</th>\n",
       "      <td>SKODA</td>\n",
       "    </tr>\n",
       "    <tr>\n",
       "      <th>color</th>\n",
       "      <td>синий</td>\n",
       "    </tr>\n",
       "    <tr>\n",
       "      <th>description</th>\n",
       "      <td>Все автомобили, представленные в продаже, прох...</td>\n",
       "    </tr>\n",
       "    <tr>\n",
       "      <th>engine_displacement</th>\n",
       "      <td>1.2</td>\n",
       "    </tr>\n",
       "    <tr>\n",
       "      <th>engine_power</th>\n",
       "      <td>105.0</td>\n",
       "    </tr>\n",
       "    <tr>\n",
       "      <th>fuel_type</th>\n",
       "      <td>бензин</td>\n",
       "    </tr>\n",
       "    <tr>\n",
       "      <th>mileage</th>\n",
       "      <td>74000</td>\n",
       "    </tr>\n",
       "    <tr>\n",
       "      <th>model_year</th>\n",
       "      <td>2013</td>\n",
       "    </tr>\n",
       "    <tr>\n",
       "      <th>n_doors</th>\n",
       "      <td>5</td>\n",
       "    </tr>\n",
       "    <tr>\n",
       "      <th>production_year</th>\n",
       "      <td>2014</td>\n",
       "    </tr>\n",
       "    <tr>\n",
       "      <th>vehicle_transmission</th>\n",
       "      <td>робот</td>\n",
       "    </tr>\n",
       "    <tr>\n",
       "      <th>n_owners</th>\n",
       "      <td>3+</td>\n",
       "    </tr>\n",
       "    <tr>\n",
       "      <th>drive_type</th>\n",
       "      <td>передний</td>\n",
       "    </tr>\n",
       "    <tr>\n",
       "      <th>is_original_techpass</th>\n",
       "      <td>1</td>\n",
       "    </tr>\n",
       "    <tr>\n",
       "      <th>is_lefthand_drive</th>\n",
       "      <td>1</td>\n",
       "    </tr>\n",
       "    <tr>\n",
       "      <th>full_model_name</th>\n",
       "      <td>skoda octavia</td>\n",
       "    </tr>\n",
       "  </tbody>\n",
       "</table>\n",
       "</div>"
      ],
      "text/plain": [
       "                                                                      0\n",
       "body_type                                                       лифтбек\n",
       "brand                                                             SKODA\n",
       "color                                                             синий\n",
       "description           Все автомобили, представленные в продаже, прох...\n",
       "engine_displacement                                                 1.2\n",
       "engine_power                                                      105.0\n",
       "fuel_type                                                        бензин\n",
       "mileage                                                           74000\n",
       "model_year                                                         2013\n",
       "n_doors                                                               5\n",
       "production_year                                                    2014\n",
       "vehicle_transmission                                              робот\n",
       "n_owners                                                             3+\n",
       "drive_type                                                     передний\n",
       "is_original_techpass                                                  1\n",
       "is_lefthand_drive                                                     1\n",
       "full_model_name                                           skoda octavia"
      ]
     },
     "execution_count": 5,
     "metadata": {},
     "output_type": "execute_result"
    }
   ],
   "source": [
    "X_test = pd.read_csv('EDAv2_Test.zip')\n",
    "X_test.head(1).T"
   ]
  },
  {
   "cell_type": "markdown",
   "id": "359e2b92",
   "metadata": {},
   "source": [
    "# Проверим готовность данных"
   ]
  },
  {
   "cell_type": "code",
   "execution_count": 6,
   "id": "548dce6b",
   "metadata": {
    "ExecuteTime": {
     "end_time": "2022-03-09T15:22:21.070723Z",
     "start_time": "2022-03-09T15:22:20.966702Z"
    }
   },
   "outputs": [
    {
     "data": {
      "text/plain": [
       "'Train brands:'"
      ]
     },
     "metadata": {},
     "output_type": "display_data"
    },
    {
     "data": {
      "text/plain": [
       "12"
      ]
     },
     "metadata": {},
     "output_type": "display_data"
    },
    {
     "data": {
      "text/plain": [
       "'Test brands:'"
      ]
     },
     "metadata": {},
     "output_type": "display_data"
    },
    {
     "data": {
      "text/plain": [
       "12"
      ]
     },
     "metadata": {},
     "output_type": "display_data"
    }
   ],
   "source": [
    "# оставим в тренировочном датасете только те бренды, которые есть в тестовом\n",
    "brand_list = list(X_test['brand'].unique())\n",
    "brand_mask = X['brand'].apply(lambda x: True if x in brand_list else False)\n",
    "X = X[brand_mask]\n",
    "y = y[brand_mask]\n",
    "# и проверим это\n",
    "display('Train brands:', X['brand'].nunique())\n",
    "display('Test brands:', X_test['brand'].nunique())"
   ]
  },
  {
   "cell_type": "code",
   "execution_count": 7,
   "id": "0ae80884",
   "metadata": {
    "ExecuteTime": {
     "end_time": "2022-03-09T15:22:21.163093Z",
     "start_time": "2022-03-09T15:22:21.076705Z"
    }
   },
   "outputs": [
    {
     "data": {
      "text/plain": [
       "(37841, 17)"
      ]
     },
     "metadata": {},
     "output_type": "display_data"
    },
    {
     "data": {
      "text/plain": [
       "(37841,)"
      ]
     },
     "metadata": {},
     "output_type": "display_data"
    }
   ],
   "source": [
    "# оставим в тренировочном датасете только б/у машины\n",
    "used_cars_mask = list(X['n_owners'] != '0')\n",
    "X = X[used_cars_mask]\n",
    "y = y[used_cars_mask]\n",
    "display(X.shape, y.shape)"
   ]
  },
  {
   "cell_type": "markdown",
   "id": "2658df09",
   "metadata": {},
   "source": [
    "В обоих датасетах есть пропуски в объёме двигателя. \n",
    "При этом, во время EDA было видно, что у объема высокая корреляция с мощностью двигателя.\n",
    "Поэтому, в данной ситуации, для baseline удалим этот признак.\n",
    "\n",
    "Также удалим признак model_year - высокая корреляция с production_year, который д.б. более важным по смыслу.\n",
    "\n",
    "Признак full_model_name тоже пока что удалим - слишком много вариаций.\n",
    "\n",
    "Удалим description - ничего хорошего мы с ним здесь не сделаем."
   ]
  },
  {
   "cell_type": "code",
   "execution_count": 8,
   "id": "f049a18f",
   "metadata": {
    "ExecuteTime": {
     "end_time": "2022-03-09T15:22:21.428923Z",
     "start_time": "2022-03-09T15:22:21.167254Z"
    }
   },
   "outputs": [],
   "source": [
    "# склеим датасеты признаков\n",
    "X['is_train'] = 1\n",
    "X_test['is_train'] = 0\n",
    "X_ = X.append(X_test)\n",
    "# обработаем\n",
    "columns_to_drop = ['engine_displacement', 'model_year', 'full_model_name', 'description']\n",
    "X_.drop(columns=columns_to_drop, inplace=True)\n",
    "X_ = pd.get_dummies(X_)\n",
    "# разделим\n",
    "X = X_[X_['is_train'] == 1].drop(columns=['is_train'])\n",
    "X_test = X_[X_['is_train'] == 0].drop(columns=['is_train'])"
   ]
  },
  {
   "cell_type": "markdown",
   "id": "1cd676e8",
   "metadata": {},
   "source": [
    "# Тюним гиперпараметры моделей"
   ]
  },
  {
   "cell_type": "code",
   "execution_count": 9,
   "id": "f7d78ceb",
   "metadata": {
    "ExecuteTime": {
     "end_time": "2022-03-09T15:22:21.443622Z",
     "start_time": "2022-03-09T15:22:21.432121Z"
    }
   },
   "outputs": [],
   "source": [
    "seed=73"
   ]
  },
  {
   "cell_type": "markdown",
   "id": "0ed3c246",
   "metadata": {},
   "source": [
    "## Настройка параметров BaggingRegressor"
   ]
  },
  {
   "cell_type": "code",
   "execution_count": 10,
   "id": "729a8d77",
   "metadata": {
    "ExecuteTime": {
     "end_time": "2022-03-09T15:22:21.459165Z",
     "start_time": "2022-03-09T15:22:21.445925Z"
    }
   },
   "outputs": [],
   "source": [
    "# сетка параметров #1\n",
    "br_grid = {'n_estimators': [50, 100, 200],\n",
    "             'max_samples': [0.5, 0.75, 1.0],\n",
    "             }\n",
    "br_model = BaggingRegressor(n_jobs=-1, random_state=seed)\n",
    "cv_folder = KFold(n_splits=3, shuffle=True, random_state=seed)\n",
    "grid = GridSearchCV(br_model,\n",
    "                    br_grid,\n",
    "                    cv=cv_folder,\n",
    "                    scoring='neg_mean_absolute_percentage_error',\n",
    "                    refit=False,\n",
    "                    verbose=2,\n",
    "                    )\n",
    "# grid.fit(X, y)\n",
    "# display(grid.best_score_)\n",
    "# display(grid.best_params_)"
   ]
  },
  {
   "cell_type": "code",
   "execution_count": 11,
   "id": "2e7f52bf",
   "metadata": {
    "ExecuteTime": {
     "end_time": "2022-03-09T15:22:21.474615Z",
     "start_time": "2022-03-09T15:22:21.462425Z"
    },
    "scrolled": false
   },
   "outputs": [],
   "source": [
    "# сетка параметров #2\n",
    "br_grid = {'n_estimators': [200, 300, 400],\n",
    "             'max_samples': [0.8, 0.9, 1.0],\n",
    "             }\n",
    "br_model = BaggingRegressor(n_jobs=-1, random_state=seed)\n",
    "cv_folder = KFold(n_splits=3, shuffle=True, random_state=seed)\n",
    "grid = GridSearchCV(br_model,\n",
    "                    br_grid,\n",
    "                    cv=cv_folder,\n",
    "                    scoring='neg_mean_absolute_percentage_error',\n",
    "                    refit=False,\n",
    "                    verbose=2,\n",
    "                    )\n",
    "# grid.fit(X, y)\n",
    "# display(grid.best_score_)\n",
    "# display(grid.best_params_)"
   ]
  },
  {
   "cell_type": "code",
   "execution_count": 12,
   "id": "eca4cb2d",
   "metadata": {
    "ExecuteTime": {
     "end_time": "2022-03-09T15:22:21.490780Z",
     "start_time": "2022-03-09T15:22:21.477142Z"
    }
   },
   "outputs": [],
   "source": [
    "# тюненая модель BR\n",
    "br_model = BaggingRegressor(n_jobs=-1,\n",
    "                            n_estimators=300,\n",
    "                            max_samples=0.9)"
   ]
  },
  {
   "cell_type": "markdown",
   "id": "aaa0171a",
   "metadata": {},
   "source": [
    "## Настройка параметров ExtraTreesRegressor"
   ]
  },
  {
   "cell_type": "code",
   "execution_count": 13,
   "id": "5ef8ee49",
   "metadata": {
    "ExecuteTime": {
     "end_time": "2022-03-09T15:22:21.506597Z",
     "start_time": "2022-03-09T15:22:21.493900Z"
    },
    "scrolled": true
   },
   "outputs": [],
   "source": [
    "# сетка параметров #1\n",
    "et_grid = {'n_estimators': [50, 100, 200],\n",
    "           'max_depth': [None, 10, 20],\n",
    "           'max_features': [0.25, 0.3, 0.35, 0.4]\n",
    "          }\n",
    "et_model = ExtraTreesRegressor(n_jobs=-1, random_state=seed)\n",
    "cv_folder = KFold(n_splits=3, shuffle=True, random_state=seed)\n",
    "grid = GridSearchCV(et_model,\n",
    "                    et_grid,\n",
    "                    cv=cv_folder,\n",
    "                    scoring='neg_mean_absolute_percentage_error',\n",
    "                    refit=False,\n",
    "                    verbose=2,\n",
    "                    )\n",
    "# grid.fit(X, y)\n",
    "# display(grid.best_score_)\n",
    "# display(grid.best_params_)"
   ]
  },
  {
   "cell_type": "code",
   "execution_count": 14,
   "id": "8282da3a",
   "metadata": {
    "ExecuteTime": {
     "end_time": "2022-03-09T15:22:21.522047Z",
     "start_time": "2022-03-09T15:22:21.509571Z"
    },
    "scrolled": true
   },
   "outputs": [],
   "source": [
    "# сетка параметров #2\n",
    "et_grid = {'n_estimators': [200, 300, 400, 500],\n",
    "           'max_depth': [None],\n",
    "           'max_features': [0.4, 0.5, 0.6, 0.7]\n",
    "          }\n",
    "et_model = ExtraTreesRegressor(n_jobs=-1, random_state=seed)\n",
    "cv_folder = KFold(n_splits=3, shuffle=True, random_state=seed)\n",
    "grid = GridSearchCV(et_model,\n",
    "                    et_grid,\n",
    "                    cv=cv_folder,\n",
    "                    scoring='neg_mean_absolute_percentage_error',\n",
    "                    refit=False,\n",
    "                    verbose=2,\n",
    "                    )\n",
    "# grid.fit(X, y)\n",
    "# display(grid.best_score_)\n",
    "# display(grid.best_params_)"
   ]
  },
  {
   "cell_type": "code",
   "execution_count": 15,
   "id": "c9e421a5",
   "metadata": {
    "ExecuteTime": {
     "end_time": "2022-03-09T15:22:21.538109Z",
     "start_time": "2022-03-09T15:22:21.525127Z"
    },
    "scrolled": false
   },
   "outputs": [],
   "source": [
    "# сетка параметров #3\n",
    "et_grid = {'n_estimators': [200, 300, 400],\n",
    "           'max_depth': [None],\n",
    "           'max_features': [0.7, 0.8, 0.9, 1.0]\n",
    "          }\n",
    "et_model = ExtraTreesRegressor(n_jobs=-1, random_state=seed)\n",
    "cv_folder = KFold(n_splits=3, shuffle=True, random_state=seed)\n",
    "grid = GridSearchCV(et_model,\n",
    "                    et_grid,\n",
    "                    cv=cv_folder,\n",
    "                    scoring='neg_mean_absolute_percentage_error',\n",
    "                    refit=False,\n",
    "                    verbose=2,\n",
    "                    )\n",
    "# grid.fit(X, y)\n",
    "# display(grid.best_score_)\n",
    "# display(grid.best_params_)"
   ]
  },
  {
   "cell_type": "code",
   "execution_count": 16,
   "id": "0366e60e",
   "metadata": {
    "ExecuteTime": {
     "end_time": "2022-03-09T15:22:21.553085Z",
     "start_time": "2022-03-09T15:22:21.539895Z"
    }
   },
   "outputs": [],
   "source": [
    "# тюненая модель ET\n",
    "et_model = ExtraTreesRegressor(n_jobs=-1,\n",
    "                               n_estimators=300,\n",
    "                               max_features=0.9)"
   ]
  },
  {
   "cell_type": "markdown",
   "id": "37d9ac38",
   "metadata": {},
   "source": [
    "## Настройка параметров RandomForestRegressor"
   ]
  },
  {
   "cell_type": "code",
   "execution_count": 17,
   "id": "b6152caf",
   "metadata": {
    "ExecuteTime": {
     "end_time": "2022-03-09T15:22:21.568699Z",
     "start_time": "2022-03-09T15:22:21.555942Z"
    },
    "scrolled": true
   },
   "outputs": [],
   "source": [
    "# сетка параметров #1\n",
    "rf_grid = {'n_estimators': [50, 100, 200],\n",
    "           'max_depth': [None, 5, 10, 15],\n",
    "           'max_features': [0.3, 0.35, 0.4]\n",
    "          }\n",
    "rf_model = RandomForestRegressor(n_jobs=-1, random_state=seed)\n",
    "cv_folder = KFold(n_splits=3, shuffle=True, random_state=seed)\n",
    "grid = GridSearchCV(rf_model,\n",
    "                    rf_grid,\n",
    "                    cv=cv_folder,\n",
    "                    scoring='neg_mean_absolute_percentage_error',\n",
    "                    refit=False,\n",
    "                    verbose=2,\n",
    "                    )\n",
    "# grid.fit(X, y)\n",
    "# display(grid.best_score_)\n",
    "# display(grid.best_params_)"
   ]
  },
  {
   "cell_type": "code",
   "execution_count": 18,
   "id": "4cf69e31",
   "metadata": {
    "ExecuteTime": {
     "end_time": "2022-03-09T15:22:21.583843Z",
     "start_time": "2022-03-09T15:22:21.570833Z"
    }
   },
   "outputs": [],
   "source": [
    "# сетка параметров #2\n",
    "rf_grid = {'n_estimators': [200, 300, 400, 500],\n",
    "           'max_depth': [None],\n",
    "           'max_features': [0.4, 0.45, 0.5]\n",
    "          }\n",
    "rf_model = RandomForestRegressor(n_jobs=-1, random_state=seed)\n",
    "cv_folder = KFold(n_splits=3, shuffle=True, random_state=seed)\n",
    "grid = GridSearchCV(rf_model,\n",
    "                    rf_grid,\n",
    "                    cv=cv_folder,\n",
    "                    scoring='neg_mean_absolute_percentage_error',\n",
    "                    refit=False,\n",
    "                    verbose=2,\n",
    "                    )\n",
    "# grid.fit(X, y)\n",
    "# display(grid.best_score_)\n",
    "# display(grid.best_params_)"
   ]
  },
  {
   "cell_type": "code",
   "execution_count": 19,
   "id": "c5060c4a",
   "metadata": {
    "ExecuteTime": {
     "end_time": "2022-03-09T15:22:21.599818Z",
     "start_time": "2022-03-09T15:22:21.585794Z"
    }
   },
   "outputs": [],
   "source": [
    "# тюненая модель RF\n",
    "rf_model = RandomForestRegressor(n_jobs=-1,\n",
    "                                 n_estimators=400,\n",
    "                                 max_features=0.5)"
   ]
  },
  {
   "cell_type": "markdown",
   "id": "bddd445b",
   "metadata": {},
   "source": [
    "## Настройка параметров KNeighborsRegressor"
   ]
  },
  {
   "cell_type": "code",
   "execution_count": 20,
   "id": "4ba4eff2",
   "metadata": {
    "ExecuteTime": {
     "end_time": "2022-03-09T15:22:21.615833Z",
     "start_time": "2022-03-09T15:22:21.602999Z"
    }
   },
   "outputs": [],
   "source": [
    "# сетка параметров #1\n",
    "kn_grid = {'n_neighbors': [3, 5, 7, 9],\n",
    "          }\n",
    "kn_model = KNeighborsRegressor(n_jobs=-1)\n",
    "cv_folder = KFold(n_splits=3, shuffle=True, random_state=seed)\n",
    "grid = GridSearchCV(kn_model,\n",
    "                    kn_grid,\n",
    "                    cv=cv_folder,\n",
    "                    scoring='neg_mean_absolute_percentage_error',\n",
    "                    refit=False,\n",
    "                    verbose=2,\n",
    "                    )\n",
    "# grid.fit(X, y)\n",
    "# display(grid.best_score_)\n",
    "# display(grid.best_params_)"
   ]
  },
  {
   "cell_type": "code",
   "execution_count": 21,
   "id": "151582e1",
   "metadata": {
    "ExecuteTime": {
     "end_time": "2022-03-09T15:22:21.631900Z",
     "start_time": "2022-03-09T15:22:21.618795Z"
    }
   },
   "outputs": [],
   "source": [
    "# сетка параметров #2\n",
    "kn_grid = {'n_neighbors': [1, 2, 3, 4],\n",
    "          }\n",
    "kn_model = KNeighborsRegressor(n_jobs=-1)\n",
    "cv_folder = KFold(n_splits=3, shuffle=True, random_state=seed)\n",
    "grid = GridSearchCV(kn_model,\n",
    "                    kn_grid,\n",
    "                    cv=cv_folder,\n",
    "                    scoring='neg_mean_absolute_percentage_error',\n",
    "                    refit=False,\n",
    "                    verbose=2,\n",
    "                    )\n",
    "# grid.fit(X, y)\n",
    "# display(grid.best_score_)\n",
    "# display(grid.best_params_)"
   ]
  },
  {
   "cell_type": "code",
   "execution_count": 22,
   "id": "3269e0ce",
   "metadata": {
    "ExecuteTime": {
     "end_time": "2022-03-09T15:22:21.647903Z",
     "start_time": "2022-03-09T15:22:21.636331Z"
    }
   },
   "outputs": [],
   "source": [
    "# тюненая модель KNN\n",
    "kn_model = KNeighborsRegressor(n_jobs=-1,\n",
    "                               n_neighbors=3) # оставим 3 для стабильности"
   ]
  },
  {
   "cell_type": "markdown",
   "id": "daa979fc",
   "metadata": {},
   "source": [
    "## Проверим тюненые модели (не совсем корректно, но хоть так)"
   ]
  },
  {
   "cell_type": "code",
   "execution_count": 23,
   "id": "b487a39e",
   "metadata": {
    "ExecuteTime": {
     "end_time": "2022-03-09T15:22:21.663544Z",
     "start_time": "2022-03-09T15:22:21.650748Z"
    }
   },
   "outputs": [],
   "source": [
    "# параметры разделения\n",
    "test_size = 0.2"
   ]
  },
  {
   "cell_type": "code",
   "execution_count": 24,
   "id": "38e543f1",
   "metadata": {
    "ExecuteTime": {
     "end_time": "2022-03-09T15:22:21.694250Z",
     "start_time": "2022-03-09T15:22:21.666381Z"
    }
   },
   "outputs": [
    {
     "name": "stdout",
     "output_type": "stream",
     "text": [
      "(30272, 56) (30272,)\n",
      "(7569, 56) (7569,)\n"
     ]
    }
   ],
   "source": [
    "X_train, X_valid, y_train, y_valid = train_test_split(X, y, test_size=test_size)\n",
    "print(X_train.shape, y_train.shape)\n",
    "print(X_valid.shape, y_valid.shape)"
   ]
  },
  {
   "cell_type": "code",
   "execution_count": 25,
   "id": "0991c5d8",
   "metadata": {
    "ExecuteTime": {
     "end_time": "2022-03-09T15:22:21.709333Z",
     "start_time": "2022-03-09T15:22:21.696551Z"
    }
   },
   "outputs": [],
   "source": [
    "# список моделей-кандидатов\n",
    "# закомментированы совсем плохие по результатам или расходящиеся\n",
    "models = []\n",
    "models.append(('KNR', kn_model))\n",
    "models.append(('BAR', br_model))\n",
    "models.append(('ETR', et_model))\n",
    "models.append(('RFR', rf_model))"
   ]
  },
  {
   "cell_type": "code",
   "execution_count": 26,
   "id": "6d84f84a",
   "metadata": {
    "ExecuteTime": {
     "end_time": "2022-03-09T15:22:21.724924Z",
     "start_time": "2022-03-09T15:22:21.712836Z"
    }
   },
   "outputs": [],
   "source": [
    "# таблица результатов\n",
    "models_effcy = pd.DataFrame(index=[name for name, model in models])"
   ]
  },
  {
   "cell_type": "markdown",
   "id": "98e5f2ce",
   "metadata": {
    "ExecuteTime": {
     "end_time": "2022-03-07T14:55:58.626825Z",
     "start_time": "2022-03-07T14:55:58.598693Z"
    }
   },
   "source": [
    "split_score - чем меньше, тем лучше\n",
    "\n",
    "cv_mean - чем меньше по модулю, тем лучше"
   ]
  },
  {
   "cell_type": "code",
   "execution_count": 27,
   "id": "afda4dac",
   "metadata": {
    "ExecuteTime": {
     "end_time": "2022-03-09T15:27:40.979759Z",
     "start_time": "2022-03-09T15:22:21.728632Z"
    },
    "scrolled": false
   },
   "outputs": [
    {
     "name": "stdout",
     "output_type": "stream",
     "text": [
      "KNR KNeighborsRegressor(n_jobs=-1, n_neighbors=3) complete\n",
      "BAR BaggingRegressor(max_samples=0.9, n_estimators=300, n_jobs=-1) complete\n",
      "ETR ExtraTreesRegressor(max_features=0.9, n_estimators=300, n_jobs=-1) complete\n",
      "RFR RandomForestRegressor(max_features=0.5, n_estimators=400, n_jobs=-1) complete\n"
     ]
    },
    {
     "data": {
      "text/html": [
       "<div>\n",
       "<style scoped>\n",
       "    .dataframe tbody tr th:only-of-type {\n",
       "        vertical-align: middle;\n",
       "    }\n",
       "\n",
       "    .dataframe tbody tr th {\n",
       "        vertical-align: top;\n",
       "    }\n",
       "\n",
       "    .dataframe thead th {\n",
       "        text-align: right;\n",
       "    }\n",
       "</style>\n",
       "<table border=\"1\" class=\"dataframe\">\n",
       "  <thead>\n",
       "    <tr style=\"text-align: right;\">\n",
       "      <th></th>\n",
       "      <th>split_score</th>\n",
       "      <th>cv_mean</th>\n",
       "      <th>cv_std</th>\n",
       "    </tr>\n",
       "  </thead>\n",
       "  <tbody>\n",
       "    <tr>\n",
       "      <th>KNR</th>\n",
       "      <td>0.502311</td>\n",
       "      <td>-0.508792</td>\n",
       "      <td>0.006973</td>\n",
       "    </tr>\n",
       "    <tr>\n",
       "      <th>BAR</th>\n",
       "      <td>0.181080</td>\n",
       "      <td>-0.181931</td>\n",
       "      <td>0.004209</td>\n",
       "    </tr>\n",
       "    <tr>\n",
       "      <th>ETR</th>\n",
       "      <td>0.203105</td>\n",
       "      <td>-0.187899</td>\n",
       "      <td>0.002659</td>\n",
       "    </tr>\n",
       "    <tr>\n",
       "      <th>RFR</th>\n",
       "      <td>0.183567</td>\n",
       "      <td>-0.179099</td>\n",
       "      <td>0.004145</td>\n",
       "    </tr>\n",
       "  </tbody>\n",
       "</table>\n",
       "</div>"
      ],
      "text/plain": [
       "     split_score   cv_mean    cv_std\n",
       "KNR     0.502311 -0.508792  0.006973\n",
       "BAR     0.181080 -0.181931  0.004209\n",
       "ETR     0.203105 -0.187899  0.002659\n",
       "RFR     0.183567 -0.179099  0.004145"
      ]
     },
     "metadata": {},
     "output_type": "display_data"
    }
   ],
   "source": [
    "# Оценивание эффективности каждой модели\n",
    "for name, model in models:\n",
    "    # оценка с отложенной частью\n",
    "    m_fit = model.fit(X_train, np.ravel(y_train))\n",
    "    y_predict = model.predict(X_valid)\n",
    "    m_score = mean_absolute_percentage_error(y_valid, y_predict)\n",
    "    models_effcy.loc[name, 'split_score'] = m_score\n",
    "    # оценка кросс-валидацией по всем данным\n",
    "    kfold = KFold(n_splits=5, shuffle=True)\n",
    "    cv_results = cross_val_score(model, X, np.ravel(y.values), cv=kfold, scoring='neg_mean_absolute_percentage_error')\n",
    "    models_effcy.loc[name, 'cv_mean'] = cv_results.mean()\n",
    "    models_effcy.loc[name, 'cv_std'] = cv_results.std()\n",
    "    print(name, model, 'complete')\n",
    "display(models_effcy)"
   ]
  },
  {
   "cell_type": "markdown",
   "id": "f2581310",
   "metadata": {},
   "source": [
    "# Результаты для Kaggle"
   ]
  },
  {
   "cell_type": "code",
   "execution_count": 28,
   "id": "f45698ac",
   "metadata": {
    "ExecuteTime": {
     "end_time": "2022-03-09T15:27:41.027103Z",
     "start_time": "2022-03-09T15:27:40.981770Z"
    }
   },
   "outputs": [],
   "source": [
    "submission = pd.read_csv('sample_submission_empty.csv')"
   ]
  },
  {
   "cell_type": "markdown",
   "id": "5eca7e1e",
   "metadata": {},
   "source": [
    "## Bagging"
   ]
  },
  {
   "cell_type": "code",
   "execution_count": 29,
   "id": "c7b11df5",
   "metadata": {
    "ExecuteTime": {
     "end_time": "2022-03-09T15:28:06.450645Z",
     "start_time": "2022-03-09T15:27:41.032588Z"
    }
   },
   "outputs": [],
   "source": [
    "# обучим\n",
    "br_model.fit(X, y)\n",
    "# предскажем\n",
    "y_test_predict = br_model.predict(X_test)\n",
    "# запишем\n",
    "submission['price'] = np.around(y_test_predict, decimals=-3)\n",
    "submission.to_csv('sample_submission_br_tune_round.csv', index=False)"
   ]
  },
  {
   "cell_type": "markdown",
   "id": "18ccc6e0",
   "metadata": {
    "ExecuteTime": {
     "end_time": "2022-03-09T11:31:27.492064Z",
     "start_time": "2022-03-09T11:31:23.089480Z"
    }
   },
   "source": [
    "## Extra Trees"
   ]
  },
  {
   "cell_type": "code",
   "execution_count": 30,
   "id": "6f129875",
   "metadata": {
    "ExecuteTime": {
     "end_time": "2022-03-09T15:28:24.651592Z",
     "start_time": "2022-03-09T15:28:06.454635Z"
    }
   },
   "outputs": [],
   "source": [
    "# обучим\n",
    "et_model.fit(X, y)\n",
    "# предскажем\n",
    "y_test_predict = et_model.predict(X_test)\n",
    "# запишем\n",
    "submission['price'] = np.around(y_test_predict, decimals=-3)\n",
    "submission.to_csv('sample_submission_et_tune_round.csv', index=False)"
   ]
  },
  {
   "cell_type": "markdown",
   "id": "2b8cbb7d",
   "metadata": {},
   "source": [
    "## Random Forest"
   ]
  },
  {
   "cell_type": "code",
   "execution_count": 31,
   "id": "106df2d8",
   "metadata": {
    "ExecuteTime": {
     "end_time": "2022-03-09T15:28:39.261869Z",
     "start_time": "2022-03-09T15:28:24.654483Z"
    }
   },
   "outputs": [],
   "source": [
    "# обучим\n",
    "rf_model.fit(X, y)\n",
    "# предскажем\n",
    "y_test_predict = rf_model.predict(X_test)\n",
    "# запишем\n",
    "submission['price'] = np.around(y_test_predict, decimals=-3)\n",
    "submission.to_csv('sample_submission_rf_tune_round.csv', index=False)"
   ]
  },
  {
   "cell_type": "markdown",
   "id": "13806776",
   "metadata": {},
   "source": [
    "## kNN"
   ]
  },
  {
   "cell_type": "code",
   "execution_count": 32,
   "id": "f883face",
   "metadata": {
    "ExecuteTime": {
     "end_time": "2022-03-09T15:29:19.749409Z",
     "start_time": "2022-03-09T15:28:39.263867Z"
    }
   },
   "outputs": [],
   "source": [
    "# обучим\n",
    "kn_model.fit(X, y)\n",
    "# предскажем\n",
    "y_test_predict = kn_model.predict(X_test)\n",
    "# запишем\n",
    "submission['price'] = np.around(y_test_predict, decimals=-3)\n",
    "submission.to_csv('sample_submission_kn_tune_round.csv', index=False)"
   ]
  }
 ],
 "metadata": {
  "kernelspec": {
   "display_name": "Python 3",
   "language": "python",
   "name": "python3"
  },
  "language_info": {
   "codemirror_mode": {
    "name": "ipython",
    "version": 3
   },
   "file_extension": ".py",
   "mimetype": "text/x-python",
   "name": "python",
   "nbconvert_exporter": "python",
   "pygments_lexer": "ipython3",
   "version": "3.8.8"
  },
  "toc": {
   "base_numbering": 1,
   "nav_menu": {},
   "number_sections": true,
   "sideBar": true,
   "skip_h1_title": false,
   "title_cell": "Table of Contents",
   "title_sidebar": "Contents",
   "toc_cell": false,
   "toc_position": {},
   "toc_section_display": true,
   "toc_window_display": false
  }
 },
 "nbformat": 4,
 "nbformat_minor": 5
}
