{
 "cells": [
  {
   "cell_type": "markdown",
   "id": "8864a403",
   "metadata": {},
   "source": [
    "В данном датасете построим некоторую базовую модель, относительно предсказаний которой можно будет отталкиваться в оценке точности.\n",
    "\n",
    "Устроим блиц-проверку алгоритмов sklearn по мотивам статьи https://habr.com/ru/post/475552/\n",
    "\n",
    "По условиям соревнования, критерием оценки будет MAPE. Мы тоже будет его использовать."
   ]
  },
  {
   "cell_type": "code",
   "execution_count": 26,
   "id": "97a1dcd9",
   "metadata": {
    "ExecuteTime": {
     "end_time": "2022-03-08T14:21:53.642180Z",
     "start_time": "2022-03-08T14:21:53.631195Z"
    }
   },
   "outputs": [],
   "source": [
    "import pandas as pd\n",
    "import numpy as np\n",
    "from datetime import datetime\n",
    "\n",
    "from sklearn.linear_model import LinearRegression\n",
    "from sklearn.metrics import mean_absolute_percentage_error\n",
    "from sklearn.model_selection import train_test_split"
   ]
  },
  {
   "cell_type": "code",
   "execution_count": 27,
   "id": "e7e3f50c",
   "metadata": {
    "ExecuteTime": {
     "end_time": "2022-03-08T14:21:54.220414Z",
     "start_time": "2022-03-08T14:21:54.200280Z"
    }
   },
   "outputs": [],
   "source": [
    "from sklearn.model_selection import train_test_split\n",
    "from sklearn.linear_model import LinearRegression\n",
    "from sklearn.linear_model import Ridge\n",
    "from sklearn.linear_model import Lars\n",
    "from sklearn.linear_model import Lasso\n",
    "from sklearn.linear_model import ElasticNet\n",
    "from sklearn.linear_model import LarsCV\n",
    "from sklearn.linear_model import BayesianRidge\n",
    "from sklearn.neighbors import KNeighborsRegressor\n",
    "from sklearn.tree import DecisionTreeRegressor\n",
    "from sklearn.svm import LinearSVR\n",
    "from sklearn.svm import SVR\n",
    "from sklearn.ensemble import AdaBoostRegressor\n",
    "from sklearn.ensemble import BaggingRegressor\n",
    "from sklearn.ensemble import ExtraTreesRegressor\n",
    "from sklearn.ensemble import GradientBoostingRegressor\n",
    "from sklearn.ensemble import RandomForestRegressor\n",
    "from sklearn.model_selection import KFold\n",
    "from sklearn.model_selection import cross_val_score\n",
    "from sklearn.pipeline import Pipeline\n",
    "from sklearn.preprocessing import StandardScaler\n",
    "from sklearn.preprocessing import Normalizer\n",
    "# from matplotlib import pyplot"
   ]
  },
  {
   "cell_type": "markdown",
   "id": "adc5e988",
   "metadata": {},
   "source": [
    "# Загрузка тренировочного датасета"
   ]
  },
  {
   "cell_type": "code",
   "execution_count": 33,
   "id": "e61b223c",
   "metadata": {
    "ExecuteTime": {
     "end_time": "2022-03-08T14:22:51.047054Z",
     "start_time": "2022-03-08T14:22:46.859201Z"
    }
   },
   "outputs": [
    {
     "data": {
      "text/html": [
       "<div>\n",
       "<style scoped>\n",
       "    .dataframe tbody tr th:only-of-type {\n",
       "        vertical-align: middle;\n",
       "    }\n",
       "\n",
       "    .dataframe tbody tr th {\n",
       "        vertical-align: top;\n",
       "    }\n",
       "\n",
       "    .dataframe thead th {\n",
       "        text-align: right;\n",
       "    }\n",
       "</style>\n",
       "<table border=\"1\" class=\"dataframe\">\n",
       "  <thead>\n",
       "    <tr style=\"text-align: right;\">\n",
       "      <th></th>\n",
       "      <th>0</th>\n",
       "    </tr>\n",
       "  </thead>\n",
       "  <tbody>\n",
       "    <tr>\n",
       "      <th>body_type</th>\n",
       "      <td>седан</td>\n",
       "    </tr>\n",
       "    <tr>\n",
       "      <th>brand</th>\n",
       "      <td>AUDI</td>\n",
       "    </tr>\n",
       "    <tr>\n",
       "      <th>color</th>\n",
       "      <td>чёрный</td>\n",
       "    </tr>\n",
       "    <tr>\n",
       "      <th>fuel_type</th>\n",
       "      <td>бензин</td>\n",
       "    </tr>\n",
       "    <tr>\n",
       "      <th>model_year</th>\n",
       "      <td>1990</td>\n",
       "    </tr>\n",
       "    <tr>\n",
       "      <th>n_doors</th>\n",
       "      <td>4</td>\n",
       "    </tr>\n",
       "    <tr>\n",
       "      <th>production_year</th>\n",
       "      <td>1991</td>\n",
       "    </tr>\n",
       "    <tr>\n",
       "      <th>vehicle_transmission</th>\n",
       "      <td>механика</td>\n",
       "    </tr>\n",
       "    <tr>\n",
       "      <th>engine_power</th>\n",
       "      <td>174.0</td>\n",
       "    </tr>\n",
       "    <tr>\n",
       "      <th>description</th>\n",
       "      <td>Машина  в приличном состоянии ,не гнилая не р...</td>\n",
       "    </tr>\n",
       "    <tr>\n",
       "      <th>mileage</th>\n",
       "      <td>350000</td>\n",
       "    </tr>\n",
       "    <tr>\n",
       "      <th>drive_type</th>\n",
       "      <td>полный</td>\n",
       "    </tr>\n",
       "    <tr>\n",
       "      <th>n_owners</th>\n",
       "      <td>3+</td>\n",
       "    </tr>\n",
       "    <tr>\n",
       "      <th>is_original_techpass</th>\n",
       "      <td>1</td>\n",
       "    </tr>\n",
       "    <tr>\n",
       "      <th>is_lefthand_drive</th>\n",
       "      <td>1</td>\n",
       "    </tr>\n",
       "    <tr>\n",
       "      <th>engine_displacement</th>\n",
       "      <td>2.8</td>\n",
       "    </tr>\n",
       "    <tr>\n",
       "      <th>full_model_name</th>\n",
       "      <td>audi 100</td>\n",
       "    </tr>\n",
       "  </tbody>\n",
       "</table>\n",
       "</div>"
      ],
      "text/plain": [
       "                                                                      0\n",
       "body_type                                                         седан\n",
       "brand                                                              AUDI\n",
       "color                                                            чёрный\n",
       "fuel_type                                                        бензин\n",
       "model_year                                                         1990\n",
       "n_doors                                                               4\n",
       "production_year                                                    1991\n",
       "vehicle_transmission                                           механика\n",
       "engine_power                                                      174.0\n",
       "description            Машина  в приличном состоянии ,не гнилая не р...\n",
       "mileage                                                          350000\n",
       "drive_type                                                       полный\n",
       "n_owners                                                             3+\n",
       "is_original_techpass                                                  1\n",
       "is_lefthand_drive                                                     1\n",
       "engine_displacement                                                 2.8\n",
       "full_model_name                                                audi 100"
      ]
     },
     "execution_count": 33,
     "metadata": {},
     "output_type": "execute_result"
    }
   ],
   "source": [
    "X = pd.read_csv('EDAv2_Train.zip').drop(columns='price')\n",
    "X.head(1).T"
   ]
  },
  {
   "cell_type": "code",
   "execution_count": 34,
   "id": "02faff54",
   "metadata": {
    "ExecuteTime": {
     "end_time": "2022-03-08T14:22:51.285261Z",
     "start_time": "2022-03-08T14:22:51.050016Z"
    }
   },
   "outputs": [
    {
     "data": {
      "text/html": [
       "<div>\n",
       "<style scoped>\n",
       "    .dataframe tbody tr th:only-of-type {\n",
       "        vertical-align: middle;\n",
       "    }\n",
       "\n",
       "    .dataframe tbody tr th {\n",
       "        vertical-align: top;\n",
       "    }\n",
       "\n",
       "    .dataframe thead th {\n",
       "        text-align: right;\n",
       "    }\n",
       "</style>\n",
       "<table border=\"1\" class=\"dataframe\">\n",
       "  <thead>\n",
       "    <tr style=\"text-align: right;\">\n",
       "      <th></th>\n",
       "      <th>price</th>\n",
       "    </tr>\n",
       "  </thead>\n",
       "  <tbody>\n",
       "    <tr>\n",
       "      <th>0</th>\n",
       "      <td>200000.0</td>\n",
       "    </tr>\n",
       "  </tbody>\n",
       "</table>\n",
       "</div>"
      ],
      "text/plain": [
       "      price\n",
       "0  200000.0"
      ]
     },
     "execution_count": 34,
     "metadata": {},
     "output_type": "execute_result"
    }
   ],
   "source": [
    "y = pd.read_csv('EDAv1_Train.zip', usecols=['price'])\n",
    "y.head(1)"
   ]
  },
  {
   "cell_type": "code",
   "execution_count": 35,
   "id": "e2d7a16c",
   "metadata": {
    "ExecuteTime": {
     "end_time": "2022-03-08T14:22:52.539140Z",
     "start_time": "2022-03-08T14:22:51.288326Z"
    }
   },
   "outputs": [
    {
     "data": {
      "text/html": [
       "<div>\n",
       "<style scoped>\n",
       "    .dataframe tbody tr th:only-of-type {\n",
       "        vertical-align: middle;\n",
       "    }\n",
       "\n",
       "    .dataframe tbody tr th {\n",
       "        vertical-align: top;\n",
       "    }\n",
       "\n",
       "    .dataframe thead th {\n",
       "        text-align: right;\n",
       "    }\n",
       "</style>\n",
       "<table border=\"1\" class=\"dataframe\">\n",
       "  <thead>\n",
       "    <tr style=\"text-align: right;\">\n",
       "      <th></th>\n",
       "      <th>0</th>\n",
       "    </tr>\n",
       "  </thead>\n",
       "  <tbody>\n",
       "    <tr>\n",
       "      <th>body_type</th>\n",
       "      <td>седан</td>\n",
       "    </tr>\n",
       "    <tr>\n",
       "      <th>brand</th>\n",
       "      <td>AUDI</td>\n",
       "    </tr>\n",
       "    <tr>\n",
       "      <th>color</th>\n",
       "      <td>чёрный</td>\n",
       "    </tr>\n",
       "    <tr>\n",
       "      <th>fuel_type</th>\n",
       "      <td>бензин</td>\n",
       "    </tr>\n",
       "    <tr>\n",
       "      <th>model_year</th>\n",
       "      <td>1990</td>\n",
       "    </tr>\n",
       "    <tr>\n",
       "      <th>n_doors</th>\n",
       "      <td>4</td>\n",
       "    </tr>\n",
       "    <tr>\n",
       "      <th>production_year</th>\n",
       "      <td>1991</td>\n",
       "    </tr>\n",
       "    <tr>\n",
       "      <th>vehicle_transmission</th>\n",
       "      <td>механика</td>\n",
       "    </tr>\n",
       "    <tr>\n",
       "      <th>engine_power</th>\n",
       "      <td>174.0</td>\n",
       "    </tr>\n",
       "    <tr>\n",
       "      <th>description</th>\n",
       "      <td>Машина  в приличном состоянии ,не гнилая не р...</td>\n",
       "    </tr>\n",
       "    <tr>\n",
       "      <th>mileage</th>\n",
       "      <td>350000</td>\n",
       "    </tr>\n",
       "    <tr>\n",
       "      <th>drive_type</th>\n",
       "      <td>полный</td>\n",
       "    </tr>\n",
       "    <tr>\n",
       "      <th>n_owners</th>\n",
       "      <td>3+</td>\n",
       "    </tr>\n",
       "    <tr>\n",
       "      <th>is_original_techpass</th>\n",
       "      <td>1</td>\n",
       "    </tr>\n",
       "    <tr>\n",
       "      <th>is_lefthand_drive</th>\n",
       "      <td>1</td>\n",
       "    </tr>\n",
       "    <tr>\n",
       "      <th>engine_displacement</th>\n",
       "      <td>2.8</td>\n",
       "    </tr>\n",
       "    <tr>\n",
       "      <th>full_model_name</th>\n",
       "      <td>audi 100</td>\n",
       "    </tr>\n",
       "  </tbody>\n",
       "</table>\n",
       "</div>"
      ],
      "text/plain": [
       "                                                                      0\n",
       "body_type                                                         седан\n",
       "brand                                                              AUDI\n",
       "color                                                            чёрный\n",
       "fuel_type                                                        бензин\n",
       "model_year                                                         1990\n",
       "n_doors                                                               4\n",
       "production_year                                                    1991\n",
       "vehicle_transmission                                           механика\n",
       "engine_power                                                      174.0\n",
       "description            Машина  в приличном состоянии ,не гнилая не р...\n",
       "mileage                                                          350000\n",
       "drive_type                                                       полный\n",
       "n_owners                                                             3+\n",
       "is_original_techpass                                                  1\n",
       "is_lefthand_drive                                                     1\n",
       "engine_displacement                                                 2.8\n",
       "full_model_name                                                audi 100"
      ]
     },
     "execution_count": 35,
     "metadata": {},
     "output_type": "execute_result"
    }
   ],
   "source": [
    "X_test = pd.read_csv('EDAv2_Test.zip')\n",
    "X.head(1).T"
   ]
  },
  {
   "cell_type": "markdown",
   "id": "359e2b92",
   "metadata": {},
   "source": [
    "# Проверим готовность данных"
   ]
  },
  {
   "cell_type": "code",
   "execution_count": 36,
   "id": "5018feee",
   "metadata": {
    "ExecuteTime": {
     "end_time": "2022-03-08T14:22:52.585865Z",
     "start_time": "2022-03-08T14:22:52.541120Z"
    }
   },
   "outputs": [
    {
     "data": {
      "text/plain": [
       "'Train brands:'"
      ]
     },
     "metadata": {},
     "output_type": "display_data"
    },
    {
     "data": {
      "text/plain": [
       "36"
      ]
     },
     "metadata": {},
     "output_type": "display_data"
    },
    {
     "data": {
      "text/plain": [
       "'Test brands:'"
      ]
     },
     "metadata": {},
     "output_type": "display_data"
    },
    {
     "data": {
      "text/plain": [
       "12"
      ]
     },
     "metadata": {},
     "output_type": "display_data"
    }
   ],
   "source": [
    "# сравним количество брендов в тренировочном и тестовом датасетах\n",
    "display('Train brands:', X['brand'].nunique())\n",
    "display('Test brands:', X_test['brand'].nunique())"
   ]
  },
  {
   "cell_type": "code",
   "execution_count": 37,
   "id": "548dce6b",
   "metadata": {
    "ExecuteTime": {
     "end_time": "2022-03-08T14:22:52.695461Z",
     "start_time": "2022-03-08T14:22:52.588792Z"
    }
   },
   "outputs": [
    {
     "data": {
      "text/plain": [
       "'Train brands:'"
      ]
     },
     "metadata": {},
     "output_type": "display_data"
    },
    {
     "data": {
      "text/plain": [
       "12"
      ]
     },
     "metadata": {},
     "output_type": "display_data"
    },
    {
     "data": {
      "text/plain": [
       "'Test brands:'"
      ]
     },
     "metadata": {},
     "output_type": "display_data"
    },
    {
     "data": {
      "text/plain": [
       "12"
      ]
     },
     "metadata": {},
     "output_type": "display_data"
    }
   ],
   "source": [
    "# оставим в тренировочном датасете только те бренды, которые есть в тестовом\n",
    "brand_list = list(X_test['brand'].unique())\n",
    "brand_mask = X['brand'].apply(lambda x: True if x in brand_list else False)\n",
    "X = X[brand_mask]\n",
    "y = y[brand_mask]\n",
    "# и проверим это\n",
    "display('Train brands:', X['brand'].nunique())\n",
    "display('Test brands:', X_test['brand'].nunique())"
   ]
  },
  {
   "cell_type": "code",
   "execution_count": 38,
   "id": "d006694b",
   "metadata": {
    "ExecuteTime": {
     "end_time": "2022-03-08T14:22:54.713766Z",
     "start_time": "2022-03-08T14:22:54.660734Z"
    }
   },
   "outputs": [
    {
     "name": "stdout",
     "output_type": "stream",
     "text": [
      "<class 'pandas.core.frame.DataFrame'>\n",
      "Int64Index: 47453 entries, 0 to 86145\n",
      "Data columns (total 17 columns):\n",
      " #   Column                Non-Null Count  Dtype  \n",
      "---  ------                --------------  -----  \n",
      " 0   body_type             47453 non-null  object \n",
      " 1   brand                 47453 non-null  object \n",
      " 2   color                 47453 non-null  object \n",
      " 3   fuel_type             47453 non-null  object \n",
      " 4   model_year            47453 non-null  int64  \n",
      " 5   n_doors               47453 non-null  int64  \n",
      " 6   production_year       47453 non-null  int64  \n",
      " 7   vehicle_transmission  47453 non-null  object \n",
      " 8   engine_power          47453 non-null  float64\n",
      " 9   description           45882 non-null  object \n",
      " 10  mileage               47453 non-null  int64  \n",
      " 11  drive_type            47453 non-null  object \n",
      " 12  n_owners              47453 non-null  object \n",
      " 13  is_original_techpass  47453 non-null  int64  \n",
      " 14  is_lefthand_drive     47453 non-null  int64  \n",
      " 15  engine_displacement   30436 non-null  float64\n",
      " 16  full_model_name       47453 non-null  object \n",
      "dtypes: float64(2), int64(6), object(9)\n",
      "memory usage: 6.5+ MB\n"
     ]
    }
   ],
   "source": [
    "X.info()"
   ]
  },
  {
   "cell_type": "markdown",
   "id": "2658df09",
   "metadata": {},
   "source": [
    "В обоих датасетах есть пропуски в объёме двигателя. \n",
    "При этом, во время EDA было видно, что у объема высокая корреляция с мощностью двигателя.\n",
    "Поэтому, в данной ситуации, для baseline удалим этот признак.\n",
    "\n",
    "Также удалим признак model_year - высокая корреляция с production_year, который д.б. более важным по смыслу.\n",
    "\n",
    "Признак full_model_name тоже пока что удалим - слишком много вариаций.\n",
    "\n",
    "Удалим description - ничего хорошего мы с ним здесь не сделаем."
   ]
  },
  {
   "cell_type": "code",
   "execution_count": 39,
   "id": "304156d4",
   "metadata": {
    "ExecuteTime": {
     "end_time": "2022-03-08T14:22:57.502797Z",
     "start_time": "2022-03-08T14:22:57.433518Z"
    },
    "scrolled": true
   },
   "outputs": [],
   "source": [
    "columns_to_drop = ['engine_displacement', 'model_year', 'full_model_name', 'description']\n",
    "X.drop(columns=columns_to_drop, inplace=True)"
   ]
  },
  {
   "cell_type": "code",
   "execution_count": 40,
   "id": "eee72ac1",
   "metadata": {
    "ExecuteTime": {
     "end_time": "2022-03-08T14:22:58.062287Z",
     "start_time": "2022-03-08T14:22:58.002802Z"
    }
   },
   "outputs": [
    {
     "data": {
      "text/plain": [
       "Index(['n_doors', 'production_year', 'engine_power', 'mileage',\n",
       "       'is_original_techpass', 'is_lefthand_drive', 'body_type_внедорожник',\n",
       "       'body_type_кабриолет', 'body_type_купе', 'body_type_лимузин',\n",
       "       'body_type_лифтбек', 'body_type_минивэн', 'body_type_пикап',\n",
       "       'body_type_родстер', 'body_type_седан', 'body_type_универсал',\n",
       "       'body_type_фургон', 'body_type_хэтчбек', 'brand_AUDI', 'brand_BMW',\n",
       "       'brand_HONDA', 'brand_INFINITI', 'brand_LEXUS', 'brand_MERCEDES',\n",
       "       'brand_MITSUBISHI', 'brand_NISSAN', 'brand_SKODA', 'brand_TOYOTA',\n",
       "       'brand_VOLKSWAGEN', 'brand_VOLVO', 'color_бежевый', 'color_белый',\n",
       "       'color_жёлтый', 'color_зелёный', 'color_коричневый', 'color_красный',\n",
       "       'color_розовый', 'color_серый', 'color_синий', 'color_фиолетовый',\n",
       "       'color_чёрный', 'fuel_type_бензин', 'fuel_type_газ', 'fuel_type_гибрид',\n",
       "       'fuel_type_дизель', 'fuel_type_электро', 'vehicle_transmission_автомат',\n",
       "       'vehicle_transmission_вариатор', 'vehicle_transmission_механика',\n",
       "       'vehicle_transmission_робот', 'drive_type_задний',\n",
       "       'drive_type_передний', 'drive_type_полный', 'n_owners_0', 'n_owners_1',\n",
       "       'n_owners_2', 'n_owners_3+'],\n",
       "      dtype='object')"
      ]
     },
     "execution_count": 40,
     "metadata": {},
     "output_type": "execute_result"
    }
   ],
   "source": [
    "# one-hot-encoding для категориальных признаков\n",
    "X = pd.get_dummies(X)\n",
    "X.columns"
   ]
  },
  {
   "cell_type": "markdown",
   "id": "1cd676e8",
   "metadata": {},
   "source": [
    "# Проверяем модели"
   ]
  },
  {
   "cell_type": "markdown",
   "id": "0ed3c246",
   "metadata": {},
   "source": [
    "## Разделяем на тренировочную и валидационную части"
   ]
  },
  {
   "cell_type": "code",
   "execution_count": 41,
   "id": "b487a39e",
   "metadata": {
    "ExecuteTime": {
     "end_time": "2022-03-08T14:23:20.394520Z",
     "start_time": "2022-03-08T14:23:20.375395Z"
    }
   },
   "outputs": [],
   "source": [
    "# параметры разделения\n",
    "test_size = 0.2\n",
    "seed = 73"
   ]
  },
  {
   "cell_type": "code",
   "execution_count": 42,
   "id": "38e543f1",
   "metadata": {
    "ExecuteTime": {
     "end_time": "2022-03-08T14:23:21.495616Z",
     "start_time": "2022-03-08T14:23:21.448938Z"
    }
   },
   "outputs": [
    {
     "name": "stdout",
     "output_type": "stream",
     "text": [
      "(37962, 57) (37962, 1)\n",
      "(9491, 57) (9491, 1)\n"
     ]
    }
   ],
   "source": [
    "X_train, X_valid, y_train, y_valid = train_test_split(X, y, test_size=test_size, random_state=seed)\n",
    "print(X_train.shape, y_train.shape)\n",
    "print(X_valid.shape, y_valid.shape)"
   ]
  },
  {
   "cell_type": "code",
   "execution_count": 43,
   "id": "2bcc259b",
   "metadata": {
    "ExecuteTime": {
     "end_time": "2022-03-08T14:23:34.308554Z",
     "start_time": "2022-03-08T14:23:34.295590Z"
    }
   },
   "outputs": [],
   "source": [
    "# параметры оценки\n",
    "num_folds = 5\n",
    "n_iter = 1000\n",
    "n_estimators = 100\n",
    "scoring = 'neg_mean_absolute_percentage_error'"
   ]
  },
  {
   "cell_type": "code",
   "execution_count": 44,
   "id": "0991c5d8",
   "metadata": {
    "ExecuteTime": {
     "end_time": "2022-03-08T14:23:36.455651Z",
     "start_time": "2022-03-08T14:23:36.437980Z"
    }
   },
   "outputs": [],
   "source": [
    "# список моделей-кандидатов\n",
    "# закомментированы совсем плохие по результатам или расходящиеся\n",
    "models = []\n",
    "models.append(('LR', LinearRegression(n_jobs=-1)))\n",
    "models.append(('R', Ridge()))\n",
    "# models.append(('L', Lasso()))\n",
    "# models.append(('ELN', ElasticNet()))\n",
    "# models.append(('LARS', Lars(normalize=False)))\n",
    "# models.append(('BR', BayesianRidge(n_iter=n_iter)))\n",
    "models.append(('KNR', KNeighborsRegressor(n_jobs=-1))) # более-менее результат, но хуже ансамблей и очень медленно\n",
    "models.append(('DTR', DecisionTreeRegressor()))\n",
    "# models.append(('LSVR', LinearSVR()))\n",
    "# models.append(('SVR', SVR()))\n",
    "# models.append(('ABR', AdaBoostRegressor(n_estimators=n_estimators))) # очень плохие результаты\n",
    "models.append(('BR', BaggingRegressor(n_estimators=n_estimators, n_jobs=-1)))\n",
    "models.append(('ETR', ExtraTreesRegressor(n_estimators=n_estimators, n_jobs=-1)))\n",
    "models.append(('GBR', GradientBoostingRegressor(n_estimators=n_estimators)))\n",
    "models.append(('RFR', RandomForestRegressor(n_estimators=n_estimators, n_jobs=-1)))"
   ]
  },
  {
   "cell_type": "code",
   "execution_count": 45,
   "id": "6d84f84a",
   "metadata": {
    "ExecuteTime": {
     "end_time": "2022-03-08T14:23:38.647319Z",
     "start_time": "2022-03-08T14:23:38.641325Z"
    }
   },
   "outputs": [],
   "source": [
    "# таблица результатов\n",
    "models_effcy = pd.DataFrame(index=[name for name, model in models])"
   ]
  },
  {
   "cell_type": "markdown",
   "id": "98e5f2ce",
   "metadata": {
    "ExecuteTime": {
     "end_time": "2022-03-07T14:55:58.626825Z",
     "start_time": "2022-03-07T14:55:58.598693Z"
    }
   },
   "source": [
    "split_score - чем меньше, тем лучше\n",
    "\n",
    "cv_mean - чем меньше по модулю, тем лучше"
   ]
  },
  {
   "cell_type": "code",
   "execution_count": 46,
   "id": "afda4dac",
   "metadata": {
    "ExecuteTime": {
     "end_time": "2022-03-08T14:27:42.120119Z",
     "start_time": "2022-03-08T14:23:42.944133Z"
    },
    "scrolled": false
   },
   "outputs": [
    {
     "name": "stdout",
     "output_type": "stream",
     "text": [
      "LR LinearRegression(n_jobs=-1) complete\n",
      "R Ridge() complete\n",
      "KNR KNeighborsRegressor(n_jobs=-1) complete\n",
      "DTR DecisionTreeRegressor() complete\n",
      "BR BaggingRegressor(n_estimators=100, n_jobs=-1) complete\n",
      "ETR ExtraTreesRegressor(n_jobs=-1) complete\n",
      "GBR GradientBoostingRegressor() complete\n",
      "RFR RandomForestRegressor(n_jobs=-1) complete\n"
     ]
    },
    {
     "data": {
      "text/html": [
       "<div>\n",
       "<style scoped>\n",
       "    .dataframe tbody tr th:only-of-type {\n",
       "        vertical-align: middle;\n",
       "    }\n",
       "\n",
       "    .dataframe tbody tr th {\n",
       "        vertical-align: top;\n",
       "    }\n",
       "\n",
       "    .dataframe thead th {\n",
       "        text-align: right;\n",
       "    }\n",
       "</style>\n",
       "<table border=\"1\" class=\"dataframe\">\n",
       "  <thead>\n",
       "    <tr style=\"text-align: right;\">\n",
       "      <th></th>\n",
       "      <th>split_score</th>\n",
       "      <th>cv_mean</th>\n",
       "      <th>cv_std</th>\n",
       "    </tr>\n",
       "  </thead>\n",
       "  <tbody>\n",
       "    <tr>\n",
       "      <th>LR</th>\n",
       "      <td>1.035546</td>\n",
       "      <td>-1.009015</td>\n",
       "      <td>0.016208</td>\n",
       "    </tr>\n",
       "    <tr>\n",
       "      <th>R</th>\n",
       "      <td>1.035519</td>\n",
       "      <td>-1.008941</td>\n",
       "      <td>0.016220</td>\n",
       "    </tr>\n",
       "    <tr>\n",
       "      <th>KNR</th>\n",
       "      <td>0.435750</td>\n",
       "      <td>-0.429409</td>\n",
       "      <td>0.005950</td>\n",
       "    </tr>\n",
       "    <tr>\n",
       "      <th>DTR</th>\n",
       "      <td>0.201309</td>\n",
       "      <td>-0.198031</td>\n",
       "      <td>0.003842</td>\n",
       "    </tr>\n",
       "    <tr>\n",
       "      <th>BR</th>\n",
       "      <td>0.160480</td>\n",
       "      <td>-0.158336</td>\n",
       "      <td>0.003721</td>\n",
       "    </tr>\n",
       "    <tr>\n",
       "      <th>ETR</th>\n",
       "      <td>0.178764</td>\n",
       "      <td>-0.164117</td>\n",
       "      <td>0.006913</td>\n",
       "    </tr>\n",
       "    <tr>\n",
       "      <th>GBR</th>\n",
       "      <td>0.254294</td>\n",
       "      <td>-0.250454</td>\n",
       "      <td>0.004897</td>\n",
       "    </tr>\n",
       "    <tr>\n",
       "      <th>RFR</th>\n",
       "      <td>0.162227</td>\n",
       "      <td>-0.158288</td>\n",
       "      <td>0.003805</td>\n",
       "    </tr>\n",
       "  </tbody>\n",
       "</table>\n",
       "</div>"
      ],
      "text/plain": [
       "     split_score   cv_mean    cv_std\n",
       "LR      1.035546 -1.009015  0.016208\n",
       "R       1.035519 -1.008941  0.016220\n",
       "KNR     0.435750 -0.429409  0.005950\n",
       "DTR     0.201309 -0.198031  0.003842\n",
       "BR      0.160480 -0.158336  0.003721\n",
       "ETR     0.178764 -0.164117  0.006913\n",
       "GBR     0.254294 -0.250454  0.004897\n",
       "RFR     0.162227 -0.158288  0.003805"
      ]
     },
     "metadata": {},
     "output_type": "display_data"
    }
   ],
   "source": [
    "# Оценивание эффективности каждой модели\n",
    "for name, model in models:\n",
    "    # оценка с отложенной частью\n",
    "    m_fit = model.fit(X_train, np.ravel(y_train))\n",
    "    y_predict = model.predict(X_valid)\n",
    "    m_score = mean_absolute_percentage_error(y_valid, y_predict)\n",
    "    models_effcy.loc[name, 'split_score'] = m_score\n",
    "    # оценка кросс-валидацией по всем данным\n",
    "    kfold = KFold(n_splits=num_folds, shuffle=True, random_state=seed)\n",
    "    cv_results = cross_val_score(model, X, np.ravel(y.values), cv=kfold, scoring=scoring)\n",
    "    models_effcy.loc[name, 'cv_mean'] = cv_results.mean()\n",
    "    models_effcy.loc[name, 'cv_std'] = cv_results.std()\n",
    "    # models_effcy.loc[name, 'results'] = list(cv_results)\n",
    "    print(name, model, 'complete')\n",
    "display(models_effcy)"
   ]
  },
  {
   "cell_type": "markdown",
   "id": "76db2e84",
   "metadata": {},
   "source": [
    "По показателям снова берем BaggingRegressor для baseline"
   ]
  },
  {
   "cell_type": "markdown",
   "id": "8395133c",
   "metadata": {},
   "source": [
    "ТОП для тюнинга и стекинга:\n",
    "- KNeighborsRegressor\n",
    "- BaggingRegressor\n",
    "- RandomForestRegressor\n",
    "- ExtraTreesRegressor\n",
    "- DecisionTreeRegressor"
   ]
  },
  {
   "cell_type": "markdown",
   "id": "f2581310",
   "metadata": {},
   "source": [
    "# Результат для Kaggle"
   ]
  },
  {
   "cell_type": "code",
   "execution_count": 49,
   "id": "b96fc38e",
   "metadata": {
    "ExecuteTime": {
     "end_time": "2022-03-08T14:29:36.659450Z",
     "start_time": "2022-03-08T14:29:28.518865Z"
    }
   },
   "outputs": [],
   "source": [
    "X_train = pd.read_csv('EDAv2_Train.zip').drop(columns='price')\n",
    "y_train = pd.read_csv('EDAv2_Train.zip', usecols=['price'])\n",
    "X_test = pd.read_csv('EDAv2_Test.zip')"
   ]
  },
  {
   "cell_type": "code",
   "execution_count": 50,
   "id": "8b91c3ea",
   "metadata": {
    "ExecuteTime": {
     "end_time": "2022-03-08T14:29:58.476982Z",
     "start_time": "2022-03-08T14:29:58.406756Z"
    }
   },
   "outputs": [],
   "source": [
    "# оставим в тренировочном датасете только те бренды, которые есть в тестовом\n",
    "brand_list = list(X_test['brand'].unique())\n",
    "brand_mask = X_train['brand'].apply(lambda x: True if x in brand_list else False)\n",
    "X_train = X_train[brand_mask]\n",
    "y_train = y_train[brand_mask]"
   ]
  },
  {
   "cell_type": "code",
   "execution_count": 51,
   "id": "1d09f344",
   "metadata": {
    "ExecuteTime": {
     "end_time": "2022-03-08T14:30:06.329013Z",
     "start_time": "2022-03-08T14:30:06.274720Z"
    }
   },
   "outputs": [],
   "source": [
    "# склеим датасеты признаков\n",
    "X_train['is_train'] = 1\n",
    "X_test['is_train'] = 0\n",
    "X = X_train.append(X_test)"
   ]
  },
  {
   "cell_type": "code",
   "execution_count": 52,
   "id": "06c4b2ee",
   "metadata": {
    "ExecuteTime": {
     "end_time": "2022-03-08T14:30:22.245210Z",
     "start_time": "2022-03-08T14:30:22.112924Z"
    }
   },
   "outputs": [],
   "source": [
    "# обработаем также\n",
    "columns_to_drop = ['engine_displacement', 'model_year', 'full_model_name', 'description']\n",
    "X.drop(columns=columns_to_drop, inplace=True)\n",
    "X = pd.get_dummies(X)"
   ]
  },
  {
   "cell_type": "code",
   "execution_count": 53,
   "id": "702349cf",
   "metadata": {
    "ExecuteTime": {
     "end_time": "2022-03-08T14:30:30.248908Z",
     "start_time": "2022-03-08T14:30:30.112022Z"
    }
   },
   "outputs": [],
   "source": [
    "# разделим\n",
    "X_train = X[X['is_train'] == 1].drop(columns=['is_train'])\n",
    "X_test = X[X['is_train'] == 0].drop(columns=['is_train'])"
   ]
  },
  {
   "cell_type": "code",
   "execution_count": 54,
   "id": "c7b11df5",
   "metadata": {
    "ExecuteTime": {
     "end_time": "2022-03-08T14:30:43.724175Z",
     "start_time": "2022-03-08T14:30:35.206584Z"
    }
   },
   "outputs": [
    {
     "data": {
      "text/plain": [
       "BaggingRegressor(n_estimators=100, n_jobs=-1)"
      ]
     },
     "execution_count": 54,
     "metadata": {},
     "output_type": "execute_result"
    }
   ],
   "source": [
    "# обучим\n",
    "baseline_model = BaggingRegressor(n_estimators=n_estimators, n_jobs=-1)\n",
    "baseline_model.fit(X_train, np.ravel(y_train))"
   ]
  },
  {
   "cell_type": "code",
   "execution_count": 55,
   "id": "bed54cc1",
   "metadata": {
    "ExecuteTime": {
     "end_time": "2022-03-08T14:30:45.275753Z",
     "start_time": "2022-03-08T14:30:43.727168Z"
    }
   },
   "outputs": [],
   "source": [
    "# предскажем\n",
    "y_test_predict = baseline_model.predict(X_test)"
   ]
  },
  {
   "cell_type": "code",
   "execution_count": 56,
   "id": "19c6e748",
   "metadata": {
    "ExecuteTime": {
     "end_time": "2022-03-08T14:30:49.495544Z",
     "start_time": "2022-03-08T14:30:49.346245Z"
    }
   },
   "outputs": [],
   "source": [
    "submission = pd.read_csv('sample_submission_empty.csv')\n",
    "submission['price'] = y_test_predict\n",
    "submission.to_csv('sample_submission_baseline_v2.csv', index=False)"
   ]
  },
  {
   "cell_type": "code",
   "execution_count": null,
   "id": "04f3fe49",
   "metadata": {},
   "outputs": [],
   "source": []
  }
 ],
 "metadata": {
  "kernelspec": {
   "display_name": "Python 3",
   "language": "python",
   "name": "python3"
  },
  "language_info": {
   "codemirror_mode": {
    "name": "ipython",
    "version": 3
   },
   "file_extension": ".py",
   "mimetype": "text/x-python",
   "name": "python",
   "nbconvert_exporter": "python",
   "pygments_lexer": "ipython3",
   "version": "3.8.8"
  },
  "toc": {
   "base_numbering": 1,
   "nav_menu": {},
   "number_sections": true,
   "sideBar": true,
   "skip_h1_title": false,
   "title_cell": "Table of Contents",
   "title_sidebar": "Contents",
   "toc_cell": false,
   "toc_position": {},
   "toc_section_display": true,
   "toc_window_display": false
  }
 },
 "nbformat": 4,
 "nbformat_minor": 5
}
